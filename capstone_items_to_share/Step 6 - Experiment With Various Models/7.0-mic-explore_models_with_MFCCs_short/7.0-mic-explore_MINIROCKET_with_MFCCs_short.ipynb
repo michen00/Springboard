{
 "cells": [
  {
   "cell_type": "markdown",
   "metadata": {},
   "source": [
    "# Contents\n",
    "* [Intro](#Intro)\n",
    "* [Imports and config](#Imports-and-config)\n",
    "* [Load data](#Load-data)\n",
    "* [Preprocess](#Preprocess)\n",
    "* [Minimally Random Convolutional Kernel Transform](#Minimally-Random-Convolutional-Kernel-Transform)\n",
    "  * [Ternary](#Ternary)\n",
    "    * [Results ternary](#Results-ternary)\n",
    "  * [Binary](#Binary)\n",
    "      * [Results binary](#Results-binary)\n",
    "* [Discussion](#Discussion)"
   ]
  },
  {
   "cell_type": "markdown",
   "metadata": {},
   "source": [
    "## Intro"
   ]
  },
  {
   "cell_type": "markdown",
   "metadata": {},
   "source": [
    "This notebook explores the MINIROCKET classification algorithm on the Mel Frequency Cepstral Coefficients (MFCCs) extracted from samples of short duration. Both the ternary and three binary cases are considered. MINIROCKET outperformed the dummy classifiers in all cases."
   ]
  },
  {
   "cell_type": "markdown",
   "metadata": {},
   "source": [
    "## Imports and config"
   ]
  },
  {
   "cell_type": "code",
   "execution_count": 1,
   "metadata": {},
   "outputs": [],
   "source": [
    "# Extensions\n",
    "%load_ext lab_black\n",
    "%load_ext nb_black\n",
    "%load_ext autotime"
   ]
  },
  {
   "cell_type": "code",
   "execution_count": 2,
   "metadata": {},
   "outputs": [
    {
     "name": "stdout",
     "output_type": "stream",
     "text": [
      "time: 3.66 s\n"
     ]
    }
   ],
   "source": [
    "# Core\n",
    "import numpy as np\n",
    "import pandas as pd\n",
    "\n",
    "# metrics\n",
    "from sklearn.metrics import classification_report, confusion_matrix\n",
    "\n",
    "# util\n",
    "import swifter\n",
    "\n",
    "# display outputs w/o print calls\n",
    "from IPython.core.interactiveshell import InteractiveShell\n",
    "\n",
    "InteractiveShell.ast_node_interactivity = \"all\"\n",
    "\n",
    "# suppress warnings\n",
    "import warnings\n",
    "\n",
    "warnings.filterwarnings(\"ignore\")"
   ]
  },
  {
   "cell_type": "code",
   "execution_count": 3,
   "metadata": {},
   "outputs": [
    {
     "name": "stdout",
     "output_type": "stream",
     "text": [
      "os             : Windows-10-10.0.22000-SP0\n",
      "python         : 3.8.12\n",
      "tsai           : 0.2.23\n",
      "fastai         : 2.5.2\n",
      "fastcore       : 1.3.26\n",
      "torch          : 1.9.1+cpu\n",
      "n_cpus         : 8\n",
      "device         : cpu\n",
      "time: 8.06 s\n"
     ]
    }
   ],
   "source": [
    "from tsai.all import *\n",
    "\n",
    "computer_setup()"
   ]
  },
  {
   "cell_type": "code",
   "execution_count": 4,
   "metadata": {},
   "outputs": [
    {
     "name": "stdout",
     "output_type": "stream",
     "text": [
      "time: 8 ms\n"
     ]
    }
   ],
   "source": [
    "SEED = 2021\n",
    "\n",
    "# Location of parquet\n",
    "PARQUET_DF_FOLDER = \"../5.0-mic-extract_spectrograms_and_MFCCs_short\"\n",
    "\n",
    "# Location where this notebook will output\n",
    "DATA_OUT_FOLDER = \".\"\n",
    "\n",
    "# The preprocessed data from the Unified Multilingual Dataset of Emotional Human utterances\n",
    "WAV_DIRECTORY = (\n",
    "    \"../../unified_multilingual_dataset_of_emotional_human_utterances/data/preprocessed\"\n",
    ")"
   ]
  },
  {
   "cell_type": "markdown",
   "metadata": {},
   "source": [
    "## Load data"
   ]
  },
  {
   "cell_type": "code",
   "execution_count": 5,
   "metadata": {},
   "outputs": [
    {
     "data": {
      "text/html": [
       "<div>\n",
       "<style scoped>\n",
       "    .dataframe tbody tr th:only-of-type {\n",
       "        vertical-align: middle;\n",
       "    }\n",
       "\n",
       "    .dataframe tbody tr th {\n",
       "        vertical-align: top;\n",
       "    }\n",
       "\n",
       "    .dataframe thead th {\n",
       "        text-align: right;\n",
       "    }\n",
       "</style>\n",
       "<table border=\"1\" class=\"dataframe\">\n",
       "  <thead>\n",
       "    <tr style=\"text-align: right;\">\n",
       "      <th></th>\n",
       "      <th>file</th>\n",
       "      <th>duration</th>\n",
       "      <th>source</th>\n",
       "      <th>speaker_id</th>\n",
       "      <th>speaker_gender</th>\n",
       "      <th>emo</th>\n",
       "      <th>valence</th>\n",
       "      <th>lang1</th>\n",
       "      <th>lang2</th>\n",
       "      <th>neg</th>\n",
       "      <th>neu</th>\n",
       "      <th>pos</th>\n",
       "      <th>length</th>\n",
       "      <th>padded</th>\n",
       "      <th>mfcc</th>\n",
       "      <th>melspec_db</th>\n",
       "    </tr>\n",
       "  </thead>\n",
       "  <tbody>\n",
       "    <tr>\n",
       "      <th>0</th>\n",
       "      <td>01788+BAUM1+BAUM1.s028+f+hap+1+tur+tr-tr.wav</td>\n",
       "      <td>0.387</td>\n",
       "      <td>BAUM1</td>\n",
       "      <td>BAUM1.s028</td>\n",
       "      <td>f</td>\n",
       "      <td>hap</td>\n",
       "      <td>1</td>\n",
       "      <td>tur</td>\n",
       "      <td>tr-tr</td>\n",
       "      <td>0</td>\n",
       "      <td>0</td>\n",
       "      <td>1</td>\n",
       "      <td>short</td>\n",
       "      <td>[0.0, 0.0, 0.0, 0.0, 0.0, 0.0, 0.0, 0.0, 0.0, 0.0, 0.0, 0.0, 0.0, 0.0, 0.0, 0.0, 0.0, 0.0, 0.0, 0.0, 0.0, 0.0, 0.0, 0.0, 0.0, 0.0, 0.0, 0.0, 0.0, 0.0, 0.0, 0.0, 0.0, 0.0, 0.0, 0.0, 0.0, 0.0, 0.0, 0.0, 0.0, 0.0, 0.0, 0.0, 0.0, 0.0, 0.0, 0.0, 0.0, 0.0, 0.0, 0.0, 0.0, 0.0, 0.0, 0.0, 0.0, 0.0, 0.0, 0.0, 0.0, 0.0, 0.0, 0.0, 0.0, 0.0, 0.0, 0.0, 0.0, 0.0, 0.0, 0.0, 0.0, 0.0, 0.0, 0.0, 0.0, 0.0, 0.0, 0.0, 0.0, 0.0, 0.0, 0.0, 0.0, 0.0, 0.0, 0.0, 0.0, 0.0, 0.0, 0.0, 0.0, 0.0, 0.0, 0.0, 0.0, 0.0, 0.0, 0.0, ...]</td>\n",
       "      <td>[[-680.11646, -680.11646, -673.7514, -377.4224, -281.58826, -261.989, -171.36475, -55.95906, 1.2606233, 15.852701, -9.603989, -57.960983, -107.54922, -140.82532, -152.95964, -169.95496], [0.0, 0.0, 8.79389, 66.162895, 79.53461, 100.93402, 75.350586, 13.998974, -14.617619, -17.756765, -5.6782565, 8.551853, 14.135569, 3.8511767, -6.7314606, -5.6710396], [0.0, 0.0, 8.264061, 9.75589, 13.253286, 15.912096, 18.082317, 2.4743164, -16.232258, -29.686052, -31.33509, -27.387304, -19.973206, -4.8711815, 1.358885, 10.830128], [0.0, 0.0, 7.477417, 24.733551, 16.511929, 10.745639, 15.796231, 35.82299, ...</td>\n",
       "      <td>[[-80.0, -80.0, -80.0, -80.0, -80.0, -80.0, -78.2808, -78.36134, -77.20024, -80.0, -80.0, -80.0, -80.0, -80.0, -80.0, -80.0], [-80.0, -80.0, -80.0, -80.0, -80.0, -80.0, -76.948425, -75.62396, -73.44333, -62.47532, -59.695614, -63.3192, -68.97307, -69.830055, -71.20323, -74.88162], [-80.0, -80.0, -80.0, -80.0, -80.0, -80.0, -65.29121, -44.23695, -34.33359, -31.309872, -37.83037, -55.600906, -74.79756, -76.61576, -80.0, -80.0], [-80.0, -80.0, -80.0, -80.0, -80.0, -58.58845, -29.926083, -13.307529, -13.760824, -19.257774, -27.894817, -47.51501, -57.81294, -67.32547, -80.0, -61.717278], [-80.0...</td>\n",
       "    </tr>\n",
       "  </tbody>\n",
       "</table>\n",
       "</div>"
      ],
      "text/plain": [
       "                                           file duration source  speaker_id  \\\n",
       "0  01788+BAUM1+BAUM1.s028+f+hap+1+tur+tr-tr.wav    0.387  BAUM1  BAUM1.s028   \n",
       "\n",
       "  speaker_gender  emo valence lang1  lang2  neg  neu  pos length  \\\n",
       "0              f  hap       1   tur  tr-tr    0    0    1  short   \n",
       "\n",
       "                                                                                                                                                                                                                                                                                                                                                                                                                                                                                                                      padded  \\\n",
       "0  [0.0, 0.0, 0.0, 0.0, 0.0, 0.0, 0.0, 0.0, 0.0, 0.0, 0.0, 0.0, 0.0, 0.0, 0.0, 0.0, 0.0, 0.0, 0.0, 0.0, 0.0, 0.0, 0.0, 0.0, 0.0, 0.0, 0.0, 0.0, 0.0, 0.0, 0.0, 0.0, 0.0, 0.0, 0.0, 0.0, 0.0, 0.0, 0.0, 0.0, 0.0, 0.0, 0.0, 0.0, 0.0, 0.0, 0.0, 0.0, 0.0, 0.0, 0.0, 0.0, 0.0, 0.0, 0.0, 0.0, 0.0, 0.0, 0.0, 0.0, 0.0, 0.0, 0.0, 0.0, 0.0, 0.0, 0.0, 0.0, 0.0, 0.0, 0.0, 0.0, 0.0, 0.0, 0.0, 0.0, 0.0, 0.0, 0.0, 0.0, 0.0, 0.0, 0.0, 0.0, 0.0, 0.0, 0.0, 0.0, 0.0, 0.0, 0.0, 0.0, 0.0, 0.0, 0.0, 0.0, 0.0, 0.0, 0.0, 0.0, ...]   \n",
       "\n",
       "                                                                                                                                                                                                                                                                                                                                                                                                                                                                                                                                                                                                                      mfcc  \\\n",
       "0  [[-680.11646, -680.11646, -673.7514, -377.4224, -281.58826, -261.989, -171.36475, -55.95906, 1.2606233, 15.852701, -9.603989, -57.960983, -107.54922, -140.82532, -152.95964, -169.95496], [0.0, 0.0, 8.79389, 66.162895, 79.53461, 100.93402, 75.350586, 13.998974, -14.617619, -17.756765, -5.6782565, 8.551853, 14.135569, 3.8511767, -6.7314606, -5.6710396], [0.0, 0.0, 8.264061, 9.75589, 13.253286, 15.912096, 18.082317, 2.4743164, -16.232258, -29.686052, -31.33509, -27.387304, -19.973206, -4.8711815, 1.358885, 10.830128], [0.0, 0.0, 7.477417, 24.733551, 16.511929, 10.745639, 15.796231, 35.82299, ...   \n",
       "\n",
       "                                                                                                                                                                                                                                                                                                                                                                                                                                                                                                                                                                                                                melspec_db  \n",
       "0  [[-80.0, -80.0, -80.0, -80.0, -80.0, -80.0, -78.2808, -78.36134, -77.20024, -80.0, -80.0, -80.0, -80.0, -80.0, -80.0, -80.0], [-80.0, -80.0, -80.0, -80.0, -80.0, -80.0, -76.948425, -75.62396, -73.44333, -62.47532, -59.695614, -63.3192, -68.97307, -69.830055, -71.20323, -74.88162], [-80.0, -80.0, -80.0, -80.0, -80.0, -80.0, -65.29121, -44.23695, -34.33359, -31.309872, -37.83037, -55.600906, -74.79756, -76.61576, -80.0, -80.0], [-80.0, -80.0, -80.0, -80.0, -80.0, -58.58845, -29.926083, -13.307529, -13.760824, -19.257774, -27.894817, -47.51501, -57.81294, -67.32547, -80.0, -61.717278], [-80.0...  "
      ]
     },
     "execution_count": 5,
     "metadata": {},
     "output_type": "execute_result"
    },
    {
     "name": "stdout",
     "output_type": "stream",
     "text": [
      "time: 289 ms\n"
     ]
    }
   ],
   "source": [
    "short_df = pd.read_parquet(f\"{PARQUET_DF_FOLDER}/short_plus.parquet\")\n",
    "short_df.head(1)"
   ]
  },
  {
   "cell_type": "code",
   "execution_count": 6,
   "metadata": {},
   "outputs": [
    {
     "name": "stdout",
     "output_type": "stream",
     "text": [
      "time: 10 ms\n"
     ]
    }
   ],
   "source": [
    "df = short_df[[\"speaker_id\", \"neg\", \"neu\", \"pos\", \"valence\", \"mfcc\"]]"
   ]
  },
  {
   "cell_type": "markdown",
   "metadata": {},
   "source": [
    "## Preprocess"
   ]
  },
  {
   "cell_type": "markdown",
   "metadata": {},
   "source": [
    "MINIROCKET will need each nested array as its own feature rather than having them all in one column of arrays."
   ]
  },
  {
   "cell_type": "code",
   "execution_count": 7,
   "metadata": {},
   "outputs": [
    {
     "name": "stderr",
     "output_type": "stream",
     "text": [
      "Pandas Apply: 100%|██████████| 480/480 [00:00<00:00, 793.39it/s]"
     ]
    },
    {
     "name": "stdout",
     "output_type": "stream",
     "text": [
      "time: 772 ms\n"
     ]
    },
    {
     "name": "stderr",
     "output_type": "stream",
     "text": [
      "\n"
     ]
    }
   ],
   "source": [
    "df = df.drop(columns=\"mfcc\").merge(\n",
    "    pd.concat(df.mfcc.swifter.apply(lambda _: pd.DataFrame(_).T).tolist()).set_index(\n",
    "        df.index\n",
    "    ),\n",
    "    left_index=True,\n",
    "    right_index=True,\n",
    ")"
   ]
  },
  {
   "cell_type": "code",
   "execution_count": 8,
   "metadata": {},
   "outputs": [
    {
     "data": {
      "text/plain": [
       "480"
      ]
     },
     "execution_count": 8,
     "metadata": {},
     "output_type": "execute_result"
    },
    {
     "data": {
      "text/html": [
       "<div>\n",
       "<style scoped>\n",
       "    .dataframe tbody tr th:only-of-type {\n",
       "        vertical-align: middle;\n",
       "    }\n",
       "\n",
       "    .dataframe tbody tr th {\n",
       "        vertical-align: top;\n",
       "    }\n",
       "\n",
       "    .dataframe thead th {\n",
       "        text-align: right;\n",
       "    }\n",
       "</style>\n",
       "<table border=\"1\" class=\"dataframe\">\n",
       "  <thead>\n",
       "    <tr style=\"text-align: right;\">\n",
       "      <th></th>\n",
       "      <th>speaker_id</th>\n",
       "      <th>neg</th>\n",
       "      <th>neu</th>\n",
       "      <th>pos</th>\n",
       "      <th>valence</th>\n",
       "      <th>0</th>\n",
       "      <th>1</th>\n",
       "      <th>2</th>\n",
       "      <th>3</th>\n",
       "      <th>4</th>\n",
       "      <th>...</th>\n",
       "      <th>10</th>\n",
       "      <th>11</th>\n",
       "      <th>12</th>\n",
       "      <th>13</th>\n",
       "      <th>14</th>\n",
       "      <th>15</th>\n",
       "      <th>16</th>\n",
       "      <th>17</th>\n",
       "      <th>18</th>\n",
       "      <th>19</th>\n",
       "    </tr>\n",
       "  </thead>\n",
       "  <tbody>\n",
       "    <tr>\n",
       "      <th>0</th>\n",
       "      <td>BAUM1.s028</td>\n",
       "      <td>0</td>\n",
       "      <td>0</td>\n",
       "      <td>1</td>\n",
       "      <td>1</td>\n",
       "      <td>[-680.11646, -680.11646, -673.7514, -377.4224, -281.58826, -261.989, -171.36475, -55.95906, 1.2606233, 15.852701, -9.603989, -57.960983, -107.54922, -140.82532, -152.95964, -169.95496]</td>\n",
       "      <td>[0.0, 0.0, 8.79389, 66.162895, 79.53461, 100.93402, 75.350586, 13.998974, -14.617619, -17.756765, -5.6782565, 8.551853, 14.135569, 3.8511767, -6.7314606, -5.6710396]</td>\n",
       "      <td>[0.0, 0.0, 8.264061, 9.75589, 13.253286, 15.912096, 18.082317, 2.4743164, -16.232258, -29.686052, -31.33509, -27.387304, -19.973206, -4.8711815, 1.358885, 10.830128]</td>\n",
       "      <td>[0.0, 0.0, 7.477417, 24.733551, 16.511929, 10.745639, 15.796231, 35.82299, 40.227936, 36.642612, 23.608091, 11.745134, 4.5839405, 6.3710694, 8.985272, 17.496689]</td>\n",
       "      <td>[0.0, 0.0, 6.374815, -8.809654, -16.542591, -18.163967, -8.233423, -7.6783943, -6.66774, -1.172962, 0.50424504, -2.4193215, -2.3986745, -1.103419, -2.099951, 1.6683358]</td>\n",
       "      <td>...</td>\n",
       "      <td>[0.0, 0.0, -2.0559676, -14.131269, -10.666561, -4.1570997, -0.5074165, -8.999041, -1.8765199, 5.3671103, 10.71143, 13.516993, 9.113131, 3.2246933, -3.8375764, -5.1680336]</td>\n",
       "      <td>[0.0, 0.0, -3.1609914, 10.403749, 14.534487, 13.064995, 8.332318, 5.8334017, 10.699654, 14.578323, 15.829313, 17.247204, 11.353828, 13.147543, 13.669, 14.035996]</td>\n",
       "      <td>[0.0, 0.0, -4.0377975, -29.72546, -22.83678, -16.445942, -4.9928675, 15.350084, 19.407963, 14.843939, 8.478773, -6.0084887, -10.568147, -4.7380877, -3.8080454, -3.8993516]</td>\n",
       "      <td>[0.0, 0.0, -4.599332, -11.415039, -8.413191, -10.51317, -10.130811, -0.12358958, -1.6337358, -8.780941, -11.972395, -12.327576, -9.829273, -11.770202, -9.532415, -6.396286]</td>\n",
       "      <td>[0.0, 0.0, -4.936611, -15.237455, -11.919718, -7.268784, 1.2249193, -12.30282, -14.568584, -16.464142, -16.866993, -10.407554, -4.7797623, -5.87093, -10.573454, -12.771958]</td>\n",
       "      <td>[0.0, 0.0, -5.071619, -10.831688, -9.4410095, -5.276347, -10.193133, -14.760956, -20.380651, -19.564754, -12.378426, -11.466377, -15.276484, -11.285213, -9.57357, -4.8591814]</td>\n",
       "      <td>[0.0, 0.0, -4.924422, 19.01656, 10.312002, 3.495909, 4.451464, 3.6062825, -5.5586996, -11.616903, -9.106398, -1.5299711, -2.1217766, -6.1071005, -8.450521, -8.974888]</td>\n",
       "      <td>[0.0, 0.0, -4.57422, 4.5666795, 1.1526635, -0.65908664, -11.719039, -12.666076, -12.984398, -12.09377, -9.214006, -6.897912, -9.373976, -12.786033, -14.691204, -17.516254]</td>\n",
       "      <td>[0.0, 0.0, -4.1403975, -18.84467, -15.528858, -11.019453, -6.235977, -13.344015, -12.349755, -7.268405, -4.918732, -1.0433177, 2.1604173, -0.69934475, -2.2053201, -1.2783842]</td>\n",
       "      <td>[0.0, 0.0, -3.5799732, -12.330613, -10.483339, -11.822466, -8.398724, -5.5190945, -1.1962025, 2.165871, -1.5818354, -5.6133785, -4.829237, 2.7716446, 4.678732, 4.0262184]</td>\n",
       "    </tr>\n",
       "  </tbody>\n",
       "</table>\n",
       "<p>1 rows × 25 columns</p>\n",
       "</div>"
      ],
      "text/plain": [
       "   speaker_id  neg  neu  pos valence  \\\n",
       "0  BAUM1.s028    0    0    1       1   \n",
       "\n",
       "                                                                                                                                                                                          0  \\\n",
       "0  [-680.11646, -680.11646, -673.7514, -377.4224, -281.58826, -261.989, -171.36475, -55.95906, 1.2606233, 15.852701, -9.603989, -57.960983, -107.54922, -140.82532, -152.95964, -169.95496]   \n",
       "\n",
       "                                                                                                                                                                       1  \\\n",
       "0  [0.0, 0.0, 8.79389, 66.162895, 79.53461, 100.93402, 75.350586, 13.998974, -14.617619, -17.756765, -5.6782565, 8.551853, 14.135569, 3.8511767, -6.7314606, -5.6710396]   \n",
       "\n",
       "                                                                                                                                                                       2  \\\n",
       "0  [0.0, 0.0, 8.264061, 9.75589, 13.253286, 15.912096, 18.082317, 2.4743164, -16.232258, -29.686052, -31.33509, -27.387304, -19.973206, -4.8711815, 1.358885, 10.830128]   \n",
       "\n",
       "                                                                                                                                                                   3  \\\n",
       "0  [0.0, 0.0, 7.477417, 24.733551, 16.511929, 10.745639, 15.796231, 35.82299, 40.227936, 36.642612, 23.608091, 11.745134, 4.5839405, 6.3710694, 8.985272, 17.496689]   \n",
       "\n",
       "                                                                                                                                                                          4  \\\n",
       "0  [0.0, 0.0, 6.374815, -8.809654, -16.542591, -18.163967, -8.233423, -7.6783943, -6.66774, -1.172962, 0.50424504, -2.4193215, -2.3986745, -1.103419, -2.099951, 1.6683358]   \n",
       "\n",
       "   ...  \\\n",
       "0  ...   \n",
       "\n",
       "                                                                                                                                                                           10  \\\n",
       "0  [0.0, 0.0, -2.0559676, -14.131269, -10.666561, -4.1570997, -0.5074165, -8.999041, -1.8765199, 5.3671103, 10.71143, 13.516993, 9.113131, 3.2246933, -3.8375764, -5.1680336]   \n",
       "\n",
       "                                                                                                                                                                  11  \\\n",
       "0  [0.0, 0.0, -3.1609914, 10.403749, 14.534487, 13.064995, 8.332318, 5.8334017, 10.699654, 14.578323, 15.829313, 17.247204, 11.353828, 13.147543, 13.669, 14.035996]   \n",
       "\n",
       "                                                                                                                                                                            12  \\\n",
       "0  [0.0, 0.0, -4.0377975, -29.72546, -22.83678, -16.445942, -4.9928675, 15.350084, 19.407963, 14.843939, 8.478773, -6.0084887, -10.568147, -4.7380877, -3.8080454, -3.8993516]   \n",
       "\n",
       "                                                                                                                                                                             13  \\\n",
       "0  [0.0, 0.0, -4.599332, -11.415039, -8.413191, -10.51317, -10.130811, -0.12358958, -1.6337358, -8.780941, -11.972395, -12.327576, -9.829273, -11.770202, -9.532415, -6.396286]   \n",
       "\n",
       "                                                                                                                                                                             14  \\\n",
       "0  [0.0, 0.0, -4.936611, -15.237455, -11.919718, -7.268784, 1.2249193, -12.30282, -14.568584, -16.464142, -16.866993, -10.407554, -4.7797623, -5.87093, -10.573454, -12.771958]   \n",
       "\n",
       "                                                                                                                                                                               15  \\\n",
       "0  [0.0, 0.0, -5.071619, -10.831688, -9.4410095, -5.276347, -10.193133, -14.760956, -20.380651, -19.564754, -12.378426, -11.466377, -15.276484, -11.285213, -9.57357, -4.8591814]   \n",
       "\n",
       "                                                                                                                                                                       16  \\\n",
       "0  [0.0, 0.0, -4.924422, 19.01656, 10.312002, 3.495909, 4.451464, 3.6062825, -5.5586996, -11.616903, -9.106398, -1.5299711, -2.1217766, -6.1071005, -8.450521, -8.974888]   \n",
       "\n",
       "                                                                                                                                                                            17  \\\n",
       "0  [0.0, 0.0, -4.57422, 4.5666795, 1.1526635, -0.65908664, -11.719039, -12.666076, -12.984398, -12.09377, -9.214006, -6.897912, -9.373976, -12.786033, -14.691204, -17.516254]   \n",
       "\n",
       "                                                                                                                                                                               18  \\\n",
       "0  [0.0, 0.0, -4.1403975, -18.84467, -15.528858, -11.019453, -6.235977, -13.344015, -12.349755, -7.268405, -4.918732, -1.0433177, 2.1604173, -0.69934475, -2.2053201, -1.2783842]   \n",
       "\n",
       "                                                                                                                                                                           19  \n",
       "0  [0.0, 0.0, -3.5799732, -12.330613, -10.483339, -11.822466, -8.398724, -5.5190945, -1.1962025, 2.165871, -1.5818354, -5.6133785, -4.829237, 2.7716446, 4.678732, 4.0262184]  \n",
       "\n",
       "[1 rows x 25 columns]"
      ]
     },
     "execution_count": 8,
     "metadata": {},
     "output_type": "execute_result"
    },
    {
     "name": "stdout",
     "output_type": "stream",
     "text": [
      "time: 45 ms\n"
     ]
    }
   ],
   "source": [
    "len(df)\n",
    "df.head(1)"
   ]
  },
  {
   "cell_type": "markdown",
   "metadata": {},
   "source": [
    "## Train test split"
   ]
  },
  {
   "cell_type": "markdown",
   "metadata": {},
   "source": [
    "The custom split ensures no data leakage due to speaker characteristics."
   ]
  },
  {
   "cell_type": "code",
   "execution_count": 9,
   "metadata": {},
   "outputs": [
    {
     "data": {
      "text/plain": [
       "True"
      ]
     },
     "execution_count": 9,
     "metadata": {},
     "output_type": "execute_result"
    },
    {
     "name": "stdout",
     "output_type": "stream",
     "text": [
      "190 in test, 290 in train\n",
      "time: 36 ms\n"
     ]
    }
   ],
   "source": [
    "short_speakers = (\n",
    "    pd.DataFrame(np.unique(df.speaker_id))\n",
    "    .sample(frac=0.30, random_state=SEED)[0]\n",
    "    .values\n",
    ")\n",
    "\n",
    "criterion = df.speaker_id.isin(short_speakers)\n",
    "\n",
    "drop_columns = [\"speaker_id\", \"neg\", \"neu\", \"pos\"]\n",
    "X_test = (_ := df.loc[criterion].drop(columns=drop_columns)).drop(columns=\"valence\")\n",
    "y_test = _.valence\n",
    "X_train = (_ := df.loc[~criterion].drop(columns=drop_columns)).drop(columns=\"valence\")\n",
    "y_train = _.valence\n",
    "\n",
    "len(df) == len(y_test) + len(y_train)\n",
    "print(f\"{len(y_test)} in test, {len(y_train)} in train\")"
   ]
  },
  {
   "cell_type": "markdown",
   "metadata": {},
   "source": [
    "## Minimally Random Convolutional Kernel Transform"
   ]
  },
  {
   "cell_type": "markdown",
   "metadata": {},
   "source": [
    "MiniRocket was [published in August 2021](https://doi.org/10.1145/3447548.3467231), touting state-of-the-art performance on benchmark time series classification tasks."
   ]
  },
  {
   "cell_type": "code",
   "execution_count": 10,
   "metadata": {},
   "outputs": [
    {
     "name": "stdout",
     "output_type": "stream",
     "text": [
      "time: 4 ms\n"
     ]
    }
   ],
   "source": [
    "model = MiniRocketClassifier(random_state=SEED)"
   ]
  },
  {
   "cell_type": "markdown",
   "metadata": {},
   "source": [
    "### Ternary results"
   ]
  },
  {
   "cell_type": "code",
   "execution_count": 11,
   "metadata": {},
   "outputs": [
    {
     "name": "stdout",
     "output_type": "stream",
     "text": [
      "time: 625 ms\n"
     ]
    }
   ],
   "source": [
    "fitted_minirocket = model.fit(X_train, y_train)"
   ]
  },
  {
   "cell_type": "markdown",
   "metadata": {},
   "source": [
    "How well would a dummy classifier do?"
   ]
  },
  {
   "cell_type": "code",
   "execution_count": 12,
   "metadata": {},
   "outputs": [
    {
     "name": "stdout",
     "output_type": "stream",
     "text": [
      "66 samples of valence -1: 34.74% of 190\n",
      "85 samples of valence 0: 44.74% of 190\n",
      "39 samples of valence 1: 20.53% of 190\n",
      "time: 16 ms\n"
     ]
    }
   ],
   "source": [
    "counts = y_test.value_counts()\n",
    "len_test = len(y_test)\n",
    "for valence in (\"-1\", \"0\", \"1\"):\n",
    "    print(\n",
    "        f\"{(_ := counts[valence])} samples of valence {valence}: {(100 * _)/len_test:.2f}% of {len_test}\"\n",
    "    )"
   ]
  },
  {
   "cell_type": "markdown",
   "metadata": {},
   "source": [
    "How well did MINIROCKET do?"
   ]
  },
  {
   "cell_type": "code",
   "execution_count": 13,
   "metadata": {},
   "outputs": [
    {
     "name": "stdout",
     "output_type": "stream",
     "text": [
      "[[32 27  7]\n",
      " [26 53  6]\n",
      " [13 15 11]]\n",
      "              precision    recall  f1-score   support\n",
      "\n",
      "          -1       0.45      0.48      0.47        66\n",
      "           0       0.56      0.62      0.59        85\n",
      "           1       0.46      0.28      0.35        39\n",
      "\n",
      "    accuracy                           0.51       190\n",
      "   macro avg       0.49      0.46      0.47       190\n",
      "weighted avg       0.50      0.51      0.50       190\n",
      "\n",
      "time: 286 ms\n"
     ]
    }
   ],
   "source": [
    "print(\n",
    "    confusion_matrix(\n",
    "        y_test,\n",
    "        _ := fitted_minirocket.predict(X_test),\n",
    "        labels=[\"-1\", \"0\", \"1\"],\n",
    "    )\n",
    ")\n",
    "print(classification_report(y_test, _))"
   ]
  },
  {
   "cell_type": "markdown",
   "metadata": {},
   "source": [
    "Validation accuracy of 51% exceeds the proportion of the majority class (~45%) by about 6%."
   ]
  },
  {
   "cell_type": "markdown",
   "metadata": {},
   "source": [
    "### Binary Results"
   ]
  },
  {
   "cell_type": "markdown",
   "metadata": {},
   "source": [
    "Next, we will repeat the above analysis with the binary cases. First, we need to set up the data."
   ]
  },
  {
   "cell_type": "code",
   "execution_count": 14,
   "metadata": {},
   "outputs": [
    {
     "name": "stdout",
     "output_type": "stream",
     "text": [
      "time: 29 ms\n"
     ]
    }
   ],
   "source": [
    "OvrSet = namedtuple(\"OvrSet\", \"name, y_test, y_train\")\n",
    "binary_valence = [\n",
    "    OvrSet(\n",
    "        name=valence,\n",
    "        y_test=df.loc[criterion][valence],\n",
    "        y_train=df.loc[~criterion][valence],\n",
    "    )\n",
    "    for valence in (\"neg\", \"neu\", \"pos\")\n",
    "]"
   ]
  },
  {
   "cell_type": "markdown",
   "metadata": {},
   "source": [
    "How does MINIROCKET do in comparison to dummy classifiers in the binary cases?"
   ]
  },
  {
   "cell_type": "code",
   "execution_count": 15,
   "metadata": {},
   "outputs": [
    {
     "name": "stdout",
     "output_type": "stream",
     "text": [
      "majority classification percentage for neg valence: 65.263\n",
      "[[116   8]\n",
      " [ 50  16]]\n",
      "              precision    recall  f1-score   support\n",
      "\n",
      "           0       0.70      0.94      0.80       124\n",
      "           1       0.67      0.24      0.36        66\n",
      "\n",
      "    accuracy                           0.69       190\n",
      "   macro avg       0.68      0.59      0.58       190\n",
      "weighted avg       0.69      0.69      0.65       190\n",
      "\n",
      "majority classification percentage for neu valence: 55.263\n",
      "[[90 15]\n",
      " [54 31]]\n",
      "              precision    recall  f1-score   support\n",
      "\n",
      "           0       0.62      0.86      0.72       105\n",
      "           1       0.67      0.36      0.47        85\n",
      "\n",
      "    accuracy                           0.64       190\n",
      "   macro avg       0.65      0.61      0.60       190\n",
      "weighted avg       0.65      0.64      0.61       190\n",
      "\n",
      "majority classification percentage for pos valence: 79.474\n",
      "[[149   2]\n",
      " [ 36   3]]\n",
      "              precision    recall  f1-score   support\n",
      "\n",
      "           0       0.81      0.99      0.89       151\n",
      "           1       0.60      0.08      0.14        39\n",
      "\n",
      "    accuracy                           0.80       190\n",
      "   macro avg       0.70      0.53      0.51       190\n",
      "weighted avg       0.76      0.80      0.73       190\n",
      "\n",
      "time: 2.49 s\n"
     ]
    }
   ],
   "source": [
    "for labels in binary_valence:\n",
    "    y_test = labels.y_test\n",
    "    percent = (100 * y_test.sum()) / len(y_test)\n",
    "    print(\n",
    "        f\"majority classification percentage for {labels.name} valence: {percent if percent > 50 else 100 - percent:.3f}\"\n",
    "    )\n",
    "    print(\n",
    "        confusion_matrix(\n",
    "            y_test,\n",
    "            _ := model.fit(X_train, labels.y_train).predict(X_test),\n",
    "        )\n",
    "    )\n",
    "    print(classification_report(y_test, _))"
   ]
  },
  {
   "cell_type": "markdown",
   "metadata": {},
   "source": [
    "In the negative/non-negative case, the dummy score on the test set was 65.3%, which underperformed the MINIROCKET classifier's score of 69% by about 3.7%.\n",
    "\n",
    "In the neutral/non-neutral case, the dummy score on the test set was 55.3%, which underperformed the MINIROCKET classifier's score of 64% by about 8.7%.\n",
    "\n",
    "In the positive/non-positive case, the dummy score on the test set was 79.5%, which underperformed the MINIROCKET classifier's score of 80% by about 0.5%."
   ]
  },
  {
   "cell_type": "markdown",
   "metadata": {},
   "source": [
    "## Discussion"
   ]
  },
  {
   "cell_type": "markdown",
   "metadata": {},
   "source": [
    "In this notebook, we tested MINIROCKET on the MFCCs of the short set. Both the ternary and binary cases were considered. The MINIROCKET classifier was able to outperform the dummy classifier in all cases.\n",
    "\n",
    "Class imbalance was the most drastic in the positive/non-positive case, which is where the margin between MINIROCKET and the dummy classifier was the smallest.\n",
    "\n",
    "The MINIROCKET algorithm may have potential, especially if ensembled for one-vs-rest classification. Conversely, although preprocessing for `tsai` only needs to be computed once, storing two versions of MFCC arrays may be cumbersome in comparison to other methods. Nonetheless, the MFCC arrays are more lightweight than the spectrogram arrays."
   ]
  },
  {
   "cell_type": "markdown",
   "metadata": {},
   "source": [
    "[^top](#Contents)"
   ]
  },
  {
   "cell_type": "code",
   "execution_count": null,
   "metadata": {},
   "outputs": [],
   "source": []
  }
 ],
 "metadata": {
  "interpreter": {
   "hash": "e5ec24c6db6b01668153f0d7970357104795ba99b94731b011ffeae27cd547f5"
  },
  "kernelspec": {
   "display_name": "Python 3.8.12 64-bit (conda)",
   "name": "python3"
  },
  "language_info": {
   "codemirror_mode": {
    "name": "ipython",
    "version": 3
   },
   "file_extension": ".py",
   "mimetype": "text/x-python",
   "name": "python",
   "nbconvert_exporter": "python",
   "pygments_lexer": "ipython3",
   "version": "3.8.12"
  }
 },
 "nbformat": 4,
 "nbformat_minor": 4
}
