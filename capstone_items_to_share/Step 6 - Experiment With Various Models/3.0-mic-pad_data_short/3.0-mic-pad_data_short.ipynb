{
 "cells": [
  {
   "cell_type": "markdown",
   "metadata": {},
   "source": [
    "# Contents\n",
    "* [Intro](#Intro)\n",
    "* [Imports and config](#Imports-and-config)\n",
    "* [Load data](#Load-data)\n",
    "* [Additional preprocessing](#Additional-preprocessing)\n",
    "  * [Trim again](#Trim-again)\n",
    "  * [Find maximum duration](#Find-maximum-duration)\n",
    "  * [Pad](#Pad)\n",
    "* [Results](#Results)"
   ]
  },
  {
   "cell_type": "markdown",
   "metadata": {},
   "source": [
    "## Intro"
   ]
  },
  {
   "cell_type": "markdown",
   "metadata": {},
   "source": [
    "The code in this notebook reads the set of files of short duration categorized previously. The files are processed into wav arrays. Leading zeros are trimmed from these arrays and a maximum duration calculated. The arrays are zero-padded initially up to the maximum duration. The new dataframes are saved to disk.\n",
    "\n",
    "The medium and long sets are not processed in this notebook since we just need enough data to quickly test several models. In addition, adding new columns of arrays as observations increases the size of the data rather drastically."
   ]
  },
  {
   "cell_type": "markdown",
   "metadata": {},
   "source": [
    "## Imports and config"
   ]
  },
  {
   "cell_type": "code",
   "execution_count": 1,
   "metadata": {},
   "outputs": [],
   "source": [
    "# Core\n",
    "import numpy as np\n",
    "import pandas as pd\n",
    "import librosa\n",
    "\n",
    "# util\n",
    "from gc import collect as gc_collect\n",
    "import swifter"
   ]
  },
  {
   "cell_type": "code",
   "execution_count": 2,
   "metadata": {},
   "outputs": [],
   "source": [
    "# display outputs w/o print calls\n",
    "from IPython.core.interactiveshell import InteractiveShell\n",
    "\n",
    "InteractiveShell.ast_node_interactivity = \"all\""
   ]
  },
  {
   "cell_type": "code",
   "execution_count": 3,
   "metadata": {},
   "outputs": [],
   "source": [
    "# Location of pickled dataframe\n",
    "PICKLED_DF_FOLDER = \"../1.0-mic-divide_data_by_duration\"\n",
    "\n",
    "# Location where this notebook will output\n",
    "DATA_OUT_FOLDER = \".\"\n",
    "\n",
    "# The preprocessed data from the Unified Multilingual Dataset of Emotional Human utterances\n",
    "WAV_DIRECTORY = (\n",
    "    \"../../unified_multilingual_dataset_of_emotional_human_utterances/data/preprocessed\"\n",
    ")"
   ]
  },
  {
   "cell_type": "code",
   "execution_count": 4,
   "metadata": {},
   "outputs": [],
   "source": [
    "# Extensions\n",
    "%load_ext lab_black\n",
    "%load_ext nb_black\n",
    "%load_ext autotime"
   ]
  },
  {
   "cell_type": "markdown",
   "metadata": {},
   "source": [
    "## Load data"
   ]
  },
  {
   "cell_type": "code",
   "execution_count": 5,
   "metadata": {},
   "outputs": [
    {
     "data": {
      "text/html": [
       "<div>\n",
       "<style scoped>\n",
       "    .dataframe tbody tr th:only-of-type {\n",
       "        vertical-align: middle;\n",
       "    }\n",
       "\n",
       "    .dataframe tbody tr th {\n",
       "        vertical-align: top;\n",
       "    }\n",
       "\n",
       "    .dataframe thead th {\n",
       "        text-align: right;\n",
       "    }\n",
       "</style>\n",
       "<table border=\"1\" class=\"dataframe\">\n",
       "  <thead>\n",
       "    <tr style=\"text-align: right;\">\n",
       "      <th></th>\n",
       "      <th>file</th>\n",
       "      <th>duration</th>\n",
       "      <th>source</th>\n",
       "      <th>speaker_id</th>\n",
       "      <th>speaker_gender</th>\n",
       "      <th>emo</th>\n",
       "      <th>valence</th>\n",
       "      <th>lang1</th>\n",
       "      <th>lang2</th>\n",
       "      <th>neg</th>\n",
       "      <th>neu</th>\n",
       "      <th>pos</th>\n",
       "      <th>length</th>\n",
       "    </tr>\n",
       "    <tr>\n",
       "      <th>id</th>\n",
       "      <th></th>\n",
       "      <th></th>\n",
       "      <th></th>\n",
       "      <th></th>\n",
       "      <th></th>\n",
       "      <th></th>\n",
       "      <th></th>\n",
       "      <th></th>\n",
       "      <th></th>\n",
       "      <th></th>\n",
       "      <th></th>\n",
       "      <th></th>\n",
       "      <th></th>\n",
       "    </tr>\n",
       "  </thead>\n",
       "  <tbody>\n",
       "    <tr>\n",
       "      <th>01788</th>\n",
       "      <td>01788+BAUM1+BAUM1.s028+f+hap+1+tur+tr-tr.wav</td>\n",
       "      <td>0.387</td>\n",
       "      <td>BAUM1</td>\n",
       "      <td>BAUM1.s028</td>\n",
       "      <td>f</td>\n",
       "      <td>hap</td>\n",
       "      <td>1</td>\n",
       "      <td>tur</td>\n",
       "      <td>tr-tr</td>\n",
       "      <td>0</td>\n",
       "      <td>0</td>\n",
       "      <td>1</td>\n",
       "      <td>short</td>\n",
       "    </tr>\n",
       "    <tr>\n",
       "      <th>02024</th>\n",
       "      <td>02024+BAUM2+BAUM2.S087+f+ang+-1+eng+en.wav</td>\n",
       "      <td>0.417</td>\n",
       "      <td>BAUM2</td>\n",
       "      <td>BAUM2.S087</td>\n",
       "      <td>f</td>\n",
       "      <td>ang</td>\n",
       "      <td>-1</td>\n",
       "      <td>eng</td>\n",
       "      <td>en</td>\n",
       "      <td>1</td>\n",
       "      <td>0</td>\n",
       "      <td>0</td>\n",
       "      <td>short</td>\n",
       "    </tr>\n",
       "    <tr>\n",
       "      <th>02196</th>\n",
       "      <td>02196+BAUM2+BAUM2.S239+f+ang+-1+tur+tr-tr.wav</td>\n",
       "      <td>0.417</td>\n",
       "      <td>BAUM2</td>\n",
       "      <td>BAUM2.S239</td>\n",
       "      <td>f</td>\n",
       "      <td>ang</td>\n",
       "      <td>-1</td>\n",
       "      <td>tur</td>\n",
       "      <td>tr-tr</td>\n",
       "      <td>1</td>\n",
       "      <td>0</td>\n",
       "      <td>0</td>\n",
       "      <td>short</td>\n",
       "    </tr>\n",
       "  </tbody>\n",
       "</table>\n",
       "</div>"
      ],
      "text/plain": [
       "                                                file  duration source  \\\n",
       "id                                                                      \n",
       "01788   01788+BAUM1+BAUM1.s028+f+hap+1+tur+tr-tr.wav     0.387  BAUM1   \n",
       "02024     02024+BAUM2+BAUM2.S087+f+ang+-1+eng+en.wav     0.417  BAUM2   \n",
       "02196  02196+BAUM2+BAUM2.S239+f+ang+-1+tur+tr-tr.wav     0.417  BAUM2   \n",
       "\n",
       "       speaker_id speaker_gender  emo valence lang1  lang2  neg  neu  pos  \\\n",
       "id                                                                          \n",
       "01788  BAUM1.s028              f  hap       1   tur  tr-tr    0    0    1   \n",
       "02024  BAUM2.S087              f  ang      -1   eng     en    1    0    0   \n",
       "02196  BAUM2.S239              f  ang      -1   tur  tr-tr    1    0    0   \n",
       "\n",
       "      length  \n",
       "id            \n",
       "01788  short  \n",
       "02024  short  \n",
       "02196  short  "
      ]
     },
     "execution_count": 5,
     "metadata": {},
     "output_type": "execute_result"
    },
    {
     "name": "stdout",
     "output_type": "stream",
     "text": [
      "time: 97 ms\n"
     ]
    }
   ],
   "source": [
    "_ = gc_collect()\n",
    "short_df = pd.read_pickle(f\"{PICKLED_DF_FOLDER}/short.pkl\")\n",
    "short_df.head(3)"
   ]
  },
  {
   "cell_type": "markdown",
   "metadata": {},
   "source": [
    "## Additional preprocessing"
   ]
  },
  {
   "cell_type": "markdown",
   "metadata": {},
   "source": [
    "Although the original dataset already trimmed leading silences, the precision was based on a 10 ms window. Therefore, there may remain leading zeros where the leading silence does not exceed 10 ms in duration. The following sections remove those silences and implement initial zero padding."
   ]
  },
  {
   "cell_type": "markdown",
   "metadata": {},
   "source": [
    "### Trim again"
   ]
  },
  {
   "cell_type": "code",
   "execution_count": 6,
   "metadata": {},
   "outputs": [
    {
     "name": "stdout",
     "output_type": "stream",
     "text": [
      "time: 4 ms\n"
     ]
    }
   ],
   "source": [
    "trim_zeros = np.trim_zeros\n",
    "load = librosa.load"
   ]
  },
  {
   "cell_type": "code",
   "execution_count": 7,
   "metadata": {},
   "outputs": [
    {
     "name": "stdout",
     "output_type": "stream",
     "text": [
      "time: 281 ms\n"
     ]
    }
   ],
   "source": [
    "_ = gc_collect()\n",
    "# Trim leading silence (more precise than orginally)\n",
    "short_df[\"ragged\"] = short_df.file.apply(\n",
    "    lambda row: np.float32(\n",
    "        trim_zeros(load(path=f\"{WAV_DIRECTORY}/{row}\", sr=None)[0], trim=\"f\")\n",
    "    )\n",
    ")"
   ]
  },
  {
   "cell_type": "markdown",
   "metadata": {},
   "source": [
    "### Find maximum duration"
   ]
  },
  {
   "cell_type": "markdown",
   "metadata": {},
   "source": [
    "The following cell obtains the maximum duration after the sequences have been freshly trimmed."
   ]
  },
  {
   "cell_type": "code",
   "execution_count": 8,
   "metadata": {},
   "outputs": [
    {
     "name": "stderr",
     "output_type": "stream",
     "text": [
      "Pandas Apply: 100%|██████████| 480/480 [00:00<00:00, 245610.09it/s]"
     ]
    },
    {
     "name": "stdout",
     "output_type": "stream",
     "text": [
      "time: 73 ms\n"
     ]
    },
    {
     "name": "stderr",
     "output_type": "stream",
     "text": [
      "\n"
     ]
    }
   ],
   "source": [
    "_ = gc_collect()\n",
    "max_ragged = short_df.ragged.swifter.apply(len).max()"
   ]
  },
  {
   "cell_type": "markdown",
   "metadata": {},
   "source": [
    "### Pad"
   ]
  },
  {
   "cell_type": "markdown",
   "metadata": {},
   "source": [
    "The following cell pads the wav arrays with initial zeros up to the length of the longest array."
   ]
  },
  {
   "cell_type": "code",
   "execution_count": 9,
   "metadata": {},
   "outputs": [
    {
     "name": "stderr",
     "output_type": "stream",
     "text": [
      "Pandas Apply: 100%|██████████| 480/480 [00:00<00:00, 2887.52it/s]"
     ]
    },
    {
     "name": "stdout",
     "output_type": "stream",
     "text": [
      "time: 292 ms\n"
     ]
    },
    {
     "name": "stderr",
     "output_type": "stream",
     "text": [
      "\n"
     ]
    }
   ],
   "source": [
    "_ = gc_collect()\n",
    "# Zero pad with leading silence\n",
    "short_df[\"padded\"] = short_df.ragged.swifter.apply(\n",
    "    lambda row: np.pad(\n",
    "        row,\n",
    "        (max_ragged - len(row), 0),\n",
    "        mode=\"constant\",\n",
    "        constant_values=0,\n",
    "    ).tolist()\n",
    "    # The arrays are cast to lists for downstream type concordance with PySpark\n",
    ")"
   ]
  },
  {
   "cell_type": "markdown",
   "metadata": {},
   "source": [
    "## Results"
   ]
  },
  {
   "cell_type": "code",
   "execution_count": 10,
   "metadata": {},
   "outputs": [
    {
     "name": "stdout",
     "output_type": "stream",
     "text": [
      "time: 94 ms\n"
     ]
    }
   ],
   "source": [
    "_ = gc_collect()\n",
    "assert len(short_df.ragged) == len(short_df.padded)"
   ]
  },
  {
   "cell_type": "code",
   "execution_count": 11,
   "metadata": {},
   "outputs": [
    {
     "name": "stdout",
     "output_type": "stream",
     "text": [
      "time: 103 ms\n"
     ]
    }
   ],
   "source": [
    "_ = gc_collect()\n",
    "short_df_ragged = short_df.drop(columns=\"padded\")\n",
    "short_df.drop(columns=\"ragged\", inplace=True)"
   ]
  },
  {
   "cell_type": "markdown",
   "metadata": {},
   "source": [
    "Finally, we will save our work. We will save the padded and ragged dataframes separately."
   ]
  },
  {
   "cell_type": "code",
   "execution_count": 12,
   "metadata": {},
   "outputs": [
    {
     "name": "stdout",
     "output_type": "stream",
     "text": [
      "time: 251 ms\n"
     ]
    }
   ],
   "source": [
    "_ = gc_collect()\n",
    "short_df.to_pickle(path=f\"{DATA_OUT_FOLDER}/short_padded.pkl\")\n",
    "short_df_ragged.to_pickle(path=f\"{DATA_OUT_FOLDER}/short_ragged.pkl\")"
   ]
  },
  {
   "cell_type": "markdown",
   "metadata": {},
   "source": [
    "[^top](#Contents)"
   ]
  },
  {
   "cell_type": "code",
   "execution_count": null,
   "metadata": {},
   "outputs": [],
   "source": []
  }
 ],
 "metadata": {
  "interpreter": {
   "hash": "e5ec24c6db6b01668153f0d7970357104795ba99b94731b011ffeae27cd547f5"
  },
  "kernelspec": {
   "display_name": "Python 3.8.12 64-bit (conda)",
   "name": "python3"
  },
  "language_info": {
   "codemirror_mode": {
    "name": "ipython",
    "version": 3
   },
   "file_extension": ".py",
   "mimetype": "text/x-python",
   "name": "python",
   "nbconvert_exporter": "python",
   "pygments_lexer": "ipython3",
   "version": "3.8.12"
  },
  "toc-autonumbering": false,
  "toc-showmarkdowntxt": false
 },
 "nbformat": 4,
 "nbformat_minor": 4
}
