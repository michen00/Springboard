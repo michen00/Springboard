{
 "cells": [
  {
   "cell_type": "markdown",
   "metadata": {},
   "source": [
    "# Contents\n",
    "* [Introduction](#Introduction)\n",
    "  * [FRILL](#FRILL)\n",
    "* [Imports and configuration](#Imports-and-configuration)\n",
    "* [Data](#Data)\n",
    "* [Feature extaction](#Extract-features)\n",
    "* [Setup](#Setup)\n",
    "* [Explore models](#Explore-models)\n",
    "  * [Multilayer perceptron (keras)](#Multilayer-perceptron-(keras))\n",
    "  * [Test harness](#Test-harness)\n",
    "  * [Classifiers from sklearn](#Classifiers-from-sklearn)\n",
    "    * [sklearn Models](#sklearn-Models)\n",
    "    * [sklearn results collection](#sklearn-results-collection)\n",
    "  * [Other boosting ensembles](#Other-boosting-ensembles)\n",
    "    * [Non-sklearn Models](#Non-sklearn-Models)\n",
    "    * [Non-sklearn results collection](#Non-sklearn-results-collection)\n",
    "  * [Stacked classifier](#Stacked-classifier)\n",
    "    * [Feature importance](#Feature-importance)\n",
    "* [Results](#Results)\n",
    "* [Discussion](#Discussion)\n",
    "\n",
    "## Intro\n",
    "\n",
    "This notebook uses FRILL to generate embeddings for the ragged samples of short duration. The resultant embeddings are passed to a variety of classifiers including a stacked ensemble. The ternary, single-valence binary, and ternary one-vs-rest classification cases are considered. Results are visualized and discussed.\n",
    "\n",
    "### FRILL\n",
    "\n",
    "Here are two abstracts to introduce the FRILL embedding:\n",
    "\n",
    ">> [Towards Learning a Universal Non-Semantic Representation of Speech (2020)](#https://doi.org/10.21437/Interspeech.2020-1242)\n",
    ">>>> The ultimate goal of transfer learning is to reduce labeled data requirements by exploiting a pre-existing embedding model trained for different datasets or tasks. The visual and language communities have established benchmarks to compare embeddings, but the speech community has yet to do so. This paper proposes a benchmark for comparing speech representations on non-semantic tasks, and proposes a representation based on an unsupervised triplet-loss objective. The proposed representation outperforms other representations on the benchmark, and even exceeds state-of-the-art performance on a number of transfer learning tasks. The embedding is trained on a publicly available dataset, and it is tested on a variety of low-resource downstream tasks, including personalization tasks and medical domain. The benchmark, models, and evaluation code are publicly released.\n",
    ">>\n",
    ">> [FRILL: A Non-Semantic Speech Embedding for Mobile Devices (2021)](#https://arxiv.org/abs/2011.04609)\n",
    ">>>> Learned speech representations can drastically improve performance on tasks with limited labeled data. However, due to their size and complexity, learned representations have limited utility in mobile settings where run-time performance can be a significant bottleneck. In this work, we propose a class of lightweight non-semantic speech embedding models that run efficiently on mobile devices based on the recently proposed TRILL speech embedding. We combine novel architectural modifications with existing speed-up techniques to create embedding models that are fast enough to run in real-time on a mobile device and exhibit minimal performance degradation on a benchmark of non-semantic speech tasks. One such model (FRILL) is 32x faster on a Pixel 1 smartphone and 40% the size of TRILL, with an average decrease in accuracy of only 2%. To our knowledge, FRILL is the highest-quality non-semantic embedding designed for use on mobile devices. Furthermore, we demonstrate that these representations are useful for mobile health tasks such as non-speech human sounds detection and face-masked speech detection. Our models and code are publicly available.\n",
    "\n",
    "FRILL is therefore a promising embedding since non-semantic aspects of speech signals is what distinguishes each class for this data. And it's fast!\n",
    "\n",
    "Moreover, its output representation is a 2,048-element vector irrespective of input size. FRILL enables uniform handling of ragged sequences in an output format that is potentially more compact than spectrograms and MFCCs.\n",
    "\n",
    "Furthermore, the FRILL representations are not time series, affording the full armamentarium of classifiers now available.\n",
    "\n",
    "## Imports and configuration"
   ]
  },
  {
   "cell_type": "code",
   "execution_count": 1,
   "metadata": {},
   "outputs": [],
   "source": [
    "# set random seeds\n",
    "\n",
    "from os import environ\n",
    "from random import seed as random_seed\n",
    "from numpy.random import seed as np_seed\n",
    "from tensorflow.random import set_seed\n",
    "\n",
    "\n",
    "def reset_seeds(seed: int) -> None:\n",
    "    \"\"\"Utility function for resetting random seeds\"\"\"\n",
    "    environ[\"PYTHONHASHSEED\"] = str(seed)\n",
    "    random_seed(seed)\n",
    "    np_seed(seed)\n",
    "    set_seed(seed)\n",
    "\n",
    "\n",
    "reset_seeds(SEED := 2021)"
   ]
  },
  {
   "cell_type": "code",
   "execution_count": 2,
   "metadata": {},
   "outputs": [],
   "source": [
    "# extensions\n",
    "%load_ext autotime\n",
    "%load_ext lab_black\n",
    "%load_ext nb_black"
   ]
  },
  {
   "cell_type": "code",
   "execution_count": 3,
   "metadata": {},
   "outputs": [
    {
     "name": "stdout",
     "output_type": "stream",
     "text": [
      "time: 4.21 s\n"
     ]
    }
   ],
   "source": [
    "# core\n",
    "import numpy as np\n",
    "import pandas as pd\n",
    "\n",
    "# utility\n",
    "from collections import namedtuple\n",
    "from gc import collect as gc_collect\n",
    "from time import time\n",
    "from tqdm.notebook import tqdm\n",
    "import swifter\n",
    "\n",
    "# Python < 3.9 type hints\n",
    "from typing import Callable, List, Sequence, Tuple\n",
    "\n",
    "# metrics\n",
    "from sklearn.metrics import accuracy_score\n",
    "\n",
    "# sklearn classifiers\n",
    "from sklearn.linear_model import LogisticRegression\n",
    "from sklearn.ensemble import (\n",
    "    AdaBoostClassifier,\n",
    "    RandomForestClassifier,\n",
    "    StackingClassifier,\n",
    ")\n",
    "from sklearn.svm import SVC\n",
    "from sklearn.discriminant_analysis import QuadraticDiscriminantAnalysis\n",
    "from sklearn.gaussian_process import GaussianProcessClassifier\n",
    "from sklearn.naive_bayes import GaussianNB\n",
    "from sklearn.neural_network import MLPClassifier\n",
    "\n",
    "# other boosting classifiers\n",
    "from lightgbm import LGBMClassifier\n",
    "\n",
    "# from catboost import CatBoostClassifier\n",
    "from xgboost import XGBClassifier\n",
    "\n",
    "# keras & tensorflow\n",
    "from keras.models import Sequential\n",
    "from keras.layers import Dense\n",
    "from keras.regularizers import l1_l2\n",
    "import tensorflow as tf2\n",
    "import tensorflow.compat.v2 as tf\n",
    "import tensorflow_hub as hub\n",
    "\n",
    "# visualization\n",
    "import matplotlib.pyplot as plt\n",
    "import seaborn as sns\n",
    "\n",
    "sns.set_context(\"notebook\")\n",
    "sns.set_style(\"whitegrid\")\n",
    "%matplotlib inline\n",
    "\n",
    "# display outputs w/o print calls\n",
    "from IPython.core.interactiveshell import InteractiveShell\n",
    "\n",
    "InteractiveShell.ast_node_interactivity = \"all\"\n",
    "\n",
    "# hide warnings\n",
    "import warnings\n",
    "\n",
    "warnings.filterwarnings(\"ignore\")"
   ]
  },
  {
   "cell_type": "code",
   "execution_count": 4,
   "metadata": {},
   "outputs": [
    {
     "name": "stdout",
     "output_type": "stream",
     "text": [
      "time: 999 µs\n"
     ]
    }
   ],
   "source": [
    "# Location of ragged data (as pickle)\n",
    "PICKLED_DF_FOLDER = \"../3.0-mic-pad_data_short\"\n",
    "\n",
    "# Location where this notebook will output\n",
    "DATA_OUT_FOLDER = \".\"\n",
    "\n",
    "# The preprocessed data from the Unified Multilingual Dataset of Emotional Human utterances\n",
    "WAV_DIRECTORY = (\n",
    "    \"../../unified_multilingual_dataset_of_emotional_human_utterances/data/preprocessed\"\n",
    ")"
   ]
  },
  {
   "cell_type": "markdown",
   "metadata": {},
   "source": [
    "## Data"
   ]
  },
  {
   "cell_type": "code",
   "execution_count": 5,
   "metadata": {},
   "outputs": [
    {
     "data": {
      "text/html": [
       "<div>\n",
       "<style scoped>\n",
       "    .dataframe tbody tr th:only-of-type {\n",
       "        vertical-align: middle;\n",
       "    }\n",
       "\n",
       "    .dataframe tbody tr th {\n",
       "        vertical-align: top;\n",
       "    }\n",
       "\n",
       "    .dataframe thead th {\n",
       "        text-align: right;\n",
       "    }\n",
       "</style>\n",
       "<table border=\"1\" class=\"dataframe\">\n",
       "  <thead>\n",
       "    <tr style=\"text-align: right;\">\n",
       "      <th></th>\n",
       "      <th>file</th>\n",
       "      <th>duration</th>\n",
       "      <th>source</th>\n",
       "      <th>speaker_id</th>\n",
       "      <th>speaker_gender</th>\n",
       "      <th>emo</th>\n",
       "      <th>valence</th>\n",
       "      <th>lang1</th>\n",
       "      <th>lang2</th>\n",
       "      <th>neg</th>\n",
       "      <th>neu</th>\n",
       "      <th>pos</th>\n",
       "      <th>length</th>\n",
       "      <th>ragged</th>\n",
       "    </tr>\n",
       "    <tr>\n",
       "      <th>id</th>\n",
       "      <th></th>\n",
       "      <th></th>\n",
       "      <th></th>\n",
       "      <th></th>\n",
       "      <th></th>\n",
       "      <th></th>\n",
       "      <th></th>\n",
       "      <th></th>\n",
       "      <th></th>\n",
       "      <th></th>\n",
       "      <th></th>\n",
       "      <th></th>\n",
       "      <th></th>\n",
       "      <th></th>\n",
       "    </tr>\n",
       "  </thead>\n",
       "  <tbody>\n",
       "    <tr>\n",
       "      <th>01788</th>\n",
       "      <td>01788+BAUM1+BAUM1.s028+f+hap+1+tur+tr-tr.wav</td>\n",
       "      <td>0.387</td>\n",
       "      <td>BAUM1</td>\n",
       "      <td>BAUM1.s028</td>\n",
       "      <td>f</td>\n",
       "      <td>hap</td>\n",
       "      <td>1</td>\n",
       "      <td>tur</td>\n",
       "      <td>tr-tr</td>\n",
       "      <td>0</td>\n",
       "      <td>0</td>\n",
       "      <td>1</td>\n",
       "      <td>short</td>\n",
       "      <td>[-6.1035156e-05, -6.1035156e-05, 0.0, -3.05175...</td>\n",
       "    </tr>\n",
       "  </tbody>\n",
       "</table>\n",
       "</div>"
      ],
      "text/plain": [
       "                                               file  duration source  \\\n",
       "id                                                                     \n",
       "01788  01788+BAUM1+BAUM1.s028+f+hap+1+tur+tr-tr.wav     0.387  BAUM1   \n",
       "\n",
       "       speaker_id speaker_gender  emo valence lang1  lang2  neg  neu  pos  \\\n",
       "id                                                                          \n",
       "01788  BAUM1.s028              f  hap       1   tur  tr-tr    0    0    1   \n",
       "\n",
       "      length                                             ragged  \n",
       "id                                                               \n",
       "01788  short  [-6.1035156e-05, -6.1035156e-05, 0.0, -3.05175...  "
      ]
     },
     "execution_count": 5,
     "metadata": {},
     "output_type": "execute_result"
    },
    {
     "name": "stdout",
     "output_type": "stream",
     "text": [
      "time: 49 ms\n"
     ]
    }
   ],
   "source": [
    "short_df = pd.read_pickle(f\"{PICKLED_DF_FOLDER}/short_ragged.pkl\")\n",
    "short_df.head(1)"
   ]
  },
  {
   "cell_type": "code",
   "execution_count": 6,
   "metadata": {},
   "outputs": [
    {
     "name": "stdout",
     "output_type": "stream",
     "text": [
      "time: 140 ms\n"
     ]
    }
   ],
   "source": [
    "df = short_df[[\"speaker_id\", \"valence\", \"neg\", \"neu\", \"pos\", \"ragged\"]]\n",
    "del short_df\n",
    "_ = gc_collect()"
   ]
  },
  {
   "cell_type": "markdown",
   "metadata": {},
   "source": [
    "## Feature extraction"
   ]
  },
  {
   "cell_type": "code",
   "execution_count": 7,
   "metadata": {},
   "outputs": [
    {
     "name": "stdout",
     "output_type": "stream",
     "text": [
      "time: 36.8 s\n"
     ]
    }
   ],
   "source": [
    "tf.enable_v2_behavior()\n",
    "module = hub.load(\"https://tfhub.dev/google/nonsemantic-speech-benchmark/frill/1\")"
   ]
  },
  {
   "cell_type": "code",
   "execution_count": 8,
   "metadata": {},
   "outputs": [
    {
     "data": {
      "application/vnd.jupyter.widget-view+json": {
       "model_id": "148a5d55b6c147f88b38b506264766eb",
       "version_major": 2,
       "version_minor": 0
      },
      "text/plain": [
       "Pandas Apply:   0%|          | 0/480 [00:00<?, ?it/s]"
      ]
     },
     "metadata": {},
     "output_type": "display_data"
    },
    {
     "name": "stdout",
     "output_type": "stream",
     "text": [
      "time: 1min 47s\n"
     ]
    }
   ],
   "source": [
    "df[\"frill\"] = df.ragged.swifter.apply(\n",
    "    lambda _: module(np.expand_dims(np.array(_, dtype=np.float32), axis=0))[\n",
    "        \"embedding\"\n",
    "    ][0].numpy()\n",
    ")"
   ]
  },
  {
   "cell_type": "markdown",
   "metadata": {},
   "source": [
    "## Setup\n",
    "\n",
    "In this section, we define some structures to keep track of models and scores.\n",
    "\n",
    "The next cell defines a Python dictionary to record the results of three-fold cross validation such that the results may be easily cast to a `pandas` dataframe."
   ]
  },
  {
   "cell_type": "code",
   "execution_count": 9,
   "metadata": {},
   "outputs": [
    {
     "name": "stdout",
     "output_type": "stream",
     "text": [
      "time: 1 ms\n"
     ]
    }
   ],
   "source": [
    "# classification scenarios\n",
    "all_cases = {\"ternary\", \"negative\", \"neutral\", \"positive\", \"ternary_ovr\"}\n",
    "metrics = {\"avg_cv_accuracy\", \"vs_dummy\", \"avg_cv_fit_time\", \"avg_cv_predict_time\"}\n",
    "\n",
    "# to be cast to pd.DataFrame\n",
    "results = {case: {key: [] for key in {\"model_name\", *metrics}} for case in all_cases}"
   ]
  },
  {
   "cell_type": "code",
   "execution_count": 10,
   "metadata": {},
   "outputs": [
    {
     "name": "stdout",
     "output_type": "stream",
     "text": [
      "time: 2 ms\n"
     ]
    }
   ],
   "source": [
    "AvgScores = namedtuple(\n",
    "    \"AvgScores\", \"avg_fit_time avg_predict_time avg_accuracy avg_dummy\"\n",
    ")\n",
    "\n",
    "\n",
    "def store_result(case: str, model_name: str, avg_scores: AvgScores) -> None:\n",
    "    \"Appends a model's score and fit/predict times to the results.\"\n",
    "    result = results[case]\n",
    "    for attribute, value in {\n",
    "        (\"model_name\", model_name),\n",
    "        (\"avg_cv_accuracy\", (_ := avg_scores.avg_accuracy)),\n",
    "        (\"vs_dummy\", _ - avg_scores.avg_dummy),\n",
    "        (\"avg_cv_fit_time\", avg_scores.avg_fit_time),\n",
    "        (\"avg_cv_predict_time\", avg_scores.avg_predict_time),\n",
    "    }:\n",
    "        result[attribute].append(value)"
   ]
  },
  {
   "cell_type": "markdown",
   "metadata": {},
   "source": [
    "### Multilayer perceptron (keras)\n",
    "\n",
    "To use `keras`, the data must be formatted a little differently, so we will process the `keras` network outside the main loop through the other models and cases.\n",
    "\n",
    "We will use a simple fully connected network to get a baseline. To determine the number of neurons in the hidden layer, we use the rule of thumb, *sqrt(n * m)*, where n is the number of input neurons and m is the number of output neurons.\n",
    "\n",
    "After a little trial and error (not shown), I noticed that the network was overfitting rapidly, so I added an ElasticNet kernel regularizer. As a result, loss and accuracy plateaued in just a few epochs both in training and validation. Therefore, I reduced the `l1` and `l2` parameters from a default of 0.01 to 0.0001 each and validation performance improved. I didn't want to spend too much time tinkering in this phase so I left it at that."
   ]
  },
  {
   "cell_type": "code",
   "execution_count": 11,
   "metadata": {},
   "outputs": [
    {
     "name": "stdout",
     "output_type": "stream",
     "text": [
      "time: 998 µs\n"
     ]
    }
   ],
   "source": [
    "# input size\n",
    "n = 2048"
   ]
  },
  {
   "cell_type": "code",
   "execution_count": 12,
   "metadata": {},
   "outputs": [
    {
     "name": "stdout",
     "output_type": "stream",
     "text": [
      "time: 1 ms\n"
     ]
    }
   ],
   "source": [
    "def keras_MLP(print_summary: bool = False, multiclass: bool = False) -> Sequence:\n",
    "    if multiclass:\n",
    "        m, activation, loss = 3, \"softmax\", \"categorical_crossentropy\"\n",
    "    else:\n",
    "        m, activation, loss = 1, \"sigmoid\", \"binary_crossentropy\"\n",
    "    model = Sequential(\n",
    "        [\n",
    "            Dense(\n",
    "                _ := np.sqrt(n * m),\n",
    "                activation=\"relu\",\n",
    "                input_dim=n,\n",
    "                kernel_regularizer=l1_l2(l1=0.0001, l2=0.0001),\n",
    "            ),\n",
    "            Dense(m, activation=activation),\n",
    "        ]\n",
    "    )\n",
    "    model.compile(loss=loss, optimizer=\"adam\", metrics=\"accuracy\")\n",
    "    if print_summary:\n",
    "        model.summary()\n",
    "    return model"
   ]
  },
  {
   "cell_type": "markdown",
   "metadata": {},
   "source": [
    "The next cell defines a function for making cross-validation splits without speaker leakage (sampling with replacement)."
   ]
  },
  {
   "cell_type": "code",
   "execution_count": 13,
   "metadata": {},
   "outputs": [
    {
     "name": "stdout",
     "output_type": "stream",
     "text": [
      "time: 5 ms\n"
     ]
    }
   ],
   "source": [
    "# for formatting X_test and X_train\n",
    "restack: Sequence = lambda _: tf2.convert_to_tensor(np.stack(_.to_numpy()))\n",
    "\n",
    "# for formatting y_test and y_train\n",
    "to_categorical: Sequence = lambda _: tf2.keras.utils.to_categorical(\n",
    "    _, num_classes=3, dtype=\"float32\"\n",
    ")\n",
    "\n",
    "Split = namedtuple(\"Split\", (\"X_test\", \"y_test\", \"X_train\", \"y_train\", \"dummy_test\"))\n",
    "\n",
    "\n",
    "def splits_for_keras(case: str, num_splits: int = 3) -> List[Split]:\n",
    "    \"\"\"Given a classification scenario, provide train-test splits sampled with replacement for cross validation without speaker leakage.\"\"\"\n",
    "    splits = []\n",
    "    for i in range(num_splits):\n",
    "        # criterion for split\n",
    "        criterion = df.speaker_id.isin(\n",
    "            pd.DataFrame(np.unique(df.speaker_id))\n",
    "            .sample(frac=0.25, random_state=SEED + i)[0]\n",
    "            .values\n",
    "        )\n",
    "\n",
    "        # prepare X_test and y_test\n",
    "        X_test = restack((test := df.loc[criterion]).frill)\n",
    "        y_test = (\n",
    "            to_categorical(test.valence).argmax(axis=1)\n",
    "            if (multiclass := \"ternary\" in case)\n",
    "            else test[case[:3]]\n",
    "        )\n",
    "\n",
    "        # the dummy score is calculated from y_test\n",
    "        dummy = pd.Series(y_test).value_counts().values[0] / len(y_test)\n",
    "        if not multiclass and dummy < 0.5:\n",
    "            dummy = 1 - dummy\n",
    "\n",
    "        splits.append(\n",
    "            Split(\n",
    "                X_test=X_test,\n",
    "                X_train=restack((train := df.loc[~criterion]).frill),\n",
    "                y_test=y_test,\n",
    "                y_train=to_categorical(train.valence)\n",
    "                if multiclass\n",
    "                else train[case[:3]],\n",
    "                dummy_test=dummy,\n",
    "            )\n",
    "        )\n",
    "\n",
    "    return splits"
   ]
  },
  {
   "cell_type": "markdown",
   "metadata": {},
   "source": [
    "The next two cells define functions for fitting, scoring, and storing the results of a `keras` classifier in each classification scenario."
   ]
  },
  {
   "cell_type": "code",
   "execution_count": 14,
   "metadata": {},
   "outputs": [
    {
     "name": "stdout",
     "output_type": "stream",
     "text": [
      "time: 6 ms\n"
     ]
    }
   ],
   "source": [
    "def fit_score_store_keras_MLP_ovr() -> AvgScores:\n",
    "    \"\"\"Fit, score, and store the results for a keras multilayer perceptron in the one-vs-rest ensemble case.\"\"\"\n",
    "\n",
    "    cases = (\"neu\", \"pos\", \"neg\")  # match sort order of \"0\", \"1\", \"-1\"\n",
    "    interim_results = {\n",
    "        case: dict.fromkeys((\"cv_fit_times\", \"cv_predict_times\"), []) for case in cases\n",
    "    }\n",
    "    predicted_probabilities = {fold: {k: None for k in cases} for fold in range(3)}\n",
    "\n",
    "    for case in (\"neutral\", \"positive\", \"negative\"):\n",
    "        fit_times, predict_times = [], []\n",
    "        fold = 0\n",
    "        for split in splits_for_keras(case=case):\n",
    "            # define model\n",
    "            model = keras_MLP(multiclass=False)  # train three binary classifiers\n",
    "\n",
    "            # fit\n",
    "            reset_seeds(SEED)\n",
    "            begin = time()\n",
    "            model.fit(\n",
    "                split.X_train,\n",
    "                split.y_train,\n",
    "                validation_split=0.15,\n",
    "                epochs=10,\n",
    "                batch_size=1,\n",
    "            )\n",
    "            end = time()\n",
    "            fit_times.append(end - begin)\n",
    "\n",
    "            # predict\n",
    "            begin = time()\n",
    "            predicted = model.predict(split.X_test)\n",
    "            end = time()\n",
    "            predict_times.append(end - begin)\n",
    "            predicted_probabilities[fold][case[:3]] = predicted[:, 0].tolist()\n",
    "            fold += 1\n",
    "\n",
    "        result = interim_results[case[:3]]\n",
    "        result[\"cv_fit_times\"] = np.mean(fit_times)\n",
    "        result[\"cv_predict_times\"] = np.mean(predict_times)\n",
    "\n",
    "    # aggregate predicted probabilities and argmax (ensemble) them by fold\n",
    "    fold_predictions = [\n",
    "        pd.DataFrame(predicted_probabilities[fold])\n",
    "        .swifter.apply(lambda _: np.argmax([_]), axis=1)\n",
    "        .values\n",
    "        for fold in sorted(predicted_probabilities.keys())\n",
    "    ]\n",
    "\n",
    "    # score\n",
    "    ternary_splits = splits_for_keras(case=\"ternary_ovr\")\n",
    "    accuracy_scores = [\n",
    "        accuracy_score(y_true=true, y_pred=pred)\n",
    "        for true, pred in zip(\n",
    "            [split.y_test for split in ternary_splits], fold_predictions\n",
    "        )\n",
    "    ]\n",
    "\n",
    "    sum_time: float = lambda fitpredict: sum(\n",
    "        [interim_results[case][fitpredict] for case in cases]\n",
    "    )\n",
    "    store_result(\n",
    "        case=\"ternary_ovr\",\n",
    "        model_name=\"keras_MLP\",\n",
    "        avg_scores=(\n",
    "            keras_ovr_results := AvgScores(\n",
    "                avg_fit_time=sum_time(\"cv_fit_times\"),\n",
    "                avg_predict_time=sum_time(\"cv_predict_times\"),\n",
    "                avg_accuracy=np.mean(accuracy_scores),\n",
    "                avg_dummy=np.mean([split.dummy_test for split in ternary_splits]),\n",
    "            )\n",
    "        ),\n",
    "    )\n",
    "    return keras_ovr_results"
   ]
  },
  {
   "cell_type": "code",
   "execution_count": 15,
   "metadata": {},
   "outputs": [
    {
     "name": "stdout",
     "output_type": "stream",
     "text": [
      "time: 3 ms\n"
     ]
    }
   ],
   "source": [
    "def fit_score_store_keras_MLP(case: str) -> AvgScores:\n",
    "    \"\"\"Fit, score, and store the results for a keras multilayer perceptron.\"\"\"\n",
    "\n",
    "    if case == \"ternary_ovr\":\n",
    "        return fit_score_store_keras_MLP_ovr()\n",
    "\n",
    "    fit_times, predict_times, scores, dummies = [], [], [], []\n",
    "    for split in splits_for_keras(case):\n",
    "        # define model\n",
    "        model = keras_MLP(multiclass=(multiclass := case == \"ternary\"))\n",
    "\n",
    "        # fit\n",
    "        reset_seeds(SEED)\n",
    "        begin = time()\n",
    "        model.fit(\n",
    "            split.X_train,\n",
    "            split.y_train,\n",
    "            validation_split=0.15,\n",
    "            epochs=10,\n",
    "            batch_size=1,\n",
    "        )\n",
    "        end = time()\n",
    "        fit_times.append(end - begin)\n",
    "\n",
    "        # predict\n",
    "        begin = time()\n",
    "        predicted = model.predict(split.X_test)\n",
    "        end = time()\n",
    "        predict_times.append(end - begin)\n",
    "        predicted = (\n",
    "            predicted.argmax(axis=1)\n",
    "            if multiclass\n",
    "            else pd.Series(predicted[:, 0]).swifter.apply(lambda _: 1 if _ > 0.5 else 0)\n",
    "        )\n",
    "\n",
    "        # score\n",
    "        scores.append(accuracy_score(y_true=split.y_test, y_pred=predicted))\n",
    "        dummies.append(split.dummy_test)\n",
    "\n",
    "    store_result(\n",
    "        case=case,\n",
    "        model_name=\"keras_MLP\",\n",
    "        avg_scores=(\n",
    "            keras_results := AvgScores(\n",
    "                *[np.mean(_) for _ in (fit_times, predict_times, scores, dummies)]\n",
    "            )\n",
    "        ),\n",
    "    )\n",
    "    return keras_results"
   ]
  },
  {
   "cell_type": "markdown",
   "metadata": {},
   "source": [
    "Let's peek at the results."
   ]
  },
  {
   "cell_type": "code",
   "execution_count": 16,
   "metadata": {},
   "outputs": [
    {
     "name": "stdout",
     "output_type": "stream",
     "text": [
      "Epoch 1/10\n",
      "254/254 [==============================] - 2s 6ms/step - loss: 1.2174 - accuracy: 0.5118 - val_loss: 1.1347 - val_accuracy: 0.5111\n",
      "Epoch 2/10\n",
      "254/254 [==============================] - 1s 5ms/step - loss: 0.9346 - accuracy: 0.6339 - val_loss: 1.0015 - val_accuracy: 0.5333\n",
      "Epoch 3/10\n",
      "254/254 [==============================] - 1s 5ms/step - loss: 0.8476 - accuracy: 0.6969 - val_loss: 0.8862 - val_accuracy: 0.6444\n",
      "Epoch 4/10\n",
      "254/254 [==============================] - 1s 5ms/step - loss: 0.7415 - accuracy: 0.7559 - val_loss: 0.9003 - val_accuracy: 0.6222\n",
      "Epoch 5/10\n",
      "254/254 [==============================] - 1s 6ms/step - loss: 0.6860 - accuracy: 0.7913 - val_loss: 0.9416 - val_accuracy: 0.6000\n",
      "Epoch 6/10\n",
      "254/254 [==============================] - 1s 6ms/step - loss: 0.6323 - accuracy: 0.8425 - val_loss: 0.9782 - val_accuracy: 0.6000\n",
      "Epoch 7/10\n",
      "254/254 [==============================] - 2s 6ms/step - loss: 0.5764 - accuracy: 0.8465 - val_loss: 1.1194 - val_accuracy: 0.5333\n",
      "Epoch 8/10\n",
      "254/254 [==============================] - 2s 6ms/step - loss: 0.5323 - accuracy: 0.8898 - val_loss: 0.8761 - val_accuracy: 0.7111\n",
      "Epoch 9/10\n",
      "254/254 [==============================] - 1s 5ms/step - loss: 0.5014 - accuracy: 0.8937 - val_loss: 1.2174 - val_accuracy: 0.5556\n",
      "Epoch 10/10\n",
      "254/254 [==============================] - 1s 4ms/step - loss: 0.4595 - accuracy: 0.9213 - val_loss: 1.0464 - val_accuracy: 0.6000\n",
      "Epoch 1/10\n",
      "304/304 [==============================] - 2s 5ms/step - loss: 1.2209 - accuracy: 0.5724 - val_loss: 1.2044 - val_accuracy: 0.4444\n",
      "Epoch 2/10\n",
      "304/304 [==============================] - 1s 4ms/step - loss: 0.9064 - accuracy: 0.6809 - val_loss: 0.8743 - val_accuracy: 0.6481\n",
      "Epoch 3/10\n",
      "304/304 [==============================] - 1s 4ms/step - loss: 0.8025 - accuracy: 0.7204 - val_loss: 0.8634 - val_accuracy: 0.6852\n",
      "Epoch 4/10\n",
      "304/304 [==============================] - 1s 4ms/step - loss: 0.7371 - accuracy: 0.7697 - val_loss: 0.8836 - val_accuracy: 0.7037\n",
      "Epoch 5/10\n",
      "304/304 [==============================] - 1s 4ms/step - loss: 0.6713 - accuracy: 0.7763 - val_loss: 1.0036 - val_accuracy: 0.5926\n",
      "Epoch 6/10\n",
      "304/304 [==============================] - 1s 4ms/step - loss: 0.5974 - accuracy: 0.8618 - val_loss: 1.0019 - val_accuracy: 0.6111\n",
      "Epoch 7/10\n",
      "304/304 [==============================] - 1s 4ms/step - loss: 0.5744 - accuracy: 0.8651 - val_loss: 0.9569 - val_accuracy: 0.7037\n",
      "Epoch 8/10\n",
      "304/304 [==============================] - 1s 4ms/step - loss: 0.5379 - accuracy: 0.8980 - val_loss: 1.0699 - val_accuracy: 0.6296\n",
      "Epoch 9/10\n",
      "304/304 [==============================] - 1s 5ms/step - loss: 0.5004 - accuracy: 0.8980 - val_loss: 0.8464 - val_accuracy: 0.7037\n",
      "Epoch 10/10\n",
      "304/304 [==============================] - 1s 5ms/step - loss: 0.4780 - accuracy: 0.9211 - val_loss: 0.8020 - val_accuracy: 0.7407\n",
      "Epoch 1/10\n",
      "294/294 [==============================] - 2s 5ms/step - loss: 1.2245 - accuracy: 0.4966 - val_loss: 1.2856 - val_accuracy: 0.4423\n",
      "Epoch 2/10\n",
      "294/294 [==============================] - 1s 4ms/step - loss: 1.0246 - accuracy: 0.6088 - val_loss: 1.1600 - val_accuracy: 0.6154\n",
      "Epoch 3/10\n",
      "294/294 [==============================] - 1s 4ms/step - loss: 0.9239 - accuracy: 0.6701 - val_loss: 1.0739 - val_accuracy: 0.6346\n",
      "Epoch 4/10\n",
      "294/294 [==============================] - 1s 4ms/step - loss: 0.8379 - accuracy: 0.7007 - val_loss: 1.1492 - val_accuracy: 0.6154\n",
      "Epoch 5/10\n",
      "294/294 [==============================] - 1s 4ms/step - loss: 0.7796 - accuracy: 0.7517 - val_loss: 1.2650 - val_accuracy: 0.5962\n",
      "Epoch 6/10\n",
      "294/294 [==============================] - 1s 4ms/step - loss: 0.7464 - accuracy: 0.7789 - val_loss: 1.3575 - val_accuracy: 0.6154\n",
      "Epoch 7/10\n",
      "294/294 [==============================] - 1s 4ms/step - loss: 0.6550 - accuracy: 0.8401 - val_loss: 1.1994 - val_accuracy: 0.6154\n",
      "Epoch 8/10\n",
      "294/294 [==============================] - 1s 4ms/step - loss: 0.6386 - accuracy: 0.8435 - val_loss: 1.4471 - val_accuracy: 0.5769\n",
      "Epoch 9/10\n",
      "294/294 [==============================] - 1s 5ms/step - loss: 0.6133 - accuracy: 0.8469 - val_loss: 1.3350 - val_accuracy: 0.5962\n",
      "Epoch 10/10\n",
      "294/294 [==============================] - 1s 5ms/step - loss: 0.5566 - accuracy: 0.8912 - val_loss: 1.8630 - val_accuracy: 0.6154\n",
      "time: 42.7 s\n"
     ]
    }
   ],
   "source": [
    "keras_results_ternary = fit_score_store_keras_MLP(case=\"ternary\")"
   ]
  },
  {
   "cell_type": "code",
   "execution_count": 17,
   "metadata": {},
   "outputs": [
    {
     "data": {
      "text/plain": [
       "AvgScores(avg_fit_time=13.786349614461264, avg_predict_time=0.13208564122517905, avg_accuracy=0.5178443891402511, avg_dummy=0.4085367474735731)"
      ]
     },
     "execution_count": 17,
     "metadata": {},
     "output_type": "execute_result"
    },
    {
     "name": "stdout",
     "output_type": "stream",
     "text": [
      "time: 4 ms\n"
     ]
    }
   ],
   "source": [
    "keras_results_ternary"
   ]
  },
  {
   "cell_type": "markdown",
   "metadata": {},
   "source": [
    "Cross validated average accuracy was about 51.7%, which outperformed the average score of the dummy classifiers (~40.9%) by about 10.9%.\n",
    "\n",
    "Next, we will proceed similarly for the binary and one-vs-rest ensemble cases."
   ]
  },
  {
   "cell_type": "code",
   "execution_count": 18,
   "metadata": {},
   "outputs": [
    {
     "data": {
      "application/vnd.jupyter.widget-view+json": {
       "model_id": "1c687cfc7b204ac2b14c20c9ce570745",
       "version_major": 2,
       "version_minor": 0
      },
      "text/plain": [
       "  0%|          | 0/5 [00:00<?, ?it/s]"
      ]
     },
     "metadata": {},
     "output_type": "display_data"
    },
    {
     "name": "stdout",
     "output_type": "stream",
     "text": [
      "Epoch 1/10\n",
      "254/254 [==============================] - 2s 6ms/step - loss: 0.7200 - accuracy: 0.7205 - val_loss: 0.8812 - val_accuracy: 0.5111\n",
      "Epoch 2/10\n",
      "254/254 [==============================] - 1s 5ms/step - loss: 0.5627 - accuracy: 0.7480 - val_loss: 0.7176 - val_accuracy: 0.6000\n",
      "Epoch 3/10\n",
      "254/254 [==============================] - 1s 5ms/step - loss: 0.5192 - accuracy: 0.7677 - val_loss: 0.6613 - val_accuracy: 0.7111\n",
      "Epoch 4/10\n",
      "254/254 [==============================] - 1s 4ms/step - loss: 0.4866 - accuracy: 0.7874 - val_loss: 0.7362 - val_accuracy: 0.6000\n",
      "Epoch 5/10\n",
      "254/254 [==============================] - 1s 4ms/step - loss: 0.4352 - accuracy: 0.8150 - val_loss: 0.6589 - val_accuracy: 0.7333\n",
      "Epoch 6/10\n",
      "254/254 [==============================] - 1s 5ms/step - loss: 0.4311 - accuracy: 0.8543 - val_loss: 0.7597 - val_accuracy: 0.6222\n",
      "Epoch 7/10\n",
      "254/254 [==============================] - 1s 5ms/step - loss: 0.3981 - accuracy: 0.8583 - val_loss: 0.8180 - val_accuracy: 0.6000\n",
      "Epoch 8/10\n",
      "254/254 [==============================] - 1s 5ms/step - loss: 0.3757 - accuracy: 0.8858 - val_loss: 0.7644 - val_accuracy: 0.6667\n",
      "Epoch 9/10\n",
      "254/254 [==============================] - 1s 5ms/step - loss: 0.3651 - accuracy: 0.8858 - val_loss: 0.8605 - val_accuracy: 0.6667\n",
      "Epoch 10/10\n",
      "254/254 [==============================] - 1s 5ms/step - loss: 0.3368 - accuracy: 0.8937 - val_loss: 0.9092 - val_accuracy: 0.6222\n"
     ]
    },
    {
     "data": {
      "application/vnd.jupyter.widget-view+json": {
       "model_id": "b34ab3a3f67e4b188132ccae4aa70739",
       "version_major": 2,
       "version_minor": 0
      },
      "text/plain": [
       "Pandas Apply:   0%|          | 0/181 [00:00<?, ?it/s]"
      ]
     },
     "metadata": {},
     "output_type": "display_data"
    },
    {
     "name": "stdout",
     "output_type": "stream",
     "text": [
      "Epoch 1/10\n",
      "304/304 [==============================] - 3s 9ms/step - loss: 0.6530 - accuracy: 0.7862 - val_loss: 0.7427 - val_accuracy: 0.6852\n",
      "Epoch 2/10\n",
      "304/304 [==============================] - 1s 5ms/step - loss: 0.4927 - accuracy: 0.7993 - val_loss: 0.6332 - val_accuracy: 0.6667\n",
      "Epoch 3/10\n",
      "304/304 [==============================] - 1s 5ms/step - loss: 0.4606 - accuracy: 0.8125 - val_loss: 0.7010 - val_accuracy: 0.6111\n",
      "Epoch 4/10\n",
      "304/304 [==============================] - 1s 4ms/step - loss: 0.4351 - accuracy: 0.8322 - val_loss: 0.6011 - val_accuracy: 0.6852\n",
      "Epoch 5/10\n",
      "304/304 [==============================] - 1s 5ms/step - loss: 0.4059 - accuracy: 0.8388 - val_loss: 0.7041 - val_accuracy: 0.6296\n",
      "Epoch 6/10\n",
      "304/304 [==============================] - 1s 5ms/step - loss: 0.3966 - accuracy: 0.8651 - val_loss: 0.6187 - val_accuracy: 0.7037\n",
      "Epoch 7/10\n",
      "304/304 [==============================] - 2s 5ms/step - loss: 0.3776 - accuracy: 0.8586 - val_loss: 0.5740 - val_accuracy: 0.7593\n",
      "Epoch 8/10\n",
      "304/304 [==============================] - 2s 5ms/step - loss: 0.3580 - accuracy: 0.8947 - val_loss: 0.7726 - val_accuracy: 0.6481\n",
      "Epoch 9/10\n",
      "304/304 [==============================] - 2s 5ms/step - loss: 0.3464 - accuracy: 0.8947 - val_loss: 0.5814 - val_accuracy: 0.7037\n",
      "Epoch 10/10\n",
      "304/304 [==============================] - 2s 6ms/step - loss: 0.3303 - accuracy: 0.9112 - val_loss: 0.6000 - val_accuracy: 0.7407\n"
     ]
    },
    {
     "data": {
      "application/vnd.jupyter.widget-view+json": {
       "model_id": "4395a07801a849319145bd68538e092c",
       "version_major": 2,
       "version_minor": 0
      },
      "text/plain": [
       "Pandas Apply:   0%|          | 0/122 [00:00<?, ?it/s]"
      ]
     },
     "metadata": {},
     "output_type": "display_data"
    },
    {
     "name": "stdout",
     "output_type": "stream",
     "text": [
      "Epoch 1/10\n",
      "294/294 [==============================] - 2s 6ms/step - loss: 0.6560 - accuracy: 0.7789 - val_loss: 0.7399 - val_accuracy: 0.6731\n",
      "Epoch 2/10\n",
      "294/294 [==============================] - 1s 5ms/step - loss: 0.5381 - accuracy: 0.7857 - val_loss: 0.8159 - val_accuracy: 0.6731\n",
      "Epoch 3/10\n",
      "294/294 [==============================] - 1s 4ms/step - loss: 0.5012 - accuracy: 0.7789 - val_loss: 0.7863 - val_accuracy: 0.6538\n",
      "Epoch 4/10\n",
      "294/294 [==============================] - 2s 6ms/step - loss: 0.4623 - accuracy: 0.7993 - val_loss: 0.8301 - val_accuracy: 0.6731\n",
      "Epoch 5/10\n",
      "294/294 [==============================] - 1s 5ms/step - loss: 0.4430 - accuracy: 0.8163 - val_loss: 0.9365 - val_accuracy: 0.6731\n",
      "Epoch 6/10\n",
      "294/294 [==============================] - 2s 6ms/step - loss: 0.4274 - accuracy: 0.8435 - val_loss: 1.1277 - val_accuracy: 0.6731\n",
      "Epoch 7/10\n",
      "294/294 [==============================] - 1s 5ms/step - loss: 0.4036 - accuracy: 0.8537 - val_loss: 0.7647 - val_accuracy: 0.7115\n",
      "Epoch 8/10\n",
      "294/294 [==============================] - 1s 4ms/step - loss: 0.3920 - accuracy: 0.8707 - val_loss: 1.0877 - val_accuracy: 0.6731\n",
      "Epoch 9/10\n",
      "294/294 [==============================] - 1s 4ms/step - loss: 0.3777 - accuracy: 0.8741 - val_loss: 0.9501 - val_accuracy: 0.6731\n",
      "Epoch 10/10\n",
      "294/294 [==============================] - 1s 4ms/step - loss: 0.3513 - accuracy: 0.8844 - val_loss: 1.4166 - val_accuracy: 0.6731\n"
     ]
    },
    {
     "data": {
      "application/vnd.jupyter.widget-view+json": {
       "model_id": "9ef810773cd4426ab941d895f0f93e07",
       "version_major": 2,
       "version_minor": 0
      },
      "text/plain": [
       "Pandas Apply:   0%|          | 0/134 [00:00<?, ?it/s]"
      ]
     },
     "metadata": {},
     "output_type": "display_data"
    },
    {
     "data": {
      "text/plain": [
       "AvgScores(avg_fit_time=15.122881333033243, avg_predict_time=0.1074203650156657, avg_accuracy=0.6649273332639403, avg_dummy=0.7131176830276656)"
      ]
     },
     "execution_count": 18,
     "metadata": {},
     "output_type": "execute_result"
    },
    {
     "name": "stdout",
     "output_type": "stream",
     "text": [
      "Epoch 1/10\n",
      "254/254 [==============================] - 2s 5ms/step - loss: 0.7072 - accuracy: 0.7126 - val_loss: 0.2194 - val_accuracy: 1.0000\n",
      "Epoch 2/10\n",
      "254/254 [==============================] - 1s 4ms/step - loss: 0.5327 - accuracy: 0.7874 - val_loss: 0.2019 - val_accuracy: 0.9778\n",
      "Epoch 3/10\n",
      "254/254 [==============================] - 1s 5ms/step - loss: 0.4769 - accuracy: 0.8307 - val_loss: 0.1514 - val_accuracy: 1.0000\n",
      "Epoch 4/10\n",
      "254/254 [==============================] - 1s 4ms/step - loss: 0.4318 - accuracy: 0.8543 - val_loss: 0.1891 - val_accuracy: 0.9778\n",
      "Epoch 5/10\n",
      "254/254 [==============================] - 1s 5ms/step - loss: 0.4238 - accuracy: 0.8346 - val_loss: 0.1981 - val_accuracy: 0.9778\n",
      "Epoch 6/10\n",
      "254/254 [==============================] - 1s 4ms/step - loss: 0.3876 - accuracy: 0.8740 - val_loss: 0.1699 - val_accuracy: 0.9778\n",
      "Epoch 7/10\n",
      "254/254 [==============================] - 1s 5ms/step - loss: 0.3638 - accuracy: 0.8898 - val_loss: 0.2196 - val_accuracy: 0.9778\n",
      "Epoch 8/10\n",
      "254/254 [==============================] - 1s 4ms/step - loss: 0.3576 - accuracy: 0.9016 - val_loss: 0.1456 - val_accuracy: 0.9778\n",
      "Epoch 9/10\n",
      "254/254 [==============================] - 1s 5ms/step - loss: 0.3372 - accuracy: 0.9016 - val_loss: 0.1911 - val_accuracy: 0.9778\n",
      "Epoch 10/10\n",
      "254/254 [==============================] - 1s 5ms/step - loss: 0.3045 - accuracy: 0.9409 - val_loss: 0.1547 - val_accuracy: 0.9778\n",
      "Epoch 1/10\n",
      "304/304 [==============================] - 3s 6ms/step - loss: 0.7356 - accuracy: 0.6546 - val_loss: 0.2576 - val_accuracy: 1.0000\n",
      "Epoch 2/10\n",
      "304/304 [==============================] - 2s 5ms/step - loss: 0.5525 - accuracy: 0.7697 - val_loss: 0.1829 - val_accuracy: 1.0000\n",
      "Epoch 3/10\n",
      "304/304 [==============================] - 1s 4ms/step - loss: 0.5037 - accuracy: 0.7730 - val_loss: 0.2342 - val_accuracy: 0.9815\n",
      "Epoch 4/10\n",
      "304/304 [==============================] - 1s 4ms/step - loss: 0.4768 - accuracy: 0.8224 - val_loss: 0.2188 - val_accuracy: 0.9815\n",
      "Epoch 5/10\n",
      "304/304 [==============================] - 1s 5ms/step - loss: 0.4405 - accuracy: 0.8421 - val_loss: 0.1890 - val_accuracy: 1.0000\n",
      "Epoch 6/10\n",
      "304/304 [==============================] - 1s 4ms/step - loss: 0.3960 - accuracy: 0.9013 - val_loss: 0.2093 - val_accuracy: 0.9815\n",
      "Epoch 7/10\n",
      "304/304 [==============================] - 1s 4ms/step - loss: 0.3869 - accuracy: 0.8849 - val_loss: 0.1755 - val_accuracy: 1.0000\n",
      "Epoch 8/10\n",
      "304/304 [==============================] - 1s 4ms/step - loss: 0.3697 - accuracy: 0.9013 - val_loss: 0.3386 - val_accuracy: 0.9074\n",
      "Epoch 9/10\n",
      "304/304 [==============================] - 1s 4ms/step - loss: 0.3577 - accuracy: 0.8783 - val_loss: 0.1488 - val_accuracy: 1.0000\n",
      "Epoch 10/10\n",
      "304/304 [==============================] - 1s 4ms/step - loss: 0.3529 - accuracy: 0.9276 - val_loss: 0.1392 - val_accuracy: 1.0000\n",
      "Epoch 1/10\n",
      "294/294 [==============================] - 2s 6ms/step - loss: 0.7965 - accuracy: 0.6156 - val_loss: 0.5122 - val_accuracy: 0.9423\n",
      "Epoch 2/10\n",
      "294/294 [==============================] - 1s 4ms/step - loss: 0.6546 - accuracy: 0.7041 - val_loss: 0.3411 - val_accuracy: 0.9615\n",
      "Epoch 3/10\n",
      "294/294 [==============================] - 1s 4ms/step - loss: 0.5901 - accuracy: 0.7415 - val_loss: 0.2586 - val_accuracy: 0.9808\n",
      "Epoch 4/10\n",
      "294/294 [==============================] - 1s 4ms/step - loss: 0.5445 - accuracy: 0.7619 - val_loss: 0.2808 - val_accuracy: 0.9615\n",
      "Epoch 5/10\n",
      "294/294 [==============================] - 1s 4ms/step - loss: 0.5227 - accuracy: 0.7823 - val_loss: 0.2839 - val_accuracy: 0.9615\n",
      "Epoch 6/10\n",
      "294/294 [==============================] - 1s 4ms/step - loss: 0.5006 - accuracy: 0.8265 - val_loss: 0.2847 - val_accuracy: 0.9423\n",
      "Epoch 7/10\n",
      "294/294 [==============================] - 1s 4ms/step - loss: 0.4531 - accuracy: 0.8639 - val_loss: 0.2034 - val_accuracy: 0.9615\n",
      "Epoch 8/10\n",
      "294/294 [==============================] - 1s 4ms/step - loss: 0.4451 - accuracy: 0.8537 - val_loss: 0.3528 - val_accuracy: 0.9423\n",
      "Epoch 9/10\n",
      "294/294 [==============================] - 1s 4ms/step - loss: 0.4305 - accuracy: 0.8537 - val_loss: 0.2434 - val_accuracy: 0.9423\n",
      "Epoch 10/10\n",
      "294/294 [==============================] - 1s 4ms/step - loss: 0.4002 - accuracy: 0.8673 - val_loss: 0.3385 - val_accuracy: 0.9231\n",
      "Epoch 1/10\n",
      "254/254 [==============================] - 2s 5ms/step - loss: 0.7200 - accuracy: 0.7205 - val_loss: 0.8812 - val_accuracy: 0.5111\n",
      "Epoch 2/10\n",
      "254/254 [==============================] - 1s 4ms/step - loss: 0.5627 - accuracy: 0.7480 - val_loss: 0.7176 - val_accuracy: 0.6000\n",
      "Epoch 3/10\n",
      "254/254 [==============================] - 1s 4ms/step - loss: 0.5192 - accuracy: 0.7677 - val_loss: 0.6613 - val_accuracy: 0.7111\n",
      "Epoch 4/10\n",
      "254/254 [==============================] - 1s 4ms/step - loss: 0.4866 - accuracy: 0.7874 - val_loss: 0.7362 - val_accuracy: 0.6000\n",
      "Epoch 5/10\n",
      "254/254 [==============================] - 1s 4ms/step - loss: 0.4352 - accuracy: 0.8150 - val_loss: 0.6589 - val_accuracy: 0.7333\n",
      "Epoch 6/10\n",
      "254/254 [==============================] - 1s 4ms/step - loss: 0.4311 - accuracy: 0.8543 - val_loss: 0.7597 - val_accuracy: 0.6222\n",
      "Epoch 7/10\n",
      "254/254 [==============================] - 1s 4ms/step - loss: 0.3981 - accuracy: 0.8583 - val_loss: 0.8180 - val_accuracy: 0.6000\n",
      "Epoch 8/10\n",
      "254/254 [==============================] - 1s 4ms/step - loss: 0.3757 - accuracy: 0.8858 - val_loss: 0.7644 - val_accuracy: 0.6667\n",
      "Epoch 9/10\n",
      "254/254 [==============================] - 1s 4ms/step - loss: 0.3651 - accuracy: 0.8858 - val_loss: 0.8605 - val_accuracy: 0.6667\n",
      "Epoch 10/10\n",
      "254/254 [==============================] - 1s 4ms/step - loss: 0.3368 - accuracy: 0.8937 - val_loss: 0.9092 - val_accuracy: 0.6222\n",
      "Epoch 1/10\n",
      "304/304 [==============================] - 2s 6ms/step - loss: 0.6530 - accuracy: 0.7862 - val_loss: 0.7427 - val_accuracy: 0.6852\n",
      "Epoch 2/10\n",
      "304/304 [==============================] - 2s 6ms/step - loss: 0.4927 - accuracy: 0.7993 - val_loss: 0.6332 - val_accuracy: 0.6667\n",
      "Epoch 3/10\n",
      "304/304 [==============================] - 2s 7ms/step - loss: 0.4606 - accuracy: 0.8125 - val_loss: 0.7010 - val_accuracy: 0.6111\n",
      "Epoch 4/10\n",
      "304/304 [==============================] - 2s 6ms/step - loss: 0.4351 - accuracy: 0.8322 - val_loss: 0.6011 - val_accuracy: 0.6852\n",
      "Epoch 5/10\n",
      "304/304 [==============================] - 2s 5ms/step - loss: 0.4059 - accuracy: 0.8388 - val_loss: 0.7041 - val_accuracy: 0.6296\n",
      "Epoch 6/10\n",
      "304/304 [==============================] - 1s 4ms/step - loss: 0.3966 - accuracy: 0.8651 - val_loss: 0.6187 - val_accuracy: 0.7037\n",
      "Epoch 7/10\n",
      "304/304 [==============================] - 1s 5ms/step - loss: 0.3776 - accuracy: 0.8586 - val_loss: 0.5740 - val_accuracy: 0.7593\n",
      "Epoch 8/10\n",
      "304/304 [==============================] - 1s 5ms/step - loss: 0.3580 - accuracy: 0.8947 - val_loss: 0.7726 - val_accuracy: 0.6481\n",
      "Epoch 9/10\n",
      "304/304 [==============================] - 2s 5ms/step - loss: 0.3464 - accuracy: 0.8947 - val_loss: 0.5814 - val_accuracy: 0.7037\n",
      "Epoch 10/10\n",
      "304/304 [==============================] - 1s 4ms/step - loss: 0.3303 - accuracy: 0.9112 - val_loss: 0.6000 - val_accuracy: 0.7407\n",
      "Epoch 1/10\n",
      "294/294 [==============================] - 2s 5ms/step - loss: 0.6560 - accuracy: 0.7789 - val_loss: 0.7399 - val_accuracy: 0.6731\n",
      "Epoch 2/10\n",
      "294/294 [==============================] - 1s 4ms/step - loss: 0.5381 - accuracy: 0.7857 - val_loss: 0.8159 - val_accuracy: 0.6731\n",
      "Epoch 3/10\n",
      "294/294 [==============================] - 1s 4ms/step - loss: 0.5012 - accuracy: 0.7789 - val_loss: 0.7863 - val_accuracy: 0.6538\n",
      "Epoch 4/10\n",
      "294/294 [==============================] - 1s 4ms/step - loss: 0.4623 - accuracy: 0.7993 - val_loss: 0.8301 - val_accuracy: 0.6731\n",
      "Epoch 5/10\n",
      "294/294 [==============================] - 1s 5ms/step - loss: 0.4430 - accuracy: 0.8163 - val_loss: 0.9365 - val_accuracy: 0.6731\n",
      "Epoch 6/10\n",
      "294/294 [==============================] - 1s 5ms/step - loss: 0.4274 - accuracy: 0.8435 - val_loss: 1.1277 - val_accuracy: 0.6731\n",
      "Epoch 7/10\n",
      "294/294 [==============================] - 1s 4ms/step - loss: 0.4036 - accuracy: 0.8537 - val_loss: 0.7647 - val_accuracy: 0.7115\n",
      "Epoch 8/10\n",
      "294/294 [==============================] - 1s 4ms/step - loss: 0.3920 - accuracy: 0.8707 - val_loss: 1.0877 - val_accuracy: 0.6731\n",
      "Epoch 9/10\n",
      "294/294 [==============================] - 1s 4ms/step - loss: 0.3777 - accuracy: 0.8741 - val_loss: 0.9501 - val_accuracy: 0.6731\n",
      "Epoch 10/10\n",
      "294/294 [==============================] - 1s 4ms/step - loss: 0.3513 - accuracy: 0.8844 - val_loss: 1.4166 - val_accuracy: 0.6731\n",
      "Epoch 1/10\n",
      "254/254 [==============================] - 2s 5ms/step - loss: 0.7379 - accuracy: 0.6929 - val_loss: 0.9377 - val_accuracy: 0.4667\n",
      "Epoch 2/10\n",
      "254/254 [==============================] - 1s 4ms/step - loss: 0.5617 - accuracy: 0.8071 - val_loss: 0.9260 - val_accuracy: 0.4444\n",
      "Epoch 3/10\n",
      "254/254 [==============================] - 1s 4ms/step - loss: 0.5070 - accuracy: 0.8386 - val_loss: 0.9519 - val_accuracy: 0.4444\n",
      "Epoch 4/10\n",
      "254/254 [==============================] - 1s 4ms/step - loss: 0.4642 - accuracy: 0.8268 - val_loss: 0.8400 - val_accuracy: 0.6000\n",
      "Epoch 5/10\n",
      "254/254 [==============================] - 1s 4ms/step - loss: 0.4295 - accuracy: 0.8661 - val_loss: 1.0879 - val_accuracy: 0.4222\n",
      "Epoch 6/10\n",
      "254/254 [==============================] - 1s 4ms/step - loss: 0.4133 - accuracy: 0.8976 - val_loss: 0.9904 - val_accuracy: 0.4889\n",
      "Epoch 7/10\n",
      "254/254 [==============================] - 1s 4ms/step - loss: 0.3725 - accuracy: 0.9094 - val_loss: 1.0572 - val_accuracy: 0.4444\n",
      "Epoch 8/10\n",
      "254/254 [==============================] - 1s 4ms/step - loss: 0.3459 - accuracy: 0.9370 - val_loss: 0.8183 - val_accuracy: 0.5556\n",
      "Epoch 9/10\n",
      "254/254 [==============================] - 1s 6ms/step - loss: 0.3233 - accuracy: 0.9606 - val_loss: 1.0813 - val_accuracy: 0.4667\n",
      "Epoch 10/10\n",
      "254/254 [==============================] - 1s 4ms/step - loss: 0.3174 - accuracy: 0.9409 - val_loss: 0.9919 - val_accuracy: 0.4444\n",
      "Epoch 1/10\n",
      "304/304 [==============================] - 2s 5ms/step - loss: 0.7379 - accuracy: 0.7237 - val_loss: 1.0839 - val_accuracy: 0.3889\n",
      "Epoch 2/10\n",
      "304/304 [==============================] - 1s 5ms/step - loss: 0.5808 - accuracy: 0.7862 - val_loss: 0.8215 - val_accuracy: 0.5926\n",
      "Epoch 3/10\n",
      "304/304 [==============================] - 1s 5ms/step - loss: 0.5103 - accuracy: 0.8158 - val_loss: 0.7258 - val_accuracy: 0.6296\n",
      "Epoch 4/10\n",
      "304/304 [==============================] - 1s 5ms/step - loss: 0.4716 - accuracy: 0.8421 - val_loss: 0.9224 - val_accuracy: 0.5926\n",
      "Epoch 5/10\n",
      "304/304 [==============================] - 1s 5ms/step - loss: 0.4490 - accuracy: 0.8553 - val_loss: 0.7878 - val_accuracy: 0.6111\n",
      "Epoch 6/10\n",
      "304/304 [==============================] - 1s 5ms/step - loss: 0.3938 - accuracy: 0.9046 - val_loss: 0.9395 - val_accuracy: 0.5370\n",
      "Epoch 7/10\n",
      "304/304 [==============================] - 1s 5ms/step - loss: 0.4019 - accuracy: 0.8980 - val_loss: 0.9441 - val_accuracy: 0.5185\n",
      "Epoch 8/10\n",
      "304/304 [==============================] - 1s 5ms/step - loss: 0.3828 - accuracy: 0.8914 - val_loss: 0.8300 - val_accuracy: 0.6667\n",
      "Epoch 9/10\n",
      "304/304 [==============================] - 1s 5ms/step - loss: 0.3642 - accuracy: 0.9046 - val_loss: 0.9378 - val_accuracy: 0.6667\n",
      "Epoch 10/10\n",
      "304/304 [==============================] - 1s 5ms/step - loss: 0.3348 - accuracy: 0.9408 - val_loss: 0.8347 - val_accuracy: 0.6852\n",
      "Epoch 1/10\n",
      "294/294 [==============================] - 2s 6ms/step - loss: 0.7322 - accuracy: 0.7007 - val_loss: 0.9827 - val_accuracy: 0.3462\n",
      "Epoch 2/10\n",
      "294/294 [==============================] - 1s 5ms/step - loss: 0.5946 - accuracy: 0.7823 - val_loss: 0.7735 - val_accuracy: 0.6346\n",
      "Epoch 3/10\n",
      "294/294 [==============================] - 2s 5ms/step - loss: 0.5312 - accuracy: 0.7993 - val_loss: 0.7599 - val_accuracy: 0.5962\n",
      "Epoch 4/10\n",
      "294/294 [==============================] - 1s 4ms/step - loss: 0.4886 - accuracy: 0.8333 - val_loss: 0.7948 - val_accuracy: 0.6731\n",
      "Epoch 5/10\n",
      "294/294 [==============================] - 1s 4ms/step - loss: 0.4712 - accuracy: 0.8401 - val_loss: 0.8419 - val_accuracy: 0.5962\n",
      "Epoch 6/10\n",
      "294/294 [==============================] - 1s 5ms/step - loss: 0.4736 - accuracy: 0.8435 - val_loss: 0.8354 - val_accuracy: 0.5962\n",
      "Epoch 7/10\n",
      "294/294 [==============================] - 1s 5ms/step - loss: 0.4252 - accuracy: 0.8810 - val_loss: 0.8787 - val_accuracy: 0.6346\n",
      "Epoch 8/10\n",
      "294/294 [==============================] - ETA: 0s - loss: 0.4103 - accuracy: 0.88 - 1s 5ms/step - loss: 0.4076 - accuracy: 0.8878 - val_loss: 0.8797 - val_accuracy: 0.6731\n",
      "Epoch 9/10\n",
      "294/294 [==============================] - 1s 5ms/step - loss: 0.4130 - accuracy: 0.8605 - val_loss: 0.9191 - val_accuracy: 0.6731\n",
      "Epoch 10/10\n",
      "294/294 [==============================] - 1s 5ms/step - loss: 0.3774 - accuracy: 0.8980 - val_loss: 0.9573 - val_accuracy: 0.5769\n"
     ]
    },
    {
     "data": {
      "application/vnd.jupyter.widget-view+json": {
       "model_id": "2a4e241a0c8a4b6dba49bf25a3225942",
       "version_major": 2,
       "version_minor": 0
      },
      "text/plain": [
       "Pandas Apply:   0%|          | 0/181 [00:00<?, ?it/s]"
      ]
     },
     "metadata": {},
     "output_type": "display_data"
    },
    {
     "data": {
      "application/vnd.jupyter.widget-view+json": {
       "model_id": "ce3920d8d989426da429afa2dc709748",
       "version_major": 2,
       "version_minor": 0
      },
      "text/plain": [
       "Pandas Apply:   0%|          | 0/122 [00:00<?, ?it/s]"
      ]
     },
     "metadata": {},
     "output_type": "display_data"
    },
    {
     "data": {
      "application/vnd.jupyter.widget-view+json": {
       "model_id": "d8da513133fe4742a33f9d036b177a75",
       "version_major": 2,
       "version_minor": 0
      },
      "text/plain": [
       "Pandas Apply:   0%|          | 0/134 [00:00<?, ?it/s]"
      ]
     },
     "metadata": {},
     "output_type": "display_data"
    },
    {
     "data": {
      "text/plain": [
       "AvgScores(avg_fit_time=41.49389974276225, avg_predict_time=0.2798042297363281, avg_accuracy=0.50451595838397, avg_dummy=0.4085367474735731)"
      ]
     },
     "execution_count": 18,
     "metadata": {},
     "output_type": "execute_result"
    },
    {
     "name": "stdout",
     "output_type": "stream",
     "text": [
      "Epoch 1/10\n",
      "254/254 [==============================] - 2s 6ms/step - loss: 0.7379 - accuracy: 0.6929 - val_loss: 0.9377 - val_accuracy: 0.4667\n",
      "Epoch 2/10\n",
      "254/254 [==============================] - 1s 5ms/step - loss: 0.5617 - accuracy: 0.8071 - val_loss: 0.9260 - val_accuracy: 0.4444\n",
      "Epoch 3/10\n",
      "254/254 [==============================] - 1s 5ms/step - loss: 0.5070 - accuracy: 0.8386 - val_loss: 0.9519 - val_accuracy: 0.4444\n",
      "Epoch 4/10\n",
      "254/254 [==============================] - 1s 5ms/step - loss: 0.4642 - accuracy: 0.8268 - val_loss: 0.8400 - val_accuracy: 0.6000\n",
      "Epoch 5/10\n",
      "254/254 [==============================] - 1s 5ms/step - loss: 0.4295 - accuracy: 0.8661 - val_loss: 1.0879 - val_accuracy: 0.4222\n",
      "Epoch 6/10\n",
      "254/254 [==============================] - 1s 5ms/step - loss: 0.4133 - accuracy: 0.8976 - val_loss: 0.9904 - val_accuracy: 0.4889\n",
      "Epoch 7/10\n",
      "254/254 [==============================] - 1s 5ms/step - loss: 0.3725 - accuracy: 0.9094 - val_loss: 1.0572 - val_accuracy: 0.4444\n",
      "Epoch 8/10\n",
      "254/254 [==============================] - 1s 5ms/step - loss: 0.3459 - accuracy: 0.9370 - val_loss: 0.8183 - val_accuracy: 0.5556\n",
      "Epoch 9/10\n",
      "254/254 [==============================] - 1s 5ms/step - loss: 0.3233 - accuracy: 0.9606 - val_loss: 1.0813 - val_accuracy: 0.4667\n",
      "Epoch 10/10\n",
      "254/254 [==============================] - 1s 5ms/step - loss: 0.3174 - accuracy: 0.9409 - val_loss: 0.9919 - val_accuracy: 0.4444\n"
     ]
    },
    {
     "data": {
      "application/vnd.jupyter.widget-view+json": {
       "model_id": "dd0ff2d52b8642d3ba8bf32f01c9dc6b",
       "version_major": 2,
       "version_minor": 0
      },
      "text/plain": [
       "Pandas Apply:   0%|          | 0/181 [00:00<?, ?it/s]"
      ]
     },
     "metadata": {},
     "output_type": "display_data"
    },
    {
     "name": "stdout",
     "output_type": "stream",
     "text": [
      "Epoch 1/10\n",
      "304/304 [==============================] - 2s 5ms/step - loss: 0.7379 - accuracy: 0.7237 - val_loss: 1.0839 - val_accuracy: 0.3889\n",
      "Epoch 2/10\n",
      "304/304 [==============================] - 1s 5ms/step - loss: 0.5808 - accuracy: 0.7862 - val_loss: 0.8215 - val_accuracy: 0.5926\n",
      "Epoch 3/10\n",
      "304/304 [==============================] - 1s 5ms/step - loss: 0.5103 - accuracy: 0.8158 - val_loss: 0.7258 - val_accuracy: 0.6296\n",
      "Epoch 4/10\n",
      "304/304 [==============================] - 1s 5ms/step - loss: 0.4716 - accuracy: 0.8421 - val_loss: 0.9224 - val_accuracy: 0.5926\n",
      "Epoch 5/10\n",
      "304/304 [==============================] - 1s 4ms/step - loss: 0.4490 - accuracy: 0.8553 - val_loss: 0.7878 - val_accuracy: 0.6111\n",
      "Epoch 6/10\n",
      "304/304 [==============================] - 1s 5ms/step - loss: 0.3938 - accuracy: 0.9046 - val_loss: 0.9395 - val_accuracy: 0.5370\n",
      "Epoch 7/10\n",
      "304/304 [==============================] - 1s 5ms/step - loss: 0.4019 - accuracy: 0.8980 - val_loss: 0.9441 - val_accuracy: 0.5185\n",
      "Epoch 8/10\n",
      "304/304 [==============================] - 1s 5ms/step - loss: 0.3828 - accuracy: 0.8914 - val_loss: 0.8300 - val_accuracy: 0.6667\n",
      "Epoch 9/10\n",
      "304/304 [==============================] - 1s 5ms/step - loss: 0.3642 - accuracy: 0.9046 - val_loss: 0.9378 - val_accuracy: 0.6667\n",
      "Epoch 10/10\n",
      "304/304 [==============================] - 1s 5ms/step - loss: 0.3348 - accuracy: 0.9408 - val_loss: 0.8347 - val_accuracy: 0.6852\n"
     ]
    },
    {
     "data": {
      "application/vnd.jupyter.widget-view+json": {
       "model_id": "fba2d3ed72e94d0f915b4cda4e934063",
       "version_major": 2,
       "version_minor": 0
      },
      "text/plain": [
       "Pandas Apply:   0%|          | 0/122 [00:00<?, ?it/s]"
      ]
     },
     "metadata": {},
     "output_type": "display_data"
    },
    {
     "name": "stdout",
     "output_type": "stream",
     "text": [
      "Epoch 1/10\n",
      "294/294 [==============================] - 2s 5ms/step - loss: 0.7322 - accuracy: 0.7007 - val_loss: 0.9827 - val_accuracy: 0.3462\n",
      "Epoch 2/10\n",
      "294/294 [==============================] - 1s 5ms/step - loss: 0.5946 - accuracy: 0.7823 - val_loss: 0.7735 - val_accuracy: 0.6346\n",
      "Epoch 3/10\n",
      "294/294 [==============================] - 1s 5ms/step - loss: 0.5312 - accuracy: 0.7993 - val_loss: 0.7599 - val_accuracy: 0.5962\n",
      "Epoch 4/10\n",
      "294/294 [==============================] - 1s 5ms/step - loss: 0.4886 - accuracy: 0.8333 - val_loss: 0.7948 - val_accuracy: 0.6731\n",
      "Epoch 5/10\n",
      "294/294 [==============================] - 1s 5ms/step - loss: 0.4712 - accuracy: 0.8401 - val_loss: 0.8419 - val_accuracy: 0.5962\n",
      "Epoch 6/10\n",
      "294/294 [==============================] - 2s 5ms/step - loss: 0.4736 - accuracy: 0.8435 - val_loss: 0.8354 - val_accuracy: 0.5962\n",
      "Epoch 7/10\n",
      "294/294 [==============================] - 1s 5ms/step - loss: 0.4252 - accuracy: 0.8810 - val_loss: 0.8787 - val_accuracy: 0.6346\n",
      "Epoch 8/10\n",
      "294/294 [==============================] - 1s 5ms/step - loss: 0.4076 - accuracy: 0.8878 - val_loss: 0.8797 - val_accuracy: 0.6731\n",
      "Epoch 9/10\n",
      "294/294 [==============================] - 1s 4ms/step - loss: 0.4130 - accuracy: 0.8605 - val_loss: 0.9191 - val_accuracy: 0.6731\n",
      "Epoch 10/10\n",
      "294/294 [==============================] - 1s 5ms/step - loss: 0.3774 - accuracy: 0.8980 - val_loss: 0.9573 - val_accuracy: 0.5769\n"
     ]
    },
    {
     "data": {
      "application/vnd.jupyter.widget-view+json": {
       "model_id": "d7ced2e821cf402c83c10fd1e6992a9f",
       "version_major": 2,
       "version_minor": 0
      },
      "text/plain": [
       "Pandas Apply:   0%|          | 0/134 [00:00<?, ?it/s]"
      ]
     },
     "metadata": {},
     "output_type": "display_data"
    },
    {
     "data": {
      "text/plain": [
       "AvgScores(avg_fit_time=14.495652278264364, avg_predict_time=0.07811649640401204, avg_accuracy=0.7041574123765738, avg_dummy=0.6556180694210317)"
      ]
     },
     "execution_count": 18,
     "metadata": {},
     "output_type": "execute_result"
    },
    {
     "name": "stdout",
     "output_type": "stream",
     "text": [
      "Epoch 1/10\n",
      "254/254 [==============================] - 2s 5ms/step - loss: 0.7072 - accuracy: 0.7126 - val_loss: 0.2194 - val_accuracy: 1.0000\n",
      "Epoch 2/10\n",
      "254/254 [==============================] - 1s 5ms/step - loss: 0.5327 - accuracy: 0.7874 - val_loss: 0.2019 - val_accuracy: 0.9778\n",
      "Epoch 3/10\n",
      "254/254 [==============================] - 1s 5ms/step - loss: 0.4769 - accuracy: 0.8307 - val_loss: 0.1514 - val_accuracy: 1.0000\n",
      "Epoch 4/10\n",
      "254/254 [==============================] - 1s 5ms/step - loss: 0.4318 - accuracy: 0.8543 - val_loss: 0.1891 - val_accuracy: 0.9778\n",
      "Epoch 5/10\n",
      "254/254 [==============================] - 1s 5ms/step - loss: 0.4238 - accuracy: 0.8346 - val_loss: 0.1981 - val_accuracy: 0.9778\n",
      "Epoch 6/10\n",
      "254/254 [==============================] - 2s 9ms/step - loss: 0.3876 - accuracy: 0.8740 - val_loss: 0.1699 - val_accuracy: 0.9778\n",
      "Epoch 7/10\n",
      "254/254 [==============================] - 2s 7ms/step - loss: 0.3638 - accuracy: 0.8898 - val_loss: 0.2196 - val_accuracy: 0.9778\n",
      "Epoch 8/10\n",
      "254/254 [==============================] - 1s 5ms/step - loss: 0.3576 - accuracy: 0.9016 - val_loss: 0.1456 - val_accuracy: 0.9778\n",
      "Epoch 9/10\n",
      "254/254 [==============================] - 1s 6ms/step - loss: 0.3372 - accuracy: 0.9016 - val_loss: 0.1911 - val_accuracy: 0.9778\n",
      "Epoch 10/10\n",
      "254/254 [==============================] - 1s 5ms/step - loss: 0.3045 - accuracy: 0.9409 - val_loss: 0.1547 - val_accuracy: 0.9778\n"
     ]
    },
    {
     "data": {
      "application/vnd.jupyter.widget-view+json": {
       "model_id": "3bf59a6832074069a95d364fe4b109e8",
       "version_major": 2,
       "version_minor": 0
      },
      "text/plain": [
       "Pandas Apply:   0%|          | 0/181 [00:00<?, ?it/s]"
      ]
     },
     "metadata": {},
     "output_type": "display_data"
    },
    {
     "name": "stdout",
     "output_type": "stream",
     "text": [
      "Epoch 1/10\n",
      "304/304 [==============================] - 2s 6ms/step - loss: 0.7356 - accuracy: 0.6546 - val_loss: 0.2576 - val_accuracy: 1.0000\n",
      "Epoch 2/10\n",
      "304/304 [==============================] - 1s 5ms/step - loss: 0.5525 - accuracy: 0.7697 - val_loss: 0.1829 - val_accuracy: 1.0000\n",
      "Epoch 3/10\n",
      "304/304 [==============================] - 2s 5ms/step - loss: 0.5037 - accuracy: 0.7730 - val_loss: 0.2342 - val_accuracy: 0.9815\n",
      "Epoch 4/10\n",
      "304/304 [==============================] - 1s 5ms/step - loss: 0.4768 - accuracy: 0.8224 - val_loss: 0.2188 - val_accuracy: 0.9815\n",
      "Epoch 5/10\n",
      "304/304 [==============================] - 1s 5ms/step - loss: 0.4405 - accuracy: 0.8421 - val_loss: 0.1890 - val_accuracy: 1.0000\n",
      "Epoch 6/10\n",
      "304/304 [==============================] - 2s 5ms/step - loss: 0.3960 - accuracy: 0.9013 - val_loss: 0.2093 - val_accuracy: 0.9815\n",
      "Epoch 7/10\n",
      "304/304 [==============================] - 1s 5ms/step - loss: 0.3869 - accuracy: 0.8849 - val_loss: 0.1755 - val_accuracy: 1.0000\n",
      "Epoch 8/10\n",
      "304/304 [==============================] - 1s 5ms/step - loss: 0.3697 - accuracy: 0.9013 - val_loss: 0.3386 - val_accuracy: 0.9074\n",
      "Epoch 9/10\n",
      "304/304 [==============================] - 1s 5ms/step - loss: 0.3577 - accuracy: 0.8783 - val_loss: 0.1488 - val_accuracy: 1.0000\n",
      "Epoch 10/10\n",
      "304/304 [==============================] - 1s 5ms/step - loss: 0.3529 - accuracy: 0.9276 - val_loss: 0.1392 - val_accuracy: 1.0000\n"
     ]
    },
    {
     "data": {
      "application/vnd.jupyter.widget-view+json": {
       "model_id": "fa5d31ee7a9840ff99055c8096636cbf",
       "version_major": 2,
       "version_minor": 0
      },
      "text/plain": [
       "Pandas Apply:   0%|          | 0/122 [00:00<?, ?it/s]"
      ]
     },
     "metadata": {},
     "output_type": "display_data"
    },
    {
     "name": "stdout",
     "output_type": "stream",
     "text": [
      "Epoch 1/10\n",
      "294/294 [==============================] - 2s 5ms/step - loss: 0.7965 - accuracy: 0.6156 - val_loss: 0.5122 - val_accuracy: 0.9423\n",
      "Epoch 2/10\n",
      "294/294 [==============================] - 1s 4ms/step - loss: 0.6546 - accuracy: 0.7041 - val_loss: 0.3411 - val_accuracy: 0.9615\n",
      "Epoch 3/10\n",
      "294/294 [==============================] - 1s 4ms/step - loss: 0.5901 - accuracy: 0.7415 - val_loss: 0.2586 - val_accuracy: 0.9808\n",
      "Epoch 4/10\n",
      "294/294 [==============================] - 1s 4ms/step - loss: 0.5445 - accuracy: 0.7619 - val_loss: 0.2808 - val_accuracy: 0.9615\n",
      "Epoch 5/10\n",
      "294/294 [==============================] - 1s 4ms/step - loss: 0.5227 - accuracy: 0.7823 - val_loss: 0.2839 - val_accuracy: 0.9615\n",
      "Epoch 6/10\n",
      "294/294 [==============================] - 1s 5ms/step - loss: 0.5006 - accuracy: 0.8265 - val_loss: 0.2847 - val_accuracy: 0.9423\n",
      "Epoch 7/10\n",
      "294/294 [==============================] - 1s 5ms/step - loss: 0.4531 - accuracy: 0.8639 - val_loss: 0.2034 - val_accuracy: 0.9615\n",
      "Epoch 8/10\n",
      "294/294 [==============================] - 1s 5ms/step - loss: 0.4451 - accuracy: 0.8537 - val_loss: 0.3528 - val_accuracy: 0.9423\n",
      "Epoch 9/10\n",
      "294/294 [==============================] - 1s 5ms/step - loss: 0.4305 - accuracy: 0.8537 - val_loss: 0.2434 - val_accuracy: 0.9423\n",
      "Epoch 10/10\n",
      "294/294 [==============================] - 1s 5ms/step - loss: 0.4002 - accuracy: 0.8673 - val_loss: 0.3385 - val_accuracy: 0.9231\n"
     ]
    },
    {
     "data": {
      "application/vnd.jupyter.widget-view+json": {
       "model_id": "632016d05aa547a9918cea86e3311778",
       "version_major": 2,
       "version_minor": 0
      },
      "text/plain": [
       "Pandas Apply:   0%|          | 0/134 [00:00<?, ?it/s]"
      ]
     },
     "metadata": {},
     "output_type": "display_data"
    },
    {
     "data": {
      "text/plain": [
       "AvgScores(avg_fit_time=14.815510829289755, avg_predict_time=0.09375850359598796, avg_accuracy=0.6851083320829058, avg_dummy=0.6312642475513025)"
      ]
     },
     "execution_count": 18,
     "metadata": {},
     "output_type": "execute_result"
    },
    {
     "name": "stdout",
     "output_type": "stream",
     "text": [
      "time: 4min 20s\n"
     ]
    }
   ],
   "source": [
    "for case in tqdm(all_cases):\n",
    "    if case == \"ternary\":\n",
    "        continue\n",
    "    fit_score_store_keras_MLP(case)"
   ]
  },
  {
   "cell_type": "markdown",
   "metadata": {},
   "source": [
    "Let's peek at the results."
   ]
  },
  {
   "cell_type": "code",
   "execution_count": 19,
   "metadata": {},
   "outputs": [
    {
     "data": {
      "text/plain": [
       "{'positive': {'avg_cv_predict_time': [0.1074203650156657],\n",
       "  'avg_cv_fit_time': [15.122881333033243],\n",
       "  'model_name': ['keras_MLP'],\n",
       "  'vs_dummy': [-0.04819034976372538],\n",
       "  'avg_cv_accuracy': [0.6649273332639403]},\n",
       " 'ternary_ovr': {'avg_cv_predict_time': [0.2798042297363281],\n",
       "  'avg_cv_fit_time': [41.49389974276225],\n",
       "  'model_name': ['keras_MLP'],\n",
       "  'vs_dummy': [0.0959792109103969],\n",
       "  'avg_cv_accuracy': [0.50451595838397]},\n",
       " 'negative': {'avg_cv_predict_time': [0.07811649640401204],\n",
       "  'avg_cv_fit_time': [14.495652278264364],\n",
       "  'model_name': ['keras_MLP'],\n",
       "  'vs_dummy': [0.048539342955542075],\n",
       "  'avg_cv_accuracy': [0.7041574123765738]},\n",
       " 'neutral': {'avg_cv_predict_time': [0.09375850359598796],\n",
       "  'avg_cv_fit_time': [14.815510829289755],\n",
       "  'model_name': ['keras_MLP'],\n",
       "  'vs_dummy': [0.053844084531603276],\n",
       "  'avg_cv_accuracy': [0.6851083320829058]},\n",
       " 'ternary': {'avg_cv_predict_time': [0.13208564122517905],\n",
       "  'avg_cv_fit_time': [13.786349614461264],\n",
       "  'model_name': ['keras_MLP'],\n",
       "  'vs_dummy': [0.109307641666678],\n",
       "  'avg_cv_accuracy': [0.5178443891402511]}}"
      ]
     },
     "execution_count": 19,
     "metadata": {},
     "output_type": "execute_result"
    },
    {
     "name": "stdout",
     "output_type": "stream",
     "text": [
      "time: 0 ns\n"
     ]
    }
   ],
   "source": [
    "results"
   ]
  },
  {
   "cell_type": "markdown",
   "metadata": {},
   "source": [
    "### Test harness\n",
    "\n",
    "This section defines some helper functions for trying out each model.\n",
    "\n",
    "The next cell defines a function for making 3-fold train-validation splits without speaker leakage. Speakers are randomly sampled in a 1:3::test:train ratio with replacement for each fold."
   ]
  },
  {
   "cell_type": "code",
   "execution_count": 20,
   "metadata": {},
   "outputs": [
    {
     "name": "stdout",
     "output_type": "stream",
     "text": [
      "time: 15.6 ms\n"
     ]
    }
   ],
   "source": [
    "# copied from above for reference\n",
    "# Split = namedtuple(\"Split\", (\"X_test\", \"y_test\", \"X_train\", \"y_train\" \"dummy_test\"))\n",
    "def make_splits(case: str, num_splits: int = 3) -> List[Split]:\n",
    "    \"\"\"Given a classification scenario, provide train-test splits sampled with replacement for cross validation without speaker leakage.\"\"\"\n",
    "    splits = []\n",
    "    for i in range(num_splits):\n",
    "        # criterion for split\n",
    "        criterion = df.speaker_id.isin(\n",
    "            pd.DataFrame(np.unique(df.speaker_id))\n",
    "            .sample(frac=0.25, random_state=SEED + i)[0]\n",
    "            .values\n",
    "        )\n",
    "\n",
    "        # prepare X_test and y_test\n",
    "        X_test = np.stack((test := df.loc[criterion]).frill)\n",
    "        y_test = (\n",
    "            np.int8(test.valence)\n",
    "            if (multiclass := \"ternary\" in case)\n",
    "            else test[case[:3]]\n",
    "        )\n",
    "\n",
    "        # prepare X_train and y_train\n",
    "        X_train = np.stack((train := df.loc[~criterion]).frill)\n",
    "        y_train = np.int8(train.valence) if multiclass else train[case[:3]]\n",
    "\n",
    "        # non-negative labels\n",
    "        if case == \"ternary\":\n",
    "            y_test += 1\n",
    "            y_train += 1\n",
    "\n",
    "        # the dummy score is calculated from y_test\n",
    "        dummy = pd.Series(y_test).value_counts().values[0] / len(y_test)\n",
    "        if not multiclass and dummy < 0.5:\n",
    "            dummy = 1 - dummy\n",
    "\n",
    "        splits.append(\n",
    "            Split(\n",
    "                X_test=X_test,\n",
    "                y_test=y_test,\n",
    "                X_train=X_train,\n",
    "                y_train=y_train,\n",
    "                dummy_test=dummy,\n",
    "            )\n",
    "        )\n",
    "    return splits"
   ]
  },
  {
   "cell_type": "markdown",
   "metadata": {},
   "source": [
    "The next two cells define functions for fitting and scoring a model."
   ]
  },
  {
   "cell_type": "code",
   "execution_count": 21,
   "metadata": {},
   "outputs": [
    {
     "name": "stdout",
     "output_type": "stream",
     "text": [
      "time: 15.6 ms\n"
     ]
    }
   ],
   "source": [
    "def fit_and_score_ovr(model_base: Callable) -> AvgScores:\n",
    "    \"\"\"Calculates 3-fold times and scores for ternary one-vs-rest ensemble.\"\"\"\n",
    "\n",
    "    cases = (\"neg\", \"neu\", \"pos\")  # match sort order of -1, 0, 1\n",
    "    interim_results = {\n",
    "        case: dict.fromkeys((\"cv_fit_times\", \"cv_predict_times\"), []) for case in cases\n",
    "    }\n",
    "    predicted_probabilities = {fold: {k: None for k in cases} for fold in range(3)}\n",
    "\n",
    "    # train three binary classifiers\n",
    "    for case in (\"negative\", \"neutral\", \"positive\"):\n",
    "        fit_times, predict_times = [], []\n",
    "        fold = 0\n",
    "        for split in make_splits(case=case):\n",
    "            # define model\n",
    "            model = model_base()\n",
    "\n",
    "            # fit\n",
    "            begin = time()\n",
    "            model.fit(split.X_train, split.y_train)\n",
    "            end = time()\n",
    "            fit_times.append(end - begin)\n",
    "\n",
    "            # predict\n",
    "            begin = time()\n",
    "            predicted = model.predict_proba(split.X_test)\n",
    "            end = time()\n",
    "            predict_times.append(end - begin)\n",
    "            predicted_probabilities[fold][case[:3]] = predicted[:, 1]\n",
    "            fold += 1\n",
    "\n",
    "        result = interim_results[case[:3]]\n",
    "        result[\"cv_fit_times\"] = np.mean(fit_times)\n",
    "        result[\"cv_predict_times\"] = np.mean(predict_times)\n",
    "\n",
    "    # aggregate predicted probabilities and argmax (ensemble) them by fold\n",
    "    fold_predictions = [\n",
    "        pd.DataFrame(predicted_probabilities[fold])\n",
    "        .swifter.apply(lambda _: np.argmax([_]) - 1, axis=1)\n",
    "        .values\n",
    "        for fold in sorted(predicted_probabilities.keys())\n",
    "    ]\n",
    "\n",
    "    # score\n",
    "    ternary_splits = make_splits(case=\"ternary_ovr\")\n",
    "    accuracy_scores = [\n",
    "        accuracy_score(y_true=true, y_pred=pred)\n",
    "        for true, pred in zip(\n",
    "            [split.y_test for split in ternary_splits], fold_predictions\n",
    "        )\n",
    "    ]\n",
    "\n",
    "    sum_time: float = lambda fitpredict: sum(\n",
    "        [interim_results[case][fitpredict] for case in cases]\n",
    "    )\n",
    "\n",
    "    return AvgScores(\n",
    "        avg_fit_time=sum_time(\"cv_fit_times\"),\n",
    "        avg_predict_time=sum_time(\"cv_predict_times\"),\n",
    "        avg_accuracy=np.mean(accuracy_scores),\n",
    "        avg_dummy=np.mean([split.dummy_test for split in ternary_splits]),\n",
    "    )"
   ]
  },
  {
   "cell_type": "code",
   "execution_count": 22,
   "metadata": {},
   "outputs": [
    {
     "name": "stdout",
     "output_type": "stream",
     "text": [
      "time: 0 ns\n"
     ]
    }
   ],
   "source": [
    "def fit_and_score(model_base: Callable, case: str) -> AvgScores:\n",
    "    \"\"\"Calculates 3-fold times and scores for ternary and binary cases.\"\"\"\n",
    "\n",
    "    if case == \"ternary_ovr\":\n",
    "        return fit_and_score_ovr(model_base)\n",
    "\n",
    "    fit_times, predict_times, scores, dummies = [], [], [], []\n",
    "    for split in make_splits(case):\n",
    "        # define model\n",
    "        model = model_base()\n",
    "\n",
    "        # fit\n",
    "        begin = time()\n",
    "        model.fit(split.X_train, split.y_train)\n",
    "        end = time()\n",
    "        fit_times.append(end - begin)\n",
    "\n",
    "        # predict\n",
    "        begin = time()\n",
    "        predicted = model.predict(split.X_test)\n",
    "        end = time()\n",
    "        predict_times.append(end - begin)\n",
    "\n",
    "        # score\n",
    "        scores.append(accuracy_score(y_true=split.y_test, y_pred=predicted))\n",
    "        dummies.append(split.dummy_test)\n",
    "\n",
    "    return AvgScores(*[np.mean(_) for _ in (fit_times, predict_times, scores, dummies)])"
   ]
  },
  {
   "cell_type": "markdown",
   "metadata": {},
   "source": [
    "### Classifiers from sklearn\n",
    "\n",
    "Thanks to FRILL, we may now use the gamut of classifiers provided by `sklearn`.\n",
    "\n",
    "### sklearn models\n",
    "\n",
    "The next cell defines a dictionary for keeping track of `sklearn` classifiers.\n",
    "\n",
    "For the most part, I am using the default settings of each classifier. I set the seed where I can and leverage all avilable cores where possible. Each classifier is wrapped in a lambda function to ensure a brand new model is initialized each time the function is called.\n",
    "\n",
    "Some of the models tested in this notebook automatically implement one-vs-rest classification for multiclass classification. In those cases, we would expect the ternary and one-vs-rest reports to be similar."
   ]
  },
  {
   "cell_type": "code",
   "execution_count": 23,
   "metadata": {},
   "outputs": [
    {
     "name": "stdout",
     "output_type": "stream",
     "text": [
      "time: 0 ns\n"
     ]
    }
   ],
   "source": [
    "sklearn_models = {\n",
    "    \"AdaBoostClassifier\": lambda: AdaBoostClassifier(random_state=SEED),\n",
    "    \"GaussianNB\": lambda: GaussianNB(),\n",
    "    \"GaussianProcessClassifier\": lambda: GaussianProcessClassifier(\n",
    "        random_state=SEED, n_jobs=-1\n",
    "    ),  # one-vs-rest for multiclass under the hood\n",
    "    \"LogisticRegression\": lambda: LogisticRegression(random_state=SEED, n_jobs=-1),\n",
    "    \"MLPClassifier\": lambda: MLPClassifier(random_state=SEED),\n",
    "    \"QuadraticDiscriminantAnalysis\": lambda: QuadraticDiscriminantAnalysis(),\n",
    "    \"RandomForestClassifier\": lambda: RandomForestClassifier(\n",
    "        n_jobs=-1, random_state=SEED\n",
    "    ),\n",
    "    \"SVC\": lambda: SVC(\n",
    "        random_state=SEED, probability=True\n",
    "    ),  # one-vs-rest for multiclass under the hood\n",
    "}"
   ]
  },
  {
   "cell_type": "markdown",
   "metadata": {},
   "source": [
    "### sklearn results collection"
   ]
  },
  {
   "cell_type": "code",
   "execution_count": 24,
   "metadata": {},
   "outputs": [
    {
     "data": {
      "application/vnd.jupyter.widget-view+json": {
       "model_id": "4c87f114e38140ad82a0dcafc68cff15",
       "version_major": 2,
       "version_minor": 0
      },
      "text/plain": [
       "  0%|          | 0/5 [00:00<?, ?it/s]"
      ]
     },
     "metadata": {},
     "output_type": "display_data"
    },
    {
     "data": {
      "application/vnd.jupyter.widget-view+json": {
       "model_id": "2bfa3146b2a049de9be872a448dfc053",
       "version_major": 2,
       "version_minor": 0
      },
      "text/plain": [
       "  0%|          | 0/8 [00:00<?, ?it/s]"
      ]
     },
     "metadata": {},
     "output_type": "display_data"
    },
    {
     "data": {
      "application/vnd.jupyter.widget-view+json": {
       "model_id": "4d62c643535f410eafc5ea1077a96152",
       "version_major": 2,
       "version_minor": 0
      },
      "text/plain": [
       "  0%|          | 0/8 [00:00<?, ?it/s]"
      ]
     },
     "metadata": {},
     "output_type": "display_data"
    },
    {
     "data": {
      "application/vnd.jupyter.widget-view+json": {
       "model_id": "7c33caa566594364a9286c17503d2000",
       "version_major": 2,
       "version_minor": 0
      },
      "text/plain": [
       "Pandas Apply:   0%|          | 0/181 [00:00<?, ?it/s]"
      ]
     },
     "metadata": {},
     "output_type": "display_data"
    },
    {
     "data": {
      "application/vnd.jupyter.widget-view+json": {
       "model_id": "96f150fb175946dca58c982559ef7e26",
       "version_major": 2,
       "version_minor": 0
      },
      "text/plain": [
       "Pandas Apply:   0%|          | 0/122 [00:00<?, ?it/s]"
      ]
     },
     "metadata": {},
     "output_type": "display_data"
    },
    {
     "data": {
      "application/vnd.jupyter.widget-view+json": {
       "model_id": "53b7ed44fecd4c9c863001584b9d51e8",
       "version_major": 2,
       "version_minor": 0
      },
      "text/plain": [
       "Pandas Apply:   0%|          | 0/134 [00:00<?, ?it/s]"
      ]
     },
     "metadata": {},
     "output_type": "display_data"
    },
    {
     "data": {
      "application/vnd.jupyter.widget-view+json": {
       "model_id": "908c932b386243f58508f4cfdeea46e4",
       "version_major": 2,
       "version_minor": 0
      },
      "text/plain": [
       "Pandas Apply:   0%|          | 0/181 [00:00<?, ?it/s]"
      ]
     },
     "metadata": {},
     "output_type": "display_data"
    },
    {
     "data": {
      "application/vnd.jupyter.widget-view+json": {
       "model_id": "ed18e1e1bf5d489e893481171e63ea31",
       "version_major": 2,
       "version_minor": 0
      },
      "text/plain": [
       "Pandas Apply:   0%|          | 0/122 [00:00<?, ?it/s]"
      ]
     },
     "metadata": {},
     "output_type": "display_data"
    },
    {
     "data": {
      "application/vnd.jupyter.widget-view+json": {
       "model_id": "b2a61b65061c49768e0f16d95823c1aa",
       "version_major": 2,
       "version_minor": 0
      },
      "text/plain": [
       "Pandas Apply:   0%|          | 0/134 [00:00<?, ?it/s]"
      ]
     },
     "metadata": {},
     "output_type": "display_data"
    },
    {
     "data": {
      "application/vnd.jupyter.widget-view+json": {
       "model_id": "89316a1ff14f480791bd971031efd039",
       "version_major": 2,
       "version_minor": 0
      },
      "text/plain": [
       "Pandas Apply:   0%|          | 0/181 [00:00<?, ?it/s]"
      ]
     },
     "metadata": {},
     "output_type": "display_data"
    },
    {
     "data": {
      "application/vnd.jupyter.widget-view+json": {
       "model_id": "411c29e20565406e9e522ebf9481e277",
       "version_major": 2,
       "version_minor": 0
      },
      "text/plain": [
       "Pandas Apply:   0%|          | 0/122 [00:00<?, ?it/s]"
      ]
     },
     "metadata": {},
     "output_type": "display_data"
    },
    {
     "data": {
      "application/vnd.jupyter.widget-view+json": {
       "model_id": "c15c8313d0f0491f8b2726d4259a6ea1",
       "version_major": 2,
       "version_minor": 0
      },
      "text/plain": [
       "Pandas Apply:   0%|          | 0/134 [00:00<?, ?it/s]"
      ]
     },
     "metadata": {},
     "output_type": "display_data"
    },
    {
     "data": {
      "application/vnd.jupyter.widget-view+json": {
       "model_id": "e6ce7957c2cf4225a14b24b92cef86f5",
       "version_major": 2,
       "version_minor": 0
      },
      "text/plain": [
       "Pandas Apply:   0%|          | 0/181 [00:00<?, ?it/s]"
      ]
     },
     "metadata": {},
     "output_type": "display_data"
    },
    {
     "data": {
      "application/vnd.jupyter.widget-view+json": {
       "model_id": "c58b14c2c6dd4d9ba1ae8d9545aa378e",
       "version_major": 2,
       "version_minor": 0
      },
      "text/plain": [
       "Pandas Apply:   0%|          | 0/122 [00:00<?, ?it/s]"
      ]
     },
     "metadata": {},
     "output_type": "display_data"
    },
    {
     "data": {
      "application/vnd.jupyter.widget-view+json": {
       "model_id": "7c06532ae0fb4f72af574e8992428596",
       "version_major": 2,
       "version_minor": 0
      },
      "text/plain": [
       "Pandas Apply:   0%|          | 0/134 [00:00<?, ?it/s]"
      ]
     },
     "metadata": {},
     "output_type": "display_data"
    },
    {
     "data": {
      "application/vnd.jupyter.widget-view+json": {
       "model_id": "2caafdd744ac41b7b31fe1cd6f4a8650",
       "version_major": 2,
       "version_minor": 0
      },
      "text/plain": [
       "Pandas Apply:   0%|          | 0/181 [00:00<?, ?it/s]"
      ]
     },
     "metadata": {},
     "output_type": "display_data"
    },
    {
     "data": {
      "application/vnd.jupyter.widget-view+json": {
       "model_id": "86e914487f5649869a7410242635e878",
       "version_major": 2,
       "version_minor": 0
      },
      "text/plain": [
       "Pandas Apply:   0%|          | 0/122 [00:00<?, ?it/s]"
      ]
     },
     "metadata": {},
     "output_type": "display_data"
    },
    {
     "data": {
      "application/vnd.jupyter.widget-view+json": {
       "model_id": "e0ac5e96e6d441d78bdc7e41f530ce28",
       "version_major": 2,
       "version_minor": 0
      },
      "text/plain": [
       "Pandas Apply:   0%|          | 0/134 [00:00<?, ?it/s]"
      ]
     },
     "metadata": {},
     "output_type": "display_data"
    },
    {
     "data": {
      "application/vnd.jupyter.widget-view+json": {
       "model_id": "0a657ba865994c058cf978b5f06e685a",
       "version_major": 2,
       "version_minor": 0
      },
      "text/plain": [
       "Pandas Apply:   0%|          | 0/181 [00:00<?, ?it/s]"
      ]
     },
     "metadata": {},
     "output_type": "display_data"
    },
    {
     "data": {
      "application/vnd.jupyter.widget-view+json": {
       "model_id": "1b06432c95f54f9783b7190b29c92aa5",
       "version_major": 2,
       "version_minor": 0
      },
      "text/plain": [
       "Pandas Apply:   0%|          | 0/122 [00:00<?, ?it/s]"
      ]
     },
     "metadata": {},
     "output_type": "display_data"
    },
    {
     "data": {
      "application/vnd.jupyter.widget-view+json": {
       "model_id": "7b7b4e06cd1544369bf2eac206488624",
       "version_major": 2,
       "version_minor": 0
      },
      "text/plain": [
       "Pandas Apply:   0%|          | 0/134 [00:00<?, ?it/s]"
      ]
     },
     "metadata": {},
     "output_type": "display_data"
    },
    {
     "data": {
      "application/vnd.jupyter.widget-view+json": {
       "model_id": "aa3a22967c76494f9ce01fb6156647c1",
       "version_major": 2,
       "version_minor": 0
      },
      "text/plain": [
       "Pandas Apply:   0%|          | 0/181 [00:00<?, ?it/s]"
      ]
     },
     "metadata": {},
     "output_type": "display_data"
    },
    {
     "data": {
      "application/vnd.jupyter.widget-view+json": {
       "model_id": "cd7851d815e04965bfd3ef4ff71eee15",
       "version_major": 2,
       "version_minor": 0
      },
      "text/plain": [
       "Pandas Apply:   0%|          | 0/122 [00:00<?, ?it/s]"
      ]
     },
     "metadata": {},
     "output_type": "display_data"
    },
    {
     "data": {
      "application/vnd.jupyter.widget-view+json": {
       "model_id": "3e80e89f280743f3ad778b7ea8cefca7",
       "version_major": 2,
       "version_minor": 0
      },
      "text/plain": [
       "Pandas Apply:   0%|          | 0/134 [00:00<?, ?it/s]"
      ]
     },
     "metadata": {},
     "output_type": "display_data"
    },
    {
     "data": {
      "application/vnd.jupyter.widget-view+json": {
       "model_id": "0ee5216c39f44391a0a67f5084c8b23e",
       "version_major": 2,
       "version_minor": 0
      },
      "text/plain": [
       "Pandas Apply:   0%|          | 0/181 [00:00<?, ?it/s]"
      ]
     },
     "metadata": {},
     "output_type": "display_data"
    },
    {
     "data": {
      "application/vnd.jupyter.widget-view+json": {
       "model_id": "9b1eea8975b947dbafe3347f0f3c9bc6",
       "version_major": 2,
       "version_minor": 0
      },
      "text/plain": [
       "Pandas Apply:   0%|          | 0/122 [00:00<?, ?it/s]"
      ]
     },
     "metadata": {},
     "output_type": "display_data"
    },
    {
     "data": {
      "application/vnd.jupyter.widget-view+json": {
       "model_id": "42d23f388c76432d84185176729aebba",
       "version_major": 2,
       "version_minor": 0
      },
      "text/plain": [
       "Pandas Apply:   0%|          | 0/134 [00:00<?, ?it/s]"
      ]
     },
     "metadata": {},
     "output_type": "display_data"
    },
    {
     "data": {
      "application/vnd.jupyter.widget-view+json": {
       "model_id": "36638e4ebe514e39b916307ee77222ab",
       "version_major": 2,
       "version_minor": 0
      },
      "text/plain": [
       "  0%|          | 0/8 [00:00<?, ?it/s]"
      ]
     },
     "metadata": {},
     "output_type": "display_data"
    },
    {
     "data": {
      "application/vnd.jupyter.widget-view+json": {
       "model_id": "af09c8ce80974c7996e2e38a312e1d89",
       "version_major": 2,
       "version_minor": 0
      },
      "text/plain": [
       "  0%|          | 0/8 [00:00<?, ?it/s]"
      ]
     },
     "metadata": {},
     "output_type": "display_data"
    },
    {
     "data": {
      "application/vnd.jupyter.widget-view+json": {
       "model_id": "cac1b4b29b9e4e7bb37ed4722307761d",
       "version_major": 2,
       "version_minor": 0
      },
      "text/plain": [
       "  0%|          | 0/8 [00:00<?, ?it/s]"
      ]
     },
     "metadata": {},
     "output_type": "display_data"
    },
    {
     "name": "stdout",
     "output_type": "stream",
     "text": [
      "time: 3min 41s\n"
     ]
    }
   ],
   "source": [
    "for case in tqdm(all_cases):\n",
    "    for model in tqdm(sklearn_models):\n",
    "        store_result(\n",
    "            case=case,\n",
    "            model_name=model,\n",
    "            avg_scores=fit_and_score(sklearn_models[model], case),\n",
    "        )"
   ]
  },
  {
   "cell_type": "markdown",
   "metadata": {},
   "source": [
    "## Other boosting ensembles\n",
    "\n",
    "We may evaluate boosting ensembles outside of `sklearn` with the same test harness since they implement the ubiquitous `.fit` and `.predict` methods of the `sklearn` application programming interface (API). The selected classifiers implement the `.predict_proba` method as well, enabling ternary one-vs-rest classification.\n",
    "\n",
    "Two boosting ensemble classifiers outside of `sklearn` were chosen: Light Gradient Boosting Machine (LightGBM), and Extreme Gradient Boosting (XGBoost).\n",
    "\n",
    "XGBoost requires non-negative integer labels, so we will use the `non_negative_labels` boolean parameter in the test harness. (This is a good opportunity to implement a Factory Method design pattern when I refactor.)\n",
    "\n",
    "I had considered CatBoost as well, but its inclusion slowed down the test harness drastically in stark disproportion to the fit and predict times of the other algorithms."
   ]
  },
  {
   "cell_type": "markdown",
   "metadata": {},
   "source": [
    "### Non-sklearn models\n",
    "\n",
    "The next cell defines a Python dictionary to track the non-sklearn models."
   ]
  },
  {
   "cell_type": "code",
   "execution_count": 25,
   "metadata": {},
   "outputs": [
    {
     "name": "stdout",
     "output_type": "stream",
     "text": [
      "time: 0 ns\n"
     ]
    }
   ],
   "source": [
    "non_sklearn_models = {\n",
    "    # \"CatBoostClassifier\": lambda: CatBoostClassifier(\n",
    "    #     random_seed=SEED, verbose=100, thread_count=-1\n",
    "    # ),\n",
    "    \"LGBMClassifier\": lambda: LGBMClassifier(\n",
    "        boosting_type=\"rf\",\n",
    "        random_state=SEED,\n",
    "        n_jobs=-1,\n",
    "        subsample=0.75,\n",
    "        subsample_freq=1,\n",
    "    ),\n",
    "    \"XGBClassifier\": lambda: XGBClassifier(\n",
    "        eval_metric=\"mlogloss\", seed=SEED, use_label_encoder=False\n",
    "    ),\n",
    "}"
   ]
  },
  {
   "cell_type": "markdown",
   "metadata": {},
   "source": [
    "### Non-sklearn results collection"
   ]
  },
  {
   "cell_type": "code",
   "execution_count": 26,
   "metadata": {},
   "outputs": [
    {
     "data": {
      "application/vnd.jupyter.widget-view+json": {
       "model_id": "4ab3af31de1c4c1591333338088331fa",
       "version_major": 2,
       "version_minor": 0
      },
      "text/plain": [
       "  0%|          | 0/5 [00:00<?, ?it/s]"
      ]
     },
     "metadata": {},
     "output_type": "display_data"
    },
    {
     "data": {
      "application/vnd.jupyter.widget-view+json": {
       "model_id": "0482fe5785324dd48451a3c3356e3907",
       "version_major": 2,
       "version_minor": 0
      },
      "text/plain": [
       "  0%|          | 0/2 [00:00<?, ?it/s]"
      ]
     },
     "metadata": {},
     "output_type": "display_data"
    },
    {
     "data": {
      "application/vnd.jupyter.widget-view+json": {
       "model_id": "e9d33eafc4624e10a6f647fa494982c7",
       "version_major": 2,
       "version_minor": 0
      },
      "text/plain": [
       "  0%|          | 0/2 [00:00<?, ?it/s]"
      ]
     },
     "metadata": {},
     "output_type": "display_data"
    },
    {
     "data": {
      "application/vnd.jupyter.widget-view+json": {
       "model_id": "5f34a469abb94771ac0ab415c0653afb",
       "version_major": 2,
       "version_minor": 0
      },
      "text/plain": [
       "Pandas Apply:   0%|          | 0/181 [00:00<?, ?it/s]"
      ]
     },
     "metadata": {},
     "output_type": "display_data"
    },
    {
     "data": {
      "application/vnd.jupyter.widget-view+json": {
       "model_id": "c2c289b09daf458a83353967e1c70dd9",
       "version_major": 2,
       "version_minor": 0
      },
      "text/plain": [
       "Pandas Apply:   0%|          | 0/122 [00:00<?, ?it/s]"
      ]
     },
     "metadata": {},
     "output_type": "display_data"
    },
    {
     "data": {
      "application/vnd.jupyter.widget-view+json": {
       "model_id": "a6934af7331c4b8c997e64e8c3c7ea5f",
       "version_major": 2,
       "version_minor": 0
      },
      "text/plain": [
       "Pandas Apply:   0%|          | 0/134 [00:00<?, ?it/s]"
      ]
     },
     "metadata": {},
     "output_type": "display_data"
    },
    {
     "data": {
      "application/vnd.jupyter.widget-view+json": {
       "model_id": "a7ccdb71592a4d5595f2be21e291540f",
       "version_major": 2,
       "version_minor": 0
      },
      "text/plain": [
       "Pandas Apply:   0%|          | 0/181 [00:00<?, ?it/s]"
      ]
     },
     "metadata": {},
     "output_type": "display_data"
    },
    {
     "data": {
      "application/vnd.jupyter.widget-view+json": {
       "model_id": "403ac2045998417a98bed91443d7793b",
       "version_major": 2,
       "version_minor": 0
      },
      "text/plain": [
       "Pandas Apply:   0%|          | 0/122 [00:00<?, ?it/s]"
      ]
     },
     "metadata": {},
     "output_type": "display_data"
    },
    {
     "data": {
      "application/vnd.jupyter.widget-view+json": {
       "model_id": "f536203d2b1145d484abd9568a2e2da1",
       "version_major": 2,
       "version_minor": 0
      },
      "text/plain": [
       "Pandas Apply:   0%|          | 0/134 [00:00<?, ?it/s]"
      ]
     },
     "metadata": {},
     "output_type": "display_data"
    },
    {
     "data": {
      "application/vnd.jupyter.widget-view+json": {
       "model_id": "ac87746813fa46b3911bf84373c8deed",
       "version_major": 2,
       "version_minor": 0
      },
      "text/plain": [
       "  0%|          | 0/2 [00:00<?, ?it/s]"
      ]
     },
     "metadata": {},
     "output_type": "display_data"
    },
    {
     "data": {
      "application/vnd.jupyter.widget-view+json": {
       "model_id": "17372de577254a6494185c753b06285f",
       "version_major": 2,
       "version_minor": 0
      },
      "text/plain": [
       "  0%|          | 0/2 [00:00<?, ?it/s]"
      ]
     },
     "metadata": {},
     "output_type": "display_data"
    },
    {
     "data": {
      "application/vnd.jupyter.widget-view+json": {
       "model_id": "e027f4d91d89419f8117b79fae7c33f8",
       "version_major": 2,
       "version_minor": 0
      },
      "text/plain": [
       "  0%|          | 0/2 [00:00<?, ?it/s]"
      ]
     },
     "metadata": {},
     "output_type": "display_data"
    },
    {
     "name": "stdout",
     "output_type": "stream",
     "text": [
      "time: 1min 12s\n"
     ]
    }
   ],
   "source": [
    "for case in tqdm(all_cases):\n",
    "    for model in tqdm(non_sklearn_models):\n",
    "        store_result(\n",
    "            case=case,\n",
    "            model_name=model,\n",
    "            avg_scores=fit_and_score(non_sklearn_models[model], case),\n",
    "        )"
   ]
  },
  {
   "cell_type": "markdown",
   "metadata": {},
   "source": [
    "### Stacked classifier\n",
    "\n",
    "Let's give a stacked ensemble a try. If it performs well, its feature importances could be illuminating."
   ]
  },
  {
   "cell_type": "code",
   "execution_count": 27,
   "metadata": {},
   "outputs": [
    {
     "name": "stdout",
     "output_type": "stream",
     "text": [
      "time: 0 ns\n"
     ]
    }
   ],
   "source": [
    "models = {**sklearn_models, **non_sklearn_models}\n",
    "make_StackingClassifier = lambda: StackingClassifier(\n",
    "    estimators=[(model, models[model]()) for model in models],\n",
    "    final_estimator=LogisticRegression(random_state=SEED, n_jobs=-1),\n",
    "    n_jobs=-1,\n",
    ")"
   ]
  },
  {
   "cell_type": "code",
   "execution_count": 28,
   "metadata": {},
   "outputs": [
    {
     "name": "stdout",
     "output_type": "stream",
     "text": [
      "time: 5 ms\n"
     ]
    }
   ],
   "source": [
    "def fit_and_score_ovr_stack() -> AvgScores:\n",
    "    \"\"\"Calculates 3-fold times and scores for ternary one-vs-rest ensemble from three stacked classifiers.\"\"\"\n",
    "\n",
    "    cases = (\"neg\", \"neu\", \"pos\")  # match sort order of -1, 0, 1\n",
    "    interim_results = {\n",
    "        case: dict.fromkeys((\"cv_fit_times\", \"cv_predict_times\"), []) for case in cases\n",
    "    }\n",
    "    predicted_probabilities = {fold: {k: None for k in cases} for fold in range(3)}\n",
    "\n",
    "    # train three binary classifiers\n",
    "    for case in (\"negative\", \"neutral\", \"positive\"):\n",
    "        fit_times, predict_times = [], []\n",
    "        fold = 0\n",
    "        for split in make_splits(case=case):\n",
    "            # define model\n",
    "            model = make_StackingClassifier()\n",
    "\n",
    "            # fit\n",
    "            begin = time()\n",
    "            model.fit(split.X_train, split.y_train)\n",
    "            end = time()\n",
    "            fit_times.append(end - begin)\n",
    "\n",
    "            # predict\n",
    "            begin = time()\n",
    "            predicted = model.predict_proba(split.X_test)\n",
    "            end = time()\n",
    "            predict_times.append(end - begin)\n",
    "            predicted_probabilities[fold][case[:3]] = predicted[:, 1]\n",
    "            fold += 1\n",
    "\n",
    "        result = interim_results[case[:3]]\n",
    "        result[\"cv_fit_times\"] = np.mean(fit_times)\n",
    "        result[\"cv_predict_times\"] = np.mean(predict_times)\n",
    "\n",
    "    # aggregate predicted probabilities and argmax (ensemble) them by fold\n",
    "    fold_predictions = [\n",
    "        pd.DataFrame(predicted_probabilities[fold])\n",
    "        .swifter.apply(lambda _: np.argmax([_]) - 1, axis=1)\n",
    "        .values\n",
    "        for fold in sorted(predicted_probabilities.keys())\n",
    "    ]\n",
    "\n",
    "    # score\n",
    "    ternary_splits = make_splits(case=\"ternary_ovr\")\n",
    "    accuracy_scores = [\n",
    "        accuracy_score(y_true=true, y_pred=pred)\n",
    "        for true, pred in zip(\n",
    "            [split.y_test for split in ternary_splits], fold_predictions\n",
    "        )\n",
    "    ]\n",
    "\n",
    "    sum_time: float = lambda fitpredict: sum(\n",
    "        [interim_results[case][fitpredict] for case in cases]\n",
    "    )\n",
    "\n",
    "    return AvgScores(\n",
    "        avg_fit_time=sum_time(\"cv_fit_times\"),\n",
    "        avg_predict_time=sum_time(\"cv_predict_times\"),\n",
    "        avg_accuracy=np.mean(accuracy_scores),\n",
    "        avg_dummy=np.mean([split.dummy_test for split in ternary_splits]),\n",
    "    )"
   ]
  },
  {
   "cell_type": "code",
   "execution_count": 29,
   "metadata": {},
   "outputs": [
    {
     "name": "stdout",
     "output_type": "stream",
     "text": [
      "time: 0 ns\n"
     ]
    }
   ],
   "source": [
    "def fit_and_score_stack(case: str) -> AvgScores:\n",
    "    \"\"\"Calculates 3-fold times and scores for ternary and binary cases with the stacked ensemble.\"\"\"\n",
    "\n",
    "    if case == \"ternary_ovr\":\n",
    "        return fit_and_score_ovr_stack()\n",
    "\n",
    "    fit_times, predict_times, scores, dummies = [], [], [], []\n",
    "    for split in make_splits(case):\n",
    "        # define model\n",
    "        model = make_StackingClassifier()\n",
    "\n",
    "        # fit\n",
    "        begin = time()\n",
    "        model.fit(split.X_train, split.y_train)\n",
    "        end = time()\n",
    "        fit_times.append(end - begin)\n",
    "\n",
    "        # predict\n",
    "        begin = time()\n",
    "        predicted = model.predict(split.X_test)\n",
    "        end = time()\n",
    "        predict_times.append(end - begin)\n",
    "\n",
    "        # score\n",
    "        scores.append(accuracy_score(y_true=split.y_test, y_pred=predicted))\n",
    "        dummies.append(split.dummy_test)\n",
    "\n",
    "    return AvgScores(*[np.mean(_) for _ in (fit_times, predict_times, scores, dummies)])"
   ]
  },
  {
   "cell_type": "code",
   "execution_count": 30,
   "metadata": {},
   "outputs": [
    {
     "data": {
      "application/vnd.jupyter.widget-view+json": {
       "model_id": "a672c69b6b71461bad73ed9c716c2fdf",
       "version_major": 2,
       "version_minor": 0
      },
      "text/plain": [
       "  0%|          | 0/5 [00:00<?, ?it/s]"
      ]
     },
     "metadata": {},
     "output_type": "display_data"
    },
    {
     "data": {
      "application/vnd.jupyter.widget-view+json": {
       "model_id": "0ce1776baf494c82bebd26a4f983f524",
       "version_major": 2,
       "version_minor": 0
      },
      "text/plain": [
       "Pandas Apply:   0%|          | 0/181 [00:00<?, ?it/s]"
      ]
     },
     "metadata": {},
     "output_type": "display_data"
    },
    {
     "data": {
      "application/vnd.jupyter.widget-view+json": {
       "model_id": "272fb67ababf443a871cea8edc1497c2",
       "version_major": 2,
       "version_minor": 0
      },
      "text/plain": [
       "Pandas Apply:   0%|          | 0/122 [00:00<?, ?it/s]"
      ]
     },
     "metadata": {},
     "output_type": "display_data"
    },
    {
     "data": {
      "application/vnd.jupyter.widget-view+json": {
       "model_id": "fe2efdb754a842e68173df2b0dcbe7a0",
       "version_major": 2,
       "version_minor": 0
      },
      "text/plain": [
       "Pandas Apply:   0%|          | 0/134 [00:00<?, ?it/s]"
      ]
     },
     "metadata": {},
     "output_type": "display_data"
    },
    {
     "name": "stdout",
     "output_type": "stream",
     "text": [
      "time: 8min 49s\n"
     ]
    }
   ],
   "source": [
    "for case in tqdm(all_cases):\n",
    "    store_result(\n",
    "        case=case,\n",
    "        model_name=\"StackingClassifier\",\n",
    "        avg_scores=fit_and_score_stack(case),\n",
    "    )"
   ]
  },
  {
   "cell_type": "markdown",
   "metadata": {},
   "source": [
    "#### Feature importance\n",
    "\n",
    "The default final estimator of `StackingClassifier` is `LogisticRegession` and the coefficients for each consituent estimator may serve as proxy estimates for their importances. Rather than recording coefficients at each fold, we can just fit the stacking classifier on the whole dataset."
   ]
  },
  {
   "cell_type": "code",
   "execution_count": 31,
   "metadata": {},
   "outputs": [
    {
     "name": "stdout",
     "output_type": "stream",
     "text": [
      "time: 0 ns\n"
     ]
    }
   ],
   "source": [
    "# I actually had trouble interpreting the coefficients from the final LogisticRegression, so I switched it for a random forest for now\n",
    "make_StackingClassifierRF = lambda: StackingClassifier(\n",
    "    estimators=[(model, models[model]()) for model in models],\n",
    "    final_estimator=RandomForestClassifier(n_jobs=-1, random_state=SEED),\n",
    "    n_jobs=-1,\n",
    ")"
   ]
  },
  {
   "cell_type": "code",
   "execution_count": 32,
   "metadata": {},
   "outputs": [
    {
     "name": "stdout",
     "output_type": "stream",
     "text": [
      "time: 35.4 s\n"
     ]
    }
   ],
   "source": [
    "data = make_splits(case=\"negative\", num_splits=1)[0]\n",
    "X, y = np.concatenate((data.X_train, data.X_test)), np.concatenate(\n",
    "    (data.y_train, data.y_test)\n",
    ")\n",
    "testfit = make_StackingClassifierRF().fit(X, y)"
   ]
  },
  {
   "cell_type": "code",
   "execution_count": 33,
   "metadata": {},
   "outputs": [
    {
     "name": "stdout",
     "output_type": "stream",
     "text": [
      "time: 4min 13s\n"
     ]
    }
   ],
   "source": [
    "rf_importance: List[Tuple[str, str, float]] = []\n",
    "for case in all_cases:\n",
    "    data = make_splits(case=case, num_splits=1)[0]\n",
    "    X, y = np.concatenate((data.X_train, data.X_test)), np.concatenate(\n",
    "        (data.y_train, data.y_test)\n",
    "    )\n",
    "    fitted = make_StackingClassifierRF().fit(X, y)\n",
    "    df_importance = pd.DataFrame(\n",
    "        list(\n",
    "            zip(\n",
    "                [str(est).split(\"(\")[0] for est in fitted.estimators_],\n",
    "                fitted.final_estimator_.feature_importances_,\n",
    "            )\n",
    "        ),\n",
    "        columns=[\"model\", \"importance\"],\n",
    "    )\n",
    "    df_importance[\"case\"] = case\n",
    "    rf_importance.append(df_importance)"
   ]
  },
  {
   "cell_type": "code",
   "execution_count": 34,
   "metadata": {},
   "outputs": [
    {
     "name": "stdout",
     "output_type": "stream",
     "text": [
      "time: 7 ms\n"
     ]
    }
   ],
   "source": [
    "df_importance = pd.concat(rf_importance).reset_index(drop=True)\n",
    "df_importance.model = df_importance.model.str.replace(\"Classifier\", \"\").str.replace(\n",
    "    \"QuadraticDiscriminantAnalysis\", \"QDA\"\n",
    ")"
   ]
  },
  {
   "cell_type": "markdown",
   "metadata": {},
   "source": [
    "## Results\n",
    "\n",
    "In this section, we will create several visualizations to display the results."
   ]
  },
  {
   "cell_type": "code",
   "execution_count": 35,
   "metadata": {},
   "outputs": [
    {
     "name": "stdout",
     "output_type": "stream",
     "text": [
      "time: 24 ms\n"
     ]
    }
   ],
   "source": [
    "results_df = (\n",
    "    pd.concat(\n",
    "        [pd.DataFrame(results[case]).assign(case=case) for case in results.keys()]\n",
    "    )\n",
    "    .sort_values(by=[\"case\", \"model_name\"])\n",
    "    .reset_index(drop=True)\n",
    ")"
   ]
  },
  {
   "cell_type": "code",
   "execution_count": 36,
   "metadata": {},
   "outputs": [
    {
     "name": "stdout",
     "output_type": "stream",
     "text": [
      "time: 994 µs\n"
     ]
    }
   ],
   "source": [
    "metric_names = {\n",
    "    \"avg_cv_accuracy\": \"Accuracy\",\n",
    "    \"vs_dummy\": \"Accuracy vs dummy\",\n",
    "    \"avg_cv_fit_time\": \"Fit time\",\n",
    "    \"avg_cv_predict_time\": \"Predict time\",\n",
    "}"
   ]
  },
  {
   "cell_type": "code",
   "execution_count": 37,
   "metadata": {},
   "outputs": [
    {
     "name": "stdout",
     "output_type": "stream",
     "text": [
      "time: 1.99 ms\n"
     ]
    }
   ],
   "source": [
    "def plot_metric(metric: str) -> None:\n",
    "    \"\"\"Draw a nested barplot by classifier and case.\"\"\"\n",
    "    _df = results_df.sort_values(by=metric, ascending=\"time\" in metric)\n",
    "    _df.model_name = _df.model_name.str.replace(\"Classifier\", \"\").str.replace(\n",
    "        \"QuadraticDiscriminantAnalysis\", \"QDA\"\n",
    "    )\n",
    "    g = sns.catplot(\n",
    "        data=_df,\n",
    "        kind=\"bar\",\n",
    "        x=\"model_name\",\n",
    "        y=metric,\n",
    "        hue=\"case\",\n",
    "        palette=\"colorblind\",\n",
    "        alpha=0.8,\n",
    "    )\n",
    "    g.fig.set_figwidth(16)\n",
    "    g.despine(**dict.fromkeys((\"left\", \"top\", \"right\"), True))\n",
    "    g.legend.set_title(\"\")\n",
    "    plt.xlabel(\"\")\n",
    "    plt.xticks(rotation=-30)\n",
    "    plt.ylabel(metric_names[metric].replace(\" \", \"\\n\"), rotation=0, ha=\"right\")\n",
    "    plt.show()"
   ]
  },
  {
   "cell_type": "code",
   "execution_count": 38,
   "metadata": {},
   "outputs": [
    {
     "data": {
      "image/png": "[encoded data removed]",
      "text/plain": [
       "<Figure size 1152x360 with 1 Axes>"
      ]
     },
     "metadata": {
      "needs_background": "light"
     },
     "output_type": "display_data"
    },
    {
     "data": {
      "image/png": "[encoded data removed]",
      "text/plain": [
       "<Figure size 1152x360 with 1 Axes>"
      ]
     },
     "metadata": {
      "needs_background": "light"
     },
     "output_type": "display_data"
    },
    {
     "data": {
      "image/png": "[encoded data removed]",
      "text/plain": [
       "<Figure size 1152x360 with 1 Axes>"
      ]
     },
     "metadata": {
      "needs_background": "light"
     },
     "output_type": "display_data"
    },
    {
     "data": {
      "image/png": "[encoded data removed]",
      "text/plain": [
       "<Figure size 1152x360 with 1 Axes>"
      ]
     },
     "metadata": {
      "needs_background": "light"
     },
     "output_type": "display_data"
    },
    {
     "name": "stdout",
     "output_type": "stream",
     "text": [
      "time: 4.44 s\n"
     ]
    }
   ],
   "source": [
    "for metric in metrics:\n",
    "    plot_metric(metric)"
   ]
  },
  {
   "cell_type": "markdown",
   "metadata": {},
   "source": [
    "We will visualize feature importances of the meta-estimator too."
   ]
  },
  {
   "cell_type": "code",
   "execution_count": 39,
   "metadata": {},
   "outputs": [
    {
     "data": {
      "text/plain": [
       "<seaborn.axisgrid.FacetGrid at 0x284ba89f310>"
      ]
     },
     "execution_count": 39,
     "metadata": {},
     "output_type": "execute_result"
    },
    {
     "data": {
      "text/plain": [
       "Text(35.67732291666667, 0.5, 'importance')"
      ]
     },
     "execution_count": 39,
     "metadata": {},
     "output_type": "execute_result"
    },
    {
     "data": {
      "text/plain": [
       "Text(0.5, 0.98, 'importance of classifiers in stack')"
      ]
     },
     "execution_count": 39,
     "metadata": {},
     "output_type": "execute_result"
    },
    {
     "data": {
      "text/plain": [
       "Text(0.5, 20.80000000000001, '')"
      ]
     },
     "execution_count": 39,
     "metadata": {},
     "output_type": "execute_result"
    },
    {
     "data": {
      "text/plain": [
       "(array([0, 1, 2, 3, 4, 5, 6, 7, 8, 9]),\n",
       " [Text(0, 0, 'MLP'),\n",
       "  Text(1, 0, 'LogisticRegression'),\n",
       "  Text(2, 0, 'QDA'),\n",
       "  Text(3, 0, 'GaussianNB'),\n",
       "  Text(4, 0, 'GaussianProcess'),\n",
       "  Text(5, 0, 'LGBM'),\n",
       "  Text(6, 0, 'XGB'),\n",
       "  Text(7, 0, 'AdaBoost'),\n",
       "  Text(8, 0, 'SVC'),\n",
       "  Text(9, 0, 'RandomForest')])"
      ]
     },
     "execution_count": 39,
     "metadata": {},
     "output_type": "execute_result"
    },
    {
     "data": {
      "image/png": "[encoded data removed]",
      "text/plain": [
       "<Figure size 1152x360 with 1 Axes>"
      ]
     },
     "metadata": {
      "needs_background": "light"
     },
     "output_type": "display_data"
    },
    {
     "name": "stdout",
     "output_type": "stream",
     "text": [
      "time: 782 ms\n"
     ]
    }
   ],
   "source": [
    "g = sns.catplot(\n",
    "    data=df_importance.sort_values(by=\"importance\"),\n",
    "    kind=\"bar\",\n",
    "    x=\"model\",\n",
    "    y=\"importance\",\n",
    "    hue=\"case\",\n",
    "    palette=\"colorblind\",\n",
    "    alpha=0.8,\n",
    ")\n",
    "g.fig.set_figwidth(16)\n",
    "g.despine(**dict.fromkeys((\"left\", \"top\", \"right\"), True))\n",
    "g.legend.set_title(\"\")\n",
    "plt.ylabel(\"importance\", rotation=0, ha=\"right\")\n",
    "plt.suptitle(\"importance of classifiers in stack\")\n",
    "plt.xlabel(\"\")\n",
    "plt.xticks(rotation=-30)\n",
    "plt.show()"
   ]
  },
  {
   "cell_type": "markdown",
   "metadata": {},
   "source": [
    "## Discussion"
   ]
  },
  {
   "cell_type": "code",
   "execution_count": 40,
   "metadata": {},
   "outputs": [
    {
     "name": "stdout",
     "output_type": "stream",
     "text": [
      "time: 47 ms\n"
     ]
    }
   ],
   "source": [
    "best = {\n",
    "    case: {metric: {\"model\": \"\", \"score\": 0} for metric in metrics}\n",
    "    for case in all_cases\n",
    "}\n",
    "for case in best.keys():\n",
    "    for metric in metrics:\n",
    "        base = results_df.loc[results_df.case == case][[\"model_name\", metric]]\n",
    "        base_metric = base[metric]\n",
    "        best_case_metric = best[case][metric]\n",
    "        best_case_metric[\"score\"] = base_metric[\n",
    "            (\n",
    "                score_idx := base_metric.idxmin()\n",
    "                if \"time\" in metric\n",
    "                else base_metric.idxmax()\n",
    "            )\n",
    "        ]\n",
    "        best_case_metric[\"model\"] = base.model_name[score_idx]"
   ]
  },
  {
   "cell_type": "code",
   "execution_count": 41,
   "metadata": {},
   "outputs": [
    {
     "name": "stdout",
     "output_type": "stream",
     "text": [
      "The best-performing model in terms of predict time was LogisticRegression for positive classification with a score of 0.000 s.\n",
      "The best-performing model in terms of accuracy was SVC for positive classification with a score of 0.720.\n",
      "The best-performing model in terms of fit time was GaussianNB for positive classification with a score of 0.010 s.\n",
      "The best-performing model in terms of accuracy vs dummy was SVC for positive classification with a score of 0.007.\n",
      "The best-performing model in terms of predict time was LogisticRegression for ternary_ovr classification with a score of 0.000 s.\n",
      "The best-performing model in terms of accuracy was GaussianProcessClassifier for ternary_ovr classification with a score of 0.563.\n",
      "The best-performing model in terms of fit time was GaussianNB for ternary_ovr classification with a score of 0.031 s.\n",
      "The best-performing model in terms of accuracy vs dummy was GaussianProcessClassifier for ternary_ovr classification with a score of 0.155.\n",
      "The best-performing model in terms of predict time was GaussianNB for negative classification with a score of 0.000 s.\n",
      "The best-performing model in terms of accuracy was LGBMClassifier for negative classification with a score of 0.737.\n",
      "The best-performing model in terms of fit time was GaussianNB for negative classification with a score of 0.016 s.\n",
      "The best-performing model in terms of accuracy vs dummy was LGBMClassifier for negative classification with a score of 0.082.\n",
      "The best-performing model in terms of predict time was MLPClassifier for neutral classification with a score of 0.000 s.\n",
      "The best-performing model in terms of accuracy was RandomForestClassifier for neutral classification with a score of 0.721.\n",
      "The best-performing model in terms of fit time was GaussianNB for neutral classification with a score of 0.000 s.\n",
      "The best-performing model in terms of accuracy vs dummy was RandomForestClassifier for neutral classification with a score of 0.090.\n",
      "The best-performing model in terms of predict time was LogisticRegression for ternary classification with a score of 0.000 s.\n",
      "The best-performing model in terms of accuracy was GaussianProcessClassifier for ternary classification with a score of 0.563.\n",
      "The best-performing model in terms of fit time was GaussianNB for ternary classification with a score of 0.010 s.\n",
      "The best-performing model in terms of accuracy vs dummy was GaussianProcessClassifier for ternary classification with a score of 0.155.\n",
      "time: 3 ms\n"
     ]
    }
   ],
   "source": [
    "for case in best:\n",
    "    for metric in best[case]:\n",
    "        best_case = best[case]\n",
    "        print(\n",
    "            f\"The best-performing model in terms of {metric_names[metric].lower()} was {best_case[metric]['model']} for {case} classification with a score of {best_case[metric]['score']:.3f}{' s' if 'time' in metric else ''}.\"\n",
    "        )"
   ]
  },
  {
   "cell_type": "markdown",
   "metadata": {},
   "source": [
    "Quadratic Discriminant Analysis performed poorly, probably due to high multicollinearity in the FRILL vector. \n",
    "\n",
    "GaussianNB was fast but not a contender for highest accuracy.\n",
    "\n",
    "GaussianProcessClassifier was the best-performing classifier in both ternary classification tasks.\n",
    "\n",
    "Individual subestimators within the Stacking Classifier outperformed the stack. Selecting the worst-performing subestimators for removal from the stack will likely boost its performance. Recursive feature elimination is a possible strategy to achieve this.\n",
    "\n",
    "The neural network models could potentially rank higher with more tuning. For all but the worst algorithms, hyperparameter tuning is expected to improve results as well.\n",
    "\n",
    "Of the five classification scenarios, accuracy is consistently the worst for the positive/non-positive binary classification case. Class imbalance is the most severe in this scenario. This effect may even out as more data is introduced downstream, but measures to address imbalance directly may be appropriate.\n",
    "\n",
    "I actually had trouble interpreting the multinomial coefficients of the `LogisticRegression` meta-estimator, so I [asked about it on Stack Overflow](#https://stackoverflow.com/questions/69640194/how-to-interpret-logisticregression-coefficients-ternary-classification-with-sk). In the meantime, I used a random forest instead. The plot suggests that certain classifiers may be especially informative in binary classification scenarios.\n",
    "\n",
    "Another approach may be to perform ternary classification by first predicting neutral/non-neutral and only disambiguating the non-neutral observations with positive/negative classification. An underlying assumption is that neutrally valenced utterances cannot be simultaneously positively or negatively valenced. The disambiguating predictions may be performed in 1) a binary fashion (positive vs. negative) or 2) a one-vs-rest fashion (% positive vs. % negative). The former does not allow for mixed states (simulatneous positive and negative valence) but has the advantage of relying on two underpinnning models rather than three. Although slower than the former, the latter may still afford some time savings at inference compared to the direct ternary case while preserving the interpretation of mixed states with predicted probabilities that may exceed 1 in sum. Nevertheless, the former may approximate the mixed-states interpretation via softmax predictions, which would yield two probabilities that sum to 1. Since the simple classification accuracy of the neutral binary case exceeds that of the ternary cases for all classifiers, this may be a viable approach.\n",
    "\n",
    "It is important to try the same methods on a more representative sample of the whole dataset; there is no guarantee of similar performance between samples of differing duration.\n",
    "\n",
    "### Considerations for refactoring\n",
    "\n",
    "I found out about `sklearn.multiclass.OneVsRestClassifier` right after I finished building the test harness. It is likely that `sklearn` implements some optimizations that I did not. In refactoring, I would consider using the `sklearn` classifier rather than my own implementation.\n",
    "\n",
    "Similarly, the test harness could be revised such that the `StackingClassifier` is trained first. A fitted `StackingClassifier` retains access to its fitted subestimators. Consequently, the performance of all subestimators may be recorded in aggregate per fold. Although the fit and predict times of subestimators would not be recorded, this may be less relevant when upper bounds on fit/predict times have already been estimated.\n",
    "\n",
    "In addition, implementing a factory method design pattern may make the test harness more compact in refactoring.\n",
    "\n",
    "Furthermore, the custom train-test split logic could be repackaged into an iterable yielding splits compatible with the `cv` parameter of many `sklearn` methods."
   ]
  },
  {
   "cell_type": "markdown",
   "metadata": {},
   "source": [
    "[^top](#Contents)"
   ]
  },
  {
   "cell_type": "code",
   "execution_count": null,
   "metadata": {},
   "outputs": [],
   "source": []
  }
 ],
 "metadata": {
  "interpreter": {
   "hash": "e5ec24c6db6b01668153f0d7970357104795ba99b94731b011ffeae27cd547f5"
  },
  "kernelspec": {
   "display_name": "Python [conda env:capstone_pyspark_38] *",
   "language": "python",
   "name": "conda-env-capstone_pyspark_38-py"
  },
  "language_info": {
   "codemirror_mode": {
    "name": "ipython",
    "version": 3
   },
   "file_extension": ".py",
   "mimetype": "text/x-python",
   "name": "python",
   "nbconvert_exporter": "python",
   "pygments_lexer": "ipython3",
   "version": "3.8.12"
  }
 },
 "nbformat": 4,
 "nbformat_minor": 4
}
