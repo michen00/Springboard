{
 "cells": [
  {
   "cell_type": "markdown",
   "metadata": {},
   "source": [
    "# Contents\n",
    "* [Introduction](#Introduction)\n",
    "  * [FRILL](#FRILL)\n",
    "* [Imports and configuration](#Imports-and-configuration)\n",
    "* [Data](#Data)\n",
    "* [Feature extaction](#Extract-features)\n",
    "* [Setup](#Setup)\n",
    "* [Explore models](#Explore-models)\n",
    "  * [Multilayer perceptron (keras)](#Multilayer-perceptron-(keras))\n",
    "  * [Test harness](#Test-harness)\n",
    "  * [Classifiers from sklearn](#Classifiers-from-sklearn)\n",
    "    * [sklearn Models](#sklearn-Models)\n",
    "    * [sklearn results collection](#sklearn-results-collection)\n",
    "  * [Other boosting ensembles](#Other-boosting-ensembles)\n",
    "    * [Non-sklearn Models](#Non-sklearn-Models)\n",
    "    * [Non-sklearn results collection](#Non-sklearn-results-collection)\n",
    "  * [Stacked classifier](#Stacked-classifier)\n",
    "    * [Feature importance](#Feature-importance)\n",
    "* [Results](#Results)\n",
    "* [Discussion](#Discussion)\n",
    "\n",
    "## Intro\n",
    "\n",
    "This notebook uses FRILL to generate embeddings for the padded samples of short duration. The resultant embeddings are passed to a variety of classifiers including a stacked ensemble. The ternary, single-valence binary, and ternary one-vs-rest classification cases are considered. Results are visualized and discussed.\n",
    "\n",
    "### FRILL\n",
    "\n",
    "Here are two abstracts to introduce the FRILL embedding:\n",
    "\n",
    ">> [Towards Learning a Universal Non-Semantic Representation of Speech (2020)](#https://doi.org/10.21437/Interspeech.2020-1242)\n",
    ">>>> The ultimate goal of transfer learning is to reduce labeled data requirements by exploiting a pre-existing embedding model trained for different datasets or tasks. The visual and language communities have established benchmarks to compare embeddings, but the speech community has yet to do so. This paper proposes a benchmark for comparing speech representations on non-semantic tasks, and proposes a representation based on an unsupervised triplet-loss objective. The proposed representation outperforms other representations on the benchmark, and even exceeds state-of-the-art performance on a number of transfer learning tasks. The embedding is trained on a publicly available dataset, and it is tested on a variety of low-resource downstream tasks, including personalization tasks and medical domain. The benchmark, models, and evaluation code are publicly released.\n",
    ">>\n",
    ">> [FRILL: A Non-Semantic Speech Embedding for Mobile Devices (2021)](#https://arxiv.org/abs/2011.04609)\n",
    ">>>> Learned speech representations can drastically improve performance on tasks with limited labeled data. However, due to their size and complexity, learned representations have limited utility in mobile settings where run-time performance can be a significant bottleneck. In this work, we propose a class of lightweight non-semantic speech embedding models that run efficiently on mobile devices based on the recently proposed TRILL speech embedding. We combine novel architectural modifications with existing speed-up techniques to create embedding models that are fast enough to run in real-time on a mobile device and exhibit minimal performance degradation on a benchmark of non-semantic speech tasks. One such model (FRILL) is 32x faster on a Pixel 1 smartphone and 40% the size of TRILL, with an average decrease in accuracy of only 2%. To our knowledge, FRILL is the highest-quality non-semantic embedding designed for use on mobile devices. Furthermore, we demonstrate that these representations are useful for mobile health tasks such as non-speech human sounds detection and face-masked speech detection. Our models and code are publicly available.\n",
    "\n",
    "FRILL is therefore a promising embedding since non-semantic aspects of speech signals is what distinguishes each class for this data. And it's fast!\n",
    "\n",
    "Moreover, its output representation is a 2,048-element vector irrespective of input size. FRILL enables uniform handling of ragged sequences (although this notebook only uses padded sequences) in an output format that is potentially more compact than spectrograms and MFCCs.\n",
    "\n",
    "Furthermore, the FRILL representations are not time series, affording the full armamentarium of classifiers now available.\n",
    "\n",
    "## Imports and configuration"
   ]
  },
  {
   "cell_type": "code",
   "execution_count": 1,
   "metadata": {},
   "outputs": [],
   "source": [
    "# set random seeds\n",
    "\n",
    "from os import environ\n",
    "from random import seed as random_seed\n",
    "from numpy.random import seed as np_seed\n",
    "from tensorflow.random import set_seed\n",
    "\n",
    "\n",
    "def reset_seeds(seed: int) -> None:\n",
    "    \"\"\"Utility function for resetting random seeds\"\"\"\n",
    "    environ[\"PYTHONHASHSEED\"] = str(seed)\n",
    "    random_seed(seed)\n",
    "    np_seed(seed)\n",
    "    set_seed(seed)\n",
    "\n",
    "\n",
    "reset_seeds(SEED := 2021)"
   ]
  },
  {
   "cell_type": "code",
   "execution_count": 2,
   "metadata": {},
   "outputs": [],
   "source": [
    "# extensions\n",
    "%load_ext autotime\n",
    "%load_ext lab_black\n",
    "%load_ext nb_black"
   ]
  },
  {
   "cell_type": "code",
   "execution_count": 3,
   "metadata": {},
   "outputs": [
    {
     "name": "stdout",
     "output_type": "stream",
     "text": [
      "time: 3.99 s\n"
     ]
    }
   ],
   "source": [
    "# core\n",
    "import numpy as np\n",
    "import pandas as pd\n",
    "\n",
    "# utility\n",
    "from collections import namedtuple\n",
    "from gc import collect as gc_collect\n",
    "from time import time\n",
    "from tqdm.notebook import tqdm\n",
    "import swifter\n",
    "\n",
    "# Python < 3.9 type hints\n",
    "from typing import Callable, List, Sequence, Tuple\n",
    "\n",
    "# metrics\n",
    "from sklearn.metrics import accuracy_score\n",
    "from sklearn.inspection import permutation_importance\n",
    "\n",
    "# sklearn classifiers\n",
    "from sklearn.linear_model import LogisticRegression\n",
    "from sklearn.ensemble import (\n",
    "    AdaBoostClassifier,\n",
    "    RandomForestClassifier,\n",
    "    StackingClassifier,\n",
    ")\n",
    "from sklearn.svm import SVC\n",
    "from sklearn.discriminant_analysis import QuadraticDiscriminantAnalysis\n",
    "from sklearn.gaussian_process import GaussianProcessClassifier\n",
    "from sklearn.naive_bayes import GaussianNB\n",
    "from sklearn.neural_network import MLPClassifier\n",
    "\n",
    "# other boosting classifiers\n",
    "from lightgbm import LGBMClassifier\n",
    "\n",
    "# from catboost import CatBoostClassifier\n",
    "from xgboost import XGBClassifier\n",
    "\n",
    "# keras & tensorflow\n",
    "from keras.models import Sequential\n",
    "from keras.layers import Dense\n",
    "from keras.regularizers import l1_l2\n",
    "import tensorflow as tf2\n",
    "import tensorflow.compat.v2 as tf\n",
    "import tensorflow_hub as hub\n",
    "\n",
    "# visualization\n",
    "import matplotlib.pyplot as plt\n",
    "import seaborn as sns\n",
    "\n",
    "sns.set_context(\"notebook\")\n",
    "sns.set_style(\"whitegrid\")\n",
    "%matplotlib inline\n",
    "\n",
    "# display outputs w/o print calls\n",
    "from IPython.core.interactiveshell import InteractiveShell\n",
    "\n",
    "InteractiveShell.ast_node_interactivity = \"all\"\n",
    "\n",
    "# hide warnings\n",
    "import warnings\n",
    "\n",
    "warnings.filterwarnings(\"ignore\")"
   ]
  },
  {
   "cell_type": "code",
   "execution_count": 4,
   "metadata": {},
   "outputs": [
    {
     "name": "stdout",
     "output_type": "stream",
     "text": [
      "time: 998 µs\n"
     ]
    }
   ],
   "source": [
    "# Location of padded data (as pickle)\n",
    "PICKLED_DF_FOLDER = \"../3.0-mic-pad_data_short\"\n",
    "\n",
    "# Location where this notebook will output\n",
    "DATA_OUT_FOLDER = \".\"\n",
    "\n",
    "# The preprocessed data from the Unified Multilingual Dataset of Emotional Human utterances\n",
    "WAV_DIRECTORY = (\n",
    "    \"../../unified_multilingual_dataset_of_emotional_human_utterances/data/preprocessed\"\n",
    ")"
   ]
  },
  {
   "cell_type": "markdown",
   "metadata": {},
   "source": [
    "## Data"
   ]
  },
  {
   "cell_type": "code",
   "execution_count": 5,
   "metadata": {},
   "outputs": [
    {
     "data": {
      "text/html": [
       "<div>\n",
       "<style scoped>\n",
       "    .dataframe tbody tr th:only-of-type {\n",
       "        vertical-align: middle;\n",
       "    }\n",
       "\n",
       "    .dataframe tbody tr th {\n",
       "        vertical-align: top;\n",
       "    }\n",
       "\n",
       "    .dataframe thead th {\n",
       "        text-align: right;\n",
       "    }\n",
       "</style>\n",
       "<table border=\"1\" class=\"dataframe\">\n",
       "  <thead>\n",
       "    <tr style=\"text-align: right;\">\n",
       "      <th></th>\n",
       "      <th>file</th>\n",
       "      <th>duration</th>\n",
       "      <th>source</th>\n",
       "      <th>speaker_id</th>\n",
       "      <th>speaker_gender</th>\n",
       "      <th>emo</th>\n",
       "      <th>valence</th>\n",
       "      <th>lang1</th>\n",
       "      <th>lang2</th>\n",
       "      <th>neg</th>\n",
       "      <th>neu</th>\n",
       "      <th>pos</th>\n",
       "      <th>length</th>\n",
       "      <th>padded</th>\n",
       "    </tr>\n",
       "    <tr>\n",
       "      <th>id</th>\n",
       "      <th></th>\n",
       "      <th></th>\n",
       "      <th></th>\n",
       "      <th></th>\n",
       "      <th></th>\n",
       "      <th></th>\n",
       "      <th></th>\n",
       "      <th></th>\n",
       "      <th></th>\n",
       "      <th></th>\n",
       "      <th></th>\n",
       "      <th></th>\n",
       "      <th></th>\n",
       "      <th></th>\n",
       "    </tr>\n",
       "  </thead>\n",
       "  <tbody>\n",
       "    <tr>\n",
       "      <th>01788</th>\n",
       "      <td>01788+BAUM1+BAUM1.s028+f+hap+1+tur+tr-tr.wav</td>\n",
       "      <td>0.387</td>\n",
       "      <td>BAUM1</td>\n",
       "      <td>BAUM1.s028</td>\n",
       "      <td>f</td>\n",
       "      <td>hap</td>\n",
       "      <td>1</td>\n",
       "      <td>tur</td>\n",
       "      <td>tr-tr</td>\n",
       "      <td>0</td>\n",
       "      <td>0</td>\n",
       "      <td>1</td>\n",
       "      <td>short</td>\n",
       "      <td>[0.0, 0.0, 0.0, 0.0, 0.0, 0.0, 0.0, 0.0, 0.0, ...</td>\n",
       "    </tr>\n",
       "  </tbody>\n",
       "</table>\n",
       "</div>"
      ],
      "text/plain": [
       "                                               file  duration source  \\\n",
       "id                                                                     \n",
       "01788  01788+BAUM1+BAUM1.s028+f+hap+1+tur+tr-tr.wav     0.387  BAUM1   \n",
       "\n",
       "       speaker_id speaker_gender  emo valence lang1  lang2  neg  neu  pos  \\\n",
       "id                                                                          \n",
       "01788  BAUM1.s028              f  hap       1   tur  tr-tr    0    0    1   \n",
       "\n",
       "      length                                             padded  \n",
       "id                                                               \n",
       "01788  short  [0.0, 0.0, 0.0, 0.0, 0.0, 0.0, 0.0, 0.0, 0.0, ...  "
      ]
     },
     "execution_count": 5,
     "metadata": {},
     "output_type": "execute_result"
    },
    {
     "name": "stdout",
     "output_type": "stream",
     "text": [
      "time: 274 ms\n"
     ]
    }
   ],
   "source": [
    "short_df = pd.read_pickle(f\"{PICKLED_DF_FOLDER}/short_padded.pkl\")\n",
    "short_df.head(1)"
   ]
  },
  {
   "cell_type": "code",
   "execution_count": 6,
   "metadata": {},
   "outputs": [
    {
     "name": "stdout",
     "output_type": "stream",
     "text": [
      "time: 186 ms\n"
     ]
    }
   ],
   "source": [
    "df = short_df[[\"speaker_id\", \"valence\", \"neg\", \"neu\", \"pos\", \"padded\"]]\n",
    "del short_df\n",
    "_ = gc_collect()"
   ]
  },
  {
   "cell_type": "markdown",
   "metadata": {},
   "source": [
    "## Feature extraction"
   ]
  },
  {
   "cell_type": "code",
   "execution_count": 7,
   "metadata": {},
   "outputs": [
    {
     "name": "stdout",
     "output_type": "stream",
     "text": [
      "time: 34.3 s\n"
     ]
    }
   ],
   "source": [
    "tf.enable_v2_behavior()\n",
    "module = hub.load(\"https://tfhub.dev/google/nonsemantic-speech-benchmark/frill/1\")"
   ]
  },
  {
   "cell_type": "code",
   "execution_count": 8,
   "metadata": {},
   "outputs": [
    {
     "data": {
      "application/vnd.jupyter.widget-view+json": {
       "model_id": "6ffd876596264aaa87ed2ec7c9d06028",
       "version_major": 2,
       "version_minor": 0
      },
      "text/plain": [
       "Pandas Apply:   0%|          | 0/480 [00:00<?, ?it/s]"
      ]
     },
     "metadata": {},
     "output_type": "display_data"
    },
    {
     "name": "stdout",
     "output_type": "stream",
     "text": [
      "time: 7.07 s\n"
     ]
    }
   ],
   "source": [
    "df[\"frill\"] = df.padded.swifter.apply(\n",
    "    lambda _: module(np.expand_dims(np.array(_, dtype=np.float32), axis=0))[\n",
    "        \"embedding\"\n",
    "    ][0].numpy()\n",
    ")"
   ]
  },
  {
   "cell_type": "markdown",
   "metadata": {},
   "source": [
    "## Setup\n",
    "\n",
    "In this section, we define some structures to keep track of models and scores.\n",
    "\n",
    "The next cell defines a Python dictionary to record the results of three-fold cross validation such that the results may be easily cast to a `pandas` dataframe."
   ]
  },
  {
   "cell_type": "code",
   "execution_count": 9,
   "metadata": {},
   "outputs": [
    {
     "name": "stdout",
     "output_type": "stream",
     "text": [
      "time: 0 ns\n"
     ]
    }
   ],
   "source": [
    "# classification scenarios\n",
    "all_cases = {\"ternary\", \"negative\", \"neutral\", \"positive\", \"ternary_ovr\"}\n",
    "metrics = {\"avg_cv_accuracy\", \"vs_dummy\", \"avg_cv_fit_time\", \"avg_cv_predict_time\"}\n",
    "\n",
    "# to be cast to pd.DataFrame\n",
    "results = {case: {key: [] for key in {\"model_name\", *metrics}} for case in all_cases}"
   ]
  },
  {
   "cell_type": "code",
   "execution_count": 10,
   "metadata": {},
   "outputs": [
    {
     "name": "stdout",
     "output_type": "stream",
     "text": [
      "time: 0 ns\n"
     ]
    }
   ],
   "source": [
    "AvgScores = namedtuple(\n",
    "    \"AvgScores\", \"avg_fit_time avg_predict_time avg_accuracy avg_dummy\"\n",
    ")\n",
    "\n",
    "\n",
    "def store_result(case: str, model_name: str, avg_scores: AvgScores) -> None:\n",
    "    \"Appends a model's score and fit/predict times to the results.\"\n",
    "    result = results[case]\n",
    "    for attribute, value in {\n",
    "        (\"model_name\", model_name),\n",
    "        (\"avg_cv_accuracy\", (_ := avg_scores.avg_accuracy)),\n",
    "        (\"vs_dummy\", _ - avg_scores.avg_dummy),\n",
    "        (\"avg_cv_fit_time\", avg_scores.avg_fit_time),\n",
    "        (\"avg_cv_predict_time\", avg_scores.avg_predict_time),\n",
    "    }:\n",
    "        result[attribute].append(value)"
   ]
  },
  {
   "cell_type": "markdown",
   "metadata": {},
   "source": [
    "### Multilayer perceptron (keras)\n",
    "\n",
    "To use `keras`, the data must be formatted a little differently, so we will process the `keras` network outside the main loop through the other models and cases.\n",
    "\n",
    "We will use a simple fully connected network to get a baseline. To determine the number of neurons in the hidden layer, we use the rule of thumb, *sqrt(n * m)*, where n is the number of input neurons and m is the number of output neurons.\n",
    "\n",
    "After a little trial and error (not shown), I noticed that the network was overfitting rapidly, so I added an ElasticNet kernel regularizer. As a result, loss and accuracy plateaued in just a few epochs both in training and validation. Therefore, I reduced the `l1` and `l2` parameters from a default of 0.01 to 0.0001 each and validation performance improved. I didn't want to spend too much time tinkering in this phase so I left it at that."
   ]
  },
  {
   "cell_type": "code",
   "execution_count": 11,
   "metadata": {},
   "outputs": [
    {
     "name": "stdout",
     "output_type": "stream",
     "text": [
      "time: 0 ns\n"
     ]
    }
   ],
   "source": [
    "# input size\n",
    "n = 2048"
   ]
  },
  {
   "cell_type": "code",
   "execution_count": 12,
   "metadata": {},
   "outputs": [
    {
     "name": "stdout",
     "output_type": "stream",
     "text": [
      "time: 0 ns\n"
     ]
    }
   ],
   "source": [
    "def keras_MLP(print_summary: bool = False, multiclass: bool = False) -> Sequence:\n",
    "    if multiclass:\n",
    "        m, activation, loss = 3, \"softmax\", \"categorical_crossentropy\"\n",
    "    else:\n",
    "        m, activation, loss = 1, \"sigmoid\", \"binary_crossentropy\"\n",
    "    model = Sequential(\n",
    "        [\n",
    "            Dense(\n",
    "                _ := np.sqrt(n * m),\n",
    "                activation=\"relu\",\n",
    "                input_dim=n,\n",
    "                kernel_regularizer=l1_l2(l1=0.0001, l2=0.0001),\n",
    "            ),\n",
    "            Dense(m, activation=activation),\n",
    "        ]\n",
    "    )\n",
    "    model.compile(loss=loss, optimizer=\"adam\", metrics=\"accuracy\")\n",
    "    if print_summary:\n",
    "        model.summary()\n",
    "    return model"
   ]
  },
  {
   "cell_type": "markdown",
   "metadata": {},
   "source": [
    "The next cell defines a function for making cross-validation splits without speaker leakage (sampling with replacement)."
   ]
  },
  {
   "cell_type": "code",
   "execution_count": 13,
   "metadata": {},
   "outputs": [
    {
     "name": "stdout",
     "output_type": "stream",
     "text": [
      "time: 0 ns\n"
     ]
    }
   ],
   "source": [
    "# for formatting X_test and X_train\n",
    "restack: Sequence = lambda _: tf2.convert_to_tensor(np.stack(_.to_numpy()))\n",
    "\n",
    "# for formatting y_test and y_train\n",
    "to_categorical: Sequence = lambda _: tf2.keras.utils.to_categorical(\n",
    "    _, num_classes=3, dtype=\"float32\"\n",
    ")\n",
    "\n",
    "Split = namedtuple(\"Split\", (\"X_test\", \"y_test\", \"X_train\", \"y_train\", \"dummy_test\"))\n",
    "\n",
    "\n",
    "def splits_for_keras(case: str, num_splits: int = 3) -> List[Split]:\n",
    "    \"\"\"Given a classification scenario, provide train-test splits sampled with replacement for cross validation without speaker leakage.\"\"\"\n",
    "    splits = []\n",
    "    for i in range(num_splits):\n",
    "        # criterion for split\n",
    "        criterion = df.speaker_id.isin(\n",
    "            pd.DataFrame(np.unique(df.speaker_id))\n",
    "            .sample(frac=0.25, random_state=SEED + i)[0]\n",
    "            .values\n",
    "        )\n",
    "\n",
    "        # prepare X_test and y_test\n",
    "        X_test = restack((test := df.loc[criterion]).frill)\n",
    "        y_test = (\n",
    "            to_categorical(test.valence).argmax(axis=1)\n",
    "            if (multiclass := \"ternary\" in case)\n",
    "            else test[case[:3]]\n",
    "        )\n",
    "\n",
    "        # the dummy score is calculated from y_test\n",
    "        dummy = pd.Series(y_test).value_counts().values[0] / len(y_test)\n",
    "        if not multiclass and dummy < 0.5:\n",
    "            dummy = 1 - dummy\n",
    "\n",
    "        splits.append(\n",
    "            Split(\n",
    "                X_test=X_test,\n",
    "                X_train=restack((train := df.loc[~criterion]).frill),\n",
    "                y_test=y_test,\n",
    "                y_train=to_categorical(train.valence)\n",
    "                if multiclass\n",
    "                else train[case[:3]],\n",
    "                dummy_test=dummy,\n",
    "            )\n",
    "        )\n",
    "\n",
    "    return splits"
   ]
  },
  {
   "cell_type": "markdown",
   "metadata": {},
   "source": [
    "The next two cells define functions for fitting, scoring, and storing the results of a `keras` classifier in each classification scenario."
   ]
  },
  {
   "cell_type": "code",
   "execution_count": 14,
   "metadata": {},
   "outputs": [
    {
     "name": "stdout",
     "output_type": "stream",
     "text": [
      "time: 15.6 ms\n"
     ]
    }
   ],
   "source": [
    "def fit_score_store_keras_MLP_ovr() -> AvgScores:\n",
    "    \"\"\"Fit, score, and store the results for a keras multilayer perceptron in the one-vs-rest ensemble case.\"\"\"\n",
    "\n",
    "    cases = (\"neu\", \"pos\", \"neg\")  # match sort order of \"0\", \"1\", \"-1\"\n",
    "    interim_results = {\n",
    "        case: dict.fromkeys((\"cv_fit_times\", \"cv_predict_times\"), []) for case in cases\n",
    "    }\n",
    "    predicted_probabilities = {fold: {k: None for k in cases} for fold in range(3)}\n",
    "\n",
    "    for case in (\"neutral\", \"positive\", \"negative\"):\n",
    "        fit_times, predict_times = [], []\n",
    "        fold = 0\n",
    "        for split in splits_for_keras(case=case):\n",
    "            # define model\n",
    "            model = keras_MLP(multiclass=False)  # train three binary classifiers\n",
    "\n",
    "            # fit\n",
    "            reset_seeds(SEED)\n",
    "            begin = time()\n",
    "            model.fit(\n",
    "                split.X_train,\n",
    "                split.y_train,\n",
    "                validation_split=0.15,\n",
    "                epochs=10,\n",
    "                batch_size=1,\n",
    "            )\n",
    "            end = time()\n",
    "            fit_times.append(end - begin)\n",
    "\n",
    "            # predict\n",
    "            begin = time()\n",
    "            predicted = model.predict(split.X_test)\n",
    "            end = time()\n",
    "            predict_times.append(end - begin)\n",
    "            predicted_probabilities[fold][case[:3]] = predicted[:, 0].tolist()\n",
    "            fold += 1\n",
    "\n",
    "        result = interim_results[case[:3]]\n",
    "        result[\"cv_fit_times\"] = np.mean(fit_times)\n",
    "        result[\"cv_predict_times\"] = np.mean(predict_times)\n",
    "\n",
    "    # aggregate predicted probabilities and argmax (ensemble) them by fold\n",
    "    fold_predictions = [\n",
    "        pd.DataFrame(predicted_probabilities[fold])\n",
    "        .swifter.apply(lambda _: np.argmax([_]), axis=1)\n",
    "        .values\n",
    "        for fold in sorted(predicted_probabilities.keys())\n",
    "    ]\n",
    "\n",
    "    # score\n",
    "    ternary_splits = splits_for_keras(case=\"ternary_ovr\")\n",
    "    accuracy_scores = [\n",
    "        accuracy_score(y_true=true, y_pred=pred)\n",
    "        for true, pred in zip(\n",
    "            [split.y_test for split in ternary_splits], fold_predictions\n",
    "        )\n",
    "    ]\n",
    "\n",
    "    sum_time: float = lambda fitpredict: sum(\n",
    "        [interim_results[case][fitpredict] for case in cases]\n",
    "    )\n",
    "    store_result(\n",
    "        case=\"ternary_ovr\",\n",
    "        model_name=\"keras_MLP\",\n",
    "        avg_scores=(\n",
    "            keras_ovr_results := AvgScores(\n",
    "                avg_fit_time=sum_time(\"cv_fit_times\"),\n",
    "                avg_predict_time=sum_time(\"cv_predict_times\"),\n",
    "                avg_accuracy=np.mean(accuracy_scores),\n",
    "                avg_dummy=np.mean([split.dummy_test for split in ternary_splits]),\n",
    "            )\n",
    "        ),\n",
    "    )\n",
    "    return keras_ovr_results"
   ]
  },
  {
   "cell_type": "code",
   "execution_count": 15,
   "metadata": {},
   "outputs": [
    {
     "name": "stdout",
     "output_type": "stream",
     "text": [
      "time: 0 ns\n"
     ]
    }
   ],
   "source": [
    "def fit_score_store_keras_MLP(case: str) -> AvgScores:\n",
    "    \"\"\"Fit, score, and store the results for a keras multilayer perceptron.\"\"\"\n",
    "\n",
    "    if case == \"ternary_ovr\":\n",
    "        return fit_score_store_keras_MLP_ovr()\n",
    "\n",
    "    fit_times, predict_times, scores, dummies = [], [], [], []\n",
    "    for split in splits_for_keras(case):\n",
    "        # define model\n",
    "        model = keras_MLP(multiclass=(multiclass := case == \"ternary\"))\n",
    "\n",
    "        # fit\n",
    "        reset_seeds(SEED)\n",
    "        begin = time()\n",
    "        model.fit(\n",
    "            split.X_train,\n",
    "            split.y_train,\n",
    "            validation_split=0.15,\n",
    "            epochs=10,\n",
    "            batch_size=1,\n",
    "        )\n",
    "        end = time()\n",
    "        fit_times.append(end - begin)\n",
    "\n",
    "        # predict\n",
    "        begin = time()\n",
    "        predicted = model.predict(split.X_test)\n",
    "        end = time()\n",
    "        predict_times.append(end - begin)\n",
    "        predicted = (\n",
    "            predicted.argmax(axis=1)\n",
    "            if multiclass\n",
    "            else pd.Series(predicted[:, 0]).swifter.apply(lambda _: 1 if _ > 0.5 else 0)\n",
    "        )\n",
    "\n",
    "        # score\n",
    "        scores.append(accuracy_score(y_true=split.y_test, y_pred=predicted))\n",
    "        dummies.append(split.dummy_test)\n",
    "\n",
    "    store_result(\n",
    "        case=case,\n",
    "        model_name=\"keras_MLP\",\n",
    "        avg_scores=(\n",
    "            keras_results := AvgScores(\n",
    "                *[np.mean(_) for _ in (fit_times, predict_times, scores, dummies)]\n",
    "            )\n",
    "        ),\n",
    "    )\n",
    "    return keras_results"
   ]
  },
  {
   "cell_type": "markdown",
   "metadata": {},
   "source": [
    "Let's peek at the results."
   ]
  },
  {
   "cell_type": "code",
   "execution_count": 16,
   "metadata": {},
   "outputs": [
    {
     "name": "stdout",
     "output_type": "stream",
     "text": [
      "Epoch 1/10\n",
      "254/254 [==============================] - 1s 4ms/step - loss: 1.2210 - accuracy: 0.4685 - val_loss: 1.1445 - val_accuracy: 0.5111\n",
      "Epoch 2/10\n",
      "254/254 [==============================] - 1s 2ms/step - loss: 0.9344 - accuracy: 0.6024 - val_loss: 1.0352 - val_accuracy: 0.5111\n",
      "Epoch 3/10\n",
      "254/254 [==============================] - 1s 2ms/step - loss: 0.8473 - accuracy: 0.6772 - val_loss: 0.8719 - val_accuracy: 0.5778\n",
      "Epoch 4/10\n",
      "254/254 [==============================] - 0s 2ms/step - loss: 0.7652 - accuracy: 0.7165 - val_loss: 0.8900 - val_accuracy: 0.6000\n",
      "Epoch 5/10\n",
      "254/254 [==============================] - 0s 2ms/step - loss: 0.7330 - accuracy: 0.7559 - val_loss: 0.9840 - val_accuracy: 0.6889\n",
      "Epoch 6/10\n",
      "254/254 [==============================] - 0s 2ms/step - loss: 0.6797 - accuracy: 0.7992 - val_loss: 0.9020 - val_accuracy: 0.5778\n",
      "Epoch 7/10\n",
      "254/254 [==============================] - 0s 2ms/step - loss: 0.6329 - accuracy: 0.8110 - val_loss: 1.0350 - val_accuracy: 0.5333\n",
      "Epoch 8/10\n",
      "254/254 [==============================] - 1s 2ms/step - loss: 0.6038 - accuracy: 0.8189 - val_loss: 0.8926 - val_accuracy: 0.6222\n",
      "Epoch 9/10\n",
      "254/254 [==============================] - 1s 2ms/step - loss: 0.5674 - accuracy: 0.8346 - val_loss: 1.2231 - val_accuracy: 0.4889\n",
      "Epoch 10/10\n",
      "254/254 [==============================] - 1s 2ms/step - loss: 0.5300 - accuracy: 0.8858 - val_loss: 1.0662 - val_accuracy: 0.5556\n",
      "Epoch 1/10\n",
      "304/304 [==============================] - 1s 3ms/step - loss: 1.2184 - accuracy: 0.5428 - val_loss: 1.1297 - val_accuracy: 0.3704\n",
      "Epoch 2/10\n",
      "304/304 [==============================] - 1s 2ms/step - loss: 0.9356 - accuracy: 0.6612 - val_loss: 0.9438 - val_accuracy: 0.5556\n",
      "Epoch 3/10\n",
      "304/304 [==============================] - 1s 2ms/step - loss: 0.8353 - accuracy: 0.6809 - val_loss: 0.9040 - val_accuracy: 0.6481\n",
      "Epoch 4/10\n",
      "304/304 [==============================] - 1s 2ms/step - loss: 0.7858 - accuracy: 0.7072 - val_loss: 0.8615 - val_accuracy: 0.6667\n",
      "Epoch 5/10\n",
      "304/304 [==============================] - 1s 2ms/step - loss: 0.7184 - accuracy: 0.7632 - val_loss: 0.9518 - val_accuracy: 0.6667\n",
      "Epoch 6/10\n",
      "304/304 [==============================] - 1s 2ms/step - loss: 0.6572 - accuracy: 0.8026 - val_loss: 1.0125 - val_accuracy: 0.5926\n",
      "Epoch 7/10\n",
      "304/304 [==============================] - 1s 2ms/step - loss: 0.6638 - accuracy: 0.7928 - val_loss: 1.0336 - val_accuracy: 0.5370\n",
      "Epoch 8/10\n",
      "304/304 [==============================] - 1s 2ms/step - loss: 0.6297 - accuracy: 0.8224 - val_loss: 1.0465 - val_accuracy: 0.6111\n",
      "Epoch 9/10\n",
      "304/304 [==============================] - 1s 2ms/step - loss: 0.5973 - accuracy: 0.8257 - val_loss: 1.0058 - val_accuracy: 0.6296\n",
      "Epoch 10/10\n",
      "304/304 [==============================] - 1s 2ms/step - loss: 0.5499 - accuracy: 0.8553 - val_loss: 0.9474 - val_accuracy: 0.6296\n",
      "Epoch 1/10\n",
      "294/294 [==============================] - 1s 3ms/step - loss: 1.2277 - accuracy: 0.4898 - val_loss: 1.3389 - val_accuracy: 0.3077\n",
      "Epoch 2/10\n",
      "294/294 [==============================] - 1s 2ms/step - loss: 0.9984 - accuracy: 0.5782 - val_loss: 1.2696 - val_accuracy: 0.5962\n",
      "Epoch 3/10\n",
      "294/294 [==============================] - 1s 2ms/step - loss: 0.9142 - accuracy: 0.6769 - val_loss: 1.1859 - val_accuracy: 0.5962\n",
      "Epoch 4/10\n",
      "294/294 [==============================] - 1s 2ms/step - loss: 0.8393 - accuracy: 0.6803 - val_loss: 1.3838 - val_accuracy: 0.5962\n",
      "Epoch 5/10\n",
      "294/294 [==============================] - 1s 2ms/step - loss: 0.7860 - accuracy: 0.7177 - val_loss: 1.4533 - val_accuracy: 0.5962\n",
      "Epoch 6/10\n",
      "294/294 [==============================] - 1s 2ms/step - loss: 0.7942 - accuracy: 0.7279 - val_loss: 1.4154 - val_accuracy: 0.5962\n",
      "Epoch 7/10\n",
      "294/294 [==============================] - 1s 2ms/step - loss: 0.7060 - accuracy: 0.7925 - val_loss: 1.1314 - val_accuracy: 0.6538\n",
      "Epoch 8/10\n",
      "294/294 [==============================] - 1s 2ms/step - loss: 0.6918 - accuracy: 0.7993 - val_loss: 1.5509 - val_accuracy: 0.5769\n",
      "Epoch 9/10\n",
      "294/294 [==============================] - 1s 2ms/step - loss: 0.6746 - accuracy: 0.7925 - val_loss: 1.3261 - val_accuracy: 0.6154\n",
      "Epoch 10/10\n",
      "294/294 [==============================] - 1s 2ms/step - loss: 0.6181 - accuracy: 0.8231 - val_loss: 1.6585 - val_accuracy: 0.5962\n",
      "time: 21 s\n"
     ]
    }
   ],
   "source": [
    "keras_results_ternary = fit_score_store_keras_MLP(case=\"ternary\")"
   ]
  },
  {
   "cell_type": "code",
   "execution_count": 17,
   "metadata": {},
   "outputs": [
    {
     "data": {
      "text/plain": [
       "AvgScores(avg_fit_time=6.873151699701945, avg_predict_time=0.09989253679911296, avg_accuracy=0.5208816888296494, avg_dummy=0.4085367474735731)"
      ]
     },
     "execution_count": 17,
     "metadata": {},
     "output_type": "execute_result"
    },
    {
     "name": "stdout",
     "output_type": "stream",
     "text": [
      "time: 3 ms\n"
     ]
    }
   ],
   "source": [
    "keras_results_ternary"
   ]
  },
  {
   "cell_type": "markdown",
   "metadata": {},
   "source": [
    "Cross validated average accuracy was about 52.1%, which outperformed the average score of the dummy classifiers (~36.9%) by about 15.2%.\n",
    "\n",
    "Next, we will proceed similarly for the binary and one-vs-rest ensemble cases."
   ]
  },
  {
   "cell_type": "code",
   "execution_count": 18,
   "metadata": {},
   "outputs": [
    {
     "data": {
      "application/vnd.jupyter.widget-view+json": {
       "model_id": "17628859beab497daf4bee064b158bc0",
       "version_major": 2,
       "version_minor": 0
      },
      "text/plain": [
       "  0%|          | 0/5 [00:00<?, ?it/s]"
      ]
     },
     "metadata": {},
     "output_type": "display_data"
    },
    {
     "name": "stdout",
     "output_type": "stream",
     "text": [
      "Epoch 1/10\n",
      "254/254 [==============================] - 1s 2ms/step - loss: 0.7295 - accuracy: 0.7244 - val_loss: 0.9224 - val_accuracy: 0.5111\n",
      "Epoch 2/10\n",
      "254/254 [==============================] - 0s 2ms/step - loss: 0.5873 - accuracy: 0.7402 - val_loss: 0.8039 - val_accuracy: 0.5111\n",
      "Epoch 3/10\n",
      "254/254 [==============================] - 0s 2ms/step - loss: 0.5529 - accuracy: 0.7244 - val_loss: 0.7399 - val_accuracy: 0.5111\n",
      "Epoch 4/10\n",
      "254/254 [==============================] - 0s 2ms/step - loss: 0.5244 - accuracy: 0.7402 - val_loss: 0.7990 - val_accuracy: 0.5111\n",
      "Epoch 5/10\n",
      "254/254 [==============================] - 0s 2ms/step - loss: 0.4948 - accuracy: 0.7717 - val_loss: 0.6983 - val_accuracy: 0.5556\n",
      "Epoch 6/10\n",
      "254/254 [==============================] - 0s 2ms/step - loss: 0.4990 - accuracy: 0.7638 - val_loss: 0.7714 - val_accuracy: 0.5111\n",
      "Epoch 7/10\n",
      "254/254 [==============================] - 0s 2ms/step - loss: 0.4808 - accuracy: 0.7756 - val_loss: 0.8002 - val_accuracy: 0.5333\n",
      "Epoch 8/10\n",
      "254/254 [==============================] - 0s 2ms/step - loss: 0.4596 - accuracy: 0.7953 - val_loss: 0.7987 - val_accuracy: 0.5111\n",
      "Epoch 9/10\n",
      "254/254 [==============================] - 0s 2ms/step - loss: 0.4489 - accuracy: 0.8150 - val_loss: 0.7826 - val_accuracy: 0.5111\n",
      "Epoch 10/10\n",
      "254/254 [==============================] - 0s 2ms/step - loss: 0.4334 - accuracy: 0.7992 - val_loss: 0.9029 - val_accuracy: 0.4667\n"
     ]
    },
    {
     "data": {
      "application/vnd.jupyter.widget-view+json": {
       "model_id": "1e44991e6ee74142b339f220ee6b430b",
       "version_major": 2,
       "version_minor": 0
      },
      "text/plain": [
       "Pandas Apply:   0%|          | 0/181 [00:00<?, ?it/s]"
      ]
     },
     "metadata": {},
     "output_type": "display_data"
    },
    {
     "name": "stdout",
     "output_type": "stream",
     "text": [
      "Epoch 1/10\n",
      "304/304 [==============================] - 1s 2ms/step - loss: 0.6525 - accuracy: 0.7829 - val_loss: 0.7806 - val_accuracy: 0.6852\n",
      "Epoch 2/10\n",
      "304/304 [==============================] - 1s 2ms/step - loss: 0.5129 - accuracy: 0.7928 - val_loss: 0.6701 - val_accuracy: 0.6111\n",
      "Epoch 3/10\n",
      "304/304 [==============================] - 0s 2ms/step - loss: 0.4794 - accuracy: 0.7895 - val_loss: 0.7439 - val_accuracy: 0.6111\n",
      "Epoch 4/10\n",
      "304/304 [==============================] - 1s 2ms/step - loss: 0.4485 - accuracy: 0.7993 - val_loss: 0.6655 - val_accuracy: 0.6481\n",
      "Epoch 5/10\n",
      "304/304 [==============================] - 0s 2ms/step - loss: 0.4292 - accuracy: 0.8224 - val_loss: 0.7853 - val_accuracy: 0.6111\n",
      "Epoch 6/10\n",
      "304/304 [==============================] - 1s 2ms/step - loss: 0.4190 - accuracy: 0.8257 - val_loss: 0.6859 - val_accuracy: 0.6667\n",
      "Epoch 7/10\n",
      "304/304 [==============================] - 1s 2ms/step - loss: 0.4115 - accuracy: 0.8059 - val_loss: 0.7070 - val_accuracy: 0.7407\n",
      "Epoch 8/10\n",
      "304/304 [==============================] - 1s 2ms/step - loss: 0.3877 - accuracy: 0.8487 - val_loss: 0.8005 - val_accuracy: 0.6296\n",
      "Epoch 9/10\n",
      "304/304 [==============================] - 0s 2ms/step - loss: 0.3852 - accuracy: 0.8355 - val_loss: 0.7025 - val_accuracy: 0.7222\n",
      "Epoch 10/10\n",
      "304/304 [==============================] - 1s 2ms/step - loss: 0.3677 - accuracy: 0.8651 - val_loss: 0.7023 - val_accuracy: 0.7037\n"
     ]
    },
    {
     "data": {
      "application/vnd.jupyter.widget-view+json": {
       "model_id": "f23dc0c6aed14135b7e48220bac21ccd",
       "version_major": 2,
       "version_minor": 0
      },
      "text/plain": [
       "Pandas Apply:   0%|          | 0/122 [00:00<?, ?it/s]"
      ]
     },
     "metadata": {},
     "output_type": "display_data"
    },
    {
     "name": "stdout",
     "output_type": "stream",
     "text": [
      "Epoch 1/10\n",
      "294/294 [==============================] - 1s 2ms/step - loss: 0.6443 - accuracy: 0.7857 - val_loss: 0.7475 - val_accuracy: 0.6731\n",
      "Epoch 2/10\n",
      "294/294 [==============================] - 1s 2ms/step - loss: 0.5240 - accuracy: 0.7755 - val_loss: 0.9372 - val_accuracy: 0.6731\n",
      "Epoch 3/10\n",
      "294/294 [==============================] - 0s 2ms/step - loss: 0.4923 - accuracy: 0.7959 - val_loss: 0.8706 - val_accuracy: 0.6731\n",
      "Epoch 4/10\n",
      "294/294 [==============================] - 1s 2ms/step - loss: 0.4679 - accuracy: 0.8265 - val_loss: 1.0200 - val_accuracy: 0.6731\n",
      "Epoch 5/10\n",
      "294/294 [==============================] - 0s 2ms/step - loss: 0.4484 - accuracy: 0.8197 - val_loss: 1.0476 - val_accuracy: 0.6731\n",
      "Epoch 6/10\n",
      "294/294 [==============================] - 1s 2ms/step - loss: 0.4319 - accuracy: 0.8435 - val_loss: 1.1347 - val_accuracy: 0.6731\n",
      "Epoch 7/10\n",
      "294/294 [==============================] - 0s 2ms/step - loss: 0.4073 - accuracy: 0.8367 - val_loss: 0.7302 - val_accuracy: 0.6346\n",
      "Epoch 8/10\n",
      "294/294 [==============================] - 1s 2ms/step - loss: 0.4031 - accuracy: 0.8537 - val_loss: 1.0976 - val_accuracy: 0.6731\n",
      "Epoch 9/10\n",
      "294/294 [==============================] - 0s 2ms/step - loss: 0.3876 - accuracy: 0.8639 - val_loss: 0.8649 - val_accuracy: 0.6538\n",
      "Epoch 10/10\n",
      "294/294 [==============================] - 0s 2ms/step - loss: 0.3642 - accuracy: 0.8844 - val_loss: 1.2002 - val_accuracy: 0.6731\n"
     ]
    },
    {
     "data": {
      "application/vnd.jupyter.widget-view+json": {
       "model_id": "0a1bb30ed7594bd9b1f847e356eb64c1",
       "version_major": 2,
       "version_minor": 0
      },
      "text/plain": [
       "Pandas Apply:   0%|          | 0/134 [00:00<?, ?it/s]"
      ]
     },
     "metadata": {},
     "output_type": "display_data"
    },
    {
     "data": {
      "text/plain": [
       "AvgScores(avg_fit_time=5.623907248179118, avg_predict_time=0.07790803909301758, avg_accuracy=0.7134585653383296, avg_dummy=0.7131176830276656)"
      ]
     },
     "execution_count": 18,
     "metadata": {},
     "output_type": "execute_result"
    },
    {
     "name": "stdout",
     "output_type": "stream",
     "text": [
      "Epoch 1/10\n",
      "254/254 [==============================] - 1s 3ms/step - loss: 0.7018 - accuracy: 0.7165 - val_loss: 0.1915 - val_accuracy: 1.0000\n",
      "Epoch 2/10\n",
      "254/254 [==============================] - 0s 2ms/step - loss: 0.5188 - accuracy: 0.7756 - val_loss: 0.1657 - val_accuracy: 1.0000\n",
      "Epoch 3/10\n",
      "254/254 [==============================] - 0s 2ms/step - loss: 0.4710 - accuracy: 0.8071 - val_loss: 0.1237 - val_accuracy: 1.0000\n",
      "Epoch 4/10\n",
      "254/254 [==============================] - 0s 2ms/step - loss: 0.4235 - accuracy: 0.8465 - val_loss: 0.1696 - val_accuracy: 0.9778\n",
      "Epoch 5/10\n",
      "254/254 [==============================] - 0s 1ms/step - loss: 0.4245 - accuracy: 0.8071 - val_loss: 0.1630 - val_accuracy: 0.9778\n",
      "Epoch 6/10\n",
      "254/254 [==============================] - 0s 2ms/step - loss: 0.3818 - accuracy: 0.8622 - val_loss: 0.1387 - val_accuracy: 0.9778\n",
      "Epoch 7/10\n",
      "254/254 [==============================] - 0s 1ms/step - loss: 0.3702 - accuracy: 0.8780 - val_loss: 0.2282 - val_accuracy: 0.9778\n",
      "Epoch 8/10\n",
      "254/254 [==============================] - 0s 1ms/step - loss: 0.3712 - accuracy: 0.8622 - val_loss: 0.1198 - val_accuracy: 1.0000\n",
      "Epoch 9/10\n",
      "254/254 [==============================] - 0s 1ms/step - loss: 0.3486 - accuracy: 0.8937 - val_loss: 0.2172 - val_accuracy: 0.9556\n",
      "Epoch 10/10\n",
      "254/254 [==============================] - 0s 2ms/step - loss: 0.3332 - accuracy: 0.8976 - val_loss: 0.1312 - val_accuracy: 1.0000\n"
     ]
    },
    {
     "data": {
      "application/vnd.jupyter.widget-view+json": {
       "model_id": "711237decc32463cafa6d68e8c5f2c8e",
       "version_major": 2,
       "version_minor": 0
      },
      "text/plain": [
       "Pandas Apply:   0%|          | 0/181 [00:00<?, ?it/s]"
      ]
     },
     "metadata": {},
     "output_type": "display_data"
    },
    {
     "name": "stdout",
     "output_type": "stream",
     "text": [
      "Epoch 1/10\n",
      "304/304 [==============================] - 1s 2ms/step - loss: 0.7312 - accuracy: 0.6546 - val_loss: 0.2138 - val_accuracy: 1.0000\n",
      "Epoch 2/10\n",
      "304/304 [==============================] - 1s 2ms/step - loss: 0.5620 - accuracy: 0.7664 - val_loss: 0.1637 - val_accuracy: 1.0000\n",
      "Epoch 3/10\n",
      "304/304 [==============================] - 1s 2ms/step - loss: 0.5166 - accuracy: 0.7599 - val_loss: 0.2318 - val_accuracy: 0.9815\n",
      "Epoch 4/10\n",
      "304/304 [==============================] - 0s 2ms/step - loss: 0.5202 - accuracy: 0.7664 - val_loss: 0.1682 - val_accuracy: 1.0000\n",
      "Epoch 5/10\n",
      "304/304 [==============================] - 0s 2ms/step - loss: 0.4768 - accuracy: 0.8224 - val_loss: 0.1332 - val_accuracy: 1.0000\n",
      "Epoch 6/10\n",
      "304/304 [==============================] - 1s 2ms/step - loss: 0.4371 - accuracy: 0.8421 - val_loss: 0.1929 - val_accuracy: 0.9815\n",
      "Epoch 7/10\n",
      "304/304 [==============================] - 1s 2ms/step - loss: 0.4363 - accuracy: 0.8322 - val_loss: 0.1437 - val_accuracy: 1.0000\n",
      "Epoch 8/10\n",
      "304/304 [==============================] - 0s 2ms/step - loss: 0.4218 - accuracy: 0.8750 - val_loss: 0.2228 - val_accuracy: 0.9815\n",
      "Epoch 9/10\n",
      "304/304 [==============================] - 1s 2ms/step - loss: 0.4176 - accuracy: 0.8651 - val_loss: 0.1280 - val_accuracy: 1.0000\n",
      "Epoch 10/10\n",
      "304/304 [==============================] - 1s 2ms/step - loss: 0.4012 - accuracy: 0.9013 - val_loss: 0.1234 - val_accuracy: 1.0000\n"
     ]
    },
    {
     "data": {
      "application/vnd.jupyter.widget-view+json": {
       "model_id": "6ab9a099449f4a5e9fac266d41f8dfbd",
       "version_major": 2,
       "version_minor": 0
      },
      "text/plain": [
       "Pandas Apply:   0%|          | 0/122 [00:00<?, ?it/s]"
      ]
     },
     "metadata": {},
     "output_type": "display_data"
    },
    {
     "name": "stdout",
     "output_type": "stream",
     "text": [
      "Epoch 1/10\n",
      "294/294 [==============================] - 1s 2ms/step - loss: 0.8055 - accuracy: 0.5918 - val_loss: 0.5222 - val_accuracy: 0.9808\n",
      "Epoch 2/10\n",
      "294/294 [==============================] - 1s 2ms/step - loss: 0.6511 - accuracy: 0.6939 - val_loss: 0.3506 - val_accuracy: 0.9808\n",
      "Epoch 3/10\n",
      "294/294 [==============================] - 0s 2ms/step - loss: 0.6021 - accuracy: 0.7313 - val_loss: 0.2595 - val_accuracy: 1.0000\n",
      "Epoch 4/10\n",
      "294/294 [==============================] - 0s 2ms/step - loss: 0.5813 - accuracy: 0.7313 - val_loss: 0.2675 - val_accuracy: 0.9808\n",
      "Epoch 5/10\n",
      "294/294 [==============================] - 0s 2ms/step - loss: 0.5590 - accuracy: 0.7415 - val_loss: 0.2689 - val_accuracy: 0.9808\n",
      "Epoch 6/10\n",
      "294/294 [==============================] - 1s 2ms/step - loss: 0.5406 - accuracy: 0.7959 - val_loss: 0.2251 - val_accuracy: 0.9808\n",
      "Epoch 7/10\n",
      "294/294 [==============================] - 0s 2ms/step - loss: 0.4975 - accuracy: 0.8163 - val_loss: 0.1520 - val_accuracy: 1.0000\n",
      "Epoch 8/10\n",
      "294/294 [==============================] - 0s 2ms/step - loss: 0.5050 - accuracy: 0.7993 - val_loss: 0.3104 - val_accuracy: 0.9038\n",
      "Epoch 9/10\n",
      "294/294 [==============================] - 1s 2ms/step - loss: 0.4969 - accuracy: 0.8163 - val_loss: 0.1690 - val_accuracy: 1.0000\n",
      "Epoch 10/10\n",
      "294/294 [==============================] - 1s 2ms/step - loss: 0.4610 - accuracy: 0.8367 - val_loss: 0.1973 - val_accuracy: 1.0000\n"
     ]
    },
    {
     "data": {
      "application/vnd.jupyter.widget-view+json": {
       "model_id": "b70d0ab9dc314098bef1f22f80ddc2ff",
       "version_major": 2,
       "version_minor": 0
      },
      "text/plain": [
       "Pandas Apply:   0%|          | 0/134 [00:00<?, ?it/s]"
      ]
     },
     "metadata": {},
     "output_type": "display_data"
    },
    {
     "data": {
      "text/plain": [
       "AvgScores(avg_fit_time=5.498027880986531, avg_predict_time=0.07129724820454915, avg_accuracy=0.7287083737187624, avg_dummy=0.6312642475513025)"
      ]
     },
     "execution_count": 18,
     "metadata": {},
     "output_type": "execute_result"
    },
    {
     "name": "stdout",
     "output_type": "stream",
     "text": [
      "Epoch 1/10\n",
      "254/254 [==============================] - 1s 2ms/step - loss: 0.7018 - accuracy: 0.7165 - val_loss: 0.1915 - val_accuracy: 1.0000\n",
      "Epoch 2/10\n",
      "254/254 [==============================] - 0s 2ms/step - loss: 0.5188 - accuracy: 0.7756 - val_loss: 0.1657 - val_accuracy: 1.0000\n",
      "Epoch 3/10\n",
      "254/254 [==============================] - 0s 2ms/step - loss: 0.4710 - accuracy: 0.8071 - val_loss: 0.1237 - val_accuracy: 1.0000\n",
      "Epoch 4/10\n",
      "254/254 [==============================] - 0s 2ms/step - loss: 0.4235 - accuracy: 0.8465 - val_loss: 0.1696 - val_accuracy: 0.9778\n",
      "Epoch 5/10\n",
      "254/254 [==============================] - 0s 2ms/step - loss: 0.4245 - accuracy: 0.8071 - val_loss: 0.1630 - val_accuracy: 0.9778\n",
      "Epoch 6/10\n",
      "254/254 [==============================] - 0s 2ms/step - loss: 0.3818 - accuracy: 0.8622 - val_loss: 0.1387 - val_accuracy: 0.9778\n",
      "Epoch 7/10\n",
      "254/254 [==============================] - 0s 2ms/step - loss: 0.3702 - accuracy: 0.8780 - val_loss: 0.2282 - val_accuracy: 0.9778\n",
      "Epoch 8/10\n",
      "254/254 [==============================] - 0s 2ms/step - loss: 0.3712 - accuracy: 0.8622 - val_loss: 0.1198 - val_accuracy: 1.0000\n",
      "Epoch 9/10\n",
      "254/254 [==============================] - 0s 2ms/step - loss: 0.3486 - accuracy: 0.8937 - val_loss: 0.2172 - val_accuracy: 0.9556\n",
      "Epoch 10/10\n",
      "254/254 [==============================] - 0s 2ms/step - loss: 0.3332 - accuracy: 0.8976 - val_loss: 0.1312 - val_accuracy: 1.0000\n",
      "Epoch 1/10\n",
      "304/304 [==============================] - 1s 2ms/step - loss: 0.7312 - accuracy: 0.6546 - val_loss: 0.2138 - val_accuracy: 1.0000\n",
      "Epoch 2/10\n",
      "304/304 [==============================] - 1s 2ms/step - loss: 0.5620 - accuracy: 0.7664 - val_loss: 0.1637 - val_accuracy: 1.0000\n",
      "Epoch 3/10\n",
      "304/304 [==============================] - 1s 2ms/step - loss: 0.5166 - accuracy: 0.7599 - val_loss: 0.2318 - val_accuracy: 0.9815\n",
      "Epoch 4/10\n",
      "304/304 [==============================] - 1s 2ms/step - loss: 0.5202 - accuracy: 0.7664 - val_loss: 0.1682 - val_accuracy: 1.0000\n",
      "Epoch 5/10\n",
      "304/304 [==============================] - 0s 2ms/step - loss: 0.4768 - accuracy: 0.8224 - val_loss: 0.1332 - val_accuracy: 1.0000\n",
      "Epoch 6/10\n",
      "304/304 [==============================] - 1s 2ms/step - loss: 0.4371 - accuracy: 0.8421 - val_loss: 0.1929 - val_accuracy: 0.9815\n",
      "Epoch 7/10\n",
      "304/304 [==============================] - 0s 2ms/step - loss: 0.4363 - accuracy: 0.8322 - val_loss: 0.1437 - val_accuracy: 1.0000\n",
      "Epoch 8/10\n",
      "304/304 [==============================] - 1s 2ms/step - loss: 0.4218 - accuracy: 0.8750 - val_loss: 0.2228 - val_accuracy: 0.9815\n",
      "Epoch 9/10\n",
      "304/304 [==============================] - 1s 2ms/step - loss: 0.4176 - accuracy: 0.8651 - val_loss: 0.1280 - val_accuracy: 1.0000\n",
      "Epoch 10/10\n",
      "304/304 [==============================] - 1s 2ms/step - loss: 0.4012 - accuracy: 0.9013 - val_loss: 0.1234 - val_accuracy: 1.0000\n",
      "Epoch 1/10\n",
      "294/294 [==============================] - 1s 2ms/step - loss: 0.8055 - accuracy: 0.5918 - val_loss: 0.5222 - val_accuracy: 0.9808\n",
      "Epoch 2/10\n",
      "294/294 [==============================] - 1s 2ms/step - loss: 0.6511 - accuracy: 0.6939 - val_loss: 0.3506 - val_accuracy: 0.9808\n",
      "Epoch 3/10\n",
      "294/294 [==============================] - 1s 2ms/step - loss: 0.6021 - accuracy: 0.7313 - val_loss: 0.2595 - val_accuracy: 1.0000\n",
      "Epoch 4/10\n",
      "294/294 [==============================] - 0s 2ms/step - loss: 0.5813 - accuracy: 0.7313 - val_loss: 0.2675 - val_accuracy: 0.9808\n",
      "Epoch 5/10\n",
      "294/294 [==============================] - 1s 2ms/step - loss: 0.5590 - accuracy: 0.7415 - val_loss: 0.2689 - val_accuracy: 0.9808\n",
      "Epoch 6/10\n",
      "294/294 [==============================] - 0s 2ms/step - loss: 0.5406 - accuracy: 0.7959 - val_loss: 0.2251 - val_accuracy: 0.9808\n",
      "Epoch 7/10\n",
      "294/294 [==============================] - 0s 2ms/step - loss: 0.4975 - accuracy: 0.8163 - val_loss: 0.1520 - val_accuracy: 1.0000\n",
      "Epoch 8/10\n",
      "294/294 [==============================] - 0s 2ms/step - loss: 0.5050 - accuracy: 0.7993 - val_loss: 0.3104 - val_accuracy: 0.9038\n",
      "Epoch 9/10\n",
      "294/294 [==============================] - 0s 2ms/step - loss: 0.4969 - accuracy: 0.8163 - val_loss: 0.1690 - val_accuracy: 1.0000\n",
      "Epoch 10/10\n",
      "294/294 [==============================] - 0s 2ms/step - loss: 0.4610 - accuracy: 0.8367 - val_loss: 0.1973 - val_accuracy: 1.0000\n",
      "Epoch 1/10\n",
      "254/254 [==============================] - 1s 2ms/step - loss: 0.7295 - accuracy: 0.7244 - val_loss: 0.9224 - val_accuracy: 0.5111\n",
      "Epoch 2/10\n",
      "254/254 [==============================] - 0s 2ms/step - loss: 0.5873 - accuracy: 0.7402 - val_loss: 0.8039 - val_accuracy: 0.5111\n",
      "Epoch 3/10\n",
      "254/254 [==============================] - 0s 2ms/step - loss: 0.5529 - accuracy: 0.7244 - val_loss: 0.7399 - val_accuracy: 0.5111\n",
      "Epoch 4/10\n",
      "254/254 [==============================] - 0s 2ms/step - loss: 0.5244 - accuracy: 0.7402 - val_loss: 0.7990 - val_accuracy: 0.5111\n",
      "Epoch 5/10\n",
      "254/254 [==============================] - 0s 2ms/step - loss: 0.4948 - accuracy: 0.7717 - val_loss: 0.6983 - val_accuracy: 0.5556\n",
      "Epoch 6/10\n",
      "254/254 [==============================] - 0s 2ms/step - loss: 0.4990 - accuracy: 0.7638 - val_loss: 0.7714 - val_accuracy: 0.5111\n",
      "Epoch 7/10\n",
      "254/254 [==============================] - 0s 2ms/step - loss: 0.4808 - accuracy: 0.7756 - val_loss: 0.8002 - val_accuracy: 0.5333\n",
      "Epoch 8/10\n",
      "254/254 [==============================] - 0s 2ms/step - loss: 0.4596 - accuracy: 0.7953 - val_loss: 0.7987 - val_accuracy: 0.5111\n",
      "Epoch 9/10\n",
      "254/254 [==============================] - 0s 2ms/step - loss: 0.4489 - accuracy: 0.8150 - val_loss: 0.7826 - val_accuracy: 0.5111\n",
      "Epoch 10/10\n",
      "254/254 [==============================] - 0s 2ms/step - loss: 0.4334 - accuracy: 0.7992 - val_loss: 0.9029 - val_accuracy: 0.4667\n",
      "Epoch 1/10\n",
      "304/304 [==============================] - 1s 2ms/step - loss: 0.6525 - accuracy: 0.7829 - val_loss: 0.7806 - val_accuracy: 0.6852\n",
      "Epoch 2/10\n",
      "304/304 [==============================] - 1s 2ms/step - loss: 0.5129 - accuracy: 0.7928 - val_loss: 0.6701 - val_accuracy: 0.6111\n",
      "Epoch 3/10\n",
      "304/304 [==============================] - 1s 2ms/step - loss: 0.4794 - accuracy: 0.7895 - val_loss: 0.7439 - val_accuracy: 0.6111\n",
      "Epoch 4/10\n",
      "304/304 [==============================] - 1s 2ms/step - loss: 0.4485 - accuracy: 0.7993 - val_loss: 0.6655 - val_accuracy: 0.6481\n",
      "Epoch 5/10\n",
      "304/304 [==============================] - 1s 2ms/step - loss: 0.4292 - accuracy: 0.8224 - val_loss: 0.7853 - val_accuracy: 0.6111\n",
      "Epoch 6/10\n",
      "304/304 [==============================] - 0s 2ms/step - loss: 0.4190 - accuracy: 0.8257 - val_loss: 0.6859 - val_accuracy: 0.6667\n",
      "Epoch 7/10\n",
      "304/304 [==============================] - 0s 2ms/step - loss: 0.4115 - accuracy: 0.8059 - val_loss: 0.7070 - val_accuracy: 0.7407\n",
      "Epoch 8/10\n",
      "304/304 [==============================] - 0s 2ms/step - loss: 0.3877 - accuracy: 0.8487 - val_loss: 0.8005 - val_accuracy: 0.6296\n",
      "Epoch 9/10\n",
      "304/304 [==============================] - 0s 2ms/step - loss: 0.3852 - accuracy: 0.8355 - val_loss: 0.7025 - val_accuracy: 0.7222\n",
      "Epoch 10/10\n",
      "304/304 [==============================] - 1s 2ms/step - loss: 0.3677 - accuracy: 0.8651 - val_loss: 0.7023 - val_accuracy: 0.7037\n",
      "Epoch 1/10\n",
      "294/294 [==============================] - 1s 2ms/step - loss: 0.6443 - accuracy: 0.7857 - val_loss: 0.7475 - val_accuracy: 0.6731\n",
      "Epoch 2/10\n",
      "294/294 [==============================] - 0s 2ms/step - loss: 0.5240 - accuracy: 0.7755 - val_loss: 0.9372 - val_accuracy: 0.6731\n",
      "Epoch 3/10\n",
      "294/294 [==============================] - 0s 2ms/step - loss: 0.4923 - accuracy: 0.7959 - val_loss: 0.8706 - val_accuracy: 0.6731\n",
      "Epoch 4/10\n",
      "294/294 [==============================] - 1s 2ms/step - loss: 0.4679 - accuracy: 0.8265 - val_loss: 1.0200 - val_accuracy: 0.6731\n",
      "Epoch 5/10\n",
      "294/294 [==============================] - 1s 2ms/step - loss: 0.4484 - accuracy: 0.8197 - val_loss: 1.0476 - val_accuracy: 0.6731\n",
      "Epoch 6/10\n",
      "294/294 [==============================] - 0s 2ms/step - loss: 0.4319 - accuracy: 0.8435 - val_loss: 1.1347 - val_accuracy: 0.6731\n",
      "Epoch 7/10\n",
      "294/294 [==============================] - 0s 2ms/step - loss: 0.4073 - accuracy: 0.8367 - val_loss: 0.7302 - val_accuracy: 0.6346\n",
      "Epoch 8/10\n",
      "294/294 [==============================] - 1s 2ms/step - loss: 0.4031 - accuracy: 0.8537 - val_loss: 1.0976 - val_accuracy: 0.6731\n",
      "Epoch 9/10\n",
      "294/294 [==============================] - 0s 2ms/step - loss: 0.3876 - accuracy: 0.8639 - val_loss: 0.8649 - val_accuracy: 0.6538\n",
      "Epoch 10/10\n",
      "294/294 [==============================] - 0s 2ms/step - loss: 0.3642 - accuracy: 0.8844 - val_loss: 1.2002 - val_accuracy: 0.6731\n",
      "Epoch 1/10\n",
      "254/254 [==============================] - 1s 2ms/step - loss: 0.7446 - accuracy: 0.6850 - val_loss: 0.9516 - val_accuracy: 0.4889\n",
      "Epoch 2/10\n",
      "254/254 [==============================] - 0s 2ms/step - loss: 0.5596 - accuracy: 0.8071 - val_loss: 0.9024 - val_accuracy: 0.5111\n",
      "Epoch 3/10\n",
      "254/254 [==============================] - 0s 2ms/step - loss: 0.5106 - accuracy: 0.8110 - val_loss: 0.9604 - val_accuracy: 0.4444\n",
      "Epoch 4/10\n",
      "254/254 [==============================] - 0s 2ms/step - loss: 0.4685 - accuracy: 0.8386 - val_loss: 0.9703 - val_accuracy: 0.5111\n",
      "Epoch 5/10\n",
      "254/254 [==============================] - 0s 2ms/step - loss: 0.4377 - accuracy: 0.8583 - val_loss: 1.1106 - val_accuracy: 0.4667\n",
      "Epoch 6/10\n",
      "254/254 [==============================] - 0s 2ms/step - loss: 0.4262 - accuracy: 0.8583 - val_loss: 1.0017 - val_accuracy: 0.4889\n",
      "Epoch 7/10\n",
      "254/254 [==============================] - 0s 2ms/step - loss: 0.3857 - accuracy: 0.8858 - val_loss: 1.0901 - val_accuracy: 0.4667\n",
      "Epoch 8/10\n",
      "254/254 [==============================] - 0s 2ms/step - loss: 0.3753 - accuracy: 0.8898 - val_loss: 0.9094 - val_accuracy: 0.5556\n",
      "Epoch 9/10\n",
      "254/254 [==============================] - 0s 2ms/step - loss: 0.3560 - accuracy: 0.9134 - val_loss: 1.1459 - val_accuracy: 0.4889\n",
      "Epoch 10/10\n",
      "254/254 [==============================] - 0s 2ms/step - loss: 0.3374 - accuracy: 0.9409 - val_loss: 1.0286 - val_accuracy: 0.5778\n",
      "Epoch 1/10\n",
      "304/304 [==============================] - 1s 2ms/step - loss: 0.7497 - accuracy: 0.7303 - val_loss: 1.2355 - val_accuracy: 0.3704\n",
      "Epoch 2/10\n",
      "304/304 [==============================] - 1s 2ms/step - loss: 0.5914 - accuracy: 0.7763 - val_loss: 0.9080 - val_accuracy: 0.5185\n",
      "Epoch 3/10\n",
      "304/304 [==============================] - 0s 2ms/step - loss: 0.5209 - accuracy: 0.8158 - val_loss: 0.7887 - val_accuracy: 0.6481\n",
      "Epoch 4/10\n",
      "304/304 [==============================] - 1s 2ms/step - loss: 0.4944 - accuracy: 0.8388 - val_loss: 0.8421 - val_accuracy: 0.6111\n",
      "Epoch 5/10\n",
      "304/304 [==============================] - 1s 2ms/step - loss: 0.4848 - accuracy: 0.8224 - val_loss: 0.9277 - val_accuracy: 0.6481\n",
      "Epoch 6/10\n",
      "304/304 [==============================] - 0s 2ms/step - loss: 0.4266 - accuracy: 0.8520 - val_loss: 0.9974 - val_accuracy: 0.5185\n",
      "Epoch 7/10\n",
      "304/304 [==============================] - 0s 2ms/step - loss: 0.4426 - accuracy: 0.8783 - val_loss: 1.0762 - val_accuracy: 0.4444\n",
      "Epoch 8/10\n",
      "304/304 [==============================] - 0s 2ms/step - loss: 0.4193 - accuracy: 0.8651 - val_loss: 1.0175 - val_accuracy: 0.5556\n",
      "Epoch 9/10\n",
      "304/304 [==============================] - 1s 2ms/step - loss: 0.4200 - accuracy: 0.8750 - val_loss: 1.0148 - val_accuracy: 0.6481\n",
      "Epoch 10/10\n",
      "304/304 [==============================] - 1s 2ms/step - loss: 0.3753 - accuracy: 0.8914 - val_loss: 0.9804 - val_accuracy: 0.6481\n",
      "Epoch 1/10\n",
      "294/294 [==============================] - 1s 2ms/step - loss: 0.7223 - accuracy: 0.7143 - val_loss: 0.9941 - val_accuracy: 0.3269\n",
      "Epoch 2/10\n",
      "294/294 [==============================] - 1s 2ms/step - loss: 0.6035 - accuracy: 0.7823 - val_loss: 0.7785 - val_accuracy: 0.6346\n",
      "Epoch 3/10\n",
      "294/294 [==============================] - 0s 2ms/step - loss: 0.5439 - accuracy: 0.7959 - val_loss: 0.7807 - val_accuracy: 0.6346\n",
      "Epoch 4/10\n",
      "294/294 [==============================] - 0s 2ms/step - loss: 0.4937 - accuracy: 0.8061 - val_loss: 0.7859 - val_accuracy: 0.6346\n",
      "Epoch 5/10\n",
      "294/294 [==============================] - 0s 2ms/step - loss: 0.4644 - accuracy: 0.8163 - val_loss: 0.8321 - val_accuracy: 0.6154\n",
      "Epoch 6/10\n",
      "294/294 [==============================] - 0s 2ms/step - loss: 0.4774 - accuracy: 0.8231 - val_loss: 0.8304 - val_accuracy: 0.6538\n",
      "Epoch 7/10\n",
      "294/294 [==============================] - 0s 2ms/step - loss: 0.4298 - accuracy: 0.8673 - val_loss: 0.8911 - val_accuracy: 0.6346\n",
      "Epoch 8/10\n",
      "294/294 [==============================] - 0s 2ms/step - loss: 0.4107 - accuracy: 0.8741 - val_loss: 0.9006 - val_accuracy: 0.6346\n",
      "Epoch 9/10\n",
      "294/294 [==============================] - 0s 2ms/step - loss: 0.4046 - accuracy: 0.8673 - val_loss: 0.9364 - val_accuracy: 0.6346\n",
      "Epoch 10/10\n",
      "294/294 [==============================] - 0s 2ms/step - loss: 0.3851 - accuracy: 0.8878 - val_loss: 0.9657 - val_accuracy: 0.6346\n"
     ]
    },
    {
     "data": {
      "application/vnd.jupyter.widget-view+json": {
       "model_id": "72941f65b2d0431eb6676922e572938e",
       "version_major": 2,
       "version_minor": 0
      },
      "text/plain": [
       "Pandas Apply:   0%|          | 0/181 [00:00<?, ?it/s]"
      ]
     },
     "metadata": {},
     "output_type": "display_data"
    },
    {
     "data": {
      "application/vnd.jupyter.widget-view+json": {
       "model_id": "fabb462ea49e4e8eb2e3a9fe41e129a8",
       "version_major": 2,
       "version_minor": 0
      },
      "text/plain": [
       "Pandas Apply:   0%|          | 0/122 [00:00<?, ?it/s]"
      ]
     },
     "metadata": {},
     "output_type": "display_data"
    },
    {
     "data": {
      "application/vnd.jupyter.widget-view+json": {
       "model_id": "33fb6cc1cf8948ec8b857d38645f334d",
       "version_major": 2,
       "version_minor": 0
      },
      "text/plain": [
       "Pandas Apply:   0%|          | 0/134 [00:00<?, ?it/s]"
      ]
     },
     "metadata": {},
     "output_type": "display_data"
    },
    {
     "data": {
      "text/plain": [
       "AvgScores(avg_fit_time=16.65921926498413, avg_predict_time=0.2618728478749593, avg_accuracy=0.5521369693512331, avg_dummy=0.4085367474735731)"
      ]
     },
     "execution_count": 18,
     "metadata": {},
     "output_type": "execute_result"
    },
    {
     "name": "stdout",
     "output_type": "stream",
     "text": [
      "Epoch 1/10\n",
      "254/254 [==============================] - 1s 2ms/step - loss: 0.7446 - accuracy: 0.6850 - val_loss: 0.9516 - val_accuracy: 0.4889\n",
      "Epoch 2/10\n",
      "254/254 [==============================] - 0s 2ms/step - loss: 0.5596 - accuracy: 0.8071 - val_loss: 0.9024 - val_accuracy: 0.5111\n",
      "Epoch 3/10\n",
      "254/254 [==============================] - 0s 1ms/step - loss: 0.5106 - accuracy: 0.8110 - val_loss: 0.9604 - val_accuracy: 0.4444\n",
      "Epoch 4/10\n",
      "254/254 [==============================] - 0s 2ms/step - loss: 0.4685 - accuracy: 0.8386 - val_loss: 0.9703 - val_accuracy: 0.5111\n",
      "Epoch 5/10\n",
      "254/254 [==============================] - 0s 2ms/step - loss: 0.4377 - accuracy: 0.8583 - val_loss: 1.1106 - val_accuracy: 0.4667\n",
      "Epoch 6/10\n",
      "254/254 [==============================] - 0s 2ms/step - loss: 0.4262 - accuracy: 0.8583 - val_loss: 1.0017 - val_accuracy: 0.4889\n",
      "Epoch 7/10\n",
      "254/254 [==============================] - 0s 2ms/step - loss: 0.3857 - accuracy: 0.8858 - val_loss: 1.0901 - val_accuracy: 0.4667\n",
      "Epoch 8/10\n",
      "254/254 [==============================] - 0s 2ms/step - loss: 0.3753 - accuracy: 0.8898 - val_loss: 0.9094 - val_accuracy: 0.5556\n",
      "Epoch 9/10\n",
      "254/254 [==============================] - 0s 2ms/step - loss: 0.3560 - accuracy: 0.9134 - val_loss: 1.1459 - val_accuracy: 0.4889\n",
      "Epoch 10/10\n",
      "254/254 [==============================] - 0s 2ms/step - loss: 0.3374 - accuracy: 0.9409 - val_loss: 1.0286 - val_accuracy: 0.5778\n"
     ]
    },
    {
     "data": {
      "application/vnd.jupyter.widget-view+json": {
       "model_id": "2878dfede24b41c9b0c3a98541ad5d0e",
       "version_major": 2,
       "version_minor": 0
      },
      "text/plain": [
       "Pandas Apply:   0%|          | 0/181 [00:00<?, ?it/s]"
      ]
     },
     "metadata": {},
     "output_type": "display_data"
    },
    {
     "name": "stdout",
     "output_type": "stream",
     "text": [
      "Epoch 1/10\n",
      "304/304 [==============================] - 3s 3ms/step - loss: 0.7497 - accuracy: 0.7303 - val_loss: 1.2355 - val_accuracy: 0.3704\n",
      "Epoch 2/10\n",
      "304/304 [==============================] - 1s 2ms/step - loss: 0.5914 - accuracy: 0.7763 - val_loss: 0.9080 - val_accuracy: 0.5185\n",
      "Epoch 3/10\n",
      "304/304 [==============================] - 1s 2ms/step - loss: 0.5209 - accuracy: 0.8158 - val_loss: 0.7887 - val_accuracy: 0.6481\n",
      "Epoch 4/10\n",
      "304/304 [==============================] - 1s 2ms/step - loss: 0.4944 - accuracy: 0.8388 - val_loss: 0.8421 - val_accuracy: 0.6111\n",
      "Epoch 5/10\n",
      "304/304 [==============================] - 1s 2ms/step - loss: 0.4848 - accuracy: 0.8224 - val_loss: 0.9277 - val_accuracy: 0.6481\n",
      "Epoch 6/10\n",
      "304/304 [==============================] - 1s 2ms/step - loss: 0.4266 - accuracy: 0.8520 - val_loss: 0.9974 - val_accuracy: 0.5185\n",
      "Epoch 7/10\n",
      "304/304 [==============================] - 1s 2ms/step - loss: 0.4426 - accuracy: 0.8783 - val_loss: 1.0762 - val_accuracy: 0.4444\n",
      "Epoch 8/10\n",
      "304/304 [==============================] - 1s 2ms/step - loss: 0.4193 - accuracy: 0.8651 - val_loss: 1.0175 - val_accuracy: 0.5556\n",
      "Epoch 9/10\n",
      "304/304 [==============================] - 1s 2ms/step - loss: 0.4200 - accuracy: 0.8750 - val_loss: 1.0148 - val_accuracy: 0.6481\n",
      "Epoch 10/10\n",
      "304/304 [==============================] - 1s 2ms/step - loss: 0.3753 - accuracy: 0.8914 - val_loss: 0.9804 - val_accuracy: 0.6481\n"
     ]
    },
    {
     "data": {
      "application/vnd.jupyter.widget-view+json": {
       "model_id": "2401f0fe5d274b10a3b789d7bd7c5d30",
       "version_major": 2,
       "version_minor": 0
      },
      "text/plain": [
       "Pandas Apply:   0%|          | 0/122 [00:00<?, ?it/s]"
      ]
     },
     "metadata": {},
     "output_type": "display_data"
    },
    {
     "name": "stdout",
     "output_type": "stream",
     "text": [
      "Epoch 1/10\n",
      "294/294 [==============================] - 1s 2ms/step - loss: 0.7223 - accuracy: 0.7143 - val_loss: 0.9941 - val_accuracy: 0.3269\n",
      "Epoch 2/10\n",
      "294/294 [==============================] - 1s 2ms/step - loss: 0.6035 - accuracy: 0.7823 - val_loss: 0.7785 - val_accuracy: 0.6346\n",
      "Epoch 3/10\n",
      "294/294 [==============================] - 1s 2ms/step - loss: 0.5439 - accuracy: 0.7959 - val_loss: 0.7807 - val_accuracy: 0.6346\n",
      "Epoch 4/10\n",
      "294/294 [==============================] - 1s 2ms/step - loss: 0.4937 - accuracy: 0.8061 - val_loss: 0.7859 - val_accuracy: 0.6346\n",
      "Epoch 5/10\n",
      "294/294 [==============================] - 1s 2ms/step - loss: 0.4644 - accuracy: 0.8163 - val_loss: 0.8321 - val_accuracy: 0.6154\n",
      "Epoch 6/10\n",
      "294/294 [==============================] - 1s 2ms/step - loss: 0.4774 - accuracy: 0.8231 - val_loss: 0.8304 - val_accuracy: 0.6538\n",
      "Epoch 7/10\n",
      "294/294 [==============================] - 1s 2ms/step - loss: 0.4298 - accuracy: 0.8673 - val_loss: 0.8911 - val_accuracy: 0.6346\n",
      "Epoch 8/10\n",
      "294/294 [==============================] - 1s 2ms/step - loss: 0.4107 - accuracy: 0.8741 - val_loss: 0.9006 - val_accuracy: 0.6346\n",
      "Epoch 9/10\n",
      "294/294 [==============================] - 0s 2ms/step - loss: 0.4046 - accuracy: 0.8673 - val_loss: 0.9364 - val_accuracy: 0.6346\n",
      "Epoch 10/10\n",
      "294/294 [==============================] - 1s 2ms/step - loss: 0.3851 - accuracy: 0.8878 - val_loss: 0.9657 - val_accuracy: 0.6346\n"
     ]
    },
    {
     "data": {
      "application/vnd.jupyter.widget-view+json": {
       "model_id": "598175889de841d0ac1443b7608ce4db",
       "version_major": 2,
       "version_minor": 0
      },
      "text/plain": [
       "Pandas Apply:   0%|          | 0/134 [00:00<?, ?it/s]"
      ]
     },
     "metadata": {},
     "output_type": "display_data"
    },
    {
     "data": {
      "text/plain": [
       "AvgScores(avg_fit_time=6.411588589350383, avg_predict_time=0.07838646570841472, avg_accuracy=0.6874834684470952, avg_dummy=0.6556180694210317)"
      ]
     },
     "execution_count": 18,
     "metadata": {},
     "output_type": "execute_result"
    },
    {
     "name": "stdout",
     "output_type": "stream",
     "text": [
      "time: 1min 45s\n"
     ]
    }
   ],
   "source": [
    "for case in tqdm(all_cases):\n",
    "    if case == \"ternary\":\n",
    "        continue\n",
    "    fit_score_store_keras_MLP(case)"
   ]
  },
  {
   "cell_type": "markdown",
   "metadata": {},
   "source": [
    "Let's peek at the results."
   ]
  },
  {
   "cell_type": "code",
   "execution_count": 19,
   "metadata": {},
   "outputs": [
    {
     "data": {
      "text/plain": [
       "{'positive': {'avg_cv_fit_time': [5.623907248179118],\n",
       "  'avg_cv_accuracy': [0.7134585653383296],\n",
       "  'model_name': ['keras_MLP'],\n",
       "  'vs_dummy': [0.00034088231066398134],\n",
       "  'avg_cv_predict_time': [0.07790803909301758]},\n",
       " 'neutral': {'avg_cv_fit_time': [5.498027880986531],\n",
       "  'avg_cv_accuracy': [0.7287083737187624],\n",
       "  'model_name': ['keras_MLP'],\n",
       "  'vs_dummy': [0.0974441261674599],\n",
       "  'avg_cv_predict_time': [0.07129724820454915]},\n",
       " 'ternary_ovr': {'avg_cv_fit_time': [16.65921926498413],\n",
       "  'avg_cv_accuracy': [0.5521369693512331],\n",
       "  'model_name': ['keras_MLP'],\n",
       "  'vs_dummy': [0.14360022187766003],\n",
       "  'avg_cv_predict_time': [0.2618728478749593]},\n",
       " 'ternary': {'avg_cv_fit_time': [6.873151699701945],\n",
       "  'avg_cv_accuracy': [0.5208816888296494],\n",
       "  'model_name': ['keras_MLP'],\n",
       "  'vs_dummy': [0.11234494135607626],\n",
       "  'avg_cv_predict_time': [0.09989253679911296]},\n",
       " 'negative': {'avg_cv_fit_time': [6.411588589350383],\n",
       "  'avg_cv_accuracy': [0.6874834684470952],\n",
       "  'model_name': ['keras_MLP'],\n",
       "  'vs_dummy': [0.031865399026063446],\n",
       "  'avg_cv_predict_time': [0.07838646570841472]}}"
      ]
     },
     "execution_count": 19,
     "metadata": {},
     "output_type": "execute_result"
    },
    {
     "name": "stdout",
     "output_type": "stream",
     "text": [
      "time: 6 ms\n"
     ]
    }
   ],
   "source": [
    "results"
   ]
  },
  {
   "cell_type": "markdown",
   "metadata": {},
   "source": [
    "### Test harness\n",
    "\n",
    "This section defines some helper functions for trying out each model.\n",
    "\n",
    "The next cell defines a function for making 3-fold train-validation splits without speaker leakage. Speakers are randomly sampled in a 1:3::test:train ratio with replacement for each fold."
   ]
  },
  {
   "cell_type": "code",
   "execution_count": 20,
   "metadata": {},
   "outputs": [
    {
     "name": "stdout",
     "output_type": "stream",
     "text": [
      "time: 3.98 ms\n"
     ]
    }
   ],
   "source": [
    "# copied from above for reference\n",
    "# Split = namedtuple(\"Split\", (\"X_test\", \"y_test\", \"X_train\", \"y_train\" \"dummy_test\"))\n",
    "def make_splits(case: str, num_splits: int = 3) -> List[Split]:\n",
    "    \"\"\"Given a classification scenario, provide train-test splits sampled with replacement for cross validation without speaker leakage.\"\"\"\n",
    "    splits = []\n",
    "    for i in range(num_splits):\n",
    "        # criterion for split\n",
    "        criterion = df.speaker_id.isin(\n",
    "            pd.DataFrame(np.unique(df.speaker_id))\n",
    "            .sample(frac=0.25, random_state=SEED + i)[0]\n",
    "            .values\n",
    "        )\n",
    "\n",
    "        # prepare X_test and y_test\n",
    "        X_test = np.stack((test := df.loc[criterion]).frill)\n",
    "        y_test = (\n",
    "            np.int8(test.valence)\n",
    "            if (multiclass := \"ternary\" in case)\n",
    "            else test[case[:3]]\n",
    "        )\n",
    "\n",
    "        # prepare X_train and y_train\n",
    "        X_train = np.stack((train := df.loc[~criterion]).frill)\n",
    "        y_train = np.int8(train.valence) if multiclass else train[case[:3]]\n",
    "\n",
    "        # non-negative labels\n",
    "        if case == \"ternary\":\n",
    "            y_test += 1\n",
    "            y_train += 1\n",
    "\n",
    "        # the dummy score is calculated from y_test\n",
    "        dummy = pd.Series(y_test).value_counts().values[0] / len(y_test)\n",
    "        if not multiclass and dummy < 0.5:\n",
    "            dummy = 1 - dummy\n",
    "\n",
    "        splits.append(\n",
    "            Split(\n",
    "                X_test=X_test,\n",
    "                y_test=y_test,\n",
    "                X_train=X_train,\n",
    "                y_train=y_train,\n",
    "                dummy_test=dummy,\n",
    "            )\n",
    "        )\n",
    "    return splits"
   ]
  },
  {
   "cell_type": "markdown",
   "metadata": {},
   "source": [
    "The next two cells define functions for fitting and scoring a model."
   ]
  },
  {
   "cell_type": "code",
   "execution_count": 21,
   "metadata": {},
   "outputs": [
    {
     "name": "stdout",
     "output_type": "stream",
     "text": [
      "time: 2 ms\n"
     ]
    }
   ],
   "source": [
    "def fit_and_score_ovr(model_base: Callable) -> AvgScores:\n",
    "    \"\"\"Calculates 3-fold times and scores for ternary one-vs-rest ensemble.\"\"\"\n",
    "\n",
    "    cases = (\"neg\", \"neu\", \"pos\")  # match sort order of -1, 0, 1\n",
    "    interim_results = {\n",
    "        case: dict.fromkeys((\"cv_fit_times\", \"cv_predict_times\"), []) for case in cases\n",
    "    }\n",
    "    predicted_probabilities = {fold: {k: None for k in cases} for fold in range(3)}\n",
    "\n",
    "    # train three binary classifiers\n",
    "    for case in (\"negative\", \"neutral\", \"positive\"):\n",
    "        fit_times, predict_times = [], []\n",
    "        fold = 0\n",
    "        for split in make_splits(case=case):\n",
    "            # define model\n",
    "            model = model_base()\n",
    "\n",
    "            # fit\n",
    "            begin = time()\n",
    "            model.fit(split.X_train, split.y_train)\n",
    "            end = time()\n",
    "            fit_times.append(end - begin)\n",
    "\n",
    "            # predict\n",
    "            begin = time()\n",
    "            predicted = model.predict_proba(split.X_test)\n",
    "            end = time()\n",
    "            predict_times.append(end - begin)\n",
    "            predicted_probabilities[fold][case[:3]] = predicted[:, 1]\n",
    "            fold += 1\n",
    "\n",
    "        result = interim_results[case[:3]]\n",
    "        result[\"cv_fit_times\"] = np.mean(fit_times)\n",
    "        result[\"cv_predict_times\"] = np.mean(predict_times)\n",
    "\n",
    "    # aggregate predicted probabilities and argmax (ensemble) them by fold\n",
    "    fold_predictions = [\n",
    "        pd.DataFrame(predicted_probabilities[fold])\n",
    "        .swifter.apply(lambda _: np.argmax([_]) - 1, axis=1)\n",
    "        .values\n",
    "        for fold in sorted(predicted_probabilities.keys())\n",
    "    ]\n",
    "\n",
    "    # score\n",
    "    ternary_splits = make_splits(case=\"ternary_ovr\")\n",
    "    accuracy_scores = [\n",
    "        accuracy_score(y_true=true, y_pred=pred)\n",
    "        for true, pred in zip(\n",
    "            [split.y_test for split in ternary_splits], fold_predictions\n",
    "        )\n",
    "    ]\n",
    "\n",
    "    sum_time: float = lambda fitpredict: sum(\n",
    "        [interim_results[case][fitpredict] for case in cases]\n",
    "    )\n",
    "\n",
    "    return AvgScores(\n",
    "        avg_fit_time=sum_time(\"cv_fit_times\"),\n",
    "        avg_predict_time=sum_time(\"cv_predict_times\"),\n",
    "        avg_accuracy=np.mean(accuracy_scores),\n",
    "        avg_dummy=np.mean([split.dummy_test for split in ternary_splits]),\n",
    "    )"
   ]
  },
  {
   "cell_type": "code",
   "execution_count": 22,
   "metadata": {},
   "outputs": [
    {
     "name": "stdout",
     "output_type": "stream",
     "text": [
      "time: 1.01 ms\n"
     ]
    }
   ],
   "source": [
    "def fit_and_score(model_base: Callable, case: str) -> AvgScores:\n",
    "    \"\"\"Calculates 3-fold times and scores for ternary and binary cases.\"\"\"\n",
    "\n",
    "    if case == \"ternary_ovr\":\n",
    "        return fit_and_score_ovr(model_base)\n",
    "\n",
    "    fit_times, predict_times, scores, dummies = [], [], [], []\n",
    "    for split in make_splits(case):\n",
    "        # define model\n",
    "        model = model_base()\n",
    "\n",
    "        # fit\n",
    "        begin = time()\n",
    "        model.fit(split.X_train, split.y_train)\n",
    "        end = time()\n",
    "        fit_times.append(end - begin)\n",
    "\n",
    "        # predict\n",
    "        begin = time()\n",
    "        predicted = model.predict(split.X_test)\n",
    "        end = time()\n",
    "        predict_times.append(end - begin)\n",
    "\n",
    "        # score\n",
    "        scores.append(accuracy_score(y_true=split.y_test, y_pred=predicted))\n",
    "        dummies.append(split.dummy_test)\n",
    "\n",
    "    return AvgScores(*[np.mean(_) for _ in (fit_times, predict_times, scores, dummies)])"
   ]
  },
  {
   "cell_type": "markdown",
   "metadata": {},
   "source": [
    "### Classifiers from sklearn\n",
    "\n",
    "Thanks to FRILL, we may now use the gamut of classifiers provided by `sklearn`.\n",
    "\n",
    "### sklearn models\n",
    "\n",
    "The next cell defines a dictionary for keeping track of `sklearn` classifiers.\n",
    "\n",
    "For the most part, I am using the default settings of each classifier. I set the seed where I can and leverage all avilable cores where possible. Each classifier is wrapped in a lambda function to ensure a brand new model is initialized each time the function is called.\n",
    "\n",
    "Some of the models tested in this notebook automatically implement one-vs-rest classification for multiclass classification. In those cases, we would expect the ternary and one-vs-rest reports to be similar."
   ]
  },
  {
   "cell_type": "code",
   "execution_count": 23,
   "metadata": {},
   "outputs": [
    {
     "name": "stdout",
     "output_type": "stream",
     "text": [
      "time: 1e+03 µs\n"
     ]
    }
   ],
   "source": [
    "sklearn_models = {\n",
    "    \"AdaBoostClassifier\": lambda: AdaBoostClassifier(random_state=SEED),\n",
    "    \"GaussianNB\": lambda: GaussianNB(),\n",
    "    \"GaussianProcessClassifier\": lambda: GaussianProcessClassifier(\n",
    "        random_state=SEED, n_jobs=-1\n",
    "    ),  # one-vs-rest for multiclass under the hood\n",
    "    \"LogisticRegression\": lambda: LogisticRegression(random_state=SEED, n_jobs=-1),\n",
    "    \"MLPClassifier\": lambda: MLPClassifier(random_state=SEED),\n",
    "    \"QuadraticDiscriminantAnalysis\": lambda: QuadraticDiscriminantAnalysis(),\n",
    "    \"RandomForestClassifier\": lambda: RandomForestClassifier(\n",
    "        n_jobs=-1, random_state=SEED\n",
    "    ),\n",
    "    \"SVC\": lambda: SVC(\n",
    "        random_state=SEED, probability=True\n",
    "    ),  # one-vs-rest for multiclass under the hood\n",
    "}"
   ]
  },
  {
   "cell_type": "markdown",
   "metadata": {},
   "source": [
    "### sklearn results collection"
   ]
  },
  {
   "cell_type": "code",
   "execution_count": 24,
   "metadata": {},
   "outputs": [
    {
     "data": {
      "application/vnd.jupyter.widget-view+json": {
       "model_id": "a829727752504746a1523e2ca7ce5f59",
       "version_major": 2,
       "version_minor": 0
      },
      "text/plain": [
       "  0%|          | 0/5 [00:00<?, ?it/s]"
      ]
     },
     "metadata": {},
     "output_type": "display_data"
    },
    {
     "data": {
      "application/vnd.jupyter.widget-view+json": {
       "model_id": "43f1f2aa1fa1450cbd59b1314eae1f8b",
       "version_major": 2,
       "version_minor": 0
      },
      "text/plain": [
       "  0%|          | 0/8 [00:00<?, ?it/s]"
      ]
     },
     "metadata": {},
     "output_type": "display_data"
    },
    {
     "data": {
      "application/vnd.jupyter.widget-view+json": {
       "model_id": "36aa2a6f8cf44961aeda98d35c1b8c93",
       "version_major": 2,
       "version_minor": 0
      },
      "text/plain": [
       "  0%|          | 0/8 [00:00<?, ?it/s]"
      ]
     },
     "metadata": {},
     "output_type": "display_data"
    },
    {
     "data": {
      "application/vnd.jupyter.widget-view+json": {
       "model_id": "56a2d4b47d86478fb7bfb9135d305386",
       "version_major": 2,
       "version_minor": 0
      },
      "text/plain": [
       "  0%|          | 0/8 [00:00<?, ?it/s]"
      ]
     },
     "metadata": {},
     "output_type": "display_data"
    },
    {
     "data": {
      "application/vnd.jupyter.widget-view+json": {
       "model_id": "0ef9dd94ee2749d582ced2d2176ab5a4",
       "version_major": 2,
       "version_minor": 0
      },
      "text/plain": [
       "Pandas Apply:   0%|          | 0/181 [00:00<?, ?it/s]"
      ]
     },
     "metadata": {},
     "output_type": "display_data"
    },
    {
     "data": {
      "application/vnd.jupyter.widget-view+json": {
       "model_id": "6adc4b249e67411d864e3a62cf337aee",
       "version_major": 2,
       "version_minor": 0
      },
      "text/plain": [
       "Pandas Apply:   0%|          | 0/122 [00:00<?, ?it/s]"
      ]
     },
     "metadata": {},
     "output_type": "display_data"
    },
    {
     "data": {
      "application/vnd.jupyter.widget-view+json": {
       "model_id": "d660d067be4a4df1b7132383bbd0405b",
       "version_major": 2,
       "version_minor": 0
      },
      "text/plain": [
       "Pandas Apply:   0%|          | 0/134 [00:00<?, ?it/s]"
      ]
     },
     "metadata": {},
     "output_type": "display_data"
    },
    {
     "data": {
      "application/vnd.jupyter.widget-view+json": {
       "model_id": "98ac07b0b8db4b3e8f59f09f0b581e96",
       "version_major": 2,
       "version_minor": 0
      },
      "text/plain": [
       "Pandas Apply:   0%|          | 0/181 [00:00<?, ?it/s]"
      ]
     },
     "metadata": {},
     "output_type": "display_data"
    },
    {
     "data": {
      "application/vnd.jupyter.widget-view+json": {
       "model_id": "832a6e451ddc4ac38c0e23722607ad8c",
       "version_major": 2,
       "version_minor": 0
      },
      "text/plain": [
       "Pandas Apply:   0%|          | 0/122 [00:00<?, ?it/s]"
      ]
     },
     "metadata": {},
     "output_type": "display_data"
    },
    {
     "data": {
      "application/vnd.jupyter.widget-view+json": {
       "model_id": "a56bd53e4d78440e856e63b7b134ef8c",
       "version_major": 2,
       "version_minor": 0
      },
      "text/plain": [
       "Pandas Apply:   0%|          | 0/134 [00:00<?, ?it/s]"
      ]
     },
     "metadata": {},
     "output_type": "display_data"
    },
    {
     "data": {
      "application/vnd.jupyter.widget-view+json": {
       "model_id": "f0e7a6f73b6f4bc8a312614f0ece942f",
       "version_major": 2,
       "version_minor": 0
      },
      "text/plain": [
       "Pandas Apply:   0%|          | 0/181 [00:00<?, ?it/s]"
      ]
     },
     "metadata": {},
     "output_type": "display_data"
    },
    {
     "data": {
      "application/vnd.jupyter.widget-view+json": {
       "model_id": "d9ead9b4bbbf46ad9d5f759843bb6512",
       "version_major": 2,
       "version_minor": 0
      },
      "text/plain": [
       "Pandas Apply:   0%|          | 0/122 [00:00<?, ?it/s]"
      ]
     },
     "metadata": {},
     "output_type": "display_data"
    },
    {
     "data": {
      "application/vnd.jupyter.widget-view+json": {
       "model_id": "551a0086d34b49639932d264793bbb03",
       "version_major": 2,
       "version_minor": 0
      },
      "text/plain": [
       "Pandas Apply:   0%|          | 0/134 [00:00<?, ?it/s]"
      ]
     },
     "metadata": {},
     "output_type": "display_data"
    },
    {
     "data": {
      "application/vnd.jupyter.widget-view+json": {
       "model_id": "b3d4ac01b65345f4bed68bed56fcc93b",
       "version_major": 2,
       "version_minor": 0
      },
      "text/plain": [
       "Pandas Apply:   0%|          | 0/181 [00:00<?, ?it/s]"
      ]
     },
     "metadata": {},
     "output_type": "display_data"
    },
    {
     "data": {
      "application/vnd.jupyter.widget-view+json": {
       "model_id": "50dec8db25eb42d98b8fb8967acc39be",
       "version_major": 2,
       "version_minor": 0
      },
      "text/plain": [
       "Pandas Apply:   0%|          | 0/122 [00:00<?, ?it/s]"
      ]
     },
     "metadata": {},
     "output_type": "display_data"
    },
    {
     "data": {
      "application/vnd.jupyter.widget-view+json": {
       "model_id": "a6a0b394fbe149d98cba880badecac94",
       "version_major": 2,
       "version_minor": 0
      },
      "text/plain": [
       "Pandas Apply:   0%|          | 0/134 [00:00<?, ?it/s]"
      ]
     },
     "metadata": {},
     "output_type": "display_data"
    },
    {
     "data": {
      "application/vnd.jupyter.widget-view+json": {
       "model_id": "c9c968ce6e5f48f4866625c0b7cf32e1",
       "version_major": 2,
       "version_minor": 0
      },
      "text/plain": [
       "Pandas Apply:   0%|          | 0/181 [00:00<?, ?it/s]"
      ]
     },
     "metadata": {},
     "output_type": "display_data"
    },
    {
     "data": {
      "application/vnd.jupyter.widget-view+json": {
       "model_id": "b2b0db7e43744b4cb965eacf2e69f04c",
       "version_major": 2,
       "version_minor": 0
      },
      "text/plain": [
       "Pandas Apply:   0%|          | 0/122 [00:00<?, ?it/s]"
      ]
     },
     "metadata": {},
     "output_type": "display_data"
    },
    {
     "data": {
      "application/vnd.jupyter.widget-view+json": {
       "model_id": "65b96b669d374c17ac859752df8f04c9",
       "version_major": 2,
       "version_minor": 0
      },
      "text/plain": [
       "Pandas Apply:   0%|          | 0/134 [00:00<?, ?it/s]"
      ]
     },
     "metadata": {},
     "output_type": "display_data"
    },
    {
     "data": {
      "application/vnd.jupyter.widget-view+json": {
       "model_id": "3757c83193fb479e88f85db5a462700a",
       "version_major": 2,
       "version_minor": 0
      },
      "text/plain": [
       "Pandas Apply:   0%|          | 0/181 [00:00<?, ?it/s]"
      ]
     },
     "metadata": {},
     "output_type": "display_data"
    },
    {
     "data": {
      "application/vnd.jupyter.widget-view+json": {
       "model_id": "1976632292354f72a98e12bc5549f80e",
       "version_major": 2,
       "version_minor": 0
      },
      "text/plain": [
       "Pandas Apply:   0%|          | 0/122 [00:00<?, ?it/s]"
      ]
     },
     "metadata": {},
     "output_type": "display_data"
    },
    {
     "data": {
      "application/vnd.jupyter.widget-view+json": {
       "model_id": "c3a036bb436d4cae902dbc30fc1e48c0",
       "version_major": 2,
       "version_minor": 0
      },
      "text/plain": [
       "Pandas Apply:   0%|          | 0/134 [00:00<?, ?it/s]"
      ]
     },
     "metadata": {},
     "output_type": "display_data"
    },
    {
     "data": {
      "application/vnd.jupyter.widget-view+json": {
       "model_id": "ce368f3219514877b881c40c13475d22",
       "version_major": 2,
       "version_minor": 0
      },
      "text/plain": [
       "Pandas Apply:   0%|          | 0/181 [00:00<?, ?it/s]"
      ]
     },
     "metadata": {},
     "output_type": "display_data"
    },
    {
     "data": {
      "application/vnd.jupyter.widget-view+json": {
       "model_id": "b8bc6ec564c14de49d2b7943cb12f4e6",
       "version_major": 2,
       "version_minor": 0
      },
      "text/plain": [
       "Pandas Apply:   0%|          | 0/122 [00:00<?, ?it/s]"
      ]
     },
     "metadata": {},
     "output_type": "display_data"
    },
    {
     "data": {
      "application/vnd.jupyter.widget-view+json": {
       "model_id": "d93b7fe4d98f462dab6b02bf7a0d3fd1",
       "version_major": 2,
       "version_minor": 0
      },
      "text/plain": [
       "Pandas Apply:   0%|          | 0/134 [00:00<?, ?it/s]"
      ]
     },
     "metadata": {},
     "output_type": "display_data"
    },
    {
     "data": {
      "application/vnd.jupyter.widget-view+json": {
       "model_id": "7179f31edb71401191605be9bec8b393",
       "version_major": 2,
       "version_minor": 0
      },
      "text/plain": [
       "Pandas Apply:   0%|          | 0/181 [00:00<?, ?it/s]"
      ]
     },
     "metadata": {},
     "output_type": "display_data"
    },
    {
     "data": {
      "application/vnd.jupyter.widget-view+json": {
       "model_id": "a37b33440d1b4be8b821d74a0b3c9e9f",
       "version_major": 2,
       "version_minor": 0
      },
      "text/plain": [
       "Pandas Apply:   0%|          | 0/122 [00:00<?, ?it/s]"
      ]
     },
     "metadata": {},
     "output_type": "display_data"
    },
    {
     "data": {
      "application/vnd.jupyter.widget-view+json": {
       "model_id": "9010f02ec44d4d35bb51cf32220f9a9a",
       "version_major": 2,
       "version_minor": 0
      },
      "text/plain": [
       "Pandas Apply:   0%|          | 0/134 [00:00<?, ?it/s]"
      ]
     },
     "metadata": {},
     "output_type": "display_data"
    },
    {
     "data": {
      "application/vnd.jupyter.widget-view+json": {
       "model_id": "e8895837ad7d4560904a13f4543182ef",
       "version_major": 2,
       "version_minor": 0
      },
      "text/plain": [
       "  0%|          | 0/8 [00:00<?, ?it/s]"
      ]
     },
     "metadata": {},
     "output_type": "display_data"
    },
    {
     "data": {
      "application/vnd.jupyter.widget-view+json": {
       "model_id": "8fd35e0ff1af405588b15fa6147cd2ff",
       "version_major": 2,
       "version_minor": 0
      },
      "text/plain": [
       "  0%|          | 0/8 [00:00<?, ?it/s]"
      ]
     },
     "metadata": {},
     "output_type": "display_data"
    },
    {
     "name": "stdout",
     "output_type": "stream",
     "text": [
      "time: 2min 47s\n"
     ]
    }
   ],
   "source": [
    "for case in tqdm(all_cases):\n",
    "    for model in tqdm(sklearn_models):\n",
    "        store_result(\n",
    "            case=case,\n",
    "            model_name=model,\n",
    "            avg_scores=fit_and_score(sklearn_models[model], case),\n",
    "        )"
   ]
  },
  {
   "cell_type": "markdown",
   "metadata": {},
   "source": [
    "## Other boosting ensembles\n",
    "\n",
    "We may evaluate boosting ensembles outside of `sklearn` with the same test harness since they implement the ubiquitous `.fit` and `.predict` methods of the `sklearn` application programming interface (API). The selected classifiers implement the `.predict_proba` method as well, enabling ternary one-vs-rest classification.\n",
    "\n",
    "Two boosting ensemble classifiers outside of `sklearn` were chosen: Light Gradient Boosting Machine (LightGBM), and Extreme Gradient Boosting (XGBoost).\n",
    "\n",
    "XGBoost requires non-negative integer labels, so we will use the `non_negative_labels` boolean parameter in the test harness. (This is a good opportunity to implement a Factory Method design pattern when I refactor.)\n",
    "\n",
    "I had considered CatBoost as well, but its inclusion slowed down the test harness drastically in stark disproportion to the fit and predict times of the other algorithms."
   ]
  },
  {
   "cell_type": "markdown",
   "metadata": {},
   "source": [
    "### Non-sklearn models\n",
    "\n",
    "The next cell defines a Python dictionary to track the non-sklearn models."
   ]
  },
  {
   "cell_type": "code",
   "execution_count": 25,
   "metadata": {},
   "outputs": [
    {
     "name": "stdout",
     "output_type": "stream",
     "text": [
      "time: 999 µs\n"
     ]
    }
   ],
   "source": [
    "non_sklearn_models = {\n",
    "    # \"CatBoostClassifier\": lambda: CatBoostClassifier(\n",
    "    #     random_seed=SEED, verbose=100, thread_count=-1\n",
    "    # ),\n",
    "    \"LGBMClassifier\": lambda: LGBMClassifier(\n",
    "        boosting_type=\"rf\",\n",
    "        random_state=SEED,\n",
    "        n_jobs=-1,\n",
    "        subsample=0.75,\n",
    "        subsample_freq=1,\n",
    "    ),\n",
    "    \"XGBClassifier\": lambda: XGBClassifier(\n",
    "        eval_metric=\"mlogloss\", seed=SEED, use_label_encoder=False\n",
    "    ),\n",
    "}"
   ]
  },
  {
   "cell_type": "markdown",
   "metadata": {},
   "source": [
    "### Non-sklearn results collection"
   ]
  },
  {
   "cell_type": "code",
   "execution_count": 26,
   "metadata": {},
   "outputs": [
    {
     "data": {
      "application/vnd.jupyter.widget-view+json": {
       "model_id": "6a24a498b4b644fbbb97955087821e69",
       "version_major": 2,
       "version_minor": 0
      },
      "text/plain": [
       "  0%|          | 0/5 [00:00<?, ?it/s]"
      ]
     },
     "metadata": {},
     "output_type": "display_data"
    },
    {
     "data": {
      "application/vnd.jupyter.widget-view+json": {
       "model_id": "186fc52679aa4c23880cc7429aea51d1",
       "version_major": 2,
       "version_minor": 0
      },
      "text/plain": [
       "  0%|          | 0/2 [00:00<?, ?it/s]"
      ]
     },
     "metadata": {},
     "output_type": "display_data"
    },
    {
     "data": {
      "application/vnd.jupyter.widget-view+json": {
       "model_id": "9c163a438e2840de952c6062be12d134",
       "version_major": 2,
       "version_minor": 0
      },
      "text/plain": [
       "  0%|          | 0/2 [00:00<?, ?it/s]"
      ]
     },
     "metadata": {},
     "output_type": "display_data"
    },
    {
     "data": {
      "application/vnd.jupyter.widget-view+json": {
       "model_id": "13149e81b3cb42f7950e2424dbc6653c",
       "version_major": 2,
       "version_minor": 0
      },
      "text/plain": [
       "  0%|          | 0/2 [00:00<?, ?it/s]"
      ]
     },
     "metadata": {},
     "output_type": "display_data"
    },
    {
     "data": {
      "application/vnd.jupyter.widget-view+json": {
       "model_id": "8e45e59d85c74fa187b87e8736aab2ac",
       "version_major": 2,
       "version_minor": 0
      },
      "text/plain": [
       "Pandas Apply:   0%|          | 0/181 [00:00<?, ?it/s]"
      ]
     },
     "metadata": {},
     "output_type": "display_data"
    },
    {
     "data": {
      "application/vnd.jupyter.widget-view+json": {
       "model_id": "6560a10cd7fb424a8ec6ab55aa01e474",
       "version_major": 2,
       "version_minor": 0
      },
      "text/plain": [
       "Pandas Apply:   0%|          | 0/122 [00:00<?, ?it/s]"
      ]
     },
     "metadata": {},
     "output_type": "display_data"
    },
    {
     "data": {
      "application/vnd.jupyter.widget-view+json": {
       "model_id": "d1e7cc324c5349098c08f856fb8a5b0f",
       "version_major": 2,
       "version_minor": 0
      },
      "text/plain": [
       "Pandas Apply:   0%|          | 0/134 [00:00<?, ?it/s]"
      ]
     },
     "metadata": {},
     "output_type": "display_data"
    },
    {
     "data": {
      "application/vnd.jupyter.widget-view+json": {
       "model_id": "8e94a7d540f94376ab3202dfeaf9aa67",
       "version_major": 2,
       "version_minor": 0
      },
      "text/plain": [
       "Pandas Apply:   0%|          | 0/181 [00:00<?, ?it/s]"
      ]
     },
     "metadata": {},
     "output_type": "display_data"
    },
    {
     "data": {
      "application/vnd.jupyter.widget-view+json": {
       "model_id": "9b94784288134f89b9e9fd5dcddfefee",
       "version_major": 2,
       "version_minor": 0
      },
      "text/plain": [
       "Pandas Apply:   0%|          | 0/122 [00:00<?, ?it/s]"
      ]
     },
     "metadata": {},
     "output_type": "display_data"
    },
    {
     "data": {
      "application/vnd.jupyter.widget-view+json": {
       "model_id": "f5a476631ff44f36a32225a858c528b1",
       "version_major": 2,
       "version_minor": 0
      },
      "text/plain": [
       "Pandas Apply:   0%|          | 0/134 [00:00<?, ?it/s]"
      ]
     },
     "metadata": {},
     "output_type": "display_data"
    },
    {
     "data": {
      "application/vnd.jupyter.widget-view+json": {
       "model_id": "2fd0ae26d14948a4a63de9a017dbd981",
       "version_major": 2,
       "version_minor": 0
      },
      "text/plain": [
       "  0%|          | 0/2 [00:00<?, ?it/s]"
      ]
     },
     "metadata": {},
     "output_type": "display_data"
    },
    {
     "data": {
      "application/vnd.jupyter.widget-view+json": {
       "model_id": "77b041d854e84b2281297c489416ac97",
       "version_major": 2,
       "version_minor": 0
      },
      "text/plain": [
       "  0%|          | 0/2 [00:00<?, ?it/s]"
      ]
     },
     "metadata": {},
     "output_type": "display_data"
    },
    {
     "name": "stdout",
     "output_type": "stream",
     "text": [
      "time: 1min 11s\n"
     ]
    }
   ],
   "source": [
    "for case in tqdm(all_cases):\n",
    "    for model in tqdm(non_sklearn_models):\n",
    "        store_result(\n",
    "            case=case,\n",
    "            model_name=model,\n",
    "            avg_scores=fit_and_score(non_sklearn_models[model], case),\n",
    "        )"
   ]
  },
  {
   "cell_type": "markdown",
   "metadata": {},
   "source": [
    "### Stacked classifier\n",
    "\n",
    "Let's give a stacked ensemble a try. If it performs well, its permutation feature importances could be illuminating."
   ]
  },
  {
   "cell_type": "code",
   "execution_count": 27,
   "metadata": {},
   "outputs": [
    {
     "name": "stdout",
     "output_type": "stream",
     "text": [
      "time: 2 ms\n"
     ]
    }
   ],
   "source": [
    "models = {**sklearn_models, **non_sklearn_models}\n",
    "make_StackingClassifier = lambda: StackingClassifier(\n",
    "    estimators=[(model, models[model]()) for model in models],\n",
    "    final_estimator=LogisticRegression(random_state=SEED, n_jobs=-1),\n",
    "    n_jobs=-1,\n",
    ")"
   ]
  },
  {
   "cell_type": "code",
   "execution_count": 28,
   "metadata": {},
   "outputs": [
    {
     "name": "stdout",
     "output_type": "stream",
     "text": [
      "time: 7 ms\n"
     ]
    }
   ],
   "source": [
    "def fit_and_score_ovr_stack() -> AvgScores:\n",
    "    \"\"\"Calculates 3-fold times and scores for ternary one-vs-rest ensemble from three stacked classifiers.\"\"\"\n",
    "\n",
    "    cases = (\"neg\", \"neu\", \"pos\")  # match sort order of -1, 0, 1\n",
    "    interim_results = {\n",
    "        case: dict.fromkeys((\"cv_fit_times\", \"cv_predict_times\"), []) for case in cases\n",
    "    }\n",
    "    predicted_probabilities = {fold: {k: None for k in cases} for fold in range(3)}\n",
    "\n",
    "    # train three binary classifiers\n",
    "    for case in (\"negative\", \"neutral\", \"positive\"):\n",
    "        fit_times, predict_times = [], []\n",
    "        fold = 0\n",
    "        for split in make_splits(case=case):\n",
    "            # define model\n",
    "            model = make_StackingClassifier()\n",
    "\n",
    "            # fit\n",
    "            begin = time()\n",
    "            model.fit(split.X_train, split.y_train)\n",
    "            end = time()\n",
    "            fit_times.append(end - begin)\n",
    "\n",
    "            # predict\n",
    "            begin = time()\n",
    "            predicted = model.predict_proba(split.X_test)\n",
    "            end = time()\n",
    "            predict_times.append(end - begin)\n",
    "            predicted_probabilities[fold][case[:3]] = predicted[:, 1]\n",
    "            fold += 1\n",
    "\n",
    "        result = interim_results[case[:3]]\n",
    "        result[\"cv_fit_times\"] = np.mean(fit_times)\n",
    "        result[\"cv_predict_times\"] = np.mean(predict_times)\n",
    "\n",
    "    # aggregate predicted probabilities and argmax (ensemble) them by fold\n",
    "    fold_predictions = [\n",
    "        pd.DataFrame(predicted_probabilities[fold])\n",
    "        .swifter.apply(lambda _: np.argmax([_]) - 1, axis=1)\n",
    "        .values\n",
    "        for fold in sorted(predicted_probabilities.keys())\n",
    "    ]\n",
    "\n",
    "    # score\n",
    "    ternary_splits = make_splits(case=\"ternary_ovr\")\n",
    "    accuracy_scores = [\n",
    "        accuracy_score(y_true=true, y_pred=pred)\n",
    "        for true, pred in zip(\n",
    "            [split.y_test for split in ternary_splits], fold_predictions\n",
    "        )\n",
    "    ]\n",
    "\n",
    "    sum_time: float = lambda fitpredict: sum(\n",
    "        [interim_results[case][fitpredict] for case in cases]\n",
    "    )\n",
    "\n",
    "    return AvgScores(\n",
    "        avg_fit_time=sum_time(\"cv_fit_times\"),\n",
    "        avg_predict_time=sum_time(\"cv_predict_times\"),\n",
    "        avg_accuracy=np.mean(accuracy_scores),\n",
    "        avg_dummy=np.mean([split.dummy_test for split in ternary_splits]),\n",
    "    )"
   ]
  },
  {
   "cell_type": "code",
   "execution_count": 29,
   "metadata": {},
   "outputs": [
    {
     "name": "stdout",
     "output_type": "stream",
     "text": [
      "time: 992 µs\n"
     ]
    }
   ],
   "source": [
    "def fit_and_score_stack(case: str) -> AvgScores:\n",
    "    \"\"\"Calculates 3-fold times and scores for ternary and binary cases with the stacked ensemble.\"\"\"\n",
    "\n",
    "    if case == \"ternary_ovr\":\n",
    "        return fit_and_score_ovr_stack()\n",
    "\n",
    "    fit_times, predict_times, scores, dummies = [], [], [], []\n",
    "    for split in make_splits(case):\n",
    "        # define model\n",
    "        model = make_StackingClassifier()\n",
    "\n",
    "        # fit\n",
    "        begin = time()\n",
    "        model.fit(split.X_train, split.y_train)\n",
    "        end = time()\n",
    "        fit_times.append(end - begin)\n",
    "\n",
    "        # predict\n",
    "        begin = time()\n",
    "        predicted = model.predict(split.X_test)\n",
    "        end = time()\n",
    "        predict_times.append(end - begin)\n",
    "\n",
    "        # score\n",
    "        scores.append(accuracy_score(y_true=split.y_test, y_pred=predicted))\n",
    "        dummies.append(split.dummy_test)\n",
    "\n",
    "    return AvgScores(*[np.mean(_) for _ in (fit_times, predict_times, scores, dummies)])"
   ]
  },
  {
   "cell_type": "code",
   "execution_count": 30,
   "metadata": {},
   "outputs": [
    {
     "data": {
      "application/vnd.jupyter.widget-view+json": {
       "model_id": "c37db8ce1abc429db0761e2fa64dd972",
       "version_major": 2,
       "version_minor": 0
      },
      "text/plain": [
       "  0%|          | 0/5 [00:00<?, ?it/s]"
      ]
     },
     "metadata": {},
     "output_type": "display_data"
    },
    {
     "data": {
      "application/vnd.jupyter.widget-view+json": {
       "model_id": "23093e3bc39f4ca6bfb449cb762a47a8",
       "version_major": 2,
       "version_minor": 0
      },
      "text/plain": [
       "Pandas Apply:   0%|          | 0/181 [00:00<?, ?it/s]"
      ]
     },
     "metadata": {},
     "output_type": "display_data"
    },
    {
     "data": {
      "application/vnd.jupyter.widget-view+json": {
       "model_id": "504434df16d849c08ee1863206cb7071",
       "version_major": 2,
       "version_minor": 0
      },
      "text/plain": [
       "Pandas Apply:   0%|          | 0/122 [00:00<?, ?it/s]"
      ]
     },
     "metadata": {},
     "output_type": "display_data"
    },
    {
     "data": {
      "application/vnd.jupyter.widget-view+json": {
       "model_id": "ba43b20eda6c449eaf9214ea7679b56e",
       "version_major": 2,
       "version_minor": 0
      },
      "text/plain": [
       "Pandas Apply:   0%|          | 0/134 [00:00<?, ?it/s]"
      ]
     },
     "metadata": {},
     "output_type": "display_data"
    },
    {
     "name": "stdout",
     "output_type": "stream",
     "text": [
      "time: 7min 58s\n"
     ]
    }
   ],
   "source": [
    "for case in tqdm(all_cases):\n",
    "    store_result(\n",
    "        case=case,\n",
    "        model_name=\"StackingClassifier\",\n",
    "        avg_scores=fit_and_score_stack(case),\n",
    "    )"
   ]
  },
  {
   "cell_type": "markdown",
   "metadata": {},
   "source": [
    "#### Feature importance\n",
    "\n",
    "The default final estimator of `StackingClassifier` is `LogisticRegession` and the coefficients for each consituent estimator may serve as proxy estimates for their importances. Rather than recording coefficients at each fold, we can just fit the stacking classifier on the whole dataset."
   ]
  },
  {
   "cell_type": "code",
   "execution_count": 31,
   "metadata": {},
   "outputs": [
    {
     "name": "stdout",
     "output_type": "stream",
     "text": [
      "time: 1 ms\n"
     ]
    }
   ],
   "source": [
    "# I actually had trouble interpreting the coefficients from the final LogisticRegression, so I switched it for a random forest for now\n",
    "make_StackingClassifierRF = lambda: StackingClassifier(\n",
    "    estimators=[(model, models[model]()) for model in models],\n",
    "    final_estimator=RandomForestClassifier(n_jobs=-1, random_state=SEED),\n",
    "    n_jobs=-1,\n",
    ")"
   ]
  },
  {
   "cell_type": "code",
   "execution_count": 32,
   "metadata": {},
   "outputs": [
    {
     "data": {
      "application/vnd.jupyter.widget-view+json": {
       "model_id": "06436f65d0834d48a19d747d7816b6dc",
       "version_major": 2,
       "version_minor": 0
      },
      "text/plain": [
       "  0%|          | 0/5 [00:00<?, ?it/s]"
      ]
     },
     "metadata": {},
     "output_type": "display_data"
    },
    {
     "name": "stdout",
     "output_type": "stream",
     "text": [
      "time: 3min 52s\n"
     ]
    }
   ],
   "source": [
    "rf_importance: List[Tuple[str, str, float]] = []\n",
    "for case in tqdm(all_cases):\n",
    "    data = make_splits(case=case, num_splits=1)[0]\n",
    "    X, y = np.concatenate((data.X_train, data.X_test)), np.concatenate(\n",
    "        (data.y_train, data.y_test)\n",
    "    )\n",
    "    fitted = make_StackingClassifierRF().fit(X, y)\n",
    "    df_importance = pd.DataFrame(\n",
    "        list(\n",
    "            zip(\n",
    "                [str(est).split(\"(\")[0] for est in fitted.estimators_],\n",
    "                fitted.final_estimator_.feature_importances_,\n",
    "            )\n",
    "        ),\n",
    "        columns=[\"model\", \"importance\"],\n",
    "    )\n",
    "    df_importance[\"case\"] = case\n",
    "    rf_importance.append(df_importance)"
   ]
  },
  {
   "cell_type": "code",
   "execution_count": 33,
   "metadata": {},
   "outputs": [
    {
     "name": "stdout",
     "output_type": "stream",
     "text": [
      "time: 0 ns\n"
     ]
    }
   ],
   "source": [
    "df_importance = pd.concat(rf_importance).reset_index(drop=True)\n",
    "df_importance.model = df_importance.model.str.replace(\"Classifier\", \"\").str.replace(\n",
    "    \"QuadraticDiscriminantAnalysis\", \"QDA\"\n",
    ")"
   ]
  },
  {
   "cell_type": "markdown",
   "metadata": {},
   "source": [
    "## Results\n",
    "\n",
    "In this section, we will create several visualizations to display the results."
   ]
  },
  {
   "cell_type": "code",
   "execution_count": 34,
   "metadata": {},
   "outputs": [
    {
     "name": "stdout",
     "output_type": "stream",
     "text": [
      "time: 15.7 ms\n"
     ]
    }
   ],
   "source": [
    "results_df = (\n",
    "    pd.concat(\n",
    "        [pd.DataFrame(results[case]).assign(case=case) for case in results.keys()]\n",
    "    )\n",
    "    .sort_values(by=[\"case\", \"model_name\"])\n",
    "    .reset_index(drop=True)\n",
    ")"
   ]
  },
  {
   "cell_type": "code",
   "execution_count": 35,
   "metadata": {},
   "outputs": [
    {
     "name": "stdout",
     "output_type": "stream",
     "text": [
      "time: 0 ns\n"
     ]
    }
   ],
   "source": [
    "metric_names = {\n",
    "    \"avg_cv_accuracy\": \"Accuracy\",\n",
    "    \"vs_dummy\": \"Accuracy vs dummy\",\n",
    "    \"avg_cv_fit_time\": \"Fit time\",\n",
    "    \"avg_cv_predict_time\": \"Predict time\",\n",
    "}"
   ]
  },
  {
   "cell_type": "code",
   "execution_count": 36,
   "metadata": {},
   "outputs": [
    {
     "name": "stdout",
     "output_type": "stream",
     "text": [
      "time: 0 ns\n"
     ]
    }
   ],
   "source": [
    "def plot_metric(metric: str) -> None:\n",
    "    \"\"\"Draw a nested barplot by classifier and case.\"\"\"\n",
    "    _df = results_df.sort_values(by=metric, ascending=\"time\" in metric)\n",
    "    _df.model_name = _df.model_name.str.replace(\"Classifier\", \"\").str.replace(\n",
    "        \"QuadraticDiscriminantAnalysis\", \"QDA\"\n",
    "    )\n",
    "    g = sns.catplot(\n",
    "        data=_df,\n",
    "        kind=\"bar\",\n",
    "        x=\"model_name\",\n",
    "        y=metric,\n",
    "        hue=\"case\",\n",
    "        palette=\"colorblind\",\n",
    "        alpha=0.8,\n",
    "    )\n",
    "    g.fig.set_figwidth(16)\n",
    "    g.despine(**dict.fromkeys((\"left\", \"top\", \"right\"), True))\n",
    "    g.legend.set_title(\"\")\n",
    "    plt.xlabel(\"\")\n",
    "    plt.xticks(rotation=-30)\n",
    "    plt.ylabel(metric_names[metric].replace(\" \", \"\\n\"), rotation=0, ha=\"right\")\n",
    "    plt.show()"
   ]
  },
  {
   "cell_type": "code",
   "execution_count": 37,
   "metadata": {},
   "outputs": [
    {
     "data": {
      "image/png": "[encoded data removed]",
      "text/plain": [
       "<Figure size 1152x360 with 1 Axes>"
      ]
     },
     "metadata": {
      "needs_background": "light"
     },
     "output_type": "display_data"
    },
    {
     "data": {
      "image/png": "[encoded data removed]",
      "text/plain": [
       "<Figure size 1152x360 with 1 Axes>"
      ]
     },
     "metadata": {
      "needs_background": "light"
     },
     "output_type": "display_data"
    },
    {
     "data": {
      "image/png": "[encoded data removed]",
      "text/plain": [
       "<Figure size 1152x360 with 1 Axes>"
      ]
     },
     "metadata": {
      "needs_background": "light"
     },
     "output_type": "display_data"
    },
    {
     "data": {
      "image/png": "[encoded data removed]",
      "text/plain": [
       "<Figure size 1152x360 with 1 Axes>"
      ]
     },
     "metadata": {
      "needs_background": "light"
     },
     "output_type": "display_data"
    },
    {
     "name": "stdout",
     "output_type": "stream",
     "text": [
      "time: 3.18 s\n"
     ]
    }
   ],
   "source": [
    "for metric in metrics:\n",
    "    plot_metric(metric)"
   ]
  },
  {
   "cell_type": "markdown",
   "metadata": {},
   "source": [
    "We will visualize feature importances of the meta-estimator too."
   ]
  },
  {
   "cell_type": "code",
   "execution_count": 38,
   "metadata": {},
   "outputs": [
    {
     "data": {
      "text/plain": [
       "<seaborn.axisgrid.FacetGrid at 0x23921922af0>"
      ]
     },
     "execution_count": 38,
     "metadata": {},
     "output_type": "execute_result"
    },
    {
     "data": {
      "text/plain": [
       "Text(35.67732291666667, 0.5, 'importance')"
      ]
     },
     "execution_count": 38,
     "metadata": {},
     "output_type": "execute_result"
    },
    {
     "data": {
      "text/plain": [
       "Text(0.5, 0.98, 'importance of classifiers in stack')"
      ]
     },
     "execution_count": 38,
     "metadata": {},
     "output_type": "execute_result"
    },
    {
     "data": {
      "text/plain": [
       "Text(0.5, 20.80000000000001, '')"
      ]
     },
     "execution_count": 38,
     "metadata": {},
     "output_type": "execute_result"
    },
    {
     "data": {
      "text/plain": [
       "(array([0, 1, 2, 3, 4, 5, 6, 7, 8, 9]),\n",
       " [Text(0, 0, 'LogisticRegression'),\n",
       "  Text(1, 0, 'MLP'),\n",
       "  Text(2, 0, 'QDA'),\n",
       "  Text(3, 0, 'GaussianNB'),\n",
       "  Text(4, 0, 'AdaBoost'),\n",
       "  Text(5, 0, 'GaussianProcess'),\n",
       "  Text(6, 0, 'RandomForest'),\n",
       "  Text(7, 0, 'XGB'),\n",
       "  Text(8, 0, 'LGBM'),\n",
       "  Text(9, 0, 'SVC')])"
      ]
     },
     "execution_count": 38,
     "metadata": {},
     "output_type": "execute_result"
    },
    {
     "data": {
      "image/png": "[encoded data removed]",
      "text/plain": [
       "<Figure size 1152x360 with 1 Axes>"
      ]
     },
     "metadata": {
      "needs_background": "light"
     },
     "output_type": "display_data"
    },
    {
     "name": "stdout",
     "output_type": "stream",
     "text": [
      "time: 748 ms\n"
     ]
    }
   ],
   "source": [
    "g = sns.catplot(\n",
    "    data=df_importance.sort_values(by=\"importance\"),\n",
    "    kind=\"bar\",\n",
    "    x=\"model\",\n",
    "    y=\"importance\",\n",
    "    hue=\"case\",\n",
    "    palette=\"colorblind\",\n",
    "    alpha=0.8,\n",
    ")\n",
    "g.fig.set_figwidth(16)\n",
    "g.despine(**dict.fromkeys((\"left\", \"top\", \"right\"), True))\n",
    "g.legend.set_title(\"\")\n",
    "plt.ylabel(\"importance\", rotation=0, ha=\"right\")\n",
    "plt.suptitle(\"importance of classifiers in stack\")\n",
    "plt.xlabel(\"\")\n",
    "plt.xticks(rotation=-30)\n",
    "plt.show()"
   ]
  },
  {
   "cell_type": "markdown",
   "metadata": {},
   "source": [
    "## Discussion"
   ]
  },
  {
   "cell_type": "code",
   "execution_count": 39,
   "metadata": {},
   "outputs": [
    {
     "name": "stdout",
     "output_type": "stream",
     "text": [
      "time: 40 ms\n"
     ]
    }
   ],
   "source": [
    "best = {\n",
    "    case: {metric: {\"model\": \"\", \"score\": 0} for metric in metrics}\n",
    "    for case in all_cases\n",
    "}\n",
    "for case in best.keys():\n",
    "    for metric in metrics:\n",
    "        base = results_df.loc[results_df.case == case][[\"model_name\", metric]]\n",
    "        base_metric = base[metric]\n",
    "        best_case_metric = best[case][metric]\n",
    "        best_case_metric[\"score\"] = base_metric[\n",
    "            (\n",
    "                score_idx := base_metric.idxmin()\n",
    "                if \"time\" in metric\n",
    "                else base_metric.idxmax()\n",
    "            )\n",
    "        ]\n",
    "        best_case_metric[\"model\"] = base.model_name[score_idx]"
   ]
  },
  {
   "cell_type": "code",
   "execution_count": 40,
   "metadata": {},
   "outputs": [
    {
     "name": "stdout",
     "output_type": "stream",
     "text": [
      "The best-performing model in terms of fit time was GaussianNB for positive classification with a score of 0.008 s.\n",
      "The best-performing model in terms of accuracy was RandomForestClassifier for positive classification with a score of 0.722.\n",
      "The best-performing model in terms of accuracy vs dummy was RandomForestClassifier for positive classification with a score of 0.009.\n",
      "The best-performing model in terms of predict time was LGBMClassifier for positive classification with a score of 0.000 s.\n",
      "The best-performing model in terms of fit time was GaussianNB for neutral classification with a score of 0.008 s.\n",
      "The best-performing model in terms of accuracy was StackingClassifier for neutral classification with a score of 0.760.\n",
      "The best-performing model in terms of accuracy vs dummy was StackingClassifier for neutral classification with a score of 0.129.\n",
      "The best-performing model in terms of predict time was LogisticRegression for neutral classification with a score of 0.000 s.\n",
      "The best-performing model in terms of fit time was GaussianNB for ternary_ovr classification with a score of 0.021 s.\n",
      "The best-performing model in terms of accuracy was GaussianProcessClassifier for ternary_ovr classification with a score of 0.583.\n",
      "The best-performing model in terms of accuracy vs dummy was GaussianProcessClassifier for ternary_ovr classification with a score of 0.174.\n",
      "The best-performing model in terms of predict time was LogisticRegression for ternary_ovr classification with a score of 0.000 s.\n",
      "The best-performing model in terms of fit time was GaussianNB for ternary classification with a score of 0.008 s.\n",
      "The best-performing model in terms of accuracy was GaussianProcessClassifier for ternary classification with a score of 0.583.\n",
      "The best-performing model in terms of accuracy vs dummy was GaussianProcessClassifier for ternary classification with a score of 0.174.\n",
      "The best-performing model in terms of predict time was LGBMClassifier for ternary classification with a score of 0.000 s.\n",
      "The best-performing model in terms of fit time was GaussianNB for negative classification with a score of 0.009 s.\n",
      "The best-performing model in terms of accuracy was LogisticRegression for negative classification with a score of 0.728.\n",
      "The best-performing model in terms of accuracy vs dummy was LogisticRegression for negative classification with a score of 0.072.\n",
      "The best-performing model in terms of predict time was LogisticRegression for negative classification with a score of 0.000 s.\n",
      "time: 4 ms\n"
     ]
    }
   ],
   "source": [
    "for case in best:\n",
    "    for metric in best[case]:\n",
    "        best_case = best[case]\n",
    "        print(\n",
    "            f\"The best-performing model in terms of {metric_names[metric].lower()} was {best_case[metric]['model']} for {case} classification with a score of {best_case[metric]['score']:.3f}{' s' if 'time' in metric else ''}.\"\n",
    "        )"
   ]
  },
  {
   "cell_type": "markdown",
   "metadata": {},
   "source": [
    "Quadratic Discriminant Analysis performed poorly, probably due to high multicollinearity in the FRILL vector. \n",
    "\n",
    "GaussianNB was fast but not a contender for highest accuracy.\n",
    "\n",
    "GaussianProcessClassifier was the best-performing classifier in both ternary classification tasks.\n",
    "\n",
    "Individual subestimators within the Stacking Classifier outperformed the stack. Selecting the worst-performing subestimators for removal from the stack will likely boost its performance. Recursive feature elimination is a possible strategy to achieve this.\n",
    "\n",
    "The neural network models could potentially rank higher with more tuning. For all but the worst algorithms, hyperparameter tuning is expected to improve results as well.\n",
    "\n",
    "Of the five classification scenarios, accuracy is consistently the worst for the positive/non-positive binary classification case. Class imbalance is the most severe in this scenario. This effect may even out as more data is introduced downstream, but measures to address imbalance directly may be appropriate.\n",
    "\n",
    "I actually had trouble interpreting the multinomial coefficients of the `LogisticRegression` meta-estimator, so I [asked about it on Stack Overflow](#https://stackoverflow.com/questions/69640194/how-to-interpret-logisticregression-coefficients-ternary-classification-with-sk). In the meantime, I used a random forest instead. The plot suggests that certain classifiers may be especially informative in binary classification scenarios.\n",
    "\n",
    "Another approach may be to perform ternary classification by first predicting neutral/non-neutral and only disambiguating the non-neutral observations with positive/negative classification. An underlying assumption is that neutrally valenced utterances cannot be simultaneously positively or negatively valenced. The disambiguating predictions may be performed in 1) a binary fashion (positive vs. negative) or 2) a one-vs-rest fashion (% positive vs. % negative). The former does not allow for mixed states (simulatneous positive and negative valence) but has the advantage of relying on two underpinnning models rather than three. Although slower than the former, the latter may still afford some time savings at inference compared to the direct ternary case while preserving the interpretation of mixed states with predicted probabilities that may exceed 1 in sum. Nevertheless, the former may approximate the mixed-states interpretation via softmax predictions, which would yield two probabilities that sum to 1. Since the simple classification accuracy of the neutral binary case exceeds that of the ternary cases for all classifiers, this may be a viable approach.\n",
    "\n",
    "It is important to try the same methods on a more representative sample of the whole dataset; there is no guarantee of similar performance between samples of differing duration.\n",
    "\n",
    "### Considerations for refactoring\n",
    "\n",
    "I found out about `sklearn.multiclass.OneVsRestClassifier` right after I finished building the test harness. It is likely that `sklearn` implements some optimizations that I did not. In refactoring, I would consider using the `sklearn` classifier rather than my own implementation.\n",
    "\n",
    "Similarly, the test harness could be revised such that the `StackingClassifier` is trained first. A fitted `StackingClassifier` retains access to its fitted subestimators. Consequently, the performance of all subestimators may be recorded in aggregate per fold. Although the fit and predict times of subestimators would not be recorded, this may be less relevant when upper bounds on fit/predict times have already been estimated.\n",
    "\n",
    "In addition, implementing a factory method design pattern may make the test harness more compact in refactoring.\n",
    "\n",
    "Furthermore, the custom train-test split logic could be repackaged into an iterable yielding splits compatible with the `cv` parameter of many `sklearn` methods."
   ]
  },
  {
   "cell_type": "markdown",
   "metadata": {},
   "source": [
    "[^top](#Contents)"
   ]
  },
  {
   "cell_type": "code",
   "execution_count": null,
   "metadata": {},
   "outputs": [],
   "source": []
  }
 ],
 "metadata": {
  "interpreter": {
   "hash": "e5ec24c6db6b01668153f0d7970357104795ba99b94731b011ffeae27cd547f5"
  },
  "kernelspec": {
   "display_name": "Python [conda env:capstone_pyspark_38] *",
   "language": "python",
   "name": "conda-env-capstone_pyspark_38-py"
  },
  "language_info": {
   "codemirror_mode": {
    "name": "ipython",
    "version": 3
   },
   "file_extension": ".py",
   "mimetype": "text/x-python",
   "name": "python",
   "nbconvert_exporter": "python",
   "pygments_lexer": "ipython3",
   "version": "3.8.12"
  }
 },
 "nbformat": 4,
 "nbformat_minor": 4
}
