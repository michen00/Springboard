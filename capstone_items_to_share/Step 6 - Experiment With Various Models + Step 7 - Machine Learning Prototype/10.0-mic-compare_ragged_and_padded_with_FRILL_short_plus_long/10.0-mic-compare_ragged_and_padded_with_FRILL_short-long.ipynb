{
 "cells": [
  {
   "cell_type": "markdown",
   "metadata": {},
   "source": [
    "# Contents\n",
    "* [Introduction](#Introduction)\n",
    "  * [FRILL](#FRILL)\n",
    "* [Imports and configuration](#Imports-and-configuration)\n",
    "* [Data](#Data)\n",
    "  * [Loading](#Loading)\n",
    "  * [Preprocessing](#Preprocessing)\n",
    "* [Feature extraction](#Feature-extraction)\n",
    "* [Setup](#Setup)\n",
    "* [Test harness](#Test-harness)\n",
    "* [Results](#Results)\n",
    "* [Discussion](#Discussion)\n",
    "\n",
    "## Introduction\n",
    "\n",
    "In this notebook, the samples of short and long duration are merged into a single set to facilitate comparison of padded vs. ragged data. The hope is that the effects of padding will be most noticeable when the amount of padding is greatest.\n",
    "\n",
    "FRILL features are extracted and fit with a stacking classifier composed of models that showed promise in previous explorations. A test harness is prepared and the results for ragged and padded data are compared.\n",
    "\n",
    "FRILL embeddings may work better with ragged sequences than padded ones.\n",
    "\n",
    "### FRILL\n",
    "\n",
    "Here are two abstracts to introduce the FRILL embedding:\n",
    "\n",
    "  [Towards Learning a Universal Non-Semantic Representation of Speech (2020)](#https://doi.org/10.21437/Interspeech.2020-1242)\n",
    "> The ultimate goal of transfer learning is to reduce labeled data requirements by exploiting a pre-existing embedding model trained for different datasets or tasks. The visual and language communities have established benchmarks to compare embeddings, but the speech community has yet to do so. This paper proposes a benchmark for comparing speech representations on non-semantic tasks, and proposes a representation based on an unsupervised triplet-loss objective. The proposed representation outperforms other representations on the benchmark, and even exceeds state-of-the-art performance on a number of transfer learning tasks. The embedding is trained on a publicly available dataset, and it is tested on a variety of low-resource downstream tasks, including personalization tasks and medical domain. The benchmark, models, and evaluation code are publicly released.\n",
    "\n",
    "  [FRILL: A Non-Semantic Speech Embedding for Mobile Devices (2021)](#https://arxiv.org/abs/2011.04609)\n",
    "> Learned speech representations can drastically improve performance on tasks with limited labeled data. However, due to their size and complexity, learned representations have limited utility in mobile settings where run-time performance can be a significant bottleneck. In this work, we propose a class of lightweight non-semantic speech embedding models that run efficiently on mobile devices based on the recently proposed TRILL speech embedding. We combine novel architectural modifications with existing speed-up techniques to create embedding models that are fast enough to run in real-time on a mobile device and exhibit minimal performance degradation on a benchmark of non-semantic speech tasks. One such model (FRILL) is 32x faster on a Pixel 1 smartphone and 40% the size of TRILL, with an average decrease in accuracy of only 2%. To our knowledge, FRILL is the highest-quality non-semantic embedding designed for use on mobile devices. Furthermore, we demonstrate that these representations are useful for mobile health tasks such as non-speech human sounds detection and face-masked speech detection. Our models and code are publicly available.\n",
    "\n",
    "FRILL is therefore a promising embedding since non-semantic aspects of speech signals is what distinguishes each class for this data. And it's fast!\n",
    "\n",
    "Moreover, its output representation is a 2,048-element vector irrespective of input size. FRILL enables uniform handling of ragged sequences in an output format that is potentially more compact than spectrograms and MFCCs.\n",
    "\n",
    "Furthermore, the FRILL representations are not time series, affording the full armamentarium of classifiers.\n",
    "\n",
    "## Imports and configuration"
   ]
  },
  {
   "cell_type": "code",
   "execution_count": 1,
   "metadata": {},
   "outputs": [],
   "source": [
    "# set random seeds\n",
    "\n",
    "from os import environ\n",
    "from random import seed as random_seed\n",
    "from numpy.random import seed as np_seed\n",
    "from tensorflow.random import set_seed\n",
    "\n",
    "\n",
    "def reset_seeds(seed: int) -> None:\n",
    "    \"\"\"Utility function for resetting random seeds\"\"\"\n",
    "    environ[\"PYTHONHASHSEED\"] = str(seed)\n",
    "    random_seed(seed)\n",
    "    np_seed(seed)\n",
    "    set_seed(seed)\n",
    "\n",
    "\n",
    "reset_seeds(SEED := 2021)"
   ]
  },
  {
   "cell_type": "code",
   "execution_count": 2,
   "metadata": {},
   "outputs": [],
   "source": [
    "# extensions\n",
    "%load_ext autotime\n",
    "%load_ext lab_black\n",
    "%load_ext nb_black"
   ]
  },
  {
   "cell_type": "code",
   "execution_count": 3,
   "metadata": {},
   "outputs": [
    {
     "name": "stdout",
     "output_type": "stream",
     "text": [
      "time: 4.14 s\n"
     ]
    }
   ],
   "source": [
    "# core\n",
    "import numpy as np\n",
    "import pandas as pd\n",
    "from torchaudio import load as torchaudio_load\n",
    "\n",
    "# utility\n",
    "from collections import namedtuple\n",
    "from gc import collect as gc_collect\n",
    "from time import time\n",
    "from tqdm.notebook import tqdm\n",
    "import swifter\n",
    "\n",
    "# Python < 3.9 type hints\n",
    "from typing import Callable, List, Tuple\n",
    "from sklearn.base import BaseEstimator\n",
    "\n",
    "# metrics\n",
    "from sklearn.metrics import balanced_accuracy_score, f1_score\n",
    "\n",
    "# cross validator\n",
    "from sklearn.model_selection import StratifiedGroupKFold\n",
    "\n",
    "# sklearn classifiers\n",
    "from sklearn.dummy import DummyClassifier\n",
    "from sklearn.ensemble import (\n",
    "    AdaBoostClassifier,\n",
    "    RandomForestClassifier,\n",
    "    StackingClassifier,\n",
    ")\n",
    "from sklearn.gaussian_process import GaussianProcessClassifier\n",
    "from sklearn.linear_model import LogisticRegression\n",
    "from sklearn.multiclass import OneVsRestClassifier\n",
    "from sklearn.neural_network import MLPClassifier\n",
    "from sklearn.svm import SVC\n",
    "\n",
    "\n",
    "# other boosting classifiers\n",
    "from lightgbm import LGBMClassifier\n",
    "from xgboost import XGBClassifier\n",
    "\n",
    "# keras & tensorflow\n",
    "import tensorflow.compat.v2 as tf\n",
    "import tensorflow_hub as hub\n",
    "\n",
    "# visualization\n",
    "import matplotlib.pyplot as plt\n",
    "import seaborn as sns\n",
    "\n",
    "sns.set_context(\"notebook\")\n",
    "sns.set_style(\"whitegrid\")\n",
    "%matplotlib inline\n",
    "\n",
    "# display outputs w/o print calls\n",
    "from IPython.core.interactiveshell import InteractiveShell\n",
    "\n",
    "InteractiveShell.ast_node_interactivity = \"all\"\n",
    "\n",
    "# hide warnings\n",
    "import warnings\n",
    "\n",
    "warnings.filterwarnings(\"ignore\")"
   ]
  },
  {
   "cell_type": "code",
   "execution_count": 4,
   "metadata": {},
   "outputs": [
    {
     "name": "stdout",
     "output_type": "stream",
     "text": [
      "time: 1 ms\n"
     ]
    }
   ],
   "source": [
    "# Location of pickled dataframes\n",
    "PICKLED_DF_FOLDER = (\n",
    "    \"../1.0-mic-divide_data_by_duration\"\n",
    ")\n",
    "\n",
    "# Location where this notebook will output\n",
    "DATA_OUT_FOLDER = \".\"\n",
    "\n",
    "# Location where the FRILL module is stored locally\n",
    "LOCAL_FRILL = \"../../../FRILL/\"\n",
    "\n",
    "# The preprocessed data from the Unified Multilingual Dataset of Emotional Human utterances\n",
    "WAV_DIRECTORY = \"../../../unified_multilingual_dataset_of_emotional_human_utterances/data/preprocessed\""
   ]
  },
  {
   "cell_type": "markdown",
   "metadata": {},
   "source": [
    "## Data\n",
    "\n",
    "### Loading\n",
    "\n",
    "The samples of short and long duration are loaded and concatenated in this section."
   ]
  },
  {
   "cell_type": "code",
   "execution_count": 5,
   "metadata": {},
   "outputs": [
    {
     "data": {
      "text/html": [
       "<div>\n",
       "<style scoped>\n",
       "    .dataframe tbody tr th:only-of-type {\n",
       "        vertical-align: middle;\n",
       "    }\n",
       "\n",
       "    .dataframe tbody tr th {\n",
       "        vertical-align: top;\n",
       "    }\n",
       "\n",
       "    .dataframe thead th {\n",
       "        text-align: right;\n",
       "    }\n",
       "</style>\n",
       "<table border=\"1\" class=\"dataframe\">\n",
       "  <thead>\n",
       "    <tr style=\"text-align: right;\">\n",
       "      <th></th>\n",
       "      <th>file</th>\n",
       "      <th>duration</th>\n",
       "      <th>source</th>\n",
       "      <th>speaker_id</th>\n",
       "      <th>speaker_gender</th>\n",
       "      <th>emo</th>\n",
       "      <th>valence</th>\n",
       "      <th>lang1</th>\n",
       "      <th>lang2</th>\n",
       "      <th>neg</th>\n",
       "      <th>neu</th>\n",
       "      <th>pos</th>\n",
       "      <th>length</th>\n",
       "    </tr>\n",
       "    <tr>\n",
       "      <th>id</th>\n",
       "      <th></th>\n",
       "      <th></th>\n",
       "      <th></th>\n",
       "      <th></th>\n",
       "      <th></th>\n",
       "      <th></th>\n",
       "      <th></th>\n",
       "      <th></th>\n",
       "      <th></th>\n",
       "      <th></th>\n",
       "      <th></th>\n",
       "      <th></th>\n",
       "      <th></th>\n",
       "    </tr>\n",
       "  </thead>\n",
       "  <tbody>\n",
       "    <tr>\n",
       "      <th>01788</th>\n",
       "      <td>01788+BAUM1+BAUM1.s028+f+hap+1+tur+tr-tr.wav</td>\n",
       "      <td>0.387</td>\n",
       "      <td>BAUM1</td>\n",
       "      <td>BAUM1.s028</td>\n",
       "      <td>f</td>\n",
       "      <td>hap</td>\n",
       "      <td>1</td>\n",
       "      <td>tur</td>\n",
       "      <td>tr-tr</td>\n",
       "      <td>0</td>\n",
       "      <td>0</td>\n",
       "      <td>1</td>\n",
       "      <td>short</td>\n",
       "    </tr>\n",
       "  </tbody>\n",
       "</table>\n",
       "</div>"
      ],
      "text/plain": [
       "                                               file  duration source  \\\n",
       "id                                                                     \n",
       "01788  01788+BAUM1+BAUM1.s028+f+hap+1+tur+tr-tr.wav     0.387  BAUM1   \n",
       "\n",
       "       speaker_id speaker_gender  emo valence lang1  lang2  neg  neu  pos  \\\n",
       "id                                                                          \n",
       "01788  BAUM1.s028              f  hap       1   tur  tr-tr    0    0    1   \n",
       "\n",
       "      length  \n",
       "id            \n",
       "01788  short  "
      ]
     },
     "execution_count": 5,
     "metadata": {},
     "output_type": "execute_result"
    },
    {
     "data": {
      "text/html": [
       "<div>\n",
       "<style scoped>\n",
       "    .dataframe tbody tr th:only-of-type {\n",
       "        vertical-align: middle;\n",
       "    }\n",
       "\n",
       "    .dataframe tbody tr th {\n",
       "        vertical-align: top;\n",
       "    }\n",
       "\n",
       "    .dataframe thead th {\n",
       "        text-align: right;\n",
       "    }\n",
       "</style>\n",
       "<table border=\"1\" class=\"dataframe\">\n",
       "  <thead>\n",
       "    <tr style=\"text-align: right;\">\n",
       "      <th></th>\n",
       "      <th>file</th>\n",
       "      <th>duration</th>\n",
       "      <th>source</th>\n",
       "      <th>speaker_id</th>\n",
       "      <th>speaker_gender</th>\n",
       "      <th>emo</th>\n",
       "      <th>valence</th>\n",
       "      <th>lang1</th>\n",
       "      <th>lang2</th>\n",
       "      <th>neg</th>\n",
       "      <th>neu</th>\n",
       "      <th>pos</th>\n",
       "      <th>length</th>\n",
       "    </tr>\n",
       "    <tr>\n",
       "      <th>id</th>\n",
       "      <th></th>\n",
       "      <th></th>\n",
       "      <th></th>\n",
       "      <th></th>\n",
       "      <th></th>\n",
       "      <th></th>\n",
       "      <th></th>\n",
       "      <th></th>\n",
       "      <th></th>\n",
       "      <th></th>\n",
       "      <th></th>\n",
       "      <th></th>\n",
       "      <th></th>\n",
       "    </tr>\n",
       "  </thead>\n",
       "  <tbody>\n",
       "    <tr>\n",
       "      <th>00005</th>\n",
       "      <td>00005+aesdd+aesdd.6+m+ang+-1+ell+el-gr.wav</td>\n",
       "      <td>6.835</td>\n",
       "      <td>aesdd</td>\n",
       "      <td>aesdd.6</td>\n",
       "      <td>m</td>\n",
       "      <td>ang</td>\n",
       "      <td>-1</td>\n",
       "      <td>ell</td>\n",
       "      <td>el-gr</td>\n",
       "      <td>1</td>\n",
       "      <td>0</td>\n",
       "      <td>0</td>\n",
       "      <td>long</td>\n",
       "    </tr>\n",
       "  </tbody>\n",
       "</table>\n",
       "</div>"
      ],
      "text/plain": [
       "                                             file  duration source speaker_id  \\\n",
       "id                                                                              \n",
       "00005  00005+aesdd+aesdd.6+m+ang+-1+ell+el-gr.wav     6.835  aesdd    aesdd.6   \n",
       "\n",
       "      speaker_gender  emo valence lang1  lang2  neg  neu  pos length  \n",
       "id                                                                    \n",
       "00005              m  ang      -1   ell  el-gr    1    0    0   long  "
      ]
     },
     "execution_count": 5,
     "metadata": {},
     "output_type": "execute_result"
    },
    {
     "name": "stdout",
     "output_type": "stream",
     "text": [
      "time: 61 ms\n"
     ]
    }
   ],
   "source": [
    "# read short dataframe\n",
    "short_df = pd.read_pickle(f\"{PICKLED_DF_FOLDER}/short.pkl\")\n",
    "short_df.head(1)\n",
    "\n",
    "# read long dataframe\n",
    "long_df = pd.read_pickle(f\"{PICKLED_DF_FOLDER}/long.pkl\")\n",
    "long_df.head(1)"
   ]
  },
  {
   "cell_type": "code",
   "execution_count": 6,
   "metadata": {},
   "outputs": [
    {
     "data": {
      "text/html": [
       "<div>\n",
       "<style scoped>\n",
       "    .dataframe tbody tr th:only-of-type {\n",
       "        vertical-align: middle;\n",
       "    }\n",
       "\n",
       "    .dataframe tbody tr th {\n",
       "        vertical-align: top;\n",
       "    }\n",
       "\n",
       "    .dataframe thead th {\n",
       "        text-align: right;\n",
       "    }\n",
       "</style>\n",
       "<table border=\"1\" class=\"dataframe\">\n",
       "  <thead>\n",
       "    <tr style=\"text-align: right;\">\n",
       "      <th></th>\n",
       "      <th>file</th>\n",
       "      <th>source</th>\n",
       "      <th>length</th>\n",
       "      <th>speaker_id</th>\n",
       "      <th>speaker_gender</th>\n",
       "      <th>lang1</th>\n",
       "      <th>emo</th>\n",
       "      <th>valence</th>\n",
       "      <th>neg</th>\n",
       "      <th>neu</th>\n",
       "      <th>pos</th>\n",
       "    </tr>\n",
       "    <tr>\n",
       "      <th>id</th>\n",
       "      <th></th>\n",
       "      <th></th>\n",
       "      <th></th>\n",
       "      <th></th>\n",
       "      <th></th>\n",
       "      <th></th>\n",
       "      <th></th>\n",
       "      <th></th>\n",
       "      <th></th>\n",
       "      <th></th>\n",
       "      <th></th>\n",
       "    </tr>\n",
       "  </thead>\n",
       "  <tbody>\n",
       "    <tr>\n",
       "      <th>01788</th>\n",
       "      <td>01788+BAUM1+BAUM1.s028+f+hap+1+tur+tr-tr.wav</td>\n",
       "      <td>BAUM1</td>\n",
       "      <td>short</td>\n",
       "      <td>BAUM1.s028</td>\n",
       "      <td>f</td>\n",
       "      <td>tur</td>\n",
       "      <td>hap</td>\n",
       "      <td>1</td>\n",
       "      <td>0</td>\n",
       "      <td>0</td>\n",
       "      <td>1</td>\n",
       "    </tr>\n",
       "  </tbody>\n",
       "</table>\n",
       "</div>"
      ],
      "text/plain": [
       "                                               file source length  speaker_id  \\\n",
       "id                                                                              \n",
       "01788  01788+BAUM1+BAUM1.s028+f+hap+1+tur+tr-tr.wav  BAUM1  short  BAUM1.s028   \n",
       "\n",
       "      speaker_gender lang1  emo valence  neg  neu  pos  \n",
       "id                                                      \n",
       "01788              f   tur  hap       1    0    0    1  "
      ]
     },
     "execution_count": 6,
     "metadata": {},
     "output_type": "execute_result"
    },
    {
     "data": {
      "text/html": [
       "<div>\n",
       "<style scoped>\n",
       "    .dataframe tbody tr th:only-of-type {\n",
       "        vertical-align: middle;\n",
       "    }\n",
       "\n",
       "    .dataframe tbody tr th {\n",
       "        vertical-align: top;\n",
       "    }\n",
       "\n",
       "    .dataframe thead th {\n",
       "        text-align: right;\n",
       "    }\n",
       "</style>\n",
       "<table border=\"1\" class=\"dataframe\">\n",
       "  <thead>\n",
       "    <tr style=\"text-align: right;\">\n",
       "      <th></th>\n",
       "      <th>file</th>\n",
       "      <th>source</th>\n",
       "      <th>length</th>\n",
       "      <th>speaker_id</th>\n",
       "      <th>speaker_gender</th>\n",
       "      <th>lang1</th>\n",
       "      <th>emo</th>\n",
       "      <th>valence</th>\n",
       "      <th>neg</th>\n",
       "      <th>neu</th>\n",
       "      <th>pos</th>\n",
       "    </tr>\n",
       "    <tr>\n",
       "      <th>id</th>\n",
       "      <th></th>\n",
       "      <th></th>\n",
       "      <th></th>\n",
       "      <th></th>\n",
       "      <th></th>\n",
       "      <th></th>\n",
       "      <th></th>\n",
       "      <th></th>\n",
       "      <th></th>\n",
       "      <th></th>\n",
       "      <th></th>\n",
       "    </tr>\n",
       "  </thead>\n",
       "  <tbody>\n",
       "    <tr>\n",
       "      <th>83077</th>\n",
       "      <td>83077+ShEMO+ShEMO.F31+f+ang+-1+pes+fa-ir.wav</td>\n",
       "      <td>ShEMO</td>\n",
       "      <td>long</td>\n",
       "      <td>ShEMO.F31</td>\n",
       "      <td>f</td>\n",
       "      <td>pes</td>\n",
       "      <td>ang</td>\n",
       "      <td>-1</td>\n",
       "      <td>1</td>\n",
       "      <td>0</td>\n",
       "      <td>0</td>\n",
       "    </tr>\n",
       "  </tbody>\n",
       "</table>\n",
       "</div>"
      ],
      "text/plain": [
       "                                               file source length speaker_id  \\\n",
       "id                                                                             \n",
       "83077  83077+ShEMO+ShEMO.F31+f+ang+-1+pes+fa-ir.wav  ShEMO   long  ShEMO.F31   \n",
       "\n",
       "      speaker_gender lang1  emo valence  neg  neu  pos  \n",
       "id                                                      \n",
       "83077              f   pes  ang      -1    1    0    0  "
      ]
     },
     "execution_count": 6,
     "metadata": {},
     "output_type": "execute_result"
    },
    {
     "name": "stdout",
     "output_type": "stream",
     "text": [
      "<class 'pandas.core.frame.DataFrame'>\n",
      "Index: 5653 entries, 01788 to 83077\n",
      "Data columns (total 11 columns):\n",
      " #   Column          Non-Null Count  Dtype \n",
      "---  ------          --------------  ----- \n",
      " 0   file            5653 non-null   object\n",
      " 1   source          5653 non-null   object\n",
      " 2   length          5653 non-null   object\n",
      " 3   speaker_id      5653 non-null   object\n",
      " 4   speaker_gender  5653 non-null   object\n",
      " 5   lang1           5653 non-null   object\n",
      " 6   emo             5653 non-null   object\n",
      " 7   valence         5653 non-null   object\n",
      " 8   neg             5653 non-null   int32 \n",
      " 9   neu             5653 non-null   int32 \n",
      " 10  pos             5653 non-null   int32 \n",
      "dtypes: int32(3), object(8)\n",
      "memory usage: 463.7+ KB\n",
      "time: 46 ms\n"
     ]
    }
   ],
   "source": [
    "keep_columns = [\n",
    "    \"file\",\n",
    "    \"source\",\n",
    "    \"length\",\n",
    "    \"speaker_id\",\n",
    "    \"speaker_gender\",\n",
    "    \"lang1\",\n",
    "    \"emo\",\n",
    "    \"valence\",\n",
    "    \"neg\",\n",
    "    \"neu\",\n",
    "    \"pos\",\n",
    "]\n",
    "\n",
    "# combine short and long\n",
    "df = pd.concat((short_df[keep_columns], long_df[keep_columns]))\n",
    "\n",
    "# peek\n",
    "df.head(1)\n",
    "df.tail(1)\n",
    "df.info()"
   ]
  },
  {
   "cell_type": "markdown",
   "metadata": {},
   "source": [
    "## Preprocessing\n",
    "\n",
    "In this section, the combined dataframe is preprocessed before feature extraction. Three data sources contain non-speech samples, so we recode their language attributes first."
   ]
  },
  {
   "cell_type": "code",
   "execution_count": 7,
   "metadata": {},
   "outputs": [
    {
     "data": {
      "text/plain": [
       "eng    4034\n",
       "pes     555\n",
       "cmn     332\n",
       "tur     277\n",
       "___     137\n",
       "est     111\n",
       "ell     100\n",
       "fra      86\n",
       "deu      16\n",
       "arz       5\n",
       "Name: lang1, dtype: int64"
      ]
     },
     "execution_count": 7,
     "metadata": {},
     "output_type": "execute_result"
    },
    {
     "name": "stdout",
     "output_type": "stream",
     "text": [
      "time: 11 ms\n"
     ]
    }
   ],
   "source": [
    "df.loc[df.source.isin({\"vivae\", \"LimaCastroScott\", \"MAV\"}), \"lang1\"] = \"___\"\n",
    "df.lang1.value_counts()"
   ]
  },
  {
   "cell_type": "markdown",
   "metadata": {},
   "source": [
    "Next, we re-encode the data types to more tractable representations."
   ]
  },
  {
   "cell_type": "code",
   "execution_count": 8,
   "metadata": {},
   "outputs": [
    {
     "name": "stdout",
     "output_type": "stream",
     "text": [
      "time: 20 ms\n"
     ]
    }
   ],
   "source": [
    "# non-negative integer labels\n",
    "# {0: negative/-1, 1: neutral/0, 2: positive/1}\n",
    "df.valence = np.uint8(df.valence) + 1\n",
    "\n",
    "# encode as boolean for compactness\n",
    "for valence in {\"neg\", \"neu\", \"pos\"}:\n",
    "    df[valence] = np.bool_(df[valence])\n",
    "\n",
    "# \"category\" is more compact than object dtype\n",
    "for categorical in {\"source\", \"length\", \"speaker_id\", \"speaker_gender\", \"lang1\", \"emo\"}:\n",
    "    df[categorical] = df[categorical].astype(\"category\")"
   ]
  },
  {
   "cell_type": "markdown",
   "metadata": {},
   "source": [
    "We can see that the preprocessing made the data a little more compact."
   ]
  },
  {
   "cell_type": "code",
   "execution_count": 9,
   "metadata": {},
   "outputs": [
    {
     "name": "stdout",
     "output_type": "stream",
     "text": [
      "<class 'pandas.core.frame.DataFrame'>\n",
      "Index: 5653 entries, 01788 to 83077\n",
      "Data columns (total 11 columns):\n",
      " #   Column          Non-Null Count  Dtype   \n",
      "---  ------          --------------  -----   \n",
      " 0   file            5653 non-null   object  \n",
      " 1   source          5653 non-null   category\n",
      " 2   length          5653 non-null   category\n",
      " 3   speaker_id      5653 non-null   category\n",
      " 4   speaker_gender  5653 non-null   category\n",
      " 5   lang1           5653 non-null   category\n",
      " 6   emo             5653 non-null   category\n",
      " 7   valence         5653 non-null   uint8   \n",
      " 8   neg             5653 non-null   bool    \n",
      " 9   neu             5653 non-null   bool    \n",
      " 10  pos             5653 non-null   bool    \n",
      "dtypes: bool(3), category(6), object(1), uint8(1)\n",
      "memory usage: 171.1+ KB\n",
      "time: 17 ms\n"
     ]
    }
   ],
   "source": [
    "df.info()"
   ]
  },
  {
   "cell_type": "code",
   "execution_count": 10,
   "metadata": {},
   "outputs": [
    {
     "name": "stdout",
     "output_type": "stream",
     "text": [
      "time: 109 ms\n"
     ]
    }
   ],
   "source": [
    "# assign a name and clean up\n",
    "data = df\n",
    "del short_df\n",
    "del long_df\n",
    "del df\n",
    "_ = gc_collect()"
   ]
  },
  {
   "cell_type": "markdown",
   "metadata": {},
   "source": [
    "## Feature extraction\n",
    "\n",
    "Before we can use FRILL, we need to extract the ragged .wav arrays.\n",
    "\n",
    "Although the original dataset already trimmed leading silences, the precision was based on a 10 ms window. Therefore, there may remain leading zeros where the leading silence does not exceed 10 ms in duration, so we apply an initial trim operation."
   ]
  },
  {
   "cell_type": "code",
   "execution_count": 11,
   "metadata": {},
   "outputs": [
    {
     "name": "stdout",
     "output_type": "stream",
     "text": [
      "time: 1min 2s\n"
     ]
    }
   ],
   "source": [
    "data[\"ragged\"] = data.file.apply(\n",
    "    lambda row: torchaudio_load(filepath=f\"{WAV_DIRECTORY}/{row}\")[0][0]\n",
    ")"
   ]
  },
  {
   "cell_type": "code",
   "execution_count": 12,
   "metadata": {},
   "outputs": [
    {
     "name": "stdout",
     "output_type": "stream",
     "text": [
      "time: 0 ns\n"
     ]
    }
   ],
   "source": [
    "data = data.drop(\"file\", axis=\"columns\")"
   ]
  },
  {
   "cell_type": "code",
   "execution_count": 13,
   "metadata": {},
   "outputs": [
    {
     "name": "stderr",
     "output_type": "stream",
     "text": [
      "Pandas Apply: 100%|██████████| 5653/5653 [00:00<00:00, 22066.76it/s]"
     ]
    },
    {
     "name": "stdout",
     "output_type": "stream",
     "text": [
      "time: 295 ms\n"
     ]
    },
    {
     "name": "stderr",
     "output_type": "stream",
     "text": [
      "\n"
     ]
    }
   ],
   "source": [
    "# trim leading silence (more precise than orginally) and prepare for FRILL extraction\n",
    "trim_zeros = np.trim_zeros\n",
    "data[\"ragged\"] = data.ragged.swifter.apply(\n",
    "    lambda row: np.expand_dims(np.float32(np.trim_zeros(row.numpy())), axis=0)\n",
    ")"
   ]
  },
  {
   "cell_type": "code",
   "execution_count": 14,
   "metadata": {},
   "outputs": [
    {
     "name": "stdout",
     "output_type": "stream",
     "text": [
      "time: 6.01 ms\n"
     ]
    }
   ],
   "source": [
    "# undersample enough to fit everything in local memory\n",
    "df = data.sample(frac=0.25, random_state=SEED).reset_index(drop=True)"
   ]
  },
  {
   "cell_type": "code",
   "execution_count": 15,
   "metadata": {},
   "outputs": [
    {
     "name": "stdout",
     "output_type": "stream",
     "text": [
      "time: 0 ns\n"
     ]
    }
   ],
   "source": [
    "del PICKLED_DF_FOLDER\n",
    "del WAV_DIRECTORY\n",
    "del keep_columns\n",
    "del trim_zeros\n",
    "del data"
   ]
  },
  {
   "cell_type": "code",
   "execution_count": 16,
   "metadata": {},
   "outputs": [
    {
     "name": "stdout",
     "output_type": "stream",
     "text": [
      "time: 33.1 s\n"
     ]
    }
   ],
   "source": [
    "# Load FRILL\n",
    "tf.enable_v2_behavior()\n",
    "# module = hub.load(\"https://tfhub.dev/google/nonsemantic-speech-benchmark/frill/1\")\n",
    "module = hub.load(LOCAL_FRILL)"
   ]
  },
  {
   "cell_type": "code",
   "execution_count": 17,
   "metadata": {},
   "outputs": [
    {
     "name": "stdout",
     "output_type": "stream",
     "text": [
      "time: 722 ms\n"
     ]
    }
   ],
   "source": [
    "del LOCAL_FRILL\n",
    "del _\n",
    "_ = gc_collect()"
   ]
  },
  {
   "cell_type": "markdown",
   "metadata": {},
   "source": [
    "We prepare the ragged FRILL features now, but the padded FRILL features need to be extracted within each cross-validation fold."
   ]
  },
  {
   "cell_type": "code",
   "execution_count": 18,
   "metadata": {},
   "outputs": [
    {
     "name": "stderr",
     "output_type": "stream",
     "text": [
      "Pandas Apply: 100%|██████████| 1413/1413 [15:31<00:00,  1.52it/s]"
     ]
    },
    {
     "name": "stdout",
     "output_type": "stream",
     "text": [
      "time: 16min 40s\n"
     ]
    },
    {
     "name": "stderr",
     "output_type": "stream",
     "text": [
      "\n"
     ]
    }
   ],
   "source": [
    "# this part is isolated as it is one of the most memory-intensive steps\n",
    "df[\"frill\"] = df.ragged.swifter.apply(lambda _: module(_)[\"embedding\"][0])"
   ]
  },
  {
   "cell_type": "code",
   "execution_count": 19,
   "metadata": {},
   "outputs": [
    {
     "name": "stdout",
     "output_type": "stream",
     "text": [
      "time: 1.72 s\n"
     ]
    }
   ],
   "source": [
    "_ = gc_collect()"
   ]
  },
  {
   "cell_type": "code",
   "execution_count": 20,
   "metadata": {},
   "outputs": [
    {
     "name": "stdout",
     "output_type": "stream",
     "text": [
      "time: 27min 33s\n"
     ]
    }
   ],
   "source": [
    "X_frill = pd.DataFrame(df.frill.values.tolist(), dtype=np.float16).set_index(df.index)"
   ]
  },
  {
   "cell_type": "code",
   "execution_count": 21,
   "metadata": {},
   "outputs": [
    {
     "name": "stdout",
     "output_type": "stream",
     "text": [
      "time: 1.81 s\n"
     ]
    }
   ],
   "source": [
    "_ = gc_collect()"
   ]
  },
  {
   "cell_type": "code",
   "execution_count": 22,
   "metadata": {},
   "outputs": [
    {
     "name": "stdout",
     "output_type": "stream",
     "text": [
      "time: 999 ms\n"
     ]
    }
   ],
   "source": [
    "df = df.drop(\"frill\", axis=\"columns\")"
   ]
  },
  {
   "cell_type": "code",
   "execution_count": 23,
   "metadata": {},
   "outputs": [
    {
     "name": "stdout",
     "output_type": "stream",
     "text": [
      "time: 1.64 s\n"
     ]
    }
   ],
   "source": [
    "_ = gc_collect()"
   ]
  },
  {
   "cell_type": "markdown",
   "metadata": {},
   "source": [
    "## Setup\n",
    "\n",
    "In this section, we define some structures to keep track of models and scores.\n",
    "\n",
    "The next cell defines a Python dictionary to record the results of three-fold cross validation such that the results may be easily cast to a `pandas` dataframe."
   ]
  },
  {
   "cell_type": "code",
   "execution_count": 24,
   "metadata": {},
   "outputs": [
    {
     "name": "stdout",
     "output_type": "stream",
     "text": [
      "time: 2 ms\n"
     ]
    }
   ],
   "source": [
    "# classification scenarios\n",
    "all_cases = {\"ternary\", \"negative\", \"neutral\", \"positive\", \"ternary_ovr\"}\n",
    "metrics = (\n",
    "    \"avg_cv_balanced_accuracy\",\n",
    "    \"avg_cv_f1\",\n",
    "    \"avg_cv_fit_time\",\n",
    "    \"avg_cv_predict_time\",\n",
    ")\n",
    "\n",
    "# to be cast to pd.DataFrame\n",
    "results = {key: [] for key in {\"model_name\", \"case\", \"pad_rag\", *metrics}}"
   ]
  },
  {
   "cell_type": "code",
   "execution_count": 25,
   "metadata": {},
   "outputs": [
    {
     "name": "stdout",
     "output_type": "stream",
     "text": [
      "time: 5.01 ms\n"
     ]
    }
   ],
   "source": [
    "AvgScores = namedtuple(\"AvgScores\", metrics)\n",
    "\n",
    "\n",
    "def store_result(\n",
    "    case: str, model_name: str, pad_rag: str, avg_scores: AvgScores\n",
    ") -> None:\n",
    "    \"Appends a model's score and fit/predict times to the results.\"\n",
    "    for attribute, value in {\n",
    "        (\"model_name\", model_name),\n",
    "        (\"case\", case),\n",
    "        (\"pad_rag\", pad_rag),\n",
    "        (\"avg_cv_balanced_accuracy\", avg_scores.avg_cv_balanced_accuracy),\n",
    "        (\"avg_cv_f1\", avg_scores.avg_cv_f1),\n",
    "        (\"avg_cv_fit_time\", avg_scores.avg_cv_fit_time),\n",
    "        (\"avg_cv_predict_time\", avg_scores.avg_cv_predict_time),\n",
    "    }:\n",
    "        results[attribute].append(value)"
   ]
  },
  {
   "cell_type": "markdown",
   "metadata": {},
   "source": [
    "### Test harness\n",
    "\n",
    "This section defines a test harness for the models.\n",
    "\n",
    "The next two cells create a custom feature for stratifying the splits."
   ]
  },
  {
   "cell_type": "code",
   "execution_count": 26,
   "metadata": {},
   "outputs": [
    {
     "name": "stderr",
     "output_type": "stream",
     "text": [
      "Pandas Apply: 100%|██████████| 1413/1413 [00:00<00:00, 52365.34it/s]"
     ]
    },
    {
     "name": "stdout",
     "output_type": "stream",
     "text": [
      "time: 71 ms\n"
     ]
    },
    {
     "name": "stderr",
     "output_type": "stream",
     "text": [
      "\n"
     ]
    }
   ],
   "source": [
    "strata = df[[\"speaker_id\", \"emo\", \"lang1\", \"length\"]].swifter.apply(\"\".join, axis=1)"
   ]
  },
  {
   "cell_type": "code",
   "execution_count": 27,
   "metadata": {},
   "outputs": [
    {
     "data": {
      "text/plain": [
       "uniques0                           323\n",
       "uniques1                           142\n",
       "EmoV-DB_sorted.samdisenglong        85\n",
       "EmoV-DB_sorted.samamuenglong        80\n",
       "EmoV-DB_sorted.beadisenglong        43\n",
       "                                  ... \n",
       "EmoReact_V_1.0.test2unkenglong       3\n",
       "EmoReact_V_1.0.train6unkenglong      3\n",
       "ShEMO.F22sadpeslong                  3\n",
       "ShEMO.M25neupeslong                  3\n",
       "MELD.Joeysadenglong                  3\n",
       "Length: 100, dtype: int64"
      ]
     },
     "execution_count": 27,
     "metadata": {},
     "output_type": "execute_result"
    },
    {
     "name": "stdout",
     "output_type": "stream",
     "text": [
      "time: 25 ms\n"
     ]
    }
   ],
   "source": [
    "n_splits = 3\n",
    "for i in range(n_splits - 1):\n",
    "    strata.loc[\n",
    "        strata.isin(\n",
    "            (strata_counts := strata.value_counts()).loc[strata_counts == i + 1].index\n",
    "        )\n",
    "    ] = f\"uniques{i}\"\n",
    "strata.value_counts()"
   ]
  },
  {
   "cell_type": "markdown",
   "metadata": {},
   "source": [
    "The next few cells pre-calculate some transformations for within-fold padding."
   ]
  },
  {
   "cell_type": "code",
   "execution_count": 28,
   "metadata": {},
   "outputs": [
    {
     "name": "stdout",
     "output_type": "stream",
     "text": [
      "time: 1 ms\n"
     ]
    }
   ],
   "source": [
    "def pad_and_extract(max_ragged: int):\n",
    "    \"\"\"Convenience function for padding and extracting FRILL.\"\"\"\n",
    "\n",
    "    def inner(row):\n",
    "        return module(\n",
    "            np.expand_dims(\n",
    "                np.pad(\n",
    "                    _ := np.squeeze(row),\n",
    "                    (max_ragged - len(_), 0),\n",
    "                    mode=\"constant\",\n",
    "                    constant_values=0,\n",
    "                ),\n",
    "                axis=0,\n",
    "            )\n",
    "        )[\"embedding\"][0].numpy()\n",
    "\n",
    "    return inner"
   ]
  },
  {
   "cell_type": "code",
   "execution_count": 29,
   "metadata": {},
   "outputs": [
    {
     "name": "stdout",
     "output_type": "stream",
     "text": [
      "time: 1.63 s\n"
     ]
    }
   ],
   "source": [
    "cv = StratifiedGroupKFold(n_splits=n_splits, shuffle=True, random_state=SEED)\n",
    "\n",
    "Prepadded = namedtuple(\"Prepadded\", \"X_train, X_test\")\n",
    "\n",
    "_apply: pd.DataFrame = lambda _0: pd.DataFrame(\n",
    "    (_ := df.ragged.iloc[_0])\n",
    "    .swifter.apply(\n",
    "        pad_and_extract(_.swifter.apply(lambda _1: len(np.squeeze(_1))).max())\n",
    "    )\n",
    "    .values.tolist()\n",
    ")\n",
    "\n",
    "_ = gc_collect()"
   ]
  },
  {
   "cell_type": "code",
   "execution_count": 30,
   "metadata": {},
   "outputs": [
    {
     "name": "stderr",
     "output_type": "stream",
     "text": [
      "Pandas Apply: 100%|██████████| 1138/1138 [00:00<00:00, 126206.19it/s]\n",
      "Pandas Apply: 100%|██████████| 1138/1138 [01:13<00:00, 15.45it/s]\n",
      "Pandas Apply: 100%|██████████| 275/275 [00:00<00:00, 55019.73it/s]\n",
      "Pandas Apply: 100%|██████████| 275/275 [00:17<00:00, 15.42it/s]\n",
      "Pandas Apply: 100%|██████████| 886/886 [00:00<00:00, 147501.52it/s]\n",
      "Pandas Apply: 100%|██████████| 886/886 [00:55<00:00, 15.86it/s]\n",
      "Pandas Apply: 100%|██████████| 527/527 [00:00<00:00, 75375.90it/s]\n",
      "Pandas Apply: 100%|██████████| 527/527 [00:33<00:00, 15.75it/s]\n",
      "Pandas Apply: 100%|██████████| 802/802 [00:00<00:00, 160687.48it/s]\n",
      "Pandas Apply: 100%|██████████| 802/802 [00:51<00:00, 15.72it/s]\n",
      "Pandas Apply: 100%|██████████| 611/611 [00:00<00:00, 121970.38it/s]\n",
      "Pandas Apply: 100%|██████████| 611/611 [00:38<00:00, 15.85it/s]\n"
     ]
    },
    {
     "name": "stdout",
     "output_type": "stream",
     "text": [
      "time: 5min 7s\n"
     ]
    }
   ],
   "source": [
    "prepad = {\n",
    "    (train_idxs[0], test_idxs[0]): Prepadded(_apply(train_idxs), _apply(test_idxs))\n",
    "    for train_idxs, test_idxs in cv.split(X=df.ragged, y=strata, groups=df.speaker_id)\n",
    "}"
   ]
  },
  {
   "cell_type": "code",
   "execution_count": 31,
   "metadata": {},
   "outputs": [
    {
     "name": "stdout",
     "output_type": "stream",
     "text": [
      "time: 4.04 ms\n"
     ]
    }
   ],
   "source": [
    "def evaluate_model(\n",
    "    model_base: Callable,\n",
    "    case: str,\n",
    "    pad: bool = False,\n",
    ") -> Tuple[AvgScores, BaseEstimator]:\n",
    "    \"\"\"Evaluate a model with three-fold stratified grouped cross validation.\"\"\"\n",
    "\n",
    "    fit_times, predict_times, balanced_accuracy, f1 = [], [], [], []\n",
    "    for train_idxs, test_idxs in cv.split(X=X_frill, y=strata, groups=df.speaker_id):\n",
    "\n",
    "        if pad:\n",
    "            prepadded = prepad[(train_idxs[0], test_idxs[0])]\n",
    "            X_train, X_test = prepadded.X_train, prepadded.X_test\n",
    "        else:\n",
    "            X_train, X_test = X_frill.iloc[train_idxs], X_frill.iloc[test_idxs]\n",
    "\n",
    "        if \"ternary\" in case:\n",
    "            y_train = df.loc[train_idxs, \"valence\"]\n",
    "            y_test = df.loc[test_idxs, \"valence\"]\n",
    "            if case == \"ternary_ovr\":\n",
    "                # reset model_base\n",
    "                model = model_base()\n",
    "                model_base = lambda: OneVsRestClassifier(estimator=model, n_jobs=-1)\n",
    "        else:\n",
    "            label = case[:3]\n",
    "            y_train = df.loc[train_idxs, label]\n",
    "            y_test = df.loc[test_idxs, label]\n",
    "\n",
    "        # reset indices\n",
    "        X_train, y_train = X_train.reset_index(drop=True), y_train.reset_index(\n",
    "            drop=True\n",
    "        )\n",
    "        X_test, y_test = X_test.reset_index(drop=True), y_test.reset_index(drop=True)\n",
    "\n",
    "        # initialize model\n",
    "        model = model_base()\n",
    "\n",
    "        # fit\n",
    "        begin = time()\n",
    "        model.fit(X_train, y_train)\n",
    "        end = time()\n",
    "        fit_times.append(end - begin)\n",
    "\n",
    "        # predict\n",
    "        begin = time()\n",
    "        predicted = model.predict(X_test)\n",
    "        end = time()\n",
    "        predict_times.append(end - begin)\n",
    "\n",
    "        # score\n",
    "        score_params = {\"y_true\": y_test, \"y_pred\": predicted}\n",
    "        balanced_accuracy.append(balanced_accuracy_score(**score_params))\n",
    "        f1.append(f1_score(**score_params, average=\"weighted\"))\n",
    "    return (\n",
    "        AvgScores(\n",
    "            *[np.mean(_) for _ in (balanced_accuracy, f1, fit_times, predict_times)]\n",
    "        ),\n",
    "        model,\n",
    "    )"
   ]
  },
  {
   "cell_type": "code",
   "execution_count": 32,
   "metadata": {},
   "outputs": [
    {
     "name": "stdout",
     "output_type": "stream",
     "text": [
      "time: 1.62 s\n"
     ]
    }
   ],
   "source": [
    "_ = gc_collect()"
   ]
  },
  {
   "cell_type": "markdown",
   "metadata": {},
   "source": [
    "### Model stack\n",
    "\n",
    "In this section, a `StackingClassifier` of several models is set up. Thanks to FRILL, we may now use the gamut of classifiers provided by `sklearn`. We also include `LightGBM` and `XGBoost`.\n",
    "\n",
    "For the most part, the default settings of each classifier are used. Where possible, the seed is set and all available cores are used. Each classifier is wrapped in a lambda function to ensure a brand new model is initialized each time the function is called.\n",
    "\n",
    "Some of the models tested in this notebook automatically implement one-vs-rest classification for multiclass classification. In those cases, we would expect the ternary and one-vs-rest reports to be similar."
   ]
  },
  {
   "cell_type": "code",
   "execution_count": 33,
   "metadata": {},
   "outputs": [
    {
     "name": "stdout",
     "output_type": "stream",
     "text": [
      "time: 2 ms\n"
     ]
    }
   ],
   "source": [
    "models = {\n",
    "    \"AdaBoostClassifier\": lambda: AdaBoostClassifier(random_state=SEED),\n",
    "    \"GaussianProcessClassifier\": lambda: GaussianProcessClassifier(\n",
    "        random_state=SEED, n_jobs=-1\n",
    "    ),\n",
    "    \"LogisticRegression\": lambda: LogisticRegression(random_state=SEED, n_jobs=-1),\n",
    "    \"MLPClassifier\": lambda: MLPClassifier(random_state=SEED),\n",
    "    \"RandomForestClassifier\": lambda: RandomForestClassifier(\n",
    "        n_jobs=-1, random_state=SEED\n",
    "    ),\n",
    "    \"SVC\": lambda: SVC(random_state=SEED, probability=True),\n",
    "    \"LGBMClassifier\": lambda: LGBMClassifier(\n",
    "        boosting_type=\"rf\",\n",
    "        random_state=SEED,\n",
    "        n_jobs=-1,\n",
    "        subsample=0.75,\n",
    "        subsample_freq=1,\n",
    "    ),\n",
    "    \"XGBClassifier\": lambda: XGBClassifier(\n",
    "        eval_metric=\"mlogloss\", seed=SEED, use_label_encoder=False\n",
    "    ),\n",
    "}\n",
    "\n",
    "make_StackingClassifierRF = lambda: StackingClassifier(\n",
    "    estimators=[(model, models[model]()) for model in models],\n",
    "    final_estimator=RandomForestClassifier(n_jobs=-1, random_state=SEED),\n",
    "    n_jobs=-1,\n",
    ")\n",
    "\n",
    "make_DummyClassifier = lambda: DummyClassifier(random_state=SEED)"
   ]
  },
  {
   "cell_type": "code",
   "execution_count": 34,
   "metadata": {},
   "outputs": [
    {
     "name": "stdout",
     "output_type": "stream",
     "text": [
      "time: 1.62 s\n"
     ]
    }
   ],
   "source": [
    "_ = gc_collect()"
   ]
  },
  {
   "cell_type": "markdown",
   "metadata": {},
   "source": [
    "### Collection of results\n",
    "\n",
    "To save time, we just need to run the test harness on the `StackingClassifier` since it retains access to its fitted subestimators after training. Although we won't be able to record the fit times, this avoids redundant training."
   ]
  },
  {
   "cell_type": "code",
   "execution_count": 35,
   "metadata": {},
   "outputs": [
    {
     "name": "stdout",
     "output_type": "stream",
     "text": [
      "time: 995 µs\n"
     ]
    }
   ],
   "source": [
    "model_store = {\"case\": [], \"pad_rag\": [], \"subestimators\": []}"
   ]
  },
  {
   "cell_type": "code",
   "execution_count": 36,
   "metadata": {},
   "outputs": [
    {
     "name": "stdout",
     "output_type": "stream",
     "text": [
      "time: 23min 47s\n"
     ]
    }
   ],
   "source": [
    "# separated to ease memory burden\n",
    "case = \"ternary_ovr\"\n",
    "for pad in {True, False}:\n",
    "    _ = gc_collect()\n",
    "    avg_scores, fit_model = evaluate_model(make_StackingClassifierRF, case, pad)\n",
    "    store_result(\n",
    "        case=case,\n",
    "        model_name=\"StackingClassifier\",\n",
    "        pad_rag=\"padded\" if pad else \"ragged\",\n",
    "        avg_scores=avg_scores,\n",
    "    )"
   ]
  },
  {
   "cell_type": "code",
   "execution_count": 37,
   "metadata": {},
   "outputs": [
    {
     "name": "stdout",
     "output_type": "stream",
     "text": [
      "time: 16min 16s\n"
     ]
    }
   ],
   "source": [
    "case = \"ternary\"\n",
    "for pad in {True, False}:\n",
    "    _ = gc_collect()\n",
    "    avg_scores, fit_model = evaluate_model(make_StackingClassifierRF, case, pad)\n",
    "    store_result(\n",
    "        case=case,\n",
    "        model_name=\"StackingClassifier\",\n",
    "        pad_rag=(pad_rag := \"padded\" if pad else \"ragged\"),\n",
    "        avg_scores=avg_scores,\n",
    "    )\n",
    "    model_store[\"case\"].append(case)\n",
    "    model_store[\"pad_rag\"].append(pad_rag)\n",
    "    model_store[\"subestimators\"].append(fit_model.named_estimators_)"
   ]
  },
  {
   "cell_type": "code",
   "execution_count": 38,
   "metadata": {},
   "outputs": [
    {
     "name": "stdout",
     "output_type": "stream",
     "text": [
      "time: 7min 36s\n"
     ]
    }
   ],
   "source": [
    "case = \"negative\"\n",
    "for pad in {True, False}:\n",
    "    _ = gc_collect()\n",
    "    avg_scores, fit_model = evaluate_model(make_StackingClassifierRF, case, pad)\n",
    "    store_result(\n",
    "        case=case,\n",
    "        model_name=\"StackingClassifier\",\n",
    "        pad_rag=(pad_rag := \"padded\" if pad else \"ragged\"),\n",
    "        avg_scores=avg_scores,\n",
    "    )\n",
    "    model_store[\"case\"].append(case)\n",
    "    model_store[\"pad_rag\"].append(pad_rag)\n",
    "    model_store[\"subestimators\"].append(fit_model.named_estimators_)"
   ]
  },
  {
   "cell_type": "code",
   "execution_count": 39,
   "metadata": {},
   "outputs": [
    {
     "name": "stdout",
     "output_type": "stream",
     "text": [
      "time: 6min 56s\n"
     ]
    }
   ],
   "source": [
    "case = \"neutral\"\n",
    "for pad in {True, False}:\n",
    "    _ = gc_collect()\n",
    "    avg_scores, fit_model = evaluate_model(make_StackingClassifierRF, case, pad)\n",
    "    store_result(\n",
    "        case=case,\n",
    "        model_name=\"StackingClassifier\",\n",
    "        pad_rag=(pad_rag := \"padded\" if pad else \"ragged\"),\n",
    "        avg_scores=avg_scores,\n",
    "    )\n",
    "    model_store[\"case\"].append(case)\n",
    "    model_store[\"pad_rag\"].append(pad_rag)\n",
    "    model_store[\"subestimators\"].append(fit_model.named_estimators_)"
   ]
  },
  {
   "cell_type": "code",
   "execution_count": 40,
   "metadata": {},
   "outputs": [
    {
     "name": "stdout",
     "output_type": "stream",
     "text": [
      "time: 6min 57s\n"
     ]
    }
   ],
   "source": [
    "case = \"positive\"\n",
    "for pad in {True, False}:\n",
    "    _ = gc_collect()\n",
    "    avg_scores, fit_model = evaluate_model(make_StackingClassifierRF, case, pad)\n",
    "    store_result(\n",
    "        case=case,\n",
    "        model_name=\"StackingClassifier\",\n",
    "        pad_rag=(pad_rag := \"padded\" if pad else \"ragged\"),\n",
    "        avg_scores=avg_scores,\n",
    "    )\n",
    "    model_store[\"case\"].append(case)\n",
    "    model_store[\"pad_rag\"].append(pad_rag)\n",
    "    model_store[\"subestimators\"].append(fit_model.named_estimators_)"
   ]
  },
  {
   "cell_type": "markdown",
   "metadata": {},
   "source": [
    "Now that `StackingClassifier` instances have been fit, we can test the predictions of the subestimators."
   ]
  },
  {
   "cell_type": "code",
   "execution_count": 41,
   "metadata": {},
   "outputs": [
    {
     "name": "stdout",
     "output_type": "stream",
     "text": [
      "time: 2min 24s\n"
     ]
    }
   ],
   "source": [
    "for case, padded, subestimators in zip(\n",
    "    model_store[\"case\"], model_store[\"pad_rag\"], model_store[\"subestimators\"]\n",
    "):\n",
    "    for estimator in subestimators:\n",
    "        predict_times, balanced_accuracy, f1 = [], [], []\n",
    "        model = subestimators[estimator]\n",
    "        for train_idxs, test_idxs in cv.split(X=X_frill, y=strata, groups=df.speaker_id):\n",
    "\n",
    "            # prepare test data\n",
    "            X_test = (\n",
    "                X_frill.iloc[test_idxs]\n",
    "                if padded == \"ragged\"\n",
    "                else prepad[(train_idxs[0], test_idxs[0])].X_test\n",
    "            )\n",
    "            y_test = (\n",
    "                df.loc[test_idxs, \"valence\"]\n",
    "                if \"ternary\" in case\n",
    "                else df.loc[test_idxs, case[:3]]\n",
    "            )\n",
    "\n",
    "            # predict\n",
    "            begin = time()\n",
    "            predicted = model.predict(X_test)\n",
    "            end = time()\n",
    "            predict_times.append(end - begin)\n",
    "\n",
    "            # score\n",
    "            score_params = {\"y_true\": y_test, \"y_pred\": predicted}\n",
    "            balanced_accuracy.append(balanced_accuracy_score(**score_params))\n",
    "            f1.append(f1_score(**score_params, average=\"weighted\"))\n",
    "        store_result(\n",
    "            case=case,\n",
    "            model_name=estimator,\n",
    "            pad_rag=padded,\n",
    "            avg_scores=AvgScores(\n",
    "                np.mean(balanced_accuracy), np.mean(f1), np.nan, np.mean(predict_times)\n",
    "            ),\n",
    "        )"
   ]
  },
  {
   "cell_type": "markdown",
   "metadata": {},
   "source": [
    "We need to finish evaluating the individual models on the ternary one-vs-rest case."
   ]
  },
  {
   "cell_type": "code",
   "execution_count": 42,
   "metadata": {},
   "outputs": [
    {
     "data": {
      "application/vnd.jupyter.widget-view+json": {
       "model_id": "7e386619b2a1408b927953b47aeba065",
       "version_major": 2,
       "version_minor": 0
      },
      "text/plain": [
       "  0%|          | 0/8 [00:00<?, ?it/s]"
      ]
     },
     "metadata": {},
     "output_type": "display_data"
    },
    {
     "name": "stdout",
     "output_type": "stream",
     "text": [
      "time: 4min 30s\n"
     ]
    }
   ],
   "source": [
    "for model in tqdm(models):\n",
    "    for pad in {True, False}:\n",
    "        _ = gc_collect()\n",
    "        store_result(\n",
    "            case=\"ternary_ovr\",\n",
    "            model_name=model,\n",
    "            pad_rag=\"padded\" if pad else \"ragged\",\n",
    "            avg_scores=evaluate_model(models[model], case, pad)[0],\n",
    "        )"
   ]
  },
  {
   "cell_type": "markdown",
   "metadata": {},
   "source": [
    "We should also record the dummy scores for a baseline comparison."
   ]
  },
  {
   "cell_type": "code",
   "execution_count": 43,
   "metadata": {},
   "outputs": [
    {
     "data": {
      "application/vnd.jupyter.widget-view+json": {
       "model_id": "84d30ae84b2c4869bcb27e1070b88733",
       "version_major": 2,
       "version_minor": 0
      },
      "text/plain": [
       "  0%|          | 0/5 [00:00<?, ?it/s]"
      ]
     },
     "metadata": {},
     "output_type": "display_data"
    },
    {
     "name": "stdout",
     "output_type": "stream",
     "text": [
      "time: 4.08 s\n"
     ]
    }
   ],
   "source": [
    "for case in tqdm(all_cases):\n",
    "    for pad in {True, False}:\n",
    "        store_result(\n",
    "            case=case,\n",
    "            model_name=\"DummyClassifier\",\n",
    "            pad_rag=(pad_rag := \"padded\" if pad else \"ragged\"),\n",
    "            avg_scores=evaluate_model(make_DummyClassifier, case, pad)[0],\n",
    "        )"
   ]
  },
  {
   "cell_type": "markdown",
   "metadata": {},
   "source": [
    "## Results\n",
    "\n",
    "In this section, we will create several visualizations to display the results."
   ]
  },
  {
   "cell_type": "code",
   "execution_count": 44,
   "metadata": {},
   "outputs": [
    {
     "data": {
      "text/html": [
       "<div>\n",
       "<style scoped>\n",
       "    .dataframe tbody tr th:only-of-type {\n",
       "        vertical-align: middle;\n",
       "    }\n",
       "\n",
       "    .dataframe tbody tr th {\n",
       "        vertical-align: top;\n",
       "    }\n",
       "\n",
       "    .dataframe thead th {\n",
       "        text-align: right;\n",
       "    }\n",
       "</style>\n",
       "<table border=\"1\" class=\"dataframe\">\n",
       "  <thead>\n",
       "    <tr style=\"text-align: right;\">\n",
       "      <th></th>\n",
       "      <th>avg_cv_predict_time</th>\n",
       "      <th>avg_cv_f1</th>\n",
       "      <th>avg_cv_balanced_accuracy</th>\n",
       "      <th>pad_rag</th>\n",
       "      <th>model_name</th>\n",
       "      <th>avg_cv_fit_time</th>\n",
       "      <th>case</th>\n",
       "    </tr>\n",
       "  </thead>\n",
       "  <tbody>\n",
       "    <tr>\n",
       "      <th>0</th>\n",
       "      <td>0.260020</td>\n",
       "      <td>0.797017</td>\n",
       "      <td>0.797280</td>\n",
       "      <td>ragged</td>\n",
       "      <td>AdaBoostClassifier</td>\n",
       "      <td>NaN</td>\n",
       "      <td>negative</td>\n",
       "    </tr>\n",
       "    <tr>\n",
       "      <th>1</th>\n",
       "      <td>0.131640</td>\n",
       "      <td>0.380960</td>\n",
       "      <td>0.513116</td>\n",
       "      <td>padded</td>\n",
       "      <td>AdaBoostClassifier</td>\n",
       "      <td>NaN</td>\n",
       "      <td>negative</td>\n",
       "    </tr>\n",
       "    <tr>\n",
       "      <th>2</th>\n",
       "      <td>0.000333</td>\n",
       "      <td>0.310833</td>\n",
       "      <td>0.500000</td>\n",
       "      <td>ragged</td>\n",
       "      <td>DummyClassifier</td>\n",
       "      <td>0.000000</td>\n",
       "      <td>negative</td>\n",
       "    </tr>\n",
       "    <tr>\n",
       "      <th>3</th>\n",
       "      <td>0.000000</td>\n",
       "      <td>0.310833</td>\n",
       "      <td>0.500000</td>\n",
       "      <td>padded</td>\n",
       "      <td>DummyClassifier</td>\n",
       "      <td>0.000000</td>\n",
       "      <td>negative</td>\n",
       "    </tr>\n",
       "    <tr>\n",
       "      <th>4</th>\n",
       "      <td>3.168205</td>\n",
       "      <td>0.879409</td>\n",
       "      <td>0.879440</td>\n",
       "      <td>ragged</td>\n",
       "      <td>GaussianProcessClassifier</td>\n",
       "      <td>NaN</td>\n",
       "      <td>negative</td>\n",
       "    </tr>\n",
       "    <tr>\n",
       "      <th>...</th>\n",
       "      <td>...</td>\n",
       "      <td>...</td>\n",
       "      <td>...</td>\n",
       "      <td>...</td>\n",
       "      <td>...</td>\n",
       "      <td>...</td>\n",
       "      <td>...</td>\n",
       "    </tr>\n",
       "    <tr>\n",
       "      <th>95</th>\n",
       "      <td>0.310859</td>\n",
       "      <td>0.692660</td>\n",
       "      <td>0.500000</td>\n",
       "      <td>padded</td>\n",
       "      <td>SVC</td>\n",
       "      <td>2.281501</td>\n",
       "      <td>ternary_ovr</td>\n",
       "    </tr>\n",
       "    <tr>\n",
       "      <th>96</th>\n",
       "      <td>14.541616</td>\n",
       "      <td>0.477682</td>\n",
       "      <td>0.422266</td>\n",
       "      <td>ragged</td>\n",
       "      <td>StackingClassifier</td>\n",
       "      <td>330.815643</td>\n",
       "      <td>ternary_ovr</td>\n",
       "    </tr>\n",
       "    <tr>\n",
       "      <th>97</th>\n",
       "      <td>12.928171</td>\n",
       "      <td>0.361825</td>\n",
       "      <td>0.337172</td>\n",
       "      <td>padded</td>\n",
       "      <td>StackingClassifier</td>\n",
       "      <td>116.371348</td>\n",
       "      <td>ternary_ovr</td>\n",
       "    </tr>\n",
       "    <tr>\n",
       "      <th>98</th>\n",
       "      <td>0.020088</td>\n",
       "      <td>0.697285</td>\n",
       "      <td>0.507301</td>\n",
       "      <td>ragged</td>\n",
       "      <td>XGBClassifier</td>\n",
       "      <td>6.190352</td>\n",
       "      <td>ternary_ovr</td>\n",
       "    </tr>\n",
       "    <tr>\n",
       "      <th>99</th>\n",
       "      <td>0.016666</td>\n",
       "      <td>0.692660</td>\n",
       "      <td>0.500000</td>\n",
       "      <td>padded</td>\n",
       "      <td>XGBClassifier</td>\n",
       "      <td>2.037333</td>\n",
       "      <td>ternary_ovr</td>\n",
       "    </tr>\n",
       "  </tbody>\n",
       "</table>\n",
       "<p>100 rows × 7 columns</p>\n",
       "</div>"
      ],
      "text/plain": [
       "    avg_cv_predict_time  avg_cv_f1  avg_cv_balanced_accuracy pad_rag  \\\n",
       "0              0.260020   0.797017                  0.797280  ragged   \n",
       "1              0.131640   0.380960                  0.513116  padded   \n",
       "2              0.000333   0.310833                  0.500000  ragged   \n",
       "3              0.000000   0.310833                  0.500000  padded   \n",
       "4              3.168205   0.879409                  0.879440  ragged   \n",
       "..                  ...        ...                       ...     ...   \n",
       "95             0.310859   0.692660                  0.500000  padded   \n",
       "96            14.541616   0.477682                  0.422266  ragged   \n",
       "97            12.928171   0.361825                  0.337172  padded   \n",
       "98             0.020088   0.697285                  0.507301  ragged   \n",
       "99             0.016666   0.692660                  0.500000  padded   \n",
       "\n",
       "                   model_name  avg_cv_fit_time         case  \n",
       "0          AdaBoostClassifier              NaN     negative  \n",
       "1          AdaBoostClassifier              NaN     negative  \n",
       "2             DummyClassifier         0.000000     negative  \n",
       "3             DummyClassifier         0.000000     negative  \n",
       "4   GaussianProcessClassifier              NaN     negative  \n",
       "..                        ...              ...          ...  \n",
       "95                        SVC         2.281501  ternary_ovr  \n",
       "96         StackingClassifier       330.815643  ternary_ovr  \n",
       "97         StackingClassifier       116.371348  ternary_ovr  \n",
       "98              XGBClassifier         6.190352  ternary_ovr  \n",
       "99              XGBClassifier         2.037333  ternary_ovr  \n",
       "\n",
       "[100 rows x 7 columns]"
      ]
     },
     "execution_count": 44,
     "metadata": {},
     "output_type": "execute_result"
    },
    {
     "name": "stdout",
     "output_type": "stream",
     "text": [
      "time: 35 ms\n"
     ]
    }
   ],
   "source": [
    "results_df = (\n",
    "    pd.DataFrame(results).sort_values(by=[\"case\", \"model_name\"]).reset_index(drop=True)\n",
    ")\n",
    "results_df"
   ]
  },
  {
   "cell_type": "code",
   "execution_count": 45,
   "metadata": {},
   "outputs": [
    {
     "name": "stdout",
     "output_type": "stream",
     "text": [
      "time: 0 ns\n"
     ]
    }
   ],
   "source": [
    "metric_names = {\n",
    "    \"avg_cv_balanced_accuracy\": \"balanced accuracy\",\n",
    "    \"avg_cv_f1\": \"F1 score\",\n",
    "    \"avg_cv_fit_time\": \"fit time\",\n",
    "    \"avg_cv_predict_time\": \"predict time\",\n",
    "}"
   ]
  },
  {
   "cell_type": "code",
   "execution_count": 46,
   "metadata": {},
   "outputs": [
    {
     "name": "stdout",
     "output_type": "stream",
     "text": [
      "time: 0 ns\n"
     ]
    }
   ],
   "source": [
    "def plot_metric(metric: str, padded: bool) -> None:\n",
    "    \"\"\"Draw a nested barplot by classifier and case.\"\"\"\n",
    "    _df = results_df.loc[\n",
    "        results_df.pad_rag == (\"padded\" if padded else \"ragged\")\n",
    "    ].sort_values(by=metric, ascending=\"time\" in metric)\n",
    "    if \"time\" in metric:\n",
    "        _df = _df.loc[_df.model_name != \"StackingClassifier\"]\n",
    "    _df.model_name = _df.model_name.str.replace(\"Classifier\", \"\")\n",
    "    g = sns.catplot(\n",
    "        data=_df,\n",
    "        kind=\"bar\",\n",
    "        x=\"model_name\",\n",
    "        y=metric,\n",
    "        hue=\"case\",\n",
    "        palette=dict(\n",
    "            zip(\n",
    "                all_cases,\n",
    "                sns.color_palette(palette=\"colorblind\", n_colors=len(all_cases)),\n",
    "            )\n",
    "        ),\n",
    "        alpha=0.8,\n",
    "    )\n",
    "    g.fig.set_figwidth(16)\n",
    "    g.despine(**dict.fromkeys((\"left\", \"top\", \"right\"), True))\n",
    "    g.legend.set_title(\"\")\n",
    "    plt.xlabel(\"\")\n",
    "    plt.xticks(rotation=-30)\n",
    "    plt.ylabel(metric_names[metric].replace(\" \", \"\\n\"), rotation=0, ha=\"right\")\n",
    "    plt.suptitle(\"padded\" if padded else \"ragged\")\n",
    "    plt.show()"
   ]
  },
  {
   "cell_type": "markdown",
   "metadata": {},
   "source": [
    "When plotting fit/predict times, the `StackingClassifier` is omitted since it is always the slowest."
   ]
  },
  {
   "cell_type": "code",
   "execution_count": 47,
   "metadata": {},
   "outputs": [
    {
     "data": {
      "image/png": "[encoded data removed]",
      "text/plain": [
       "<Figure size 1152x360 with 1 Axes>"
      ]
     },
     "metadata": {
      "needs_background": "light"
     },
     "output_type": "display_data"
    },
    {
     "data": {
      "image/png": "[encoded data removed]",
      "text/plain": [
       "<Figure size 1152x360 with 1 Axes>"
      ]
     },
     "metadata": {
      "needs_background": "light"
     },
     "output_type": "display_data"
    },
    {
     "data": {
      "image/png": "[encoded data removed]",
      "text/plain": [
       "<Figure size 1152x360 with 1 Axes>"
      ]
     },
     "metadata": {
      "needs_background": "light"
     },
     "output_type": "display_data"
    },
    {
     "data": {
      "image/png": "[encoded data removed]",
      "text/plain": [
       "<Figure size 1152x360 with 1 Axes>"
      ]
     },
     "metadata": {
      "needs_background": "light"
     },
     "output_type": "display_data"
    },
    {
     "data": {
      "image/png": "[encoded data removed]",
      "text/plain": [
       "<Figure size 1152x360 with 1 Axes>"
      ]
     },
     "metadata": {
      "needs_background": "light"
     },
     "output_type": "display_data"
    },
    {
     "data": {
      "image/png": "[encoded data removed]",
      "text/plain": [
       "<Figure size 1152x360 with 1 Axes>"
      ]
     },
     "metadata": {
      "needs_background": "light"
     },
     "output_type": "display_data"
    },
    {
     "data": {
      "image/png": "[encoded data removed]",
      "text/plain": [
       "<Figure size 1152x360 with 1 Axes>"
      ]
     },
     "metadata": {
      "needs_background": "light"
     },
     "output_type": "display_data"
    },
    {
     "data": {
      "image/png": "[encoded data removed]",
      "text/plain": [
       "<Figure size 1152x360 with 1 Axes>"
      ]
     },
     "metadata": {
      "needs_background": "light"
     },
     "output_type": "display_data"
    },
    {
     "name": "stdout",
     "output_type": "stream",
     "text": [
      "time: 4.89 s\n"
     ]
    }
   ],
   "source": [
    "for metric in metrics:\n",
    "    plot_metric(metric, padded=True)\n",
    "    plot_metric(metric, padded=False)"
   ]
  },
  {
   "cell_type": "code",
   "execution_count": 48,
   "metadata": {},
   "outputs": [
    {
     "name": "stdout",
     "output_type": "stream",
     "text": [
      "time: 8.98 ms\n"
     ]
    }
   ],
   "source": [
    "# save table of results\n",
    "results_df.to_csv(f\"{DATA_OUT_FOLDER}/shortlong_padrag_results.csv\")"
   ]
  },
  {
   "cell_type": "markdown",
   "metadata": {},
   "source": [
    "## Discussion\n",
    "\n",
    "The plots reveal that the ragged FRILL features may perform better than the padded counterpart. This is good news since the final pipeline will be simpler without padding operations.\n",
    "\n",
    "I was likewise pleased to see that a ternary one-vs-rest approach was outperformed by a direct multinomial ternary approach. The one-vs-rest approach requires three models to be trained irrespective of the underlying algorithm.\n",
    "\n",
    "I was surprised to see the stacked ensemble perform so poorly. Further investigation is warranted.\n",
    "\n",
    "Yet, a simple multilayer perceptron, although potentially more costly in training time, is still a contender for the most performant after tuning.\n",
    "\n",
    "In general, classifiers peformed best in binary classification. This lends credence to the idea of a neutral/non-neutral first pass, classifying only those anticipated as non-neutral as either positive or negative, akin to a two-stage OvR-OvO classification with two estimators rather than three."
   ]
  },
  {
   "cell_type": "markdown",
   "metadata": {},
   "source": [
    "[^top](#Contents)"
   ]
  },
  {
   "cell_type": "code",
   "execution_count": null,
   "metadata": {},
   "outputs": [],
   "source": []
  }
 ],
 "metadata": {
  "interpreter": {
   "hash": "e5ec24c6db6b01668153f0d7970357104795ba99b94731b011ffeae27cd547f5"
  },
  "kernelspec": {
   "display_name": "Python 3 (ipykernel)",
   "language": "python",
   "name": "python3"
  },
  "language_info": {
   "codemirror_mode": {
    "name": "ipython",
    "version": 3
   },
   "file_extension": ".py",
   "mimetype": "text/x-python",
   "name": "python",
   "nbconvert_exporter": "python",
   "pygments_lexer": "ipython3",
   "version": "3.8.12"
  }
 },
 "nbformat": 4,
 "nbformat_minor": 4
}
