{
 "cells": [
  {
   "cell_type": "markdown",
   "metadata": {},
   "source": [
    "# Contents\n",
    "* [Introduction](#Introduction)\n",
    "* [Imports and configuration](#Imports-and-configuration)\n",
    "* [Load FRILL module](#Load-FRILL-module)\n",
    "* [Load data](#Load-data)\n",
    "* [Process data](#Process-data)\n",
    "* [Preview](#Preview)\n",
    "\n",
    "## Introduction\n",
    "\n",
    "This notebook extracts and stores FRILL embeddings.\n",
    "\n",
    "## Imports and configuration"
   ]
  },
  {
   "cell_type": "code",
   "execution_count": 1,
   "metadata": {},
   "outputs": [],
   "source": [
    "# set random seeds\n",
    "\n",
    "from os import environ\n",
    "from random import seed as random_seed\n",
    "from numpy.random import seed as np_seed\n",
    "from tensorflow.random import set_seed\n",
    "\n",
    "\n",
    "def reset_seeds(seed: int) -> None:\n",
    "    \"\"\"Utility function for resetting random seeds\"\"\"\n",
    "    environ[\"PYTHONHASHSEED\"] = str(seed)\n",
    "    random_seed(seed)\n",
    "    np_seed(seed)\n",
    "    set_seed(seed)\n",
    "\n",
    "\n",
    "reset_seeds(SEED := 2021)\n",
    "\n",
    "del environ\n",
    "del random_seed\n",
    "del np_seed\n",
    "del set_seed\n",
    "del reset_seeds\n",
    "del SEED\n",
    "\n"
   ]
  },
  {
   "cell_type": "code",
   "execution_count": 2,
   "metadata": {},
   "outputs": [],
   "source": [
    "# Extensions\n",
    "%load_ext lab_black\n",
    "%load_ext nb_black\n",
    "%load_ext autotime"
   ]
  },
  {
   "cell_type": "code",
   "execution_count": 3,
   "metadata": {},
   "outputs": [
    {
     "name": "stdout",
     "output_type": "stream",
     "text": [
      "time: 3.81 s\n"
     ]
    }
   ],
   "source": [
    "# Core\n",
    "import pandas as pd\n",
    "import numpy as np\n",
    "\n",
    "# tensorflow & tensorflow_hub\n",
    "import tensorflow.compat.v2 as tf\n",
    "import tensorflow_hub as hub\n",
    "\n",
    "# Python <3.9 type hints\n",
    "from typing import List\n",
    "\n",
    "# util\n",
    "import swifter\n",
    "from gc import collect as gc_collect\n",
    "\n",
    "# display outputs w/o print calls\n",
    "from IPython.core.interactiveshell import InteractiveShell\n",
    "\n",
    "InteractiveShell.ast_node_interactivity = \"all\"\n",
    "del InteractiveShell\n",
    "\n",
    "# hide warnings\n",
    "import warnings\n",
    "\n",
    "warnings.filterwarnings(\"ignore\")\n",
    "del warnings"
   ]
  },
  {
   "cell_type": "code",
   "execution_count": 4,
   "metadata": {},
   "outputs": [
    {
     "name": "stdout",
     "output_type": "stream",
     "text": [
      "time: 108 ms\n"
     ]
    }
   ],
   "source": [
    "# Location of pickled dataframes\n",
    "PICKLED_DF_FOLDER = \"D:/interim_data\"\n",
    "\n",
    "# Location where this notebook will output\n",
    "DATA_OUT_FOLDER = \"D:/interim_data\"\n",
    "\n",
    "# Location where the FRILL module is stored locally\n",
    "LOCAL_FRILL = \"../../../FRILL/\"\n",
    "\n",
    "_ = gc_collect()"
   ]
  },
  {
   "cell_type": "markdown",
   "metadata": {},
   "source": [
    "## Load FRILL module"
   ]
  },
  {
   "cell_type": "code",
   "execution_count": 5,
   "metadata": {},
   "outputs": [
    {
     "name": "stdout",
     "output_type": "stream",
     "text": [
      "time: 30.8 s\n"
     ]
    }
   ],
   "source": [
    "# Load FRILL\n",
    "tf.enable_v2_behavior()\n",
    "# module = hub.load(\"https://tfhub.dev/google/nonsemantic-speech-benchmark/frill/1\")\n",
    "module = hub.load(LOCAL_FRILL)\n",
    "del LOCAL_FRILL"
   ]
  },
  {
   "cell_type": "code",
   "execution_count": 6,
   "metadata": {},
   "outputs": [
    {
     "name": "stdout",
     "output_type": "stream",
     "text": [
      "time: 719 ms\n"
     ]
    }
   ],
   "source": [
    "_ = gc_collect()"
   ]
  },
  {
   "cell_type": "markdown",
   "metadata": {},
   "source": [
    "## Process data"
   ]
  },
  {
   "cell_type": "code",
   "execution_count": 7,
   "metadata": {},
   "outputs": [
    {
     "name": "stdout",
     "output_type": "stream",
     "text": [
      "time: 32 ms\n"
     ]
    }
   ],
   "source": [
    "def process_dfs(\n",
    "    # last, start_from, and skip parameters are for resuming interrupted notebook sessions\n",
    "    dev: bool,\n",
    "    last: int = None,\n",
    "    start_from: int = 0,\n",
    "    skip: List[int] = [],\n",
    ") -> None:\n",
    "    \"\"\"For each dataframe in a list, extracts FRILL embeddings from a prepared pd.Series, expands them into a dataframe, and saves that dataframe.\"\"\"\n",
    "    i = start_from\n",
    "    while True:\n",
    "        if i in skip:\n",
    "            if last and i >= last:\n",
    "                break\n",
    "            i += 1\n",
    "            continue\n",
    "        _ = gc_collect()\n",
    "        try:\n",
    "            df = pd.read_pickle(\n",
    "                f\"{PICKLED_DF_FOLDER}/{'dev' if dev else 'nondev_prefrill/nondev'}_prefrill_{i}.pkl\"\n",
    "            )\n",
    "        except FileNotFoundError:\n",
    "            break\n",
    "        _ = gc_collect()\n",
    "        df[\"frill\"] = df.ragged.swifter.apply(lambda _: module(_)[\"embedding\"][0])\n",
    "        _ = gc_collect()\n",
    "        frill = pd.DataFrame(df.frill.tolist())\n",
    "        _ = gc_collect()\n",
    "        frill = frill.astype(np.float32)\n",
    "        frill.columns = frill.columns.astype(str)\n",
    "        frill[\"id\"] = df.id\n",
    "        del df\n",
    "        _ = gc_collect()\n",
    "        frill.to_feather(\n",
    "            f\"{DATA_OUT_FOLDER}/{'dev' if dev else 'nondev_feathers/nondev'}_FRILL_{i}.feather\"\n",
    "        )\n",
    "        del frill\n",
    "        i += 1\n",
    "        _ = gc_collect()\n",
    "        del _"
   ]
  },
  {
   "cell_type": "code",
   "execution_count": null,
   "metadata": {},
   "outputs": [],
   "source": [
    "process_dfs(dev=True)"
   ]
  },
  {
   "cell_type": "code",
   "execution_count": 8,
   "metadata": {},
   "outputs": [
    {
     "name": "stdout",
     "output_type": "stream",
     "text": [
      "time: 763 ms\n"
     ]
    }
   ],
   "source": [
    "_ = gc_collect()"
   ]
  },
  {
   "cell_type": "code",
   "execution_count": 9,
   "metadata": {},
   "outputs": [
    {
     "name": "stderr",
     "output_type": "stream",
     "text": [
      "Pandas Apply: 100%|██████████| 500/500 [05:01<00:00,  1.66it/s]\n",
      "Pandas Apply: 100%|██████████| 500/500 [02:44<00:00,  3.03it/s]\n",
      "Pandas Apply: 100%|██████████| 500/500 [06:23<00:00,  1.30it/s]\n",
      "Pandas Apply: 100%|██████████| 500/500 [06:06<00:00,  1.36it/s]\n",
      "Pandas Apply: 100%|██████████| 49/49 [00:41<00:00,  1.17it/s]\n"
     ]
    },
    {
     "name": "stdout",
     "output_type": "stream",
     "text": [
      "time: 31min 51s\n"
     ]
    }
   ],
   "source": [
    "# executed over several notebook sessions\n",
    "process_dfs(dev=False, last=137, start_from=134)"
   ]
  },
  {
   "cell_type": "markdown",
   "metadata": {},
   "source": [
    "## Preview"
   ]
  },
  {
   "cell_type": "code",
   "execution_count": 10,
   "metadata": {},
   "outputs": [
    {
     "name": "stdout",
     "output_type": "stream",
     "text": [
      "time: 1.93 s\n"
     ]
    }
   ],
   "source": [
    "_ = gc_collect()"
   ]
  },
  {
   "cell_type": "code",
   "execution_count": null,
   "metadata": {},
   "outputs": [],
   "source": [
    "pd.read_feather(f\"{DATA_OUT_FOLDER}/dev_FRILL_3.feather\").head(1)"
   ]
  },
  {
   "cell_type": "code",
   "execution_count": 12,
   "metadata": {},
   "outputs": [
    {
     "data": {
      "text/html": [
       "<div>\n",
       "<style scoped>\n",
       "    .dataframe tbody tr th:only-of-type {\n",
       "        vertical-align: middle;\n",
       "    }\n",
       "\n",
       "    .dataframe tbody tr th {\n",
       "        vertical-align: top;\n",
       "    }\n",
       "\n",
       "    .dataframe thead th {\n",
       "        text-align: right;\n",
       "    }\n",
       "</style>\n",
       "<table border=\"1\" class=\"dataframe\">\n",
       "  <thead>\n",
       "    <tr style=\"text-align: right;\">\n",
       "      <th></th>\n",
       "      <th>0</th>\n",
       "      <th>1</th>\n",
       "      <th>2</th>\n",
       "      <th>3</th>\n",
       "      <th>4</th>\n",
       "      <th>5</th>\n",
       "      <th>6</th>\n",
       "      <th>7</th>\n",
       "      <th>8</th>\n",
       "      <th>9</th>\n",
       "      <th>...</th>\n",
       "      <th>2039</th>\n",
       "      <th>2040</th>\n",
       "      <th>2041</th>\n",
       "      <th>2042</th>\n",
       "      <th>2043</th>\n",
       "      <th>2044</th>\n",
       "      <th>2045</th>\n",
       "      <th>2046</th>\n",
       "      <th>2047</th>\n",
       "      <th>id</th>\n",
       "    </tr>\n",
       "  </thead>\n",
       "  <tbody>\n",
       "    <tr>\n",
       "      <th>0</th>\n",
       "      <td>0.113702</td>\n",
       "      <td>0.003415</td>\n",
       "      <td>-0.009764</td>\n",
       "      <td>0.02254</td>\n",
       "      <td>0.099817</td>\n",
       "      <td>0.101802</td>\n",
       "      <td>0.010931</td>\n",
       "      <td>-0.150367</td>\n",
       "      <td>0.028713</td>\n",
       "      <td>-0.014945</td>\n",
       "      <td>...</td>\n",
       "      <td>-0.065913</td>\n",
       "      <td>-0.08238</td>\n",
       "      <td>0.039501</td>\n",
       "      <td>0.009846</td>\n",
       "      <td>0.028661</td>\n",
       "      <td>-0.05709</td>\n",
       "      <td>-0.038373</td>\n",
       "      <td>0.052529</td>\n",
       "      <td>-0.089197</td>\n",
       "      <td>83315</td>\n",
       "    </tr>\n",
       "  </tbody>\n",
       "</table>\n",
       "<p>1 rows × 2049 columns</p>\n",
       "</div>"
      ],
      "text/plain": [
       "          0         1         2        3         4         5         6  \\\n",
       "0  0.113702  0.003415 -0.009764  0.02254  0.099817  0.101802  0.010931   \n",
       "\n",
       "          7         8         9  ...      2039     2040      2041      2042  \\\n",
       "0 -0.150367  0.028713 -0.014945  ... -0.065913 -0.08238  0.039501  0.009846   \n",
       "\n",
       "       2043     2044      2045      2046      2047     id  \n",
       "0  0.028661 -0.05709 -0.038373  0.052529 -0.089197  83315  \n",
       "\n",
       "[1 rows x 2049 columns]"
      ]
     },
     "execution_count": 12,
     "metadata": {},
     "output_type": "execute_result"
    },
    {
     "name": "stdout",
     "output_type": "stream",
     "text": [
      "time: 4.96 s\n"
     ]
    }
   ],
   "source": [
    "pd.read_feather(f\"{DATA_OUT_FOLDER}/nondev_feathers/nondev_FRILL_130.feather\").head(1)"
   ]
  },
  {
   "cell_type": "markdown",
   "metadata": {},
   "source": [
    "[^top](#Contents)"
   ]
  },
  {
   "cell_type": "code",
   "execution_count": null,
   "metadata": {},
   "outputs": [],
   "source": []
  }
 ],
 "metadata": {
  "interpreter": {
   "hash": "e1781be99c106060f3abc0c9b91d3d379f24672894e2158d4b74304109955878"
  },
  "kernelspec": {
   "display_name": "Python 3.8.12 64-bit ('capstone_pyspark_38': conda)",
   "name": "python3"
  },
  "language_info": {
   "codemirror_mode": {
    "name": "ipython",
    "version": 3
   },
   "file_extension": ".py",
   "mimetype": "text/x-python",
   "name": "python",
   "nbconvert_exporter": "python",
   "pygments_lexer": "ipython3",
   "version": "3.8.12"
  }
 },
 "nbformat": 4,
 "nbformat_minor": 4
}
