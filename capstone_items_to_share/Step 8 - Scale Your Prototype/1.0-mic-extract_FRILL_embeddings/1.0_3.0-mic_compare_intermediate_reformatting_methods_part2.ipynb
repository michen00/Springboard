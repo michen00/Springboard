{
 "cells": [
  {
   "cell_type": "markdown",
   "metadata": {},
   "source": [
    "# Contents\n",
    "* [Introduction](#Introduction)\n",
    "* [Imports and configuration](#Imports-and-configuration)\n",
    "* [Data](#Data)\n",
    "* [Methods](#Methods)\n",
    "  * [Method 1](#Method-1)\n",
    "  * [Method 2](#Method-2)\n",
    "  * [Method 3](#Method-3)\n",
    "  * [Method 4](#Method-4)\n",
    "* [Results](#Results)\n",
    "  * [Trial 1](#Trial-1)\n",
    "  * [Trial 2](#Trial-2)\n",
    "  * [Trial 3](#Trial-3)\n",
    "* [Discussion](#Discussion)\n",
    "\n",
    "## Introduction\n",
    "\n",
    "In this notebook, we compare methods for reformatting the extracted FRILL embeddings into a `pandas` DataFrame. Using a slow method is a drag on development that could be avoided.  It appears to be slightly faster to use the `.astype()` method to cast to `np.float32`.\n",
    "\n",
    "## Imports and configuration"
   ]
  },
  {
   "cell_type": "code",
   "execution_count": 1,
   "metadata": {},
   "outputs": [],
   "source": [
    "# set random seeds\n",
    "\n",
    "from os import environ\n",
    "from random import seed as random_seed\n",
    "from numpy.random import seed as np_seed\n",
    "from tensorflow.random import set_seed\n",
    "\n",
    "\n",
    "def reset_seeds(seed: int) -> None:\n",
    "    \"\"\"Utility function for resetting random seeds\"\"\"\n",
    "    environ[\"PYTHONHASHSEED\"] = str(seed)\n",
    "    random_seed(seed)\n",
    "    np_seed(seed)\n",
    "    set_seed(seed)\n",
    "\n",
    "\n",
    "reset_seeds(SEED := 2021)"
   ]
  },
  {
   "cell_type": "code",
   "execution_count": 2,
   "metadata": {},
   "outputs": [],
   "source": [
    "# extensions\n",
    "%load_ext autotime\n",
    "%load_ext lab_black\n",
    "%load_ext nb_black"
   ]
  },
  {
   "cell_type": "code",
   "execution_count": 3,
   "metadata": {},
   "outputs": [
    {
     "name": "stdout",
     "output_type": "stream",
     "text": [
      "time: 2.1 s\n"
     ]
    }
   ],
   "source": [
    "# core\n",
    "import numpy as np\n",
    "import pandas as pd\n",
    "import swifter\n",
    "\n",
    "# tensorflow & tensorflow_hub\n",
    "import tensorflow.compat.v2 as tf\n",
    "import tensorflow_hub as hub\n",
    "\n",
    "# utility\n",
    "from gc import collect as gc_collect\n",
    "\n",
    "# display outputs w/o print calls\n",
    "from IPython.core.interactiveshell import InteractiveShell\n",
    "\n",
    "InteractiveShell.ast_node_interactivity = \"all\""
   ]
  },
  {
   "cell_type": "code",
   "execution_count": 4,
   "metadata": {},
   "outputs": [
    {
     "name": "stdout",
     "output_type": "stream",
     "text": [
      "time: 999 µs\n"
     ]
    }
   ],
   "source": [
    "# Location of trial data\n",
    "TRIAL_DATA_FOLDER = \"D:/interim_data\"\n",
    "\n",
    "# Location where the FRILL module is stored locally\n",
    "LOCAL_FRILL = \"../../../FRILL/\""
   ]
  },
  {
   "cell_type": "code",
   "execution_count": 5,
   "metadata": {},
   "outputs": [
    {
     "name": "stdout",
     "output_type": "stream",
     "text": [
      "time: 33.4 s\n"
     ]
    }
   ],
   "source": [
    "# Load FRILL\n",
    "tf.enable_v2_behavior()\n",
    "# module = hub.load(\"https://tfhub.dev/google/nonsemantic-speech-benchmark/frill/1\")\n",
    "module = hub.load(LOCAL_FRILL)"
   ]
  },
  {
   "cell_type": "markdown",
   "metadata": {},
   "source": [
    "## Data"
   ]
  },
  {
   "cell_type": "code",
   "execution_count": 6,
   "metadata": {},
   "outputs": [
    {
     "name": "stdout",
     "output_type": "stream",
     "text": [
      "<class 'pandas.core.frame.DataFrame'>\n",
      "Int64Index: 2500 entries, 2394 to 1140\n",
      "Data columns (total 2 columns):\n",
      " #   Column  Non-Null Count  Dtype \n",
      "---  ------  --------------  ----- \n",
      " 0   id      2500 non-null   uint32\n",
      " 1   ragged  2500 non-null   object\n",
      "dtypes: object(1), uint32(1)\n",
      "memory usage: 48.8+ KB\n",
      "time: 412 ms\n"
     ]
    }
   ],
   "source": [
    "df = pd.read_pickle(f\"{TRIAL_DATA_FOLDER}/dev_prefrill_0.pkl\").sample(\n",
    "    frac=1, random_state=SEED\n",
    ")\n",
    "df.info()"
   ]
  },
  {
   "cell_type": "markdown",
   "metadata": {},
   "source": [
    "## Methods"
   ]
  },
  {
   "cell_type": "markdown",
   "metadata": {},
   "source": [
    "### Method 1"
   ]
  },
  {
   "cell_type": "code",
   "execution_count": 7,
   "metadata": {},
   "outputs": [
    {
     "name": "stdout",
     "output_type": "stream",
     "text": [
      "time: 1 ms\n"
     ]
    }
   ],
   "source": [
    "def method1(sample: pd.DataFrame) -> pd.DataFrame:\n",
    "    \"\"\"Test cast by type argument\"\"\"\n",
    "    _ = pd.DataFrame(sample.frill.tolist(), dtype=np.float32)\n",
    "    return _"
   ]
  },
  {
   "cell_type": "markdown",
   "metadata": {},
   "source": [
    "### Method 2"
   ]
  },
  {
   "cell_type": "code",
   "execution_count": 8,
   "metadata": {},
   "outputs": [
    {
     "name": "stdout",
     "output_type": "stream",
     "text": [
      "time: 2.01 ms\n"
     ]
    }
   ],
   "source": [
    "def method2(sample: pd.DataFrame) -> pd.DataFrame:\n",
    "    \"\"\"Test cast by function call\"\"\"\n",
    "    _ = pd.DataFrame(sample.frill.tolist())\n",
    "    return np.float32(_)"
   ]
  },
  {
   "cell_type": "markdown",
   "metadata": {},
   "source": [
    "### Method 3"
   ]
  },
  {
   "cell_type": "code",
   "execution_count": 10,
   "metadata": {},
   "outputs": [
    {
     "name": "stdout",
     "output_type": "stream",
     "text": [
      "time: 985 µs\n"
     ]
    }
   ],
   "source": [
    "def method3(sample: pd.DataFrame) -> pd.DataFrame:\n",
    "    \"\"\"Test cast by swifter apply\"\"\"\n",
    "    _ = pd.DataFrame(sample.frill.tolist())\n",
    "    return _.swifter.apply(np.float32)"
   ]
  },
  {
   "cell_type": "markdown",
   "metadata": {},
   "source": [
    "### Method 4"
   ]
  },
  {
   "cell_type": "code",
   "execution_count": 11,
   "metadata": {},
   "outputs": [
    {
     "name": "stdout",
     "output_type": "stream",
     "text": [
      "time: 1.04 ms\n"
     ]
    }
   ],
   "source": [
    "def method4(sample: pd.DataFrame) -> pd.DataFrame:\n",
    "    \"\"\"Test cast by .astype()\"\"\"\n",
    "    _ = pd.DataFrame(sample.frill.tolist())\n",
    "    return _.astype(np.float32)"
   ]
  },
  {
   "cell_type": "markdown",
   "metadata": {},
   "source": [
    "## Results"
   ]
  },
  {
   "cell_type": "code",
   "execution_count": 12,
   "metadata": {},
   "outputs": [
    {
     "name": "stdout",
     "output_type": "stream",
     "text": [
      "time: 979 µs\n"
     ]
    }
   ],
   "source": [
    "make_sample: pd.DataFrame = lambda trial_num: df.sample(\n",
    "    n=100, random_state=SEED + trial_num\n",
    ")"
   ]
  },
  {
   "cell_type": "markdown",
   "metadata": {},
   "source": [
    "### Trial 1"
   ]
  },
  {
   "cell_type": "code",
   "execution_count": 13,
   "metadata": {},
   "outputs": [
    {
     "name": "stdout",
     "output_type": "stream",
     "text": [
      "time: 1.03 ms\n"
     ]
    }
   ],
   "source": [
    "trial_num = 1"
   ]
  },
  {
   "cell_type": "code",
   "execution_count": 14,
   "metadata": {},
   "outputs": [
    {
     "name": "stderr",
     "output_type": "stream",
     "text": [
      "Pandas Apply: 100%|██████████| 100/100 [01:04<00:00,  1.54it/s]"
     ]
    },
    {
     "name": "stdout",
     "output_type": "stream",
     "text": [
      "time: 1min 9s\n"
     ]
    },
    {
     "name": "stderr",
     "output_type": "stream",
     "text": [
      "\n"
     ]
    }
   ],
   "source": [
    "sample = make_sample(trial_num)\n",
    "_ = gc_collect()\n",
    "sample[\"frill\"] = sample.ragged.swifter.apply(lambda _: module(_)[\"embedding\"][0])"
   ]
  },
  {
   "cell_type": "code",
   "execution_count": 15,
   "metadata": {},
   "outputs": [
    {
     "name": "stdout",
     "output_type": "stream",
     "text": [
      "25.7 s ± 1.11 s per loop (mean ± std. dev. of 7 runs, 1 loop each)\n",
      "time: 3min 25s\n"
     ]
    }
   ],
   "source": [
    "_ = gc_collect()\n",
    "%timeit _ = method1(sample)\n",
    "del _"
   ]
  },
  {
   "cell_type": "code",
   "execution_count": 16,
   "metadata": {},
   "outputs": [
    {
     "name": "stdout",
     "output_type": "stream",
     "text": [
      "26.8 s ± 1.42 s per loop (mean ± std. dev. of 7 runs, 1 loop each)\n",
      "time: 3min 35s\n"
     ]
    }
   ],
   "source": [
    "_ = gc_collect()\n",
    "%timeit _ = method2(sample)\n",
    "del _"
   ]
  },
  {
   "cell_type": "code",
   "execution_count": 17,
   "metadata": {},
   "outputs": [
    {
     "name": "stdout",
     "output_type": "stream",
     "text": [
      "25.9 s ± 773 ms per loop (mean ± std. dev. of 7 runs, 1 loop each)\n",
      "time: 3min 29s\n"
     ]
    }
   ],
   "source": [
    "_ = gc_collect()\n",
    "%timeit _ = method3(sample)\n",
    "del _"
   ]
  },
  {
   "cell_type": "code",
   "execution_count": 18,
   "metadata": {},
   "outputs": [
    {
     "name": "stdout",
     "output_type": "stream",
     "text": [
      "24.8 s ± 136 ms per loop (mean ± std. dev. of 7 runs, 1 loop each)\n",
      "time: 3min 20s\n"
     ]
    }
   ],
   "source": [
    "_ = gc_collect()\n",
    "%timeit _ = method4(sample)\n",
    "del _"
   ]
  },
  {
   "cell_type": "markdown",
   "metadata": {},
   "source": [
    "### Trial 2"
   ]
  },
  {
   "cell_type": "code",
   "execution_count": 19,
   "metadata": {},
   "outputs": [
    {
     "name": "stdout",
     "output_type": "stream",
     "text": [
      "time: 3.05 ms\n"
     ]
    }
   ],
   "source": [
    "del sample\n",
    "trial_num = 2"
   ]
  },
  {
   "cell_type": "code",
   "execution_count": 20,
   "metadata": {},
   "outputs": [
    {
     "name": "stderr",
     "output_type": "stream",
     "text": [
      "Pandas Apply: 100%|██████████| 100/100 [00:59<00:00,  1.68it/s]"
     ]
    },
    {
     "name": "stdout",
     "output_type": "stream",
     "text": [
      "time: 1min 3s\n"
     ]
    },
    {
     "name": "stderr",
     "output_type": "stream",
     "text": [
      "\n"
     ]
    }
   ],
   "source": [
    "sample = make_sample(trial_num)\n",
    "_ = gc_collect()\n",
    "sample[\"frill\"] = sample.ragged.swifter.apply(lambda _: module(_)[\"embedding\"][0])"
   ]
  },
  {
   "cell_type": "code",
   "execution_count": 21,
   "metadata": {},
   "outputs": [
    {
     "name": "stdout",
     "output_type": "stream",
     "text": [
      "23.8 s ± 809 ms per loop (mean ± std. dev. of 7 runs, 1 loop each)\n",
      "time: 3min 13s\n"
     ]
    }
   ],
   "source": [
    "_ = gc_collect()\n",
    "%timeit _ = method1(sample)\n",
    "del _"
   ]
  },
  {
   "cell_type": "code",
   "execution_count": 22,
   "metadata": {},
   "outputs": [
    {
     "name": "stdout",
     "output_type": "stream",
     "text": [
      "23.2 s ± 294 ms per loop (mean ± std. dev. of 7 runs, 1 loop each)\n",
      "time: 3min 6s\n"
     ]
    }
   ],
   "source": [
    "_ = gc_collect()\n",
    "%timeit _ = method2(sample)\n",
    "del _"
   ]
  },
  {
   "cell_type": "code",
   "execution_count": 23,
   "metadata": {},
   "outputs": [
    {
     "name": "stdout",
     "output_type": "stream",
     "text": [
      "23.3 s ± 684 ms per loop (mean ± std. dev. of 7 runs, 1 loop each)\n",
      "time: 3min 9s\n"
     ]
    }
   ],
   "source": [
    "_ = gc_collect()\n",
    "%timeit _ = method3(sample)\n",
    "del _"
   ]
  },
  {
   "cell_type": "code",
   "execution_count": 24,
   "metadata": {},
   "outputs": [
    {
     "name": "stdout",
     "output_type": "stream",
     "text": [
      "23.1 s ± 479 ms per loop (mean ± std. dev. of 7 runs, 1 loop each)\n",
      "time: 3min 6s\n"
     ]
    }
   ],
   "source": [
    "_ = gc_collect()\n",
    "%timeit _ = method4(sample)\n",
    "del _"
   ]
  },
  {
   "cell_type": "markdown",
   "metadata": {},
   "source": [
    "### Trial 3"
   ]
  },
  {
   "cell_type": "code",
   "execution_count": 25,
   "metadata": {},
   "outputs": [
    {
     "name": "stdout",
     "output_type": "stream",
     "text": [
      "time: 3 ms\n"
     ]
    }
   ],
   "source": [
    "del sample\n",
    "trial_num = 3"
   ]
  },
  {
   "cell_type": "code",
   "execution_count": 26,
   "metadata": {},
   "outputs": [
    {
     "name": "stderr",
     "output_type": "stream",
     "text": [
      "Pandas Apply: 100%|██████████| 100/100 [00:53<00:00,  1.87it/s]"
     ]
    },
    {
     "name": "stdout",
     "output_type": "stream",
     "text": [
      "time: 56.8 s\n"
     ]
    },
    {
     "name": "stderr",
     "output_type": "stream",
     "text": [
      "\n"
     ]
    }
   ],
   "source": [
    "sample = make_sample(trial_num)\n",
    "_ = gc_collect()\n",
    "sample[\"frill\"] = sample.ragged.swifter.apply(lambda _: module(_)[\"embedding\"][0])"
   ]
  },
  {
   "cell_type": "code",
   "execution_count": 27,
   "metadata": {},
   "outputs": [
    {
     "name": "stdout",
     "output_type": "stream",
     "text": [
      "22.7 s ± 100 ms per loop (mean ± std. dev. of 7 runs, 1 loop each)\n",
      "time: 3min 3s\n"
     ]
    }
   ],
   "source": [
    "_ = gc_collect()\n",
    "%timeit _ = method1(sample)\n",
    "del _"
   ]
  },
  {
   "cell_type": "code",
   "execution_count": 28,
   "metadata": {},
   "outputs": [
    {
     "name": "stdout",
     "output_type": "stream",
     "text": [
      "23.4 s ± 618 ms per loop (mean ± std. dev. of 7 runs, 1 loop each)\n",
      "time: 3min 7s\n"
     ]
    }
   ],
   "source": [
    "_ = gc_collect()\n",
    "%timeit _ = method2(sample)\n",
    "del _"
   ]
  },
  {
   "cell_type": "code",
   "execution_count": 29,
   "metadata": {},
   "outputs": [
    {
     "name": "stdout",
     "output_type": "stream",
     "text": [
      "24.8 s ± 114 ms per loop (mean ± std. dev. of 7 runs, 1 loop each)\n",
      "time: 3min 22s\n"
     ]
    }
   ],
   "source": [
    "_ = gc_collect()\n",
    "%timeit _ = method3(sample)\n",
    "del _"
   ]
  },
  {
   "cell_type": "code",
   "execution_count": 30,
   "metadata": {},
   "outputs": [
    {
     "name": "stdout",
     "output_type": "stream",
     "text": [
      "24.8 s ± 109 ms per loop (mean ± std. dev. of 7 runs, 1 loop each)\n",
      "time: 3min 19s\n"
     ]
    }
   ],
   "source": [
    "_ = gc_collect()\n",
    "%timeit _ = method4(sample)\n",
    "del _"
   ]
  },
  {
   "cell_type": "markdown",
   "metadata": {},
   "source": [
    "## Discussion"
   ]
  },
  {
   "cell_type": "markdown",
   "metadata": {},
   "source": [
    "Method #4 won 2 of 3 trials."
   ]
  },
  {
   "cell_type": "markdown",
   "metadata": {},
   "source": [
    "[^top](#Contents)"
   ]
  },
  {
   "cell_type": "code",
   "execution_count": null,
   "metadata": {},
   "outputs": [],
   "source": []
  }
 ],
 "metadata": {
  "interpreter": {
   "hash": "e1781be99c106060f3abc0c9b91d3d379f24672894e2158d4b74304109955878"
  },
  "kernelspec": {
   "display_name": "Python 3.8.12 64-bit ('capstone_pyspark_38': conda)",
   "name": "python3"
  },
  "language_info": {
   "codemirror_mode": {
    "name": "ipython",
    "version": 3
   },
   "file_extension": ".py",
   "mimetype": "text/x-python",
   "name": "python",
   "nbconvert_exporter": "python",
   "pygments_lexer": "ipython3",
   "version": "3.8.12"
  }
 },
 "nbformat": 4,
 "nbformat_minor": 4
}
