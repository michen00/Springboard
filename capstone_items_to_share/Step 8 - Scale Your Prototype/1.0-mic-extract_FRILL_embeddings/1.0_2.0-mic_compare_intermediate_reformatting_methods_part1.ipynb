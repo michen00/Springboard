{
 "cells": [
  {
   "cell_type": "markdown",
   "metadata": {},
   "source": [
    "# Contents\n",
    "* [Introduction](#Introduction)\n",
    "* [Imports and configuration](#Imports-and-configuration)\n",
    "* [Data](#Data)\n",
    "* [Methods](#Methods)\n",
    "  * [Method 1](#Method-1)\n",
    "  * [Method 2](#Method-2)\n",
    "  * [Method 3](#Method-3)\n",
    "* [Results](#Results)\n",
    "  * [Trial 1](#Trial-1)\n",
    "  * [Trial 2](#Trial-2)\n",
    "  * [Trial 3](#Trial-3)\n",
    "* [Discussion](#Discussion)\n",
    "\n",
    "## Introduction\n",
    "\n",
    "In this notebook, we compare methods for reformatting the extracted FRILL embeddings into a `pandas` DataFrame. Using a slow method is a drag on development that could be avoided. It appears to be slightly faster to use the `.tolist()` method than to use a list comprehension.\n",
    "\n",
    "## Imports and configuration"
   ]
  },
  {
   "cell_type": "code",
   "execution_count": 1,
   "metadata": {},
   "outputs": [],
   "source": [
    "# set random seeds\n",
    "\n",
    "from os import environ\n",
    "from random import seed as random_seed\n",
    "from numpy.random import seed as np_seed\n",
    "from tensorflow.random import set_seed\n",
    "\n",
    "\n",
    "def reset_seeds(seed: int) -> None:\n",
    "    \"\"\"Utility function for resetting random seeds\"\"\"\n",
    "    environ[\"PYTHONHASHSEED\"] = str(seed)\n",
    "    random_seed(seed)\n",
    "    np_seed(seed)\n",
    "    set_seed(seed)\n",
    "\n",
    "\n",
    "reset_seeds(SEED := 2021)"
   ]
  },
  {
   "cell_type": "code",
   "execution_count": 2,
   "metadata": {},
   "outputs": [],
   "source": [
    "# extensions\n",
    "%load_ext autotime\n",
    "%load_ext lab_black\n",
    "%load_ext nb_black"
   ]
  },
  {
   "cell_type": "code",
   "execution_count": 3,
   "metadata": {},
   "outputs": [
    {
     "name": "stdout",
     "output_type": "stream",
     "text": [
      "time: 1.93 s\n"
     ]
    }
   ],
   "source": [
    "# core\n",
    "import numpy as np\n",
    "import pandas as pd\n",
    "import swifter\n",
    "\n",
    "# tensorflow & tensorflow_hub\n",
    "import tensorflow.compat.v2 as tf\n",
    "import tensorflow_hub as hub\n",
    "\n",
    "# utility\n",
    "from gc import collect as gc_collect\n",
    "\n",
    "# display outputs w/o print calls\n",
    "from IPython.core.interactiveshell import InteractiveShell\n",
    "\n",
    "InteractiveShell.ast_node_interactivity = \"all\""
   ]
  },
  {
   "cell_type": "code",
   "execution_count": 4,
   "metadata": {},
   "outputs": [
    {
     "name": "stdout",
     "output_type": "stream",
     "text": [
      "time: 1e+03 µs\n"
     ]
    }
   ],
   "source": [
    "# Location of trial data\n",
    "TRIAL_DATA_FOLDER = \"D:/interim_data\"\n",
    "\n",
    "# Location where the FRILL module is stored locally\n",
    "LOCAL_FRILL = \"../../../FRILL/\""
   ]
  },
  {
   "cell_type": "code",
   "execution_count": 5,
   "metadata": {},
   "outputs": [
    {
     "name": "stdout",
     "output_type": "stream",
     "text": [
      "time: 31 s\n"
     ]
    }
   ],
   "source": [
    "# Load FRILL\n",
    "tf.enable_v2_behavior()\n",
    "# module = hub.load(\"https://tfhub.dev/google/nonsemantic-speech-benchmark/frill/1\")\n",
    "module = hub.load(LOCAL_FRILL)"
   ]
  },
  {
   "cell_type": "markdown",
   "metadata": {},
   "source": [
    "## Data"
   ]
  },
  {
   "cell_type": "code",
   "execution_count": 6,
   "metadata": {},
   "outputs": [
    {
     "name": "stdout",
     "output_type": "stream",
     "text": [
      "<class 'pandas.core.frame.DataFrame'>\n",
      "Int64Index: 2500 entries, 2394 to 1140\n",
      "Data columns (total 2 columns):\n",
      " #   Column  Non-Null Count  Dtype \n",
      "---  ------  --------------  ----- \n",
      " 0   id      2500 non-null   uint32\n",
      " 1   ragged  2500 non-null   object\n",
      "dtypes: object(1), uint32(1)\n",
      "memory usage: 48.8+ KB\n",
      "time: 421 ms\n"
     ]
    }
   ],
   "source": [
    "df = pd.read_pickle(f\"{TRIAL_DATA_FOLDER}/dev_prefrill_0.pkl\").sample(\n",
    "    frac=1, random_state=SEED\n",
    ")\n",
    "df.info()"
   ]
  },
  {
   "cell_type": "markdown",
   "metadata": {},
   "source": [
    "## Methods"
   ]
  },
  {
   "cell_type": "markdown",
   "metadata": {},
   "source": [
    "### Method 1"
   ]
  },
  {
   "cell_type": "code",
   "execution_count": 7,
   "metadata": {},
   "outputs": [
    {
     "name": "stdout",
     "output_type": "stream",
     "text": [
      "time: 982 µs\n"
     ]
    }
   ],
   "source": [
    "def method1(sample: pd.DataFrame) -> pd.DataFrame:\n",
    "    \"\"\"Test list comprehension\"\"\"\n",
    "    return pd.DataFrame([_ for _ in sample.frill])"
   ]
  },
  {
   "cell_type": "markdown",
   "metadata": {},
   "source": [
    "### Method 2"
   ]
  },
  {
   "cell_type": "code",
   "execution_count": 8,
   "metadata": {},
   "outputs": [
    {
     "name": "stdout",
     "output_type": "stream",
     "text": [
      "time: 1 ms\n"
     ]
    }
   ],
   "source": [
    "def method2(sample: pd.DataFrame) -> pd.DataFrame:\n",
    "    \"\"\"Test .tolist()\"\"\"\n",
    "    return pd.DataFrame(sample.frill.tolist())"
   ]
  },
  {
   "cell_type": "markdown",
   "metadata": {},
   "source": [
    "## Results"
   ]
  },
  {
   "cell_type": "markdown",
   "metadata": {},
   "source": [
    "### Trial 1"
   ]
  },
  {
   "cell_type": "code",
   "execution_count": 10,
   "metadata": {},
   "outputs": [
    {
     "name": "stdout",
     "output_type": "stream",
     "text": [
      "time: 1 ms\n"
     ]
    }
   ],
   "source": [
    "trial_num = 1"
   ]
  },
  {
   "cell_type": "code",
   "execution_count": 11,
   "metadata": {},
   "outputs": [
    {
     "name": "stderr",
     "output_type": "stream",
     "text": [
      "Pandas Apply: 100%|██████████| 125/125 [01:21<00:00,  1.54it/s]"
     ]
    },
    {
     "name": "stdout",
     "output_type": "stream",
     "text": [
      "time: 1min 27s\n"
     ]
    },
    {
     "name": "stderr",
     "output_type": "stream",
     "text": [
      "\n"
     ]
    }
   ],
   "source": [
    "sample = df.sample(frac=0.05, random_state=SEED + trial_num)\n",
    "_ = gc_collect()\n",
    "sample[\"frill\"] = sample.ragged.swifter.apply(lambda _: module(_)[\"embedding\"][0])"
   ]
  },
  {
   "cell_type": "code",
   "execution_count": 12,
   "metadata": {},
   "outputs": [
    {
     "name": "stdout",
     "output_type": "stream",
     "text": [
      "30.9 s ± 1.37 s per loop (mean ± std. dev. of 7 runs, 1 loop each)\n",
      "time: 4min 11s\n"
     ]
    }
   ],
   "source": [
    "_ = gc_collect()\n",
    "%timeit _ = method1(sample)\n",
    "del _"
   ]
  },
  {
   "cell_type": "code",
   "execution_count": 13,
   "metadata": {},
   "outputs": [
    {
     "name": "stdout",
     "output_type": "stream",
     "text": [
      "29.9 s ± 1.01 s per loop (mean ± std. dev. of 7 runs, 1 loop each)\n",
      "time: 4min 2s\n"
     ]
    }
   ],
   "source": [
    "_ = gc_collect()\n",
    "%timeit _ = method2(sample)\n",
    "del _"
   ]
  },
  {
   "cell_type": "markdown",
   "metadata": {},
   "source": [
    "### Trial 2"
   ]
  },
  {
   "cell_type": "code",
   "execution_count": 14,
   "metadata": {},
   "outputs": [
    {
     "name": "stdout",
     "output_type": "stream",
     "text": [
      "time: 2.99 ms\n"
     ]
    }
   ],
   "source": [
    "del sample\n",
    "trial_num = 2"
   ]
  },
  {
   "cell_type": "code",
   "execution_count": 15,
   "metadata": {},
   "outputs": [
    {
     "name": "stderr",
     "output_type": "stream",
     "text": [
      "Pandas Apply: 100%|██████████| 125/125 [01:21<00:00,  1.54it/s]"
     ]
    },
    {
     "name": "stdout",
     "output_type": "stream",
     "text": [
      "time: 1min 26s\n"
     ]
    },
    {
     "name": "stderr",
     "output_type": "stream",
     "text": [
      "\n"
     ]
    }
   ],
   "source": [
    "sample = df.sample(frac=0.05, random_state=SEED + trial_num)\n",
    "_ = gc_collect()\n",
    "sample[\"frill\"] = sample.ragged.swifter.apply(lambda _: module(_)[\"embedding\"][0])"
   ]
  },
  {
   "cell_type": "code",
   "execution_count": 16,
   "metadata": {},
   "outputs": [
    {
     "name": "stdout",
     "output_type": "stream",
     "text": [
      "31.3 s ± 822 ms per loop (mean ± std. dev. of 7 runs, 1 loop each)\n",
      "time: 4min 12s\n"
     ]
    }
   ],
   "source": [
    "_ = gc_collect()\n",
    "%timeit _ = method1(sample)\n",
    "del _"
   ]
  },
  {
   "cell_type": "code",
   "execution_count": 17,
   "metadata": {},
   "outputs": [
    {
     "name": "stdout",
     "output_type": "stream",
     "text": [
      "30.9 s ± 975 ms per loop (mean ± std. dev. of 7 runs, 1 loop each)\n",
      "time: 4min 10s\n"
     ]
    }
   ],
   "source": [
    "_ = gc_collect()\n",
    "%timeit _ = method2(sample)\n",
    "del _"
   ]
  },
  {
   "cell_type": "markdown",
   "metadata": {},
   "source": [
    "### Trial 3"
   ]
  },
  {
   "cell_type": "code",
   "execution_count": 18,
   "metadata": {},
   "outputs": [
    {
     "name": "stdout",
     "output_type": "stream",
     "text": [
      "time: 6 ms\n"
     ]
    }
   ],
   "source": [
    "del sample\n",
    "trial_num = 3"
   ]
  },
  {
   "cell_type": "code",
   "execution_count": 19,
   "metadata": {},
   "outputs": [
    {
     "name": "stderr",
     "output_type": "stream",
     "text": [
      "Pandas Apply: 100%|██████████| 125/125 [01:27<00:00,  1.44it/s]"
     ]
    },
    {
     "name": "stdout",
     "output_type": "stream",
     "text": [
      "time: 1min 31s\n"
     ]
    },
    {
     "name": "stderr",
     "output_type": "stream",
     "text": [
      "\n"
     ]
    }
   ],
   "source": [
    "sample = df.sample(frac=0.05, random_state=SEED + trial_num)\n",
    "_ = gc_collect()\n",
    "sample[\"frill\"] = sample.ragged.swifter.apply(lambda _: module(_)[\"embedding\"][0])"
   ]
  },
  {
   "cell_type": "code",
   "execution_count": 20,
   "metadata": {},
   "outputs": [
    {
     "name": "stdout",
     "output_type": "stream",
     "text": [
      "32.2 s ± 1.91 s per loop (mean ± std. dev. of 7 runs, 1 loop each)\n",
      "time: 4min 23s\n"
     ]
    }
   ],
   "source": [
    "_ = gc_collect()\n",
    "%timeit _ = method1(sample)\n",
    "del _"
   ]
  },
  {
   "cell_type": "code",
   "execution_count": 21,
   "metadata": {},
   "outputs": [
    {
     "name": "stdout",
     "output_type": "stream",
     "text": [
      "31 s ± 1.55 s per loop (mean ± std. dev. of 7 runs, 1 loop each)\n",
      "time: 4min 12s\n"
     ]
    }
   ],
   "source": [
    "_ = gc_collect()\n",
    "%timeit _ = method2(sample)\n",
    "del _"
   ]
  },
  {
   "cell_type": "markdown",
   "metadata": {},
   "source": [
    "## Discussion"
   ]
  },
  {
   "cell_type": "markdown",
   "metadata": {},
   "source": [
    "The second method wins by a small margin in all three trials."
   ]
  },
  {
   "cell_type": "markdown",
   "metadata": {},
   "source": [
    "[^top](#Contents)"
   ]
  },
  {
   "cell_type": "code",
   "execution_count": null,
   "metadata": {},
   "outputs": [],
   "source": []
  }
 ],
 "metadata": {
  "interpreter": {
   "hash": "e1781be99c106060f3abc0c9b91d3d379f24672894e2158d4b74304109955878"
  },
  "kernelspec": {
   "display_name": "Python 3.8.12 64-bit ('capstone_pyspark_38': conda)",
   "name": "python3"
  },
  "language_info": {
   "codemirror_mode": {
    "name": "ipython",
    "version": 3
   },
   "file_extension": ".py",
   "mimetype": "text/x-python",
   "name": "python",
   "nbconvert_exporter": "python",
   "pygments_lexer": "ipython3",
   "version": "3.8.12"
  }
 },
 "nbformat": 4,
 "nbformat_minor": 4
}
