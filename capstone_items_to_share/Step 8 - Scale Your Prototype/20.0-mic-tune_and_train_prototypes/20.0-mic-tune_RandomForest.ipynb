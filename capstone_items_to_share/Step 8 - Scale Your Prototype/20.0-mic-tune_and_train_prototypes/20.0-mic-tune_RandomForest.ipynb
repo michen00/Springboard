{
 "cells": [
  {
   "cell_type": "markdown",
   "metadata": {},
   "source": [
    "# Contents\n",
    "* [Introduction](#Introduction)\n",
    "* [Imports and configuration](#Imports-and-configuration)\n",
    "* [Setup](#Setup)\n",
    "* [n_estimators](#n_estimators)\n",
    "* [max_depth](#max_depth)\n",
    "* [min_samples_split](#min_samples_split)\n",
    "* [min_samples_leaf](#min_samples_leaf)\n",
    "* [max_leaf_nodes](#max_leaf_nodes)\n",
    "* [Prototype](#Prototype)\n",
    "* [Discussion](#Discussion)"
   ]
  },
  {
   "cell_type": "markdown",
   "metadata": {},
   "source": [
    "# Introduction\n",
    "\n",
    "After rounds of feature engineering, visualization & exploration, and tuning various aspects of the classification pipeline, we are about to create a benchmark prototype classifier using RandomForestClassifier. In this notebook, we perform a grid search over n_estimators using out-of-bag accuracy instead of cross validation. Other hyperparameters are based on previous 5-fold cross-validation using a related set of features."
   ]
  },
  {
   "cell_type": "code",
   "execution_count": 1,
   "metadata": {},
   "outputs": [],
   "source": [
    "from time import time\n",
    "\n",
    "notebook_begin_time = time()\n",
    "\n",
    "# set random seeds\n",
    "\n",
    "from os import environ\n",
    "from random import seed as random_seed\n",
    "from numpy.random import seed as np_seed\n",
    "from tensorflow.random import set_seed\n",
    "\n",
    "\n",
    "def reset_seeds(seed: int) -> None:\n",
    "    \"\"\"Utility function for resetting random seeds\"\"\"\n",
    "    environ[\"PYTHONHASHSEED\"] = str(seed)\n",
    "    random_seed(seed)\n",
    "    np_seed(seed)\n",
    "    set_seed(seed)\n",
    "\n",
    "\n",
    "reset_seeds(SEED := 2021)\n",
    "del environ\n",
    "del random_seed\n",
    "del np_seed\n",
    "del set_seed\n",
    "del reset_seeds"
   ]
  },
  {
   "cell_type": "code",
   "execution_count": 2,
   "metadata": {},
   "outputs": [],
   "source": [
    "# extensions\n",
    "%load_ext autotime\n",
    "%load_ext lab_black\n",
    "%load_ext nb_black"
   ]
  },
  {
   "cell_type": "code",
   "execution_count": 3,
   "metadata": {},
   "outputs": [
    {
     "name": "stderr",
     "output_type": "stream",
     "text": [
      "Intel(R) Extension for Scikit-learn* enabled (https://github.com/intel/scikit-learn-intelex)\n"
     ]
    },
    {
     "name": "stdout",
     "output_type": "stream",
     "text": [
      "time: 3.59 s\n"
     ]
    }
   ],
   "source": [
    "# core\n",
    "import pandas as pd\n",
    "\n",
    "# utility\n",
    "from gc import collect as gc_collect\n",
    "from tqdm.notebook import tqdm\n",
    "\n",
    "# faster sklearn\n",
    "from sklearnex import patch_sklearn\n",
    "\n",
    "patch_sklearn()\n",
    "del patch_sklearn\n",
    "\n",
    "# classifier\n",
    "from sklearn.ensemble import RandomForestClassifier\n",
    "\n",
    "# metrics\n",
    "from sklearn.metrics import log_loss, roc_auc_score\n",
    "\n",
    "# visualization\n",
    "import matplotlib.pyplot as plt\n",
    "import seaborn as sns\n",
    "\n",
    "%matplotlib inline\n",
    "\n",
    "sns.set_context(\"notebook\")\n",
    "\n",
    "# full display of rows and columns\n",
    "pd.set_option(\"display.max_columns\", None)\n",
    "pd.set_option(\"display.max_colwidth\", None)\n",
    "pd.set_option(\"display.max_rows\", None)\n",
    "\n",
    "# display outputs w/o print calls\n",
    "from IPython.core.interactiveshell import InteractiveShell\n",
    "\n",
    "InteractiveShell.ast_node_interactivity = \"all\"\n",
    "del InteractiveShell"
   ]
  },
  {
   "cell_type": "code",
   "execution_count": 4,
   "metadata": {},
   "outputs": [
    {
     "name": "stdout",
     "output_type": "stream",
     "text": [
      "time: 156 ms\n"
     ]
    }
   ],
   "source": [
    "# Location of FRILL .feather files\n",
    "FRILL_FEATHERS_FOLDER = \"../1.0-mic-extract_FRILL_embeddings\"\n",
    "\n",
    "# Location of pre-final features\n",
    "FEATURES_FOLDER = \"../19.0-mic-extract_FRILL-based_features_from_full_data\"\n",
    "\n",
    "# Location where this notebook will output\n",
    "DATA_OUT_FOLDER = \".\"\n",
    "\n",
    "_ = gc_collect()"
   ]
  },
  {
   "cell_type": "markdown",
   "metadata": {},
   "source": [
    "# Setup"
   ]
  },
  {
   "cell_type": "code",
   "execution_count": 5,
   "metadata": {},
   "outputs": [
    {
     "name": "stdout",
     "output_type": "stream",
     "text": [
      "time: 381 ms\n"
     ]
    }
   ],
   "source": [
    "def load_labels() -> pd.DataFrame:\n",
    "    \"\"\"Load just the labels\"\"\"\n",
    "    keep_columns = [\n",
    "        \"id\",\n",
    "        \"source\",\n",
    "        \"speaker_id\",\n",
    "        \"speaker_gender\",\n",
    "        \"emo\",\n",
    "        \"valence\",\n",
    "        \"lang1\",\n",
    "    ]\n",
    "    labels = pd.concat(\n",
    "        (\n",
    "            pd.read_feather(\n",
    "                f\"{FRILL_FEATHERS_FOLDER}/dev_labels.feather\", columns=keep_columns\n",
    "            ),\n",
    "            pd.read_feather(\n",
    "                f\"{FRILL_FEATHERS_FOLDER}/nondev_labels.feather\", columns=keep_columns\n",
    "            ),\n",
    "        )\n",
    "    ).set_index(\"id\")\n",
    "    return labels\n",
    "\n",
    "\n",
    "def load_data(unscaled=False) -> pd.DataFrame:\n",
    "    \"\"\"Loads the FRILL-based features\"\"\"\n",
    "    if unscaled:\n",
    "        df = pd.read_feather(\n",
    "            f\"{FEATURES_FOLDER}/unscaled_features_ready_for_selection.feather\"\n",
    "        ).set_index(\"id\")\n",
    "    else:\n",
    "        df = pd.read_feather(\n",
    "            f\"{FEATURES_FOLDER}/features_ready_for_selection.feather\"\n",
    "        ).set_index(\"id\")\n",
    "    df.columns = df.columns.astype(str)\n",
    "    return df\n",
    "\n",
    "\n",
    "data = load_data(unscaled=True)\n",
    "labels = load_labels()\n",
    "y_true = labels.valence\n",
    "assert all(data.index == labels.index)\n",
    "_ = gc_collect()"
   ]
  },
  {
   "cell_type": "code",
   "execution_count": 6,
   "metadata": {},
   "outputs": [
    {
     "name": "stdout",
     "output_type": "stream",
     "text": [
      "<class 'pandas.core.frame.DataFrame'>\n",
      "UInt64Index: 86752 entries, 0 to 87363\n",
      "Columns: 118 entries, theta_LDA1+LDA2 to LDA-ocSVM_poly6_pos\n",
      "dtypes: float64(118)\n",
      "memory usage: 78.8 MB\n",
      "<class 'pandas.core.frame.DataFrame'>\n",
      "UInt64Index: 86752 entries, 0 to 87363\n",
      "Data columns (total 6 columns):\n",
      " #   Column          Non-Null Count  Dtype   \n",
      "---  ------          --------------  -----   \n",
      " 0   source          86752 non-null  category\n",
      " 1   speaker_id      86752 non-null  category\n",
      " 2   speaker_gender  86752 non-null  category\n",
      " 3   emo             86752 non-null  category\n",
      " 4   valence         86752 non-null  int8    \n",
      " 5   lang1           86752 non-null  category\n",
      "dtypes: category(5), int8(1)\n",
      "memory usage: 1.3 MB\n",
      "time: 29 ms\n"
     ]
    }
   ],
   "source": [
    "data.info()\n",
    "labels.info()"
   ]
  },
  {
   "cell_type": "markdown",
   "metadata": {},
   "source": [
    "# n_estimators"
   ]
  },
  {
   "cell_type": "code",
   "execution_count": 7,
   "metadata": {},
   "outputs": [
    {
     "data": {
      "application/vnd.jupyter.widget-view+json": {
       "model_id": "67b3266d6d134cb888405af81c563724",
       "version_major": 2,
       "version_minor": 0
      },
      "text/plain": [
       "  0%|          | 0/499 [00:00<?, ?it/s]"
      ]
     },
     "metadata": {},
     "output_type": "display_data"
    },
    {
     "name": "stdout",
     "output_type": "stream",
     "text": [
      "     n_estimators  oob_score  log_loss     auroc\n",
      "340           342   0.929085  0.085561  0.999723\n",
      "339           341   0.929062  0.085574  0.999723\n",
      "341           343   0.929062  0.085579  0.999723\n",
      "338           340   0.929062  0.085580  0.999723\n",
      "348           350   0.929051  0.085542  0.999723\n",
      "361           363   0.929051  0.085564  0.999723\n",
      "331           333   0.929051  0.085574  0.999723\n",
      "332           334   0.929051  0.085564  0.999723\n",
      "337           339   0.929051  0.085592  0.999723\n",
      "384           386   0.929051  0.085649  0.999724\n",
      "     n_estimators  oob_score  log_loss     auroc\n",
      "32             34   0.923910  0.085149  0.999629\n",
      "63             65   0.926123  0.085176  0.999687\n",
      "114           116   0.927713  0.085212  0.999712\n",
      "254           256   0.928417  0.085222  0.999723\n",
      "255           257   0.928394  0.085225  0.999723\n",
      "30             32   0.923575  0.085226  0.999625\n",
      "256           258   0.928359  0.085228  0.999723\n",
      "252           254   0.928278  0.085233  0.999723\n",
      "253           255   0.928290  0.085234  0.999723\n",
      "116           118   0.927737  0.085237  0.999713\n"
     ]
    },
    {
     "data": {
      "text/plain": [
       "<AxesSubplot:xlabel='n_estimators'>"
      ]
     },
     "execution_count": 7,
     "metadata": {},
     "output_type": "execute_result"
    },
    {
     "data": {
      "text/plain": [
       "<matplotlib.legend.Legend at 0x27d1e60dca0>"
      ]
     },
     "execution_count": 7,
     "metadata": {},
     "output_type": "execute_result"
    },
    {
     "data": {
      "image/png": "[encoded data removed]",
      "text/plain": [
       "<Figure size 432x288 with 1 Axes>"
      ]
     },
     "metadata": {
      "needs_background": "light"
     },
     "output_type": "display_data"
    },
    {
     "name": "stdout",
     "output_type": "stream",
     "text": [
      "time: 10h 30min 45s\n"
     ]
    }
   ],
   "source": [
    "results = {\"n_estimators\": [], \"oob_score\": [], \"log_loss\": [], \"auroc\": []}\n",
    "make_rf = lambda n_estimators: RandomForestClassifier(\n",
    "    n_estimators=n_estimators,\n",
    "    criterion=\"entropy\",\n",
    "    max_features=\"sqrt\",\n",
    "    random_state=SEED,\n",
    "    # verbose=1,\n",
    "    max_depth=15,\n",
    "    bootstrap=True,\n",
    "    oob_score=True,\n",
    "    n_jobs=-1,\n",
    "    class_weight=\"balanced_subsample\",\n",
    ")\n",
    "\n",
    "for n in tqdm(range(2, 501)):\n",
    "    model = make_rf(n).fit(data, y_true)\n",
    "    results[\"n_estimators\"].append(n)\n",
    "    results[\"oob_score\"].append(model.oob_score_)\n",
    "    results[\"auroc\"].append(\n",
    "        roc_auc_score(y_true, y_pred := model.predict_proba(data), multi_class=\"ovo\")\n",
    "    )\n",
    "    results[\"log_loss\"].append(log_loss(y_true, y_pred))\n",
    "\n",
    "# save results\n",
    "df = pd.DataFrame(results).sort_values(by=\"n_estimators\", ascending=True)\n",
    "print(df.sort_values(by=\"oob_score\", ascending=False).head(10))\n",
    "print(df.sort_values(by=\"log_loss\", ascending=True).head(10))\n",
    "df.columns = df.columns.astype(str)\n",
    "df.reset_index().to_feather(f\"{DATA_OUT_FOLDER}/RF_n_estimators_results.feather\")\n",
    "\n",
    "# plot\n",
    "df.plot(x=\"n_estimators\")\n",
    "plt.legend(frameon=False)\n",
    "sns.despine(top=True, right=True)\n",
    "plt.tight_layout()\n",
    "plt.show()"
   ]
  },
  {
   "cell_type": "code",
   "execution_count": 9,
   "metadata": {},
   "outputs": [
    {
     "name": "stdout",
     "output_type": "stream",
     "text": [
      "     n_estimators  oob_score  log_loss     auroc\n",
      "486           488   0.928912  0.085608  0.999732\n",
      "487           489   0.928947  0.085604  0.999732\n",
      "497           499   0.928947  0.085596  0.999732\n",
      "488           490   0.928843  0.085598  0.999732\n",
      "489           491   0.928855  0.085600  0.999732\n",
      "498           500   0.928901  0.085607  0.999732\n",
      "485           487   0.928924  0.085625  0.999732\n",
      "496           498   0.929005  0.085598  0.999731\n",
      "495           497   0.929005  0.085598  0.999731\n",
      "484           486   0.928889  0.085618  0.999731\n",
      "time: 178 ms\n"
     ]
    }
   ],
   "source": [
    "print(df.sort_values(by=\"auroc\", ascending=False).head(10))\n",
    "_ = gc_collect()"
   ]
  },
  {
   "cell_type": "markdown",
   "metadata": {},
   "source": [
    "# max_depth"
   ]
  },
  {
   "cell_type": "code",
   "execution_count": 10,
   "metadata": {},
   "outputs": [
    {
     "data": {
      "application/vnd.jupyter.widget-view+json": {
       "model_id": "6fcde80bdeec49e7b30c66976053256a",
       "version_major": 2,
       "version_minor": 0
      },
      "text/plain": [
       "  0%|          | 0/100 [00:00<?, ?it/s]"
      ]
     },
     "metadata": {},
     "output_type": "display_data"
    },
    {
     "name": "stdout",
     "output_type": "stream",
     "text": [
      "    max_depth  oob_score  log_loss     auroc\n",
      "18         19   0.925996  0.056618  0.999997\n",
      "22         23   0.925938  0.051203  1.000000\n",
      "16         17   0.925835  0.066665  0.999950\n",
      "15         16   0.925673  0.074872  0.999865\n",
      "17         18   0.925604  0.060780  0.999986\n",
      "21         22   0.925466  0.051970  1.000000\n",
      "19         20   0.925466  0.054743  0.999998\n",
      "24         25   0.925397  0.050571  1.000000\n",
      "27         28   0.925339  0.050232  1.000000\n",
      "14         15   0.925304  0.085769  0.999657\n",
      "    max_depth  oob_score  log_loss  auroc\n",
      "49         50    0.92482   0.05019    1.0\n",
      "72         73    0.92482   0.05019    1.0\n",
      "71         72    0.92482   0.05019    1.0\n",
      "70         71    0.92482   0.05019    1.0\n",
      "69         70    0.92482   0.05019    1.0\n",
      "68         69    0.92482   0.05019    1.0\n",
      "67         68    0.92482   0.05019    1.0\n",
      "66         67    0.92482   0.05019    1.0\n",
      "65         66    0.92482   0.05019    1.0\n",
      "64         65    0.92482   0.05019    1.0\n",
      "    max_depth  oob_score  log_loss  auroc\n",
      "27         28   0.925339  0.050232    1.0\n",
      "29         30   0.924774  0.050333    1.0\n",
      "64         65   0.924820  0.050190    1.0\n",
      "73         74   0.924820  0.050190    1.0\n",
      "72         73   0.924820  0.050190    1.0\n",
      "71         72   0.924820  0.050190    1.0\n",
      "70         71   0.924820  0.050190    1.0\n",
      "69         70   0.924820  0.050190    1.0\n",
      "68         69   0.924820  0.050190    1.0\n",
      "67         68   0.924820  0.050190    1.0\n"
     ]
    },
    {
     "data": {
      "text/plain": [
       "<AxesSubplot:xlabel='max_depth'>"
      ]
     },
     "execution_count": 10,
     "metadata": {},
     "output_type": "execute_result"
    },
    {
     "data": {
      "text/plain": [
       "<matplotlib.legend.Legend at 0x27d1c17adc0>"
      ]
     },
     "execution_count": 10,
     "metadata": {},
     "output_type": "execute_result"
    },
    {
     "data": {
      "image/png": "[encoded data removed]",
      "text/plain": [
       "<Figure size 432x288 with 1 Axes>"
      ]
     },
     "metadata": {
      "needs_background": "light"
     },
     "output_type": "display_data"
    },
    {
     "name": "stdout",
     "output_type": "stream",
     "text": [
      "time: 26min 45s\n"
     ]
    }
   ],
   "source": [
    "results = {\"max_depth\": [], \"oob_score\": [], \"log_loss\": [], \"auroc\": []}\n",
    "make_rf = lambda max_depth: RandomForestClassifier(\n",
    "    n_estimators=50,\n",
    "    criterion=\"entropy\",\n",
    "    max_features=\"sqrt\",\n",
    "    random_state=SEED,\n",
    "    # verbose=1,\n",
    "    max_depth=max_depth,\n",
    "    bootstrap=True,\n",
    "    oob_score=True,\n",
    "    n_jobs=-1,\n",
    "    class_weight=\"balanced_subsample\",\n",
    ")\n",
    "\n",
    "for n in tqdm(range(1, 101)):\n",
    "    model = make_rf(n).fit(data, y_true)\n",
    "    results[\"max_depth\"].append(n)\n",
    "    results[\"oob_score\"].append(model.oob_score_)\n",
    "    results[\"auroc\"].append(\n",
    "        roc_auc_score(y_true, y_pred := model.predict_proba(data), multi_class=\"ovo\")\n",
    "    )\n",
    "    results[\"log_loss\"].append(log_loss(y_true, y_pred))\n",
    "\n",
    "# save results\n",
    "df = pd.DataFrame(results).sort_values(by=\"max_depth\", ascending=True)\n",
    "print(df.sort_values(by=\"oob_score\", ascending=False).head(10))\n",
    "print(df.sort_values(by=\"log_loss\", ascending=True).head(10))\n",
    "print(df.sort_values(by=\"auroc\", ascending=False).head(10))\n",
    "df.columns = df.columns.astype(str)\n",
    "df.reset_index().to_feather(f\"{DATA_OUT_FOLDER}/RF_max_depth_results.feather\")\n",
    "\n",
    "# plot\n",
    "df.plot(x=\"max_depth\")\n",
    "plt.legend(frameon=False)\n",
    "sns.despine(top=True, right=True)\n",
    "plt.tight_layout()\n",
    "plt.show()"
   ]
  },
  {
   "cell_type": "markdown",
   "metadata": {},
   "source": [
    "All these OOB score are lower than the previous tuning run for n_estimators (probably because we capped at 50 trees). But many candidates have been achieving AUROC of ~100%. This is almost definitely overfit."
   ]
  },
  {
   "cell_type": "code",
   "execution_count": 11,
   "metadata": {},
   "outputs": [
    {
     "name": "stdout",
     "output_type": "stream",
     "text": [
      "    max_depth  oob_score  log_loss     auroc\n",
      "18         19   0.925996  0.056618  0.999997\n",
      "22         23   0.925938  0.051203  1.000000\n",
      "16         17   0.925835  0.066665  0.999950\n",
      "15         16   0.925673  0.074872  0.999865\n",
      "17         18   0.925604  0.060780  0.999986\n",
      "21         22   0.925466  0.051970  1.000000\n",
      "19         20   0.925466  0.054743  0.999998\n",
      "24         25   0.925397  0.050571  1.000000\n",
      "14         15   0.925304  0.085769  0.999657\n",
      "20         21   0.925212  0.053089  1.000000\n",
      "    max_depth  oob_score  log_loss     auroc\n",
      "24         25   0.925397  0.050571  1.000000\n",
      "23         24   0.924509  0.050923  1.000000\n",
      "22         23   0.925938  0.051203  1.000000\n",
      "21         22   0.925466  0.051970  1.000000\n",
      "20         21   0.925212  0.053089  1.000000\n",
      "19         20   0.925466  0.054743  0.999998\n",
      "18         19   0.925996  0.056618  0.999997\n",
      "17         18   0.925604  0.060780  0.999986\n",
      "16         17   0.925835  0.066665  0.999950\n",
      "15         16   0.925673  0.074872  0.999865\n",
      "    max_depth  oob_score  log_loss     auroc\n",
      "24         25   0.925397  0.050571  1.000000\n",
      "23         24   0.924509  0.050923  1.000000\n",
      "21         22   0.925466  0.051970  1.000000\n",
      "22         23   0.925938  0.051203  1.000000\n",
      "20         21   0.925212  0.053089  1.000000\n",
      "19         20   0.925466  0.054743  0.999998\n",
      "18         19   0.925996  0.056618  0.999997\n",
      "17         18   0.925604  0.060780  0.999986\n",
      "16         17   0.925835  0.066665  0.999950\n",
      "15         16   0.925673  0.074872  0.999865\n"
     ]
    },
    {
     "data": {
      "text/plain": [
       "<AxesSubplot:xlabel='max_depth'>"
      ]
     },
     "execution_count": 11,
     "metadata": {},
     "output_type": "execute_result"
    },
    {
     "data": {
      "text/plain": [
       "<matplotlib.legend.Legend at 0x27d1cd887f0>"
      ]
     },
     "execution_count": 11,
     "metadata": {},
     "output_type": "execute_result"
    },
    {
     "data": {
      "image/png": "[encoded data removed]",
      "text/plain": [
       "<Figure size 432x288 with 1 Axes>"
      ]
     },
     "metadata": {
      "needs_background": "light"
     },
     "output_type": "display_data"
    },
    {
     "name": "stdout",
     "output_type": "stream",
     "text": [
      "time: 251 ms\n"
     ]
    }
   ],
   "source": [
    "df = pd.read_feather(f\"{DATA_OUT_FOLDER}/RF_max_depth_results.feather\").drop(\n",
    "    \"index\", axis=\"columns\"\n",
    ")\n",
    "df = df.sort_values(by=\"max_depth\", ascending=True).loc[df.max_depth <= 25]\n",
    "\n",
    "print(df.sort_values(by=\"oob_score\", ascending=False).head(10))\n",
    "print(df.sort_values(by=\"log_loss\", ascending=True).head(10))\n",
    "print(df.sort_values(by=\"auroc\", ascending=False).head(10))\n",
    "\n",
    "# plot\n",
    "df.plot(x=\"max_depth\")\n",
    "plt.legend(frameon=False)\n",
    "sns.despine(top=True, right=True)\n",
    "plt.tight_layout()\n",
    "plt.show()"
   ]
  },
  {
   "cell_type": "markdown",
   "metadata": {},
   "source": [
    "max_depth should not exceed 20"
   ]
  },
  {
   "cell_type": "markdown",
   "metadata": {},
   "source": [
    "# min_samples_split"
   ]
  },
  {
   "cell_type": "code",
   "execution_count": 12,
   "metadata": {},
   "outputs": [
    {
     "data": {
      "application/vnd.jupyter.widget-view+json": {
       "model_id": "743045336e9647c9a4f6a11ba6b489d5",
       "version_major": 2,
       "version_minor": 0
      },
      "text/plain": [
       "  0%|          | 0/99 [00:00<?, ?it/s]"
      ]
     },
     "metadata": {},
     "output_type": "display_data"
    },
    {
     "name": "stdout",
     "output_type": "stream",
     "text": [
      "    min_samples_split  oob_score  log_loss     auroc\n",
      "7                   9   0.925604  0.088716  0.999654\n",
      "2                   4   0.925408  0.070834  0.999922\n",
      "12                 14   0.925362  0.102778  0.999298\n",
      "9                  11   0.925327  0.095054  0.999533\n",
      "6                   8   0.925281  0.085035  0.999740\n",
      "4                   6   0.925235  0.077956  0.999856\n",
      "10                 12   0.925178  0.098366  0.999442\n",
      "5                   7   0.925062  0.081660  0.999803\n",
      "16                 18   0.925051  0.113277  0.998893\n",
      "8                  10   0.924878  0.092053  0.999610\n",
      "   min_samples_split  oob_score  log_loss     auroc\n",
      "0                  2   0.924140  0.066658  0.999943\n",
      "1                  3   0.923506  0.067989  0.999941\n",
      "2                  4   0.925408  0.070834  0.999922\n",
      "3                  5   0.924301  0.073628  0.999908\n",
      "4                  6   0.925235  0.077956  0.999856\n",
      "5                  7   0.925062  0.081660  0.999803\n",
      "6                  8   0.925281  0.085035  0.999740\n",
      "7                  9   0.925604  0.088716  0.999654\n",
      "8                 10   0.924878  0.092053  0.999610\n",
      "9                 11   0.925327  0.095054  0.999533\n",
      "   min_samples_split  oob_score  log_loss     auroc\n",
      "0                  2   0.924140  0.066658  0.999943\n",
      "1                  3   0.923506  0.067989  0.999941\n",
      "2                  4   0.925408  0.070834  0.999922\n",
      "3                  5   0.924301  0.073628  0.999908\n",
      "4                  6   0.925235  0.077956  0.999856\n",
      "5                  7   0.925062  0.081660  0.999803\n",
      "6                  8   0.925281  0.085035  0.999740\n",
      "7                  9   0.925604  0.088716  0.999654\n",
      "8                 10   0.924878  0.092053  0.999610\n",
      "9                 11   0.925327  0.095054  0.999533\n"
     ]
    },
    {
     "data": {
      "text/plain": [
       "<AxesSubplot:xlabel='min_samples_split'>"
      ]
     },
     "execution_count": 12,
     "metadata": {},
     "output_type": "execute_result"
    },
    {
     "data": {
      "text/plain": [
       "<matplotlib.legend.Legend at 0x27d1ce25ee0>"
      ]
     },
     "execution_count": 12,
     "metadata": {},
     "output_type": "execute_result"
    },
    {
     "data": {
      "image/png": "[encoded data removed]",
      "text/plain": [
       "<Figure size 432x288 with 1 Axes>"
      ]
     },
     "metadata": {
      "needs_background": "light"
     },
     "output_type": "display_data"
    },
    {
     "name": "stdout",
     "output_type": "stream",
     "text": [
      "time: 20min 34s\n"
     ]
    }
   ],
   "source": [
    "results = {\"min_samples_split\": [], \"oob_score\": [], \"log_loss\": [], \"auroc\": []}\n",
    "make_rf = lambda min_samples_split: RandomForestClassifier(\n",
    "    n_estimators=40,  # reduced for now to speed up training\n",
    "    criterion=\"entropy\",\n",
    "    max_features=\"sqrt\",\n",
    "    random_state=SEED,\n",
    "    # verbose=1,\n",
    "    max_depth=17,\n",
    "    min_samples_split=min_samples_split,\n",
    "    bootstrap=True,\n",
    "    oob_score=True,\n",
    "    n_jobs=-1,\n",
    "    class_weight=\"balanced_subsample\",\n",
    ")\n",
    "\n",
    "for n in tqdm(range(2, 101)):\n",
    "    model = make_rf(n).fit(data, y_true)\n",
    "    results[\"min_samples_split\"].append(n)\n",
    "    results[\"oob_score\"].append(model.oob_score_)\n",
    "    results[\"auroc\"].append(\n",
    "        roc_auc_score(y_true, y_pred := model.predict_proba(data), multi_class=\"ovo\")\n",
    "    )\n",
    "    results[\"log_loss\"].append(log_loss(y_true, y_pred))\n",
    "\n",
    "# save results\n",
    "df = pd.DataFrame(results).sort_values(by=\"min_samples_split\", ascending=True)\n",
    "print(df.sort_values(by=\"oob_score\", ascending=False).head(10))\n",
    "print(df.sort_values(by=\"log_loss\", ascending=True).head(10))\n",
    "print(df.sort_values(by=\"auroc\", ascending=False).head(10))\n",
    "df.columns = df.columns.astype(str)\n",
    "df.reset_index().to_feather(f\"{DATA_OUT_FOLDER}/RF_min_samples_split_results.feather\")\n",
    "\n",
    "# plot\n",
    "df.plot(x=\"min_samples_split\")\n",
    "plt.legend(frameon=False)\n",
    "sns.despine(top=True, right=True)\n",
    "plt.tight_layout()\n",
    "plt.show()"
   ]
  },
  {
   "cell_type": "markdown",
   "metadata": {},
   "source": [
    "5 could be a good balance between log_loss and oob_score"
   ]
  },
  {
   "cell_type": "markdown",
   "metadata": {},
   "source": [
    "# min_samples_leaf"
   ]
  },
  {
   "cell_type": "code",
   "execution_count": 13,
   "metadata": {},
   "outputs": [
    {
     "data": {
      "application/vnd.jupyter.widget-view+json": {
       "model_id": "f9010984d8114400bc2fe0923e0412ff",
       "version_major": 2,
       "version_minor": 0
      },
      "text/plain": [
       "  0%|          | 0/100 [00:00<?, ?it/s]"
      ]
     },
     "metadata": {},
     "output_type": "display_data"
    },
    {
     "name": "stdout",
     "output_type": "stream",
     "text": [
      "   min_samples_leaf  oob_score  log_loss     auroc\n",
      "0                 1   0.925604  0.088716  0.999654\n",
      "3                 4   0.925443  0.101632  0.999289\n",
      "2                 3   0.925420  0.097474  0.999413\n",
      "1                 2   0.925339  0.092826  0.999550\n",
      "4                 5   0.924728  0.109063  0.999019\n",
      "6                 7   0.924624  0.124220  0.998295\n",
      "5                 6   0.924417  0.117002  0.998637\n",
      "7                 8   0.924221  0.130054  0.997936\n",
      "8                 9   0.923310  0.134921  0.997592\n",
      "9                10   0.922884  0.140937  0.997266\n",
      "   min_samples_leaf  oob_score  log_loss     auroc\n",
      "0                 1   0.925604  0.088716  0.999654\n",
      "1                 2   0.925339  0.092826  0.999550\n",
      "2                 3   0.925420  0.097474  0.999413\n",
      "3                 4   0.925443  0.101632  0.999289\n",
      "4                 5   0.924728  0.109063  0.999019\n",
      "5                 6   0.924417  0.117002  0.998637\n",
      "6                 7   0.924624  0.124220  0.998295\n",
      "7                 8   0.924221  0.130054  0.997936\n",
      "8                 9   0.923310  0.134921  0.997592\n",
      "9                10   0.922884  0.140937  0.997266\n",
      "   min_samples_leaf  oob_score  log_loss     auroc\n",
      "0                 1   0.925604  0.088716  0.999654\n",
      "1                 2   0.925339  0.092826  0.999550\n",
      "2                 3   0.925420  0.097474  0.999413\n",
      "3                 4   0.925443  0.101632  0.999289\n",
      "4                 5   0.924728  0.109063  0.999019\n",
      "5                 6   0.924417  0.117002  0.998637\n",
      "6                 7   0.924624  0.124220  0.998295\n",
      "7                 8   0.924221  0.130054  0.997936\n",
      "8                 9   0.923310  0.134921  0.997592\n",
      "9                10   0.922884  0.140937  0.997266\n"
     ]
    },
    {
     "data": {
      "text/plain": [
       "<AxesSubplot:xlabel='min_samples_leaf'>"
      ]
     },
     "execution_count": 13,
     "metadata": {},
     "output_type": "execute_result"
    },
    {
     "data": {
      "text/plain": [
       "<matplotlib.legend.Legend at 0x27d1d0abd60>"
      ]
     },
     "execution_count": 13,
     "metadata": {},
     "output_type": "execute_result"
    },
    {
     "data": {
      "image/png": "[encoded data removed]",
      "text/plain": [
       "<Figure size 432x288 with 1 Axes>"
      ]
     },
     "metadata": {
      "needs_background": "light"
     },
     "output_type": "display_data"
    },
    {
     "name": "stdout",
     "output_type": "stream",
     "text": [
      "time: 18min 44s\n"
     ]
    }
   ],
   "source": [
    "results = {\"min_samples_leaf\": [], \"oob_score\": [], \"log_loss\": [], \"auroc\": []}\n",
    "make_rf = lambda min_samples_leaf: RandomForestClassifier(\n",
    "    n_estimators=40,  # reduced for now to speed up training\n",
    "    criterion=\"entropy\",\n",
    "    max_features=\"sqrt\",\n",
    "    random_state=SEED,\n",
    "    # verbose=1,\n",
    "    max_depth=17,\n",
    "    min_samples_split=9,\n",
    "    min_samples_leaf=min_samples_leaf,\n",
    "    bootstrap=True,\n",
    "    oob_score=True,\n",
    "    n_jobs=-1,\n",
    "    class_weight=\"balanced_subsample\",\n",
    ")\n",
    "\n",
    "for n in tqdm(range(1, 101)):\n",
    "    model = make_rf(n).fit(data, y_true)\n",
    "    results[\"min_samples_leaf\"].append(n)\n",
    "    results[\"oob_score\"].append(model.oob_score_)\n",
    "    results[\"auroc\"].append(\n",
    "        roc_auc_score(y_true, y_pred := model.predict_proba(data), multi_class=\"ovo\")\n",
    "    )\n",
    "    results[\"log_loss\"].append(log_loss(y_true, y_pred))\n",
    "\n",
    "# save results\n",
    "df = pd.DataFrame(results).sort_values(by=\"min_samples_leaf\", ascending=True)\n",
    "print(df.sort_values(by=\"oob_score\", ascending=False).head(10))\n",
    "print(df.sort_values(by=\"log_loss\", ascending=True).head(10))\n",
    "print(df.sort_values(by=\"auroc\", ascending=False).head(10))\n",
    "df.columns = df.columns.astype(str)\n",
    "df.reset_index().to_feather(f\"{DATA_OUT_FOLDER}/RF_min_samples_leaf_results.feather\")\n",
    "\n",
    "# plot\n",
    "df.plot(x=\"min_samples_leaf\")\n",
    "plt.legend(frameon=False)\n",
    "sns.despine(top=True, right=True)\n",
    "plt.tight_layout()\n",
    "plt.show()"
   ]
  },
  {
   "cell_type": "markdown",
   "metadata": {},
   "source": [
    "# max_leaf_nodes"
   ]
  },
  {
   "cell_type": "code",
   "execution_count": 14,
   "metadata": {},
   "outputs": [
    {
     "data": {
      "application/vnd.jupyter.widget-view+json": {
       "model_id": "e51a2eb11f1745e18209640f39a8768d",
       "version_major": 2,
       "version_minor": 0
      },
      "text/plain": [
       "  0%|          | 0/54 [00:00<?, ?it/s]"
      ]
     },
     "metadata": {},
     "output_type": "display_data"
    },
    {
     "name": "stdout",
     "output_type": "stream",
     "text": [
      "    max_leaf_nodes  oob_score  log_loss     auroc\n",
      "51           99999   0.925443  0.101632  0.999289\n",
      "53           10000   0.925154  0.102187  0.999269\n",
      "52            1000   0.922434  0.144425  0.996622\n",
      "50             100   0.903795  0.257399  0.986195\n",
      "49              99   0.903622  0.257816  0.986156\n",
      "48              98   0.903541  0.258181  0.986113\n",
      "47              97   0.903380  0.258524  0.986076\n",
      "46              96   0.903230  0.258994  0.986027\n",
      "42              92   0.903103  0.260742  0.985827\n",
      "40              90   0.902988  0.261791  0.985710\n",
      "    max_leaf_nodes  oob_score  log_loss     auroc\n",
      "51           99999   0.925443  0.101632  0.999289\n",
      "53           10000   0.925154  0.102187  0.999269\n",
      "52            1000   0.922434  0.144425  0.996622\n",
      "50             100   0.903795  0.257399  0.986195\n",
      "49              99   0.903622  0.257816  0.986156\n",
      "48              98   0.903541  0.258181  0.986113\n",
      "47              97   0.903380  0.258524  0.986076\n",
      "46              96   0.903230  0.258994  0.986027\n",
      "45              95   0.902930  0.259435  0.985977\n",
      "44              94   0.902953  0.259784  0.985940\n",
      "    max_leaf_nodes  oob_score  log_loss     auroc\n",
      "51           99999   0.925443  0.101632  0.999289\n",
      "53           10000   0.925154  0.102187  0.999269\n",
      "52            1000   0.922434  0.144425  0.996622\n",
      "50             100   0.903795  0.257399  0.986195\n",
      "49              99   0.903622  0.257816  0.986156\n",
      "48              98   0.903541  0.258181  0.986113\n",
      "47              97   0.903380  0.258524  0.986076\n",
      "46              96   0.903230  0.258994  0.986027\n",
      "45              95   0.902930  0.259435  0.985977\n",
      "44              94   0.902953  0.259784  0.985940\n"
     ]
    },
    {
     "data": {
      "text/plain": [
       "<AxesSubplot:xlabel='max_leaf_nodes'>"
      ]
     },
     "execution_count": 14,
     "metadata": {},
     "output_type": "execute_result"
    },
    {
     "data": {
      "text/plain": [
       "<matplotlib.legend.Legend at 0x27d1ce63940>"
      ]
     },
     "execution_count": 14,
     "metadata": {},
     "output_type": "execute_result"
    },
    {
     "data": {
      "image/png": "[encoded data removed]",
      "text/plain": [
       "<Figure size 432x288 with 1 Axes>"
      ]
     },
     "metadata": {
      "needs_background": "light"
     },
     "output_type": "display_data"
    },
    {
     "name": "stdout",
     "output_type": "stream",
     "text": [
      "time: 8min 41s\n"
     ]
    }
   ],
   "source": [
    "results = {\"max_leaf_nodes\": [], \"oob_score\": [], \"log_loss\": [], \"auroc\": []}\n",
    "make_rf = lambda max_leaf_nodes: RandomForestClassifier(\n",
    "    n_estimators=40,  # reduced for now to speed up training\n",
    "    criterion=\"entropy\",\n",
    "    max_features=\"sqrt\",\n",
    "    max_leaf_nodes=max_leaf_nodes,\n",
    "    random_state=SEED,\n",
    "    # verbose=1,\n",
    "    max_depth=17,\n",
    "    min_samples_split=9,\n",
    "    min_samples_leaf=4,\n",
    "    bootstrap=True,\n",
    "    oob_score=True,\n",
    "    n_jobs=-1,\n",
    "    class_weight=\"balanced_subsample\",\n",
    ")\n",
    "\n",
    "for n in tqdm(list(range(50, 101)) + [None, 1000, 10000]):\n",
    "    model = make_rf(n).fit(data, y_true)\n",
    "    results[\"max_leaf_nodes\"].append(\n",
    "        n if n else 99999\n",
    "    )  # None means unlimited number of leaf nodes\n",
    "    results[\"oob_score\"].append(model.oob_score_)\n",
    "    results[\"auroc\"].append(\n",
    "        roc_auc_score(y_true, y_pred := model.predict_proba(data), multi_class=\"ovo\")\n",
    "    )\n",
    "    results[\"log_loss\"].append(log_loss(y_true, y_pred))\n",
    "\n",
    "# save results\n",
    "df = pd.DataFrame(results).sort_values(by=\"max_leaf_nodes\", ascending=True)\n",
    "print(df.sort_values(by=\"oob_score\", ascending=False).head(10))\n",
    "print(df.sort_values(by=\"log_loss\", ascending=True).head(10))\n",
    "print(df.sort_values(by=\"auroc\", ascending=False).head(10))\n",
    "df.columns = df.columns.astype(str)\n",
    "df.reset_index().to_feather(f\"{DATA_OUT_FOLDER}/RF_max_leaf_nodes_results.feather\")\n",
    "\n",
    "# plot\n",
    "df.plot(x=\"max_leaf_nodes\")\n",
    "plt.legend(frameon=False)\n",
    "sns.despine(top=True, right=True)\n",
    "plt.tight_layout()\n",
    "plt.show()"
   ]
  },
  {
   "cell_type": "code",
   "execution_count": 15,
   "metadata": {},
   "outputs": [
    {
     "data": {
      "application/vnd.jupyter.widget-view+json": {
       "model_id": "154615bdd7cb49278596769d3941bf32",
       "version_major": 2,
       "version_minor": 0
      },
      "text/plain": [
       "  0%|          | 0/13 [00:00<?, ?it/s]"
      ]
     },
     "metadata": {},
     "output_type": "display_data"
    },
    {
     "name": "stdout",
     "output_type": "stream",
     "text": [
      "   max_leaf_nodes  oob_score  log_loss     auroc\n",
      "0           99999   0.925443  0.101632  0.999289\n",
      "1           10000   0.925154  0.102187  0.999269\n",
      "2           11000   0.925154  0.102187  0.999269\n",
      "3           12000   0.925154  0.102187  0.999269\n",
      "4           13000   0.925154  0.102187  0.999269\n",
      "5           14000   0.925154  0.102187  0.999269\n",
      "6           15000   0.925154  0.102187  0.999269\n",
      "7           16000   0.925154  0.102187  0.999269\n",
      "8           17000   0.925154  0.102187  0.999269\n",
      "9           18000   0.925154  0.102187  0.999269\n",
      "   max_leaf_nodes  oob_score  log_loss     auroc\n",
      "0           99999   0.925443  0.101632  0.999289\n",
      "1           10000   0.925154  0.102187  0.999269\n",
      "2           11000   0.925154  0.102187  0.999269\n",
      "3           12000   0.925154  0.102187  0.999269\n",
      "4           13000   0.925154  0.102187  0.999269\n",
      "5           14000   0.925154  0.102187  0.999269\n",
      "6           15000   0.925154  0.102187  0.999269\n",
      "7           16000   0.925154  0.102187  0.999269\n",
      "8           17000   0.925154  0.102187  0.999269\n",
      "9           18000   0.925154  0.102187  0.999269\n",
      "   max_leaf_nodes  oob_score  log_loss     auroc\n",
      "0           99999   0.925443  0.101632  0.999289\n",
      "1           10000   0.925154  0.102187  0.999269\n",
      "2           11000   0.925154  0.102187  0.999269\n",
      "3           12000   0.925154  0.102187  0.999269\n",
      "4           13000   0.925154  0.102187  0.999269\n",
      "5           14000   0.925154  0.102187  0.999269\n",
      "6           15000   0.925154  0.102187  0.999269\n",
      "7           16000   0.925154  0.102187  0.999269\n",
      "8           17000   0.925154  0.102187  0.999269\n",
      "9           18000   0.925154  0.102187  0.999269\n"
     ]
    },
    {
     "data": {
      "text/plain": [
       "<AxesSubplot:xlabel='max_leaf_nodes'>"
      ]
     },
     "execution_count": 15,
     "metadata": {},
     "output_type": "execute_result"
    },
    {
     "data": {
      "text/plain": [
       "<matplotlib.legend.Legend at 0x27d1ce1e280>"
      ]
     },
     "execution_count": 15,
     "metadata": {},
     "output_type": "execute_result"
    },
    {
     "data": {
      "image/png": "[encoded data removed]",
      "text/plain": [
       "<Figure size 432x288 with 1 Axes>"
      ]
     },
     "metadata": {
      "needs_background": "light"
     },
     "output_type": "display_data"
    },
    {
     "name": "stdout",
     "output_type": "stream",
     "text": [
      "time: 2min 37s\n"
     ]
    }
   ],
   "source": [
    "results = {\"max_leaf_nodes\": [], \"oob_score\": [], \"log_loss\": [], \"auroc\": []}\n",
    "make_rf = lambda max_leaf_nodes: RandomForestClassifier(\n",
    "    n_estimators=40,  # reduced for now to speed up training\n",
    "    criterion=\"entropy\",\n",
    "    max_features=\"sqrt\",\n",
    "    max_leaf_nodes=max_leaf_nodes,\n",
    "    random_state=SEED,\n",
    "    # verbose=1,\n",
    "    max_depth=17,\n",
    "    min_samples_split=9,\n",
    "    min_samples_leaf=4,\n",
    "    bootstrap=True,\n",
    "    oob_score=True,\n",
    "    n_jobs=-1,\n",
    "    class_weight=\"balanced_subsample\",\n",
    ")\n",
    "\n",
    "for n in tqdm(\n",
    "    [\n",
    "        None,\n",
    "        10000,\n",
    "        11000,\n",
    "        12000,\n",
    "        13000,\n",
    "        14000,\n",
    "        15000,\n",
    "        16000,\n",
    "        17000,\n",
    "        18000,\n",
    "        19000,\n",
    "        20000,\n",
    "        100000,\n",
    "    ]\n",
    "):\n",
    "    model = make_rf(n).fit(data, y_true)\n",
    "    results[\"max_leaf_nodes\"].append(\n",
    "        n if n else 99999\n",
    "    )  # None means unlimited number of leaf nodes\n",
    "    results[\"oob_score\"].append(model.oob_score_)\n",
    "    results[\"auroc\"].append(\n",
    "        roc_auc_score(y_true, y_pred := model.predict_proba(data), multi_class=\"ovo\")\n",
    "    )\n",
    "    results[\"log_loss\"].append(log_loss(y_true, y_pred))\n",
    "\n",
    "# save results\n",
    "df = pd.DataFrame(results).sort_values(by=\"max_leaf_nodes\", ascending=True)\n",
    "print(df.sort_values(by=\"oob_score\", ascending=False).head(10))\n",
    "print(df.sort_values(by=\"log_loss\", ascending=True).head(10))\n",
    "print(df.sort_values(by=\"auroc\", ascending=False).head(10))\n",
    "df.columns = df.columns.astype(str)\n",
    "df.reset_index().to_feather(f\"{DATA_OUT_FOLDER}/RF_max_leaf_nodes_results2.feather\")\n",
    "\n",
    "# plot\n",
    "df.plot(x=\"max_leaf_nodes\")\n",
    "plt.legend(frameon=False)\n",
    "sns.despine(top=True, right=True)\n",
    "plt.tight_layout()\n",
    "plt.show()"
   ]
  },
  {
   "cell_type": "code",
   "execution_count": 16,
   "metadata": {},
   "outputs": [
    {
     "data": {
      "application/vnd.jupyter.widget-view+json": {
       "model_id": "e919136180344428b95ecc11298aa7f8",
       "version_major": 2,
       "version_minor": 0
      },
      "text/plain": [
       "  0%|          | 0/11 [00:00<?, ?it/s]"
      ]
     },
     "metadata": {},
     "output_type": "display_data"
    },
    {
     "name": "stdout",
     "output_type": "stream",
     "text": [
      "    max_leaf_nodes  oob_score  log_loss     auroc\n",
      "0            99999   0.925443  0.101632  0.999289\n",
      "3             3000   0.925154  0.102187  0.999269\n",
      "4             4000   0.925154  0.102187  0.999269\n",
      "5             5000   0.925154  0.102187  0.999269\n",
      "6             6000   0.925154  0.102187  0.999269\n",
      "7             7000   0.925154  0.102187  0.999269\n",
      "8             8000   0.925154  0.102187  0.999269\n",
      "9             9000   0.925154  0.102187  0.999269\n",
      "10           10000   0.925154  0.102187  0.999269\n",
      "2             2000   0.924843  0.104587  0.999123\n",
      "    max_leaf_nodes  oob_score  log_loss     auroc\n",
      "0            99999   0.925443  0.101632  0.999289\n",
      "3             3000   0.925154  0.102187  0.999269\n",
      "4             4000   0.925154  0.102187  0.999269\n",
      "5             5000   0.925154  0.102187  0.999269\n",
      "6             6000   0.925154  0.102187  0.999269\n",
      "7             7000   0.925154  0.102187  0.999269\n",
      "8             8000   0.925154  0.102187  0.999269\n",
      "9             9000   0.925154  0.102187  0.999269\n",
      "10           10000   0.925154  0.102187  0.999269\n",
      "2             2000   0.924843  0.104587  0.999123\n",
      "    max_leaf_nodes  oob_score  log_loss     auroc\n",
      "0            99999   0.925443  0.101632  0.999289\n",
      "3             3000   0.925154  0.102187  0.999269\n",
      "4             4000   0.925154  0.102187  0.999269\n",
      "5             5000   0.925154  0.102187  0.999269\n",
      "6             6000   0.925154  0.102187  0.999269\n",
      "7             7000   0.925154  0.102187  0.999269\n",
      "8             8000   0.925154  0.102187  0.999269\n",
      "9             9000   0.925154  0.102187  0.999269\n",
      "10           10000   0.925154  0.102187  0.999269\n",
      "2             2000   0.924843  0.104587  0.999123\n"
     ]
    },
    {
     "data": {
      "text/plain": [
       "<AxesSubplot:xlabel='max_leaf_nodes'>"
      ]
     },
     "execution_count": 16,
     "metadata": {},
     "output_type": "execute_result"
    },
    {
     "data": {
      "text/plain": [
       "<matplotlib.legend.Legend at 0x27d1e625430>"
      ]
     },
     "execution_count": 16,
     "metadata": {},
     "output_type": "execute_result"
    },
    {
     "data": {
      "image/png": "[encoded data removed]",
      "text/plain": [
       "<Figure size 432x288 with 1 Axes>"
      ]
     },
     "metadata": {
      "needs_background": "light"
     },
     "output_type": "display_data"
    },
    {
     "name": "stdout",
     "output_type": "stream",
     "text": [
      "time: 2min 14s\n"
     ]
    }
   ],
   "source": [
    "results = {\"max_leaf_nodes\": [], \"oob_score\": [], \"log_loss\": [], \"auroc\": []}\n",
    "make_rf = lambda max_leaf_nodes: RandomForestClassifier(\n",
    "    n_estimators=40,  # reduced for now to speed up training\n",
    "    criterion=\"entropy\",\n",
    "    max_features=\"sqrt\",\n",
    "    max_leaf_nodes=max_leaf_nodes,\n",
    "    random_state=SEED,\n",
    "    # verbose=1,\n",
    "    max_depth=17,\n",
    "    min_samples_split=9,\n",
    "    min_samples_leaf=4,\n",
    "    bootstrap=True,\n",
    "    oob_score=True,\n",
    "    n_jobs=-1,\n",
    "    class_weight=\"balanced_subsample\",\n",
    ")\n",
    "\n",
    "for n in tqdm(\n",
    "    [\n",
    "        None,\n",
    "        1000,\n",
    "        2000,\n",
    "        3000,\n",
    "        4000,\n",
    "        5000,\n",
    "        6000,\n",
    "        7000,\n",
    "        8000,\n",
    "        9000,\n",
    "        10000,\n",
    "    ]\n",
    "):\n",
    "    model = make_rf(n).fit(data, y_true)\n",
    "    results[\"max_leaf_nodes\"].append(\n",
    "        n if n else 99999\n",
    "    )  # None means unlimited number of leaf nodes\n",
    "    results[\"oob_score\"].append(model.oob_score_)\n",
    "    results[\"auroc\"].append(\n",
    "        roc_auc_score(y_true, y_pred := model.predict_proba(data), multi_class=\"ovo\")\n",
    "    )\n",
    "    results[\"log_loss\"].append(log_loss(y_true, y_pred))\n",
    "\n",
    "# save results\n",
    "df = pd.DataFrame(results).sort_values(by=\"max_leaf_nodes\", ascending=True)\n",
    "print(df.sort_values(by=\"oob_score\", ascending=False).head(10))\n",
    "print(df.sort_values(by=\"log_loss\", ascending=True).head(10))\n",
    "print(df.sort_values(by=\"auroc\", ascending=False).head(10))\n",
    "df.columns = df.columns.astype(str)\n",
    "df.reset_index().to_feather(f\"{DATA_OUT_FOLDER}/RF_max_leaf_nodes_results3.feather\")\n",
    "\n",
    "# plot\n",
    "df.plot(x=\"max_leaf_nodes\")\n",
    "plt.legend(frameon=False)\n",
    "sns.despine(top=True, right=True)\n",
    "plt.tight_layout()\n",
    "plt.show()"
   ]
  },
  {
   "cell_type": "code",
   "execution_count": 18,
   "metadata": {},
   "outputs": [
    {
     "data": {
      "application/vnd.jupyter.widget-view+json": {
       "model_id": "2cd0127975114e8180e033596c5e71a0",
       "version_major": 2,
       "version_minor": 0
      },
      "text/plain": [
       "  0%|          | 0/8 [00:00<?, ?it/s]"
      ]
     },
     "metadata": {},
     "output_type": "display_data"
    },
    {
     "name": "stdout",
     "output_type": "stream",
     "text": [
      "   max_leaf_nodes  oob_score  log_loss     auroc\n",
      "7            2000   0.924843  0.104587  0.999123\n",
      "6            1750   0.924636  0.110077  0.998803\n",
      "5            1500   0.923956  0.118567  0.998298\n",
      "4            1250   0.923391  0.129869  0.997599\n",
      "3            1000   0.922434  0.144425  0.996622\n",
      "2             750   0.920717  0.162819  0.995267\n",
      "1             500   0.917662  0.185834  0.993355\n",
      "0             250   0.912002  0.219581  0.990163\n",
      "   max_leaf_nodes  oob_score  log_loss     auroc\n",
      "7            2000   0.924843  0.104587  0.999123\n",
      "6            1750   0.924636  0.110077  0.998803\n",
      "5            1500   0.923956  0.118567  0.998298\n",
      "4            1250   0.923391  0.129869  0.997599\n",
      "3            1000   0.922434  0.144425  0.996622\n",
      "2             750   0.920717  0.162819  0.995267\n",
      "1             500   0.917662  0.185834  0.993355\n",
      "0             250   0.912002  0.219581  0.990163\n",
      "   max_leaf_nodes  oob_score  log_loss     auroc\n",
      "7            2000   0.924843  0.104587  0.999123\n",
      "6            1750   0.924636  0.110077  0.998803\n",
      "5            1500   0.923956  0.118567  0.998298\n",
      "4            1250   0.923391  0.129869  0.997599\n",
      "3            1000   0.922434  0.144425  0.996622\n",
      "2             750   0.920717  0.162819  0.995267\n",
      "1             500   0.917662  0.185834  0.993355\n",
      "0             250   0.912002  0.219581  0.990163\n"
     ]
    },
    {
     "data": {
      "text/plain": [
       "<AxesSubplot:xlabel='max_leaf_nodes'>"
      ]
     },
     "execution_count": 18,
     "metadata": {},
     "output_type": "execute_result"
    },
    {
     "data": {
      "text/plain": [
       "<matplotlib.legend.Legend at 0x27d1cfd2610>"
      ]
     },
     "execution_count": 18,
     "metadata": {},
     "output_type": "execute_result"
    },
    {
     "data": {
      "image/png": "[encoded data removed]",
      "text/plain": [
       "<Figure size 432x288 with 1 Axes>"
      ]
     },
     "metadata": {
      "needs_background": "light"
     },
     "output_type": "display_data"
    },
    {
     "name": "stdout",
     "output_type": "stream",
     "text": [
      "time: 1min 43s\n"
     ]
    }
   ],
   "source": [
    "results = {\"max_leaf_nodes\": [], \"oob_score\": [], \"log_loss\": [], \"auroc\": []}\n",
    "make_rf = lambda max_leaf_nodes: RandomForestClassifier(\n",
    "    n_estimators=40,  # reduced for now to speed up training\n",
    "    criterion=\"entropy\",\n",
    "    max_features=\"sqrt\",\n",
    "    max_leaf_nodes=max_leaf_nodes,\n",
    "    random_state=SEED,\n",
    "    # verbose=1,\n",
    "    max_depth=17,\n",
    "    min_samples_split=9,\n",
    "    min_samples_leaf=4,\n",
    "    bootstrap=True,\n",
    "    oob_score=True,\n",
    "    n_jobs=-1,\n",
    "    class_weight=\"balanced_subsample\",\n",
    ")\n",
    "\n",
    "for n in tqdm(\n",
    "    [\n",
    "        250,\n",
    "        500,\n",
    "        750,\n",
    "        1000,\n",
    "        1250,\n",
    "        1500,\n",
    "        1750,\n",
    "        2000,\n",
    "    ]\n",
    "):\n",
    "    model = make_rf(n).fit(data, y_true)\n",
    "    results[\"max_leaf_nodes\"].append(\n",
    "        n if n else 99999\n",
    "    )  # None means unlimited number of leaf nodes\n",
    "    results[\"oob_score\"].append(model.oob_score_)\n",
    "    results[\"auroc\"].append(\n",
    "        roc_auc_score(y_true, y_pred := model.predict_proba(data), multi_class=\"ovo\")\n",
    "    )\n",
    "    results[\"log_loss\"].append(log_loss(y_true, y_pred))\n",
    "\n",
    "# save results\n",
    "df = pd.DataFrame(results).sort_values(by=\"max_leaf_nodes\", ascending=True)\n",
    "print(df.sort_values(by=\"oob_score\", ascending=False).head(10))\n",
    "print(df.sort_values(by=\"log_loss\", ascending=True).head(10))\n",
    "print(df.sort_values(by=\"auroc\", ascending=False).head(10))\n",
    "df.columns = df.columns.astype(str)\n",
    "df.reset_index().to_feather(f\"{DATA_OUT_FOLDER}/RF_max_leaf_nodes_results4.feather\")\n",
    "\n",
    "# plot\n",
    "df.plot(x=\"max_leaf_nodes\")\n",
    "plt.legend(frameon=False)\n",
    "sns.despine(top=True, right=True)\n",
    "plt.tight_layout()\n",
    "plt.show()"
   ]
  },
  {
   "cell_type": "code",
   "execution_count": 21,
   "metadata": {},
   "outputs": [
    {
     "data": {
      "application/vnd.jupyter.widget-view+json": {
       "model_id": "2df30b15a89142b888afb52829b7f899",
       "version_major": 2,
       "version_minor": 0
      },
      "text/plain": [
       "  0%|          | 0/21 [00:00<?, ?it/s]"
      ]
     },
     "metadata": {},
     "output_type": "display_data"
    },
    {
     "name": "stdout",
     "output_type": "stream",
     "text": [
      "    max_leaf_nodes  oob_score  log_loss     auroc\n",
      "2             2200   0.925224  0.102504  0.999247\n",
      "3             2300   0.925178  0.102215  0.999267\n",
      "10            3000   0.925154  0.102187  0.999269\n",
      "12            3200   0.925154  0.102187  0.999269\n",
      "19            3900   0.925154  0.102187  0.999269\n",
      "18            3800   0.925154  0.102187  0.999269\n",
      "17            3700   0.925154  0.102187  0.999269\n",
      "16            3600   0.925154  0.102187  0.999269\n",
      "15            3500   0.925154  0.102187  0.999269\n",
      "14            3400   0.925154  0.102187  0.999269\n",
      "    max_leaf_nodes  oob_score  log_loss     auroc\n",
      "10            3000   0.925154  0.102187  0.999269\n",
      "18            3800   0.925154  0.102187  0.999269\n",
      "17            3700   0.925154  0.102187  0.999269\n",
      "16            3600   0.925154  0.102187  0.999269\n",
      "15            3500   0.925154  0.102187  0.999269\n",
      "14            3400   0.925154  0.102187  0.999269\n",
      "13            3300   0.925154  0.102187  0.999269\n",
      "12            3200   0.925154  0.102187  0.999269\n",
      "11            3100   0.925154  0.102187  0.999269\n",
      "19            3900   0.925154  0.102187  0.999269\n",
      "    max_leaf_nodes  oob_score  log_loss     auroc\n",
      "10            3000   0.925154  0.102187  0.999269\n",
      "11            3100   0.925154  0.102187  0.999269\n",
      "19            3900   0.925154  0.102187  0.999269\n",
      "18            3800   0.925154  0.102187  0.999269\n",
      "17            3700   0.925154  0.102187  0.999269\n",
      "16            3600   0.925154  0.102187  0.999269\n",
      "15            3500   0.925154  0.102187  0.999269\n",
      "14            3400   0.925154  0.102187  0.999269\n",
      "13            3300   0.925154  0.102187  0.999269\n",
      "12            3200   0.925154  0.102187  0.999269\n"
     ]
    },
    {
     "data": {
      "text/plain": [
       "<AxesSubplot:xlabel='max_leaf_nodes'>"
      ]
     },
     "execution_count": 21,
     "metadata": {},
     "output_type": "execute_result"
    },
    {
     "data": {
      "text/plain": [
       "<matplotlib.legend.Legend at 0x27d1cff7100>"
      ]
     },
     "execution_count": 21,
     "metadata": {},
     "output_type": "execute_result"
    },
    {
     "data": {
      "image/png": "[encoded data removed]",
      "text/plain": [
       "<Figure size 432x288 with 1 Axes>"
      ]
     },
     "metadata": {
      "needs_background": "light"
     },
     "output_type": "display_data"
    },
    {
     "name": "stdout",
     "output_type": "stream",
     "text": [
      "time: 4min 29s\n"
     ]
    }
   ],
   "source": [
    "results = {\"max_leaf_nodes\": [], \"oob_score\": [], \"log_loss\": [], \"auroc\": []}\n",
    "make_rf = lambda max_leaf_nodes: RandomForestClassifier(\n",
    "    n_estimators=40,  # reduced for now to speed up training\n",
    "    criterion=\"entropy\",\n",
    "    max_features=\"sqrt\",\n",
    "    max_leaf_nodes=max_leaf_nodes,\n",
    "    random_state=SEED,\n",
    "    # verbose=1,\n",
    "    max_depth=17,\n",
    "    min_samples_split=9,\n",
    "    min_samples_leaf=4,\n",
    "    bootstrap=True,\n",
    "    oob_score=True,\n",
    "    n_jobs=-1,\n",
    "    class_weight=\"balanced_subsample\",\n",
    ")\n",
    "\n",
    "for n in tqdm([100 * i for i in range(20, 41)]):\n",
    "    model = make_rf(n).fit(data, y_true)\n",
    "    results[\"max_leaf_nodes\"].append(\n",
    "        n if n else 99999\n",
    "    )  # None means unlimited number of leaf nodes\n",
    "    results[\"oob_score\"].append(model.oob_score_)\n",
    "    results[\"auroc\"].append(\n",
    "        roc_auc_score(y_true, y_pred := model.predict_proba(data), multi_class=\"ovo\")\n",
    "    )\n",
    "    results[\"log_loss\"].append(log_loss(y_true, y_pred))\n",
    "\n",
    "# save results\n",
    "df = pd.DataFrame(results).sort_values(by=\"max_leaf_nodes\", ascending=True)\n",
    "print(df.sort_values(by=\"oob_score\", ascending=False).head(10))\n",
    "print(df.sort_values(by=\"log_loss\", ascending=True).head(10))\n",
    "print(df.sort_values(by=\"auroc\", ascending=False).head(10))\n",
    "df.columns = df.columns.astype(str)\n",
    "df.reset_index().to_feather(f\"{DATA_OUT_FOLDER}/RF_max_leaf_nodes_results5.feather\")\n",
    "\n",
    "# plot\n",
    "df.plot(x=\"max_leaf_nodes\")\n",
    "plt.legend(frameon=False)\n",
    "sns.despine(top=True, right=True)\n",
    "plt.tight_layout()\n",
    "plt.show()"
   ]
  },
  {
   "cell_type": "code",
   "execution_count": 24,
   "metadata": {},
   "outputs": [
    {
     "data": {
      "application/vnd.jupyter.widget-view+json": {
       "model_id": "7f58851cfd024f968d77c9e72d77a00c",
       "version_major": 2,
       "version_minor": 0
      },
      "text/plain": [
       "  0%|          | 0/7 [00:00<?, ?it/s]"
      ]
     },
     "metadata": {},
     "output_type": "display_data"
    },
    {
     "name": "stdout",
     "output_type": "stream",
     "text": [
      "   max_leaf_nodes  oob_score  log_loss     auroc\n",
      "1            2250   0.925189  0.102310  0.999260\n",
      "2            2500   0.925154  0.102187  0.999269\n",
      "3            2750   0.925154  0.102187  0.999269\n",
      "4            3000   0.925154  0.102187  0.999269\n",
      "5            3250   0.925154  0.102187  0.999269\n",
      "6            3500   0.925154  0.102187  0.999269\n",
      "0            2000   0.924843  0.104587  0.999123\n",
      "   max_leaf_nodes  oob_score  log_loss     auroc\n",
      "2            2500   0.925154  0.102187  0.999269\n",
      "3            2750   0.925154  0.102187  0.999269\n",
      "4            3000   0.925154  0.102187  0.999269\n",
      "5            3250   0.925154  0.102187  0.999269\n",
      "6            3500   0.925154  0.102187  0.999269\n",
      "1            2250   0.925189  0.102310  0.999260\n",
      "0            2000   0.924843  0.104587  0.999123\n",
      "   max_leaf_nodes  oob_score  log_loss     auroc\n",
      "2            2500   0.925154  0.102187  0.999269\n",
      "3            2750   0.925154  0.102187  0.999269\n",
      "4            3000   0.925154  0.102187  0.999269\n",
      "5            3250   0.925154  0.102187  0.999269\n",
      "6            3500   0.925154  0.102187  0.999269\n",
      "1            2250   0.925189  0.102310  0.999260\n",
      "0            2000   0.924843  0.104587  0.999123\n"
     ]
    },
    {
     "data": {
      "text/plain": [
       "<AxesSubplot:xlabel='max_leaf_nodes'>"
      ]
     },
     "execution_count": 24,
     "metadata": {},
     "output_type": "execute_result"
    },
    {
     "data": {
      "text/plain": [
       "<matplotlib.legend.Legend at 0x27d1d293d60>"
      ]
     },
     "execution_count": 24,
     "metadata": {},
     "output_type": "execute_result"
    },
    {
     "data": {
      "image/png": "[encoded data removed]",
      "text/plain": [
       "<Figure size 432x288 with 1 Axes>"
      ]
     },
     "metadata": {
      "needs_background": "light"
     },
     "output_type": "display_data"
    },
    {
     "name": "stdout",
     "output_type": "stream",
     "text": [
      "time: 1min 28s\n"
     ]
    }
   ],
   "source": [
    "results = {\"max_leaf_nodes\": [], \"oob_score\": [], \"log_loss\": [], \"auroc\": []}\n",
    "make_rf = lambda max_leaf_nodes: RandomForestClassifier(\n",
    "    n_estimators=40,  # reduced for now to speed up training\n",
    "    criterion=\"entropy\",\n",
    "    max_features=\"sqrt\",\n",
    "    max_leaf_nodes=max_leaf_nodes,\n",
    "    random_state=SEED,\n",
    "    # verbose=1,\n",
    "    max_depth=17,\n",
    "    min_samples_split=9,\n",
    "    min_samples_leaf=4,\n",
    "    bootstrap=True,\n",
    "    oob_score=True,\n",
    "    n_jobs=-1,\n",
    "    class_weight=\"balanced_subsample\",\n",
    ")\n",
    "\n",
    "for n in tqdm([2000, 2250, 2500, 2750, 3000, 3250, 3500]):\n",
    "    model = make_rf(n).fit(data, y_true)\n",
    "    results[\"max_leaf_nodes\"].append(\n",
    "        n if n else 99999\n",
    "    )  # None means unlimited number of leaf nodes\n",
    "    results[\"oob_score\"].append(model.oob_score_)\n",
    "    results[\"auroc\"].append(\n",
    "        roc_auc_score(y_true, y_pred := model.predict_proba(data), multi_class=\"ovo\")\n",
    "    )\n",
    "    results[\"log_loss\"].append(log_loss(y_true, y_pred))\n",
    "\n",
    "# save results\n",
    "df = pd.DataFrame(results).sort_values(by=\"max_leaf_nodes\", ascending=True)\n",
    "print(df.sort_values(by=\"oob_score\", ascending=False).head(10))\n",
    "print(df.sort_values(by=\"log_loss\", ascending=True).head(10))\n",
    "print(df.sort_values(by=\"auroc\", ascending=False).head(10))\n",
    "df.columns = df.columns.astype(str)\n",
    "df.reset_index().to_feather(f\"{DATA_OUT_FOLDER}/RF_max_leaf_nodes_results6.feather\")\n",
    "\n",
    "# plot\n",
    "df.plot(x=\"max_leaf_nodes\")\n",
    "plt.legend(frameon=False)\n",
    "sns.despine(top=True, right=True)\n",
    "plt.tight_layout()\n",
    "plt.show()"
   ]
  },
  {
   "cell_type": "code",
   "execution_count": 25,
   "metadata": {},
   "outputs": [
    {
     "data": {
      "application/vnd.jupyter.widget-view+json": {
       "model_id": "e448569dc7704126b391b95294e3556a",
       "version_major": 2,
       "version_minor": 0
      },
      "text/plain": [
       "  0%|          | 0/51 [00:00<?, ?it/s]"
      ]
     },
     "metadata": {},
     "output_type": "display_data"
    },
    {
     "name": "stdout",
     "output_type": "stream",
     "text": [
      "    max_leaf_nodes  oob_score  log_loss     auroc\n",
      "21            2210   0.925247  0.102452  0.999250\n",
      "20            2200   0.925224  0.102504  0.999247\n",
      "27            2270   0.925201  0.102266  0.999263\n",
      "26            2260   0.925201  0.102285  0.999262\n",
      "24            2240   0.925201  0.102338  0.999258\n",
      "22            2220   0.925201  0.102413  0.999253\n",
      "25            2250   0.925189  0.102310  0.999260\n",
      "17            2170   0.925189  0.102692  0.999236\n",
      "23            2230   0.925189  0.102374  0.999255\n",
      "30            2300   0.925178  0.102215  0.999267\n",
      "    max_leaf_nodes  oob_score  log_loss     auroc\n",
      "50            2500   0.925154  0.102187  0.999269\n",
      "39            2390   0.925154  0.102187  0.999269\n",
      "40            2400   0.925154  0.102187  0.999269\n",
      "41            2410   0.925154  0.102187  0.999269\n",
      "42            2420   0.925154  0.102187  0.999269\n",
      "43            2430   0.925154  0.102187  0.999269\n",
      "49            2490   0.925154  0.102187  0.999269\n",
      "45            2450   0.925154  0.102187  0.999269\n",
      "46            2460   0.925154  0.102187  0.999269\n",
      "47            2470   0.925154  0.102187  0.999269\n",
      "    max_leaf_nodes  oob_score  log_loss     auroc\n",
      "50            2500   0.925154  0.102187  0.999269\n",
      "44            2440   0.925154  0.102187  0.999269\n",
      "40            2400   0.925154  0.102187  0.999269\n",
      "41            2410   0.925154  0.102187  0.999269\n",
      "42            2420   0.925154  0.102187  0.999269\n",
      "43            2430   0.925154  0.102187  0.999269\n",
      "39            2390   0.925154  0.102187  0.999269\n",
      "45            2450   0.925154  0.102187  0.999269\n",
      "47            2470   0.925154  0.102187  0.999269\n",
      "48            2480   0.925154  0.102187  0.999269\n"
     ]
    },
    {
     "data": {
      "text/plain": [
       "<AxesSubplot:xlabel='max_leaf_nodes'>"
      ]
     },
     "execution_count": 25,
     "metadata": {},
     "output_type": "execute_result"
    },
    {
     "data": {
      "text/plain": [
       "<matplotlib.legend.Legend at 0x27d1d686ee0>"
      ]
     },
     "execution_count": 25,
     "metadata": {},
     "output_type": "execute_result"
    },
    {
     "data": {
      "image/png": "[encoded data removed]",
      "text/plain": [
       "<Figure size 432x288 with 1 Axes>"
      ]
     },
     "metadata": {
      "needs_background": "light"
     },
     "output_type": "display_data"
    },
    {
     "name": "stdout",
     "output_type": "stream",
     "text": [
      "time: 11min 6s\n"
     ]
    }
   ],
   "source": [
    "results = {\"max_leaf_nodes\": [], \"oob_score\": [], \"log_loss\": [], \"auroc\": []}\n",
    "make_rf = lambda max_leaf_nodes: RandomForestClassifier(\n",
    "    n_estimators=40,  # reduced for now to speed up training\n",
    "    criterion=\"entropy\",\n",
    "    max_features=\"sqrt\",\n",
    "    max_leaf_nodes=max_leaf_nodes,\n",
    "    random_state=SEED,\n",
    "    # verbose=1,\n",
    "    max_depth=17,\n",
    "    min_samples_split=9,\n",
    "    min_samples_leaf=4,\n",
    "    bootstrap=True,\n",
    "    oob_score=True,\n",
    "    n_jobs=-1,\n",
    "    class_weight=\"balanced_subsample\",\n",
    ")\n",
    "\n",
    "for n in tqdm([10 * i for i in range(200, 251)]):\n",
    "    model = make_rf(n).fit(data, y_true)\n",
    "    results[\"max_leaf_nodes\"].append(\n",
    "        n if n else 99999\n",
    "    )  # None means unlimited number of leaf nodes\n",
    "    results[\"oob_score\"].append(model.oob_score_)\n",
    "    results[\"auroc\"].append(\n",
    "        roc_auc_score(y_true, y_pred := model.predict_proba(data), multi_class=\"ovo\")\n",
    "    )\n",
    "    results[\"log_loss\"].append(log_loss(y_true, y_pred))\n",
    "\n",
    "# save results\n",
    "df = pd.DataFrame(results).sort_values(by=\"max_leaf_nodes\", ascending=True)\n",
    "print(df.sort_values(by=\"oob_score\", ascending=False).head(10))\n",
    "print(df.sort_values(by=\"log_loss\", ascending=True).head(10))\n",
    "print(df.sort_values(by=\"auroc\", ascending=False).head(10))\n",
    "df.columns = df.columns.astype(str)\n",
    "df.reset_index().to_feather(f\"{DATA_OUT_FOLDER}/RF_max_leaf_nodes_results7.feather\")\n",
    "\n",
    "# plot\n",
    "df.plot(x=\"max_leaf_nodes\")\n",
    "plt.legend(frameon=False)\n",
    "sns.despine(top=True, right=True)\n",
    "plt.tight_layout()\n",
    "plt.show()"
   ]
  },
  {
   "cell_type": "code",
   "execution_count": 27,
   "metadata": {},
   "outputs": [
    {
     "data": {
      "application/vnd.jupyter.widget-view+json": {
       "model_id": "bede85ded76342e1838b8af32c8e381e",
       "version_major": 2,
       "version_minor": 0
      },
      "text/plain": [
       "  0%|          | 0/31 [00:00<?, ?it/s]"
      ]
     },
     "metadata": {},
     "output_type": "display_data"
    },
    {
     "name": "stdout",
     "output_type": "stream",
     "text": [
      "    max_leaf_nodes  oob_score  log_loss     auroc\n",
      "7             2207   0.925258  0.102470  0.999250\n",
      "8             2208   0.925258  0.102464  0.999250\n",
      "6             2206   0.925247  0.102476  0.999249\n",
      "9             2209   0.925247  0.102457  0.999250\n",
      "10            2210   0.925247  0.102452  0.999250\n",
      "12            2212   0.925235  0.102444  0.999251\n",
      "13            2213   0.925235  0.102440  0.999251\n",
      "11            2211   0.925235  0.102448  0.999251\n",
      "0             2200   0.925224  0.102504  0.999247\n",
      "16            2216   0.925224  0.102428  0.999252\n",
      "    max_leaf_nodes  oob_score  log_loss     auroc\n",
      "30            2230   0.925189  0.102374  0.999255\n",
      "29            2229   0.925189  0.102377  0.999255\n",
      "28            2228   0.925189  0.102382  0.999255\n",
      "27            2227   0.925189  0.102387  0.999255\n",
      "26            2226   0.925178  0.102388  0.999254\n",
      "25            2225   0.925178  0.102391  0.999254\n",
      "24            2224   0.925178  0.102395  0.999254\n",
      "23            2223   0.925178  0.102399  0.999254\n",
      "22            2222   0.925178  0.102402  0.999254\n",
      "21            2221   0.925166  0.102408  0.999253\n",
      "    max_leaf_nodes  oob_score  log_loss     auroc\n",
      "30            2230   0.925189  0.102374  0.999255\n",
      "29            2229   0.925189  0.102377  0.999255\n",
      "28            2228   0.925189  0.102382  0.999255\n",
      "27            2227   0.925189  0.102387  0.999255\n",
      "26            2226   0.925178  0.102388  0.999254\n",
      "25            2225   0.925178  0.102391  0.999254\n",
      "24            2224   0.925178  0.102395  0.999254\n",
      "23            2223   0.925178  0.102399  0.999254\n",
      "22            2222   0.925178  0.102402  0.999254\n",
      "21            2221   0.925166  0.102408  0.999253\n"
     ]
    },
    {
     "data": {
      "text/plain": [
       "<AxesSubplot:xlabel='max_leaf_nodes'>"
      ]
     },
     "execution_count": 27,
     "metadata": {},
     "output_type": "execute_result"
    },
    {
     "data": {
      "text/plain": [
       "<matplotlib.legend.Legend at 0x27d1d6d9100>"
      ]
     },
     "execution_count": 27,
     "metadata": {},
     "output_type": "execute_result"
    },
    {
     "data": {
      "image/png": "[encoded data removed]",
      "text/plain": [
       "<Figure size 432x288 with 1 Axes>"
      ]
     },
     "metadata": {
      "needs_background": "light"
     },
     "output_type": "display_data"
    },
    {
     "name": "stdout",
     "output_type": "stream",
     "text": [
      "time: 6min 58s\n"
     ]
    }
   ],
   "source": [
    "results = {\"max_leaf_nodes\": [], \"oob_score\": [], \"log_loss\": [], \"auroc\": []}\n",
    "make_rf = lambda max_leaf_nodes: RandomForestClassifier(\n",
    "    n_estimators=40,  # reduced for now to speed up training\n",
    "    criterion=\"entropy\",\n",
    "    max_features=\"sqrt\",\n",
    "    max_leaf_nodes=max_leaf_nodes,\n",
    "    random_state=SEED,\n",
    "    # verbose=1,\n",
    "    max_depth=17,\n",
    "    min_samples_split=9,\n",
    "    min_samples_leaf=4,\n",
    "    bootstrap=True,\n",
    "    oob_score=True,\n",
    "    n_jobs=-1,\n",
    "    class_weight=\"balanced_subsample\",\n",
    ")\n",
    "\n",
    "for n in tqdm(range(2200, 2231)):\n",
    "    model = make_rf(n).fit(data, y_true)\n",
    "    results[\"max_leaf_nodes\"].append(\n",
    "        n if n else 99999\n",
    "    )  # None means unlimited number of leaf nodes\n",
    "    results[\"oob_score\"].append(model.oob_score_)\n",
    "    results[\"auroc\"].append(\n",
    "        roc_auc_score(y_true, y_pred := model.predict_proba(data), multi_class=\"ovo\")\n",
    "    )\n",
    "    results[\"log_loss\"].append(log_loss(y_true, y_pred))\n",
    "\n",
    "# save results\n",
    "df = pd.DataFrame(results).sort_values(by=\"max_leaf_nodes\", ascending=True)\n",
    "print(df.sort_values(by=\"oob_score\", ascending=False).head(10))\n",
    "print(df.sort_values(by=\"log_loss\", ascending=True).head(10))\n",
    "print(df.sort_values(by=\"auroc\", ascending=False).head(10))\n",
    "df.columns = df.columns.astype(str)\n",
    "df.reset_index().to_feather(f\"{DATA_OUT_FOLDER}/RF_max_leaf_nodes_results8.feather\")\n",
    "\n",
    "# plot\n",
    "df.plot(x=\"max_leaf_nodes\")\n",
    "plt.legend(frameon=False)\n",
    "sns.despine(top=True, right=True)\n",
    "plt.tight_layout()\n",
    "plt.show()"
   ]
  },
  {
   "cell_type": "markdown",
   "metadata": {},
   "source": [
    "# Prototype"
   ]
  },
  {
   "cell_type": "code",
   "execution_count": 28,
   "metadata": {},
   "outputs": [
    {
     "name": "stderr",
     "output_type": "stream",
     "text": [
      "[Parallel(n_jobs=-1)]: Using backend ThreadingBackend with 8 concurrent workers.\n",
      "[Parallel(n_jobs=-1)]: Done  34 tasks      | elapsed:   12.0s\n",
      "[Parallel(n_jobs=-1)]: Done 184 tasks      | elapsed:   56.9s\n",
      "[Parallel(n_jobs=-1)]: Done 342 out of 342 | elapsed:  1.8min finished\n"
     ]
    },
    {
     "name": "stdout",
     "output_type": "stream",
     "text": [
      "oob score 0.9298575248985614\n"
     ]
    },
    {
     "name": "stderr",
     "output_type": "stream",
     "text": [
      "[Parallel(n_jobs=8)]: Using backend ThreadingBackend with 8 concurrent workers.\n",
      "[Parallel(n_jobs=8)]: Done  34 tasks      | elapsed:    0.0s\n",
      "[Parallel(n_jobs=8)]: Done 184 tasks      | elapsed:    0.6s\n"
     ]
    },
    {
     "name": "stdout",
     "output_type": "stream",
     "text": [
      "log loss 0.10173454830189305\n",
      "auroc 0.9993727894991012\n",
      "time: 1min 59s\n"
     ]
    },
    {
     "name": "stderr",
     "output_type": "stream",
     "text": [
      "[Parallel(n_jobs=8)]: Done 342 out of 342 | elapsed:    1.1s finished\n"
     ]
    }
   ],
   "source": [
    "new_rf = RandomForestClassifier(\n",
    "    n_estimators=342,\n",
    "    criterion=\"entropy\",\n",
    "    max_features=\"sqrt\",\n",
    "    max_leaf_nodes=2207,\n",
    "    random_state=SEED,\n",
    "    verbose=1,\n",
    "    max_depth=17,\n",
    "    min_samples_split=9,\n",
    "    min_samples_leaf=4,\n",
    "    bootstrap=True,\n",
    "    oob_score=True,\n",
    "    n_jobs=-1,\n",
    "    class_weight=\"balanced_subsample\",\n",
    ").fit(data, y_true)\n",
    "\n",
    "print(\"oob score\", new_rf.oob_score_)\n",
    "print(\"log loss\", log_loss(y_true, y_pred := new_rf.predict_proba(data)))\n",
    "print(\"auroc\", roc_auc_score(y_true, y_pred, multi_class=\"ovo\"))"
   ]
  },
  {
   "cell_type": "markdown",
   "metadata": {},
   "source": [
    "# Discussion"
   ]
  },
  {
   "cell_type": "markdown",
   "metadata": {},
   "source": [
    "Most of these hyperparameters, usually the ones with \"min\" or \"max\" in the name, just need to be set more than they need to be tuned. We just don't want overgrown trees, so we do some light tuning w/o cross validation."
   ]
  },
  {
   "cell_type": "markdown",
   "metadata": {},
   "source": [
    "I had read earlier that increasing the number of trees in a random forest doesn't increase propensity for overfitting; overfitting is capped, so to speak. We really just had to find the plateau point, but it looks like we went beyond by a couple hundred trees, which is okay. The best score for each of the three metrics was obtained with > 300 trees, well past the plateau point.\n",
    "\n",
    "We could choose 100 trees since that is a nice number that is also past the plateau point."
   ]
  },
  {
   "cell_type": "markdown",
   "metadata": {},
   "source": [
    "max depth should be less than 20; "
   ]
  },
  {
   "cell_type": "markdown",
   "metadata": {},
   "source": [
    "edit:  this is old: min_samples_split at 2 yields the best loss and auroc, but oob score is better when this number is a little higher, up to 11. 5 seems to be a good balance"
   ]
  },
  {
   "cell_type": "markdown",
   "metadata": {},
   "source": [
    "min_samples_leaf should be < 10"
   ]
  },
  {
   "cell_type": "markdown",
   "metadata": {},
   "source": [
    "focusing on oob score, max_leaf_nodes should be set around 2700"
   ]
  },
  {
   "cell_type": "markdown",
   "metadata": {},
   "source": [
    "I can't figure out why my feature names aren't valid. When I was looking at tree importances with ExtraTrees and AdaBoost, I would sometimes get similar messages and sometimes not. As far as I can tell, I'm fitting, transforming, and predicting with the same consistent set of string-valued feature names. I even tried replacing the \"+\" character in a different notebook and am still getting these warnings. I think it may be a bug?"
   ]
  },
  {
   "cell_type": "markdown",
   "metadata": {},
   "source": [
    "There are so many more possibilities for feature engineering. Upstream augmentation of the raw audio would probably be helpful as would resampling.\n",
    "\n",
    "It's important to be disciplined now and focus on deployment. Although there are numerous points of interest where tweaking is likely to yield better results, we are only deviating slightly from the feature engineering pathway we already established."
   ]
  },
  {
   "cell_type": "code",
   "execution_count": 29,
   "metadata": {},
   "outputs": [
    {
     "name": "stdout",
     "output_type": "stream",
     "text": [
      "Time elapsed since notebook_begin_time: 86015.73464202881 s\n",
      "time: 147 ms\n"
     ]
    }
   ],
   "source": [
    "print(f\"Time elapsed since notebook_begin_time: {time() - notebook_begin_time} s\")\n",
    "_ = gc_collect()"
   ]
  },
  {
   "cell_type": "markdown",
   "metadata": {},
   "source": [
    "[^top](#Contents)"
   ]
  },
  {
   "cell_type": "code",
   "execution_count": null,
   "metadata": {},
   "outputs": [],
   "source": []
  }
 ],
 "metadata": {
  "interpreter": {
   "hash": "e1781be99c106060f3abc0c9b91d3d379f24672894e2158d4b74304109955878"
  },
  "kernelspec": {
   "display_name": "Python [conda env:capstone_pyspark_38] *",
   "language": "python",
   "name": "python3"
  },
  "language_info": {
   "codemirror_mode": {
    "name": "ipython",
    "version": 3
   },
   "file_extension": ".py",
   "mimetype": "text/x-python",
   "name": "python",
   "nbconvert_exporter": "python",
   "pygments_lexer": "ipython3",
   "version": "3.8.12"
  }
 },
 "nbformat": 4,
 "nbformat_minor": 4
}
