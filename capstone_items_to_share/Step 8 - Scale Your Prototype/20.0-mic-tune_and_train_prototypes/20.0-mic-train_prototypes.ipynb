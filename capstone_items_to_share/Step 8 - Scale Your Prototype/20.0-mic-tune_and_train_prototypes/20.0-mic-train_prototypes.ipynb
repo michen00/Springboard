{
 "cells": [
  {
   "cell_type": "markdown",
   "metadata": {},
   "source": [
    "# Contents\n",
    "* [Introduction](#Introduction)\n",
    "* [Imports and configuration](#Imports-and-configuration)\n",
    "* [Load data](#Load-data)\n",
    "* [Strata](#Strata)\n",
    "* [Hyperparameters](#Hyperparameters)\n",
    "* [Models](#Models)\n",
    "* [Evaluate](#Evaluate)\n",
    "* [Discussion](#Discussion)"
   ]
  },
  {
   "cell_type": "markdown",
   "metadata": {},
   "source": [
    "# Introduction\n",
    "\n",
    "After rounds of feature engineering, visualization & exploration, and tuning various aspects of the classification pipeline, we are about to create a benchmark prototype classifier using RandomForestClassifier. In this notebook, we perform a grid search over n_estimators using out-of-bag accuracy instead of cross validation. Other hyperparameters are based on previous 5-fold cross-validation using a related set of features."
   ]
  },
  {
   "cell_type": "markdown",
   "metadata": {},
   "source": [
    "# Imports and configuration"
   ]
  },
  {
   "cell_type": "code",
   "execution_count": 1,
   "metadata": {},
   "outputs": [],
   "source": [
    "from time import time\n",
    "\n",
    "notebook_begin_time = time()\n",
    "\n",
    "# set random seeds\n",
    "\n",
    "from os import environ\n",
    "from random import seed as random_seed\n",
    "from numpy.random import seed as np_seed\n",
    "from tensorflow.random import set_seed\n",
    "\n",
    "\n",
    "def reset_seeds(seed: int) -> None:\n",
    "    \"\"\"Utility function for resetting random seeds\"\"\"\n",
    "    environ[\"PYTHONHASHSEED\"] = str(seed)\n",
    "    random_seed(seed)\n",
    "    np_seed(seed)\n",
    "    set_seed(seed)\n",
    "\n",
    "\n",
    "reset_seeds(SEED := 2021)\n",
    "del environ\n",
    "del random_seed\n",
    "del np_seed\n",
    "del set_seed\n",
    "del reset_seeds"
   ]
  },
  {
   "cell_type": "code",
   "execution_count": 2,
   "metadata": {},
   "outputs": [],
   "source": [
    "# extensions\n",
    "%load_ext autotime\n",
    "%load_ext lab_black\n",
    "%load_ext nb_black"
   ]
  },
  {
   "cell_type": "code",
   "execution_count": 3,
   "metadata": {},
   "outputs": [
    {
     "name": "stdout",
     "output_type": "stream",
     "text": [
      "time: 3.85 s\n"
     ]
    },
    {
     "name": "stderr",
     "output_type": "stream",
     "text": [
      "Intel(R) Extension for Scikit-learn* enabled (https://github.com/intel/scikit-learn-intelex)\n"
     ]
    }
   ],
   "source": [
    "# core\n",
    "import numpy as np\n",
    "import pandas as pd\n",
    "\n",
    "# utility\n",
    "from joblib import dump\n",
    "from gc import collect as gc_collect\n",
    "from tqdm.notebook import tqdm\n",
    "\n",
    "# faster\n",
    "import swifter\n",
    "from sklearnex import patch_sklearn\n",
    "\n",
    "patch_sklearn()\n",
    "del patch_sklearn\n",
    "\n",
    "# typing\n",
    "from typing import List, Dict\n",
    "\n",
    "# metrics\n",
    "from sklearn.metrics import accuracy_score, log_loss, roc_auc_score\n",
    "\n",
    "# other sklearn\n",
    "from sklearn.calibration import CalibratedClassifierCV\n",
    "from sklearn.compose import ColumnTransformer\n",
    "from sklearn.ensemble import BaggingClassifier, RandomForestClassifier, VotingClassifier\n",
    "from sklearn.model_selection import cross_validate, StratifiedGroupKFold\n",
    "from sklearn.naive_bayes import GaussianNB\n",
    "from sklearn.pipeline import Pipeline\n",
    "\n",
    "# display outputs w/o print calls\n",
    "from IPython.core.interactiveshell import InteractiveShell\n",
    "\n",
    "InteractiveShell.ast_node_interactivity = \"all\"\n",
    "del InteractiveShell"
   ]
  },
  {
   "cell_type": "code",
   "execution_count": 4,
   "metadata": {},
   "outputs": [
    {
     "name": "stdout",
     "output_type": "stream",
     "text": [
      "time: 123 ms\n"
     ]
    }
   ],
   "source": [
    "# Location of FRILL .feather files\n",
    "FRILL_FEATHERS_FOLDER = \"../1.0-mic-extract_FRILL_embeddings\"\n",
    "\n",
    "# Location of pre-final features\n",
    "FEATURES_FOLDER = \"../19.0-mic-extract_FRILL-based_features_from_full_data\"\n",
    "\n",
    "# Location where this notebook will output\n",
    "DATA_OUT_FOLDER = \".\"\n",
    "\n",
    "_ = gc_collect()"
   ]
  },
  {
   "cell_type": "markdown",
   "metadata": {},
   "source": [
    "# Load data"
   ]
  },
  {
   "cell_type": "code",
   "execution_count": 5,
   "metadata": {},
   "outputs": [
    {
     "name": "stdout",
     "output_type": "stream",
     "text": [
      "time: 398 ms\n"
     ]
    }
   ],
   "source": [
    "def load_labels() -> pd.DataFrame:\n",
    "    \"\"\"Load just the labels\"\"\"\n",
    "    keep_columns = [\n",
    "        \"id\",\n",
    "        \"source\",\n",
    "        \"speaker_id\",\n",
    "        \"speaker_gender\",\n",
    "        \"emo\",\n",
    "        \"valence\",\n",
    "        \"lang1\",\n",
    "        \"length\",\n",
    "    ]\n",
    "    labels = pd.concat(\n",
    "        (\n",
    "            pd.read_feather(\n",
    "                f\"{FRILL_FEATHERS_FOLDER}/dev_labels.feather\", columns=keep_columns\n",
    "            ),\n",
    "            pd.read_feather(\n",
    "                f\"{FRILL_FEATHERS_FOLDER}/nondev_labels.feather\", columns=keep_columns\n",
    "            ),\n",
    "        )\n",
    "    ).set_index(\"id\")\n",
    "    return labels\n",
    "\n",
    "\n",
    "def load_data(unscaled=False) -> pd.DataFrame:\n",
    "    \"\"\"Loads the FRILL-based features\"\"\"\n",
    "    if unscaled:\n",
    "        df = pd.read_feather(\n",
    "            f\"{FEATURES_FOLDER}/unscaled_features_ready_for_selection.feather\"\n",
    "        ).set_index(\"id\")\n",
    "    else:\n",
    "        df = pd.read_feather(\n",
    "            f\"{FEATURES_FOLDER}/features_ready_for_selection.feather\"\n",
    "        ).set_index(\"id\")\n",
    "    df.columns = df.columns.astype(str)\n",
    "    return df\n",
    "\n",
    "\n",
    "data = load_data(unscaled=True)\n",
    "labels = load_labels()\n",
    "y_true = labels.valence\n",
    "gnb_features = [\"spherical-LDA1\", \"spherical-LDA2\"]\n",
    "assert all(data.index == labels.index)\n",
    "_ = gc_collect()"
   ]
  },
  {
   "cell_type": "code",
   "execution_count": 6,
   "metadata": {},
   "outputs": [
    {
     "name": "stdout",
     "output_type": "stream",
     "text": [
      "<class 'pandas.core.frame.DataFrame'>\n",
      "UInt64Index: 86752 entries, 0 to 87363\n",
      "Columns: 118 entries, theta_LDA1+LDA2 to LDA-ocSVM_poly6_pos\n",
      "dtypes: float64(118)\n",
      "memory usage: 78.8 MB\n",
      "<class 'pandas.core.frame.DataFrame'>\n",
      "UInt64Index: 86752 entries, 0 to 87363\n",
      "Data columns (total 7 columns):\n",
      " #   Column          Non-Null Count  Dtype   \n",
      "---  ------          --------------  -----   \n",
      " 0   source          86752 non-null  category\n",
      " 1   speaker_id      86752 non-null  category\n",
      " 2   speaker_gender  86752 non-null  category\n",
      " 3   emo             86752 non-null  category\n",
      " 4   valence         86752 non-null  int8    \n",
      " 5   lang1           86752 non-null  category\n",
      " 6   length          86752 non-null  category\n",
      "dtypes: category(6), int8(1)\n",
      "memory usage: 1.4 MB\n",
      "time: 30 ms\n"
     ]
    }
   ],
   "source": [
    "data.info()\n",
    "labels.info()"
   ]
  },
  {
   "cell_type": "markdown",
   "metadata": {},
   "source": [
    "# Strata"
   ]
  },
  {
   "cell_type": "code",
   "execution_count": 7,
   "metadata": {},
   "outputs": [
    {
     "name": "stderr",
     "output_type": "stream",
     "text": [
      "Pandas Apply: 100%|██████████| 86752/86752 [00:01<00:00, 79904.24it/s]"
     ]
    },
    {
     "name": "stdout",
     "output_type": "stream",
     "text": [
      "time: 1.19 s\n"
     ]
    },
    {
     "name": "stderr",
     "output_type": "stream",
     "text": [
      "\n"
     ]
    }
   ],
   "source": [
    "N_SPLITS = 7\n",
    "\n",
    "# fields are concatentated for quick permutation omitting non-existent combos\n",
    "strata = labels.loc[\n",
    "    :, [\"source\", \"speaker_gender\", \"emo\", \"valence\", \"lang1\", \"length\"]\n",
    "]\n",
    "strata.valence = strata.valence.astype(str)\n",
    "strata = strata.swifter.apply(\"\".join, axis=1)"
   ]
  },
  {
   "cell_type": "code",
   "execution_count": 8,
   "metadata": {},
   "outputs": [
    {
     "name": "stdout",
     "output_type": "stream",
     "text": [
      "time: 105 ms\n"
     ]
    }
   ],
   "source": [
    "# utility function for identifying strata with only i occurences\n",
    "def get_solo(i: int, strata_: pd.Series) -> np.ndarray:\n",
    "    \"\"\"Given a series of stratum memberships, return a shuffled array of strata with only i members.\"\"\"\n",
    "    return np.unique(\n",
    "        strata_.loc[\n",
    "            strata_.isin(\n",
    "                (strata_counts := strata_.value_counts())\n",
    "                .where(strata_counts == i)\n",
    "                .dropna()\n",
    "                .index\n",
    "            )\n",
    "        ]\n",
    "        .sample(frac=1, random_state=SEED)\n",
    "        .values\n",
    "    )\n",
    "\n",
    "\n",
    "# get solos, print stuff\n",
    "def get_onlys(\n",
    "    strata_: pd.Series, print_me: str = \"\", n_splits: int = N_SPLITS\n",
    ") -> List[Dict[int, np.ndarray]]:\n",
    "    \"\"\"Optinally prints something and returns calls of get_solo on strata_ in a list\"\"\"\n",
    "    print(print_me)\n",
    "    solos = []\n",
    "    for i in range(1, n_splits):\n",
    "        solo: np.ndarray = get_solo(i, strata_)\n",
    "        print(f\"only {i}:\", (_ := solo.size))\n",
    "        if _:  # >= 1 strata with only i samples\n",
    "            solos.append({i: solo})\n",
    "    return solos\n",
    "\n",
    "\n",
    "def process_strata(strata: pd.Series, n_splits: int = N_SPLITS) -> pd.Series:\n",
    "    \"\"\"Corrects strata membership column according to n_splits\"\"\"\n",
    "\n",
    "    count = get_onlys_calls = 0\n",
    "\n",
    "    while onlys := get_onlys(\n",
    "        strata,\n",
    "        print_me=f\"merge passes performed: {get_onlys_calls}\",\n",
    "        n_splits=n_splits,\n",
    "    ):\n",
    "        get_onlys_calls += 1\n",
    "        if len(onlys) == 1:\n",
    "            last = onlys[0]\n",
    "            strata_to_merge: np.ndarray = list(last.values())[0]\n",
    "            only_key = list(last.keys())[0]\n",
    "            tuplet_size = n_splits // only_key + (1 if n_splits % only_key else 0)\n",
    "            # perform tuplet merge\n",
    "            interval = len(strata_to_merge) // n_splits\n",
    "            for strata_tuplet in zip(\n",
    "                *[\n",
    "                    strata_to_merge[interval * i : interval * (i + 1)]\n",
    "                    for i in range(tuplet_size)\n",
    "                ]\n",
    "            ):\n",
    "                strata = strata.replace(strata_tuplet, f\"stratum_group_{count}\")\n",
    "                count += 1\n",
    "            remainder = strata_to_merge[tuplet_size * interval :]\n",
    "            if len(remainder) == 1:\n",
    "                # process remainder unmatched\n",
    "                n = n_splits\n",
    "                strata_counts = strata.value_counts()\n",
    "                while not (candidates := strata_counts.loc[strata_counts == n]).size:\n",
    "                    n += 1\n",
    "                strata = strata.replace(\n",
    "                    [remainder[0], candidates.sample(n=1, random_state=SEED).index[0]],\n",
    "                    f\"stratum_group_{count}\",\n",
    "                )\n",
    "                count += 1\n",
    "            else:\n",
    "                # self-pair last\n",
    "                remainder = remainder.tolist()\n",
    "                while len(remainder) >= 2:\n",
    "                    strata = strata.replace(\n",
    "                        (remainder.pop(), remainder.pop()), f\"stratum_group_{count}\"\n",
    "                    )\n",
    "                    count += 1\n",
    "        else:\n",
    "            pop_onlys = lambda _: list(onlys.pop(_).values())[0].tolist()\n",
    "            while len(onlys) >= 2:\n",
    "                # pop the ends\n",
    "                shortside = pop_onlys(0)\n",
    "                longside = pop_onlys(-1)\n",
    "                # merge until one end empty\n",
    "                while shortside and longside:\n",
    "                    strata = strata.replace(\n",
    "                        (shortside.pop(), longside.pop()), f\"stratum_group_{count}\"\n",
    "                    )\n",
    "                    count += 1\n",
    "            if onlys:\n",
    "                # self-pair middle\n",
    "                remainder = pop_onlys(0)\n",
    "                while len(remainder) >= 2:\n",
    "                    strata = strata.replace(\n",
    "                        (remainder.pop(), remainder.pop()), f\"stratum_group_{count}\"\n",
    "                    )\n",
    "                    count += 1\n",
    "    return strata\n",
    "\n",
    "\n",
    "_ = gc_collect()"
   ]
  },
  {
   "cell_type": "code",
   "execution_count": 9,
   "metadata": {},
   "outputs": [
    {
     "name": "stdout",
     "output_type": "stream",
     "text": [
      "merge passes performed: 0\n",
      "only 1: 53\n",
      "only 2: 39\n",
      "only 3: 31\n",
      "only 4: 17\n",
      "only 5: 27\n",
      "only 6: 13\n",
      "merge passes performed: 1\n",
      "only 1: 40\n",
      "only 2: 12\n",
      "only 3: 14\n",
      "only 4: 0\n",
      "only 5: 0\n",
      "only 6: 0\n",
      "merge passes performed: 2\n",
      "only 1: 26\n",
      "only 2: 0\n",
      "only 3: 0\n",
      "only 4: 20\n",
      "only 5: 0\n",
      "only 6: 0\n",
      "merge passes performed: 3\n",
      "only 1: 6\n",
      "only 2: 0\n",
      "only 3: 0\n",
      "only 4: 0\n",
      "only 5: 20\n",
      "only 6: 0\n",
      "merge passes performed: 4\n",
      "only 1: 0\n",
      "only 2: 0\n",
      "only 3: 0\n",
      "only 4: 0\n",
      "only 5: 14\n",
      "only 6: 6\n",
      "merge passes performed: 5\n",
      "only 1: 0\n",
      "only 2: 0\n",
      "only 3: 0\n",
      "only 4: 0\n",
      "only 5: 8\n",
      "only 6: 0\n",
      "merge passes performed: 6\n",
      "only 1: 0\n",
      "only 2: 0\n",
      "only 3: 0\n",
      "only 4: 0\n",
      "only 5: 0\n",
      "only 6: 0\n"
     ]
    },
    {
     "data": {
      "text/plain": [
       "MELDmneu1engmedium               2905\n",
       "MELDfneu1engmedium               2452\n",
       "esdfhap2engmedium                1750\n",
       "esdmneu1cmnmedium                1750\n",
       "esdfsur0engmedium                1750\n",
       "                                 ... \n",
       "LimaCastroScottmamu2___medium       7\n",
       "stratum_group_56                    7\n",
       "stratum_group_50                    7\n",
       "LimaCastroScottfdis0___medium       7\n",
       "stratum_group_54                    7\n",
       "Length: 455, dtype: int64"
      ]
     },
     "execution_count": 9,
     "metadata": {},
     "output_type": "execute_result"
    },
    {
     "name": "stdout",
     "output_type": "stream",
     "text": [
      "time: 2.46 s\n"
     ]
    }
   ],
   "source": [
    "STRATA = process_strata(strata, n_splits=N_SPLITS)\n",
    "STRATA.value_counts()\n",
    "cross_validator = lambda: StratifiedGroupKFold(\n",
    "    n_splits=N_SPLITS, shuffle=True, random_state=SEED\n",
    ").split(X=data, y=STRATA, groups=labels.speaker_id)"
   ]
  },
  {
   "cell_type": "markdown",
   "metadata": {},
   "source": [
    "# Hyperparameters"
   ]
  },
  {
   "cell_type": "code",
   "execution_count": 10,
   "metadata": {},
   "outputs": [
    {
     "name": "stdout",
     "output_type": "stream",
     "text": [
      "time: 144 ms\n"
     ]
    }
   ],
   "source": [
    "rf_params = lambda: {\n",
    "    \"n_estimators\": 342,\n",
    "    \"criterion\": \"entropy\",\n",
    "    \"max_depth\": 17,\n",
    "    \"min_samples_split\": 9,\n",
    "    \"min_samples_leaf\": 4,\n",
    "    \"max_features\": \"sqrt\",\n",
    "    \"max_leaf_nodes\": 2207,\n",
    "    \"bootstrap\": True,\n",
    "    \"oob_score\": True,\n",
    "    \"n_jobs\": -1,\n",
    "    \"random_state\": SEED,\n",
    "    \"warm_start\": False,\n",
    "    \"class_weight\": \"balanced_subsample\",\n",
    "}\n",
    "\n",
    "var_smoothing = 0.10556503264086932\n",
    "gnb_params = lambda: {\n",
    "    \"base_estimator\": GaussianNB(var_smoothing=var_smoothing),\n",
    "    \"n_estimators\": 23,\n",
    "    \"oob_score\": True,\n",
    "    \"warm_start\": False,\n",
    "    \"n_jobs\": -1,\n",
    "    \"random_state\": SEED,\n",
    "}\n",
    "\n",
    "calibration_params = lambda: {\n",
    "    \"method\": \"isotonic\",\n",
    "    \"cv\": list(cross_validator()),\n",
    "    \"n_jobs\": -1,\n",
    "}\n",
    "\n",
    "_ = gc_collect()"
   ]
  },
  {
   "cell_type": "markdown",
   "metadata": {},
   "source": [
    "# Models"
   ]
  },
  {
   "cell_type": "code",
   "execution_count": 11,
   "metadata": {},
   "outputs": [
    {
     "name": "stdout",
     "output_type": "stream",
     "text": [
      "time: 125 ms\n"
     ]
    }
   ],
   "source": [
    "gnb_data = data.loc[:, gnb_features]\n",
    "plain_gnb = lambda: GaussianNB(var_smoothing=var_smoothing).fit(gnb_data, y_true)\n",
    "bagging_gnb = lambda: BaggingClassifier(**gnb_params()).fit(gnb_data, y_true)\n",
    "rf = lambda: RandomForestClassifier(**rf_params()).fit(data, y_true)\n",
    "voting = lambda: VotingClassifier(\n",
    "    estimators=[\n",
    "        (\n",
    "            \"rf\",\n",
    "            CalibratedClassifierCV(\n",
    "                base_estimator=RandomForestClassifier(**rf_params()),\n",
    "                **calibration_params()\n",
    "            ),\n",
    "        ),\n",
    "        (\n",
    "            \"gnb\",\n",
    "            Pipeline(\n",
    "                steps=[\n",
    "                    (\n",
    "                        \"select_features\",\n",
    "                        ColumnTransformer(\n",
    "                            transformers=[(\"selector\", \"passthrough\", gnb_features)],\n",
    "                            n_jobs=-1,\n",
    "                        ),\n",
    "                    ),\n",
    "                    (\n",
    "                        \"clf\",\n",
    "                        CalibratedClassifierCV(\n",
    "                            base_estimator=BaggingClassifier(**gnb_params()),\n",
    "                            **calibration_params()\n",
    "                        ),\n",
    "                    ),\n",
    "                ]\n",
    "            ),\n",
    "        ),\n",
    "    ],\n",
    "    voting=\"soft\",\n",
    "    n_jobs=-1,\n",
    ").fit(data, y_true)\n",
    "\n",
    "_ = gc_collect()"
   ]
  },
  {
   "cell_type": "code",
   "execution_count": 12,
   "metadata": {},
   "outputs": [
    {
     "name": "stderr",
     "output_type": "stream",
     "text": [
      "C:\\Users\\michen\\miniconda3\\envs\\capstone_pyspark_38\\lib\\site-packages\\sklearn\\ensemble\\_bagging.py:706: UserWarning: Some inputs do not have OOB scores. This probably means too few estimators were used to compute any reliable oob estimates.\n",
      "  warn(\n",
      "C:\\Users\\michen\\miniconda3\\envs\\capstone_pyspark_38\\lib\\site-packages\\sklearn\\ensemble\\_bagging.py:712: RuntimeWarning: invalid value encountered in true_divide\n",
      "  oob_decision_function = predictions / predictions.sum(axis=1)[:, np.newaxis]\n",
      "C:\\Users\\michen\\miniconda3\\envs\\capstone_pyspark_38\\lib\\site-packages\\sklearn\\base.py:445: UserWarning: X does not have valid feature names, but RandomForestClassifier was fitted with feature names\n",
      "  warnings.warn(\n"
     ]
    },
    {
     "name": "stdout",
     "output_type": "stream",
     "text": [
      "time: 12min 52s\n"
     ]
    }
   ],
   "source": [
    "models = {\n",
    "    \"plain_GNB\": plain_gnb(),\n",
    "    \"bagging_GNB\": bagging_gnb(),\n",
    "    \"randomforest\": rf(),\n",
    "    \"voting_ensemble\": voting(),\n",
    "}"
   ]
  },
  {
   "cell_type": "code",
   "execution_count": 13,
   "metadata": {},
   "outputs": [
    {
     "data": {
      "application/vnd.jupyter.widget-view+json": {
       "model_id": "f0d5a83022414ffd8217345f981e21d1",
       "version_major": 2,
       "version_minor": 0
      },
      "text/plain": [
       "  0%|          | 0/4 [00:00<?, ?it/s]"
      ]
     },
     "metadata": {},
     "output_type": "display_data"
    },
    {
     "data": {
      "text/plain": [
       "['./prototypes/plain_GNB.joblib']"
      ]
     },
     "execution_count": 13,
     "metadata": {},
     "output_type": "execute_result"
    },
    {
     "data": {
      "text/plain": [
       "['./prototypes/bagging_GNB.joblib']"
      ]
     },
     "execution_count": 13,
     "metadata": {},
     "output_type": "execute_result"
    },
    {
     "data": {
      "text/plain": [
       "['./prototypes/randomforest.joblib']"
      ]
     },
     "execution_count": 13,
     "metadata": {},
     "output_type": "execute_result"
    },
    {
     "data": {
      "text/plain": [
       "['./prototypes/voting_ensemble.joblib']"
      ]
     },
     "execution_count": 13,
     "metadata": {},
     "output_type": "execute_result"
    },
    {
     "name": "stdout",
     "output_type": "stream",
     "text": [
      "time: 2.83 s\n"
     ]
    }
   ],
   "source": [
    "for model, estimator in tqdm(models.items()):\n",
    "    dump(estimator, f\"{DATA_OUT_FOLDER}/prototypes/{model}.joblib\")"
   ]
  },
  {
   "cell_type": "markdown",
   "metadata": {},
   "source": [
    "# Evaluate"
   ]
  },
  {
   "cell_type": "code",
   "execution_count": 14,
   "metadata": {},
   "outputs": [
    {
     "name": "stdout",
     "output_type": "stream",
     "text": [
      "0.8737665990409443\n",
      "0.9298575248985614\n",
      "time: 131 ms\n"
     ]
    }
   ],
   "source": [
    "print(models[\"bagging_GNB\"].oob_score_)\n",
    "print(models[\"randomforest\"].oob_score_)\n",
    "_ = gc_collect()"
   ]
  },
  {
   "cell_type": "code",
   "execution_count": 15,
   "metadata": {},
   "outputs": [
    {
     "name": "stdout",
     "output_type": "stream",
     "text": [
      "time: 106 ms\n"
     ]
    }
   ],
   "source": [
    "metrics = [\"accuracy\", \"neg_log_loss\", \"roc_auc_ovo\"]\n",
    "_ = gc_collect()"
   ]
  },
  {
   "cell_type": "code",
   "execution_count": 16,
   "metadata": {},
   "outputs": [
    {
     "data": {
      "application/vnd.jupyter.widget-view+json": {
       "model_id": "9775483b1003444bb63cb50639424ee1",
       "version_major": 2,
       "version_minor": 0
      },
      "text/plain": [
       "  0%|          | 0/4 [00:00<?, ?it/s]"
      ]
     },
     "metadata": {},
     "output_type": "display_data"
    },
    {
     "name": "stdout",
     "output_type": "stream",
     "text": [
      "time: 9min 34s\n"
     ]
    }
   ],
   "source": [
    "cross_val_scores: Dict[str, Dict[str, float]] = {}\n",
    "for model, estimator in tqdm(models.items()):\n",
    "    if model == \"voting_ensemble\":\n",
    "        continue\n",
    "    cross_val_scores[model] = cross_validate(\n",
    "        estimator=estimator,\n",
    "        X=data.loc[:, gnb_features] if \"GNB\" in model else data,\n",
    "        y=y_true,\n",
    "        scoring=metrics,\n",
    "        groups=labels.speaker_id,\n",
    "        cv=cross_validator(),\n",
    "        n_jobs=-1,\n",
    "        error_score=\"raise\",\n",
    "    )"
   ]
  },
  {
   "cell_type": "code",
   "execution_count": 17,
   "metadata": {},
   "outputs": [
    {
     "data": {
      "text/html": [
       "<div>\n",
       "<style scoped>\n",
       "    .dataframe tbody tr th:only-of-type {\n",
       "        vertical-align: middle;\n",
       "    }\n",
       "\n",
       "    .dataframe tbody tr th {\n",
       "        vertical-align: top;\n",
       "    }\n",
       "\n",
       "    .dataframe thead th {\n",
       "        text-align: right;\n",
       "    }\n",
       "</style>\n",
       "<table border=\"1\" class=\"dataframe\">\n",
       "  <thead>\n",
       "    <tr style=\"text-align: right;\">\n",
       "      <th></th>\n",
       "      <th>model</th>\n",
       "      <th>metric</th>\n",
       "      <th>mean_score</th>\n",
       "      <th>fit_time</th>\n",
       "      <th>score_time</th>\n",
       "    </tr>\n",
       "  </thead>\n",
       "  <tbody>\n",
       "    <tr>\n",
       "      <th>0</th>\n",
       "      <td>plain_GNB</td>\n",
       "      <td>accuracy</td>\n",
       "      <td>0.874059</td>\n",
       "      <td>0.042411</td>\n",
       "      <td>0.044643</td>\n",
       "    </tr>\n",
       "    <tr>\n",
       "      <th>1</th>\n",
       "      <td>plain_GNB</td>\n",
       "      <td>neg_log_loss</td>\n",
       "      <td>-0.331784</td>\n",
       "      <td>0.042411</td>\n",
       "      <td>0.044643</td>\n",
       "    </tr>\n",
       "    <tr>\n",
       "      <th>2</th>\n",
       "      <td>plain_GNB</td>\n",
       "      <td>roc_auc_ovo</td>\n",
       "      <td>0.970611</td>\n",
       "      <td>0.042411</td>\n",
       "      <td>0.044643</td>\n",
       "    </tr>\n",
       "    <tr>\n",
       "      <th>3</th>\n",
       "      <td>bagging_GNB</td>\n",
       "      <td>accuracy</td>\n",
       "      <td>0.874098</td>\n",
       "      <td>0.953775</td>\n",
       "      <td>0.174110</td>\n",
       "    </tr>\n",
       "    <tr>\n",
       "      <th>4</th>\n",
       "      <td>bagging_GNB</td>\n",
       "      <td>neg_log_loss</td>\n",
       "      <td>-0.331794</td>\n",
       "      <td>0.953775</td>\n",
       "      <td>0.174110</td>\n",
       "    </tr>\n",
       "    <tr>\n",
       "      <th>5</th>\n",
       "      <td>bagging_GNB</td>\n",
       "      <td>roc_auc_ovo</td>\n",
       "      <td>0.970609</td>\n",
       "      <td>0.953775</td>\n",
       "      <td>0.174110</td>\n",
       "    </tr>\n",
       "    <tr>\n",
       "      <th>6</th>\n",
       "      <td>randomforest</td>\n",
       "      <td>accuracy</td>\n",
       "      <td>0.925451</td>\n",
       "      <td>549.847078</td>\n",
       "      <td>2.863276</td>\n",
       "    </tr>\n",
       "    <tr>\n",
       "      <th>7</th>\n",
       "      <td>randomforest</td>\n",
       "      <td>neg_log_loss</td>\n",
       "      <td>-0.204123</td>\n",
       "      <td>549.847078</td>\n",
       "      <td>2.863276</td>\n",
       "    </tr>\n",
       "    <tr>\n",
       "      <th>8</th>\n",
       "      <td>randomforest</td>\n",
       "      <td>roc_auc_ovo</td>\n",
       "      <td>0.988636</td>\n",
       "      <td>549.847078</td>\n",
       "      <td>2.863276</td>\n",
       "    </tr>\n",
       "  </tbody>\n",
       "</table>\n",
       "</div>"
      ],
      "text/plain": [
       "          model        metric  mean_score    fit_time  score_time\n",
       "0     plain_GNB      accuracy    0.874059    0.042411    0.044643\n",
       "1     plain_GNB  neg_log_loss   -0.331784    0.042411    0.044643\n",
       "2     plain_GNB   roc_auc_ovo    0.970611    0.042411    0.044643\n",
       "3   bagging_GNB      accuracy    0.874098    0.953775    0.174110\n",
       "4   bagging_GNB  neg_log_loss   -0.331794    0.953775    0.174110\n",
       "5   bagging_GNB   roc_auc_ovo    0.970609    0.953775    0.174110\n",
       "6  randomforest      accuracy    0.925451  549.847078    2.863276\n",
       "7  randomforest  neg_log_loss   -0.204123  549.847078    2.863276\n",
       "8  randomforest   roc_auc_ovo    0.988636  549.847078    2.863276"
      ]
     },
     "execution_count": 17,
     "metadata": {},
     "output_type": "execute_result"
    },
    {
     "name": "stdout",
     "output_type": "stream",
     "text": [
      "time: 20 ms\n"
     ]
    }
   ],
   "source": [
    "results = {\n",
    "    \"model\": [],\n",
    "    \"metric\": [],\n",
    "    \"mean_score\": [],\n",
    "    \"fit_time\": [],\n",
    "    \"score_time\": [],\n",
    "}\n",
    "for model, score_dict in cross_val_scores.items():\n",
    "    for metric in metrics:\n",
    "        results[\"model\"].append(model)\n",
    "        results[\"metric\"].append(metric)\n",
    "        results[\"mean_score\"].append(np.mean(score_dict[f\"test_{metric}\"]))\n",
    "        results[\"fit_time\"].append(np.mean(score_dict[\"fit_time\"]))\n",
    "        results[\"score_time\"].append(np.mean(score_dict[\"score_time\"]))\n",
    "results = pd.DataFrame(results)\n",
    "results"
   ]
  },
  {
   "cell_type": "code",
   "execution_count": 18,
   "metadata": {},
   "outputs": [
    {
     "name": "stdout",
     "output_type": "stream",
     "text": [
      "time: 10 ms\n"
     ]
    }
   ],
   "source": [
    "results.reset_index(drop=True).to_csv(f\"{DATA_OUT_FOLDER}/7-fold_CV_scores.csv\")"
   ]
  },
  {
   "cell_type": "markdown",
   "metadata": {},
   "source": [
    "I'm having trouble scoring the voting ensemble in the same way as the others, so we'll do that manually. I think the internal custom CV object is causing issues."
   ]
  },
  {
   "cell_type": "code",
   "execution_count": 19,
   "metadata": {},
   "outputs": [
    {
     "name": "stderr",
     "output_type": "stream",
     "text": [
      "Pandas Apply: 100%|██████████| 74180/74180 [00:00<00:00, 95787.28it/s] \n"
     ]
    },
    {
     "name": "stdout",
     "output_type": "stream",
     "text": [
      "merge passes performed: 0\n",
      "only 1: 51\n",
      "only 2: 49\n",
      "only 3: 25\n",
      "only 4: 25\n",
      "only 5: 21\n",
      "only 6: 8\n",
      "merge passes performed: 1\n",
      "only 1: 43\n",
      "only 2: 28\n",
      "only 3: 0\n",
      "only 4: 0\n",
      "only 5: 0\n",
      "only 6: 0\n",
      "merge passes performed: 2\n",
      "only 1: 15\n",
      "only 2: 0\n",
      "only 3: 28\n",
      "only 4: 0\n",
      "only 5: 0\n",
      "only 6: 0\n",
      "merge passes performed: 3\n",
      "only 1: 0\n",
      "only 2: 0\n",
      "only 3: 13\n",
      "only 4: 15\n",
      "only 5: 0\n",
      "only 6: 0\n",
      "merge passes performed: 4\n",
      "only 1: 0\n",
      "only 2: 0\n",
      "only 3: 0\n",
      "only 4: 2\n",
      "only 5: 0\n",
      "only 6: 0\n",
      "merge passes performed: 5\n",
      "only 1: 0\n",
      "only 2: 0\n",
      "only 3: 0\n",
      "only 4: 0\n",
      "only 5: 0\n",
      "only 6: 0\n"
     ]
    },
    {
     "data": {
      "text/plain": [
       "VotingClassifier(estimators=[('rf',\n",
       "                              CalibratedClassifierCV(base_estimator=RandomForestClassifier(class_weight='balanced_subsample',\n",
       "                                                                                           criterion='entropy',\n",
       "                                                                                           max_depth=17,\n",
       "                                                                                           max_features='sqrt',\n",
       "                                                                                           max_leaf_nodes=2207,\n",
       "                                                                                           min_samples_leaf=4,\n",
       "                                                                                           min_samples_split=9,\n",
       "                                                                                           n_estimators=342,\n",
       "                                                                                           n_jobs=-1,\n",
       "                                                                                           oob_score=True,\n",
       "                                                                                           random_state=2021),\n",
       "                                                     cv=[(array([    0,     1,     2, ..., 74177, 74178, 74179]),\n",
       "                                                          array...\n",
       "                                                                          (array([    0,     1,     2, ..., 74123, 74124, 74125]),\n",
       "                                                                           array([  326,   327,   328, ..., 74177, 74178, 74179])),\n",
       "                                                                          (array([   12,    13,    14, ..., 74177, 74178, 74179]),\n",
       "                                                                           array([    0,     1,     2, ..., 73175, 73176, 73177])),\n",
       "                                                                          (array([    0,     1,     2, ..., 74177, 74178, 74179]),\n",
       "                                                                           array([  380,   381,   382, ..., 74123, 74124, 74125])),\n",
       "                                                                          (array([    0,     1,     2, ..., 74177, 74178, 74179]),\n",
       "                                                                           array([  348,   349,   350, ..., 73928, 73929, 73930]))],\n",
       "                                                                      method='isotonic',\n",
       "                                                                      n_jobs=-1))]))],\n",
       "                 n_jobs=-1, voting='soft')"
      ]
     },
     "execution_count": 19,
     "metadata": {},
     "output_type": "execute_result"
    },
    {
     "name": "stderr",
     "output_type": "stream",
     "text": [
      "C:\\Users\\michen\\miniconda3\\envs\\capstone_pyspark_38\\lib\\site-packages\\sklearn\\base.py:445: UserWarning: X does not have valid feature names, but RandomForestClassifier was fitted with feature names\n",
      "  warnings.warn(\n",
      "C:\\Users\\michen\\miniconda3\\envs\\capstone_pyspark_38\\lib\\site-packages\\sklearn\\base.py:445: UserWarning: X does not have valid feature names, but RandomForestClassifier was fitted with feature names\n",
      "  warnings.warn(\n",
      "C:\\Users\\michen\\miniconda3\\envs\\capstone_pyspark_38\\lib\\site-packages\\sklearn\\base.py:445: UserWarning: X does not have valid feature names, but RandomForestClassifier was fitted with feature names\n",
      "  warnings.warn(\n",
      "C:\\Users\\michen\\miniconda3\\envs\\capstone_pyspark_38\\lib\\site-packages\\sklearn\\base.py:445: UserWarning: X does not have valid feature names, but RandomForestClassifier was fitted with feature names\n",
      "  warnings.warn(\n",
      "C:\\Users\\michen\\miniconda3\\envs\\capstone_pyspark_38\\lib\\site-packages\\sklearn\\base.py:445: UserWarning: X does not have valid feature names, but RandomForestClassifier was fitted with feature names\n",
      "  warnings.warn(\n",
      "C:\\Users\\michen\\miniconda3\\envs\\capstone_pyspark_38\\lib\\site-packages\\sklearn\\base.py:445: UserWarning: X does not have valid feature names, but RandomForestClassifier was fitted with feature names\n",
      "  warnings.warn(\n",
      "C:\\Users\\michen\\miniconda3\\envs\\capstone_pyspark_38\\lib\\site-packages\\sklearn\\base.py:445: UserWarning: X does not have valid feature names, but RandomForestClassifier was fitted with feature names\n",
      "  warnings.warn(\n",
      "C:\\Users\\michen\\miniconda3\\envs\\capstone_pyspark_38\\lib\\site-packages\\sklearn\\base.py:445: UserWarning: X does not have valid feature names, but RandomForestClassifier was fitted with feature names\n",
      "  warnings.warn(\n",
      "C:\\Users\\michen\\miniconda3\\envs\\capstone_pyspark_38\\lib\\site-packages\\sklearn\\base.py:445: UserWarning: X does not have valid feature names, but RandomForestClassifier was fitted with feature names\n",
      "  warnings.warn(\n",
      "C:\\Users\\michen\\miniconda3\\envs\\capstone_pyspark_38\\lib\\site-packages\\sklearn\\base.py:445: UserWarning: X does not have valid feature names, but RandomForestClassifier was fitted with feature names\n",
      "  warnings.warn(\n",
      "C:\\Users\\michen\\miniconda3\\envs\\capstone_pyspark_38\\lib\\site-packages\\sklearn\\base.py:445: UserWarning: X does not have valid feature names, but RandomForestClassifier was fitted with feature names\n",
      "  warnings.warn(\n",
      "C:\\Users\\michen\\miniconda3\\envs\\capstone_pyspark_38\\lib\\site-packages\\sklearn\\base.py:445: UserWarning: X does not have valid feature names, but RandomForestClassifier was fitted with feature names\n",
      "  warnings.warn(\n",
      "C:\\Users\\michen\\miniconda3\\envs\\capstone_pyspark_38\\lib\\site-packages\\sklearn\\base.py:445: UserWarning: X does not have valid feature names, but RandomForestClassifier was fitted with feature names\n",
      "  warnings.warn(\n",
      "C:\\Users\\michen\\miniconda3\\envs\\capstone_pyspark_38\\lib\\site-packages\\sklearn\\base.py:445: UserWarning: X does not have valid feature names, but RandomForestClassifier was fitted with feature names\n",
      "  warnings.warn(\n",
      "Pandas Apply: 100%|██████████| 68212/68212 [00:00<00:00, 83185.71it/s]\n"
     ]
    },
    {
     "name": "stdout",
     "output_type": "stream",
     "text": [
      "merge passes performed: 0\n",
      "only 1: 51\n",
      "only 2: 41\n",
      "only 3: 31\n",
      "only 4: 20\n",
      "only 5: 15\n",
      "only 6: 8\n",
      "merge passes performed: 1\n",
      "only 1: 43\n",
      "only 2: 26\n",
      "only 3: 11\n",
      "only 4: 0\n",
      "only 5: 0\n",
      "only 6: 0\n",
      "merge passes performed: 2\n",
      "only 1: 32\n",
      "only 2: 0\n",
      "only 3: 0\n",
      "only 4: 24\n",
      "only 5: 0\n",
      "only 6: 0\n",
      "merge passes performed: 3\n",
      "only 1: 8\n",
      "only 2: 0\n",
      "only 3: 0\n",
      "only 4: 0\n",
      "only 5: 24\n",
      "only 6: 0\n",
      "merge passes performed: 4\n",
      "only 1: 0\n",
      "only 2: 0\n",
      "only 3: 0\n",
      "only 4: 0\n",
      "only 5: 16\n",
      "only 6: 8\n",
      "merge passes performed: 5\n",
      "only 1: 0\n",
      "only 2: 0\n",
      "only 3: 0\n",
      "only 4: 0\n",
      "only 5: 8\n",
      "only 6: 0\n",
      "merge passes performed: 6\n",
      "only 1: 0\n",
      "only 2: 0\n",
      "only 3: 0\n",
      "only 4: 0\n",
      "only 5: 0\n",
      "only 6: 0\n"
     ]
    },
    {
     "data": {
      "text/plain": [
       "VotingClassifier(estimators=[('rf',\n",
       "                              CalibratedClassifierCV(base_estimator=RandomForestClassifier(class_weight='balanced_subsample',\n",
       "                                                                                           criterion='entropy',\n",
       "                                                                                           max_depth=17,\n",
       "                                                                                           max_features='sqrt',\n",
       "                                                                                           max_leaf_nodes=2207,\n",
       "                                                                                           min_samples_leaf=4,\n",
       "                                                                                           min_samples_split=9,\n",
       "                                                                                           n_estimators=342,\n",
       "                                                                                           n_jobs=-1,\n",
       "                                                                                           oob_score=True,\n",
       "                                                                                           random_state=2021),\n",
       "                                                     cv=[(array([    0,     1,     2, ..., 68209, 68210, 68211]),\n",
       "                                                          array...\n",
       "                                                                          (array([    0,     1,     2, ..., 68209, 68210, 68211]),\n",
       "                                                                           array([  401,   402,   403, ..., 67295, 67358, 67359])),\n",
       "                                                                          (array([    0,     1,     2, ..., 68209, 68210, 68211]),\n",
       "                                                                           array([  774,   775,   776, ..., 67351, 67352, 67353])),\n",
       "                                                                          (array([   18,    19,    20, ..., 68209, 68210, 68211]),\n",
       "                                                                           array([    0,     1,     2, ..., 67749, 67750, 67751])),\n",
       "                                                                          (array([    0,     1,     2, ..., 68155, 68156, 68157]),\n",
       "                                                                           array([  424,   425,   426, ..., 68209, 68210, 68211]))],\n",
       "                                                                      method='isotonic',\n",
       "                                                                      n_jobs=-1))]))],\n",
       "                 n_jobs=-1, voting='soft')"
      ]
     },
     "execution_count": 19,
     "metadata": {},
     "output_type": "execute_result"
    },
    {
     "name": "stderr",
     "output_type": "stream",
     "text": [
      "C:\\Users\\michen\\miniconda3\\envs\\capstone_pyspark_38\\lib\\site-packages\\sklearn\\base.py:445: UserWarning: X does not have valid feature names, but RandomForestClassifier was fitted with feature names\n",
      "  warnings.warn(\n",
      "C:\\Users\\michen\\miniconda3\\envs\\capstone_pyspark_38\\lib\\site-packages\\sklearn\\base.py:445: UserWarning: X does not have valid feature names, but RandomForestClassifier was fitted with feature names\n",
      "  warnings.warn(\n",
      "C:\\Users\\michen\\miniconda3\\envs\\capstone_pyspark_38\\lib\\site-packages\\sklearn\\base.py:445: UserWarning: X does not have valid feature names, but RandomForestClassifier was fitted with feature names\n",
      "  warnings.warn(\n",
      "C:\\Users\\michen\\miniconda3\\envs\\capstone_pyspark_38\\lib\\site-packages\\sklearn\\base.py:445: UserWarning: X does not have valid feature names, but RandomForestClassifier was fitted with feature names\n",
      "  warnings.warn(\n",
      "C:\\Users\\michen\\miniconda3\\envs\\capstone_pyspark_38\\lib\\site-packages\\sklearn\\base.py:445: UserWarning: X does not have valid feature names, but RandomForestClassifier was fitted with feature names\n",
      "  warnings.warn(\n",
      "C:\\Users\\michen\\miniconda3\\envs\\capstone_pyspark_38\\lib\\site-packages\\sklearn\\base.py:445: UserWarning: X does not have valid feature names, but RandomForestClassifier was fitted with feature names\n",
      "  warnings.warn(\n",
      "C:\\Users\\michen\\miniconda3\\envs\\capstone_pyspark_38\\lib\\site-packages\\sklearn\\base.py:445: UserWarning: X does not have valid feature names, but RandomForestClassifier was fitted with feature names\n",
      "  warnings.warn(\n",
      "C:\\Users\\michen\\miniconda3\\envs\\capstone_pyspark_38\\lib\\site-packages\\sklearn\\base.py:445: UserWarning: X does not have valid feature names, but RandomForestClassifier was fitted with feature names\n",
      "  warnings.warn(\n",
      "C:\\Users\\michen\\miniconda3\\envs\\capstone_pyspark_38\\lib\\site-packages\\sklearn\\base.py:445: UserWarning: X does not have valid feature names, but RandomForestClassifier was fitted with feature names\n",
      "  warnings.warn(\n",
      "C:\\Users\\michen\\miniconda3\\envs\\capstone_pyspark_38\\lib\\site-packages\\sklearn\\base.py:445: UserWarning: X does not have valid feature names, but RandomForestClassifier was fitted with feature names\n",
      "  warnings.warn(\n",
      "C:\\Users\\michen\\miniconda3\\envs\\capstone_pyspark_38\\lib\\site-packages\\sklearn\\base.py:445: UserWarning: X does not have valid feature names, but RandomForestClassifier was fitted with feature names\n",
      "  warnings.warn(\n",
      "C:\\Users\\michen\\miniconda3\\envs\\capstone_pyspark_38\\lib\\site-packages\\sklearn\\base.py:445: UserWarning: X does not have valid feature names, but RandomForestClassifier was fitted with feature names\n",
      "  warnings.warn(\n",
      "C:\\Users\\michen\\miniconda3\\envs\\capstone_pyspark_38\\lib\\site-packages\\sklearn\\base.py:445: UserWarning: X does not have valid feature names, but RandomForestClassifier was fitted with feature names\n",
      "  warnings.warn(\n",
      "C:\\Users\\michen\\miniconda3\\envs\\capstone_pyspark_38\\lib\\site-packages\\sklearn\\base.py:445: UserWarning: X does not have valid feature names, but RandomForestClassifier was fitted with feature names\n",
      "  warnings.warn(\n",
      "Pandas Apply: 100%|██████████| 78765/78765 [00:00<00:00, 89328.42it/s]\n"
     ]
    },
    {
     "name": "stdout",
     "output_type": "stream",
     "text": [
      "merge passes performed: 0\n",
      "only 1: 53\n",
      "only 2: 45\n",
      "only 3: 25\n",
      "only 4: 18\n",
      "only 5: 26\n",
      "only 6: 17\n",
      "merge passes performed: 1\n",
      "only 1: 36\n",
      "only 2: 19\n",
      "only 3: 7\n",
      "only 4: 0\n",
      "only 5: 0\n",
      "only 6: 0\n",
      "merge passes performed: 2\n",
      "only 1: 29\n",
      "only 2: 1\n",
      "only 3: 0\n",
      "only 4: 16\n",
      "only 5: 0\n",
      "only 6: 0\n",
      "merge passes performed: 3\n",
      "only 1: 13\n",
      "only 2: 1\n",
      "only 3: 0\n",
      "only 4: 0\n",
      "only 5: 16\n",
      "only 6: 0\n",
      "merge passes performed: 4\n",
      "only 1: 0\n",
      "only 2: 1\n",
      "only 3: 0\n",
      "only 4: 0\n",
      "only 5: 3\n",
      "only 6: 13\n",
      "merge passes performed: 5\n",
      "only 1: 0\n",
      "only 2: 0\n",
      "only 3: 0\n",
      "only 4: 0\n",
      "only 5: 1\n",
      "only 6: 12\n",
      "merge passes performed: 6\n",
      "only 1: 0\n",
      "only 2: 0\n",
      "only 3: 0\n",
      "only 4: 0\n",
      "only 5: 0\n",
      "only 6: 11\n",
      "merge passes performed: 7\n",
      "only 1: 0\n",
      "only 2: 0\n",
      "only 3: 0\n",
      "only 4: 0\n",
      "only 5: 0\n",
      "only 6: 1\n",
      "merge passes performed: 8\n",
      "only 1: 0\n",
      "only 2: 0\n",
      "only 3: 0\n",
      "only 4: 0\n",
      "only 5: 0\n",
      "only 6: 0\n"
     ]
    },
    {
     "data": {
      "text/plain": [
       "VotingClassifier(estimators=[('rf',\n",
       "                              CalibratedClassifierCV(base_estimator=RandomForestClassifier(class_weight='balanced_subsample',\n",
       "                                                                                           criterion='entropy',\n",
       "                                                                                           max_depth=17,\n",
       "                                                                                           max_features='sqrt',\n",
       "                                                                                           max_leaf_nodes=2207,\n",
       "                                                                                           min_samples_leaf=4,\n",
       "                                                                                           min_samples_split=9,\n",
       "                                                                                           n_estimators=342,\n",
       "                                                                                           n_jobs=-1,\n",
       "                                                                                           oob_score=True,\n",
       "                                                                                           random_state=2021),\n",
       "                                                     cv=[(array([    0,     1,     2, ..., 78762, 78763, 78764]),\n",
       "                                                          array...\n",
       "                                                                          (array([    0,     1,     3, ..., 78762, 78763, 78764]),\n",
       "                                                                           array([    2,     5,     8, ..., 77989, 77990, 77991])),\n",
       "                                                                          (array([    0,     2,     3, ..., 78762, 78763, 78764]),\n",
       "                                                                           array([    1,     4,     7, ..., 78621, 78622, 78623])),\n",
       "                                                                          (array([    1,     2,     4, ..., 78762, 78763, 78764]),\n",
       "                                                                           array([    0,     3,     6, ..., 77556, 77557, 77558])),\n",
       "                                                                          (array([    0,     1,     2, ..., 78762, 78763, 78764]),\n",
       "                                                                           array([   19,    21,    23, ..., 78708, 78709, 78710]))],\n",
       "                                                                      method='isotonic',\n",
       "                                                                      n_jobs=-1))]))],\n",
       "                 n_jobs=-1, voting='soft')"
      ]
     },
     "execution_count": 19,
     "metadata": {},
     "output_type": "execute_result"
    },
    {
     "name": "stderr",
     "output_type": "stream",
     "text": [
      "C:\\Users\\michen\\miniconda3\\envs\\capstone_pyspark_38\\lib\\site-packages\\sklearn\\base.py:445: UserWarning: X does not have valid feature names, but RandomForestClassifier was fitted with feature names\n",
      "  warnings.warn(\n",
      "C:\\Users\\michen\\miniconda3\\envs\\capstone_pyspark_38\\lib\\site-packages\\sklearn\\base.py:445: UserWarning: X does not have valid feature names, but RandomForestClassifier was fitted with feature names\n",
      "  warnings.warn(\n",
      "C:\\Users\\michen\\miniconda3\\envs\\capstone_pyspark_38\\lib\\site-packages\\sklearn\\base.py:445: UserWarning: X does not have valid feature names, but RandomForestClassifier was fitted with feature names\n",
      "  warnings.warn(\n",
      "C:\\Users\\michen\\miniconda3\\envs\\capstone_pyspark_38\\lib\\site-packages\\sklearn\\base.py:445: UserWarning: X does not have valid feature names, but RandomForestClassifier was fitted with feature names\n",
      "  warnings.warn(\n",
      "C:\\Users\\michen\\miniconda3\\envs\\capstone_pyspark_38\\lib\\site-packages\\sklearn\\base.py:445: UserWarning: X does not have valid feature names, but RandomForestClassifier was fitted with feature names\n",
      "  warnings.warn(\n",
      "C:\\Users\\michen\\miniconda3\\envs\\capstone_pyspark_38\\lib\\site-packages\\sklearn\\base.py:445: UserWarning: X does not have valid feature names, but RandomForestClassifier was fitted with feature names\n",
      "  warnings.warn(\n",
      "C:\\Users\\michen\\miniconda3\\envs\\capstone_pyspark_38\\lib\\site-packages\\sklearn\\base.py:445: UserWarning: X does not have valid feature names, but RandomForestClassifier was fitted with feature names\n",
      "  warnings.warn(\n",
      "C:\\Users\\michen\\miniconda3\\envs\\capstone_pyspark_38\\lib\\site-packages\\sklearn\\base.py:445: UserWarning: X does not have valid feature names, but RandomForestClassifier was fitted with feature names\n",
      "  warnings.warn(\n",
      "C:\\Users\\michen\\miniconda3\\envs\\capstone_pyspark_38\\lib\\site-packages\\sklearn\\base.py:445: UserWarning: X does not have valid feature names, but RandomForestClassifier was fitted with feature names\n",
      "  warnings.warn(\n",
      "C:\\Users\\michen\\miniconda3\\envs\\capstone_pyspark_38\\lib\\site-packages\\sklearn\\base.py:445: UserWarning: X does not have valid feature names, but RandomForestClassifier was fitted with feature names\n",
      "  warnings.warn(\n",
      "C:\\Users\\michen\\miniconda3\\envs\\capstone_pyspark_38\\lib\\site-packages\\sklearn\\base.py:445: UserWarning: X does not have valid feature names, but RandomForestClassifier was fitted with feature names\n",
      "  warnings.warn(\n",
      "C:\\Users\\michen\\miniconda3\\envs\\capstone_pyspark_38\\lib\\site-packages\\sklearn\\base.py:445: UserWarning: X does not have valid feature names, but RandomForestClassifier was fitted with feature names\n",
      "  warnings.warn(\n",
      "C:\\Users\\michen\\miniconda3\\envs\\capstone_pyspark_38\\lib\\site-packages\\sklearn\\base.py:445: UserWarning: X does not have valid feature names, but RandomForestClassifier was fitted with feature names\n",
      "  warnings.warn(\n",
      "C:\\Users\\michen\\miniconda3\\envs\\capstone_pyspark_38\\lib\\site-packages\\sklearn\\base.py:445: UserWarning: X does not have valid feature names, but RandomForestClassifier was fitted with feature names\n",
      "  warnings.warn(\n",
      "Pandas Apply: 100%|██████████| 66936/66936 [00:00<00:00, 90731.73it/s]\n"
     ]
    },
    {
     "name": "stdout",
     "output_type": "stream",
     "text": [
      "merge passes performed: 0\n",
      "only 1: 57\n",
      "only 2: 38\n",
      "only 3: 32\n",
      "only 4: 21\n",
      "only 5: 20\n",
      "only 6: 11\n",
      "merge passes performed: 1\n",
      "only 1: 46\n",
      "only 2: 18\n",
      "only 3: 11\n",
      "only 4: 0\n",
      "only 5: 0\n",
      "only 6: 0\n",
      "merge passes performed: 2\n",
      "only 1: 35\n",
      "only 2: 0\n",
      "only 3: 0\n",
      "only 4: 20\n",
      "only 5: 0\n",
      "only 6: 0\n",
      "merge passes performed: 3\n",
      "only 1: 15\n",
      "only 2: 0\n",
      "only 3: 0\n",
      "only 4: 0\n",
      "only 5: 20\n",
      "only 6: 0\n",
      "merge passes performed: 4\n",
      "only 1: 0\n",
      "only 2: 0\n",
      "only 3: 0\n",
      "only 4: 0\n",
      "only 5: 5\n",
      "only 6: 15\n",
      "merge passes performed: 5\n",
      "only 1: 0\n",
      "only 2: 0\n",
      "only 3: 0\n",
      "only 4: 0\n",
      "only 5: 0\n",
      "only 6: 10\n",
      "merge passes performed: 6\n",
      "only 1: 0\n",
      "only 2: 0\n",
      "only 3: 0\n",
      "only 4: 0\n",
      "only 5: 0\n",
      "only 6: 0\n"
     ]
    },
    {
     "data": {
      "text/plain": [
       "VotingClassifier(estimators=[('rf',\n",
       "                              CalibratedClassifierCV(base_estimator=RandomForestClassifier(class_weight='balanced_subsample',\n",
       "                                                                                           criterion='entropy',\n",
       "                                                                                           max_depth=17,\n",
       "                                                                                           max_features='sqrt',\n",
       "                                                                                           max_leaf_nodes=2207,\n",
       "                                                                                           min_samples_leaf=4,\n",
       "                                                                                           min_samples_split=9,\n",
       "                                                                                           n_estimators=342,\n",
       "                                                                                           n_jobs=-1,\n",
       "                                                                                           oob_score=True,\n",
       "                                                                                           random_state=2021),\n",
       "                                                     cv=[(array([    0,     1,     2, ..., 66933, 66934, 66935]),\n",
       "                                                          array...\n",
       "                                                                          (array([    1,     2,     4, ..., 66933, 66934, 66935]),\n",
       "                                                                           array([    0,     3,     6, ..., 66416, 66417, 66418])),\n",
       "                                                                          (array([    0,     2,     3, ..., 66846, 66847, 66848]),\n",
       "                                                                           array([    1,     4,     7, ..., 66933, 66934, 66935])),\n",
       "                                                                          (array([    0,     1,     2, ..., 66933, 66934, 66935]),\n",
       "                                                                           array([  391,   392,   393, ..., 66846, 66847, 66848])),\n",
       "                                                                          (array([    0,     1,     3, ..., 66933, 66934, 66935]),\n",
       "                                                                           array([    2,     5,     8, ..., 65995, 65996, 65997]))],\n",
       "                                                                      method='isotonic',\n",
       "                                                                      n_jobs=-1))]))],\n",
       "                 n_jobs=-1, voting='soft')"
      ]
     },
     "execution_count": 19,
     "metadata": {},
     "output_type": "execute_result"
    },
    {
     "name": "stderr",
     "output_type": "stream",
     "text": [
      "C:\\Users\\michen\\miniconda3\\envs\\capstone_pyspark_38\\lib\\site-packages\\sklearn\\base.py:445: UserWarning: X does not have valid feature names, but RandomForestClassifier was fitted with feature names\n",
      "  warnings.warn(\n",
      "C:\\Users\\michen\\miniconda3\\envs\\capstone_pyspark_38\\lib\\site-packages\\sklearn\\base.py:445: UserWarning: X does not have valid feature names, but RandomForestClassifier was fitted with feature names\n",
      "  warnings.warn(\n",
      "C:\\Users\\michen\\miniconda3\\envs\\capstone_pyspark_38\\lib\\site-packages\\sklearn\\base.py:445: UserWarning: X does not have valid feature names, but RandomForestClassifier was fitted with feature names\n",
      "  warnings.warn(\n",
      "C:\\Users\\michen\\miniconda3\\envs\\capstone_pyspark_38\\lib\\site-packages\\sklearn\\base.py:445: UserWarning: X does not have valid feature names, but RandomForestClassifier was fitted with feature names\n",
      "  warnings.warn(\n",
      "C:\\Users\\michen\\miniconda3\\envs\\capstone_pyspark_38\\lib\\site-packages\\sklearn\\base.py:445: UserWarning: X does not have valid feature names, but RandomForestClassifier was fitted with feature names\n",
      "  warnings.warn(\n",
      "C:\\Users\\michen\\miniconda3\\envs\\capstone_pyspark_38\\lib\\site-packages\\sklearn\\base.py:445: UserWarning: X does not have valid feature names, but RandomForestClassifier was fitted with feature names\n",
      "  warnings.warn(\n",
      "C:\\Users\\michen\\miniconda3\\envs\\capstone_pyspark_38\\lib\\site-packages\\sklearn\\base.py:445: UserWarning: X does not have valid feature names, but RandomForestClassifier was fitted with feature names\n",
      "  warnings.warn(\n",
      "C:\\Users\\michen\\miniconda3\\envs\\capstone_pyspark_38\\lib\\site-packages\\sklearn\\base.py:445: UserWarning: X does not have valid feature names, but RandomForestClassifier was fitted with feature names\n",
      "  warnings.warn(\n",
      "C:\\Users\\michen\\miniconda3\\envs\\capstone_pyspark_38\\lib\\site-packages\\sklearn\\base.py:445: UserWarning: X does not have valid feature names, but RandomForestClassifier was fitted with feature names\n",
      "  warnings.warn(\n",
      "C:\\Users\\michen\\miniconda3\\envs\\capstone_pyspark_38\\lib\\site-packages\\sklearn\\base.py:445: UserWarning: X does not have valid feature names, but RandomForestClassifier was fitted with feature names\n",
      "  warnings.warn(\n",
      "C:\\Users\\michen\\miniconda3\\envs\\capstone_pyspark_38\\lib\\site-packages\\sklearn\\base.py:445: UserWarning: X does not have valid feature names, but RandomForestClassifier was fitted with feature names\n",
      "  warnings.warn(\n",
      "C:\\Users\\michen\\miniconda3\\envs\\capstone_pyspark_38\\lib\\site-packages\\sklearn\\base.py:445: UserWarning: X does not have valid feature names, but RandomForestClassifier was fitted with feature names\n",
      "  warnings.warn(\n",
      "C:\\Users\\michen\\miniconda3\\envs\\capstone_pyspark_38\\lib\\site-packages\\sklearn\\base.py:445: UserWarning: X does not have valid feature names, but RandomForestClassifier was fitted with feature names\n",
      "  warnings.warn(\n",
      "C:\\Users\\michen\\miniconda3\\envs\\capstone_pyspark_38\\lib\\site-packages\\sklearn\\base.py:445: UserWarning: X does not have valid feature names, but RandomForestClassifier was fitted with feature names\n",
      "  warnings.warn(\n",
      "Pandas Apply: 100%|██████████| 78147/78147 [00:00<00:00, 89285.41it/s]\n"
     ]
    },
    {
     "name": "stdout",
     "output_type": "stream",
     "text": [
      "merge passes performed: 0\n",
      "only 1: 58\n",
      "only 2: 38\n",
      "only 3: 26\n",
      "only 4: 21\n",
      "only 5: 13\n",
      "only 6: 16\n",
      "merge passes performed: 1\n",
      "only 1: 42\n",
      "only 2: 25\n",
      "only 3: 5\n",
      "only 4: 0\n",
      "only 5: 0\n",
      "only 6: 0\n",
      "merge passes performed: 2\n",
      "only 1: 37\n",
      "only 2: 1\n",
      "only 3: 0\n",
      "only 4: 17\n",
      "only 5: 0\n",
      "only 6: 0\n",
      "merge passes performed: 3\n",
      "only 1: 20\n",
      "only 2: 1\n",
      "only 3: 0\n",
      "only 4: 0\n",
      "only 5: 17\n",
      "only 6: 0\n",
      "merge passes performed: 4\n",
      "only 1: 3\n",
      "only 2: 1\n",
      "only 3: 0\n",
      "only 4: 0\n",
      "only 5: 0\n",
      "only 6: 17\n",
      "merge passes performed: 5\n",
      "only 1: 0\n",
      "only 2: 1\n",
      "only 3: 0\n",
      "only 4: 0\n",
      "only 5: 0\n",
      "only 6: 14\n",
      "merge passes performed: 6\n",
      "only 1: 0\n",
      "only 2: 0\n",
      "only 3: 0\n",
      "only 4: 0\n",
      "only 5: 0\n",
      "only 6: 13\n",
      "merge passes performed: 7\n",
      "only 1: 0\n",
      "only 2: 0\n",
      "only 3: 0\n",
      "only 4: 0\n",
      "only 5: 0\n",
      "only 6: 1\n",
      "merge passes performed: 8\n",
      "only 1: 0\n",
      "only 2: 0\n",
      "only 3: 0\n",
      "only 4: 0\n",
      "only 5: 0\n",
      "only 6: 0\n"
     ]
    },
    {
     "data": {
      "text/plain": [
       "VotingClassifier(estimators=[('rf',\n",
       "                              CalibratedClassifierCV(base_estimator=RandomForestClassifier(class_weight='balanced_subsample',\n",
       "                                                                                           criterion='entropy',\n",
       "                                                                                           max_depth=17,\n",
       "                                                                                           max_features='sqrt',\n",
       "                                                                                           max_leaf_nodes=2207,\n",
       "                                                                                           min_samples_leaf=4,\n",
       "                                                                                           min_samples_split=9,\n",
       "                                                                                           n_estimators=342,\n",
       "                                                                                           n_jobs=-1,\n",
       "                                                                                           oob_score=True,\n",
       "                                                                                           random_state=2021),\n",
       "                                                     cv=[(array([    0,     1,     2, ..., 78144, 78145, 78146]),\n",
       "                                                          array...\n",
       "                                                                          (array([    0,     1,     2, ..., 78090, 78091, 78092]),\n",
       "                                                                           array([  341,   342,   343, ..., 78144, 78145, 78146])),\n",
       "                                                                          (array([    0,     1,     2, ..., 78144, 78145, 78146]),\n",
       "                                                                           array([  370,   371,   372, ..., 78090, 78091, 78092])),\n",
       "                                                                          (array([    1,     3,     5, ..., 78144, 78145, 78146]),\n",
       "                                                                           array([    0,     2,     4, ..., 77684, 77685, 77686])),\n",
       "                                                                          (array([    0,     1,     2, ..., 78144, 78145, 78146]),\n",
       "                                                                           array([  323,   324,   325, ..., 77787, 77788, 77789]))],\n",
       "                                                                      method='isotonic',\n",
       "                                                                      n_jobs=-1))]))],\n",
       "                 n_jobs=-1, voting='soft')"
      ]
     },
     "execution_count": 19,
     "metadata": {},
     "output_type": "execute_result"
    },
    {
     "name": "stderr",
     "output_type": "stream",
     "text": [
      "C:\\Users\\michen\\miniconda3\\envs\\capstone_pyspark_38\\lib\\site-packages\\sklearn\\base.py:445: UserWarning: X does not have valid feature names, but RandomForestClassifier was fitted with feature names\n",
      "  warnings.warn(\n",
      "C:\\Users\\michen\\miniconda3\\envs\\capstone_pyspark_38\\lib\\site-packages\\sklearn\\base.py:445: UserWarning: X does not have valid feature names, but RandomForestClassifier was fitted with feature names\n",
      "  warnings.warn(\n",
      "C:\\Users\\michen\\miniconda3\\envs\\capstone_pyspark_38\\lib\\site-packages\\sklearn\\base.py:445: UserWarning: X does not have valid feature names, but RandomForestClassifier was fitted with feature names\n",
      "  warnings.warn(\n",
      "C:\\Users\\michen\\miniconda3\\envs\\capstone_pyspark_38\\lib\\site-packages\\sklearn\\base.py:445: UserWarning: X does not have valid feature names, but RandomForestClassifier was fitted with feature names\n",
      "  warnings.warn(\n",
      "C:\\Users\\michen\\miniconda3\\envs\\capstone_pyspark_38\\lib\\site-packages\\sklearn\\base.py:445: UserWarning: X does not have valid feature names, but RandomForestClassifier was fitted with feature names\n",
      "  warnings.warn(\n",
      "C:\\Users\\michen\\miniconda3\\envs\\capstone_pyspark_38\\lib\\site-packages\\sklearn\\base.py:445: UserWarning: X does not have valid feature names, but RandomForestClassifier was fitted with feature names\n",
      "  warnings.warn(\n",
      "C:\\Users\\michen\\miniconda3\\envs\\capstone_pyspark_38\\lib\\site-packages\\sklearn\\base.py:445: UserWarning: X does not have valid feature names, but RandomForestClassifier was fitted with feature names\n",
      "  warnings.warn(\n",
      "C:\\Users\\michen\\miniconda3\\envs\\capstone_pyspark_38\\lib\\site-packages\\sklearn\\base.py:445: UserWarning: X does not have valid feature names, but RandomForestClassifier was fitted with feature names\n",
      "  warnings.warn(\n",
      "C:\\Users\\michen\\miniconda3\\envs\\capstone_pyspark_38\\lib\\site-packages\\sklearn\\base.py:445: UserWarning: X does not have valid feature names, but RandomForestClassifier was fitted with feature names\n",
      "  warnings.warn(\n",
      "C:\\Users\\michen\\miniconda3\\envs\\capstone_pyspark_38\\lib\\site-packages\\sklearn\\base.py:445: UserWarning: X does not have valid feature names, but RandomForestClassifier was fitted with feature names\n",
      "  warnings.warn(\n",
      "C:\\Users\\michen\\miniconda3\\envs\\capstone_pyspark_38\\lib\\site-packages\\sklearn\\base.py:445: UserWarning: X does not have valid feature names, but RandomForestClassifier was fitted with feature names\n",
      "  warnings.warn(\n",
      "C:\\Users\\michen\\miniconda3\\envs\\capstone_pyspark_38\\lib\\site-packages\\sklearn\\base.py:445: UserWarning: X does not have valid feature names, but RandomForestClassifier was fitted with feature names\n",
      "  warnings.warn(\n",
      "C:\\Users\\michen\\miniconda3\\envs\\capstone_pyspark_38\\lib\\site-packages\\sklearn\\base.py:445: UserWarning: X does not have valid feature names, but RandomForestClassifier was fitted with feature names\n",
      "  warnings.warn(\n",
      "C:\\Users\\michen\\miniconda3\\envs\\capstone_pyspark_38\\lib\\site-packages\\sklearn\\base.py:445: UserWarning: X does not have valid feature names, but RandomForestClassifier was fitted with feature names\n",
      "  warnings.warn(\n",
      "Pandas Apply: 100%|██████████| 77620/77620 [00:00<00:00, 88713.91it/s]\n"
     ]
    },
    {
     "name": "stdout",
     "output_type": "stream",
     "text": [
      "merge passes performed: 0\n",
      "only 1: 54\n",
      "only 2: 42\n",
      "only 3: 28\n",
      "only 4: 20\n",
      "only 5: 18\n",
      "only 6: 14\n",
      "merge passes performed: 1\n",
      "only 1: 40\n",
      "only 2: 24\n",
      "only 3: 8\n",
      "only 4: 0\n",
      "only 5: 0\n",
      "only 6: 0\n",
      "merge passes performed: 2\n",
      "only 1: 32\n",
      "only 2: 0\n",
      "only 3: 0\n",
      "only 4: 20\n",
      "only 5: 0\n",
      "only 6: 0\n",
      "merge passes performed: 3\n",
      "only 1: 12\n",
      "only 2: 0\n",
      "only 3: 0\n",
      "only 4: 0\n",
      "only 5: 20\n",
      "only 6: 0\n",
      "merge passes performed: 4\n",
      "only 1: 0\n",
      "only 2: 0\n",
      "only 3: 0\n",
      "only 4: 0\n",
      "only 5: 8\n",
      "only 6: 12\n",
      "merge passes performed: 5\n",
      "only 1: 0\n",
      "only 2: 0\n",
      "only 3: 0\n",
      "only 4: 0\n",
      "only 5: 0\n",
      "only 6: 4\n",
      "merge passes performed: 6\n",
      "only 1: 0\n",
      "only 2: 0\n",
      "only 3: 0\n",
      "only 4: 0\n",
      "only 5: 0\n",
      "only 6: 0\n"
     ]
    },
    {
     "data": {
      "text/plain": [
       "VotingClassifier(estimators=[('rf',\n",
       "                              CalibratedClassifierCV(base_estimator=RandomForestClassifier(class_weight='balanced_subsample',\n",
       "                                                                                           criterion='entropy',\n",
       "                                                                                           max_depth=17,\n",
       "                                                                                           max_features='sqrt',\n",
       "                                                                                           max_leaf_nodes=2207,\n",
       "                                                                                           min_samples_leaf=4,\n",
       "                                                                                           min_samples_split=9,\n",
       "                                                                                           n_estimators=342,\n",
       "                                                                                           n_jobs=-1,\n",
       "                                                                                           oob_score=True,\n",
       "                                                                                           random_state=2021),\n",
       "                                                     cv=[(array([    0,     1,     3, ..., 77563, 77564, 77565]),\n",
       "                                                          array...\n",
       "                                                                          (array([    0,     1,     2, ..., 77617, 77618, 77619]),\n",
       "                                                                           array([  288,   289,   290, ..., 77368, 77369, 77370])),\n",
       "                                                                          (array([    0,     2,     3, ..., 77617, 77618, 77619]),\n",
       "                                                                           array([    1,     4,     7, ..., 76394, 76395, 76396])),\n",
       "                                                                          (array([    1,     2,     4, ..., 77617, 77618, 77619]),\n",
       "                                                                           array([    0,     3,     6, ..., 77265, 77266, 77267])),\n",
       "                                                                          (array([    0,     1,     2, ..., 77617, 77618, 77619]),\n",
       "                                                                           array([  263,   264,   265, ..., 77563, 77564, 77565]))],\n",
       "                                                                      method='isotonic',\n",
       "                                                                      n_jobs=-1))]))],\n",
       "                 n_jobs=-1, voting='soft')"
      ]
     },
     "execution_count": 19,
     "metadata": {},
     "output_type": "execute_result"
    },
    {
     "name": "stderr",
     "output_type": "stream",
     "text": [
      "C:\\Users\\michen\\miniconda3\\envs\\capstone_pyspark_38\\lib\\site-packages\\sklearn\\base.py:445: UserWarning: X does not have valid feature names, but RandomForestClassifier was fitted with feature names\n",
      "  warnings.warn(\n",
      "C:\\Users\\michen\\miniconda3\\envs\\capstone_pyspark_38\\lib\\site-packages\\sklearn\\base.py:445: UserWarning: X does not have valid feature names, but RandomForestClassifier was fitted with feature names\n",
      "  warnings.warn(\n",
      "C:\\Users\\michen\\miniconda3\\envs\\capstone_pyspark_38\\lib\\site-packages\\sklearn\\base.py:445: UserWarning: X does not have valid feature names, but RandomForestClassifier was fitted with feature names\n",
      "  warnings.warn(\n",
      "C:\\Users\\michen\\miniconda3\\envs\\capstone_pyspark_38\\lib\\site-packages\\sklearn\\base.py:445: UserWarning: X does not have valid feature names, but RandomForestClassifier was fitted with feature names\n",
      "  warnings.warn(\n",
      "C:\\Users\\michen\\miniconda3\\envs\\capstone_pyspark_38\\lib\\site-packages\\sklearn\\base.py:445: UserWarning: X does not have valid feature names, but RandomForestClassifier was fitted with feature names\n",
      "  warnings.warn(\n",
      "C:\\Users\\michen\\miniconda3\\envs\\capstone_pyspark_38\\lib\\site-packages\\sklearn\\base.py:445: UserWarning: X does not have valid feature names, but RandomForestClassifier was fitted with feature names\n",
      "  warnings.warn(\n",
      "C:\\Users\\michen\\miniconda3\\envs\\capstone_pyspark_38\\lib\\site-packages\\sklearn\\base.py:445: UserWarning: X does not have valid feature names, but RandomForestClassifier was fitted with feature names\n",
      "  warnings.warn(\n",
      "C:\\Users\\michen\\miniconda3\\envs\\capstone_pyspark_38\\lib\\site-packages\\sklearn\\base.py:445: UserWarning: X does not have valid feature names, but RandomForestClassifier was fitted with feature names\n",
      "  warnings.warn(\n",
      "C:\\Users\\michen\\miniconda3\\envs\\capstone_pyspark_38\\lib\\site-packages\\sklearn\\base.py:445: UserWarning: X does not have valid feature names, but RandomForestClassifier was fitted with feature names\n",
      "  warnings.warn(\n",
      "C:\\Users\\michen\\miniconda3\\envs\\capstone_pyspark_38\\lib\\site-packages\\sklearn\\base.py:445: UserWarning: X does not have valid feature names, but RandomForestClassifier was fitted with feature names\n",
      "  warnings.warn(\n",
      "C:\\Users\\michen\\miniconda3\\envs\\capstone_pyspark_38\\lib\\site-packages\\sklearn\\base.py:445: UserWarning: X does not have valid feature names, but RandomForestClassifier was fitted with feature names\n",
      "  warnings.warn(\n",
      "C:\\Users\\michen\\miniconda3\\envs\\capstone_pyspark_38\\lib\\site-packages\\sklearn\\base.py:445: UserWarning: X does not have valid feature names, but RandomForestClassifier was fitted with feature names\n",
      "  warnings.warn(\n",
      "C:\\Users\\michen\\miniconda3\\envs\\capstone_pyspark_38\\lib\\site-packages\\sklearn\\base.py:445: UserWarning: X does not have valid feature names, but RandomForestClassifier was fitted with feature names\n",
      "  warnings.warn(\n",
      "C:\\Users\\michen\\miniconda3\\envs\\capstone_pyspark_38\\lib\\site-packages\\sklearn\\base.py:445: UserWarning: X does not have valid feature names, but RandomForestClassifier was fitted with feature names\n",
      "  warnings.warn(\n",
      "Pandas Apply: 100%|██████████| 76652/76652 [00:00<00:00, 81368.82it/s]\n"
     ]
    },
    {
     "name": "stdout",
     "output_type": "stream",
     "text": [
      "merge passes performed: 0\n",
      "only 1: 58\n",
      "only 2: 38\n",
      "only 3: 34\n",
      "only 4: 23\n",
      "only 5: 28\n",
      "only 6: 10\n",
      "merge passes performed: 1\n",
      "only 1: 48\n",
      "only 2: 10\n",
      "only 3: 11\n",
      "only 4: 0\n",
      "only 5: 0\n",
      "only 6: 0\n",
      "merge passes performed: 2\n",
      "only 1: 37\n",
      "only 2: 0\n",
      "only 3: 0\n",
      "only 4: 16\n",
      "only 5: 0\n",
      "only 6: 0\n",
      "merge passes performed: 3\n",
      "only 1: 21\n",
      "only 2: 0\n",
      "only 3: 0\n",
      "only 4: 0\n",
      "only 5: 16\n",
      "only 6: 0\n",
      "merge passes performed: 4\n",
      "only 1: 5\n",
      "only 2: 0\n",
      "only 3: 0\n",
      "only 4: 0\n",
      "only 5: 0\n",
      "only 6: 16\n",
      "merge passes performed: 5\n",
      "only 1: 0\n",
      "only 2: 0\n",
      "only 3: 0\n",
      "only 4: 0\n",
      "only 5: 0\n",
      "only 6: 11\n",
      "merge passes performed: 6\n",
      "only 1: 0\n",
      "only 2: 0\n",
      "only 3: 0\n",
      "only 4: 0\n",
      "only 5: 0\n",
      "only 6: 1\n",
      "merge passes performed: 7\n",
      "only 1: 0\n",
      "only 2: 0\n",
      "only 3: 0\n",
      "only 4: 0\n",
      "only 5: 0\n",
      "only 6: 0\n"
     ]
    },
    {
     "data": {
      "text/plain": [
       "VotingClassifier(estimators=[('rf',\n",
       "                              CalibratedClassifierCV(base_estimator=RandomForestClassifier(class_weight='balanced_subsample',\n",
       "                                                                                           criterion='entropy',\n",
       "                                                                                           max_depth=17,\n",
       "                                                                                           max_features='sqrt',\n",
       "                                                                                           max_leaf_nodes=2207,\n",
       "                                                                                           min_samples_leaf=4,\n",
       "                                                                                           min_samples_split=9,\n",
       "                                                                                           n_estimators=342,\n",
       "                                                                                           n_jobs=-1,\n",
       "                                                                                           oob_score=True,\n",
       "                                                                                           random_state=2021),\n",
       "                                                     cv=[(array([    0,     1,     2, ..., 76649, 76650, 76651]),\n",
       "                                                          array...\n",
       "                                                                          (array([    0,     1,     2, ..., 76649, 76650, 76651]),\n",
       "                                                                           array([   14,    17,    20, ..., 76056, 76057, 76058])),\n",
       "                                                                          (array([    0,     1,     2, ..., 76649, 76650, 76651]),\n",
       "                                                                           array([  349,   350,   351, ..., 76487, 76488, 76489])),\n",
       "                                                                          (array([    1,     3,     5, ..., 76649, 76650, 76651]),\n",
       "                                                                           array([    0,     2,     4, ..., 76376, 76377, 76378])),\n",
       "                                                                          (array([    0,     1,     2, ..., 76649, 76650, 76651]),\n",
       "                                                                           array([  342,   343,   344, ..., 75780, 75781, 75782]))],\n",
       "                                                                      method='isotonic',\n",
       "                                                                      n_jobs=-1))]))],\n",
       "                 n_jobs=-1, voting='soft')"
      ]
     },
     "execution_count": 19,
     "metadata": {},
     "output_type": "execute_result"
    },
    {
     "name": "stderr",
     "output_type": "stream",
     "text": [
      "C:\\Users\\michen\\miniconda3\\envs\\capstone_pyspark_38\\lib\\site-packages\\sklearn\\base.py:445: UserWarning: X does not have valid feature names, but RandomForestClassifier was fitted with feature names\n",
      "  warnings.warn(\n",
      "C:\\Users\\michen\\miniconda3\\envs\\capstone_pyspark_38\\lib\\site-packages\\sklearn\\base.py:445: UserWarning: X does not have valid feature names, but RandomForestClassifier was fitted with feature names\n",
      "  warnings.warn(\n",
      "C:\\Users\\michen\\miniconda3\\envs\\capstone_pyspark_38\\lib\\site-packages\\sklearn\\base.py:445: UserWarning: X does not have valid feature names, but RandomForestClassifier was fitted with feature names\n",
      "  warnings.warn(\n",
      "C:\\Users\\michen\\miniconda3\\envs\\capstone_pyspark_38\\lib\\site-packages\\sklearn\\base.py:445: UserWarning: X does not have valid feature names, but RandomForestClassifier was fitted with feature names\n",
      "  warnings.warn(\n",
      "C:\\Users\\michen\\miniconda3\\envs\\capstone_pyspark_38\\lib\\site-packages\\sklearn\\base.py:445: UserWarning: X does not have valid feature names, but RandomForestClassifier was fitted with feature names\n",
      "  warnings.warn(\n",
      "C:\\Users\\michen\\miniconda3\\envs\\capstone_pyspark_38\\lib\\site-packages\\sklearn\\base.py:445: UserWarning: X does not have valid feature names, but RandomForestClassifier was fitted with feature names\n",
      "  warnings.warn(\n",
      "C:\\Users\\michen\\miniconda3\\envs\\capstone_pyspark_38\\lib\\site-packages\\sklearn\\base.py:445: UserWarning: X does not have valid feature names, but RandomForestClassifier was fitted with feature names\n",
      "  warnings.warn(\n",
      "C:\\Users\\michen\\miniconda3\\envs\\capstone_pyspark_38\\lib\\site-packages\\sklearn\\base.py:445: UserWarning: X does not have valid feature names, but RandomForestClassifier was fitted with feature names\n",
      "  warnings.warn(\n",
      "C:\\Users\\michen\\miniconda3\\envs\\capstone_pyspark_38\\lib\\site-packages\\sklearn\\base.py:445: UserWarning: X does not have valid feature names, but RandomForestClassifier was fitted with feature names\n",
      "  warnings.warn(\n",
      "C:\\Users\\michen\\miniconda3\\envs\\capstone_pyspark_38\\lib\\site-packages\\sklearn\\base.py:445: UserWarning: X does not have valid feature names, but RandomForestClassifier was fitted with feature names\n",
      "  warnings.warn(\n",
      "C:\\Users\\michen\\miniconda3\\envs\\capstone_pyspark_38\\lib\\site-packages\\sklearn\\base.py:445: UserWarning: X does not have valid feature names, but RandomForestClassifier was fitted with feature names\n",
      "  warnings.warn(\n",
      "C:\\Users\\michen\\miniconda3\\envs\\capstone_pyspark_38\\lib\\site-packages\\sklearn\\base.py:445: UserWarning: X does not have valid feature names, but RandomForestClassifier was fitted with feature names\n",
      "  warnings.warn(\n",
      "C:\\Users\\michen\\miniconda3\\envs\\capstone_pyspark_38\\lib\\site-packages\\sklearn\\base.py:445: UserWarning: X does not have valid feature names, but RandomForestClassifier was fitted with feature names\n",
      "  warnings.warn(\n",
      "C:\\Users\\michen\\miniconda3\\envs\\capstone_pyspark_38\\lib\\site-packages\\sklearn\\base.py:445: UserWarning: X does not have valid feature names, but RandomForestClassifier was fitted with feature names\n",
      "  warnings.warn(\n"
     ]
    },
    {
     "name": "stdout",
     "output_type": "stream",
     "text": [
      "{'model': ['Voting_GNB+RF'], 'accuracy': [0.9141433350896476], 'auroc': [0.9837112542548955], 'log_loss': [0.23075349167485068], 'predict_time': [7.645049776349749], 'fit_time': [534.9342562811715]}\n",
      "time: 1h 4min 37s\n"
     ]
    }
   ],
   "source": [
    "accuracy, auroc, logloss, fit_times, predict_times = [], [], [], [], []\n",
    "for train_idx, test_idx in cross_validator():\n",
    "    X_train, train_labels = (\n",
    "        data.iloc[train_idx, :].reset_index(drop=True),\n",
    "        labels.iloc[train_idx, :].reset_index(drop=True),\n",
    "    )\n",
    "    y_train = train_labels.valence\n",
    "    strata = train_labels.loc[\n",
    "        :, [\"source\", \"speaker_gender\", \"emo\", \"valence\", \"lang1\", \"length\"]\n",
    "    ]\n",
    "    strata.valence = strata.valence.astype(str)\n",
    "    strata = strata.swifter.apply(\"\".join, axis=1)\n",
    "    strata = process_strata(strata, n_splits=N_SPLITS)\n",
    "    cross_validator_ = lambda: StratifiedGroupKFold(\n",
    "        n_splits=N_SPLITS, shuffle=True, random_state=SEED\n",
    "    ).split(X=X_train, y=strata, groups=train_labels.speaker_id)\n",
    "    model = VotingClassifier(\n",
    "        estimators=[\n",
    "            (\n",
    "                \"rf\",\n",
    "                CalibratedClassifierCV(\n",
    "                    base_estimator=RandomForestClassifier(**rf_params()),\n",
    "                    method=\"isotonic\",\n",
    "                    cv=list(cross_validator_()),\n",
    "                    n_jobs=-1,\n",
    "                ),\n",
    "            ),\n",
    "            (\n",
    "                \"gnb\",\n",
    "                Pipeline(\n",
    "                    steps=[\n",
    "                        (\n",
    "                            \"select_features\",\n",
    "                            ColumnTransformer(\n",
    "                                transformers=[\n",
    "                                    (\"selector\", \"passthrough\", gnb_features)\n",
    "                                ],\n",
    "                                n_jobs=-1,\n",
    "                            ),\n",
    "                        ),\n",
    "                        (\n",
    "                            \"clf\",\n",
    "                            CalibratedClassifierCV(\n",
    "                                base_estimator=BaggingClassifier(**gnb_params()),\n",
    "                                method=\"isotonic\",\n",
    "                                cv=list(cross_validator_()),\n",
    "                                n_jobs=-1,\n",
    "                            ),\n",
    "                        ),\n",
    "                    ]\n",
    "                ),\n",
    "            ),\n",
    "        ],\n",
    "        voting=\"soft\",\n",
    "        n_jobs=-1,\n",
    "    )\n",
    "    begin = time()\n",
    "    model.fit(X_train, y_train)\n",
    "    end = time()\n",
    "    fit_times.append(end - begin)\n",
    "    del X_train\n",
    "    del y_train\n",
    "    _ = gc_collect()\n",
    "    X_test, y_test = (\n",
    "        data.iloc[test_idx, :].reset_index(drop=True),\n",
    "        labels.iloc[test_idx, :].reset_index(drop=True).valence,\n",
    "    )\n",
    "    begin = time()\n",
    "    y_pred = model.predict(X_test)\n",
    "    end = time()\n",
    "    predict_times.append(end - begin)\n",
    "    accuracy.append(accuracy_score(y_test, y_pred))\n",
    "    auroc.append(\n",
    "        roc_auc_score(y_test, y_pred := model.predict_proba(X_test), multi_class=\"ovo\")\n",
    "    )\n",
    "    del model\n",
    "    del X_test\n",
    "    _ = gc_collect()\n",
    "    logloss.append(log_loss(y_test, y_pred))\n",
    "    del y_test\n",
    "    del begin\n",
    "    del end\n",
    "results = {\n",
    "    \"model\": [\"Voting_GNB+RF\"],\n",
    "    \"accuracy\": [np.mean(accuracy)],\n",
    "    \"auroc\": [np.mean(auroc)],\n",
    "    \"log_loss\": [np.mean(logloss)],\n",
    "    \"predict_time\": [np.mean(predict_times)],\n",
    "    \"fit_time\": [np.mean(fit_times)],\n",
    "}\n",
    "print(results)\n",
    "pd.DataFrame(results).reset_index(drop=True).to_csv(\n",
    "    f\"{DATA_OUT_FOLDER}/Voting_GNB+RF_results.csv\"\n",
    ")"
   ]
  },
  {
   "cell_type": "markdown",
   "metadata": {},
   "source": [
    "# Discussion"
   ]
  },
  {
   "cell_type": "markdown",
   "metadata": {},
   "source": [
    "These scores are good. I can't wait to try these on the holdout data.\n",
    "\n",
    "Do note that hyperparameter tuning was performed at the end with the whole dataset (with initial guidance observed from nested cross validation). That is, tuning data and evaluation data are not disjoint. Although the cross validator keeps clean splits with no speaker leakage, these models may be inherently overfit, especially given the exposure to test data during feature extraction and scaling.\n",
    "\n",
    "Before the modified feature engineering pipeline (dropping rho, omitting redundant scaling, etc.), GaussianNB may have been the most performant classifier. But now, the data may be more suited for RandomForestClassifier."
   ]
  },
  {
   "cell_type": "code",
   "execution_count": 20,
   "metadata": {},
   "outputs": [
    {
     "name": "stdout",
     "output_type": "stream",
     "text": [
      "Time elapsed since notebook_begin_time: 5247.077162265778 s\n",
      "time: 136 ms\n"
     ]
    }
   ],
   "source": [
    "print(f\"Time elapsed since notebook_begin_time: {time() - notebook_begin_time} s\")\n",
    "_ = gc_collect()"
   ]
  },
  {
   "cell_type": "markdown",
   "metadata": {},
   "source": [
    "[^top](#Contents)"
   ]
  },
  {
   "cell_type": "code",
   "execution_count": null,
   "metadata": {},
   "outputs": [],
   "source": []
  }
 ],
 "metadata": {
  "interpreter": {
   "hash": "e1781be99c106060f3abc0c9b91d3d379f24672894e2158d4b74304109955878"
  },
  "kernelspec": {
   "display_name": "Python [conda env:capstone_pyspark_38] *",
   "language": "python",
   "name": "python3"
  },
  "language_info": {
   "codemirror_mode": {
    "name": "ipython",
    "version": 3
   },
   "file_extension": ".py",
   "mimetype": "text/x-python",
   "name": "python",
   "nbconvert_exporter": "python",
   "pygments_lexer": "ipython3",
   "version": "3.8.12"
  }
 },
 "nbformat": 4,
 "nbformat_minor": 4
}
