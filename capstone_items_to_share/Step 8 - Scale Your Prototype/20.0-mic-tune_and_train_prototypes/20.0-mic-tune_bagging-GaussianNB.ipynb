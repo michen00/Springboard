{
 "cells": [
  {
   "cell_type": "markdown",
   "metadata": {},
   "source": [
    "# Contents\n",
    "* [Introduction](#Introduction)\n",
    "* [Imports and configuration](#Imports-and-configuration)\n",
    "* [Setup](#Setup)\n",
    "* [var_smoothing](#var_smoothing)\n",
    "* [n_estimators](#n_estimators)\n",
    "* [Discussion](#Discussion)"
   ]
  },
  {
   "cell_type": "markdown",
   "metadata": {},
   "source": [
    "# Introduction\n",
    "\n",
    "After rounds of feature engineering, visualization & exploration, and tuning various aspects of the classification pipeline, we are about to create our first prototype classifier using a bagged GaussianNB. In this notebook, we perform a grid search over var_smoothing using out-of-bag accuracy instead of cross validation. Fixing this var_smoothing to the best value observed, we perform a grid search for n_estimators of the bagging meta-classifier."
   ]
  },
  {
   "cell_type": "code",
   "execution_count": 1,
   "metadata": {},
   "outputs": [],
   "source": [
    "from time import time\n",
    "\n",
    "notebook_begin_time = time()\n",
    "\n",
    "# set random seeds\n",
    "\n",
    "from os import environ\n",
    "from random import seed as random_seed\n",
    "from numpy.random import seed as np_seed\n",
    "from tensorflow.random import set_seed\n",
    "\n",
    "\n",
    "def reset_seeds(seed: int) -> None:\n",
    "    \"\"\"Utility function for resetting random seeds\"\"\"\n",
    "    environ[\"PYTHONHASHSEED\"] = str(seed)\n",
    "    random_seed(seed)\n",
    "    np_seed(seed)\n",
    "    set_seed(seed)\n",
    "\n",
    "\n",
    "reset_seeds(SEED := 2021)\n",
    "del environ\n",
    "del random_seed\n",
    "del np_seed\n",
    "del set_seed\n",
    "del reset_seeds"
   ]
  },
  {
   "cell_type": "code",
   "execution_count": 2,
   "metadata": {},
   "outputs": [],
   "source": [
    "# extensions\n",
    "%load_ext autotime\n",
    "%load_ext lab_black\n",
    "%load_ext nb_black"
   ]
  },
  {
   "cell_type": "code",
   "execution_count": 3,
   "metadata": {},
   "outputs": [
    {
     "name": "stderr",
     "output_type": "stream",
     "text": [
      "Intel(R) Extension for Scikit-learn* enabled (https://github.com/intel/scikit-learn-intelex)\n"
     ]
    },
    {
     "name": "stdout",
     "output_type": "stream",
     "text": [
      "time: 2.42 s\n"
     ]
    }
   ],
   "source": [
    "# core\n",
    "import numpy as np\n",
    "import pandas as pd\n",
    "from scipy.stats import loguniform\n",
    "\n",
    "# utility\n",
    "from gc import collect as gc_collect\n",
    "from tqdm.notebook import tqdm\n",
    "\n",
    "# faster sklearn\n",
    "from sklearnex import patch_sklearn\n",
    "\n",
    "patch_sklearn()\n",
    "del patch_sklearn\n",
    "\n",
    "# classifier\n",
    "from sklearn.ensemble import BaggingClassifier\n",
    "from sklearn.naive_bayes import GaussianNB\n",
    "\n",
    "# metrics\n",
    "from sklearn.metrics import log_loss, roc_auc_score\n",
    "\n",
    "# visualization\n",
    "import matplotlib.pyplot as plt\n",
    "import seaborn as sns\n",
    "\n",
    "%matplotlib inline\n",
    "%matplotlib widget\n",
    "\n",
    "sns.set_context(\"notebook\")\n",
    "\n",
    "# full display of rows and columns\n",
    "pd.set_option(\"display.max_columns\", None)\n",
    "pd.set_option(\"display.max_colwidth\", None)\n",
    "pd.set_option(\"display.max_rows\", None)\n",
    "\n",
    "# display outputs w/o print calls\n",
    "from IPython.core.interactiveshell import InteractiveShell\n",
    "\n",
    "InteractiveShell.ast_node_interactivity = \"all\"\n",
    "del InteractiveShell"
   ]
  },
  {
   "cell_type": "code",
   "execution_count": 4,
   "metadata": {},
   "outputs": [
    {
     "name": "stdout",
     "output_type": "stream",
     "text": [
      "time: 102 ms\n"
     ]
    }
   ],
   "source": [
    "# Location of FRILL .feather files\n",
    "FRILL_FEATHERS_FOLDER = \"../1.0-mic-extract_FRILL_embeddings\"\n",
    "\n",
    "# Location of pre-final features\n",
    "FEATURES_FOLDER = \"../19.0-mic-extract_FRILL-based_features_from_full_data\"\n",
    "\n",
    "# Location where this notebook will output\n",
    "DATA_OUT_FOLDER = \".\"\n",
    "\n",
    "_ = gc_collect()"
   ]
  },
  {
   "cell_type": "markdown",
   "metadata": {},
   "source": [
    "# Setup"
   ]
  },
  {
   "cell_type": "code",
   "execution_count": 5,
   "metadata": {},
   "outputs": [
    {
     "name": "stdout",
     "output_type": "stream",
     "text": [
      "time: 283 ms\n"
     ]
    }
   ],
   "source": [
    "def load_labels() -> pd.DataFrame:\n",
    "    \"\"\"Load just the labels\"\"\"\n",
    "    keep_columns = [\n",
    "        \"id\",\n",
    "        \"source\",\n",
    "        \"speaker_id\",\n",
    "        \"speaker_gender\",\n",
    "        \"emo\",\n",
    "        \"valence\",\n",
    "        \"lang1\",\n",
    "    ]\n",
    "    labels = pd.concat(\n",
    "        (\n",
    "            pd.read_feather(\n",
    "                f\"{FRILL_FEATHERS_FOLDER}/dev_labels.feather\", columns=keep_columns\n",
    "            ),\n",
    "            pd.read_feather(\n",
    "                f\"{FRILL_FEATHERS_FOLDER}/nondev_labels.feather\", columns=keep_columns\n",
    "            ),\n",
    "        )\n",
    "    ).set_index(\"id\")\n",
    "    return labels\n",
    "\n",
    "\n",
    "def load_data(unscaled=False) -> pd.DataFrame:\n",
    "    \"\"\"Loads the FRILL-based features\"\"\"\n",
    "    if unscaled:\n",
    "        df = pd.read_feather(\n",
    "            f\"{FEATURES_FOLDER}/unscaled_features_ready_for_selection.feather\"\n",
    "        ).set_index(\"id\")\n",
    "    else:\n",
    "        df = pd.read_feather(\n",
    "            f\"{FEATURES_FOLDER}/features_ready_for_selection.feather\"\n",
    "        ).set_index(\"id\")\n",
    "    df.columns = df.columns.astype(str)\n",
    "    return df\n",
    "\n",
    "\n",
    "data = load_data(unscaled=True)\n",
    "labels = load_labels()\n",
    "y_true = labels.valence\n",
    "gnb_features = [\"spherical-LDA1\", \"spherical-LDA2\"]\n",
    "assert all(data.index == labels.index)\n",
    "_ = gc_collect()"
   ]
  },
  {
   "cell_type": "code",
   "execution_count": 6,
   "metadata": {},
   "outputs": [
    {
     "name": "stdout",
     "output_type": "stream",
     "text": [
      "<class 'pandas.core.frame.DataFrame'>\n",
      "UInt64Index: 86752 entries, 0 to 87363\n",
      "Columns: 118 entries, theta_LDA1+LDA2 to LDA-ocSVM_poly6_pos\n",
      "dtypes: float64(118)\n",
      "memory usage: 78.8 MB\n",
      "<class 'pandas.core.frame.DataFrame'>\n",
      "UInt64Index: 86752 entries, 0 to 87363\n",
      "Data columns (total 6 columns):\n",
      " #   Column          Non-Null Count  Dtype   \n",
      "---  ------          --------------  -----   \n",
      " 0   source          86752 non-null  category\n",
      " 1   speaker_id      86752 non-null  category\n",
      " 2   speaker_gender  86752 non-null  category\n",
      " 3   emo             86752 non-null  category\n",
      " 4   valence         86752 non-null  int8    \n",
      " 5   lang1           86752 non-null  category\n",
      "dtypes: category(5), int8(1)\n",
      "memory usage: 1.3 MB\n",
      "time: 39 ms\n"
     ]
    }
   ],
   "source": [
    "data.info()\n",
    "labels.info()"
   ]
  },
  {
   "cell_type": "markdown",
   "metadata": {},
   "source": [
    "# var_smoothing"
   ]
  },
  {
   "cell_type": "code",
   "execution_count": 7,
   "metadata": {},
   "outputs": [
    {
     "data": {
      "application/vnd.jupyter.widget-view+json": {
       "model_id": "d87ac2206d704deebd3ea112fb51685f",
       "version_major": 2,
       "version_minor": 0
      },
      "text/plain": [
       "  0%|          | 0/500 [00:00<?, ?it/s]"
      ]
     },
     "metadata": {},
     "output_type": "display_data"
    },
    {
     "name": "stdout",
     "output_type": "stream",
     "text": [
      "time: 12min 59s\n"
     ]
    }
   ],
   "source": [
    "df = data.loc[:, gnb_features]\n",
    "results = {\"var_smoothing\": [], \"oob_score\": [], \"log_loss\": [], \"auroc\": []}\n",
    "make_gnb = lambda var_smoothing: BaggingClassifier(\n",
    "    base_estimator=GaussianNB(var_smoothing=var_smoothing),\n",
    "    n_estimators=50,\n",
    "    oob_score=True,\n",
    "    n_jobs=-1,\n",
    "    random_state=SEED,\n",
    "    # verbose=1,\n",
    ").fit(df, y_true)\n",
    "for hp in tqdm(np.random.uniform(0.0, 1.2, size=500)):\n",
    "    gnb = make_gnb(hp)\n",
    "    results[\"var_smoothing\"].append(hp)\n",
    "    results[\"oob_score\"].append(gnb.oob_score_)\n",
    "    results[\"auroc\"].append(\n",
    "        roc_auc_score(y_true, y_pred := gnb.predict_proba(df), multi_class=\"ovo\")\n",
    "    )\n",
    "    results[\"log_loss\"].append(log_loss(y_true, y_pred))"
   ]
  },
  {
   "cell_type": "code",
   "execution_count": 8,
   "metadata": {},
   "outputs": [
    {
     "name": "stdout",
     "output_type": "stream",
     "text": [
      "     var_smoothing  oob_score  log_loss     auroc\n",
      "496       0.005401   0.880233  0.352697  0.969671\n",
      "192       0.006047   0.880233  0.352322  0.969688\n",
      "200       0.010465   0.879945  0.349896  0.969800\n",
      "284       0.010403   0.879934  0.349929  0.969798\n",
      "465       0.013900   0.879807  0.348164  0.969882\n",
      "324       0.015266   0.879715  0.347511  0.969914\n",
      "366       0.017495   0.879599  0.346487  0.969964\n",
      "438       0.021405   0.879426  0.344806  0.970048\n",
      "165       0.022323   0.879392  0.344432  0.970067\n",
      "151       0.026341   0.879254  0.342883  0.970147\n",
      "     var_smoothing  oob_score  log_loss     auroc\n",
      "14        0.103956   0.873870  0.331173  0.971077\n",
      "212       0.108706   0.873663  0.331179  0.971111\n",
      "66        0.109040   0.873628  0.331181  0.971113\n",
      "487       0.101756   0.873893  0.331189  0.971061\n",
      "197       0.100839   0.873951  0.331200  0.971055\n",
      "141       0.100067   0.873997  0.331210  0.971049\n",
      "283       0.098603   0.874020  0.331235  0.971037\n",
      "139       0.096222   0.874354  0.331287  0.971019\n",
      "10        0.116273   0.873110  0.331298  0.971161\n",
      "371       0.117374   0.873086  0.331326  0.971167\n"
     ]
    },
    {
     "data": {
      "text/plain": [
       "<AxesSubplot:xlabel='var_smoothing'>"
      ]
     },
     "execution_count": 8,
     "metadata": {},
     "output_type": "execute_result"
    },
    {
     "data": {
      "text/plain": [
       "<matplotlib.legend.Legend at 0x24b0b2ef040>"
      ]
     },
     "execution_count": 8,
     "metadata": {},
     "output_type": "execute_result"
    },
    {
     "data": {
      "application/vnd.jupyter.widget-view+json": {
       "model_id": "670bedf806154235a1e09f21c8772289",
       "version_major": 2,
       "version_minor": 0
      },
      "image/png": "[encoded data removed]",
      "text/html": [
       "\n",
       "            <div style=\"display: inline-block;\">\n",
       "                <div class=\"jupyter-widgets widget-label\" style=\"text-align: center;\">\n",
       "                    Figure\n",
       "                </div>\n",
       "                <img src='data:image/png;base64,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' width=432.0/>\n",
       "            </div>\n",
       "        "
      ],
      "text/plain": [
       "Canvas(toolbar=Toolbar(toolitems=[('Home', 'Reset original view', 'home', 'home'), ('Back', 'Back to previous …"
      ]
     },
     "metadata": {},
     "output_type": "display_data"
    },
    {
     "name": "stdout",
     "output_type": "stream",
     "text": [
      "time: 312 ms\n"
     ]
    }
   ],
   "source": [
    "df = pd.DataFrame(results).sort_values(by=\"var_smoothing\", ascending=True)\n",
    "print(df.sort_values(by=\"oob_score\", ascending=False).head(10))\n",
    "print(df.sort_values(by=\"log_loss\", ascending=True).head(10))\n",
    "df.plot(x=\"var_smoothing\")\n",
    "plt.legend(frameon=False)\n",
    "sns.despine(top=True, right=True)\n",
    "plt.tight_layout()\n",
    "plt.show()\n",
    "\n",
    "df.columns = df.columns.astype(str)\n",
    "df.reset_index().to_feather(f\"{DATA_OUT_FOLDER}/var_smoothing_results_uniform.feather\")"
   ]
  },
  {
   "cell_type": "markdown",
   "metadata": {},
   "source": [
    "With a log uniform distribution instead of uniform"
   ]
  },
  {
   "cell_type": "code",
   "execution_count": 9,
   "metadata": {},
   "outputs": [
    {
     "data": {
      "application/vnd.jupyter.widget-view+json": {
       "model_id": "dc0d799bcd3a4c7e86e26e3282c42878",
       "version_major": 2,
       "version_minor": 0
      },
      "text/plain": [
       "  0%|          | 0/500 [00:00<?, ?it/s]"
      ]
     },
     "metadata": {},
     "output_type": "display_data"
    },
    {
     "name": "stdout",
     "output_type": "stream",
     "text": [
      "     var_smoothing  oob_score  log_loss     auroc\n",
      "433       0.001104   0.880418  0.355328  0.969553\n",
      "46        0.001195   0.880406  0.355270  0.969556\n",
      "391       0.001068   0.880406  0.355352  0.969552\n",
      "296       0.000190   0.880383  0.355920  0.969527\n",
      "71        0.001290   0.880383  0.355209  0.969558\n",
      "392       0.000191   0.880383  0.355920  0.969527\n",
      "63        0.000028   0.880372  0.356027  0.969522\n",
      "340       0.000020   0.880372  0.356032  0.969522\n",
      "47        0.000020   0.880372  0.356032  0.969522\n",
      "451       0.000023   0.880372  0.356030  0.969522\n",
      "     var_smoothing  oob_score  log_loss     auroc\n",
      "352       0.106015   0.873697  0.331169  0.971092\n",
      "362       0.114311   0.873202  0.331255  0.971148\n",
      "283       0.094252   0.874585  0.331342  0.971003\n",
      "457       0.093127   0.874631  0.331378  0.970994\n",
      "0         0.119780   0.872867  0.331396  0.971182\n",
      "54        0.090116   0.874735  0.331494  0.970969\n",
      "259       0.125612   0.872510  0.331615  0.971216\n",
      "70        0.125904   0.872533  0.331628  0.971218\n",
      "217       0.086032   0.875196  0.331696  0.970934\n",
      "347       0.131436   0.872141  0.331900  0.971248\n"
     ]
    },
    {
     "data": {
      "text/plain": [
       "<AxesSubplot:xlabel='var_smoothing'>"
      ]
     },
     "execution_count": 9,
     "metadata": {},
     "output_type": "execute_result"
    },
    {
     "data": {
      "text/plain": [
       "<matplotlib.legend.Legend at 0x24b0d547af0>"
      ]
     },
     "execution_count": 9,
     "metadata": {},
     "output_type": "execute_result"
    },
    {
     "data": {
      "application/vnd.jupyter.widget-view+json": {
       "model_id": "8f8bd318ca2c4fc684dd5b63f113cb05",
       "version_major": 2,
       "version_minor": 0
      },
      "image/png": "[encoded data removed]",
      "text/html": [
       "\n",
       "            <div style=\"display: inline-block;\">\n",
       "                <div class=\"jupyter-widgets widget-label\" style=\"text-align: center;\">\n",
       "                    Figure\n",
       "                </div>\n",
       "                <img src='data:image/png;base64,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' width=432.0/>\n",
       "            </div>\n",
       "        "
      ],
      "text/plain": [
       "Canvas(toolbar=Toolbar(toolitems=[('Home', 'Reset original view', 'home', 'home'), ('Back', 'Back to previous …"
      ]
     },
     "metadata": {},
     "output_type": "display_data"
    },
    {
     "name": "stdout",
     "output_type": "stream",
     "text": [
      "time: 12min 50s\n"
     ]
    }
   ],
   "source": [
    "df = data.loc[:, gnb_features]\n",
    "results = {\"var_smoothing\": [], \"oob_score\": [], \"log_loss\": [], \"auroc\": []}\n",
    "make_gnb = lambda var_smoothing: BaggingClassifier(\n",
    "    base_estimator=GaussianNB(var_smoothing=var_smoothing),\n",
    "    n_estimators=50,\n",
    "    oob_score=True,\n",
    "    n_jobs=-1,\n",
    "    random_state=SEED,\n",
    "    # verbose=1,\n",
    ").fit(df, y_true)\n",
    "for hp in tqdm(loguniform.rvs(1e-10, 10, size=500)):\n",
    "    gnb = make_gnb(hp)\n",
    "    results[\"var_smoothing\"].append(hp)\n",
    "    results[\"oob_score\"].append(gnb.oob_score_)\n",
    "    results[\"auroc\"].append(\n",
    "        roc_auc_score(y_true, y_pred := gnb.predict_proba(df), multi_class=\"ovo\")\n",
    "    )\n",
    "    results[\"log_loss\"].append(log_loss(y_true, y_pred))\n",
    "\n",
    "# save results\n",
    "df = pd.DataFrame(results).sort_values(by=\"var_smoothing\", ascending=True)\n",
    "print(df.sort_values(by=\"oob_score\", ascending=False).head(10))\n",
    "print(df.sort_values(by=\"log_loss\", ascending=True).head(10))\n",
    "df.columns = df.columns.astype(str)\n",
    "df.reset_index().to_feather(\n",
    "    f\"{DATA_OUT_FOLDER}/var_smoothing_results_loguniform.feather\"\n",
    ")\n",
    "\n",
    "# scale and plot\n",
    "df.loc[:, \"var_smoothing\"] = np.log(df.loc[:, \"var_smoothing\"])\n",
    "df.plot(x=\"var_smoothing\")\n",
    "plt.legend(frameon=False)\n",
    "sns.despine(top=True, right=True)\n",
    "plt.tight_layout()\n",
    "plt.show()"
   ]
  },
  {
   "cell_type": "markdown",
   "metadata": {},
   "source": [
    "Let's take a closer look near 0."
   ]
  },
  {
   "cell_type": "code",
   "execution_count": 10,
   "metadata": {},
   "outputs": [
    {
     "data": {
      "application/vnd.jupyter.widget-view+json": {
       "model_id": "32cb13d7216d41f385bb4665b3377a5e",
       "version_major": 2,
       "version_minor": 0
      },
      "text/plain": [
       "  0%|          | 0/500 [00:00<?, ?it/s]"
      ]
     },
     "metadata": {},
     "output_type": "display_data"
    },
    {
     "name": "stdout",
     "output_type": "stream",
     "text": [
      "     var_smoothing  oob_score  log_loss     auroc\n",
      "2         0.001109   0.880429  0.355325  0.969553\n",
      "27        0.001033   0.880383  0.355374  0.969551\n",
      "151       0.000979   0.880383  0.355409  0.969550\n",
      "348       0.000013   0.880372  0.356036  0.969522\n",
      "128       0.000017   0.880372  0.356034  0.969522\n",
      "441       0.000056   0.880372  0.356009  0.969523\n",
      "352       0.000043   0.880372  0.356017  0.969523\n",
      "246       0.000028   0.880372  0.356027  0.969522\n",
      "413       0.000026   0.880372  0.356028  0.969522\n",
      "428       0.000023   0.880372  0.356030  0.969522\n",
      "     var_smoothing  oob_score  log_loss     auroc\n",
      "186       0.089905   0.874746  0.331503  0.970967\n",
      "208       0.128466   0.872337  0.331747  0.971232\n",
      "147       0.130838   0.872084  0.331868  0.971245\n",
      "67        0.080458   0.875519  0.332057  0.970883\n",
      "461       0.080064   0.875599  0.332087  0.970879\n",
      "129       0.072837   0.875991  0.332728  0.970808\n",
      "193       0.147674   0.870504  0.333006  0.971328\n",
      "35        0.148097   0.870447  0.333041  0.971329\n",
      "15        0.149598   0.870355  0.333165  0.971336\n",
      "275       0.059973   0.877167  0.334384  0.970664\n"
     ]
    },
    {
     "data": {
      "text/plain": [
       "<AxesSubplot:xlabel='var_smoothing'>"
      ]
     },
     "execution_count": 10,
     "metadata": {},
     "output_type": "execute_result"
    },
    {
     "data": {
      "text/plain": [
       "<matplotlib.legend.Legend at 0x24b0dcaa610>"
      ]
     },
     "execution_count": 10,
     "metadata": {},
     "output_type": "execute_result"
    },
    {
     "data": {
      "application/vnd.jupyter.widget-view+json": {
       "model_id": "be252653dd06443387ed16c887238092",
       "version_major": 2,
       "version_minor": 0
      },
      "image/png": "[encoded data removed]",
      "text/html": [
       "\n",
       "            <div style=\"display: inline-block;\">\n",
       "                <div class=\"jupyter-widgets widget-label\" style=\"text-align: center;\">\n",
       "                    Figure\n",
       "                </div>\n",
       "                <img src='data:image/png;base64,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' width=432.0/>\n",
       "            </div>\n",
       "        "
      ],
      "text/plain": [
       "Canvas(toolbar=Toolbar(toolitems=[('Home', 'Reset original view', 'home', 'home'), ('Back', 'Back to previous …"
      ]
     },
     "metadata": {},
     "output_type": "display_data"
    },
    {
     "name": "stdout",
     "output_type": "stream",
     "text": [
      "time: 13min 25s\n"
     ]
    }
   ],
   "source": [
    "df = data.loc[:, gnb_features]\n",
    "results = {\"var_smoothing\": [], \"oob_score\": [], \"log_loss\": [], \"auroc\": []}\n",
    "make_gnb = lambda var_smoothing: BaggingClassifier(\n",
    "    base_estimator=GaussianNB(var_smoothing=var_smoothing),\n",
    "    n_estimators=50,\n",
    "    oob_score=True,\n",
    "    n_jobs=-1,\n",
    "    random_state=SEED,\n",
    "    # verbose=1,\n",
    ").fit(df, y_true)\n",
    "for hp in tqdm(loguniform.rvs(1e-20, 1.0, size=500)):\n",
    "    gnb = make_gnb(hp)\n",
    "    results[\"var_smoothing\"].append(hp)\n",
    "    results[\"oob_score\"].append(gnb.oob_score_)\n",
    "    results[\"auroc\"].append(\n",
    "        roc_auc_score(y_true, y_pred := gnb.predict_proba(df), multi_class=\"ovo\")\n",
    "    )\n",
    "    results[\"log_loss\"].append(log_loss(y_true, y_pred))\n",
    "\n",
    "# save results\n",
    "df = pd.DataFrame(results).sort_values(by=\"var_smoothing\", ascending=True)\n",
    "print(df.sort_values(by=\"oob_score\", ascending=False).head(10))\n",
    "print(df.sort_values(by=\"log_loss\", ascending=True).head(10))\n",
    "df.columns = df.columns.astype(str)\n",
    "df.reset_index().to_feather(\n",
    "    f\"{DATA_OUT_FOLDER}/var_smoothing_results_loguniform.feather\"\n",
    ")\n",
    "\n",
    "# scale and plot\n",
    "df.loc[:, \"var_smoothing\"] = np.log(df.loc[:, \"var_smoothing\"])\n",
    "df.plot(x=\"var_smoothing\")\n",
    "plt.legend(frameon=False)\n",
    "sns.despine(top=True, right=True)\n",
    "plt.tight_layout()\n",
    "plt.show()"
   ]
  },
  {
   "cell_type": "markdown",
   "metadata": {},
   "source": [
    "hardly makes a difference; what if it's 0?"
   ]
  },
  {
   "cell_type": "code",
   "execution_count": 11,
   "metadata": {},
   "outputs": [
    {
     "name": "stdout",
     "output_type": "stream",
     "text": [
      "OOB score 0.8803601069715972\n",
      "auroc 0.9695215025075085\n",
      "log_loss 0.356045284227066\n",
      "time: 4.59 s\n"
     ]
    }
   ],
   "source": [
    "df = data.loc[:, gnb_features]\n",
    "gnb = BaggingClassifier(\n",
    "    base_estimator=GaussianNB(var_smoothing=0.0),\n",
    "    n_estimators=50,\n",
    "    oob_score=True,\n",
    "    n_jobs=-1,\n",
    "    random_state=SEED,\n",
    "    # verbose=1,\n",
    ").fit(df, y_true)\n",
    "print(\"OOB score\", gnb.oob_score_)\n",
    "print(\n",
    "    \"auroc\", roc_auc_score(y_true, y_pred := gnb.predict_proba(df), multi_class=\"ovo\")\n",
    ")\n",
    "print(\"log_loss\", log_loss(y_true, y_pred))"
   ]
  },
  {
   "cell_type": "markdown",
   "metadata": {},
   "source": [
    "# n_estimators"
   ]
  },
  {
   "cell_type": "code",
   "execution_count": 12,
   "metadata": {},
   "outputs": [
    {
     "data": {
      "application/vnd.jupyter.widget-view+json": {
       "model_id": "f2ce788bb6e544a483ef6321744f28d5",
       "version_major": 2,
       "version_minor": 0
      },
      "text/plain": [
       "  0%|          | 0/199 [00:00<?, ?it/s]"
      ]
     },
     "metadata": {},
     "output_type": "display_data"
    },
    {
     "name": "stdout",
     "output_type": "stream",
     "text": [
      "    n_estimators  oob_score  log_loss     auroc\n",
      "27            29   0.880429  0.355890  0.969521\n",
      "29            31   0.880429  0.355889  0.969524\n",
      "25            27   0.880418  0.355954  0.969522\n",
      "24            26   0.880418  0.355923  0.969523\n",
      "26            28   0.880418  0.355911  0.969522\n",
      "30            32   0.880418  0.355878  0.969525\n",
      "22            24   0.880406  0.355806  0.969531\n",
      "28            30   0.880406  0.355880  0.969523\n",
      "18            20   0.880395  0.355873  0.969528\n",
      "23            25   0.880395  0.355861  0.969526\n",
      "   n_estimators  oob_score  log_loss     auroc\n",
      "3             5   0.844603  0.354656  0.969577\n",
      "4             6   0.858124  0.354727  0.969580\n",
      "5             7   0.866147  0.354849  0.969562\n",
      "2             4   0.823785  0.354931  0.969562\n",
      "6             8   0.871277  0.354950  0.969560\n",
      "1             3   0.792477  0.354983  0.969532\n",
      "7             9   0.874700  0.355185  0.969548\n",
      "8            10   0.876971  0.355254  0.969547\n",
      "0             2   0.740479  0.355268  0.969512\n",
      "9            11   0.878228  0.355394  0.969541\n"
     ]
    },
    {
     "data": {
      "text/plain": [
       "<AxesSubplot:xlabel='n_estimators'>"
      ]
     },
     "execution_count": 12,
     "metadata": {},
     "output_type": "execute_result"
    },
    {
     "data": {
      "text/plain": [
       "<matplotlib.legend.Legend at 0x24b0cfee2e0>"
      ]
     },
     "execution_count": 12,
     "metadata": {},
     "output_type": "execute_result"
    },
    {
     "data": {
      "application/vnd.jupyter.widget-view+json": {
       "model_id": "e8ac12bda49a4a77b30e80f191524c48",
       "version_major": 2,
       "version_minor": 0
      },
      "image/png": "[encoded data removed]",
      "text/html": [
       "\n",
       "            <div style=\"display: inline-block;\">\n",
       "                <div class=\"jupyter-widgets widget-label\" style=\"text-align: center;\">\n",
       "                    Figure\n",
       "                </div>\n",
       "                <img src='data:image/png;base64,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' width=432.0/>\n",
       "            </div>\n",
       "        "
      ],
      "text/plain": [
       "Canvas(toolbar=Toolbar(toolitems=[('Home', 'Reset original view', 'home', 'home'), ('Back', 'Back to previous …"
      ]
     },
     "metadata": {},
     "output_type": "display_data"
    },
    {
     "name": "stdout",
     "output_type": "stream",
     "text": [
      "time: 9min 47s\n"
     ]
    }
   ],
   "source": [
    "df = data.loc[:, gnb_features]\n",
    "results = {\"n_estimators\": [], \"oob_score\": [], \"log_loss\": [], \"auroc\": []}\n",
    "# oob_score only available when warm_start=False\n",
    "# gnb = BaggingClassifier(\n",
    "#     base_estimator=GaussianNB(),\n",
    "#     n_estimators=2,\n",
    "#     oob_score=True,\n",
    "#     warm_start=True,\n",
    "#     n_jobs=-1,\n",
    "#     random_state=SEED,\n",
    "#     verbose=1,\n",
    "# )\n",
    "make_gnb = lambda n_estimators: BaggingClassifier(\n",
    "    base_estimator=GaussianNB(),\n",
    "    n_estimators=n_estimators,\n",
    "    oob_score=True,\n",
    "    warm_start=False,\n",
    "    n_jobs=-1,\n",
    "    random_state=SEED,\n",
    "    # verbose=1,\n",
    ")\n",
    "\n",
    "# while gnb.n_estimators < 100:\n",
    "for n in tqdm(range(2, 201)):\n",
    "    # model = gnb.fit(df, y_true)\n",
    "    model = make_gnb(n).fit(df, y_true)\n",
    "    # results[\"n_estimators\"].append(gnb.n_estimators)\n",
    "    results[\"n_estimators\"].append(n)\n",
    "    results[\"oob_score\"].append(model.oob_score_)\n",
    "    results[\"auroc\"].append(\n",
    "        roc_auc_score(y_true, y_pred := model.predict_proba(df), multi_class=\"ovo\")\n",
    "    )\n",
    "    results[\"log_loss\"].append(log_loss(y_true, y_pred))\n",
    "    # gnb.n_estimators += 1\n",
    "\n",
    "# save results\n",
    "df = pd.DataFrame(results).sort_values(by=\"n_estimators\", ascending=True)\n",
    "print(df.sort_values(by=\"oob_score\", ascending=False).head(10))\n",
    "print(df.sort_values(by=\"log_loss\", ascending=True).head(10))\n",
    "df.columns = df.columns.astype(str)\n",
    "df.reset_index().to_feather(f\"{DATA_OUT_FOLDER}/GNB_n_estimators_results.feather\")\n",
    "\n",
    "# plot\n",
    "df.plot(x=\"n_estimators\")\n",
    "plt.legend(frameon=False)\n",
    "sns.despine(top=True, right=True)\n",
    "plt.tight_layout()\n",
    "plt.show()"
   ]
  },
  {
   "cell_type": "code",
   "execution_count": 14,
   "metadata": {},
   "outputs": [
    {
     "name": "stdout",
     "output_type": "stream",
     "text": [
      "    n_estimators  oob_score  log_loss     auroc\n",
      "4              6   0.858124  0.354727  0.969580\n",
      "3              5   0.844603  0.354656  0.969577\n",
      "5              7   0.866147  0.354849  0.969562\n",
      "2              4   0.823785  0.354931  0.969562\n",
      "6              8   0.871277  0.354950  0.969560\n",
      "7              9   0.874700  0.355185  0.969548\n",
      "8             10   0.876971  0.355254  0.969547\n",
      "11            13   0.879403  0.355468  0.969541\n",
      "9             11   0.878228  0.355394  0.969541\n",
      "14            16   0.880153  0.355587  0.969537\n",
      "time: 7.1 ms\n"
     ]
    }
   ],
   "source": [
    "print(df.sort_values(by=\"auroc\", ascending=False).head(10))"
   ]
  },
  {
   "cell_type": "markdown",
   "metadata": {},
   "source": [
    "# Discussion"
   ]
  },
  {
   "cell_type": "markdown",
   "metadata": {},
   "source": [
    "`var_smoothing` doesn't appear to be an important hyperparameter in this situation. Performance appears to cap at `n_estimators = 25`."
   ]
  },
  {
   "cell_type": "markdown",
   "metadata": {},
   "source": [
    "There are so many more possibilities for feature engineering. Upstream augmentation of the raw audio would probably be helpful as would resampling.\n",
    "\n",
    "It's important to be disciplined now and focus on deployment. Although there are numerous points of interest where tweaking is likely to yield better results, we are only deviating slightly from the feature engineering pathway we already established."
   ]
  },
  {
   "cell_type": "code",
   "execution_count": 13,
   "metadata": {},
   "outputs": [
    {
     "name": "stdout",
     "output_type": "stream",
     "text": [
      "Time elapsed since notebook_begin_time: 4185.689688205719 s\n",
      "time: 253 ms\n"
     ]
    }
   ],
   "source": [
    "print(f\"Time elapsed since notebook_begin_time: {time() - notebook_begin_time} s\")\n",
    "_ = gc_collect()"
   ]
  },
  {
   "cell_type": "markdown",
   "metadata": {},
   "source": [
    "[^top](#Contents)"
   ]
  },
  {
   "cell_type": "code",
   "execution_count": null,
   "metadata": {},
   "outputs": [],
   "source": []
  }
 ],
 "metadata": {
  "interpreter": {
   "hash": "e1781be99c106060f3abc0c9b91d3d379f24672894e2158d4b74304109955878"
  },
  "kernelspec": {
   "display_name": "Python [conda env:capstone_pyspark_38] *",
   "language": "python",
   "name": "python3"
  },
  "language_info": {
   "codemirror_mode": {
    "name": "ipython",
    "version": 3
   },
   "file_extension": ".py",
   "mimetype": "text/x-python",
   "name": "python",
   "nbconvert_exporter": "python",
   "pygments_lexer": "ipython3",
   "version": "3.8.12"
  }
 },
 "nbformat": 4,
 "nbformat_minor": 4
}
