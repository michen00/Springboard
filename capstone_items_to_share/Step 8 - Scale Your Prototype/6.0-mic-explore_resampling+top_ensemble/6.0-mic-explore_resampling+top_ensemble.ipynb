{
 "cells": [
  {
   "cell_type": "markdown",
   "metadata": {},
   "source": [
    "# Contents\n",
    "* [Introduction](#Introduction)\n",
    "  * [FRILL](#FRILL)\n",
    "* [Imports and configuration](#Imports-and-configuration)\n",
    "* [Data loading](#Data-loading)\n",
    "* [Strata](#Strata)\n",
    "* [Setup](#Setup)\n",
    "* [Models](#Models)\n",
    "* [Test harness](#Test-harness)\n",
    "* [Metaclassifier](#Metaclassifier)\n",
    "* [Results](#Results)\n",
    "  * [Classifier prediction correlations](#Classifier-prediction-correlations)\n",
    "* [Discussion](#Discussion)"
   ]
  },
  {
   "cell_type": "markdown",
   "metadata": {},
   "source": [
    "# Introduction\n",
    "\n",
    "In this notebook, the most performant models and the tree-based methods from previous explorations are respectively ensembled. Scaling and resampling are introduced to mitigate class imbalance. The geometric mean metric is introduced in this notebook as well in addition to 5-fold cross validation.\n",
    "\n",
    "A test harness is prepared for multinomial ternary classification. The results are visualized and discussed."
   ]
  },
  {
   "cell_type": "markdown",
   "metadata": {},
   "source": [
    "## FRILL\n",
    "\n",
    "Here are two abstracts to introduce the FRILL embedding:"
   ]
  },
  {
   "cell_type": "markdown",
   "metadata": {},
   "source": [
    "  [Towards Learning a Universal Non-Semantic Representation of Speech (2020)](#https://doi.org/10.21437/Interspeech.2020-1242)\n",
    "> The ultimate goal of transfer learning is to reduce labeled data requirements by exploiting a pre-existing embedding model trained for different datasets or tasks. The visual and language communities have established benchmarks to compare embeddings, but the speech community has yet to do so. This paper proposes a benchmark for comparing speech representations on non-semantic tasks, and proposes a representation based on an unsupervised triplet-loss objective. The proposed representation outperforms other representations on the benchmark, and even exceeds state-of-the-art performance on a number of transfer learning tasks. The embedding is trained on a publicly available dataset, and it is tested on a variety of low-resource downstream tasks, including personalization tasks and medical domain. The benchmark, models, and evaluation code are publicly released.\n",
    "\n",
    "  [FRILL: A Non-Semantic Speech Embedding for Mobile Devices (2021)](#https://arxiv.org/abs/2011.04609)\n",
    "> Learned speech representations can drastically improve performance on tasks with limited labeled data. However, due to their size and complexity, learned representations have limited utility in mobile settings where run-time performance can be a significant bottleneck. In this work, we propose a class of lightweight non-semantic speech embedding models that run efficiently on mobile devices based on the recently proposed TRILL speech embedding. We combine novel architectural modifications with existing speed-up techniques to create embedding models that are fast enough to run in real-time on a mobile device and exhibit minimal performance degradation on a benchmark of non-semantic speech tasks. One such model (FRILL) is 32x faster on a Pixel 1 smartphone and 40% the size of TRILL, with an average decrease in accuracy of only 2%. To our knowledge, FRILL is the highest-quality non-semantic embedding designed for use on mobile devices. Furthermore, we demonstrate that these representations are useful for mobile health tasks such as non-speech human sounds detection and face-masked speech detection. Our models and code are publicly available.\n",
    "\n",
    "FRILL is therefore a promising embedding since non-semantic aspects of speech signals is what distinguishes each class for this data. And it's fast!\n",
    "\n",
    "Moreover, its output representation is a 2,048-element vector irrespective of input size. FRILL enables uniform handling of ragged sequences in an output format that is potentially more compact than spectrograms and MFCCs.\n",
    "\n",
    "Furthermore, the FRILL representations are not time series, affording the full armamentarium of classifiers."
   ]
  },
  {
   "cell_type": "markdown",
   "metadata": {},
   "source": [
    "# Imports and configuration"
   ]
  },
  {
   "cell_type": "code",
   "execution_count": 1,
   "metadata": {},
   "outputs": [],
   "source": [
    "from time import time\n",
    "\n",
    "notebook_begin_time = time()\n",
    "\n",
    "# set random seeds\n",
    "\n",
    "from os import environ\n",
    "from random import seed as random_seed\n",
    "from numpy.random import seed as np_seed\n",
    "from tensorflow.random import set_seed\n",
    "\n",
    "\n",
    "def reset_seeds(seed: int) -> None:\n",
    "    \"\"\"Utility function for resetting random seeds\"\"\"\n",
    "    environ[\"PYTHONHASHSEED\"] = str(seed)\n",
    "    random_seed(seed)\n",
    "    np_seed(seed)\n",
    "    set_seed(seed)\n",
    "\n",
    "\n",
    "reset_seeds(SEED := 2021)\n",
    "del environ\n",
    "del random_seed\n",
    "del np_seed\n",
    "del set_seed\n",
    "del reset_seeds"
   ]
  },
  {
   "cell_type": "code",
   "execution_count": 2,
   "metadata": {},
   "outputs": [],
   "source": [
    "# extensions\n",
    "%load_ext autotime\n",
    "%load_ext lab_black\n",
    "%load_ext nb_black"
   ]
  },
  {
   "cell_type": "code",
   "execution_count": 3,
   "metadata": {},
   "outputs": [
    {
     "name": "stderr",
     "output_type": "stream",
     "text": [
      "Intel(R) Extension for Scikit-learn* enabled (https://github.com/intel/scikit-learn-intelex)\n"
     ]
    },
    {
     "name": "stdout",
     "output_type": "stream",
     "text": [
      "time: 5.37 s\n"
     ]
    }
   ],
   "source": [
    "# core\n",
    "import numpy as np\n",
    "import pandas as pd\n",
    "\n",
    "# utility\n",
    "from collections import namedtuple\n",
    "from gc import collect as gc_collect\n",
    "from tqdm.notebook import tqdm\n",
    "\n",
    "# typing\n",
    "from typing import Dict, List\n",
    "\n",
    "# faster pandas & sklearn\n",
    "import swifter\n",
    "from sklearnex import patch_sklearn\n",
    "\n",
    "patch_sklearn()\n",
    "del patch_sklearn\n",
    "\n",
    "# metrics\n",
    "from imblearn.metrics import geometric_mean_score\n",
    "from sklearn.metrics import balanced_accuracy_score, f1_score\n",
    "\n",
    "# scale & resample\n",
    "from sklearn.preprocessing import StandardScaler\n",
    "from imblearn.over_sampling import ADASYN\n",
    "from imblearn.under_sampling import OneSidedSelection\n",
    "\n",
    "# cross validator\n",
    "from sklearn.model_selection import StratifiedGroupKFold\n",
    "\n",
    "# sklearn classifiers\n",
    "from sklearn.dummy import DummyClassifier\n",
    "from sklearn.ensemble import (\n",
    "    AdaBoostClassifier,\n",
    "    RandomForestClassifier,\n",
    "    StackingClassifier,\n",
    ")\n",
    "from sklearn.linear_model import LogisticRegression, RidgeClassifier, SGDClassifier\n",
    "from sklearn.neural_network import MLPClassifier\n",
    "from sklearn.svm import SVC\n",
    "\n",
    "# other boosting classifiers\n",
    "from lightgbm import LGBMClassifier\n",
    "from xgboost import XGBClassifier\n",
    "\n",
    "# visualization\n",
    "import matplotlib.pyplot as plt\n",
    "import seaborn as sns\n",
    "\n",
    "sns.set_context(\"notebook\")\n",
    "sns.set_style(\"whitegrid\")\n",
    "%matplotlib inline\n",
    "\n",
    "# display outputs w/o print calls\n",
    "from IPython.core.interactiveshell import InteractiveShell\n",
    "\n",
    "InteractiveShell.ast_node_interactivity = \"all\"\n",
    "del InteractiveShell\n",
    "\n",
    "# hide warnings\n",
    "import warnings\n",
    "\n",
    "warnings.filterwarnings(\"ignore\")\n",
    "del warnings"
   ]
  },
  {
   "cell_type": "code",
   "execution_count": 4,
   "metadata": {},
   "outputs": [
    {
     "name": "stdout",
     "output_type": "stream",
     "text": [
      "time: 137 ms\n"
     ]
    }
   ],
   "source": [
    "# Location of FRILL .feather files\n",
    "FRILL_FEATHERS_FOLDER = \"../1.0-mic-extract_FRILL_embeddings\"\n",
    "\n",
    "# Location where this notebook will output\n",
    "DATA_OUT_FOLDER = \".\"\n",
    "\n",
    "_ = gc_collect()"
   ]
  },
  {
   "cell_type": "markdown",
   "metadata": {},
   "source": [
    "# Data loading"
   ]
  },
  {
   "cell_type": "code",
   "execution_count": 5,
   "metadata": {},
   "outputs": [
    {
     "name": "stdout",
     "output_type": "stream",
     "text": [
      "time: 376 ms\n"
     ]
    }
   ],
   "source": [
    "keep_columns = [\n",
    "    \"id\",\n",
    "    \"source\",\n",
    "    \"speaker_id\",\n",
    "    \"speaker_gender\",\n",
    "    \"emo\",\n",
    "    \"valence\",\n",
    "    \"lang1\",\n",
    "    \"length\",\n",
    "]\n",
    "\n",
    "data = pd.read_feather(f\"{FRILL_FEATHERS_FOLDER}/dev_FRILL.feather\").set_index(\"id\")\n",
    "labels = pd.read_feather(\n",
    "    f\"{FRILL_FEATHERS_FOLDER}/dev_labels.feather\", columns=keep_columns\n",
    ").set_index(\"id\")"
   ]
  },
  {
   "cell_type": "code",
   "execution_count": 6,
   "metadata": {},
   "outputs": [
    {
     "name": "stdout",
     "output_type": "stream",
     "text": [
      "time: 151 ms\n"
     ]
    }
   ],
   "source": [
    "# uncomment lines to undersample data\n",
    "# data = data.sample(frac=0.02, random_state=SEED).sort_index()\n",
    "# labels = labels.loc[data.index, :]\n",
    "\n",
    "assert all(data.index == labels.index)\n",
    "_ = gc_collect()"
   ]
  },
  {
   "cell_type": "code",
   "execution_count": 7,
   "metadata": {},
   "outputs": [
    {
     "data": {
      "text/html": [
       "<div>\n",
       "<style scoped>\n",
       "    .dataframe tbody tr th:only-of-type {\n",
       "        vertical-align: middle;\n",
       "    }\n",
       "\n",
       "    .dataframe tbody tr th {\n",
       "        vertical-align: top;\n",
       "    }\n",
       "\n",
       "    .dataframe thead th {\n",
       "        text-align: right;\n",
       "    }\n",
       "</style>\n",
       "<table border=\"1\" class=\"dataframe\">\n",
       "  <thead>\n",
       "    <tr style=\"text-align: right;\">\n",
       "      <th></th>\n",
       "      <th>0</th>\n",
       "      <th>1</th>\n",
       "      <th>2</th>\n",
       "      <th>3</th>\n",
       "      <th>4</th>\n",
       "      <th>5</th>\n",
       "      <th>6</th>\n",
       "      <th>7</th>\n",
       "      <th>8</th>\n",
       "      <th>9</th>\n",
       "      <th>...</th>\n",
       "      <th>2038</th>\n",
       "      <th>2039</th>\n",
       "      <th>2040</th>\n",
       "      <th>2041</th>\n",
       "      <th>2042</th>\n",
       "      <th>2043</th>\n",
       "      <th>2044</th>\n",
       "      <th>2045</th>\n",
       "      <th>2046</th>\n",
       "      <th>2047</th>\n",
       "    </tr>\n",
       "    <tr>\n",
       "      <th>id</th>\n",
       "      <th></th>\n",
       "      <th></th>\n",
       "      <th></th>\n",
       "      <th></th>\n",
       "      <th></th>\n",
       "      <th></th>\n",
       "      <th></th>\n",
       "      <th></th>\n",
       "      <th></th>\n",
       "      <th></th>\n",
       "      <th></th>\n",
       "      <th></th>\n",
       "      <th></th>\n",
       "      <th></th>\n",
       "      <th></th>\n",
       "      <th></th>\n",
       "      <th></th>\n",
       "      <th></th>\n",
       "      <th></th>\n",
       "      <th></th>\n",
       "      <th></th>\n",
       "    </tr>\n",
       "  </thead>\n",
       "  <tbody>\n",
       "    <tr>\n",
       "      <th>0</th>\n",
       "      <td>0.119926</td>\n",
       "      <td>-0.049218</td>\n",
       "      <td>0.039702</td>\n",
       "      <td>0.141101</td>\n",
       "      <td>0.044318</td>\n",
       "      <td>0.049631</td>\n",
       "      <td>0.016178</td>\n",
       "      <td>0.025797</td>\n",
       "      <td>-0.104466</td>\n",
       "      <td>-0.016044</td>\n",
       "      <td>...</td>\n",
       "      <td>-0.226529</td>\n",
       "      <td>-0.091773</td>\n",
       "      <td>0.028184</td>\n",
       "      <td>-0.074794</td>\n",
       "      <td>0.025474</td>\n",
       "      <td>0.046511</td>\n",
       "      <td>-0.002693</td>\n",
       "      <td>-0.017953</td>\n",
       "      <td>-0.146394</td>\n",
       "      <td>-0.06233</td>\n",
       "    </tr>\n",
       "  </tbody>\n",
       "</table>\n",
       "<p>1 rows × 2048 columns</p>\n",
       "</div>"
      ],
      "text/plain": [
       "           0         1         2         3         4         5         6  \\\n",
       "id                                                                         \n",
       "0   0.119926 -0.049218  0.039702  0.141101  0.044318  0.049631  0.016178   \n",
       "\n",
       "           7         8         9  ...      2038      2039      2040      2041  \\\n",
       "id                                ...                                           \n",
       "0   0.025797 -0.104466 -0.016044  ... -0.226529 -0.091773  0.028184 -0.074794   \n",
       "\n",
       "        2042      2043      2044      2045      2046     2047  \n",
       "id                                                             \n",
       "0   0.025474  0.046511 -0.002693 -0.017953 -0.146394 -0.06233  \n",
       "\n",
       "[1 rows x 2048 columns]"
      ]
     },
     "execution_count": 7,
     "metadata": {},
     "output_type": "execute_result"
    },
    {
     "name": "stdout",
     "output_type": "stream",
     "text": [
      "<class 'pandas.core.frame.DataFrame'>\n",
      "UInt64Index: 17703 entries, 0 to 39247\n",
      "Columns: 2048 entries, 0 to 2047\n",
      "dtypes: float32(2048)\n",
      "memory usage: 138.4 MB\n"
     ]
    },
    {
     "data": {
      "text/html": [
       "<div>\n",
       "<style scoped>\n",
       "    .dataframe tbody tr th:only-of-type {\n",
       "        vertical-align: middle;\n",
       "    }\n",
       "\n",
       "    .dataframe tbody tr th {\n",
       "        vertical-align: top;\n",
       "    }\n",
       "\n",
       "    .dataframe thead th {\n",
       "        text-align: right;\n",
       "    }\n",
       "</style>\n",
       "<table border=\"1\" class=\"dataframe\">\n",
       "  <thead>\n",
       "    <tr style=\"text-align: right;\">\n",
       "      <th></th>\n",
       "      <th>source</th>\n",
       "      <th>speaker_id</th>\n",
       "      <th>speaker_gender</th>\n",
       "      <th>emo</th>\n",
       "      <th>valence</th>\n",
       "      <th>lang1</th>\n",
       "      <th>length</th>\n",
       "    </tr>\n",
       "    <tr>\n",
       "      <th>id</th>\n",
       "      <th></th>\n",
       "      <th></th>\n",
       "      <th></th>\n",
       "      <th></th>\n",
       "      <th></th>\n",
       "      <th></th>\n",
       "      <th></th>\n",
       "    </tr>\n",
       "  </thead>\n",
       "  <tbody>\n",
       "    <tr>\n",
       "      <th>0</th>\n",
       "      <td>aesdd</td>\n",
       "      <td>aesdd.1</td>\n",
       "      <td>f</td>\n",
       "      <td>ang</td>\n",
       "      <td>0</td>\n",
       "      <td>ell</td>\n",
       "      <td>medium</td>\n",
       "    </tr>\n",
       "  </tbody>\n",
       "</table>\n",
       "</div>"
      ],
      "text/plain": [
       "   source speaker_id speaker_gender  emo  valence lang1  length\n",
       "id                                                             \n",
       "0   aesdd    aesdd.1              f  ang        0   ell  medium"
      ]
     },
     "execution_count": 7,
     "metadata": {},
     "output_type": "execute_result"
    },
    {
     "name": "stdout",
     "output_type": "stream",
     "text": [
      "<class 'pandas.core.frame.DataFrame'>\n",
      "UInt64Index: 17703 entries, 0 to 39247\n",
      "Data columns (total 7 columns):\n",
      " #   Column          Non-Null Count  Dtype   \n",
      "---  ------          --------------  -----   \n",
      " 0   source          17703 non-null  category\n",
      " 1   speaker_id      17703 non-null  category\n",
      " 2   speaker_gender  17703 non-null  category\n",
      " 3   emo             17703 non-null  category\n",
      " 4   valence         17703 non-null  int8    \n",
      " 5   lang1           17703 non-null  category\n",
      " 6   length          17703 non-null  category\n",
      "dtypes: category(6), int8(1)\n",
      "memory usage: 321.6 KB\n",
      "time: 227 ms\n"
     ]
    }
   ],
   "source": [
    "data.head(1)\n",
    "data.info()\n",
    "labels.head(1)\n",
    "labels.info()"
   ]
  },
  {
   "cell_type": "markdown",
   "metadata": {},
   "source": [
    "# Strata\n",
    "\n",
    "In this section, strata are set up for the train-test split."
   ]
  },
  {
   "cell_type": "code",
   "execution_count": 8,
   "metadata": {},
   "outputs": [
    {
     "name": "stderr",
     "output_type": "stream",
     "text": [
      "Pandas Apply: 100%|██████████| 17703/17703 [00:00<00:00, 47025.83it/s]"
     ]
    },
    {
     "name": "stdout",
     "output_type": "stream",
     "text": [
      "time: 452 ms\n"
     ]
    },
    {
     "name": "stderr",
     "output_type": "stream",
     "text": [
      "\n"
     ]
    }
   ],
   "source": [
    "N_SPLITS = 5\n",
    "\n",
    "# fields are concatentated for quick permutation omitting non-existent combos\n",
    "strata = labels[[\"source\", \"speaker_gender\", \"emo\", \"valence\", \"lang1\", \"length\"]]\n",
    "strata.valence = strata.valence.astype(str)\n",
    "strata = strata.swifter.apply(\"\".join, axis=1)"
   ]
  },
  {
   "cell_type": "code",
   "execution_count": 9,
   "metadata": {},
   "outputs": [
    {
     "name": "stdout",
     "output_type": "stream",
     "text": [
      "time: 132 ms\n"
     ]
    }
   ],
   "source": [
    "# utility function for identifying strata with only i occurences\n",
    "def get_solo(i: int, strata_: pd.Series) -> np.ndarray:\n",
    "    \"\"\"Given a series of stratum memberships, return a shuffled array of strata with only i members.\"\"\"\n",
    "    return np.unique(\n",
    "        strata_.loc[\n",
    "            strata_.isin(\n",
    "                (strata_counts := strata_.value_counts())\n",
    "                .where(strata_counts == i)\n",
    "                .dropna()\n",
    "                .index\n",
    "            )\n",
    "        ]\n",
    "        .sample(frac=1, random_state=SEED)\n",
    "        .values\n",
    "    )\n",
    "\n",
    "\n",
    "# get solos, print stuff\n",
    "def get_onlys(\n",
    "    strata_: pd.Series, print_me: str = \"\", n_splits: int = N_SPLITS\n",
    ") -> List[Dict[int, np.ndarray]]:\n",
    "    \"\"\"Optinally prints something and returns calls of get_solo on strata_ in a list\"\"\"\n",
    "    print(print_me)\n",
    "    solos = []\n",
    "    for i in range(1, n_splits):\n",
    "        solo: np.ndarray = get_solo(i, strata_)\n",
    "        print(f\"only {i}:\", (_ := solo.size))\n",
    "        if _:  # >= 1 strata with only i samples\n",
    "            solos.append({i: solo})\n",
    "    return solos\n",
    "\n",
    "\n",
    "def process_strata(strata: pd.Series, n_splits: int = N_SPLITS) -> pd.Series:\n",
    "    \"\"\"Corrects strata membership column according to n_splits\"\"\"\n",
    "\n",
    "    count = get_onlys_calls = 0\n",
    "\n",
    "    # convenience function\n",
    "    strata_replace = lambda to_replace: strata.replace(\n",
    "        to_replace, f\"stratum_group_{count}\", inplace=True\n",
    "    )\n",
    "\n",
    "    while onlys := get_onlys(\n",
    "        strata,\n",
    "        print_me=f\"merge passes performed: {get_onlys_calls}\",\n",
    "        n_splits=n_splits,\n",
    "    ):\n",
    "        get_onlys_calls += 1\n",
    "        if len(onlys) == 1:\n",
    "            last = onlys[0]\n",
    "            strata_to_merge: np.ndarray = list(last.values())[0]\n",
    "            only_key = list(last.keys())[0]\n",
    "            tuplet_size = n_splits // only_key + (1 if n_splits % only_key else 0)\n",
    "            # perform tuplet merge\n",
    "            interval = len(strata_to_merge) // n_splits\n",
    "            for strata_tuplet in zip(\n",
    "                *[\n",
    "                    strata_to_merge[interval * i : interval * (i + 1)]\n",
    "                    for i in range(tuplet_size)\n",
    "                ]\n",
    "            ):\n",
    "                strata_replace(strata_tuplet)\n",
    "                count += 1\n",
    "            remainder = strata_to_merge[tuplet_size * interval :]\n",
    "            if len(remainder) == 1:\n",
    "                # process remainder unmatched\n",
    "                n = n_splits\n",
    "                strata_counts = strata.value_counts()\n",
    "                while not (candidates := strata_counts.loc[strata_counts == n]).size:\n",
    "                    n += 1\n",
    "                strata_replace(\n",
    "                    [remainder[0], candidates.sample(n=1, random_state=SEED).index[0]]\n",
    "                )\n",
    "                count += 1\n",
    "            else:\n",
    "                # self-pair last\n",
    "                remainder = remainder.tolist()\n",
    "                while len(remainder) >= 2:\n",
    "                    strata_replace((remainder.pop(), remainder.pop()))\n",
    "                    count += 1\n",
    "        else:\n",
    "            pop_onlys = lambda _: list(onlys.pop(_).values())[0].tolist()\n",
    "            while len(onlys) >= 2:\n",
    "                # pop the ends\n",
    "                shortside = pop_onlys(0)\n",
    "                longside = pop_onlys(-1)\n",
    "                # merge until one end empty\n",
    "                while shortside and longside:\n",
    "                    strata_replace((shortside.pop(), longside.pop()))\n",
    "                    count += 1\n",
    "            if onlys:\n",
    "                # self-pair middle\n",
    "                remainder = pop_onlys(0)\n",
    "                while len(remainder) >= 2:\n",
    "                    strata_replace((remainder.pop(), remainder.pop()))\n",
    "                    count += 1\n",
    "\n",
    "\n",
    "_ = gc_collect()"
   ]
  },
  {
   "cell_type": "code",
   "execution_count": 10,
   "metadata": {},
   "outputs": [
    {
     "name": "stdout",
     "output_type": "stream",
     "text": [
      "merge passes performed: 0\n",
      "only 1: 28\n",
      "only 2: 19\n",
      "only 3: 10\n",
      "only 4: 5\n",
      "merge passes performed: 1\n",
      "only 1: 23\n",
      "only 2: 9\n",
      "only 3: 0\n",
      "only 4: 0\n",
      "merge passes performed: 2\n",
      "only 1: 14\n",
      "only 2: 0\n",
      "only 3: 9\n",
      "only 4: 0\n",
      "merge passes performed: 3\n",
      "only 1: 5\n",
      "only 2: 0\n",
      "only 3: 0\n",
      "only 4: 9\n",
      "merge passes performed: 4\n",
      "only 1: 0\n",
      "only 2: 0\n",
      "only 3: 0\n",
      "only 4: 4\n",
      "merge passes performed: 5\n",
      "only 1: 0\n",
      "only 2: 0\n",
      "only 3: 0\n",
      "only 4: 0\n"
     ]
    },
    {
     "data": {
      "text/plain": [
       "esdfsur0cmnmedium               984\n",
       "esdfang0cmnmedium               982\n",
       "esdfsad0cmnmedium               736\n",
       "esdmhap2cmnmedium               689\n",
       "esdfhap2cmnmedium               688\n",
       "                               ... \n",
       "EmoReact_V_1.0fneu1engmedium      5\n",
       "BAUM1fsad0turlong                 5\n",
       "stratum_group_14                  5\n",
       "stratum_group_10                  5\n",
       "stratum_group_11                  5\n",
       "Length: 168, dtype: int64"
      ]
     },
     "execution_count": 10,
     "metadata": {},
     "output_type": "execute_result"
    },
    {
     "name": "stdout",
     "output_type": "stream",
     "text": [
      "time: 429 ms\n"
     ]
    }
   ],
   "source": [
    "process_strata(strata, n_splits=N_SPLITS)\n",
    "strata.value_counts()"
   ]
  },
  {
   "cell_type": "markdown",
   "metadata": {},
   "source": [
    "# Setup\n",
    "\n",
    "In this section, we define some structures to keep track of models and scores.\n",
    "\n",
    "The next cell defines a Python dictionary to record the results of cross validation such that the results may be easily cast to a `pandas` dataframe."
   ]
  },
  {
   "cell_type": "code",
   "execution_count": 11,
   "metadata": {},
   "outputs": [
    {
     "name": "stdout",
     "output_type": "stream",
     "text": [
      "time: 196 ms\n"
     ]
    }
   ],
   "source": [
    "METRICS = (\n",
    "    \"avg_cv_balanced_accuracy\",\n",
    "    \"avg_cv_f1\",\n",
    "    \"avg_cv_geometric_mean\",\n",
    "    \"avg_cv_fit_time\",\n",
    "    \"avg_cv_predict_time\",\n",
    ")\n",
    "\n",
    "# to be cast to pd.DataFrame\n",
    "make_results = lambda: {\n",
    "    key: [] for key in {\"model_name\", \"case\", \"resampled\", *METRICS}\n",
    "}\n",
    "RESULTS = make_results()\n",
    "\n",
    "AvgScores = namedtuple(\"AvgScores\", METRICS)\n",
    "\n",
    "\n",
    "def store_result(\n",
    "    where: Dict[str, List],\n",
    "    case: str,\n",
    "    resampled: bool,\n",
    "    model_name: str,\n",
    "    avg_scores: AvgScores,\n",
    ") -> None:\n",
    "    \"Appends a model's score and fit/predict times to the results dict.\"\n",
    "    for attribute, value in {\n",
    "        \"model_name\": model_name,\n",
    "        \"case\": case,\n",
    "        \"resampled\": resampled,\n",
    "        **avg_scores._asdict(),\n",
    "    }.items():\n",
    "        where[attribute].append(value)\n",
    "\n",
    "\n",
    "ALL_CASES = {\"ternary\"}\n",
    "\n",
    "_ = gc_collect()"
   ]
  },
  {
   "cell_type": "code",
   "execution_count": 12,
   "metadata": {},
   "outputs": [
    {
     "name": "stdout",
     "output_type": "stream",
     "text": [
      "time: 112 ms\n"
     ]
    }
   ],
   "source": [
    "PREDICTIONS = {key: [] for key in {\"model\", \"case\", \"resampled\", \"fold\", \"y_pred\"}}\n",
    "\n",
    "Prediction = namedtuple(\"Prediction\", PREDICTIONS.keys())\n",
    "\n",
    "\n",
    "def store_prediction(where: Dict[str, List], prediction: Prediction) -> None:\n",
    "    \"Records the y_pred of a classifier on a fold\"\n",
    "    for k, v in prediction._asdict().items():\n",
    "        where[k].append(v)\n",
    "\n",
    "\n",
    "_ = gc_collect()"
   ]
  },
  {
   "cell_type": "markdown",
   "metadata": {},
   "source": [
    "The cross-validation splits are pre-computed to save time in the main loops."
   ]
  },
  {
   "cell_type": "code",
   "execution_count": 13,
   "metadata": {},
   "outputs": [
    {
     "name": "stdout",
     "output_type": "stream",
     "text": [
      "time: 1min 47s\n"
     ]
    }
   ],
   "source": [
    "CV_info = namedtuple(\n",
    "    \"CV_info\",\n",
    "    _ := \"X_train X_test y_train y_test\",\n",
    "    defaults=[None] * len(_.split()),\n",
    ")\n",
    "assert all(data.index == strata.index)\n",
    "assert all(strata.index == labels.index)\n",
    "prepared_splits = [\n",
    "    *StratifiedGroupKFold(n_splits=N_SPLITS, shuffle=True, random_state=SEED).split(\n",
    "        X=data, y=strata, groups=labels.speaker_id\n",
    "    )\n",
    "]\n",
    "\n",
    "scaler = StandardScaler()\n",
    "\n",
    "\n",
    "def get_splits(case: str, resampled: bool = False) -> List[CV_info]:\n",
    "    \"\"\"Prepares the three-fold cross-validation splits ternary classification.\"\"\"\n",
    "    splits = []\n",
    "    for train_idx, test_idx in prepared_splits:\n",
    "        # select and scale\n",
    "        X_train = scaler.fit_transform(data.iloc[train_idx])\n",
    "        X_test = scaler.fit_transform(data.iloc[test_idx])\n",
    "        y_train = labels.valence.iloc[train_idx]\n",
    "        y_test = labels.valence.iloc[test_idx]\n",
    "\n",
    "        if resampled:\n",
    "            X_train, y_train = OneSidedSelection(\n",
    "                random_state=SEED, n_jobs=-1\n",
    "            ).fit_resample(\n",
    "                *ADASYN(random_state=SEED, n_jobs=-1).fit_resample(X_train, y_train)\n",
    "            )\n",
    "\n",
    "        # reset indices\n",
    "        splits.append(\n",
    "            CV_info(\n",
    "                X_train=X_train,\n",
    "                y_train=y_train.reset_index(drop=True),\n",
    "                X_test=X_test,\n",
    "                y_test=y_test.reset_index(drop=True),\n",
    "            )\n",
    "        )\n",
    "    return splits\n",
    "\n",
    "\n",
    "data_chooser: Dict[str, List[CV_info]] = {case: get_splits(case) for case in ALL_CASES}\n",
    "resampled_data_chooser: Dict[str, List[CV_info]] = {\n",
    "    case: get_splits(case, resampled=True) for case in ALL_CASES\n",
    "}\n",
    "\n",
    "del scaler\n",
    "_ = gc_collect()"
   ]
  },
  {
   "cell_type": "markdown",
   "metadata": {},
   "source": [
    "# Models\n",
    "\n",
    "Thanks to FRILL, we may now use the gamut of classifiers provided by `sklearn`. Boosting methods outside of `sklearn` include `LightGBM` and `XGBoost`.\n",
    "\n",
    "For the most part, the default settings of each classifier are used. Where possible, the seed is set and all available cores are used. Each classifier is wrapped in a lambda function to ensure a brand new model is initialized each time the function is called."
   ]
  },
  {
   "cell_type": "code",
   "execution_count": 14,
   "metadata": {},
   "outputs": [
    {
     "name": "stdout",
     "output_type": "stream",
     "text": [
      "time: 165 ms\n"
     ]
    }
   ],
   "source": [
    "top_models = {\n",
    "    \"LogisticRegression\": lambda: LogisticRegression(random_state=SEED, n_jobs=-1),\n",
    "    \"MLPClassifier\": lambda: MLPClassifier(random_state=SEED),\n",
    "    \"RidgeClassifier\": lambda: RidgeClassifier(random_state=SEED),\n",
    "    \"SGDClassifier\": lambda: SGDClassifier(n_jobs=-1, random_state=SEED),\n",
    "    \"SVC\": lambda: SVC(random_state=SEED),\n",
    "}\n",
    "tree_models = {\n",
    "    \"AdaBoostClassifier\": lambda: AdaBoostClassifier(random_state=SEED),\n",
    "    \"LGBMClassifier\": lambda: LGBMClassifier(\n",
    "        boosting_type=\"rf\",\n",
    "        random_state=SEED,\n",
    "        n_jobs=-1,\n",
    "        subsample=0.75,\n",
    "        subsample_freq=1,\n",
    "    ),\n",
    "    \"RandomForestClassifier\": lambda: RandomForestClassifier(\n",
    "        n_jobs=-1, random_state=SEED\n",
    "    ),\n",
    "    \"XGBClassifier\": lambda: XGBClassifier(\n",
    "        eval_metric=\"mlogloss\", seed=SEED, use_label_encoder=False\n",
    "    ),\n",
    "}\n",
    "models = {\n",
    "    **top_models,\n",
    "    **tree_models,\n",
    "    \"topStack\": lambda: StackingClassifier(\n",
    "        estimators=[(model, top_models[model]()) for model in top_models], n_jobs=-1\n",
    "    ),\n",
    "    \"treeStack\": lambda: StackingClassifier(\n",
    "        estimators=[(model, tree_models[model]()) for model in tree_models], n_jobs=-1\n",
    "    ),\n",
    "    \"DummyClassifier\": lambda: DummyClassifier(random_state=SEED),\n",
    "}\n",
    "_ = gc_collect()"
   ]
  },
  {
   "cell_type": "markdown",
   "metadata": {},
   "source": [
    "# Test harness\n",
    "\n",
    "This section defines functions for evaluating models."
   ]
  },
  {
   "cell_type": "code",
   "execution_count": 15,
   "metadata": {},
   "outputs": [
    {
     "name": "stdout",
     "output_type": "stream",
     "text": [
      "time: 117 ms\n"
     ]
    }
   ],
   "source": [
    "def evaluate_model(\n",
    "    model_base: str, case: str, resample: bool = False, track_fold_time: bool = False\n",
    ") -> AvgScores:\n",
    "    \"\"\"Evaluate a binary classification model with three-fold stratified grouped cross validation.\"\"\"\n",
    "\n",
    "    fit_times, predict_times, balanced_accuracy, f1, geometric_mean = [], [], [], [], []\n",
    "    selected_data: List[CV_info] = (\n",
    "        resampled_data_chooser[case] if resample else data_chooser[case]\n",
    "    )\n",
    "    for fold_num in range(N_SPLITS):\n",
    "        if track_fold_time:\n",
    "            fold_begin = time()\n",
    "\n",
    "        # obtain prepared folds\n",
    "        fold_data: CV_info = selected_data[fold_num]\n",
    "\n",
    "        # define train\n",
    "        X_train = fold_data.X_train\n",
    "        y_train = fold_data.y_train\n",
    "\n",
    "        # define test\n",
    "        X_test = fold_data.X_test\n",
    "        y_test = fold_data.y_test\n",
    "\n",
    "        # initialize binary model\n",
    "        model = models[model_base]()\n",
    "\n",
    "        # fit\n",
    "        begin = time()\n",
    "        model.fit(X_train, y_train)\n",
    "        end = time()\n",
    "        fit_times.append(end - begin)\n",
    "\n",
    "        # predict\n",
    "        begin = time()\n",
    "        predicted = model.predict(X_test)\n",
    "        end = time()\n",
    "\n",
    "        # store prediction results\n",
    "        predict_times.append(end - begin)\n",
    "        store_prediction(\n",
    "            where=PREDICTIONS,\n",
    "            prediction=Prediction(\n",
    "                model=model_base,\n",
    "                case=case,\n",
    "                resampled=resample,\n",
    "                fold=fold_num,\n",
    "                y_pred=predicted,\n",
    "            ),\n",
    "        )\n",
    "\n",
    "        # score\n",
    "        score_params = {\"y_true\": y_test, \"y_pred\": predicted}\n",
    "        balanced_accuracy.append(balanced_accuracy_score(**score_params))\n",
    "        f1.append(f1_score(**score_params, average=\"weighted\"))\n",
    "        geometric_mean.append(geometric_mean_score(**score_params))\n",
    "\n",
    "        if track_fold_time:\n",
    "            print(\n",
    "                f\"{model_base} fold {fold_num + 1} completed in {time() - fold_begin:.2f} s\"\n",
    "            )\n",
    "\n",
    "        # free some memory\n",
    "        del begin\n",
    "        del end\n",
    "        del model\n",
    "        del predicted\n",
    "        del score_params\n",
    "        del X_test\n",
    "        del X_train\n",
    "        del y_test\n",
    "        del y_train\n",
    "        _ = gc_collect()\n",
    "\n",
    "    return AvgScores(\n",
    "        *[\n",
    "            np.mean(_)\n",
    "            for _ in (balanced_accuracy, f1, geometric_mean, fit_times, predict_times)\n",
    "        ]\n",
    "    )\n",
    "\n",
    "\n",
    "_ = gc_collect()"
   ]
  },
  {
   "cell_type": "markdown",
   "metadata": {},
   "source": [
    "The next cell evaluates models."
   ]
  },
  {
   "cell_type": "code",
   "execution_count": 16,
   "metadata": {},
   "outputs": [
    {
     "data": {
      "application/vnd.jupyter.widget-view+json": {
       "model_id": "de8363366fbe496e94392e33a8e6ccf1",
       "version_major": 2,
       "version_minor": 0
      },
      "text/plain": [
       "  0%|          | 0/12 [00:00<?, ?it/s]"
      ]
     },
     "metadata": {},
     "output_type": "display_data"
    },
    {
     "name": "stdout",
     "output_type": "stream",
     "text": [
      "LogisticRegression fold 1 completed in 4.20 s\n",
      "LogisticRegression fold 2 completed in 4.27 s\n",
      "LogisticRegression fold 3 completed in 4.01 s\n",
      "LogisticRegression fold 4 completed in 3.56 s\n",
      "LogisticRegression fold 5 completed in 3.63 s\n",
      "stored LogisticRegression for ternary classification\n",
      "LogisticRegression fold 1 completed in 6.15 s\n",
      "LogisticRegression fold 2 completed in 5.56 s\n",
      "LogisticRegression fold 3 completed in 5.92 s\n",
      "LogisticRegression fold 4 completed in 5.63 s\n",
      "LogisticRegression fold 5 completed in 5.63 s\n",
      "stored LogisticRegression for ternary classification\n",
      "MLPClassifier fold 1 completed in 31.56 s\n",
      "MLPClassifier fold 2 completed in 31.32 s\n",
      "MLPClassifier fold 3 completed in 30.15 s\n",
      "MLPClassifier fold 4 completed in 28.13 s\n",
      "MLPClassifier fold 5 completed in 28.36 s\n",
      "stored MLPClassifier for ternary classification\n",
      "MLPClassifier fold 1 completed in 17.11 s\n",
      "MLPClassifier fold 2 completed in 16.74 s\n",
      "MLPClassifier fold 3 completed in 16.71 s\n",
      "MLPClassifier fold 4 completed in 15.74 s\n",
      "MLPClassifier fold 5 completed in 16.23 s\n",
      "stored MLPClassifier for ternary classification\n",
      "RidgeClassifier fold 1 completed in 1.04 s\n",
      "RidgeClassifier fold 2 completed in 0.97 s\n",
      "RidgeClassifier fold 3 completed in 0.94 s\n",
      "RidgeClassifier fold 4 completed in 0.91 s\n",
      "RidgeClassifier fold 5 completed in 0.92 s\n",
      "stored RidgeClassifier for ternary classification\n",
      "RidgeClassifier fold 1 completed in 0.96 s\n",
      "RidgeClassifier fold 2 completed in 0.92 s\n",
      "RidgeClassifier fold 3 completed in 0.94 s\n",
      "RidgeClassifier fold 4 completed in 0.95 s\n",
      "RidgeClassifier fold 5 completed in 0.86 s\n",
      "stored RidgeClassifier for ternary classification\n",
      "SGDClassifier fold 1 completed in 47.56 s\n",
      "SGDClassifier fold 2 completed in 47.97 s\n",
      "SGDClassifier fold 3 completed in 47.95 s\n",
      "SGDClassifier fold 4 completed in 43.29 s\n",
      "SGDClassifier fold 5 completed in 45.56 s\n",
      "stored SGDClassifier for ternary classification\n",
      "SGDClassifier fold 1 completed in 38.96 s\n",
      "SGDClassifier fold 2 completed in 70.87 s\n",
      "SGDClassifier fold 3 completed in 45.81 s\n",
      "SGDClassifier fold 4 completed in 29.01 s\n",
      "SGDClassifier fold 5 completed in 47.98 s\n",
      "stored SGDClassifier for ternary classification\n",
      "SVC fold 1 completed in 7.97 s\n",
      "SVC fold 2 completed in 8.27 s\n",
      "SVC fold 3 completed in 8.75 s\n",
      "SVC fold 4 completed in 7.65 s\n",
      "SVC fold 5 completed in 8.36 s\n",
      "stored SVC for ternary classification\n",
      "SVC fold 1 completed in 20.90 s\n",
      "SVC fold 2 completed in 20.16 s\n",
      "SVC fold 3 completed in 20.25 s\n",
      "SVC fold 4 completed in 19.13 s\n",
      "SVC fold 5 completed in 20.65 s\n",
      "stored SVC for ternary classification\n",
      "AdaBoostClassifier fold 1 completed in 167.72 s\n",
      "AdaBoostClassifier fold 2 completed in 170.02 s\n",
      "AdaBoostClassifier fold 3 completed in 174.60 s\n",
      "AdaBoostClassifier fold 4 completed in 156.74 s\n",
      "AdaBoostClassifier fold 5 completed in 162.49 s\n",
      "stored AdaBoostClassifier for ternary classification\n",
      "AdaBoostClassifier fold 1 completed in 322.12 s\n",
      "AdaBoostClassifier fold 2 completed in 313.94 s\n",
      "AdaBoostClassifier fold 3 completed in 311.03 s\n",
      "AdaBoostClassifier fold 4 completed in 300.11 s\n",
      "AdaBoostClassifier fold 5 completed in 312.97 s\n",
      "stored AdaBoostClassifier for ternary classification\n",
      "LGBMClassifier fold 1 completed in 45.77 s\n",
      "LGBMClassifier fold 2 completed in 35.36 s\n",
      "LGBMClassifier fold 3 completed in 35.86 s\n",
      "LGBMClassifier fold 4 completed in 34.22 s\n",
      "LGBMClassifier fold 5 completed in 34.81 s\n",
      "stored LGBMClassifier for ternary classification\n",
      "LGBMClassifier fold 1 completed in 45.56 s\n",
      "LGBMClassifier fold 2 completed in 43.87 s\n",
      "LGBMClassifier fold 3 completed in 44.04 s\n",
      "LGBMClassifier fold 4 completed in 43.43 s\n",
      "LGBMClassifier fold 5 completed in 44.24 s\n",
      "stored LGBMClassifier for ternary classification\n",
      "RandomForestClassifier fold 1 completed in 5.46 s\n",
      "RandomForestClassifier fold 2 completed in 5.47 s\n",
      "RandomForestClassifier fold 3 completed in 5.58 s\n",
      "RandomForestClassifier fold 4 completed in 5.12 s\n",
      "RandomForestClassifier fold 5 completed in 5.16 s\n",
      "stored RandomForestClassifier for ternary classification\n",
      "RandomForestClassifier fold 1 completed in 9.03 s\n",
      "RandomForestClassifier fold 2 completed in 8.78 s\n",
      "RandomForestClassifier fold 3 completed in 8.78 s\n",
      "RandomForestClassifier fold 4 completed in 8.45 s\n",
      "RandomForestClassifier fold 5 completed in 8.71 s\n",
      "stored RandomForestClassifier for ternary classification\n",
      "XGBClassifier fold 1 completed in 462.53 s\n",
      "XGBClassifier fold 2 completed in 463.20 s\n",
      "XGBClassifier fold 3 completed in 472.78 s\n",
      "XGBClassifier fold 4 completed in 432.77 s\n",
      "XGBClassifier fold 5 completed in 441.33 s\n",
      "stored XGBClassifier for ternary classification\n",
      "XGBClassifier fold 1 completed in 777.53 s\n",
      "XGBClassifier fold 2 completed in 745.04 s\n",
      "XGBClassifier fold 3 completed in 737.87 s\n",
      "XGBClassifier fold 4 completed in 719.52 s\n",
      "XGBClassifier fold 5 completed in 751.31 s\n",
      "stored XGBClassifier for ternary classification\n",
      "topStack fold 1 completed in 178.25 s\n",
      "topStack fold 2 completed in 180.19 s\n",
      "topStack fold 3 completed in 180.73 s\n",
      "topStack fold 4 completed in 161.47 s\n",
      "topStack fold 5 completed in 168.12 s\n",
      "stored topStack for ternary classification\n",
      "topStack fold 1 completed in 238.38 s\n",
      "topStack fold 2 completed in 291.72 s\n",
      "topStack fold 3 completed in 242.41 s\n",
      "topStack fold 4 completed in 225.23 s\n",
      "topStack fold 5 completed in 285.92 s\n",
      "stored topStack for ternary classification\n",
      "treeStack fold 1 completed in 2592.75 s\n",
      "treeStack fold 2 completed in 2641.82 s\n",
      "treeStack fold 3 completed in 2671.22 s\n",
      "treeStack fold 4 completed in 2444.03 s\n",
      "treeStack fold 5 completed in 2511.54 s\n",
      "stored treeStack for ternary classification\n",
      "treeStack fold 1 completed in 4334.37 s\n",
      "treeStack fold 2 completed in 4259.23 s\n",
      "treeStack fold 3 completed in 4226.23 s\n",
      "treeStack fold 4 completed in 4042.51 s\n",
      "treeStack fold 5 completed in 4201.11 s\n",
      "stored treeStack for ternary classification\n",
      "DummyClassifier fold 1 completed in 0.01 s\n",
      "DummyClassifier fold 2 completed in 0.00 s\n",
      "DummyClassifier fold 3 completed in 0.00 s\n",
      "DummyClassifier fold 4 completed in 0.02 s\n",
      "DummyClassifier fold 5 completed in 0.00 s\n",
      "stored DummyClassifier for ternary classification\n",
      "DummyClassifier fold 1 completed in 0.01 s\n",
      "DummyClassifier fold 2 completed in 0.02 s\n",
      "DummyClassifier fold 3 completed in 0.01 s\n",
      "DummyClassifier fold 4 completed in 0.00 s\n",
      "DummyClassifier fold 5 completed in 0.00 s\n",
      "stored DummyClassifier for ternary classification\n",
      "time: 12h 44min 29s\n"
     ]
    }
   ],
   "source": [
    "case = \"ternary\"\n",
    "for model in tqdm(models):\n",
    "    for resample in {True, False}:\n",
    "        store_result(\n",
    "            where=RESULTS,\n",
    "            case=case,\n",
    "            resampled=resample,\n",
    "            model_name=model,\n",
    "            avg_scores=evaluate_model(\n",
    "                model, case, resample=resample, track_fold_time=True\n",
    "            ),\n",
    "        )\n",
    "        print(f\"stored {model} for {case} classification\")\n",
    "        _ = gc_collect()"
   ]
  },
  {
   "cell_type": "code",
   "execution_count": null,
   "metadata": {},
   "outputs": [],
   "source": []
  },
  {
   "cell_type": "markdown",
   "metadata": {},
   "source": [
    "Let's peek at the results."
   ]
  },
  {
   "cell_type": "code",
   "execution_count": 17,
   "metadata": {},
   "outputs": [
    {
     "data": {
      "text/html": [
       "<div>\n",
       "<style scoped>\n",
       "    .dataframe tbody tr th:only-of-type {\n",
       "        vertical-align: middle;\n",
       "    }\n",
       "\n",
       "    .dataframe tbody tr th {\n",
       "        vertical-align: top;\n",
       "    }\n",
       "\n",
       "    .dataframe thead th {\n",
       "        text-align: right;\n",
       "    }\n",
       "</style>\n",
       "<table border=\"1\" class=\"dataframe\">\n",
       "  <thead>\n",
       "    <tr style=\"text-align: right;\">\n",
       "      <th></th>\n",
       "      <th>avg_cv_f1</th>\n",
       "      <th>case</th>\n",
       "      <th>avg_cv_fit_time</th>\n",
       "      <th>avg_cv_geometric_mean</th>\n",
       "      <th>resampled</th>\n",
       "      <th>avg_cv_predict_time</th>\n",
       "      <th>avg_cv_balanced_accuracy</th>\n",
       "      <th>model_name</th>\n",
       "    </tr>\n",
       "  </thead>\n",
       "  <tbody>\n",
       "    <tr>\n",
       "      <th>0</th>\n",
       "      <td>0.489925</td>\n",
       "      <td>ternary</td>\n",
       "      <td>166.156979</td>\n",
       "      <td>0.381992</td>\n",
       "      <td>False</td>\n",
       "      <td>0.151441</td>\n",
       "      <td>0.436294</td>\n",
       "      <td>AdaBoostClassifier</td>\n",
       "    </tr>\n",
       "    <tr>\n",
       "      <th>1</th>\n",
       "      <td>0.396673</td>\n",
       "      <td>ternary</td>\n",
       "      <td>0.003931</td>\n",
       "      <td>0.000000</td>\n",
       "      <td>False</td>\n",
       "      <td>0.000200</td>\n",
       "      <td>0.333333</td>\n",
       "      <td>DummyClassifier</td>\n",
       "    </tr>\n",
       "    <tr>\n",
       "      <th>2</th>\n",
       "      <td>0.484133</td>\n",
       "      <td>ternary</td>\n",
       "      <td>37.074119</td>\n",
       "      <td>0.281401</td>\n",
       "      <td>False</td>\n",
       "      <td>0.123886</td>\n",
       "      <td>0.412950</td>\n",
       "      <td>LGBMClassifier</td>\n",
       "    </tr>\n",
       "    <tr>\n",
       "      <th>3</th>\n",
       "      <td>0.566600</td>\n",
       "      <td>ternary</td>\n",
       "      <td>3.892754</td>\n",
       "      <td>0.504660</td>\n",
       "      <td>False</td>\n",
       "      <td>0.033578</td>\n",
       "      <td>0.530355</td>\n",
       "      <td>LogisticRegression</td>\n",
       "    </tr>\n",
       "    <tr>\n",
       "      <th>4</th>\n",
       "      <td>0.601135</td>\n",
       "      <td>ternary</td>\n",
       "      <td>29.881433</td>\n",
       "      <td>0.538076</td>\n",
       "      <td>False</td>\n",
       "      <td>0.020608</td>\n",
       "      <td>0.564392</td>\n",
       "      <td>MLPClassifier</td>\n",
       "    </tr>\n",
       "    <tr>\n",
       "      <th>5</th>\n",
       "      <td>0.433583</td>\n",
       "      <td>ternary</td>\n",
       "      <td>5.278846</td>\n",
       "      <td>0.120878</td>\n",
       "      <td>False</td>\n",
       "      <td>0.076105</td>\n",
       "      <td>0.363839</td>\n",
       "      <td>RandomForestClassifier</td>\n",
       "    </tr>\n",
       "    <tr>\n",
       "      <th>6</th>\n",
       "      <td>0.569395</td>\n",
       "      <td>ternary</td>\n",
       "      <td>0.934815</td>\n",
       "      <td>0.502885</td>\n",
       "      <td>False</td>\n",
       "      <td>0.006250</td>\n",
       "      <td>0.527575</td>\n",
       "      <td>RidgeClassifier</td>\n",
       "    </tr>\n",
       "    <tr>\n",
       "      <th>7</th>\n",
       "      <td>0.544043</td>\n",
       "      <td>ternary</td>\n",
       "      <td>46.384052</td>\n",
       "      <td>0.458319</td>\n",
       "      <td>False</td>\n",
       "      <td>0.077232</td>\n",
       "      <td>0.508141</td>\n",
       "      <td>SGDClassifier</td>\n",
       "    </tr>\n",
       "    <tr>\n",
       "      <th>8</th>\n",
       "      <td>0.581614</td>\n",
       "      <td>ternary</td>\n",
       "      <td>6.878221</td>\n",
       "      <td>0.457266</td>\n",
       "      <td>False</td>\n",
       "      <td>1.321024</td>\n",
       "      <td>0.526099</td>\n",
       "      <td>SVC</td>\n",
       "    </tr>\n",
       "    <tr>\n",
       "      <th>9</th>\n",
       "      <td>0.543777</td>\n",
       "      <td>ternary</td>\n",
       "      <td>454.432609</td>\n",
       "      <td>0.400124</td>\n",
       "      <td>False</td>\n",
       "      <td>0.079457</td>\n",
       "      <td>0.481545</td>\n",
       "      <td>XGBClassifier</td>\n",
       "    </tr>\n",
       "    <tr>\n",
       "      <th>10</th>\n",
       "      <td>0.529189</td>\n",
       "      <td>ternary</td>\n",
       "      <td>171.914765</td>\n",
       "      <td>0.224395</td>\n",
       "      <td>False</td>\n",
       "      <td>1.826288</td>\n",
       "      <td>0.471997</td>\n",
       "      <td>topStack</td>\n",
       "    </tr>\n",
       "    <tr>\n",
       "      <th>11</th>\n",
       "      <td>0.477747</td>\n",
       "      <td>ternary</td>\n",
       "      <td>2571.771384</td>\n",
       "      <td>0.243079</td>\n",
       "      <td>False</td>\n",
       "      <td>0.492644</td>\n",
       "      <td>0.416615</td>\n",
       "      <td>treeStack</td>\n",
       "    </tr>\n",
       "    <tr>\n",
       "      <th>12</th>\n",
       "      <td>0.493563</td>\n",
       "      <td>ternary</td>\n",
       "      <td>311.886385</td>\n",
       "      <td>0.478662</td>\n",
       "      <td>True</td>\n",
       "      <td>0.146280</td>\n",
       "      <td>0.489463</td>\n",
       "      <td>AdaBoostClassifier</td>\n",
       "    </tr>\n",
       "    <tr>\n",
       "      <th>13</th>\n",
       "      <td>0.179363</td>\n",
       "      <td>ternary</td>\n",
       "      <td>0.000826</td>\n",
       "      <td>0.000000</td>\n",
       "      <td>True</td>\n",
       "      <td>0.000397</td>\n",
       "      <td>0.333333</td>\n",
       "      <td>DummyClassifier</td>\n",
       "    </tr>\n",
       "    <tr>\n",
       "      <th>14</th>\n",
       "      <td>0.496906</td>\n",
       "      <td>ternary</td>\n",
       "      <td>44.106316</td>\n",
       "      <td>0.471311</td>\n",
       "      <td>True</td>\n",
       "      <td>0.116428</td>\n",
       "      <td>0.487882</td>\n",
       "      <td>LGBMClassifier</td>\n",
       "    </tr>\n",
       "    <tr>\n",
       "      <th>15</th>\n",
       "      <td>0.556884</td>\n",
       "      <td>ternary</td>\n",
       "      <td>5.739082</td>\n",
       "      <td>0.521633</td>\n",
       "      <td>True</td>\n",
       "      <td>0.034625</td>\n",
       "      <td>0.538035</td>\n",
       "      <td>LogisticRegression</td>\n",
       "    </tr>\n",
       "    <tr>\n",
       "      <th>16</th>\n",
       "      <td>0.596108</td>\n",
       "      <td>ternary</td>\n",
       "      <td>16.478497</td>\n",
       "      <td>0.527470</td>\n",
       "      <td>True</td>\n",
       "      <td>0.018743</td>\n",
       "      <td>0.559598</td>\n",
       "      <td>MLPClassifier</td>\n",
       "    </tr>\n",
       "    <tr>\n",
       "      <th>17</th>\n",
       "      <td>0.502075</td>\n",
       "      <td>ternary</td>\n",
       "      <td>8.667567</td>\n",
       "      <td>0.354864</td>\n",
       "      <td>True</td>\n",
       "      <td>0.081445</td>\n",
       "      <td>0.444310</td>\n",
       "      <td>RandomForestClassifier</td>\n",
       "    </tr>\n",
       "    <tr>\n",
       "      <th>18</th>\n",
       "      <td>0.550153</td>\n",
       "      <td>ternary</td>\n",
       "      <td>0.912824</td>\n",
       "      <td>0.540453</td>\n",
       "      <td>True</td>\n",
       "      <td>0.006375</td>\n",
       "      <td>0.550068</td>\n",
       "      <td>RidgeClassifier</td>\n",
       "    </tr>\n",
       "    <tr>\n",
       "      <th>19</th>\n",
       "      <td>0.531949</td>\n",
       "      <td>ternary</td>\n",
       "      <td>46.450423</td>\n",
       "      <td>0.475975</td>\n",
       "      <td>True</td>\n",
       "      <td>0.075317</td>\n",
       "      <td>0.509258</td>\n",
       "      <td>SGDClassifier</td>\n",
       "    </tr>\n",
       "    <tr>\n",
       "      <th>20</th>\n",
       "      <td>0.592113</td>\n",
       "      <td>ternary</td>\n",
       "      <td>18.479851</td>\n",
       "      <td>0.502337</td>\n",
       "      <td>True</td>\n",
       "      <td>1.737002</td>\n",
       "      <td>0.550424</td>\n",
       "      <td>SVC</td>\n",
       "    </tr>\n",
       "    <tr>\n",
       "      <th>21</th>\n",
       "      <td>0.567096</td>\n",
       "      <td>ternary</td>\n",
       "      <td>746.174141</td>\n",
       "      <td>0.480671</td>\n",
       "      <td>True</td>\n",
       "      <td>0.081757</td>\n",
       "      <td>0.523488</td>\n",
       "      <td>XGBClassifier</td>\n",
       "    </tr>\n",
       "    <tr>\n",
       "      <th>22</th>\n",
       "      <td>0.589033</td>\n",
       "      <td>ternary</td>\n",
       "      <td>239.592245</td>\n",
       "      <td>0.495238</td>\n",
       "      <td>True</td>\n",
       "      <td>17.131107</td>\n",
       "      <td>0.546400</td>\n",
       "      <td>topStack</td>\n",
       "    </tr>\n",
       "    <tr>\n",
       "      <th>23</th>\n",
       "      <td>0.502739</td>\n",
       "      <td>ternary</td>\n",
       "      <td>4212.176895</td>\n",
       "      <td>0.318800</td>\n",
       "      <td>True</td>\n",
       "      <td>0.509648</td>\n",
       "      <td>0.433373</td>\n",
       "      <td>treeStack</td>\n",
       "    </tr>\n",
       "  </tbody>\n",
       "</table>\n",
       "</div>"
      ],
      "text/plain": [
       "    avg_cv_f1     case  avg_cv_fit_time  avg_cv_geometric_mean  resampled  \\\n",
       "0    0.489925  ternary       166.156979               0.381992      False   \n",
       "1    0.396673  ternary         0.003931               0.000000      False   \n",
       "2    0.484133  ternary        37.074119               0.281401      False   \n",
       "3    0.566600  ternary         3.892754               0.504660      False   \n",
       "4    0.601135  ternary        29.881433               0.538076      False   \n",
       "5    0.433583  ternary         5.278846               0.120878      False   \n",
       "6    0.569395  ternary         0.934815               0.502885      False   \n",
       "7    0.544043  ternary        46.384052               0.458319      False   \n",
       "8    0.581614  ternary         6.878221               0.457266      False   \n",
       "9    0.543777  ternary       454.432609               0.400124      False   \n",
       "10   0.529189  ternary       171.914765               0.224395      False   \n",
       "11   0.477747  ternary      2571.771384               0.243079      False   \n",
       "12   0.493563  ternary       311.886385               0.478662       True   \n",
       "13   0.179363  ternary         0.000826               0.000000       True   \n",
       "14   0.496906  ternary        44.106316               0.471311       True   \n",
       "15   0.556884  ternary         5.739082               0.521633       True   \n",
       "16   0.596108  ternary        16.478497               0.527470       True   \n",
       "17   0.502075  ternary         8.667567               0.354864       True   \n",
       "18   0.550153  ternary         0.912824               0.540453       True   \n",
       "19   0.531949  ternary        46.450423               0.475975       True   \n",
       "20   0.592113  ternary        18.479851               0.502337       True   \n",
       "21   0.567096  ternary       746.174141               0.480671       True   \n",
       "22   0.589033  ternary       239.592245               0.495238       True   \n",
       "23   0.502739  ternary      4212.176895               0.318800       True   \n",
       "\n",
       "    avg_cv_predict_time  avg_cv_balanced_accuracy              model_name  \n",
       "0              0.151441                  0.436294      AdaBoostClassifier  \n",
       "1              0.000200                  0.333333         DummyClassifier  \n",
       "2              0.123886                  0.412950          LGBMClassifier  \n",
       "3              0.033578                  0.530355      LogisticRegression  \n",
       "4              0.020608                  0.564392           MLPClassifier  \n",
       "5              0.076105                  0.363839  RandomForestClassifier  \n",
       "6              0.006250                  0.527575         RidgeClassifier  \n",
       "7              0.077232                  0.508141           SGDClassifier  \n",
       "8              1.321024                  0.526099                     SVC  \n",
       "9              0.079457                  0.481545           XGBClassifier  \n",
       "10             1.826288                  0.471997                topStack  \n",
       "11             0.492644                  0.416615               treeStack  \n",
       "12             0.146280                  0.489463      AdaBoostClassifier  \n",
       "13             0.000397                  0.333333         DummyClassifier  \n",
       "14             0.116428                  0.487882          LGBMClassifier  \n",
       "15             0.034625                  0.538035      LogisticRegression  \n",
       "16             0.018743                  0.559598           MLPClassifier  \n",
       "17             0.081445                  0.444310  RandomForestClassifier  \n",
       "18             0.006375                  0.550068         RidgeClassifier  \n",
       "19             0.075317                  0.509258           SGDClassifier  \n",
       "20             1.737002                  0.550424                     SVC  \n",
       "21             0.081757                  0.523488           XGBClassifier  \n",
       "22            17.131107                  0.546400                topStack  \n",
       "23             0.509648                  0.433373               treeStack  "
      ]
     },
     "execution_count": 17,
     "metadata": {},
     "output_type": "execute_result"
    },
    {
     "name": "stdout",
     "output_type": "stream",
     "text": [
      "time: 50.4 ms\n"
     ]
    }
   ],
   "source": [
    "results_df = (\n",
    "    pd.DataFrame(RESULTS)\n",
    "    .sort_values(by=[\"resampled\", \"model_name\"])\n",
    "    .reset_index(drop=True)\n",
    ")\n",
    "results_df"
   ]
  },
  {
   "cell_type": "markdown",
   "metadata": {},
   "source": [
    "# Results\n",
    "\n",
    "In this section, we create several visualizations to display the results."
   ]
  },
  {
   "cell_type": "code",
   "execution_count": 18,
   "metadata": {},
   "outputs": [
    {
     "name": "stdout",
     "output_type": "stream",
     "text": [
      "time: 3.24 ms\n"
     ]
    }
   ],
   "source": [
    "metric_names = {\n",
    "    \"avg_cv_balanced_accuracy\": \"balanced accuracy\",\n",
    "    \"avg_cv_f1\": \"F1 score\",\n",
    "    \"avg_cv_fit_time\": \"fit time\",\n",
    "    \"avg_cv_geometric_mean\": \"geometric mean\",\n",
    "    \"avg_cv_predict_time\": \"predict time\",\n",
    "}\n",
    "\n",
    "\n",
    "def plot_metric(metric: str, results_df: pd.DataFrame) -> None:\n",
    "    \"\"\"Draw a barplot by binary classifier.\"\"\"\n",
    "    time_metric = \"time\" in metric\n",
    "    results_df = results_df.sort_values(by=metric, ascending=time_metric)\n",
    "    if time_metric:\n",
    "        # When plotting fit/predict times, the dummy classifier is omitted since it is always the fastest.\n",
    "        # Likewise, the stacking classifiers are omitted since they are usually the slowest.\n",
    "        results_df = results_df.loc[~results_df.model_name.str.contains(r\"Dummy|Stack\")]\n",
    "    results_df.model_name = results_df.model_name.str.replace(\"Classifier\", \"\")\n",
    "    g = sns.catplot(\n",
    "        x=\"model_name\",\n",
    "        y=metric,\n",
    "        hue=\"resampled\",\n",
    "        data=results_df,\n",
    "        seed=SEED,\n",
    "        kind=\"bar\",\n",
    "        palette=\"colorblind\",\n",
    "        legend=False,\n",
    "        alpha=0.8,\n",
    "    )\n",
    "    plt.legend(loc=\"upper center\", frameon=False, title=\"resampled\")  # reset legend\n",
    "    if not time_metric:\n",
    "        plt.ylim(0, 1)\n",
    "    g.fig.set_figwidth(16)\n",
    "    g.despine(**dict.fromkeys((\"left\", \"top\", \"right\"), True))\n",
    "    plt.xlabel(\"\")\n",
    "    plt.ylabel(\"\")\n",
    "    plt.suptitle(f\"{metric_names[metric]}{' (s)' if time_metric else ''}\")\n",
    "    plt.tight_layout()\n",
    "    plt.show()"
   ]
  },
  {
   "cell_type": "code",
   "execution_count": 19,
   "metadata": {},
   "outputs": [
    {
     "data": {
      "application/vnd.jupyter.widget-view+json": {
       "model_id": "b69ca025266d44f1afe764eea882d78e",
       "version_major": 2,
       "version_minor": 0
      },
      "text/plain": [
       "  0%|          | 0/5 [00:00<?, ?it/s]"
      ]
     },
     "metadata": {},
     "output_type": "display_data"
    },
    {
     "data": {
      "image/png": "[encoded data removed]",
      "text/plain": [
       "<Figure size 1152x360 with 1 Axes>"
      ]
     },
     "metadata": {
      "needs_background": "light"
     },
     "output_type": "display_data"
    },
    {
     "data": {
      "image/png": "[encoded data removed]",
      "text/plain": [
       "<Figure size 1152x360 with 1 Axes>"
      ]
     },
     "metadata": {
      "needs_background": "light"
     },
     "output_type": "display_data"
    },
    {
     "data": {
      "image/png": "[encoded data removed]",
      "text/plain": [
       "<Figure size 1152x360 with 1 Axes>"
      ]
     },
     "metadata": {
      "needs_background": "light"
     },
     "output_type": "display_data"
    },
    {
     "data": {
      "image/png": "[encoded data removed]",
      "text/plain": [
       "<Figure size 1152x360 with 1 Axes>"
      ]
     },
     "metadata": {
      "needs_background": "light"
     },
     "output_type": "display_data"
    },
    {
     "data": {
      "image/png": "[encoded data removed]",
      "text/plain": [
       "<Figure size 1152x360 with 1 Axes>"
      ]
     },
     "metadata": {
      "needs_background": "light"
     },
     "output_type": "display_data"
    },
    {
     "name": "stdout",
     "output_type": "stream",
     "text": [
      "time: 2.27 s\n"
     ]
    }
   ],
   "source": [
    "for metric in tqdm(METRICS):\n",
    "    plot_metric(metric, results_df)"
   ]
  },
  {
   "cell_type": "markdown",
   "metadata": {},
   "source": [
    "## Classifier prediction correlation\n",
    "\n",
    "In this section, we assess the correlation between each model's predictions. Performant and uncorrelated models are ideal for a potential stacked classifier.\n",
    "\n",
    "For each case, pairwise Pearson correlations are calculated between model predictions and the absolute values of the correlation coefficients averaged over the folds. This is not a statistically pure approach since better methods for assessing categorical correlations (e.g., Cramer's V or Theil's U) exist and the Fisher's Z transformation was omitted, but it should be good enough; we just need to assess co-occurence to see which are most unassociated."
   ]
  },
  {
   "cell_type": "code",
   "execution_count": 20,
   "metadata": {},
   "outputs": [
    {
     "name": "stderr",
     "output_type": "stream",
     "text": [
      "Pandas Apply: 100%|██████████| 12/12 [00:00<00:00, 2976.97it/s]\n",
      "Pandas Apply: 100%|██████████| 12/12 [00:00<?, ?it/s]\n",
      "Pandas Apply: 100%|██████████| 12/12 [00:00<?, ?it/s]\n",
      "Pandas Apply: 100%|██████████| 12/12 [00:00<?, ?it/s]\n",
      "Pandas Apply: 100%|██████████| 12/12 [00:00<?, ?it/s]\n",
      "Pandas Apply: 100%|██████████| 12/12 [00:00<?, ?it/s]\n",
      "Pandas Apply: 100%|██████████| 12/12 [00:00<00:00, 769.06it/s]\n",
      "Pandas Apply: 100%|██████████| 12/12 [00:00<?, ?it/s]\n",
      "Pandas Apply: 100%|██████████| 12/12 [00:00<00:00, 769.06it/s]\n",
      "Pandas Apply: 100%|██████████| 12/12 [00:00<?, ?it/s]\n"
     ]
    },
    {
     "name": "stdout",
     "output_type": "stream",
     "text": [
      "time: 1.76 s\n"
     ]
    }
   ],
   "source": [
    "prediction_correlations = {}\n",
    "predictions_df = pd.DataFrame(PREDICTIONS)\n",
    "\n",
    "for resample in {True, False}:\n",
    "    case_df = predictions_df.query(f\"resampled == {resample}\")\n",
    "    fold_correlations = []\n",
    "    for fold in range(N_SPLITS):\n",
    "        df = case_df.query(f\"fold == {fold}\")\n",
    "        df = (\n",
    "            pd.DataFrame(\n",
    "                {\n",
    "                    # deleting Classifier makes for less cluttered visualization\n",
    "                    model.replace(\"Classifier\", \"\"): df.loc[\n",
    "                        df.model == model, \"y_pred\"\n",
    "                    ].item()\n",
    "                    for model in np.unique(df.model)\n",
    "                }\n",
    "            )\n",
    "            .corr()\n",
    "            .swifter.apply(abs)\n",
    "        )\n",
    "        fold_correlations.append(df)\n",
    "        del df\n",
    "        _ = gc_collect()\n",
    "    prediction_correlations[case] = (\n",
    "        (_ := pd.concat(fold_correlations)).groupby(_.index).mean()\n",
    "    )\n",
    "    del case_df\n",
    "    del fold_correlations\n",
    "    _ = gc_collect()"
   ]
  },
  {
   "cell_type": "code",
   "execution_count": 21,
   "metadata": {},
   "outputs": [
    {
     "name": "stdout",
     "output_type": "stream",
     "text": [
      "time: 122 ms\n"
     ]
    }
   ],
   "source": [
    "def plot_prediction_correlations(case: str, drop_dummy: bool = True) -> None:\n",
    "    \"\"\"Plot heatmap for prediction correlations.\"\"\"\n",
    "    plt.figure(figsize=(15, 15))\n",
    "    df = (\n",
    "        prediction_correlations[case]\n",
    "        .dropna(axis=\"columns\", how=\"all\")\n",
    "        .dropna(axis=\"index\", how=\"all\")\n",
    "        # classifiers whose predictions do not vary (e.g., dummy) produce NaN correlations and are dropped from visualization\n",
    "    )\n",
    "    if drop_dummy:\n",
    "        df = df.loc[~df.index.isin(df.filter(like=\"Dummy\", axis=\"index\").index)]\n",
    "        df.drop(columns=df.filter(like=\"Dummy\", axis=\"columns\").columns, inplace=True)\n",
    "    g = sns.heatmap(\n",
    "        data=df,\n",
    "        vmin=0,\n",
    "        vmax=1,\n",
    "        cmap=\"coolwarm\",\n",
    "        square=True,\n",
    "        mask=np.triu(np.ones_like(df, dtype=bool)),\n",
    "    )\n",
    "    plt.suptitle(f\"{case} prediction correlations\")\n",
    "    plt.xticks(rotation=0)\n",
    "    plt.yticks(rotation=0)\n",
    "    plt.tight_layout()\n",
    "    plt.show()\n",
    "    del df\n",
    "    del g\n",
    "    _ = gc_collect()\n",
    "\n",
    "\n",
    "_ = gc_collect()"
   ]
  },
  {
   "cell_type": "code",
   "execution_count": 22,
   "metadata": {},
   "outputs": [
    {
     "data": {
      "image/png": "[encoded data removed]",
      "text/plain": [
       "<Figure size 1080x1080 with 2 Axes>"
      ]
     },
     "metadata": {
      "needs_background": "light"
     },
     "output_type": "display_data"
    },
    {
     "name": "stdout",
     "output_type": "stream",
     "text": [
      "time: 517 ms\n"
     ]
    }
   ],
   "source": [
    "for case in ALL_CASES:\n",
    "    plot_prediction_correlations(case)"
   ]
  },
  {
   "cell_type": "code",
   "execution_count": 23,
   "metadata": {},
   "outputs": [
    {
     "name": "stdout",
     "output_type": "stream",
     "text": [
      "time: 7 ms\n"
     ]
    }
   ],
   "source": [
    "# save table of results\n",
    "results_df.to_csv(\n",
    "    f\"{DATA_OUT_FOLDER}/explore_hybrid_multiclass_results_CV{N_SPLITS}.csv\"\n",
    ")"
   ]
  },
  {
   "cell_type": "markdown",
   "metadata": {},
   "source": [
    "# Discussion\n",
    "\n",
    "These scores are middling, but almost all estimators outperformed the dummies. The geometric mean metric is useful in that it describes the dummy classifiers as unskilled with a zero score, so the geometric mean scores of the other models have a dummy-calibrated baseline. The geometric mean makes it easier to answer the question, \"How much better than a dummy did this model perform?\" while affording relative comparison between skilled models.\n",
    "\n",
    "This notebook demonstrates that resampling can boost performance for many of the models considered although this benefit may not be applicable to the MLP classifiers. Otherise, when model and classification task are held constant, observed performance has been roughly equivalent between notebooks in general. Nonetheless, these results must be regarded skeptically; for each train test split, a separate Standard Scaler was fit for the train and the test data whereas it is more appropriate to fit the scaler once on the train data and use it to scale both the train and test data. This is an important point to address in refactoring.\n",
    "\n",
    "The vanilla MLP from sklearn is again one of the top contenders; the highest balanced accuracy in ternary classification (just over .56) was achieved by the MLP in this notebook. This leaves open the possibility of pursuing a pure deep learning approach; I imagine a straightforward dense net with one or two hidden layers could be tuned. Yet, its scores lead only by a thin margin with models that train or predict faster closely following. In fact, the Ridge Classifier actually outperformed the MLP (by geometric mean) after resampling and was the fastest algorithm in both training and prediction. Although the MLP keeps showing up as a strong contender and thus warrants further investigation, it may be premature to discount the runner ups.\n",
    "\n",
    "Since the runner ups include several linear models, PCA to condense the FRILL representations may be appropriate to explore.\n",
    "\n",
    "On the other hand, random forest has displayed only marginal skill relative to the dummy (and incidentally benefits the most from resampling). If the tree-based classifiers are ensembled, the random forest models may be candidates for omission. Further, XGBoost alone may outperform any tree-based meta-ensemble we could construct from these classifiers. However, the training time of XGBoost is an obstacle; there may be some configuration hyperparameters that could be adjusted to constrain fit times.\n",
    "\n",
    "The heatmap reveals that the predictions of the top stack and the MLP are correlated. On the other hand, the plots above the heatmap reveal that the MLP outperforms the stack."
   ]
  },
  {
   "cell_type": "code",
   "execution_count": 24,
   "metadata": {},
   "outputs": [
    {
     "name": "stdout",
     "output_type": "stream",
     "text": [
      "Time elapsed since notebook_begin_time: 45999.20693087578 s\n",
      "time: 106 ms\n"
     ]
    }
   ],
   "source": [
    "print(f\"Time elapsed since notebook_begin_time: {time() - notebook_begin_time} s\")\n",
    "_ = gc_collect()"
   ]
  },
  {
   "cell_type": "markdown",
   "metadata": {},
   "source": [
    "[^top](#Contents)"
   ]
  },
  {
   "cell_type": "code",
   "execution_count": null,
   "metadata": {},
   "outputs": [],
   "source": []
  }
 ],
 "metadata": {
  "interpreter": {
   "hash": "e1781be99c106060f3abc0c9b91d3d379f24672894e2158d4b74304109955878"
  },
  "kernelspec": {
   "display_name": "Python 3 (ipykernel)",
   "language": "python",
   "name": "python3"
  },
  "language_info": {
   "codemirror_mode": {
    "name": "ipython",
    "version": 3
   },
   "file_extension": ".py",
   "mimetype": "text/x-python",
   "name": "python",
   "nbconvert_exporter": "python",
   "pygments_lexer": "ipython3",
   "version": "3.9.5"
  }
 },
 "nbformat": 4,
 "nbformat_minor": 4
}
