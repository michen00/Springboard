{
 "cells": [
  {
   "cell_type": "markdown",
   "metadata": {},
   "source": [
    "# Contents\n",
    "* [Introduction](#Introduction)\n",
    "* [Imports and configuration](#Imports-and-configuration)\n",
    "* [Setup](#Setup)\n",
    "* [var_smoothing](#var_smoothing)\n",
    "* [n_estimators](#n_estimators)\n",
    "* [Discussion](#Discussion)"
   ]
  },
  {
   "cell_type": "markdown",
   "metadata": {},
   "source": [
    "# Introduction\n",
    "\n",
    "After rounds of feature engineering, visualization & exploration, and tuning various aspects of the classification pipeline, we are about to create a prototype classifier using a bagged GaussianNB. In this notebook, we perform grid searches over var_smoothing using out-of-bag accuracy instead of cross validation."
   ]
  },
  {
   "cell_type": "code",
   "execution_count": 1,
   "metadata": {},
   "outputs": [],
   "source": [
    "from time import time\n",
    "\n",
    "notebook_begin_time = time()\n",
    "\n",
    "# set random seeds\n",
    "\n",
    "from os import environ\n",
    "from random import seed as random_seed\n",
    "from numpy.random import seed as np_seed\n",
    "from tensorflow.random import set_seed\n",
    "\n",
    "\n",
    "def reset_seeds(seed: int) -> None:\n",
    "    \"\"\"Utility function for resetting random seeds\"\"\"\n",
    "    environ[\"PYTHONHASHSEED\"] = str(seed)\n",
    "    random_seed(seed)\n",
    "    np_seed(seed)\n",
    "    set_seed(seed)\n",
    "\n",
    "\n",
    "reset_seeds(SEED := 2022)\n",
    "del environ\n",
    "del random_seed\n",
    "del np_seed\n",
    "del set_seed\n",
    "del reset_seeds"
   ]
  },
  {
   "cell_type": "code",
   "execution_count": 2,
   "metadata": {},
   "outputs": [],
   "source": [
    "# extensions\n",
    "%load_ext autotime\n",
    "%load_ext lab_black\n",
    "%load_ext nb_black"
   ]
  },
  {
   "cell_type": "code",
   "execution_count": 3,
   "metadata": {},
   "outputs": [
    {
     "name": "stderr",
     "output_type": "stream",
     "text": [
      "Intel(R) Extension for Scikit-learn* enabled (https://github.com/intel/scikit-learn-intelex)\n"
     ]
    },
    {
     "name": "stdout",
     "output_type": "stream",
     "text": [
      "time: 2.23 s\n"
     ]
    }
   ],
   "source": [
    "# core\n",
    "import numpy as np\n",
    "import pandas as pd\n",
    "from scipy.stats import loguniform\n",
    "\n",
    "# utility\n",
    "from gc import collect as gc_collect\n",
    "from tqdm.notebook import tqdm\n",
    "\n",
    "# faster sklearn\n",
    "from sklearnex import patch_sklearn\n",
    "\n",
    "patch_sklearn()\n",
    "del patch_sklearn\n",
    "\n",
    "# classifier\n",
    "from sklearn.ensemble import BaggingClassifier\n",
    "from sklearn.naive_bayes import GaussianNB\n",
    "\n",
    "# metrics\n",
    "from sklearn.metrics import log_loss, roc_auc_score\n",
    "\n",
    "# typing\n",
    "from typing import Sequence\n",
    "\n",
    "# visualization\n",
    "import matplotlib.pyplot as plt\n",
    "import seaborn as sns\n",
    "\n",
    "%matplotlib inline\n",
    "\n",
    "sns.set_context(\"notebook\")\n",
    "\n",
    "# full display of rows and columns\n",
    "pd.set_option(\"display.max_columns\", None)\n",
    "pd.set_option(\"display.max_colwidth\", None)\n",
    "pd.set_option(\"display.max_rows\", None)\n",
    "\n",
    "# display outputs w/o print calls\n",
    "from IPython.core.interactiveshell import InteractiveShell\n",
    "\n",
    "InteractiveShell.ast_node_interactivity = \"all\"\n",
    "del InteractiveShell"
   ]
  },
  {
   "cell_type": "code",
   "execution_count": 4,
   "metadata": {},
   "outputs": [
    {
     "name": "stdout",
     "output_type": "stream",
     "text": [
      "time: 101 ms\n"
     ]
    }
   ],
   "source": [
    "# Location of pre-final labels and features\n",
    "FEATURES_FOLDER = \".\"\n",
    "\n",
    "# Location where this notebook will output\n",
    "DATA_OUT_FOLDER = \".\"\n",
    "\n",
    "_ = gc_collect()"
   ]
  },
  {
   "cell_type": "markdown",
   "metadata": {},
   "source": [
    "# Setup"
   ]
  },
  {
   "cell_type": "code",
   "execution_count": 5,
   "metadata": {},
   "outputs": [
    {
     "name": "stdout",
     "output_type": "stream",
     "text": [
      "time: 228 ms\n"
     ]
    }
   ],
   "source": [
    "def load_labels() -> pd.DataFrame:\n",
    "    \"\"\"Load just the labels\"\"\"\n",
    "    return pd.read_feather(f\"{FEATURES_FOLDER}/simplified_labels.feather\").set_index(\n",
    "        \"id\"\n",
    "    )\n",
    "\n",
    "\n",
    "def load_data() -> pd.DataFrame:\n",
    "    \"\"\"Loads the FRILL-based features\"\"\"\n",
    "    df = pd.read_feather(\n",
    "        f\"{FEATURES_FOLDER}/scaled_features_ready_for_selection.feather\"\n",
    "    ).set_index(\"id\")\n",
    "    df.columns = df.columns.astype(str)\n",
    "    return df\n",
    "\n",
    "\n",
    "data = load_data()\n",
    "labels = load_labels()\n",
    "assert all(data.index == labels.index)\n",
    "assert len(data) < 86000\n",
    "y_true = labels.valence\n",
    "gnb_features = [\"spherical-LDA1\", \"spherical-LDA2\"]\n",
    "_ = gc_collect()"
   ]
  },
  {
   "cell_type": "code",
   "execution_count": 6,
   "metadata": {},
   "outputs": [
    {
     "name": "stdout",
     "output_type": "stream",
     "text": [
      "<class 'pandas.core.frame.DataFrame'>\n",
      "UInt64Index: 85740 entries, 0 to 87363\n",
      "Data columns (total 51 columns):\n",
      " #   Column                                                                         Non-Null Count  Dtype  \n",
      "---  ------                                                                         --------------  -----  \n",
      " 0   LDA1                                                                           85740 non-null  float64\n",
      " 1   LDA2                                                                           85740 non-null  float64\n",
      " 2   ocLDA_neg                                                                      85740 non-null  float64\n",
      " 3   ocLDA_neu                                                                      85740 non-null  float64\n",
      " 4   ocLDA_pos                                                                      85740 non-null  float64\n",
      " 5   ocSVM_sgdlinear_LDA1                                                           85740 non-null  float64\n",
      " 6   ocSVM_sgdlinear_LDA2                                                           85740 non-null  float64\n",
      " 7   ocSVM_sgdlinear_neg                                                            85740 non-null  float64\n",
      " 8   ocSVM_sgdlinear_neu                                                            85740 non-null  float64\n",
      " 9   ocSVM_sgdlinear_pos                                                            85740 non-null  float64\n",
      " 10  LDA-LOF_neg_30                                                                 85740 non-null  float64\n",
      " 11  LDA-LOF_neu_30                                                                 85740 non-null  float64\n",
      " 12  LDA-LOF_pos_30                                                                 85740 non-null  float64\n",
      " 13  LDA-ocSVM_sgdlinear_neg                                                        85740 non-null  float64\n",
      " 14  LDA-ocSVM_sgdlinear_neu                                                        85740 non-null  float64\n",
      " 15  LDA-ocSVM_sgdlinear_pos                                                        85740 non-null  float64\n",
      " 16  LDA-ocSVM_rbf_neg                                                              85740 non-null  float64\n",
      " 17  LDA-ocSVM_rbf_neu                                                              85740 non-null  float64\n",
      " 18  LDA-ocSVM_rbf_pos                                                              85740 non-null  float64\n",
      " 19  LDA-ocSVM_sigmoid_neg                                                          85740 non-null  float64\n",
      " 20  LDA-ocSVM_sigmoid_neu                                                          85740 non-null  float64\n",
      " 21  LDA-ocSVM_sigmoid_pos                                                          85740 non-null  float64\n",
      " 22  LDA-ocSVM_poly5_neg                                                            85740 non-null  float64\n",
      " 23  LDA-ocSVM_poly5_neu                                                            85740 non-null  float64\n",
      " 24  LDA-ocSVM_poly5_pos                                                            85740 non-null  float64\n",
      " 25  LDA-ocSVM_poly6_neg                                                            85740 non-null  float64\n",
      " 26  LDA-ocSVM_poly6_neu                                                            85740 non-null  float64\n",
      " 27  LDA-ocSVM_poly6_pos                                                            85740 non-null  float64\n",
      " 28  spherical-LDA1                                                                 85740 non-null  float64\n",
      " 29  spherical-LDA2                                                                 85740 non-null  float64\n",
      " 30  spherical-ocLDA_neg                                                            85740 non-null  float64\n",
      " 31  spherical-ocLDA_neu                                                            85740 non-null  float64\n",
      " 32  spherical-ocLDA_pos                                                            85740 non-null  float64\n",
      " 33  theta_LDA1+LDA2                                                                85740 non-null  float64\n",
      " 34  theta_ocLDA_neg+ocLDA_neu+ocLDA_pos                                            85740 non-null  float64\n",
      " 35  phi_ocLDA_neg+ocLDA_neu+ocLDA_pos                                              85740 non-null  float64\n",
      " 36  theta_ocSVM_sgdlinear_LDA1+ocSVM_sgdlinear_LDA2                                85740 non-null  float64\n",
      " 37  theta_ocSVM_sgdlinear_neg+ocSVM_sgdlinear_neu+ocSVM_sgdlinear_pos              85740 non-null  float64\n",
      " 38  phi_ocSVM_sgdlinear_neg+ocSVM_sgdlinear_neu+ocSVM_sgdlinear_pos                85740 non-null  float64\n",
      " 39  theta_LDA-LOF_neg_30+LDA-LOF_neu_30+LDA-LOF_pos_30                             85740 non-null  float64\n",
      " 40  phi_LDA-LOF_neg_30+LDA-LOF_neu_30+LDA-LOF_pos_30                               85740 non-null  float64\n",
      " 41  theta_LDA-ocSVM_sgdlinear_neg+LDA-ocSVM_sgdlinear_neu+LDA-ocSVM_sgdlinear_pos  85740 non-null  float64\n",
      " 42  phi_LDA-ocSVM_sgdlinear_neg+LDA-ocSVM_sgdlinear_neu+LDA-ocSVM_sgdlinear_pos    85740 non-null  float64\n",
      " 43  theta_LDA-ocSVM_rbf_neg+LDA-ocSVM_rbf_neu+LDA-ocSVM_rbf_pos                    85740 non-null  float64\n",
      " 44  phi_LDA-ocSVM_rbf_neg+LDA-ocSVM_rbf_neu+LDA-ocSVM_rbf_pos                      85740 non-null  float64\n",
      " 45  theta_LDA-ocSVM_sigmoid_neg+LDA-ocSVM_sigmoid_neu+LDA-ocSVM_sigmoid_pos        85740 non-null  float64\n",
      " 46  phi_LDA-ocSVM_sigmoid_neg+LDA-ocSVM_sigmoid_neu+LDA-ocSVM_sigmoid_pos          85740 non-null  float64\n",
      " 47  theta_LDA-ocSVM_poly5_neg+LDA-ocSVM_poly5_neu+LDA-ocSVM_poly5_pos              85740 non-null  float64\n",
      " 48  phi_LDA-ocSVM_poly5_neg+LDA-ocSVM_poly5_neu+LDA-ocSVM_poly5_pos                85740 non-null  float64\n",
      " 49  theta_LDA-ocSVM_poly6_neg+LDA-ocSVM_poly6_neu+LDA-ocSVM_poly6_pos              85740 non-null  float64\n",
      " 50  phi_LDA-ocSVM_poly6_neg+LDA-ocSVM_poly6_neu+LDA-ocSVM_poly6_pos                85740 non-null  float64\n",
      "dtypes: float64(51)\n",
      "memory usage: 34.0 MB\n",
      "<class 'pandas.core.frame.DataFrame'>\n",
      "UInt64Index: 85740 entries, 0 to 87363\n",
      "Data columns (total 11 columns):\n",
      " #   Column          Non-Null Count  Dtype   \n",
      "---  ------          --------------  -----   \n",
      " 0   file            85740 non-null  object  \n",
      " 1   source          85740 non-null  category\n",
      " 2   speaker_id      85740 non-null  category\n",
      " 3   speaker_gender  85740 non-null  category\n",
      " 4   emo             85740 non-null  category\n",
      " 5   valence         85740 non-null  int8    \n",
      " 6   neg             85740 non-null  bool    \n",
      " 7   neu             85740 non-null  bool    \n",
      " 8   pos             85740 non-null  bool    \n",
      " 9   lang1           85740 non-null  category\n",
      " 10  length          85740 non-null  category\n",
      "dtypes: bool(3), category(6), int8(1), object(1)\n",
      "memory usage: 2.3+ MB\n",
      "time: 40 ms\n"
     ]
    }
   ],
   "source": [
    "data.info()\n",
    "labels.info()"
   ]
  },
  {
   "cell_type": "code",
   "execution_count": 7,
   "metadata": {},
   "outputs": [
    {
     "name": "stdout",
     "output_type": "stream",
     "text": [
      "time: 104 ms\n"
     ]
    }
   ],
   "source": [
    "results = {\"var_smoothing\": [], \"oob_score\": [], \"log_loss\": [], \"auroc\": []}\n",
    "_ = gc_collect()"
   ]
  },
  {
   "cell_type": "markdown",
   "metadata": {},
   "source": [
    "# var_smoothing"
   ]
  },
  {
   "cell_type": "code",
   "execution_count": 8,
   "metadata": {},
   "outputs": [
    {
     "name": "stdout",
     "output_type": "stream",
     "text": [
      "time: 107 ms\n"
     ]
    }
   ],
   "source": [
    "def tune_var_smoothing(search_space: Sequence, outfile: str) -> None:\n",
    "    \"\"\"Run tuning procedure\"\"\"\n",
    "    df = data.loc[:, gnb_features]\n",
    "    make_gnb = lambda var_smoothing: BaggingClassifier(\n",
    "        base_estimator=GaussianNB(var_smoothing=var_smoothing),\n",
    "        n_estimators=50,\n",
    "        oob_score=True,\n",
    "        n_jobs=-1,\n",
    "        random_state=SEED,\n",
    "        # verbose=1,\n",
    "    ).fit(df, y_true)\n",
    "    for hp in tqdm(search_space):\n",
    "        gnb = make_gnb(hp)\n",
    "        results[\"var_smoothing\"].append(hp)\n",
    "        results[\"oob_score\"].append(gnb.oob_score_)\n",
    "        results[\"auroc\"].append(\n",
    "            roc_auc_score(y_true, y_pred := gnb.predict_proba(df), multi_class=\"ovo\")\n",
    "        )\n",
    "        results[\"log_loss\"].append(log_loss(y_true, y_pred))\n",
    "\n",
    "    df = pd.DataFrame(results).sort_values(by=\"var_smoothing\", ascending=True)\n",
    "    print(df.sort_values(by=\"oob_score\", ascending=False).head(10))\n",
    "    print(df.sort_values(by=\"log_loss\", ascending=True).head(10))\n",
    "    print(df.sort_values(by=\"auroc\", ascending=False).head(10))\n",
    "    df.plot(x=\"var_smoothing\")\n",
    "    plt.legend(frameon=False)\n",
    "    sns.despine(top=True, right=True)\n",
    "    plt.tight_layout()\n",
    "    plt.show()\n",
    "\n",
    "    df.columns = df.columns.astype(str)\n",
    "    df.reset_index(drop=True).to_feather(f\"{DATA_OUT_FOLDER}/{outfile}.feather\")\n",
    "\n",
    "\n",
    "_ = gc_collect()"
   ]
  },
  {
   "cell_type": "code",
   "execution_count": 9,
   "metadata": {},
   "outputs": [
    {
     "data": {
      "application/vnd.jupyter.widget-view+json": {
       "model_id": "c7dbe84ed49541f2bd005ef0466dd94d",
       "version_major": 2,
       "version_minor": 0
      },
      "text/plain": [
       "  0%|          | 0/50 [00:00<?, ?it/s]"
      ]
     },
     "metadata": {},
     "output_type": "display_data"
    },
    {
     "name": "stdout",
     "output_type": "stream",
     "text": [
      "    var_smoothing  oob_score  log_loss     auroc\n",
      "44       0.147077   0.677094  0.755066  0.822238\n",
      "1        0.149717   0.677094  0.754863  0.822268\n",
      "15       0.148451   0.677082  0.754959  0.822253\n",
      "5        0.146096   0.677000  0.755143  0.822227\n",
      "29       0.142554   0.676895  0.755433  0.822185\n",
      "25       0.157121   0.676837  0.754340  0.822351\n",
      "47       0.171630   0.676639  0.753496  0.822509\n",
      "30       0.169402   0.676592  0.753611  0.822485\n",
      "34       0.238281   0.676499  0.752109  0.823163\n",
      "20       0.223262   0.676487  0.752117  0.823025\n",
      "    var_smoothing  oob_score  log_loss     auroc\n",
      "23       0.225742   0.676452  0.752105  0.823048\n",
      "34       0.238281   0.676499  0.752109  0.823163\n",
      "36       0.224389   0.676382  0.752111  0.823036\n",
      "20       0.223262   0.676487  0.752117  0.823025\n",
      "9        0.216340   0.676359  0.752174  0.822961\n",
      "11       0.248270   0.676347  0.752186  0.823251\n",
      "10       0.249406   0.676394  0.752199  0.823261\n",
      "12       0.250074   0.676300  0.752207  0.823266\n",
      "4        0.205622   0.676464  0.752334  0.822857\n",
      "26       0.259331   0.676219  0.752341  0.823345\n",
      "    var_smoothing  oob_score  log_loss     auroc\n",
      "18       0.293259   0.675052  0.753221  0.823620\n",
      "32       0.292773   0.675099  0.753205  0.823616\n",
      "39       0.289465   0.675181  0.753095  0.823590\n",
      "13       0.287113   0.675309  0.753021  0.823571\n",
      "37       0.274353   0.675846  0.752660  0.823469\n",
      "49       0.269499   0.675916  0.752544  0.823429\n",
      "6        0.269297   0.675904  0.752539  0.823427\n",
      "8        0.269089   0.675904  0.752535  0.823425\n",
      "26       0.259331   0.676219  0.752341  0.823345\n",
      "12       0.250074   0.676300  0.752207  0.823266\n"
     ]
    },
    {
     "data": {
      "image/png": "[encoded data removed]",
      "text/plain": [
       "<Figure size 432x288 with 1 Axes>"
      ]
     },
     "metadata": {
      "needs_background": "light"
     },
     "output_type": "display_data"
    },
    {
     "name": "stdout",
     "output_type": "stream",
     "text": [
      "time: 1min 18s\n"
     ]
    }
   ],
   "source": [
    "tune_var_smoothing(\n",
    "    search_space=np.random.uniform(0.0, 0.3, size=50), outfile=\"var_smoothing1\"\n",
    ")"
   ]
  },
  {
   "cell_type": "code",
   "execution_count": 10,
   "metadata": {},
   "outputs": [
    {
     "data": {
      "application/vnd.jupyter.widget-view+json": {
       "model_id": "c1cd8a0e647b4e9da1c01dcaee461de8",
       "version_major": 2,
       "version_minor": 0
      },
      "text/plain": [
       "  0%|          | 0/50 [00:00<?, ?it/s]"
      ]
     },
     "metadata": {},
     "output_type": "display_data"
    },
    {
     "name": "stdout",
     "output_type": "stream",
     "text": [
      "    var_smoothing  oob_score  log_loss     auroc\n",
      "1        0.149717   0.677094  0.754863  0.822268\n",
      "44       0.147077   0.677094  0.755066  0.822238\n",
      "15       0.148451   0.677082  0.754959  0.822253\n",
      "5        0.146096   0.677000  0.755143  0.822227\n",
      "29       0.142554   0.676895  0.755433  0.822185\n",
      "25       0.157121   0.676837  0.754340  0.822351\n",
      "47       0.171630   0.676639  0.753496  0.822509\n",
      "78       0.175109   0.676604  0.753326  0.822546\n",
      "30       0.169402   0.676592  0.753611  0.822485\n",
      "34       0.238281   0.676499  0.752109  0.823163\n",
      "    var_smoothing  oob_score  log_loss     auroc\n",
      "23       0.225742   0.676452  0.752105  0.823048\n",
      "34       0.238281   0.676499  0.752109  0.823163\n",
      "36       0.224389   0.676382  0.752111  0.823036\n",
      "20       0.223262   0.676487  0.752117  0.823025\n",
      "9        0.216340   0.676359  0.752174  0.822961\n",
      "11       0.248270   0.676347  0.752186  0.823251\n",
      "10       0.249406   0.676394  0.752199  0.823261\n",
      "12       0.250074   0.676300  0.752207  0.823266\n",
      "4        0.205622   0.676464  0.752334  0.822857\n",
      "26       0.259331   0.676219  0.752341  0.823345\n",
      "    var_smoothing  oob_score  log_loss     auroc\n",
      "66       0.304265   0.674621  0.753622  0.823705\n",
      "69       0.298076   0.674936  0.753390  0.823657\n",
      "18       0.293259   0.675052  0.753221  0.823620\n",
      "32       0.292773   0.675099  0.753205  0.823616\n",
      "39       0.289465   0.675181  0.753095  0.823590\n",
      "13       0.287113   0.675309  0.753021  0.823571\n",
      "37       0.274353   0.675846  0.752660  0.823469\n",
      "49       0.269499   0.675916  0.752544  0.823429\n",
      "6        0.269297   0.675904  0.752539  0.823427\n",
      "8        0.269089   0.675904  0.752535  0.823425\n"
     ]
    },
    {
     "data": {
      "image/png": "[encoded data removed]",
      "text/plain": [
       "<Figure size 432x288 with 1 Axes>"
      ]
     },
     "metadata": {
      "needs_background": "light"
     },
     "output_type": "display_data"
    },
    {
     "name": "stdout",
     "output_type": "stream",
     "text": [
      "time: 1min 15s\n"
     ]
    }
   ],
   "source": [
    "tune_var_smoothing(\n",
    "    search_space=loguniform.rvs(1e-11, 0.4, size=50), outfile=\"var_smoothing2\"\n",
    ")"
   ]
  },
  {
   "cell_type": "code",
   "execution_count": 11,
   "metadata": {},
   "outputs": [
    {
     "data": {
      "application/vnd.jupyter.widget-view+json": {
       "model_id": "afbf4468c3c24da595b27021372fe4f0",
       "version_major": 2,
       "version_minor": 0
      },
      "text/plain": [
       "  0%|          | 0/50 [00:00<?, ?it/s]"
      ]
     },
     "metadata": {},
     "output_type": "display_data"
    },
    {
     "name": "stdout",
     "output_type": "stream",
     "text": [
      "     var_smoothing  oob_score  log_loss     auroc\n",
      "103       0.148414   0.677105  0.754962  0.822253\n",
      "44        0.147077   0.677094  0.755066  0.822238\n",
      "113       0.147066   0.677094  0.755067  0.822238\n",
      "1         0.149717   0.677094  0.754863  0.822268\n",
      "15        0.148451   0.677082  0.754959  0.822253\n",
      "136       0.152474   0.677035  0.754661  0.822299\n",
      "121       0.144589   0.677012  0.755264  0.822209\n",
      "5         0.146096   0.677000  0.755143  0.822227\n",
      "29        0.142554   0.676895  0.755433  0.822185\n",
      "142       0.142194   0.676860  0.755463  0.822181\n",
      "     var_smoothing  oob_score  log_loss     auroc\n",
      "132       0.229770   0.676674  0.752095  0.823086\n",
      "23        0.225742   0.676452  0.752105  0.823048\n",
      "34        0.238281   0.676499  0.752109  0.823163\n",
      "36        0.224389   0.676382  0.752111  0.823036\n",
      "20        0.223262   0.676487  0.752117  0.823025\n",
      "108       0.241712   0.676277  0.752129  0.823193\n",
      "106       0.243845   0.676289  0.752144  0.823212\n",
      "123       0.217291   0.676359  0.752164  0.822970\n",
      "9         0.216340   0.676359  0.752174  0.822961\n",
      "11        0.248270   0.676347  0.752186  0.823251\n",
      "     var_smoothing  oob_score  log_loss     auroc\n",
      "130       0.393444   0.670865  0.758406  0.824318\n",
      "128       0.393343   0.670889  0.758399  0.824318\n",
      "105       0.355809   0.672965  0.756100  0.824076\n",
      "122       0.350761   0.673093  0.755819  0.824041\n",
      "119       0.345776   0.673175  0.755549  0.824006\n",
      "139       0.333462   0.673455  0.754915  0.823920\n",
      "117       0.321081   0.674283  0.754329  0.823830\n",
      "126       0.312839   0.674411  0.753969  0.823770\n",
      "107       0.310450   0.674329  0.753869  0.823752\n",
      "137       0.306110   0.674563  0.753694  0.823719\n"
     ]
    },
    {
     "data": {
      "image/png": "[encoded data removed]",
      "text/plain": [
       "<Figure size 432x288 with 1 Axes>"
      ]
     },
     "metadata": {
      "needs_background": "light"
     },
     "output_type": "display_data"
    },
    {
     "name": "stdout",
     "output_type": "stream",
     "text": [
      "time: 1min 17s\n"
     ]
    }
   ],
   "source": [
    "tune_var_smoothing(\n",
    "    search_space=loguniform.rvs(0.1, 0.4, size=50), outfile=\"var_smoothing3\"\n",
    ")"
   ]
  },
  {
   "cell_type": "code",
   "execution_count": 12,
   "metadata": {},
   "outputs": [
    {
     "data": {
      "application/vnd.jupyter.widget-view+json": {
       "model_id": "8ee096976cd044e9b38709ba8cdbee9f",
       "version_major": 2,
       "version_minor": 0
      },
      "text/plain": [
       "  0%|          | 0/50 [00:00<?, ?it/s]"
      ]
     },
     "metadata": {},
     "output_type": "display_data"
    },
    {
     "name": "stdout",
     "output_type": "stream",
     "text": [
      "     var_smoothing  oob_score  log_loss     auroc\n",
      "103       0.148414   0.677105  0.754962  0.822253\n",
      "113       0.147066   0.677094  0.755067  0.822238\n",
      "1         0.149717   0.677094  0.754863  0.822268\n",
      "44        0.147077   0.677094  0.755066  0.822238\n",
      "15        0.148451   0.677082  0.754959  0.822253\n",
      "164       0.149037   0.677070  0.754915  0.822260\n",
      "136       0.152474   0.677035  0.754661  0.822299\n",
      "121       0.144589   0.677012  0.755264  0.822209\n",
      "5         0.146096   0.677000  0.755143  0.822227\n",
      "195       0.153412   0.676942  0.754594  0.822309\n",
      "     var_smoothing  oob_score  log_loss     auroc\n",
      "157       0.230755   0.676709  0.752094  0.823095\n",
      "170       0.230089   0.676720  0.752094  0.823089\n",
      "198       0.229902   0.676709  0.752095  0.823087\n",
      "132       0.229770   0.676674  0.752095  0.823086\n",
      "189       0.233271   0.676639  0.752095  0.823118\n",
      "179       0.234877   0.676499  0.752098  0.823132\n",
      "155       0.235058   0.676475  0.752098  0.823134\n",
      "190       0.227772   0.676569  0.752098  0.823067\n",
      "159       0.226914   0.676464  0.752101  0.823059\n",
      "23        0.225742   0.676452  0.752105  0.823048\n",
      "     var_smoothing  oob_score  log_loss     auroc\n",
      "130       0.393444   0.670865  0.758406  0.824318\n",
      "128       0.393343   0.670889  0.758399  0.824318\n",
      "105       0.355809   0.672965  0.756100  0.824076\n",
      "122       0.350761   0.673093  0.755819  0.824041\n",
      "119       0.345776   0.673175  0.755549  0.824006\n",
      "139       0.333462   0.673455  0.754915  0.823920\n",
      "117       0.321081   0.674283  0.754329  0.823830\n",
      "126       0.312839   0.674411  0.753969  0.823770\n",
      "107       0.310450   0.674329  0.753869  0.823752\n",
      "137       0.306110   0.674563  0.753694  0.823719\n"
     ]
    },
    {
     "data": {
      "image/png": "[encoded data removed]",
      "text/plain": [
       "<Figure size 432x288 with 1 Axes>"
      ]
     },
     "metadata": {
      "needs_background": "light"
     },
     "output_type": "display_data"
    },
    {
     "name": "stdout",
     "output_type": "stream",
     "text": [
      "time: 1min 12s\n"
     ]
    }
   ],
   "source": [
    "tune_var_smoothing(\n",
    "    search_space=np.random.uniform(0.01, 0.25, size=50), outfile=\"var_smoothing4\"\n",
    ")"
   ]
  },
  {
   "cell_type": "code",
   "execution_count": 13,
   "metadata": {},
   "outputs": [
    {
     "data": {
      "application/vnd.jupyter.widget-view+json": {
       "model_id": "85780c8fc7d74cef8dfdc150fe3289a4",
       "version_major": 2,
       "version_minor": 0
      },
      "text/plain": [
       "  0%|          | 0/50 [00:00<?, ?it/s]"
      ]
     },
     "metadata": {},
     "output_type": "display_data"
    },
    {
     "name": "stdout",
     "output_type": "stream",
     "text": [
      "     var_smoothing  oob_score  log_loss     auroc\n",
      "103       0.148414   0.677105  0.754962  0.822253\n",
      "220       0.148896   0.677105  0.754925  0.822259\n",
      "211       0.149748   0.677094  0.754861  0.822268\n",
      "44        0.147077   0.677094  0.755066  0.822238\n",
      "226       0.146812   0.677094  0.755086  0.822235\n",
      "113       0.147066   0.677094  0.755067  0.822238\n",
      "1         0.149717   0.677094  0.754863  0.822268\n",
      "15        0.148451   0.677082  0.754959  0.822253\n",
      "164       0.149037   0.677070  0.754915  0.822260\n",
      "207       0.149977   0.677059  0.754844  0.822271\n",
      "     var_smoothing  oob_score  log_loss     auroc\n",
      "157       0.230755   0.676709  0.752094  0.823095\n",
      "170       0.230089   0.676720  0.752094  0.823089\n",
      "198       0.229902   0.676709  0.752095  0.823087\n",
      "132       0.229770   0.676674  0.752095  0.823086\n",
      "189       0.233271   0.676639  0.752095  0.823118\n",
      "179       0.234877   0.676499  0.752098  0.823132\n",
      "155       0.235058   0.676475  0.752098  0.823134\n",
      "190       0.227772   0.676569  0.752098  0.823067\n",
      "159       0.226914   0.676464  0.752101  0.823059\n",
      "23        0.225742   0.676452  0.752105  0.823048\n",
      "     var_smoothing  oob_score  log_loss     auroc\n",
      "130       0.393444   0.670865  0.758406  0.824318\n",
      "128       0.393343   0.670889  0.758399  0.824318\n",
      "105       0.355809   0.672965  0.756100  0.824076\n",
      "122       0.350761   0.673093  0.755819  0.824041\n",
      "119       0.345776   0.673175  0.755549  0.824006\n",
      "139       0.333462   0.673455  0.754915  0.823920\n",
      "117       0.321081   0.674283  0.754329  0.823830\n",
      "126       0.312839   0.674411  0.753969  0.823770\n",
      "107       0.310450   0.674329  0.753869  0.823752\n",
      "137       0.306110   0.674563  0.753694  0.823719\n"
     ]
    },
    {
     "data": {
      "image/png": "[encoded data removed]",
      "text/plain": [
       "<Figure size 432x288 with 1 Axes>"
      ]
     },
     "metadata": {
      "needs_background": "light"
     },
     "output_type": "display_data"
    },
    {
     "name": "stdout",
     "output_type": "stream",
     "text": [
      "time: 1min 17s\n"
     ]
    }
   ],
   "source": [
    "tune_var_smoothing(\n",
    "    search_space=np.random.uniform(0.05, 0.15, size=50), outfile=\"var_smoothing5\"\n",
    ")"
   ]
  },
  {
   "cell_type": "code",
   "execution_count": 14,
   "metadata": {},
   "outputs": [
    {
     "data": {
      "application/vnd.jupyter.widget-view+json": {
       "model_id": "dc3217fca73a465099e85792589f9957",
       "version_major": 2,
       "version_minor": 0
      },
      "text/plain": [
       "  0%|          | 0/50 [00:00<?, ?it/s]"
      ]
     },
     "metadata": {},
     "output_type": "display_data"
    },
    {
     "name": "stdout",
     "output_type": "stream",
     "text": [
      "     var_smoothing  oob_score  log_loss     auroc\n",
      "103       0.148414   0.677105  0.754962  0.822253\n",
      "220       0.148896   0.677105  0.754925  0.822259\n",
      "226       0.146812   0.677094  0.755086  0.822235\n",
      "211       0.149748   0.677094  0.754861  0.822268\n",
      "1         0.149717   0.677094  0.754863  0.822268\n",
      "44        0.147077   0.677094  0.755066  0.822238\n",
      "113       0.147066   0.677094  0.755067  0.822238\n",
      "15        0.148451   0.677082  0.754959  0.822253\n",
      "164       0.149037   0.677070  0.754915  0.822260\n",
      "207       0.149977   0.677059  0.754844  0.822271\n",
      "     var_smoothing  oob_score  log_loss     auroc\n",
      "157       0.230755   0.676709  0.752094  0.823095\n",
      "170       0.230089   0.676720  0.752094  0.823089\n",
      "198       0.229902   0.676709  0.752095  0.823087\n",
      "132       0.229770   0.676674  0.752095  0.823086\n",
      "189       0.233271   0.676639  0.752095  0.823118\n",
      "179       0.234877   0.676499  0.752098  0.823132\n",
      "155       0.235058   0.676475  0.752098  0.823134\n",
      "190       0.227772   0.676569  0.752098  0.823067\n",
      "159       0.226914   0.676464  0.752101  0.823059\n",
      "23        0.225742   0.676452  0.752105  0.823048\n",
      "     var_smoothing  oob_score  log_loss     auroc\n",
      "130       0.393444   0.670865  0.758406  0.824318\n",
      "128       0.393343   0.670889  0.758399  0.824318\n",
      "105       0.355809   0.672965  0.756100  0.824076\n",
      "122       0.350761   0.673093  0.755819  0.824041\n",
      "119       0.345776   0.673175  0.755549  0.824006\n",
      "139       0.333462   0.673455  0.754915  0.823920\n",
      "117       0.321081   0.674283  0.754329  0.823830\n",
      "126       0.312839   0.674411  0.753969  0.823770\n",
      "107       0.310450   0.674329  0.753869  0.823752\n",
      "137       0.306110   0.674563  0.753694  0.823719\n"
     ]
    },
    {
     "data": {
      "image/png": "[encoded data removed]",
      "text/plain": [
       "<Figure size 432x288 with 1 Axes>"
      ]
     },
     "metadata": {
      "needs_background": "light"
     },
     "output_type": "display_data"
    },
    {
     "name": "stdout",
     "output_type": "stream",
     "text": [
      "time: 1min 17s\n"
     ]
    }
   ],
   "source": [
    "tune_var_smoothing(\n",
    "    search_space=loguniform.rvs(0.01, 0.25, size=50), outfile=\"var_smoothing6\"\n",
    ")"
   ]
  },
  {
   "cell_type": "code",
   "execution_count": 15,
   "metadata": {},
   "outputs": [
    {
     "data": {
      "application/vnd.jupyter.widget-view+json": {
       "model_id": "249735db678342eabd8d08a98cc90403",
       "version_major": 2,
       "version_minor": 0
      },
      "text/plain": [
       "  0%|          | 0/15 [00:00<?, ?it/s]"
      ]
     },
     "metadata": {},
     "output_type": "display_data"
    },
    {
     "name": "stdout",
     "output_type": "stream",
     "text": [
      "     var_smoothing  oob_score  log_loss     auroc\n",
      "220       0.148896   0.677105  0.754925  0.822259\n",
      "103       0.148414   0.677105  0.754962  0.822253\n",
      "44        0.147077   0.677094  0.755066  0.822238\n",
      "113       0.147066   0.677094  0.755067  0.822238\n",
      "226       0.146812   0.677094  0.755086  0.822235\n",
      "211       0.149748   0.677094  0.754861  0.822268\n",
      "1         0.149717   0.677094  0.754863  0.822268\n",
      "15        0.148451   0.677082  0.754959  0.822253\n",
      "164       0.149037   0.677070  0.754915  0.822260\n",
      "207       0.149977   0.677059  0.754844  0.822271\n",
      "     var_smoothing  oob_score  log_loss     auroc\n",
      "157       0.230755   0.676709  0.752094  0.823095\n",
      "170       0.230089   0.676720  0.752094  0.823089\n",
      "198       0.229902   0.676709  0.752095  0.823087\n",
      "132       0.229770   0.676674  0.752095  0.823086\n",
      "189       0.233271   0.676639  0.752095  0.823118\n",
      "179       0.234877   0.676499  0.752098  0.823132\n",
      "155       0.235058   0.676475  0.752098  0.823134\n",
      "190       0.227772   0.676569  0.752098  0.823067\n",
      "159       0.226914   0.676464  0.752101  0.823059\n",
      "23        0.225742   0.676452  0.752105  0.823048\n",
      "     var_smoothing  oob_score  log_loss     auroc\n",
      "309       1.385209   0.609727  0.836316  0.826513\n",
      "314       1.214905   0.618603  0.824916  0.826469\n",
      "304       1.079859   0.625566  0.815041  0.826380\n",
      "311       0.747308   0.645953  0.787731  0.825807\n",
      "303       0.705569   0.648495  0.784086  0.825689\n",
      "302       0.613489   0.655178  0.776011  0.825378\n",
      "313       0.608690   0.655377  0.775592  0.825360\n",
      "306       0.515735   0.662025  0.767652  0.824970\n",
      "130       0.393444   0.670865  0.758406  0.824318\n",
      "128       0.393343   0.670889  0.758399  0.824318\n"
     ]
    },
    {
     "data": {
      "image/png": "[encoded data removed]",
      "text/plain": [
       "<Figure size 432x288 with 1 Axes>"
      ]
     },
     "metadata": {
      "needs_background": "light"
     },
     "output_type": "display_data"
    },
    {
     "data": {
      "application/vnd.jupyter.widget-view+json": {
       "model_id": "395e14500b6243bd9837404643997778",
       "version_major": 2,
       "version_minor": 0
      },
      "text/plain": [
       "  0%|          | 0/15 [00:00<?, ?it/s]"
      ]
     },
     "metadata": {},
     "output_type": "display_data"
    },
    {
     "name": "stdout",
     "output_type": "stream",
     "text": [
      "     var_smoothing  oob_score  log_loss     auroc\n",
      "220       0.148896   0.677105  0.754925  0.822259\n",
      "103       0.148414   0.677105  0.754962  0.822253\n",
      "44        0.147077   0.677094  0.755066  0.822238\n",
      "113       0.147066   0.677094  0.755067  0.822238\n",
      "226       0.146812   0.677094  0.755086  0.822235\n",
      "211       0.149748   0.677094  0.754861  0.822268\n",
      "1         0.149717   0.677094  0.754863  0.822268\n",
      "15        0.148451   0.677082  0.754959  0.822253\n",
      "164       0.149037   0.677070  0.754915  0.822260\n",
      "207       0.149977   0.677059  0.754844  0.822271\n",
      "     var_smoothing  oob_score  log_loss     auroc\n",
      "157       0.230755   0.676709  0.752094  0.823095\n",
      "170       0.230089   0.676720  0.752094  0.823089\n",
      "198       0.229902   0.676709  0.752095  0.823087\n",
      "132       0.229770   0.676674  0.752095  0.823086\n",
      "189       0.233271   0.676639  0.752095  0.823118\n",
      "179       0.234877   0.676499  0.752098  0.823132\n",
      "155       0.235058   0.676475  0.752098  0.823134\n",
      "190       0.227772   0.676569  0.752098  0.823067\n",
      "159       0.226914   0.676464  0.752101  0.823059\n",
      "23        0.225742   0.676452  0.752105  0.823048\n",
      "     var_smoothing  oob_score  log_loss     auroc\n",
      "327       1.456516   0.606695  0.840756  0.826516\n",
      "309       1.385209   0.609727  0.836316  0.826513\n",
      "318       1.358264   0.610952  0.834588  0.826510\n",
      "320       1.234169   0.617576  0.826264  0.826477\n",
      "314       1.214905   0.618603  0.824916  0.826469\n",
      "315       1.214303   0.618638  0.824874  0.826469\n",
      "304       1.079859   0.625566  0.815041  0.826380\n",
      "329       0.999825   0.630254  0.808835  0.826296\n",
      "317       0.928095   0.634255  0.803058  0.826195\n",
      "322       0.919001   0.634721  0.802311  0.826181\n"
     ]
    },
    {
     "data": {
      "image/png": "[encoded data removed]",
      "text/plain": [
       "<Figure size 432x288 with 1 Axes>"
      ]
     },
     "metadata": {
      "needs_background": "light"
     },
     "output_type": "display_data"
    },
    {
     "name": "stdout",
     "output_type": "stream",
     "text": [
      "time: 47.9 s\n"
     ]
    }
   ],
   "source": [
    "tune_var_smoothing(\n",
    "    search_space=loguniform.rvs(0.01, 1.5, size=15), outfile=\"var_smoothing7\"\n",
    ")\n",
    "tune_var_smoothing(\n",
    "    search_space=np.random.uniform(0.01, 1.5, size=15), outfile=\"var_smoothing8\"\n",
    ")"
   ]
  },
  {
   "cell_type": "code",
   "execution_count": 16,
   "metadata": {},
   "outputs": [
    {
     "data": {
      "application/vnd.jupyter.widget-view+json": {
       "model_id": "966219214ceb4d568484fc38b95a64d6",
       "version_major": 2,
       "version_minor": 0
      },
      "text/plain": [
       "  0%|          | 0/11 [00:00<?, ?it/s]"
      ]
     },
     "metadata": {},
     "output_type": "display_data"
    },
    {
     "name": "stdout",
     "output_type": "stream",
     "text": [
      "     var_smoothing  oob_score  log_loss     auroc\n",
      "332       0.151110   0.677129  0.754760  0.822284\n",
      "220       0.148896   0.677105  0.754925  0.822259\n",
      "103       0.148414   0.677105  0.754962  0.822253\n",
      "211       0.149748   0.677094  0.754861  0.822268\n",
      "44        0.147077   0.677094  0.755066  0.822238\n",
      "1         0.149717   0.677094  0.754863  0.822268\n",
      "226       0.146812   0.677094  0.755086  0.822235\n",
      "113       0.147066   0.677094  0.755067  0.822238\n",
      "15        0.148451   0.677082  0.754959  0.822253\n",
      "164       0.149037   0.677070  0.754915  0.822260\n",
      "     var_smoothing  oob_score  log_loss     auroc\n",
      "157       0.230755   0.676709  0.752094  0.823095\n",
      "170       0.230089   0.676720  0.752094  0.823089\n",
      "198       0.229902   0.676709  0.752095  0.823087\n",
      "132       0.229770   0.676674  0.752095  0.823086\n",
      "189       0.233271   0.676639  0.752095  0.823118\n",
      "179       0.234877   0.676499  0.752098  0.823132\n",
      "155       0.235058   0.676475  0.752098  0.823134\n",
      "190       0.227772   0.676569  0.752098  0.823067\n",
      "159       0.226914   0.676464  0.752101  0.823059\n",
      "23        0.225742   0.676452  0.752105  0.823048\n",
      "     var_smoothing  oob_score  log_loss     auroc\n",
      "327       1.456516   0.606695  0.840756  0.826516\n",
      "309       1.385209   0.609727  0.836316  0.826513\n",
      "318       1.358264   0.610952  0.834588  0.826510\n",
      "320       1.234169   0.617576  0.826264  0.826477\n",
      "314       1.214905   0.618603  0.824916  0.826469\n",
      "315       1.214303   0.618638  0.824874  0.826469\n",
      "304       1.079859   0.625566  0.815041  0.826380\n",
      "329       0.999825   0.630254  0.808835  0.826296\n",
      "317       0.928095   0.634255  0.803058  0.826195\n",
      "322       0.919001   0.634721  0.802311  0.826181\n"
     ]
    },
    {
     "data": {
      "image/png": "[encoded data removed]",
      "text/plain": [
       "<Figure size 432x288 with 1 Axes>"
      ]
     },
     "metadata": {
      "needs_background": "light"
     },
     "output_type": "display_data"
    },
    {
     "data": {
      "application/vnd.jupyter.widget-view+json": {
       "model_id": "f22cc83c8f184f358ebe4e4851a37394",
       "version_major": 2,
       "version_minor": 0
      },
      "text/plain": [
       "  0%|          | 0/11 [00:00<?, ?it/s]"
      ]
     },
     "metadata": {},
     "output_type": "display_data"
    },
    {
     "name": "stdout",
     "output_type": "stream",
     "text": [
      "     var_smoothing  oob_score  log_loss     auroc\n",
      "332       0.151110   0.677129  0.754760  0.822284\n",
      "103       0.148414   0.677105  0.754962  0.822253\n",
      "220       0.148896   0.677105  0.754925  0.822259\n",
      "226       0.146812   0.677094  0.755086  0.822235\n",
      "211       0.149748   0.677094  0.754861  0.822268\n",
      "44        0.147077   0.677094  0.755066  0.822238\n",
      "113       0.147066   0.677094  0.755067  0.822238\n",
      "348       0.147016   0.677094  0.755070  0.822237\n",
      "1         0.149717   0.677094  0.754863  0.822268\n",
      "15        0.148451   0.677082  0.754959  0.822253\n",
      "     var_smoothing  oob_score  log_loss     auroc\n",
      "157       0.230755   0.676709  0.752094  0.823095\n",
      "170       0.230089   0.676720  0.752094  0.823089\n",
      "198       0.229902   0.676709  0.752095  0.823087\n",
      "132       0.229770   0.676674  0.752095  0.823086\n",
      "189       0.233271   0.676639  0.752095  0.823118\n",
      "179       0.234877   0.676499  0.752098  0.823132\n",
      "155       0.235058   0.676475  0.752098  0.823134\n",
      "190       0.227772   0.676569  0.752098  0.823067\n",
      "159       0.226914   0.676464  0.752101  0.823059\n",
      "23        0.225742   0.676452  0.752105  0.823048\n",
      "     var_smoothing  oob_score  log_loss     auroc\n",
      "327       1.456516   0.606695  0.840756  0.826516\n",
      "309       1.385209   0.609727  0.836316  0.826513\n",
      "318       1.358264   0.610952  0.834588  0.826510\n",
      "320       1.234169   0.617576  0.826264  0.826477\n",
      "314       1.214905   0.618603  0.824916  0.826469\n",
      "315       1.214303   0.618638  0.824874  0.826469\n",
      "304       1.079859   0.625566  0.815041  0.826380\n",
      "329       0.999825   0.630254  0.808835  0.826296\n",
      "317       0.928095   0.634255  0.803058  0.826195\n",
      "322       0.919001   0.634721  0.802311  0.826181\n"
     ]
    },
    {
     "data": {
      "image/png": "[encoded data removed]",
      "text/plain": [
       "<Figure size 432x288 with 1 Axes>"
      ]
     },
     "metadata": {
      "needs_background": "light"
     },
     "output_type": "display_data"
    },
    {
     "name": "stdout",
     "output_type": "stream",
     "text": [
      "time: 34 s\n"
     ]
    }
   ],
   "source": [
    "tune_var_smoothing(\n",
    "    search_space=loguniform.rvs(0.12, 0.17, size=11), outfile=\"var_smoothing9\"\n",
    ")\n",
    "tune_var_smoothing(\n",
    "    search_space=np.random.uniform(0.12, 0.17, size=11), outfile=\"var_smoothing10\"\n",
    ")"
   ]
  },
  {
   "cell_type": "code",
   "execution_count": 17,
   "metadata": {},
   "outputs": [
    {
     "data": {
      "application/vnd.jupyter.widget-view+json": {
       "model_id": "4a0cdddfec0c41ba8f78b680e58db3e4",
       "version_major": 2,
       "version_minor": 0
      },
      "text/plain": [
       "  0%|          | 0/11 [00:00<?, ?it/s]"
      ]
     },
     "metadata": {},
     "output_type": "display_data"
    },
    {
     "name": "stdout",
     "output_type": "stream",
     "text": [
      "     var_smoothing  oob_score  log_loss     auroc\n",
      "332       0.151110   0.677129  0.754760  0.822284\n",
      "103       0.148414   0.677105  0.754962  0.822253\n",
      "220       0.148896   0.677105  0.754925  0.822259\n",
      "226       0.146812   0.677094  0.755086  0.822235\n",
      "348       0.147016   0.677094  0.755070  0.822237\n",
      "113       0.147066   0.677094  0.755067  0.822238\n",
      "44        0.147077   0.677094  0.755066  0.822238\n",
      "1         0.149717   0.677094  0.754863  0.822268\n",
      "211       0.149748   0.677094  0.754861  0.822268\n",
      "15        0.148451   0.677082  0.754959  0.822253\n",
      "     var_smoothing  oob_score  log_loss     auroc\n",
      "157       0.230755   0.676709  0.752094  0.823095\n",
      "170       0.230089   0.676720  0.752094  0.823089\n",
      "198       0.229902   0.676709  0.752095  0.823087\n",
      "132       0.229770   0.676674  0.752095  0.823086\n",
      "189       0.233271   0.676639  0.752095  0.823118\n",
      "179       0.234877   0.676499  0.752098  0.823132\n",
      "155       0.235058   0.676475  0.752098  0.823134\n",
      "190       0.227772   0.676569  0.752098  0.823067\n",
      "159       0.226914   0.676464  0.752101  0.823059\n",
      "23        0.225742   0.676452  0.752105  0.823048\n",
      "     var_smoothing  oob_score  log_loss     auroc\n",
      "327       1.456516   0.606695  0.840756  0.826516\n",
      "309       1.385209   0.609727  0.836316  0.826513\n",
      "318       1.358264   0.610952  0.834588  0.826510\n",
      "320       1.234169   0.617576  0.826264  0.826477\n",
      "314       1.214905   0.618603  0.824916  0.826469\n",
      "315       1.214303   0.618638  0.824874  0.826469\n",
      "304       1.079859   0.625566  0.815041  0.826380\n",
      "329       0.999825   0.630254  0.808835  0.826296\n",
      "317       0.928095   0.634255  0.803058  0.826195\n",
      "322       0.919001   0.634721  0.802311  0.826181\n"
     ]
    },
    {
     "data": {
      "image/png": "[encoded data removed]",
      "text/plain": [
       "<Figure size 432x288 with 1 Axes>"
      ]
     },
     "metadata": {
      "needs_background": "light"
     },
     "output_type": "display_data"
    },
    {
     "data": {
      "application/vnd.jupyter.widget-view+json": {
       "model_id": "839ef44b882e48b9bac77dd761384368",
       "version_major": 2,
       "version_minor": 0
      },
      "text/plain": [
       "  0%|          | 0/11 [00:00<?, ?it/s]"
      ]
     },
     "metadata": {},
     "output_type": "display_data"
    },
    {
     "name": "stdout",
     "output_type": "stream",
     "text": [
      "     var_smoothing  oob_score  log_loss     auroc\n",
      "332       0.151110   0.677129  0.754760  0.822284\n",
      "220       0.148896   0.677105  0.754925  0.822259\n",
      "103       0.148414   0.677105  0.754962  0.822253\n",
      "44        0.147077   0.677094  0.755066  0.822238\n",
      "113       0.147066   0.677094  0.755067  0.822238\n",
      "348       0.147016   0.677094  0.755070  0.822237\n",
      "226       0.146812   0.677094  0.755086  0.822235\n",
      "1         0.149717   0.677094  0.754863  0.822268\n",
      "211       0.149748   0.677094  0.754861  0.822268\n",
      "15        0.148451   0.677082  0.754959  0.822253\n",
      "     var_smoothing  oob_score  log_loss     auroc\n",
      "157       0.230755   0.676709  0.752094  0.823095\n",
      "170       0.230089   0.676720  0.752094  0.823089\n",
      "198       0.229902   0.676709  0.752095  0.823087\n",
      "132       0.229770   0.676674  0.752095  0.823086\n",
      "189       0.233271   0.676639  0.752095  0.823118\n",
      "366       0.229395   0.676650  0.752095  0.823082\n",
      "179       0.234877   0.676499  0.752098  0.823132\n",
      "155       0.235058   0.676475  0.752098  0.823134\n",
      "190       0.227772   0.676569  0.752098  0.823067\n",
      "159       0.226914   0.676464  0.752101  0.823059\n",
      "     var_smoothing  oob_score  log_loss     auroc\n",
      "327       1.456516   0.606695  0.840756  0.826516\n",
      "309       1.385209   0.609727  0.836316  0.826513\n",
      "318       1.358264   0.610952  0.834588  0.826510\n",
      "320       1.234169   0.617576  0.826264  0.826477\n",
      "314       1.214905   0.618603  0.824916  0.826469\n",
      "315       1.214303   0.618638  0.824874  0.826469\n",
      "304       1.079859   0.625566  0.815041  0.826380\n",
      "329       0.999825   0.630254  0.808835  0.826296\n",
      "317       0.928095   0.634255  0.803058  0.826195\n",
      "322       0.919001   0.634721  0.802311  0.826181\n"
     ]
    },
    {
     "data": {
      "image/png": "[encoded data removed]",
      "text/plain": [
       "<Figure size 432x288 with 1 Axes>"
      ]
     },
     "metadata": {
      "needs_background": "light"
     },
     "output_type": "display_data"
    },
    {
     "name": "stdout",
     "output_type": "stream",
     "text": [
      "time: 33.6 s\n"
     ]
    }
   ],
   "source": [
    "tune_var_smoothing(\n",
    "    search_space=loguniform.rvs(0.21, 0.25, size=11), outfile=\"var_smoothing11\"\n",
    ")\n",
    "tune_var_smoothing(\n",
    "    search_space=np.random.uniform(0.21, 0.25, size=11), outfile=\"var_smoothing12\"\n",
    ")"
   ]
  },
  {
   "cell_type": "code",
   "execution_count": 18,
   "metadata": {},
   "outputs": [
    {
     "data": {
      "application/vnd.jupyter.widget-view+json": {
       "model_id": "81e7b736b1564a28b12ff22ebb6bfdee",
       "version_major": 2,
       "version_minor": 0
      },
      "text/plain": [
       "  0%|          | 0/17 [00:00<?, ?it/s]"
      ]
     },
     "metadata": {},
     "output_type": "display_data"
    },
    {
     "name": "stdout",
     "output_type": "stream",
     "text": [
      "     var_smoothing  oob_score  log_loss     auroc\n",
      "332       0.151110   0.677129  0.754760  0.822284\n",
      "220       0.148896   0.677105  0.754925  0.822259\n",
      "103       0.148414   0.677105  0.754962  0.822253\n",
      "44        0.147077   0.677094  0.755066  0.822238\n",
      "1         0.149717   0.677094  0.754863  0.822268\n",
      "113       0.147066   0.677094  0.755067  0.822238\n",
      "348       0.147016   0.677094  0.755070  0.822237\n",
      "226       0.146812   0.677094  0.755086  0.822235\n",
      "211       0.149748   0.677094  0.754861  0.822268\n",
      "15        0.148451   0.677082  0.754959  0.822253\n",
      "     var_smoothing  oob_score  log_loss     auroc\n",
      "157       0.230755   0.676709  0.752094  0.823095\n",
      "170       0.230089   0.676720  0.752094  0.823089\n",
      "198       0.229902   0.676709  0.752095  0.823087\n",
      "132       0.229770   0.676674  0.752095  0.823086\n",
      "189       0.233271   0.676639  0.752095  0.823118\n",
      "366       0.229395   0.676650  0.752095  0.823082\n",
      "179       0.234877   0.676499  0.752098  0.823132\n",
      "155       0.235058   0.676475  0.752098  0.823134\n",
      "190       0.227772   0.676569  0.752098  0.823067\n",
      "159       0.226914   0.676464  0.752101  0.823059\n",
      "     var_smoothing  oob_score  log_loss     auroc\n",
      "327       1.456516   0.606695  0.840756  0.826516\n",
      "309       1.385209   0.609727  0.836316  0.826513\n",
      "318       1.358264   0.610952  0.834588  0.826510\n",
      "320       1.234169   0.617576  0.826264  0.826477\n",
      "314       1.214905   0.618603  0.824916  0.826469\n",
      "315       1.214303   0.618638  0.824874  0.826469\n",
      "304       1.079859   0.625566  0.815041  0.826380\n",
      "329       0.999825   0.630254  0.808835  0.826296\n",
      "317       0.928095   0.634255  0.803058  0.826195\n",
      "322       0.919001   0.634721  0.802311  0.826181\n"
     ]
    },
    {
     "data": {
      "image/png": "[encoded data removed]",
      "text/plain": [
       "<Figure size 432x288 with 1 Axes>"
      ]
     },
     "metadata": {
      "needs_background": "light"
     },
     "output_type": "display_data"
    },
    {
     "data": {
      "application/vnd.jupyter.widget-view+json": {
       "model_id": "49bd3fefaab54bb2947136bf28004fe7",
       "version_major": 2,
       "version_minor": 0
      },
      "text/plain": [
       "  0%|          | 0/17 [00:00<?, ?it/s]"
      ]
     },
     "metadata": {},
     "output_type": "display_data"
    },
    {
     "name": "stdout",
     "output_type": "stream",
     "text": [
      "     var_smoothing  oob_score  log_loss     auroc\n",
      "332       0.151110   0.677129  0.754760  0.822284\n",
      "402       0.151255   0.677117  0.754749  0.822285\n",
      "220       0.148896   0.677105  0.754925  0.822259\n",
      "103       0.148414   0.677105  0.754962  0.822253\n",
      "226       0.146812   0.677094  0.755086  0.822235\n",
      "211       0.149748   0.677094  0.754861  0.822268\n",
      "1         0.149717   0.677094  0.754863  0.822268\n",
      "44        0.147077   0.677094  0.755066  0.822238\n",
      "348       0.147016   0.677094  0.755070  0.822237\n",
      "113       0.147066   0.677094  0.755067  0.822238\n",
      "     var_smoothing  oob_score  log_loss     auroc\n",
      "157       0.230755   0.676709  0.752094  0.823095\n",
      "406       0.230234   0.676709  0.752094  0.823090\n",
      "170       0.230089   0.676720  0.752094  0.823089\n",
      "198       0.229902   0.676709  0.752095  0.823087\n",
      "132       0.229770   0.676674  0.752095  0.823086\n",
      "189       0.233271   0.676639  0.752095  0.823118\n",
      "366       0.229395   0.676650  0.752095  0.823082\n",
      "179       0.234877   0.676499  0.752098  0.823132\n",
      "155       0.235058   0.676475  0.752098  0.823134\n",
      "190       0.227772   0.676569  0.752098  0.823067\n",
      "     var_smoothing  oob_score  log_loss     auroc\n",
      "327       1.456516   0.606695  0.840756  0.826516\n",
      "309       1.385209   0.609727  0.836316  0.826513\n",
      "318       1.358264   0.610952  0.834588  0.826510\n",
      "320       1.234169   0.617576  0.826264  0.826477\n",
      "314       1.214905   0.618603  0.824916  0.826469\n",
      "315       1.214303   0.618638  0.824874  0.826469\n",
      "304       1.079859   0.625566  0.815041  0.826380\n",
      "329       0.999825   0.630254  0.808835  0.826296\n",
      "317       0.928095   0.634255  0.803058  0.826195\n",
      "322       0.919001   0.634721  0.802311  0.826181\n"
     ]
    },
    {
     "data": {
      "image/png": "[encoded data removed]",
      "text/plain": [
       "<Figure size 432x288 with 1 Axes>"
      ]
     },
     "metadata": {
      "needs_background": "light"
     },
     "output_type": "display_data"
    },
    {
     "name": "stdout",
     "output_type": "stream",
     "text": [
      "time: 52.6 s\n"
     ]
    }
   ],
   "source": [
    "tune_var_smoothing(\n",
    "    search_space=loguniform.rvs(0.145, 0.235, size=17), outfile=\"var_smoothing11\"\n",
    ")\n",
    "tune_var_smoothing(\n",
    "    search_space=np.random.uniform(0.145, 0.235, size=17), outfile=\"var_smoothing12\"\n",
    ")"
   ]
  },
  {
   "cell_type": "code",
   "execution_count": 19,
   "metadata": {},
   "outputs": [
    {
     "name": "stdout",
     "output_type": "stream",
     "text": [
      "time: 145 ms\n"
     ]
    }
   ],
   "source": [
    "files = [\n",
    "    \"var_smoothing1.feather\",\n",
    "    \"var_smoothing2.feather\",\n",
    "    \"var_smoothing3.feather\",\n",
    "    \"var_smoothing4.feather\",\n",
    "    \"var_smoothing5.feather\",\n",
    "    \"var_smoothing6.feather\",\n",
    "    \"var_smoothing7.feather\",\n",
    "    \"var_smoothing8.feather\",\n",
    "    \"var_smoothing9.feather\",\n",
    "    \"var_smoothing10.feather\",\n",
    "    \"var_smoothing11.feather\",\n",
    "    \"var_smoothing12.feather\",\n",
    "]\n",
    "df = pd.concat(\n",
    "    [pd.read_feather(f\"{DATA_OUT_FOLDER}/{file}\") for file in files],\n",
    "    axis=\"rows\",\n",
    ")"
   ]
  },
  {
   "cell_type": "code",
   "execution_count": 20,
   "metadata": {},
   "outputs": [
    {
     "data": {
      "text/plain": [
       "<AxesSubplot:xlabel='var_smoothing', ylabel='auroc'>"
      ]
     },
     "execution_count": 20,
     "metadata": {},
     "output_type": "execute_result"
    },
    {
     "name": "stderr",
     "output_type": "stream",
     "text": [
      "WARNING:matplotlib.legend:No handles with labels found to put in legend.\n"
     ]
    },
    {
     "data": {
      "text/plain": [
       "<matplotlib.legend.Legend at 0x1a6c0384ee0>"
      ]
     },
     "execution_count": 20,
     "metadata": {},
     "output_type": "execute_result"
    },
    {
     "data": {
      "image/png": "[encoded data removed]",
      "text/plain": [
       "<Figure size 432x288 with 1 Axes>"
      ]
     },
     "metadata": {
      "needs_background": "light"
     },
     "output_type": "display_data"
    },
    {
     "data": {
      "text/plain": [
       "<AxesSubplot:xlabel='var_smoothing', ylabel='log_loss'>"
      ]
     },
     "execution_count": 20,
     "metadata": {},
     "output_type": "execute_result"
    },
    {
     "name": "stderr",
     "output_type": "stream",
     "text": [
      "WARNING:matplotlib.legend:No handles with labels found to put in legend.\n"
     ]
    },
    {
     "data": {
      "text/plain": [
       "<matplotlib.legend.Legend at 0x1a6c0398430>"
      ]
     },
     "execution_count": 20,
     "metadata": {},
     "output_type": "execute_result"
    },
    {
     "data": {
      "image/png": "[encoded data removed]",
      "text/plain": [
       "<Figure size 432x288 with 1 Axes>"
      ]
     },
     "metadata": {
      "needs_background": "light"
     },
     "output_type": "display_data"
    },
    {
     "data": {
      "text/plain": [
       "<AxesSubplot:xlabel='var_smoothing', ylabel='oob_score'>"
      ]
     },
     "execution_count": 20,
     "metadata": {},
     "output_type": "execute_result"
    },
    {
     "name": "stderr",
     "output_type": "stream",
     "text": [
      "WARNING:matplotlib.legend:No handles with labels found to put in legend.\n"
     ]
    },
    {
     "data": {
      "text/plain": [
       "<matplotlib.legend.Legend at 0x1a6c036cb50>"
      ]
     },
     "execution_count": 20,
     "metadata": {},
     "output_type": "execute_result"
    },
    {
     "data": {
      "image/png": "[encoded data removed]",
      "text/plain": [
       "<Figure size 432x288 with 1 Axes>"
      ]
     },
     "metadata": {
      "needs_background": "light"
     },
     "output_type": "display_data"
    },
    {
     "name": "stdout",
     "output_type": "stream",
     "text": [
      "time: 656 ms\n"
     ]
    }
   ],
   "source": [
    "for metric in (\"auroc\", \"log_loss\", \"oob_score\"):\n",
    "    # plot\n",
    "    df.sort_values(by=\"var_smoothing\").plot(x=\"var_smoothing\", y=metric, kind=\"scatter\")\n",
    "    plt.legend(frameon=False)\n",
    "    sns.despine(top=True, right=True)\n",
    "    plt.tight_layout()\n",
    "    plt.show()"
   ]
  },
  {
   "cell_type": "code",
   "execution_count": 21,
   "metadata": {},
   "outputs": [
    {
     "data": {
      "text/html": [
       "<div>\n",
       "<style scoped>\n",
       "    .dataframe tbody tr th:only-of-type {\n",
       "        vertical-align: middle;\n",
       "    }\n",
       "\n",
       "    .dataframe tbody tr th {\n",
       "        vertical-align: top;\n",
       "    }\n",
       "\n",
       "    .dataframe thead th {\n",
       "        text-align: right;\n",
       "    }\n",
       "</style>\n",
       "<table border=\"1\" class=\"dataframe\">\n",
       "  <thead>\n",
       "    <tr style=\"text-align: right;\">\n",
       "      <th></th>\n",
       "      <th>var_smoothing</th>\n",
       "      <th>oob_score</th>\n",
       "      <th>log_loss</th>\n",
       "      <th>auroc</th>\n",
       "    </tr>\n",
       "  </thead>\n",
       "  <tbody>\n",
       "    <tr>\n",
       "      <th>158</th>\n",
       "      <td>0.230755</td>\n",
       "      <td>0.676709</td>\n",
       "      <td>0.752094</td>\n",
       "      <td>0.823095</td>\n",
       "    </tr>\n",
       "  </tbody>\n",
       "</table>\n",
       "</div>"
      ],
      "text/plain": [
       "     var_smoothing  oob_score  log_loss     auroc\n",
       "158       0.230755   0.676709  0.752094  0.823095"
      ]
     },
     "execution_count": 21,
     "metadata": {},
     "output_type": "execute_result"
    },
    {
     "data": {
      "text/html": [
       "<div>\n",
       "<style scoped>\n",
       "    .dataframe tbody tr th:only-of-type {\n",
       "        vertical-align: middle;\n",
       "    }\n",
       "\n",
       "    .dataframe tbody tr th {\n",
       "        vertical-align: top;\n",
       "    }\n",
       "\n",
       "    .dataframe thead th {\n",
       "        text-align: right;\n",
       "    }\n",
       "</style>\n",
       "<table border=\"1\" class=\"dataframe\">\n",
       "  <thead>\n",
       "    <tr style=\"text-align: right;\">\n",
       "      <th></th>\n",
       "      <th>var_smoothing</th>\n",
       "      <th>oob_score</th>\n",
       "      <th>log_loss</th>\n",
       "      <th>auroc</th>\n",
       "    </tr>\n",
       "  </thead>\n",
       "  <tbody>\n",
       "    <tr>\n",
       "      <th>221</th>\n",
       "      <td>0.15111</td>\n",
       "      <td>0.677129</td>\n",
       "      <td>0.75476</td>\n",
       "      <td>0.822284</td>\n",
       "    </tr>\n",
       "  </tbody>\n",
       "</table>\n",
       "</div>"
      ],
      "text/plain": [
       "     var_smoothing  oob_score  log_loss     auroc\n",
       "221        0.15111   0.677129   0.75476  0.822284"
      ]
     },
     "execution_count": 21,
     "metadata": {},
     "output_type": "execute_result"
    },
    {
     "data": {
      "text/html": [
       "<div>\n",
       "<style scoped>\n",
       "    .dataframe tbody tr th:only-of-type {\n",
       "        vertical-align: middle;\n",
       "    }\n",
       "\n",
       "    .dataframe tbody tr th {\n",
       "        vertical-align: top;\n",
       "    }\n",
       "\n",
       "    .dataframe thead th {\n",
       "        text-align: right;\n",
       "    }\n",
       "</style>\n",
       "<table border=\"1\" class=\"dataframe\">\n",
       "  <thead>\n",
       "    <tr style=\"text-align: right;\">\n",
       "      <th></th>\n",
       "      <th>var_smoothing</th>\n",
       "      <th>oob_score</th>\n",
       "      <th>log_loss</th>\n",
       "      <th>auroc</th>\n",
       "    </tr>\n",
       "  </thead>\n",
       "  <tbody>\n",
       "    <tr>\n",
       "      <th>329</th>\n",
       "      <td>1.456516</td>\n",
       "      <td>0.606695</td>\n",
       "      <td>0.840756</td>\n",
       "      <td>0.826516</td>\n",
       "    </tr>\n",
       "  </tbody>\n",
       "</table>\n",
       "</div>"
      ],
      "text/plain": [
       "     var_smoothing  oob_score  log_loss     auroc\n",
       "329       1.456516   0.606695  0.840756  0.826516"
      ]
     },
     "execution_count": 21,
     "metadata": {},
     "output_type": "execute_result"
    },
    {
     "name": "stdout",
     "output_type": "stream",
     "text": [
      "time: 32 ms\n"
     ]
    }
   ],
   "source": [
    "# best\n",
    "df = df.drop_duplicates()\n",
    "df.loc[df.log_loss == df.log_loss.min()]\n",
    "df.loc[df.oob_score == df.oob_score.max()].sort_values(by=\"log_loss\", ascending=True)\n",
    "df.loc[df.auroc == df.auroc.max()]"
   ]
  },
  {
   "cell_type": "code",
   "execution_count": 22,
   "metadata": {},
   "outputs": [
    {
     "data": {
      "text/html": [
       "<div>\n",
       "<style scoped>\n",
       "    .dataframe tbody tr th:only-of-type {\n",
       "        vertical-align: middle;\n",
       "    }\n",
       "\n",
       "    .dataframe tbody tr th {\n",
       "        vertical-align: top;\n",
       "    }\n",
       "\n",
       "    .dataframe thead th {\n",
       "        text-align: right;\n",
       "    }\n",
       "</style>\n",
       "<table border=\"1\" class=\"dataframe\">\n",
       "  <thead>\n",
       "    <tr style=\"text-align: right;\">\n",
       "      <th></th>\n",
       "      <th>var_smoothing</th>\n",
       "      <th>oob_score</th>\n",
       "      <th>log_loss</th>\n",
       "      <th>auroc</th>\n",
       "    </tr>\n",
       "  </thead>\n",
       "  <tbody>\n",
       "    <tr>\n",
       "      <th>339</th>\n",
       "      <td>0.230234</td>\n",
       "      <td>0.676709</td>\n",
       "      <td>0.752094</td>\n",
       "      <td>0.823090</td>\n",
       "    </tr>\n",
       "    <tr>\n",
       "      <th>157</th>\n",
       "      <td>0.230089</td>\n",
       "      <td>0.676720</td>\n",
       "      <td>0.752094</td>\n",
       "      <td>0.823089</td>\n",
       "    </tr>\n",
       "    <tr>\n",
       "      <th>156</th>\n",
       "      <td>0.229902</td>\n",
       "      <td>0.676709</td>\n",
       "      <td>0.752095</td>\n",
       "      <td>0.823087</td>\n",
       "    </tr>\n",
       "    <tr>\n",
       "      <th>115</th>\n",
       "      <td>0.229770</td>\n",
       "      <td>0.676674</td>\n",
       "      <td>0.752095</td>\n",
       "      <td>0.823086</td>\n",
       "    </tr>\n",
       "    <tr>\n",
       "      <th>159</th>\n",
       "      <td>0.233271</td>\n",
       "      <td>0.676639</td>\n",
       "      <td>0.752095</td>\n",
       "      <td>0.823118</td>\n",
       "    </tr>\n",
       "    <tr>\n",
       "      <th>319</th>\n",
       "      <td>0.229395</td>\n",
       "      <td>0.676650</td>\n",
       "      <td>0.752095</td>\n",
       "      <td>0.823082</td>\n",
       "    </tr>\n",
       "    <tr>\n",
       "      <th>160</th>\n",
       "      <td>0.234877</td>\n",
       "      <td>0.676499</td>\n",
       "      <td>0.752098</td>\n",
       "      <td>0.823132</td>\n",
       "    </tr>\n",
       "    <tr>\n",
       "      <th>161</th>\n",
       "      <td>0.235058</td>\n",
       "      <td>0.676475</td>\n",
       "      <td>0.752098</td>\n",
       "      <td>0.823134</td>\n",
       "    </tr>\n",
       "    <tr>\n",
       "      <th>154</th>\n",
       "      <td>0.227772</td>\n",
       "      <td>0.676569</td>\n",
       "      <td>0.752098</td>\n",
       "      <td>0.823067</td>\n",
       "    </tr>\n",
       "    <tr>\n",
       "      <th>153</th>\n",
       "      <td>0.226914</td>\n",
       "      <td>0.676464</td>\n",
       "      <td>0.752101</td>\n",
       "      <td>0.823059</td>\n",
       "    </tr>\n",
       "  </tbody>\n",
       "</table>\n",
       "</div>"
      ],
      "text/plain": [
       "     var_smoothing  oob_score  log_loss     auroc\n",
       "339       0.230234   0.676709  0.752094  0.823090\n",
       "157       0.230089   0.676720  0.752094  0.823089\n",
       "156       0.229902   0.676709  0.752095  0.823087\n",
       "115       0.229770   0.676674  0.752095  0.823086\n",
       "159       0.233271   0.676639  0.752095  0.823118\n",
       "319       0.229395   0.676650  0.752095  0.823082\n",
       "160       0.234877   0.676499  0.752098  0.823132\n",
       "161       0.235058   0.676475  0.752098  0.823134\n",
       "154       0.227772   0.676569  0.752098  0.823067\n",
       "153       0.226914   0.676464  0.752101  0.823059"
      ]
     },
     "execution_count": 22,
     "metadata": {},
     "output_type": "execute_result"
    },
    {
     "data": {
      "text/html": [
       "<div>\n",
       "<style scoped>\n",
       "    .dataframe tbody tr th:only-of-type {\n",
       "        vertical-align: middle;\n",
       "    }\n",
       "\n",
       "    .dataframe tbody tr th {\n",
       "        vertical-align: top;\n",
       "    }\n",
       "\n",
       "    .dataframe thead th {\n",
       "        text-align: right;\n",
       "    }\n",
       "</style>\n",
       "<table border=\"1\" class=\"dataframe\">\n",
       "  <thead>\n",
       "    <tr style=\"text-align: right;\">\n",
       "      <th></th>\n",
       "      <th>var_smoothing</th>\n",
       "      <th>oob_score</th>\n",
       "      <th>log_loss</th>\n",
       "      <th>auroc</th>\n",
       "    </tr>\n",
       "  </thead>\n",
       "  <tbody>\n",
       "    <tr>\n",
       "      <th>229</th>\n",
       "      <td>0.151255</td>\n",
       "      <td>0.677117</td>\n",
       "      <td>0.754749</td>\n",
       "      <td>0.822285</td>\n",
       "    </tr>\n",
       "    <tr>\n",
       "      <th>162</th>\n",
       "      <td>0.148896</td>\n",
       "      <td>0.677105</td>\n",
       "      <td>0.754925</td>\n",
       "      <td>0.822259</td>\n",
       "    </tr>\n",
       "    <tr>\n",
       "      <th>88</th>\n",
       "      <td>0.148414</td>\n",
       "      <td>0.677105</td>\n",
       "      <td>0.754962</td>\n",
       "      <td>0.822253</td>\n",
       "    </tr>\n",
       "    <tr>\n",
       "      <th>24</th>\n",
       "      <td>0.149717</td>\n",
       "      <td>0.677094</td>\n",
       "      <td>0.754863</td>\n",
       "      <td>0.822268</td>\n",
       "    </tr>\n",
       "    <tr>\n",
       "      <th>22</th>\n",
       "      <td>0.147077</td>\n",
       "      <td>0.677094</td>\n",
       "      <td>0.755066</td>\n",
       "      <td>0.822238</td>\n",
       "    </tr>\n",
       "    <tr>\n",
       "      <th>157</th>\n",
       "      <td>0.146812</td>\n",
       "      <td>0.677094</td>\n",
       "      <td>0.755086</td>\n",
       "      <td>0.822235</td>\n",
       "    </tr>\n",
       "    <tr>\n",
       "      <th>86</th>\n",
       "      <td>0.147066</td>\n",
       "      <td>0.677094</td>\n",
       "      <td>0.755067</td>\n",
       "      <td>0.822238</td>\n",
       "    </tr>\n",
       "    <tr>\n",
       "      <th>165</th>\n",
       "      <td>0.149748</td>\n",
       "      <td>0.677094</td>\n",
       "      <td>0.754861</td>\n",
       "      <td>0.822268</td>\n",
       "    </tr>\n",
       "    <tr>\n",
       "      <th>216</th>\n",
       "      <td>0.147016</td>\n",
       "      <td>0.677094</td>\n",
       "      <td>0.755070</td>\n",
       "      <td>0.822237</td>\n",
       "    </tr>\n",
       "    <tr>\n",
       "      <th>23</th>\n",
       "      <td>0.148451</td>\n",
       "      <td>0.677082</td>\n",
       "      <td>0.754959</td>\n",
       "      <td>0.822253</td>\n",
       "    </tr>\n",
       "  </tbody>\n",
       "</table>\n",
       "</div>"
      ],
      "text/plain": [
       "     var_smoothing  oob_score  log_loss     auroc\n",
       "229       0.151255   0.677117  0.754749  0.822285\n",
       "162       0.148896   0.677105  0.754925  0.822259\n",
       "88        0.148414   0.677105  0.754962  0.822253\n",
       "24        0.149717   0.677094  0.754863  0.822268\n",
       "22        0.147077   0.677094  0.755066  0.822238\n",
       "157       0.146812   0.677094  0.755086  0.822235\n",
       "86        0.147066   0.677094  0.755067  0.822238\n",
       "165       0.149748   0.677094  0.754861  0.822268\n",
       "216       0.147016   0.677094  0.755070  0.822237\n",
       "23        0.148451   0.677082  0.754959  0.822253"
      ]
     },
     "execution_count": 22,
     "metadata": {},
     "output_type": "execute_result"
    },
    {
     "data": {
      "text/html": [
       "<div>\n",
       "<style scoped>\n",
       "    .dataframe tbody tr th:only-of-type {\n",
       "        vertical-align: middle;\n",
       "    }\n",
       "\n",
       "    .dataframe tbody tr th {\n",
       "        vertical-align: top;\n",
       "    }\n",
       "\n",
       "    .dataframe thead th {\n",
       "        text-align: right;\n",
       "    }\n",
       "</style>\n",
       "<table border=\"1\" class=\"dataframe\">\n",
       "  <thead>\n",
       "    <tr style=\"text-align: right;\">\n",
       "      <th></th>\n",
       "      <th>var_smoothing</th>\n",
       "      <th>oob_score</th>\n",
       "      <th>log_loss</th>\n",
       "      <th>auroc</th>\n",
       "    </tr>\n",
       "  </thead>\n",
       "  <tbody>\n",
       "    <tr>\n",
       "      <th>314</th>\n",
       "      <td>1.385209</td>\n",
       "      <td>0.609727</td>\n",
       "      <td>0.836316</td>\n",
       "      <td>0.826513</td>\n",
       "    </tr>\n",
       "    <tr>\n",
       "      <th>327</th>\n",
       "      <td>1.358264</td>\n",
       "      <td>0.610952</td>\n",
       "      <td>0.834588</td>\n",
       "      <td>0.826510</td>\n",
       "    </tr>\n",
       "    <tr>\n",
       "      <th>326</th>\n",
       "      <td>1.234169</td>\n",
       "      <td>0.617576</td>\n",
       "      <td>0.826264</td>\n",
       "      <td>0.826477</td>\n",
       "    </tr>\n",
       "    <tr>\n",
       "      <th>313</th>\n",
       "      <td>1.214905</td>\n",
       "      <td>0.618603</td>\n",
       "      <td>0.824916</td>\n",
       "      <td>0.826469</td>\n",
       "    </tr>\n",
       "    <tr>\n",
       "      <th>324</th>\n",
       "      <td>1.214303</td>\n",
       "      <td>0.618638</td>\n",
       "      <td>0.824874</td>\n",
       "      <td>0.826469</td>\n",
       "    </tr>\n",
       "    <tr>\n",
       "      <th>312</th>\n",
       "      <td>1.079859</td>\n",
       "      <td>0.625566</td>\n",
       "      <td>0.815041</td>\n",
       "      <td>0.826380</td>\n",
       "    </tr>\n",
       "    <tr>\n",
       "      <th>322</th>\n",
       "      <td>0.999825</td>\n",
       "      <td>0.630254</td>\n",
       "      <td>0.808835</td>\n",
       "      <td>0.826296</td>\n",
       "    </tr>\n",
       "    <tr>\n",
       "      <th>321</th>\n",
       "      <td>0.928095</td>\n",
       "      <td>0.634255</td>\n",
       "      <td>0.803058</td>\n",
       "      <td>0.826195</td>\n",
       "    </tr>\n",
       "    <tr>\n",
       "      <th>320</th>\n",
       "      <td>0.919001</td>\n",
       "      <td>0.634721</td>\n",
       "      <td>0.802311</td>\n",
       "      <td>0.826181</td>\n",
       "    </tr>\n",
       "    <tr>\n",
       "      <th>319</th>\n",
       "      <td>0.832761</td>\n",
       "      <td>0.640308</td>\n",
       "      <td>0.795093</td>\n",
       "      <td>0.826016</td>\n",
       "    </tr>\n",
       "  </tbody>\n",
       "</table>\n",
       "</div>"
      ],
      "text/plain": [
       "     var_smoothing  oob_score  log_loss     auroc\n",
       "314       1.385209   0.609727  0.836316  0.826513\n",
       "327       1.358264   0.610952  0.834588  0.826510\n",
       "326       1.234169   0.617576  0.826264  0.826477\n",
       "313       1.214905   0.618603  0.824916  0.826469\n",
       "324       1.214303   0.618638  0.824874  0.826469\n",
       "312       1.079859   0.625566  0.815041  0.826380\n",
       "322       0.999825   0.630254  0.808835  0.826296\n",
       "321       0.928095   0.634255  0.803058  0.826195\n",
       "320       0.919001   0.634721  0.802311  0.826181\n",
       "319       0.832761   0.640308  0.795093  0.826016"
      ]
     },
     "execution_count": 22,
     "metadata": {},
     "output_type": "execute_result"
    },
    {
     "name": "stdout",
     "output_type": "stream",
     "text": [
      "time: 27 ms\n"
     ]
    }
   ],
   "source": [
    "# next best\n",
    "df.sort_values(by=\"log_loss\", ascending=True).head(11).tail(10)\n",
    "df.sort_values(by=\"oob_score\", ascending=False).head(11).tail(10)\n",
    "df.sort_values(by=\"auroc\", ascending=False).head(11).tail(10)"
   ]
  },
  {
   "cell_type": "code",
   "execution_count": 23,
   "metadata": {},
   "outputs": [
    {
     "data": {
      "text/html": [
       "<div>\n",
       "<style scoped>\n",
       "    .dataframe tbody tr th:only-of-type {\n",
       "        vertical-align: middle;\n",
       "    }\n",
       "\n",
       "    .dataframe tbody tr th {\n",
       "        vertical-align: top;\n",
       "    }\n",
       "\n",
       "    .dataframe thead th {\n",
       "        text-align: right;\n",
       "    }\n",
       "</style>\n",
       "<table border=\"1\" class=\"dataframe\">\n",
       "  <thead>\n",
       "    <tr style=\"text-align: right;\">\n",
       "      <th></th>\n",
       "      <th>var_smoothing</th>\n",
       "      <th>oob_score</th>\n",
       "      <th>log_loss</th>\n",
       "      <th>auroc</th>\n",
       "      <th>diff</th>\n",
       "    </tr>\n",
       "  </thead>\n",
       "  <tbody>\n",
       "    <tr>\n",
       "      <th>157</th>\n",
       "      <td>0.230089</td>\n",
       "      <td>0.676720</td>\n",
       "      <td>0.752094</td>\n",
       "      <td>0.823089</td>\n",
       "      <td>0.075374</td>\n",
       "    </tr>\n",
       "    <tr>\n",
       "      <th>158</th>\n",
       "      <td>0.230755</td>\n",
       "      <td>0.676709</td>\n",
       "      <td>0.752094</td>\n",
       "      <td>0.823095</td>\n",
       "      <td>0.075385</td>\n",
       "    </tr>\n",
       "    <tr>\n",
       "      <th>339</th>\n",
       "      <td>0.230234</td>\n",
       "      <td>0.676709</td>\n",
       "      <td>0.752094</td>\n",
       "      <td>0.823090</td>\n",
       "      <td>0.075386</td>\n",
       "    </tr>\n",
       "    <tr>\n",
       "      <th>156</th>\n",
       "      <td>0.229902</td>\n",
       "      <td>0.676709</td>\n",
       "      <td>0.752095</td>\n",
       "      <td>0.823087</td>\n",
       "      <td>0.075386</td>\n",
       "    </tr>\n",
       "    <tr>\n",
       "      <th>115</th>\n",
       "      <td>0.229770</td>\n",
       "      <td>0.676674</td>\n",
       "      <td>0.752095</td>\n",
       "      <td>0.823086</td>\n",
       "      <td>0.075421</td>\n",
       "    </tr>\n",
       "    <tr>\n",
       "      <th>319</th>\n",
       "      <td>0.229395</td>\n",
       "      <td>0.676650</td>\n",
       "      <td>0.752095</td>\n",
       "      <td>0.823082</td>\n",
       "      <td>0.075445</td>\n",
       "    </tr>\n",
       "    <tr>\n",
       "      <th>159</th>\n",
       "      <td>0.233271</td>\n",
       "      <td>0.676639</td>\n",
       "      <td>0.752095</td>\n",
       "      <td>0.823118</td>\n",
       "      <td>0.075456</td>\n",
       "    </tr>\n",
       "    <tr>\n",
       "      <th>154</th>\n",
       "      <td>0.227772</td>\n",
       "      <td>0.676569</td>\n",
       "      <td>0.752098</td>\n",
       "      <td>0.823067</td>\n",
       "      <td>0.075530</td>\n",
       "    </tr>\n",
       "    <tr>\n",
       "      <th>160</th>\n",
       "      <td>0.234877</td>\n",
       "      <td>0.676499</td>\n",
       "      <td>0.752098</td>\n",
       "      <td>0.823132</td>\n",
       "      <td>0.075599</td>\n",
       "    </tr>\n",
       "    <tr>\n",
       "      <th>37</th>\n",
       "      <td>0.238281</td>\n",
       "      <td>0.676499</td>\n",
       "      <td>0.752109</td>\n",
       "      <td>0.823163</td>\n",
       "      <td>0.075611</td>\n",
       "    </tr>\n",
       "  </tbody>\n",
       "</table>\n",
       "</div>"
      ],
      "text/plain": [
       "     var_smoothing  oob_score  log_loss     auroc      diff\n",
       "157       0.230089   0.676720  0.752094  0.823089  0.075374\n",
       "158       0.230755   0.676709  0.752094  0.823095  0.075385\n",
       "339       0.230234   0.676709  0.752094  0.823090  0.075386\n",
       "156       0.229902   0.676709  0.752095  0.823087  0.075386\n",
       "115       0.229770   0.676674  0.752095  0.823086  0.075421\n",
       "319       0.229395   0.676650  0.752095  0.823082  0.075445\n",
       "159       0.233271   0.676639  0.752095  0.823118  0.075456\n",
       "154       0.227772   0.676569  0.752098  0.823067  0.075530\n",
       "160       0.234877   0.676499  0.752098  0.823132  0.075599\n",
       "37        0.238281   0.676499  0.752109  0.823163  0.075611"
      ]
     },
     "execution_count": 23,
     "metadata": {},
     "output_type": "execute_result"
    },
    {
     "name": "stdout",
     "output_type": "stream",
     "text": [
      "time: 13 ms\n"
     ]
    }
   ],
   "source": [
    "df[\"diff\"] = df.log_loss - df.oob_score\n",
    "df.sort_values(by=\"diff\", ascending=True).head(10)"
   ]
  },
  {
   "cell_type": "code",
   "execution_count": 29,
   "metadata": {},
   "outputs": [
    {
     "data": {
      "text/plain": [
       "<AxesSubplot:xlabel='var_smoothing'>"
      ]
     },
     "execution_count": 29,
     "metadata": {},
     "output_type": "execute_result"
    },
    {
     "data": {
      "text/plain": [
       "<matplotlib.legend.Legend at 0x1a6ca19dca0>"
      ]
     },
     "execution_count": 29,
     "metadata": {},
     "output_type": "execute_result"
    },
    {
     "data": {
      "image/png": "[encoded data removed]",
      "text/plain": [
       "<Figure size 432x288 with 1 Axes>"
      ]
     },
     "metadata": {
      "needs_background": "light"
     },
     "output_type": "display_data"
    },
    {
     "data": {
      "text/plain": [
       "<AxesSubplot:xlabel='var_smoothing', ylabel='auroc'>"
      ]
     },
     "execution_count": 29,
     "metadata": {},
     "output_type": "execute_result"
    },
    {
     "name": "stderr",
     "output_type": "stream",
     "text": [
      "WARNING:matplotlib.legend:No handles with labels found to put in legend.\n"
     ]
    },
    {
     "data": {
      "text/plain": [
       "<matplotlib.legend.Legend at 0x1a6ca3b8e50>"
      ]
     },
     "execution_count": 29,
     "metadata": {},
     "output_type": "execute_result"
    },
    {
     "data": {
      "image/png": "[encoded data removed]",
      "text/plain": [
       "<Figure size 432x288 with 1 Axes>"
      ]
     },
     "metadata": {
      "needs_background": "light"
     },
     "output_type": "display_data"
    },
    {
     "data": {
      "text/plain": [
       "<AxesSubplot:xlabel='var_smoothing', ylabel='log_loss'>"
      ]
     },
     "execution_count": 29,
     "metadata": {},
     "output_type": "execute_result"
    },
    {
     "name": "stderr",
     "output_type": "stream",
     "text": [
      "WARNING:matplotlib.legend:No handles with labels found to put in legend.\n"
     ]
    },
    {
     "data": {
      "text/plain": [
       "<matplotlib.legend.Legend at 0x1a6ca4712b0>"
      ]
     },
     "execution_count": 29,
     "metadata": {},
     "output_type": "execute_result"
    },
    {
     "data": {
      "image/png": "[encoded data removed]",
      "text/plain": [
       "<Figure size 432x288 with 1 Axes>"
      ]
     },
     "metadata": {
      "needs_background": "light"
     },
     "output_type": "display_data"
    },
    {
     "data": {
      "text/plain": [
       "<AxesSubplot:xlabel='var_smoothing', ylabel='oob_score'>"
      ]
     },
     "execution_count": 29,
     "metadata": {},
     "output_type": "execute_result"
    },
    {
     "name": "stderr",
     "output_type": "stream",
     "text": [
      "WARNING:matplotlib.legend:No handles with labels found to put in legend.\n"
     ]
    },
    {
     "data": {
      "text/plain": [
       "<matplotlib.legend.Legend at 0x1a6ca47b280>"
      ]
     },
     "execution_count": 29,
     "metadata": {},
     "output_type": "execute_result"
    },
    {
     "data": {
      "image/png": "[encoded data removed]",
      "text/plain": [
       "<Figure size 432x288 with 1 Axes>"
      ]
     },
     "metadata": {
      "needs_background": "light"
     },
     "output_type": "display_data"
    },
    {
     "name": "stdout",
     "output_type": "stream",
     "text": [
      "time: 844 ms\n"
     ]
    }
   ],
   "source": [
    "good_df = df.loc[df.var_smoothing < 1.25]\n",
    "good_df = good_df.loc[\n",
    "    good_df.auroc < 0.826516\n",
    "]  # the top auroc models are probably overfit\n",
    "# get the spots between the two observed training optima\n",
    "\n",
    "# plot\n",
    "good_df.sort_values(by=\"var_smoothing\").plot(x=\"var_smoothing\")\n",
    "plt.legend(frameon=False)\n",
    "sns.despine(top=True, right=True)\n",
    "plt.tight_layout()\n",
    "plt.show()\n",
    "for metric in (\"auroc\", \"log_loss\", \"oob_score\"):\n",
    "    # plot\n",
    "    good_df.sort_values(by=\"var_smoothing\").plot(\n",
    "        x=\"var_smoothing\", y=metric, kind=\"scatter\"\n",
    "    )\n",
    "    plt.legend(frameon=False)\n",
    "    sns.despine(top=True, right=True)\n",
    "    plt.tight_layout()\n",
    "    plt.show()"
   ]
  },
  {
   "cell_type": "code",
   "execution_count": 31,
   "metadata": {},
   "outputs": [
    {
     "data": {
      "text/plain": [
       "<AxesSubplot:xlabel='var_smoothing'>"
      ]
     },
     "execution_count": 31,
     "metadata": {},
     "output_type": "execute_result"
    },
    {
     "data": {
      "text/plain": [
       "<matplotlib.legend.Legend at 0x1a6ca492640>"
      ]
     },
     "execution_count": 31,
     "metadata": {},
     "output_type": "execute_result"
    },
    {
     "data": {
      "image/png": "[encoded data removed]",
      "text/plain": [
       "<Figure size 432x288 with 1 Axes>"
      ]
     },
     "metadata": {
      "needs_background": "light"
     },
     "output_type": "display_data"
    },
    {
     "data": {
      "text/plain": [
       "<AxesSubplot:xlabel='var_smoothing', ylabel='auroc'>"
      ]
     },
     "execution_count": 31,
     "metadata": {},
     "output_type": "execute_result"
    },
    {
     "name": "stderr",
     "output_type": "stream",
     "text": [
      "WARNING:matplotlib.legend:No handles with labels found to put in legend.\n"
     ]
    },
    {
     "data": {
      "text/plain": [
       "<matplotlib.legend.Legend at 0x1a6ca434cd0>"
      ]
     },
     "execution_count": 31,
     "metadata": {},
     "output_type": "execute_result"
    },
    {
     "data": {
      "image/png": "[encoded data removed]",
      "text/plain": [
       "<Figure size 432x288 with 1 Axes>"
      ]
     },
     "metadata": {
      "needs_background": "light"
     },
     "output_type": "display_data"
    },
    {
     "data": {
      "text/plain": [
       "<AxesSubplot:xlabel='var_smoothing', ylabel='log_loss'>"
      ]
     },
     "execution_count": 31,
     "metadata": {},
     "output_type": "execute_result"
    },
    {
     "name": "stderr",
     "output_type": "stream",
     "text": [
      "WARNING:matplotlib.legend:No handles with labels found to put in legend.\n"
     ]
    },
    {
     "data": {
      "text/plain": [
       "<matplotlib.legend.Legend at 0x1a6ca42c6d0>"
      ]
     },
     "execution_count": 31,
     "metadata": {},
     "output_type": "execute_result"
    },
    {
     "data": {
      "image/png": "[encoded data removed]",
      "text/plain": [
       "<Figure size 432x288 with 1 Axes>"
      ]
     },
     "metadata": {
      "needs_background": "light"
     },
     "output_type": "display_data"
    },
    {
     "data": {
      "text/plain": [
       "<AxesSubplot:xlabel='var_smoothing', ylabel='oob_score'>"
      ]
     },
     "execution_count": 31,
     "metadata": {},
     "output_type": "execute_result"
    },
    {
     "name": "stderr",
     "output_type": "stream",
     "text": [
      "WARNING:matplotlib.legend:No handles with labels found to put in legend.\n"
     ]
    },
    {
     "data": {
      "text/plain": [
       "<matplotlib.legend.Legend at 0x1a6ca44c490>"
      ]
     },
     "execution_count": 31,
     "metadata": {},
     "output_type": "execute_result"
    },
    {
     "data": {
      "image/png": "[encoded data removed]",
      "text/plain": [
       "<Figure size 432x288 with 1 Axes>"
      ]
     },
     "metadata": {
      "needs_background": "light"
     },
     "output_type": "display_data"
    },
    {
     "name": "stdout",
     "output_type": "stream",
     "text": [
      "time: 1.04 s\n"
     ]
    }
   ],
   "source": [
    "good_df = df.loc[df.var_smoothing < 0.4]\n",
    "good_df = good_df.loc[good_df.var_smoothing > 0.1]\n",
    "good_df = good_df.loc[good_df.auroc < 0.826516]\n",
    "\n",
    "# plot\n",
    "good_df.sort_values(by=\"var_smoothing\").plot(x=\"var_smoothing\")\n",
    "plt.legend(frameon=False)\n",
    "sns.despine(top=True, right=True)\n",
    "plt.tight_layout()\n",
    "plt.show()\n",
    "for metric in (\"auroc\", \"log_loss\", \"oob_score\"):\n",
    "    # plot\n",
    "    good_df.sort_values(by=\"var_smoothing\").plot(\n",
    "        x=\"var_smoothing\", y=metric, kind=\"scatter\"\n",
    "    )\n",
    "    plt.legend(frameon=False)\n",
    "    sns.despine(top=True, right=True)\n",
    "    plt.tight_layout()\n",
    "    plt.show()"
   ]
  },
  {
   "cell_type": "code",
   "execution_count": 34,
   "metadata": {},
   "outputs": [
    {
     "data": {
      "text/html": [
       "<div>\n",
       "<style scoped>\n",
       "    .dataframe tbody tr th:only-of-type {\n",
       "        vertical-align: middle;\n",
       "    }\n",
       "\n",
       "    .dataframe tbody tr th {\n",
       "        vertical-align: top;\n",
       "    }\n",
       "\n",
       "    .dataframe thead th {\n",
       "        text-align: right;\n",
       "    }\n",
       "</style>\n",
       "<table border=\"1\" class=\"dataframe\">\n",
       "  <thead>\n",
       "    <tr style=\"text-align: right;\">\n",
       "      <th></th>\n",
       "      <th>var_smoothing</th>\n",
       "      <th>oob_score</th>\n",
       "      <th>log_loss</th>\n",
       "      <th>auroc</th>\n",
       "      <th>diff</th>\n",
       "    </tr>\n",
       "  </thead>\n",
       "  <tbody>\n",
       "    <tr>\n",
       "      <th>158</th>\n",
       "      <td>0.230755</td>\n",
       "      <td>0.676709</td>\n",
       "      <td>0.752094</td>\n",
       "      <td>0.823095</td>\n",
       "      <td>0.075385</td>\n",
       "    </tr>\n",
       "  </tbody>\n",
       "</table>\n",
       "</div>"
      ],
      "text/plain": [
       "     var_smoothing  oob_score  log_loss     auroc      diff\n",
       "158       0.230755   0.676709  0.752094  0.823095  0.075385"
      ]
     },
     "execution_count": 34,
     "metadata": {},
     "output_type": "execute_result"
    },
    {
     "data": {
      "text/html": [
       "<div>\n",
       "<style scoped>\n",
       "    .dataframe tbody tr th:only-of-type {\n",
       "        vertical-align: middle;\n",
       "    }\n",
       "\n",
       "    .dataframe tbody tr th {\n",
       "        vertical-align: top;\n",
       "    }\n",
       "\n",
       "    .dataframe thead th {\n",
       "        text-align: right;\n",
       "    }\n",
       "</style>\n",
       "<table border=\"1\" class=\"dataframe\">\n",
       "  <thead>\n",
       "    <tr style=\"text-align: right;\">\n",
       "      <th></th>\n",
       "      <th>var_smoothing</th>\n",
       "      <th>oob_score</th>\n",
       "      <th>log_loss</th>\n",
       "      <th>auroc</th>\n",
       "      <th>diff</th>\n",
       "    </tr>\n",
       "  </thead>\n",
       "  <tbody>\n",
       "    <tr>\n",
       "      <th>221</th>\n",
       "      <td>0.15111</td>\n",
       "      <td>0.677129</td>\n",
       "      <td>0.75476</td>\n",
       "      <td>0.822284</td>\n",
       "      <td>0.077631</td>\n",
       "    </tr>\n",
       "  </tbody>\n",
       "</table>\n",
       "</div>"
      ],
      "text/plain": [
       "     var_smoothing  oob_score  log_loss     auroc      diff\n",
       "221        0.15111   0.677129   0.75476  0.822284  0.077631"
      ]
     },
     "execution_count": 34,
     "metadata": {},
     "output_type": "execute_result"
    },
    {
     "data": {
      "text/html": [
       "<div>\n",
       "<style scoped>\n",
       "    .dataframe tbody tr th:only-of-type {\n",
       "        vertical-align: middle;\n",
       "    }\n",
       "\n",
       "    .dataframe tbody tr th {\n",
       "        vertical-align: top;\n",
       "    }\n",
       "\n",
       "    .dataframe thead th {\n",
       "        text-align: right;\n",
       "    }\n",
       "</style>\n",
       "<table border=\"1\" class=\"dataframe\">\n",
       "  <thead>\n",
       "    <tr style=\"text-align: right;\">\n",
       "      <th></th>\n",
       "      <th>var_smoothing</th>\n",
       "      <th>oob_score</th>\n",
       "      <th>log_loss</th>\n",
       "      <th>auroc</th>\n",
       "      <th>diff</th>\n",
       "    </tr>\n",
       "  </thead>\n",
       "  <tbody>\n",
       "    <tr>\n",
       "      <th>157</th>\n",
       "      <td>0.230089</td>\n",
       "      <td>0.67672</td>\n",
       "      <td>0.752094</td>\n",
       "      <td>0.823089</td>\n",
       "      <td>0.075374</td>\n",
       "    </tr>\n",
       "  </tbody>\n",
       "</table>\n",
       "</div>"
      ],
      "text/plain": [
       "     var_smoothing  oob_score  log_loss     auroc      diff\n",
       "157       0.230089    0.67672  0.752094  0.823089  0.075374"
      ]
     },
     "execution_count": 34,
     "metadata": {},
     "output_type": "execute_result"
    },
    {
     "name": "stdout",
     "output_type": "stream",
     "text": [
      "time: 27 ms\n"
     ]
    }
   ],
   "source": [
    "# better bests\n",
    "good_df.loc[good_df.log_loss == good_df.log_loss.min()]\n",
    "good_df.loc[good_df.oob_score == good_df.oob_score.max()]\n",
    "good_df.loc[good_df[\"diff\"] == good_df[\"diff\"].min()]"
   ]
  },
  {
   "cell_type": "code",
   "execution_count": 35,
   "metadata": {},
   "outputs": [
    {
     "name": "stdout",
     "output_type": "stream",
     "text": [
      "time: 122 ms\n"
     ]
    }
   ],
   "source": [
    "final_gnb = BaggingClassifier(\n",
    "    base_estimator=GaussianNB(var_smoothing=0.23),\n",
    "    n_estimators=50,\n",
    "    oob_score=True,\n",
    "    n_jobs=-1,\n",
    "    random_state=SEED,\n",
    "    verbose=1,\n",
    ")\n",
    "_ = gc_collect()"
   ]
  },
  {
   "cell_type": "code",
   "execution_count": 36,
   "metadata": {},
   "outputs": [
    {
     "name": "stderr",
     "output_type": "stream",
     "text": [
      "[Parallel(n_jobs=8)]: Using backend LokyBackend with 8 concurrent workers.\n",
      "[Parallel(n_jobs=8)]: Done   2 out of   8 | elapsed:    2.6s remaining:    8.1s\n",
      "[Parallel(n_jobs=8)]: Done   8 out of   8 | elapsed:    2.8s finished\n"
     ]
    },
    {
     "data": {
      "text/plain": [
       "BaggingClassifier(base_estimator=GaussianNB(var_smoothing=0.23),\n",
       "                  n_estimators=50, n_jobs=-1, oob_score=True, random_state=2022,\n",
       "                  verbose=1)"
      ]
     },
     "execution_count": 36,
     "metadata": {},
     "output_type": "execute_result"
    },
    {
     "name": "stdout",
     "output_type": "stream",
     "text": [
      "time: 3.69 s\n"
     ]
    }
   ],
   "source": [
    "final_gnb.fit(data.loc[:, gnb_features], labels.valence)"
   ]
  },
  {
   "cell_type": "code",
   "execution_count": 37,
   "metadata": {},
   "outputs": [
    {
     "data": {
      "text/plain": [
       "0.6767086540704456"
      ]
     },
     "execution_count": 37,
     "metadata": {},
     "output_type": "execute_result"
    },
    {
     "name": "stderr",
     "output_type": "stream",
     "text": [
      "[Parallel(n_jobs=8)]: Using backend LokyBackend with 8 concurrent workers.\n",
      "[Parallel(n_jobs=8)]: Done   2 out of   8 | elapsed:    0.2s remaining:    0.7s\n",
      "[Parallel(n_jobs=8)]: Done   8 out of   8 | elapsed:    0.2s finished\n"
     ]
    },
    {
     "data": {
      "text/plain": [
       "0.7520944551913444"
      ]
     },
     "execution_count": 37,
     "metadata": {},
     "output_type": "execute_result"
    },
    {
     "name": "stderr",
     "output_type": "stream",
     "text": [
      "[Parallel(n_jobs=8)]: Using backend LokyBackend with 8 concurrent workers.\n",
      "[Parallel(n_jobs=8)]: Done   2 out of   8 | elapsed:    0.2s remaining:    0.9s\n",
      "[Parallel(n_jobs=8)]: Done   8 out of   8 | elapsed:    0.3s finished\n"
     ]
    },
    {
     "data": {
      "text/plain": [
       "0.8230878606283608"
      ]
     },
     "execution_count": 37,
     "metadata": {},
     "output_type": "execute_result"
    },
    {
     "name": "stdout",
     "output_type": "stream",
     "text": [
      "time: 1.18 s\n"
     ]
    }
   ],
   "source": [
    "final_gnb.oob_score_\n",
    "log_loss(y_true, final_gnb.predict_proba(data.loc[:, gnb_features]))\n",
    "roc_auc_score(\n",
    "    y_true, final_gnb.predict_proba(data.loc[:, gnb_features]), multi_class=\"ovo\"\n",
    ")"
   ]
  },
  {
   "cell_type": "markdown",
   "metadata": {},
   "source": [
    "# Discussion"
   ]
  },
  {
   "cell_type": "markdown",
   "metadata": {},
   "source": [
    "There looks to be a sweet spot in training loss. We chose a balance between training log loss and OOB accuracy."
   ]
  },
  {
   "cell_type": "markdown",
   "metadata": {},
   "source": [
    "There are so many more possibilities for feature engineering. Upstream augmentation of the raw audio would probably be helpful as would resampling.\n",
    "\n",
    "It's important to be disciplined now and focus on deployment. Although there are numerous points of interest where tweaking is likely to yield better results, we are only deviating slightly from the feature engineering pathway we already established."
   ]
  },
  {
   "cell_type": "code",
   "execution_count": 38,
   "metadata": {},
   "outputs": [
    {
     "name": "stdout",
     "output_type": "stream",
     "text": [
      "Time elapsed since notebook_begin_time: 2491.867394208908 s\n",
      "time: 123 ms\n"
     ]
    }
   ],
   "source": [
    "print(f\"Time elapsed since notebook_begin_time: {time() - notebook_begin_time} s\")\n",
    "_ = gc_collect()"
   ]
  },
  {
   "cell_type": "markdown",
   "metadata": {},
   "source": [
    "[^top](#Contents)"
   ]
  },
  {
   "cell_type": "code",
   "execution_count": null,
   "metadata": {},
   "outputs": [],
   "source": []
  }
 ],
 "metadata": {
  "interpreter": {
   "hash": "e1781be99c106060f3abc0c9b91d3d379f24672894e2158d4b74304109955878"
  },
  "kernelspec": {
   "display_name": "Python [conda env:capstone_pyspark_38] *",
   "language": "python",
   "name": "python3"
  },
  "language_info": {
   "codemirror_mode": {
    "name": "ipython",
    "version": 3
   },
   "file_extension": ".py",
   "mimetype": "text/x-python",
   "name": "python",
   "nbconvert_exporter": "python",
   "pygments_lexer": "ipython3",
   "version": "3.8.12"
  }
 },
 "nbformat": 4,
 "nbformat_minor": 4
}
