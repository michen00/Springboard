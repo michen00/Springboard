{
 "cells": [
  {
   "cell_type": "markdown",
   "metadata": {},
   "source": [
    "# Contents\n",
    "* [Introduction](#Introduction)\n",
    "* [Imports and configuration](#Imports-and-configuration)\n",
    "* [Setup](#Setup)\n",
    "* [C](#C)\n",
    "* [Discussion](#Discussion)"
   ]
  },
  {
   "cell_type": "markdown",
   "metadata": {},
   "source": [
    "# Introduction\n",
    "\n",
    "tune a logreg"
   ]
  },
  {
   "cell_type": "code",
   "execution_count": 1,
   "metadata": {},
   "outputs": [],
   "source": [
    "from time import time\n",
    "\n",
    "notebook_begin_time = time()\n",
    "\n",
    "# set random seeds\n",
    "\n",
    "from os import environ\n",
    "from random import seed as random_seed\n",
    "from numpy.random import seed as np_seed\n",
    "from tensorflow.random import set_seed\n",
    "\n",
    "\n",
    "def reset_seeds(seed: int) -> None:\n",
    "    \"\"\"Utility function for resetting random seeds\"\"\"\n",
    "    environ[\"PYTHONHASHSEED\"] = str(seed)\n",
    "    random_seed(seed)\n",
    "    np_seed(seed)\n",
    "    set_seed(seed)\n",
    "\n",
    "\n",
    "reset_seeds(SEED := 2022)\n",
    "del environ\n",
    "del random_seed\n",
    "del np_seed\n",
    "del set_seed\n",
    "del reset_seeds"
   ]
  },
  {
   "cell_type": "code",
   "execution_count": 2,
   "metadata": {},
   "outputs": [],
   "source": [
    "# extensions\n",
    "%load_ext autotime\n",
    "%load_ext lab_black\n",
    "%load_ext nb_black"
   ]
  },
  {
   "cell_type": "code",
   "execution_count": 3,
   "metadata": {},
   "outputs": [
    {
     "name": "stderr",
     "output_type": "stream",
     "text": [
      "Intel(R) Extension for Scikit-learn* enabled (https://github.com/intel/scikit-learn-intelex)\n"
     ]
    },
    {
     "name": "stdout",
     "output_type": "stream",
     "text": [
      "time: 3.06 s\n"
     ]
    }
   ],
   "source": [
    "# core\n",
    "import numpy as np\n",
    "import pandas as pd\n",
    "from scipy.stats import loguniform\n",
    "\n",
    "# utility\n",
    "from copy import deepcopy\n",
    "from gc import collect as gc_collect\n",
    "\n",
    "# faster sklearn\n",
    "from sklearnex import patch_sklearn\n",
    "\n",
    "patch_sklearn()\n",
    "del patch_sklearn\n",
    "\n",
    "import swifter\n",
    "\n",
    "# typing\n",
    "from typing import Dict, List, Sequence\n",
    "\n",
    "# other sklearn\n",
    "from sklearn.linear_model import LogisticRegression\n",
    "from sklearn.model_selection import RandomizedSearchCV, StratifiedGroupKFold\n",
    "\n",
    "# params\n",
    "from scipy.stats import loguniform, uniform\n",
    "\n",
    "# visualization\n",
    "import matplotlib.pyplot as plt\n",
    "import seaborn as sns\n",
    "\n",
    "%matplotlib widget\n",
    "\n",
    "sns.set_context(\"notebook\")\n",
    "\n",
    "# full display of rows and columns\n",
    "pd.set_option(\"display.max_columns\", None)\n",
    "pd.set_option(\"display.max_colwidth\", None)\n",
    "pd.set_option(\"display.max_rows\", None)\n",
    "\n",
    "# display outputs w/o print calls\n",
    "from IPython.core.interactiveshell import InteractiveShell\n",
    "\n",
    "InteractiveShell.ast_node_interactivity = \"all\"\n",
    "del InteractiveShell"
   ]
  },
  {
   "cell_type": "code",
   "execution_count": 4,
   "metadata": {},
   "outputs": [
    {
     "name": "stdout",
     "output_type": "stream",
     "text": [
      "time: 113 ms\n"
     ]
    }
   ],
   "source": [
    "# Location of pre-final labels and features\n",
    "FEATURES_FOLDER = \".\"\n",
    "\n",
    "# Location where this notebook will output\n",
    "DATA_OUT_FOLDER = \".\"\n",
    "\n",
    "_ = gc_collect()"
   ]
  },
  {
   "cell_type": "markdown",
   "metadata": {},
   "source": [
    "# Setup"
   ]
  },
  {
   "cell_type": "code",
   "execution_count": 5,
   "metadata": {},
   "outputs": [
    {
     "name": "stdout",
     "output_type": "stream",
     "text": [
      "time: 232 ms\n"
     ]
    }
   ],
   "source": [
    "def load_labels() -> pd.DataFrame:\n",
    "    \"\"\"Load just the labels\"\"\"\n",
    "    return pd.read_feather(f\"{FEATURES_FOLDER}/simplified_labels.feather\").set_index(\n",
    "        \"id\"\n",
    "    )\n",
    "\n",
    "\n",
    "def load_data() -> pd.DataFrame:\n",
    "    \"\"\"Loads the FRILL-based features\"\"\"\n",
    "    df = pd.read_feather(\n",
    "        f\"{FEATURES_FOLDER}/scaled_features_ready_for_selection.feather\"\n",
    "    ).set_index(\"id\")\n",
    "    df.columns = df.columns.astype(str)\n",
    "    return df\n",
    "\n",
    "\n",
    "data = load_data()\n",
    "labels = load_labels()\n",
    "GNB_FEATURES = [\"spherical-LDA1\", \"spherical-LDA2\"]\n",
    "data = data.loc[:, GNB_FEATURES]\n",
    "assert all(data.index == labels.index)\n",
    "assert len(data) < 86000\n",
    "y_true = labels.valence\n",
    "_ = gc_collect()"
   ]
  },
  {
   "cell_type": "code",
   "execution_count": 6,
   "metadata": {},
   "outputs": [
    {
     "name": "stdout",
     "output_type": "stream",
     "text": [
      "<class 'pandas.core.frame.DataFrame'>\n",
      "UInt64Index: 85740 entries, 0 to 87363\n",
      "Data columns (total 2 columns):\n",
      " #   Column          Non-Null Count  Dtype  \n",
      "---  ------          --------------  -----  \n",
      " 0   spherical-LDA1  85740 non-null  float64\n",
      " 1   spherical-LDA2  85740 non-null  float64\n",
      "dtypes: float64(2)\n",
      "memory usage: 2.0 MB\n",
      "<class 'pandas.core.frame.DataFrame'>\n",
      "UInt64Index: 85740 entries, 0 to 87363\n",
      "Data columns (total 11 columns):\n",
      " #   Column          Non-Null Count  Dtype   \n",
      "---  ------          --------------  -----   \n",
      " 0   file            85740 non-null  object  \n",
      " 1   source          85740 non-null  category\n",
      " 2   speaker_id      85740 non-null  category\n",
      " 3   speaker_gender  85740 non-null  category\n",
      " 4   emo             85740 non-null  category\n",
      " 5   valence         85740 non-null  int8    \n",
      " 6   neg             85740 non-null  bool    \n",
      " 7   neu             85740 non-null  bool    \n",
      " 8   pos             85740 non-null  bool    \n",
      " 9   lang1           85740 non-null  category\n",
      " 10  length          85740 non-null  category\n",
      "dtypes: bool(3), category(6), int8(1), object(1)\n",
      "memory usage: 2.3+ MB\n",
      "time: 28 ms\n"
     ]
    }
   ],
   "source": [
    "data.info()\n",
    "labels.info()"
   ]
  },
  {
   "cell_type": "markdown",
   "metadata": {},
   "source": [
    "# Strata"
   ]
  },
  {
   "cell_type": "code",
   "execution_count": 7,
   "metadata": {},
   "outputs": [
    {
     "name": "stderr",
     "output_type": "stream",
     "text": [
      "Dask Apply: 100%|██████████| 16/16 [00:02<00:00,  6.33it/s]\n"
     ]
    },
    {
     "name": "stdout",
     "output_type": "stream",
     "text": [
      "time: 5.39 s\n"
     ]
    }
   ],
   "source": [
    "N_SPLITS = 8\n",
    "\n",
    "# fields are concatentated for quick permutation omitting non-existent combos\n",
    "strata = labels.loc[\n",
    "    :, [\"source\", \"speaker_gender\", \"emo\", \"valence\", \"lang1\", \"length\"]\n",
    "]\n",
    "strata.valence = strata.valence.astype(str)\n",
    "strata = strata.swifter.apply(\"\".join, axis=1)"
   ]
  },
  {
   "cell_type": "code",
   "execution_count": 8,
   "metadata": {},
   "outputs": [
    {
     "name": "stdout",
     "output_type": "stream",
     "text": [
      "time: 116 ms\n"
     ]
    }
   ],
   "source": [
    "# utility function for identifying strata with only i occurences\n",
    "def get_solo(i: int, strata_: pd.Series) -> np.ndarray:\n",
    "    \"\"\"Given a series of stratum memberships, return a shuffled array of strata with only i members.\"\"\"\n",
    "    return np.unique(\n",
    "        strata_.loc[\n",
    "            strata_.isin(\n",
    "                (strata_counts := strata_.value_counts())\n",
    "                .where(strata_counts == i)\n",
    "                .dropna()\n",
    "                .index\n",
    "            )\n",
    "        ]\n",
    "        .sample(frac=1, random_state=SEED)\n",
    "        .values\n",
    "    )\n",
    "\n",
    "\n",
    "# get solos, print stuff\n",
    "def get_onlys(\n",
    "    strata_: pd.Series, print_me: str = \"\", n_splits: int = N_SPLITS\n",
    ") -> List[Dict[int, np.ndarray]]:\n",
    "    \"\"\"Optinally prints something and returns calls of get_solo on strata_ in a list\"\"\"\n",
    "    print(print_me)\n",
    "    solos = []\n",
    "    for i in range(1, n_splits):\n",
    "        solo: np.ndarray = get_solo(i, strata_)\n",
    "        print(f\"only {i}:\", (_ := solo.size))\n",
    "        if _:  # >= 1 strata with only i samples\n",
    "            solos.append({i: solo})\n",
    "    return solos\n",
    "\n",
    "\n",
    "def process_strata(strata: pd.Series, n_splits: int = N_SPLITS) -> pd.Series:\n",
    "    \"\"\"Corrects strata membership column according to n_splits\"\"\"\n",
    "\n",
    "    count = get_onlys_calls = 0\n",
    "\n",
    "    while onlys := get_onlys(\n",
    "        strata,\n",
    "        print_me=f\"merge passes performed: {get_onlys_calls}\",\n",
    "        n_splits=n_splits,\n",
    "    ):\n",
    "        get_onlys_calls += 1\n",
    "        if len(onlys) == 1:\n",
    "            last = onlys[0]\n",
    "            strata_to_merge: np.ndarray = list(last.values())[0]\n",
    "            only_key = list(last.keys())[0]\n",
    "            tuplet_size = n_splits // only_key + (1 if n_splits % only_key else 0)\n",
    "            # perform tuplet merge\n",
    "            interval = len(strata_to_merge) // n_splits\n",
    "            for strata_tuplet in zip(\n",
    "                *[\n",
    "                    strata_to_merge[interval * i : interval * (i + 1)]\n",
    "                    for i in range(tuplet_size)\n",
    "                ]\n",
    "            ):\n",
    "                strata = strata.replace(strata_tuplet, f\"stratum_group_{count}\")\n",
    "                count += 1\n",
    "            remainder = strata_to_merge[tuplet_size * interval :]\n",
    "            if len(remainder) == 1:\n",
    "                # process remainder unmatched\n",
    "                n = n_splits\n",
    "                strata_counts = strata.value_counts()\n",
    "                while not (candidates := strata_counts.loc[strata_counts == n]).size:\n",
    "                    n += 1\n",
    "                strata = strata.replace(\n",
    "                    [remainder[0], candidates.sample(n=1, random_state=SEED).index[0]],\n",
    "                    f\"stratum_group_{count}\",\n",
    "                )\n",
    "                count += 1\n",
    "            else:\n",
    "                # self-pair last\n",
    "                remainder = remainder.tolist()\n",
    "                while len(remainder) >= 2:\n",
    "                    strata = strata.replace(\n",
    "                        (remainder.pop(), remainder.pop()), f\"stratum_group_{count}\"\n",
    "                    )\n",
    "                    count += 1\n",
    "        else:\n",
    "            pop_onlys = lambda _: list(onlys.pop(_).values())[0].tolist()\n",
    "            while len(onlys) >= 2:\n",
    "                # pop the ends\n",
    "                shortside = pop_onlys(0)\n",
    "                longside = pop_onlys(-1)\n",
    "                # merge until one end empty\n",
    "                while shortside and longside:\n",
    "                    strata = strata.replace(\n",
    "                        (shortside.pop(), longside.pop()), f\"stratum_group_{count}\"\n",
    "                    )\n",
    "                    count += 1\n",
    "            if onlys:\n",
    "                # self-pair middle\n",
    "                remainder = pop_onlys(0)\n",
    "                while len(remainder) >= 2:\n",
    "                    strata = strata.replace(\n",
    "                        (remainder.pop(), remainder.pop()), f\"stratum_group_{count}\"\n",
    "                    )\n",
    "                    count += 1\n",
    "    return strata\n",
    "\n",
    "\n",
    "_ = gc_collect()"
   ]
  },
  {
   "cell_type": "code",
   "execution_count": 9,
   "metadata": {},
   "outputs": [
    {
     "name": "stdout",
     "output_type": "stream",
     "text": [
      "merge passes performed: 0\n",
      "only 1: 52\n",
      "only 2: 37\n",
      "only 3: 31\n",
      "only 4: 17\n",
      "only 5: 27\n",
      "only 6: 13\n",
      "only 7: 9\n",
      "merge passes performed: 1\n",
      "only 1: 43\n",
      "only 2: 24\n",
      "only 3: 4\n",
      "only 4: 1\n",
      "only 5: 0\n",
      "only 6: 0\n",
      "only 7: 0\n",
      "merge passes performed: 2\n",
      "only 1: 42\n",
      "only 2: 20\n",
      "only 3: 0\n",
      "only 4: 0\n",
      "only 5: 5\n",
      "only 6: 0\n",
      "only 7: 0\n",
      "merge passes performed: 3\n",
      "only 1: 37\n",
      "only 2: 0\n",
      "only 3: 0\n",
      "only 4: 10\n",
      "only 5: 0\n",
      "only 6: 5\n",
      "only 7: 0\n",
      "merge passes performed: 4\n",
      "only 1: 32\n",
      "only 2: 0\n",
      "only 3: 0\n",
      "only 4: 0\n",
      "only 5: 0\n",
      "only 6: 0\n",
      "only 7: 5\n",
      "merge passes performed: 5\n",
      "only 1: 27\n",
      "only 2: 0\n",
      "only 3: 0\n",
      "only 4: 0\n",
      "only 5: 0\n",
      "only 6: 0\n",
      "only 7: 0\n",
      "merge passes performed: 6\n",
      "only 1: 1\n",
      "only 2: 1\n",
      "only 3: 0\n",
      "only 4: 0\n",
      "only 5: 0\n",
      "only 6: 0\n",
      "only 7: 0\n",
      "merge passes performed: 7\n",
      "only 1: 0\n",
      "only 2: 0\n",
      "only 3: 1\n",
      "only 4: 0\n",
      "only 5: 0\n",
      "only 6: 0\n",
      "only 7: 0\n",
      "merge passes performed: 8\n",
      "only 1: 0\n",
      "only 2: 0\n",
      "only 3: 0\n",
      "only 4: 0\n",
      "only 5: 0\n",
      "only 6: 0\n",
      "only 7: 0\n"
     ]
    },
    {
     "data": {
      "text/plain": [
       "MELDmneu1engmedium               2905\n",
       "MELDfneu1engmedium               2452\n",
       "esdmang0cmnmedium                1750\n",
       "esdmneu1cmnmedium                1750\n",
       "esdmhap2cmnmedium                1750\n",
       "esdfneu1engmedium                1750\n",
       "esdfhap2engmedium                1750\n",
       "esdfsur0engmedium                1750\n",
       "esdmsur0engmedium                1749\n",
       "esdfneu1cmnmedium                1749\n",
       "esdfhap2cmnmedium                1749\n",
       "esdmsur0cmnmedium                1749\n",
       "esdfang0engmedium                1748\n",
       "esdmneu1engmedium                1747\n",
       "esdfang0cmnmedium                1747\n",
       "esdmang0engmedium                1746\n",
       "esdmhap2engmedium                1744\n",
       "esdfsad0engmedium                1744\n",
       "esdfsur0cmnmedium                1737\n",
       "esdmsad0engmedium                1735\n",
       "esdmsad0cmnmedium                1713\n",
       "LEGOv2fneu1engmedium             1673\n",
       "esdfsad0cmnmedium                1474\n",
       "LEGOv2mneu1engmedium             1309\n",
       "MELDfhap2engmedium                931\n",
       "MELDmhap2engmedium                908\n",
       "EmoV-DB_sortedmneu1engmedium      782\n",
       "EmoV-DB_sortedfang0engmedium      722\n",
       "EmoV-DB_sortedfneu1engmedium      671\n",
       "CREMA-Dmdis0engmedium             660\n",
       "MELDfang0engmedium                655\n",
       "CREMA-Dmhap2engmedium             649\n",
       "MELDmang0engmedium                643\n",
       "CREMA-Dmang0engmedium             641\n",
       "CREMA-Dfhap2engmedium             596\n",
       "CREMA-Dfdis0engmedium             593\n",
       "CREMA-Dfang0engmedium             586\n",
       "CREMA-Dffea0engmedium             583\n",
       "CREMA-Dmfea0engmedium             582\n",
       "CREMA-Dmneu1engmedium             575\n",
       "ShEMOmneu1pesmedium               546\n",
       "CREMA-Dfneu1engmedium             512\n",
       "LEGOv2fang0engmedium              509\n",
       "ShEMOmang0pesmedium               499\n",
       "CREMA-Dfsad0engmedium             484\n",
       "EmoV-DB_sortedmang0engmedium      447\n",
       "MELDmneu1englong                  427\n",
       "MELDfsad0engmedium                417\n",
       "CREMA-Dmsad0engmedium             411\n",
       "EmoV-DB_sortedfamu2engmedium      410\n",
       "tessfang0engmedium                400\n",
       "tessfsad0engmedium                400\n",
       "tessfsur2engmedium                400\n",
       "tessfneu1engmedium                400\n",
       "tessfhap2engmedium                400\n",
       "tessffea0engmedium                400\n",
       "tessfdis0engmedium                400\n",
       "EmoV-DB_sortedmamu2englong        399\n",
       "EmoV-DB_sortedmamu2engmedium      396\n",
       "MELDmsur0engmedium                383\n",
       "ShEMOfang0pesmedium               378\n",
       "MELDfsur0engmedium                369\n",
       "EmoV-DB_sortedmdis0englong        368\n",
       "MELDfsur2engmedium                365\n",
       "MELDfneu1englong                  355\n",
       "MELDmsad0engmedium                346\n",
       "LEGOv2mang0engmedium              346\n",
       "EmoV-DB_sortedfdis0engmedium      302\n",
       "MELDmsur2engmedium                287\n",
       "esdfsad0cmnlong                   276\n",
       "ekorpusfang0estmedium             244\n",
       "MESSfhap2engmedium                225\n",
       "MESSfsad0engmedium                225\n",
       "MESSmsad0engmedium                225\n",
       "MESSmhap2engmedium                225\n",
       "MESSfang0engmedium                225\n",
       "MESSmang0engmedium                225\n",
       "EmoV-DB_sortedfdis0englong        220\n",
       "ekorpusfhap2estmedium             210\n",
       "ShEMOfsad0pesmedium               203\n",
       "EmoReact_V_1.0funk2engmedium      202\n",
       "LEGOv2uneu1engmedium              199\n",
       "vivaefple2___medium               196\n",
       "MESSfcal2engmedium                192\n",
       "ekorpusfsad0estmedium             183\n",
       "ShEMOfneu1pesmedium               178\n",
       "MELDmhap2englong                  170\n",
       "enterface_dbmsur0engmedium        170\n",
       "enterface_dbmang0engmedium        169\n",
       "MELDmfea0engmedium                167\n",
       "enterface_dbmfea0engmedium        167\n",
       "enterface_dbmdis0engmedium        167\n",
       "enterface_dbmhap2engmedium        167\n",
       "MESSmcal2engmedium                167\n",
       "vivaefpai0___medium               166\n",
       "enterface_dbmsad0engmedium        164\n",
       "vivaefsur2___medium               164\n",
       "ShEMOmneu1peslong                 163\n",
       "vivaefang0___medium               157\n",
       "EmoReact_V_1.0munk2engmedium      154\n",
       "MELDfhap2englong                  153\n",
       "MELDfdis0engmedium                146\n",
       "vivaefach2___medium               143\n",
       "vivaeffea0___medium               139\n",
       "MELDffea0engmedium                129\n",
       "EmoV-DB_sortedmdis0engmedium      128\n",
       "MELDmdis0engmedium                123\n",
       "MELDfsad0englong                  122\n",
       "jl-corpusmexc2engmedium           120\n",
       "jl-corpusmneu1engmedium           120\n",
       "jl-corpusfexc2engmedium           120\n",
       "jl-corpusmang0engmedium           120\n",
       "jl-corpusfapo0engmedium           120\n",
       "MELDfang0englong                  120\n",
       "jl-corpusfhap2engmedium           120\n",
       "jl-corpusfang0engmedium           120\n",
       "jl-corpusfanx0engmedium           120\n",
       "jl-corpusmanx0engmedium           120\n",
       "jl-corpusfsad0engmedium           120\n",
       "jl-corpusmhap2engmedium           120\n",
       "jl-corpusfneu1engmedium           120\n",
       "jl-corpusmapo0engmedium           120\n",
       "jl-corpusmsad0engmedium           120\n",
       "ekorpusfneu1estmedium             115\n",
       "ShEMOfsur0pesmedium               114\n",
       "saveemneu1engmedium               113\n",
       "MELDmang0englong                  113\n",
       "EmoReact_V_1.0funk0engmedium      111\n",
       "EmoV-DB_sortedfamu2englong        108\n",
       "ShEMOmsad0pesmedium               104\n",
       "Emotional_EMAfang0engmedium       104\n",
       "EmoV-DB_sortedfneu1englong        103\n",
       "urdumang0urdmedium                100\n",
       "ShEMOmsur0pesmedium                99\n",
       "Emotional_EMAfhap2engmedium        97\n",
       "ravdessfsad0engmedium              96\n",
       "ravdessfcal1engmedium              96\n",
       "ravdessfsur0engmedium              96\n",
       "ravdessmcal1engmedium              96\n",
       "ravdessmhap2engmedium              96\n",
       "ravdessmsad0engmedium              96\n",
       "ravdessmang0engmedium              96\n",
       "ravdessmfea0engmedium              96\n",
       "ravdessmdis0engmedium              96\n",
       "ravdessmsur0engmedium              96\n",
       "urdumneu1urdmedium                 96\n",
       "ravdessfhap2engmedium              96\n",
       "ravdessfang0engmedium              96\n",
       "ravdessffea0engmedium              96\n",
       "ravdessfdis0engmedium              96\n",
       "EmoReact_V_1.0munk0engmedium       95\n",
       "urdumsad0urdmedium                 94\n",
       "Emotional_EMAfneu1engmedium        94\n",
       "ShEMOfhap2pesmedium                93\n",
       "EYASEmneu1arzmedium                88\n",
       "EYASEmang0arzmedium                88\n",
       "ShEMOmang0peslong                  86\n",
       "EYASEmsad0arzmedium                86\n",
       "BAUM1fsad0turmedium                85\n",
       "Emotional_EMAfsad0engmedium        83\n",
       "MELDmsad0englong                   79\n",
       "BAUM1fhap2turmedium                78\n",
       "EmoV-DB_sortedfang0englong         78\n",
       "BAUM1fneu1turmedium                78\n",
       "ShEMOmhap2pesmedium                74\n",
       "EmoReact_V_1.0funk2englong         73\n",
       "EYASEmhap2arzmedium                72\n",
       "cafemang0framedium                 71\n",
       "cafemsur0framedium                 71\n",
       "cafefhap2framedium                 71\n",
       "ShEMOfang0peslong                  71\n",
       "ShEMOfneu1peslong                  71\n",
       "cafefsur0framedium                 70\n",
       "cafefang0framedium                 69\n",
       "cafemhap2framedium                 69\n",
       "cafemfea0framedium                 69\n",
       "MELDmneu1engshort                  69\n",
       "EmoDBfang0deumedium                67\n",
       "ShEMOmsad0peslong                  66\n",
       "cafeffea0framedium                 66\n",
       "cafemdis0framedium                 66\n",
       "cafemsad0framedium                 65\n",
       "BAUM1func0turmedium                60\n",
       "aesddfang0ellmedium                60\n",
       "EmoDBmang0deumedium                60\n",
       "EYASEfang0arzmedium                60\n",
       "EYASEfsad0arzmedium                60\n",
       "EYASEfhap2arzmedium                60\n",
       "EYASEfneu1arzmedium                60\n",
       "aesddffea0ellmedium                59\n",
       "saveemfea0engmedium                58\n",
       "MESSmcal1engmedium                 58\n",
       "aesddfsad0ellmedium                58\n",
       "BAUM1mhap2turmedium                56\n",
       "BAUM1mneu1turmedium                56\n",
       "saveemang0engmedium                56\n",
       "cafefsad0framedium                 55\n",
       "aesddfhap2ellmedium                55\n",
       "urdumhap2urdmedium                 54\n",
       "MELDfneu1engshort                  54\n",
       "saveemsur0engmedium                54\n",
       "saveemhap2engmedium                54\n",
       "oreau2mneu1framedium               52\n",
       "aesddfdis0ellmedium                51\n",
       "saveemdis0engmedium                51\n",
       "oreau2mang0framedium               50\n",
       "EmoReact_V_1.0funk0englong         50\n",
       "ShEMOfsad0peslong                  49\n",
       "MELDfsur2englong                   48\n",
       "aesddmfea0ellmedium                48\n",
       "ravdessmneu1engmedium              48\n",
       "ravdessfneu1engmedium              48\n",
       "oreau2mdis0framedium               47\n",
       "aesddmang0ellmedium                47\n",
       "aesddmdis0ellmedium                46\n",
       "EmoReact_V_1.0munk2englong         46\n",
       "urdufhap2urdmedium                 46\n",
       "EmoDBfbor0deumedium                46\n",
       "BAUM1mdis0turmedium                46\n",
       "BAUM1fbot0turmedium                46\n",
       "BAUM1mang0turmedium                46\n",
       "BAUM1munc0turmedium                45\n",
       "enterface_dbfhap2engmedium         45\n",
       "enterface_dbfsad0engmedium         45\n",
       "enterface_dbffea0engmedium         45\n",
       "Emotional_EMAmneu1engmedium        45\n",
       "enterface_dbfang0engmedium         45\n",
       "EmoDBfhap2deumedium                44\n",
       "enterface_dbfdis0engmedium         44\n",
       "oreau2mhap2framedium               44\n",
       "cafefdis0framedium                 44\n",
       "oreau2msur0framedium               44\n",
       "enterface_dbfsur0engmedium         44\n",
       "saveemsad0engmedium                42\n",
       "BAUM1fdis0turmedium                42\n",
       "MELDmsur2englong                   41\n",
       "aesddmhap2ellmedium                41\n",
       "oreau2msad0framedium               41\n",
       "MELDmdis0englong                   41\n",
       "BAUM2mang0engmedium                40\n",
       "Emotional_EMAmsad0englong          40\n",
       "EmoDBfneu1deumedium                40\n",
       "ekorpusfang0estlong                40\n",
       "EmoReact_V_1.0munk0englong         39\n",
       "EmoDBmneu1deumedium                39\n",
       "oreau2mfea0framedium               39\n",
       "aesddmsad0ellmedium                38\n",
       "BAUM1fang0turmedium                38\n",
       "vivaeffea0___short                 37\n",
       "esdmsad0cmnlong                    37\n",
       "cafefneu1framedium                 36\n",
       "EmoDBmfea0deumedium                36\n",
       "BAUM1msad0turmedium                36\n",
       "MELDfdis0englong                   35\n",
       "EmoDBmbor0deumedium                35\n",
       "EmoDBffea0deumedium                33\n",
       "cafemneu1framedium                 33\n",
       "LEGOv2uang0engmedium               33\n",
       "MESSfcal1engmedium                 33\n",
       "EmoDBfdis0deumedium                33\n",
       "Emotional_EMAmang0engmedium        33\n",
       "MELDmsur0englong                   32\n",
       "Emotional_EMAmhap2engmedium        32\n",
       "BAUM2fang0engmedium                32\n",
       "LEGOv2fneu1engshort                30\n",
       "LEGOv2mneu1engshort                29\n",
       "BAUM1munc0turlong                  29\n",
       "MELDfhap2engshort                  29\n",
       "EmoDBfsad0deumedium                29\n",
       "MELDmhap2engshort                  29\n",
       "MELDfsur0englong                   28\n",
       "cafefdis0fralong                   28\n",
       "BAUM1ffea0turmedium                27\n",
       "EmoDBmhap2deumedium                27\n",
       "LEGOv2fang0englong                 27\n",
       "Emotional_EMAmsad0engmedium        26\n",
       "ekorpusfneu1estlong                26\n",
       "LEGOv2fneu1englong                 25\n",
       "BAUM1fbor0turmedium                25\n",
       "BAUM1fsad0turlong                  25\n",
       "MELDffea0englong                   25\n",
       "MELDmfea0englong                   25\n",
       "BAUM1mfea0turmedium                25\n",
       "BAUM1mcon0turmedium                24\n",
       "BAUM2fhap2engmedium                24\n",
       "LEGOv2mneu1englong                 24\n",
       "vivaefsur2___short                 23\n",
       "BAUM2fhap2turmedium                23\n",
       "ekorpusfsad0estlong                23\n",
       "BAUM2mhap2engmedium                23\n",
       "BAUM2mang0turmedium                23\n",
       "BAUM1mneu1turlong                  22\n",
       "Emotional_EMAfsad0englong          21\n",
       "EmoV-DB_sortedmang0englong         21\n",
       "BAUM1fneu1turlong                  21\n",
       "BAUM1mcon0turlong                  21\n",
       "BAUM1msad0turlong                  21\n",
       "MELDuneu1engmedium                 21\n",
       "aesddmsad0elllong                  20\n",
       "MELDfang0engshort                  20\n",
       "ekorpusfhap2estlong                20\n",
       "EmoDBmsad0deumedium                20\n",
       "vivaefpai0___short                 19\n",
       "BAUM1fcon0turmedium                19\n",
       "ShEMOffea0pesmedium                19\n",
       "BAUM1func0turlong                  19\n",
       "BAUM1mbor0turmedium                19\n",
       "BAUM1mhap2turlong                  19\n",
       "oreau2fneu1framedium               18\n",
       "oreau2fsur0framedium               18\n",
       "aesddmhap2elllong                  18\n",
       "vivaefach2___short                 18\n",
       "oreau2fhap2framedium               18\n",
       "BAUM2fang0turmedium                18\n",
       "saveemsad0englong                  18\n",
       "cafefsad0fralong                   17\n",
       "oreau2fang0framedium               17\n",
       "BAUM1mbot0turmedium                17\n",
       "vivaefang0___short                 17\n",
       "EmoReact_V_1.0fdis0engmedium       16\n",
       "EmoReact_V_1.0mneu1engmedium       16\n",
       "oreau2fdis0framedium               16\n",
       "BAUM1fsur0turmedium                15\n",
       "ShEMOmhap2peslong                  15\n",
       "esdmsad0englong                    15\n",
       "ShEMOfhap2peslong                  15\n",
       "MELDuhap2engmedium                 15\n",
       "aesddmdis0elllong                  14\n",
       "ShEMOmfea0pesmedium                14\n",
       "MELDfsur0engshort                  14\n",
       "oreau2fsad0framedium               14\n",
       "BAUM1mcur2turmedium                14\n",
       "BAUM2fsur0turmedium                13\n",
       "BAUM2mhap2turmedium                13\n",
       "esdfsur0cmnlong                    13\n",
       "Emotional_EMAmang0englong          13\n",
       "aesddmang0elllong                  13\n",
       "BAUM1mfea0turlong                  13\n",
       "BAUM1msur0turmedium                13\n",
       "Emotional_EMAfang0englong          13\n",
       "EmoV-DB_sortedmneu1englong         12\n",
       "BAUM2msur0engmedium                12\n",
       "BAUM2fsur0engmedium                12\n",
       "BAUM1fcur2turmedium                12\n",
       "BAUM2fsad0turmedium                12\n",
       "aesddfdis0elllong                  11\n",
       "aesddmfea0elllong                  11\n",
       "oreau2ffea0framedium               11\n",
       "BAUM1mdis0turlong                  11\n",
       "MELDmsur2engshort                  11\n",
       "stratum_group_97                   11\n",
       "BAUM1fbot0turlong                  11\n",
       "EmoReact_V_1.0mdis0engmedium       11\n",
       "EmoReact_V_1.0fneu1engmedium       11\n",
       "EmoReact_V_1.0mcur2engmedium       10\n",
       "BAUM2fsad0engmedium                10\n",
       "EmoDBmdis0deumedium                10\n",
       "BAUM1mang0turlong                  10\n",
       "LimaCastroScottmple2___medium      10\n",
       "MELDmang0engshort                  10\n",
       "saveemdis0englong                   9\n",
       "BAUM2msad0engmedium                 9\n",
       "LEGOv2uneu1englong                  9\n",
       "Emotional_EMAfhap2englong           9\n",
       "Emotional_EMAmhap2englong           9\n",
       "EmoReact_V_1.0mneu1englong          9\n",
       "LimaCastroScottmdis0___medium       9\n",
       "MELDmsur0engshort                   9\n",
       "LimaCastroScottmsad0___medium       9\n",
       "stratum_group_2                     8\n",
       "stratum_group_48                    8\n",
       "stratum_group_12                    8\n",
       "BAUM1fdis0turlong                   8\n",
       "stratum_group_50                    8\n",
       "stratum_group_92                    8\n",
       "stratum_group_3                     8\n",
       "stratum_group_35                    8\n",
       "stratum_group_88                    8\n",
       "stratum_group_4                     8\n",
       "stratum_group_24                    8\n",
       "stratum_group_5                     8\n",
       "stratum_group_6                     8\n",
       "BAUM1mbot0turlong                   8\n",
       "stratum_group_26                    8\n",
       "stratum_group_25                    8\n",
       "stratum_group_8                     8\n",
       "stratum_group_52                    8\n",
       "stratum_group_10                    8\n",
       "stratum_group_82                    8\n",
       "stratum_group_18                    8\n",
       "stratum_group_21                    8\n",
       "stratum_group_36                    8\n",
       "stratum_group_91                    8\n",
       "LimaCastroScottfach2___medium       8\n",
       "LimaCastroScottfamu2___medium       8\n",
       "LimaCastroScottmang0___medium       8\n",
       "stratum_group_17                    8\n",
       "stratum_group_20                    8\n",
       "stratum_group_53                    8\n",
       "stratum_group_23                    8\n",
       "stratum_group_19                    8\n",
       "stratum_group_22                    8\n",
       "stratum_group_34                    8\n",
       "stratum_group_33                    8\n",
       "stratum_group_32                    8\n",
       "stratum_group_31                    8\n",
       "stratum_group_87                    8\n",
       "stratum_group_7                     8\n",
       "stratum_group_29                    8\n",
       "BAUM2fdis0engmedium                 8\n",
       "EmoReact_V_1.0fcur2engmedium        8\n",
       "BAUM2mneu1engmedium                 8\n",
       "stratum_group_51                    8\n",
       "stratum_group_83                    8\n",
       "stratum_group_45                    8\n",
       "stratum_group_44                    8\n",
       "EmoDBfsad0deulong                   8\n",
       "stratum_group_13                    8\n",
       "stratum_group_14                    8\n",
       "stratum_group_30                    8\n",
       "stratum_group_11                    8\n",
       "stratum_group_1                     8\n",
       "stratum_group_16                    8\n",
       "stratum_group_86                    8\n",
       "stratum_group_15                    8\n",
       "stratum_group_28                    8\n",
       "stratum_group_27                    8\n",
       "stratum_group_42                    8\n",
       "stratum_group_89                    8\n",
       "stratum_group_9                     8\n",
       "stratum_group_41                    8\n",
       "stratum_group_0                     8\n",
       "stratum_group_39                    8\n",
       "stratum_group_55                    8\n",
       "stratum_group_93                    8\n",
       "saveemneu1englong                   8\n",
       "stratum_group_46                    8\n",
       "stratum_group_43                    8\n",
       "stratum_group_56                    8\n",
       "stratum_group_40                    8\n",
       "stratum_group_47                    8\n",
       "stratum_group_49                    8\n",
       "stratum_group_54                    8\n",
       "stratum_group_85                    8\n",
       "stratum_group_84                    8\n",
       "stratum_group_38                    8\n",
       "stratum_group_94                    8\n",
       "BAUM2fcon0engmedium                 8\n",
       "stratum_group_90                    8\n",
       "dtype: int64"
      ]
     },
     "execution_count": 9,
     "metadata": {},
     "output_type": "execute_result"
    },
    {
     "name": "stdout",
     "output_type": "stream",
     "text": [
      "time: 1.87 s\n"
     ]
    }
   ],
   "source": [
    "STRATA = process_strata(strata, n_splits=N_SPLITS)\n",
    "STRATA.value_counts()\n",
    "cross_validator = lambda: StratifiedGroupKFold(\n",
    "    n_splits=N_SPLITS, shuffle=True, random_state=SEED\n",
    ").split(X=data, y=STRATA, groups=labels.speaker_id)"
   ]
  },
  {
   "cell_type": "markdown",
   "metadata": {},
   "source": [
    "# Hyperparameters"
   ]
  },
  {
   "cell_type": "code",
   "execution_count": 10,
   "metadata": {},
   "outputs": [
    {
     "name": "stdout",
     "output_type": "stream",
     "text": [
      "Fitting 8 folds for each of 10 candidates, totalling 80 fits\n"
     ]
    },
    {
     "name": "stderr",
     "output_type": "stream",
     "text": [
      "[Parallel(n_jobs=1)]: Using backend SequentialBackend with 1 concurrent workers.\n"
     ]
    },
    {
     "name": "stdout",
     "output_type": "stream",
     "text": [
      "time: 11.7 s\n"
     ]
    },
    {
     "name": "stderr",
     "output_type": "stream",
     "text": [
      "[Parallel(n_jobs=1)]: Done   1 out of   1 | elapsed:    0.3s finished\n"
     ]
    }
   ],
   "source": [
    "model = RandomizedSearchCV(\n",
    "    estimator=LogisticRegression(\n",
    "        # tol=1e-5,\n",
    "        class_weight=\"balanced\",\n",
    "        random_state=SEED,\n",
    "        solver=\"lbfgs\",\n",
    "        max_iter=1000,\n",
    "        verbose=1,\n",
    "        n_jobs=-1,\n",
    "    ),\n",
    "    param_distributions={\n",
    "        \"C\": loguniform(1e-5, 1e5),\n",
    "    },\n",
    "    n_iter=10,\n",
    "    scoring=\"neg_log_loss\",\n",
    "    n_jobs=-1,\n",
    "    cv=list(cross_validator()),\n",
    "    verbose=1,\n",
    "    random_state=SEED + 1,\n",
    "    error_score=\"raise\",\n",
    ").fit(data, labels.valence)"
   ]
  },
  {
   "cell_type": "code",
   "execution_count": 11,
   "metadata": {},
   "outputs": [
    {
     "name": "stdout",
     "output_type": "stream",
     "text": [
      "-0.7990104412945365\n",
      "{'C': 0.016591400233736085}\n"
     ]
    },
    {
     "data": {
      "text/plain": [
       "<AxesSubplot:xlabel='param_C'>"
      ]
     },
     "execution_count": 11,
     "metadata": {},
     "output_type": "execute_result"
    },
    {
     "data": {
      "application/vnd.jupyter.widget-view+json": {
       "model_id": "d122db781acb4cdd9a3d9a3e421a5ed2",
       "version_major": 2,
       "version_minor": 0
      },
      "image/png": "[encoded data removed]",
      "text/html": [
       "\n",
       "            <div style=\"display: inline-block;\">\n",
       "                <div class=\"jupyter-widgets widget-label\" style=\"text-align: center;\">\n",
       "                    Figure\n",
       "                </div>\n",
       "                <img src='data:image/png;base64,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' width=640.0/>\n",
       "            </div>\n",
       "        "
      ],
      "text/plain": [
       "Canvas(toolbar=Toolbar(toolitems=[('Home', 'Reset original view', 'home', 'home'), ('Back', 'Back to previous …"
      ]
     },
     "metadata": {},
     "output_type": "display_data"
    },
    {
     "name": "stdout",
     "output_type": "stream",
     "text": [
      "time: 213 ms\n"
     ]
    }
   ],
   "source": [
    "print(model.best_score_)\n",
    "print(model.best_params_)\n",
    "results_df = (\n",
    "    pd.DataFrame(model.cv_results_)\n",
    "    .sort_values(by=\"param_C\", ascending=True)\n",
    "    .loc[:, [\"param_C\", \"mean_test_score\"]]\n",
    ")\n",
    "results_df.plot(x=\"param_C\", y=\"mean_test_score\")\n",
    "plt.show()"
   ]
  },
  {
   "cell_type": "code",
   "execution_count": 12,
   "metadata": {},
   "outputs": [
    {
     "data": {
      "text/html": [
       "<div>\n",
       "<style scoped>\n",
       "    .dataframe tbody tr th:only-of-type {\n",
       "        vertical-align: middle;\n",
       "    }\n",
       "\n",
       "    .dataframe tbody tr th {\n",
       "        vertical-align: top;\n",
       "    }\n",
       "\n",
       "    .dataframe thead th {\n",
       "        text-align: right;\n",
       "    }\n",
       "</style>\n",
       "<table border=\"1\" class=\"dataframe\">\n",
       "  <thead>\n",
       "    <tr style=\"text-align: right;\">\n",
       "      <th></th>\n",
       "      <th>mean_fit_time</th>\n",
       "      <th>std_fit_time</th>\n",
       "      <th>mean_score_time</th>\n",
       "      <th>std_score_time</th>\n",
       "      <th>param_C</th>\n",
       "      <th>params</th>\n",
       "      <th>split0_test_score</th>\n",
       "      <th>split1_test_score</th>\n",
       "      <th>split2_test_score</th>\n",
       "      <th>split3_test_score</th>\n",
       "      <th>split4_test_score</th>\n",
       "      <th>split5_test_score</th>\n",
       "      <th>split6_test_score</th>\n",
       "      <th>split7_test_score</th>\n",
       "      <th>mean_test_score</th>\n",
       "      <th>std_test_score</th>\n",
       "      <th>rank_test_score</th>\n",
       "    </tr>\n",
       "  </thead>\n",
       "  <tbody>\n",
       "    <tr>\n",
       "      <th>0</th>\n",
       "      <td>0.560752</td>\n",
       "      <td>0.026484</td>\n",
       "      <td>0.011375</td>\n",
       "      <td>0.002342</td>\n",
       "      <td>0.016591</td>\n",
       "      <td>{'C': 0.016591400233736085}</td>\n",
       "      <td>-0.972385</td>\n",
       "      <td>-0.720558</td>\n",
       "      <td>-0.700699</td>\n",
       "      <td>-0.866742</td>\n",
       "      <td>-0.777464</td>\n",
       "      <td>-0.766565</td>\n",
       "      <td>-0.819143</td>\n",
       "      <td>-0.768528</td>\n",
       "      <td>-0.799010</td>\n",
       "      <td>0.081638</td>\n",
       "      <td>1</td>\n",
       "    </tr>\n",
       "    <tr>\n",
       "      <th>5</th>\n",
       "      <td>0.584625</td>\n",
       "      <td>0.024062</td>\n",
       "      <td>0.015626</td>\n",
       "      <td>0.007414</td>\n",
       "      <td>0.477481</td>\n",
       "      <td>{'C': 0.47748081089653666}</td>\n",
       "      <td>-0.974327</td>\n",
       "      <td>-0.720009</td>\n",
       "      <td>-0.699988</td>\n",
       "      <td>-0.867315</td>\n",
       "      <td>-0.777188</td>\n",
       "      <td>-0.766126</td>\n",
       "      <td>-0.819112</td>\n",
       "      <td>-0.768353</td>\n",
       "      <td>-0.799052</td>\n",
       "      <td>0.082424</td>\n",
       "      <td>2</td>\n",
       "    </tr>\n",
       "    <tr>\n",
       "      <th>8</th>\n",
       "      <td>0.592351</td>\n",
       "      <td>0.033514</td>\n",
       "      <td>0.015554</td>\n",
       "      <td>0.010527</td>\n",
       "      <td>1.753369</td>\n",
       "      <td>{'C': 1.7533693991680015}</td>\n",
       "      <td>-0.974380</td>\n",
       "      <td>-0.719995</td>\n",
       "      <td>-0.699970</td>\n",
       "      <td>-0.867331</td>\n",
       "      <td>-0.777182</td>\n",
       "      <td>-0.766115</td>\n",
       "      <td>-0.819111</td>\n",
       "      <td>-0.768350</td>\n",
       "      <td>-0.799054</td>\n",
       "      <td>0.082445</td>\n",
       "      <td>3</td>\n",
       "    </tr>\n",
       "    <tr>\n",
       "      <th>9</th>\n",
       "      <td>0.534468</td>\n",
       "      <td>0.056820</td>\n",
       "      <td>0.009754</td>\n",
       "      <td>0.003454</td>\n",
       "      <td>2.814183</td>\n",
       "      <td>{'C': 2.814183342742093}</td>\n",
       "      <td>-0.974388</td>\n",
       "      <td>-0.719993</td>\n",
       "      <td>-0.699967</td>\n",
       "      <td>-0.867333</td>\n",
       "      <td>-0.777181</td>\n",
       "      <td>-0.766113</td>\n",
       "      <td>-0.819111</td>\n",
       "      <td>-0.768349</td>\n",
       "      <td>-0.799054</td>\n",
       "      <td>0.082448</td>\n",
       "      <td>4</td>\n",
       "    </tr>\n",
       "    <tr>\n",
       "      <th>2</th>\n",
       "      <td>0.574253</td>\n",
       "      <td>0.028649</td>\n",
       "      <td>0.011496</td>\n",
       "      <td>0.002448</td>\n",
       "      <td>7.594909</td>\n",
       "      <td>{'C': 7.594908647888714}</td>\n",
       "      <td>-0.974396</td>\n",
       "      <td>-0.719991</td>\n",
       "      <td>-0.699964</td>\n",
       "      <td>-0.867336</td>\n",
       "      <td>-0.777180</td>\n",
       "      <td>-0.766112</td>\n",
       "      <td>-0.819111</td>\n",
       "      <td>-0.768349</td>\n",
       "      <td>-0.799055</td>\n",
       "      <td>0.082451</td>\n",
       "      <td>5</td>\n",
       "    </tr>\n",
       "    <tr>\n",
       "      <th>7</th>\n",
       "      <td>0.586125</td>\n",
       "      <td>0.044232</td>\n",
       "      <td>0.013876</td>\n",
       "      <td>0.005060</td>\n",
       "      <td>187.390309</td>\n",
       "      <td>{'C': 187.39030866445944}</td>\n",
       "      <td>-0.974400</td>\n",
       "      <td>-0.719990</td>\n",
       "      <td>-0.699963</td>\n",
       "      <td>-0.867337</td>\n",
       "      <td>-0.777179</td>\n",
       "      <td>-0.766111</td>\n",
       "      <td>-0.819111</td>\n",
       "      <td>-0.768348</td>\n",
       "      <td>-0.799055</td>\n",
       "      <td>0.082453</td>\n",
       "      <td>6</td>\n",
       "    </tr>\n",
       "    <tr>\n",
       "      <th>1</th>\n",
       "      <td>0.573499</td>\n",
       "      <td>0.030317</td>\n",
       "      <td>0.011873</td>\n",
       "      <td>0.002849</td>\n",
       "      <td>8020.926153</td>\n",
       "      <td>{'C': 8020.926152914172}</td>\n",
       "      <td>-0.974400</td>\n",
       "      <td>-0.719990</td>\n",
       "      <td>-0.699963</td>\n",
       "      <td>-0.867337</td>\n",
       "      <td>-0.777179</td>\n",
       "      <td>-0.766111</td>\n",
       "      <td>-0.819111</td>\n",
       "      <td>-0.768348</td>\n",
       "      <td>-0.799055</td>\n",
       "      <td>0.082453</td>\n",
       "      <td>7</td>\n",
       "    </tr>\n",
       "    <tr>\n",
       "      <th>4</th>\n",
       "      <td>0.477913</td>\n",
       "      <td>0.020130</td>\n",
       "      <td>0.012126</td>\n",
       "      <td>0.004013</td>\n",
       "      <td>0.000259</td>\n",
       "      <td>{'C': 0.00025906707739723275}</td>\n",
       "      <td>-0.948195</td>\n",
       "      <td>-0.765480</td>\n",
       "      <td>-0.754070</td>\n",
       "      <td>-0.880257</td>\n",
       "      <td>-0.813060</td>\n",
       "      <td>-0.809714</td>\n",
       "      <td>-0.843640</td>\n",
       "      <td>-0.805337</td>\n",
       "      <td>-0.827469</td>\n",
       "      <td>0.059019</td>\n",
       "      <td>8</td>\n",
       "    </tr>\n",
       "    <tr>\n",
       "      <th>3</th>\n",
       "      <td>0.448332</td>\n",
       "      <td>0.029832</td>\n",
       "      <td>0.010860</td>\n",
       "      <td>0.005048</td>\n",
       "      <td>0.000184</td>\n",
       "      <td>{'C': 0.00018448494667907853}</td>\n",
       "      <td>-0.950791</td>\n",
       "      <td>-0.781990</td>\n",
       "      <td>-0.772957</td>\n",
       "      <td>-0.890017</td>\n",
       "      <td>-0.827313</td>\n",
       "      <td>-0.825780</td>\n",
       "      <td>-0.854940</td>\n",
       "      <td>-0.820521</td>\n",
       "      <td>-0.840539</td>\n",
       "      <td>0.054314</td>\n",
       "      <td>9</td>\n",
       "    </tr>\n",
       "    <tr>\n",
       "      <th>6</th>\n",
       "      <td>0.466874</td>\n",
       "      <td>0.059115</td>\n",
       "      <td>0.014253</td>\n",
       "      <td>0.008828</td>\n",
       "      <td>0.000017</td>\n",
       "      <td>{'C': 1.663016722050822e-05}</td>\n",
       "      <td>-1.039044</td>\n",
       "      <td>-0.985439</td>\n",
       "      <td>-0.988680</td>\n",
       "      <td>-1.025222</td>\n",
       "      <td>-1.003991</td>\n",
       "      <td>-1.008787</td>\n",
       "      <td>-1.009471</td>\n",
       "      <td>-1.003720</td>\n",
       "      <td>-1.008044</td>\n",
       "      <td>0.016507</td>\n",
       "      <td>10</td>\n",
       "    </tr>\n",
       "  </tbody>\n",
       "</table>\n",
       "</div>"
      ],
      "text/plain": [
       "   mean_fit_time  std_fit_time  mean_score_time  std_score_time      param_C  \\\n",
       "0       0.560752      0.026484         0.011375        0.002342     0.016591   \n",
       "5       0.584625      0.024062         0.015626        0.007414     0.477481   \n",
       "8       0.592351      0.033514         0.015554        0.010527     1.753369   \n",
       "9       0.534468      0.056820         0.009754        0.003454     2.814183   \n",
       "2       0.574253      0.028649         0.011496        0.002448     7.594909   \n",
       "7       0.586125      0.044232         0.013876        0.005060   187.390309   \n",
       "1       0.573499      0.030317         0.011873        0.002849  8020.926153   \n",
       "4       0.477913      0.020130         0.012126        0.004013     0.000259   \n",
       "3       0.448332      0.029832         0.010860        0.005048     0.000184   \n",
       "6       0.466874      0.059115         0.014253        0.008828     0.000017   \n",
       "\n",
       "                          params  split0_test_score  split1_test_score  \\\n",
       "0    {'C': 0.016591400233736085}          -0.972385          -0.720558   \n",
       "5     {'C': 0.47748081089653666}          -0.974327          -0.720009   \n",
       "8      {'C': 1.7533693991680015}          -0.974380          -0.719995   \n",
       "9       {'C': 2.814183342742093}          -0.974388          -0.719993   \n",
       "2       {'C': 7.594908647888714}          -0.974396          -0.719991   \n",
       "7      {'C': 187.39030866445944}          -0.974400          -0.719990   \n",
       "1       {'C': 8020.926152914172}          -0.974400          -0.719990   \n",
       "4  {'C': 0.00025906707739723275}          -0.948195          -0.765480   \n",
       "3  {'C': 0.00018448494667907853}          -0.950791          -0.781990   \n",
       "6   {'C': 1.663016722050822e-05}          -1.039044          -0.985439   \n",
       "\n",
       "   split2_test_score  split3_test_score  split4_test_score  split5_test_score  \\\n",
       "0          -0.700699          -0.866742          -0.777464          -0.766565   \n",
       "5          -0.699988          -0.867315          -0.777188          -0.766126   \n",
       "8          -0.699970          -0.867331          -0.777182          -0.766115   \n",
       "9          -0.699967          -0.867333          -0.777181          -0.766113   \n",
       "2          -0.699964          -0.867336          -0.777180          -0.766112   \n",
       "7          -0.699963          -0.867337          -0.777179          -0.766111   \n",
       "1          -0.699963          -0.867337          -0.777179          -0.766111   \n",
       "4          -0.754070          -0.880257          -0.813060          -0.809714   \n",
       "3          -0.772957          -0.890017          -0.827313          -0.825780   \n",
       "6          -0.988680          -1.025222          -1.003991          -1.008787   \n",
       "\n",
       "   split6_test_score  split7_test_score  mean_test_score  std_test_score  \\\n",
       "0          -0.819143          -0.768528        -0.799010        0.081638   \n",
       "5          -0.819112          -0.768353        -0.799052        0.082424   \n",
       "8          -0.819111          -0.768350        -0.799054        0.082445   \n",
       "9          -0.819111          -0.768349        -0.799054        0.082448   \n",
       "2          -0.819111          -0.768349        -0.799055        0.082451   \n",
       "7          -0.819111          -0.768348        -0.799055        0.082453   \n",
       "1          -0.819111          -0.768348        -0.799055        0.082453   \n",
       "4          -0.843640          -0.805337        -0.827469        0.059019   \n",
       "3          -0.854940          -0.820521        -0.840539        0.054314   \n",
       "6          -1.009471          -1.003720        -1.008044        0.016507   \n",
       "\n",
       "   rank_test_score  \n",
       "0                1  \n",
       "5                2  \n",
       "8                3  \n",
       "9                4  \n",
       "2                5  \n",
       "7                6  \n",
       "1                7  \n",
       "4                8  \n",
       "3                9  \n",
       "6               10  "
      ]
     },
     "execution_count": 12,
     "metadata": {},
     "output_type": "execute_result"
    },
    {
     "name": "stdout",
     "output_type": "stream",
     "text": [
      "time: 31 ms\n"
     ]
    }
   ],
   "source": [
    "df = pd.DataFrame(model.cv_results_)\n",
    "df.sort_values(by=\"mean_test_score\", ascending=False)"
   ]
  },
  {
   "cell_type": "code",
   "execution_count": 13,
   "metadata": {},
   "outputs": [
    {
     "name": "stdout",
     "output_type": "stream",
     "text": [
      "time: 119 ms\n"
     ]
    }
   ],
   "source": [
    "def tune(C: Sequence, results_df: pd.DataFrame, n_iter: int = 10) -> pd.DataFrame:\n",
    "    \"\"\"Run tuning procedure\"\"\"\n",
    "    model = RandomizedSearchCV(\n",
    "        estimator=LogisticRegression(\n",
    "            class_weight=\"balanced\",\n",
    "            random_state=SEED,\n",
    "            max_iter=1000,\n",
    "            verbose=1,\n",
    "            n_jobs=-1,\n",
    "        ),\n",
    "        param_distributions={\"C\": C},\n",
    "        n_iter=n_iter,\n",
    "        scoring=\"neg_log_loss\",\n",
    "        n_jobs=-1,\n",
    "        cv=list(cross_validator()),\n",
    "        verbose=1,\n",
    "        random_state=SEED + 2,\n",
    "        error_score=\"raise\",\n",
    "    ).fit(data, labels.valence)\n",
    "\n",
    "    print(\"best score:\", model.best_score_)\n",
    "    print(\"best params:\", model.best_params_)\n",
    "    df = (\n",
    "        pd.DataFrame(model.cv_results_)\n",
    "        .sort_values(by=\"param_C\", ascending=True)\n",
    "        .loc[:, [\"param_C\", \"mean_test_score\"]]\n",
    "    )\n",
    "    df.plot(x=\"param_C\", y=\"mean_test_score\")\n",
    "    plt.show()\n",
    "    return pd.concat(\n",
    "        [results_df.loc[:, [\"param_C\", \"mean_test_score\"]], df],\n",
    "        axis=\"rows\",\n",
    "    )\n",
    "\n",
    "\n",
    "_ = gc_collect()"
   ]
  },
  {
   "cell_type": "code",
   "execution_count": 14,
   "metadata": {},
   "outputs": [
    {
     "name": "stdout",
     "output_type": "stream",
     "text": [
      "Fitting 8 folds for each of 11 candidates, totalling 88 fits\n"
     ]
    },
    {
     "name": "stderr",
     "output_type": "stream",
     "text": [
      "[Parallel(n_jobs=1)]: Using backend SequentialBackend with 1 concurrent workers.\n"
     ]
    },
    {
     "name": "stdout",
     "output_type": "stream",
     "text": [
      "best score: -0.7990495099610337\n",
      "best params: {'C': 0.2396348037505133}\n"
     ]
    },
    {
     "name": "stderr",
     "output_type": "stream",
     "text": [
      "[Parallel(n_jobs=1)]: Done   1 out of   1 | elapsed:    0.3s finished\n"
     ]
    },
    {
     "data": {
      "application/vnd.jupyter.widget-view+json": {
       "model_id": "7dd127afb25b4e5897b869075e5d9c91",
       "version_major": 2,
       "version_minor": 0
      },
      "image/png": "[encoded data removed]",
      "text/html": [
       "\n",
       "            <div style=\"display: inline-block;\">\n",
       "                <div class=\"jupyter-widgets widget-label\" style=\"text-align: center;\">\n",
       "                    Figure\n",
       "                </div>\n",
       "                <img src='data:image/png;base64,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' width=640.0/>\n",
       "            </div>\n",
       "        "
      ],
      "text/plain": [
       "Canvas(toolbar=Toolbar(toolitems=[('Home', 'Reset original view', 'home', 'home'), ('Back', 'Back to previous …"
      ]
     },
     "metadata": {},
     "output_type": "display_data"
    },
    {
     "name": "stdout",
     "output_type": "stream",
     "text": [
      "time: 8.82 s\n"
     ]
    }
   ],
   "source": [
    "df = tune(C=loguniform(1e-6, 1e6), results_df=df, n_iter=11)"
   ]
  },
  {
   "cell_type": "code",
   "execution_count": 15,
   "metadata": {},
   "outputs": [
    {
     "name": "stdout",
     "output_type": "stream",
     "text": [
      "Fitting 8 folds for each of 11 candidates, totalling 88 fits\n"
     ]
    },
    {
     "name": "stderr",
     "output_type": "stream",
     "text": [
      "[Parallel(n_jobs=1)]: Using backend SequentialBackend with 1 concurrent workers.\n"
     ]
    },
    {
     "name": "stdout",
     "output_type": "stream",
     "text": [
      "best score: -0.7990515080406486\n",
      "best params: {'C': 0.385803884305235}\n"
     ]
    },
    {
     "name": "stderr",
     "output_type": "stream",
     "text": [
      "[Parallel(n_jobs=1)]: Done   1 out of   1 | elapsed:    0.3s finished\n"
     ]
    },
    {
     "data": {
      "application/vnd.jupyter.widget-view+json": {
       "model_id": "55298a3da62b4b3ba0253b52c15220b8",
       "version_major": 2,
       "version_minor": 0
      },
      "image/png": "[encoded data removed]",
      "text/html": [
       "\n",
       "            <div style=\"display: inline-block;\">\n",
       "                <div class=\"jupyter-widgets widget-label\" style=\"text-align: center;\">\n",
       "                    Figure\n",
       "                </div>\n",
       "                <img src='data:image/png;base64,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' width=640.0/>\n",
       "            </div>\n",
       "        "
      ],
      "text/plain": [
       "Canvas(toolbar=Toolbar(toolitems=[('Home', 'Reset original view', 'home', 'home'), ('Back', 'Back to previous …"
      ]
     },
     "metadata": {},
     "output_type": "display_data"
    },
    {
     "name": "stdout",
     "output_type": "stream",
     "text": [
      "time: 9.03 s\n"
     ]
    }
   ],
   "source": [
    "df = tune(C=loguniform(1e-4, 1e4), results_df=df, n_iter=11)"
   ]
  },
  {
   "cell_type": "code",
   "execution_count": 16,
   "metadata": {},
   "outputs": [
    {
     "name": "stdout",
     "output_type": "stream",
     "text": [
      "Fitting 8 folds for each of 11 candidates, totalling 88 fits\n"
     ]
    },
    {
     "name": "stderr",
     "output_type": "stream",
     "text": [
      "[Parallel(n_jobs=1)]: Using backend SequentialBackend with 1 concurrent workers.\n"
     ]
    },
    {
     "name": "stdout",
     "output_type": "stream",
     "text": [
      "best score: -0.7990444365237424\n",
      "best params: {'C': 0.1192415990850905}\n"
     ]
    },
    {
     "name": "stderr",
     "output_type": "stream",
     "text": [
      "[Parallel(n_jobs=1)]: Done   1 out of   1 | elapsed:    0.4s finished\n"
     ]
    },
    {
     "data": {
      "application/vnd.jupyter.widget-view+json": {
       "model_id": "136be60217d5450d9c85ea756a58a4f4",
       "version_major": 2,
       "version_minor": 0
      },
      "image/png": "[encoded data removed]",
      "text/html": [
       "\n",
       "            <div style=\"display: inline-block;\">\n",
       "                <div class=\"jupyter-widgets widget-label\" style=\"text-align: center;\">\n",
       "                    Figure\n",
       "                </div>\n",
       "                <img src='data:image/png;base64,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' width=640.0/>\n",
       "            </div>\n",
       "        "
      ],
      "text/plain": [
       "Canvas(toolbar=Toolbar(toolitems=[('Home', 'Reset original view', 'home', 'home'), ('Back', 'Back to previous …"
      ]
     },
     "metadata": {},
     "output_type": "display_data"
    },
    {
     "name": "stdout",
     "output_type": "stream",
     "text": [
      "time: 10 s\n"
     ]
    }
   ],
   "source": [
    "df = tune(C=loguniform(0.1, 1000), results_df=df, n_iter=11)"
   ]
  },
  {
   "cell_type": "code",
   "execution_count": 17,
   "metadata": {},
   "outputs": [
    {
     "name": "stdout",
     "output_type": "stream",
     "text": [
      "Fitting 8 folds for each of 13 candidates, totalling 104 fits\n"
     ]
    },
    {
     "name": "stderr",
     "output_type": "stream",
     "text": [
      "[Parallel(n_jobs=1)]: Using backend SequentialBackend with 1 concurrent workers.\n"
     ]
    },
    {
     "name": "stdout",
     "output_type": "stream",
     "text": [
      "best score: -0.7990496086077612\n",
      "best params: {'C': 0.2442605141472523}\n"
     ]
    },
    {
     "name": "stderr",
     "output_type": "stream",
     "text": [
      "[Parallel(n_jobs=1)]: Done   1 out of   1 | elapsed:    0.3s finished\n"
     ]
    },
    {
     "data": {
      "application/vnd.jupyter.widget-view+json": {
       "model_id": "5f136b771fa345cd96b6de2eeee069f8",
       "version_major": 2,
       "version_minor": 0
      },
      "image/png": "[encoded data removed]",
      "text/html": [
       "\n",
       "            <div style=\"display: inline-block;\">\n",
       "                <div class=\"jupyter-widgets widget-label\" style=\"text-align: center;\">\n",
       "                    Figure\n",
       "                </div>\n",
       "                <img src='data:image/png;base64,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' width=640.0/>\n",
       "            </div>\n",
       "        "
      ],
      "text/plain": [
       "Canvas(toolbar=Toolbar(toolitems=[('Home', 'Reset original view', 'home', 'home'), ('Back', 'Back to previous …"
      ]
     },
     "metadata": {},
     "output_type": "display_data"
    },
    {
     "name": "stdout",
     "output_type": "stream",
     "text": [
      "time: 11 s\n"
     ]
    }
   ],
   "source": [
    "df = tune(C=loguniform(0.2, 7000), results_df=df, n_iter=13)"
   ]
  },
  {
   "cell_type": "code",
   "execution_count": 18,
   "metadata": {},
   "outputs": [
    {
     "name": "stdout",
     "output_type": "stream",
     "text": [
      "Fitting 8 folds for each of 17 candidates, totalling 136 fits\n"
     ]
    },
    {
     "name": "stderr",
     "output_type": "stream",
     "text": [
      "[Parallel(n_jobs=1)]: Using backend SequentialBackend with 1 concurrent workers.\n"
     ]
    },
    {
     "name": "stdout",
     "output_type": "stream",
     "text": [
      "best score: -0.7990503284776607\n",
      "best params: {'C': 0.28405942115377136}\n"
     ]
    },
    {
     "name": "stderr",
     "output_type": "stream",
     "text": [
      "[Parallel(n_jobs=1)]: Done   1 out of   1 | elapsed:    0.4s finished\n"
     ]
    },
    {
     "data": {
      "application/vnd.jupyter.widget-view+json": {
       "model_id": "9789b116ade24bf6b8ddc19ff9eade45",
       "version_major": 2,
       "version_minor": 0
      },
      "image/png": "[encoded data removed]",
      "text/html": [
       "\n",
       "            <div style=\"display: inline-block;\">\n",
       "                <div class=\"jupyter-widgets widget-label\" style=\"text-align: center;\">\n",
       "                    Figure\n",
       "                </div>\n",
       "                <img src='data:image/png;base64,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' width=640.0/>\n",
       "            </div>\n",
       "        "
      ],
      "text/plain": [
       "Canvas(toolbar=Toolbar(toolitems=[('Home', 'Reset original view', 'home', 'home'), ('Back', 'Back to previous …"
      ]
     },
     "metadata": {},
     "output_type": "display_data"
    },
    {
     "name": "stdout",
     "output_type": "stream",
     "text": [
      "time: 14.7 s\n"
     ]
    }
   ],
   "source": [
    "df = tune(C=loguniform(0.25, 200), results_df=df, n_iter=17)"
   ]
  },
  {
   "cell_type": "code",
   "execution_count": 19,
   "metadata": {},
   "outputs": [
    {
     "name": "stdout",
     "output_type": "stream",
     "text": [
      "Fitting 8 folds for each of 13 candidates, totalling 104 fits\n"
     ]
    },
    {
     "name": "stderr",
     "output_type": "stream",
     "text": [
      "[Parallel(n_jobs=1)]: Using backend SequentialBackend with 1 concurrent workers.\n"
     ]
    },
    {
     "name": "stdout",
     "output_type": "stream",
     "text": [
      "best score: -0.799048091587569\n",
      "best params: {'C': 0.1879373922044296}\n"
     ]
    },
    {
     "name": "stderr",
     "output_type": "stream",
     "text": [
      "[Parallel(n_jobs=1)]: Done   1 out of   1 | elapsed:    0.3s finished\n"
     ]
    },
    {
     "data": {
      "application/vnd.jupyter.widget-view+json": {
       "model_id": "b52dc04370594325881bab2ffe288275",
       "version_major": 2,
       "version_minor": 0
      },
      "image/png": "[encoded data removed]",
      "text/html": [
       "\n",
       "            <div style=\"display: inline-block;\">\n",
       "                <div class=\"jupyter-widgets widget-label\" style=\"text-align: center;\">\n",
       "                    Figure\n",
       "                </div>\n",
       "                <img src='data:image/png;base64,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' width=640.0/>\n",
       "            </div>\n",
       "        "
      ],
      "text/plain": [
       "Canvas(toolbar=Toolbar(toolitems=[('Home', 'Reset original view', 'home', 'home'), ('Back', 'Back to previous …"
      ]
     },
     "metadata": {},
     "output_type": "display_data"
    },
    {
     "name": "stdout",
     "output_type": "stream",
     "text": [
      "time: 10.8 s\n"
     ]
    }
   ],
   "source": [
    "df = tune(C=loguniform(0.15, 20000), results_df=df, n_iter=13)"
   ]
  },
  {
   "cell_type": "code",
   "execution_count": 20,
   "metadata": {},
   "outputs": [
    {
     "name": "stdout",
     "output_type": "stream",
     "text": [
      "Fitting 8 folds for each of 20 candidates, totalling 160 fits\n"
     ]
    },
    {
     "name": "stderr",
     "output_type": "stream",
     "text": [
      "[Parallel(n_jobs=1)]: Using backend SequentialBackend with 1 concurrent workers.\n"
     ]
    },
    {
     "name": "stdout",
     "output_type": "stream",
     "text": [
      "best score: -0.7990097764383388\n",
      "best params: {'C': 0.013455869304969958}\n"
     ]
    },
    {
     "name": "stderr",
     "output_type": "stream",
     "text": [
      "[Parallel(n_jobs=1)]: Done   1 out of   1 | elapsed:    0.4s finished\n"
     ]
    },
    {
     "data": {
      "application/vnd.jupyter.widget-view+json": {
       "model_id": "f599c7794cce4a899817390819b86d95",
       "version_major": 2,
       "version_minor": 0
      },
      "image/png": "[encoded data removed]",
      "text/html": [
       "\n",
       "            <div style=\"display: inline-block;\">\n",
       "                <div class=\"jupyter-widgets widget-label\" style=\"text-align: center;\">\n",
       "                    Figure\n",
       "                </div>\n",
       "                <img src='data:image/png;base64,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' width=640.0/>\n",
       "            </div>\n",
       "        "
      ],
      "text/plain": [
       "Canvas(toolbar=Toolbar(toolitems=[('Home', 'Reset original view', 'home', 'home'), ('Back', 'Back to previous …"
      ]
     },
     "metadata": {},
     "output_type": "display_data"
    },
    {
     "name": "stdout",
     "output_type": "stream",
     "text": [
      "time: 15 s\n"
     ]
    }
   ],
   "source": [
    "df = tune(C=loguniform(1e-3, 1e3), results_df=df, n_iter=20)"
   ]
  },
  {
   "cell_type": "code",
   "execution_count": 21,
   "metadata": {},
   "outputs": [
    {
     "name": "stdout",
     "output_type": "stream",
     "text": [
      "Fitting 8 folds for each of 1000 candidates, totalling 8000 fits\n"
     ]
    },
    {
     "name": "stderr",
     "output_type": "stream",
     "text": [
      "[Parallel(n_jobs=1)]: Using backend SequentialBackend with 1 concurrent workers.\n"
     ]
    },
    {
     "name": "stdout",
     "output_type": "stream",
     "text": [
      "best score: -0.7990096207696106\n",
      "best params: {'C': 0.014106918456367749}\n"
     ]
    },
    {
     "name": "stderr",
     "output_type": "stream",
     "text": [
      "[Parallel(n_jobs=1)]: Done   1 out of   1 | elapsed:    0.4s finished\n"
     ]
    },
    {
     "data": {
      "application/vnd.jupyter.widget-view+json": {
       "model_id": "bc895c1b817646a793f0826241d31371",
       "version_major": 2,
       "version_minor": 0
      },
      "image/png": "[encoded data removed]",
      "text/html": [
       "\n",
       "            <div style=\"display: inline-block;\">\n",
       "                <div class=\"jupyter-widgets widget-label\" style=\"text-align: center;\">\n",
       "                    Figure\n",
       "                </div>\n",
       "                <img src='data:image/png;base64,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' width=640.0/>\n",
       "            </div>\n",
       "        "
      ],
      "text/plain": [
       "Canvas(toolbar=Toolbar(toolitems=[('Home', 'Reset original view', 'home', 'home'), ('Back', 'Back to previous …"
      ]
     },
     "metadata": {},
     "output_type": "display_data"
    },
    {
     "name": "stdout",
     "output_type": "stream",
     "text": [
      "time: 10min 36s\n"
     ]
    }
   ],
   "source": [
    "df = tune(C=loguniform(1e-3, 1e3), results_df=df, n_iter=1000)"
   ]
  },
  {
   "cell_type": "code",
   "execution_count": 22,
   "metadata": {},
   "outputs": [
    {
     "name": "stdout",
     "output_type": "stream",
     "text": [
      "time: 195 ms\n"
     ]
    }
   ],
   "source": [
    "_ = gc_collect()"
   ]
  },
  {
   "cell_type": "code",
   "execution_count": 23,
   "metadata": {},
   "outputs": [
    {
     "name": "stdout",
     "output_type": "stream",
     "text": [
      "time: 14 ms\n"
     ]
    }
   ],
   "source": [
    "results_df = df\n",
    "results_df.columns = results_df.columns.astype(str)\n",
    "results_df.reset_index(drop=True).to_csv(f\"{DATA_OUT_FOLDER}/logreg_results.csv\")"
   ]
  },
  {
   "cell_type": "code",
   "execution_count": 24,
   "metadata": {},
   "outputs": [
    {
     "data": {
      "text/plain": [
       "<AxesSubplot:xlabel='param_C'>"
      ]
     },
     "execution_count": 24,
     "metadata": {},
     "output_type": "execute_result"
    },
    {
     "data": {
      "text/html": [
       "<div>\n",
       "<style scoped>\n",
       "    .dataframe tbody tr th:only-of-type {\n",
       "        vertical-align: middle;\n",
       "    }\n",
       "\n",
       "    .dataframe tbody tr th {\n",
       "        vertical-align: top;\n",
       "    }\n",
       "\n",
       "    .dataframe thead th {\n",
       "        text-align: right;\n",
       "    }\n",
       "</style>\n",
       "<table border=\"1\" class=\"dataframe\">\n",
       "  <thead>\n",
       "    <tr style=\"text-align: right;\">\n",
       "      <th></th>\n",
       "      <th>param_C</th>\n",
       "      <th>mean_test_score</th>\n",
       "    </tr>\n",
       "  </thead>\n",
       "  <tbody>\n",
       "    <tr>\n",
       "      <th>758</th>\n",
       "      <td>0.014107</td>\n",
       "      <td>-0.799010</td>\n",
       "    </tr>\n",
       "    <tr>\n",
       "      <th>753</th>\n",
       "      <td>0.014083</td>\n",
       "      <td>-0.799010</td>\n",
       "    </tr>\n",
       "    <tr>\n",
       "      <th>648</th>\n",
       "      <td>0.014036</td>\n",
       "      <td>-0.799010</td>\n",
       "    </tr>\n",
       "    <tr>\n",
       "      <th>519</th>\n",
       "      <td>0.013905</td>\n",
       "      <td>-0.799010</td>\n",
       "    </tr>\n",
       "    <tr>\n",
       "      <th>137</th>\n",
       "      <td>0.014773</td>\n",
       "      <td>-0.799010</td>\n",
       "    </tr>\n",
       "    <tr>\n",
       "      <th>249</th>\n",
       "      <td>0.013819</td>\n",
       "      <td>-0.799010</td>\n",
       "    </tr>\n",
       "    <tr>\n",
       "      <th>202</th>\n",
       "      <td>0.013751</td>\n",
       "      <td>-0.799010</td>\n",
       "    </tr>\n",
       "    <tr>\n",
       "      <th>521</th>\n",
       "      <td>0.013499</td>\n",
       "      <td>-0.799010</td>\n",
       "    </tr>\n",
       "    <tr>\n",
       "      <th>842</th>\n",
       "      <td>0.015183</td>\n",
       "      <td>-0.799010</td>\n",
       "    </tr>\n",
       "    <tr>\n",
       "      <th>105</th>\n",
       "      <td>0.015212</td>\n",
       "      <td>-0.799010</td>\n",
       "    </tr>\n",
       "    <tr>\n",
       "      <th>2</th>\n",
       "      <td>0.013456</td>\n",
       "      <td>-0.799010</td>\n",
       "    </tr>\n",
       "    <tr>\n",
       "      <th>2</th>\n",
       "      <td>0.013456</td>\n",
       "      <td>-0.799010</td>\n",
       "    </tr>\n",
       "    <tr>\n",
       "      <th>989</th>\n",
       "      <td>0.015333</td>\n",
       "      <td>-0.799010</td>\n",
       "    </tr>\n",
       "    <tr>\n",
       "      <th>770</th>\n",
       "      <td>0.015515</td>\n",
       "      <td>-0.799010</td>\n",
       "    </tr>\n",
       "    <tr>\n",
       "      <th>904</th>\n",
       "      <td>0.013171</td>\n",
       "      <td>-0.799010</td>\n",
       "    </tr>\n",
       "    <tr>\n",
       "      <th>734</th>\n",
       "      <td>0.013115</td>\n",
       "      <td>-0.799010</td>\n",
       "    </tr>\n",
       "    <tr>\n",
       "      <th>45</th>\n",
       "      <td>0.015965</td>\n",
       "      <td>-0.799010</td>\n",
       "    </tr>\n",
       "    <tr>\n",
       "      <th>578</th>\n",
       "      <td>0.015981</td>\n",
       "      <td>-0.799010</td>\n",
       "    </tr>\n",
       "    <tr>\n",
       "      <th>602</th>\n",
       "      <td>0.012937</td>\n",
       "      <td>-0.799010</td>\n",
       "    </tr>\n",
       "    <tr>\n",
       "      <th>858</th>\n",
       "      <td>0.016087</td>\n",
       "      <td>-0.799010</td>\n",
       "    </tr>\n",
       "    <tr>\n",
       "      <th>590</th>\n",
       "      <td>0.016288</td>\n",
       "      <td>-0.799010</td>\n",
       "    </tr>\n",
       "    <tr>\n",
       "      <th>408</th>\n",
       "      <td>0.012736</td>\n",
       "      <td>-0.799010</td>\n",
       "    </tr>\n",
       "    <tr>\n",
       "      <th>854</th>\n",
       "      <td>0.01261</td>\n",
       "      <td>-0.799010</td>\n",
       "    </tr>\n",
       "    <tr>\n",
       "      <th>987</th>\n",
       "      <td>0.016562</td>\n",
       "      <td>-0.799010</td>\n",
       "    </tr>\n",
       "    <tr>\n",
       "      <th>765</th>\n",
       "      <td>0.016567</td>\n",
       "      <td>-0.799010</td>\n",
       "    </tr>\n",
       "    <tr>\n",
       "      <th>0</th>\n",
       "      <td>0.016591</td>\n",
       "      <td>-0.799010</td>\n",
       "    </tr>\n",
       "    <tr>\n",
       "      <th>682</th>\n",
       "      <td>0.012529</td>\n",
       "      <td>-0.799010</td>\n",
       "    </tr>\n",
       "    <tr>\n",
       "      <th>354</th>\n",
       "      <td>0.012493</td>\n",
       "      <td>-0.799011</td>\n",
       "    </tr>\n",
       "    <tr>\n",
       "      <th>229</th>\n",
       "      <td>0.016745</td>\n",
       "      <td>-0.799011</td>\n",
       "    </tr>\n",
       "    <tr>\n",
       "      <th>797</th>\n",
       "      <td>0.012347</td>\n",
       "      <td>-0.799011</td>\n",
       "    </tr>\n",
       "    <tr>\n",
       "      <th>4</th>\n",
       "      <td>0.016987</td>\n",
       "      <td>-0.799011</td>\n",
       "    </tr>\n",
       "    <tr>\n",
       "      <th>4</th>\n",
       "      <td>0.016987</td>\n",
       "      <td>-0.799011</td>\n",
       "    </tr>\n",
       "    <tr>\n",
       "      <th>346</th>\n",
       "      <td>0.01707</td>\n",
       "      <td>-0.799011</td>\n",
       "    </tr>\n",
       "    <tr>\n",
       "      <th>422</th>\n",
       "      <td>0.012103</td>\n",
       "      <td>-0.799011</td>\n",
       "    </tr>\n",
       "    <tr>\n",
       "      <th>683</th>\n",
       "      <td>0.012026</td>\n",
       "      <td>-0.799011</td>\n",
       "    </tr>\n",
       "    <tr>\n",
       "      <th>786</th>\n",
       "      <td>0.012005</td>\n",
       "      <td>-0.799011</td>\n",
       "    </tr>\n",
       "    <tr>\n",
       "      <th>282</th>\n",
       "      <td>0.011983</td>\n",
       "      <td>-0.799011</td>\n",
       "    </tr>\n",
       "    <tr>\n",
       "      <th>822</th>\n",
       "      <td>0.017633</td>\n",
       "      <td>-0.799011</td>\n",
       "    </tr>\n",
       "    <tr>\n",
       "      <th>302</th>\n",
       "      <td>0.01768</td>\n",
       "      <td>-0.799011</td>\n",
       "    </tr>\n",
       "    <tr>\n",
       "      <th>905</th>\n",
       "      <td>0.011929</td>\n",
       "      <td>-0.799011</td>\n",
       "    </tr>\n",
       "    <tr>\n",
       "      <th>337</th>\n",
       "      <td>0.011812</td>\n",
       "      <td>-0.799011</td>\n",
       "    </tr>\n",
       "    <tr>\n",
       "      <th>146</th>\n",
       "      <td>0.018321</td>\n",
       "      <td>-0.799012</td>\n",
       "    </tr>\n",
       "    <tr>\n",
       "      <th>643</th>\n",
       "      <td>0.018357</td>\n",
       "      <td>-0.799012</td>\n",
       "    </tr>\n",
       "    <tr>\n",
       "      <th>464</th>\n",
       "      <td>0.011586</td>\n",
       "      <td>-0.799012</td>\n",
       "    </tr>\n",
       "    <tr>\n",
       "      <th>923</th>\n",
       "      <td>0.011505</td>\n",
       "      <td>-0.799012</td>\n",
       "    </tr>\n",
       "    <tr>\n",
       "      <th>967</th>\n",
       "      <td>0.018845</td>\n",
       "      <td>-0.799012</td>\n",
       "    </tr>\n",
       "    <tr>\n",
       "      <th>335</th>\n",
       "      <td>0.011424</td>\n",
       "      <td>-0.799012</td>\n",
       "    </tr>\n",
       "    <tr>\n",
       "      <th>562</th>\n",
       "      <td>0.019013</td>\n",
       "      <td>-0.799012</td>\n",
       "    </tr>\n",
       "    <tr>\n",
       "      <th>860</th>\n",
       "      <td>0.019077</td>\n",
       "      <td>-0.799012</td>\n",
       "    </tr>\n",
       "    <tr>\n",
       "      <th>301</th>\n",
       "      <td>0.011353</td>\n",
       "      <td>-0.799012</td>\n",
       "    </tr>\n",
       "    <tr>\n",
       "      <th>847</th>\n",
       "      <td>0.019231</td>\n",
       "      <td>-0.799013</td>\n",
       "    </tr>\n",
       "    <tr>\n",
       "      <th>972</th>\n",
       "      <td>0.019333</td>\n",
       "      <td>-0.799013</td>\n",
       "    </tr>\n",
       "    <tr>\n",
       "      <th>256</th>\n",
       "      <td>0.011226</td>\n",
       "      <td>-0.799013</td>\n",
       "    </tr>\n",
       "    <tr>\n",
       "      <th>139</th>\n",
       "      <td>0.011205</td>\n",
       "      <td>-0.799013</td>\n",
       "    </tr>\n",
       "    <tr>\n",
       "      <th>922</th>\n",
       "      <td>0.011124</td>\n",
       "      <td>-0.799013</td>\n",
       "    </tr>\n",
       "    <tr>\n",
       "      <th>665</th>\n",
       "      <td>0.011119</td>\n",
       "      <td>-0.799013</td>\n",
       "    </tr>\n",
       "    <tr>\n",
       "      <th>315</th>\n",
       "      <td>0.019859</td>\n",
       "      <td>-0.799013</td>\n",
       "    </tr>\n",
       "    <tr>\n",
       "      <th>119</th>\n",
       "      <td>0.011049</td>\n",
       "      <td>-0.799013</td>\n",
       "    </tr>\n",
       "    <tr>\n",
       "      <th>543</th>\n",
       "      <td>0.02018</td>\n",
       "      <td>-0.799013</td>\n",
       "    </tr>\n",
       "    <tr>\n",
       "      <th>99</th>\n",
       "      <td>0.01095</td>\n",
       "      <td>-0.799014</td>\n",
       "    </tr>\n",
       "    <tr>\n",
       "      <th>548</th>\n",
       "      <td>0.010891</td>\n",
       "      <td>-0.799014</td>\n",
       "    </tr>\n",
       "    <tr>\n",
       "      <th>970</th>\n",
       "      <td>0.010878</td>\n",
       "      <td>-0.799014</td>\n",
       "    </tr>\n",
       "    <tr>\n",
       "      <th>265</th>\n",
       "      <td>0.021037</td>\n",
       "      <td>-0.799014</td>\n",
       "    </tr>\n",
       "    <tr>\n",
       "      <th>348</th>\n",
       "      <td>0.021155</td>\n",
       "      <td>-0.799014</td>\n",
       "    </tr>\n",
       "    <tr>\n",
       "      <th>154</th>\n",
       "      <td>0.010718</td>\n",
       "      <td>-0.799014</td>\n",
       "    </tr>\n",
       "    <tr>\n",
       "      <th>76</th>\n",
       "      <td>0.02125</td>\n",
       "      <td>-0.799014</td>\n",
       "    </tr>\n",
       "    <tr>\n",
       "      <th>773</th>\n",
       "      <td>0.021338</td>\n",
       "      <td>-0.799014</td>\n",
       "    </tr>\n",
       "    <tr>\n",
       "      <th>782</th>\n",
       "      <td>0.021597</td>\n",
       "      <td>-0.799015</td>\n",
       "    </tr>\n",
       "    <tr>\n",
       "      <th>326</th>\n",
       "      <td>0.021662</td>\n",
       "      <td>-0.799015</td>\n",
       "    </tr>\n",
       "    <tr>\n",
       "      <th>840</th>\n",
       "      <td>0.021793</td>\n",
       "      <td>-0.799015</td>\n",
       "    </tr>\n",
       "    <tr>\n",
       "      <th>17</th>\n",
       "      <td>0.022497</td>\n",
       "      <td>-0.799015</td>\n",
       "    </tr>\n",
       "    <tr>\n",
       "      <th>17</th>\n",
       "      <td>0.022497</td>\n",
       "      <td>-0.799015</td>\n",
       "    </tr>\n",
       "    <tr>\n",
       "      <th>133</th>\n",
       "      <td>0.010395</td>\n",
       "      <td>-0.799016</td>\n",
       "    </tr>\n",
       "    <tr>\n",
       "      <th>39</th>\n",
       "      <td>0.022626</td>\n",
       "      <td>-0.799016</td>\n",
       "    </tr>\n",
       "    <tr>\n",
       "      <th>376</th>\n",
       "      <td>0.022886</td>\n",
       "      <td>-0.799016</td>\n",
       "    </tr>\n",
       "    <tr>\n",
       "      <th>395</th>\n",
       "      <td>0.010331</td>\n",
       "      <td>-0.799016</td>\n",
       "    </tr>\n",
       "    <tr>\n",
       "      <th>83</th>\n",
       "      <td>0.010309</td>\n",
       "      <td>-0.799016</td>\n",
       "    </tr>\n",
       "    <tr>\n",
       "      <th>746</th>\n",
       "      <td>0.023119</td>\n",
       "      <td>-0.799016</td>\n",
       "    </tr>\n",
       "    <tr>\n",
       "      <th>642</th>\n",
       "      <td>0.023265</td>\n",
       "      <td>-0.799016</td>\n",
       "    </tr>\n",
       "    <tr>\n",
       "      <th>584</th>\n",
       "      <td>0.01024</td>\n",
       "      <td>-0.799016</td>\n",
       "    </tr>\n",
       "    <tr>\n",
       "      <th>658</th>\n",
       "      <td>0.023435</td>\n",
       "      <td>-0.799016</td>\n",
       "    </tr>\n",
       "    <tr>\n",
       "      <th>367</th>\n",
       "      <td>0.023583</td>\n",
       "      <td>-0.799016</td>\n",
       "    </tr>\n",
       "    <tr>\n",
       "      <th>126</th>\n",
       "      <td>0.023879</td>\n",
       "      <td>-0.799017</td>\n",
       "    </tr>\n",
       "    <tr>\n",
       "      <th>803</th>\n",
       "      <td>0.010109</td>\n",
       "      <td>-0.799017</td>\n",
       "    </tr>\n",
       "    <tr>\n",
       "      <th>132</th>\n",
       "      <td>0.024298</td>\n",
       "      <td>-0.799017</td>\n",
       "    </tr>\n",
       "    <tr>\n",
       "      <th>696</th>\n",
       "      <td>0.010019</td>\n",
       "      <td>-0.799017</td>\n",
       "    </tr>\n",
       "    <tr>\n",
       "      <th>927</th>\n",
       "      <td>0.025052</td>\n",
       "      <td>-0.799018</td>\n",
       "    </tr>\n",
       "    <tr>\n",
       "      <th>331</th>\n",
       "      <td>0.025104</td>\n",
       "      <td>-0.799018</td>\n",
       "    </tr>\n",
       "    <tr>\n",
       "      <th>883</th>\n",
       "      <td>0.025226</td>\n",
       "      <td>-0.799018</td>\n",
       "    </tr>\n",
       "    <tr>\n",
       "      <th>595</th>\n",
       "      <td>0.026321</td>\n",
       "      <td>-0.799019</td>\n",
       "    </tr>\n",
       "    <tr>\n",
       "      <th>280</th>\n",
       "      <td>0.027083</td>\n",
       "      <td>-0.799019</td>\n",
       "    </tr>\n",
       "    <tr>\n",
       "      <th>32</th>\n",
       "      <td>0.027159</td>\n",
       "      <td>-0.799020</td>\n",
       "    </tr>\n",
       "    <tr>\n",
       "      <th>960</th>\n",
       "      <td>0.027277</td>\n",
       "      <td>-0.799020</td>\n",
       "    </tr>\n",
       "    <tr>\n",
       "      <th>58</th>\n",
       "      <td>0.009594</td>\n",
       "      <td>-0.799020</td>\n",
       "    </tr>\n",
       "    <tr>\n",
       "      <th>274</th>\n",
       "      <td>0.009592</td>\n",
       "      <td>-0.799020</td>\n",
       "    </tr>\n",
       "    <tr>\n",
       "      <th>457</th>\n",
       "      <td>0.027651</td>\n",
       "      <td>-0.799020</td>\n",
       "    </tr>\n",
       "    <tr>\n",
       "      <th>512</th>\n",
       "      <td>0.028156</td>\n",
       "      <td>-0.799020</td>\n",
       "    </tr>\n",
       "    <tr>\n",
       "      <th>805</th>\n",
       "      <td>0.028634</td>\n",
       "      <td>-0.799021</td>\n",
       "    </tr>\n",
       "    <tr>\n",
       "      <th>814</th>\n",
       "      <td>0.009429</td>\n",
       "      <td>-0.799021</td>\n",
       "    </tr>\n",
       "    <tr>\n",
       "      <th>684</th>\n",
       "      <td>0.028843</td>\n",
       "      <td>-0.799021</td>\n",
       "    </tr>\n",
       "  </tbody>\n",
       "</table>\n",
       "</div>"
      ],
      "text/plain": [
       "      param_C  mean_test_score\n",
       "758  0.014107        -0.799010\n",
       "753  0.014083        -0.799010\n",
       "648  0.014036        -0.799010\n",
       "519  0.013905        -0.799010\n",
       "137  0.014773        -0.799010\n",
       "249  0.013819        -0.799010\n",
       "202  0.013751        -0.799010\n",
       "521  0.013499        -0.799010\n",
       "842  0.015183        -0.799010\n",
       "105  0.015212        -0.799010\n",
       "2    0.013456        -0.799010\n",
       "2    0.013456        -0.799010\n",
       "989  0.015333        -0.799010\n",
       "770  0.015515        -0.799010\n",
       "904  0.013171        -0.799010\n",
       "734  0.013115        -0.799010\n",
       "45   0.015965        -0.799010\n",
       "578  0.015981        -0.799010\n",
       "602  0.012937        -0.799010\n",
       "858  0.016087        -0.799010\n",
       "590  0.016288        -0.799010\n",
       "408  0.012736        -0.799010\n",
       "854   0.01261        -0.799010\n",
       "987  0.016562        -0.799010\n",
       "765  0.016567        -0.799010\n",
       "0    0.016591        -0.799010\n",
       "682  0.012529        -0.799010\n",
       "354  0.012493        -0.799011\n",
       "229  0.016745        -0.799011\n",
       "797  0.012347        -0.799011\n",
       "4    0.016987        -0.799011\n",
       "4    0.016987        -0.799011\n",
       "346   0.01707        -0.799011\n",
       "422  0.012103        -0.799011\n",
       "683  0.012026        -0.799011\n",
       "786  0.012005        -0.799011\n",
       "282  0.011983        -0.799011\n",
       "822  0.017633        -0.799011\n",
       "302   0.01768        -0.799011\n",
       "905  0.011929        -0.799011\n",
       "337  0.011812        -0.799011\n",
       "146  0.018321        -0.799012\n",
       "643  0.018357        -0.799012\n",
       "464  0.011586        -0.799012\n",
       "923  0.011505        -0.799012\n",
       "967  0.018845        -0.799012\n",
       "335  0.011424        -0.799012\n",
       "562  0.019013        -0.799012\n",
       "860  0.019077        -0.799012\n",
       "301  0.011353        -0.799012\n",
       "847  0.019231        -0.799013\n",
       "972  0.019333        -0.799013\n",
       "256  0.011226        -0.799013\n",
       "139  0.011205        -0.799013\n",
       "922  0.011124        -0.799013\n",
       "665  0.011119        -0.799013\n",
       "315  0.019859        -0.799013\n",
       "119  0.011049        -0.799013\n",
       "543   0.02018        -0.799013\n",
       "99    0.01095        -0.799014\n",
       "548  0.010891        -0.799014\n",
       "970  0.010878        -0.799014\n",
       "265  0.021037        -0.799014\n",
       "348  0.021155        -0.799014\n",
       "154  0.010718        -0.799014\n",
       "76    0.02125        -0.799014\n",
       "773  0.021338        -0.799014\n",
       "782  0.021597        -0.799015\n",
       "326  0.021662        -0.799015\n",
       "840  0.021793        -0.799015\n",
       "17   0.022497        -0.799015\n",
       "17   0.022497        -0.799015\n",
       "133  0.010395        -0.799016\n",
       "39   0.022626        -0.799016\n",
       "376  0.022886        -0.799016\n",
       "395  0.010331        -0.799016\n",
       "83   0.010309        -0.799016\n",
       "746  0.023119        -0.799016\n",
       "642  0.023265        -0.799016\n",
       "584   0.01024        -0.799016\n",
       "658  0.023435        -0.799016\n",
       "367  0.023583        -0.799016\n",
       "126  0.023879        -0.799017\n",
       "803  0.010109        -0.799017\n",
       "132  0.024298        -0.799017\n",
       "696  0.010019        -0.799017\n",
       "927  0.025052        -0.799018\n",
       "331  0.025104        -0.799018\n",
       "883  0.025226        -0.799018\n",
       "595  0.026321        -0.799019\n",
       "280  0.027083        -0.799019\n",
       "32   0.027159        -0.799020\n",
       "960  0.027277        -0.799020\n",
       "58   0.009594        -0.799020\n",
       "274  0.009592        -0.799020\n",
       "457  0.027651        -0.799020\n",
       "512  0.028156        -0.799020\n",
       "805  0.028634        -0.799021\n",
       "814  0.009429        -0.799021\n",
       "684  0.028843        -0.799021"
      ]
     },
     "execution_count": 24,
     "metadata": {},
     "output_type": "execute_result"
    },
    {
     "data": {
      "application/vnd.jupyter.widget-view+json": {
       "model_id": "b454eb1c51c14900a075f351e8588f23",
       "version_major": 2,
       "version_minor": 0
      },
      "image/png": "[encoded data removed]",
      "text/html": [
       "\n",
       "            <div style=\"display: inline-block;\">\n",
       "                <div class=\"jupyter-widgets widget-label\" style=\"text-align: center;\">\n",
       "                    Figure\n",
       "                </div>\n",
       "                <img src='data:image/png;base64,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' width=640.0/>\n",
       "            </div>\n",
       "        "
      ],
      "text/plain": [
       "Canvas(toolbar=Toolbar(toolitems=[('Home', 'Reset original view', 'home', 'home'), ('Back', 'Back to previous …"
      ]
     },
     "metadata": {},
     "output_type": "display_data"
    },
    {
     "name": "stdout",
     "output_type": "stream",
     "text": [
      "time: 249 ms\n"
     ]
    }
   ],
   "source": [
    "results_df = results_df.sort_values(by=\"param_C\", ascending=True)\n",
    "results_df.plot(x=\"param_C\", y=\"mean_test_score\")\n",
    "df.sort_values(by=\"mean_test_score\", ascending=False).head(100)"
   ]
  },
  {
   "cell_type": "code",
   "execution_count": 25,
   "metadata": {},
   "outputs": [
    {
     "data": {
      "text/html": [
       "<div>\n",
       "<style scoped>\n",
       "    .dataframe tbody tr th:only-of-type {\n",
       "        vertical-align: middle;\n",
       "    }\n",
       "\n",
       "    .dataframe tbody tr th {\n",
       "        vertical-align: top;\n",
       "    }\n",
       "\n",
       "    .dataframe thead th {\n",
       "        text-align: right;\n",
       "    }\n",
       "</style>\n",
       "<table border=\"1\" class=\"dataframe\">\n",
       "  <thead>\n",
       "    <tr style=\"text-align: right;\">\n",
       "      <th></th>\n",
       "      <th>param_C</th>\n",
       "      <th>mean_test_score</th>\n",
       "    </tr>\n",
       "  </thead>\n",
       "  <tbody>\n",
       "    <tr>\n",
       "      <th>758</th>\n",
       "      <td>0.014107</td>\n",
       "      <td>-0.79901</td>\n",
       "    </tr>\n",
       "  </tbody>\n",
       "</table>\n",
       "</div>"
      ],
      "text/plain": [
       "      param_C  mean_test_score\n",
       "758  0.014107         -0.79901"
      ]
     },
     "execution_count": 25,
     "metadata": {},
     "output_type": "execute_result"
    },
    {
     "data": {
      "text/plain": [
       "0.014106918456367749"
      ]
     },
     "execution_count": 25,
     "metadata": {},
     "output_type": "execute_result"
    },
    {
     "name": "stdout",
     "output_type": "stream",
     "text": [
      "time: 11 ms\n"
     ]
    }
   ],
   "source": [
    "max_score = results_df.mean_test_score.max()\n",
    "results_df.loc[results_df.mean_test_score == max_score]\n",
    "results_df.loc[results_df.mean_test_score == max_score].param_C.iloc[0]"
   ]
  },
  {
   "cell_type": "markdown",
   "metadata": {},
   "source": [
    "# Discussion"
   ]
  },
  {
   "cell_type": "markdown",
   "metadata": {},
   "source": [
    "There are so many more possibilities for feature engineering. Upstream augmentation of the raw audio would probably be helpful as would resampling.\n",
    "\n",
    "It's important to be disciplined now and focus on deployment. Although there are numerous points of interest where tweaking is likely to yield better results, we are only deviating slightly from the feature engineering pathway we already established."
   ]
  },
  {
   "cell_type": "code",
   "execution_count": 26,
   "metadata": {},
   "outputs": [
    {
     "name": "stdout",
     "output_type": "stream",
     "text": [
      "Time elapsed since notebook_begin_time: 747.22256731987 s\n",
      "time: 197 ms\n"
     ]
    }
   ],
   "source": [
    "print(f\"Time elapsed since notebook_begin_time: {time() - notebook_begin_time} s\")\n",
    "_ = gc_collect()"
   ]
  },
  {
   "cell_type": "markdown",
   "metadata": {},
   "source": [
    "[^top](#Contents)"
   ]
  },
  {
   "cell_type": "code",
   "execution_count": null,
   "metadata": {},
   "outputs": [],
   "source": []
  }
 ],
 "metadata": {
  "interpreter": {
   "hash": "e1781be99c106060f3abc0c9b91d3d379f24672894e2158d4b74304109955878"
  },
  "kernelspec": {
   "display_name": "Python [conda env:capstone_pyspark_38] *",
   "language": "python",
   "name": "python3"
  },
  "language_info": {
   "codemirror_mode": {
    "name": "ipython",
    "version": 3
   },
   "file_extension": ".py",
   "mimetype": "text/x-python",
   "name": "python",
   "nbconvert_exporter": "python",
   "pygments_lexer": "ipython3",
   "version": "3.8.12"
  }
 },
 "nbformat": 4,
 "nbformat_minor": 4
}
