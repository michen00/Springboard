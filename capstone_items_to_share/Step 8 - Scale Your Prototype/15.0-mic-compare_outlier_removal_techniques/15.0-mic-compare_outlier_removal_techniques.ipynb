{
 "cells": [
  {
   "cell_type": "markdown",
   "metadata": {},
   "source": [
    "# Contents\n",
    "* [Introduction](#Introduction)\n",
    "* [Imports and configuration](#Imports-and-configuration)\n",
    "* [Data loading](#Data-loading)\n",
    "* [Setup](#Setup)\n",
    "* [Score models](#Score-models)\n",
    "* [Prediction correlation](#Prediction-correlation)\n",
    "* [Results](#Results)\n",
    "* [Discussion](#Discussion)"
   ]
  },
  {
   "cell_type": "markdown",
   "metadata": {},
   "source": [
    "# Introduction\n",
    "\n",
    "This notebook compares the multinomial classification performance of selected models trained on data with outliers removed and without."
   ]
  },
  {
   "cell_type": "markdown",
   "metadata": {},
   "source": [
    "# Imports and configuration"
   ]
  },
  {
   "cell_type": "code",
   "execution_count": 1,
   "metadata": {},
   "outputs": [],
   "source": [
    "from time import time\n",
    "\n",
    "notebook_begin_time = time()\n",
    "\n",
    "# set random seeds\n",
    "\n",
    "from os import environ\n",
    "from random import seed as random_seed\n",
    "from numpy.random import seed as np_seed\n",
    "from tensorflow.random import set_seed\n",
    "\n",
    "\n",
    "def reset_seeds(seed: int) -> None:\n",
    "    \"\"\"Utility function for resetting random seeds\"\"\"\n",
    "    environ[\"PYTHONHASHSEED\"] = str(seed)\n",
    "    random_seed(seed)\n",
    "    np_seed(seed)\n",
    "    set_seed(seed)\n",
    "\n",
    "\n",
    "reset_seeds(SEED := 2021)\n",
    "del environ\n",
    "del random_seed\n",
    "del np_seed\n",
    "del set_seed\n",
    "del reset_seeds"
   ]
  },
  {
   "cell_type": "code",
   "execution_count": 2,
   "metadata": {},
   "outputs": [],
   "source": [
    "# extensions\n",
    "%load_ext autotime\n",
    "%load_ext lab_black\n",
    "%load_ext nb_black"
   ]
  },
  {
   "cell_type": "code",
   "execution_count": 3,
   "metadata": {},
   "outputs": [
    {
     "name": "stderr",
     "output_type": "stream",
     "text": [
      "Intel(R) Extension for Scikit-learn* enabled (https://github.com/intel/scikit-learn-intelex)\n"
     ]
    },
    {
     "name": "stdout",
     "output_type": "stream",
     "text": [
      "time: 3.98 s\n"
     ]
    }
   ],
   "source": [
    "# core\n",
    "import numpy as np\n",
    "import pandas as pd\n",
    "\n",
    "# utility\n",
    "from collections import namedtuple\n",
    "from gc import collect as gc_collect\n",
    "from tqdm.notebook import tqdm\n",
    "\n",
    "# typing\n",
    "from typing import Any, Dict, List\n",
    "\n",
    "# faster pandas & sklearn\n",
    "import swifter\n",
    "from sklearnex import patch_sklearn\n",
    "\n",
    "patch_sklearn()\n",
    "del patch_sklearn\n",
    "\n",
    "# metrics\n",
    "from imblearn.metrics import geometric_mean_score\n",
    "from sklearn.metrics import (\n",
    "    accuracy_score,\n",
    "    balanced_accuracy_score,\n",
    "    f1_score,\n",
    "    roc_auc_score,\n",
    ")\n",
    "\n",
    "# classifiers\n",
    "from sklearn.linear_model import (\n",
    "    LogisticRegressionCV,\n",
    "    RidgeClassifierCV,\n",
    "    SGDClassifier,\n",
    ")\n",
    "from sklearn.naive_bayes import GaussianNB\n",
    "from sklearn.svm import LinearSVC, SVC\n",
    "\n",
    "# visualization\n",
    "from sklearn.decomposition import PCA\n",
    "import matplotlib.pyplot as plt\n",
    "import seaborn as sns\n",
    "\n",
    "sns.set_context(\"notebook\")\n",
    "%matplotlib inline\n",
    "\n",
    "# display outputs w/o print calls\n",
    "from IPython.core.interactiveshell import InteractiveShell\n",
    "\n",
    "InteractiveShell.ast_node_interactivity = \"all\"\n",
    "del InteractiveShell\n",
    "\n",
    "# hide warnings\n",
    "import warnings\n",
    "\n",
    "warnings.filterwarnings(\"ignore\")\n",
    "del warnings"
   ]
  },
  {
   "cell_type": "code",
   "execution_count": 4,
   "metadata": {},
   "outputs": [
    {
     "name": "stdout",
     "output_type": "stream",
     "text": [
      "time: 168 ms\n"
     ]
    }
   ],
   "source": [
    "# Location of cross validation data\n",
    "FRILL_FEATHERS_FOLDER = \"../10.0-mic-prepare_train-test_splits_on_full_data\"\n",
    "\n",
    "# Location where this notebook will output\n",
    "DATA_OUT_FOLDER = \".\"\n",
    "\n",
    "_ = gc_collect()"
   ]
  },
  {
   "cell_type": "markdown",
   "metadata": {},
   "source": [
    "# Setup\n",
    "\n",
    "In this section, we define some structures to keep track of models and scores."
   ]
  },
  {
   "cell_type": "code",
   "execution_count": 5,
   "metadata": {},
   "outputs": [
    {
     "name": "stdout",
     "output_type": "stream",
     "text": [
      "time: 126 ms\n"
     ]
    }
   ],
   "source": [
    "MODELS = {\n",
    "    \"GaussianNB\": lambda: GaussianNB(),\n",
    "    \"LinearSVC\": lambda: LinearSVC(random_state=SEED),\n",
    "    \"LogRegCV_b\": lambda: LogisticRegressionCV(\n",
    "        scoring=\"balanced_accuracy\",\n",
    "        class_weight=\"balanced\",\n",
    "        n_jobs=-1,\n",
    "        random_state=SEED,\n",
    "    ),\n",
    "    \"RidgeCV_b\": lambda: RidgeClassifierCV(\n",
    "        scoring=\"balanced_accuracy\", class_weight=\"balanced\"\n",
    "    ),\n",
    "    \"RidgeCV\": lambda: RidgeClassifierCV(scoring=\"balanced_accuracy\"),\n",
    "    \"SGD\": lambda: SGDClassifier(n_jobs=-1, random_state=SEED),\n",
    "    \"SGD_b\": lambda: SGDClassifier(\n",
    "        n_jobs=-1, random_state=SEED, class_weight=\"balanced\"\n",
    "    ),\n",
    "    \"SVC\": lambda: SVC(random_state=SEED),\n",
    "    \"SVC_b\": lambda: SVC(class_weight=\"balanced\", random_state=SEED),\n",
    "}\n",
    "\n",
    "_ = gc_collect()"
   ]
  },
  {
   "cell_type": "code",
   "execution_count": 6,
   "metadata": {},
   "outputs": [
    {
     "name": "stdout",
     "output_type": "stream",
     "text": [
      "time: 133 ms\n"
     ]
    }
   ],
   "source": [
    "METRICS = (\n",
    "    \"accuracy\",\n",
    "    \"adjusted_balanced_accuracy\",\n",
    "    \"balanced_accuracy\",\n",
    "    \"f1\",\n",
    "    \"geometric_mean\",\n",
    "    \"roc_auc\",\n",
    "    \"fit_time\",\n",
    "    \"predict_time\",\n",
    ")\n",
    "\n",
    "# to be cast to pd.DataFrame\n",
    "make_results = lambda: {key: [] for key in {\"model_name\", \"case\", \"LOF\", *METRICS}}\n",
    "results_ = make_results()\n",
    "\n",
    "AvgScores = namedtuple(\"AvgScores\", METRICS)\n",
    "\n",
    "\n",
    "def store_result(\n",
    "    where: Dict[str, List],\n",
    "    model_name: str,\n",
    "    case: str,\n",
    "    LOF: str,\n",
    "    avg_scores: AvgScores,\n",
    ") -> None:\n",
    "    \"Appends a model's scores and fit/predict times to the results dict.\"\n",
    "    for attribute, value in {\n",
    "        \"model_name\": model_name,\n",
    "        \"case\": case,\n",
    "        \"LOF\": LOF,\n",
    "        **avg_scores._asdict(),\n",
    "    }.items():\n",
    "        where[attribute].append(value)\n",
    "\n",
    "\n",
    "ALL_CASES = {\"ternary\"}\n",
    "\n",
    "_ = gc_collect()"
   ]
  },
  {
   "cell_type": "code",
   "execution_count": 7,
   "metadata": {},
   "outputs": [
    {
     "name": "stdout",
     "output_type": "stream",
     "text": [
      "time: 110 ms\n"
     ]
    }
   ],
   "source": [
    "predictions_ = {key: [] for key in {\"model\", \"case\", \"LOF\", \"fold\", \"y_pred\"}}\n",
    "\n",
    "Prediction = namedtuple(\"Prediction\", predictions_.keys())\n",
    "\n",
    "\n",
    "def store_prediction(where: Dict[str, List], prediction: Prediction) -> None:\n",
    "    \"Records the y_pred of a classifier on a fold\"\n",
    "    for k, v in prediction._asdict().items():\n",
    "        where[k].append(v)\n",
    "\n",
    "\n",
    "_ = gc_collect()"
   ]
  },
  {
   "cell_type": "code",
   "execution_count": 8,
   "metadata": {},
   "outputs": [
    {
     "name": "stdout",
     "output_type": "stream",
     "text": [
      "time: 126 ms\n"
     ]
    }
   ],
   "source": [
    "def print_and_append(to_append: Any, append_to: List[Any]) -> List[Any]:\n",
    "    \"\"\"Given an object and a list, pass the object to print() and then append it to the list, which is returned\"\"\"\n",
    "    print(to_append)\n",
    "    append_to.append(to_append)\n",
    "    return append_to\n",
    "\n",
    "\n",
    "def prep_y_pred(label: int) -> np.ndarray:\n",
    "    \"\"\"Prepares labels for AUROC scoring\"\"\"\n",
    "    _ = [0, 0, 0]\n",
    "    _[label] = 1\n",
    "    return np.asarray(_, dtype=np.float16)\n",
    "\n",
    "\n",
    "SUFFIX_DICT = {\n",
    "    \"minkowski\": \"LOF\",\n",
    "    \"untransformed\": \"untransformed\",\n",
    "}\n",
    "\n",
    "\n",
    "def evaluate_model(\n",
    "    model_base: str,\n",
    "    case: str = \"ternary\",\n",
    "    distance_metric: str = \"untransformed\",\n",
    "    track_fold_time: bool = True,\n",
    ") -> AvgScores:\n",
    "    \"\"\"Evaluate a model with cross validation on prepared folds.\"\"\"\n",
    "\n",
    "    (\n",
    "        fit_times,\n",
    "        predict_times,\n",
    "        accuracy,\n",
    "        adjusted_balanced_accuracy,\n",
    "        balanced_accuracy,\n",
    "        f1,\n",
    "        geometric_mean,\n",
    "        roc_auc,\n",
    "    ) = ([] for _ in range(8))\n",
    "    fold_num = 0\n",
    "    while True:\n",
    "        if track_fold_time:\n",
    "            fold_begin = time()\n",
    "\n",
    "        # helper function\n",
    "        read_feather_cv = lambda _set: pd.read_feather(\n",
    "            f\"{FRILL_FEATHERS_FOLDER}/cv_{fold_num}/{_set}_{'untransformed' if 'test' in _set else SUFFIX_DICT[distance_metric]}.feather\"\n",
    "        )\n",
    "\n",
    "        # load training data\n",
    "        try:\n",
    "            X_train: pd.DataFrame = read_feather_cv(\"X_train\")\n",
    "            y_train: pd.Series = read_feather_cv(\"y_train\").iloc[:, 0]\n",
    "        except FileNotFoundError:\n",
    "            break\n",
    "\n",
    "        # initialize model\n",
    "        model = MODELS[model_base]()\n",
    "\n",
    "        # fit\n",
    "        begin = time()\n",
    "        model.fit(X_train, y_train)\n",
    "        end = time()\n",
    "        del X_train\n",
    "        del y_train\n",
    "        _ = gc_collect()\n",
    "        fit_times.append(end - begin)\n",
    "        print(f\"fitted in {end - begin:.2f} s\")\n",
    "\n",
    "        # load test data\n",
    "        X_test = read_feather_cv(\"X_test\")\n",
    "\n",
    "        # predict\n",
    "        begin = time()\n",
    "        predicted = model.predict(X_test)\n",
    "        end = time()\n",
    "        try:\n",
    "            proba_predict = model.predict_proba(X_test)\n",
    "        except AttributeError:\n",
    "            # some classifiers do not support .predict_proba\n",
    "            proba_predict = np.stack(pd.Series(predicted).swifter.apply(prep_y_pred))\n",
    "        del X_test\n",
    "        del model\n",
    "        _ = gc_collect()\n",
    "        predict_times.append(end - begin)\n",
    "        print(f\"predicted in {end - begin:.2f} s\")\n",
    "        del end\n",
    "        del begin\n",
    "        _ = gc_collect()\n",
    "        store_prediction(\n",
    "            where=predictions_,\n",
    "            prediction=Prediction(\n",
    "                model=model_base,\n",
    "                case=case,\n",
    "                LOF=distance_metric,\n",
    "                fold=fold_num,\n",
    "                y_pred=predicted,\n",
    "            ),\n",
    "        )\n",
    "\n",
    "        # score\n",
    "        score_params = {\n",
    "            \"y_true\": read_feather_cv(\"y_test\").iloc[:, 0],\n",
    "            \"y_pred\": predicted,\n",
    "        }\n",
    "        print(\"accuracy: \", end=\"\")\n",
    "        accuracy = print_and_append(\n",
    "            to_append=accuracy_score(**score_params), append_to=accuracy\n",
    "        )\n",
    "        print(\"adjusted balanced accuracy: \", end=\"\")\n",
    "        adjusted_balanced_accuracy = print_and_append(\n",
    "            to_append=balanced_accuracy_score(**score_params, adjusted=True),\n",
    "            append_to=adjusted_balanced_accuracy,\n",
    "        )\n",
    "        print(\"balanced accuracy: \", end=\"\")\n",
    "        balanced_accuracy = print_and_append(\n",
    "            to_append=balanced_accuracy_score(**score_params),\n",
    "            append_to=balanced_accuracy,\n",
    "        )\n",
    "        print(\"f1: \", end=\"\")\n",
    "        f1 = print_and_append(\n",
    "            to_append=f1_score(**score_params, average=\"weighted\"), append_to=f1\n",
    "        )\n",
    "        print(\"geometric mean: \", end=\"\")\n",
    "        geometric_mean = print_and_append(\n",
    "            to_append=geometric_mean_score(**score_params), append_to=geometric_mean\n",
    "        )\n",
    "        print(\"roc auc: \", end=\"\")\n",
    "        roc_auc = print_and_append(\n",
    "            to_append=roc_auc_score(\n",
    "                y_true=score_params[\"y_true\"],\n",
    "                y_score=proba_predict,\n",
    "                average=\"weighted\",\n",
    "                multi_class=\"ovo\",\n",
    "            ),\n",
    "            append_to=roc_auc,\n",
    "        )\n",
    "        del score_params\n",
    "        del predicted\n",
    "        del proba_predict\n",
    "        _ = gc_collect()\n",
    "\n",
    "        if track_fold_time:\n",
    "            print(\n",
    "                f\"{model_base} fold {fold_num + 1} completed in {time() - fold_begin:.2f} s\"\n",
    "            )\n",
    "            del fold_begin\n",
    "\n",
    "        fold_num += 1\n",
    "        _ = gc_collect()\n",
    "\n",
    "    return AvgScores(\n",
    "        *[\n",
    "            np.mean(_)\n",
    "            for _ in (\n",
    "                accuracy,\n",
    "                adjusted_balanced_accuracy,\n",
    "                balanced_accuracy,\n",
    "                f1,\n",
    "                geometric_mean,\n",
    "                roc_auc,\n",
    "                fit_times,\n",
    "                predict_times,\n",
    "            )\n",
    "        ]\n",
    "    )\n",
    "\n",
    "\n",
    "case = \"ternary\"\n",
    "\n",
    "_ = gc_collect()"
   ]
  },
  {
   "cell_type": "markdown",
   "metadata": {},
   "source": [
    "# Score models"
   ]
  },
  {
   "cell_type": "code",
   "execution_count": 9,
   "metadata": {},
   "outputs": [
    {
     "data": {
      "application/vnd.jupyter.widget-view+json": {
       "model_id": "634df80b91dd42b6b7c5299e6bf78be0",
       "version_major": 2,
       "version_minor": 0
      },
      "text/plain": [
       "  0%|          | 0/9 [00:00<?, ?it/s]"
      ]
     },
     "metadata": {},
     "output_type": "display_data"
    },
    {
     "name": "stdout",
     "output_type": "stream",
     "text": [
      "evaluating GaussianNB...\n",
      "fitted in 3.38 s\n",
      "predicted in 0.71 s\n",
      "accuracy: 0.49622054246331704\n",
      "adjusted balanced accuracy: 0.1890063435112241\n",
      "balanced accuracy: 0.4593375623408161\n",
      "f1: 0.5046716807132645\n",
      "geometric mean: 0.4520970725223114\n",
      "roc auc: 0.6580272524689587\n",
      "GaussianNB fold 1 completed in 6.16 s\n",
      "fitted in 2.97 s\n",
      "predicted in 0.64 s\n",
      "accuracy: 0.5063346060395696\n",
      "adjusted balanced accuracy: 0.19400025331091633\n",
      "balanced accuracy: 0.4626668355406109\n",
      "f1: 0.5091697009715328\n",
      "geometric mean: 0.4553549166421429\n",
      "roc auc: 0.6599445579058827\n",
      "GaussianNB fold 2 completed in 5.41 s\n",
      "fitted in 2.66 s\n",
      "predicted in 1.14 s\n",
      "accuracy: 0.5046845074796832\n",
      "adjusted balanced accuracy: 0.24769728435297192\n",
      "balanced accuracy: 0.4984648562353146\n",
      "f1: 0.513563780354899\n",
      "geometric mean: 0.49481567185190584\n",
      "roc auc: 0.6897781881530166\n",
      "GaussianNB fold 3 completed in 6.26 s\n",
      "fitted in 2.58 s\n",
      "predicted in 1.62 s\n",
      "accuracy: 0.5052350963953174\n",
      "adjusted balanced accuracy: 0.2125223476999607\n",
      "balanced accuracy: 0.47501489846664047\n",
      "f1: 0.5044167438357012\n",
      "geometric mean: 0.4510212234251243\n",
      "roc auc: 0.6677354359287886\n",
      "GaussianNB fold 4 completed in 7.28 s\n",
      "fitted in 3.31 s\n",
      "predicted in 1.02 s\n",
      "accuracy: 0.4577788531333172\n",
      "adjusted balanced accuracy: 0.19000403424530343\n",
      "balanced accuracy: 0.46000268949686896\n",
      "f1: 0.45961617115823905\n",
      "geometric mean: 0.45155003009600453\n",
      "roc auc: 0.6493194776084689\n",
      "GaussianNB fold 5 completed in 6.84 s\n",
      "stored GaussianNB in 32.54 s\n",
      "evaluating GaussianNB...\n",
      "fitted in 3.78 s\n",
      "predicted in 0.80 s\n",
      "accuracy: 0.4954794723580851\n",
      "adjusted balanced accuracy: 0.187488895720884\n",
      "balanced accuracy: 0.45832593048058934\n",
      "f1: 0.5039042956534577\n",
      "geometric mean: 0.45121557339117274\n",
      "roc auc: 0.657630357210194\n",
      "GaussianNB fold 1 completed in 6.84 s\n",
      "fitted in 3.51 s\n",
      "predicted in 0.64 s\n",
      "accuracy: 0.5069420340159667\n",
      "adjusted balanced accuracy: 0.19239063803587308\n",
      "balanced accuracy: 0.46159375869058206\n",
      "f1: 0.5093814529707934\n",
      "geometric mean: 0.45368444177740136\n",
      "roc auc: 0.6595091040406892\n",
      "GaussianNB fold 2 completed in 6.31 s\n",
      "fitted in 3.37 s\n",
      "predicted in 1.27 s\n",
      "accuracy: 0.5043739323981573\n",
      "adjusted balanced accuracy: 0.24939841709085298\n",
      "balanced accuracy: 0.4995989447272353\n",
      "f1: 0.5129914353147839\n",
      "geometric mean: 0.49592554578633613\n",
      "roc auc: 0.6902028178770045\n",
      "GaussianNB fold 3 completed in 7.21 s\n",
      "fitted in 2.52 s\n",
      "predicted in 1.64 s\n",
      "accuracy: 0.5047328362245489\n",
      "adjusted balanced accuracy: 0.21324090481564498\n",
      "balanced accuracy: 0.4754939365437633\n",
      "f1: 0.5042264619168401\n",
      "geometric mean: 0.45232622701283853\n",
      "roc auc: 0.6678586348884772\n",
      "GaussianNB fold 4 completed in 7.14 s\n",
      "fitted in 3.56 s\n",
      "predicted in 0.87 s\n",
      "accuracy: 0.45590370191144447\n",
      "adjusted balanced accuracy: 0.18997846729067094\n",
      "balanced accuracy: 0.4599856448604473\n",
      "f1: 0.45693698364438096\n",
      "geometric mean: 0.450526267380465\n",
      "roc auc: 0.6493598245689962\n",
      "GaussianNB fold 5 completed in 6.89 s\n",
      "stored GaussianNB in 34.99 s\n",
      "evaluating LinearSVC...\n",
      "fitted in 733.98 s\n"
     ]
    },
    {
     "name": "stderr",
     "output_type": "stream",
     "text": [
      "Pandas Apply: 100%|██████████| 13494/13494 [00:00<00:00, 135746.65it/s]\n"
     ]
    },
    {
     "name": "stdout",
     "output_type": "stream",
     "text": [
      "predicted in 0.46 s\n",
      "accuracy: 0.639098858752038\n",
      "adjusted balanced accuracy: 0.30568245771052366\n",
      "balanced accuracy: 0.5371216384736824\n",
      "f1: 0.6167408028390293\n",
      "geometric mean: 0.48048617839331287\n",
      "roc auc: 0.6496208983032123\n",
      "LinearSVC fold 1 completed in 736.27 s\n",
      "fitted in 711.41 s\n"
     ]
    },
    {
     "name": "stderr",
     "output_type": "stream",
     "text": [
      "Pandas Apply: 100%|██████████| 11524/11524 [00:00<00:00, 149179.37it/s]\n"
     ]
    },
    {
     "name": "stdout",
     "output_type": "stream",
     "text": [
      "predicted in 0.36 s\n",
      "accuracy: 0.6567164179104478\n",
      "adjusted balanced accuracy: 0.34558971372788155\n",
      "balanced accuracy: 0.5637264758185877\n",
      "f1: 0.6409191027975828\n",
      "geometric mean: 0.5213752057787587\n",
      "roc auc: 0.6697111451426127\n",
      "LinearSVC fold 2 completed in 713.66 s\n",
      "fitted in 672.89 s\n"
     ]
    },
    {
     "name": "stderr",
     "output_type": "stream",
     "text": [
      "Pandas Apply: 100%|██████████| 19319/19319 [00:00<00:00, 203093.30it/s]\n"
     ]
    },
    {
     "name": "stdout",
     "output_type": "stream",
     "text": [
      "predicted in 0.60 s\n",
      "accuracy: 0.5939748434183963\n",
      "adjusted balanced accuracy: 0.2729722197003616\n",
      "balanced accuracy: 0.5153148131335744\n",
      "f1: 0.5784584280204564\n",
      "geometric mean: 0.4703671337459472\n",
      "roc auc: 0.6380121125450646\n",
      "LinearSVC fold 3 completed in 675.41 s\n",
      "fitted in 570.98 s\n"
     ]
    },
    {
     "name": "stderr",
     "output_type": "stream",
     "text": [
      "Pandas Apply: 100%|██████████| 25883/25883 [00:00<00:00, 190837.53it/s]\n"
     ]
    },
    {
     "name": "stdout",
     "output_type": "stream",
     "text": [
      "predicted in 0.76 s\n",
      "accuracy: 0.5951396669628713\n",
      "adjusted balanced accuracy: 0.27122552166755765\n",
      "balanced accuracy: 0.5141503477783718\n",
      "f1: 0.5769296459763249\n",
      "geometric mean: 0.45755803975488246\n",
      "roc auc: 0.6355944150364659\n",
      "LinearSVC fold 4 completed in 573.54 s\n",
      "fitted in 593.58 s\n"
     ]
    },
    {
     "name": "stderr",
     "output_type": "stream",
     "text": [
      "Pandas Apply: 100%|██████████| 16532/16532 [00:00<00:00, 191270.21it/s]\n"
     ]
    },
    {
     "name": "stdout",
     "output_type": "stream",
     "text": [
      "predicted in 0.45 s\n",
      "accuracy: 0.5759133801112993\n",
      "adjusted balanced accuracy: 0.2781712172548108\n",
      "balanced accuracy: 0.5187808115032072\n",
      "f1: 0.560035891864724\n",
      "geometric mean: 0.472515243527292\n",
      "roc auc: 0.6422619307073444\n",
      "LinearSVC fold 5 completed in 595.75 s\n",
      "stored LinearSVC in 3295.20 s\n",
      "evaluating LinearSVC...\n",
      "fitted in 656.17 s\n"
     ]
    },
    {
     "name": "stderr",
     "output_type": "stream",
     "text": [
      "Pandas Apply: 100%|██████████| 13494/13494 [00:00<00:00, 136766.49it/s]\n"
     ]
    },
    {
     "name": "stdout",
     "output_type": "stream",
     "text": [
      "predicted in 0.38 s\n",
      "accuracy: 0.638728323699422\n",
      "adjusted balanced accuracy: 0.30526641404649874\n",
      "balanced accuracy: 0.5368442760309992\n",
      "f1: 0.6163708932979308\n",
      "geometric mean: 0.4797879282011429\n",
      "roc auc: 0.6493360198678146\n",
      "LinearSVC fold 1 completed in 658.30 s\n",
      "fitted in 759.26 s\n"
     ]
    },
    {
     "name": "stderr",
     "output_type": "stream",
     "text": [
      "Pandas Apply: 100%|██████████| 11524/11524 [00:00<00:00, 252013.39it/s]\n"
     ]
    },
    {
     "name": "stdout",
     "output_type": "stream",
     "text": [
      "predicted in 0.33 s\n",
      "accuracy: 0.6557618882332523\n",
      "adjusted balanced accuracy: 0.34342574728898373\n",
      "balanced accuracy: 0.5622838315259892\n",
      "f1: 0.6399062582091437\n",
      "geometric mean: 0.5202939728090716\n",
      "roc auc: 0.6685411896483215\n",
      "LinearSVC fold 2 completed in 761.33 s\n",
      "fitted in 693.08 s\n"
     ]
    },
    {
     "name": "stderr",
     "output_type": "stream",
     "text": [
      "Pandas Apply: 100%|██████████| 19319/19319 [00:00<00:00, 210707.17it/s]\n"
     ]
    },
    {
     "name": "stdout",
     "output_type": "stream",
     "text": [
      "predicted in 0.59 s\n",
      "accuracy: 0.5958900564211398\n",
      "adjusted balanced accuracy: 0.2751812297967337\n",
      "balanced accuracy: 0.5167874865311558\n",
      "f1: 0.5801239346556453\n",
      "geometric mean: 0.4708407739723956\n",
      "roc auc: 0.6393438228184231\n",
      "LinearSVC fold 3 completed in 695.39 s\n",
      "fitted in 602.19 s\n"
     ]
    },
    {
     "name": "stderr",
     "output_type": "stream",
     "text": [
      "Pandas Apply: 100%|██████████| 25883/25883 [00:00<00:00, 155952.70it/s]\n"
     ]
    },
    {
     "name": "stdout",
     "output_type": "stream",
     "text": [
      "predicted in 0.77 s\n",
      "accuracy: 0.5951396669628713\n",
      "adjusted balanced accuracy: 0.2700720111028963\n",
      "balanced accuracy: 0.5133813407352642\n",
      "f1: 0.5765561661619625\n",
      "geometric mean: 0.45628679136375605\n",
      "roc auc: 0.634905648525858\n",
      "LinearSVC fold 4 completed in 604.73 s\n",
      "fitted in 702.41 s\n"
     ]
    },
    {
     "name": "stderr",
     "output_type": "stream",
     "text": [
      "Pandas Apply: 100%|██████████| 16532/16532 [00:00<00:00, 153899.26it/s]\n"
     ]
    },
    {
     "name": "stdout",
     "output_type": "stream",
     "text": [
      "predicted in 0.48 s\n",
      "accuracy: 0.576336801354948\n",
      "adjusted balanced accuracy: 0.279344418989732\n",
      "balanced accuracy: 0.5195629459931547\n",
      "f1: 0.5606761539111308\n",
      "geometric mean: 0.4739920936532993\n",
      "roc auc: 0.6428175336725142\n",
      "LinearSVC fold 5 completed in 704.64 s\n",
      "stored LinearSVC in 3424.94 s\n",
      "evaluating LogRegCV_b...\n",
      "fitted in 502.89 s\n",
      "predicted in 0.39 s\n",
      "accuracy: 0.5981176819327109\n",
      "adjusted balanced accuracy: 0.3897729028714103\n",
      "balanced accuracy: 0.5931819352476069\n",
      "f1: 0.6044267771061312\n",
      "geometric mean: 0.5873061334092012\n",
      "roc auc: 0.7695218424387095\n",
      "LogRegCV_b fold 1 completed in 505.46 s\n",
      "fitted in 502.93 s\n",
      "predicted in 0.33 s\n",
      "accuracy: 0.6104651162790697\n",
      "adjusted balanced accuracy: 0.41898677317806016\n",
      "balanced accuracy: 0.6126578487853734\n",
      "f1: 0.6192182298772945\n",
      "geometric mean: 0.6102447713314858\n",
      "roc auc: 0.7918100382399417\n",
      "LogRegCV_b fold 2 completed in 505.66 s\n",
      "fitted in 462.52 s\n",
      "predicted in 0.61 s\n",
      "accuracy: 0.5551529582276515\n",
      "adjusted balanced accuracy: 0.34643935377418095\n",
      "balanced accuracy: 0.5642929025161206\n",
      "f1: 0.5636903911280159\n",
      "geometric mean: 0.561429390973348\n",
      "roc auc: 0.7494471079688143\n",
      "LogRegCV_b fold 3 completed in 465.58 s\n",
      "fitted in 407.59 s\n",
      "predicted in 0.75 s\n",
      "accuracy: 0.5462658888073253\n",
      "adjusted balanced accuracy: 0.3059215568891216\n",
      "balanced accuracy: 0.5372810379260811\n",
      "f1: 0.5518548547369032\n",
      "geometric mean: 0.5282745610316778\n",
      "roc auc: 0.7385456370061049\n",
      "LogRegCV_b fold 4 completed in 411.19 s\n",
      "fitted in 483.70 s\n",
      "predicted in 0.46 s\n",
      "accuracy: 0.5438543430921848\n",
      "adjusted balanced accuracy: 0.3248045488686925\n",
      "balanced accuracy: 0.549869699245795\n",
      "f1: 0.5462830125247802\n",
      "geometric mean: 0.5426004214146651\n",
      "roc auc: 0.7422622389223514\n",
      "LogRegCV_b fold 5 completed in 486.42 s\n",
      "stored LogRegCV_b in 2374.89 s\n",
      "evaluating LogRegCV_b...\n",
      "fitted in 494.16 s\n",
      "predicted in 0.38 s\n",
      "accuracy: 0.6001185712168371\n",
      "adjusted balanced accuracy: 0.39577017691008815\n",
      "balanced accuracy: 0.5971801179400588\n",
      "f1: 0.6066960477305088\n",
      "geometric mean: 0.5919613036511221\n",
      "roc auc: 0.7705201660349286\n",
      "LogRegCV_b fold 1 completed in 497.04 s\n",
      "fitted in 521.73 s\n",
      "predicted in 0.31 s\n",
      "accuracy: 0.6104651162790697\n",
      "adjusted balanced accuracy: 0.4169217103350175\n",
      "balanced accuracy: 0.611281140223345\n",
      "f1: 0.6191206391443013\n",
      "geometric mean: 0.608861507094861\n",
      "roc auc: 0.7919399147964874\n",
      "LogRegCV_b fold 2 completed in 524.20 s\n",
      "fitted in 466.18 s\n",
      "predicted in 0.58 s\n",
      "accuracy: 0.5588798592059631\n",
      "adjusted balanced accuracy: 0.35075152805887067\n",
      "balanced accuracy: 0.5671676853725804\n",
      "f1: 0.5673174489506152\n",
      "geometric mean: 0.5640916066744001\n",
      "roc auc: 0.7511154801893267\n",
      "LogRegCV_b fold 3 completed in 469.36 s\n",
      "fitted in 420.29 s\n",
      "predicted in 0.78 s\n",
      "accuracy: 0.5475794923308736\n",
      "adjusted balanced accuracy: 0.30595469744632225\n",
      "balanced accuracy: 0.5373031316308815\n",
      "f1: 0.5532656417906096\n",
      "geometric mean: 0.5287067706940648\n",
      "roc auc: 0.7367635250775446\n",
      "LogRegCV_b fold 4 completed in 423.76 s\n",
      "fitted in 486.54 s\n",
      "predicted in 0.46 s\n",
      "accuracy: 0.5459109605613356\n",
      "adjusted balanced accuracy: 0.3285039530545006\n",
      "balanced accuracy: 0.5523359687030004\n",
      "f1: 0.54831257251826\n",
      "geometric mean: 0.5450148983548299\n",
      "roc auc: 0.7433992035029897\n",
      "LogRegCV_b fold 5 completed in 489.61 s\n",
      "stored LogRegCV_b in 2404.50 s\n",
      "evaluating RidgeCV_b...\n",
      "fitted in 36.50 s\n"
     ]
    },
    {
     "name": "stderr",
     "output_type": "stream",
     "text": [
      "Pandas Apply: 100%|██████████| 13494/13494 [00:00<00:00, 144536.99it/s]\n"
     ]
    },
    {
     "name": "stdout",
     "output_type": "stream",
     "text": [
      "predicted in 0.35 s\n",
      "accuracy: 0.59322661923818\n",
      "adjusted balanced accuracy: 0.3895152063079831\n",
      "balanced accuracy: 0.5930101375386554\n",
      "f1: 0.6000963299156395\n",
      "geometric mean: 0.5878716652687456\n",
      "roc auc: 0.6859642901472759\n",
      "RidgeCV_b fold 1 completed in 38.80 s\n",
      "fitted in 38.04 s\n"
     ]
    },
    {
     "name": "stderr",
     "output_type": "stream",
     "text": [
      "Pandas Apply: 100%|██████████| 11524/11524 [00:00<00:00, 208357.37it/s]\n"
     ]
    },
    {
     "name": "stdout",
     "output_type": "stream",
     "text": [
      "predicted in 0.32 s\n",
      "accuracy: 0.6093370357514751\n",
      "adjusted balanced accuracy: 0.4268273779131504\n",
      "balanced accuracy: 0.6178849186087669\n",
      "f1: 0.6183546281749047\n",
      "geometric mean: 0.6155120960139916\n",
      "roc auc: 0.7042834804744575\n",
      "RidgeCV_b fold 2 completed in 40.21 s\n",
      "fitted in 34.30 s\n"
     ]
    },
    {
     "name": "stderr",
     "output_type": "stream",
     "text": [
      "Pandas Apply: 100%|██████████| 19319/19319 [00:00<00:00, 180099.75it/s]\n"
     ]
    },
    {
     "name": "stdout",
     "output_type": "stream",
     "text": [
      "predicted in 0.62 s\n",
      "accuracy: 0.5540659454423107\n",
      "adjusted balanced accuracy: 0.3345841793756796\n",
      "balanced accuracy: 0.5563894529171197\n",
      "f1: 0.5621943019520276\n",
      "geometric mean: 0.5523934721959279\n",
      "roc auc: 0.6650256213365804\n",
      "RidgeCV_b fold 3 completed in 36.81 s\n",
      "fitted in 31.41 s\n"
     ]
    },
    {
     "name": "stderr",
     "output_type": "stream",
     "text": [
      "Pandas Apply: 100%|██████████| 25883/25883 [00:00<00:00, 186406.31it/s]\n"
     ]
    },
    {
     "name": "stdout",
     "output_type": "stream",
     "text": [
      "predicted in 0.78 s\n",
      "accuracy: 0.5483522002859019\n",
      "adjusted balanced accuracy: 0.3197943497234155\n",
      "balanced accuracy: 0.546529566482277\n",
      "f1: 0.553611125927502\n",
      "geometric mean: 0.5368514433728432\n",
      "roc auc: 0.6552794709850315\n",
      "RidgeCV_b fold 4 completed in 34.13 s\n",
      "fitted in 36.65 s\n"
     ]
    },
    {
     "name": "stderr",
     "output_type": "stream",
     "text": [
      "Pandas Apply: 100%|██████████| 16532/16532 [00:00<00:00, 256194.17it/s]\n"
     ]
    },
    {
     "name": "stdout",
     "output_type": "stream",
     "text": [
      "predicted in 0.50 s\n",
      "accuracy: 0.5457899830631503\n",
      "adjusted balanced accuracy: 0.3225000123217916\n",
      "balanced accuracy: 0.5483333415478611\n",
      "f1: 0.545675298274423\n",
      "geometric mean: 0.5375991129046594\n",
      "roc auc: 0.6607694959055381\n",
      "RidgeCV_b fold 5 completed in 38.90 s\n",
      "stored RidgeCV_b in 189.42 s\n",
      "evaluating RidgeCV_b...\n",
      "fitted in 38.41 s\n"
     ]
    },
    {
     "name": "stderr",
     "output_type": "stream",
     "text": [
      "Pandas Apply: 100%|██████████| 13494/13494 [00:00<00:00, 115036.23it/s]\n"
     ]
    },
    {
     "name": "stdout",
     "output_type": "stream",
     "text": [
      "predicted in 0.40 s\n",
      "accuracy: 0.5923373351119016\n",
      "adjusted balanced accuracy: 0.3898038863597013\n",
      "balanced accuracy: 0.5932025909064675\n",
      "f1: 0.5996493071383227\n",
      "geometric mean: 0.5888321871242648\n",
      "roc auc: 0.6862706666418598\n",
      "RidgeCV_b fold 1 completed in 40.63 s\n",
      "fitted in 37.96 s\n"
     ]
    },
    {
     "name": "stderr",
     "output_type": "stream",
     "text": [
      "Pandas Apply: 100%|██████████| 11524/11524 [00:00<00:00, 180164.82it/s]\n"
     ]
    },
    {
     "name": "stdout",
     "output_type": "stream",
     "text": [
      "predicted in 0.35 s\n",
      "accuracy: 0.6096841374522736\n",
      "adjusted balanced accuracy: 0.42649785252979555\n",
      "balanced accuracy: 0.6176652350198637\n",
      "f1: 0.6187799709336657\n",
      "geometric mean: 0.6153316447858247\n",
      "roc auc: 0.704324804664795\n",
      "RidgeCV_b fold 2 completed in 40.13 s\n",
      "fitted in 34.85 s\n"
     ]
    },
    {
     "name": "stderr",
     "output_type": "stream",
     "text": [
      "Pandas Apply: 100%|██████████| 19319/19319 [00:00<00:00, 166124.59it/s]\n"
     ]
    },
    {
     "name": "stdout",
     "output_type": "stream",
     "text": [
      "predicted in 0.60 s\n",
      "accuracy: 0.5559811584450541\n",
      "adjusted balanced accuracy: 0.3370892042543934\n",
      "balanced accuracy: 0.558059469502929\n",
      "f1: 0.5640155025179122\n",
      "geometric mean: 0.5535957760013144\n",
      "roc auc: 0.666468929663547\n",
      "RidgeCV_b fold 3 completed in 37.29 s\n",
      "fitted in 38.36 s\n"
     ]
    },
    {
     "name": "stderr",
     "output_type": "stream",
     "text": [
      "Pandas Apply: 100%|██████████| 25883/25883 [00:00<00:00, 145080.17it/s]\n"
     ]
    },
    {
     "name": "stdout",
     "output_type": "stream",
     "text": [
      "predicted in 0.83 s\n",
      "accuracy: 0.5497044392072017\n",
      "adjusted balanced accuracy: 0.3211137731542804\n",
      "balanced accuracy: 0.5474091821028536\n",
      "f1: 0.5548879856623364\n",
      "geometric mean: 0.5377757019365863\n",
      "roc auc: 0.6559837316163929\n",
      "RidgeCV_b fold 4 completed in 41.17 s\n",
      "fitted in 39.94 s\n"
     ]
    },
    {
     "name": "stderr",
     "output_type": "stream",
     "text": [
      "Pandas Apply: 100%|██████████| 16532/16532 [00:00<00:00, 165222.07it/s]\n"
     ]
    },
    {
     "name": "stdout",
     "output_type": "stream",
     "text": [
      "predicted in 0.46 s\n",
      "accuracy: 0.5468787805468183\n",
      "adjusted balanced accuracy: 0.32541045668705443\n",
      "balanced accuracy: 0.5502736377913696\n",
      "f1: 0.5469048441814216\n",
      "geometric mean: 0.5399374166964223\n",
      "roc auc: 0.6621347622052367\n",
      "RidgeCV_b fold 5 completed in 42.29 s\n",
      "stored RidgeCV_b in 202.10 s\n",
      "evaluating RidgeCV...\n",
      "fitted in 36.33 s\n"
     ]
    },
    {
     "name": "stderr",
     "output_type": "stream",
     "text": [
      "Pandas Apply: 100%|██████████| 13494/13494 [00:00<00:00, 169137.90it/s]\n"
     ]
    },
    {
     "name": "stdout",
     "output_type": "stream",
     "text": [
      "predicted in 0.41 s\n",
      "accuracy: 0.6402104639098859\n",
      "adjusted balanced accuracy: 0.2983021547026585\n",
      "balanced accuracy: 0.532201436468439\n",
      "f1: 0.6160088393912061\n",
      "geometric mean: 0.47356418387056265\n",
      "roc auc: 0.6465754295021213\n",
      "RidgeCV fold 1 completed in 38.53 s\n",
      "fitted in 39.09 s\n"
     ]
    },
    {
     "name": "stderr",
     "output_type": "stream",
     "text": [
      "Pandas Apply: 100%|██████████| 11524/11524 [00:00<00:00, 123530.87it/s]\n"
     ]
    },
    {
     "name": "stdout",
     "output_type": "stream",
     "text": [
      "predicted in 0.36 s\n",
      "accuracy: 0.657497396737244\n",
      "adjusted balanced accuracy: 0.33330463281349415\n",
      "balanced accuracy: 0.5555364218756628\n",
      "f1: 0.6376371877875632\n",
      "geometric mean: 0.5042336050665769\n",
      "roc auc: 0.664201955089017\n",
      "RidgeCV fold 2 completed in 41.25 s\n",
      "fitted in 33.90 s\n"
     ]
    },
    {
     "name": "stderr",
     "output_type": "stream",
     "text": [
      "Pandas Apply: 100%|██████████| 19319/19319 [00:00<00:00, 173746.02it/s]\n"
     ]
    },
    {
     "name": "stdout",
     "output_type": "stream",
     "text": [
      "predicted in 0.57 s\n",
      "accuracy: 0.5923702054971789\n",
      "adjusted balanced accuracy: 0.262506240066079\n",
      "balanced accuracy: 0.508337493377386\n",
      "f1: 0.5736568652794196\n",
      "geometric mean: 0.45586990656351356\n",
      "roc auc: 0.6330075187405808\n",
      "RidgeCV fold 3 completed in 36.26 s\n",
      "fitted in 30.57 s\n"
     ]
    },
    {
     "name": "stderr",
     "output_type": "stream",
     "text": [
      "Pandas Apply: 100%|██████████| 25883/25883 [00:00<00:00, 155923.81it/s]\n"
     ]
    },
    {
     "name": "stdout",
     "output_type": "stream",
     "text": [
      "predicted in 0.81 s\n",
      "accuracy: 0.5976123324189623\n",
      "adjusted balanced accuracy: 0.27247454573187424\n",
      "balanced accuracy: 0.5149830304879162\n",
      "f1: 0.5778795642603708\n",
      "geometric mean: 0.4545029370810986\n",
      "roc auc: 0.63605742888503\n",
      "RidgeCV fold 4 completed in 33.23 s\n",
      "fitted in 35.96 s\n"
     ]
    },
    {
     "name": "stderr",
     "output_type": "stream",
     "text": [
      "Pandas Apply: 100%|██████████| 16532/16532 [00:00<00:00, 170502.76it/s]\n"
     ]
    },
    {
     "name": "stdout",
     "output_type": "stream",
     "text": [
      "predicted in 0.47 s\n",
      "accuracy: 0.5745826276312606\n",
      "adjusted balanced accuracy: 0.26988081195006636\n",
      "balanced accuracy: 0.5132538746333776\n",
      "f1: 0.5553382590671123\n",
      "geometric mean: 0.45900209412774884\n",
      "roc auc: 0.6381642067496754\n",
      "RidgeCV fold 5 completed in 38.24 s\n",
      "stored RidgeCV in 188.09 s\n",
      "evaluating RidgeCV...\n",
      "fitted in 125.83 s\n"
     ]
    },
    {
     "name": "stderr",
     "output_type": "stream",
     "text": [
      "Pandas Apply: 100%|██████████| 13494/13494 [00:00<00:00, 214518.58it/s]\n"
     ]
    },
    {
     "name": "stdout",
     "output_type": "stream",
     "text": [
      "predicted in 0.45 s\n",
      "accuracy: 0.639098858752038\n",
      "adjusted balanced accuracy: 0.29634591205521454\n",
      "balanced accuracy: 0.5308972747034764\n",
      "f1: 0.6146846560887533\n",
      "geometric mean: 0.4712361306845223\n",
      "roc auc: 0.645541701942935\n",
      "RidgeCV fold 1 completed in 128.21 s\n",
      "fitted in 36.80 s\n"
     ]
    },
    {
     "name": "stderr",
     "output_type": "stream",
     "text": [
      "Pandas Apply: 100%|██████████| 11524/11524 [00:00<00:00, 183238.34it/s]\n"
     ]
    },
    {
     "name": "stdout",
     "output_type": "stream",
     "text": [
      "predicted in 0.30 s\n",
      "accuracy: 0.6563693162096494\n",
      "adjusted balanced accuracy: 0.33111255755568053\n",
      "balanced accuracy: 0.5540750383704537\n",
      "f1: 0.6364159988481566\n",
      "geometric mean: 0.5026971992832772\n",
      "roc auc: 0.663094898073327\n",
      "RidgeCV fold 2 completed in 38.85 s\n",
      "fitted in 32.57 s\n"
     ]
    },
    {
     "name": "stderr",
     "output_type": "stream",
     "text": [
      "Pandas Apply: 100%|██████████| 19319/19319 [00:00<00:00, 205204.09it/s]\n"
     ]
    },
    {
     "name": "stdout",
     "output_type": "stream",
     "text": [
      "predicted in 0.57 s\n",
      "accuracy: 0.5949065686629743\n",
      "adjusted balanced accuracy: 0.26582224940448274\n",
      "balanced accuracy: 0.5105481662696552\n",
      "f1: 0.5760166960107351\n",
      "geometric mean: 0.45786694446508236\n",
      "roc auc: 0.6346858791710774\n",
      "RidgeCV fold 3 completed in 34.95 s\n",
      "fitted in 29.21 s\n"
     ]
    },
    {
     "name": "stderr",
     "output_type": "stream",
     "text": [
      "Pandas Apply: 100%|██████████| 25883/25883 [00:00<00:00, 184183.67it/s]\n"
     ]
    },
    {
     "name": "stdout",
     "output_type": "stream",
     "text": [
      "predicted in 0.72 s\n",
      "accuracy: 0.5979986863964765\n",
      "adjusted balanced accuracy: 0.2715936585723215\n",
      "balanced accuracy: 0.5143957723815477\n",
      "f1: 0.5778936536098026\n",
      "geometric mean: 0.4533012317786858\n",
      "roc auc: 0.6356334197765475\n",
      "RidgeCV fold 4 completed in 31.84 s\n",
      "fitted in 37.28 s\n"
     ]
    },
    {
     "name": "stderr",
     "output_type": "stream",
     "text": [
      "Pandas Apply: 100%|██████████| 16532/16532 [00:00<00:00, 122244.46it/s]\n"
     ]
    },
    {
     "name": "stdout",
     "output_type": "stream",
     "text": [
      "predicted in 0.56 s\n",
      "accuracy: 0.5746431163803533\n",
      "adjusted balanced accuracy: 0.2705941309385602\n",
      "balanced accuracy: 0.5137294206257068\n",
      "f1: 0.5557567618523448\n",
      "geometric mean: 0.46055781982584265\n",
      "roc auc: 0.6384866490375795\n",
      "RidgeCV fold 5 completed in 39.92 s\n",
      "stored RidgeCV in 274.33 s\n",
      "evaluating SGD...\n",
      "fitted in 16.10 s\n"
     ]
    },
    {
     "name": "stderr",
     "output_type": "stream",
     "text": [
      "Pandas Apply: 100%|██████████| 13494/13494 [00:00<00:00, 130400.68it/s]\n"
     ]
    },
    {
     "name": "stdout",
     "output_type": "stream",
     "text": [
      "predicted in 0.44 s\n",
      "accuracy: 0.641396176078257\n",
      "adjusted balanced accuracy: 0.2872244686299063\n",
      "balanced accuracy: 0.5248163124199375\n",
      "f1: 0.6071653061063549\n",
      "geometric mean: 0.4370366394488166\n",
      "roc auc: 0.6409938988222417\n",
      "SGD fold 1 completed in 18.41 s\n",
      "fitted in 13.46 s\n"
     ]
    },
    {
     "name": "stderr",
     "output_type": "stream",
     "text": [
      "Pandas Apply: 100%|██████████| 11524/11524 [00:00<00:00, 134555.87it/s]\n"
     ]
    },
    {
     "name": "stdout",
     "output_type": "stream",
     "text": [
      "predicted in 0.34 s\n",
      "accuracy: 0.6563693162096494\n",
      "adjusted balanced accuracy: 0.3363134804097093\n",
      "balanced accuracy: 0.5575423202731395\n",
      "f1: 0.6318885774327865\n",
      "geometric mean: 0.48487956694430795\n",
      "roc auc: 0.6653918951534852\n",
      "SGD fold 2 completed in 15.61 s\n",
      "fitted in 11.22 s\n"
     ]
    },
    {
     "name": "stderr",
     "output_type": "stream",
     "text": [
      "Pandas Apply: 100%|██████████| 19319/19319 [00:00<00:00, 186759.16it/s]\n"
     ]
    },
    {
     "name": "stdout",
     "output_type": "stream",
     "text": [
      "predicted in 0.59 s\n",
      "accuracy: 0.6015321704021948\n",
      "adjusted balanced accuracy: 0.2785164712868428\n",
      "balanced accuracy: 0.5190109808578952\n",
      "f1: 0.5836014374293349\n",
      "geometric mean: 0.4715288758391366\n",
      "roc auc: 0.640824689636366\n",
      "SGD fold 3 completed in 13.60 s\n",
      "fitted in 12.50 s\n"
     ]
    },
    {
     "name": "stderr",
     "output_type": "stream",
     "text": [
      "Pandas Apply: 100%|██████████| 25883/25883 [00:00<00:00, 169190.37it/s]\n"
     ]
    },
    {
     "name": "stdout",
     "output_type": "stream",
     "text": [
      "predicted in 0.76 s\n",
      "accuracy: 0.5993122899200247\n",
      "adjusted balanced accuracy: 0.2604612593516277\n",
      "balanced accuracy: 0.5069741729010852\n",
      "f1: 0.5699327561210177\n",
      "geometric mean: 0.4150246638041866\n",
      "roc auc: 0.6309733346560622\n",
      "SGD fold 4 completed in 15.05 s\n",
      "fitted in 12.18 s\n"
     ]
    },
    {
     "name": "stderr",
     "output_type": "stream",
     "text": [
      "Pandas Apply: 100%|██████████| 16532/16532 [00:00<00:00, 175052.97it/s]\n"
     ]
    },
    {
     "name": "stdout",
     "output_type": "stream",
     "text": [
      "predicted in 0.45 s\n",
      "accuracy: 0.5761553351076699\n",
      "adjusted balanced accuracy: 0.26767021910206434\n",
      "balanced accuracy: 0.5117801460680429\n",
      "f1: 0.5546577117840998\n",
      "geometric mean: 0.4507794017120933\n",
      "roc auc: 0.6373551560837338\n",
      "SGD fold 5 completed in 14.40 s\n",
      "stored SGD in 77.65 s\n",
      "evaluating SGD...\n",
      "fitted in 14.62 s\n"
     ]
    },
    {
     "name": "stderr",
     "output_type": "stream",
     "text": [
      "Pandas Apply: 100%|██████████| 13494/13494 [00:00<00:00, 200617.96it/s]\n"
     ]
    },
    {
     "name": "stdout",
     "output_type": "stream",
     "text": [
      "predicted in 0.38 s\n",
      "accuracy: 0.6451015266044168\n",
      "adjusted balanced accuracy: 0.3059403420117765\n",
      "balanced accuracy: 0.5372935613411843\n",
      "f1: 0.6128434742408325\n",
      "geometric mean: 0.4505936775561119\n",
      "roc auc: 0.650111555695709\n",
      "SGD fold 1 completed in 16.74 s\n",
      "fitted in 13.76 s\n"
     ]
    },
    {
     "name": "stderr",
     "output_type": "stream",
     "text": [
      "Pandas Apply: 100%|██████████| 11524/11524 [00:00<00:00, 206135.91it/s]\n"
     ]
    },
    {
     "name": "stdout",
     "output_type": "stream",
     "text": [
      "predicted in 0.33 s\n",
      "accuracy: 0.6645262061784103\n",
      "adjusted balanced accuracy: 0.3456866292570353\n",
      "balanced accuracy: 0.5637910861713569\n",
      "f1: 0.6392581515248418\n",
      "geometric mean: 0.4904728808074313\n",
      "roc auc: 0.6706419205163869\n",
      "SGD fold 2 completed in 15.58 s\n",
      "fitted in 14.70 s\n"
     ]
    },
    {
     "name": "stderr",
     "output_type": "stream",
     "text": [
      "Pandas Apply: 100%|██████████| 19319/19319 [00:00<00:00, 179979.74it/s]\n"
     ]
    },
    {
     "name": "stdout",
     "output_type": "stream",
     "text": [
      "predicted in 0.59 s\n",
      "accuracy: 0.6031368083234122\n",
      "adjusted balanced accuracy: 0.2781969288286518\n",
      "balanced accuracy: 0.5187979525524345\n",
      "f1: 0.5832986673688089\n",
      "geometric mean: 0.4619042556047977\n",
      "roc auc: 0.641341861821717\n",
      "SGD fold 3 completed in 16.71 s\n",
      "fitted in 10.65 s\n"
     ]
    },
    {
     "name": "stderr",
     "output_type": "stream",
     "text": [
      "Pandas Apply: 100%|██████████| 25883/25883 [00:00<00:00, 204167.50it/s]\n"
     ]
    },
    {
     "name": "stdout",
     "output_type": "stream",
     "text": [
      "predicted in 0.77 s\n",
      "accuracy: 0.5980373217942279\n",
      "adjusted balanced accuracy: 0.26680370990877\n",
      "balanced accuracy: 0.5112024732725133\n",
      "f1: 0.5731978465713348\n",
      "geometric mean: 0.43413207309970686\n",
      "roc auc: 0.6331948587675356\n",
      "SGD fold 4 completed in 12.85 s\n",
      "fitted in 15.03 s\n"
     ]
    },
    {
     "name": "stderr",
     "output_type": "stream",
     "text": [
      "Pandas Apply: 100%|██████████| 16532/16532 [00:00<00:00, 152010.25it/s]\n"
     ]
    },
    {
     "name": "stdout",
     "output_type": "stream",
     "text": [
      "predicted in 0.47 s\n",
      "accuracy: 0.5789983063150254\n",
      "adjusted balanced accuracy: 0.2754373801875197\n",
      "balanced accuracy: 0.5169582534583465\n",
      "f1: 0.5581505984364413\n",
      "geometric mean: 0.45682157244431865\n",
      "roc auc: 0.6411309072661453\n",
      "SGD fold 5 completed in 16.88 s\n",
      "stored SGD in 79.32 s\n",
      "evaluating SGD_b...\n",
      "fitted in 15.99 s\n"
     ]
    },
    {
     "name": "stderr",
     "output_type": "stream",
     "text": [
      "Pandas Apply: 100%|██████████| 13494/13494 [00:00<00:00, 210654.98it/s]\n"
     ]
    },
    {
     "name": "stdout",
     "output_type": "stream",
     "text": [
      "predicted in 0.40 s\n",
      "accuracy: 0.627760486141989\n",
      "adjusted balanced accuracy: 0.35591083966753706\n",
      "balanced accuracy: 0.5706072264450247\n",
      "f1: 0.6216739433853647\n",
      "geometric mean: 0.5446600254612357\n",
      "roc auc: 0.6728340249132784\n",
      "SGD_b fold 1 completed in 17.70 s\n",
      "fitted in 17.20 s\n"
     ]
    },
    {
     "name": "stderr",
     "output_type": "stream",
     "text": [
      "Pandas Apply: 100%|██████████| 11524/11524 [00:00<00:00, 191515.12it/s]\n"
     ]
    },
    {
     "name": "stdout",
     "output_type": "stream",
     "text": [
      "predicted in 0.35 s\n",
      "accuracy: 0.6494272821936827\n",
      "adjusted balanced accuracy: 0.3867508173313687\n",
      "balanced accuracy: 0.5911672115542458\n",
      "f1: 0.6409809048465367\n",
      "geometric mean: 0.5566623625284232\n",
      "roc auc: 0.6884004408839325\n",
      "SGD_b fold 2 completed in 18.82 s\n",
      "fitted in 14.49 s\n"
     ]
    },
    {
     "name": "stderr",
     "output_type": "stream",
     "text": [
      "Pandas Apply: 100%|██████████| 19319/19319 [00:00<00:00, 176316.08it/s]\n"
     ]
    },
    {
     "name": "stdout",
     "output_type": "stream",
     "text": [
      "predicted in 0.57 s\n",
      "accuracy: 0.5769967389616439\n",
      "adjusted balanced accuracy: 0.33118559964920474\n",
      "balanced accuracy: 0.5541237330994698\n",
      "f1: 0.5813252871312222\n",
      "geometric mean: 0.5464034688826728\n",
      "roc auc: 0.6648202031839319\n",
      "SGD_b fold 3 completed in 16.49 s\n",
      "fitted in 11.27 s\n"
     ]
    },
    {
     "name": "stderr",
     "output_type": "stream",
     "text": [
      "Pandas Apply: 100%|██████████| 25883/25883 [00:00<00:00, 176003.95it/s]\n"
     ]
    },
    {
     "name": "stdout",
     "output_type": "stream",
     "text": [
      "predicted in 0.79 s\n",
      "accuracy: 0.5808832051925975\n",
      "adjusted balanced accuracy: 0.3022112857242802\n",
      "balanced accuracy: 0.5348075238161868\n",
      "f1: 0.5759380586845827\n",
      "geometric mean: 0.5046885115032163\n",
      "roc auc: 0.6491645784634708\n",
      "SGD_b fold 4 completed in 13.50 s\n",
      "fitted in 14.34 s\n"
     ]
    },
    {
     "name": "stderr",
     "output_type": "stream",
     "text": [
      "Pandas Apply: 100%|██████████| 16532/16532 [00:00<00:00, 233257.53it/s]\n"
     ]
    },
    {
     "name": "stdout",
     "output_type": "stream",
     "text": [
      "predicted in 0.48 s\n",
      "accuracy: 0.5773046213404307\n",
      "adjusted balanced accuracy: 0.32004468196325764\n",
      "balanced accuracy: 0.5466964546421718\n",
      "f1: 0.572119217925753\n",
      "geometric mean: 0.5244420879582582\n",
      "roc auc: 0.662081346044641\n",
      "SGD_b fold 5 completed in 16.14 s\n",
      "stored SGD_b in 83.26 s\n",
      "evaluating SGD_b...\n",
      "fitted in 15.05 s\n"
     ]
    },
    {
     "name": "stderr",
     "output_type": "stream",
     "text": [
      "Pandas Apply: 100%|██████████| 13494/13494 [00:00<00:00, 185578.57it/s]\n"
     ]
    },
    {
     "name": "stdout",
     "output_type": "stream",
     "text": [
      "predicted in 0.39 s\n",
      "accuracy: 0.628501556247221\n",
      "adjusted balanced accuracy: 0.35317859719672645\n",
      "balanced accuracy: 0.5687857314644843\n",
      "f1: 0.6175916382849238\n",
      "geometric mean: 0.5274883597455449\n",
      "roc auc: 0.671578301658508\n",
      "SGD_b fold 1 completed in 16.78 s\n",
      "fitted in 14.67 s\n"
     ]
    },
    {
     "name": "stderr",
     "output_type": "stream",
     "text": [
      "Pandas Apply: 100%|██████████| 11524/11524 [00:00<00:00, 144289.66it/s]\n"
     ]
    },
    {
     "name": "stdout",
     "output_type": "stream",
     "text": [
      "predicted in 0.33 s\n",
      "accuracy: 0.639795209996529\n",
      "adjusted balanced accuracy: 0.39566359502980136\n",
      "balanced accuracy: 0.5971090633532009\n",
      "f1: 0.6394446741648169\n",
      "geometric mean: 0.5811130869114908\n",
      "roc auc: 0.6922501261545166\n",
      "SGD_b fold 2 completed in 16.33 s\n",
      "fitted in 14.13 s\n"
     ]
    },
    {
     "name": "stderr",
     "output_type": "stream",
     "text": [
      "Pandas Apply: 100%|██████████| 19319/19319 [00:00<00:00, 172784.24it/s]\n"
     ]
    },
    {
     "name": "stdout",
     "output_type": "stream",
     "text": [
      "predicted in 0.60 s\n",
      "accuracy: 0.5749262384181376\n",
      "adjusted balanced accuracy: 0.3301659628439387\n",
      "balanced accuracy: 0.5534439752292925\n",
      "f1: 0.5788299495904224\n",
      "geometric mean: 0.5441473151845094\n",
      "roc auc: 0.6639456370263184\n",
      "SGD_b fold 3 completed in 16.12 s\n",
      "fitted in 13.24 s\n"
     ]
    },
    {
     "name": "stderr",
     "output_type": "stream",
     "text": [
      "Pandas Apply: 100%|██████████| 25883/25883 [00:00<00:00, 217065.47it/s]\n"
     ]
    },
    {
     "name": "stdout",
     "output_type": "stream",
     "text": [
      "predicted in 0.77 s\n",
      "accuracy: 0.5791059768960322\n",
      "adjusted balanced accuracy: 0.30295730118556446\n",
      "balanced accuracy: 0.535304867457043\n",
      "f1: 0.5754417576747891\n",
      "geometric mean: 0.5085199537115687\n",
      "roc auc: 0.6494508158161331\n",
      "SGD_b fold 4 completed in 15.49 s\n",
      "fitted in 16.32 s\n"
     ]
    },
    {
     "name": "stderr",
     "output_type": "stream",
     "text": [
      "Pandas Apply: 100%|██████████| 16532/16532 [00:00<00:00, 123001.47it/s]\n"
     ]
    },
    {
     "name": "stdout",
     "output_type": "stream",
     "text": [
      "predicted in 0.46 s\n",
      "accuracy: 0.5699854827002178\n",
      "adjusted balanced accuracy: 0.3293860532887685\n",
      "balanced accuracy: 0.5529240355258457\n",
      "f1: 0.5685848980909459\n",
      "geometric mean: 0.5395333636995105\n",
      "roc auc: 0.6658414724202892\n",
      "SGD_b fold 5 completed in 18.21 s\n",
      "stored SGD_b in 83.50 s\n",
      "evaluating SVC...\n",
      "fitted in 207.09 s\n"
     ]
    },
    {
     "name": "stderr",
     "output_type": "stream",
     "text": [
      "Pandas Apply: 100%|██████████| 13494/13494 [00:00<00:00, 146684.92it/s]\n"
     ]
    },
    {
     "name": "stdout",
     "output_type": "stream",
     "text": [
      "predicted in 23.53 s\n",
      "accuracy: 0.6718541574032904\n",
      "adjusted balanced accuracy: 0.29830869100393037\n",
      "balanced accuracy: 0.5322057940026202\n",
      "f1: 0.6262465348555051\n",
      "geometric mean: 0.4257856326590527\n",
      "roc auc: 0.6478999730403832\n",
      "SVC fold 1 completed in 232.03 s\n",
      "fitted in 208.37 s\n"
     ]
    },
    {
     "name": "stderr",
     "output_type": "stream",
     "text": [
      "Pandas Apply: 100%|██████████| 11524/11524 [00:00<00:00, 233027.00it/s]\n"
     ]
    },
    {
     "name": "stdout",
     "output_type": "stream",
     "text": [
      "predicted in 20.61 s\n",
      "accuracy: 0.6740715029503644\n",
      "adjusted balanced accuracy: 0.3505966760512127\n",
      "balanced accuracy: 0.5670644507008085\n",
      "f1: 0.650959938787121\n",
      "geometric mean: 0.5101156537369397\n",
      "roc auc: 0.6724946623334431\n",
      "SVC fold 2 completed in 230.35 s\n",
      "fitted in 165.25 s\n"
     ]
    },
    {
     "name": "stderr",
     "output_type": "stream",
     "text": [
      "Pandas Apply: 100%|██████████| 19319/19319 [00:00<00:00, 224719.99it/s]\n"
     ]
    },
    {
     "name": "stdout",
     "output_type": "stream",
     "text": [
      "predicted in 29.74 s\n",
      "accuracy: 0.6313473782286868\n",
      "adjusted balanced accuracy: 0.3070986449513068\n",
      "balanced accuracy: 0.5380657633008712\n",
      "f1: 0.604937643709592\n",
      "geometric mean: 0.46586594959836475\n",
      "roc auc: 0.6565917334713174\n",
      "SVC fold 3 completed in 196.38 s\n",
      "fitted in 137.38 s\n"
     ]
    },
    {
     "name": "stderr",
     "output_type": "stream",
     "text": [
      "Pandas Apply: 100%|██████████| 25883/25883 [00:00<00:00, 229102.57it/s]\n"
     ]
    },
    {
     "name": "stdout",
     "output_type": "stream",
     "text": [
      "predicted in 38.73 s\n",
      "accuracy: 0.6253139126067303\n",
      "adjusted balanced accuracy: 0.27544293130347025\n",
      "balanced accuracy: 0.5169619542023135\n",
      "f1: 0.5871445885410858\n",
      "geometric mean: 0.41015694798206104\n",
      "roc auc: 0.6380849567956077\n",
      "SVC fold 4 completed in 177.53 s\n",
      "fitted in 180.76 s\n"
     ]
    },
    {
     "name": "stderr",
     "output_type": "stream",
     "text": [
      "Pandas Apply: 100%|██████████| 16532/16532 [00:00<00:00, 158489.79it/s]\n"
     ]
    },
    {
     "name": "stdout",
     "output_type": "stream",
     "text": [
      "predicted in 26.48 s\n",
      "accuracy: 0.6062787321558191\n",
      "adjusted balanced accuracy: 0.2995191069481219\n",
      "balanced accuracy: 0.5330127379654146\n",
      "f1: 0.5738139099979902\n",
      "geometric mean: 0.43838303833872055\n",
      "roc auc: 0.6544872544679653\n",
      "SVC fold 5 completed in 208.62 s\n",
      "stored SVC in 1045.47 s\n",
      "evaluating SVC...\n",
      "fitted in 209.69 s\n"
     ]
    },
    {
     "name": "stderr",
     "output_type": "stream",
     "text": [
      "Pandas Apply: 100%|██████████| 13494/13494 [00:00<00:00, 193390.78it/s]\n"
     ]
    },
    {
     "name": "stdout",
     "output_type": "stream",
     "text": [
      "predicted in 24.48 s\n",
      "accuracy: 0.6719282644138136\n",
      "adjusted balanced accuracy: 0.29880184509818886\n",
      "balanced accuracy: 0.5325345633987926\n",
      "f1: 0.6267799325863956\n",
      "geometric mean: 0.42779532954987687\n",
      "roc auc: 0.6480821011480844\n",
      "SVC fold 1 completed in 235.59 s\n",
      "fitted in 221.20 s\n"
     ]
    },
    {
     "name": "stderr",
     "output_type": "stream",
     "text": [
      "Pandas Apply: 100%|██████████| 11524/11524 [00:00<00:00, 204307.88it/s]\n"
     ]
    },
    {
     "name": "stdout",
     "output_type": "stream",
     "text": [
      "predicted in 23.38 s\n",
      "accuracy: 0.6749392572023603\n",
      "adjusted balanced accuracy: 0.35194974118009376\n",
      "balanced accuracy: 0.5679664941200625\n",
      "f1: 0.651945436255946\n",
      "geometric mean: 0.5115661843414032\n",
      "roc auc: 0.6732527861687506\n",
      "SVC fold 2 completed in 246.51 s\n",
      "fitted in 175.23 s\n"
     ]
    },
    {
     "name": "stderr",
     "output_type": "stream",
     "text": [
      "Pandas Apply: 100%|██████████| 19319/19319 [00:00<00:00, 177418.26it/s]\n"
     ]
    },
    {
     "name": "stdout",
     "output_type": "stream",
     "text": [
      "predicted in 31.64 s\n",
      "accuracy: 0.6324343910140277\n",
      "adjusted balanced accuracy: 0.31037659051823313\n",
      "balanced accuracy: 0.5402510603454888\n",
      "f1: 0.6066493748137867\n",
      "geometric mean: 0.46953748941659285\n",
      "roc auc: 0.658212476333254\n",
      "SVC fold 3 completed in 208.89 s\n",
      "fitted in 141.29 s\n"
     ]
    },
    {
     "name": "stderr",
     "output_type": "stream",
     "text": [
      "Pandas Apply: 100%|██████████| 25883/25883 [00:00<00:00, 201656.50it/s]\n"
     ]
    },
    {
     "name": "stdout",
     "output_type": "stream",
     "text": [
      "predicted in 38.12 s\n",
      "accuracy: 0.6250434648224703\n",
      "adjusted balanced accuracy: 0.275986527662934\n",
      "balanced accuracy: 0.5173243517752893\n",
      "f1: 0.5878822638319176\n",
      "geometric mean: 0.4145071801335098\n",
      "roc auc: 0.6382835295625927\n",
      "SVC fold 4 completed in 181.19 s\n",
      "fitted in 190.28 s\n"
     ]
    },
    {
     "name": "stderr",
     "output_type": "stream",
     "text": [
      "Pandas Apply: 100%|██████████| 16532/16532 [00:00<00:00, 212896.67it/s]\n"
     ]
    },
    {
     "name": "stdout",
     "output_type": "stream",
     "text": [
      "predicted in 29.05 s\n",
      "accuracy: 0.6077909508831357\n",
      "adjusted balanced accuracy: 0.3038578719246164\n",
      "balanced accuracy: 0.5359052479497443\n",
      "f1: 0.5768298004952224\n",
      "geometric mean: 0.44607819896891837\n",
      "roc auc: 0.6566066903178702\n",
      "SVC fold 5 completed in 221.15 s\n",
      "stored SVC in 1093.94 s\n",
      "evaluating SVC_b...\n",
      "fitted in 207.70 s\n"
     ]
    },
    {
     "name": "stderr",
     "output_type": "stream",
     "text": [
      "Pandas Apply: 100%|██████████| 13494/13494 [00:00<00:00, 241597.93it/s]\n"
     ]
    },
    {
     "name": "stdout",
     "output_type": "stream",
     "text": [
      "predicted in 24.65 s\n",
      "accuracy: 0.6718541574032904\n",
      "adjusted balanced accuracy: 0.29830869100393037\n",
      "balanced accuracy: 0.5322057940026202\n",
      "f1: 0.6262465348555051\n",
      "geometric mean: 0.4257856326590527\n",
      "roc auc: 0.6478999730403832\n",
      "SVC_b fold 1 completed in 234.25 s\n",
      "fitted in 208.16 s\n"
     ]
    },
    {
     "name": "stderr",
     "output_type": "stream",
     "text": [
      "Pandas Apply: 100%|██████████| 11524/11524 [00:00<00:00, 192332.05it/s]\n"
     ]
    },
    {
     "name": "stdout",
     "output_type": "stream",
     "text": [
      "predicted in 21.60 s\n",
      "accuracy: 0.6740715029503644\n",
      "adjusted balanced accuracy: 0.3505966760512127\n",
      "balanced accuracy: 0.5670644507008085\n",
      "f1: 0.650959938787121\n",
      "geometric mean: 0.5101156537369397\n",
      "roc auc: 0.6724946623334431\n",
      "SVC_b fold 2 completed in 231.59 s\n",
      "fitted in 167.05 s\n"
     ]
    },
    {
     "name": "stderr",
     "output_type": "stream",
     "text": [
      "Pandas Apply: 100%|██████████| 19319/19319 [00:00<00:00, 248109.27it/s]\n"
     ]
    },
    {
     "name": "stdout",
     "output_type": "stream",
     "text": [
      "predicted in 29.56 s\n",
      "accuracy: 0.6313473782286868\n",
      "adjusted balanced accuracy: 0.3070986449513068\n",
      "balanced accuracy: 0.5380657633008712\n",
      "f1: 0.604937643709592\n",
      "geometric mean: 0.46586594959836475\n",
      "roc auc: 0.6565917334713174\n",
      "SVC_b fold 3 completed in 198.49 s\n",
      "fitted in 136.93 s\n"
     ]
    },
    {
     "name": "stderr",
     "output_type": "stream",
     "text": [
      "Pandas Apply: 100%|██████████| 25883/25883 [00:00<00:00, 212944.37it/s]\n"
     ]
    },
    {
     "name": "stdout",
     "output_type": "stream",
     "text": [
      "predicted in 37.18 s\n",
      "accuracy: 0.6253139126067303\n",
      "adjusted balanced accuracy: 0.27544293130347025\n",
      "balanced accuracy: 0.5169619542023135\n",
      "f1: 0.5871445885410858\n",
      "geometric mean: 0.41015694798206104\n",
      "roc auc: 0.6380849567956077\n",
      "SVC_b fold 4 completed in 175.95 s\n",
      "fitted in 177.59 s\n"
     ]
    },
    {
     "name": "stderr",
     "output_type": "stream",
     "text": [
      "Pandas Apply: 100%|██████████| 16532/16532 [00:00<00:00, 149014.31it/s]\n"
     ]
    },
    {
     "name": "stdout",
     "output_type": "stream",
     "text": [
      "predicted in 26.05 s\n",
      "accuracy: 0.6062787321558191\n",
      "adjusted balanced accuracy: 0.2995191069481219\n",
      "balanced accuracy: 0.5330127379654146\n",
      "f1: 0.5738139099979902\n",
      "geometric mean: 0.43838303833872055\n",
      "roc auc: 0.6544872544679653\n",
      "SVC_b fold 5 completed in 205.54 s\n",
      "stored SVC_b in 1046.41 s\n",
      "evaluating SVC_b...\n",
      "fitted in 208.66 s\n"
     ]
    },
    {
     "name": "stderr",
     "output_type": "stream",
     "text": [
      "Pandas Apply: 100%|██████████| 13494/13494 [00:00<00:00, 183875.36it/s]\n"
     ]
    },
    {
     "name": "stdout",
     "output_type": "stream",
     "text": [
      "predicted in 24.33 s\n",
      "accuracy: 0.6719282644138136\n",
      "adjusted balanced accuracy: 0.29880184509818886\n",
      "balanced accuracy: 0.5325345633987926\n",
      "f1: 0.6267799325863956\n",
      "geometric mean: 0.42779532954987687\n",
      "roc auc: 0.6480821011480844\n",
      "SVC_b fold 1 completed in 234.76 s\n",
      "fitted in 287.81 s\n"
     ]
    },
    {
     "name": "stderr",
     "output_type": "stream",
     "text": [
      "Pandas Apply: 100%|██████████| 11524/11524 [00:00<00:00, 259160.03it/s]\n"
     ]
    },
    {
     "name": "stdout",
     "output_type": "stream",
     "text": [
      "predicted in 22.68 s\n",
      "accuracy: 0.6749392572023603\n",
      "adjusted balanced accuracy: 0.35194974118009376\n",
      "balanced accuracy: 0.5679664941200625\n",
      "f1: 0.651945436255946\n",
      "geometric mean: 0.5115661843414032\n",
      "roc auc: 0.6732527861687506\n",
      "SVC_b fold 2 completed in 312.34 s\n",
      "fitted in 172.41 s\n"
     ]
    },
    {
     "name": "stderr",
     "output_type": "stream",
     "text": [
      "Pandas Apply: 100%|██████████| 19319/19319 [00:00<00:00, 243590.83it/s]\n"
     ]
    },
    {
     "name": "stdout",
     "output_type": "stream",
     "text": [
      "predicted in 31.28 s\n",
      "accuracy: 0.6324343910140277\n",
      "adjusted balanced accuracy: 0.31037659051823313\n",
      "balanced accuracy: 0.5402510603454888\n",
      "f1: 0.6066493748137867\n",
      "geometric mean: 0.46953748941659285\n",
      "roc auc: 0.658212476333254\n",
      "SVC_b fold 3 completed in 205.63 s\n",
      "fitted in 146.00 s\n"
     ]
    },
    {
     "name": "stderr",
     "output_type": "stream",
     "text": [
      "Pandas Apply: 100%|██████████| 25883/25883 [00:00<00:00, 236268.09it/s]\n"
     ]
    },
    {
     "name": "stdout",
     "output_type": "stream",
     "text": [
      "predicted in 37.88 s\n",
      "accuracy: 0.6250434648224703\n",
      "adjusted balanced accuracy: 0.275986527662934\n",
      "balanced accuracy: 0.5173243517752893\n",
      "f1: 0.5878822638319176\n",
      "geometric mean: 0.4145071801335098\n",
      "roc auc: 0.6382835295625927\n",
      "SVC_b fold 4 completed in 185.86 s\n",
      "fitted in 188.88 s\n"
     ]
    },
    {
     "name": "stderr",
     "output_type": "stream",
     "text": [
      "Pandas Apply: 100%|██████████| 16532/16532 [00:00<00:00, 217658.17it/s]\n"
     ]
    },
    {
     "name": "stdout",
     "output_type": "stream",
     "text": [
      "predicted in 27.26 s\n",
      "accuracy: 0.6077909508831357\n",
      "adjusted balanced accuracy: 0.3038578719246164\n",
      "balanced accuracy: 0.5359052479497443\n",
      "f1: 0.5768298004952224\n",
      "geometric mean: 0.44607819896891837\n",
      "roc auc: 0.6566066903178702\n",
      "SVC_b fold 5 completed in 218.01 s\n",
      "stored SVC_b in 1157.17 s\n",
      "time: 4h 44min 49s\n"
     ]
    }
   ],
   "source": [
    "for model in tqdm(MODELS):\n",
    "    for distance in {\"minkowski\", \"untransformed\"}:\n",
    "        print(f\"evaluating {model}...\")\n",
    "        eval_begin = time()\n",
    "        store_result(\n",
    "            where=results_,\n",
    "            model_name=model,\n",
    "            case=\"ternary\",\n",
    "            LOF=distance,\n",
    "            avg_scores=evaluate_model(model_base=model, distance_metric=distance),\n",
    "        )\n",
    "        print(f\"stored {model} in {time() - eval_begin:.2f} s\")\n",
    "        del eval_begin\n",
    "        _ = gc_collect()"
   ]
  },
  {
   "cell_type": "markdown",
   "metadata": {},
   "source": [
    "Let's peek at the results."
   ]
  },
  {
   "cell_type": "code",
   "execution_count": 10,
   "metadata": {},
   "outputs": [
    {
     "data": {
      "text/html": [
       "<div>\n",
       "<style scoped>\n",
       "    .dataframe tbody tr th:only-of-type {\n",
       "        vertical-align: middle;\n",
       "    }\n",
       "\n",
       "    .dataframe tbody tr th {\n",
       "        vertical-align: top;\n",
       "    }\n",
       "\n",
       "    .dataframe thead th {\n",
       "        text-align: right;\n",
       "    }\n",
       "</style>\n",
       "<table border=\"1\" class=\"dataframe\">\n",
       "  <thead>\n",
       "    <tr style=\"text-align: right;\">\n",
       "      <th></th>\n",
       "      <th>model_name</th>\n",
       "      <th>case</th>\n",
       "      <th>LOF</th>\n",
       "      <th>accuracy</th>\n",
       "      <th>adjusted_balanced_accuracy</th>\n",
       "      <th>balanced_accuracy</th>\n",
       "      <th>f1</th>\n",
       "      <th>geometric_mean</th>\n",
       "      <th>roc_auc</th>\n",
       "      <th>fit_time</th>\n",
       "      <th>predict_time</th>\n",
       "    </tr>\n",
       "  </thead>\n",
       "  <tbody>\n",
       "    <tr>\n",
       "      <th>0</th>\n",
       "      <td>SVC</td>\n",
       "      <td>ternary</td>\n",
       "      <td>untransformed</td>\n",
       "      <td>0.642427</td>\n",
       "      <td>0.308195</td>\n",
       "      <td>0.538796</td>\n",
       "      <td>0.610017</td>\n",
       "      <td>0.453897</td>\n",
       "      <td>0.654888</td>\n",
       "      <td>187.535603</td>\n",
       "      <td>29.332842</td>\n",
       "    </tr>\n",
       "    <tr>\n",
       "      <th>1</th>\n",
       "      <td>RidgeCV_b</td>\n",
       "      <td>ternary</td>\n",
       "      <td>minkowski</td>\n",
       "      <td>0.570154</td>\n",
       "      <td>0.358644</td>\n",
       "      <td>0.572429</td>\n",
       "      <td>0.575986</td>\n",
       "      <td>0.566046</td>\n",
       "      <td>0.674264</td>\n",
       "      <td>35.380149</td>\n",
       "      <td>0.515203</td>\n",
       "    </tr>\n",
       "    <tr>\n",
       "      <th>2</th>\n",
       "      <td>LogRegCV_b</td>\n",
       "      <td>ternary</td>\n",
       "      <td>minkowski</td>\n",
       "      <td>0.570771</td>\n",
       "      <td>0.357185</td>\n",
       "      <td>0.571457</td>\n",
       "      <td>0.577095</td>\n",
       "      <td>0.565971</td>\n",
       "      <td>0.758317</td>\n",
       "      <td>471.925950</td>\n",
       "      <td>0.508009</td>\n",
       "    </tr>\n",
       "    <tr>\n",
       "      <th>3</th>\n",
       "      <td>RidgeCV_b</td>\n",
       "      <td>ternary</td>\n",
       "      <td>untransformed</td>\n",
       "      <td>0.570917</td>\n",
       "      <td>0.359983</td>\n",
       "      <td>0.573322</td>\n",
       "      <td>0.576848</td>\n",
       "      <td>0.567095</td>\n",
       "      <td>0.675037</td>\n",
       "      <td>37.901860</td>\n",
       "      <td>0.527701</td>\n",
       "    </tr>\n",
       "    <tr>\n",
       "      <th>4</th>\n",
       "      <td>LogRegCV_b</td>\n",
       "      <td>ternary</td>\n",
       "      <td>untransformed</td>\n",
       "      <td>0.572591</td>\n",
       "      <td>0.359580</td>\n",
       "      <td>0.573054</td>\n",
       "      <td>0.578942</td>\n",
       "      <td>0.567727</td>\n",
       "      <td>0.758748</td>\n",
       "      <td>477.779351</td>\n",
       "      <td>0.501484</td>\n",
       "    </tr>\n",
       "    <tr>\n",
       "      <th>5</th>\n",
       "      <td>SGD_b</td>\n",
       "      <td>ternary</td>\n",
       "      <td>untransformed</td>\n",
       "      <td>0.598463</td>\n",
       "      <td>0.342270</td>\n",
       "      <td>0.561514</td>\n",
       "      <td>0.595979</td>\n",
       "      <td>0.540160</td>\n",
       "      <td>0.668613</td>\n",
       "      <td>14.681113</td>\n",
       "      <td>0.510404</td>\n",
       "    </tr>\n",
       "    <tr>\n",
       "      <th>6</th>\n",
       "      <td>SGD_b</td>\n",
       "      <td>ternary</td>\n",
       "      <td>minkowski</td>\n",
       "      <td>0.602474</td>\n",
       "      <td>0.339221</td>\n",
       "      <td>0.559480</td>\n",
       "      <td>0.598407</td>\n",
       "      <td>0.535371</td>\n",
       "      <td>0.667460</td>\n",
       "      <td>14.656479</td>\n",
       "      <td>0.516597</td>\n",
       "    </tr>\n",
       "    <tr>\n",
       "      <th>7</th>\n",
       "      <td>LinearSVC</td>\n",
       "      <td>ternary</td>\n",
       "      <td>minkowski</td>\n",
       "      <td>0.612169</td>\n",
       "      <td>0.294728</td>\n",
       "      <td>0.529819</td>\n",
       "      <td>0.594617</td>\n",
       "      <td>0.480460</td>\n",
       "      <td>0.647040</td>\n",
       "      <td>656.566056</td>\n",
       "      <td>0.528778</td>\n",
       "    </tr>\n",
       "    <tr>\n",
       "      <th>8</th>\n",
       "      <td>LinearSVC</td>\n",
       "      <td>ternary</td>\n",
       "      <td>untransformed</td>\n",
       "      <td>0.612371</td>\n",
       "      <td>0.294658</td>\n",
       "      <td>0.529772</td>\n",
       "      <td>0.594727</td>\n",
       "      <td>0.480240</td>\n",
       "      <td>0.646989</td>\n",
       "      <td>682.621377</td>\n",
       "      <td>0.508186</td>\n",
       "    </tr>\n",
       "    <tr>\n",
       "      <th>9</th>\n",
       "      <td>RidgeCV</td>\n",
       "      <td>ternary</td>\n",
       "      <td>minkowski</td>\n",
       "      <td>0.612455</td>\n",
       "      <td>0.287294</td>\n",
       "      <td>0.524862</td>\n",
       "      <td>0.592104</td>\n",
       "      <td>0.469435</td>\n",
       "      <td>0.643601</td>\n",
       "      <td>35.167885</td>\n",
       "      <td>0.521820</td>\n",
       "    </tr>\n",
       "    <tr>\n",
       "      <th>10</th>\n",
       "      <td>RidgeCV</td>\n",
       "      <td>ternary</td>\n",
       "      <td>untransformed</td>\n",
       "      <td>0.612603</td>\n",
       "      <td>0.287094</td>\n",
       "      <td>0.524729</td>\n",
       "      <td>0.592154</td>\n",
       "      <td>0.469132</td>\n",
       "      <td>0.643489</td>\n",
       "      <td>52.336691</td>\n",
       "      <td>0.519400</td>\n",
       "    </tr>\n",
       "    <tr>\n",
       "      <th>11</th>\n",
       "      <td>SGD</td>\n",
       "      <td>ternary</td>\n",
       "      <td>minkowski</td>\n",
       "      <td>0.614953</td>\n",
       "      <td>0.286037</td>\n",
       "      <td>0.524025</td>\n",
       "      <td>0.589449</td>\n",
       "      <td>0.451850</td>\n",
       "      <td>0.643108</td>\n",
       "      <td>13.091308</td>\n",
       "      <td>0.514980</td>\n",
       "    </tr>\n",
       "    <tr>\n",
       "      <th>12</th>\n",
       "      <td>SGD</td>\n",
       "      <td>ternary</td>\n",
       "      <td>untransformed</td>\n",
       "      <td>0.617960</td>\n",
       "      <td>0.294413</td>\n",
       "      <td>0.529609</td>\n",
       "      <td>0.593350</td>\n",
       "      <td>0.458785</td>\n",
       "      <td>0.647284</td>\n",
       "      <td>13.752402</td>\n",
       "      <td>0.507700</td>\n",
       "    </tr>\n",
       "    <tr>\n",
       "      <th>13</th>\n",
       "      <td>SVC</td>\n",
       "      <td>ternary</td>\n",
       "      <td>minkowski</td>\n",
       "      <td>0.641773</td>\n",
       "      <td>0.306193</td>\n",
       "      <td>0.537462</td>\n",
       "      <td>0.608621</td>\n",
       "      <td>0.450061</td>\n",
       "      <td>0.653912</td>\n",
       "      <td>179.768804</td>\n",
       "      <td>27.818121</td>\n",
       "    </tr>\n",
       "    <tr>\n",
       "      <th>14</th>\n",
       "      <td>SVC_b</td>\n",
       "      <td>ternary</td>\n",
       "      <td>minkowski</td>\n",
       "      <td>0.641773</td>\n",
       "      <td>0.306193</td>\n",
       "      <td>0.537462</td>\n",
       "      <td>0.608621</td>\n",
       "      <td>0.450061</td>\n",
       "      <td>0.653912</td>\n",
       "      <td>179.484738</td>\n",
       "      <td>27.804647</td>\n",
       "    </tr>\n",
       "    <tr>\n",
       "      <th>15</th>\n",
       "      <td>SVC_b</td>\n",
       "      <td>ternary</td>\n",
       "      <td>untransformed</td>\n",
       "      <td>0.642427</td>\n",
       "      <td>0.308195</td>\n",
       "      <td>0.538796</td>\n",
       "      <td>0.610017</td>\n",
       "      <td>0.453897</td>\n",
       "      <td>0.654888</td>\n",
       "      <td>200.751143</td>\n",
       "      <td>28.686791</td>\n",
       "    </tr>\n",
       "    <tr>\n",
       "      <th>16</th>\n",
       "      <td>GaussianNB</td>\n",
       "      <td>ternary</td>\n",
       "      <td>minkowski</td>\n",
       "      <td>0.494051</td>\n",
       "      <td>0.206646</td>\n",
       "      <td>0.471097</td>\n",
       "      <td>0.498288</td>\n",
       "      <td>0.460968</td>\n",
       "      <td>0.664961</td>\n",
       "      <td>2.978293</td>\n",
       "      <td>1.026063</td>\n",
       "    </tr>\n",
       "    <tr>\n",
       "      <th>17</th>\n",
       "      <td>GaussianNB</td>\n",
       "      <td>ternary</td>\n",
       "      <td>untransformed</td>\n",
       "      <td>0.493486</td>\n",
       "      <td>0.206499</td>\n",
       "      <td>0.471000</td>\n",
       "      <td>0.497488</td>\n",
       "      <td>0.460736</td>\n",
       "      <td>0.664912</td>\n",
       "      <td>3.348620</td>\n",
       "      <td>1.045579</td>\n",
       "    </tr>\n",
       "  </tbody>\n",
       "</table>\n",
       "</div>"
      ],
      "text/plain": [
       "    model_name     case            LOF  accuracy  adjusted_balanced_accuracy  \\\n",
       "0          SVC  ternary  untransformed  0.642427                    0.308195   \n",
       "1    RidgeCV_b  ternary      minkowski  0.570154                    0.358644   \n",
       "2   LogRegCV_b  ternary      minkowski  0.570771                    0.357185   \n",
       "3    RidgeCV_b  ternary  untransformed  0.570917                    0.359983   \n",
       "4   LogRegCV_b  ternary  untransformed  0.572591                    0.359580   \n",
       "5        SGD_b  ternary  untransformed  0.598463                    0.342270   \n",
       "6        SGD_b  ternary      minkowski  0.602474                    0.339221   \n",
       "7    LinearSVC  ternary      minkowski  0.612169                    0.294728   \n",
       "8    LinearSVC  ternary  untransformed  0.612371                    0.294658   \n",
       "9      RidgeCV  ternary      minkowski  0.612455                    0.287294   \n",
       "10     RidgeCV  ternary  untransformed  0.612603                    0.287094   \n",
       "11         SGD  ternary      minkowski  0.614953                    0.286037   \n",
       "12         SGD  ternary  untransformed  0.617960                    0.294413   \n",
       "13         SVC  ternary      minkowski  0.641773                    0.306193   \n",
       "14       SVC_b  ternary      minkowski  0.641773                    0.306193   \n",
       "15       SVC_b  ternary  untransformed  0.642427                    0.308195   \n",
       "16  GaussianNB  ternary      minkowski  0.494051                    0.206646   \n",
       "17  GaussianNB  ternary  untransformed  0.493486                    0.206499   \n",
       "\n",
       "    balanced_accuracy        f1  geometric_mean   roc_auc    fit_time  \\\n",
       "0            0.538796  0.610017        0.453897  0.654888  187.535603   \n",
       "1            0.572429  0.575986        0.566046  0.674264   35.380149   \n",
       "2            0.571457  0.577095        0.565971  0.758317  471.925950   \n",
       "3            0.573322  0.576848        0.567095  0.675037   37.901860   \n",
       "4            0.573054  0.578942        0.567727  0.758748  477.779351   \n",
       "5            0.561514  0.595979        0.540160  0.668613   14.681113   \n",
       "6            0.559480  0.598407        0.535371  0.667460   14.656479   \n",
       "7            0.529819  0.594617        0.480460  0.647040  656.566056   \n",
       "8            0.529772  0.594727        0.480240  0.646989  682.621377   \n",
       "9            0.524862  0.592104        0.469435  0.643601   35.167885   \n",
       "10           0.524729  0.592154        0.469132  0.643489   52.336691   \n",
       "11           0.524025  0.589449        0.451850  0.643108   13.091308   \n",
       "12           0.529609  0.593350        0.458785  0.647284   13.752402   \n",
       "13           0.537462  0.608621        0.450061  0.653912  179.768804   \n",
       "14           0.537462  0.608621        0.450061  0.653912  179.484738   \n",
       "15           0.538796  0.610017        0.453897  0.654888  200.751143   \n",
       "16           0.471097  0.498288        0.460968  0.664961    2.978293   \n",
       "17           0.471000  0.497488        0.460736  0.664912    3.348620   \n",
       "\n",
       "    predict_time  \n",
       "0      29.332842  \n",
       "1       0.515203  \n",
       "2       0.508009  \n",
       "3       0.527701  \n",
       "4       0.501484  \n",
       "5       0.510404  \n",
       "6       0.516597  \n",
       "7       0.528778  \n",
       "8       0.508186  \n",
       "9       0.521820  \n",
       "10      0.519400  \n",
       "11      0.514980  \n",
       "12      0.507700  \n",
       "13     27.818121  \n",
       "14     27.804647  \n",
       "15     28.686791  \n",
       "16      1.026063  \n",
       "17      1.045579  "
      ]
     },
     "execution_count": 10,
     "metadata": {},
     "output_type": "execute_result"
    },
    {
     "name": "stdout",
     "output_type": "stream",
     "text": [
      "time: 74 ms\n"
     ]
    }
   ],
   "source": [
    "def create_results_df(results_dict: Dict[str, List]) -> pd.DataFrame:\n",
    "    \"\"\"Create a results dataframe from the results dictionary\"\"\"\n",
    "    df = (\n",
    "        pd.DataFrame(results_dict)\n",
    "        .sort_values(by=[\"model_name\", \"LOF\"], ascending=True)\n",
    "        .sort_values(by=[\"fit_time\", \"predict_time\"], ascending=True)\n",
    "        .sort_values(\n",
    "            by=[\n",
    "                \"accuracy\",\n",
    "                \"adjusted_balanced_accuracy\",\n",
    "                \"balanced_accuracy\",\n",
    "                \"geometric_mean\",\n",
    "                \"f1\",\n",
    "                \"roc_auc\",\n",
    "            ],\n",
    "            ascending=False,\n",
    "        )\n",
    "        .sort_values(by=[\"case\"], ascending=True)\n",
    "        .reset_index(drop=True)\n",
    "    )[\n",
    "        [  # selection order\n",
    "            \"model_name\",\n",
    "            \"case\",\n",
    "            \"LOF\",\n",
    "            \"accuracy\",\n",
    "            \"adjusted_balanced_accuracy\",\n",
    "            \"balanced_accuracy\",\n",
    "            \"f1\",\n",
    "            \"geometric_mean\",\n",
    "            \"roc_auc\",\n",
    "            \"fit_time\",\n",
    "            \"predict_time\",\n",
    "        ]\n",
    "    ]\n",
    "    df.loc[:, \"case\"] = df.loc[:, \"case\"].astype(\"category\")\n",
    "    return df\n",
    "\n",
    "\n",
    "results_df = create_results_df(results_)\n",
    "results_df"
   ]
  },
  {
   "cell_type": "markdown",
   "metadata": {},
   "source": [
    "# Results\n",
    "\n",
    "In this section, we create several visualizations to display the results.\n",
    "\n",
    "Note that the charts depicting fit and predict times do not account for the outlier removal step."
   ]
  },
  {
   "cell_type": "code",
   "execution_count": 11,
   "metadata": {},
   "outputs": [
    {
     "name": "stdout",
     "output_type": "stream",
     "text": [
      "time: 8.96 ms\n"
     ]
    }
   ],
   "source": [
    "# save table of results\n",
    "results_df.to_csv(f\"{DATA_OUT_FOLDER}/compare_LOF_results_CV5.csv\")"
   ]
  },
  {
   "cell_type": "code",
   "execution_count": 12,
   "metadata": {},
   "outputs": [
    {
     "name": "stdout",
     "output_type": "stream",
     "text": [
      "time: 113 ms\n"
     ]
    }
   ],
   "source": [
    "METRIC_NAMES = {\n",
    "    \"accuracy\": \"Accuracy\",\n",
    "    \"adjusted_balanced_accuracy\": \"Balanced Accuracy (adjusted)\",\n",
    "    \"balanced_accuracy\": \"Balanced Accuracy\",\n",
    "    \"f1\": \"F1 Score\",\n",
    "    \"geometric_mean\": \"Geometric Mean (sensitivity & specificity)\",\n",
    "    \"roc_auc\": \"Area Under ROC Curve\",\n",
    "    \"fit_time\": \"Fit Time\",\n",
    "    \"predict_time\": \"Predict Time\",\n",
    "}\n",
    "\n",
    "_ = gc_collect()"
   ]
  },
  {
   "cell_type": "code",
   "execution_count": 13,
   "metadata": {},
   "outputs": [
    {
     "name": "stdout",
     "output_type": "stream",
     "text": [
      "time: 122 ms\n"
     ]
    }
   ],
   "source": [
    "def plot_metric(metric: str, results_df: pd.DataFrame) -> None:\n",
    "    \"\"\"Draw a barplot by binary classifier.\"\"\"\n",
    "    time_metric = \"time\" in metric\n",
    "    results_df = results_df.sort_values(by=metric, ascending=time_metric)\n",
    "\n",
    "    g = sns.catplot(\n",
    "        x=\"model_name\",\n",
    "        y=metric,\n",
    "        hue=\"LOF\",\n",
    "        data=results_df,\n",
    "        hue_order=[\"minkowski\", \"untransformed\"],\n",
    "        seed=SEED,\n",
    "        kind=\"bar\",\n",
    "        palette=\"colorblind\",\n",
    "        alpha=0.65,\n",
    "    )\n",
    "    g.fig.set_figwidth(16)\n",
    "    g.despine(**dict.fromkeys((\"left\", \"top\", \"right\"), True))\n",
    "    g.set_axis_labels(x_var=\"\", y_var=\"\")\n",
    "    sns.move_legend(\n",
    "        g,\n",
    "        \"lower center\",\n",
    "        bbox_to_anchor=(0.5, 0.85),\n",
    "        ncol=2,\n",
    "        title=None,\n",
    "    )\n",
    "\n",
    "    if not time_metric:\n",
    "        plt.ylim(0, 1)\n",
    "    plt.setp(plt.gca().patches, linewidth=0)\n",
    "\n",
    "    plt.suptitle(\n",
    "        f\"{METRIC_NAMES[metric]}{' (s)' if time_metric else ''}\", fontweight=\"bold\"\n",
    "    )\n",
    "    plt.tight_layout()\n",
    "    plt.show()\n",
    "\n",
    "\n",
    "_ = gc_collect()"
   ]
  },
  {
   "cell_type": "code",
   "execution_count": 14,
   "metadata": {},
   "outputs": [
    {
     "data": {
      "application/vnd.jupyter.widget-view+json": {
       "model_id": "6b4134828d724cd780fbdc58dbf8713d",
       "version_major": 2,
       "version_minor": 0
      },
      "text/plain": [
       "  0%|          | 0/8 [00:00<?, ?it/s]"
      ]
     },
     "metadata": {},
     "output_type": "display_data"
    },
    {
     "data": {
      "image/png": "[encoded data removed]",
      "text/plain": [
       "<Figure size 1152x360 with 1 Axes>"
      ]
     },
     "metadata": {
      "needs_background": "light"
     },
     "output_type": "display_data"
    },
    {
     "data": {
      "image/png": "[encoded data removed]",
      "text/plain": [
       "<Figure size 1152x360 with 1 Axes>"
      ]
     },
     "metadata": {
      "needs_background": "light"
     },
     "output_type": "display_data"
    },
    {
     "data": {
      "image/png": "[encoded data removed]",
      "text/plain": [
       "<Figure size 1152x360 with 1 Axes>"
      ]
     },
     "metadata": {
      "needs_background": "light"
     },
     "output_type": "display_data"
    },
    {
     "data": {
      "image/png": "[encoded data removed]",
      "text/plain": [
       "<Figure size 1152x360 with 1 Axes>"
      ]
     },
     "metadata": {
      "needs_background": "light"
     },
     "output_type": "display_data"
    },
    {
     "data": {
      "image/png": "[encoded data removed]",
      "text/plain": [
       "<Figure size 1152x360 with 1 Axes>"
      ]
     },
     "metadata": {
      "needs_background": "light"
     },
     "output_type": "display_data"
    },
    {
     "data": {
      "image/png": "[encoded data removed]",
      "text/plain": [
       "<Figure size 1152x360 with 1 Axes>"
      ]
     },
     "metadata": {
      "needs_background": "light"
     },
     "output_type": "display_data"
    },
    {
     "data": {
      "image/png": "[encoded data removed]",
      "text/plain": [
       "<Figure size 1152x360 with 1 Axes>"
      ]
     },
     "metadata": {
      "needs_background": "light"
     },
     "output_type": "display_data"
    },
    {
     "data": {
      "image/png": "[encoded data removed]",
      "text/plain": [
       "<Figure size 1152x360 with 1 Axes>"
      ]
     },
     "metadata": {
      "needs_background": "light"
     },
     "output_type": "display_data"
    },
    {
     "name": "stdout",
     "output_type": "stream",
     "text": [
      "time: 3.12 s\n"
     ]
    }
   ],
   "source": [
    "for metric in tqdm(METRICS):\n",
    "    plot_metric(metric, results_df)"
   ]
  },
  {
   "cell_type": "markdown",
   "metadata": {},
   "source": [
    "# Prediction correlations\n",
    "\n",
    "To estimate the degree of correlation between model predictions, we recorded an array of probability vector predictions per model per fold. The vectors are transformed to three columns that are reduced to one component with PCA. The absolute values of the correlation coefficients are calculated between these single components per model. These are averaged between folds for the final estimate."
   ]
  },
  {
   "cell_type": "code",
   "execution_count": 15,
   "metadata": {},
   "outputs": [
    {
     "data": {
      "text/plain": [
       "<Figure size 864x864 with 0 Axes>"
      ]
     },
     "execution_count": 15,
     "metadata": {},
     "output_type": "execute_result"
    },
    {
     "name": "stderr",
     "output_type": "stream",
     "text": [
      "Pandas Apply: 100%|██████████| 1/1 [00:00<?, ?it/s]\n",
      "Pandas Apply: 100%|██████████| 1/1 [00:00<00:00, 1010.92it/s]\n",
      "Pandas Apply: 100%|██████████| 1/1 [00:00<00:00, 997.93it/s]\n",
      "Pandas Apply: 100%|██████████| 1/1 [00:00<00:00, 996.27it/s]\n",
      "Pandas Apply: 100%|██████████| 1/1 [00:00<?, ?it/s]\n",
      "Pandas Apply: 100%|██████████| 1/1 [00:00<?, ?it/s]\n",
      "Pandas Apply: 100%|██████████| 1/1 [00:00<?, ?it/s]\n",
      "Pandas Apply: 100%|██████████| 1/1 [00:00<?, ?it/s]\n",
      "Pandas Apply: 100%|██████████| 1/1 [00:00<?, ?it/s]\n"
     ]
    },
    {
     "name": "stdout",
     "output_type": "stream",
     "text": [
      "{'GaussianNB': array([0.22187639, 0.22187639, 0.22187639, ..., 1.22187639, 1.22187639,\n",
      "       1.22187639]), 'LinearSVC': array([-0.40788499, -0.40788499, -0.40788499, ...,  1.59211501,\n",
      "        1.59211501,  1.59211501]), 'LogRegCV_b': array([-0.76767452, -0.76767452, -0.76767452, ...,  1.23232548,\n",
      "        1.23232548,  1.23232548]), 'RidgeCV_b': array([-0.78390396, -0.78390396, -0.78390396, ...,  1.21609604,\n",
      "        1.21609604,  1.21609604]), 'RidgeCV': array([-0.39276716, -0.39276716, -0.39276716, ...,  1.60723284,\n",
      "        1.60723284,  1.60723284]), 'SGD': array([-0.33874315, -0.33874315, -0.33874315, ...,  1.66125685,\n",
      "        1.66125685,  1.66125685]), 'SGD_b': array([-0.55513562, -0.55513562, -0.55513562, ...,  1.44486438,\n",
      "        1.44486438,  1.44486438]), 'SVC': array([-0.25744775, -0.25744775, -0.25744775, ...,  1.74255225,\n",
      "        1.74255225,  1.74255225]), 'SVC_b': array([-0.25744775, -0.25744775, -0.25744775, ...,  1.74255225,\n",
      "        1.74255225,  1.74255225])}\n"
     ]
    },
    {
     "name": "stderr",
     "output_type": "stream",
     "text": [
      "Pandas Apply: 100%|██████████| 1/1 [00:00<?, ?it/s]\n",
      "Pandas Apply: 100%|██████████| 1/1 [00:00<00:00, 998.88it/s]\n",
      "Pandas Apply: 100%|██████████| 1/1 [00:00<00:00, 1000.07it/s]\n",
      "Pandas Apply: 100%|██████████| 1/1 [00:00<?, ?it/s]\n",
      "Pandas Apply: 100%|██████████| 1/1 [00:00<?, ?it/s]\n",
      "Pandas Apply: 100%|██████████| 1/1 [00:00<?, ?it/s]\n",
      "Pandas Apply: 100%|██████████| 1/1 [00:00<?, ?it/s]\n",
      "Pandas Apply: 100%|██████████| 1/1 [00:00<?, ?it/s]\n",
      "Pandas Apply: 100%|██████████| 1/1 [00:00<?, ?it/s]\n"
     ]
    },
    {
     "name": "stdout",
     "output_type": "stream",
     "text": [
      "{'GaussianNB': array([-0.66608816, -0.66608816, -0.66608816, ...,  1.33391184,\n",
      "        1.33391184,  1.33391184]), 'LinearSVC': array([-0.44481083, -0.44481083, -0.44481083, ..., -0.44481083,\n",
      "        1.55518917,  1.55518917]), 'LogRegCV_b': array([-0.81542867,  1.18457133, -0.81542867, ...,  1.18457133,\n",
      "        1.18457133,  1.18457133]), 'RidgeCV_b': array([-0.83781673,  1.16218327, -0.83781673, ...,  1.16218327,\n",
      "        1.16218327,  1.16218327]), 'RidgeCV': array([-0.4127907, -0.4127907, -0.4127907, ..., -0.4127907,  1.5872093,\n",
      "        1.5872093]), 'SGD': array([-0.40168344, -0.40168344, -0.40168344, ..., -0.40168344,\n",
      "        1.59831656,  1.59831656]), 'SGD_b': array([-0.54382159, -0.54382159, -0.54382159, ...,  1.45617841,\n",
      "        1.45617841,  1.45617841]), 'SVC': array([-0.37660535,  1.62339465, -0.37660535, ...,  1.62339465,\n",
      "        1.62339465,  1.62339465]), 'SVC_b': array([-0.37660535,  1.62339465, -0.37660535, ...,  1.62339465,\n",
      "        1.62339465,  1.62339465])}\n"
     ]
    },
    {
     "name": "stderr",
     "output_type": "stream",
     "text": [
      "Pandas Apply: 100%|██████████| 1/1 [00:00<?, ?it/s]\n",
      "Pandas Apply: 100%|██████████| 1/1 [00:00<?, ?it/s]\n",
      "Pandas Apply: 100%|██████████| 1/1 [00:00<?, ?it/s]\n",
      "Pandas Apply: 100%|██████████| 1/1 [00:00<00:00, 1000.07it/s]\n",
      "Pandas Apply: 100%|██████████| 1/1 [00:00<?, ?it/s]\n",
      "Pandas Apply: 100%|██████████| 1/1 [00:00<?, ?it/s]\n",
      "Pandas Apply: 100%|██████████| 1/1 [00:00<?, ?it/s]\n",
      "Pandas Apply: 100%|██████████| 1/1 [00:00<?, ?it/s]\n",
      "Pandas Apply: 100%|██████████| 1/1 [00:00<?, ?it/s]\n"
     ]
    },
    {
     "name": "stdout",
     "output_type": "stream",
     "text": [
      "{'GaussianNB': array([-0.87701227, -0.87701227, -0.87701227, ...,  1.12298773,\n",
      "        1.12298773,  1.12298773]), 'LinearSVC': array([-0.50468451, -0.50468451, -0.50468451, ..., -0.50468451,\n",
      "        1.49531549,  1.49531549]), 'LogRegCV_b': array([ 1.07945546, -0.92054454, -0.92054454, ..., -0.92054454,\n",
      "        1.07945546,  1.07945546]), 'RidgeCV_b': array([ 1.10637197, -0.89362803, -0.89362803, ...,  1.10637197,\n",
      "        1.10637197,  1.10637197]), 'RidgeCV': array([-0.47921735, -0.47921735, -0.47921735, ..., -0.47921735,\n",
      "        1.52078265,  1.52078265]), 'SGD': array([-0.47869973, -0.47869973, -0.47869973, ..., -0.47869973,\n",
      "        1.52130027,  1.52130027]), 'SGD_b': array([-0.76748279, -0.76748279, -0.76748279, ..., -0.76748279,\n",
      "        1.23251721,  1.23251721]), 'SVC': array([-0.42119157, -0.42119157, -0.42119157, ..., -0.42119157,\n",
      "        1.57880843,  1.57880843]), 'SVC_b': array([-0.42119157, -0.42119157, -0.42119157, ..., -0.42119157,\n",
      "        1.57880843,  1.57880843])}\n"
     ]
    },
    {
     "name": "stderr",
     "output_type": "stream",
     "text": [
      "Pandas Apply: 100%|██████████| 1/1 [00:00<?, ?it/s]\n",
      "Pandas Apply: 100%|██████████| 1/1 [00:00<00:00, 137.64it/s]\n",
      "Pandas Apply: 100%|██████████| 1/1 [00:00<00:00, 1004.86it/s]\n",
      "Pandas Apply: 100%|██████████| 1/1 [00:00<?, ?it/s]\n",
      "Pandas Apply: 100%|██████████| 1/1 [00:00<?, ?it/s]\n",
      "Pandas Apply: 100%|██████████| 1/1 [00:00<?, ?it/s]\n",
      "Pandas Apply: 100%|██████████| 1/1 [00:00<?, ?it/s]\n",
      "Pandas Apply: 100%|██████████| 1/1 [00:00<?, ?it/s]\n",
      "Pandas Apply: 100%|██████████| 1/1 [00:00<?, ?it/s]\n"
     ]
    },
    {
     "name": "stdout",
     "output_type": "stream",
     "text": [
      "{'GaussianNB': array([-0.68771008, -0.68771008, -0.68771008, ...,  1.31228992,\n",
      "        1.31228992,  1.31228992]), 'LinearSVC': array([-0.48665147, -0.48665147, -0.48665147, ...,  1.51334853,\n",
      "        1.51334853,  1.51334853]), 'LogRegCV_b': array([-0.80709346, -0.80709346, -0.80709346, ...,  1.19290654,\n",
      "        1.19290654,  1.19290654]), 'RidgeCV_b': array([-0.82768613, -0.82768613, -0.82768613, ...,  1.17231387,\n",
      "        1.17231387,  1.17231387]), 'RidgeCV': array([-0.47502222, -0.47502222, -0.47502222, ...,  1.52497778,\n",
      "        1.52497778,  1.52497778]), 'SGD': array([-0.42549164, -0.42549164, -0.42549164, ...,  1.57450836,\n",
      "        1.57450836, -0.42549164]), 'SGD_b': array([-0.62855929, -0.62855929, -0.62855929, ...,  1.37144071,\n",
      "        1.37144071,  1.37144071]), 'SVC': array([-0.34914809, -0.34914809, -0.34914809, ...,  1.65085191,\n",
      "        1.65085191,  1.65085191]), 'SVC_b': array([-0.34914809, -0.34914809, -0.34914809, ...,  1.65085191,\n",
      "        1.65085191,  1.65085191])}\n"
     ]
    },
    {
     "name": "stderr",
     "output_type": "stream",
     "text": [
      "Pandas Apply: 100%|██████████| 1/1 [00:00<?, ?it/s]\n",
      "Pandas Apply: 100%|██████████| 1/1 [00:00<?, ?it/s]\n",
      "Pandas Apply: 100%|██████████| 1/1 [00:00<00:00, 998.17it/s]\n",
      "Pandas Apply: 100%|██████████| 1/1 [00:00<?, ?it/s]\n",
      "Pandas Apply: 100%|██████████| 1/1 [00:00<?, ?it/s]\n",
      "Pandas Apply: 100%|██████████| 1/1 [00:00<00:00, 1000.07it/s]\n",
      "Pandas Apply: 100%|██████████| 1/1 [00:00<00:00, 1003.66it/s]\n",
      "Pandas Apply: 100%|██████████| 1/1 [00:00<?, ?it/s]\n",
      "Pandas Apply: 100%|██████████| 1/1 [00:00<?, ?it/s]\n"
     ]
    },
    {
     "name": "stdout",
     "output_type": "stream",
     "text": [
      "{'GaussianNB': array([-0.97090491,  1.02909509, -0.97090491, ...,  1.02909509,\n",
      "        1.02909509,  1.02909509]), 'LinearSVC': array([ 1.43914832, -0.56085168, -0.56085168, ...,  1.43914832,\n",
      "        1.43914832,  1.43914832]), 'LogRegCV_b': array([ 1.02836922, -0.97163078, -0.97163078, ...,  1.02836922,\n",
      "        1.02836922,  1.02836922]), 'RidgeCV_b': array([ 1.05401645, -0.94598355, -0.94598355, ...,  1.05401645,\n",
      "        1.05401645,  1.05401645]), 'RidgeCV': array([ 1.47017905, -0.52982095, -0.52982095, ...,  1.47017905,\n",
      "        1.47017905,  1.47017905]), 'SGD': array([-0.51391241, -0.51391241, -0.51391241, ...,  1.48608759,\n",
      "        1.48608759, -0.51391241]), 'SGD_b': array([-0.73542221, -0.73542221, -0.73542221, ...,  1.26457779,\n",
      "        1.26457779,  1.26457779]), 'SVC': array([-0.46443262, -0.46443262, -0.46443262, ...,  1.53556738,\n",
      "        1.53556738,  1.53556738]), 'SVC_b': array([-0.46443262, -0.46443262, -0.46443262, ...,  1.53556738,\n",
      "        1.53556738,  1.53556738])}\n"
     ]
    },
    {
     "data": {
      "text/plain": [
       "Text(0.5, 0.98, 'prediction correlations: LOF minkowski')"
      ]
     },
     "execution_count": 15,
     "metadata": {},
     "output_type": "execute_result"
    },
    {
     "data": {
      "text/plain": [
       "(array([0.5, 1.5, 2.5, 3.5, 4.5, 5.5, 6.5, 7.5, 8.5]),\n",
       " [Text(0.5, 0, 'GaussianNB'),\n",
       "  Text(1.5, 0, 'LinearSVC'),\n",
       "  Text(2.5, 0, 'LogRegCV_b'),\n",
       "  Text(3.5, 0, 'RidgeCV_b'),\n",
       "  Text(4.5, 0, 'RidgeCV'),\n",
       "  Text(5.5, 0, 'SGD'),\n",
       "  Text(6.5, 0, 'SGD_b'),\n",
       "  Text(7.5, 0, 'SVC'),\n",
       "  Text(8.5, 0, 'SVC_b')])"
      ]
     },
     "execution_count": 15,
     "metadata": {},
     "output_type": "execute_result"
    },
    {
     "data": {
      "text/plain": [
       "(array([0.5, 1.5, 2.5, 3.5, 4.5, 5.5, 6.5, 7.5, 8.5]),\n",
       " [Text(0, 0.5, 'GaussianNB'),\n",
       "  Text(0, 1.5, 'LinearSVC'),\n",
       "  Text(0, 2.5, 'LogRegCV_b'),\n",
       "  Text(0, 3.5, 'RidgeCV'),\n",
       "  Text(0, 4.5, 'RidgeCV_b'),\n",
       "  Text(0, 5.5, 'SGD'),\n",
       "  Text(0, 6.5, 'SGD_b'),\n",
       "  Text(0, 7.5, 'SVC'),\n",
       "  Text(0, 8.5, 'SVC_b')])"
      ]
     },
     "execution_count": 15,
     "metadata": {},
     "output_type": "execute_result"
    },
    {
     "data": {
      "image/png": "[encoded data removed]",
      "text/plain": [
       "<Figure size 864x864 with 2 Axes>"
      ]
     },
     "metadata": {
      "needs_background": "light"
     },
     "output_type": "display_data"
    },
    {
     "data": {
      "text/plain": [
       "<Figure size 864x864 with 0 Axes>"
      ]
     },
     "execution_count": 15,
     "metadata": {},
     "output_type": "execute_result"
    },
    {
     "name": "stderr",
     "output_type": "stream",
     "text": [
      "Pandas Apply: 100%|██████████| 1/1 [00:00<00:00, 977.69it/s]\n",
      "Pandas Apply: 100%|██████████| 1/1 [00:00<?, ?it/s]\n",
      "Pandas Apply: 100%|██████████| 1/1 [00:00<00:00, 986.66it/s]\n",
      "Pandas Apply: 100%|██████████| 1/1 [00:00<?, ?it/s]\n",
      "Pandas Apply: 100%|██████████| 1/1 [00:00<?, ?it/s]\n",
      "Pandas Apply: 100%|██████████| 1/1 [00:00<?, ?it/s]\n",
      "Pandas Apply: 100%|██████████| 1/1 [00:00<?, ?it/s]\n",
      "Pandas Apply: 100%|██████████| 1/1 [00:00<?, ?it/s]\n",
      "Pandas Apply: 100%|██████████| 1/1 [00:00<?, ?it/s]\n"
     ]
    },
    {
     "name": "stdout",
     "output_type": "stream",
     "text": [
      "{'GaussianNB': array([0.22469246, 0.22469246, 0.22469246, ..., 1.22469246, 1.22469246,\n",
      "       1.22469246]), 'LinearSVC': array([-0.40877427, -0.40877427, -0.40877427, ...,  1.59122573,\n",
      "        1.59122573,  1.59122573]), 'LogRegCV_b': array([-0.77560397, -0.77560397, -0.77560397, ...,  1.22439603,\n",
      "        1.22439603,  1.22439603]), 'RidgeCV_b': array([-0.79242626, -0.79242626, -0.79242626, ...,  1.20757374,\n",
      "        1.20757374,  1.20757374]), 'RidgeCV': array([-0.39261894, -0.39261894, -0.39261894, ...,  1.60738106,\n",
      "        1.60738106,  1.60738106]), 'SGD': array([-0.35534312, -0.35534312, -0.35534312, ...,  1.64465688,\n",
      "        1.64465688,  1.64465688]), 'SGD_b': array([-0.51726693, -0.51726693, -0.51726693, ...,  1.48273307,\n",
      "        1.48273307,  1.48273307]), 'SVC': array([-0.25848525, -0.25848525, -0.25848525, ...,  1.74151475,\n",
      "        1.74151475,  1.74151475]), 'SVC_b': array([-0.25848525, -0.25848525, -0.25848525, ...,  1.74151475,\n",
      "        1.74151475,  1.74151475])}\n"
     ]
    },
    {
     "name": "stderr",
     "output_type": "stream",
     "text": [
      "Pandas Apply: 100%|██████████| 1/1 [00:00<?, ?it/s]\n",
      "Pandas Apply: 100%|██████████| 1/1 [00:00<00:00, 948.08it/s]\n",
      "Pandas Apply: 100%|██████████| 1/1 [00:00<00:00, 1000.79it/s]\n",
      "Pandas Apply: 100%|██████████| 1/1 [00:00<?, ?it/s]\n",
      "Pandas Apply: 100%|██████████| 1/1 [00:00<?, ?it/s]\n",
      "Pandas Apply: 100%|██████████| 1/1 [00:00<?, ?it/s]\n",
      "Pandas Apply: 100%|██████████| 1/1 [00:00<?, ?it/s]\n",
      "Pandas Apply: 100%|██████████| 1/1 [00:00<?, ?it/s]\n",
      "Pandas Apply: 100%|██████████| 1/1 [00:00<?, ?it/s]\n"
     ]
    },
    {
     "name": "stdout",
     "output_type": "stream",
     "text": [
      "{'GaussianNB': array([-0.6578445, -0.6578445, -0.6578445, ...,  1.3421555,  1.3421555,\n",
      "        1.3421555]), 'LinearSVC': array([-0.44342242, -0.44342242, -0.44342242, ..., -0.44342242,\n",
      "        1.55657758,  1.55657758]), 'LogRegCV_b': array([-0.8107428,  1.1892572, -0.8107428, ...,  1.1892572,  1.1892572,\n",
      "        1.1892572]), 'RidgeCV_b': array([-0.83703575,  1.16296425, -0.83703575, ...,  1.16296425,\n",
      "        1.16296425,  1.16296425]), 'RidgeCV': array([-0.41218327, -0.41218327, -0.41218327, ..., -0.41218327,\n",
      "        1.58781673,  1.58781673]), 'SGD': array([-0.39361333, -0.39361333, -0.39361333, ..., -0.39361333,\n",
      "        1.60638667,  1.60638667]), 'SGD_b': array([-0.62929538, -0.62929538, -0.62929538, ...,  1.37070462,\n",
      "        1.37070462,  1.37070462]), 'SVC': array([-0.37695245,  1.62304755, -0.37695245, ...,  1.62304755,\n",
      "        1.62304755,  1.62304755]), 'SVC_b': array([-0.37695245,  1.62304755, -0.37695245, ...,  1.62304755,\n",
      "        1.62304755,  1.62304755])}\n"
     ]
    },
    {
     "name": "stderr",
     "output_type": "stream",
     "text": [
      "Pandas Apply: 100%|██████████| 1/1 [00:00<?, ?it/s]\n",
      "Pandas Apply: 100%|██████████| 1/1 [00:00<?, ?it/s]\n",
      "Pandas Apply: 100%|██████████| 1/1 [00:00<?, ?it/s]\n",
      "Pandas Apply: 100%|██████████| 1/1 [00:00<00:00, 998.41it/s]\n",
      "Pandas Apply: 100%|██████████| 1/1 [00:00<?, ?it/s]\n",
      "Pandas Apply: 100%|██████████| 1/1 [00:00<?, ?it/s]\n",
      "Pandas Apply: 100%|██████████| 1/1 [00:00<?, ?it/s]\n",
      "Pandas Apply: 100%|██████████| 1/1 [00:00<?, ?it/s]\n",
      "Pandas Apply: 100%|██████████| 1/1 [00:00<?, ?it/s]\n"
     ]
    },
    {
     "name": "stdout",
     "output_type": "stream",
     "text": [
      "{'GaussianNB': array([-0.88001449, -0.88001449, -0.88001449, ...,  1.11998551,\n",
      "        1.11998551,  1.11998551]), 'LinearSVC': array([-0.50370102, -0.50370102, -0.50370102, ..., -0.50370102,\n",
      "        1.49629898,  1.49629898]), 'LogRegCV_b': array([ 1.08411408, -0.91588592, -0.91588592, ..., -0.91588592,\n",
      "        1.08411408,  1.08411408]), 'RidgeCV_b': array([ 1.10725193, -0.89274807, -0.89274807, ...,  1.10725193,\n",
      "        1.10725193,  1.10725193]), 'RidgeCV': array([-0.47699156, -0.47699156, -0.47699156, ..., -0.47699156,\n",
      "        1.52300844,  1.52300844]), 'SGD': array([-0.47409286, -0.47409286, -0.47409286, ..., -0.47409286,\n",
      "        1.52590714,  1.52590714]), 'SGD_b': array([-0.77017444, -0.77017444, -0.77017444, ..., -0.77017444,\n",
      "        1.22982556,  1.22982556]), 'SVC': array([-0.42569491, -0.42569491, -0.42569491, ..., -0.42569491,\n",
      "        1.57430509,  1.57430509]), 'SVC_b': array([-0.42569491, -0.42569491, -0.42569491, ..., -0.42569491,\n",
      "        1.57430509,  1.57430509])}\n"
     ]
    },
    {
     "name": "stderr",
     "output_type": "stream",
     "text": [
      "Pandas Apply: 100%|██████████| 1/1 [00:00<?, ?it/s]\n",
      "Pandas Apply: 100%|██████████| 1/1 [00:00<00:00, 1014.10it/s]\n",
      "Pandas Apply: 100%|██████████| 1/1 [00:00<?, ?it/s]\n",
      "Pandas Apply: 100%|██████████| 1/1 [00:00<?, ?it/s]\n",
      "Pandas Apply: 100%|██████████| 1/1 [00:00<?, ?it/s]\n",
      "Pandas Apply: 100%|██████████| 1/1 [00:00<?, ?it/s]\n",
      "Pandas Apply: 100%|██████████| 1/1 [00:00<?, ?it/s]\n",
      "Pandas Apply: 100%|██████████| 1/1 [00:00<?, ?it/s]\n",
      "Pandas Apply: 100%|██████████| 1/1 [00:00<?, ?it/s]\n"
     ]
    },
    {
     "name": "stdout",
     "output_type": "stream",
     "text": [
      "{'GaussianNB': array([-0.69292586, -0.69292586, -0.69292586, ...,  1.30707414,\n",
      "        1.30707414,  1.30707414]), 'LinearSVC': array([-0.48259475, -0.48259475, -0.48259475, ...,  1.51740525,\n",
      "        1.51740525,  1.51740525]), 'LogRegCV_b': array([-0.80334583, -0.80334583, -0.80334583, ...,  1.19665417,\n",
      "        1.19665417,  1.19665417]), 'RidgeCV_b': array([-0.8247112, -0.8247112, -0.8247112, ...,  1.1752888,  1.1752888,\n",
      "        1.1752888]), 'RidgeCV': array([-0.47142912, -0.47142912, -0.47142912, ...,  1.52857088,\n",
      "        1.52857088,  1.52857088]), 'SGD': array([-0.44724336, -0.44724336, -0.44724336, ...,  1.55275664,\n",
      "        1.55275664, -0.44724336]), 'SGD_b': array([-0.6413476, -0.6413476, -0.6413476, ...,  1.3586524,  1.3586524,\n",
      "        1.3586524]), 'SVC': array([-0.35231619, -0.35231619, -0.35231619, ...,  1.64768381,\n",
      "        1.64768381,  1.64768381]), 'SVC_b': array([-0.35231619, -0.35231619, -0.35231619, ...,  1.64768381,\n",
      "        1.64768381,  1.64768381])}\n"
     ]
    },
    {
     "name": "stderr",
     "output_type": "stream",
     "text": [
      "Pandas Apply: 100%|██████████| 1/1 [00:00<00:00, 965.10it/s]\n",
      "Pandas Apply: 100%|██████████| 1/1 [00:00<?, ?it/s]\n",
      "Pandas Apply: 100%|██████████| 1/1 [00:00<?, ?it/s]\n",
      "Pandas Apply: 100%|██████████| 1/1 [00:00<?, ?it/s]\n",
      "Pandas Apply: 100%|██████████| 1/1 [00:00<?, ?it/s]\n",
      "Pandas Apply: 100%|██████████| 1/1 [00:00<?, ?it/s]\n",
      "Pandas Apply: 100%|██████████| 1/1 [00:00<?, ?it/s]\n",
      "Pandas Apply: 100%|██████████| 1/1 [00:00<?, ?it/s]\n",
      "Pandas Apply: 100%|██████████| 1/1 [00:00<?, ?it/s]\n"
     ]
    },
    {
     "name": "stdout",
     "output_type": "stream",
     "text": [
      "{'GaussianNB': array([-0.98136947,  1.01863053, -0.98136947, ...,  1.01863053,\n",
      "        1.01863053,  1.01863053]), 'LinearSVC': array([ 1.43745463, -0.56254537, -0.56254537, ...,  1.43745463,\n",
      "        1.43745463,  1.43745463]), 'LogRegCV_b': array([ 1.02625212, -0.97374788, -0.97374788, ...,  1.02625212,\n",
      "        1.02625212,  1.02625212]), 'RidgeCV_b': array([ 1.05038713, -0.94961287, -0.94961287, ...,  1.05038713,\n",
      "        1.05038713,  1.05038713]), 'RidgeCV': array([ 1.46788047, -0.53211953, -0.53211953, ...,  1.46788047,\n",
      "        1.46788047,  1.46788047]), 'SGD': array([-0.52776434, -0.52776434, -0.52776434, ...,  1.47223566,\n",
      "        1.47223566, -0.52776434]), 'SGD_b': array([-0.81986451, -0.81986451, -0.81986451, ...,  1.18013549,\n",
      "        1.18013549,  1.18013549]), 'SVC': array([-0.47271957, -0.47271957, -0.47271957, ...,  1.52728043,\n",
      "        1.52728043,  1.52728043]), 'SVC_b': array([-0.47271957, -0.47271957, -0.47271957, ...,  1.52728043,\n",
      "        1.52728043,  1.52728043])}\n"
     ]
    },
    {
     "data": {
      "text/plain": [
       "Text(0.5, 0.98, 'prediction correlations: LOF untransformed')"
      ]
     },
     "execution_count": 15,
     "metadata": {},
     "output_type": "execute_result"
    },
    {
     "data": {
      "text/plain": [
       "(array([0.5, 1.5, 2.5, 3.5, 4.5, 5.5, 6.5, 7.5, 8.5]),\n",
       " [Text(0.5, 0, 'GaussianNB'),\n",
       "  Text(1.5, 0, 'LinearSVC'),\n",
       "  Text(2.5, 0, 'LogRegCV_b'),\n",
       "  Text(3.5, 0, 'RidgeCV_b'),\n",
       "  Text(4.5, 0, 'RidgeCV'),\n",
       "  Text(5.5, 0, 'SGD'),\n",
       "  Text(6.5, 0, 'SGD_b'),\n",
       "  Text(7.5, 0, 'SVC'),\n",
       "  Text(8.5, 0, 'SVC_b')])"
      ]
     },
     "execution_count": 15,
     "metadata": {},
     "output_type": "execute_result"
    },
    {
     "data": {
      "text/plain": [
       "(array([0.5, 1.5, 2.5, 3.5, 4.5, 5.5, 6.5, 7.5, 8.5]),\n",
       " [Text(0, 0.5, 'GaussianNB'),\n",
       "  Text(0, 1.5, 'LinearSVC'),\n",
       "  Text(0, 2.5, 'LogRegCV_b'),\n",
       "  Text(0, 3.5, 'RidgeCV'),\n",
       "  Text(0, 4.5, 'RidgeCV_b'),\n",
       "  Text(0, 5.5, 'SGD'),\n",
       "  Text(0, 6.5, 'SGD_b'),\n",
       "  Text(0, 7.5, 'SVC'),\n",
       "  Text(0, 8.5, 'SVC_b')])"
      ]
     },
     "execution_count": 15,
     "metadata": {},
     "output_type": "execute_result"
    },
    {
     "data": {
      "image/png": "[encoded data removed]",
      "text/plain": [
       "<Figure size 864x864 with 2 Axes>"
      ]
     },
     "metadata": {
      "needs_background": "light"
     },
     "output_type": "display_data"
    },
    {
     "name": "stdout",
     "output_type": "stream",
     "text": [
      "time: 2.22 s\n"
     ]
    }
   ],
   "source": [
    "def average_prediction_correlations(distance: str) -> pd.DataFrame:\n",
    "    \"\"\"Estimates the correlations of model predictions and returns a DataFrame\"\"\"\n",
    "    distance_df = pd.DataFrame(predictions_).query(f\"LOF == '{distance}'\")\n",
    "    fold_correlation_dfs = []\n",
    "    for fold in sorted(np.unique(distance_df.fold)):\n",
    "        fold_df = distance_df.query(f\"fold == {fold}\")\n",
    "        model_predictions = {\n",
    "            model: np.squeeze(\n",
    "                PCA(n_components=1, random_state=SEED).fit_transform(\n",
    "                    pd.DataFrame(\n",
    "                        np.hstack(\n",
    "                            fold_df.query(f\"model == '{model}'\")\n",
    "                            .y_pred.swifter.apply(np.asarray)\n",
    "                            .values\n",
    "                        )\n",
    "                    )\n",
    "                )\n",
    "            )\n",
    "            for model in MODELS\n",
    "        }\n",
    "        print(model_predictions)\n",
    "        fold_correlation_dfs.append(\n",
    "            pd.DataFrame(model_predictions).corr().swifter.apply(abs)\n",
    "        )\n",
    "    return (_ := pd.concat(fold_correlation_dfs)).groupby(_.index).mean()\n",
    "\n",
    "\n",
    "for distance in {\"minkowski\", \"untransformed\"}:\n",
    "    plt.figure(figsize=(12, 12))\n",
    "    # classifiers whose predictions do not vary (e.g., dummy) produce NaN correlations and are dropped from visualization\n",
    "    g = sns.heatmap(\n",
    "        data=(\n",
    "            df := average_prediction_correlations(distance)\n",
    "            .dropna(axis=\"columns\", how=\"all\")\n",
    "            .dropna(axis=\"index\", how=\"all\")\n",
    "        ),\n",
    "        vmin=0,\n",
    "        vmax=1,\n",
    "        cmap=\"coolwarm\",\n",
    "        square=True,\n",
    "        mask=np.triu(np.ones_like(df, dtype=bool)),\n",
    "    )\n",
    "    plt.suptitle(f\"prediction correlations: LOF {distance}\")\n",
    "    plt.xticks(rotation=0)\n",
    "    plt.yticks(rotation=0)\n",
    "    plt.tight_layout()\n",
    "    plt.show()\n",
    "    del df\n",
    "    del g\n",
    "    _ = gc_collect()"
   ]
  },
  {
   "cell_type": "markdown",
   "metadata": {},
   "source": [
    "# Discussion\n",
    "\n",
    "RidgeClassifierCV (balanced), SVC, and LogisticRegressionCV (balanced) are the top contenders from this notebook. Ridge and LogReg predictions appear somewhat correlated as do those of SVC and Ridge. However, the predictions of SVC and LogReg are less correlated and therefore may be good candidates for ensembling. SGD as a consistent runner up and may be worthy of consideration as well.\n",
    "\n",
    "Outlier removal didn't seem to make much of a difference. The most performant models by each metric were trained on the untransformed data."
   ]
  },
  {
   "cell_type": "code",
   "execution_count": 16,
   "metadata": {},
   "outputs": [
    {
     "name": "stdout",
     "output_type": "stream",
     "text": [
      "Time elapsed since notebook_begin_time: 17108.18603157997 s\n",
      "time: 105 ms\n"
     ]
    }
   ],
   "source": [
    "print(f\"Time elapsed since notebook_begin_time: {time() - notebook_begin_time} s\")\n",
    "_ = gc_collect()"
   ]
  },
  {
   "cell_type": "markdown",
   "metadata": {},
   "source": [
    "[^top](#Contents)"
   ]
  },
  {
   "cell_type": "code",
   "execution_count": null,
   "metadata": {},
   "outputs": [],
   "source": []
  }
 ],
 "metadata": {
  "interpreter": {
   "hash": "e1781be99c106060f3abc0c9b91d3d379f24672894e2158d4b74304109955878"
  },
  "kernelspec": {
   "display_name": "Python 3 (ipykernel)",
   "language": "python",
   "name": "python3"
  },
  "language_info": {
   "codemirror_mode": {
    "name": "ipython",
    "version": 3
   },
   "file_extension": ".py",
   "mimetype": "text/x-python",
   "name": "python",
   "nbconvert_exporter": "python",
   "pygments_lexer": "ipython3",
   "version": "3.9.5"
  }
 },
 "nbformat": 4,
 "nbformat_minor": 4
}
