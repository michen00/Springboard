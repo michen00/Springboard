{
 "cells": [
  {
   "cell_type": "markdown",
   "metadata": {},
   "source": [
    "# Contents\n",
    "* [Introduction](#Introduction)\n",
    "* [Imports and configuration](#Imports-and-configuration)\n",
    "* [Setup](#Setup)\n",
    "* [var_smoothing](#var_smoothing)\n",
    "* [Discussion](#Discussion)"
   ]
  },
  {
   "cell_type": "markdown",
   "metadata": {},
   "source": [
    "# Introduction\n",
    "\n",
    "After rounds of feature engineering, visualization & exploration, and tuning various aspects of the classification pipeline, we are about to create a prototype classifier using a bagged GaussianNB. In this notebook, we perform grid searches over var_smoothing using out-of-bag accuracy instead of cross validation."
   ]
  },
  {
   "cell_type": "code",
   "execution_count": 1,
   "metadata": {},
   "outputs": [],
   "source": [
    "from time import time\n",
    "\n",
    "notebook_begin_time = time()\n",
    "\n",
    "# set random seeds\n",
    "\n",
    "from os import environ\n",
    "from random import seed as random_seed\n",
    "from numpy.random import seed as np_seed\n",
    "from tensorflow.random import set_seed\n",
    "\n",
    "\n",
    "def reset_seeds(seed: int) -> None:\n",
    "    \"\"\"Utility function for resetting random seeds\"\"\"\n",
    "    environ[\"PYTHONHASHSEED\"] = str(seed)\n",
    "    random_seed(seed)\n",
    "    np_seed(seed)\n",
    "    set_seed(seed)\n",
    "\n",
    "\n",
    "reset_seeds(SEED := 2022)\n",
    "del environ\n",
    "del random_seed\n",
    "del np_seed\n",
    "del set_seed\n",
    "del reset_seeds"
   ]
  },
  {
   "cell_type": "code",
   "execution_count": 2,
   "metadata": {},
   "outputs": [],
   "source": [
    "# extensions\n",
    "%load_ext autotime\n",
    "%load_ext lab_black\n",
    "%load_ext nb_black"
   ]
  },
  {
   "cell_type": "code",
   "execution_count": 3,
   "metadata": {},
   "outputs": [
    {
     "name": "stderr",
     "output_type": "stream",
     "text": [
      "Intel(R) Extension for Scikit-learn* enabled (https://github.com/intel/scikit-learn-intelex)\n"
     ]
    },
    {
     "name": "stdout",
     "output_type": "stream",
     "text": [
      "time: 3.08 s\n"
     ]
    }
   ],
   "source": [
    "# core\n",
    "import numpy as np\n",
    "import pandas as pd\n",
    "from scipy.stats import loguniform\n",
    "\n",
    "# utility\n",
    "from copy import deepcopy\n",
    "from gc import collect as gc_collect\n",
    "from tqdm.notebook import tqdm\n",
    "\n",
    "# faster sklearn\n",
    "from sklearnex import patch_sklearn\n",
    "\n",
    "patch_sklearn()\n",
    "del patch_sklearn\n",
    "\n",
    "# classifier\n",
    "from sklearn.ensemble import BaggingClassifier\n",
    "from sklearn.naive_bayes import GaussianNB\n",
    "\n",
    "# metrics\n",
    "from sklearn.metrics import log_loss, roc_auc_score\n",
    "\n",
    "# typing\n",
    "from typing import Sequence\n",
    "\n",
    "# visualization\n",
    "import matplotlib.pyplot as plt\n",
    "import seaborn as sns\n",
    "\n",
    "%matplotlib inline\n",
    "\n",
    "sns.set_context(\"notebook\")\n",
    "\n",
    "# full display of rows and columns\n",
    "pd.set_option(\"display.max_columns\", None)\n",
    "pd.set_option(\"display.max_colwidth\", None)\n",
    "pd.set_option(\"display.max_rows\", None)\n",
    "\n",
    "# display outputs w/o print calls\n",
    "from IPython.core.interactiveshell import InteractiveShell\n",
    "\n",
    "InteractiveShell.ast_node_interactivity = \"all\"\n",
    "del InteractiveShell"
   ]
  },
  {
   "cell_type": "code",
   "execution_count": 4,
   "metadata": {},
   "outputs": [
    {
     "name": "stdout",
     "output_type": "stream",
     "text": [
      "time: 124 ms\n"
     ]
    }
   ],
   "source": [
    "# Location of pre-final labels and features\n",
    "FEATURES_FOLDER = (\n",
    "    \"../24.0-mic-train_new_prototypes_with_simplified_pipeline_and_no_song_data\"\n",
    ")\n",
    "\n",
    "# Location where this notebook will output\n",
    "DATA_OUT_FOLDER = \"./tune_GNB\"\n",
    "\n",
    "_ = gc_collect()"
   ]
  },
  {
   "cell_type": "markdown",
   "metadata": {},
   "source": [
    "# Setup"
   ]
  },
  {
   "cell_type": "code",
   "execution_count": 5,
   "metadata": {},
   "outputs": [
    {
     "name": "stdout",
     "output_type": "stream",
     "text": [
      "time: 233 ms\n"
     ]
    }
   ],
   "source": [
    "def load_labels() -> pd.DataFrame:\n",
    "    \"\"\"Load just the labels\"\"\"\n",
    "    return pd.read_feather(f\"{FEATURES_FOLDER}/simplified_labels.feather\").set_index(\n",
    "        \"id\"\n",
    "    )\n",
    "\n",
    "\n",
    "def load_data() -> pd.DataFrame:\n",
    "    \"\"\"Loads the FRILL-based features\"\"\"\n",
    "    df = pd.read_feather(\"./scaled_features_ready_for_selection.feather\").set_index(\n",
    "        \"id\"\n",
    "    )\n",
    "    df.columns = df.columns.astype(str)\n",
    "    return df\n",
    "\n",
    "\n",
    "data = load_data()\n",
    "labels = load_labels()\n",
    "assert all(data.index == labels.index)\n",
    "assert len(data) < 86000\n",
    "y_true = labels.valence\n",
    "_ = gc_collect()"
   ]
  },
  {
   "cell_type": "code",
   "execution_count": 6,
   "metadata": {},
   "outputs": [
    {
     "name": "stdout",
     "output_type": "stream",
     "text": [
      "<class 'pandas.core.frame.DataFrame'>\n",
      "UInt64Index: 85740 entries, 0 to 87363\n",
      "Data columns (total 14 columns):\n",
      " #   Column                   Non-Null Count  Dtype  \n",
      "---  ------                   --------------  -----  \n",
      " 0   LDA1                     85740 non-null  float64\n",
      " 1   LDA2                     85740 non-null  float64\n",
      " 2   ocSVM_sgdlinear_neg      85740 non-null  float64\n",
      " 3   ocSVM_sgdlinear_neu      85740 non-null  float64\n",
      " 4   ocSVM_sgdlinear_pos      85740 non-null  float64\n",
      " 5   LDA-LOF_neg_20           85740 non-null  float64\n",
      " 6   LDA-LOF_neu_20           85740 non-null  float64\n",
      " 7   LDA-LOF_pos_20           85740 non-null  float64\n",
      " 8   LDA-ocSVM_rbf_neg        85740 non-null  float64\n",
      " 9   LDA-ocSVM_rbf_neu        85740 non-null  float64\n",
      " 10  LDA-ocSVM_rbf_pos        85740 non-null  float64\n",
      " 11  LDA-ocSVM_sgdlinear_neg  85740 non-null  float64\n",
      " 12  LDA-ocSVM_sgdlinear_neu  85740 non-null  float64\n",
      " 13  LDA-ocSVM_sgdlinear_pos  85740 non-null  float64\n",
      "dtypes: float64(14)\n",
      "memory usage: 9.8 MB\n",
      "<class 'pandas.core.frame.DataFrame'>\n",
      "UInt64Index: 85740 entries, 0 to 87363\n",
      "Data columns (total 11 columns):\n",
      " #   Column          Non-Null Count  Dtype   \n",
      "---  ------          --------------  -----   \n",
      " 0   file            85740 non-null  object  \n",
      " 1   source          85740 non-null  category\n",
      " 2   speaker_id      85740 non-null  category\n",
      " 3   speaker_gender  85740 non-null  category\n",
      " 4   emo             85740 non-null  category\n",
      " 5   valence         85740 non-null  int8    \n",
      " 6   neg             85740 non-null  bool    \n",
      " 7   neu             85740 non-null  bool    \n",
      " 8   pos             85740 non-null  bool    \n",
      " 9   lang1           85740 non-null  category\n",
      " 10  length          85740 non-null  category\n",
      "dtypes: bool(3), category(6), int8(1), object(1)\n",
      "memory usage: 2.3+ MB\n",
      "time: 39 ms\n"
     ]
    }
   ],
   "source": [
    "data.info()\n",
    "labels.info()"
   ]
  },
  {
   "cell_type": "code",
   "execution_count": 7,
   "metadata": {},
   "outputs": [
    {
     "name": "stdout",
     "output_type": "stream",
     "text": [
      "time: 95.1 ms\n"
     ]
    }
   ],
   "source": [
    "results = {\"var_smoothing\": [], \"oob_score\": [], \"log_loss\": [], \"auroc\": []}\n",
    "_ = gc_collect()"
   ]
  },
  {
   "cell_type": "markdown",
   "metadata": {},
   "source": [
    "# var_smoothing"
   ]
  },
  {
   "cell_type": "code",
   "execution_count": 8,
   "metadata": {},
   "outputs": [
    {
     "name": "stdout",
     "output_type": "stream",
     "text": [
      "time: 119 ms\n"
     ]
    }
   ],
   "source": [
    "def tune_var_smoothing(search_space: Sequence, outfile: str) -> None:\n",
    "    \"\"\"Run tuning procedure\"\"\"\n",
    "    df = deepcopy(data)\n",
    "    make_gnb = lambda var_smoothing: BaggingClassifier(\n",
    "        base_estimator=GaussianNB(var_smoothing=var_smoothing),\n",
    "        n_estimators=50,\n",
    "        oob_score=True,\n",
    "        n_jobs=-1,\n",
    "        random_state=SEED,\n",
    "        # verbose=1,\n",
    "    ).fit(df, y_true)\n",
    "    for hp in tqdm(search_space):\n",
    "        gnb = make_gnb(hp)\n",
    "        results[\"var_smoothing\"].append(hp)\n",
    "        results[\"oob_score\"].append(gnb.oob_score_)\n",
    "        results[\"auroc\"].append(\n",
    "            roc_auc_score(y_true, y_pred := gnb.predict_proba(df), multi_class=\"ovo\")\n",
    "        )\n",
    "        results[\"log_loss\"].append(log_loss(y_true, y_pred))\n",
    "\n",
    "    df = pd.DataFrame(results).sort_values(by=\"var_smoothing\", ascending=True)\n",
    "    print(df.sort_values(by=\"oob_score\", ascending=False).head(10))\n",
    "    print(df.sort_values(by=\"log_loss\", ascending=True).head(10))\n",
    "    print(df.sort_values(by=\"auroc\", ascending=False).head(10))\n",
    "    df.plot(x=\"var_smoothing\")\n",
    "    plt.legend(frameon=False)\n",
    "    sns.despine(top=True, right=True)\n",
    "    plt.tight_layout()\n",
    "    plt.show()\n",
    "\n",
    "    df.columns = df.columns.astype(str)\n",
    "    df.reset_index(drop=True).to_feather(f\"{DATA_OUT_FOLDER}/{outfile}.feather\")\n",
    "    del df\n",
    "\n",
    "\n",
    "_ = gc_collect()"
   ]
  },
  {
   "cell_type": "code",
   "execution_count": 9,
   "metadata": {},
   "outputs": [
    {
     "data": {
      "application/vnd.jupyter.widget-view+json": {
       "model_id": "342cd35703b14e2880b07ed719735f7e",
       "version_major": 2,
       "version_minor": 0
      },
      "text/plain": [
       "  0%|          | 0/50 [00:00<?, ?it/s]"
      ]
     },
     "metadata": {},
     "output_type": "display_data"
    },
    {
     "name": "stdout",
     "output_type": "stream",
     "text": [
      "    var_smoothing  oob_score  log_loss     auroc\n",
      "0        0.002808   0.679624  1.213260  0.829300\n",
      "24       0.005599   0.677723  1.111362  0.828572\n",
      "33       0.011346   0.670294  1.004468  0.827150\n",
      "41       0.012735   0.668008  0.989536  0.826827\n",
      "3        0.014992   0.664486  0.970598  0.826321\n",
      "48       0.024178   0.649429  0.933057  0.824489\n",
      "40       0.024416   0.649172  0.932580  0.824446\n",
      "19       0.028930   0.642757  0.926156  0.823670\n",
      "2        0.034015   0.635386  0.923006  0.822879\n",
      "28       0.063658   0.599767  0.930024  0.819613\n",
      "    var_smoothing  oob_score  log_loss     auroc\n",
      "2        0.034015   0.635386  0.923006  0.822879\n",
      "19       0.028930   0.642757  0.926156  0.823670\n",
      "28       0.063658   0.599767  0.930024  0.819613\n",
      "40       0.024416   0.649172  0.932580  0.824446\n",
      "48       0.024178   0.649429  0.933057  0.824489\n",
      "21       0.087750   0.584558  0.939001  0.818050\n",
      "42       0.089039   0.583940  0.939411  0.817985\n",
      "22       0.089603   0.583742  0.939587  0.817957\n",
      "16       0.101853   0.580557  0.943059  0.817393\n",
      "31       0.104829   0.580091  0.943815  0.817267\n",
      "    var_smoothing  oob_score  log_loss     auroc\n",
      "0        0.002808   0.679624  1.213260  0.829300\n",
      "24       0.005599   0.677723  1.111362  0.828572\n",
      "33       0.011346   0.670294  1.004468  0.827150\n",
      "41       0.012735   0.668008  0.989536  0.826827\n",
      "3        0.014992   0.664486  0.970598  0.826321\n",
      "48       0.024178   0.649429  0.933057  0.824489\n",
      "40       0.024416   0.649172  0.932580  0.824446\n",
      "19       0.028930   0.642757  0.926156  0.823670\n",
      "2        0.034015   0.635386  0.923006  0.822879\n",
      "28       0.063658   0.599767  0.930024  0.819613\n"
     ]
    },
    {
     "data": {
      "image/png": "[encoded data removed]",
      "text/plain": [
       "<Figure size 432x288 with 1 Axes>"
      ]
     },
     "metadata": {
      "needs_background": "light"
     },
     "output_type": "display_data"
    },
    {
     "name": "stdout",
     "output_type": "stream",
     "text": [
      "time: 3min 28s\n"
     ]
    }
   ],
   "source": [
    "tune_var_smoothing(\n",
    "    search_space=np.random.uniform(0.0, 0.3, size=50), outfile=\"var_smoothing1\"\n",
    ")"
   ]
  },
  {
   "cell_type": "code",
   "execution_count": 10,
   "metadata": {},
   "outputs": [
    {
     "data": {
      "application/vnd.jupyter.widget-view+json": {
       "model_id": "ba28dc7b7a7b41e49253e19ec77333ad",
       "version_major": 2,
       "version_minor": 0
      },
      "text/plain": [
       "  0%|          | 0/50 [00:00<?, ?it/s]"
      ]
     },
     "metadata": {},
     "output_type": "display_data"
    },
    {
     "name": "stdout",
     "output_type": "stream",
     "text": [
      "    var_smoothing  oob_score  log_loss     auroc\n",
      "75   8.170631e-05   0.679823  1.384084  0.829990\n",
      "86   4.381361e-05   0.679741  1.387261  0.829999\n",
      "88   4.324212e-05   0.679741  1.387309  0.829999\n",
      "96   1.898003e-04   0.679706  1.375182  0.829964\n",
      "65   2.485592e-05   0.679694  1.388861  0.830003\n",
      "57   1.219385e-11   0.679683  1.390969  0.830009\n",
      "54   1.498979e-09   0.679683  1.390969  0.830009\n",
      "62   2.462678e-04   0.679683  1.370621  0.829950\n",
      "84   1.222535e-11   0.679683  1.390969  0.830009\n",
      "72   1.803619e-07   0.679683  1.390954  0.830009\n",
      "    var_smoothing  oob_score  log_loss     auroc\n",
      "2        0.034015   0.635386  0.923006  0.822879\n",
      "59       0.030153   0.640914  0.925086  0.823472\n",
      "19       0.028930   0.642757  0.926156  0.823670\n",
      "28       0.063658   0.599767  0.930024  0.819613\n",
      "40       0.024416   0.649172  0.932580  0.824446\n",
      "48       0.024178   0.649429  0.933057  0.824489\n",
      "74       0.023798   0.650105  0.933853  0.824559\n",
      "56       0.077205   0.589935  0.935354  0.818653\n",
      "21       0.087750   0.584558  0.939001  0.818050\n",
      "42       0.089039   0.583940  0.939411  0.817985\n",
      "    var_smoothing  oob_score  log_loss     auroc\n",
      "67   9.552534e-11   0.679683  1.390969  0.830009\n",
      "77   1.050250e-10   0.679683  1.390969  0.830009\n",
      "57   1.219385e-11   0.679683  1.390969  0.830009\n",
      "84   1.222535e-11   0.679683  1.390969  0.830009\n",
      "97   1.619995e-11   0.679683  1.390969  0.830009\n",
      "61   1.701651e-11   0.679683  1.390969  0.830009\n",
      "99   1.856188e-11   0.679683  1.390969  0.830009\n",
      "52   2.446994e-11   0.679683  1.390969  0.830009\n",
      "50   2.552686e-11   0.679683  1.390969  0.830009\n",
      "68   4.803724e-11   0.679683  1.390969  0.830009\n"
     ]
    },
    {
     "data": {
      "image/png": "[encoded data removed]",
      "text/plain": [
       "<Figure size 432x288 with 1 Axes>"
      ]
     },
     "metadata": {
      "needs_background": "light"
     },
     "output_type": "display_data"
    },
    {
     "name": "stdout",
     "output_type": "stream",
     "text": [
      "time: 3min 22s\n"
     ]
    }
   ],
   "source": [
    "tune_var_smoothing(\n",
    "    search_space=loguniform.rvs(1e-11, 0.4, size=50), outfile=\"var_smoothing2\"\n",
    ")"
   ]
  },
  {
   "cell_type": "code",
   "execution_count": 11,
   "metadata": {},
   "outputs": [
    {
     "data": {
      "application/vnd.jupyter.widget-view+json": {
       "model_id": "526228585ff24d358f8ff1f443124e06",
       "version_major": 2,
       "version_minor": 0
      },
      "text/plain": [
       "  0%|          | 0/50 [00:00<?, ?it/s]"
      ]
     },
     "metadata": {},
     "output_type": "display_data"
    },
    {
     "name": "stdout",
     "output_type": "stream",
     "text": [
      "    var_smoothing  oob_score  log_loss     auroc\n",
      "75   8.170631e-05   0.679823  1.384084  0.829990\n",
      "86   4.381361e-05   0.679741  1.387261  0.829999\n",
      "88   4.324212e-05   0.679741  1.387309  0.829999\n",
      "96   1.898003e-04   0.679706  1.375182  0.829964\n",
      "65   2.485592e-05   0.679694  1.388861  0.830003\n",
      "57   1.219385e-11   0.679683  1.390969  0.830009\n",
      "60   1.462300e-09   0.679683  1.390969  0.830009\n",
      "62   2.462678e-04   0.679683  1.370621  0.829950\n",
      "58   1.895164e-07   0.679683  1.390953  0.830009\n",
      "72   1.803619e-07   0.679683  1.390954  0.830009\n",
      "    var_smoothing  oob_score  log_loss     auroc\n",
      "2        0.034015   0.635386  0.923006  0.822879\n",
      "59       0.030153   0.640914  0.925086  0.823472\n",
      "19       0.028930   0.642757  0.926156  0.823670\n",
      "28       0.063658   0.599767  0.930024  0.819613\n",
      "40       0.024416   0.649172  0.932580  0.824446\n",
      "48       0.024178   0.649429  0.933057  0.824489\n",
      "74       0.023798   0.650105  0.933853  0.824559\n",
      "56       0.077205   0.589935  0.935354  0.818653\n",
      "21       0.087750   0.584558  0.939001  0.818050\n",
      "42       0.089039   0.583940  0.939411  0.817985\n",
      "    var_smoothing  oob_score  log_loss     auroc\n",
      "77   1.050250e-10   0.679683  1.390969  0.830009\n",
      "67   9.552534e-11   0.679683  1.390969  0.830009\n",
      "57   1.219385e-11   0.679683  1.390969  0.830009\n",
      "84   1.222535e-11   0.679683  1.390969  0.830009\n",
      "97   1.619995e-11   0.679683  1.390969  0.830009\n",
      "61   1.701651e-11   0.679683  1.390969  0.830009\n",
      "99   1.856188e-11   0.679683  1.390969  0.830009\n",
      "52   2.446994e-11   0.679683  1.390969  0.830009\n",
      "50   2.552686e-11   0.679683  1.390969  0.830009\n",
      "94   6.873667e-11   0.679683  1.390969  0.830009\n"
     ]
    },
    {
     "data": {
      "image/png": "[encoded data removed]",
      "text/plain": [
       "<Figure size 432x288 with 1 Axes>"
      ]
     },
     "metadata": {
      "needs_background": "light"
     },
     "output_type": "display_data"
    },
    {
     "name": "stdout",
     "output_type": "stream",
     "text": [
      "time: 3min 19s\n"
     ]
    }
   ],
   "source": [
    "tune_var_smoothing(\n",
    "    search_space=loguniform.rvs(0.1, 0.4, size=50), outfile=\"var_smoothing3\"\n",
    ")"
   ]
  },
  {
   "cell_type": "code",
   "execution_count": 12,
   "metadata": {},
   "outputs": [
    {
     "data": {
      "application/vnd.jupyter.widget-view+json": {
       "model_id": "5e83475b5305413a9416a1f6809a4f03",
       "version_major": 2,
       "version_minor": 0
      },
      "text/plain": [
       "  0%|          | 0/50 [00:00<?, ?it/s]"
      ]
     },
     "metadata": {},
     "output_type": "display_data"
    },
    {
     "name": "stdout",
     "output_type": "stream",
     "text": [
      "    var_smoothing  oob_score  log_loss     auroc\n",
      "75   8.170631e-05   0.679823  1.384084  0.829990\n",
      "86   4.381361e-05   0.679741  1.387261  0.829999\n",
      "88   4.324212e-05   0.679741  1.387309  0.829999\n",
      "96   1.898003e-04   0.679706  1.375182  0.829964\n",
      "65   2.485592e-05   0.679694  1.388861  0.830003\n",
      "57   1.219385e-11   0.679683  1.390969  0.830009\n",
      "54   1.498979e-09   0.679683  1.390969  0.830009\n",
      "62   2.462678e-04   0.679683  1.370621  0.829950\n",
      "84   1.222535e-11   0.679683  1.390969  0.830009\n",
      "72   1.803619e-07   0.679683  1.390954  0.830009\n",
      "     var_smoothing  oob_score  log_loss     auroc\n",
      "163       0.035371   0.632669  0.922641  0.822682\n",
      "153       0.034744   0.633730  0.922790  0.822773\n",
      "194       0.034717   0.633812  0.922797  0.822777\n",
      "2         0.034015   0.635386  0.923006  0.822879\n",
      "152       0.033137   0.636844  0.923334  0.823009\n",
      "199       0.032932   0.637252  0.923423  0.823041\n",
      "59        0.030153   0.640914  0.925086  0.823472\n",
      "166       0.029262   0.642174  0.925843  0.823616\n",
      "187       0.053460   0.608806  0.926042  0.820526\n",
      "19        0.028930   0.642757  0.926156  0.823670\n",
      "    var_smoothing  oob_score  log_loss     auroc\n",
      "67   9.552534e-11   0.679683  1.390969  0.830009\n",
      "77   1.050250e-10   0.679683  1.390969  0.830009\n",
      "57   1.219385e-11   0.679683  1.390969  0.830009\n",
      "84   1.222535e-11   0.679683  1.390969  0.830009\n",
      "97   1.619995e-11   0.679683  1.390969  0.830009\n",
      "61   1.701651e-11   0.679683  1.390969  0.830009\n",
      "99   1.856188e-11   0.679683  1.390969  0.830009\n",
      "52   2.446994e-11   0.679683  1.390969  0.830009\n",
      "50   2.552686e-11   0.679683  1.390969  0.830009\n",
      "68   4.803724e-11   0.679683  1.390969  0.830009\n"
     ]
    },
    {
     "data": {
      "image/png": "[encoded data removed]",
      "text/plain": [
       "<Figure size 432x288 with 1 Axes>"
      ]
     },
     "metadata": {
      "needs_background": "light"
     },
     "output_type": "display_data"
    },
    {
     "name": "stdout",
     "output_type": "stream",
     "text": [
      "time: 3min 12s\n"
     ]
    }
   ],
   "source": [
    "tune_var_smoothing(\n",
    "    search_space=np.random.uniform(0.01, 0.25, size=50), outfile=\"var_smoothing4\"\n",
    ")"
   ]
  },
  {
   "cell_type": "code",
   "execution_count": 13,
   "metadata": {},
   "outputs": [
    {
     "data": {
      "application/vnd.jupyter.widget-view+json": {
       "model_id": "91589e21687a4b0db475f2c42fa9033f",
       "version_major": 2,
       "version_minor": 0
      },
      "text/plain": [
       "  0%|          | 0/50 [00:00<?, ?it/s]"
      ]
     },
     "metadata": {},
     "output_type": "display_data"
    },
    {
     "name": "stdout",
     "output_type": "stream",
     "text": [
      "    var_smoothing  oob_score  log_loss     auroc\n",
      "75   8.170631e-05   0.679823  1.384084  0.829990\n",
      "88   4.324212e-05   0.679741  1.387309  0.829999\n",
      "86   4.381361e-05   0.679741  1.387261  0.829999\n",
      "96   1.898003e-04   0.679706  1.375182  0.829964\n",
      "65   2.485592e-05   0.679694  1.388861  0.830003\n",
      "54   1.498979e-09   0.679683  1.390969  0.830009\n",
      "62   2.462678e-04   0.679683  1.370621  0.829950\n",
      "84   1.222535e-11   0.679683  1.390969  0.830009\n",
      "58   1.895164e-07   0.679683  1.390953  0.830009\n",
      "72   1.803619e-07   0.679683  1.390954  0.830009\n",
      "     var_smoothing  oob_score  log_loss     auroc\n",
      "163       0.035371   0.632669  0.922641  0.822682\n",
      "153       0.034744   0.633730  0.922790  0.822773\n",
      "194       0.034717   0.633812  0.922797  0.822777\n",
      "2         0.034015   0.635386  0.923006  0.822879\n",
      "152       0.033137   0.636844  0.923334  0.823009\n",
      "199       0.032932   0.637252  0.923423  0.823041\n",
      "59        0.030153   0.640914  0.925086  0.823472\n",
      "166       0.029262   0.642174  0.925843  0.823616\n",
      "187       0.053460   0.608806  0.926042  0.820526\n",
      "19        0.028930   0.642757  0.926156  0.823670\n",
      "    var_smoothing  oob_score  log_loss     auroc\n",
      "67   9.552534e-11   0.679683  1.390969  0.830009\n",
      "77   1.050250e-10   0.679683  1.390969  0.830009\n",
      "57   1.219385e-11   0.679683  1.390969  0.830009\n",
      "84   1.222535e-11   0.679683  1.390969  0.830009\n",
      "97   1.619995e-11   0.679683  1.390969  0.830009\n",
      "61   1.701651e-11   0.679683  1.390969  0.830009\n",
      "99   1.856188e-11   0.679683  1.390969  0.830009\n",
      "52   2.446994e-11   0.679683  1.390969  0.830009\n",
      "50   2.552686e-11   0.679683  1.390969  0.830009\n",
      "68   4.803724e-11   0.679683  1.390969  0.830009\n"
     ]
    },
    {
     "data": {
      "image/png": "[encoded data removed]",
      "text/plain": [
       "<Figure size 432x288 with 1 Axes>"
      ]
     },
     "metadata": {
      "needs_background": "light"
     },
     "output_type": "display_data"
    },
    {
     "name": "stdout",
     "output_type": "stream",
     "text": [
      "time: 3min 21s\n"
     ]
    }
   ],
   "source": [
    "tune_var_smoothing(\n",
    "    search_space=np.random.uniform(0.05, 0.15, size=50), outfile=\"var_smoothing5\"\n",
    ")"
   ]
  },
  {
   "cell_type": "code",
   "execution_count": 14,
   "metadata": {},
   "outputs": [
    {
     "data": {
      "application/vnd.jupyter.widget-view+json": {
       "model_id": "ac52542fdc5041dfa89c0e1eaddb14f8",
       "version_major": 2,
       "version_minor": 0
      },
      "text/plain": [
       "  0%|          | 0/50 [00:00<?, ?it/s]"
      ]
     },
     "metadata": {},
     "output_type": "display_data"
    },
    {
     "name": "stdout",
     "output_type": "stream",
     "text": [
      "    var_smoothing  oob_score  log_loss     auroc\n",
      "75   8.170631e-05   0.679823  1.384084  0.829990\n",
      "86   4.381361e-05   0.679741  1.387261  0.829999\n",
      "88   4.324212e-05   0.679741  1.387309  0.829999\n",
      "96   1.898003e-04   0.679706  1.375182  0.829964\n",
      "65   2.485592e-05   0.679694  1.388861  0.830003\n",
      "57   1.219385e-11   0.679683  1.390969  0.830009\n",
      "60   1.462300e-09   0.679683  1.390969  0.830009\n",
      "62   2.462678e-04   0.679683  1.370621  0.829950\n",
      "58   1.895164e-07   0.679683  1.390953  0.830009\n",
      "72   1.803619e-07   0.679683  1.390954  0.830009\n",
      "     var_smoothing  oob_score  log_loss     auroc\n",
      "293       0.037646   0.629624  0.922346  0.822365\n",
      "262       0.040724   0.625659  0.922454  0.821958\n",
      "267       0.036216   0.631514  0.922488  0.822563\n",
      "163       0.035371   0.632669  0.922641  0.822682\n",
      "153       0.034744   0.633730  0.922790  0.822773\n",
      "194       0.034717   0.633812  0.922797  0.822777\n",
      "261       0.034606   0.633905  0.922827  0.822793\n",
      "2         0.034015   0.635386  0.923006  0.822879\n",
      "258       0.033898   0.635596  0.923045  0.822896\n",
      "152       0.033137   0.636844  0.923334  0.823009\n",
      "    var_smoothing  oob_score  log_loss     auroc\n",
      "77   1.050250e-10   0.679683  1.390969  0.830009\n",
      "67   9.552534e-11   0.679683  1.390969  0.830009\n",
      "57   1.219385e-11   0.679683  1.390969  0.830009\n",
      "84   1.222535e-11   0.679683  1.390969  0.830009\n",
      "97   1.619995e-11   0.679683  1.390969  0.830009\n",
      "61   1.701651e-11   0.679683  1.390969  0.830009\n",
      "99   1.856188e-11   0.679683  1.390969  0.830009\n",
      "52   2.446994e-11   0.679683  1.390969  0.830009\n",
      "50   2.552686e-11   0.679683  1.390969  0.830009\n",
      "94   6.873667e-11   0.679683  1.390969  0.830009\n"
     ]
    },
    {
     "data": {
      "image/png": "[encoded data removed]",
      "text/plain": [
       "<Figure size 432x288 with 1 Axes>"
      ]
     },
     "metadata": {
      "needs_background": "light"
     },
     "output_type": "display_data"
    },
    {
     "name": "stdout",
     "output_type": "stream",
     "text": [
      "time: 3min 19s\n"
     ]
    }
   ],
   "source": [
    "tune_var_smoothing(\n",
    "    search_space=loguniform.rvs(0.01, 0.25, size=50), outfile=\"var_smoothing6\"\n",
    ")"
   ]
  },
  {
   "cell_type": "code",
   "execution_count": 15,
   "metadata": {},
   "outputs": [
    {
     "data": {
      "application/vnd.jupyter.widget-view+json": {
       "model_id": "2b9fc8fc8d9f491b8e76ae2cc91a30f5",
       "version_major": 2,
       "version_minor": 0
      },
      "text/plain": [
       "  0%|          | 0/15 [00:00<?, ?it/s]"
      ]
     },
     "metadata": {},
     "output_type": "display_data"
    },
    {
     "name": "stdout",
     "output_type": "stream",
     "text": [
      "    var_smoothing  oob_score  log_loss     auroc\n",
      "75   8.170631e-05   0.679823  1.384084  0.829990\n",
      "86   4.381361e-05   0.679741  1.387261  0.829999\n",
      "88   4.324212e-05   0.679741  1.387309  0.829999\n",
      "96   1.898003e-04   0.679706  1.375182  0.829964\n",
      "65   2.485592e-05   0.679694  1.388861  0.830003\n",
      "57   1.219385e-11   0.679683  1.390969  0.830009\n",
      "60   1.462300e-09   0.679683  1.390969  0.830009\n",
      "84   1.222535e-11   0.679683  1.390969  0.830009\n",
      "58   1.895164e-07   0.679683  1.390953  0.830009\n",
      "72   1.803619e-07   0.679683  1.390954  0.830009\n",
      "     var_smoothing  oob_score  log_loss     auroc\n",
      "293       0.037646   0.629624  0.922346  0.822365\n",
      "262       0.040724   0.625659  0.922454  0.821958\n",
      "267       0.036216   0.631514  0.922488  0.822563\n",
      "163       0.035371   0.632669  0.922641  0.822682\n",
      "153       0.034744   0.633730  0.922790  0.822773\n",
      "194       0.034717   0.633812  0.922797  0.822777\n",
      "261       0.034606   0.633905  0.922827  0.822793\n",
      "2         0.034015   0.635386  0.923006  0.822879\n",
      "258       0.033898   0.635596  0.923045  0.822896\n",
      "301       0.033469   0.636156  0.923201  0.822960\n",
      "    var_smoothing  oob_score  log_loss     auroc\n",
      "77   1.050250e-10   0.679683  1.390969  0.830009\n",
      "67   9.552534e-11   0.679683  1.390969  0.830009\n",
      "57   1.219385e-11   0.679683  1.390969  0.830009\n",
      "84   1.222535e-11   0.679683  1.390969  0.830009\n",
      "97   1.619995e-11   0.679683  1.390969  0.830009\n",
      "61   1.701651e-11   0.679683  1.390969  0.830009\n",
      "99   1.856188e-11   0.679683  1.390969  0.830009\n",
      "52   2.446994e-11   0.679683  1.390969  0.830009\n",
      "50   2.552686e-11   0.679683  1.390969  0.830009\n",
      "94   6.873667e-11   0.679683  1.390969  0.830009\n"
     ]
    },
    {
     "data": {
      "image/png": "[encoded data removed]",
      "text/plain": [
       "<Figure size 432x288 with 1 Axes>"
      ]
     },
     "metadata": {
      "needs_background": "light"
     },
     "output_type": "display_data"
    },
    {
     "data": {
      "application/vnd.jupyter.widget-view+json": {
       "model_id": "972c66dd7c61484dbcaa4bdf45eff596",
       "version_major": 2,
       "version_minor": 0
      },
      "text/plain": [
       "  0%|          | 0/15 [00:00<?, ?it/s]"
      ]
     },
     "metadata": {},
     "output_type": "display_data"
    },
    {
     "name": "stdout",
     "output_type": "stream",
     "text": [
      "    var_smoothing  oob_score  log_loss     auroc\n",
      "75   8.170631e-05   0.679823  1.384084  0.829990\n",
      "86   4.381361e-05   0.679741  1.387261  0.829999\n",
      "88   4.324212e-05   0.679741  1.387309  0.829999\n",
      "96   1.898003e-04   0.679706  1.375182  0.829964\n",
      "65   2.485592e-05   0.679694  1.388861  0.830003\n",
      "57   1.219385e-11   0.679683  1.390969  0.830009\n",
      "54   1.498979e-09   0.679683  1.390969  0.830009\n",
      "62   2.462678e-04   0.679683  1.370621  0.829950\n",
      "58   1.895164e-07   0.679683  1.390953  0.830009\n",
      "72   1.803619e-07   0.679683  1.390954  0.830009\n",
      "     var_smoothing  oob_score  log_loss     auroc\n",
      "293       0.037646   0.629624  0.922346  0.822365\n",
      "262       0.040724   0.625659  0.922454  0.821958\n",
      "267       0.036216   0.631514  0.922488  0.822563\n",
      "163       0.035371   0.632669  0.922641  0.822682\n",
      "153       0.034744   0.633730  0.922790  0.822773\n",
      "194       0.034717   0.633812  0.922797  0.822777\n",
      "261       0.034606   0.633905  0.922827  0.822793\n",
      "2         0.034015   0.635386  0.923006  0.822879\n",
      "258       0.033898   0.635596  0.923045  0.822896\n",
      "301       0.033469   0.636156  0.923201  0.822960\n",
      "    var_smoothing  oob_score  log_loss     auroc\n",
      "67   9.552534e-11   0.679683  1.390969  0.830009\n",
      "77   1.050250e-10   0.679683  1.390969  0.830009\n",
      "52   2.446994e-11   0.679683  1.390969  0.830009\n",
      "84   1.222535e-11   0.679683  1.390969  0.830009\n",
      "50   2.552686e-11   0.679683  1.390969  0.830009\n",
      "57   1.219385e-11   0.679683  1.390969  0.830009\n",
      "99   1.856188e-11   0.679683  1.390969  0.830009\n",
      "61   1.701651e-11   0.679683  1.390969  0.830009\n",
      "97   1.619995e-11   0.679683  1.390969  0.830009\n",
      "68   4.803724e-11   0.679683  1.390969  0.830009\n"
     ]
    },
    {
     "data": {
      "image/png": "[encoded data removed]",
      "text/plain": [
       "<Figure size 432x288 with 1 Axes>"
      ]
     },
     "metadata": {
      "needs_background": "light"
     },
     "output_type": "display_data"
    },
    {
     "name": "stdout",
     "output_type": "stream",
     "text": [
      "time: 2min 1s\n"
     ]
    }
   ],
   "source": [
    "tune_var_smoothing(\n",
    "    search_space=loguniform.rvs(0.01, 1.5, size=15), outfile=\"var_smoothing7\"\n",
    ")\n",
    "tune_var_smoothing(\n",
    "    search_space=np.random.uniform(0.01, 1.5, size=15), outfile=\"var_smoothing8\"\n",
    ")"
   ]
  },
  {
   "cell_type": "code",
   "execution_count": 16,
   "metadata": {},
   "outputs": [
    {
     "data": {
      "application/vnd.jupyter.widget-view+json": {
       "model_id": "92a9125202f946498a1ac9957f68201e",
       "version_major": 2,
       "version_minor": 0
      },
      "text/plain": [
       "  0%|          | 0/11 [00:00<?, ?it/s]"
      ]
     },
     "metadata": {},
     "output_type": "display_data"
    },
    {
     "name": "stdout",
     "output_type": "stream",
     "text": [
      "    var_smoothing  oob_score  log_loss     auroc\n",
      "75   8.170631e-05   0.679823  1.384084  0.829990\n",
      "86   4.381361e-05   0.679741  1.387261  0.829999\n",
      "88   4.324212e-05   0.679741  1.387309  0.829999\n",
      "96   1.898003e-04   0.679706  1.375182  0.829964\n",
      "65   2.485592e-05   0.679694  1.388861  0.830003\n",
      "57   1.219385e-11   0.679683  1.390969  0.830009\n",
      "60   1.462300e-09   0.679683  1.390969  0.830009\n",
      "62   2.462678e-04   0.679683  1.370621  0.829950\n",
      "58   1.895164e-07   0.679683  1.390953  0.830009\n",
      "72   1.803619e-07   0.679683  1.390954  0.830009\n",
      "     var_smoothing  oob_score  log_loss     auroc\n",
      "293       0.037646   0.629624  0.922346  0.822365\n",
      "262       0.040724   0.625659  0.922454  0.821958\n",
      "267       0.036216   0.631514  0.922488  0.822563\n",
      "163       0.035371   0.632669  0.922641  0.822682\n",
      "153       0.034744   0.633730  0.922790  0.822773\n",
      "194       0.034717   0.633812  0.922797  0.822777\n",
      "261       0.034606   0.633905  0.922827  0.822793\n",
      "2         0.034015   0.635386  0.923006  0.822879\n",
      "258       0.033898   0.635596  0.923045  0.822896\n",
      "301       0.033469   0.636156  0.923201  0.822960\n",
      "    var_smoothing  oob_score  log_loss     auroc\n",
      "67   9.552534e-11   0.679683  1.390969  0.830009\n",
      "77   1.050250e-10   0.679683  1.390969  0.830009\n",
      "52   2.446994e-11   0.679683  1.390969  0.830009\n",
      "84   1.222535e-11   0.679683  1.390969  0.830009\n",
      "50   2.552686e-11   0.679683  1.390969  0.830009\n",
      "57   1.219385e-11   0.679683  1.390969  0.830009\n",
      "99   1.856188e-11   0.679683  1.390969  0.830009\n",
      "61   1.701651e-11   0.679683  1.390969  0.830009\n",
      "97   1.619995e-11   0.679683  1.390969  0.830009\n",
      "68   4.803724e-11   0.679683  1.390969  0.830009\n"
     ]
    },
    {
     "data": {
      "image/png": "[encoded data removed]",
      "text/plain": [
       "<Figure size 432x288 with 1 Axes>"
      ]
     },
     "metadata": {
      "needs_background": "light"
     },
     "output_type": "display_data"
    },
    {
     "data": {
      "application/vnd.jupyter.widget-view+json": {
       "model_id": "629bf9243cb04be4aa28723c980bfde2",
       "version_major": 2,
       "version_minor": 0
      },
      "text/plain": [
       "  0%|          | 0/11 [00:00<?, ?it/s]"
      ]
     },
     "metadata": {},
     "output_type": "display_data"
    },
    {
     "name": "stdout",
     "output_type": "stream",
     "text": [
      "    var_smoothing  oob_score  log_loss     auroc\n",
      "75   8.170631e-05   0.679823  1.384084  0.829990\n",
      "86   4.381361e-05   0.679741  1.387261  0.829999\n",
      "88   4.324212e-05   0.679741  1.387309  0.829999\n",
      "96   1.898003e-04   0.679706  1.375182  0.829964\n",
      "65   2.485592e-05   0.679694  1.388861  0.830003\n",
      "57   1.219385e-11   0.679683  1.390969  0.830009\n",
      "54   1.498979e-09   0.679683  1.390969  0.830009\n",
      "62   2.462678e-04   0.679683  1.370621  0.829950\n",
      "58   1.895164e-07   0.679683  1.390953  0.830009\n",
      "72   1.803619e-07   0.679683  1.390954  0.830009\n",
      "     var_smoothing  oob_score  log_loss     auroc\n",
      "293       0.037646   0.629624  0.922346  0.822365\n",
      "262       0.040724   0.625659  0.922454  0.821958\n",
      "267       0.036216   0.631514  0.922488  0.822563\n",
      "163       0.035371   0.632669  0.922641  0.822682\n",
      "153       0.034744   0.633730  0.922790  0.822773\n",
      "194       0.034717   0.633812  0.922797  0.822777\n",
      "261       0.034606   0.633905  0.922827  0.822793\n",
      "2         0.034015   0.635386  0.923006  0.822879\n",
      "258       0.033898   0.635596  0.923045  0.822896\n",
      "301       0.033469   0.636156  0.923201  0.822960\n",
      "    var_smoothing  oob_score  log_loss     auroc\n",
      "77   1.050250e-10   0.679683  1.390969  0.830009\n",
      "67   9.552534e-11   0.679683  1.390969  0.830009\n",
      "52   2.446994e-11   0.679683  1.390969  0.830009\n",
      "84   1.222535e-11   0.679683  1.390969  0.830009\n",
      "50   2.552686e-11   0.679683  1.390969  0.830009\n",
      "57   1.219385e-11   0.679683  1.390969  0.830009\n",
      "99   1.856188e-11   0.679683  1.390969  0.830009\n",
      "61   1.701651e-11   0.679683  1.390969  0.830009\n",
      "97   1.619995e-11   0.679683  1.390969  0.830009\n",
      "68   4.803724e-11   0.679683  1.390969  0.830009\n"
     ]
    },
    {
     "data": {
      "image/png": "[encoded data removed]",
      "text/plain": [
       "<Figure size 432x288 with 1 Axes>"
      ]
     },
     "metadata": {
      "needs_background": "light"
     },
     "output_type": "display_data"
    },
    {
     "name": "stdout",
     "output_type": "stream",
     "text": [
      "time: 1min 25s\n"
     ]
    }
   ],
   "source": [
    "tune_var_smoothing(\n",
    "    search_space=loguniform.rvs(0.12, 0.17, size=11), outfile=\"var_smoothing9\"\n",
    ")\n",
    "tune_var_smoothing(\n",
    "    search_space=np.random.uniform(0.12, 0.17, size=11), outfile=\"var_smoothing10\"\n",
    ")"
   ]
  },
  {
   "cell_type": "code",
   "execution_count": 17,
   "metadata": {},
   "outputs": [
    {
     "data": {
      "application/vnd.jupyter.widget-view+json": {
       "model_id": "cd66d6512e9c4c68af3ed97deb2defdc",
       "version_major": 2,
       "version_minor": 0
      },
      "text/plain": [
       "  0%|          | 0/13 [00:00<?, ?it/s]"
      ]
     },
     "metadata": {},
     "output_type": "display_data"
    },
    {
     "name": "stdout",
     "output_type": "stream",
     "text": [
      "    var_smoothing  oob_score  log_loss     auroc\n",
      "75   8.170631e-05   0.679823  1.384084  0.829990\n",
      "86   4.381361e-05   0.679741  1.387261  0.829999\n",
      "88   4.324212e-05   0.679741  1.387309  0.829999\n",
      "96   1.898003e-04   0.679706  1.375182  0.829964\n",
      "65   2.485592e-05   0.679694  1.388861  0.830003\n",
      "57   1.219385e-11   0.679683  1.390969  0.830009\n",
      "54   1.498979e-09   0.679683  1.390969  0.830009\n",
      "62   2.462678e-04   0.679683  1.370621  0.829950\n",
      "58   1.895164e-07   0.679683  1.390953  0.830009\n",
      "72   1.803619e-07   0.679683  1.390954  0.830009\n",
      "     var_smoothing  oob_score  log_loss     auroc\n",
      "293       0.037646   0.629624  0.922346  0.822365\n",
      "262       0.040724   0.625659  0.922454  0.821958\n",
      "267       0.036216   0.631514  0.922488  0.822563\n",
      "163       0.035371   0.632669  0.922641  0.822682\n",
      "153       0.034744   0.633730  0.922790  0.822773\n",
      "194       0.034717   0.633812  0.922797  0.822777\n",
      "261       0.034606   0.633905  0.922827  0.822793\n",
      "2         0.034015   0.635386  0.923006  0.822879\n",
      "258       0.033898   0.635596  0.923045  0.822896\n",
      "301       0.033469   0.636156  0.923201  0.822960\n",
      "    var_smoothing  oob_score  log_loss     auroc\n",
      "77   1.050250e-10   0.679683  1.390969  0.830009\n",
      "67   9.552534e-11   0.679683  1.390969  0.830009\n",
      "52   2.446994e-11   0.679683  1.390969  0.830009\n",
      "84   1.222535e-11   0.679683  1.390969  0.830009\n",
      "50   2.552686e-11   0.679683  1.390969  0.830009\n",
      "57   1.219385e-11   0.679683  1.390969  0.830009\n",
      "99   1.856188e-11   0.679683  1.390969  0.830009\n",
      "61   1.701651e-11   0.679683  1.390969  0.830009\n",
      "97   1.619995e-11   0.679683  1.390969  0.830009\n",
      "68   4.803724e-11   0.679683  1.390969  0.830009\n"
     ]
    },
    {
     "data": {
      "image/png": "[encoded data removed]",
      "text/plain": [
       "<Figure size 432x288 with 1 Axes>"
      ]
     },
     "metadata": {
      "needs_background": "light"
     },
     "output_type": "display_data"
    },
    {
     "data": {
      "application/vnd.jupyter.widget-view+json": {
       "model_id": "33628ad952654a7195e7b11b1b16ff77",
       "version_major": 2,
       "version_minor": 0
      },
      "text/plain": [
       "  0%|          | 0/13 [00:00<?, ?it/s]"
      ]
     },
     "metadata": {},
     "output_type": "display_data"
    },
    {
     "name": "stdout",
     "output_type": "stream",
     "text": [
      "    var_smoothing  oob_score  log_loss     auroc\n",
      "75   8.170631e-05   0.679823  1.384084  0.829990\n",
      "86   4.381361e-05   0.679741  1.387261  0.829999\n",
      "88   4.324212e-05   0.679741  1.387309  0.829999\n",
      "96   1.898003e-04   0.679706  1.375182  0.829964\n",
      "65   2.485592e-05   0.679694  1.388861  0.830003\n",
      "57   1.219385e-11   0.679683  1.390969  0.830009\n",
      "54   1.498979e-09   0.679683  1.390969  0.830009\n",
      "62   2.462678e-04   0.679683  1.370621  0.829950\n",
      "58   1.895164e-07   0.679683  1.390953  0.830009\n",
      "72   1.803619e-07   0.679683  1.390954  0.830009\n",
      "     var_smoothing  oob_score  log_loss     auroc\n",
      "293       0.037646   0.629624  0.922346  0.822365\n",
      "262       0.040724   0.625659  0.922454  0.821958\n",
      "267       0.036216   0.631514  0.922488  0.822563\n",
      "163       0.035371   0.632669  0.922641  0.822682\n",
      "153       0.034744   0.633730  0.922790  0.822773\n",
      "194       0.034717   0.633812  0.922797  0.822777\n",
      "261       0.034606   0.633905  0.922827  0.822793\n",
      "2         0.034015   0.635386  0.923006  0.822879\n",
      "258       0.033898   0.635596  0.923045  0.822896\n",
      "301       0.033469   0.636156  0.923201  0.822960\n",
      "    var_smoothing  oob_score  log_loss     auroc\n",
      "77   1.050250e-10   0.679683  1.390969  0.830009\n",
      "67   9.552534e-11   0.679683  1.390969  0.830009\n",
      "52   2.446994e-11   0.679683  1.390969  0.830009\n",
      "84   1.222535e-11   0.679683  1.390969  0.830009\n",
      "50   2.552686e-11   0.679683  1.390969  0.830009\n",
      "57   1.219385e-11   0.679683  1.390969  0.830009\n",
      "99   1.856188e-11   0.679683  1.390969  0.830009\n",
      "61   1.701651e-11   0.679683  1.390969  0.830009\n",
      "97   1.619995e-11   0.679683  1.390969  0.830009\n",
      "68   4.803724e-11   0.679683  1.390969  0.830009\n"
     ]
    },
    {
     "data": {
      "image/png": "[encoded data removed]",
      "text/plain": [
       "<Figure size 432x288 with 1 Axes>"
      ]
     },
     "metadata": {
      "needs_background": "light"
     },
     "output_type": "display_data"
    },
    {
     "name": "stdout",
     "output_type": "stream",
     "text": [
      "time: 1min 41s\n"
     ]
    }
   ],
   "source": [
    "tune_var_smoothing(\n",
    "    search_space=loguniform.rvs(0.2, 0.4, size=13), outfile=\"var_smoothing11\"\n",
    ")\n",
    "tune_var_smoothing(\n",
    "    search_space=np.random.uniform(0.2, 0.2, size=13), outfile=\"var_smoothing12\"\n",
    ")"
   ]
  },
  {
   "cell_type": "code",
   "execution_count": 18,
   "metadata": {},
   "outputs": [
    {
     "data": {
      "application/vnd.jupyter.widget-view+json": {
       "model_id": "a6043794f29a42178198345772b6bf02",
       "version_major": 2,
       "version_minor": 0
      },
      "text/plain": [
       "  0%|          | 0/30 [00:00<?, ?it/s]"
      ]
     },
     "metadata": {},
     "output_type": "display_data"
    },
    {
     "name": "stdout",
     "output_type": "stream",
     "text": [
      "     var_smoothing  oob_score  log_loss     auroc\n",
      "407       0.000093   0.679846  1.383146  0.829987\n",
      "75        0.000082   0.679823  1.384084  0.829990\n",
      "396       0.000048   0.679776  1.386935  0.829998\n",
      "394       0.000058   0.679764  1.386089  0.829995\n",
      "86        0.000044   0.679741  1.387261  0.829999\n",
      "88        0.000043   0.679741  1.387309  0.829999\n",
      "399       0.000040   0.679729  1.387592  0.830000\n",
      "96        0.000190   0.679706  1.375182  0.829964\n",
      "404       0.000028   0.679694  1.388599  0.830003\n",
      "65        0.000025   0.679694  1.388861  0.830003\n",
      "     var_smoothing  oob_score  log_loss     auroc\n",
      "293       0.037646   0.629624  0.922346  0.822365\n",
      "262       0.040724   0.625659  0.922454  0.821958\n",
      "267       0.036216   0.631514  0.922488  0.822563\n",
      "163       0.035371   0.632669  0.922641  0.822682\n",
      "153       0.034744   0.633730  0.922790  0.822773\n",
      "194       0.034717   0.633812  0.922797  0.822777\n",
      "261       0.034606   0.633905  0.922827  0.822793\n",
      "2         0.034015   0.635386  0.923006  0.822879\n",
      "258       0.033898   0.635596  0.923045  0.822896\n",
      "301       0.033469   0.636156  0.923201  0.822960\n",
      "     var_smoothing  oob_score  log_loss     auroc\n",
      "77    1.050250e-10   0.679683  1.390969  0.830009\n",
      "67    9.552534e-11   0.679683  1.390969  0.830009\n",
      "383   1.859634e-12   0.679683  1.390969  0.830009\n",
      "61    1.701651e-11   0.679683  1.390969  0.830009\n",
      "50    2.552686e-11   0.679683  1.390969  0.830009\n",
      "52    2.446994e-11   0.679683  1.390969  0.830009\n",
      "99    1.856188e-11   0.679683  1.390969  0.830009\n",
      "405   4.991682e-12   0.679683  1.390969  0.830009\n",
      "97    1.619995e-11   0.679683  1.390969  0.830009\n",
      "391   7.763338e-12   0.679683  1.390969  0.830009\n"
     ]
    },
    {
     "data": {
      "image/png": "[encoded data removed]",
      "text/plain": [
       "<Figure size 432x288 with 1 Axes>"
      ]
     },
     "metadata": {
      "needs_background": "light"
     },
     "output_type": "display_data"
    },
    {
     "data": {
      "application/vnd.jupyter.widget-view+json": {
       "model_id": "eecac3fd4d2e4e10a55ac6e940254ce5",
       "version_major": 2,
       "version_minor": 0
      },
      "text/plain": [
       "  0%|          | 0/30 [00:00<?, ?it/s]"
      ]
     },
     "metadata": {},
     "output_type": "display_data"
    },
    {
     "name": "stdout",
     "output_type": "stream",
     "text": [
      "     var_smoothing  oob_score  log_loss     auroc\n",
      "407       0.000093   0.679846  1.383146  0.829987\n",
      "75        0.000082   0.679823  1.384084  0.829990\n",
      "396       0.000048   0.679776  1.386935  0.829998\n",
      "394       0.000058   0.679764  1.386089  0.829995\n",
      "86        0.000044   0.679741  1.387261  0.829999\n",
      "88        0.000043   0.679741  1.387309  0.829999\n",
      "399       0.000040   0.679729  1.387592  0.830000\n",
      "96        0.000190   0.679706  1.375182  0.829964\n",
      "65        0.000025   0.679694  1.388861  0.830003\n",
      "404       0.000028   0.679694  1.388599  0.830003\n",
      "     var_smoothing  oob_score  log_loss     auroc\n",
      "293       0.037646   0.629624  0.922346  0.822365\n",
      "262       0.040724   0.625659  0.922454  0.821958\n",
      "267       0.036216   0.631514  0.922488  0.822563\n",
      "163       0.035371   0.632669  0.922641  0.822682\n",
      "153       0.034744   0.633730  0.922790  0.822773\n",
      "194       0.034717   0.633812  0.922797  0.822777\n",
      "261       0.034606   0.633905  0.922827  0.822793\n",
      "2         0.034015   0.635386  0.923006  0.822879\n",
      "258       0.033898   0.635596  0.923045  0.822896\n",
      "301       0.033469   0.636156  0.923201  0.822960\n",
      "     var_smoothing  oob_score  log_loss     auroc\n",
      "67    9.552534e-11   0.679683  1.390969  0.830009\n",
      "77    1.050250e-10   0.679683  1.390969  0.830009\n",
      "383   1.859634e-12   0.679683  1.390969  0.830009\n",
      "402   6.503296e-12   0.679683  1.390969  0.830009\n",
      "391   7.763338e-12   0.679683  1.390969  0.830009\n",
      "57    1.219385e-11   0.679683  1.390969  0.830009\n",
      "84    1.222535e-11   0.679683  1.390969  0.830009\n",
      "403   1.481363e-11   0.679683  1.390969  0.830009\n",
      "97    1.619995e-11   0.679683  1.390969  0.830009\n",
      "61    1.701651e-11   0.679683  1.390969  0.830009\n"
     ]
    },
    {
     "data": {
      "image/png": "[encoded data removed]",
      "text/plain": [
       "<Figure size 432x288 with 1 Axes>"
      ]
     },
     "metadata": {
      "needs_background": "light"
     },
     "output_type": "display_data"
    },
    {
     "name": "stdout",
     "output_type": "stream",
     "text": [
      "time: 3min 56s\n"
     ]
    }
   ],
   "source": [
    "tune_var_smoothing(\n",
    "    search_space=loguniform.rvs(1e-12, 0.5, size=30), outfile=\"var_smoothing13\"\n",
    ")\n",
    "tune_var_smoothing(\n",
    "    search_space=np.random.uniform(1e-12, 0.5, size=30), outfile=\"var_smoothing14\"\n",
    ")"
   ]
  },
  {
   "cell_type": "code",
   "execution_count": 19,
   "metadata": {},
   "outputs": [
    {
     "name": "stdout",
     "output_type": "stream",
     "text": [
      "time: 68 ms\n"
     ]
    }
   ],
   "source": [
    "files = [\n",
    "    \"var_smoothing1.feather\",\n",
    "    \"var_smoothing2.feather\",\n",
    "    \"var_smoothing3.feather\",\n",
    "    \"var_smoothing4.feather\",\n",
    "    \"var_smoothing5.feather\",\n",
    "    \"var_smoothing6.feather\",\n",
    "    \"var_smoothing7.feather\",\n",
    "    \"var_smoothing8.feather\",\n",
    "    \"var_smoothing9.feather\",\n",
    "    \"var_smoothing10.feather\",\n",
    "    \"var_smoothing11.feather\",\n",
    "    \"var_smoothing12.feather\",\n",
    "    \"var_smoothing13.feather\",\n",
    "    \"var_smoothing14.feather\",\n",
    "]\n",
    "df = pd.concat(\n",
    "    [pd.read_feather(f\"{DATA_OUT_FOLDER}/{file}\") for file in files],\n",
    "    axis=\"rows\",\n",
    ")"
   ]
  },
  {
   "cell_type": "code",
   "execution_count": 20,
   "metadata": {},
   "outputs": [
    {
     "data": {
      "text/plain": [
       "<AxesSubplot:xlabel='var_smoothing', ylabel='auroc'>"
      ]
     },
     "execution_count": 20,
     "metadata": {},
     "output_type": "execute_result"
    },
    {
     "name": "stderr",
     "output_type": "stream",
     "text": [
      "WARNING:matplotlib.legend:No artists with labels found to put in legend.  Note that artists whose label start with an underscore are ignored when legend() is called with no argument.\n"
     ]
    },
    {
     "data": {
      "text/plain": [
       "<matplotlib.legend.Legend at 0x17c005ddf40>"
      ]
     },
     "execution_count": 20,
     "metadata": {},
     "output_type": "execute_result"
    },
    {
     "data": {
      "image/png": "[encoded data removed]",
      "text/plain": [
       "<Figure size 432x288 with 1 Axes>"
      ]
     },
     "metadata": {
      "needs_background": "light"
     },
     "output_type": "display_data"
    },
    {
     "data": {
      "text/plain": [
       "<AxesSubplot:xlabel='var_smoothing', ylabel='log_loss'>"
      ]
     },
     "execution_count": 20,
     "metadata": {},
     "output_type": "execute_result"
    },
    {
     "name": "stderr",
     "output_type": "stream",
     "text": [
      "WARNING:matplotlib.legend:No artists with labels found to put in legend.  Note that artists whose label start with an underscore are ignored when legend() is called with no argument.\n"
     ]
    },
    {
     "data": {
      "text/plain": [
       "<matplotlib.legend.Legend at 0x17c01b5eee0>"
      ]
     },
     "execution_count": 20,
     "metadata": {},
     "output_type": "execute_result"
    },
    {
     "data": {
      "image/png": "[encoded data removed]",
      "text/plain": [
       "<Figure size 432x288 with 1 Axes>"
      ]
     },
     "metadata": {
      "needs_background": "light"
     },
     "output_type": "display_data"
    },
    {
     "data": {
      "text/plain": [
       "<AxesSubplot:xlabel='var_smoothing', ylabel='oob_score'>"
      ]
     },
     "execution_count": 20,
     "metadata": {},
     "output_type": "execute_result"
    },
    {
     "name": "stderr",
     "output_type": "stream",
     "text": [
      "WARNING:matplotlib.legend:No artists with labels found to put in legend.  Note that artists whose label start with an underscore are ignored when legend() is called with no argument.\n"
     ]
    },
    {
     "data": {
      "text/plain": [
       "<matplotlib.legend.Legend at 0x17c01ba82e0>"
      ]
     },
     "execution_count": 20,
     "metadata": {},
     "output_type": "execute_result"
    },
    {
     "data": {
      "image/png": "[encoded data removed]",
      "text/plain": [
       "<Figure size 432x288 with 1 Axes>"
      ]
     },
     "metadata": {
      "needs_background": "light"
     },
     "output_type": "display_data"
    },
    {
     "name": "stdout",
     "output_type": "stream",
     "text": [
      "time: 842 ms\n"
     ]
    }
   ],
   "source": [
    "for metric in (\"auroc\", \"log_loss\", \"oob_score\"):\n",
    "    # plot\n",
    "    df.sort_values(by=\"var_smoothing\").plot(x=\"var_smoothing\", y=metric, kind=\"scatter\")\n",
    "    plt.legend(frameon=False)\n",
    "    sns.despine(top=True, right=True)\n",
    "    plt.tight_layout()\n",
    "    plt.show()"
   ]
  },
  {
   "cell_type": "code",
   "execution_count": 21,
   "metadata": {},
   "outputs": [
    {
     "data": {
      "text/html": [
       "<div>\n",
       "<style scoped>\n",
       "    .dataframe tbody tr th:only-of-type {\n",
       "        vertical-align: middle;\n",
       "    }\n",
       "\n",
       "    .dataframe tbody tr th {\n",
       "        vertical-align: top;\n",
       "    }\n",
       "\n",
       "    .dataframe thead th {\n",
       "        text-align: right;\n",
       "    }\n",
       "</style>\n",
       "<table border=\"1\" class=\"dataframe\">\n",
       "  <thead>\n",
       "    <tr style=\"text-align: right;\">\n",
       "      <th></th>\n",
       "      <th>var_smoothing</th>\n",
       "      <th>oob_score</th>\n",
       "      <th>log_loss</th>\n",
       "      <th>auroc</th>\n",
       "    </tr>\n",
       "  </thead>\n",
       "  <tbody>\n",
       "    <tr>\n",
       "      <th>86</th>\n",
       "      <td>0.037646</td>\n",
       "      <td>0.629624</td>\n",
       "      <td>0.922346</td>\n",
       "      <td>0.822365</td>\n",
       "    </tr>\n",
       "  </tbody>\n",
       "</table>\n",
       "</div>"
      ],
      "text/plain": [
       "    var_smoothing  oob_score  log_loss     auroc\n",
       "86       0.037646   0.629624  0.922346  0.822365"
      ]
     },
     "execution_count": 21,
     "metadata": {},
     "output_type": "execute_result"
    },
    {
     "data": {
      "text/html": [
       "<div>\n",
       "<style scoped>\n",
       "    .dataframe tbody tr th:only-of-type {\n",
       "        vertical-align: middle;\n",
       "    }\n",
       "\n",
       "    .dataframe tbody tr th {\n",
       "        vertical-align: top;\n",
       "    }\n",
       "\n",
       "    .dataframe thead th {\n",
       "        text-align: right;\n",
       "    }\n",
       "</style>\n",
       "<table border=\"1\" class=\"dataframe\">\n",
       "  <thead>\n",
       "    <tr style=\"text-align: right;\">\n",
       "      <th></th>\n",
       "      <th>var_smoothing</th>\n",
       "      <th>oob_score</th>\n",
       "      <th>log_loss</th>\n",
       "      <th>auroc</th>\n",
       "    </tr>\n",
       "  </thead>\n",
       "  <tbody>\n",
       "    <tr>\n",
       "      <th>57</th>\n",
       "      <td>0.000093</td>\n",
       "      <td>0.679846</td>\n",
       "      <td>1.383146</td>\n",
       "      <td>0.829987</td>\n",
       "    </tr>\n",
       "  </tbody>\n",
       "</table>\n",
       "</div>"
      ],
      "text/plain": [
       "    var_smoothing  oob_score  log_loss     auroc\n",
       "57       0.000093   0.679846  1.383146  0.829987"
      ]
     },
     "execution_count": 21,
     "metadata": {},
     "output_type": "execute_result"
    },
    {
     "data": {
      "text/html": [
       "<div>\n",
       "<style scoped>\n",
       "    .dataframe tbody tr th:only-of-type {\n",
       "        vertical-align: middle;\n",
       "    }\n",
       "\n",
       "    .dataframe tbody tr th {\n",
       "        vertical-align: top;\n",
       "    }\n",
       "\n",
       "    .dataframe thead th {\n",
       "        text-align: right;\n",
       "    }\n",
       "</style>\n",
       "<table border=\"1\" class=\"dataframe\">\n",
       "  <thead>\n",
       "    <tr style=\"text-align: right;\">\n",
       "      <th></th>\n",
       "      <th>var_smoothing</th>\n",
       "      <th>oob_score</th>\n",
       "      <th>log_loss</th>\n",
       "      <th>auroc</th>\n",
       "    </tr>\n",
       "  </thead>\n",
       "  <tbody>\n",
       "    <tr>\n",
       "      <th>10</th>\n",
       "      <td>9.552534e-11</td>\n",
       "      <td>0.679683</td>\n",
       "      <td>1.390969</td>\n",
       "      <td>0.830009</td>\n",
       "    </tr>\n",
       "    <tr>\n",
       "      <th>11</th>\n",
       "      <td>1.050250e-10</td>\n",
       "      <td>0.679683</td>\n",
       "      <td>1.390969</td>\n",
       "      <td>0.830009</td>\n",
       "    </tr>\n",
       "  </tbody>\n",
       "</table>\n",
       "</div>"
      ],
      "text/plain": [
       "    var_smoothing  oob_score  log_loss     auroc\n",
       "10   9.552534e-11   0.679683  1.390969  0.830009\n",
       "11   1.050250e-10   0.679683  1.390969  0.830009"
      ]
     },
     "execution_count": 21,
     "metadata": {},
     "output_type": "execute_result"
    },
    {
     "name": "stdout",
     "output_type": "stream",
     "text": [
      "time: 55 ms\n"
     ]
    }
   ],
   "source": [
    "# best\n",
    "df = df.drop_duplicates()\n",
    "df.loc[df.log_loss == df.log_loss.min()]\n",
    "df.loc[df.oob_score == df.oob_score.max()].sort_values(by=\"log_loss\", ascending=True)\n",
    "df.loc[df.auroc == df.auroc.max()]"
   ]
  },
  {
   "cell_type": "code",
   "execution_count": 22,
   "metadata": {},
   "outputs": [
    {
     "data": {
      "text/html": [
       "<div>\n",
       "<style scoped>\n",
       "    .dataframe tbody tr th:only-of-type {\n",
       "        vertical-align: middle;\n",
       "    }\n",
       "\n",
       "    .dataframe tbody tr th {\n",
       "        vertical-align: top;\n",
       "    }\n",
       "\n",
       "    .dataframe thead th {\n",
       "        text-align: right;\n",
       "    }\n",
       "</style>\n",
       "<table border=\"1\" class=\"dataframe\">\n",
       "  <thead>\n",
       "    <tr style=\"text-align: right;\">\n",
       "      <th></th>\n",
       "      <th>var_smoothing</th>\n",
       "      <th>oob_score</th>\n",
       "      <th>log_loss</th>\n",
       "      <th>auroc</th>\n",
       "    </tr>\n",
       "  </thead>\n",
       "  <tbody>\n",
       "    <tr>\n",
       "      <th>87</th>\n",
       "      <td>0.040724</td>\n",
       "      <td>0.625659</td>\n",
       "      <td>0.922454</td>\n",
       "      <td>0.821958</td>\n",
       "    </tr>\n",
       "    <tr>\n",
       "      <th>85</th>\n",
       "      <td>0.036216</td>\n",
       "      <td>0.631514</td>\n",
       "      <td>0.922488</td>\n",
       "      <td>0.822563</td>\n",
       "    </tr>\n",
       "    <tr>\n",
       "      <th>61</th>\n",
       "      <td>0.035371</td>\n",
       "      <td>0.632669</td>\n",
       "      <td>0.922641</td>\n",
       "      <td>0.822682</td>\n",
       "    </tr>\n",
       "    <tr>\n",
       "      <th>60</th>\n",
       "      <td>0.034744</td>\n",
       "      <td>0.633730</td>\n",
       "      <td>0.922790</td>\n",
       "      <td>0.822773</td>\n",
       "    </tr>\n",
       "    <tr>\n",
       "      <th>59</th>\n",
       "      <td>0.034717</td>\n",
       "      <td>0.633812</td>\n",
       "      <td>0.922797</td>\n",
       "      <td>0.822777</td>\n",
       "    </tr>\n",
       "    <tr>\n",
       "      <th>81</th>\n",
       "      <td>0.034606</td>\n",
       "      <td>0.633905</td>\n",
       "      <td>0.922827</td>\n",
       "      <td>0.822793</td>\n",
       "    </tr>\n",
       "    <tr>\n",
       "      <th>8</th>\n",
       "      <td>0.034015</td>\n",
       "      <td>0.635386</td>\n",
       "      <td>0.923006</td>\n",
       "      <td>0.822879</td>\n",
       "    </tr>\n",
       "    <tr>\n",
       "      <th>79</th>\n",
       "      <td>0.033898</td>\n",
       "      <td>0.635596</td>\n",
       "      <td>0.923045</td>\n",
       "      <td>0.822896</td>\n",
       "    </tr>\n",
       "    <tr>\n",
       "      <th>81</th>\n",
       "      <td>0.033469</td>\n",
       "      <td>0.636156</td>\n",
       "      <td>0.923201</td>\n",
       "      <td>0.822960</td>\n",
       "    </tr>\n",
       "    <tr>\n",
       "      <th>57</th>\n",
       "      <td>0.033137</td>\n",
       "      <td>0.636844</td>\n",
       "      <td>0.923334</td>\n",
       "      <td>0.823009</td>\n",
       "    </tr>\n",
       "  </tbody>\n",
       "</table>\n",
       "</div>"
      ],
      "text/plain": [
       "    var_smoothing  oob_score  log_loss     auroc\n",
       "87       0.040724   0.625659  0.922454  0.821958\n",
       "85       0.036216   0.631514  0.922488  0.822563\n",
       "61       0.035371   0.632669  0.922641  0.822682\n",
       "60       0.034744   0.633730  0.922790  0.822773\n",
       "59       0.034717   0.633812  0.922797  0.822777\n",
       "81       0.034606   0.633905  0.922827  0.822793\n",
       "8        0.034015   0.635386  0.923006  0.822879\n",
       "79       0.033898   0.635596  0.923045  0.822896\n",
       "81       0.033469   0.636156  0.923201  0.822960\n",
       "57       0.033137   0.636844  0.923334  0.823009"
      ]
     },
     "execution_count": 22,
     "metadata": {},
     "output_type": "execute_result"
    },
    {
     "data": {
      "text/html": [
       "<div>\n",
       "<style scoped>\n",
       "    .dataframe tbody tr th:only-of-type {\n",
       "        vertical-align: middle;\n",
       "    }\n",
       "\n",
       "    .dataframe tbody tr th {\n",
       "        vertical-align: top;\n",
       "    }\n",
       "\n",
       "    .dataframe thead th {\n",
       "        text-align: right;\n",
       "    }\n",
       "</style>\n",
       "<table border=\"1\" class=\"dataframe\">\n",
       "  <thead>\n",
       "    <tr style=\"text-align: right;\">\n",
       "      <th></th>\n",
       "      <th>var_smoothing</th>\n",
       "      <th>oob_score</th>\n",
       "      <th>log_loss</th>\n",
       "      <th>auroc</th>\n",
       "    </tr>\n",
       "  </thead>\n",
       "  <tbody>\n",
       "    <tr>\n",
       "      <th>33</th>\n",
       "      <td>0.000082</td>\n",
       "      <td>0.679823</td>\n",
       "      <td>1.384084</td>\n",
       "      <td>0.829990</td>\n",
       "    </tr>\n",
       "    <tr>\n",
       "      <th>54</th>\n",
       "      <td>0.000048</td>\n",
       "      <td>0.679776</td>\n",
       "      <td>1.386935</td>\n",
       "      <td>0.829998</td>\n",
       "    </tr>\n",
       "    <tr>\n",
       "      <th>55</th>\n",
       "      <td>0.000058</td>\n",
       "      <td>0.679764</td>\n",
       "      <td>1.386089</td>\n",
       "      <td>0.829995</td>\n",
       "    </tr>\n",
       "    <tr>\n",
       "      <th>32</th>\n",
       "      <td>0.000044</td>\n",
       "      <td>0.679741</td>\n",
       "      <td>1.387261</td>\n",
       "      <td>0.829999</td>\n",
       "    </tr>\n",
       "    <tr>\n",
       "      <th>31</th>\n",
       "      <td>0.000043</td>\n",
       "      <td>0.679741</td>\n",
       "      <td>1.387309</td>\n",
       "      <td>0.829999</td>\n",
       "    </tr>\n",
       "    <tr>\n",
       "      <th>51</th>\n",
       "      <td>0.000040</td>\n",
       "      <td>0.679729</td>\n",
       "      <td>1.387592</td>\n",
       "      <td>0.830000</td>\n",
       "    </tr>\n",
       "    <tr>\n",
       "      <th>34</th>\n",
       "      <td>0.000190</td>\n",
       "      <td>0.679706</td>\n",
       "      <td>1.375182</td>\n",
       "      <td>0.829964</td>\n",
       "    </tr>\n",
       "    <tr>\n",
       "      <th>50</th>\n",
       "      <td>0.000028</td>\n",
       "      <td>0.679694</td>\n",
       "      <td>1.388599</td>\n",
       "      <td>0.830003</td>\n",
       "    </tr>\n",
       "    <tr>\n",
       "      <th>30</th>\n",
       "      <td>0.000025</td>\n",
       "      <td>0.679694</td>\n",
       "      <td>1.388861</td>\n",
       "      <td>0.830003</td>\n",
       "    </tr>\n",
       "    <tr>\n",
       "      <th>48</th>\n",
       "      <td>0.000025</td>\n",
       "      <td>0.679694</td>\n",
       "      <td>1.388865</td>\n",
       "      <td>0.830003</td>\n",
       "    </tr>\n",
       "  </tbody>\n",
       "</table>\n",
       "</div>"
      ],
      "text/plain": [
       "    var_smoothing  oob_score  log_loss     auroc\n",
       "33       0.000082   0.679823  1.384084  0.829990\n",
       "54       0.000048   0.679776  1.386935  0.829998\n",
       "55       0.000058   0.679764  1.386089  0.829995\n",
       "32       0.000044   0.679741  1.387261  0.829999\n",
       "31       0.000043   0.679741  1.387309  0.829999\n",
       "51       0.000040   0.679729  1.387592  0.830000\n",
       "34       0.000190   0.679706  1.375182  0.829964\n",
       "50       0.000028   0.679694  1.388599  0.830003\n",
       "30       0.000025   0.679694  1.388861  0.830003\n",
       "48       0.000025   0.679694  1.388865  0.830003"
      ]
     },
     "execution_count": 22,
     "metadata": {},
     "output_type": "execute_result"
    },
    {
     "data": {
      "text/html": [
       "<div>\n",
       "<style scoped>\n",
       "    .dataframe tbody tr th:only-of-type {\n",
       "        vertical-align: middle;\n",
       "    }\n",
       "\n",
       "    .dataframe tbody tr th {\n",
       "        vertical-align: top;\n",
       "    }\n",
       "\n",
       "    .dataframe thead th {\n",
       "        text-align: right;\n",
       "    }\n",
       "</style>\n",
       "<table border=\"1\" class=\"dataframe\">\n",
       "  <thead>\n",
       "    <tr style=\"text-align: right;\">\n",
       "      <th></th>\n",
       "      <th>var_smoothing</th>\n",
       "      <th>oob_score</th>\n",
       "      <th>log_loss</th>\n",
       "      <th>auroc</th>\n",
       "    </tr>\n",
       "  </thead>\n",
       "  <tbody>\n",
       "    <tr>\n",
       "      <th>10</th>\n",
       "      <td>9.552534e-11</td>\n",
       "      <td>0.679683</td>\n",
       "      <td>1.390969</td>\n",
       "      <td>0.830009</td>\n",
       "    </tr>\n",
       "    <tr>\n",
       "      <th>4</th>\n",
       "      <td>1.856188e-11</td>\n",
       "      <td>0.679683</td>\n",
       "      <td>1.390969</td>\n",
       "      <td>0.830009</td>\n",
       "    </tr>\n",
       "    <tr>\n",
       "      <th>3</th>\n",
       "      <td>1.701651e-11</td>\n",
       "      <td>0.679683</td>\n",
       "      <td>1.390969</td>\n",
       "      <td>0.830009</td>\n",
       "    </tr>\n",
       "    <tr>\n",
       "      <th>2</th>\n",
       "      <td>6.503296e-12</td>\n",
       "      <td>0.679683</td>\n",
       "      <td>1.390969</td>\n",
       "      <td>0.830009</td>\n",
       "    </tr>\n",
       "    <tr>\n",
       "      <th>3</th>\n",
       "      <td>7.763338e-12</td>\n",
       "      <td>0.679683</td>\n",
       "      <td>1.390969</td>\n",
       "      <td>0.830009</td>\n",
       "    </tr>\n",
       "    <tr>\n",
       "      <th>6</th>\n",
       "      <td>1.481363e-11</td>\n",
       "      <td>0.679683</td>\n",
       "      <td>1.390969</td>\n",
       "      <td>0.830009</td>\n",
       "    </tr>\n",
       "    <tr>\n",
       "      <th>0</th>\n",
       "      <td>1.219385e-11</td>\n",
       "      <td>0.679683</td>\n",
       "      <td>1.390969</td>\n",
       "      <td>0.830009</td>\n",
       "    </tr>\n",
       "    <tr>\n",
       "      <th>1</th>\n",
       "      <td>1.222535e-11</td>\n",
       "      <td>0.679683</td>\n",
       "      <td>1.390969</td>\n",
       "      <td>0.830009</td>\n",
       "    </tr>\n",
       "    <tr>\n",
       "      <th>2</th>\n",
       "      <td>1.619995e-11</td>\n",
       "      <td>0.679683</td>\n",
       "      <td>1.390969</td>\n",
       "      <td>0.830009</td>\n",
       "    </tr>\n",
       "    <tr>\n",
       "      <th>1</th>\n",
       "      <td>4.991682e-12</td>\n",
       "      <td>0.679683</td>\n",
       "      <td>1.390969</td>\n",
       "      <td>0.830009</td>\n",
       "    </tr>\n",
       "  </tbody>\n",
       "</table>\n",
       "</div>"
      ],
      "text/plain": [
       "    var_smoothing  oob_score  log_loss     auroc\n",
       "10   9.552534e-11   0.679683  1.390969  0.830009\n",
       "4    1.856188e-11   0.679683  1.390969  0.830009\n",
       "3    1.701651e-11   0.679683  1.390969  0.830009\n",
       "2    6.503296e-12   0.679683  1.390969  0.830009\n",
       "3    7.763338e-12   0.679683  1.390969  0.830009\n",
       "6    1.481363e-11   0.679683  1.390969  0.830009\n",
       "0    1.219385e-11   0.679683  1.390969  0.830009\n",
       "1    1.222535e-11   0.679683  1.390969  0.830009\n",
       "2    1.619995e-11   0.679683  1.390969  0.830009\n",
       "1    4.991682e-12   0.679683  1.390969  0.830009"
      ]
     },
     "execution_count": 22,
     "metadata": {},
     "output_type": "execute_result"
    },
    {
     "name": "stdout",
     "output_type": "stream",
     "text": [
      "time: 38 ms\n"
     ]
    }
   ],
   "source": [
    "# next best\n",
    "df.sort_values(by=\"log_loss\", ascending=True).head(11).tail(10)\n",
    "df.sort_values(by=\"oob_score\", ascending=False).head(11).tail(10)\n",
    "df.sort_values(by=\"auroc\", ascending=False).head(11).tail(10)"
   ]
  },
  {
   "cell_type": "code",
   "execution_count": 23,
   "metadata": {},
   "outputs": [
    {
     "data": {
      "text/html": [
       "<div>\n",
       "<style scoped>\n",
       "    .dataframe tbody tr th:only-of-type {\n",
       "        vertical-align: middle;\n",
       "    }\n",
       "\n",
       "    .dataframe tbody tr th {\n",
       "        vertical-align: top;\n",
       "    }\n",
       "\n",
       "    .dataframe thead th {\n",
       "        text-align: right;\n",
       "    }\n",
       "</style>\n",
       "<table border=\"1\" class=\"dataframe\">\n",
       "  <thead>\n",
       "    <tr style=\"text-align: right;\">\n",
       "      <th></th>\n",
       "      <th>var_smoothing</th>\n",
       "      <th>oob_score</th>\n",
       "      <th>log_loss</th>\n",
       "      <th>auroc</th>\n",
       "      <th>diff</th>\n",
       "    </tr>\n",
       "  </thead>\n",
       "  <tbody>\n",
       "    <tr>\n",
       "      <th>69</th>\n",
       "      <td>0.026744</td>\n",
       "      <td>0.645696</td>\n",
       "      <td>0.928714</td>\n",
       "      <td>0.824037</td>\n",
       "      <td>0.283018</td>\n",
       "    </tr>\n",
       "    <tr>\n",
       "      <th>68</th>\n",
       "      <td>0.024788</td>\n",
       "      <td>0.648705</td>\n",
       "      <td>0.931868</td>\n",
       "      <td>0.824379</td>\n",
       "      <td>0.283163</td>\n",
       "    </tr>\n",
       "    <tr>\n",
       "      <th>52</th>\n",
       "      <td>0.027849</td>\n",
       "      <td>0.644122</td>\n",
       "      <td>0.927310</td>\n",
       "      <td>0.823850</td>\n",
       "      <td>0.283188</td>\n",
       "    </tr>\n",
       "    <tr>\n",
       "      <th>71</th>\n",
       "      <td>0.028549</td>\n",
       "      <td>0.643282</td>\n",
       "      <td>0.926539</td>\n",
       "      <td>0.823733</td>\n",
       "      <td>0.283257</td>\n",
       "    </tr>\n",
       "    <tr>\n",
       "      <th>7</th>\n",
       "      <td>0.028930</td>\n",
       "      <td>0.642757</td>\n",
       "      <td>0.926156</td>\n",
       "      <td>0.823670</td>\n",
       "      <td>0.283399</td>\n",
       "    </tr>\n",
       "    <tr>\n",
       "      <th>6</th>\n",
       "      <td>0.024416</td>\n",
       "      <td>0.649172</td>\n",
       "      <td>0.932580</td>\n",
       "      <td>0.824446</td>\n",
       "      <td>0.283409</td>\n",
       "    </tr>\n",
       "    <tr>\n",
       "      <th>5</th>\n",
       "      <td>0.024178</td>\n",
       "      <td>0.649429</td>\n",
       "      <td>0.933057</td>\n",
       "      <td>0.824489</td>\n",
       "      <td>0.283628</td>\n",
       "    </tr>\n",
       "    <tr>\n",
       "      <th>54</th>\n",
       "      <td>0.029262</td>\n",
       "      <td>0.642174</td>\n",
       "      <td>0.925843</td>\n",
       "      <td>0.823616</td>\n",
       "      <td>0.283669</td>\n",
       "    </tr>\n",
       "    <tr>\n",
       "      <th>48</th>\n",
       "      <td>0.023798</td>\n",
       "      <td>0.650105</td>\n",
       "      <td>0.933853</td>\n",
       "      <td>0.824559</td>\n",
       "      <td>0.283748</td>\n",
       "    </tr>\n",
       "    <tr>\n",
       "      <th>52</th>\n",
       "      <td>0.030153</td>\n",
       "      <td>0.640914</td>\n",
       "      <td>0.925086</td>\n",
       "      <td>0.823472</td>\n",
       "      <td>0.284172</td>\n",
       "    </tr>\n",
       "  </tbody>\n",
       "</table>\n",
       "</div>"
      ],
      "text/plain": [
       "    var_smoothing  oob_score  log_loss     auroc      diff\n",
       "69       0.026744   0.645696  0.928714  0.824037  0.283018\n",
       "68       0.024788   0.648705  0.931868  0.824379  0.283163\n",
       "52       0.027849   0.644122  0.927310  0.823850  0.283188\n",
       "71       0.028549   0.643282  0.926539  0.823733  0.283257\n",
       "7        0.028930   0.642757  0.926156  0.823670  0.283399\n",
       "6        0.024416   0.649172  0.932580  0.824446  0.283409\n",
       "5        0.024178   0.649429  0.933057  0.824489  0.283628\n",
       "54       0.029262   0.642174  0.925843  0.823616  0.283669\n",
       "48       0.023798   0.650105  0.933853  0.824559  0.283748\n",
       "52       0.030153   0.640914  0.925086  0.823472  0.284172"
      ]
     },
     "execution_count": 23,
     "metadata": {},
     "output_type": "execute_result"
    },
    {
     "name": "stdout",
     "output_type": "stream",
     "text": [
      "time: 18 ms\n"
     ]
    }
   ],
   "source": [
    "df[\"diff\"] = df.log_loss - df.oob_score\n",
    "df.sort_values(by=\"diff\", ascending=True).head(10)"
   ]
  },
  {
   "cell_type": "code",
   "execution_count": 24,
   "metadata": {},
   "outputs": [
    {
     "data": {
      "text/html": [
       "<div>\n",
       "<style scoped>\n",
       "    .dataframe tbody tr th:only-of-type {\n",
       "        vertical-align: middle;\n",
       "    }\n",
       "\n",
       "    .dataframe tbody tr th {\n",
       "        vertical-align: top;\n",
       "    }\n",
       "\n",
       "    .dataframe thead th {\n",
       "        text-align: right;\n",
       "    }\n",
       "</style>\n",
       "<table border=\"1\" class=\"dataframe\">\n",
       "  <thead>\n",
       "    <tr style=\"text-align: right;\">\n",
       "      <th></th>\n",
       "      <th>var_smoothing</th>\n",
       "      <th>oob_score</th>\n",
       "      <th>log_loss</th>\n",
       "      <th>auroc</th>\n",
       "      <th>diff</th>\n",
       "    </tr>\n",
       "  </thead>\n",
       "  <tbody>\n",
       "    <tr>\n",
       "      <th>86</th>\n",
       "      <td>0.037646</td>\n",
       "      <td>0.629624</td>\n",
       "      <td>0.922346</td>\n",
       "      <td>0.822365</td>\n",
       "      <td>0.292722</td>\n",
       "    </tr>\n",
       "  </tbody>\n",
       "</table>\n",
       "</div>"
      ],
      "text/plain": [
       "    var_smoothing  oob_score  log_loss     auroc      diff\n",
       "86       0.037646   0.629624  0.922346  0.822365  0.292722"
      ]
     },
     "execution_count": 24,
     "metadata": {},
     "output_type": "execute_result"
    },
    {
     "data": {
      "text/html": [
       "<div>\n",
       "<style scoped>\n",
       "    .dataframe tbody tr th:only-of-type {\n",
       "        vertical-align: middle;\n",
       "    }\n",
       "\n",
       "    .dataframe tbody tr th {\n",
       "        vertical-align: top;\n",
       "    }\n",
       "\n",
       "    .dataframe thead th {\n",
       "        text-align: right;\n",
       "    }\n",
       "</style>\n",
       "<table border=\"1\" class=\"dataframe\">\n",
       "  <thead>\n",
       "    <tr style=\"text-align: right;\">\n",
       "      <th></th>\n",
       "      <th>var_smoothing</th>\n",
       "      <th>oob_score</th>\n",
       "      <th>log_loss</th>\n",
       "      <th>auroc</th>\n",
       "      <th>diff</th>\n",
       "    </tr>\n",
       "  </thead>\n",
       "  <tbody>\n",
       "    <tr>\n",
       "      <th>10</th>\n",
       "      <td>9.552534e-11</td>\n",
       "      <td>0.679683</td>\n",
       "      <td>1.390969</td>\n",
       "      <td>0.830009</td>\n",
       "      <td>0.711287</td>\n",
       "    </tr>\n",
       "    <tr>\n",
       "      <th>11</th>\n",
       "      <td>1.050250e-10</td>\n",
       "      <td>0.679683</td>\n",
       "      <td>1.390969</td>\n",
       "      <td>0.830009</td>\n",
       "      <td>0.711287</td>\n",
       "    </tr>\n",
       "  </tbody>\n",
       "</table>\n",
       "</div>"
      ],
      "text/plain": [
       "    var_smoothing  oob_score  log_loss     auroc      diff\n",
       "10   9.552534e-11   0.679683  1.390969  0.830009  0.711287\n",
       "11   1.050250e-10   0.679683  1.390969  0.830009  0.711287"
      ]
     },
     "execution_count": 24,
     "metadata": {},
     "output_type": "execute_result"
    },
    {
     "data": {
      "text/plain": [
       "<AxesSubplot:xlabel='var_smoothing'>"
      ]
     },
     "execution_count": 24,
     "metadata": {},
     "output_type": "execute_result"
    },
    {
     "data": {
      "text/plain": [
       "<matplotlib.legend.Legend at 0x17c005e6760>"
      ]
     },
     "execution_count": 24,
     "metadata": {},
     "output_type": "execute_result"
    },
    {
     "data": {
      "image/png": "[encoded data removed]",
      "text/plain": [
       "<Figure size 432x288 with 1 Axes>"
      ]
     },
     "metadata": {
      "needs_background": "light"
     },
     "output_type": "display_data"
    },
    {
     "data": {
      "text/plain": [
       "<AxesSubplot:xlabel='var_smoothing', ylabel='auroc'>"
      ]
     },
     "execution_count": 24,
     "metadata": {},
     "output_type": "execute_result"
    },
    {
     "name": "stderr",
     "output_type": "stream",
     "text": [
      "WARNING:matplotlib.legend:No artists with labels found to put in legend.  Note that artists whose label start with an underscore are ignored when legend() is called with no argument.\n"
     ]
    },
    {
     "data": {
      "text/plain": [
       "<matplotlib.legend.Legend at 0x17c01bb3cd0>"
      ]
     },
     "execution_count": 24,
     "metadata": {},
     "output_type": "execute_result"
    },
    {
     "data": {
      "image/png": "[encoded data removed]",
      "text/plain": [
       "<Figure size 432x288 with 1 Axes>"
      ]
     },
     "metadata": {
      "needs_background": "light"
     },
     "output_type": "display_data"
    },
    {
     "data": {
      "text/plain": [
       "<AxesSubplot:xlabel='var_smoothing', ylabel='log_loss'>"
      ]
     },
     "execution_count": 24,
     "metadata": {},
     "output_type": "execute_result"
    },
    {
     "name": "stderr",
     "output_type": "stream",
     "text": [
      "WARNING:matplotlib.legend:No artists with labels found to put in legend.  Note that artists whose label start with an underscore are ignored when legend() is called with no argument.\n"
     ]
    },
    {
     "data": {
      "text/plain": [
       "<matplotlib.legend.Legend at 0x17c05e5a430>"
      ]
     },
     "execution_count": 24,
     "metadata": {},
     "output_type": "execute_result"
    },
    {
     "data": {
      "image/png": "[encoded data removed]",
      "text/plain": [
       "<Figure size 432x288 with 1 Axes>"
      ]
     },
     "metadata": {
      "needs_background": "light"
     },
     "output_type": "display_data"
    },
    {
     "data": {
      "text/plain": [
       "<AxesSubplot:xlabel='var_smoothing', ylabel='oob_score'>"
      ]
     },
     "execution_count": 24,
     "metadata": {},
     "output_type": "execute_result"
    },
    {
     "name": "stderr",
     "output_type": "stream",
     "text": [
      "WARNING:matplotlib.legend:No artists with labels found to put in legend.  Note that artists whose label start with an underscore are ignored when legend() is called with no argument.\n"
     ]
    },
    {
     "data": {
      "text/plain": [
       "<matplotlib.legend.Legend at 0x17c05ef28b0>"
      ]
     },
     "execution_count": 24,
     "metadata": {},
     "output_type": "execute_result"
    },
    {
     "data": {
      "image/png": "[encoded data removed]",
      "text/plain": [
       "<Figure size 432x288 with 1 Axes>"
      ]
     },
     "metadata": {
      "needs_background": "light"
     },
     "output_type": "display_data"
    },
    {
     "name": "stdout",
     "output_type": "stream",
     "text": [
      "time: 977 ms\n"
     ]
    }
   ],
   "source": [
    "df.loc[df.log_loss == df.log_loss.min()]\n",
    "df.loc[df.auroc == df.auroc.max()]\n",
    "\n",
    "good_df = df.loc[df.var_smoothing < 0.15]\n",
    "min_val = good_df.loc[good_df.oob_score == good_df.oob_score.max()].log_loss.min()\n",
    "good_df = good_df.loc[good_df.log_loss <= min_val]\n",
    "max_val = good_df.loc[good_df.log_loss == good_df.log_loss.min()].oob_score.max()\n",
    "good_df = good_df.loc[good_df.oob_score >= max_val]\n",
    "\n",
    "# plot\n",
    "good_df.sort_values(by=\"var_smoothing\").plot(x=\"var_smoothing\")\n",
    "plt.legend(frameon=False)\n",
    "sns.despine(top=True, right=True)\n",
    "plt.tight_layout()\n",
    "plt.show()\n",
    "for metric in (\"auroc\", \"log_loss\", \"oob_score\"):\n",
    "    # plot\n",
    "    good_df.sort_values(by=\"var_smoothing\").plot(\n",
    "        x=\"var_smoothing\", y=metric, kind=\"scatter\"\n",
    "    )\n",
    "    plt.legend(frameon=False)\n",
    "    sns.despine(top=True, right=True)\n",
    "    plt.tight_layout()\n",
    "    plt.show()"
   ]
  },
  {
   "cell_type": "code",
   "execution_count": 25,
   "metadata": {},
   "outputs": [
    {
     "data": {
      "text/plain": [
       "<AxesSubplot:xlabel='var_smoothing'>"
      ]
     },
     "execution_count": 25,
     "metadata": {},
     "output_type": "execute_result"
    },
    {
     "data": {
      "text/plain": [
       "<matplotlib.legend.Legend at 0x17c01b41c10>"
      ]
     },
     "execution_count": 25,
     "metadata": {},
     "output_type": "execute_result"
    },
    {
     "data": {
      "image/png": "[encoded data removed]",
      "text/plain": [
       "<Figure size 432x288 with 1 Axes>"
      ]
     },
     "metadata": {
      "needs_background": "light"
     },
     "output_type": "display_data"
    },
    {
     "data": {
      "text/plain": [
       "<AxesSubplot:xlabel='var_smoothing', ylabel='auroc'>"
      ]
     },
     "execution_count": 25,
     "metadata": {},
     "output_type": "execute_result"
    },
    {
     "name": "stderr",
     "output_type": "stream",
     "text": [
      "WARNING:matplotlib.legend:No artists with labels found to put in legend.  Note that artists whose label start with an underscore are ignored when legend() is called with no argument.\n"
     ]
    },
    {
     "data": {
      "text/plain": [
       "<matplotlib.legend.Legend at 0x17c0665eb50>"
      ]
     },
     "execution_count": 25,
     "metadata": {},
     "output_type": "execute_result"
    },
    {
     "data": {
      "image/png": "[encoded data removed]",
      "text/plain": [
       "<Figure size 432x288 with 1 Axes>"
      ]
     },
     "metadata": {
      "needs_background": "light"
     },
     "output_type": "display_data"
    },
    {
     "data": {
      "text/plain": [
       "<AxesSubplot:xlabel='var_smoothing', ylabel='log_loss'>"
      ]
     },
     "execution_count": 25,
     "metadata": {},
     "output_type": "execute_result"
    },
    {
     "name": "stderr",
     "output_type": "stream",
     "text": [
      "WARNING:matplotlib.legend:No artists with labels found to put in legend.  Note that artists whose label start with an underscore are ignored when legend() is called with no argument.\n"
     ]
    },
    {
     "data": {
      "text/plain": [
       "<matplotlib.legend.Legend at 0x17c0665e700>"
      ]
     },
     "execution_count": 25,
     "metadata": {},
     "output_type": "execute_result"
    },
    {
     "data": {
      "image/png": "[encoded data removed]",
      "text/plain": [
       "<Figure size 432x288 with 1 Axes>"
      ]
     },
     "metadata": {
      "needs_background": "light"
     },
     "output_type": "display_data"
    },
    {
     "data": {
      "text/plain": [
       "<AxesSubplot:xlabel='var_smoothing', ylabel='oob_score'>"
      ]
     },
     "execution_count": 25,
     "metadata": {},
     "output_type": "execute_result"
    },
    {
     "name": "stderr",
     "output_type": "stream",
     "text": [
      "WARNING:matplotlib.legend:No artists with labels found to put in legend.  Note that artists whose label start with an underscore are ignored when legend() is called with no argument.\n"
     ]
    },
    {
     "data": {
      "text/plain": [
       "<matplotlib.legend.Legend at 0x17c066d33d0>"
      ]
     },
     "execution_count": 25,
     "metadata": {},
     "output_type": "execute_result"
    },
    {
     "data": {
      "image/png": "[encoded data removed]",
      "text/plain": [
       "<Figure size 432x288 with 1 Axes>"
      ]
     },
     "metadata": {
      "needs_background": "light"
     },
     "output_type": "display_data"
    },
    {
     "name": "stdout",
     "output_type": "stream",
     "text": [
      "time: 1.25 s\n"
     ]
    }
   ],
   "source": [
    "good_df = good_df.loc[good_df.auroc < good_df.auroc.max()]\n",
    "good_df = good_df.loc[good_df.oob_score < good_df.oob_score.max()]\n",
    "good_df = good_df.loc[good_df.log_loss > good_df.log_loss.min()]\n",
    "\n",
    "# plot\n",
    "good_df.sort_values(by=\"var_smoothing\").plot(x=\"var_smoothing\")\n",
    "plt.legend(frameon=False)\n",
    "sns.despine(top=True, right=True)\n",
    "plt.tight_layout()\n",
    "plt.show()\n",
    "for metric in (\"auroc\", \"log_loss\", \"oob_score\"):\n",
    "    # plot\n",
    "    good_df.sort_values(by=\"var_smoothing\").plot(\n",
    "        x=\"var_smoothing\", y=metric, kind=\"scatter\"\n",
    "    )\n",
    "    plt.legend(frameon=False)\n",
    "    sns.despine(top=True, right=True)\n",
    "    plt.tight_layout()\n",
    "    plt.show()"
   ]
  },
  {
   "cell_type": "code",
   "execution_count": 26,
   "metadata": {},
   "outputs": [
    {
     "data": {
      "text/html": [
       "<div>\n",
       "<style scoped>\n",
       "    .dataframe tbody tr th:only-of-type {\n",
       "        vertical-align: middle;\n",
       "    }\n",
       "\n",
       "    .dataframe tbody tr th {\n",
       "        vertical-align: top;\n",
       "    }\n",
       "\n",
       "    .dataframe thead th {\n",
       "        text-align: right;\n",
       "    }\n",
       "</style>\n",
       "<table border=\"1\" class=\"dataframe\">\n",
       "  <thead>\n",
       "    <tr style=\"text-align: right;\">\n",
       "      <th></th>\n",
       "      <th>var_smoothing</th>\n",
       "      <th>oob_score</th>\n",
       "      <th>log_loss</th>\n",
       "      <th>auroc</th>\n",
       "      <th>diff</th>\n",
       "    </tr>\n",
       "  </thead>\n",
       "  <tbody>\n",
       "    <tr>\n",
       "      <th>85</th>\n",
       "      <td>0.036216</td>\n",
       "      <td>0.631514</td>\n",
       "      <td>0.922488</td>\n",
       "      <td>0.822563</td>\n",
       "      <td>0.290974</td>\n",
       "    </tr>\n",
       "  </tbody>\n",
       "</table>\n",
       "</div>"
      ],
      "text/plain": [
       "    var_smoothing  oob_score  log_loss     auroc      diff\n",
       "85       0.036216   0.631514  0.922488  0.822563  0.290974"
      ]
     },
     "execution_count": 26,
     "metadata": {},
     "output_type": "execute_result"
    },
    {
     "data": {
      "text/html": [
       "<div>\n",
       "<style scoped>\n",
       "    .dataframe tbody tr th:only-of-type {\n",
       "        vertical-align: middle;\n",
       "    }\n",
       "\n",
       "    .dataframe tbody tr th {\n",
       "        vertical-align: top;\n",
       "    }\n",
       "\n",
       "    .dataframe thead th {\n",
       "        text-align: right;\n",
       "    }\n",
       "</style>\n",
       "<table border=\"1\" class=\"dataframe\">\n",
       "  <thead>\n",
       "    <tr style=\"text-align: right;\">\n",
       "      <th></th>\n",
       "      <th>var_smoothing</th>\n",
       "      <th>oob_score</th>\n",
       "      <th>log_loss</th>\n",
       "      <th>auroc</th>\n",
       "      <th>diff</th>\n",
       "    </tr>\n",
       "  </thead>\n",
       "  <tbody>\n",
       "    <tr>\n",
       "      <th>35</th>\n",
       "      <td>0.000246</td>\n",
       "      <td>0.679683</td>\n",
       "      <td>1.370621</td>\n",
       "      <td>0.82995</td>\n",
       "      <td>0.690939</td>\n",
       "    </tr>\n",
       "  </tbody>\n",
       "</table>\n",
       "</div>"
      ],
      "text/plain": [
       "    var_smoothing  oob_score  log_loss    auroc      diff\n",
       "35       0.000246   0.679683  1.370621  0.82995  0.690939"
      ]
     },
     "execution_count": 26,
     "metadata": {},
     "output_type": "execute_result"
    },
    {
     "data": {
      "text/html": [
       "<div>\n",
       "<style scoped>\n",
       "    .dataframe tbody tr th:only-of-type {\n",
       "        vertical-align: middle;\n",
       "    }\n",
       "\n",
       "    .dataframe tbody tr th {\n",
       "        vertical-align: top;\n",
       "    }\n",
       "\n",
       "    .dataframe thead th {\n",
       "        text-align: right;\n",
       "    }\n",
       "</style>\n",
       "<table border=\"1\" class=\"dataframe\">\n",
       "  <thead>\n",
       "    <tr style=\"text-align: right;\">\n",
       "      <th></th>\n",
       "      <th>var_smoothing</th>\n",
       "      <th>oob_score</th>\n",
       "      <th>log_loss</th>\n",
       "      <th>auroc</th>\n",
       "      <th>diff</th>\n",
       "    </tr>\n",
       "  </thead>\n",
       "  <tbody>\n",
       "    <tr>\n",
       "      <th>69</th>\n",
       "      <td>0.026744</td>\n",
       "      <td>0.645696</td>\n",
       "      <td>0.928714</td>\n",
       "      <td>0.824037</td>\n",
       "      <td>0.283018</td>\n",
       "    </tr>\n",
       "  </tbody>\n",
       "</table>\n",
       "</div>"
      ],
      "text/plain": [
       "    var_smoothing  oob_score  log_loss     auroc      diff\n",
       "69       0.026744   0.645696  0.928714  0.824037  0.283018"
      ]
     },
     "execution_count": 26,
     "metadata": {},
     "output_type": "execute_result"
    },
    {
     "name": "stdout",
     "output_type": "stream",
     "text": [
      "time: 33 ms\n"
     ]
    }
   ],
   "source": [
    "# better bests\n",
    "good_df.loc[good_df.log_loss == good_df.log_loss.min()]\n",
    "good_df.loc[good_df.oob_score == good_df.oob_score.max()]\n",
    "good_df.loc[good_df[\"diff\"] == good_df[\"diff\"].min()]"
   ]
  },
  {
   "cell_type": "code",
   "execution_count": 27,
   "metadata": {},
   "outputs": [
    {
     "data": {
      "text/plain": [
       "0.026743984632167556"
      ]
     },
     "execution_count": 27,
     "metadata": {},
     "output_type": "execute_result"
    },
    {
     "name": "stdout",
     "output_type": "stream",
     "text": [
      "time: 3.96 ms\n"
     ]
    }
   ],
   "source": [
    "good_df.loc[good_df[\"diff\"] == good_df[\"diff\"].min()].var_smoothing.iloc[0]\n",
    "_ = gc_collect()"
   ]
  },
  {
   "cell_type": "code",
   "execution_count": 28,
   "metadata": {},
   "outputs": [
    {
     "name": "stdout",
     "output_type": "stream",
     "text": [
      "time: 126 ms\n"
     ]
    }
   ],
   "source": [
    "final_gnb = BaggingClassifier(\n",
    "    base_estimator=GaussianNB(\n",
    "        var_smoothing=good_df.loc[\n",
    "            good_df[\"diff\"] == good_df[\"diff\"].min()\n",
    "        ].var_smoothing.iloc[0]\n",
    "    ),\n",
    "    n_estimators=50,\n",
    "    oob_score=True,\n",
    "    n_jobs=-1,\n",
    "    random_state=SEED,\n",
    "    verbose=1,\n",
    ")\n",
    "_ = gc_collect()"
   ]
  },
  {
   "cell_type": "code",
   "execution_count": 29,
   "metadata": {},
   "outputs": [
    {
     "name": "stderr",
     "output_type": "stream",
     "text": [
      "[Parallel(n_jobs=8)]: Using backend LokyBackend with 8 concurrent workers.\n",
      "[Parallel(n_jobs=8)]: Done   2 out of   8 | elapsed:    5.1s remaining:   15.6s\n",
      "[Parallel(n_jobs=8)]: Done   8 out of   8 | elapsed:    5.3s finished\n"
     ]
    },
    {
     "data": {
      "text/plain": [
       "BaggingClassifier(base_estimator=GaussianNB(var_smoothing=0.026743984632167556),\n",
       "                  n_estimators=50, n_jobs=-1, oob_score=True, random_state=2022,\n",
       "                  verbose=1)"
      ]
     },
     "execution_count": 29,
     "metadata": {},
     "output_type": "execute_result"
    },
    {
     "name": "stdout",
     "output_type": "stream",
     "text": [
      "time: 7.11 s\n"
     ]
    }
   ],
   "source": [
    "final_gnb.fit(data, labels.valence)"
   ]
  },
  {
   "cell_type": "code",
   "execution_count": 31,
   "metadata": {},
   "outputs": [
    {
     "data": {
      "text/plain": [
       "0.6456962911126662"
      ]
     },
     "execution_count": 31,
     "metadata": {},
     "output_type": "execute_result"
    },
    {
     "name": "stderr",
     "output_type": "stream",
     "text": [
      "[Parallel(n_jobs=8)]: Using backend LokyBackend with 8 concurrent workers.\n",
      "[Parallel(n_jobs=8)]: Done   2 out of   8 | elapsed:    0.8s remaining:    2.6s\n",
      "[Parallel(n_jobs=8)]: Done   8 out of   8 | elapsed:    1.3s finished\n"
     ]
    },
    {
     "data": {
      "text/plain": [
       "0.9287138566158194"
      ]
     },
     "execution_count": 31,
     "metadata": {},
     "output_type": "execute_result"
    },
    {
     "name": "stderr",
     "output_type": "stream",
     "text": [
      "[Parallel(n_jobs=8)]: Using backend LokyBackend with 8 concurrent workers.\n",
      "[Parallel(n_jobs=8)]: Done   2 out of   8 | elapsed:    0.9s remaining:    2.9s\n",
      "[Parallel(n_jobs=8)]: Done   8 out of   8 | elapsed:    1.2s finished\n"
     ]
    },
    {
     "data": {
      "text/plain": [
       "0.8240365510111102"
      ]
     },
     "execution_count": 31,
     "metadata": {},
     "output_type": "execute_result"
    },
    {
     "name": "stdout",
     "output_type": "stream",
     "text": [
      "time: 3.13 s\n"
     ]
    }
   ],
   "source": [
    "final_gnb.oob_score_\n",
    "log_loss(y_true, final_gnb.predict_proba(data))\n",
    "roc_auc_score(y_true, final_gnb.predict_proba(data), multi_class=\"ovo\")"
   ]
  },
  {
   "cell_type": "markdown",
   "metadata": {},
   "source": [
    "# Discussion"
   ]
  },
  {
   "cell_type": "markdown",
   "metadata": {},
   "source": [
    "There looks to be a sweet spot in training loss. We chose a balance between training log loss and OOB accuracy."
   ]
  },
  {
   "cell_type": "markdown",
   "metadata": {},
   "source": [
    "There are so many more possibilities for feature engineering. Upstream augmentation of the raw audio would probably be helpful as would resampling.\n",
    "\n",
    "It's important to be disciplined now and focus on deployment. Although there are numerous points of interest where tweaking is likely to yield better results, we are only deviating slightly from the feature engineering pathway we already established."
   ]
  },
  {
   "cell_type": "code",
   "execution_count": 32,
   "metadata": {},
   "outputs": [
    {
     "name": "stdout",
     "output_type": "stream",
     "text": [
      "Time elapsed since notebook_begin_time: 2321.156076192856 s\n",
      "time: 157 ms\n"
     ]
    }
   ],
   "source": [
    "print(f\"Time elapsed since notebook_begin_time: {time() - notebook_begin_time} s\")\n",
    "_ = gc_collect()"
   ]
  },
  {
   "cell_type": "markdown",
   "metadata": {},
   "source": [
    "[^top](#Contents)"
   ]
  },
  {
   "cell_type": "code",
   "execution_count": null,
   "metadata": {},
   "outputs": [],
   "source": []
  }
 ],
 "metadata": {
  "interpreter": {
   "hash": "e1781be99c106060f3abc0c9b91d3d379f24672894e2158d4b74304109955878"
  },
  "kernelspec": {
   "display_name": "Python [conda env:capstone_pyspark_38] *",
   "language": "python",
   "name": "python3"
  },
  "language_info": {
   "codemirror_mode": {
    "name": "ipython",
    "version": 3
   },
   "file_extension": ".py",
   "mimetype": "text/x-python",
   "name": "python",
   "nbconvert_exporter": "python",
   "pygments_lexer": "ipython3",
   "version": "3.8.12"
  }
 },
 "nbformat": 4,
 "nbformat_minor": 4
}
