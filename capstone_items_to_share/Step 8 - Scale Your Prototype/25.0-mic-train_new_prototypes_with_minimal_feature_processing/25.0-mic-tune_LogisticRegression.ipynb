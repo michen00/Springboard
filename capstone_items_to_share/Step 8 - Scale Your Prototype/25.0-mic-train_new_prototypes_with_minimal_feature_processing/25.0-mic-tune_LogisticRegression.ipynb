{
 "cells": [
  {
   "cell_type": "markdown",
   "metadata": {},
   "source": [
    "# Contents\n",
    "* [Introduction](#Introduction)\n",
    "* [Imports and configuration](#Imports-and-configuration)\n",
    "* [Setup](#Setup)\n",
    "* [C](#C)\n",
    "* [Discussion](#Discussion)"
   ]
  },
  {
   "cell_type": "markdown",
   "metadata": {},
   "source": [
    "# Introduction\n",
    "\n",
    "tune a logreg"
   ]
  },
  {
   "cell_type": "code",
   "execution_count": 1,
   "metadata": {},
   "outputs": [],
   "source": [
    "from time import time\n",
    "\n",
    "notebook_begin_time = time()\n",
    "\n",
    "# set random seeds\n",
    "\n",
    "from os import environ\n",
    "from random import seed as random_seed\n",
    "from numpy.random import seed as np_seed\n",
    "from tensorflow.random import set_seed\n",
    "\n",
    "\n",
    "def reset_seeds(seed: int) -> None:\n",
    "    \"\"\"Utility function for resetting random seeds\"\"\"\n",
    "    environ[\"PYTHONHASHSEED\"] = str(seed)\n",
    "    random_seed(seed)\n",
    "    np_seed(seed)\n",
    "    set_seed(seed)\n",
    "\n",
    "\n",
    "reset_seeds(SEED := 2022)\n",
    "del environ\n",
    "del random_seed\n",
    "del np_seed\n",
    "del set_seed\n",
    "del reset_seeds"
   ]
  },
  {
   "cell_type": "code",
   "execution_count": 2,
   "metadata": {},
   "outputs": [],
   "source": [
    "# extensions\n",
    "%load_ext autotime\n",
    "%load_ext lab_black\n",
    "%load_ext nb_black"
   ]
  },
  {
   "cell_type": "code",
   "execution_count": 3,
   "metadata": {},
   "outputs": [
    {
     "name": "stderr",
     "output_type": "stream",
     "text": [
      "Intel(R) Extension for Scikit-learn* enabled (https://github.com/intel/scikit-learn-intelex)\n"
     ]
    },
    {
     "name": "stdout",
     "output_type": "stream",
     "text": [
      "time: 3.68 s\n"
     ]
    }
   ],
   "source": [
    "# core\n",
    "import numpy as np\n",
    "import pandas as pd\n",
    "from scipy.stats import loguniform\n",
    "\n",
    "# utility\n",
    "from copy import deepcopy\n",
    "from gc import collect as gc_collect\n",
    "\n",
    "# faster sklearn\n",
    "from sklearnex import patch_sklearn\n",
    "\n",
    "patch_sklearn()\n",
    "del patch_sklearn\n",
    "\n",
    "import swifter\n",
    "\n",
    "# typing\n",
    "from typing import Dict, List, Sequence\n",
    "\n",
    "# other sklearn\n",
    "from sklearn.linear_model import LogisticRegression\n",
    "from sklearn.model_selection import RandomizedSearchCV, StratifiedGroupKFold\n",
    "\n",
    "# params\n",
    "from scipy.stats import loguniform, uniform\n",
    "\n",
    "# visualization\n",
    "import matplotlib.pyplot as plt\n",
    "import seaborn as sns\n",
    "\n",
    "sns.set_context(\"notebook\")\n",
    "\n",
    "# full display of rows and columns\n",
    "pd.set_option(\"display.max_columns\", None)\n",
    "pd.set_option(\"display.max_colwidth\", None)\n",
    "pd.set_option(\"display.max_rows\", None)\n",
    "\n",
    "# display outputs w/o print calls\n",
    "from IPython.core.interactiveshell import InteractiveShell\n",
    "\n",
    "InteractiveShell.ast_node_interactivity = \"all\"\n",
    "del InteractiveShell"
   ]
  },
  {
   "cell_type": "code",
   "execution_count": 4,
   "metadata": {},
   "outputs": [
    {
     "name": "stdout",
     "output_type": "stream",
     "text": [
      "time: 148 ms\n"
     ]
    }
   ],
   "source": [
    "# Location of pre-final labels and features\n",
    "FEATURES_FOLDER = (\n",
    "    \"../24.0-mic-train_new_prototypes_with_simplified_pipeline_and_no_song_data\"\n",
    ")\n",
    "\n",
    "# Location where this notebook will output\n",
    "DATA_OUT_FOLDER = \"./tune_logreg\"\n",
    "\n",
    "_ = gc_collect()"
   ]
  },
  {
   "cell_type": "markdown",
   "metadata": {},
   "source": [
    "# Setup"
   ]
  },
  {
   "cell_type": "code",
   "execution_count": 5,
   "metadata": {},
   "outputs": [
    {
     "name": "stdout",
     "output_type": "stream",
     "text": [
      "time: 199 ms\n"
     ]
    }
   ],
   "source": [
    "def load_labels() -> pd.DataFrame:\n",
    "    \"\"\"Load just the labels\"\"\"\n",
    "    return pd.read_feather(f\"{FEATURES_FOLDER}/simplified_labels.feather\").set_index(\n",
    "        \"id\"\n",
    "    )\n",
    "\n",
    "\n",
    "def load_data() -> pd.DataFrame:\n",
    "    \"\"\"Loads the FRILL-based features\"\"\"\n",
    "    df = pd.read_feather(\"./scaled_features_ready_for_selection.feather\").set_index(\n",
    "        \"id\"\n",
    "    )\n",
    "    df.columns = df.columns.astype(str)\n",
    "    return df\n",
    "\n",
    "\n",
    "data = load_data()\n",
    "labels = load_labels()\n",
    "assert all(data.index == labels.index)\n",
    "assert len(data) < 86000\n",
    "y_true = labels.valence\n",
    "_ = gc_collect()"
   ]
  },
  {
   "cell_type": "code",
   "execution_count": 6,
   "metadata": {},
   "outputs": [
    {
     "name": "stdout",
     "output_type": "stream",
     "text": [
      "<class 'pandas.core.frame.DataFrame'>\n",
      "UInt64Index: 85740 entries, 0 to 87363\n",
      "Data columns (total 14 columns):\n",
      " #   Column                   Non-Null Count  Dtype  \n",
      "---  ------                   --------------  -----  \n",
      " 0   LDA1                     85740 non-null  float64\n",
      " 1   LDA2                     85740 non-null  float64\n",
      " 2   ocSVM_sgdlinear_neg      85740 non-null  float64\n",
      " 3   ocSVM_sgdlinear_neu      85740 non-null  float64\n",
      " 4   ocSVM_sgdlinear_pos      85740 non-null  float64\n",
      " 5   LDA-LOF_neg_20           85740 non-null  float64\n",
      " 6   LDA-LOF_neu_20           85740 non-null  float64\n",
      " 7   LDA-LOF_pos_20           85740 non-null  float64\n",
      " 8   LDA-ocSVM_rbf_neg        85740 non-null  float64\n",
      " 9   LDA-ocSVM_rbf_neu        85740 non-null  float64\n",
      " 10  LDA-ocSVM_rbf_pos        85740 non-null  float64\n",
      " 11  LDA-ocSVM_sgdlinear_neg  85740 non-null  float64\n",
      " 12  LDA-ocSVM_sgdlinear_neu  85740 non-null  float64\n",
      " 13  LDA-ocSVM_sgdlinear_pos  85740 non-null  float64\n",
      "dtypes: float64(14)\n",
      "memory usage: 9.8 MB\n",
      "<class 'pandas.core.frame.DataFrame'>\n",
      "UInt64Index: 85740 entries, 0 to 87363\n",
      "Data columns (total 11 columns):\n",
      " #   Column          Non-Null Count  Dtype   \n",
      "---  ------          --------------  -----   \n",
      " 0   file            85740 non-null  object  \n",
      " 1   source          85740 non-null  category\n",
      " 2   speaker_id      85740 non-null  category\n",
      " 3   speaker_gender  85740 non-null  category\n",
      " 4   emo             85740 non-null  category\n",
      " 5   valence         85740 non-null  int8    \n",
      " 6   neg             85740 non-null  bool    \n",
      " 7   neu             85740 non-null  bool    \n",
      " 8   pos             85740 non-null  bool    \n",
      " 9   lang1           85740 non-null  category\n",
      " 10  length          85740 non-null  category\n",
      "dtypes: bool(3), category(6), int8(1), object(1)\n",
      "memory usage: 2.3+ MB\n",
      "time: 40 ms\n"
     ]
    }
   ],
   "source": [
    "data.info()\n",
    "labels.info()"
   ]
  },
  {
   "cell_type": "markdown",
   "metadata": {},
   "source": [
    "# Strata"
   ]
  },
  {
   "cell_type": "code",
   "execution_count": 7,
   "metadata": {},
   "outputs": [
    {
     "name": "stderr",
     "output_type": "stream",
     "text": [
      "Pandas Apply: 100%|██████████| 85740/85740 [00:01<00:00, 77606.02it/s]"
     ]
    },
    {
     "name": "stdout",
     "output_type": "stream",
     "text": [
      "time: 1.22 s\n"
     ]
    },
    {
     "name": "stderr",
     "output_type": "stream",
     "text": [
      "\n"
     ]
    }
   ],
   "source": [
    "N_SPLITS = 8\n",
    "\n",
    "# fields are concatentated for quick permutation omitting non-existent combos\n",
    "strata = labels.loc[\n",
    "    :, [\"source\", \"speaker_gender\", \"emo\", \"valence\", \"lang1\", \"length\"]\n",
    "]\n",
    "strata.valence = strata.valence.astype(str)\n",
    "strata = strata.swifter.apply(\"\".join, axis=1)"
   ]
  },
  {
   "cell_type": "code",
   "execution_count": 8,
   "metadata": {},
   "outputs": [
    {
     "name": "stdout",
     "output_type": "stream",
     "text": [
      "time: 127 ms\n"
     ]
    }
   ],
   "source": [
    "# utility function for identifying strata with only i occurences\n",
    "def get_solo(i: int, strata_: pd.Series) -> np.ndarray:\n",
    "    \"\"\"Given a series of stratum memberships, return a shuffled array of strata with only i members.\"\"\"\n",
    "    return np.unique(\n",
    "        strata_.loc[\n",
    "            strata_.isin(\n",
    "                (strata_counts := strata_.value_counts())\n",
    "                .where(strata_counts == i)\n",
    "                .dropna()\n",
    "                .index\n",
    "            )\n",
    "        ]\n",
    "        .sample(frac=1, random_state=SEED)\n",
    "        .values\n",
    "    )\n",
    "\n",
    "\n",
    "# get solos, print stuff\n",
    "def get_onlys(\n",
    "    strata_: pd.Series, print_me: str = \"\", n_splits: int = N_SPLITS\n",
    ") -> List[Dict[int, np.ndarray]]:\n",
    "    \"\"\"Optinally prints something and returns calls of get_solo on strata_ in a list\"\"\"\n",
    "    print(print_me)\n",
    "    solos = []\n",
    "    for i in range(1, n_splits):\n",
    "        solo: np.ndarray = get_solo(i, strata_)\n",
    "        print(f\"only {i}:\", (_ := solo.size))\n",
    "        if _:  # >= 1 strata with only i samples\n",
    "            solos.append({i: solo})\n",
    "    return solos\n",
    "\n",
    "\n",
    "def process_strata(strata: pd.Series, n_splits: int = N_SPLITS) -> pd.Series:\n",
    "    \"\"\"Corrects strata membership column according to n_splits\"\"\"\n",
    "\n",
    "    count = get_onlys_calls = 0\n",
    "\n",
    "    while onlys := get_onlys(\n",
    "        strata,\n",
    "        print_me=f\"merge passes performed: {get_onlys_calls}\",\n",
    "        n_splits=n_splits,\n",
    "    ):\n",
    "        get_onlys_calls += 1\n",
    "        if len(onlys) == 1:\n",
    "            last = onlys[0]\n",
    "            strata_to_merge: np.ndarray = list(last.values())[0]\n",
    "            only_key = list(last.keys())[0]\n",
    "            tuplet_size = n_splits // only_key + (1 if n_splits % only_key else 0)\n",
    "            # perform tuplet merge\n",
    "            interval = len(strata_to_merge) // n_splits\n",
    "            for strata_tuplet in zip(\n",
    "                *[\n",
    "                    strata_to_merge[interval * i : interval * (i + 1)]\n",
    "                    for i in range(tuplet_size)\n",
    "                ]\n",
    "            ):\n",
    "                strata = strata.replace(strata_tuplet, f\"stratum_group_{count}\")\n",
    "                count += 1\n",
    "            remainder = strata_to_merge[tuplet_size * interval :]\n",
    "            if len(remainder) == 1:\n",
    "                # process remainder unmatched\n",
    "                n = n_splits\n",
    "                strata_counts = strata.value_counts()\n",
    "                while not (candidates := strata_counts.loc[strata_counts == n]).size:\n",
    "                    n += 1\n",
    "                strata = strata.replace(\n",
    "                    [remainder[0], candidates.sample(n=1, random_state=SEED).index[0]],\n",
    "                    f\"stratum_group_{count}\",\n",
    "                )\n",
    "                count += 1\n",
    "            else:\n",
    "                # self-pair last\n",
    "                remainder = remainder.tolist()\n",
    "                while len(remainder) >= 2:\n",
    "                    strata = strata.replace(\n",
    "                        (remainder.pop(), remainder.pop()), f\"stratum_group_{count}\"\n",
    "                    )\n",
    "                    count += 1\n",
    "        else:\n",
    "            pop_onlys = lambda _: list(onlys.pop(_).values())[0].tolist()\n",
    "            while len(onlys) >= 2:\n",
    "                # pop the ends\n",
    "                shortside = pop_onlys(0)\n",
    "                longside = pop_onlys(-1)\n",
    "                # merge until one end empty\n",
    "                while shortside and longside:\n",
    "                    strata = strata.replace(\n",
    "                        (shortside.pop(), longside.pop()), f\"stratum_group_{count}\"\n",
    "                    )\n",
    "                    count += 1\n",
    "            if onlys:\n",
    "                # self-pair middle\n",
    "                remainder = pop_onlys(0)\n",
    "                while len(remainder) >= 2:\n",
    "                    strata = strata.replace(\n",
    "                        (remainder.pop(), remainder.pop()), f\"stratum_group_{count}\"\n",
    "                    )\n",
    "                    count += 1\n",
    "    return strata\n",
    "\n",
    "\n",
    "_ = gc_collect()"
   ]
  },
  {
   "cell_type": "code",
   "execution_count": 9,
   "metadata": {},
   "outputs": [
    {
     "name": "stdout",
     "output_type": "stream",
     "text": [
      "merge passes performed: 0\n",
      "only 1: 52\n",
      "only 2: 37\n",
      "only 3: 31\n",
      "only 4: 17\n",
      "only 5: 27\n",
      "only 6: 13\n",
      "only 7: 9\n",
      "merge passes performed: 1\n",
      "only 1: 43\n",
      "only 2: 24\n",
      "only 3: 4\n",
      "only 4: 1\n",
      "only 5: 0\n",
      "only 6: 0\n",
      "only 7: 0\n",
      "merge passes performed: 2\n",
      "only 1: 42\n",
      "only 2: 20\n",
      "only 3: 0\n",
      "only 4: 0\n",
      "only 5: 5\n",
      "only 6: 0\n",
      "only 7: 0\n",
      "merge passes performed: 3\n",
      "only 1: 37\n",
      "only 2: 0\n",
      "only 3: 0\n",
      "only 4: 10\n",
      "only 5: 0\n",
      "only 6: 5\n",
      "only 7: 0\n",
      "merge passes performed: 4\n",
      "only 1: 32\n",
      "only 2: 0\n",
      "only 3: 0\n",
      "only 4: 0\n",
      "only 5: 0\n",
      "only 6: 0\n",
      "only 7: 5\n",
      "merge passes performed: 5\n",
      "only 1: 27\n",
      "only 2: 0\n",
      "only 3: 0\n",
      "only 4: 0\n",
      "only 5: 0\n",
      "only 6: 0\n",
      "only 7: 0\n",
      "merge passes performed: 6\n",
      "only 1: 1\n",
      "only 2: 1\n",
      "only 3: 0\n",
      "only 4: 0\n",
      "only 5: 0\n",
      "only 6: 0\n",
      "only 7: 0\n",
      "merge passes performed: 7\n",
      "only 1: 0\n",
      "only 2: 0\n",
      "only 3: 1\n",
      "only 4: 0\n",
      "only 5: 0\n",
      "only 6: 0\n",
      "only 7: 0\n",
      "merge passes performed: 8\n",
      "only 1: 0\n",
      "only 2: 0\n",
      "only 3: 0\n",
      "only 4: 0\n",
      "only 5: 0\n",
      "only 6: 0\n",
      "only 7: 0\n"
     ]
    },
    {
     "data": {
      "text/plain": [
       "MELDmneu1engmedium               2905\n",
       "MELDfneu1engmedium               2452\n",
       "esdfneu1engmedium                1750\n",
       "esdfhap2engmedium                1750\n",
       "esdfsur0engmedium                1750\n",
       "esdmneu1cmnmedium                1750\n",
       "esdmhap2cmnmedium                1750\n",
       "esdmang0cmnmedium                1750\n",
       "esdfneu1cmnmedium                1749\n",
       "esdfhap2cmnmedium                1749\n",
       "esdmsur0cmnmedium                1749\n",
       "esdmsur0engmedium                1749\n",
       "esdfang0engmedium                1748\n",
       "esdfang0cmnmedium                1747\n",
       "esdmneu1engmedium                1747\n",
       "esdmang0engmedium                1746\n",
       "esdfsad0engmedium                1744\n",
       "esdmhap2engmedium                1744\n",
       "esdfsur0cmnmedium                1737\n",
       "esdmsad0engmedium                1735\n",
       "esdmsad0cmnmedium                1713\n",
       "LEGOv2fneu1engmedium             1673\n",
       "esdfsad0cmnmedium                1474\n",
       "LEGOv2mneu1engmedium             1309\n",
       "MELDfhap2engmedium                931\n",
       "MELDmhap2engmedium                908\n",
       "EmoV-DB_sortedmneu1engmedium      782\n",
       "EmoV-DB_sortedfang0engmedium      722\n",
       "EmoV-DB_sortedfneu1engmedium      671\n",
       "CREMA-Dmdis0engmedium             660\n",
       "MELDfang0engmedium                655\n",
       "CREMA-Dmhap2engmedium             649\n",
       "MELDmang0engmedium                643\n",
       "CREMA-Dmang0engmedium             641\n",
       "CREMA-Dfhap2engmedium             596\n",
       "CREMA-Dfdis0engmedium             593\n",
       "CREMA-Dfang0engmedium             586\n",
       "CREMA-Dffea0engmedium             583\n",
       "CREMA-Dmfea0engmedium             582\n",
       "CREMA-Dmneu1engmedium             575\n",
       "ShEMOmneu1pesmedium               546\n",
       "CREMA-Dfneu1engmedium             512\n",
       "LEGOv2fang0engmedium              509\n",
       "ShEMOmang0pesmedium               499\n",
       "CREMA-Dfsad0engmedium             484\n",
       "EmoV-DB_sortedmang0engmedium      447\n",
       "MELDmneu1englong                  427\n",
       "MELDfsad0engmedium                417\n",
       "CREMA-Dmsad0engmedium             411\n",
       "EmoV-DB_sortedfamu2engmedium      410\n",
       "tessfdis0engmedium                400\n",
       "tessfneu1engmedium                400\n",
       "tessfsur2engmedium                400\n",
       "tessfang0engmedium                400\n",
       "tessfhap2engmedium                400\n",
       "tessffea0engmedium                400\n",
       "tessfsad0engmedium                400\n",
       "EmoV-DB_sortedmamu2englong        399\n",
       "EmoV-DB_sortedmamu2engmedium      396\n",
       "MELDmsur0engmedium                383\n",
       "ShEMOfang0pesmedium               378\n",
       "MELDfsur0engmedium                369\n",
       "EmoV-DB_sortedmdis0englong        368\n",
       "MELDfsur2engmedium                365\n",
       "MELDfneu1englong                  355\n",
       "MELDmsad0engmedium                346\n",
       "LEGOv2mang0engmedium              346\n",
       "EmoV-DB_sortedfdis0engmedium      302\n",
       "MELDmsur2engmedium                287\n",
       "esdfsad0cmnlong                   276\n",
       "ekorpusfang0estmedium             244\n",
       "MESSmang0engmedium                225\n",
       "MESSfang0engmedium                225\n",
       "MESSfsad0engmedium                225\n",
       "MESSmsad0engmedium                225\n",
       "MESSfhap2engmedium                225\n",
       "MESSmhap2engmedium                225\n",
       "EmoV-DB_sortedfdis0englong        220\n",
       "ekorpusfhap2estmedium             210\n",
       "ShEMOfsad0pesmedium               203\n",
       "EmoReact_V_1.0funk2engmedium      202\n",
       "LEGOv2uneu1engmedium              199\n",
       "vivaefple2___medium               196\n",
       "MESSfcal2engmedium                192\n",
       "ekorpusfsad0estmedium             183\n",
       "ShEMOfneu1pesmedium               178\n",
       "enterface_dbmsur0engmedium        170\n",
       "MELDmhap2englong                  170\n",
       "enterface_dbmang0engmedium        169\n",
       "MESSmcal2engmedium                167\n",
       "enterface_dbmhap2engmedium        167\n",
       "MELDmfea0engmedium                167\n",
       "enterface_dbmdis0engmedium        167\n",
       "enterface_dbmfea0engmedium        167\n",
       "vivaefpai0___medium               166\n",
       "enterface_dbmsad0engmedium        164\n",
       "vivaefsur2___medium               164\n",
       "ShEMOmneu1peslong                 163\n",
       "vivaefang0___medium               157\n",
       "EmoReact_V_1.0munk2engmedium      154\n",
       "MELDfhap2englong                  153\n",
       "MELDfdis0engmedium                146\n",
       "vivaefach2___medium               143\n",
       "vivaeffea0___medium               139\n",
       "MELDffea0engmedium                129\n",
       "EmoV-DB_sortedmdis0engmedium      128\n",
       "MELDmdis0engmedium                123\n",
       "MELDfsad0englong                  122\n",
       "jl-corpusfneu1engmedium           120\n",
       "jl-corpusfhap2engmedium           120\n",
       "jl-corpusfexc2engmedium           120\n",
       "jl-corpusfapo0engmedium           120\n",
       "jl-corpusfang0engmedium           120\n",
       "jl-corpusfanx0engmedium           120\n",
       "jl-corpusmanx0engmedium           120\n",
       "jl-corpusfsad0engmedium           120\n",
       "jl-corpusmhap2engmedium           120\n",
       "MELDfang0englong                  120\n",
       "jl-corpusmapo0engmedium           120\n",
       "jl-corpusmsad0engmedium           120\n",
       "jl-corpusmang0engmedium           120\n",
       "jl-corpusmneu1engmedium           120\n",
       "jl-corpusmexc2engmedium           120\n",
       "ekorpusfneu1estmedium             115\n",
       "ShEMOfsur0pesmedium               114\n",
       "MELDmang0englong                  113\n",
       "saveemneu1engmedium               113\n",
       "EmoReact_V_1.0funk0engmedium      111\n",
       "EmoV-DB_sortedfamu2englong        108\n",
       "Emotional_EMAfang0engmedium       104\n",
       "ShEMOmsad0pesmedium               104\n",
       "EmoV-DB_sortedfneu1englong        103\n",
       "urdumang0urdmedium                100\n",
       "ShEMOmsur0pesmedium                99\n",
       "Emotional_EMAfhap2engmedium        97\n",
       "ravdessmang0engmedium              96\n",
       "ravdessmhap2engmedium              96\n",
       "ravdessmsad0engmedium              96\n",
       "ravdessfdis0engmedium              96\n",
       "ravdessfsur0engmedium              96\n",
       "ravdessmfea0engmedium              96\n",
       "ravdessmdis0engmedium              96\n",
       "ravdessmsur0engmedium              96\n",
       "ravdessfcal1engmedium              96\n",
       "urdumneu1urdmedium                 96\n",
       "ravdessfsad0engmedium              96\n",
       "ravdessfang0engmedium              96\n",
       "ravdessffea0engmedium              96\n",
       "ravdessfhap2engmedium              96\n",
       "ravdessmcal1engmedium              96\n",
       "EmoReact_V_1.0munk0engmedium       95\n",
       "urdumsad0urdmedium                 94\n",
       "Emotional_EMAfneu1engmedium        94\n",
       "ShEMOfhap2pesmedium                93\n",
       "EYASEmang0arzmedium                88\n",
       "EYASEmneu1arzmedium                88\n",
       "ShEMOmang0peslong                  86\n",
       "EYASEmsad0arzmedium                86\n",
       "BAUM1fsad0turmedium                85\n",
       "Emotional_EMAfsad0engmedium        83\n",
       "MELDmsad0englong                   79\n",
       "EmoV-DB_sortedfang0englong         78\n",
       "BAUM1fhap2turmedium                78\n",
       "BAUM1fneu1turmedium                78\n",
       "ShEMOmhap2pesmedium                74\n",
       "EmoReact_V_1.0funk2englong         73\n",
       "EYASEmhap2arzmedium                72\n",
       "cafemsur0framedium                 71\n",
       "cafemang0framedium                 71\n",
       "cafefhap2framedium                 71\n",
       "ShEMOfang0peslong                  71\n",
       "ShEMOfneu1peslong                  71\n",
       "cafefsur0framedium                 70\n",
       "cafemfea0framedium                 69\n",
       "cafefang0framedium                 69\n",
       "cafemhap2framedium                 69\n",
       "MELDmneu1engshort                  69\n",
       "EmoDBfang0deumedium                67\n",
       "ShEMOmsad0peslong                  66\n",
       "cafeffea0framedium                 66\n",
       "cafemdis0framedium                 66\n",
       "cafemsad0framedium                 65\n",
       "EmoDBmang0deumedium                60\n",
       "EYASEfsad0arzmedium                60\n",
       "EYASEfneu1arzmedium                60\n",
       "EYASEfhap2arzmedium                60\n",
       "EYASEfang0arzmedium                60\n",
       "aesddfang0ellmedium                60\n",
       "BAUM1func0turmedium                60\n",
       "aesddffea0ellmedium                59\n",
       "aesddfsad0ellmedium                58\n",
       "MESSmcal1engmedium                 58\n",
       "saveemfea0engmedium                58\n",
       "BAUM1mhap2turmedium                56\n",
       "BAUM1mneu1turmedium                56\n",
       "saveemang0engmedium                56\n",
       "cafefsad0framedium                 55\n",
       "aesddfhap2ellmedium                55\n",
       "saveemhap2engmedium                54\n",
       "saveemsur0engmedium                54\n",
       "MELDfneu1engshort                  54\n",
       "urdumhap2urdmedium                 54\n",
       "oreau2mneu1framedium               52\n",
       "saveemdis0engmedium                51\n",
       "aesddfdis0ellmedium                51\n",
       "oreau2mang0framedium               50\n",
       "EmoReact_V_1.0funk0englong         50\n",
       "ShEMOfsad0peslong                  49\n",
       "ravdessfneu1engmedium              48\n",
       "MELDfsur2englong                   48\n",
       "ravdessmneu1engmedium              48\n",
       "aesddmfea0ellmedium                48\n",
       "oreau2mdis0framedium               47\n",
       "aesddmang0ellmedium                47\n",
       "aesddmdis0ellmedium                46\n",
       "EmoDBfbor0deumedium                46\n",
       "EmoReact_V_1.0munk2englong         46\n",
       "BAUM1fbot0turmedium                46\n",
       "BAUM1mdis0turmedium                46\n",
       "urdufhap2urdmedium                 46\n",
       "BAUM1mang0turmedium                46\n",
       "BAUM1munc0turmedium                45\n",
       "Emotional_EMAmneu1engmedium        45\n",
       "enterface_dbfsad0engmedium         45\n",
       "enterface_dbffea0engmedium         45\n",
       "enterface_dbfang0engmedium         45\n",
       "enterface_dbfhap2engmedium         45\n",
       "enterface_dbfsur0engmedium         44\n",
       "oreau2msur0framedium               44\n",
       "EmoDBfhap2deumedium                44\n",
       "cafefdis0framedium                 44\n",
       "oreau2mhap2framedium               44\n",
       "enterface_dbfdis0engmedium         44\n",
       "saveemsad0engmedium                42\n",
       "BAUM1fdis0turmedium                42\n",
       "aesddmhap2ellmedium                41\n",
       "MELDmsur2englong                   41\n",
       "MELDmdis0englong                   41\n",
       "oreau2msad0framedium               41\n",
       "EmoDBfneu1deumedium                40\n",
       "BAUM2mang0engmedium                40\n",
       "Emotional_EMAmsad0englong          40\n",
       "ekorpusfang0estlong                40\n",
       "EmoDBmneu1deumedium                39\n",
       "oreau2mfea0framedium               39\n",
       "EmoReact_V_1.0munk0englong         39\n",
       "BAUM1fang0turmedium                38\n",
       "aesddmsad0ellmedium                38\n",
       "esdmsad0cmnlong                    37\n",
       "vivaeffea0___short                 37\n",
       "EmoDBmfea0deumedium                36\n",
       "BAUM1msad0turmedium                36\n",
       "cafefneu1framedium                 36\n",
       "MELDfdis0englong                   35\n",
       "EmoDBmbor0deumedium                35\n",
       "MESSfcal1engmedium                 33\n",
       "Emotional_EMAmang0engmedium        33\n",
       "EmoDBffea0deumedium                33\n",
       "cafemneu1framedium                 33\n",
       "EmoDBfdis0deumedium                33\n",
       "LEGOv2uang0engmedium               33\n",
       "BAUM2fang0engmedium                32\n",
       "MELDmsur0englong                   32\n",
       "Emotional_EMAmhap2engmedium        32\n",
       "LEGOv2fneu1engshort                30\n",
       "MELDmhap2engshort                  29\n",
       "LEGOv2mneu1engshort                29\n",
       "EmoDBfsad0deumedium                29\n",
       "MELDfhap2engshort                  29\n",
       "BAUM1munc0turlong                  29\n",
       "cafefdis0fralong                   28\n",
       "MELDfsur0englong                   28\n",
       "EmoDBmhap2deumedium                27\n",
       "LEGOv2fang0englong                 27\n",
       "BAUM1ffea0turmedium                27\n",
       "Emotional_EMAmsad0engmedium        26\n",
       "ekorpusfneu1estlong                26\n",
       "MELDffea0englong                   25\n",
       "BAUM1fbor0turmedium                25\n",
       "MELDmfea0englong                   25\n",
       "LEGOv2fneu1englong                 25\n",
       "BAUM1fsad0turlong                  25\n",
       "BAUM1mfea0turmedium                25\n",
       "BAUM1mcon0turmedium                24\n",
       "BAUM2fhap2engmedium                24\n",
       "LEGOv2mneu1englong                 24\n",
       "BAUM2mhap2engmedium                23\n",
       "BAUM2mang0turmedium                23\n",
       "BAUM2fhap2turmedium                23\n",
       "vivaefsur2___short                 23\n",
       "ekorpusfsad0estlong                23\n",
       "BAUM1mneu1turlong                  22\n",
       "BAUM1mcon0turlong                  21\n",
       "MELDuneu1engmedium                 21\n",
       "EmoV-DB_sortedmang0englong         21\n",
       "BAUM1msad0turlong                  21\n",
       "Emotional_EMAfsad0englong          21\n",
       "BAUM1fneu1turlong                  21\n",
       "MELDfang0engshort                  20\n",
       "EmoDBmsad0deumedium                20\n",
       "ekorpusfhap2estlong                20\n",
       "aesddmsad0elllong                  20\n",
       "BAUM1mbor0turmedium                19\n",
       "vivaefpai0___short                 19\n",
       "BAUM1func0turlong                  19\n",
       "ShEMOffea0pesmedium                19\n",
       "BAUM1fcon0turmedium                19\n",
       "BAUM1mhap2turlong                  19\n",
       "oreau2fsur0framedium               18\n",
       "oreau2fneu1framedium               18\n",
       "saveemsad0englong                  18\n",
       "vivaefach2___short                 18\n",
       "aesddmhap2elllong                  18\n",
       "BAUM2fang0turmedium                18\n",
       "oreau2fhap2framedium               18\n",
       "BAUM1mbot0turmedium                17\n",
       "vivaefang0___short                 17\n",
       "cafefsad0fralong                   17\n",
       "oreau2fang0framedium               17\n",
       "oreau2fdis0framedium               16\n",
       "EmoReact_V_1.0fdis0engmedium       16\n",
       "EmoReact_V_1.0mneu1engmedium       16\n",
       "BAUM1fsur0turmedium                15\n",
       "esdmsad0englong                    15\n",
       "MELDuhap2engmedium                 15\n",
       "ShEMOmhap2peslong                  15\n",
       "ShEMOfhap2peslong                  15\n",
       "aesddmdis0elllong                  14\n",
       "oreau2fsad0framedium               14\n",
       "BAUM1mcur2turmedium                14\n",
       "ShEMOmfea0pesmedium                14\n",
       "MELDfsur0engshort                  14\n",
       "BAUM1mfea0turlong                  13\n",
       "Emotional_EMAfang0englong          13\n",
       "BAUM2fsur0turmedium                13\n",
       "BAUM1msur0turmedium                13\n",
       "aesddmang0elllong                  13\n",
       "Emotional_EMAmang0englong          13\n",
       "esdfsur0cmnlong                    13\n",
       "BAUM2mhap2turmedium                13\n",
       "BAUM1fcur2turmedium                12\n",
       "BAUM2msur0engmedium                12\n",
       "BAUM2fsad0turmedium                12\n",
       "BAUM2fsur0engmedium                12\n",
       "EmoV-DB_sortedmneu1englong         12\n",
       "BAUM1mdis0turlong                  11\n",
       "aesddfdis0elllong                  11\n",
       "oreau2ffea0framedium               11\n",
       "aesddmfea0elllong                  11\n",
       "EmoReact_V_1.0mdis0engmedium       11\n",
       "MELDmsur2engshort                  11\n",
       "BAUM1fbot0turlong                  11\n",
       "stratum_group_97                   11\n",
       "EmoReact_V_1.0fneu1engmedium       11\n",
       "MELDmang0engshort                  10\n",
       "EmoDBmdis0deumedium                10\n",
       "BAUM2fsad0engmedium                10\n",
       "BAUM1mang0turlong                  10\n",
       "EmoReact_V_1.0mcur2engmedium       10\n",
       "LimaCastroScottmple2___medium      10\n",
       "LimaCastroScottmdis0___medium       9\n",
       "saveemdis0englong                   9\n",
       "LimaCastroScottmsad0___medium       9\n",
       "Emotional_EMAmhap2englong           9\n",
       "Emotional_EMAfhap2englong           9\n",
       "BAUM2msad0engmedium                 9\n",
       "EmoReact_V_1.0mneu1englong          9\n",
       "LEGOv2uneu1englong                  9\n",
       "MELDmsur0engshort                   9\n",
       "stratum_group_0                     8\n",
       "stratum_group_54                    8\n",
       "stratum_group_45                    8\n",
       "stratum_group_44                    8\n",
       "stratum_group_49                    8\n",
       "stratum_group_23                    8\n",
       "stratum_group_25                    8\n",
       "stratum_group_24                    8\n",
       "stratum_group_13                    8\n",
       "EmoDBfsad0deulong                   8\n",
       "stratum_group_14                    8\n",
       "stratum_group_17                    8\n",
       "stratum_group_83                    8\n",
       "stratum_group_22                    8\n",
       "stratum_group_87                    8\n",
       "stratum_group_41                    8\n",
       "stratum_group_82                    8\n",
       "saveemneu1englong                   8\n",
       "stratum_group_37                    8\n",
       "stratum_group_9                     8\n",
       "stratum_group_48                    8\n",
       "stratum_group_21                    8\n",
       "stratum_group_26                    8\n",
       "stratum_group_46                    8\n",
       "BAUM2fdis0engmedium                 8\n",
       "stratum_group_29                    8\n",
       "BAUM2fcon0engmedium                 8\n",
       "BAUM2mneu1engmedium                 8\n",
       "stratum_group_27                    8\n",
       "stratum_group_47                    8\n",
       "stratum_group_90                    8\n",
       "stratum_group_94                    8\n",
       "stratum_group_28                    8\n",
       "stratum_group_92                    8\n",
       "stratum_group_86                    8\n",
       "stratum_group_89                    8\n",
       "stratum_group_15                    8\n",
       "stratum_group_6                     8\n",
       "stratum_group_52                    8\n",
       "stratum_group_35                    8\n",
       "stratum_group_53                    8\n",
       "stratum_group_31                    8\n",
       "stratum_group_32                    8\n",
       "stratum_group_33                    8\n",
       "stratum_group_19                    8\n",
       "stratum_group_20                    8\n",
       "stratum_group_18                    8\n",
       "LimaCastroScottmang0___medium       8\n",
       "LimaCastroScottfamu2___medium       8\n",
       "LimaCastroScottfach2___medium       8\n",
       "stratum_group_16                    8\n",
       "stratum_group_93                    8\n",
       "stratum_group_1                     8\n",
       "stratum_group_30                    8\n",
       "stratum_group_5                     8\n",
       "stratum_group_4                     8\n",
       "stratum_group_3                     8\n",
       "stratum_group_91                    8\n",
       "stratum_group_88                    8\n",
       "stratum_group_2                     8\n",
       "stratum_group_11                    8\n",
       "stratum_group_36                    8\n",
       "stratum_group_50                    8\n",
       "stratum_group_12                    8\n",
       "stratum_group_42                    8\n",
       "stratum_group_38                    8\n",
       "stratum_group_10                    8\n",
       "stratum_group_55                    8\n",
       "stratum_group_84                    8\n",
       "stratum_group_39                    8\n",
       "stratum_group_85                    8\n",
       "EmoReact_V_1.0fcur2engmedium        8\n",
       "BAUM1mbot0turlong                   8\n",
       "stratum_group_8                     8\n",
       "BAUM1fdis0turlong                   8\n",
       "stratum_group_51                    8\n",
       "stratum_group_40                    8\n",
       "stratum_group_7                     8\n",
       "stratum_group_43                    8\n",
       "stratum_group_56                    8\n",
       "dtype: int64"
      ]
     },
     "execution_count": 9,
     "metadata": {},
     "output_type": "execute_result"
    },
    {
     "name": "stdout",
     "output_type": "stream",
     "text": [
      "time: 2.24 s\n"
     ]
    }
   ],
   "source": [
    "STRATA = process_strata(strata, n_splits=N_SPLITS)\n",
    "STRATA.value_counts()\n",
    "cross_validator = lambda: StratifiedGroupKFold(\n",
    "    n_splits=N_SPLITS, shuffle=True, random_state=SEED\n",
    ").split(X=data, y=STRATA, groups=labels.speaker_id)"
   ]
  },
  {
   "cell_type": "markdown",
   "metadata": {},
   "source": [
    "# Hyperparameters"
   ]
  },
  {
   "cell_type": "code",
   "execution_count": 10,
   "metadata": {},
   "outputs": [
    {
     "name": "stdout",
     "output_type": "stream",
     "text": [
      "Fitting 8 folds for each of 10 candidates, totalling 80 fits\n"
     ]
    },
    {
     "name": "stderr",
     "output_type": "stream",
     "text": [
      "[Parallel(n_jobs=1)]: Using backend SequentialBackend with 1 concurrent workers.\n"
     ]
    },
    {
     "name": "stdout",
     "output_type": "stream",
     "text": [
      "time: 1min 25s\n"
     ]
    },
    {
     "name": "stderr",
     "output_type": "stream",
     "text": [
      "[Parallel(n_jobs=1)]: Done   1 out of   1 | elapsed:    5.9s finished\n"
     ]
    }
   ],
   "source": [
    "model = RandomizedSearchCV(\n",
    "    estimator=LogisticRegression(\n",
    "        # tol=1e-5,\n",
    "        class_weight=\"balanced\",\n",
    "        random_state=SEED,\n",
    "        solver=\"lbfgs\",\n",
    "        max_iter=1000,\n",
    "        verbose=1,\n",
    "        n_jobs=-1,\n",
    "    ),\n",
    "    param_distributions={\n",
    "        \"C\": loguniform(1e-5, 1e5),\n",
    "    },\n",
    "    n_iter=10,\n",
    "    scoring=\"neg_log_loss\",\n",
    "    n_jobs=-1,\n",
    "    cv=list(cross_validator()),\n",
    "    verbose=1,\n",
    "    random_state=SEED,\n",
    "    error_score=\"raise\",\n",
    ").fit(data, labels.valence)"
   ]
  },
  {
   "cell_type": "code",
   "execution_count": 11,
   "metadata": {},
   "outputs": [
    {
     "name": "stdout",
     "output_type": "stream",
     "text": [
      "-0.7823970695139222\n",
      "{'C': 0.9785389306670665}\n"
     ]
    },
    {
     "data": {
      "text/plain": [
       "<AxesSubplot:xlabel='param_C'>"
      ]
     },
     "execution_count": 11,
     "metadata": {},
     "output_type": "execute_result"
    },
    {
     "data": {
      "application/vnd.jupyter.widget-view+json": {
       "model_id": "9edb87aaea374a0ebd323a384a1ae5ce",
       "version_major": 2,
       "version_minor": 0
      },
      "image/png": "[encoded data removed]",
      "text/html": [
       "\n",
       "            <div style=\"display: inline-block;\">\n",
       "                <div class=\"jupyter-widgets widget-label\" style=\"text-align: center;\">\n",
       "                    Figure\n",
       "                </div>\n",
       "                <img src='data:image/png;base64,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' width=640.0/>\n",
       "            </div>\n",
       "        "
      ],
      "text/plain": [
       "Canvas(toolbar=Toolbar(toolitems=[('Home', 'Reset original view', 'home', 'home'), ('Back', 'Back to previous …"
      ]
     },
     "metadata": {},
     "output_type": "display_data"
    },
    {
     "name": "stdout",
     "output_type": "stream",
     "text": [
      "time: 215 ms\n"
     ]
    }
   ],
   "source": [
    "print(model.best_score_)\n",
    "print(model.best_params_)\n",
    "results_df = (\n",
    "    pd.DataFrame(model.cv_results_)\n",
    "    .sort_values(by=\"param_C\", ascending=True)\n",
    "    .loc[:, [\"param_C\", \"mean_test_score\"]]\n",
    ")\n",
    "results_df.plot(x=\"param_C\", y=\"mean_test_score\")\n",
    "plt.show()"
   ]
  },
  {
   "cell_type": "code",
   "execution_count": 12,
   "metadata": {},
   "outputs": [
    {
     "data": {
      "text/html": [
       "<div>\n",
       "<style scoped>\n",
       "    .dataframe tbody tr th:only-of-type {\n",
       "        vertical-align: middle;\n",
       "    }\n",
       "\n",
       "    .dataframe tbody tr th {\n",
       "        vertical-align: top;\n",
       "    }\n",
       "\n",
       "    .dataframe thead th {\n",
       "        text-align: right;\n",
       "    }\n",
       "</style>\n",
       "<table border=\"1\" class=\"dataframe\">\n",
       "  <thead>\n",
       "    <tr style=\"text-align: right;\">\n",
       "      <th></th>\n",
       "      <th>mean_fit_time</th>\n",
       "      <th>std_fit_time</th>\n",
       "      <th>mean_score_time</th>\n",
       "      <th>std_score_time</th>\n",
       "      <th>param_C</th>\n",
       "      <th>params</th>\n",
       "      <th>split0_test_score</th>\n",
       "      <th>split1_test_score</th>\n",
       "      <th>split2_test_score</th>\n",
       "      <th>split3_test_score</th>\n",
       "      <th>split4_test_score</th>\n",
       "      <th>split5_test_score</th>\n",
       "      <th>split6_test_score</th>\n",
       "      <th>split7_test_score</th>\n",
       "      <th>mean_test_score</th>\n",
       "      <th>std_test_score</th>\n",
       "      <th>rank_test_score</th>\n",
       "    </tr>\n",
       "  </thead>\n",
       "  <tbody>\n",
       "    <tr>\n",
       "      <th>1</th>\n",
       "      <td>9.468461</td>\n",
       "      <td>1.174908</td>\n",
       "      <td>0.015018</td>\n",
       "      <td>0.002909</td>\n",
       "      <td>0.978539</td>\n",
       "      <td>{'C': 0.9785389306670665}</td>\n",
       "      <td>-0.709519</td>\n",
       "      <td>-0.905281</td>\n",
       "      <td>-0.932329</td>\n",
       "      <td>-0.803722</td>\n",
       "      <td>-0.913251</td>\n",
       "      <td>-0.677039</td>\n",
       "      <td>-0.647013</td>\n",
       "      <td>-0.671021</td>\n",
       "      <td>-0.782397</td>\n",
       "      <td>0.113083</td>\n",
       "      <td>1</td>\n",
       "    </tr>\n",
       "    <tr>\n",
       "      <th>5</th>\n",
       "      <td>8.447704</td>\n",
       "      <td>0.868143</td>\n",
       "      <td>0.015888</td>\n",
       "      <td>0.007276</td>\n",
       "      <td>0.741107</td>\n",
       "      <td>{'C': 0.741106602081463}</td>\n",
       "      <td>-0.709496</td>\n",
       "      <td>-0.905271</td>\n",
       "      <td>-0.932345</td>\n",
       "      <td>-0.803739</td>\n",
       "      <td>-0.913266</td>\n",
       "      <td>-0.677039</td>\n",
       "      <td>-0.647020</td>\n",
       "      <td>-0.671023</td>\n",
       "      <td>-0.782400</td>\n",
       "      <td>0.113088</td>\n",
       "      <td>2</td>\n",
       "    </tr>\n",
       "    <tr>\n",
       "      <th>7</th>\n",
       "      <td>9.749855</td>\n",
       "      <td>1.024177</td>\n",
       "      <td>0.016608</td>\n",
       "      <td>0.007143</td>\n",
       "      <td>29.820897</td>\n",
       "      <td>{'C': 29.820897324403727}</td>\n",
       "      <td>-0.709515</td>\n",
       "      <td>-0.905281</td>\n",
       "      <td>-0.932334</td>\n",
       "      <td>-0.803686</td>\n",
       "      <td>-0.913324</td>\n",
       "      <td>-0.677067</td>\n",
       "      <td>-0.646993</td>\n",
       "      <td>-0.671025</td>\n",
       "      <td>-0.782403</td>\n",
       "      <td>0.113093</td>\n",
       "      <td>3</td>\n",
       "    </tr>\n",
       "    <tr>\n",
       "      <th>6</th>\n",
       "      <td>9.209368</td>\n",
       "      <td>0.871144</td>\n",
       "      <td>0.017976</td>\n",
       "      <td>0.006274</td>\n",
       "      <td>9474.848281</td>\n",
       "      <td>{'C': 9474.84828131499}</td>\n",
       "      <td>-0.709517</td>\n",
       "      <td>-0.905292</td>\n",
       "      <td>-0.932335</td>\n",
       "      <td>-0.803703</td>\n",
       "      <td>-0.913326</td>\n",
       "      <td>-0.677083</td>\n",
       "      <td>-0.646951</td>\n",
       "      <td>-0.671024</td>\n",
       "      <td>-0.782404</td>\n",
       "      <td>0.113100</td>\n",
       "      <td>4</td>\n",
       "    </tr>\n",
       "    <tr>\n",
       "      <th>4</th>\n",
       "      <td>9.313392</td>\n",
       "      <td>0.703555</td>\n",
       "      <td>0.015510</td>\n",
       "      <td>0.004579</td>\n",
       "      <td>71.462128</td>\n",
       "      <td>{'C': 71.46212766206634}</td>\n",
       "      <td>-0.709549</td>\n",
       "      <td>-0.905278</td>\n",
       "      <td>-0.932285</td>\n",
       "      <td>-0.803712</td>\n",
       "      <td>-0.913316</td>\n",
       "      <td>-0.677063</td>\n",
       "      <td>-0.646998</td>\n",
       "      <td>-0.671050</td>\n",
       "      <td>-0.782406</td>\n",
       "      <td>0.113078</td>\n",
       "      <td>5</td>\n",
       "    </tr>\n",
       "    <tr>\n",
       "      <th>9</th>\n",
       "      <td>8.582341</td>\n",
       "      <td>0.450879</td>\n",
       "      <td>0.013195</td>\n",
       "      <td>0.004272</td>\n",
       "      <td>162.685667</td>\n",
       "      <td>{'C': 162.6856667815611}</td>\n",
       "      <td>-0.709510</td>\n",
       "      <td>-0.905275</td>\n",
       "      <td>-0.932342</td>\n",
       "      <td>-0.803712</td>\n",
       "      <td>-0.913337</td>\n",
       "      <td>-0.677078</td>\n",
       "      <td>-0.647020</td>\n",
       "      <td>-0.671043</td>\n",
       "      <td>-0.782415</td>\n",
       "      <td>0.113089</td>\n",
       "      <td>6</td>\n",
       "    </tr>\n",
       "    <tr>\n",
       "      <th>8</th>\n",
       "      <td>9.774016</td>\n",
       "      <td>0.925684</td>\n",
       "      <td>0.014444</td>\n",
       "      <td>0.006496</td>\n",
       "      <td>9324.621837</td>\n",
       "      <td>{'C': 9324.6218374883}</td>\n",
       "      <td>-0.709544</td>\n",
       "      <td>-0.905296</td>\n",
       "      <td>-0.932340</td>\n",
       "      <td>-0.803711</td>\n",
       "      <td>-0.913331</td>\n",
       "      <td>-0.677048</td>\n",
       "      <td>-0.646987</td>\n",
       "      <td>-0.671067</td>\n",
       "      <td>-0.782416</td>\n",
       "      <td>0.113094</td>\n",
       "      <td>7</td>\n",
       "    </tr>\n",
       "    <tr>\n",
       "      <th>2</th>\n",
       "      <td>1.617882</td>\n",
       "      <td>0.154822</td>\n",
       "      <td>0.014009</td>\n",
       "      <td>0.003515</td>\n",
       "      <td>0.000136</td>\n",
       "      <td>{'C': 0.000136093348365246}</td>\n",
       "      <td>-0.731038</td>\n",
       "      <td>-0.889031</td>\n",
       "      <td>-0.920090</td>\n",
       "      <td>-0.806044</td>\n",
       "      <td>-0.891719</td>\n",
       "      <td>-0.696995</td>\n",
       "      <td>-0.673396</td>\n",
       "      <td>-0.693257</td>\n",
       "      <td>-0.787696</td>\n",
       "      <td>0.095115</td>\n",
       "      <td>8</td>\n",
       "    </tr>\n",
       "    <tr>\n",
       "      <th>3</th>\n",
       "      <td>1.345432</td>\n",
       "      <td>0.106202</td>\n",
       "      <td>0.016877</td>\n",
       "      <td>0.006437</td>\n",
       "      <td>0.000032</td>\n",
       "      <td>{'C': 3.160386382061093e-05}</td>\n",
       "      <td>-0.782462</td>\n",
       "      <td>-0.891572</td>\n",
       "      <td>-0.921934</td>\n",
       "      <td>-0.836930</td>\n",
       "      <td>-0.892086</td>\n",
       "      <td>-0.748251</td>\n",
       "      <td>-0.733311</td>\n",
       "      <td>-0.747825</td>\n",
       "      <td>-0.819296</td>\n",
       "      <td>0.070952</td>\n",
       "      <td>9</td>\n",
       "    </tr>\n",
       "    <tr>\n",
       "      <th>0</th>\n",
       "      <td>1.255587</td>\n",
       "      <td>0.101333</td>\n",
       "      <td>0.015296</td>\n",
       "      <td>0.003398</td>\n",
       "      <td>0.000012</td>\n",
       "      <td>{'C': 1.2404696357832288e-05}</td>\n",
       "      <td>-0.844028</td>\n",
       "      <td>-0.917713</td>\n",
       "      <td>-0.943419</td>\n",
       "      <td>-0.884349</td>\n",
       "      <td>-0.915714</td>\n",
       "      <td>-0.812457</td>\n",
       "      <td>-0.804359</td>\n",
       "      <td>-0.813093</td>\n",
       "      <td>-0.866892</td>\n",
       "      <td>0.051742</td>\n",
       "      <td>10</td>\n",
       "    </tr>\n",
       "  </tbody>\n",
       "</table>\n",
       "</div>"
      ],
      "text/plain": [
       "   mean_fit_time  std_fit_time  mean_score_time  std_score_time      param_C  \\\n",
       "1       9.468461      1.174908         0.015018        0.002909     0.978539   \n",
       "5       8.447704      0.868143         0.015888        0.007276     0.741107   \n",
       "7       9.749855      1.024177         0.016608        0.007143    29.820897   \n",
       "6       9.209368      0.871144         0.017976        0.006274  9474.848281   \n",
       "4       9.313392      0.703555         0.015510        0.004579    71.462128   \n",
       "9       8.582341      0.450879         0.013195        0.004272   162.685667   \n",
       "8       9.774016      0.925684         0.014444        0.006496  9324.621837   \n",
       "2       1.617882      0.154822         0.014009        0.003515     0.000136   \n",
       "3       1.345432      0.106202         0.016877        0.006437     0.000032   \n",
       "0       1.255587      0.101333         0.015296        0.003398     0.000012   \n",
       "\n",
       "                          params  split0_test_score  split1_test_score  \\\n",
       "1      {'C': 0.9785389306670665}          -0.709519          -0.905281   \n",
       "5       {'C': 0.741106602081463}          -0.709496          -0.905271   \n",
       "7      {'C': 29.820897324403727}          -0.709515          -0.905281   \n",
       "6        {'C': 9474.84828131499}          -0.709517          -0.905292   \n",
       "4       {'C': 71.46212766206634}          -0.709549          -0.905278   \n",
       "9       {'C': 162.6856667815611}          -0.709510          -0.905275   \n",
       "8         {'C': 9324.6218374883}          -0.709544          -0.905296   \n",
       "2    {'C': 0.000136093348365246}          -0.731038          -0.889031   \n",
       "3   {'C': 3.160386382061093e-05}          -0.782462          -0.891572   \n",
       "0  {'C': 1.2404696357832288e-05}          -0.844028          -0.917713   \n",
       "\n",
       "   split2_test_score  split3_test_score  split4_test_score  split5_test_score  \\\n",
       "1          -0.932329          -0.803722          -0.913251          -0.677039   \n",
       "5          -0.932345          -0.803739          -0.913266          -0.677039   \n",
       "7          -0.932334          -0.803686          -0.913324          -0.677067   \n",
       "6          -0.932335          -0.803703          -0.913326          -0.677083   \n",
       "4          -0.932285          -0.803712          -0.913316          -0.677063   \n",
       "9          -0.932342          -0.803712          -0.913337          -0.677078   \n",
       "8          -0.932340          -0.803711          -0.913331          -0.677048   \n",
       "2          -0.920090          -0.806044          -0.891719          -0.696995   \n",
       "3          -0.921934          -0.836930          -0.892086          -0.748251   \n",
       "0          -0.943419          -0.884349          -0.915714          -0.812457   \n",
       "\n",
       "   split6_test_score  split7_test_score  mean_test_score  std_test_score  \\\n",
       "1          -0.647013          -0.671021        -0.782397        0.113083   \n",
       "5          -0.647020          -0.671023        -0.782400        0.113088   \n",
       "7          -0.646993          -0.671025        -0.782403        0.113093   \n",
       "6          -0.646951          -0.671024        -0.782404        0.113100   \n",
       "4          -0.646998          -0.671050        -0.782406        0.113078   \n",
       "9          -0.647020          -0.671043        -0.782415        0.113089   \n",
       "8          -0.646987          -0.671067        -0.782416        0.113094   \n",
       "2          -0.673396          -0.693257        -0.787696        0.095115   \n",
       "3          -0.733311          -0.747825        -0.819296        0.070952   \n",
       "0          -0.804359          -0.813093        -0.866892        0.051742   \n",
       "\n",
       "   rank_test_score  \n",
       "1                1  \n",
       "5                2  \n",
       "7                3  \n",
       "6                4  \n",
       "4                5  \n",
       "9                6  \n",
       "8                7  \n",
       "2                8  \n",
       "3                9  \n",
       "0               10  "
      ]
     },
     "execution_count": 12,
     "metadata": {},
     "output_type": "execute_result"
    },
    {
     "name": "stdout",
     "output_type": "stream",
     "text": [
      "time: 50.7 ms\n"
     ]
    }
   ],
   "source": [
    "df = pd.DataFrame(model.cv_results_)\n",
    "df.sort_values(by=\"mean_test_score\", ascending=False)"
   ]
  },
  {
   "cell_type": "code",
   "execution_count": 13,
   "metadata": {},
   "outputs": [
    {
     "name": "stdout",
     "output_type": "stream",
     "text": [
      "time: 144 ms\n"
     ]
    }
   ],
   "source": [
    "def tune(C: Sequence, results_df: pd.DataFrame, n_iter: int = 10) -> pd.DataFrame:\n",
    "    \"\"\"Run tuning procedure\"\"\"\n",
    "    model = RandomizedSearchCV(\n",
    "        estimator=LogisticRegression(\n",
    "            class_weight=\"balanced\",\n",
    "            random_state=SEED + 1,\n",
    "            max_iter=1000,\n",
    "            verbose=1,\n",
    "            n_jobs=-1,\n",
    "        ),\n",
    "        param_distributions={\"C\": C},\n",
    "        n_iter=n_iter,\n",
    "        scoring=\"neg_log_loss\",\n",
    "        n_jobs=-1,\n",
    "        cv=list(cross_validator()),\n",
    "        verbose=1,\n",
    "        random_state=SEED + 2,\n",
    "        error_score=\"raise\",\n",
    "    ).fit(data, labels.valence)\n",
    "\n",
    "    print(\"best score:\", model.best_score_)\n",
    "    print(\"best params:\", model.best_params_)\n",
    "    df = (\n",
    "        pd.DataFrame(model.cv_results_)\n",
    "        .sort_values(by=\"param_C\", ascending=True)\n",
    "        .loc[:, [\"param_C\", \"mean_test_score\"]]\n",
    "    )\n",
    "    df.plot(x=\"param_C\", y=\"mean_test_score\")\n",
    "    plt.show()\n",
    "    return pd.concat(\n",
    "        [results_df.loc[:, [\"param_C\", \"mean_test_score\"]], df],\n",
    "        axis=\"rows\",\n",
    "    )\n",
    "\n",
    "\n",
    "_ = gc_collect()"
   ]
  },
  {
   "cell_type": "code",
   "execution_count": 14,
   "metadata": {},
   "outputs": [
    {
     "name": "stdout",
     "output_type": "stream",
     "text": [
      "Fitting 8 folds for each of 11 candidates, totalling 88 fits\n"
     ]
    },
    {
     "name": "stderr",
     "output_type": "stream",
     "text": [
      "[Parallel(n_jobs=1)]: Using backend SequentialBackend with 1 concurrent workers.\n"
     ]
    },
    {
     "name": "stdout",
     "output_type": "stream",
     "text": [
      "best score: -0.7823568484628975\n",
      "best params: {'C': 0.2396348037505133}\n"
     ]
    },
    {
     "name": "stderr",
     "output_type": "stream",
     "text": [
      "[Parallel(n_jobs=1)]: Done   1 out of   1 | elapsed:    5.8s finished\n"
     ]
    },
    {
     "data": {
      "application/vnd.jupyter.widget-view+json": {
       "model_id": "705691eab4df4953975f640f00f42bb0",
       "version_major": 2,
       "version_minor": 0
      },
      "image/png": "[encoded data removed]",
      "text/html": [
       "\n",
       "            <div style=\"display: inline-block;\">\n",
       "                <div class=\"jupyter-widgets widget-label\" style=\"text-align: center;\">\n",
       "                    Figure\n",
       "                </div>\n",
       "                <img src='data:image/png;base64,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' width=640.0/>\n",
       "            </div>\n",
       "        "
      ],
      "text/plain": [
       "Canvas(toolbar=Toolbar(toolitems=[('Home', 'Reset original view', 'home', 'home'), ('Back', 'Back to previous …"
      ]
     },
     "metadata": {},
     "output_type": "display_data"
    },
    {
     "name": "stdout",
     "output_type": "stream",
     "text": [
      "time: 1min 13s\n"
     ]
    }
   ],
   "source": [
    "df = tune(C=loguniform(1e-6, 1e6), results_df=df, n_iter=11)"
   ]
  },
  {
   "cell_type": "code",
   "execution_count": 15,
   "metadata": {},
   "outputs": [
    {
     "name": "stdout",
     "output_type": "stream",
     "text": [
      "Fitting 8 folds for each of 11 candidates, totalling 88 fits\n"
     ]
    },
    {
     "name": "stderr",
     "output_type": "stream",
     "text": [
      "[Parallel(n_jobs=1)]: Using backend SequentialBackend with 1 concurrent workers.\n"
     ]
    },
    {
     "name": "stdout",
     "output_type": "stream",
     "text": [
      "best score: -0.7822677932108444\n",
      "best params: {'C': 0.004366682535082346}\n"
     ]
    },
    {
     "name": "stderr",
     "output_type": "stream",
     "text": [
      "[Parallel(n_jobs=1)]: Done   1 out of   1 | elapsed:    2.9s finished\n"
     ]
    },
    {
     "data": {
      "application/vnd.jupyter.widget-view+json": {
       "model_id": "57718963304c485c93c18446174bda92",
       "version_major": 2,
       "version_minor": 0
      },
      "image/png": "[encoded data removed]",
      "text/html": [
       "\n",
       "            <div style=\"display: inline-block;\">\n",
       "                <div class=\"jupyter-widgets widget-label\" style=\"text-align: center;\">\n",
       "                    Figure\n",
       "                </div>\n",
       "                <img src='data:image/png;base64,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' width=640.0/>\n",
       "            </div>\n",
       "        "
      ],
      "text/plain": [
       "Canvas(toolbar=Toolbar(toolitems=[('Home', 'Reset original view', 'home', 'home'), ('Back', 'Back to previous …"
      ]
     },
     "metadata": {},
     "output_type": "display_data"
    },
    {
     "name": "stdout",
     "output_type": "stream",
     "text": [
      "time: 1min 10s\n"
     ]
    }
   ],
   "source": [
    "df = tune(C=loguniform(1e-4, 1e4), results_df=df, n_iter=11)"
   ]
  },
  {
   "cell_type": "code",
   "execution_count": 16,
   "metadata": {},
   "outputs": [
    {
     "name": "stdout",
     "output_type": "stream",
     "text": [
      "Fitting 8 folds for each of 11 candidates, totalling 88 fits\n"
     ]
    },
    {
     "name": "stderr",
     "output_type": "stream",
     "text": [
      "[Parallel(n_jobs=1)]: Using backend SequentialBackend with 1 concurrent workers.\n"
     ]
    },
    {
     "name": "stdout",
     "output_type": "stream",
     "text": [
      "best score: -0.7823351519842849\n",
      "best params: {'C': 0.1192415990850905}\n"
     ]
    },
    {
     "name": "stderr",
     "output_type": "stream",
     "text": [
      "[Parallel(n_jobs=1)]: Done   1 out of   1 | elapsed:    5.7s finished\n"
     ]
    },
    {
     "data": {
      "application/vnd.jupyter.widget-view+json": {
       "model_id": "dbfbdf3da1364ed5a775630afdde2c8c",
       "version_major": 2,
       "version_minor": 0
      },
      "image/png": "[encoded data removed]",
      "text/html": [
       "\n",
       "            <div style=\"display: inline-block;\">\n",
       "                <div class=\"jupyter-widgets widget-label\" style=\"text-align: center;\">\n",
       "                    Figure\n",
       "                </div>\n",
       "                <img src='data:image/png;base64,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' width=640.0/>\n",
       "            </div>\n",
       "        "
      ],
      "text/plain": [
       "Canvas(toolbar=Toolbar(toolitems=[('Home', 'Reset original view', 'home', 'home'), ('Back', 'Back to previous …"
      ]
     },
     "metadata": {},
     "output_type": "display_data"
    },
    {
     "name": "stdout",
     "output_type": "stream",
     "text": [
      "time: 1min 47s\n"
     ]
    }
   ],
   "source": [
    "df = tune(C=loguniform(0.1, 1000), results_df=df, n_iter=11)"
   ]
  },
  {
   "cell_type": "code",
   "execution_count": 18,
   "metadata": {},
   "outputs": [
    {
     "name": "stdout",
     "output_type": "stream",
     "text": [
      "Fitting 8 folds for each of 11 candidates, totalling 88 fits\n"
     ]
    },
    {
     "name": "stderr",
     "output_type": "stream",
     "text": [
      "[Parallel(n_jobs=1)]: Using backend SequentialBackend with 1 concurrent workers.\n"
     ]
    },
    {
     "name": "stdout",
     "output_type": "stream",
     "text": [
      "best score: -0.7822541432985721\n",
      "best params: {'C': 0.007859280943131399}\n"
     ]
    },
    {
     "name": "stderr",
     "output_type": "stream",
     "text": [
      "[Parallel(n_jobs=1)]: Done   1 out of   1 | elapsed:    3.9s finished\n"
     ]
    },
    {
     "data": {
      "image/png": "[encoded data removed]",
      "text/plain": [
       "<Figure size 432x288 with 1 Axes>"
      ]
     },
     "metadata": {
      "needs_background": "light"
     },
     "output_type": "display_data"
    },
    {
     "name": "stdout",
     "output_type": "stream",
     "text": [
      "time: 1min\n"
     ]
    }
   ],
   "source": [
    "df = tune(C=loguniform(1e-4, 1), results_df=df, n_iter=11)"
   ]
  },
  {
   "cell_type": "code",
   "execution_count": 19,
   "metadata": {},
   "outputs": [
    {
     "name": "stdout",
     "output_type": "stream",
     "text": [
      "Fitting 8 folds for each of 11 candidates, totalling 88 fits\n"
     ]
    },
    {
     "name": "stderr",
     "output_type": "stream",
     "text": [
      "[Parallel(n_jobs=1)]: Using backend SequentialBackend with 1 concurrent workers.\n"
     ]
    },
    {
     "name": "stdout",
     "output_type": "stream",
     "text": [
      "best score: -0.7822645269247535\n",
      "best params: {'C': 0.004779698731533934}\n"
     ]
    },
    {
     "name": "stderr",
     "output_type": "stream",
     "text": [
      "[Parallel(n_jobs=1)]: Done   1 out of   1 | elapsed:    3.2s finished\n"
     ]
    },
    {
     "data": {
      "image/png": "[encoded data removed]",
      "text/plain": [
       "<Figure size 432x288 with 1 Axes>"
      ]
     },
     "metadata": {
      "needs_background": "light"
     },
     "output_type": "display_data"
    },
    {
     "name": "stdout",
     "output_type": "stream",
     "text": [
      "time: 51.6 s\n"
     ]
    }
   ],
   "source": [
    "df = tune(C=loguniform(1e-3, 1e-2), results_df=df, n_iter=11)"
   ]
  },
  {
   "cell_type": "code",
   "execution_count": 20,
   "metadata": {},
   "outputs": [
    {
     "name": "stdout",
     "output_type": "stream",
     "text": [
      "Fitting 8 folds for each of 10 candidates, totalling 80 fits\n"
     ]
    },
    {
     "name": "stderr",
     "output_type": "stream",
     "text": [
      "[Parallel(n_jobs=1)]: Using backend SequentialBackend with 1 concurrent workers.\n",
      "[Parallel(n_jobs=1)]: Done   1 out of   1 | elapsed:    4.6s finished\n"
     ]
    },
    {
     "name": "stdout",
     "output_type": "stream",
     "text": [
      "best score: -0.7822530990675945\n",
      "best params: {'C': 0.017091237161580453}\n"
     ]
    },
    {
     "data": {
      "image/png": "[encoded data removed]",
      "text/plain": [
       "<Figure size 432x288 with 1 Axes>"
      ]
     },
     "metadata": {
      "needs_background": "light"
     },
     "output_type": "display_data"
    },
    {
     "name": "stdout",
     "output_type": "stream",
     "text": [
      "time: 1min 11s\n"
     ]
    }
   ],
   "source": [
    "df = tune(C=loguniform(0.0011, 0.5), results_df=df, n_iter=10)"
   ]
  },
  {
   "cell_type": "code",
   "execution_count": 21,
   "metadata": {},
   "outputs": [
    {
     "name": "stdout",
     "output_type": "stream",
     "text": [
      "Fitting 8 folds for each of 17 candidates, totalling 136 fits\n"
     ]
    },
    {
     "name": "stderr",
     "output_type": "stream",
     "text": [
      "[Parallel(n_jobs=1)]: Using backend SequentialBackend with 1 concurrent workers.\n"
     ]
    },
    {
     "name": "stdout",
     "output_type": "stream",
     "text": [
      "best score: -0.7822504293540642\n",
      "best params: {'C': 0.00886525856539526}\n"
     ]
    },
    {
     "name": "stderr",
     "output_type": "stream",
     "text": [
      "[Parallel(n_jobs=1)]: Done   1 out of   1 | elapsed:    4.5s finished\n"
     ]
    },
    {
     "data": {
      "image/png": "[encoded data removed]",
      "text/plain": [
       "<Figure size 432x288 with 1 Axes>"
      ]
     },
     "metadata": {
      "needs_background": "light"
     },
     "output_type": "display_data"
    },
    {
     "name": "stdout",
     "output_type": "stream",
     "text": [
      "time: 1min 52s\n"
     ]
    }
   ],
   "source": [
    "df = tune(C=loguniform(0.001, 0.1), results_df=df, n_iter=17)"
   ]
  },
  {
   "cell_type": "code",
   "execution_count": 22,
   "metadata": {},
   "outputs": [
    {
     "name": "stdout",
     "output_type": "stream",
     "text": [
      "Fitting 8 folds for each of 13 candidates, totalling 104 fits\n"
     ]
    },
    {
     "name": "stderr",
     "output_type": "stream",
     "text": [
      "[Parallel(n_jobs=1)]: Using backend SequentialBackend with 1 concurrent workers.\n"
     ]
    },
    {
     "name": "stdout",
     "output_type": "stream",
     "text": [
      "best score: -0.7822484742233591\n",
      "best params: {'C': 0.011514411442955409}\n"
     ]
    },
    {
     "name": "stderr",
     "output_type": "stream",
     "text": [
      "[Parallel(n_jobs=1)]: Done   1 out of   1 | elapsed:    4.2s finished\n"
     ]
    },
    {
     "data": {
      "image/png": "[encoded data removed]",
      "text/plain": [
       "<Figure size 432x288 with 1 Axes>"
      ]
     },
     "metadata": {
      "needs_background": "light"
     },
     "output_type": "display_data"
    },
    {
     "name": "stdout",
     "output_type": "stream",
     "text": [
      "time: 1min 52s\n"
     ]
    }
   ],
   "source": [
    "df = tune(C=loguniform(0.01, 0.25), results_df=df, n_iter=13)"
   ]
  },
  {
   "cell_type": "code",
   "execution_count": 23,
   "metadata": {},
   "outputs": [
    {
     "name": "stdout",
     "output_type": "stream",
     "text": [
      "Fitting 8 folds for each of 13 candidates, totalling 104 fits\n"
     ]
    },
    {
     "name": "stderr",
     "output_type": "stream",
     "text": [
      "[Parallel(n_jobs=1)]: Using backend SequentialBackend with 1 concurrent workers.\n"
     ]
    },
    {
     "name": "stdout",
     "output_type": "stream",
     "text": [
      "best score: -0.782251887676185\n",
      "best params: {'C': 0.013685276302566779}\n"
     ]
    },
    {
     "name": "stderr",
     "output_type": "stream",
     "text": [
      "[Parallel(n_jobs=1)]: Done   1 out of   1 | elapsed:    4.0s finished\n"
     ]
    },
    {
     "data": {
      "image/png": "[encoded data removed]",
      "text/plain": [
       "<Figure size 432x288 with 1 Axes>"
      ]
     },
     "metadata": {
      "needs_background": "light"
     },
     "output_type": "display_data"
    },
    {
     "name": "stdout",
     "output_type": "stream",
     "text": [
      "time: 1min 24s\n"
     ]
    }
   ],
   "source": [
    "df = tune(C=loguniform(0.001, 0.25), results_df=df, n_iter=13)"
   ]
  },
  {
   "cell_type": "code",
   "execution_count": 28,
   "metadata": {},
   "outputs": [
    {
     "name": "stdout",
     "output_type": "stream",
     "text": [
      "Fitting 8 folds for each of 13 candidates, totalling 104 fits\n"
     ]
    },
    {
     "name": "stderr",
     "output_type": "stream",
     "text": [
      "[Parallel(n_jobs=1)]: Using backend SequentialBackend with 1 concurrent workers.\n",
      "[Parallel(n_jobs=1)]: Done   1 out of   1 | elapsed:    4.8s finished\n"
     ]
    },
    {
     "name": "stdout",
     "output_type": "stream",
     "text": [
      "best score: -0.7822508184640709\n",
      "best params: {'C': 0.010777788260091068}\n"
     ]
    },
    {
     "data": {
      "image/png": "[encoded data removed]",
      "text/plain": [
       "<Figure size 432x288 with 1 Axes>"
      ]
     },
     "metadata": {
      "needs_background": "light"
     },
     "output_type": "display_data"
    },
    {
     "name": "stdout",
     "output_type": "stream",
     "text": [
      "time: 1min 31s\n"
     ]
    }
   ],
   "source": [
    "df = tune(C=loguniform(0.005, 0.015), results_df=df, n_iter=13)"
   ]
  },
  {
   "cell_type": "code",
   "execution_count": 29,
   "metadata": {},
   "outputs": [
    {
     "name": "stdout",
     "output_type": "stream",
     "text": [
      "time: 135 ms\n"
     ]
    }
   ],
   "source": [
    "_ = gc_collect()"
   ]
  },
  {
   "cell_type": "code",
   "execution_count": 30,
   "metadata": {},
   "outputs": [
    {
     "name": "stdout",
     "output_type": "stream",
     "text": [
      "time: 4.99 ms\n"
     ]
    }
   ],
   "source": [
    "results_df = df\n",
    "results_df.columns = results_df.columns.astype(str)\n",
    "results_df.reset_index(drop=True).to_csv(f\"{DATA_OUT_FOLDER}/logreg_results.csv\")"
   ]
  },
  {
   "cell_type": "code",
   "execution_count": 31,
   "metadata": {},
   "outputs": [
    {
     "data": {
      "text/plain": [
       "<AxesSubplot:xlabel='param_C'>"
      ]
     },
     "execution_count": 31,
     "metadata": {},
     "output_type": "execute_result"
    },
    {
     "data": {
      "text/html": [
       "<div>\n",
       "<style scoped>\n",
       "    .dataframe tbody tr th:only-of-type {\n",
       "        vertical-align: middle;\n",
       "    }\n",
       "\n",
       "    .dataframe tbody tr th {\n",
       "        vertical-align: top;\n",
       "    }\n",
       "\n",
       "    .dataframe thead th {\n",
       "        text-align: right;\n",
       "    }\n",
       "</style>\n",
       "<table border=\"1\" class=\"dataframe\">\n",
       "  <thead>\n",
       "    <tr style=\"text-align: right;\">\n",
       "      <th></th>\n",
       "      <th>param_C</th>\n",
       "      <th>mean_test_score</th>\n",
       "    </tr>\n",
       "  </thead>\n",
       "  <tbody>\n",
       "    <tr>\n",
       "      <th>3</th>\n",
       "      <td>0.011514</td>\n",
       "      <td>-0.782248</td>\n",
       "    </tr>\n",
       "    <tr>\n",
       "      <th>8</th>\n",
       "      <td>0.008865</td>\n",
       "      <td>-0.782250</td>\n",
       "    </tr>\n",
       "    <tr>\n",
       "      <th>1</th>\n",
       "      <td>0.010778</td>\n",
       "      <td>-0.782251</td>\n",
       "    </tr>\n",
       "    <tr>\n",
       "      <th>5</th>\n",
       "      <td>0.014069</td>\n",
       "      <td>-0.782251</td>\n",
       "    </tr>\n",
       "    <tr>\n",
       "      <th>8</th>\n",
       "      <td>0.013685</td>\n",
       "      <td>-0.782252</td>\n",
       "    </tr>\n",
       "    <tr>\n",
       "      <th>15</th>\n",
       "      <td>0.01634</td>\n",
       "      <td>-0.782253</td>\n",
       "    </tr>\n",
       "    <tr>\n",
       "      <th>9</th>\n",
       "      <td>0.017091</td>\n",
       "      <td>-0.782253</td>\n",
       "    </tr>\n",
       "    <tr>\n",
       "      <th>12</th>\n",
       "      <td>0.016029</td>\n",
       "      <td>-0.782253</td>\n",
       "    </tr>\n",
       "    <tr>\n",
       "      <th>9</th>\n",
       "      <td>0.008182</td>\n",
       "      <td>-0.782254</td>\n",
       "    </tr>\n",
       "    <tr>\n",
       "      <th>8</th>\n",
       "      <td>0.007859</td>\n",
       "      <td>-0.782254</td>\n",
       "    </tr>\n",
       "    <tr>\n",
       "      <th>12</th>\n",
       "      <td>0.009692</td>\n",
       "      <td>-0.782255</td>\n",
       "    </tr>\n",
       "    <tr>\n",
       "      <th>10</th>\n",
       "      <td>0.010634</td>\n",
       "      <td>-0.782255</td>\n",
       "    </tr>\n",
       "    <tr>\n",
       "      <th>6</th>\n",
       "      <td>0.011116</td>\n",
       "      <td>-0.782255</td>\n",
       "    </tr>\n",
       "    <tr>\n",
       "      <th>9</th>\n",
       "      <td>0.011885</td>\n",
       "      <td>-0.782256</td>\n",
       "    </tr>\n",
       "    <tr>\n",
       "      <th>11</th>\n",
       "      <td>0.01143</td>\n",
       "      <td>-0.782256</td>\n",
       "    </tr>\n",
       "    <tr>\n",
       "      <th>0</th>\n",
       "      <td>0.014998</td>\n",
       "      <td>-0.782256</td>\n",
       "    </tr>\n",
       "    <tr>\n",
       "      <th>0</th>\n",
       "      <td>0.009539</td>\n",
       "      <td>-0.782256</td>\n",
       "    </tr>\n",
       "    <tr>\n",
       "      <th>16</th>\n",
       "      <td>0.007912</td>\n",
       "      <td>-0.782258</td>\n",
       "    </tr>\n",
       "    <tr>\n",
       "      <th>9</th>\n",
       "      <td>0.007881</td>\n",
       "      <td>-0.782259</td>\n",
       "    </tr>\n",
       "    <tr>\n",
       "      <th>2</th>\n",
       "      <td>0.018324</td>\n",
       "      <td>-0.782260</td>\n",
       "    </tr>\n",
       "    <tr>\n",
       "      <th>0</th>\n",
       "      <td>0.025705</td>\n",
       "      <td>-0.782260</td>\n",
       "    </tr>\n",
       "    <tr>\n",
       "      <th>8</th>\n",
       "      <td>0.008415</td>\n",
       "      <td>-0.782261</td>\n",
       "    </tr>\n",
       "    <tr>\n",
       "      <th>4</th>\n",
       "      <td>0.006263</td>\n",
       "      <td>-0.782261</td>\n",
       "    </tr>\n",
       "    <tr>\n",
       "      <th>2</th>\n",
       "      <td>0.006148</td>\n",
       "      <td>-0.782262</td>\n",
       "    </tr>\n",
       "    <tr>\n",
       "      <th>7</th>\n",
       "      <td>0.010547</td>\n",
       "      <td>-0.782264</td>\n",
       "    </tr>\n",
       "    <tr>\n",
       "      <th>3</th>\n",
       "      <td>0.005247</td>\n",
       "      <td>-0.782264</td>\n",
       "    </tr>\n",
       "    <tr>\n",
       "      <th>4</th>\n",
       "      <td>0.019347</td>\n",
       "      <td>-0.782264</td>\n",
       "    </tr>\n",
       "    <tr>\n",
       "      <th>7</th>\n",
       "      <td>0.00478</td>\n",
       "      <td>-0.782265</td>\n",
       "    </tr>\n",
       "    <tr>\n",
       "      <th>5</th>\n",
       "      <td>0.005618</td>\n",
       "      <td>-0.782265</td>\n",
       "    </tr>\n",
       "    <tr>\n",
       "      <th>0</th>\n",
       "      <td>0.003873</td>\n",
       "      <td>-0.782266</td>\n",
       "    </tr>\n",
       "    <tr>\n",
       "      <th>9</th>\n",
       "      <td>0.006211</td>\n",
       "      <td>-0.782266</td>\n",
       "    </tr>\n",
       "    <tr>\n",
       "      <th>6</th>\n",
       "      <td>0.005336</td>\n",
       "      <td>-0.782266</td>\n",
       "    </tr>\n",
       "    <tr>\n",
       "      <th>12</th>\n",
       "      <td>0.027838</td>\n",
       "      <td>-0.782266</td>\n",
       "    </tr>\n",
       "    <tr>\n",
       "      <th>10</th>\n",
       "      <td>0.005106</td>\n",
       "      <td>-0.782267</td>\n",
       "    </tr>\n",
       "    <tr>\n",
       "      <th>6</th>\n",
       "      <td>0.028476</td>\n",
       "      <td>-0.782267</td>\n",
       "    </tr>\n",
       "    <tr>\n",
       "      <th>4</th>\n",
       "      <td>0.004367</td>\n",
       "      <td>-0.782268</td>\n",
       "    </tr>\n",
       "    <tr>\n",
       "      <th>8</th>\n",
       "      <td>0.019984</td>\n",
       "      <td>-0.782268</td>\n",
       "    </tr>\n",
       "    <tr>\n",
       "      <th>1</th>\n",
       "      <td>0.005002</td>\n",
       "      <td>-0.782268</td>\n",
       "    </tr>\n",
       "    <tr>\n",
       "      <th>14</th>\n",
       "      <td>0.021318</td>\n",
       "      <td>-0.782268</td>\n",
       "    </tr>\n",
       "    <tr>\n",
       "      <th>7</th>\n",
       "      <td>0.022846</td>\n",
       "      <td>-0.782268</td>\n",
       "    </tr>\n",
       "    <tr>\n",
       "      <th>4</th>\n",
       "      <td>0.003857</td>\n",
       "      <td>-0.782269</td>\n",
       "    </tr>\n",
       "    <tr>\n",
       "      <th>0</th>\n",
       "      <td>0.022494</td>\n",
       "      <td>-0.782270</td>\n",
       "    </tr>\n",
       "    <tr>\n",
       "      <th>1</th>\n",
       "      <td>0.025016</td>\n",
       "      <td>-0.782274</td>\n",
       "    </tr>\n",
       "    <tr>\n",
       "      <th>11</th>\n",
       "      <td>0.032003</td>\n",
       "      <td>-0.782275</td>\n",
       "    </tr>\n",
       "    <tr>\n",
       "      <th>2</th>\n",
       "      <td>0.003479</td>\n",
       "      <td>-0.782276</td>\n",
       "    </tr>\n",
       "    <tr>\n",
       "      <th>8</th>\n",
       "      <td>0.002977</td>\n",
       "      <td>-0.782280</td>\n",
       "    </tr>\n",
       "    <tr>\n",
       "      <th>4</th>\n",
       "      <td>0.003102</td>\n",
       "      <td>-0.782281</td>\n",
       "    </tr>\n",
       "    <tr>\n",
       "      <th>9</th>\n",
       "      <td>0.002807</td>\n",
       "      <td>-0.782281</td>\n",
       "    </tr>\n",
       "    <tr>\n",
       "      <th>7</th>\n",
       "      <td>0.042576</td>\n",
       "      <td>-0.782281</td>\n",
       "    </tr>\n",
       "    <tr>\n",
       "      <th>2</th>\n",
       "      <td>0.0032</td>\n",
       "      <td>-0.782282</td>\n",
       "    </tr>\n",
       "    <tr>\n",
       "      <th>9</th>\n",
       "      <td>0.042334</td>\n",
       "      <td>-0.782284</td>\n",
       "    </tr>\n",
       "    <tr>\n",
       "      <th>8</th>\n",
       "      <td>0.045963</td>\n",
       "      <td>-0.782285</td>\n",
       "    </tr>\n",
       "    <tr>\n",
       "      <th>0</th>\n",
       "      <td>0.040187</td>\n",
       "      <td>-0.782287</td>\n",
       "    </tr>\n",
       "    <tr>\n",
       "      <th>2</th>\n",
       "      <td>0.002826</td>\n",
       "      <td>-0.782287</td>\n",
       "    </tr>\n",
       "    <tr>\n",
       "      <th>4</th>\n",
       "      <td>0.002571</td>\n",
       "      <td>-0.782289</td>\n",
       "    </tr>\n",
       "    <tr>\n",
       "      <th>2</th>\n",
       "      <td>0.002379</td>\n",
       "      <td>-0.782291</td>\n",
       "    </tr>\n",
       "    <tr>\n",
       "      <th>1</th>\n",
       "      <td>0.04747</td>\n",
       "      <td>-0.782291</td>\n",
       "    </tr>\n",
       "    <tr>\n",
       "      <th>7</th>\n",
       "      <td>0.052192</td>\n",
       "      <td>-0.782294</td>\n",
       "    </tr>\n",
       "    <tr>\n",
       "      <th>5</th>\n",
       "      <td>0.002105</td>\n",
       "      <td>-0.782296</td>\n",
       "    </tr>\n",
       "    <tr>\n",
       "      <th>6</th>\n",
       "      <td>0.055447</td>\n",
       "      <td>-0.782298</td>\n",
       "    </tr>\n",
       "    <tr>\n",
       "      <th>5</th>\n",
       "      <td>0.001796</td>\n",
       "      <td>-0.782298</td>\n",
       "    </tr>\n",
       "    <tr>\n",
       "      <th>0</th>\n",
       "      <td>0.066376</td>\n",
       "      <td>-0.782301</td>\n",
       "    </tr>\n",
       "    <tr>\n",
       "      <th>11</th>\n",
       "      <td>0.06378</td>\n",
       "      <td>-0.782302</td>\n",
       "    </tr>\n",
       "    <tr>\n",
       "      <th>1</th>\n",
       "      <td>0.06258</td>\n",
       "      <td>-0.782304</td>\n",
       "    </tr>\n",
       "    <tr>\n",
       "      <th>5</th>\n",
       "      <td>0.00163</td>\n",
       "      <td>-0.782304</td>\n",
       "    </tr>\n",
       "    <tr>\n",
       "      <th>2</th>\n",
       "      <td>0.001542</td>\n",
       "      <td>-0.782308</td>\n",
       "    </tr>\n",
       "    <tr>\n",
       "      <th>12</th>\n",
       "      <td>0.069532</td>\n",
       "      <td>-0.782309</td>\n",
       "    </tr>\n",
       "    <tr>\n",
       "      <th>7</th>\n",
       "      <td>0.070299</td>\n",
       "      <td>-0.782309</td>\n",
       "    </tr>\n",
       "    <tr>\n",
       "      <th>4</th>\n",
       "      <td>0.001603</td>\n",
       "      <td>-0.782309</td>\n",
       "    </tr>\n",
       "    <tr>\n",
       "      <th>6</th>\n",
       "      <td>0.081089</td>\n",
       "      <td>-0.782310</td>\n",
       "    </tr>\n",
       "    <tr>\n",
       "      <th>3</th>\n",
       "      <td>0.001438</td>\n",
       "      <td>-0.782313</td>\n",
       "    </tr>\n",
       "    <tr>\n",
       "      <th>1</th>\n",
       "      <td>0.07931</td>\n",
       "      <td>-0.782318</td>\n",
       "    </tr>\n",
       "    <tr>\n",
       "      <th>7</th>\n",
       "      <td>0.089076</td>\n",
       "      <td>-0.782318</td>\n",
       "    </tr>\n",
       "    <tr>\n",
       "      <th>1</th>\n",
       "      <td>0.09491</td>\n",
       "      <td>-0.782320</td>\n",
       "    </tr>\n",
       "    <tr>\n",
       "      <th>13</th>\n",
       "      <td>0.08386</td>\n",
       "      <td>-0.782322</td>\n",
       "    </tr>\n",
       "    <tr>\n",
       "      <th>11</th>\n",
       "      <td>0.112742</td>\n",
       "      <td>-0.782324</td>\n",
       "    </tr>\n",
       "    <tr>\n",
       "      <th>6</th>\n",
       "      <td>0.094208</td>\n",
       "      <td>-0.782325</td>\n",
       "    </tr>\n",
       "    <tr>\n",
       "      <th>5</th>\n",
       "      <td>0.001277</td>\n",
       "      <td>-0.782325</td>\n",
       "    </tr>\n",
       "    <tr>\n",
       "      <th>3</th>\n",
       "      <td>0.001224</td>\n",
       "      <td>-0.782325</td>\n",
       "    </tr>\n",
       "    <tr>\n",
       "      <th>6</th>\n",
       "      <td>0.103905</td>\n",
       "      <td>-0.782326</td>\n",
       "    </tr>\n",
       "    <tr>\n",
       "      <th>3</th>\n",
       "      <td>0.001274</td>\n",
       "      <td>-0.782327</td>\n",
       "    </tr>\n",
       "    <tr>\n",
       "      <th>10</th>\n",
       "      <td>0.119242</td>\n",
       "      <td>-0.782335</td>\n",
       "    </tr>\n",
       "    <tr>\n",
       "      <th>3</th>\n",
       "      <td>0.149704</td>\n",
       "      <td>-0.782341</td>\n",
       "    </tr>\n",
       "    <tr>\n",
       "      <th>3</th>\n",
       "      <td>0.001106</td>\n",
       "      <td>-0.782346</td>\n",
       "    </tr>\n",
       "    <tr>\n",
       "      <th>10</th>\n",
       "      <td>0.001111</td>\n",
       "      <td>-0.782346</td>\n",
       "    </tr>\n",
       "    <tr>\n",
       "      <th>10</th>\n",
       "      <td>0.001092</td>\n",
       "      <td>-0.782347</td>\n",
       "    </tr>\n",
       "    <tr>\n",
       "      <th>9</th>\n",
       "      <td>0.239635</td>\n",
       "      <td>-0.782357</td>\n",
       "    </tr>\n",
       "    <tr>\n",
       "      <th>10</th>\n",
       "      <td>0.001045</td>\n",
       "      <td>-0.782360</td>\n",
       "    </tr>\n",
       "    <tr>\n",
       "      <th>5</th>\n",
       "      <td>0.265614</td>\n",
       "      <td>-0.782368</td>\n",
       "    </tr>\n",
       "    <tr>\n",
       "      <th>8</th>\n",
       "      <td>0.485454</td>\n",
       "      <td>-0.782377</td>\n",
       "    </tr>\n",
       "    <tr>\n",
       "      <th>9</th>\n",
       "      <td>0.385804</td>\n",
       "      <td>-0.782379</td>\n",
       "    </tr>\n",
       "    <tr>\n",
       "      <th>2</th>\n",
       "      <td>0.565728</td>\n",
       "      <td>-0.782382</td>\n",
       "    </tr>\n",
       "    <tr>\n",
       "      <th>8</th>\n",
       "      <td>0.617683</td>\n",
       "      <td>-0.782387</td>\n",
       "    </tr>\n",
       "    <tr>\n",
       "      <th>4</th>\n",
       "      <td>0.660809</td>\n",
       "      <td>-0.782391</td>\n",
       "    </tr>\n",
       "    <tr>\n",
       "      <th>1</th>\n",
       "      <td>0.978539</td>\n",
       "      <td>-0.782397</td>\n",
       "    </tr>\n",
       "    <tr>\n",
       "      <th>9</th>\n",
       "      <td>6.211311</td>\n",
       "      <td>-0.782400</td>\n",
       "    </tr>\n",
       "    <tr>\n",
       "      <th>5</th>\n",
       "      <td>0.741107</td>\n",
       "      <td>-0.782400</td>\n",
       "    </tr>\n",
       "    <tr>\n",
       "      <th>7</th>\n",
       "      <td>29.820897</td>\n",
       "      <td>-0.782403</td>\n",
       "    </tr>\n",
       "    <tr>\n",
       "      <th>6</th>\n",
       "      <td>65.753844</td>\n",
       "      <td>-0.782403</td>\n",
       "    </tr>\n",
       "    <tr>\n",
       "      <th>7</th>\n",
       "      <td>27.239817</td>\n",
       "      <td>-0.782403</td>\n",
       "    </tr>\n",
       "  </tbody>\n",
       "</table>\n",
       "</div>"
      ],
      "text/plain": [
       "      param_C  mean_test_score\n",
       "3    0.011514        -0.782248\n",
       "8    0.008865        -0.782250\n",
       "1    0.010778        -0.782251\n",
       "5    0.014069        -0.782251\n",
       "8    0.013685        -0.782252\n",
       "15    0.01634        -0.782253\n",
       "9    0.017091        -0.782253\n",
       "12   0.016029        -0.782253\n",
       "9    0.008182        -0.782254\n",
       "8    0.007859        -0.782254\n",
       "12   0.009692        -0.782255\n",
       "10   0.010634        -0.782255\n",
       "6    0.011116        -0.782255\n",
       "9    0.011885        -0.782256\n",
       "11    0.01143        -0.782256\n",
       "0    0.014998        -0.782256\n",
       "0    0.009539        -0.782256\n",
       "16   0.007912        -0.782258\n",
       "9    0.007881        -0.782259\n",
       "2    0.018324        -0.782260\n",
       "0    0.025705        -0.782260\n",
       "8    0.008415        -0.782261\n",
       "4    0.006263        -0.782261\n",
       "2    0.006148        -0.782262\n",
       "7    0.010547        -0.782264\n",
       "3    0.005247        -0.782264\n",
       "4    0.019347        -0.782264\n",
       "7     0.00478        -0.782265\n",
       "5    0.005618        -0.782265\n",
       "0    0.003873        -0.782266\n",
       "9    0.006211        -0.782266\n",
       "6    0.005336        -0.782266\n",
       "12   0.027838        -0.782266\n",
       "10   0.005106        -0.782267\n",
       "6    0.028476        -0.782267\n",
       "4    0.004367        -0.782268\n",
       "8    0.019984        -0.782268\n",
       "1    0.005002        -0.782268\n",
       "14   0.021318        -0.782268\n",
       "7    0.022846        -0.782268\n",
       "4    0.003857        -0.782269\n",
       "0    0.022494        -0.782270\n",
       "1    0.025016        -0.782274\n",
       "11   0.032003        -0.782275\n",
       "2    0.003479        -0.782276\n",
       "8    0.002977        -0.782280\n",
       "4    0.003102        -0.782281\n",
       "9    0.002807        -0.782281\n",
       "7    0.042576        -0.782281\n",
       "2      0.0032        -0.782282\n",
       "9    0.042334        -0.782284\n",
       "8    0.045963        -0.782285\n",
       "0    0.040187        -0.782287\n",
       "2    0.002826        -0.782287\n",
       "4    0.002571        -0.782289\n",
       "2    0.002379        -0.782291\n",
       "1     0.04747        -0.782291\n",
       "7    0.052192        -0.782294\n",
       "5    0.002105        -0.782296\n",
       "6    0.055447        -0.782298\n",
       "5    0.001796        -0.782298\n",
       "0    0.066376        -0.782301\n",
       "11    0.06378        -0.782302\n",
       "1     0.06258        -0.782304\n",
       "5     0.00163        -0.782304\n",
       "2    0.001542        -0.782308\n",
       "12   0.069532        -0.782309\n",
       "7    0.070299        -0.782309\n",
       "4    0.001603        -0.782309\n",
       "6    0.081089        -0.782310\n",
       "3    0.001438        -0.782313\n",
       "1     0.07931        -0.782318\n",
       "7    0.089076        -0.782318\n",
       "1     0.09491        -0.782320\n",
       "13    0.08386        -0.782322\n",
       "11   0.112742        -0.782324\n",
       "6    0.094208        -0.782325\n",
       "5    0.001277        -0.782325\n",
       "3    0.001224        -0.782325\n",
       "6    0.103905        -0.782326\n",
       "3    0.001274        -0.782327\n",
       "10   0.119242        -0.782335\n",
       "3    0.149704        -0.782341\n",
       "3    0.001106        -0.782346\n",
       "10   0.001111        -0.782346\n",
       "10   0.001092        -0.782347\n",
       "9    0.239635        -0.782357\n",
       "10   0.001045        -0.782360\n",
       "5    0.265614        -0.782368\n",
       "8    0.485454        -0.782377\n",
       "9    0.385804        -0.782379\n",
       "2    0.565728        -0.782382\n",
       "8    0.617683        -0.782387\n",
       "4    0.660809        -0.782391\n",
       "1    0.978539        -0.782397\n",
       "9    6.211311        -0.782400\n",
       "5    0.741107        -0.782400\n",
       "7   29.820897        -0.782403\n",
       "6   65.753844        -0.782403\n",
       "7   27.239817        -0.782403"
      ]
     },
     "execution_count": 31,
     "metadata": {},
     "output_type": "execute_result"
    },
    {
     "data": {
      "image/png": "[encoded data removed]",
      "text/plain": [
       "<Figure size 432x288 with 1 Axes>"
      ]
     },
     "metadata": {
      "needs_background": "light"
     },
     "output_type": "display_data"
    },
    {
     "name": "stdout",
     "output_type": "stream",
     "text": [
      "time: 257 ms\n"
     ]
    }
   ],
   "source": [
    "results_df = results_df.sort_values(by=\"param_C\", ascending=True)\n",
    "results_df.plot(x=\"param_C\", y=\"mean_test_score\")\n",
    "df.sort_values(by=\"mean_test_score\", ascending=False).head(100)"
   ]
  },
  {
   "cell_type": "code",
   "execution_count": 32,
   "metadata": {},
   "outputs": [
    {
     "data": {
      "text/html": [
       "<div>\n",
       "<style scoped>\n",
       "    .dataframe tbody tr th:only-of-type {\n",
       "        vertical-align: middle;\n",
       "    }\n",
       "\n",
       "    .dataframe tbody tr th {\n",
       "        vertical-align: top;\n",
       "    }\n",
       "\n",
       "    .dataframe thead th {\n",
       "        text-align: right;\n",
       "    }\n",
       "</style>\n",
       "<table border=\"1\" class=\"dataframe\">\n",
       "  <thead>\n",
       "    <tr style=\"text-align: right;\">\n",
       "      <th></th>\n",
       "      <th>param_C</th>\n",
       "      <th>mean_test_score</th>\n",
       "    </tr>\n",
       "  </thead>\n",
       "  <tbody>\n",
       "    <tr>\n",
       "      <th>3</th>\n",
       "      <td>0.011514</td>\n",
       "      <td>-0.782248</td>\n",
       "    </tr>\n",
       "  </tbody>\n",
       "</table>\n",
       "</div>"
      ],
      "text/plain": [
       "    param_C  mean_test_score\n",
       "3  0.011514        -0.782248"
      ]
     },
     "execution_count": 32,
     "metadata": {},
     "output_type": "execute_result"
    },
    {
     "data": {
      "text/plain": [
       "0.011514411442955409"
      ]
     },
     "execution_count": 32,
     "metadata": {},
     "output_type": "execute_result"
    },
    {
     "name": "stdout",
     "output_type": "stream",
     "text": [
      "time: 12.5 ms\n"
     ]
    }
   ],
   "source": [
    "max_score = results_df.mean_test_score.max()\n",
    "results_df.loc[results_df.mean_test_score == max_score]\n",
    "results_df.loc[results_df.mean_test_score == max_score].param_C.iloc[0]"
   ]
  },
  {
   "cell_type": "code",
   "execution_count": 38,
   "metadata": {},
   "outputs": [
    {
     "data": {
      "text/plain": [
       "<AxesSubplot:xlabel='param_C'>"
      ]
     },
     "execution_count": 38,
     "metadata": {},
     "output_type": "execute_result"
    },
    {
     "data": {
      "image/png": "[encoded data removed]",
      "text/plain": [
       "<Figure size 432x288 with 1 Axes>"
      ]
     },
     "metadata": {
      "needs_background": "light"
     },
     "output_type": "display_data"
    },
    {
     "name": "stdout",
     "output_type": "stream",
     "text": [
      "time: 215 ms\n"
     ]
    }
   ],
   "source": [
    "results_df.loc[results_df.param_C < 0.03].plot(x=\"param_C\", y=\"mean_test_score\")"
   ]
  },
  {
   "cell_type": "markdown",
   "metadata": {},
   "source": [
    "# Discussion"
   ]
  },
  {
   "cell_type": "markdown",
   "metadata": {},
   "source": [
    "There are so many more possibilities for feature engineering. Upstream augmentation of the raw audio would probably be helpful as would resampling.\n",
    "\n",
    "It's important to be disciplined now and focus on deployment. Although there are numerous points of interest where tweaking is likely to yield better results, we are only deviating slightly from the feature engineering pathway we already established."
   ]
  },
  {
   "cell_type": "code",
   "execution_count": 33,
   "metadata": {},
   "outputs": [
    {
     "name": "stdout",
     "output_type": "stream",
     "text": [
      "Time elapsed since notebook_begin_time: 1221.100406885147 s\n",
      "time: 226 ms\n"
     ]
    }
   ],
   "source": [
    "print(f\"Time elapsed since notebook_begin_time: {time() - notebook_begin_time} s\")\n",
    "_ = gc_collect()"
   ]
  },
  {
   "cell_type": "markdown",
   "metadata": {},
   "source": [
    "[^top](#Contents)"
   ]
  },
  {
   "cell_type": "code",
   "execution_count": null,
   "metadata": {},
   "outputs": [],
   "source": []
  }
 ],
 "metadata": {
  "interpreter": {
   "hash": "e1781be99c106060f3abc0c9b91d3d379f24672894e2158d4b74304109955878"
  },
  "kernelspec": {
   "display_name": "Python [conda env:capstone_pyspark_38] *",
   "language": "python",
   "name": "python3"
  },
  "language_info": {
   "codemirror_mode": {
    "name": "ipython",
    "version": 3
   },
   "file_extension": ".py",
   "mimetype": "text/x-python",
   "name": "python",
   "nbconvert_exporter": "python",
   "pygments_lexer": "ipython3",
   "version": "3.8.12"
  }
 },
 "nbformat": 4,
 "nbformat_minor": 4
}
