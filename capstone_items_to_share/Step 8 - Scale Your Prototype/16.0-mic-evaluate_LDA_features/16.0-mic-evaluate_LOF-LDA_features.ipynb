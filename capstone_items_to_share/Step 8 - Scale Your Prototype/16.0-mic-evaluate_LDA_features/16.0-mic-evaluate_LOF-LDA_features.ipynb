{
 "cells": [
  {
   "cell_type": "markdown",
   "metadata": {},
   "source": [
    "# Contents\n",
    "* [Introduction](#Introduction)\n",
    "* [Imports and configuration](#Imports-and-configuration)\n",
    "* [Data loading](#Data-loading)\n",
    "* [Setup](#Setup)\n",
    "* [Score models](#Score-models)\n",
    "* [Prediction correlation](#Prediction-correlation)\n",
    "* [Results](#Results)\n",
    "* [Discussion](#Discussion)"
   ]
  },
  {
   "cell_type": "markdown",
   "metadata": {},
   "source": [
    "# Introduction\n",
    "\n",
    "This notebook examines the efficacy of post-LOF LDA components as features."
   ]
  },
  {
   "cell_type": "markdown",
   "metadata": {},
   "source": [
    "# Imports and configuration"
   ]
  },
  {
   "cell_type": "code",
   "execution_count": 1,
   "metadata": {},
   "outputs": [],
   "source": [
    "from time import time\n",
    "\n",
    "notebook_begin_time = time()\n",
    "\n",
    "# set random seeds\n",
    "\n",
    "from os import environ\n",
    "from random import seed as random_seed\n",
    "from numpy.random import seed as np_seed\n",
    "from tensorflow.random import set_seed\n",
    "\n",
    "\n",
    "def reset_seeds(seed: int) -> None:\n",
    "    \"\"\"Utility function for resetting random seeds\"\"\"\n",
    "    environ[\"PYTHONHASHSEED\"] = str(seed)\n",
    "    random_seed(seed)\n",
    "    np_seed(seed)\n",
    "    set_seed(seed)\n",
    "\n",
    "\n",
    "reset_seeds(SEED := 2021)\n",
    "del environ\n",
    "del random_seed\n",
    "del np_seed\n",
    "del set_seed\n",
    "del reset_seeds"
   ]
  },
  {
   "cell_type": "code",
   "execution_count": 2,
   "metadata": {},
   "outputs": [],
   "source": [
    "# extensions\n",
    "%load_ext autotime\n",
    "%load_ext lab_black\n",
    "%load_ext nb_black"
   ]
  },
  {
   "cell_type": "code",
   "execution_count": 3,
   "metadata": {},
   "outputs": [
    {
     "name": "stderr",
     "output_type": "stream",
     "text": [
      "Intel(R) Extension for Scikit-learn* enabled (https://github.com/intel/scikit-learn-intelex)\n"
     ]
    },
    {
     "name": "stdout",
     "output_type": "stream",
     "text": [
      "time: 3.75 s\n"
     ]
    }
   ],
   "source": [
    "# core\n",
    "import numpy as np\n",
    "import pandas as pd\n",
    "\n",
    "# utility\n",
    "from collections import namedtuple\n",
    "from gc import collect as gc_collect\n",
    "from tqdm.notebook import tqdm\n",
    "\n",
    "# typing\n",
    "from typing import Any, Dict, List\n",
    "\n",
    "# faster pandas & sklearn\n",
    "import swifter\n",
    "from sklearnex import patch_sklearn\n",
    "\n",
    "patch_sklearn()\n",
    "del patch_sklearn\n",
    "\n",
    "# metrics\n",
    "from imblearn.metrics import geometric_mean_score\n",
    "from sklearn.metrics import (\n",
    "    accuracy_score,\n",
    "    balanced_accuracy_score,\n",
    "    f1_score,\n",
    "    roc_auc_score,\n",
    ")\n",
    "\n",
    "# classifiers\n",
    "from sklearn.linear_model import (\n",
    "    LogisticRegressionCV,\n",
    "    RidgeClassifierCV,\n",
    "    SGDClassifier,\n",
    ")\n",
    "from sklearn.naive_bayes import GaussianNB\n",
    "from sklearn.svm import LinearSVC, SVC\n",
    "\n",
    "# visualization\n",
    "from sklearn.decomposition import PCA\n",
    "import matplotlib.pyplot as plt\n",
    "import seaborn as sns\n",
    "\n",
    "sns.set_context(\"notebook\")\n",
    "%matplotlib inline\n",
    "\n",
    "# display outputs w/o print calls\n",
    "from IPython.core.interactiveshell import InteractiveShell\n",
    "\n",
    "InteractiveShell.ast_node_interactivity = \"all\"\n",
    "del InteractiveShell\n",
    "\n",
    "# hide warnings\n",
    "import warnings\n",
    "\n",
    "warnings.filterwarnings(\"ignore\")\n",
    "del warnings"
   ]
  },
  {
   "cell_type": "code",
   "execution_count": 4,
   "metadata": {},
   "outputs": [
    {
     "name": "stdout",
     "output_type": "stream",
     "text": [
      "time: 104 ms\n"
     ]
    }
   ],
   "source": [
    "# Location of cross validation data\n",
    "FRILL_FEATHERS_FOLDER = \"../10.0-mic-prepare_train-test_splits_on_full_data\"\n",
    "\n",
    "# Location where this notebook will output\n",
    "DATA_OUT_FOLDER = \".\"\n",
    "\n",
    "_ = gc_collect()"
   ]
  },
  {
   "cell_type": "markdown",
   "metadata": {},
   "source": [
    "# Setup\n",
    "\n",
    "In this section, we define some structures to keep track of models and scores."
   ]
  },
  {
   "cell_type": "code",
   "execution_count": 5,
   "metadata": {},
   "outputs": [
    {
     "name": "stdout",
     "output_type": "stream",
     "text": [
      "time: 118 ms\n"
     ]
    }
   ],
   "source": [
    "MODELS = {\n",
    "    \"GaussianNB\": lambda: GaussianNB(),\n",
    "    \"LinearSVC\": lambda: LinearSVC(random_state=SEED),\n",
    "    \"LogRegCV_b\": lambda: LogisticRegressionCV(\n",
    "        scoring=\"balanced_accuracy\",\n",
    "        class_weight=\"balanced\",\n",
    "        n_jobs=-1,\n",
    "        random_state=SEED,\n",
    "    ),\n",
    "    \"RidgeCV_b\": lambda: RidgeClassifierCV(\n",
    "        scoring=\"balanced_accuracy\", class_weight=\"balanced\"\n",
    "    ),\n",
    "    \"RidgeCV\": lambda: RidgeClassifierCV(scoring=\"balanced_accuracy\"),\n",
    "    \"SGD\": lambda: SGDClassifier(n_jobs=-1, random_state=SEED),\n",
    "    \"SGD_b\": lambda: SGDClassifier(\n",
    "        n_jobs=-1, random_state=SEED, class_weight=\"balanced\"\n",
    "    ),\n",
    "    \"SVC\": lambda: SVC(random_state=SEED),\n",
    "    \"SVC_b\": lambda: SVC(class_weight=\"balanced\", random_state=SEED),\n",
    "}\n",
    "\n",
    "_ = gc_collect()"
   ]
  },
  {
   "cell_type": "code",
   "execution_count": 6,
   "metadata": {},
   "outputs": [
    {
     "name": "stdout",
     "output_type": "stream",
     "text": [
      "time: 111 ms\n"
     ]
    }
   ],
   "source": [
    "METRICS = (\n",
    "    \"accuracy\",\n",
    "    \"adjusted_balanced_accuracy\",\n",
    "    \"balanced_accuracy\",\n",
    "    \"f1\",\n",
    "    \"geometric_mean\",\n",
    "    \"roc_auc\",\n",
    "    \"fit_time\",\n",
    "    \"predict_time\",\n",
    ")\n",
    "\n",
    "# to be cast to pd.DataFrame\n",
    "make_results = lambda: {\n",
    "    key: [] for key in {\"model_name\", \"case\", \"preprocessing\", *METRICS}\n",
    "}\n",
    "results_ = make_results()\n",
    "\n",
    "AvgScores = namedtuple(\"AvgScores\", METRICS)\n",
    "\n",
    "\n",
    "def store_result(\n",
    "    where: Dict[str, List],\n",
    "    model_name: str,\n",
    "    case: str,\n",
    "    preprocessing: str,\n",
    "    avg_scores: AvgScores,\n",
    ") -> None:\n",
    "    \"Appends a model's scores and fit/predict times to the results dict.\"\n",
    "    for attribute, value in {\n",
    "        \"model_name\": model_name,\n",
    "        \"case\": case,\n",
    "        \"preprocessing\": preprocessing,\n",
    "        **avg_scores._asdict(),\n",
    "    }.items():\n",
    "        where[attribute].append(value)\n",
    "\n",
    "\n",
    "def create_results_df(results_dict: Dict[str, List]) -> pd.DataFrame:\n",
    "    \"\"\"Create a results dataframe from the results dictionary\"\"\"\n",
    "    df = (\n",
    "        pd.DataFrame(results_dict)\n",
    "        .sort_values(by=[\"preprocessing\", \"model_name\"], ascending=True)\n",
    "        .sort_values(by=[\"fit_time\", \"predict_time\"], ascending=True)\n",
    "        .sort_values(\n",
    "            by=[\n",
    "                \"accuracy\",\n",
    "                \"adjusted_balanced_accuracy\",\n",
    "                \"balanced_accuracy\",\n",
    "                \"geometric_mean\",\n",
    "                \"f1\",\n",
    "                \"roc_auc\",\n",
    "            ],\n",
    "            ascending=False,\n",
    "        )\n",
    "        .sort_values(by=[\"case\"], ascending=True)\n",
    "        .reset_index(drop=True)\n",
    "    )[\n",
    "        [  # selection order\n",
    "            \"model_name\",\n",
    "            \"case\",\n",
    "            \"preprocessing\",\n",
    "            \"accuracy\",\n",
    "            \"adjusted_balanced_accuracy\",\n",
    "            \"balanced_accuracy\",\n",
    "            \"f1\",\n",
    "            \"geometric_mean\",\n",
    "            \"roc_auc\",\n",
    "            \"fit_time\",\n",
    "            \"predict_time\",\n",
    "        ]\n",
    "    ]\n",
    "    df.loc[:, \"case\"] = df.loc[:, \"case\"].astype(\"category\")\n",
    "    df.loc[:, \"preprocessing\"] = df.loc[:, \"preprocessing\"].astype(\"category\")\n",
    "    return df\n",
    "\n",
    "\n",
    "ALL_CASES = {\"ternary\"}\n",
    "\n",
    "_ = gc_collect()"
   ]
  },
  {
   "cell_type": "code",
   "execution_count": 7,
   "metadata": {},
   "outputs": [
    {
     "name": "stdout",
     "output_type": "stream",
     "text": [
      "time: 116 ms\n"
     ]
    }
   ],
   "source": [
    "predictions_ = {key: [] for key in {\"model\", \"case\", \"preprocessing\", \"fold\", \"y_pred\"}}\n",
    "\n",
    "Prediction = namedtuple(\"Prediction\", predictions_.keys())\n",
    "\n",
    "\n",
    "def store_prediction(where: Dict[str, List], prediction: Prediction) -> None:\n",
    "    \"Records the y_pred of a classifier on a fold\"\n",
    "    for k, v in prediction._asdict().items():\n",
    "        where[k].append(v)\n",
    "\n",
    "\n",
    "_ = gc_collect()"
   ]
  },
  {
   "cell_type": "code",
   "execution_count": 8,
   "metadata": {},
   "outputs": [
    {
     "name": "stdout",
     "output_type": "stream",
     "text": [
      "time: 139 ms\n"
     ]
    }
   ],
   "source": [
    "def print_and_append(to_append: Any, append_to: List[Any]) -> List[Any]:\n",
    "    \"\"\"Given an object and a list, pass the object to print() and then append it to the list, which is returned\"\"\"\n",
    "    print(to_append)\n",
    "    append_to.append(to_append)\n",
    "    return append_to\n",
    "\n",
    "\n",
    "def prep_y_pred(label: int) -> np.ndarray:\n",
    "    \"\"\"Prepares labels for AUROC scoring\"\"\"\n",
    "    _ = [0, 0, 0]\n",
    "    _[label] = 1\n",
    "    return np.asarray(_, dtype=np.float16)\n",
    "\n",
    "\n",
    "SUFFIX_DICT = {\n",
    "    \"LOF\": \"LOF\",\n",
    "    \"LOF-LDA\": \"untransformed\",\n",
    "    \"LOF+LDA\": \"\",\n",
    "}\n",
    "\n",
    "\n",
    "def evaluate_model(\n",
    "    model_base: str,\n",
    "    case: str = \"ternary\",\n",
    "    preprocessing: str = \"untransformed\",\n",
    "    track_fold_time: bool = True,\n",
    ") -> AvgScores:\n",
    "    \"\"\"Evaluate a model with cross validation on prepared folds.\"\"\"\n",
    "    (\n",
    "        fit_times,\n",
    "        predict_times,\n",
    "        accuracy,\n",
    "        adjusted_balanced_accuracy,\n",
    "        balanced_accuracy,\n",
    "        f1,\n",
    "        geometric_mean,\n",
    "        roc_auc,\n",
    "    ) = ([] for _ in range(8))\n",
    "    fold_num = 0\n",
    "    while True:\n",
    "        if track_fold_time:\n",
    "            fold_begin = time()\n",
    "        # load training data\n",
    "        read_feather_cv = lambda filename: pd.read_feather(\n",
    "            f\"{FRILL_FEATHERS_FOLDER}/cv_{fold_num}/{filename}.feather\"\n",
    "        )\n",
    "        try:\n",
    "            X_train = read_feather_cv(\"X_train_LOF-LDA\")\n",
    "            y_train = read_feather_cv(\"y_train_LOF\").iloc[:, 0]\n",
    "        except FileNotFoundError:\n",
    "            break\n",
    "        if preprocessing == \"LOF+LDA\":\n",
    "            X_train = pd.concat(\n",
    "                [X_train, read_feather_cv(\"X_train_LOF\")], axis=\"columns\"\n",
    "            )\n",
    "\n",
    "        # initialize model\n",
    "        model = MODELS[model_base]()\n",
    "\n",
    "        # fit\n",
    "        begin = time()\n",
    "        model.fit(X_train, y_train)\n",
    "        end = time()\n",
    "        del X_train\n",
    "        del y_train\n",
    "        _ = gc_collect()\n",
    "        fit_times.append(end - begin)\n",
    "        print(f\"fitted in {end - begin:.2f} s\")\n",
    "\n",
    "        # load test data\n",
    "        X_test = read_feather_cv(\"X_test_LOF-LDA\")\n",
    "        if preprocessing == \"LOF+LDA\":\n",
    "            X_test = pd.concat(\n",
    "                [X_test, read_feather_cv(\"X_test_untransformed\")], axis=\"columns\"\n",
    "            )\n",
    "\n",
    "        # predict\n",
    "        begin = time()\n",
    "        predicted = model.predict(X_test)\n",
    "        end = time()\n",
    "        try:\n",
    "            proba_predict = model.predict_proba(X_test)\n",
    "        except AttributeError:\n",
    "            # some classifiers do not support .predict_proba\n",
    "            proba_predict = np.stack(pd.Series(predicted).swifter.apply(prep_y_pred))\n",
    "        del X_test\n",
    "        del model\n",
    "        _ = gc_collect()\n",
    "        predict_times.append(end - begin)\n",
    "        print(f\"predicted in {end - begin:.2f} s\")\n",
    "        del end\n",
    "        del begin\n",
    "        _ = gc_collect()\n",
    "        store_prediction(\n",
    "            where=predictions_,\n",
    "            prediction=Prediction(\n",
    "                model=model_base,\n",
    "                case=case,\n",
    "                preprocessing=preprocessing,\n",
    "                fold=fold_num,\n",
    "                y_pred=predicted,\n",
    "            ),\n",
    "        )\n",
    "\n",
    "        # score\n",
    "        score_params = {\n",
    "            \"y_true\": read_feather_cv(\"y_test_ter\").iloc[:, 0],\n",
    "            \"y_pred\": predicted,\n",
    "        }\n",
    "        print(\"accuracy: \", end=\"\")\n",
    "        accuracy = print_and_append(\n",
    "            to_append=accuracy_score(**score_params), append_to=accuracy\n",
    "        )\n",
    "        print(\"adjusted balanced accuracy: \", end=\"\")\n",
    "        adjusted_balanced_accuracy = print_and_append(\n",
    "            to_append=balanced_accuracy_score(**score_params, adjusted=True),\n",
    "            append_to=adjusted_balanced_accuracy,\n",
    "        )\n",
    "        print(\"balanced accuracy: \", end=\"\")\n",
    "        balanced_accuracy = print_and_append(\n",
    "            to_append=balanced_accuracy_score(**score_params),\n",
    "            append_to=balanced_accuracy,\n",
    "        )\n",
    "        print(\"f1: \", end=\"\")\n",
    "        f1 = print_and_append(\n",
    "            to_append=f1_score(**score_params, average=\"weighted\"), append_to=f1\n",
    "        )\n",
    "        print(\"geometric mean: \", end=\"\")\n",
    "        geometric_mean = print_and_append(\n",
    "            to_append=geometric_mean_score(**score_params), append_to=geometric_mean\n",
    "        )\n",
    "        print(\"roc auc: \", end=\"\")\n",
    "        roc_auc = print_and_append(\n",
    "            to_append=roc_auc_score(\n",
    "                y_true=score_params[\"y_true\"],\n",
    "                y_score=proba_predict,\n",
    "                average=\"weighted\",\n",
    "                multi_class=\"ovo\",\n",
    "            ),\n",
    "            append_to=roc_auc,\n",
    "        )\n",
    "        del score_params\n",
    "        del predicted\n",
    "        del proba_predict\n",
    "        _ = gc_collect()\n",
    "\n",
    "        if track_fold_time:\n",
    "            print(\n",
    "                f\"{model_base} fold {fold_num + 1} completed in {time() - fold_begin:.2f} s\"\n",
    "            )\n",
    "            del fold_begin\n",
    "\n",
    "        fold_num += 1\n",
    "        _ = gc_collect()\n",
    "\n",
    "    return AvgScores(\n",
    "        *[\n",
    "            np.mean(_)\n",
    "            for _ in (\n",
    "                accuracy,\n",
    "                adjusted_balanced_accuracy,\n",
    "                balanced_accuracy,\n",
    "                f1,\n",
    "                geometric_mean,\n",
    "                roc_auc,\n",
    "                fit_times,\n",
    "                predict_times,\n",
    "            )\n",
    "        ]\n",
    "    )\n",
    "\n",
    "\n",
    "case = \"ternary\"\n",
    "\n",
    "_ = gc_collect()"
   ]
  },
  {
   "cell_type": "markdown",
   "metadata": {},
   "source": [
    "# Score models"
   ]
  },
  {
   "cell_type": "code",
   "execution_count": 9,
   "metadata": {},
   "outputs": [
    {
     "data": {
      "application/vnd.jupyter.widget-view+json": {
       "model_id": "2cebb831114648c8ba7fd4f9e151f6fa",
       "version_major": 2,
       "version_minor": 0
      },
      "text/plain": [
       "  0%|          | 0/9 [00:00<?, ?it/s]"
      ]
     },
     "metadata": {},
     "output_type": "display_data"
    },
    {
     "name": "stdout",
     "output_type": "stream",
     "text": [
      "evaluating GaussianNB...\n",
      "fitted in 5.13 s\n",
      "predicted in 0.83 s\n",
      "accuracy: 0.5057803468208093\n",
      "adjusted balanced accuracy: 0.20272339220947325\n",
      "balanced accuracy: 0.46848226147298216\n",
      "f1: 0.5136303949922637\n",
      "geometric mean: 0.4615324718952855\n",
      "roc auc: 0.6696599724342671\n",
      "GaussianNB fold 1 completed in 8.43 s\n",
      "fitted in 4.65 s\n",
      "predicted in 0.70 s\n",
      "accuracy: 0.5193509198195071\n",
      "adjusted balanced accuracy: 0.21760665775780463\n",
      "balanced accuracy: 0.4784044385052031\n",
      "f1: 0.5223091415753843\n",
      "geometric mean: 0.4721079734448893\n",
      "roc auc: 0.6756518708452969\n",
      "GaussianNB fold 2 completed in 7.50 s\n",
      "fitted in 4.17 s\n",
      "predicted in 1.18 s\n",
      "accuracy: 0.5218178994771986\n",
      "adjusted balanced accuracy: 0.2700162052388954\n",
      "balanced accuracy: 0.5133441368259303\n",
      "f1: 0.5300272408156109\n",
      "geometric mean: 0.509256510569368\n",
      "roc auc: 0.700762530273202\n",
      "GaussianNB fold 3 completed in 7.93 s\n",
      "fitted in 3.77 s\n",
      "predicted in 1.50 s\n",
      "accuracy: 0.5150098520264266\n",
      "adjusted balanced accuracy: 0.22763483279942065\n",
      "balanced accuracy: 0.4850898885329471\n",
      "f1: 0.5140562473497824\n",
      "geometric mean: 0.4615286829717232\n",
      "roc auc: 0.6781359885528992\n",
      "GaussianNB fold 4 completed in 8.33 s\n",
      "fitted in 4.08 s\n",
      "predicted in 0.95 s\n",
      "accuracy: 0.4738688603919671\n",
      "adjusted balanced accuracy: 0.21009962764473977\n",
      "balanced accuracy: 0.47339975176315985\n",
      "f1: 0.4755566804721887\n",
      "geometric mean: 0.46442687074060685\n",
      "roc auc: 0.662909505824682\n",
      "GaussianNB fold 5 completed in 7.33 s\n",
      "stored GaussianNB in 40.11 s\n",
      "evaluating GaussianNB...\n",
      "fitted in 0.02 s\n",
      "predicted in 0.00 s\n",
      "accuracy: 0.6390247517415147\n",
      "adjusted balanced accuracy: 0.3075694722737922\n",
      "balanced accuracy: 0.5383796481825281\n",
      "f1: 0.6200676750498436\n",
      "geometric mean: 0.4936744453986872\n",
      "roc auc: 0.7563237404642057\n",
      "GaussianNB fold 1 completed in 0.48 s\n",
      "fitted in 0.02 s\n",
      "predicted in 0.00 s\n",
      "accuracy: 0.6476917736896911\n",
      "adjusted balanced accuracy: 0.34388192934054235\n",
      "balanced accuracy: 0.5625879528936949\n",
      "f1: 0.6361122908710306\n",
      "geometric mean: 0.5304135739916771\n",
      "roc auc: 0.7847979442367754\n",
      "GaussianNB fold 2 completed in 0.50 s\n",
      "fitted in 0.01 s\n",
      "predicted in 0.02 s\n",
      "accuracy: 0.5869351415704747\n",
      "adjusted balanced accuracy: 0.26427250014146025\n",
      "balanced accuracy: 0.5095150000943068\n",
      "f1: 0.5726618484361323\n",
      "geometric mean: 0.4689294074410482\n",
      "roc auc: 0.734048834356529\n",
      "GaussianNB fold 3 completed in 0.52 s\n",
      "fitted in 0.01 s\n",
      "predicted in 0.00 s\n",
      "accuracy: 0.5943283236100916\n",
      "adjusted balanced accuracy: 0.2766589977347165\n",
      "balanced accuracy: 0.5177726651564777\n",
      "f1: 0.5789268677780174\n",
      "geometric mean: 0.4691393438566213\n",
      "roc auc: 0.733341729122321\n",
      "GaussianNB fold 4 completed in 0.52 s\n",
      "fitted in 0.02 s\n",
      "predicted in 0.00 s\n",
      "accuracy: 0.5701669489474958\n",
      "adjusted balanced accuracy: 0.26961389624918536\n",
      "balanced accuracy: 0.5130759308327902\n",
      "f1: 0.5546368491987363\n",
      "geometric mean: 0.4696736846359244\n",
      "roc auc: 0.7286688572916307\n",
      "GaussianNB fold 5 completed in 0.50 s\n",
      "stored GaussianNB in 3.07 s\n",
      "evaluating LinearSVC...\n",
      "fitted in 888.48 s\n"
     ]
    },
    {
     "name": "stderr",
     "output_type": "stream",
     "text": [
      "Pandas Apply: 100%|██████████| 13494/13494 [00:00<00:00, 145723.75it/s]\n"
     ]
    },
    {
     "name": "stdout",
     "output_type": "stream",
     "text": [
      "predicted in 0.16 s\n",
      "accuracy: 0.637616718541574\n",
      "adjusted balanced accuracy: 0.30774728422779835\n",
      "balanced accuracy: 0.5384981894851989\n",
      "f1: 0.6171672629214096\n",
      "geometric mean: 0.48650172150552745\n",
      "roc auc: 0.6505976825297008\n",
      "LinearSVC fold 1 completed in 890.19 s\n",
      "fitted in 877.42 s\n"
     ]
    },
    {
     "name": "stderr",
     "output_type": "stream",
     "text": [
      "Pandas Apply: 100%|██████████| 11524/11524 [00:00<00:00, 157890.44it/s]\n"
     ]
    },
    {
     "name": "stdout",
     "output_type": "stream",
     "text": [
      "predicted in 0.10 s\n",
      "accuracy: 0.6529850746268657\n",
      "adjusted balanced accuracy: 0.34343863765695226\n",
      "balanced accuracy: 0.5622924251046348\n",
      "f1: 0.6384698821406624\n",
      "geometric mean: 0.5224655828339666\n",
      "roc auc: 0.6684374702028303\n",
      "LinearSVC fold 2 completed in 879.06 s\n",
      "fitted in 777.05 s\n"
     ]
    },
    {
     "name": "stderr",
     "output_type": "stream",
     "text": [
      "Pandas Apply: 100%|██████████| 19319/19319 [00:00<00:00, 204964.80it/s]\n"
     ]
    },
    {
     "name": "stdout",
     "output_type": "stream",
     "text": [
      "predicted in 0.16 s\n",
      "accuracy: 0.5919561053884776\n",
      "adjusted balanced accuracy: 0.2716801756918459\n",
      "balanced accuracy: 0.5144534504612306\n",
      "f1: 0.5772581107047793\n",
      "geometric mean: 0.4709248483813435\n",
      "roc auc: 0.6373538217917827\n",
      "LinearSVC fold 3 completed in 778.85 s\n",
      "fitted in 675.76 s\n"
     ]
    },
    {
     "name": "stderr",
     "output_type": "stream",
     "text": [
      "Pandas Apply: 100%|██████████| 25883/25883 [00:00<00:00, 154863.28it/s]\n"
     ]
    },
    {
     "name": "stdout",
     "output_type": "stream",
     "text": [
      "predicted in 0.20 s\n",
      "accuracy: 0.5925124599157748\n",
      "adjusted balanced accuracy: 0.27232850268535896\n",
      "balanced accuracy: 0.514885668456906\n",
      "f1: 0.5761649572291058\n",
      "geometric mean: 0.4623306742695251\n",
      "roc auc: 0.6359389924701768\n",
      "LinearSVC fold 4 completed in 677.77 s\n",
      "fitted in 811.78 s\n"
     ]
    },
    {
     "name": "stderr",
     "output_type": "stream",
     "text": [
      "Pandas Apply: 100%|██████████| 16532/16532 [00:00<00:00, 143363.58it/s]\n"
     ]
    },
    {
     "name": "stdout",
     "output_type": "stream",
     "text": [
      "predicted in 0.17 s\n",
      "accuracy: 0.5736752963948706\n",
      "adjusted balanced accuracy: 0.275143330397208\n",
      "balanced accuracy: 0.5167622202648053\n",
      "f1: 0.5582025340640384\n",
      "geometric mean: 0.47098484155766246\n",
      "roc auc: 0.6409235066584255\n",
      "LinearSVC fold 5 completed in 813.60 s\n",
      "stored LinearSVC in 4040.06 s\n",
      "evaluating LinearSVC...\n",
      "fitted in 8.11 s\n"
     ]
    },
    {
     "name": "stderr",
     "output_type": "stream",
     "text": [
      "Pandas Apply: 100%|██████████| 13494/13494 [00:00<00:00, 195867.73it/s]\n"
     ]
    },
    {
     "name": "stdout",
     "output_type": "stream",
     "text": [
      "predicted in 0.00 s\n",
      "accuracy: 0.6378390395731436\n",
      "adjusted balanced accuracy: 0.30390406272044596\n",
      "balanced accuracy: 0.5359360418136306\n",
      "f1: 0.6172425641103847\n",
      "geometric mean: 0.4855243536725411\n",
      "roc auc: 0.6489279613907604\n",
      "LinearSVC fold 1 completed in 8.76 s\n",
      "fitted in 7.09 s\n"
     ]
    },
    {
     "name": "stderr",
     "output_type": "stream",
     "text": [
      "Pandas Apply: 100%|██████████| 11524/11524 [00:00<00:00, 176257.74it/s]\n"
     ]
    },
    {
     "name": "stdout",
     "output_type": "stream",
     "text": [
      "predicted in 0.00 s\n",
      "accuracy: 0.6538528288788615\n",
      "adjusted balanced accuracy: 0.34112837588730216\n",
      "balanced accuracy: 0.5607522505915348\n",
      "f1: 0.6387573348691534\n",
      "geometric mean: 0.5207773658029723\n",
      "roc auc: 0.6676353598228059\n",
      "LinearSVC fold 2 completed in 7.70 s\n",
      "fitted in 4.75 s\n"
     ]
    },
    {
     "name": "stderr",
     "output_type": "stream",
     "text": [
      "Pandas Apply: 100%|██████████| 19319/19319 [00:00<00:00, 147048.51it/s]\n"
     ]
    },
    {
     "name": "stdout",
     "output_type": "stream",
     "text": [
      "predicted in 0.00 s\n",
      "accuracy: 0.5901444174129096\n",
      "adjusted balanced accuracy: 0.26632782011237816\n",
      "balanced accuracy: 0.5108852134082521\n",
      "f1: 0.5743787864492876\n",
      "geometric mean: 0.46496013532652697\n",
      "roc auc: 0.6345686798993957\n",
      "LinearSVC fold 3 completed in 5.44 s\n",
      "fitted in 3.53 s\n"
     ]
    },
    {
     "name": "stderr",
     "output_type": "stream",
     "text": [
      "Pandas Apply: 100%|██████████| 25883/25883 [00:00<00:00, 195078.47it/s]\n"
     ]
    },
    {
     "name": "stdout",
     "output_type": "stream",
     "text": [
      "predicted in 0.00 s\n",
      "accuracy: 0.5961441873044083\n",
      "adjusted balanced accuracy: 0.2772730846611746\n",
      "balanced accuracy: 0.5181820564407831\n",
      "f1: 0.5794843490275611\n",
      "geometric mean: 0.46574808823977826\n",
      "roc auc: 0.6381942421110188\n",
      "LinearSVC fold 4 completed in 4.24 s\n",
      "fitted in 6.96 s\n"
     ]
    },
    {
     "name": "stderr",
     "output_type": "stream",
     "text": [
      "Pandas Apply: 100%|██████████| 16532/16532 [00:00<00:00, 132550.54it/s]\n"
     ]
    },
    {
     "name": "stdout",
     "output_type": "stream",
     "text": [
      "predicted in 0.02 s\n",
      "accuracy: 0.5750060488749092\n",
      "adjusted balanced accuracy: 0.2757275805090173\n",
      "balanced accuracy: 0.5171517203393449\n",
      "f1: 0.5584969371153964\n",
      "geometric mean: 0.46910912264409077\n",
      "roc auc: 0.6410543135900829\n",
      "LinearSVC fold 5 completed in 7.63 s\n",
      "stored LinearSVC in 34.34 s\n",
      "evaluating LogRegCV_b...\n",
      "fitted in 468.86 s\n",
      "predicted in 0.12 s\n",
      "accuracy: 0.5911516229435304\n",
      "adjusted balanced accuracy: 0.3707101782625563\n",
      "balanced accuracy: 0.5804734521750375\n",
      "f1: 0.5980725939755435\n",
      "geometric mean: 0.5765551972490256\n",
      "roc auc: 0.7610397597266039\n",
      "LogRegCV_b fold 1 completed in 470.72 s\n",
      "fitted in 478.12 s\n",
      "predicted in 0.15 s\n",
      "accuracy: 0.6123741756334606\n",
      "adjusted balanced accuracy: 0.4190947870320995\n",
      "balanced accuracy: 0.6127298580213997\n",
      "f1: 0.6210258428783751\n",
      "geometric mean: 0.6113088903872544\n",
      "roc auc: 0.7874400128377064\n",
      "LogRegCV_b fold 2 completed in 480.53 s\n",
      "fitted in 427.72 s\n",
      "predicted in 0.25 s\n",
      "accuracy: 0.5597080594233655\n",
      "adjusted balanced accuracy: 0.33325600293088836\n",
      "balanced accuracy: 0.5555040019539256\n",
      "f1: 0.5683692359763513\n",
      "geometric mean: 0.5529722798445198\n",
      "roc auc: 0.7419977148869272\n",
      "LogRegCV_b fold 3 completed in 430.21 s\n",
      "fitted in 385.83 s\n",
      "predicted in 0.22 s\n",
      "accuracy: 0.55727697716648\n",
      "adjusted balanced accuracy: 0.32101938137301816\n",
      "balanced accuracy: 0.5473462542486788\n",
      "f1: 0.5623007077600869\n",
      "geometric mean: 0.53782805252596\n",
      "roc auc: 0.7379957994265549\n",
      "LogRegCV_b fold 4 completed in 388.62 s\n",
      "fitted in 444.82 s\n",
      "predicted in 0.13 s\n",
      "accuracy: 0.5500241954996371\n",
      "adjusted balanced accuracy: 0.32061771863805383\n",
      "balanced accuracy: 0.5470784790920359\n",
      "f1: 0.5519726126309408\n",
      "geometric mean: 0.5395520592602785\n",
      "roc auc: 0.7339970623013353\n",
      "LogRegCV_b fold 5 completed in 447.19 s\n",
      "stored LogRegCV_b in 2217.82 s\n",
      "evaluating LogRegCV_b...\n",
      "fitted in 2.88 s\n",
      "predicted in 0.00 s\n",
      "accuracy: 0.5902623388172521\n",
      "adjusted balanced accuracy: 0.37063295611173014\n",
      "balanced accuracy: 0.5804219707411534\n",
      "f1: 0.5976410366752672\n",
      "geometric mean: 0.5765693927185809\n",
      "roc auc: 0.7582755211676938\n",
      "LogRegCV_b fold 1 completed in 3.40 s\n",
      "fitted in 2.85 s\n",
      "predicted in 0.00 s\n",
      "accuracy: 0.6110725442554669\n",
      "adjusted balanced accuracy: 0.4194484487310342\n",
      "balanced accuracy: 0.6129656324873561\n",
      "f1: 0.6203292741948979\n",
      "geometric mean: 0.6115943856965547\n",
      "roc auc: 0.7868025895419158\n",
      "LogRegCV_b fold 2 completed in 3.38 s\n",
      "fitted in 1.86 s\n",
      "predicted in 0.00 s\n",
      "accuracy: 0.5567058336352814\n",
      "adjusted balanced accuracy: 0.3254384007114169\n",
      "balanced accuracy: 0.5502922671409446\n",
      "f1: 0.5652736183847863\n",
      "geometric mean: 0.5475367855113351\n",
      "roc auc: 0.7371539150674716\n",
      "LogRegCV_b fold 3 completed in 2.38 s\n",
      "fitted in 1.58 s\n",
      "predicted in 0.00 s\n",
      "accuracy: 0.5567360815979601\n",
      "adjusted balanced accuracy: 0.3219564431934317\n",
      "balanced accuracy: 0.5479709621289545\n",
      "f1: 0.5623179422089438\n",
      "geometric mean: 0.5395162540933455\n",
      "roc auc: 0.7360996509271955\n",
      "LogRegCV_b fold 4 completed in 2.11 s\n",
      "fitted in 1.92 s\n",
      "predicted in 0.00 s\n",
      "accuracy: 0.5506290829905638\n",
      "adjusted balanced accuracy: 0.3159034275772303\n",
      "balanced accuracy: 0.5439356183848202\n",
      "f1: 0.5518792307092066\n",
      "geometric mean: 0.5351651955913382\n",
      "roc auc: 0.7311049402068239\n",
      "LogRegCV_b fold 5 completed in 2.45 s\n",
      "stored LogRegCV_b in 14.30 s\n",
      "evaluating RidgeCV_b...\n",
      "fitted in 36.49 s\n"
     ]
    },
    {
     "name": "stderr",
     "output_type": "stream",
     "text": [
      "Pandas Apply: 100%|██████████| 13494/13494 [00:00<00:00, 156054.75it/s]\n"
     ]
    },
    {
     "name": "stdout",
     "output_type": "stream",
     "text": [
      "predicted in 0.10 s\n",
      "accuracy: 0.5897435897435898\n",
      "adjusted balanced accuracy: 0.3801572238492761\n",
      "balanced accuracy: 0.586771482566184\n",
      "f1: 0.5969109344038711\n",
      "geometric mean: 0.5822357392785686\n",
      "roc auc: 0.6817090103776159\n",
      "RidgeCV_b fold 1 completed in 38.64 s\n",
      "fitted in 36.61 s\n"
     ]
    },
    {
     "name": "stderr",
     "output_type": "stream",
     "text": [
      "Pandas Apply: 100%|██████████| 11524/11524 [00:00<00:00, 202831.53it/s]\n"
     ]
    },
    {
     "name": "stdout",
     "output_type": "stream",
     "text": [
      "predicted in 0.09 s\n",
      "accuracy: 0.6110725442554669\n",
      "adjusted balanced accuracy: 0.42816927090578333\n",
      "balanced accuracy: 0.6187795139371889\n",
      "f1: 0.6200788186659563\n",
      "geometric mean: 0.6164129831481809\n",
      "roc auc: 0.7051376636125595\n",
      "RidgeCV_b fold 2 completed in 38.75 s\n",
      "fitted in 32.29 s\n"
     ]
    },
    {
     "name": "stderr",
     "output_type": "stream",
     "text": [
      "Pandas Apply: 100%|██████████| 19319/19319 [00:00<00:00, 156067.76it/s]\n"
     ]
    },
    {
     "name": "stdout",
     "output_type": "stream",
     "text": [
      "predicted in 0.15 s\n",
      "accuracy: 0.5533412702520835\n",
      "adjusted balanced accuracy: 0.33295733849482567\n",
      "balanced accuracy: 0.5553048923298838\n",
      "f1: 0.5614754426501322\n",
      "geometric mean: 0.551113542794459\n",
      "roc auc: 0.6642068815730169\n",
      "RidgeCV_b fold 3 completed in 34.57 s\n",
      "fitted in 29.68 s\n"
     ]
    },
    {
     "name": "stderr",
     "output_type": "stream",
     "text": [
      "Pandas Apply: 100%|██████████| 25883/25883 [00:00<00:00, 176436.16it/s]\n"
     ]
    },
    {
     "name": "stdout",
     "output_type": "stream",
     "text": [
      "predicted in 0.20 s\n",
      "accuracy: 0.5493180852296874\n",
      "adjusted balanced accuracy: 0.3205683940694057\n",
      "balanced accuracy: 0.5470455960462705\n",
      "f1: 0.5547063528256478\n",
      "geometric mean: 0.537336507729755\n",
      "roc auc: 0.655857114010815\n",
      "RidgeCV_b fold 4 completed in 31.78 s\n",
      "fitted in 34.20 s\n"
     ]
    },
    {
     "name": "stderr",
     "output_type": "stream",
     "text": [
      "Pandas Apply: 100%|██████████| 16532/16532 [00:00<00:00, 157057.80it/s]\n"
     ]
    },
    {
     "name": "stdout",
     "output_type": "stream",
     "text": [
      "predicted in 0.14 s\n",
      "accuracy: 0.5468787805468183\n",
      "adjusted balanced accuracy: 0.3227791739711357\n",
      "balanced accuracy: 0.5485194493140905\n",
      "f1: 0.5472556337577887\n",
      "geometric mean: 0.5384125456223271\n",
      "roc auc: 0.6610449770276123\n",
      "RidgeCV_b fold 5 completed in 35.93 s\n",
      "stored RidgeCV_b in 180.26 s\n",
      "evaluating RidgeCV_b...\n",
      "fitted in 0.07 s\n"
     ]
    },
    {
     "name": "stderr",
     "output_type": "stream",
     "text": [
      "Pandas Apply: 100%|██████████| 13494/13494 [00:00<00:00, 185187.53it/s]\n"
     ]
    },
    {
     "name": "stdout",
     "output_type": "stream",
     "text": [
      "predicted in 0.00 s\n",
      "accuracy: 0.5873721654068474\n",
      "adjusted balanced accuracy: 0.3703835530733718\n",
      "balanced accuracy: 0.5802557020489145\n",
      "f1: 0.5945879442180807\n",
      "geometric mean: 0.5752269587913358\n",
      "roc auc: 0.6774846081621826\n",
      "RidgeCV_b fold 1 completed in 0.73 s\n",
      "fitted in 0.12 s\n"
     ]
    },
    {
     "name": "stderr",
     "output_type": "stream",
     "text": [
      "Pandas Apply: 100%|██████████| 11524/11524 [00:00<00:00, 165945.66it/s]\n"
     ]
    },
    {
     "name": "stdout",
     "output_type": "stream",
     "text": [
      "predicted in 0.00 s\n",
      "accuracy: 0.6113328705310656\n",
      "adjusted balanced accuracy: 0.42122231122823856\n",
      "balanced accuracy: 0.6141482074854924\n",
      "f1: 0.620008316904073\n",
      "geometric mean: 0.611940376206122\n",
      "roc auc: 0.7018001434957724\n",
      "RidgeCV_b fold 2 completed in 0.76 s\n",
      "fitted in 0.11 s\n"
     ]
    },
    {
     "name": "stderr",
     "output_type": "stream",
     "text": [
      "Pandas Apply: 100%|██████████| 19319/19319 [00:00<00:00, 154781.68it/s]\n"
     ]
    },
    {
     "name": "stdout",
     "output_type": "stream",
     "text": [
      "predicted in 0.02 s\n",
      "accuracy: 0.5572752212847456\n",
      "adjusted balanced accuracy: 0.32752781766980726\n",
      "balanced accuracy: 0.5516852117798715\n",
      "f1: 0.5653303880283299\n",
      "geometric mean: 0.5476590882084628\n",
      "roc auc: 0.6621828357445749\n",
      "RidgeCV_b fold 3 completed in 0.79 s\n",
      "fitted in 0.11 s\n"
     ]
    },
    {
     "name": "stderr",
     "output_type": "stream",
     "text": [
      "Pandas Apply: 100%|██████████| 25883/25883 [00:00<00:00, 177834.44it/s]\n"
     ]
    },
    {
     "name": "stdout",
     "output_type": "stream",
     "text": [
      "predicted in 0.00 s\n",
      "accuracy: 0.557933778928254\n",
      "adjusted balanced accuracy: 0.323977796009809\n",
      "balanced accuracy: 0.549318530673206\n",
      "f1: 0.5627518766312435\n",
      "geometric mean: 0.5388325785360176\n",
      "roc auc: 0.6580684936763695\n",
      "RidgeCV_b fold 4 completed in 0.85 s\n",
      "fitted in 0.11 s\n"
     ]
    },
    {
     "name": "stderr",
     "output_type": "stream",
     "text": [
      "Pandas Apply: 100%|██████████| 16532/16532 [00:00<00:00, 133219.02it/s]\n"
     ]
    },
    {
     "name": "stdout",
     "output_type": "stream",
     "text": [
      "predicted in 0.00 s\n",
      "accuracy: 0.5519598354706025\n",
      "adjusted balanced accuracy: 0.3182685089051773\n",
      "balanced accuracy: 0.5455123392701182\n",
      "f1: 0.5524751475222918\n",
      "geometric mean: 0.5353728677162596\n",
      "roc auc: 0.659507093970803\n",
      "RidgeCV_b fold 5 completed in 0.82 s\n",
      "stored RidgeCV_b in 4.51 s\n",
      "evaluating RidgeCV...\n",
      "fitted in 35.79 s\n"
     ]
    },
    {
     "name": "stderr",
     "output_type": "stream",
     "text": [
      "Pandas Apply: 100%|██████████| 13494/13494 [00:00<00:00, 177693.72it/s]\n"
     ]
    },
    {
     "name": "stdout",
     "output_type": "stream",
     "text": [
      "predicted in 0.13 s\n",
      "accuracy: 0.6386542166888988\n",
      "adjusted balanced accuracy: 0.2981235532827024\n",
      "balanced accuracy: 0.5320823688551349\n",
      "f1: 0.614932233456711\n",
      "geometric mean: 0.47411592431867466\n",
      "roc auc: 0.6462342439786164\n",
      "RidgeCV fold 1 completed in 37.47 s\n",
      "fitted in 36.79 s\n"
     ]
    },
    {
     "name": "stderr",
     "output_type": "stream",
     "text": [
      "Pandas Apply: 100%|██████████| 11524/11524 [00:00<00:00, 182633.91it/s]\n"
     ]
    },
    {
     "name": "stdout",
     "output_type": "stream",
     "text": [
      "predicted in 0.19 s\n",
      "accuracy: 0.655414786532454\n",
      "adjusted balanced accuracy: 0.33379159541329134\n",
      "balanced accuracy: 0.5558610636088609\n",
      "f1: 0.6369732083156951\n",
      "geometric mean: 0.5078898921783398\n",
      "roc auc: 0.6644038311099901\n",
      "RidgeCV fold 2 completed in 38.46 s\n",
      "fitted in 32.89 s\n"
     ]
    },
    {
     "name": "stderr",
     "output_type": "stream",
     "text": [
      "Pandas Apply: 100%|██████████| 19319/19319 [00:00<00:00, 176487.36it/s]\n"
     ]
    },
    {
     "name": "stdout",
     "output_type": "stream",
     "text": [
      "predicted in 0.17 s\n",
      "accuracy: 0.5924219680107666\n",
      "adjusted balanced accuracy: 0.2630471624464596\n",
      "balanced accuracy: 0.5086981082976397\n",
      "f1: 0.573858805330549\n",
      "geometric mean: 0.4566088763386978\n",
      "roc auc: 0.633172590779137\n",
      "RidgeCV fold 3 completed in 34.69 s\n",
      "fitted in 29.66 s\n"
     ]
    },
    {
     "name": "stderr",
     "output_type": "stream",
     "text": [
      "Pandas Apply: 100%|██████████| 25883/25883 [00:00<00:00, 160874.50it/s]\n"
     ]
    },
    {
     "name": "stdout",
     "output_type": "stream",
     "text": [
      "predicted in 0.18 s\n",
      "accuracy: 0.5969941660549395\n",
      "adjusted balanced accuracy: 0.2729060790333217\n",
      "balanced accuracy: 0.5152707193555478\n",
      "f1: 0.5777876122556729\n",
      "geometric mean: 0.4559341766263894\n",
      "roc auc: 0.6362936002133104\n",
      "RidgeCV fold 4 completed in 31.55 s\n",
      "fitted in 35.86 s\n"
     ]
    },
    {
     "name": "stderr",
     "output_type": "stream",
     "text": [
      "Pandas Apply: 100%|██████████| 16532/16532 [00:00<00:00, 134407.65it/s]\n"
     ]
    },
    {
     "name": "stdout",
     "output_type": "stream",
     "text": [
      "predicted in 0.21 s\n",
      "accuracy: 0.5730704089039439\n",
      "adjusted balanced accuracy: 0.26775693841428033\n",
      "balanced accuracy: 0.5118379589428536\n",
      "f1: 0.5540171569526807\n",
      "geometric mean: 0.45731773192060304\n",
      "roc auc: 0.6372107533578903\n",
      "RidgeCV fold 5 completed in 37.98 s\n",
      "stored RidgeCV in 180.75 s\n",
      "evaluating RidgeCV...\n",
      "fitted in 0.12 s\n"
     ]
    },
    {
     "name": "stderr",
     "output_type": "stream",
     "text": [
      "Pandas Apply: 100%|██████████| 13494/13494 [00:00<00:00, 143537.75it/s]\n"
     ]
    },
    {
     "name": "stdout",
     "output_type": "stream",
     "text": [
      "predicted in 0.00 s\n",
      "accuracy: 0.6386542166888988\n",
      "adjusted balanced accuracy: 0.2981235532827024\n",
      "balanced accuracy: 0.5320823688551349\n",
      "f1: 0.614932233456711\n",
      "geometric mean: 0.47411592431867466\n",
      "roc auc: 0.6462342439786164\n",
      "RidgeCV fold 1 completed in 0.93 s\n",
      "fitted in 0.12 s\n"
     ]
    },
    {
     "name": "stderr",
     "output_type": "stream",
     "text": [
      "Pandas Apply: 100%|██████████| 11524/11524 [00:00<00:00, 129508.49it/s]\n"
     ]
    },
    {
     "name": "stdout",
     "output_type": "stream",
     "text": [
      "predicted in 0.00 s\n",
      "accuracy: 0.6555015619576536\n",
      "adjusted balanced accuracy: 0.3339827269117622\n",
      "balanced accuracy: 0.5559884846078414\n",
      "f1: 0.6370676334829913\n",
      "geometric mean: 0.5080046436264783\n",
      "roc auc: 0.6645007402861065\n",
      "RidgeCV fold 2 completed in 0.96 s\n",
      "fitted in 0.09 s\n"
     ]
    },
    {
     "name": "stderr",
     "output_type": "stream",
     "text": [
      "Pandas Apply: 100%|██████████| 19319/19319 [00:00<00:00, 121505.39it/s]\n"
     ]
    },
    {
     "name": "stdout",
     "output_type": "stream",
     "text": [
      "predicted in 0.00 s\n",
      "accuracy: 0.5924219680107666\n",
      "adjusted balanced accuracy: 0.2630471624464596\n",
      "balanced accuracy: 0.5086981082976397\n",
      "f1: 0.573858805330549\n",
      "geometric mean: 0.4566088763386978\n",
      "roc auc: 0.633172590779137\n",
      "RidgeCV fold 3 completed in 1.01 s\n",
      "fitted in 0.09 s\n"
     ]
    },
    {
     "name": "stderr",
     "output_type": "stream",
     "text": [
      "Pandas Apply: 100%|██████████| 25883/25883 [00:00<00:00, 150841.42it/s]\n"
     ]
    },
    {
     "name": "stdout",
     "output_type": "stream",
     "text": [
      "predicted in 0.00 s\n",
      "accuracy: 0.597032801452691\n",
      "adjusted balanced accuracy: 0.27294166368921813\n",
      "balanced accuracy: 0.5152944424594788\n",
      "f1: 0.5778181924951932\n",
      "geometric mean: 0.4559485844057204\n",
      "roc auc: 0.6363139957768162\n",
      "RidgeCV fold 4 completed in 0.92 s\n",
      "fitted in 0.09 s\n"
     ]
    },
    {
     "name": "stderr",
     "output_type": "stream",
     "text": [
      "Pandas Apply: 100%|██████████| 16532/16532 [00:00<00:00, 141303.92it/s]\n"
     ]
    },
    {
     "name": "stdout",
     "output_type": "stream",
     "text": [
      "predicted in 0.00 s\n",
      "accuracy: 0.5730704089039439\n",
      "adjusted balanced accuracy: 0.26775693841428033\n",
      "balanced accuracy: 0.5118379589428536\n",
      "f1: 0.5540171569526807\n",
      "geometric mean: 0.45731773192060304\n",
      "roc auc: 0.6372107533578903\n",
      "RidgeCV fold 5 completed in 0.80 s\n",
      "stored RidgeCV in 5.33 s\n",
      "evaluating SGD...\n",
      "fitted in 16.35 s\n"
     ]
    },
    {
     "name": "stderr",
     "output_type": "stream",
     "text": [
      "Pandas Apply: 100%|██████████| 13494/13494 [00:00<00:00, 205422.25it/s]\n"
     ]
    },
    {
     "name": "stdout",
     "output_type": "stream",
     "text": [
      "predicted in 0.14 s\n",
      "accuracy: 0.6309470875944865\n",
      "adjusted balanced accuracy: 0.2997196870054046\n",
      "balanced accuracy: 0.533146458003603\n",
      "f1: 0.6094791177002318\n",
      "geometric mean: 0.4756790575444096\n",
      "roc auc: 0.646814301086011\n",
      "SGD fold 1 completed in 18.03 s\n",
      "fitted in 18.66 s\n"
     ]
    },
    {
     "name": "stderr",
     "output_type": "stream",
     "text": [
      "Pandas Apply: 100%|██████████| 11524/11524 [00:00<00:00, 157873.94it/s]\n"
     ]
    },
    {
     "name": "stdout",
     "output_type": "stream",
     "text": [
      "predicted in 0.11 s\n",
      "accuracy: 0.6548941339812565\n",
      "adjusted balanced accuracy: 0.3273362581315678\n",
      "balanced accuracy: 0.5515575054210452\n",
      "f1: 0.6328791695738563\n",
      "geometric mean: 0.49184121319372737\n",
      "roc auc: 0.661348383570183\n",
      "SGD fold 2 completed in 20.33 s\n",
      "fitted in 14.45 s\n"
     ]
    },
    {
     "name": "stderr",
     "output_type": "stream",
     "text": [
      "Pandas Apply: 100%|██████████| 19319/19319 [00:00<00:00, 132930.03it/s]\n"
     ]
    },
    {
     "name": "stdout",
     "output_type": "stream",
     "text": [
      "predicted in 0.23 s\n",
      "accuracy: 0.5825870904291113\n",
      "adjusted balanced accuracy: 0.26149642331024636\n",
      "balanced accuracy: 0.5076642822068309\n",
      "f1: 0.5702615550107603\n",
      "geometric mean: 0.47352407288004206\n",
      "roc auc: 0.6316971126552559\n",
      "SGD fold 3 completed in 16.30 s\n",
      "fitted in 12.02 s\n"
     ]
    },
    {
     "name": "stderr",
     "output_type": "stream",
     "text": [
      "Pandas Apply: 100%|██████████| 25883/25883 [00:00<00:00, 189193.91it/s]\n"
     ]
    },
    {
     "name": "stdout",
     "output_type": "stream",
     "text": [
      "predicted in 0.24 s\n",
      "accuracy: 0.5945601359966001\n",
      "adjusted balanced accuracy: 0.27068498102010663\n",
      "balanced accuracy: 0.5137899873467378\n",
      "f1: 0.5761506341427647\n",
      "geometric mean: 0.45573816665080075\n",
      "roc auc: 0.6353462889284087\n",
      "SGD fold 4 completed in 13.88 s\n",
      "fitted in 12.49 s\n"
     ]
    },
    {
     "name": "stderr",
     "output_type": "stream",
     "text": [
      "Pandas Apply: 100%|██████████| 16532/16532 [00:00<00:00, 204228.99it/s]\n"
     ]
    },
    {
     "name": "stdout",
     "output_type": "stream",
     "text": [
      "predicted in 0.15 s\n",
      "accuracy: 0.5755504476167432\n",
      "adjusted balanced accuracy: 0.263265491154523\n",
      "balanced accuracy: 0.508843660769682\n",
      "f1: 0.5536148363365266\n",
      "geometric mean: 0.4490136418686745\n",
      "roc auc: 0.6353141881670078\n",
      "SGD fold 5 completed in 14.25 s\n",
      "stored SGD in 83.36 s\n",
      "evaluating SGD...\n",
      "fitted in 0.12 s\n"
     ]
    },
    {
     "name": "stderr",
     "output_type": "stream",
     "text": [
      "Pandas Apply: 100%|██████████| 13494/13494 [00:00<00:00, 138893.71it/s]\n"
     ]
    },
    {
     "name": "stdout",
     "output_type": "stream",
     "text": [
      "predicted in 0.00 s\n",
      "accuracy: 0.6330961908996591\n",
      "adjusted balanced accuracy: 0.3079730221232867\n",
      "balanced accuracy: 0.5386486814155245\n",
      "f1: 0.6170079923820148\n",
      "geometric mean: 0.49775309535176854\n",
      "roc auc: 0.6507478640142549\n",
      "SGD fold 1 completed in 0.75 s\n",
      "fitted in 0.14 s\n"
     ]
    },
    {
     "name": "stderr",
     "output_type": "stream",
     "text": [
      "Pandas Apply: 100%|██████████| 11524/11524 [00:00<00:00, 164660.13it/s]\n"
     ]
    },
    {
     "name": "stdout",
     "output_type": "stream",
     "text": [
      "predicted in 0.00 s\n",
      "accuracy: 0.6559354390836515\n",
      "adjusted balanced accuracy: 0.3229258646514704\n",
      "balanced accuracy: 0.5486172431009803\n",
      "f1: 0.6318508380223864\n",
      "geometric mean: 0.4835690082024893\n",
      "roc auc: 0.6594791283221823\n",
      "SGD fold 2 completed in 0.77 s\n",
      "fitted in 0.13 s\n"
     ]
    },
    {
     "name": "stderr",
     "output_type": "stream",
     "text": [
      "Pandas Apply: 100%|██████████| 19319/19319 [00:00<00:00, 168312.32it/s]\n"
     ]
    },
    {
     "name": "stdout",
     "output_type": "stream",
     "text": [
      "predicted in 0.00 s\n",
      "accuracy: 0.5885915420052797\n",
      "adjusted balanced accuracy: 0.26049413354386014\n",
      "balanced accuracy: 0.5069960890292401\n",
      "f1: 0.5723799616720842\n",
      "geometric mean: 0.46126076271867916\n",
      "roc auc: 0.6319343875511736\n",
      "SGD fold 3 completed in 0.80 s\n",
      "fitted in 0.11 s\n"
     ]
    },
    {
     "name": "stderr",
     "output_type": "stream",
     "text": [
      "Pandas Apply: 100%|██████████| 25883/25883 [00:00<00:00, 163368.05it/s]\n"
     ]
    },
    {
     "name": "stdout",
     "output_type": "stream",
     "text": [
      "predicted in 0.00 s\n",
      "accuracy: 0.5944442298033459\n",
      "adjusted balanced accuracy: 0.28270529841579384\n",
      "balanced accuracy: 0.5218035322771959\n",
      "f1: 0.5784074494834074\n",
      "geometric mean: 0.4669359815375431\n",
      "roc auc: 0.6410055810929981\n",
      "SGD fold 4 completed in 0.83 s\n",
      "fitted in 0.13 s\n"
     ]
    },
    {
     "name": "stderr",
     "output_type": "stream",
     "text": [
      "Pandas Apply: 100%|██████████| 16532/16532 [00:00<00:00, 128331.55it/s]\n"
     ]
    },
    {
     "name": "stdout",
     "output_type": "stream",
     "text": [
      "predicted in 0.00 s\n",
      "accuracy: 0.5687757077183644\n",
      "adjusted balanced accuracy: 0.2737231625790738\n",
      "balanced accuracy: 0.5158154417193825\n",
      "f1: 0.5561339162144021\n",
      "geometric mean: 0.4793171000699069\n",
      "roc auc: 0.6394748507787331\n",
      "SGD fold 5 completed in 0.80 s\n",
      "stored SGD in 4.49 s\n",
      "evaluating SGD_b...\n",
      "fitted in 14.15 s\n"
     ]
    },
    {
     "name": "stderr",
     "output_type": "stream",
     "text": [
      "Pandas Apply: 100%|██████████| 13494/13494 [00:00<00:00, 173814.31it/s]\n"
     ]
    },
    {
     "name": "stdout",
     "output_type": "stream",
     "text": [
      "predicted in 0.14 s\n",
      "accuracy: 0.609530161553283\n",
      "adjusted balanced accuracy: 0.35883456431854116\n",
      "balanced accuracy: 0.5725563762123608\n",
      "f1: 0.6108173088885348\n",
      "geometric mean: 0.5595306620242758\n",
      "roc auc: 0.6732459368236853\n",
      "SGD_b fold 1 completed in 15.84 s\n",
      "fitted in 16.00 s\n"
     ]
    },
    {
     "name": "stderr",
     "output_type": "stream",
     "text": [
      "Pandas Apply: 100%|██████████| 11524/11524 [00:00<00:00, 135781.31it/s]\n"
     ]
    },
    {
     "name": "stdout",
     "output_type": "stream",
     "text": [
      "predicted in 0.11 s\n",
      "accuracy: 0.6322457480041652\n",
      "adjusted balanced accuracy: 0.38954834420640055\n",
      "balanced accuracy: 0.5930322294709337\n",
      "f1: 0.6348903662290629\n",
      "geometric mean: 0.5837769338589932\n",
      "roc auc: 0.6892739011248893\n",
      "SGD_b fold 2 completed in 17.61 s\n",
      "fitted in 12.86 s\n"
     ]
    },
    {
     "name": "stderr",
     "output_type": "stream",
     "text": [
      "Pandas Apply: 100%|██████████| 19319/19319 [00:00<00:00, 164875.26it/s]\n"
     ]
    },
    {
     "name": "stdout",
     "output_type": "stream",
     "text": [
      "predicted in 0.18 s\n",
      "accuracy: 0.5706299497903619\n",
      "adjusted balanced accuracy: 0.31256415109068286\n",
      "balanced accuracy: 0.5417094340604552\n",
      "f1: 0.5757822941844554\n",
      "geometric mean: 0.5336010264918418\n",
      "roc auc: 0.6565902412495918\n",
      "SGD_b fold 3 completed in 14.63 s\n",
      "fitted in 12.80 s\n"
     ]
    },
    {
     "name": "stderr",
     "output_type": "stream",
     "text": [
      "Pandas Apply: 100%|██████████| 25883/25883 [00:00<00:00, 153853.48it/s]\n"
     ]
    },
    {
     "name": "stdout",
     "output_type": "stream",
     "text": [
      "predicted in 0.20 s\n",
      "accuracy: 0.5832013290576826\n",
      "adjusted balanced accuracy: 0.28532324457362185\n",
      "balanced accuracy: 0.5235488297157479\n",
      "f1: 0.576727376621342\n",
      "geometric mean: 0.49250887109013\n",
      "roc auc: 0.6420561924454331\n",
      "SGD_b fold 4 completed in 14.66 s\n",
      "fitted in 13.16 s\n"
     ]
    },
    {
     "name": "stderr",
     "output_type": "stream",
     "text": [
      "Pandas Apply: 100%|██████████| 16532/16532 [00:00<00:00, 137372.41it/s]\n"
     ]
    },
    {
     "name": "stdout",
     "output_type": "stream",
     "text": [
      "predicted in 0.16 s\n",
      "accuracy: 0.5744011613839826\n",
      "adjusted balanced accuracy: 0.312614931507116\n",
      "balanced accuracy: 0.5417432876714107\n",
      "f1: 0.5696700007333562\n",
      "geometric mean: 0.5194775943000064\n",
      "roc auc: 0.6588134727444357\n",
      "SGD_b fold 5 completed in 14.96 s\n",
      "stored SGD_b in 78.27 s\n",
      "evaluating SGD_b...\n",
      "fitted in 0.15 s\n"
     ]
    },
    {
     "name": "stderr",
     "output_type": "stream",
     "text": [
      "Pandas Apply: 100%|██████████| 13494/13494 [00:00<00:00, 162796.34it/s]\n"
     ]
    },
    {
     "name": "stdout",
     "output_type": "stream",
     "text": [
      "predicted in 0.02 s\n",
      "accuracy: 0.6112346227953165\n",
      "adjusted balanced accuracy: 0.3446111859741164\n",
      "balanced accuracy: 0.5630741239827443\n",
      "f1: 0.6109760903004183\n",
      "geometric mean: 0.5484813120665997\n",
      "roc auc: 0.6668429849855075\n",
      "SGD_b fold 1 completed in 0.78 s\n",
      "fitted in 0.14 s\n"
     ]
    },
    {
     "name": "stderr",
     "output_type": "stream",
     "text": [
      "Pandas Apply: 100%|██████████| 11524/11524 [00:00<00:00, 141681.77it/s]\n"
     ]
    },
    {
     "name": "stdout",
     "output_type": "stream",
     "text": [
      "predicted in 0.00 s\n",
      "accuracy: 0.6125477264838598\n",
      "adjusted balanced accuracy: 0.3976201285492884\n",
      "balanced accuracy: 0.5984134190328589\n",
      "f1: 0.6217579571012003\n",
      "geometric mean: 0.597468305834059\n",
      "roc auc: 0.6917183570888281\n",
      "SGD_b fold 2 completed in 0.76 s\n",
      "fitted in 0.14 s\n"
     ]
    },
    {
     "name": "stderr",
     "output_type": "stream",
     "text": [
      "Pandas Apply: 100%|██████████| 19319/19319 [00:00<00:00, 151244.62it/s]\n"
     ]
    },
    {
     "name": "stdout",
     "output_type": "stream",
     "text": [
      "predicted in 0.01 s\n",
      "accuracy: 0.5757026761219525\n",
      "adjusted balanced accuracy: 0.30699122339574386\n",
      "balanced accuracy: 0.5379941489304959\n",
      "f1: 0.5781765388462715\n",
      "geometric mean: 0.5271136260952831\n",
      "roc auc: 0.6536744296980835\n",
      "SGD_b fold 3 completed in 0.83 s\n",
      "fitted in 0.14 s\n"
     ]
    },
    {
     "name": "stderr",
     "output_type": "stream",
     "text": [
      "Pandas Apply: 100%|██████████| 25883/25883 [00:00<00:00, 178106.07it/s]\n"
     ]
    },
    {
     "name": "stdout",
     "output_type": "stream",
     "text": [
      "predicted in 0.00 s\n",
      "accuracy: 0.5781400919522467\n",
      "adjusted balanced accuracy: 0.30415503444353326\n",
      "balanced accuracy: 0.5361033562956888\n",
      "f1: 0.575157593460471\n",
      "geometric mean: 0.510228595738424\n",
      "roc auc: 0.6501567745424799\n",
      "SGD_b fold 4 completed in 0.85 s\n",
      "fitted in 0.12 s\n"
     ]
    },
    {
     "name": "stderr",
     "output_type": "stream",
     "text": [
      "Pandas Apply: 100%|██████████| 16532/16532 [00:00<00:00, 143961.85it/s]\n"
     ]
    },
    {
     "name": "stdout",
     "output_type": "stream",
     "text": [
      "predicted in 0.00 s\n",
      "accuracy: 0.5604887490926688\n",
      "adjusted balanced accuracy: 0.30458501147309036\n",
      "balanced accuracy: 0.5363900076487269\n",
      "f1: 0.5610056682409312\n",
      "geometric mean: 0.5257063254509761\n",
      "roc auc: 0.6539713981391364\n",
      "SGD_b fold 5 completed in 0.80 s\n",
      "stored SGD_b in 4.56 s\n",
      "evaluating SVC...\n",
      "fitted in 333.08 s\n"
     ]
    },
    {
     "name": "stderr",
     "output_type": "stream",
     "text": [
      "Pandas Apply: 100%|██████████| 13494/13494 [00:00<00:00, 184507.75it/s]\n"
     ]
    },
    {
     "name": "stdout",
     "output_type": "stream",
     "text": [
      "predicted in 38.08 s\n",
      "accuracy: 0.6581443604564992\n",
      "adjusted balanced accuracy: 0.3273707751428595\n",
      "balanced accuracy: 0.5515805167619063\n",
      "f1: 0.6317383475805519\n",
      "geometric mean: 0.4871271775308452\n",
      "roc auc: 0.6610927300493017\n",
      "SVC fold 1 completed in 372.76 s\n",
      "fitted in 352.15 s\n"
     ]
    },
    {
     "name": "stderr",
     "output_type": "stream",
     "text": [
      "Pandas Apply: 100%|██████████| 11524/11524 [00:00<00:00, 368756.75it/s]\n"
     ]
    },
    {
     "name": "stdout",
     "output_type": "stream",
     "text": [
      "predicted in 32.59 s\n",
      "accuracy: 0.667910447761194\n",
      "adjusted balanced accuracy: 0.3695016125144886\n",
      "balanced accuracy: 0.5796677416763257\n",
      "f1: 0.6538161543452798\n",
      "geometric mean: 0.5421558852929872\n",
      "roc auc: 0.6815205267274325\n",
      "SVC fold 2 completed in 386.28 s\n",
      "fitted in 270.95 s\n"
     ]
    },
    {
     "name": "stderr",
     "output_type": "stream",
     "text": [
      "Pandas Apply: 100%|██████████| 19319/19319 [00:00<00:00, 215789.91it/s]\n"
     ]
    },
    {
     "name": "stdout",
     "output_type": "stream",
     "text": [
      "predicted in 47.84 s\n",
      "accuracy: 0.6136445985817072\n",
      "adjusted balanced accuracy: 0.2987161407759383\n",
      "balanced accuracy: 0.5324774271839589\n",
      "f1: 0.5946324730745269\n",
      "geometric mean: 0.47648865877778995\n",
      "roc auc: 0.6514012746117328\n",
      "SVC fold 3 completed in 320.57 s\n",
      "fitted in 226.79 s\n"
     ]
    },
    {
     "name": "stderr",
     "output_type": "stream",
     "text": [
      "Pandas Apply: 100%|██████████| 25883/25883 [00:00<00:00, 216717.95it/s]\n"
     ]
    },
    {
     "name": "stdout",
     "output_type": "stream",
     "text": [
      "predicted in 59.04 s\n",
      "accuracy: 0.6118687941892362\n",
      "adjusted balanced accuracy: 0.29081171461428595\n",
      "balanced accuracy: 0.5272078097428573\n",
      "f1: 0.5892890599650329\n",
      "geometric mean: 0.4591027301274686\n",
      "roc auc: 0.6451196226411366\n",
      "SVC fold 4 completed in 287.65 s\n",
      "fitted in 287.18 s\n"
     ]
    },
    {
     "name": "stderr",
     "output_type": "stream",
     "text": [
      "Pandas Apply: 100%|██████████| 16532/16532 [00:00<00:00, 228013.37it/s]\n"
     ]
    },
    {
     "name": "stdout",
     "output_type": "stream",
     "text": [
      "predicted in 39.83 s\n",
      "accuracy: 0.6047665134285023\n",
      "adjusted balanced accuracy: 0.3074913878375946\n",
      "balanced accuracy: 0.5383275918917297\n",
      "f1: 0.5782640055853582\n",
      "geometric mean: 0.4615581846914842\n",
      "roc auc: 0.6581003405476871\n",
      "SVC fold 5 completed in 328.88 s\n",
      "stored SVC in 1696.70 s\n",
      "evaluating SVC...\n",
      "fitted in 66.64 s\n"
     ]
    },
    {
     "name": "stderr",
     "output_type": "stream",
     "text": [
      "Pandas Apply: 100%|██████████| 13494/13494 [00:00<00:00, 227905.04it/s]\n"
     ]
    },
    {
     "name": "stdout",
     "output_type": "stream",
     "text": [
      "predicted in 0.75 s\n",
      "accuracy: 0.6405809989625019\n",
      "adjusted balanced accuracy: 0.3120140030237847\n",
      "balanced accuracy: 0.5413426686825231\n",
      "f1: 0.6194407981660348\n",
      "geometric mean: 0.48929762678660593\n",
      "roc auc: 0.6522296691346425\n",
      "SVC fold 1 completed in 68.05 s\n",
      "fitted in 75.12 s\n"
     ]
    },
    {
     "name": "stderr",
     "output_type": "stream",
     "text": [
      "Pandas Apply: 100%|██████████| 11524/11524 [00:00<00:00, 178254.59it/s]\n"
     ]
    },
    {
     "name": "stdout",
     "output_type": "stream",
     "text": [
      "predicted in 0.62 s\n",
      "accuracy: 0.6511627906976745\n",
      "adjusted balanced accuracy: 0.34759950154049374\n",
      "balanced accuracy: 0.5650663343603292\n",
      "f1: 0.6375713056708769\n",
      "geometric mean: 0.5276121493682349\n",
      "roc auc: 0.6692937778931974\n",
      "SVC fold 2 completed in 76.33 s\n",
      "fitted in 42.91 s\n"
     ]
    },
    {
     "name": "stderr",
     "output_type": "stream",
     "text": [
      "Pandas Apply: 100%|██████████| 19319/19319 [00:00<00:00, 193003.82it/s]\n"
     ]
    },
    {
     "name": "stdout",
     "output_type": "stream",
     "text": [
      "predicted in 0.87 s\n",
      "accuracy: 0.5916972928205394\n",
      "adjusted balanced accuracy: 0.26925431782661896\n",
      "balanced accuracy: 0.5128362118844126\n",
      "f1: 0.5752314185043804\n",
      "geometric mean: 0.46557221813560984\n",
      "roc auc: 0.6353641752074682\n",
      "SVC fold 3 completed in 44.42 s\n",
      "fitted in 32.49 s\n"
     ]
    },
    {
     "name": "stderr",
     "output_type": "stream",
     "text": [
      "Pandas Apply: 100%|██████████| 25883/25883 [00:00<00:00, 202522.87it/s]\n"
     ]
    },
    {
     "name": "stdout",
     "output_type": "stream",
     "text": [
      "predicted in 1.07 s\n",
      "accuracy: 0.5953328439516284\n",
      "adjusted balanced accuracy: 0.2757336817782671\n",
      "balanced accuracy: 0.5171557878521781\n",
      "f1: 0.5763850895692864\n",
      "geometric mean: 0.45711138312386373\n",
      "roc auc: 0.6369651908893315\n",
      "SVC fold 4 completed in 34.24 s\n",
      "fitted in 40.75 s\n"
     ]
    },
    {
     "name": "stderr",
     "output_type": "stream",
     "text": [
      "Pandas Apply: 100%|██████████| 16532/16532 [00:00<00:00, 137691.84it/s]\n"
     ]
    },
    {
     "name": "stdout",
     "output_type": "stream",
     "text": [
      "predicted in 0.77 s\n",
      "accuracy: 0.5733123639003146\n",
      "adjusted balanced accuracy: 0.26748436320263513\n",
      "balanced accuracy: 0.5116562421350901\n",
      "f1: 0.5531182597179699\n",
      "geometric mean: 0.45433211838194915\n",
      "roc auc: 0.6365671245588624\n",
      "SVC fold 5 completed in 42.16 s\n",
      "stored SVC in 265.77 s\n",
      "evaluating SVC_b...\n",
      "fitted in 324.62 s\n"
     ]
    },
    {
     "name": "stderr",
     "output_type": "stream",
     "text": [
      "Pandas Apply: 100%|██████████| 13494/13494 [00:00<00:00, 238993.40it/s]\n"
     ]
    },
    {
     "name": "stdout",
     "output_type": "stream",
     "text": [
      "predicted in 37.41 s\n",
      "accuracy: 0.6581443604564992\n",
      "adjusted balanced accuracy: 0.3273707751428595\n",
      "balanced accuracy: 0.5515805167619063\n",
      "f1: 0.6317383475805519\n",
      "geometric mean: 0.4871271775308452\n",
      "roc auc: 0.6610927300493017\n",
      "SVC_b fold 1 completed in 364.13 s\n",
      "fitted in 349.31 s\n"
     ]
    },
    {
     "name": "stderr",
     "output_type": "stream",
     "text": [
      "Pandas Apply: 100%|██████████| 11524/11524 [00:00<00:00, 203828.00it/s]\n"
     ]
    },
    {
     "name": "stdout",
     "output_type": "stream",
     "text": [
      "predicted in 32.53 s\n",
      "accuracy: 0.667910447761194\n",
      "adjusted balanced accuracy: 0.3695016125144886\n",
      "balanced accuracy: 0.5796677416763257\n",
      "f1: 0.6538161543452798\n",
      "geometric mean: 0.5421558852929872\n",
      "roc auc: 0.6815205267274325\n",
      "SVC_b fold 2 completed in 383.87 s\n",
      "fitted in 263.30 s\n"
     ]
    },
    {
     "name": "stderr",
     "output_type": "stream",
     "text": [
      "Pandas Apply: 100%|██████████| 19319/19319 [00:00<00:00, 217497.44it/s]\n"
     ]
    },
    {
     "name": "stdout",
     "output_type": "stream",
     "text": [
      "predicted in 47.52 s\n",
      "accuracy: 0.6136445985817072\n",
      "adjusted balanced accuracy: 0.2987161407759383\n",
      "balanced accuracy: 0.5324774271839589\n",
      "f1: 0.5946324730745269\n",
      "geometric mean: 0.47648865877778995\n",
      "roc auc: 0.6514012746117328\n",
      "SVC_b fold 3 completed in 312.96 s\n",
      "fitted in 222.86 s\n"
     ]
    },
    {
     "name": "stderr",
     "output_type": "stream",
     "text": [
      "Pandas Apply: 100%|██████████| 25883/25883 [00:00<00:00, 206155.68it/s]\n"
     ]
    },
    {
     "name": "stdout",
     "output_type": "stream",
     "text": [
      "predicted in 57.61 s\n",
      "accuracy: 0.6118687941892362\n",
      "adjusted balanced accuracy: 0.29081171461428595\n",
      "balanced accuracy: 0.5272078097428573\n",
      "f1: 0.5892890599650329\n",
      "geometric mean: 0.4591027301274686\n",
      "roc auc: 0.6451196226411366\n",
      "SVC_b fold 4 completed in 282.68 s\n",
      "fitted in 287.61 s\n"
     ]
    },
    {
     "name": "stderr",
     "output_type": "stream",
     "text": [
      "Pandas Apply: 100%|██████████| 16532/16532 [00:00<00:00, 219555.49it/s]\n"
     ]
    },
    {
     "name": "stdout",
     "output_type": "stream",
     "text": [
      "predicted in 40.15 s\n",
      "accuracy: 0.6047665134285023\n",
      "adjusted balanced accuracy: 0.3074913878375946\n",
      "balanced accuracy: 0.5383275918917297\n",
      "f1: 0.5782640055853582\n",
      "geometric mean: 0.4615581846914842\n",
      "roc auc: 0.6581003405476871\n",
      "SVC_b fold 5 completed in 329.90 s\n",
      "stored SVC_b in 1674.13 s\n",
      "evaluating SVC_b...\n",
      "fitted in 66.93 s\n"
     ]
    },
    {
     "name": "stderr",
     "output_type": "stream",
     "text": [
      "Pandas Apply: 100%|██████████| 13494/13494 [00:00<00:00, 229584.82it/s]\n"
     ]
    },
    {
     "name": "stdout",
     "output_type": "stream",
     "text": [
      "predicted in 0.72 s\n",
      "accuracy: 0.6405809989625019\n",
      "adjusted balanced accuracy: 0.3120140030237847\n",
      "balanced accuracy: 0.5413426686825231\n",
      "f1: 0.6194407981660348\n",
      "geometric mean: 0.48929762678660593\n",
      "roc auc: 0.6522296691346425\n",
      "SVC_b fold 1 completed in 68.27 s\n",
      "fitted in 74.24 s\n"
     ]
    },
    {
     "name": "stderr",
     "output_type": "stream",
     "text": [
      "Pandas Apply: 100%|██████████| 11524/11524 [00:00<00:00, 178394.07it/s]\n"
     ]
    },
    {
     "name": "stdout",
     "output_type": "stream",
     "text": [
      "predicted in 0.65 s\n",
      "accuracy: 0.6511627906976745\n",
      "adjusted balanced accuracy: 0.34759950154049374\n",
      "balanced accuracy: 0.5650663343603292\n",
      "f1: 0.6375713056708769\n",
      "geometric mean: 0.5276121493682349\n",
      "roc auc: 0.6692937778931974\n",
      "SVC_b fold 2 completed in 75.48 s\n",
      "fitted in 42.86 s\n"
     ]
    },
    {
     "name": "stderr",
     "output_type": "stream",
     "text": [
      "Pandas Apply: 100%|██████████| 19319/19319 [00:00<00:00, 246012.15it/s]\n"
     ]
    },
    {
     "name": "stdout",
     "output_type": "stream",
     "text": [
      "predicted in 0.99 s\n",
      "accuracy: 0.5916972928205394\n",
      "adjusted balanced accuracy: 0.26925431782661896\n",
      "balanced accuracy: 0.5128362118844126\n",
      "f1: 0.5752314185043804\n",
      "geometric mean: 0.46557221813560984\n",
      "roc auc: 0.6353641752074682\n",
      "SVC_b fold 3 completed in 44.46 s\n",
      "fitted in 37.57 s\n"
     ]
    },
    {
     "name": "stderr",
     "output_type": "stream",
     "text": [
      "Pandas Apply: 100%|██████████| 25883/25883 [00:00<00:00, 183656.77it/s]\n"
     ]
    },
    {
     "name": "stdout",
     "output_type": "stream",
     "text": [
      "predicted in 1.22 s\n",
      "accuracy: 0.5953328439516284\n",
      "adjusted balanced accuracy: 0.2757336817782671\n",
      "balanced accuracy: 0.5171557878521781\n",
      "f1: 0.5763850895692864\n",
      "geometric mean: 0.45711138312386373\n",
      "roc auc: 0.6369651908893315\n",
      "SVC_b fold 4 completed in 39.53 s\n",
      "fitted in 42.91 s\n"
     ]
    },
    {
     "name": "stderr",
     "output_type": "stream",
     "text": [
      "Pandas Apply: 100%|██████████| 16532/16532 [00:00<00:00, 264537.23it/s]\n"
     ]
    },
    {
     "name": "stdout",
     "output_type": "stream",
     "text": [
      "predicted in 0.74 s\n",
      "accuracy: 0.5733123639003146\n",
      "adjusted balanced accuracy: 0.26748436320263513\n",
      "balanced accuracy: 0.5116562421350901\n",
      "f1: 0.5531182597179699\n",
      "geometric mean: 0.45433211838194915\n",
      "roc auc: 0.6365671245588624\n",
      "SVC_b fold 5 completed in 44.24 s\n",
      "stored SVC_b in 272.54 s\n",
      "time: 3h 2s\n"
     ]
    }
   ],
   "source": [
    "for model in tqdm(MODELS):\n",
    "    for preprocessing in {\"LOF-LDA\", \"LOF+LDA\"}:\n",
    "        print(f\"evaluating {model}...\")\n",
    "        eval_begin = time()\n",
    "        store_result(\n",
    "            where=results_,\n",
    "            model_name=model,\n",
    "            case=\"ternary\",\n",
    "            preprocessing=preprocessing,\n",
    "            avg_scores=evaluate_model(model_base=model, preprocessing=preprocessing),\n",
    "        )\n",
    "        print(f\"stored {model} in {time() - eval_begin:.2f} s\")\n",
    "        del eval_begin\n",
    "        _ = gc_collect()"
   ]
  },
  {
   "cell_type": "markdown",
   "metadata": {},
   "source": [
    "Let's peek at the results."
   ]
  },
  {
   "cell_type": "code",
   "execution_count": 10,
   "metadata": {},
   "outputs": [
    {
     "data": {
      "text/html": [
       "<div>\n",
       "<style scoped>\n",
       "    .dataframe tbody tr th:only-of-type {\n",
       "        vertical-align: middle;\n",
       "    }\n",
       "\n",
       "    .dataframe tbody tr th {\n",
       "        vertical-align: top;\n",
       "    }\n",
       "\n",
       "    .dataframe thead th {\n",
       "        text-align: right;\n",
       "    }\n",
       "</style>\n",
       "<table border=\"1\" class=\"dataframe\">\n",
       "  <thead>\n",
       "    <tr style=\"text-align: right;\">\n",
       "      <th></th>\n",
       "      <th>model_name</th>\n",
       "      <th>case</th>\n",
       "      <th>preprocessing</th>\n",
       "      <th>accuracy</th>\n",
       "      <th>adjusted_balanced_accuracy</th>\n",
       "      <th>balanced_accuracy</th>\n",
       "      <th>f1</th>\n",
       "      <th>geometric_mean</th>\n",
       "      <th>roc_auc</th>\n",
       "      <th>fit_time</th>\n",
       "      <th>predict_time</th>\n",
       "    </tr>\n",
       "  </thead>\n",
       "  <tbody>\n",
       "    <tr>\n",
       "      <th>0</th>\n",
       "      <td>SVC_b</td>\n",
       "      <td>ternary</td>\n",
       "      <td>LOF+LDA</td>\n",
       "      <td>0.631267</td>\n",
       "      <td>0.318778</td>\n",
       "      <td>0.545852</td>\n",
       "      <td>0.609548</td>\n",
       "      <td>0.485287</td>\n",
       "      <td>0.659447</td>\n",
       "      <td>289.539724</td>\n",
       "      <td>43.044478</td>\n",
       "    </tr>\n",
       "    <tr>\n",
       "      <th>1</th>\n",
       "      <td>LogRegCV_b</td>\n",
       "      <td>ternary</td>\n",
       "      <td>LOF-LDA</td>\n",
       "      <td>0.573081</td>\n",
       "      <td>0.350676</td>\n",
       "      <td>0.567117</td>\n",
       "      <td>0.579488</td>\n",
       "      <td>0.562076</td>\n",
       "      <td>0.749887</td>\n",
       "      <td>2.218290</td>\n",
       "      <td>0.000400</td>\n",
       "    </tr>\n",
       "    <tr>\n",
       "      <th>2</th>\n",
       "      <td>RidgeCV_b</td>\n",
       "      <td>ternary</td>\n",
       "      <td>LOF-LDA</td>\n",
       "      <td>0.573175</td>\n",
       "      <td>0.352276</td>\n",
       "      <td>0.568184</td>\n",
       "      <td>0.579031</td>\n",
       "      <td>0.561806</td>\n",
       "      <td>0.671809</td>\n",
       "      <td>0.106031</td>\n",
       "      <td>0.003125</td>\n",
       "    </tr>\n",
       "    <tr>\n",
       "      <th>3</th>\n",
       "      <td>LogRegCV_b</td>\n",
       "      <td>ternary</td>\n",
       "      <td>LOF+LDA</td>\n",
       "      <td>0.574107</td>\n",
       "      <td>0.352940</td>\n",
       "      <td>0.568626</td>\n",
       "      <td>0.580348</td>\n",
       "      <td>0.563643</td>\n",
       "      <td>0.752494</td>\n",
       "      <td>441.071035</td>\n",
       "      <td>0.171187</td>\n",
       "    </tr>\n",
       "    <tr>\n",
       "      <th>4</th>\n",
       "      <td>SGD_b</td>\n",
       "      <td>ternary</td>\n",
       "      <td>LOF-LDA</td>\n",
       "      <td>0.587623</td>\n",
       "      <td>0.331593</td>\n",
       "      <td>0.554395</td>\n",
       "      <td>0.589415</td>\n",
       "      <td>0.541800</td>\n",
       "      <td>0.663273</td>\n",
       "      <td>0.137977</td>\n",
       "      <td>0.004435</td>\n",
       "    </tr>\n",
       "    <tr>\n",
       "      <th>5</th>\n",
       "      <td>SGD_b</td>\n",
       "      <td>ternary</td>\n",
       "      <td>LOF+LDA</td>\n",
       "      <td>0.594002</td>\n",
       "      <td>0.331777</td>\n",
       "      <td>0.554518</td>\n",
       "      <td>0.593577</td>\n",
       "      <td>0.537779</td>\n",
       "      <td>0.663996</td>\n",
       "      <td>13.792928</td>\n",
       "      <td>0.157616</td>\n",
       "    </tr>\n",
       "    <tr>\n",
       "      <th>6</th>\n",
       "      <td>GaussianNB</td>\n",
       "      <td>ternary</td>\n",
       "      <td>LOF-LDA</td>\n",
       "      <td>0.607629</td>\n",
       "      <td>0.292399</td>\n",
       "      <td>0.528266</td>\n",
       "      <td>0.592481</td>\n",
       "      <td>0.486366</td>\n",
       "      <td>0.747436</td>\n",
       "      <td>0.014400</td>\n",
       "      <td>0.003733</td>\n",
       "    </tr>\n",
       "    <tr>\n",
       "      <th>7</th>\n",
       "      <td>SGD</td>\n",
       "      <td>ternary</td>\n",
       "      <td>LOF+LDA</td>\n",
       "      <td>0.607708</td>\n",
       "      <td>0.284501</td>\n",
       "      <td>0.523000</td>\n",
       "      <td>0.588477</td>\n",
       "      <td>0.469159</td>\n",
       "      <td>0.642104</td>\n",
       "      <td>14.794149</td>\n",
       "      <td>0.174581</td>\n",
       "    </tr>\n",
       "    <tr>\n",
       "      <th>8</th>\n",
       "      <td>SGD</td>\n",
       "      <td>ternary</td>\n",
       "      <td>LOF-LDA</td>\n",
       "      <td>0.608169</td>\n",
       "      <td>0.289564</td>\n",
       "      <td>0.526376</td>\n",
       "      <td>0.591156</td>\n",
       "      <td>0.477767</td>\n",
       "      <td>0.644528</td>\n",
       "      <td>0.126126</td>\n",
       "      <td>0.000000</td>\n",
       "    </tr>\n",
       "    <tr>\n",
       "      <th>9</th>\n",
       "      <td>LinearSVC</td>\n",
       "      <td>ternary</td>\n",
       "      <td>LOF+LDA</td>\n",
       "      <td>0.609749</td>\n",
       "      <td>0.294068</td>\n",
       "      <td>0.529378</td>\n",
       "      <td>0.593453</td>\n",
       "      <td>0.482642</td>\n",
       "      <td>0.646650</td>\n",
       "      <td>806.100036</td>\n",
       "      <td>0.157450</td>\n",
       "    </tr>\n",
       "    <tr>\n",
       "      <th>10</th>\n",
       "      <td>SVC_b</td>\n",
       "      <td>ternary</td>\n",
       "      <td>LOF-LDA</td>\n",
       "      <td>0.610417</td>\n",
       "      <td>0.294417</td>\n",
       "      <td>0.529611</td>\n",
       "      <td>0.592349</td>\n",
       "      <td>0.478785</td>\n",
       "      <td>0.646084</td>\n",
       "      <td>52.901665</td>\n",
       "      <td>0.864331</td>\n",
       "    </tr>\n",
       "    <tr>\n",
       "      <th>11</th>\n",
       "      <td>SVC</td>\n",
       "      <td>ternary</td>\n",
       "      <td>LOF-LDA</td>\n",
       "      <td>0.610417</td>\n",
       "      <td>0.294417</td>\n",
       "      <td>0.529611</td>\n",
       "      <td>0.592349</td>\n",
       "      <td>0.478785</td>\n",
       "      <td>0.646084</td>\n",
       "      <td>51.581846</td>\n",
       "      <td>0.812986</td>\n",
       "    </tr>\n",
       "    <tr>\n",
       "      <th>12</th>\n",
       "      <td>LinearSVC</td>\n",
       "      <td>ternary</td>\n",
       "      <td>LOF-LDA</td>\n",
       "      <td>0.610597</td>\n",
       "      <td>0.292872</td>\n",
       "      <td>0.528581</td>\n",
       "      <td>0.593672</td>\n",
       "      <td>0.481224</td>\n",
       "      <td>0.646076</td>\n",
       "      <td>6.088406</td>\n",
       "      <td>0.003123</td>\n",
       "    </tr>\n",
       "    <tr>\n",
       "      <th>13</th>\n",
       "      <td>RidgeCV</td>\n",
       "      <td>ternary</td>\n",
       "      <td>LOF+LDA</td>\n",
       "      <td>0.611311</td>\n",
       "      <td>0.287125</td>\n",
       "      <td>0.524750</td>\n",
       "      <td>0.591514</td>\n",
       "      <td>0.470373</td>\n",
       "      <td>0.643463</td>\n",
       "      <td>34.198485</td>\n",
       "      <td>0.175863</td>\n",
       "    </tr>\n",
       "    <tr>\n",
       "      <th>14</th>\n",
       "      <td>RidgeCV</td>\n",
       "      <td>ternary</td>\n",
       "      <td>LOF-LDA</td>\n",
       "      <td>0.611336</td>\n",
       "      <td>0.287170</td>\n",
       "      <td>0.524780</td>\n",
       "      <td>0.591539</td>\n",
       "      <td>0.470399</td>\n",
       "      <td>0.643486</td>\n",
       "      <td>0.102568</td>\n",
       "      <td>0.001997</td>\n",
       "    </tr>\n",
       "    <tr>\n",
       "      <th>15</th>\n",
       "      <td>SVC</td>\n",
       "      <td>ternary</td>\n",
       "      <td>LOF+LDA</td>\n",
       "      <td>0.631267</td>\n",
       "      <td>0.318778</td>\n",
       "      <td>0.545852</td>\n",
       "      <td>0.609548</td>\n",
       "      <td>0.485287</td>\n",
       "      <td>0.659447</td>\n",
       "      <td>294.029941</td>\n",
       "      <td>43.474474</td>\n",
       "    </tr>\n",
       "    <tr>\n",
       "      <th>16</th>\n",
       "      <td>RidgeCV_b</td>\n",
       "      <td>ternary</td>\n",
       "      <td>LOF+LDA</td>\n",
       "      <td>0.570071</td>\n",
       "      <td>0.356926</td>\n",
       "      <td>0.571284</td>\n",
       "      <td>0.576085</td>\n",
       "      <td>0.565102</td>\n",
       "      <td>0.673591</td>\n",
       "      <td>33.854151</td>\n",
       "      <td>0.136095</td>\n",
       "    </tr>\n",
       "    <tr>\n",
       "      <th>17</th>\n",
       "      <td>GaussianNB</td>\n",
       "      <td>ternary</td>\n",
       "      <td>LOF+LDA</td>\n",
       "      <td>0.507166</td>\n",
       "      <td>0.225616</td>\n",
       "      <td>0.483744</td>\n",
       "      <td>0.511116</td>\n",
       "      <td>0.473771</td>\n",
       "      <td>0.677424</td>\n",
       "      <td>4.359341</td>\n",
       "      <td>1.031258</td>\n",
       "    </tr>\n",
       "  </tbody>\n",
       "</table>\n",
       "</div>"
      ],
      "text/plain": [
       "    model_name     case preprocessing  accuracy  adjusted_balanced_accuracy  \\\n",
       "0        SVC_b  ternary       LOF+LDA  0.631267                    0.318778   \n",
       "1   LogRegCV_b  ternary       LOF-LDA  0.573081                    0.350676   \n",
       "2    RidgeCV_b  ternary       LOF-LDA  0.573175                    0.352276   \n",
       "3   LogRegCV_b  ternary       LOF+LDA  0.574107                    0.352940   \n",
       "4        SGD_b  ternary       LOF-LDA  0.587623                    0.331593   \n",
       "5        SGD_b  ternary       LOF+LDA  0.594002                    0.331777   \n",
       "6   GaussianNB  ternary       LOF-LDA  0.607629                    0.292399   \n",
       "7          SGD  ternary       LOF+LDA  0.607708                    0.284501   \n",
       "8          SGD  ternary       LOF-LDA  0.608169                    0.289564   \n",
       "9    LinearSVC  ternary       LOF+LDA  0.609749                    0.294068   \n",
       "10       SVC_b  ternary       LOF-LDA  0.610417                    0.294417   \n",
       "11         SVC  ternary       LOF-LDA  0.610417                    0.294417   \n",
       "12   LinearSVC  ternary       LOF-LDA  0.610597                    0.292872   \n",
       "13     RidgeCV  ternary       LOF+LDA  0.611311                    0.287125   \n",
       "14     RidgeCV  ternary       LOF-LDA  0.611336                    0.287170   \n",
       "15         SVC  ternary       LOF+LDA  0.631267                    0.318778   \n",
       "16   RidgeCV_b  ternary       LOF+LDA  0.570071                    0.356926   \n",
       "17  GaussianNB  ternary       LOF+LDA  0.507166                    0.225616   \n",
       "\n",
       "    balanced_accuracy        f1  geometric_mean   roc_auc    fit_time  \\\n",
       "0            0.545852  0.609548        0.485287  0.659447  289.539724   \n",
       "1            0.567117  0.579488        0.562076  0.749887    2.218290   \n",
       "2            0.568184  0.579031        0.561806  0.671809    0.106031   \n",
       "3            0.568626  0.580348        0.563643  0.752494  441.071035   \n",
       "4            0.554395  0.589415        0.541800  0.663273    0.137977   \n",
       "5            0.554518  0.593577        0.537779  0.663996   13.792928   \n",
       "6            0.528266  0.592481        0.486366  0.747436    0.014400   \n",
       "7            0.523000  0.588477        0.469159  0.642104   14.794149   \n",
       "8            0.526376  0.591156        0.477767  0.644528    0.126126   \n",
       "9            0.529378  0.593453        0.482642  0.646650  806.100036   \n",
       "10           0.529611  0.592349        0.478785  0.646084   52.901665   \n",
       "11           0.529611  0.592349        0.478785  0.646084   51.581846   \n",
       "12           0.528581  0.593672        0.481224  0.646076    6.088406   \n",
       "13           0.524750  0.591514        0.470373  0.643463   34.198485   \n",
       "14           0.524780  0.591539        0.470399  0.643486    0.102568   \n",
       "15           0.545852  0.609548        0.485287  0.659447  294.029941   \n",
       "16           0.571284  0.576085        0.565102  0.673591   33.854151   \n",
       "17           0.483744  0.511116        0.473771  0.677424    4.359341   \n",
       "\n",
       "    predict_time  \n",
       "0      43.044478  \n",
       "1       0.000400  \n",
       "2       0.003125  \n",
       "3       0.171187  \n",
       "4       0.004435  \n",
       "5       0.157616  \n",
       "6       0.003733  \n",
       "7       0.174581  \n",
       "8       0.000000  \n",
       "9       0.157450  \n",
       "10      0.864331  \n",
       "11      0.812986  \n",
       "12      0.003123  \n",
       "13      0.175863  \n",
       "14      0.001997  \n",
       "15     43.474474  \n",
       "16      0.136095  \n",
       "17      1.031258  "
      ]
     },
     "execution_count": 10,
     "metadata": {},
     "output_type": "execute_result"
    },
    {
     "name": "stdout",
     "output_type": "stream",
     "text": [
      "time: 62.9 ms\n"
     ]
    }
   ],
   "source": [
    "results_df = create_results_df(results_)\n",
    "results_df"
   ]
  },
  {
   "cell_type": "code",
   "execution_count": 11,
   "metadata": {},
   "outputs": [
    {
     "name": "stdout",
     "output_type": "stream",
     "text": [
      "time: 15.6 ms\n"
     ]
    }
   ],
   "source": [
    "# save table of results and predictions\n",
    "results_df.to_csv(f\"{DATA_OUT_FOLDER}/LOF-LDA_vs_LOF+LDA_CV5.csv\")\n",
    "pd.DataFrame(predictions_).to_csv(\n",
    "    f\"{DATA_OUT_FOLDER}/LOF-LDA_vs_LOF+LDA_CV5_predictions.csv\"\n",
    ")"
   ]
  },
  {
   "cell_type": "markdown",
   "metadata": {},
   "source": [
    "# Results\n",
    "\n",
    "In this section, we create several visualizations to display the results.\n",
    "\n",
    "Note that the charts depicting fit and predict times do not account for the outlier removal step."
   ]
  },
  {
   "cell_type": "code",
   "execution_count": 12,
   "metadata": {},
   "outputs": [
    {
     "name": "stdout",
     "output_type": "stream",
     "text": [
      "time: 110 ms\n"
     ]
    }
   ],
   "source": [
    "METRIC_NAMES = {\n",
    "    \"accuracy\": \"Accuracy\",\n",
    "    \"adjusted_balanced_accuracy\": \"Balanced Accuracy (adjusted)\",\n",
    "    \"balanced_accuracy\": \"Balanced Accuracy\",\n",
    "    \"f1\": \"F1 Score\",\n",
    "    \"geometric_mean\": \"Geometric Mean (sensitivity & specificity)\",\n",
    "    \"roc_auc\": \"Area Under ROC Curve\",\n",
    "    \"fit_time\": \"Fit Time\",\n",
    "    \"predict_time\": \"Predict Time\",\n",
    "}\n",
    "\n",
    "_ = gc_collect()"
   ]
  },
  {
   "cell_type": "code",
   "execution_count": 13,
   "metadata": {},
   "outputs": [
    {
     "name": "stdout",
     "output_type": "stream",
     "text": [
      "time: 94.3 ms\n"
     ]
    }
   ],
   "source": [
    "def plot_metric(metric: str, results_df: pd.DataFrame) -> None:\n",
    "    \"\"\"Draw a barplot by binary classifier.\"\"\"\n",
    "    time_metric = \"time\" in metric\n",
    "    results_df = results_df.sort_values(by=metric, ascending=time_metric)\n",
    "\n",
    "    g = sns.catplot(\n",
    "        x=\"model_name\",\n",
    "        y=metric,\n",
    "        hue=\"preprocessing\",\n",
    "        data=results_df,\n",
    "        hue_order=[\"LOF+LDA\", \"LOF-LDA\"],\n",
    "        seed=SEED,\n",
    "        kind=\"bar\",\n",
    "        palette=\"colorblind\",\n",
    "        alpha=0.65,\n",
    "    )\n",
    "    g.fig.set_figwidth(16)\n",
    "    g.despine(**dict.fromkeys((\"left\", \"top\", \"right\"), True))\n",
    "    g.set_axis_labels(x_var=\"\", y_var=\"\")\n",
    "    sns.move_legend(\n",
    "        g,\n",
    "        \"lower center\",\n",
    "        bbox_to_anchor=(0.5, 0.85),\n",
    "        ncol=2,\n",
    "        title=None,\n",
    "    )\n",
    "\n",
    "    if not time_metric:\n",
    "        plt.ylim(0, 1)\n",
    "    plt.setp(plt.gca().patches, linewidth=0)\n",
    "\n",
    "    plt.suptitle(\n",
    "        f\"{METRIC_NAMES[metric]}{' (s)' if time_metric else ''}\", fontweight=\"bold\"\n",
    "    )\n",
    "    plt.tight_layout()\n",
    "    plt.show()\n",
    "\n",
    "\n",
    "_ = gc_collect()"
   ]
  },
  {
   "cell_type": "code",
   "execution_count": 14,
   "metadata": {},
   "outputs": [
    {
     "data": {
      "application/vnd.jupyter.widget-view+json": {
       "model_id": "a0ed56d3a3b84558a59b2dc4714b6df6",
       "version_major": 2,
       "version_minor": 0
      },
      "text/plain": [
       "  0%|          | 0/8 [00:00<?, ?it/s]"
      ]
     },
     "metadata": {},
     "output_type": "display_data"
    },
    {
     "data": {
      "image/png": "[encoded data removed]",
      "text/plain": [
       "<Figure size 1152x360 with 1 Axes>"
      ]
     },
     "metadata": {
      "needs_background": "light"
     },
     "output_type": "display_data"
    },
    {
     "data": {
      "image/png": "[encoded data removed]",
      "text/plain": [
       "<Figure size 1152x360 with 1 Axes>"
      ]
     },
     "metadata": {
      "needs_background": "light"
     },
     "output_type": "display_data"
    },
    {
     "data": {
      "image/png": "[encoded data removed]",
      "text/plain": [
       "<Figure size 1152x360 with 1 Axes>"
      ]
     },
     "metadata": {
      "needs_background": "light"
     },
     "output_type": "display_data"
    },
    {
     "data": {
      "image/png": "[encoded data removed]",
      "text/plain": [
       "<Figure size 1152x360 with 1 Axes>"
      ]
     },
     "metadata": {
      "needs_background": "light"
     },
     "output_type": "display_data"
    },
    {
     "data": {
      "image/png": "[encoded data removed]",
      "text/plain": [
       "<Figure size 1152x360 with 1 Axes>"
      ]
     },
     "metadata": {
      "needs_background": "light"
     },
     "output_type": "display_data"
    },
    {
     "data": {
      "image/png": "[encoded data removed]",
      "text/plain": [
       "<Figure size 1152x360 with 1 Axes>"
      ]
     },
     "metadata": {
      "needs_background": "light"
     },
     "output_type": "display_data"
    },
    {
     "data": {
      "image/png": "[encoded data removed]",
      "text/plain": [
       "<Figure size 1152x360 with 1 Axes>"
      ]
     },
     "metadata": {
      "needs_background": "light"
     },
     "output_type": "display_data"
    },
    {
     "data": {
      "image/png": "[encoded data removed]",
      "text/plain": [
       "<Figure size 1152x360 with 1 Axes>"
      ]
     },
     "metadata": {
      "needs_background": "light"
     },
     "output_type": "display_data"
    },
    {
     "name": "stdout",
     "output_type": "stream",
     "text": [
      "time: 3.11 s\n"
     ]
    }
   ],
   "source": [
    "for metric in tqdm(METRICS):\n",
    "    plot_metric(metric, results_df)"
   ]
  },
  {
   "cell_type": "markdown",
   "metadata": {},
   "source": [
    "# Prediction correlations\n",
    "\n",
    "To estimate the degree of correlation between model predictions, we recorded an array of probability vector predictions per model per fold. The vectors are transformed to three columns that are reduced to one component with PCA. The absolute values of the correlation coefficients are calculated between these single components per model. These are averaged between folds for the final estimate."
   ]
  },
  {
   "cell_type": "code",
   "execution_count": 15,
   "metadata": {},
   "outputs": [
    {
     "data": {
      "text/plain": [
       "<Figure size 864x864 with 0 Axes>"
      ]
     },
     "execution_count": 15,
     "metadata": {},
     "output_type": "execute_result"
    },
    {
     "name": "stderr",
     "output_type": "stream",
     "text": [
      "Pandas Apply: 100%|██████████| 1/1 [00:00<?, ?it/s]\n",
      "Pandas Apply: 100%|██████████| 1/1 [00:00<?, ?it/s]\n",
      "Pandas Apply: 100%|██████████| 1/1 [00:00<00:00, 64.20it/s]\n",
      "Pandas Apply: 100%|██████████| 1/1 [00:00<?, ?it/s]\n",
      "Pandas Apply: 100%|██████████| 1/1 [00:00<?, ?it/s]\n",
      "Pandas Apply: 100%|██████████| 1/1 [00:00<?, ?it/s]\n",
      "Pandas Apply: 100%|██████████| 1/1 [00:00<?, ?it/s]\n",
      "Pandas Apply: 100%|██████████| 1/1 [00:00<?, ?it/s]\n",
      "Pandas Apply: 100%|██████████| 1/1 [00:00<?, ?it/s]\n",
      "Pandas Apply: 100%|██████████| 1/1 [00:00<?, ?it/s]\n",
      "Pandas Apply: 100%|██████████| 1/1 [00:00<00:00, 64.00it/s]\n",
      "Pandas Apply: 100%|██████████| 1/1 [00:00<?, ?it/s]\n",
      "Pandas Apply: 100%|██████████| 1/1 [00:00<?, ?it/s]\n",
      "Pandas Apply: 100%|██████████| 1/1 [00:00<?, ?it/s]\n",
      "Pandas Apply: 100%|██████████| 1/1 [00:00<?, ?it/s]\n",
      "Pandas Apply: 100%|██████████| 1/1 [00:00<?, ?it/s]\n",
      "Pandas Apply: 100%|██████████| 1/1 [00:00<?, ?it/s]\n",
      "Pandas Apply: 100%|██████████| 1/1 [00:00<?, ?it/s]\n",
      "Pandas Apply: 100%|██████████| 1/1 [00:00<?, ?it/s]\n",
      "Pandas Apply: 100%|██████████| 1/1 [00:00<?, ?it/s]\n",
      "Pandas Apply: 100%|██████████| 1/1 [00:00<?, ?it/s]\n",
      "Pandas Apply: 100%|██████████| 1/1 [00:00<?, ?it/s]\n",
      "Pandas Apply: 100%|██████████| 1/1 [00:00<?, ?it/s]\n",
      "Pandas Apply: 100%|██████████| 1/1 [00:00<?, ?it/s]\n",
      "Pandas Apply: 100%|██████████| 1/1 [00:00<?, ?it/s]\n",
      "Pandas Apply: 100%|██████████| 1/1 [00:00<?, ?it/s]\n",
      "Pandas Apply: 100%|██████████| 1/1 [00:00<?, ?it/s]\n",
      "Pandas Apply: 100%|██████████| 1/1 [00:00<?, ?it/s]\n",
      "Pandas Apply: 100%|██████████| 1/1 [00:00<?, ?it/s]\n",
      "Pandas Apply: 100%|██████████| 1/1 [00:00<?, ?it/s]\n",
      "Pandas Apply: 100%|██████████| 1/1 [00:00<?, ?it/s]\n",
      "Pandas Apply: 100%|██████████| 1/1 [00:00<?, ?it/s]\n",
      "Pandas Apply: 100%|██████████| 1/1 [00:00<?, ?it/s]\n",
      "Pandas Apply: 100%|██████████| 1/1 [00:00<?, ?it/s]\n",
      "Pandas Apply: 100%|██████████| 1/1 [00:00<?, ?it/s]\n",
      "Pandas Apply: 100%|██████████| 1/1 [00:00<?, ?it/s]\n",
      "Pandas Apply: 100%|██████████| 1/1 [00:00<?, ?it/s]\n",
      "Pandas Apply: 100%|██████████| 1/1 [00:00<?, ?it/s]\n",
      "Pandas Apply: 100%|██████████| 1/1 [00:00<?, ?it/s]\n",
      "Pandas Apply: 100%|██████████| 1/1 [00:00<?, ?it/s]\n",
      "Pandas Apply: 100%|██████████| 1/1 [00:00<?, ?it/s]\n",
      "Pandas Apply: 100%|██████████| 1/1 [00:00<?, ?it/s]\n",
      "Pandas Apply: 100%|██████████| 1/1 [00:00<?, ?it/s]\n",
      "Pandas Apply: 100%|██████████| 1/1 [00:00<00:00, 64.00it/s]\n",
      "Pandas Apply: 100%|██████████| 1/1 [00:00<?, ?it/s]\n"
     ]
    },
    {
     "data": {
      "text/plain": [
       "Text(0.5, 0.98, 'prediction correlations: LOF+LDA')"
      ]
     },
     "execution_count": 15,
     "metadata": {},
     "output_type": "execute_result"
    },
    {
     "data": {
      "text/plain": [
       "(array([0.5, 1.5, 2.5, 3.5, 4.5, 5.5, 6.5, 7.5, 8.5]),\n",
       " [Text(0.5, 0, 'GaussianNB'),\n",
       "  Text(1.5, 0, 'LinearSVC'),\n",
       "  Text(2.5, 0, 'LogRegCV_b'),\n",
       "  Text(3.5, 0, 'RidgeCV_b'),\n",
       "  Text(4.5, 0, 'RidgeCV'),\n",
       "  Text(5.5, 0, 'SGD'),\n",
       "  Text(6.5, 0, 'SGD_b'),\n",
       "  Text(7.5, 0, 'SVC'),\n",
       "  Text(8.5, 0, 'SVC_b')])"
      ]
     },
     "execution_count": 15,
     "metadata": {},
     "output_type": "execute_result"
    },
    {
     "data": {
      "text/plain": [
       "(array([0.5, 1.5, 2.5, 3.5, 4.5, 5.5, 6.5, 7.5, 8.5]),\n",
       " [Text(0, 0.5, 'GaussianNB'),\n",
       "  Text(0, 1.5, 'LinearSVC'),\n",
       "  Text(0, 2.5, 'LogRegCV_b'),\n",
       "  Text(0, 3.5, 'RidgeCV'),\n",
       "  Text(0, 4.5, 'RidgeCV_b'),\n",
       "  Text(0, 5.5, 'SGD'),\n",
       "  Text(0, 6.5, 'SGD_b'),\n",
       "  Text(0, 7.5, 'SVC'),\n",
       "  Text(0, 8.5, 'SVC_b')])"
      ]
     },
     "execution_count": 15,
     "metadata": {},
     "output_type": "execute_result"
    },
    {
     "data": {
      "image/png": "[encoded data removed]",
      "text/plain": [
       "<Figure size 864x864 with 2 Axes>"
      ]
     },
     "metadata": {
      "needs_background": "light"
     },
     "output_type": "display_data"
    },
    {
     "data": {
      "text/plain": [
       "<Figure size 864x864 with 0 Axes>"
      ]
     },
     "execution_count": 15,
     "metadata": {},
     "output_type": "execute_result"
    },
    {
     "name": "stderr",
     "output_type": "stream",
     "text": [
      "Pandas Apply: 100%|██████████| 1/1 [00:00<?, ?it/s]\n",
      "Pandas Apply: 100%|██████████| 1/1 [00:00<?, ?it/s]\n",
      "Pandas Apply: 100%|██████████| 1/1 [00:00<?, ?it/s]\n",
      "Pandas Apply: 100%|██████████| 1/1 [00:00<?, ?it/s]\n",
      "Pandas Apply: 100%|██████████| 1/1 [00:00<?, ?it/s]\n",
      "Pandas Apply: 100%|██████████| 1/1 [00:00<?, ?it/s]\n",
      "Pandas Apply: 100%|██████████| 1/1 [00:00<?, ?it/s]\n",
      "Pandas Apply: 100%|██████████| 1/1 [00:00<?, ?it/s]\n",
      "Pandas Apply: 100%|██████████| 1/1 [00:00<?, ?it/s]\n",
      "Pandas Apply: 100%|██████████| 1/1 [00:00<?, ?it/s]\n",
      "Pandas Apply: 100%|██████████| 1/1 [00:00<?, ?it/s]\n",
      "Pandas Apply: 100%|██████████| 1/1 [00:00<?, ?it/s]\n",
      "Pandas Apply: 100%|██████████| 1/1 [00:00<?, ?it/s]\n",
      "Pandas Apply: 100%|██████████| 1/1 [00:00<?, ?it/s]\n",
      "Pandas Apply: 100%|██████████| 1/1 [00:00<?, ?it/s]\n",
      "Pandas Apply: 100%|██████████| 1/1 [00:00<?, ?it/s]\n",
      "Pandas Apply: 100%|██████████| 1/1 [00:00<?, ?it/s]\n",
      "Pandas Apply: 100%|██████████| 1/1 [00:00<?, ?it/s]\n",
      "Pandas Apply: 100%|██████████| 1/1 [00:00<?, ?it/s]\n",
      "Pandas Apply: 100%|██████████| 1/1 [00:00<?, ?it/s]\n",
      "Pandas Apply: 100%|██████████| 1/1 [00:00<?, ?it/s]\n",
      "Pandas Apply: 100%|██████████| 1/1 [00:00<?, ?it/s]\n",
      "Pandas Apply: 100%|██████████| 1/1 [00:00<?, ?it/s]\n",
      "Pandas Apply: 100%|██████████| 1/1 [00:00<?, ?it/s]\n",
      "Pandas Apply: 100%|██████████| 1/1 [00:00<?, ?it/s]\n",
      "Pandas Apply: 100%|██████████| 1/1 [00:00<?, ?it/s]\n",
      "Pandas Apply: 100%|██████████| 1/1 [00:00<?, ?it/s]\n",
      "Pandas Apply: 100%|██████████| 1/1 [00:00<?, ?it/s]\n",
      "Pandas Apply: 100%|██████████| 1/1 [00:00<?, ?it/s]\n",
      "Pandas Apply: 100%|██████████| 1/1 [00:00<?, ?it/s]\n",
      "Pandas Apply: 100%|██████████| 1/1 [00:00<?, ?it/s]\n",
      "Pandas Apply: 100%|██████████| 1/1 [00:00<00:00, 63.89it/s]\n",
      "Pandas Apply: 100%|██████████| 1/1 [00:00<?, ?it/s]\n",
      "Pandas Apply: 100%|██████████| 1/1 [00:00<?, ?it/s]\n",
      "Pandas Apply: 100%|██████████| 1/1 [00:00<?, ?it/s]\n",
      "Pandas Apply: 100%|██████████| 1/1 [00:00<?, ?it/s]\n",
      "Pandas Apply: 100%|██████████| 1/1 [00:00<?, ?it/s]\n",
      "Pandas Apply: 100%|██████████| 1/1 [00:00<?, ?it/s]\n",
      "Pandas Apply: 100%|██████████| 1/1 [00:00<?, ?it/s]\n",
      "Pandas Apply: 100%|██████████| 1/1 [00:00<?, ?it/s]\n",
      "Pandas Apply: 100%|██████████| 1/1 [00:00<?, ?it/s]\n",
      "Pandas Apply: 100%|██████████| 1/1 [00:00<?, ?it/s]\n",
      "Pandas Apply: 100%|██████████| 1/1 [00:00<?, ?it/s]\n",
      "Pandas Apply: 100%|██████████| 1/1 [00:00<?, ?it/s]\n",
      "Pandas Apply: 100%|██████████| 1/1 [00:00<?, ?it/s]\n"
     ]
    },
    {
     "data": {
      "text/plain": [
       "Text(0.5, 0.98, 'prediction correlations: LOF-LDA')"
      ]
     },
     "execution_count": 15,
     "metadata": {},
     "output_type": "execute_result"
    },
    {
     "data": {
      "text/plain": [
       "(array([0.5, 1.5, 2.5, 3.5, 4.5, 5.5, 6.5, 7.5, 8.5]),\n",
       " [Text(0.5, 0, 'GaussianNB'),\n",
       "  Text(1.5, 0, 'LinearSVC'),\n",
       "  Text(2.5, 0, 'LogRegCV_b'),\n",
       "  Text(3.5, 0, 'RidgeCV_b'),\n",
       "  Text(4.5, 0, 'RidgeCV'),\n",
       "  Text(5.5, 0, 'SGD'),\n",
       "  Text(6.5, 0, 'SGD_b'),\n",
       "  Text(7.5, 0, 'SVC'),\n",
       "  Text(8.5, 0, 'SVC_b')])"
      ]
     },
     "execution_count": 15,
     "metadata": {},
     "output_type": "execute_result"
    },
    {
     "data": {
      "text/plain": [
       "(array([0.5, 1.5, 2.5, 3.5, 4.5, 5.5, 6.5, 7.5, 8.5]),\n",
       " [Text(0, 0.5, 'GaussianNB'),\n",
       "  Text(0, 1.5, 'LinearSVC'),\n",
       "  Text(0, 2.5, 'LogRegCV_b'),\n",
       "  Text(0, 3.5, 'RidgeCV'),\n",
       "  Text(0, 4.5, 'RidgeCV_b'),\n",
       "  Text(0, 5.5, 'SGD'),\n",
       "  Text(0, 6.5, 'SGD_b'),\n",
       "  Text(0, 7.5, 'SVC'),\n",
       "  Text(0, 8.5, 'SVC_b')])"
      ]
     },
     "execution_count": 15,
     "metadata": {},
     "output_type": "execute_result"
    },
    {
     "data": {
      "image/png": "[encoded data removed]",
      "text/plain": [
       "<Figure size 864x864 with 2 Axes>"
      ]
     },
     "metadata": {
      "needs_background": "light"
     },
     "output_type": "display_data"
    },
    {
     "name": "stdout",
     "output_type": "stream",
     "text": [
      "time: 2.2 s\n"
     ]
    }
   ],
   "source": [
    "def average_prediction_correlations(preprocessing: str) -> pd.DataFrame:\n",
    "    \"\"\"Estimates the correlations of model predictions and returns a DataFrame\"\"\"\n",
    "    preprocess_df = pd.DataFrame(predictions_).query(\n",
    "        f\"preprocessing == '{preprocessing}'\"\n",
    "    )\n",
    "    fold_correlation_dfs = []\n",
    "    for fold in sorted(np.unique(preprocess_df.fold)):\n",
    "        fold_df = preprocess_df.query(f\"fold == {fold}\")\n",
    "        model_predictions = {\n",
    "            model: np.squeeze(\n",
    "                PCA(n_components=1, random_state=SEED).fit_transform(\n",
    "                    pd.DataFrame(\n",
    "                        np.hstack(\n",
    "                            fold_df.query(f\"model == '{model}'\")\n",
    "                            .y_pred.swifter.apply(np.asarray)\n",
    "                            .values\n",
    "                        )\n",
    "                    )\n",
    "                )\n",
    "            )\n",
    "            for model in MODELS\n",
    "        }\n",
    "        fold_correlation_dfs.append(\n",
    "            pd.DataFrame(model_predictions).corr().swifter.apply(abs)\n",
    "        )\n",
    "    return (_ := pd.concat(fold_correlation_dfs)).groupby(_.index).mean()\n",
    "\n",
    "\n",
    "for preprocessing in {\"LOF-LDA\", \"LOF+LDA\"}:\n",
    "    plt.figure(figsize=(12, 12))\n",
    "    # classifiers whose predictions do not vary (e.g., dummy) produce NaN correlations and are dropped from visualization\n",
    "    g = sns.heatmap(\n",
    "        data=(\n",
    "            df := average_prediction_correlations(preprocessing)\n",
    "            .dropna(axis=\"columns\", how=\"all\")\n",
    "            .dropna(axis=\"index\", how=\"all\")\n",
    "        ),\n",
    "        vmin=0,\n",
    "        vmax=1,\n",
    "        cmap=\"coolwarm\",\n",
    "        square=True,\n",
    "        mask=np.triu(np.ones_like(df, dtype=bool)),\n",
    "    )\n",
    "    plt.suptitle(f\"prediction correlations: {preprocessing}\")\n",
    "    plt.xticks(rotation=0)\n",
    "    plt.yticks(rotation=0)\n",
    "    plt.tight_layout()\n",
    "    plt.show()\n",
    "    del df\n",
    "    del g\n",
    "    _ = gc_collect()"
   ]
  },
  {
   "cell_type": "markdown",
   "metadata": {},
   "source": [
    "# Discussion\n",
    "\n",
    "The SVC classifiers performed noticeably better when the FRILL embeddings were combined with the LDA components. GaussianNB performed much better without the FRILL embeddings. For all other models, the difference is barely noticeable.\n",
    "\n",
    "The biggest difference between the two correlation plots is that GaussianNB agrees with other classifiers much more when they are trained without the FRILL embeddings. Otherise, the same pattern may be observed in both plots but in a lesser degree when considering the full feature set."
   ]
  },
  {
   "cell_type": "code",
   "execution_count": 16,
   "metadata": {},
   "outputs": [
    {
     "name": "stdout",
     "output_type": "stream",
     "text": [
      "Time elapsed since notebook_begin_time: 10818.914283752441 s\n",
      "time: 110 ms\n"
     ]
    }
   ],
   "source": [
    "print(f\"Time elapsed since notebook_begin_time: {time() - notebook_begin_time} s\")\n",
    "_ = gc_collect()"
   ]
  },
  {
   "cell_type": "markdown",
   "metadata": {},
   "source": [
    "[^top](#Contents)"
   ]
  },
  {
   "cell_type": "code",
   "execution_count": null,
   "metadata": {},
   "outputs": [],
   "source": []
  }
 ],
 "metadata": {
  "interpreter": {
   "hash": "e1781be99c106060f3abc0c9b91d3d379f24672894e2158d4b74304109955878"
  },
  "kernelspec": {
   "display_name": "Python 3 (ipykernel)",
   "language": "python",
   "name": "python3"
  },
  "language_info": {
   "codemirror_mode": {
    "name": "ipython",
    "version": 3
   },
   "file_extension": ".py",
   "mimetype": "text/x-python",
   "name": "python",
   "nbconvert_exporter": "python",
   "pygments_lexer": "ipython3",
   "version": "3.9.5"
  }
 },
 "nbformat": 4,
 "nbformat_minor": 4
}
