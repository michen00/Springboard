{
 "cells": [
  {
   "cell_type": "markdown",
   "metadata": {},
   "source": [
    "# Contents\n",
    "* [Introduction](#Introduction)\n",
    "* [Imports and configuration](#Imports-and-configuration)\n",
    "* [Data loading](#Data-loading)\n",
    "* [Setup](#Setup)\n",
    "* [Score models](#Score-models)\n",
    "* [Prediction correlation](#Prediction-correlation)\n",
    "* [Results](#Results)\n",
    "* [Discussion](#Discussion)"
   ]
  },
  {
   "cell_type": "markdown",
   "metadata": {},
   "source": [
    "# Introduction\n",
    "\n",
    "This notebook examines the efficacy of post-LOF LDA components with per-class LOF outliers removed as features."
   ]
  },
  {
   "cell_type": "markdown",
   "metadata": {},
   "source": [
    "# Imports and configuration"
   ]
  },
  {
   "cell_type": "code",
   "execution_count": 1,
   "metadata": {},
   "outputs": [],
   "source": [
    "from time import time\n",
    "\n",
    "notebook_begin_time = time()\n",
    "\n",
    "# set random seeds\n",
    "\n",
    "from os import environ\n",
    "from random import seed as random_seed\n",
    "from numpy.random import seed as np_seed\n",
    "from tensorflow.random import set_seed\n",
    "\n",
    "\n",
    "def reset_seeds(seed: int) -> None:\n",
    "    \"\"\"Utility function for resetting random seeds\"\"\"\n",
    "    environ[\"PYTHONHASHSEED\"] = str(seed)\n",
    "    random_seed(seed)\n",
    "    np_seed(seed)\n",
    "    set_seed(seed)\n",
    "\n",
    "\n",
    "reset_seeds(SEED := 2021)\n",
    "del environ\n",
    "del random_seed\n",
    "del np_seed\n",
    "del set_seed\n",
    "del reset_seeds"
   ]
  },
  {
   "cell_type": "code",
   "execution_count": 2,
   "metadata": {},
   "outputs": [],
   "source": [
    "# extensions\n",
    "%load_ext autotime\n",
    "%load_ext lab_black\n",
    "%load_ext nb_black"
   ]
  },
  {
   "cell_type": "code",
   "execution_count": 3,
   "metadata": {},
   "outputs": [
    {
     "name": "stderr",
     "output_type": "stream",
     "text": [
      "Intel(R) Extension for Scikit-learn* enabled (https://github.com/intel/scikit-learn-intelex)\n"
     ]
    },
    {
     "name": "stdout",
     "output_type": "stream",
     "text": [
      "time: 3.71 s\n"
     ]
    }
   ],
   "source": [
    "# core\n",
    "import numpy as np\n",
    "import pandas as pd\n",
    "\n",
    "# utility\n",
    "from collections import namedtuple\n",
    "from gc import collect as gc_collect\n",
    "from tqdm.notebook import tqdm\n",
    "\n",
    "# typing\n",
    "from typing import Any, Dict, List\n",
    "\n",
    "# faster pandas & sklearn\n",
    "import swifter\n",
    "from sklearnex import patch_sklearn\n",
    "\n",
    "patch_sklearn()\n",
    "del patch_sklearn\n",
    "\n",
    "# metrics\n",
    "from imblearn.metrics import geometric_mean_score\n",
    "from sklearn.metrics import (\n",
    "    accuracy_score,\n",
    "    balanced_accuracy_score,\n",
    "    f1_score,\n",
    "    roc_auc_score,\n",
    ")\n",
    "\n",
    "# classifiers\n",
    "from sklearn.linear_model import (\n",
    "    LogisticRegressionCV,\n",
    "    RidgeClassifierCV,\n",
    "    SGDClassifier,\n",
    ")\n",
    "from sklearn.naive_bayes import GaussianNB\n",
    "from sklearn.svm import LinearSVC, SVC\n",
    "\n",
    "# visualization\n",
    "import matplotlib.pyplot as plt\n",
    "import seaborn as sns\n",
    "\n",
    "sns.set_context(\"notebook\")\n",
    "%matplotlib inline\n",
    "\n",
    "# display outputs w/o print calls\n",
    "from IPython.core.interactiveshell import InteractiveShell\n",
    "\n",
    "InteractiveShell.ast_node_interactivity = \"all\"\n",
    "del InteractiveShell\n",
    "\n",
    "# hide warnings\n",
    "import warnings\n",
    "\n",
    "warnings.filterwarnings(\"ignore\")\n",
    "del warnings"
   ]
  },
  {
   "cell_type": "code",
   "execution_count": 4,
   "metadata": {},
   "outputs": [
    {
     "name": "stdout",
     "output_type": "stream",
     "text": [
      "time: 122 ms\n"
     ]
    }
   ],
   "source": [
    "# Location of cross validation data\n",
    "FRILL_FEATHERS_FOLDER = \"../10.0-mic-prepare_train-test_splits_on_full_data\"\n",
    "\n",
    "# Location where this notebook will output\n",
    "DATA_OUT_FOLDER = \".\"\n",
    "\n",
    "_ = gc_collect()"
   ]
  },
  {
   "cell_type": "markdown",
   "metadata": {},
   "source": [
    "# Setup\n",
    "\n",
    "In this section, we define some structures to keep track of models and scores."
   ]
  },
  {
   "cell_type": "code",
   "execution_count": 5,
   "metadata": {},
   "outputs": [
    {
     "name": "stdout",
     "output_type": "stream",
     "text": [
      "time: 125 ms\n"
     ]
    }
   ],
   "source": [
    "MODELS = {\n",
    "    \"GaussianNB\": lambda: GaussianNB(),\n",
    "    \"LinearSVC\": lambda: LinearSVC(random_state=SEED),\n",
    "    \"LogRegCV_b\": lambda: LogisticRegressionCV(\n",
    "        scoring=\"balanced_accuracy\",\n",
    "        class_weight=\"balanced\",\n",
    "        n_jobs=-1,\n",
    "        random_state=SEED,\n",
    "    ),\n",
    "    \"RidgeCV_b\": lambda: RidgeClassifierCV(\n",
    "        scoring=\"balanced_accuracy\", class_weight=\"balanced\"\n",
    "    ),\n",
    "    \"RidgeCV\": lambda: RidgeClassifierCV(scoring=\"balanced_accuracy\"),\n",
    "    \"SGD\": lambda: SGDClassifier(n_jobs=-1, random_state=SEED),\n",
    "    \"SGD_b\": lambda: SGDClassifier(\n",
    "        n_jobs=-1, random_state=SEED, class_weight=\"balanced\"\n",
    "    ),\n",
    "    \"SVC\": lambda: SVC(random_state=SEED),\n",
    "    \"SVC_b\": lambda: SVC(class_weight=\"balanced\", random_state=SEED),\n",
    "}\n",
    "\n",
    "_ = gc_collect()"
   ]
  },
  {
   "cell_type": "code",
   "execution_count": 6,
   "metadata": {},
   "outputs": [
    {
     "name": "stdout",
     "output_type": "stream",
     "text": [
      "time: 127 ms\n"
     ]
    }
   ],
   "source": [
    "METRICS = (\n",
    "    \"accuracy\",\n",
    "    \"adjusted_balanced_accuracy\",\n",
    "    \"balanced_accuracy\",\n",
    "    \"f1\",\n",
    "    \"geometric_mean\",\n",
    "    \"roc_auc\",\n",
    "    \"fit_time\",\n",
    "    \"predict_time\",\n",
    ")\n",
    "\n",
    "# to be cast to pd.DataFrame\n",
    "make_results = lambda: {\n",
    "    key: [] for key in {\"model_name\", \"case\", \"preprocessing\", *METRICS}\n",
    "}\n",
    "results_ = make_results()\n",
    "\n",
    "AvgScores = namedtuple(\"AvgScores\", METRICS)\n",
    "\n",
    "\n",
    "def store_result(\n",
    "    where: Dict[str, List],\n",
    "    model_name: str,\n",
    "    case: str,\n",
    "    preprocessing: str,\n",
    "    avg_scores: AvgScores,\n",
    ") -> None:\n",
    "    \"Appends a model's scores and fit/predict times to the results dict.\"\n",
    "    for attribute, value in {\n",
    "        \"model_name\": model_name,\n",
    "        \"case\": case,\n",
    "        \"preprocessing\": preprocessing,\n",
    "        **avg_scores._asdict(),\n",
    "    }.items():\n",
    "        where[attribute].append(value)\n",
    "\n",
    "\n",
    "def create_results_df(results_dict: Dict[str, List]) -> pd.DataFrame:\n",
    "    \"\"\"Create a results dataframe from the results dictionary\"\"\"\n",
    "    df = (\n",
    "        pd.DataFrame(results_dict)\n",
    "        .sort_values(by=[\"preprocessing\", \"model_name\"], ascending=True)\n",
    "        .sort_values(by=[\"fit_time\", \"predict_time\"], ascending=True)\n",
    "        .sort_values(\n",
    "            by=[\n",
    "                \"accuracy\",\n",
    "                \"adjusted_balanced_accuracy\",\n",
    "                \"balanced_accuracy\",\n",
    "                \"geometric_mean\",\n",
    "                \"f1\",\n",
    "                \"roc_auc\",\n",
    "            ],\n",
    "            ascending=False,\n",
    "        )\n",
    "        .sort_values(by=[\"case\"], ascending=True)\n",
    "        .reset_index(drop=True)\n",
    "    )[\n",
    "        [  # selection order\n",
    "            \"model_name\",\n",
    "            \"case\",\n",
    "            \"preprocessing\",\n",
    "            \"accuracy\",\n",
    "            \"adjusted_balanced_accuracy\",\n",
    "            \"balanced_accuracy\",\n",
    "            \"f1\",\n",
    "            \"geometric_mean\",\n",
    "            \"roc_auc\",\n",
    "            \"fit_time\",\n",
    "            \"predict_time\",\n",
    "        ]\n",
    "    ]\n",
    "    df.loc[:, \"case\"] = df.loc[:, \"case\"].astype(\"category\")\n",
    "    df.loc[:, \"preprocessing\"] = df.loc[:, \"preprocessing\"].astype(\"category\")\n",
    "    return df\n",
    "\n",
    "\n",
    "ALL_CASES = {\"ternary\"}\n",
    "\n",
    "_ = gc_collect()"
   ]
  },
  {
   "cell_type": "code",
   "execution_count": 7,
   "metadata": {},
   "outputs": [
    {
     "name": "stdout",
     "output_type": "stream",
     "text": [
      "time: 137 ms\n"
     ]
    }
   ],
   "source": [
    "predictions_ = {key: [] for key in {\"model\", \"case\", \"preprocessing\", \"fold\", \"y_pred\"}}\n",
    "\n",
    "Prediction = namedtuple(\"Prediction\", predictions_.keys())\n",
    "\n",
    "\n",
    "def store_prediction(where: Dict[str, List], prediction: Prediction) -> None:\n",
    "    \"Records the y_pred of a classifier on a fold\"\n",
    "    for k, v in prediction._asdict().items():\n",
    "        where[k].append(v)\n",
    "\n",
    "\n",
    "_ = gc_collect()"
   ]
  },
  {
   "cell_type": "code",
   "execution_count": 8,
   "metadata": {},
   "outputs": [
    {
     "name": "stdout",
     "output_type": "stream",
     "text": [
      "time: 142 ms\n"
     ]
    }
   ],
   "source": [
    "def print_and_append(to_append: Any, append_to: List[Any]) -> List[Any]:\n",
    "    \"\"\"Given an object and a list, pass the object to print() and then append it to the list, which is returned\"\"\"\n",
    "    print(to_append)\n",
    "    append_to.append(to_append)\n",
    "    return append_to\n",
    "\n",
    "\n",
    "def prep_y_pred(label: int) -> np.ndarray:\n",
    "    \"\"\"Prepares labels for AUROC scoring\"\"\"\n",
    "    _ = [0, 0, 0]\n",
    "    _[label] = 1\n",
    "    return np.asarray(_, dtype=np.float64)\n",
    "\n",
    "\n",
    "def evaluate_model(\n",
    "    model_base: str,\n",
    "    case: str = \"ternary\",\n",
    "    preprocessing: str = \"untransformed\",\n",
    "    track_fold_time: bool = True,\n",
    ") -> AvgScores:\n",
    "    \"\"\"Evaluate a model with cross validation on prepared folds.\"\"\"\n",
    "    (\n",
    "        fit_times,\n",
    "        predict_times,\n",
    "        accuracy,\n",
    "        adjusted_balanced_accuracy,\n",
    "        balanced_accuracy,\n",
    "        f1,\n",
    "        geometric_mean,\n",
    "        roc_auc,\n",
    "    ) = ([] for _ in range(8))\n",
    "    fold_num = 0\n",
    "    while True:\n",
    "        if track_fold_time:\n",
    "            fold_begin = time()\n",
    "        # load training data\n",
    "        read_feather_cv = lambda filename: pd.read_feather(\n",
    "            f\"{FRILL_FEATHERS_FOLDER}/cv_{fold_num}/{filename}.feather\"\n",
    "        )\n",
    "        try:\n",
    "            X_train = read_feather_cv(\"X_train_LOF-LDA-classLOF\")\n",
    "            y_train = read_feather_cv(\"y_train_LOF-LDA-classLOF\").iloc[:, 0]\n",
    "        except FileNotFoundError:\n",
    "            break\n",
    "        if no_frill := preprocessing == \"LOF-LDA-classLOF\":\n",
    "            X_train = X_train[[\"LDA1\", \"LDA2\"]]\n",
    "\n",
    "        # initialize model\n",
    "        model = MODELS[model_base]()\n",
    "\n",
    "        # fit\n",
    "        begin = time()\n",
    "        model.fit(X_train, y_train)\n",
    "        end = time()\n",
    "        del X_train\n",
    "        del y_train\n",
    "        _ = gc_collect()\n",
    "        fit_times.append(end - begin)\n",
    "        print(f\"fitted in {end - begin:.2f} s\")\n",
    "\n",
    "        # load test data\n",
    "        X_test = read_feather_cv(\"X_test_LOF-LDA\")\n",
    "        if not no_frill:\n",
    "            X_test = pd.concat(\n",
    "                [X_test, read_feather_cv(\"X_test_untransformed\")], axis=\"columns\"\n",
    "            )\n",
    "\n",
    "        # predict\n",
    "        begin = time()\n",
    "        predicted = model.predict(X_test)\n",
    "        end = time()\n",
    "        try:\n",
    "            proba_predict = model.predict_proba(X_test)\n",
    "        except AttributeError:\n",
    "            # some classifiers do not support .predict_proba\n",
    "            proba_predict = np.stack(pd.Series(predicted).swifter.apply(prep_y_pred))\n",
    "        del X_test\n",
    "        del model\n",
    "        _ = gc_collect()\n",
    "        predict_times.append(end - begin)\n",
    "        print(f\"predicted in {end - begin:.2f} s\")\n",
    "        del end\n",
    "        del begin\n",
    "        _ = gc_collect()\n",
    "        store_prediction(\n",
    "            where=predictions_,\n",
    "            prediction=Prediction(\n",
    "                model=model_base,\n",
    "                case=case,\n",
    "                preprocessing=preprocessing,\n",
    "                fold=fold_num,\n",
    "                y_pred=proba_predict,\n",
    "            ),\n",
    "        )\n",
    "\n",
    "        # score\n",
    "        score_params = {\n",
    "            \"y_true\": read_feather_cv(\"y_test_ter\").iloc[:, 0],\n",
    "            \"y_pred\": predicted,\n",
    "        }\n",
    "        print(\"accuracy: \", end=\"\")\n",
    "        accuracy = print_and_append(\n",
    "            to_append=accuracy_score(**score_params), append_to=accuracy\n",
    "        )\n",
    "        print(\"adjusted balanced accuracy: \", end=\"\")\n",
    "        adjusted_balanced_accuracy = print_and_append(\n",
    "            to_append=balanced_accuracy_score(**score_params, adjusted=True),\n",
    "            append_to=adjusted_balanced_accuracy,\n",
    "        )\n",
    "        print(\"balanced accuracy: \", end=\"\")\n",
    "        balanced_accuracy = print_and_append(\n",
    "            to_append=balanced_accuracy_score(**score_params),\n",
    "            append_to=balanced_accuracy,\n",
    "        )\n",
    "        print(\"f1: \", end=\"\")\n",
    "        f1 = print_and_append(\n",
    "            to_append=f1_score(**score_params, average=\"weighted\"), append_to=f1\n",
    "        )\n",
    "        print(\"geometric mean: \", end=\"\")\n",
    "        geometric_mean = print_and_append(\n",
    "            to_append=geometric_mean_score(**score_params), append_to=geometric_mean\n",
    "        )\n",
    "        print(\"roc auc: \", end=\"\")\n",
    "        roc_auc = print_and_append(\n",
    "            to_append=roc_auc_score(\n",
    "                y_true=score_params[\"y_true\"],\n",
    "                y_score=proba_predict,\n",
    "                average=\"weighted\",\n",
    "                multi_class=\"ovo\",\n",
    "            ),\n",
    "            append_to=roc_auc,\n",
    "        )\n",
    "        del score_params\n",
    "        del predicted\n",
    "        del proba_predict\n",
    "        _ = gc_collect()\n",
    "\n",
    "        if track_fold_time:\n",
    "            print(\n",
    "                f\"{model_base} fold {fold_num + 1} completed in {time() - fold_begin:.2f} s\"\n",
    "            )\n",
    "            del fold_begin\n",
    "\n",
    "        fold_num += 1\n",
    "        _ = gc_collect()\n",
    "\n",
    "    return AvgScores(\n",
    "        *[\n",
    "            np.mean(_)\n",
    "            for _ in (\n",
    "                accuracy,\n",
    "                adjusted_balanced_accuracy,\n",
    "                balanced_accuracy,\n",
    "                f1,\n",
    "                geometric_mean,\n",
    "                roc_auc,\n",
    "                fit_times,\n",
    "                predict_times,\n",
    "            )\n",
    "        ]\n",
    "    )\n",
    "\n",
    "\n",
    "case = \"ternary\"\n",
    "\n",
    "_ = gc_collect()"
   ]
  },
  {
   "cell_type": "markdown",
   "metadata": {},
   "source": [
    "# Score models"
   ]
  },
  {
   "cell_type": "code",
   "execution_count": 9,
   "metadata": {},
   "outputs": [
    {
     "data": {
      "application/vnd.jupyter.widget-view+json": {
       "model_id": "9249acf79eaf4bef99705214e083fc93",
       "version_major": 2,
       "version_minor": 0
      },
      "text/plain": [
       "  0%|          | 0/9 [00:00<?, ?it/s]"
      ]
     },
     "metadata": {},
     "output_type": "display_data"
    },
    {
     "name": "stdout",
     "output_type": "stream",
     "text": [
      "evaluating GaussianNB...\n",
      "fitted in 4.67 s\n",
      "predicted in 0.81 s\n",
      "accuracy: 0.5225285311990514\n",
      "adjusted balanced accuracy: 0.026259154412920063\n",
      "balanced accuracy: 0.35083943627528\n",
      "f1: 0.4658680198711812\n",
      "geometric mean: 0.20886567873742423\n",
      "roc auc: 0.5167225982170008\n",
      "GaussianNB fold 1 completed in 7.70 s\n",
      "fitted in 4.73 s\n",
      "predicted in 0.65 s\n",
      "accuracy: 0.539396043040611\n",
      "adjusted balanced accuracy: -0.0004862632068856065\n",
      "balanced accuracy: 0.33300915786207624\n",
      "f1: 0.4355775289581292\n",
      "geometric mean: 0.11527242777004311\n",
      "roc auc: 0.4487547091164067\n",
      "GaussianNB fold 2 completed in 7.32 s\n",
      "fitted in 4.21 s\n",
      "predicted in 1.16 s\n",
      "accuracy: 0.47088358610694137\n",
      "adjusted balanced accuracy: 0.06107033636286054\n",
      "balanced accuracy: 0.3740468909085737\n",
      "f1: 0.4461961782485012\n",
      "geometric mean: 0.27995562080465025\n",
      "roc auc: 0.5368002603479595\n",
      "GaussianNB fold 3 completed in 7.98 s\n",
      "fitted in 4.01 s\n",
      "predicted in 1.56 s\n",
      "accuracy: 0.5472317737511108\n",
      "adjusted balanced accuracy: 0.0733155324085789\n",
      "balanced accuracy: 0.3822103549390526\n",
      "f1: 0.46005705074256836\n",
      "geometric mean: 0.1245353069732279\n",
      "roc auc: 0.5644579882595825\n",
      "GaussianNB fold 4 completed in 8.57 s\n",
      "fitted in 4.40 s\n",
      "predicted in 1.03 s\n",
      "accuracy: 0.39632228405516573\n",
      "adjusted balanced accuracy: 0.0535972489070742\n",
      "balanced accuracy: 0.3690648326047161\n",
      "f1: 0.40874798345123164\n",
      "geometric mean: 0.3571566552359018\n",
      "roc auc: 0.5520954166849326\n",
      "GaussianNB fold 5 completed in 7.58 s\n",
      "stored GaussianNB in 39.70 s\n",
      "evaluating GaussianNB...\n",
      "fitted in 0.00 s\n",
      "predicted in 0.00 s\n",
      "accuracy: 0.6380613606047132\n",
      "adjusted balanced accuracy: 0.3077600062064787\n",
      "balanced accuracy: 0.5385066708043191\n",
      "f1: 0.6195963661996139\n",
      "geometric mean: 0.4947421711845881\n",
      "roc auc: 0.7562968139248207\n",
      "GaussianNB fold 1 completed in 1.13 s\n",
      "fitted in 0.00 s\n",
      "predicted in 0.00 s\n",
      "accuracy: 0.6472578965636931\n",
      "adjusted balanced accuracy: 0.3445906261137652\n",
      "balanced accuracy: 0.5630604174091768\n",
      "f1: 0.6360562861690316\n",
      "geometric mean: 0.5315852241561411\n",
      "roc auc: 0.7847417443596756\n",
      "GaussianNB fold 2 completed in 1.08 s\n",
      "fitted in 0.00 s\n",
      "predicted in 0.00 s\n",
      "accuracy: 0.5870904291112377\n",
      "adjusted balanced accuracy: 0.26610734856264395\n",
      "balanced accuracy: 0.510738232375096\n",
      "f1: 0.5733446184095714\n",
      "geometric mean: 0.47149360236507093\n",
      "roc auc: 0.7340942668275835\n",
      "GaussianNB fold 3 completed in 1.06 s\n",
      "fitted in 0.02 s\n",
      "predicted in 0.00 s\n",
      "accuracy: 0.5939419696325774\n",
      "adjusted balanced accuracy: 0.2773872621253972\n",
      "balanced accuracy: 0.5182581747502648\n",
      "f1: 0.5789616169974187\n",
      "geometric mean: 0.4705505664751863\n",
      "roc auc: 0.7332926371945376\n",
      "GaussianNB fold 4 completed in 1.04 s\n",
      "fitted in 0.00 s\n",
      "predicted in 0.00 s\n",
      "accuracy: 0.5699854827002178\n",
      "adjusted balanced accuracy: 0.27031941837848295\n",
      "balanced accuracy: 0.5135462789189886\n",
      "f1: 0.5548750097561309\n",
      "geometric mean: 0.4709970525334294\n",
      "roc auc: 0.7286440256791715\n",
      "GaussianNB fold 5 completed in 1.10 s\n",
      "stored GaussianNB in 6.02 s\n",
      "evaluating LinearSVC...\n",
      "fitted in 864.34 s\n"
     ]
    },
    {
     "name": "stderr",
     "output_type": "stream",
     "text": [
      "Pandas Apply: 100%|██████████| 13494/13494 [00:00<00:00, 142950.44it/s]\n"
     ]
    },
    {
     "name": "stdout",
     "output_type": "stream",
     "text": [
      "predicted in 0.13 s\n",
      "accuracy: 0.480658070253446\n",
      "adjusted balanced accuracy: -0.007166208287326502\n",
      "balanced accuracy: 0.3285558611417823\n",
      "f1: 0.4508589587474622\n",
      "geometric mean: 0.18350003330603318\n",
      "roc auc: 0.5050857900306917\n",
      "LinearSVC fold 1 completed in 865.88 s\n",
      "fitted in 871.39 s\n"
     ]
    },
    {
     "name": "stderr",
     "output_type": "stream",
     "text": [
      "Pandas Apply: 100%|██████████| 11524/11524 [00:00<00:00, 182929.05it/s]\n"
     ]
    },
    {
     "name": "stdout",
     "output_type": "stream",
     "text": [
      "predicted in 0.11 s\n",
      "accuracy: 0.4574800416522041\n",
      "adjusted balanced accuracy: -0.06203689057055533\n",
      "balanced accuracy: 0.2919754062862964\n",
      "f1: 0.40429317773575923\n",
      "geometric mean: 0.13603331910602331\n",
      "roc auc: 0.4706115500854168\n",
      "LinearSVC fold 2 completed in 872.86 s\n",
      "fitted in 717.09 s\n"
     ]
    },
    {
     "name": "stderr",
     "output_type": "stream",
     "text": [
      "Pandas Apply: 100%|██████████| 19319/19319 [00:00<00:00, 161848.79it/s]\n"
     ]
    },
    {
     "name": "stdout",
     "output_type": "stream",
     "text": [
      "predicted in 0.18 s\n",
      "accuracy: 0.4422071535793778\n",
      "adjusted balanced accuracy: -0.03649279648220912\n",
      "balanced accuracy: 0.3090048023451939\n",
      "f1: 0.36379598017430437\n",
      "geometric mean: 0.13388785123654537\n",
      "roc auc: 0.4792562302839608\n",
      "LinearSVC fold 3 completed in 718.71 s\n",
      "fitted in 619.44 s\n"
     ]
    },
    {
     "name": "stderr",
     "output_type": "stream",
     "text": [
      "Pandas Apply: 100%|██████████| 25883/25883 [00:00<00:00, 168788.16it/s]\n"
     ]
    },
    {
     "name": "stdout",
     "output_type": "stream",
     "text": [
      "predicted in 0.20 s\n",
      "accuracy: 0.402503573774292\n",
      "adjusted balanced accuracy: -0.09662271123828035\n",
      "balanced accuracy: 0.26891819250781307\n",
      "f1: 0.353309826369198\n",
      "geometric mean: 0.12883381881066724\n",
      "roc auc: 0.4517123129461807\n",
      "LinearSVC fold 4 completed in 621.18 s\n",
      "fitted in 731.73 s\n"
     ]
    },
    {
     "name": "stderr",
     "output_type": "stream",
     "text": [
      "Pandas Apply: 100%|██████████| 16532/16532 [00:00<00:00, 148959.89it/s]\n"
     ]
    },
    {
     "name": "stdout",
     "output_type": "stream",
     "text": [
      "predicted in 0.15 s\n",
      "accuracy: 0.37031212194531815\n",
      "adjusted balanced accuracy: -0.06626152195318531\n",
      "balanced accuracy: 0.2891589853645431\n",
      "f1: 0.30660649456208977\n",
      "geometric mean: 0.16174186281138941\n",
      "roc auc: 0.46484734494788127\n",
      "LinearSVC fold 5 completed in 733.28 s\n",
      "stored LinearSVC in 3812.49 s\n",
      "evaluating LinearSVC...\n",
      "fitted in 4.42 s\n"
     ]
    },
    {
     "name": "stderr",
     "output_type": "stream",
     "text": [
      "Pandas Apply: 100%|██████████| 13494/13494 [00:00<00:00, 145437.29it/s]\n"
     ]
    },
    {
     "name": "stdout",
     "output_type": "stream",
     "text": [
      "predicted in 0.02 s\n",
      "accuracy: 0.6374685045205276\n",
      "adjusted balanced accuracy: 0.3040386767012251\n",
      "balanced accuracy: 0.5360257844674834\n",
      "f1: 0.6170963497588553\n",
      "geometric mean: 0.4860462291120473\n",
      "roc auc: 0.6489751461531142\n",
      "LinearSVC fold 1 completed in 5.63 s\n",
      "fitted in 4.70 s\n"
     ]
    },
    {
     "name": "stderr",
     "output_type": "stream",
     "text": [
      "Pandas Apply: 100%|██████████| 11524/11524 [00:00<00:00, 186468.89it/s]\n"
     ]
    },
    {
     "name": "stdout",
     "output_type": "stream",
     "text": [
      "predicted in 0.00 s\n",
      "accuracy: 0.6539396043040611\n",
      "adjusted balanced accuracy: 0.34252163311816813\n",
      "balanced accuracy: 0.5616810887454454\n",
      "f1: 0.6391967021981823\n",
      "geometric mean: 0.5224186127393269\n",
      "roc auc: 0.668285005580012\n",
      "LinearSVC fold 2 completed in 5.91 s\n",
      "fitted in 3.37 s\n"
     ]
    },
    {
     "name": "stderr",
     "output_type": "stream",
     "text": [
      "Pandas Apply: 100%|██████████| 19319/19319 [00:00<00:00, 153388.76it/s]\n"
     ]
    },
    {
     "name": "stdout",
     "output_type": "stream",
     "text": [
      "predicted in 0.00 s\n",
      "accuracy: 0.5896785547906206\n",
      "adjusted balanced accuracy: 0.2663810056584281\n",
      "balanced accuracy: 0.5109206704389521\n",
      "f1: 0.5741764045879648\n",
      "geometric mean: 0.46539458808529416\n",
      "roc auc: 0.6345686579602541\n",
      "LinearSVC fold 3 completed in 4.60 s\n",
      "fitted in 2.72 s\n"
     ]
    },
    {
     "name": "stderr",
     "output_type": "stream",
     "text": [
      "Pandas Apply: 100%|██████████| 25883/25883 [00:00<00:00, 193970.07it/s]\n"
     ]
    },
    {
     "name": "stdout",
     "output_type": "stream",
     "text": [
      "predicted in 0.00 s\n",
      "accuracy: 0.5959123749178998\n",
      "adjusted balanced accuracy: 0.2777137483673282\n",
      "balanced accuracy: 0.5184758322448855\n",
      "f1: 0.5795291229572972\n",
      "geometric mean: 0.4665718044394758\n",
      "roc auc: 0.6383965087448719\n",
      "LinearSVC fold 4 completed in 3.91 s\n",
      "fitted in 3.72 s\n"
     ]
    },
    {
     "name": "stderr",
     "output_type": "stream",
     "text": [
      "Pandas Apply: 100%|██████████| 16532/16532 [00:00<00:00, 186688.04it/s]\n"
     ]
    },
    {
     "name": "stdout",
     "output_type": "stream",
     "text": [
      "predicted in 0.00 s\n",
      "accuracy: 0.5751875151221872\n",
      "adjusted balanced accuracy: 0.27671912782263586\n",
      "balanced accuracy: 0.5178127518817572\n",
      "f1: 0.5590303043049418\n",
      "geometric mean: 0.470555894538047\n",
      "roc auc: 0.6415560494771588\n",
      "LinearSVC fold 5 completed in 4.93 s\n",
      "stored LinearSVC in 25.53 s\n",
      "evaluating LogRegCV_b...\n",
      "fitted in 468.61 s\n",
      "predicted in 0.13 s\n",
      "accuracy: 0.5629909589447162\n",
      "adjusted balanced accuracy: -0.00612573737069949\n",
      "balanced accuracy: 0.32924950841953365\n",
      "f1: 0.4331363721485441\n",
      "geometric mean: 0.0655714539364993\n",
      "roc auc: 0.5143353568619847\n",
      "LogRegCV_b fold 1 completed in 470.47 s\n",
      "fitted in 477.17 s\n",
      "predicted in 0.13 s\n",
      "accuracy: 0.5611766747657063\n",
      "adjusted balanced accuracy: 0.0010861547714598183\n",
      "balanced accuracy: 0.3340574365143065\n",
      "f1: 0.4282770693985039\n",
      "geometric mean: 0.06730657043555646\n",
      "roc auc: 0.5287874191506752\n",
      "LogRegCV_b fold 2 completed in 479.24 s\n",
      "fitted in 421.67 s\n",
      "predicted in 0.14 s\n",
      "accuracy: 0.5163310730369066\n",
      "adjusted balanced accuracy: -0.0029111890807171355\n",
      "balanced accuracy: 0.3313925406128552\n",
      "f1: 0.35944697165993883\n",
      "geometric mean: 0.024380955995227622\n",
      "roc auc: 0.4948948450828722\n",
      "LogRegCV_b fold 3 completed in 424.10 s\n",
      "fitted in 381.89 s\n",
      "predicted in 0.20 s\n",
      "accuracy: 0.5311208128887687\n",
      "adjusted balanced accuracy: -0.0033464588251097267\n",
      "balanced accuracy: 0.33110236078326016\n",
      "f1: 0.3883225275412189\n",
      "geometric mean: 0.05170655344673486\n",
      "roc auc: 0.4928770015709054\n",
      "LogRegCV_b fold 4 completed in 384.27 s\n",
      "fitted in 443.54 s\n",
      "predicted in 0.14 s\n",
      "accuracy: 0.45989595935156063\n",
      "adjusted balanced accuracy: 0.00012072096812024145\n",
      "balanced accuracy: 0.3334138139787468\n",
      "f1: 0.290699139443643\n",
      "geometric mean: 0.008566748040591435\n",
      "roc auc: 0.48897606963653784\n",
      "LogRegCV_b fold 5 completed in 445.85 s\n",
      "stored LogRegCV_b in 2204.49 s\n",
      "evaluating LogRegCV_b...\n",
      "fitted in 2.20 s\n",
      "predicted in 0.00 s\n",
      "accuracy: 0.5900400177856825\n",
      "adjusted balanced accuracy: 0.37043776021983515\n",
      "balanced accuracy: 0.5802918401465568\n",
      "f1: 0.5974302639813209\n",
      "geometric mean: 0.5764786760612144\n",
      "roc auc: 0.7582651003113747\n",
      "LogRegCV_b fold 1 completed in 3.72 s\n",
      "fitted in 3.02 s\n",
      "predicted in 0.00 s\n",
      "accuracy: 0.6111593196806664\n",
      "adjusted balanced accuracy: 0.4197551373628006\n",
      "balanced accuracy: 0.6131700915752004\n",
      "f1: 0.6203847960760911\n",
      "geometric mean: 0.6117767649674357\n",
      "roc auc: 0.7867768505380992\n",
      "LogRegCV_b fold 2 completed in 4.56 s\n",
      "fitted in 1.85 s\n",
      "predicted in 0.02 s\n",
      "accuracy: 0.5566540711216936\n",
      "adjusted balanced accuracy: 0.325424134572968\n",
      "balanced accuracy: 0.5502827563819787\n",
      "f1: 0.5652337835717566\n",
      "geometric mean: 0.5475463439272236\n",
      "roc auc: 0.7371374220490929\n",
      "LogRegCV_b fold 3 completed in 3.32 s\n",
      "fitted in 1.60 s\n",
      "predicted in 0.00 s\n",
      "accuracy: 0.5566974462002087\n",
      "adjusted balanced accuracy: 0.32240858387135757\n",
      "balanced accuracy: 0.5482723892475717\n",
      "f1: 0.5623204619996945\n",
      "geometric mean: 0.5399222487437851\n",
      "roc auc: 0.7360979386806412\n",
      "LogRegCV_b fold 4 completed in 2.94 s\n",
      "fitted in 2.00 s\n",
      "predicted in 0.00 s\n",
      "accuracy: 0.5505685942414711\n",
      "adjusted balanced accuracy: 0.31586478574808846\n",
      "balanced accuracy: 0.5439098571653923\n",
      "f1: 0.5517966136691785\n",
      "geometric mean: 0.5351218088803779\n",
      "roc auc: 0.7310885182998172\n",
      "LogRegCV_b fold 5 completed in 3.07 s\n",
      "stored LogRegCV_b in 18.18 s\n",
      "evaluating RidgeCV_b...\n",
      "fitted in 35.96 s\n"
     ]
    },
    {
     "name": "stderr",
     "output_type": "stream",
     "text": [
      "Pandas Apply: 100%|██████████| 13494/13494 [00:00<00:00, 200120.71it/s]\n"
     ]
    },
    {
     "name": "stdout",
     "output_type": "stream",
     "text": [
      "predicted in 0.11 s\n",
      "accuracy: 0.4376018971394694\n",
      "adjusted balanced accuracy: 0.12456151511553219\n",
      "balanced accuracy: 0.4163743434103548\n",
      "f1: 0.4508162623131507\n",
      "geometric mean: 0.4132453655939684\n",
      "roc auc: 0.5556286237229485\n",
      "RidgeCV_b fold 1 completed in 37.55 s\n",
      "fitted in 37.41 s\n"
     ]
    },
    {
     "name": "stderr",
     "output_type": "stream",
     "text": [
      "Pandas Apply: 100%|██████████| 11524/11524 [00:00<00:00, 163734.22it/s]\n"
     ]
    },
    {
     "name": "stdout",
     "output_type": "stream",
     "text": [
      "predicted in 0.12 s\n",
      "accuracy: 0.35196112460951057\n",
      "adjusted balanced accuracy: -0.01737299978225398\n",
      "balanced accuracy: 0.3217513334784973\n",
      "f1: 0.36366488811508635\n",
      "geometric mean: 0.29240946680381913\n",
      "roc auc: 0.4895182359463631\n",
      "RidgeCV_b fold 2 completed in 38.99 s\n",
      "fitted in 33.78 s\n"
     ]
    },
    {
     "name": "stderr",
     "output_type": "stream",
     "text": [
      "Pandas Apply: 100%|██████████| 19319/19319 [00:00<00:00, 131008.85it/s]\n"
     ]
    },
    {
     "name": "stdout",
     "output_type": "stream",
     "text": [
      "predicted in 0.15 s\n",
      "accuracy: 0.3866659764998188\n",
      "adjusted balanced accuracy: 0.02718680210679519\n",
      "balanced accuracy: 0.3514578680711968\n",
      "f1: 0.3835733838459946\n",
      "geometric mean: 0.33206737425574306\n",
      "roc auc: 0.5053599584869832\n",
      "RidgeCV_b fold 3 completed in 35.56 s\n",
      "fitted in 30.39 s\n"
     ]
    },
    {
     "name": "stderr",
     "output_type": "stream",
     "text": [
      "Pandas Apply: 100%|██████████| 25883/25883 [00:00<00:00, 191922.87it/s]\n"
     ]
    },
    {
     "name": "stdout",
     "output_type": "stream",
     "text": [
      "predicted in 0.21 s\n",
      "accuracy: 0.39241973496117144\n",
      "adjusted balanced accuracy: 0.02051290809487188\n",
      "balanced accuracy: 0.34700860539658124\n",
      "f1: 0.39172742483082484\n",
      "geometric mean: 0.30776984384144224\n",
      "roc auc: 0.5070653127048054\n",
      "RidgeCV_b fold 4 completed in 32.24 s\n",
      "fitted in 34.18 s\n"
     ]
    },
    {
     "name": "stderr",
     "output_type": "stream",
     "text": [
      "Pandas Apply: 100%|██████████| 16532/16532 [00:00<00:00, 155417.01it/s]\n"
     ]
    },
    {
     "name": "stdout",
     "output_type": "stream",
     "text": [
      "predicted in 0.15 s\n",
      "accuracy: 0.38434551173481735\n",
      "adjusted balanced accuracy: -0.00971816136161152\n",
      "balanced accuracy: 0.32685455909225897\n",
      "f1: 0.3616018995859819\n",
      "geometric mean: 0.26642207809522656\n",
      "roc auc: 0.4922342420991428\n",
      "RidgeCV_b fold 5 completed in 35.77 s\n",
      "stored RidgeCV_b in 180.70 s\n",
      "evaluating RidgeCV_b...\n",
      "fitted in 0.08 s\n"
     ]
    },
    {
     "name": "stderr",
     "output_type": "stream",
     "text": [
      "Pandas Apply: 100%|██████████| 13494/13494 [00:00<00:00, 144879.59it/s]\n"
     ]
    },
    {
     "name": "stdout",
     "output_type": "stream",
     "text": [
      "predicted in 0.00 s\n",
      "accuracy: 0.5876685934489403\n",
      "adjusted balanced accuracy: 0.3707451486635353\n",
      "balanced accuracy: 0.5804967657756902\n",
      "f1: 0.5948890174745401\n",
      "geometric mean: 0.5755242241276071\n",
      "roc auc: 0.6776672037803662\n",
      "RidgeCV_b fold 1 completed in 1.40 s\n",
      "fitted in 0.09 s\n"
     ]
    },
    {
     "name": "stderr",
     "output_type": "stream",
     "text": [
      "Pandas Apply: 100%|██████████| 11524/11524 [00:00<00:00, 150150.69it/s]\n"
     ]
    },
    {
     "name": "stdout",
     "output_type": "stream",
     "text": [
      "predicted in 0.00 s\n",
      "accuracy: 0.6115064213814647\n",
      "adjusted balanced accuracy: 0.4212308842365047\n",
      "balanced accuracy: 0.6141539228243365\n",
      "f1: 0.62015744640365\n",
      "geometric mean: 0.6119343143689375\n",
      "roc auc: 0.7018082395821968\n",
      "RidgeCV_b fold 2 completed in 1.32 s\n",
      "fitted in 0.08 s\n"
     ]
    },
    {
     "name": "stderr",
     "output_type": "stream",
     "text": [
      "Pandas Apply: 100%|██████████| 19319/19319 [00:00<00:00, 168581.25it/s]\n"
     ]
    },
    {
     "name": "stdout",
     "output_type": "stream",
     "text": [
      "predicted in 0.00 s\n",
      "accuracy: 0.557223458771158\n",
      "adjusted balanced accuracy: 0.32751355153135836\n",
      "balanced accuracy: 0.5516757010209056\n",
      "f1: 0.5653223726678229\n",
      "geometric mean: 0.5476720483348365\n",
      "roc auc: 0.6621871846768467\n",
      "RidgeCV_b fold 3 completed in 1.34 s\n",
      "fitted in 0.06 s\n"
     ]
    },
    {
     "name": "stderr",
     "output_type": "stream",
     "text": [
      "Pandas Apply: 100%|██████████| 25883/25883 [00:00<00:00, 156434.29it/s]\n"
     ]
    },
    {
     "name": "stdout",
     "output_type": "stream",
     "text": [
      "predicted in 0.00 s\n",
      "accuracy: 0.5579724143260055\n",
      "adjusted balanced accuracy: 0.32417982697341546\n",
      "balanced accuracy: 0.549453217982277\n",
      "f1: 0.5627880487816109\n",
      "geometric mean: 0.5389286351699354\n",
      "roc auc: 0.6581711051837135\n",
      "RidgeCV_b fold 4 completed in 1.31 s\n",
      "fitted in 0.08 s\n"
     ]
    },
    {
     "name": "stderr",
     "output_type": "stream",
     "text": [
      "Pandas Apply: 100%|██████████| 16532/16532 [00:00<00:00, 166339.78it/s]\n"
     ]
    },
    {
     "name": "stdout",
     "output_type": "stream",
     "text": [
      "predicted in 0.00 s\n",
      "accuracy: 0.5519598354706025\n",
      "adjusted balanced accuracy: 0.31814440831520097\n",
      "balanced accuracy: 0.5454296055434673\n",
      "f1: 0.5524509526350865\n",
      "geometric mean: 0.5352370304077441\n",
      "roc auc: 0.6594481640274075\n",
      "RidgeCV_b fold 5 completed in 1.30 s\n",
      "stored RidgeCV_b in 7.25 s\n",
      "evaluating RidgeCV...\n",
      "fitted in 35.57 s\n"
     ]
    },
    {
     "name": "stderr",
     "output_type": "stream",
     "text": [
      "Pandas Apply: 100%|██████████| 13494/13494 [00:00<00:00, 219203.63it/s]\n"
     ]
    },
    {
     "name": "stdout",
     "output_type": "stream",
     "text": [
      "predicted in 0.16 s\n",
      "accuracy: 0.5830739587965021\n",
      "adjusted balanced accuracy: 0.0\n",
      "balanced accuracy: 0.3333333333333333\n",
      "f1: 0.429512771071143\n",
      "geometric mean: 0.0\n",
      "roc auc: 0.5\n",
      "RidgeCV fold 1 completed in 37.09 s\n",
      "fitted in 36.34 s\n"
     ]
    },
    {
     "name": "stderr",
     "output_type": "stream",
     "text": [
      "Pandas Apply: 100%|██████████| 11524/11524 [00:00<00:00, 173353.03it/s]\n"
     ]
    },
    {
     "name": "stdout",
     "output_type": "stream",
     "text": [
      "predicted in 0.15 s\n",
      "accuracy: 0.5741062131204443\n",
      "adjusted balanced accuracy: 0.0\n",
      "balanced accuracy: 0.3333333333333333\n",
      "f1: 0.41877471951541995\n",
      "geometric mean: 0.0\n",
      "roc auc: 0.5\n",
      "RidgeCV fold 2 completed in 37.91 s\n",
      "fitted in 32.86 s\n"
     ]
    },
    {
     "name": "stderr",
     "output_type": "stream",
     "text": [
      "Pandas Apply: 100%|██████████| 19319/19319 [00:00<00:00, 180338.24it/s]\n"
     ]
    },
    {
     "name": "stdout",
     "output_type": "stream",
     "text": [
      "predicted in 0.16 s\n",
      "accuracy: 0.5216626119364356\n",
      "adjusted balanced accuracy: 0.0\n",
      "balanced accuracy: 0.3333333333333333\n",
      "f1: 0.35767702847878347\n",
      "geometric mean: 0.0\n",
      "roc auc: 0.5\n",
      "RidgeCV fold 3 completed in 34.52 s\n",
      "fitted in 29.73 s\n"
     ]
    },
    {
     "name": "stderr",
     "output_type": "stream",
     "text": [
      "Pandas Apply: 100%|██████████| 25883/25883 [00:00<00:00, 173414.58it/s]\n"
     ]
    },
    {
     "name": "stdout",
     "output_type": "stream",
     "text": [
      "predicted in 0.21 s\n",
      "accuracy: 0.5428659738052003\n",
      "adjusted balanced accuracy: 0.0\n",
      "balanced accuracy: 0.3333333333333333\n",
      "f1: 0.38202082425686723\n",
      "geometric mean: 0.0\n",
      "roc auc: 0.5\n",
      "RidgeCV fold 4 completed in 31.43 s\n",
      "fitted in 34.07 s\n"
     ]
    },
    {
     "name": "stderr",
     "output_type": "stream",
     "text": [
      "Pandas Apply: 100%|██████████| 16532/16532 [00:00<00:00, 191888.45it/s]\n"
     ]
    },
    {
     "name": "stdout",
     "output_type": "stream",
     "text": [
      "predicted in 0.15 s\n",
      "accuracy: 0.4601379143479313\n",
      "adjusted balanced accuracy: 0.0\n",
      "balanced accuracy: 0.3333333333333333\n",
      "f1: 0.29000945477813606\n",
      "geometric mean: 0.0\n",
      "roc auc: 0.5\n",
      "RidgeCV fold 5 completed in 35.63 s\n",
      "stored RidgeCV in 177.15 s\n",
      "evaluating RidgeCV...\n",
      "fitted in 0.08 s\n"
     ]
    },
    {
     "name": "stderr",
     "output_type": "stream",
     "text": [
      "Pandas Apply: 100%|██████████| 13494/13494 [00:00<00:00, 182087.64it/s]\n"
     ]
    },
    {
     "name": "stdout",
     "output_type": "stream",
     "text": [
      "predicted in 0.00 s\n",
      "accuracy: 0.6378390395731436\n",
      "adjusted balanced accuracy: 0.2979933778199464\n",
      "balanced accuracy: 0.5319955852132976\n",
      "f1: 0.6144854065572181\n",
      "geometric mean: 0.4746169656523863\n",
      "roc auc: 0.6461240415864353\n",
      "RidgeCV fold 1 completed in 1.31 s\n",
      "fitted in 0.08 s\n"
     ]
    },
    {
     "name": "stderr",
     "output_type": "stream",
     "text": [
      "Pandas Apply: 100%|██████████| 11524/11524 [00:00<00:00, 189504.31it/s]\n"
     ]
    },
    {
     "name": "stdout",
     "output_type": "stream",
     "text": [
      "predicted in 0.00 s\n",
      "accuracy: 0.6555883373828532\n",
      "adjusted balanced accuracy: 0.33554557845350197\n",
      "balanced accuracy: 0.557030385635668\n",
      "f1: 0.6375871421633216\n",
      "geometric mean: 0.5101152202178185\n",
      "roc auc: 0.6652067560843187\n",
      "RidgeCV fold 2 completed in 1.30 s\n",
      "fitted in 0.08 s\n"
     ]
    },
    {
     "name": "stderr",
     "output_type": "stream",
     "text": [
      "Pandas Apply: 100%|██████████| 19319/19319 [00:00<00:00, 173376.87it/s]\n"
     ]
    },
    {
     "name": "stdout",
     "output_type": "stream",
     "text": [
      "predicted in 0.00 s\n",
      "accuracy: 0.592059630415653\n",
      "adjusted balanced accuracy: 0.2631642271494146\n",
      "balanced accuracy: 0.5087761514329431\n",
      "f1: 0.5737237521393378\n",
      "geometric mean: 0.45700358903594734\n",
      "roc auc: 0.6332142370593307\n",
      "RidgeCV fold 3 completed in 1.32 s\n",
      "fitted in 0.05 s\n"
     ]
    },
    {
     "name": "stderr",
     "output_type": "stream",
     "text": [
      "Pandas Apply: 100%|██████████| 25883/25883 [00:00<00:00, 165331.06it/s]\n"
     ]
    },
    {
     "name": "stdout",
     "output_type": "stream",
     "text": [
      "predicted in 0.00 s\n",
      "accuracy: 0.5968396244639339\n",
      "adjusted balanced accuracy: 0.2735750956796148\n",
      "balanced accuracy: 0.5157167304530765\n",
      "f1: 0.5779397230294427\n",
      "geometric mean: 0.4570927899581967\n",
      "roc auc: 0.6365956048603347\n",
      "RidgeCV fold 4 completed in 1.30 s\n",
      "fitted in 0.08 s\n"
     ]
    },
    {
     "name": "stderr",
     "output_type": "stream",
     "text": [
      "Pandas Apply: 100%|██████████| 16532/16532 [00:00<00:00, 138090.54it/s]\n"
     ]
    },
    {
     "name": "stdout",
     "output_type": "stream",
     "text": [
      "predicted in 0.00 s\n",
      "accuracy: 0.5733728526494072\n",
      "adjusted balanced accuracy: 0.2688585239577664\n",
      "balanced accuracy: 0.5125723493051776\n",
      "f1: 0.5546303205291021\n",
      "geometric mean: 0.4587846132143123\n",
      "roc auc: 0.6377730561829981\n",
      "RidgeCV fold 5 completed in 1.29 s\n",
      "stored RidgeCV in 7.11 s\n",
      "evaluating SGD...\n",
      "fitted in 14.19 s\n"
     ]
    },
    {
     "name": "stderr",
     "output_type": "stream",
     "text": [
      "Pandas Apply: 100%|██████████| 13494/13494 [00:00<00:00, 214762.78it/s]\n"
     ]
    },
    {
     "name": "stdout",
     "output_type": "stream",
     "text": [
      "predicted in 0.17 s\n",
      "accuracy: 0.5824811027123166\n",
      "adjusted balanced accuracy: -0.0005083884087442313\n",
      "balanced accuracy: 0.3329944077275038\n",
      "f1: 0.42935744014807076\n",
      "geometric mean: 0.0\n",
      "roc auc: 0.49979785164817975\n",
      "SGD fold 1 completed in 15.70 s\n",
      "fitted in 13.11 s\n"
     ]
    },
    {
     "name": "stderr",
     "output_type": "stream",
     "text": [
      "Pandas Apply: 100%|██████████| 11524/11524 [00:00<00:00, 106709.08it/s]\n"
     ]
    },
    {
     "name": "stdout",
     "output_type": "stream",
     "text": [
      "predicted in 0.11 s\n",
      "accuracy: 0.5734987851440472\n",
      "adjusted balanced accuracy: -0.0004134634229316369\n",
      "balanced accuracy: 0.3330576910513789\n",
      "f1: 0.41929441832278375\n",
      "geometric mean: 0.0\n",
      "roc auc: 0.5002684712135775\n",
      "SGD fold 2 completed in 14.61 s\n",
      "fitted in 13.74 s\n"
     ]
    },
    {
     "name": "stderr",
     "output_type": "stream",
     "text": [
      "Pandas Apply: 100%|██████████| 19319/19319 [00:00<00:00, 151922.63it/s]\n"
     ]
    },
    {
     "name": "stdout",
     "output_type": "stream",
     "text": [
      "predicted in 0.23 s\n",
      "accuracy: 0.5204720741239195\n",
      "adjusted balanced accuracy: -0.0008079642830527977\n",
      "balanced accuracy: 0.3327946904779648\n",
      "f1: 0.3578124821724677\n",
      "geometric mean: 0.0072644425894501825\n",
      "roc auc: 0.49956419287430187\n",
      "SGD fold 3 completed in 15.40 s\n",
      "fitted in 13.15 s\n"
     ]
    },
    {
     "name": "stderr",
     "output_type": "stream",
     "text": [
      "Pandas Apply: 100%|██████████| 25883/25883 [00:00<00:00, 178211.62it/s]\n"
     ]
    },
    {
     "name": "stdout",
     "output_type": "stream",
     "text": [
      "predicted in 0.21 s\n",
      "accuracy: 0.540895568519878\n",
      "adjusted balanced accuracy: -0.0016576338223685536\n",
      "balanced accuracy: 0.33222824411842095\n",
      "f1: 0.3816429784993808\n",
      "geometric mean: 0.003858407716084935\n",
      "roc auc: 0.49923400772478543\n",
      "SGD fold 4 completed in 14.86 s\n",
      "fitted in 13.83 s\n"
     ]
    },
    {
     "name": "stderr",
     "output_type": "stream",
     "text": [
      "Pandas Apply: 100%|██████████| 16532/16532 [00:00<00:00, 176904.15it/s]\n"
     ]
    },
    {
     "name": "stdout",
     "output_type": "stream",
     "text": [
      "predicted in 0.23 s\n",
      "accuracy: 0.45923058311154125\n",
      "adjusted balanced accuracy: -0.0009588469034155777\n",
      "balanced accuracy: 0.3326941020643896\n",
      "f1: 0.289843973413056\n",
      "geometric mean: 0.0\n",
      "roc auc: 0.49951054696281993\n",
      "SGD fold 5 completed in 15.45 s\n",
      "stored SGD in 76.58 s\n",
      "evaluating SGD...\n",
      "fitted in 0.08 s\n"
     ]
    },
    {
     "name": "stderr",
     "output_type": "stream",
     "text": [
      "Pandas Apply: 100%|██████████| 13494/13494 [00:00<00:00, 203143.23it/s]\n"
     ]
    },
    {
     "name": "stdout",
     "output_type": "stream",
     "text": [
      "predicted in 0.00 s\n",
      "accuracy: 0.6339854750259375\n",
      "adjusted balanced accuracy: 0.310337446273747\n",
      "balanced accuracy: 0.540224964182498\n",
      "f1: 0.6151651552794095\n",
      "geometric mean: 0.48921262363930557\n",
      "roc auc: 0.6520969445544906\n",
      "SGD fold 1 completed in 1.26 s\n",
      "fitted in 0.12 s\n"
     ]
    },
    {
     "name": "stderr",
     "output_type": "stream",
     "text": [
      "Pandas Apply: 100%|██████████| 11524/11524 [00:00<00:00, 202262.86it/s]\n"
     ]
    },
    {
     "name": "stdout",
     "output_type": "stream",
     "text": [
      "predicted in 0.00 s\n",
      "accuracy: 0.6538528288788615\n",
      "adjusted balanced accuracy: 0.3483590083617189\n",
      "balanced accuracy: 0.5655726722411459\n",
      "f1: 0.64011718901695\n",
      "geometric mean: 0.5272007483873189\n",
      "roc auc: 0.6710528079441409\n",
      "SGD fold 2 completed in 1.31 s\n",
      "fitted in 0.10 s\n"
     ]
    },
    {
     "name": "stderr",
     "output_type": "stream",
     "text": [
      "Pandas Apply: 100%|██████████| 19319/19319 [00:00<00:00, 167899.39it/s]\n"
     ]
    },
    {
     "name": "stdout",
     "output_type": "stream",
     "text": [
      "predicted in 0.00 s\n",
      "accuracy: 0.5926807805787049\n",
      "adjusted balanced accuracy: 0.26981122241017397\n",
      "balanced accuracy: 0.5132074816067826\n",
      "f1: 0.5760714522889221\n",
      "geometric mean: 0.4634921047254959\n",
      "roc auc: 0.6365733989547284\n",
      "SGD fold 3 completed in 1.33 s\n",
      "fitted in 0.06 s\n"
     ]
    },
    {
     "name": "stderr",
     "output_type": "stream",
     "text": [
      "Pandas Apply: 100%|██████████| 25883/25883 [00:00<00:00, 168115.63it/s]\n"
     ]
    },
    {
     "name": "stdout",
     "output_type": "stream",
     "text": [
      "predicted in 0.00 s\n",
      "accuracy: 0.5989259359425105\n",
      "adjusted balanced accuracy: 0.2683425315785089\n",
      "balanced accuracy: 0.5122283543856726\n",
      "f1: 0.5768325560228834\n",
      "geometric mean: 0.44555739577028225\n",
      "roc auc: 0.6342291788221291\n",
      "SGD fold 4 completed in 1.29 s\n",
      "fitted in 0.10 s\n"
     ]
    },
    {
     "name": "stderr",
     "output_type": "stream",
     "text": [
      "Pandas Apply: 100%|██████████| 16532/16532 [00:00<00:00, 121327.91it/s]\n"
     ]
    },
    {
     "name": "stdout",
     "output_type": "stream",
     "text": [
      "predicted in 0.00 s\n",
      "accuracy: 0.5753084926203726\n",
      "adjusted balanced accuracy: 0.2722783667208222\n",
      "balanced accuracy: 0.5148522444805481\n",
      "f1: 0.5563989680567879\n",
      "geometric mean: 0.45828506021910737\n",
      "roc auc: 0.6398126454737727\n",
      "SGD fold 5 completed in 1.35 s\n",
      "stored SGD in 7.12 s\n",
      "evaluating SGD_b...\n",
      "fitted in 15.41 s\n"
     ]
    },
    {
     "name": "stderr",
     "output_type": "stream",
     "text": [
      "Pandas Apply: 100%|██████████| 13494/13494 [00:00<00:00, 171357.80it/s]\n"
     ]
    },
    {
     "name": "stdout",
     "output_type": "stream",
     "text": [
      "predicted in 0.21 s\n",
      "accuracy: 0.5354231510300874\n",
      "adjusted balanced accuracy: 0.028276137247004948\n",
      "balanced accuracy: 0.3521840914980033\n",
      "f1: 0.4578579374013354\n",
      "geometric mean: 0.096411217510033\n",
      "roc auc: 0.513232270784895\n",
      "SGD_b fold 1 completed in 16.96 s\n",
      "fitted in 15.26 s\n"
     ]
    },
    {
     "name": "stderr",
     "output_type": "stream",
     "text": [
      "Pandas Apply: 100%|██████████| 11524/11524 [00:00<00:00, 120032.18it/s]\n"
     ]
    },
    {
     "name": "stdout",
     "output_type": "stream",
     "text": [
      "predicted in 0.11 s\n",
      "accuracy: 0.5288094411662617\n",
      "adjusted balanced accuracy: -0.008950667127907761\n",
      "balanced accuracy: 0.32736622191472814\n",
      "f1: 0.42623317703440405\n",
      "geometric mean: 0.06939200341102802\n",
      "roc auc: 0.49594453635952235\n",
      "SGD_b fold 2 completed in 16.70 s\n",
      "fitted in 13.14 s\n"
     ]
    },
    {
     "name": "stderr",
     "output_type": "stream",
     "text": [
      "Pandas Apply: 100%|██████████| 19319/19319 [00:00<00:00, 161467.26it/s]\n"
     ]
    },
    {
     "name": "stdout",
     "output_type": "stream",
     "text": [
      "predicted in 0.17 s\n",
      "accuracy: 0.4884828407267457\n",
      "adjusted balanced accuracy: 0.015348512051317624\n",
      "balanced accuracy: 0.3435656747008784\n",
      "f1: 0.38606350262003913\n",
      "geometric mean: 0.11239377251856475\n",
      "roc auc: 0.5059963866474353\n",
      "SGD_b fold 3 completed in 14.73 s\n",
      "fitted in 13.75 s\n"
     ]
    },
    {
     "name": "stderr",
     "output_type": "stream",
     "text": [
      "Pandas Apply: 100%|██████████| 25883/25883 [00:00<00:00, 179255.36it/s]\n"
     ]
    },
    {
     "name": "stdout",
     "output_type": "stream",
     "text": [
      "predicted in 0.19 s\n",
      "accuracy: 0.5121508325928216\n",
      "adjusted balanced accuracy: -0.014305442255483606\n",
      "balanced accuracy: 0.3237963718296776\n",
      "f1: 0.38576609402251655\n",
      "geometric mean: 0.05306907530828948\n",
      "roc auc: 0.49217362930700653\n",
      "SGD_b fold 4 completed in 15.46 s\n",
      "fitted in 13.18 s\n"
     ]
    },
    {
     "name": "stderr",
     "output_type": "stream",
     "text": [
      "Pandas Apply: 100%|██████████| 16532/16532 [00:00<00:00, 185736.42it/s]\n"
     ]
    },
    {
     "name": "stdout",
     "output_type": "stream",
     "text": [
      "predicted in 0.17 s\n",
      "accuracy: 0.4203968061940479\n",
      "adjusted balanced accuracy: -0.0350947842092385\n",
      "balanced accuracy: 0.3099368105271743\n",
      "f1: 0.2896998319917965\n",
      "geometric mean: 0.0638922029451136\n",
      "roc auc: 0.4812315567434481\n",
      "SGD_b fold 5 completed in 14.76 s\n",
      "stored SGD_b in 79.20 s\n",
      "evaluating SGD_b...\n",
      "fitted in 0.10 s\n"
     ]
    },
    {
     "name": "stderr",
     "output_type": "stream",
     "text": [
      "Pandas Apply: 100%|██████████| 13494/13494 [00:00<00:00, 161910.55it/s]\n"
     ]
    },
    {
     "name": "stdout",
     "output_type": "stream",
     "text": [
      "predicted in 0.02 s\n",
      "accuracy: 0.6026382095746258\n",
      "adjusted balanced accuracy: 0.349907347003153\n",
      "balanced accuracy: 0.566604898002102\n",
      "f1: 0.6054850514380169\n",
      "geometric mean: 0.5556158155375837\n",
      "roc auc: 0.6691586056884988\n",
      "SGD_b fold 1 completed in 1.31 s\n",
      "fitted in 0.13 s\n"
     ]
    },
    {
     "name": "stderr",
     "output_type": "stream",
     "text": [
      "Pandas Apply: 100%|██████████| 11524/11524 [00:00<00:00, 152624.17it/s]\n"
     ]
    },
    {
     "name": "stdout",
     "output_type": "stream",
     "text": [
      "predicted in 0.01 s\n",
      "accuracy: 0.6358035404373481\n",
      "adjusted balanced accuracy: 0.3844178277121407\n",
      "balanced accuracy: 0.5896118851414272\n",
      "f1: 0.6352908449948391\n",
      "geometric mean: 0.5744055136868966\n",
      "roc auc: 0.6867033771402641\n",
      "SGD_b fold 2 completed in 1.30 s\n",
      "fitted in 0.08 s\n"
     ]
    },
    {
     "name": "stderr",
     "output_type": "stream",
     "text": [
      "Pandas Apply: 100%|██████████| 19319/19319 [00:00<00:00, 164538.12it/s]\n"
     ]
    },
    {
     "name": "stdout",
     "output_type": "stream",
     "text": [
      "predicted in 0.01 s\n",
      "accuracy: 0.5763755887985921\n",
      "adjusted balanced accuracy: 0.3083545964990118\n",
      "balanced accuracy: 0.5389030643326745\n",
      "f1: 0.5789912369830504\n",
      "geometric mean: 0.5280630563866628\n",
      "roc auc: 0.6544274850876046\n",
      "SGD_b fold 3 completed in 1.33 s\n",
      "fitted in 0.08 s\n"
     ]
    },
    {
     "name": "stderr",
     "output_type": "stream",
     "text": [
      "Pandas Apply: 100%|██████████| 25883/25883 [00:00<00:00, 159326.85it/s]\n"
     ]
    },
    {
     "name": "stdout",
     "output_type": "stream",
     "text": [
      "predicted in 0.02 s\n",
      "accuracy: 0.5776378317814782\n",
      "adjusted balanced accuracy: 0.30239029760116654\n",
      "balanced accuracy: 0.5349268650674444\n",
      "f1: 0.5758486990753182\n",
      "geometric mean: 0.5129248943508617\n",
      "roc auc: 0.6492341856564943\n",
      "SGD_b fold 4 completed in 1.30 s\n",
      "fitted in 0.08 s\n"
     ]
    },
    {
     "name": "stderr",
     "output_type": "stream",
     "text": [
      "Pandas Apply: 100%|██████████| 16532/16532 [00:00<00:00, 178539.84it/s]\n"
     ]
    },
    {
     "name": "stdout",
     "output_type": "stream",
     "text": [
      "predicted in 0.00 s\n",
      "accuracy: 0.5594604403580934\n",
      "adjusted balanced accuracy: 0.30916407951735647\n",
      "balanced accuracy: 0.5394427196782376\n",
      "f1: 0.5591347128755585\n",
      "geometric mean: 0.5267282024311403\n",
      "roc auc: 0.656123848140835\n",
      "SGD_b fold 5 completed in 1.30 s\n",
      "stored SGD_b in 7.12 s\n",
      "evaluating SVC...\n",
      "fitted in 323.90 s\n"
     ]
    },
    {
     "name": "stderr",
     "output_type": "stream",
     "text": [
      "Pandas Apply: 100%|██████████| 13494/13494 [00:00<00:00, 248628.05it/s]\n"
     ]
    },
    {
     "name": "stdout",
     "output_type": "stream",
     "text": [
      "predicted in 36.89 s\n",
      "accuracy: 0.5830739587965021\n",
      "adjusted balanced accuracy: 0.0\n",
      "balanced accuracy: 0.3333333333333333\n",
      "f1: 0.4295328784055877\n",
      "geometric mean: 0.0\n",
      "roc auc: 0.5000165531234896\n",
      "SVC fold 1 completed in 362.21 s\n",
      "fitted in 358.12 s\n"
     ]
    },
    {
     "name": "stderr",
     "output_type": "stream",
     "text": [
      "Pandas Apply: 100%|██████████| 11524/11524 [00:00<00:00, 242994.04it/s]\n"
     ]
    },
    {
     "name": "stdout",
     "output_type": "stream",
     "text": [
      "predicted in 33.44 s\n",
      "accuracy: 0.5741929885456438\n",
      "adjusted balanced accuracy: 0.00030668863176658284\n",
      "balanced accuracy: 0.3335377924211777\n",
      "f1: 0.4191273844585126\n",
      "geometric mean: 0.0\n",
      "roc auc: 0.5001489419741615\n",
      "SVC fold 2 completed in 392.91 s\n",
      "fitted in 275.41 s\n"
     ]
    },
    {
     "name": "stderr",
     "output_type": "stream",
     "text": [
      "Pandas Apply: 100%|██████████| 19319/19319 [00:00<00:00, 224967.06it/s]\n"
     ]
    },
    {
     "name": "stdout",
     "output_type": "stream",
     "text": [
      "predicted in 47.81 s\n",
      "accuracy: 0.521610849422848\n",
      "adjusted balanced accuracy: -4.961301845601839e-05\n",
      "balanced accuracy: 0.33330025798769597\n",
      "f1: 0.3576537039381862\n",
      "geometric mean: 0.0\n",
      "roc auc: 0.4999712174383974\n",
      "SVC fold 3 completed in 324.69 s\n",
      "fitted in 222.94 s\n"
     ]
    },
    {
     "name": "stderr",
     "output_type": "stream",
     "text": [
      "Pandas Apply: 100%|██████████| 25883/25883 [00:00<00:00, 175877.91it/s]\n"
     ]
    },
    {
     "name": "stdout",
     "output_type": "stream",
     "text": [
      "predicted in 58.54 s\n",
      "accuracy: 0.5428659738052003\n",
      "adjusted balanced accuracy: 0.0\n",
      "balanced accuracy: 0.3333333333333333\n",
      "f1: 0.38202082425686723\n",
      "geometric mean: 0.0\n",
      "roc auc: 0.5\n",
      "SVC fold 4 completed in 283.06 s\n",
      "fitted in 288.76 s\n"
     ]
    },
    {
     "name": "stderr",
     "output_type": "stream",
     "text": [
      "Pandas Apply: 100%|██████████| 16532/16532 [00:00<00:00, 228382.86it/s]\n"
     ]
    },
    {
     "name": "stdout",
     "output_type": "stream",
     "text": [
      "predicted in 40.70 s\n",
      "accuracy: 0.46007742559883863\n",
      "adjusted balanced accuracy: -6.572893387668531e-05\n",
      "balanced accuracy: 0.3332895140440822\n",
      "f1: 0.2899833438172479\n",
      "geometric mean: 0.0\n",
      "roc auc: 0.49996309108847026\n",
      "SVC fold 5 completed in 331.09 s\n",
      "stored SVC in 1694.54 s\n",
      "evaluating SVC...\n",
      "fitted in 62.43 s\n"
     ]
    },
    {
     "name": "stderr",
     "output_type": "stream",
     "text": [
      "Pandas Apply: 100%|██████████| 13494/13494 [00:00<00:00, 202066.21it/s]\n"
     ]
    },
    {
     "name": "stdout",
     "output_type": "stream",
     "text": [
      "predicted in 0.72 s\n",
      "accuracy: 0.640655105973025\n",
      "adjusted balanced accuracy: 0.3130004660018295\n",
      "balanced accuracy: 0.5420003106678863\n",
      "f1: 0.6197188721065556\n",
      "geometric mean: 0.4901907219223894\n",
      "roc auc: 0.6527468154350987\n",
      "SVC fold 1 completed in 64.73 s\n",
      "fitted in 66.97 s\n"
     ]
    },
    {
     "name": "stderr",
     "output_type": "stream",
     "text": [
      "Pandas Apply: 100%|██████████| 11524/11524 [00:00<00:00, 225276.77it/s]\n"
     ]
    },
    {
     "name": "stdout",
     "output_type": "stream",
     "text": [
      "predicted in 0.56 s\n",
      "accuracy: 0.6511627906976745\n",
      "adjusted balanced accuracy: 0.34759950154049374\n",
      "balanced accuracy: 0.5650663343603292\n",
      "f1: 0.6375713056708769\n",
      "geometric mean: 0.5276121493682349\n",
      "roc auc: 0.6692937778931974\n",
      "SVC fold 2 completed in 69.09 s\n",
      "fitted in 35.98 s\n"
     ]
    },
    {
     "name": "stderr",
     "output_type": "stream",
     "text": [
      "Pandas Apply: 100%|██████████| 19319/19319 [00:00<00:00, 224842.21it/s]\n"
     ]
    },
    {
     "name": "stdout",
     "output_type": "stream",
     "text": [
      "predicted in 0.93 s\n",
      "accuracy: 0.5918008178477147\n",
      "adjusted balanced accuracy: 0.2696782856547373\n",
      "balanced accuracy: 0.5131188571031582\n",
      "f1: 0.5754192885817327\n",
      "geometric mean: 0.46609697050090243\n",
      "roc auc: 0.6355535154813575\n",
      "SVC fold 3 completed in 38.09 s\n",
      "fitted in 31.29 s\n"
     ]
    },
    {
     "name": "stderr",
     "output_type": "stream",
     "text": [
      "Pandas Apply: 100%|██████████| 25883/25883 [00:00<00:00, 228192.89it/s]\n"
     ]
    },
    {
     "name": "stdout",
     "output_type": "stream",
     "text": [
      "predicted in 1.06 s\n",
      "accuracy: 0.5955260209403855\n",
      "adjusted balanced accuracy: 0.2764247675197164\n",
      "balanced accuracy: 0.5176165116798109\n",
      "f1: 0.5767363010252248\n",
      "geometric mean: 0.4579812028797951\n",
      "roc auc: 0.6373216218942734\n",
      "SVC fold 4 completed in 33.59 s\n",
      "fitted in 58.14 s\n"
     ]
    },
    {
     "name": "stderr",
     "output_type": "stream",
     "text": [
      "Pandas Apply: 100%|██████████| 16532/16532 [00:00<00:00, 186490.22it/s]\n"
     ]
    },
    {
     "name": "stdout",
     "output_type": "stream",
     "text": [
      "predicted in 0.75 s\n",
      "accuracy: 0.5730704089039439\n",
      "adjusted balanced accuracy: 0.2672485345718631\n",
      "balanced accuracy: 0.5114990230479087\n",
      "f1: 0.5529322628894133\n",
      "geometric mean: 0.4542428969694695\n",
      "roc auc: 0.63645713682905\n",
      "SVC fold 5 completed in 60.11 s\n",
      "stored SVC in 266.12 s\n",
      "evaluating SVC_b...\n",
      "fitted in 326.78 s\n"
     ]
    },
    {
     "name": "stderr",
     "output_type": "stream",
     "text": [
      "Pandas Apply: 100%|██████████| 13494/13494 [00:00<00:00, 214043.17it/s]\n"
     ]
    },
    {
     "name": "stdout",
     "output_type": "stream",
     "text": [
      "predicted in 37.62 s\n",
      "accuracy: 0.5830739587965021\n",
      "adjusted balanced accuracy: 0.0\n",
      "balanced accuracy: 0.3333333333333333\n",
      "f1: 0.4295328784055877\n",
      "geometric mean: 0.0\n",
      "roc auc: 0.5000165531234896\n",
      "SVC_b fold 1 completed in 365.95 s\n",
      "fitted in 349.62 s\n"
     ]
    },
    {
     "name": "stderr",
     "output_type": "stream",
     "text": [
      "Pandas Apply: 100%|██████████| 11524/11524 [00:00<00:00, 191909.00it/s]\n"
     ]
    },
    {
     "name": "stdout",
     "output_type": "stream",
     "text": [
      "predicted in 32.64 s\n",
      "accuracy: 0.5741929885456438\n",
      "adjusted balanced accuracy: 0.00030668863176658284\n",
      "balanced accuracy: 0.3335377924211777\n",
      "f1: 0.4191273844585126\n",
      "geometric mean: 0.0\n",
      "roc auc: 0.5001489419741615\n",
      "SVC_b fold 2 completed in 384.11 s\n",
      "fitted in 268.33 s\n"
     ]
    },
    {
     "name": "stderr",
     "output_type": "stream",
     "text": [
      "Pandas Apply: 100%|██████████| 19319/19319 [00:00<00:00, 195982.05it/s]\n"
     ]
    },
    {
     "name": "stdout",
     "output_type": "stream",
     "text": [
      "predicted in 45.94 s\n",
      "accuracy: 0.521610849422848\n",
      "adjusted balanced accuracy: -4.961301845601839e-05\n",
      "balanced accuracy: 0.33330025798769597\n",
      "f1: 0.3576537039381862\n",
      "geometric mean: 0.0\n",
      "roc auc: 0.4999712174383974\n",
      "SVC_b fold 3 completed in 316.25 s\n",
      "fitted in 223.43 s\n"
     ]
    },
    {
     "name": "stderr",
     "output_type": "stream",
     "text": [
      "Pandas Apply: 100%|██████████| 25883/25883 [00:00<00:00, 206196.80it/s]\n"
     ]
    },
    {
     "name": "stdout",
     "output_type": "stream",
     "text": [
      "predicted in 56.91 s\n",
      "accuracy: 0.5428659738052003\n",
      "adjusted balanced accuracy: 0.0\n",
      "balanced accuracy: 0.3333333333333333\n",
      "f1: 0.38202082425686723\n",
      "geometric mean: 0.0\n",
      "roc auc: 0.5\n",
      "SVC_b fold 4 completed in 282.36 s\n",
      "fitted in 283.07 s\n"
     ]
    },
    {
     "name": "stderr",
     "output_type": "stream",
     "text": [
      "Pandas Apply: 100%|██████████| 16532/16532 [00:00<00:00, 207545.84it/s]\n"
     ]
    },
    {
     "name": "stdout",
     "output_type": "stream",
     "text": [
      "predicted in 39.47 s\n",
      "accuracy: 0.46007742559883863\n",
      "adjusted balanced accuracy: -6.572893387668531e-05\n",
      "balanced accuracy: 0.3332895140440822\n",
      "f1: 0.2899833438172479\n",
      "geometric mean: 0.0\n",
      "roc auc: 0.49996309108847026\n",
      "SVC_b fold 5 completed in 324.46 s\n",
      "stored SVC_b in 1673.71 s\n",
      "evaluating SVC_b...\n",
      "fitted in 62.35 s\n"
     ]
    },
    {
     "name": "stderr",
     "output_type": "stream",
     "text": [
      "Pandas Apply: 100%|██████████| 13494/13494 [00:00<00:00, 195813.51it/s]\n"
     ]
    },
    {
     "name": "stdout",
     "output_type": "stream",
     "text": [
      "predicted in 0.68 s\n",
      "accuracy: 0.640655105973025\n",
      "adjusted balanced accuracy: 0.3130004660018295\n",
      "balanced accuracy: 0.5420003106678863\n",
      "f1: 0.6197188721065556\n",
      "geometric mean: 0.4901907219223894\n",
      "roc auc: 0.6527468154350987\n",
      "SVC_b fold 1 completed in 64.60 s\n",
      "fitted in 66.87 s\n"
     ]
    },
    {
     "name": "stderr",
     "output_type": "stream",
     "text": [
      "Pandas Apply: 100%|██████████| 11524/11524 [00:00<00:00, 171440.18it/s]\n"
     ]
    },
    {
     "name": "stdout",
     "output_type": "stream",
     "text": [
      "predicted in 0.64 s\n",
      "accuracy: 0.6511627906976745\n",
      "adjusted balanced accuracy: 0.34759950154049374\n",
      "balanced accuracy: 0.5650663343603292\n",
      "f1: 0.6375713056708769\n",
      "geometric mean: 0.5276121493682349\n",
      "roc auc: 0.6692937778931974\n",
      "SVC_b fold 2 completed in 69.08 s\n",
      "fitted in 37.48 s\n"
     ]
    },
    {
     "name": "stderr",
     "output_type": "stream",
     "text": [
      "Pandas Apply: 100%|██████████| 19319/19319 [00:00<00:00, 214466.57it/s]\n"
     ]
    },
    {
     "name": "stdout",
     "output_type": "stream",
     "text": [
      "predicted in 0.91 s\n",
      "accuracy: 0.5918008178477147\n",
      "adjusted balanced accuracy: 0.2696782856547373\n",
      "balanced accuracy: 0.5131188571031582\n",
      "f1: 0.5754192885817327\n",
      "geometric mean: 0.46609697050090243\n",
      "roc auc: 0.6355535154813575\n",
      "SVC_b fold 3 completed in 39.94 s\n",
      "fitted in 31.32 s\n"
     ]
    },
    {
     "name": "stderr",
     "output_type": "stream",
     "text": [
      "Pandas Apply: 100%|██████████| 25883/25883 [00:00<00:00, 238019.50it/s]\n"
     ]
    },
    {
     "name": "stdout",
     "output_type": "stream",
     "text": [
      "predicted in 1.08 s\n",
      "accuracy: 0.5955260209403855\n",
      "adjusted balanced accuracy: 0.2764247675197164\n",
      "balanced accuracy: 0.5176165116798109\n",
      "f1: 0.5767363010252248\n",
      "geometric mean: 0.4579812028797951\n",
      "roc auc: 0.6373216218942734\n",
      "SVC_b fold 4 completed in 33.92 s\n",
      "fitted in 58.22 s\n"
     ]
    },
    {
     "name": "stderr",
     "output_type": "stream",
     "text": [
      "Pandas Apply: 100%|██████████| 16532/16532 [00:00<00:00, 135927.39it/s]\n"
     ]
    },
    {
     "name": "stdout",
     "output_type": "stream",
     "text": [
      "predicted in 0.75 s\n",
      "accuracy: 0.5730704089039439\n",
      "adjusted balanced accuracy: 0.2672485345718631\n",
      "balanced accuracy: 0.5114990230479087\n",
      "f1: 0.5529322628894133\n",
      "geometric mean: 0.4542428969694695\n",
      "roc auc: 0.63645713682905\n",
      "SVC_b fold 5 completed in 60.22 s\n",
      "stored SVC_b in 268.30 s\n",
      "time: 2h 55min 53s\n"
     ]
    }
   ],
   "source": [
    "for model in tqdm(MODELS):\n",
    "    for preprocessing in {\"LOF+LDA-classLOF\", \"LOF-LDA-classLOF\"}:\n",
    "        print(f\"evaluating {model}...\")\n",
    "        eval_begin = time()\n",
    "        store_result(\n",
    "            where=results_,\n",
    "            model_name=model,\n",
    "            case=\"ternary\",\n",
    "            preprocessing=preprocessing,\n",
    "            avg_scores=evaluate_model(model_base=model, preprocessing=preprocessing),\n",
    "        )\n",
    "        print(f\"stored {model} in {time() - eval_begin:.2f} s\")\n",
    "        del eval_begin\n",
    "        _ = gc_collect()"
   ]
  },
  {
   "cell_type": "markdown",
   "metadata": {},
   "source": [
    "Let's peek at the results."
   ]
  },
  {
   "cell_type": "code",
   "execution_count": 10,
   "metadata": {},
   "outputs": [
    {
     "data": {
      "text/html": [
       "<div>\n",
       "<style scoped>\n",
       "    .dataframe tbody tr th:only-of-type {\n",
       "        vertical-align: middle;\n",
       "    }\n",
       "\n",
       "    .dataframe tbody tr th {\n",
       "        vertical-align: top;\n",
       "    }\n",
       "\n",
       "    .dataframe thead th {\n",
       "        text-align: right;\n",
       "    }\n",
       "</style>\n",
       "<table border=\"1\" class=\"dataframe\">\n",
       "  <thead>\n",
       "    <tr style=\"text-align: right;\">\n",
       "      <th></th>\n",
       "      <th>model_name</th>\n",
       "      <th>case</th>\n",
       "      <th>preprocessing</th>\n",
       "      <th>accuracy</th>\n",
       "      <th>adjusted_balanced_accuracy</th>\n",
       "      <th>balanced_accuracy</th>\n",
       "      <th>f1</th>\n",
       "      <th>geometric_mean</th>\n",
       "      <th>roc_auc</th>\n",
       "      <th>fit_time</th>\n",
       "      <th>predict_time</th>\n",
       "    </tr>\n",
       "  </thead>\n",
       "  <tbody>\n",
       "    <tr>\n",
       "      <th>0</th>\n",
       "      <td>RidgeCV</td>\n",
       "      <td>ternary</td>\n",
       "      <td>LOF-LDA-classLOF</td>\n",
       "      <td>0.611140</td>\n",
       "      <td>0.287827</td>\n",
       "      <td>0.525218</td>\n",
       "      <td>0.591673</td>\n",
       "      <td>0.471523</td>\n",
       "      <td>0.643783</td>\n",
       "      <td>0.073306</td>\n",
       "      <td>0.000400</td>\n",
       "    </tr>\n",
       "    <tr>\n",
       "      <th>1</th>\n",
       "      <td>GaussianNB</td>\n",
       "      <td>ternary</td>\n",
       "      <td>LOF+LDA-classLOF</td>\n",
       "      <td>0.495272</td>\n",
       "      <td>0.042751</td>\n",
       "      <td>0.361834</td>\n",
       "      <td>0.443289</td>\n",
       "      <td>0.217157</td>\n",
       "      <td>0.523766</td>\n",
       "      <td>4.404510</td>\n",
       "      <td>1.042664</td>\n",
       "    </tr>\n",
       "    <tr>\n",
       "      <th>2</th>\n",
       "      <td>SGD_b</td>\n",
       "      <td>ternary</td>\n",
       "      <td>LOF+LDA-classLOF</td>\n",
       "      <td>0.497053</td>\n",
       "      <td>-0.002945</td>\n",
       "      <td>0.331370</td>\n",
       "      <td>0.389124</td>\n",
       "      <td>0.079032</td>\n",
       "      <td>0.497716</td>\n",
       "      <td>14.146654</td>\n",
       "      <td>0.170401</td>\n",
       "    </tr>\n",
       "    <tr>\n",
       "      <th>3</th>\n",
       "      <td>LogRegCV_b</td>\n",
       "      <td>ternary</td>\n",
       "      <td>LOF+LDA-classLOF</td>\n",
       "      <td>0.526303</td>\n",
       "      <td>-0.002235</td>\n",
       "      <td>0.331843</td>\n",
       "      <td>0.379976</td>\n",
       "      <td>0.043506</td>\n",
       "      <td>0.503974</td>\n",
       "      <td>438.576544</td>\n",
       "      <td>0.147315</td>\n",
       "    </tr>\n",
       "    <tr>\n",
       "      <th>4</th>\n",
       "      <td>SGD</td>\n",
       "      <td>ternary</td>\n",
       "      <td>LOF+LDA-classLOF</td>\n",
       "      <td>0.535316</td>\n",
       "      <td>-0.000869</td>\n",
       "      <td>0.332754</td>\n",
       "      <td>0.375590</td>\n",
       "      <td>0.002225</td>\n",
       "      <td>0.499675</td>\n",
       "      <td>13.606297</td>\n",
       "      <td>0.191257</td>\n",
       "    </tr>\n",
       "    <tr>\n",
       "      <th>5</th>\n",
       "      <td>SVC</td>\n",
       "      <td>ternary</td>\n",
       "      <td>LOF+LDA-classLOF</td>\n",
       "      <td>0.536364</td>\n",
       "      <td>0.000038</td>\n",
       "      <td>0.333359</td>\n",
       "      <td>0.375664</td>\n",
       "      <td>0.000000</td>\n",
       "      <td>0.500020</td>\n",
       "      <td>293.825026</td>\n",
       "      <td>43.477351</td>\n",
       "    </tr>\n",
       "    <tr>\n",
       "      <th>6</th>\n",
       "      <td>SVC_b</td>\n",
       "      <td>ternary</td>\n",
       "      <td>LOF+LDA-classLOF</td>\n",
       "      <td>0.536364</td>\n",
       "      <td>0.000038</td>\n",
       "      <td>0.333359</td>\n",
       "      <td>0.375664</td>\n",
       "      <td>0.000000</td>\n",
       "      <td>0.500020</td>\n",
       "      <td>290.246197</td>\n",
       "      <td>42.516101</td>\n",
       "    </tr>\n",
       "    <tr>\n",
       "      <th>7</th>\n",
       "      <td>RidgeCV</td>\n",
       "      <td>ternary</td>\n",
       "      <td>LOF+LDA-classLOF</td>\n",
       "      <td>0.536369</td>\n",
       "      <td>0.000000</td>\n",
       "      <td>0.333333</td>\n",
       "      <td>0.375599</td>\n",
       "      <td>0.000000</td>\n",
       "      <td>0.500000</td>\n",
       "      <td>33.714896</td>\n",
       "      <td>0.166702</td>\n",
       "    </tr>\n",
       "    <tr>\n",
       "      <th>8</th>\n",
       "      <td>LogRegCV_b</td>\n",
       "      <td>ternary</td>\n",
       "      <td>LOF-LDA-classLOF</td>\n",
       "      <td>0.573024</td>\n",
       "      <td>0.350778</td>\n",
       "      <td>0.567185</td>\n",
       "      <td>0.579433</td>\n",
       "      <td>0.562169</td>\n",
       "      <td>0.749873</td>\n",
       "      <td>2.132368</td>\n",
       "      <td>0.003529</td>\n",
       "    </tr>\n",
       "    <tr>\n",
       "      <th>9</th>\n",
       "      <td>RidgeCV_b</td>\n",
       "      <td>ternary</td>\n",
       "      <td>LOF-LDA-classLOF</td>\n",
       "      <td>0.573266</td>\n",
       "      <td>0.352363</td>\n",
       "      <td>0.568242</td>\n",
       "      <td>0.579122</td>\n",
       "      <td>0.561859</td>\n",
       "      <td>0.671856</td>\n",
       "      <td>0.078994</td>\n",
       "      <td>0.000397</td>\n",
       "    </tr>\n",
       "    <tr>\n",
       "      <th>10</th>\n",
       "      <td>SGD_b</td>\n",
       "      <td>ternary</td>\n",
       "      <td>LOF-LDA-classLOF</td>\n",
       "      <td>0.590383</td>\n",
       "      <td>0.330847</td>\n",
       "      <td>0.553898</td>\n",
       "      <td>0.590950</td>\n",
       "      <td>0.539547</td>\n",
       "      <td>0.663130</td>\n",
       "      <td>0.095645</td>\n",
       "      <td>0.009489</td>\n",
       "    </tr>\n",
       "    <tr>\n",
       "      <th>11</th>\n",
       "      <td>GaussianNB</td>\n",
       "      <td>ternary</td>\n",
       "      <td>LOF-LDA-classLOF</td>\n",
       "      <td>0.607267</td>\n",
       "      <td>0.293233</td>\n",
       "      <td>0.528822</td>\n",
       "      <td>0.592567</td>\n",
       "      <td>0.487874</td>\n",
       "      <td>0.747414</td>\n",
       "      <td>0.003426</td>\n",
       "      <td>0.001205</td>\n",
       "    </tr>\n",
       "    <tr>\n",
       "      <th>12</th>\n",
       "      <td>LinearSVC</td>\n",
       "      <td>ternary</td>\n",
       "      <td>LOF-LDA-classLOF</td>\n",
       "      <td>0.610437</td>\n",
       "      <td>0.293475</td>\n",
       "      <td>0.528983</td>\n",
       "      <td>0.593806</td>\n",
       "      <td>0.482197</td>\n",
       "      <td>0.646356</td>\n",
       "      <td>3.783503</td>\n",
       "      <td>0.003123</td>\n",
       "    </tr>\n",
       "    <tr>\n",
       "      <th>13</th>\n",
       "      <td>SVC_b</td>\n",
       "      <td>ternary</td>\n",
       "      <td>LOF-LDA-classLOF</td>\n",
       "      <td>0.610443</td>\n",
       "      <td>0.294790</td>\n",
       "      <td>0.529860</td>\n",
       "      <td>0.592476</td>\n",
       "      <td>0.479225</td>\n",
       "      <td>0.646275</td>\n",
       "      <td>51.250025</td>\n",
       "      <td>0.811847</td>\n",
       "    </tr>\n",
       "    <tr>\n",
       "      <th>14</th>\n",
       "      <td>SVC</td>\n",
       "      <td>ternary</td>\n",
       "      <td>LOF-LDA-classLOF</td>\n",
       "      <td>0.610443</td>\n",
       "      <td>0.294790</td>\n",
       "      <td>0.529860</td>\n",
       "      <td>0.592476</td>\n",
       "      <td>0.479225</td>\n",
       "      <td>0.646275</td>\n",
       "      <td>50.960469</td>\n",
       "      <td>0.805543</td>\n",
       "    </tr>\n",
       "    <tr>\n",
       "      <th>15</th>\n",
       "      <td>SGD</td>\n",
       "      <td>ternary</td>\n",
       "      <td>LOF-LDA-classLOF</td>\n",
       "      <td>0.610951</td>\n",
       "      <td>0.293826</td>\n",
       "      <td>0.529217</td>\n",
       "      <td>0.592917</td>\n",
       "      <td>0.476750</td>\n",
       "      <td>0.646753</td>\n",
       "      <td>0.091082</td>\n",
       "      <td>0.000407</td>\n",
       "    </tr>\n",
       "    <tr>\n",
       "      <th>16</th>\n",
       "      <td>LinearSVC</td>\n",
       "      <td>ternary</td>\n",
       "      <td>LOF+LDA-classLOF</td>\n",
       "      <td>0.430632</td>\n",
       "      <td>-0.053716</td>\n",
       "      <td>0.297523</td>\n",
       "      <td>0.375773</td>\n",
       "      <td>0.148799</td>\n",
       "      <td>0.474303</td>\n",
       "      <td>760.795822</td>\n",
       "      <td>0.158109</td>\n",
       "    </tr>\n",
       "    <tr>\n",
       "      <th>17</th>\n",
       "      <td>RidgeCV_b</td>\n",
       "      <td>ternary</td>\n",
       "      <td>LOF+LDA-classLOF</td>\n",
       "      <td>0.390599</td>\n",
       "      <td>0.029034</td>\n",
       "      <td>0.352689</td>\n",
       "      <td>0.390277</td>\n",
       "      <td>0.322383</td>\n",
       "      <td>0.509961</td>\n",
       "      <td>34.344888</td>\n",
       "      <td>0.147560</td>\n",
       "    </tr>\n",
       "  </tbody>\n",
       "</table>\n",
       "</div>"
      ],
      "text/plain": [
       "    model_name     case     preprocessing  accuracy  \\\n",
       "0      RidgeCV  ternary  LOF-LDA-classLOF  0.611140   \n",
       "1   GaussianNB  ternary  LOF+LDA-classLOF  0.495272   \n",
       "2        SGD_b  ternary  LOF+LDA-classLOF  0.497053   \n",
       "3   LogRegCV_b  ternary  LOF+LDA-classLOF  0.526303   \n",
       "4          SGD  ternary  LOF+LDA-classLOF  0.535316   \n",
       "5          SVC  ternary  LOF+LDA-classLOF  0.536364   \n",
       "6        SVC_b  ternary  LOF+LDA-classLOF  0.536364   \n",
       "7      RidgeCV  ternary  LOF+LDA-classLOF  0.536369   \n",
       "8   LogRegCV_b  ternary  LOF-LDA-classLOF  0.573024   \n",
       "9    RidgeCV_b  ternary  LOF-LDA-classLOF  0.573266   \n",
       "10       SGD_b  ternary  LOF-LDA-classLOF  0.590383   \n",
       "11  GaussianNB  ternary  LOF-LDA-classLOF  0.607267   \n",
       "12   LinearSVC  ternary  LOF-LDA-classLOF  0.610437   \n",
       "13       SVC_b  ternary  LOF-LDA-classLOF  0.610443   \n",
       "14         SVC  ternary  LOF-LDA-classLOF  0.610443   \n",
       "15         SGD  ternary  LOF-LDA-classLOF  0.610951   \n",
       "16   LinearSVC  ternary  LOF+LDA-classLOF  0.430632   \n",
       "17   RidgeCV_b  ternary  LOF+LDA-classLOF  0.390599   \n",
       "\n",
       "    adjusted_balanced_accuracy  balanced_accuracy        f1  geometric_mean  \\\n",
       "0                     0.287827           0.525218  0.591673        0.471523   \n",
       "1                     0.042751           0.361834  0.443289        0.217157   \n",
       "2                    -0.002945           0.331370  0.389124        0.079032   \n",
       "3                    -0.002235           0.331843  0.379976        0.043506   \n",
       "4                    -0.000869           0.332754  0.375590        0.002225   \n",
       "5                     0.000038           0.333359  0.375664        0.000000   \n",
       "6                     0.000038           0.333359  0.375664        0.000000   \n",
       "7                     0.000000           0.333333  0.375599        0.000000   \n",
       "8                     0.350778           0.567185  0.579433        0.562169   \n",
       "9                     0.352363           0.568242  0.579122        0.561859   \n",
       "10                    0.330847           0.553898  0.590950        0.539547   \n",
       "11                    0.293233           0.528822  0.592567        0.487874   \n",
       "12                    0.293475           0.528983  0.593806        0.482197   \n",
       "13                    0.294790           0.529860  0.592476        0.479225   \n",
       "14                    0.294790           0.529860  0.592476        0.479225   \n",
       "15                    0.293826           0.529217  0.592917        0.476750   \n",
       "16                   -0.053716           0.297523  0.375773        0.148799   \n",
       "17                    0.029034           0.352689  0.390277        0.322383   \n",
       "\n",
       "     roc_auc    fit_time  predict_time  \n",
       "0   0.643783    0.073306      0.000400  \n",
       "1   0.523766    4.404510      1.042664  \n",
       "2   0.497716   14.146654      0.170401  \n",
       "3   0.503974  438.576544      0.147315  \n",
       "4   0.499675   13.606297      0.191257  \n",
       "5   0.500020  293.825026     43.477351  \n",
       "6   0.500020  290.246197     42.516101  \n",
       "7   0.500000   33.714896      0.166702  \n",
       "8   0.749873    2.132368      0.003529  \n",
       "9   0.671856    0.078994      0.000397  \n",
       "10  0.663130    0.095645      0.009489  \n",
       "11  0.747414    0.003426      0.001205  \n",
       "12  0.646356    3.783503      0.003123  \n",
       "13  0.646275   51.250025      0.811847  \n",
       "14  0.646275   50.960469      0.805543  \n",
       "15  0.646753    0.091082      0.000407  \n",
       "16  0.474303  760.795822      0.158109  \n",
       "17  0.509961   34.344888      0.147560  "
      ]
     },
     "execution_count": 10,
     "metadata": {},
     "output_type": "execute_result"
    },
    {
     "name": "stdout",
     "output_type": "stream",
     "text": [
      "time: 77 ms\n"
     ]
    }
   ],
   "source": [
    "results_df = create_results_df(results_)\n",
    "results_df"
   ]
  },
  {
   "cell_type": "code",
   "execution_count": 11,
   "metadata": {},
   "outputs": [
    {
     "name": "stdout",
     "output_type": "stream",
     "text": [
      "time: 142 ms\n"
     ]
    }
   ],
   "source": [
    "# save table of results and predictions\n",
    "results_df.to_csv(f\"{DATA_OUT_FOLDER}/LOF+LDA-classLOF_vs_LOF-LDA-classLOF_CV5.csv\")\n",
    "_ = gc_collect()"
   ]
  },
  {
   "cell_type": "code",
   "execution_count": 12,
   "metadata": {},
   "outputs": [
    {
     "name": "stdout",
     "output_type": "stream",
     "text": [
      "time: 214 ms\n"
     ]
    }
   ],
   "source": [
    "predictions_df = pd.DataFrame(predictions_)\n",
    "predictions_df.to_pickle(\n",
    "    f\"{DATA_OUT_FOLDER}/LOF+LDA-classLOF_vs_LOF-LDA-classLOF_CV5_predictions.pkl\"\n",
    ")\n",
    "_ = gc_collect()"
   ]
  },
  {
   "cell_type": "markdown",
   "metadata": {},
   "source": [
    "# Results\n",
    "\n",
    "In this section, we create several visualizations to display the results. We will load the results of previous notebooks for comparison.\n",
    "\n",
    "Note that the charts depicting fit and predict times do not account for the outlier removal step."
   ]
  },
  {
   "cell_type": "code",
   "execution_count": 13,
   "metadata": {},
   "outputs": [
    {
     "data": {
      "text/html": [
       "<div>\n",
       "<style scoped>\n",
       "    .dataframe tbody tr th:only-of-type {\n",
       "        vertical-align: middle;\n",
       "    }\n",
       "\n",
       "    .dataframe tbody tr th {\n",
       "        vertical-align: top;\n",
       "    }\n",
       "\n",
       "    .dataframe thead th {\n",
       "        text-align: right;\n",
       "    }\n",
       "</style>\n",
       "<table border=\"1\" class=\"dataframe\">\n",
       "  <thead>\n",
       "    <tr style=\"text-align: right;\">\n",
       "      <th></th>\n",
       "      <th>model_name</th>\n",
       "      <th>case</th>\n",
       "      <th>preprocessing</th>\n",
       "      <th>accuracy</th>\n",
       "      <th>adjusted_balanced_accuracy</th>\n",
       "      <th>balanced_accuracy</th>\n",
       "      <th>f1</th>\n",
       "      <th>geometric_mean</th>\n",
       "      <th>roc_auc</th>\n",
       "      <th>fit_time</th>\n",
       "      <th>predict_time</th>\n",
       "      <th>Unnamed: 0</th>\n",
       "    </tr>\n",
       "  </thead>\n",
       "  <tbody>\n",
       "    <tr>\n",
       "      <th>0</th>\n",
       "      <td>RidgeCV</td>\n",
       "      <td>ternary</td>\n",
       "      <td>LOF-LDA-classLOF</td>\n",
       "      <td>0.611140</td>\n",
       "      <td>0.287827</td>\n",
       "      <td>0.525218</td>\n",
       "      <td>0.591673</td>\n",
       "      <td>0.471523</td>\n",
       "      <td>0.643783</td>\n",
       "      <td>0.073306</td>\n",
       "      <td>0.000400</td>\n",
       "      <td>NaN</td>\n",
       "    </tr>\n",
       "    <tr>\n",
       "      <th>1</th>\n",
       "      <td>GaussianNB</td>\n",
       "      <td>ternary</td>\n",
       "      <td>LOF+LDA-classLOF</td>\n",
       "      <td>0.495272</td>\n",
       "      <td>0.042751</td>\n",
       "      <td>0.361834</td>\n",
       "      <td>0.443289</td>\n",
       "      <td>0.217157</td>\n",
       "      <td>0.523766</td>\n",
       "      <td>4.404510</td>\n",
       "      <td>1.042664</td>\n",
       "      <td>NaN</td>\n",
       "    </tr>\n",
       "    <tr>\n",
       "      <th>2</th>\n",
       "      <td>SGD_b</td>\n",
       "      <td>ternary</td>\n",
       "      <td>LOF+LDA-classLOF</td>\n",
       "      <td>0.497053</td>\n",
       "      <td>-0.002945</td>\n",
       "      <td>0.331370</td>\n",
       "      <td>0.389124</td>\n",
       "      <td>0.079032</td>\n",
       "      <td>0.497716</td>\n",
       "      <td>14.146654</td>\n",
       "      <td>0.170401</td>\n",
       "      <td>NaN</td>\n",
       "    </tr>\n",
       "    <tr>\n",
       "      <th>3</th>\n",
       "      <td>LogRegCV_b</td>\n",
       "      <td>ternary</td>\n",
       "      <td>LOF+LDA-classLOF</td>\n",
       "      <td>0.526303</td>\n",
       "      <td>-0.002235</td>\n",
       "      <td>0.331843</td>\n",
       "      <td>0.379976</td>\n",
       "      <td>0.043506</td>\n",
       "      <td>0.503974</td>\n",
       "      <td>438.576544</td>\n",
       "      <td>0.147315</td>\n",
       "      <td>NaN</td>\n",
       "    </tr>\n",
       "    <tr>\n",
       "      <th>4</th>\n",
       "      <td>SGD</td>\n",
       "      <td>ternary</td>\n",
       "      <td>LOF+LDA-classLOF</td>\n",
       "      <td>0.535316</td>\n",
       "      <td>-0.000869</td>\n",
       "      <td>0.332754</td>\n",
       "      <td>0.375590</td>\n",
       "      <td>0.002225</td>\n",
       "      <td>0.499675</td>\n",
       "      <td>13.606297</td>\n",
       "      <td>0.191257</td>\n",
       "      <td>NaN</td>\n",
       "    </tr>\n",
       "    <tr>\n",
       "      <th>5</th>\n",
       "      <td>SVC</td>\n",
       "      <td>ternary</td>\n",
       "      <td>LOF+LDA-classLOF</td>\n",
       "      <td>0.536364</td>\n",
       "      <td>0.000038</td>\n",
       "      <td>0.333359</td>\n",
       "      <td>0.375664</td>\n",
       "      <td>0.000000</td>\n",
       "      <td>0.500020</td>\n",
       "      <td>293.825026</td>\n",
       "      <td>43.477351</td>\n",
       "      <td>NaN</td>\n",
       "    </tr>\n",
       "    <tr>\n",
       "      <th>6</th>\n",
       "      <td>SVC_b</td>\n",
       "      <td>ternary</td>\n",
       "      <td>LOF+LDA-classLOF</td>\n",
       "      <td>0.536364</td>\n",
       "      <td>0.000038</td>\n",
       "      <td>0.333359</td>\n",
       "      <td>0.375664</td>\n",
       "      <td>0.000000</td>\n",
       "      <td>0.500020</td>\n",
       "      <td>290.246197</td>\n",
       "      <td>42.516101</td>\n",
       "      <td>NaN</td>\n",
       "    </tr>\n",
       "    <tr>\n",
       "      <th>7</th>\n",
       "      <td>RidgeCV</td>\n",
       "      <td>ternary</td>\n",
       "      <td>LOF+LDA-classLOF</td>\n",
       "      <td>0.536369</td>\n",
       "      <td>0.000000</td>\n",
       "      <td>0.333333</td>\n",
       "      <td>0.375599</td>\n",
       "      <td>0.000000</td>\n",
       "      <td>0.500000</td>\n",
       "      <td>33.714896</td>\n",
       "      <td>0.166702</td>\n",
       "      <td>NaN</td>\n",
       "    </tr>\n",
       "    <tr>\n",
       "      <th>8</th>\n",
       "      <td>LogRegCV_b</td>\n",
       "      <td>ternary</td>\n",
       "      <td>LOF-LDA-classLOF</td>\n",
       "      <td>0.573024</td>\n",
       "      <td>0.350778</td>\n",
       "      <td>0.567185</td>\n",
       "      <td>0.579433</td>\n",
       "      <td>0.562169</td>\n",
       "      <td>0.749873</td>\n",
       "      <td>2.132368</td>\n",
       "      <td>0.003529</td>\n",
       "      <td>NaN</td>\n",
       "    </tr>\n",
       "    <tr>\n",
       "      <th>9</th>\n",
       "      <td>RidgeCV_b</td>\n",
       "      <td>ternary</td>\n",
       "      <td>LOF-LDA-classLOF</td>\n",
       "      <td>0.573266</td>\n",
       "      <td>0.352363</td>\n",
       "      <td>0.568242</td>\n",
       "      <td>0.579122</td>\n",
       "      <td>0.561859</td>\n",
       "      <td>0.671856</td>\n",
       "      <td>0.078994</td>\n",
       "      <td>0.000397</td>\n",
       "      <td>NaN</td>\n",
       "    </tr>\n",
       "    <tr>\n",
       "      <th>10</th>\n",
       "      <td>SGD_b</td>\n",
       "      <td>ternary</td>\n",
       "      <td>LOF-LDA-classLOF</td>\n",
       "      <td>0.590383</td>\n",
       "      <td>0.330847</td>\n",
       "      <td>0.553898</td>\n",
       "      <td>0.590950</td>\n",
       "      <td>0.539547</td>\n",
       "      <td>0.663130</td>\n",
       "      <td>0.095645</td>\n",
       "      <td>0.009489</td>\n",
       "      <td>NaN</td>\n",
       "    </tr>\n",
       "    <tr>\n",
       "      <th>11</th>\n",
       "      <td>GaussianNB</td>\n",
       "      <td>ternary</td>\n",
       "      <td>LOF-LDA-classLOF</td>\n",
       "      <td>0.607267</td>\n",
       "      <td>0.293233</td>\n",
       "      <td>0.528822</td>\n",
       "      <td>0.592567</td>\n",
       "      <td>0.487874</td>\n",
       "      <td>0.747414</td>\n",
       "      <td>0.003426</td>\n",
       "      <td>0.001205</td>\n",
       "      <td>NaN</td>\n",
       "    </tr>\n",
       "    <tr>\n",
       "      <th>12</th>\n",
       "      <td>LinearSVC</td>\n",
       "      <td>ternary</td>\n",
       "      <td>LOF-LDA-classLOF</td>\n",
       "      <td>0.610437</td>\n",
       "      <td>0.293475</td>\n",
       "      <td>0.528983</td>\n",
       "      <td>0.593806</td>\n",
       "      <td>0.482197</td>\n",
       "      <td>0.646356</td>\n",
       "      <td>3.783503</td>\n",
       "      <td>0.003123</td>\n",
       "      <td>NaN</td>\n",
       "    </tr>\n",
       "    <tr>\n",
       "      <th>13</th>\n",
       "      <td>SVC_b</td>\n",
       "      <td>ternary</td>\n",
       "      <td>LOF-LDA-classLOF</td>\n",
       "      <td>0.610443</td>\n",
       "      <td>0.294790</td>\n",
       "      <td>0.529860</td>\n",
       "      <td>0.592476</td>\n",
       "      <td>0.479225</td>\n",
       "      <td>0.646275</td>\n",
       "      <td>51.250025</td>\n",
       "      <td>0.811847</td>\n",
       "      <td>NaN</td>\n",
       "    </tr>\n",
       "    <tr>\n",
       "      <th>14</th>\n",
       "      <td>SVC</td>\n",
       "      <td>ternary</td>\n",
       "      <td>LOF-LDA-classLOF</td>\n",
       "      <td>0.610443</td>\n",
       "      <td>0.294790</td>\n",
       "      <td>0.529860</td>\n",
       "      <td>0.592476</td>\n",
       "      <td>0.479225</td>\n",
       "      <td>0.646275</td>\n",
       "      <td>50.960469</td>\n",
       "      <td>0.805543</td>\n",
       "      <td>NaN</td>\n",
       "    </tr>\n",
       "    <tr>\n",
       "      <th>15</th>\n",
       "      <td>SGD</td>\n",
       "      <td>ternary</td>\n",
       "      <td>LOF-LDA-classLOF</td>\n",
       "      <td>0.610951</td>\n",
       "      <td>0.293826</td>\n",
       "      <td>0.529217</td>\n",
       "      <td>0.592917</td>\n",
       "      <td>0.476750</td>\n",
       "      <td>0.646753</td>\n",
       "      <td>0.091082</td>\n",
       "      <td>0.000407</td>\n",
       "      <td>NaN</td>\n",
       "    </tr>\n",
       "    <tr>\n",
       "      <th>16</th>\n",
       "      <td>LinearSVC</td>\n",
       "      <td>ternary</td>\n",
       "      <td>LOF+LDA-classLOF</td>\n",
       "      <td>0.430632</td>\n",
       "      <td>-0.053716</td>\n",
       "      <td>0.297523</td>\n",
       "      <td>0.375773</td>\n",
       "      <td>0.148799</td>\n",
       "      <td>0.474303</td>\n",
       "      <td>760.795822</td>\n",
       "      <td>0.158109</td>\n",
       "      <td>NaN</td>\n",
       "    </tr>\n",
       "    <tr>\n",
       "      <th>17</th>\n",
       "      <td>RidgeCV_b</td>\n",
       "      <td>ternary</td>\n",
       "      <td>LOF+LDA-classLOF</td>\n",
       "      <td>0.390599</td>\n",
       "      <td>0.029034</td>\n",
       "      <td>0.352689</td>\n",
       "      <td>0.390277</td>\n",
       "      <td>0.322383</td>\n",
       "      <td>0.509961</td>\n",
       "      <td>34.344888</td>\n",
       "      <td>0.147560</td>\n",
       "      <td>NaN</td>\n",
       "    </tr>\n",
       "    <tr>\n",
       "      <th>18</th>\n",
       "      <td>SVC</td>\n",
       "      <td>ternary</td>\n",
       "      <td>untransformed</td>\n",
       "      <td>0.642427</td>\n",
       "      <td>0.308195</td>\n",
       "      <td>0.538796</td>\n",
       "      <td>0.610017</td>\n",
       "      <td>0.453897</td>\n",
       "      <td>0.654888</td>\n",
       "      <td>187.535603</td>\n",
       "      <td>29.332842</td>\n",
       "      <td>0.0</td>\n",
       "    </tr>\n",
       "    <tr>\n",
       "      <th>19</th>\n",
       "      <td>RidgeCV_b</td>\n",
       "      <td>ternary</td>\n",
       "      <td>minkowski</td>\n",
       "      <td>0.570154</td>\n",
       "      <td>0.358644</td>\n",
       "      <td>0.572429</td>\n",
       "      <td>0.575986</td>\n",
       "      <td>0.566046</td>\n",
       "      <td>0.674264</td>\n",
       "      <td>35.380149</td>\n",
       "      <td>0.515203</td>\n",
       "      <td>1.0</td>\n",
       "    </tr>\n",
       "    <tr>\n",
       "      <th>20</th>\n",
       "      <td>LogRegCV_b</td>\n",
       "      <td>ternary</td>\n",
       "      <td>minkowski</td>\n",
       "      <td>0.570771</td>\n",
       "      <td>0.357185</td>\n",
       "      <td>0.571457</td>\n",
       "      <td>0.577095</td>\n",
       "      <td>0.565971</td>\n",
       "      <td>0.758317</td>\n",
       "      <td>471.925950</td>\n",
       "      <td>0.508009</td>\n",
       "      <td>2.0</td>\n",
       "    </tr>\n",
       "    <tr>\n",
       "      <th>21</th>\n",
       "      <td>RidgeCV_b</td>\n",
       "      <td>ternary</td>\n",
       "      <td>untransformed</td>\n",
       "      <td>0.570917</td>\n",
       "      <td>0.359983</td>\n",
       "      <td>0.573322</td>\n",
       "      <td>0.576848</td>\n",
       "      <td>0.567095</td>\n",
       "      <td>0.675037</td>\n",
       "      <td>37.901860</td>\n",
       "      <td>0.527701</td>\n",
       "      <td>3.0</td>\n",
       "    </tr>\n",
       "    <tr>\n",
       "      <th>22</th>\n",
       "      <td>LogRegCV_b</td>\n",
       "      <td>ternary</td>\n",
       "      <td>untransformed</td>\n",
       "      <td>0.572591</td>\n",
       "      <td>0.359580</td>\n",
       "      <td>0.573054</td>\n",
       "      <td>0.578942</td>\n",
       "      <td>0.567727</td>\n",
       "      <td>0.758748</td>\n",
       "      <td>477.779351</td>\n",
       "      <td>0.501484</td>\n",
       "      <td>4.0</td>\n",
       "    </tr>\n",
       "    <tr>\n",
       "      <th>23</th>\n",
       "      <td>SGD_b</td>\n",
       "      <td>ternary</td>\n",
       "      <td>untransformed</td>\n",
       "      <td>0.598463</td>\n",
       "      <td>0.342270</td>\n",
       "      <td>0.561514</td>\n",
       "      <td>0.595979</td>\n",
       "      <td>0.540160</td>\n",
       "      <td>0.668613</td>\n",
       "      <td>14.681113</td>\n",
       "      <td>0.510404</td>\n",
       "      <td>5.0</td>\n",
       "    </tr>\n",
       "    <tr>\n",
       "      <th>24</th>\n",
       "      <td>SGD_b</td>\n",
       "      <td>ternary</td>\n",
       "      <td>minkowski</td>\n",
       "      <td>0.602474</td>\n",
       "      <td>0.339221</td>\n",
       "      <td>0.559480</td>\n",
       "      <td>0.598407</td>\n",
       "      <td>0.535371</td>\n",
       "      <td>0.667460</td>\n",
       "      <td>14.656479</td>\n",
       "      <td>0.516597</td>\n",
       "      <td>6.0</td>\n",
       "    </tr>\n",
       "    <tr>\n",
       "      <th>25</th>\n",
       "      <td>LinearSVC</td>\n",
       "      <td>ternary</td>\n",
       "      <td>minkowski</td>\n",
       "      <td>0.612169</td>\n",
       "      <td>0.294728</td>\n",
       "      <td>0.529819</td>\n",
       "      <td>0.594617</td>\n",
       "      <td>0.480460</td>\n",
       "      <td>0.647040</td>\n",
       "      <td>656.566056</td>\n",
       "      <td>0.528778</td>\n",
       "      <td>7.0</td>\n",
       "    </tr>\n",
       "    <tr>\n",
       "      <th>26</th>\n",
       "      <td>LinearSVC</td>\n",
       "      <td>ternary</td>\n",
       "      <td>untransformed</td>\n",
       "      <td>0.612371</td>\n",
       "      <td>0.294658</td>\n",
       "      <td>0.529772</td>\n",
       "      <td>0.594727</td>\n",
       "      <td>0.480240</td>\n",
       "      <td>0.646989</td>\n",
       "      <td>682.621377</td>\n",
       "      <td>0.508186</td>\n",
       "      <td>8.0</td>\n",
       "    </tr>\n",
       "    <tr>\n",
       "      <th>27</th>\n",
       "      <td>RidgeCV</td>\n",
       "      <td>ternary</td>\n",
       "      <td>minkowski</td>\n",
       "      <td>0.612455</td>\n",
       "      <td>0.287294</td>\n",
       "      <td>0.524862</td>\n",
       "      <td>0.592104</td>\n",
       "      <td>0.469435</td>\n",
       "      <td>0.643601</td>\n",
       "      <td>35.167885</td>\n",
       "      <td>0.521820</td>\n",
       "      <td>9.0</td>\n",
       "    </tr>\n",
       "    <tr>\n",
       "      <th>28</th>\n",
       "      <td>RidgeCV</td>\n",
       "      <td>ternary</td>\n",
       "      <td>untransformed</td>\n",
       "      <td>0.612603</td>\n",
       "      <td>0.287094</td>\n",
       "      <td>0.524729</td>\n",
       "      <td>0.592154</td>\n",
       "      <td>0.469132</td>\n",
       "      <td>0.643489</td>\n",
       "      <td>52.336691</td>\n",
       "      <td>0.519400</td>\n",
       "      <td>10.0</td>\n",
       "    </tr>\n",
       "    <tr>\n",
       "      <th>29</th>\n",
       "      <td>SGD</td>\n",
       "      <td>ternary</td>\n",
       "      <td>minkowski</td>\n",
       "      <td>0.614953</td>\n",
       "      <td>0.286037</td>\n",
       "      <td>0.524025</td>\n",
       "      <td>0.589449</td>\n",
       "      <td>0.451850</td>\n",
       "      <td>0.643108</td>\n",
       "      <td>13.091308</td>\n",
       "      <td>0.514980</td>\n",
       "      <td>11.0</td>\n",
       "    </tr>\n",
       "    <tr>\n",
       "      <th>30</th>\n",
       "      <td>SGD</td>\n",
       "      <td>ternary</td>\n",
       "      <td>untransformed</td>\n",
       "      <td>0.617960</td>\n",
       "      <td>0.294413</td>\n",
       "      <td>0.529609</td>\n",
       "      <td>0.593350</td>\n",
       "      <td>0.458785</td>\n",
       "      <td>0.647284</td>\n",
       "      <td>13.752402</td>\n",
       "      <td>0.507700</td>\n",
       "      <td>12.0</td>\n",
       "    </tr>\n",
       "    <tr>\n",
       "      <th>31</th>\n",
       "      <td>SVC</td>\n",
       "      <td>ternary</td>\n",
       "      <td>minkowski</td>\n",
       "      <td>0.641773</td>\n",
       "      <td>0.306193</td>\n",
       "      <td>0.537462</td>\n",
       "      <td>0.608621</td>\n",
       "      <td>0.450061</td>\n",
       "      <td>0.653912</td>\n",
       "      <td>179.768804</td>\n",
       "      <td>27.818121</td>\n",
       "      <td>13.0</td>\n",
       "    </tr>\n",
       "    <tr>\n",
       "      <th>32</th>\n",
       "      <td>SVC_b</td>\n",
       "      <td>ternary</td>\n",
       "      <td>minkowski</td>\n",
       "      <td>0.641773</td>\n",
       "      <td>0.306193</td>\n",
       "      <td>0.537462</td>\n",
       "      <td>0.608621</td>\n",
       "      <td>0.450061</td>\n",
       "      <td>0.653912</td>\n",
       "      <td>179.484738</td>\n",
       "      <td>27.804647</td>\n",
       "      <td>14.0</td>\n",
       "    </tr>\n",
       "    <tr>\n",
       "      <th>33</th>\n",
       "      <td>SVC_b</td>\n",
       "      <td>ternary</td>\n",
       "      <td>untransformed</td>\n",
       "      <td>0.642427</td>\n",
       "      <td>0.308195</td>\n",
       "      <td>0.538796</td>\n",
       "      <td>0.610017</td>\n",
       "      <td>0.453897</td>\n",
       "      <td>0.654888</td>\n",
       "      <td>200.751143</td>\n",
       "      <td>28.686791</td>\n",
       "      <td>15.0</td>\n",
       "    </tr>\n",
       "    <tr>\n",
       "      <th>34</th>\n",
       "      <td>GaussianNB</td>\n",
       "      <td>ternary</td>\n",
       "      <td>minkowski</td>\n",
       "      <td>0.494051</td>\n",
       "      <td>0.206646</td>\n",
       "      <td>0.471097</td>\n",
       "      <td>0.498288</td>\n",
       "      <td>0.460968</td>\n",
       "      <td>0.664961</td>\n",
       "      <td>2.978293</td>\n",
       "      <td>1.026063</td>\n",
       "      <td>16.0</td>\n",
       "    </tr>\n",
       "    <tr>\n",
       "      <th>35</th>\n",
       "      <td>GaussianNB</td>\n",
       "      <td>ternary</td>\n",
       "      <td>untransformed</td>\n",
       "      <td>0.493486</td>\n",
       "      <td>0.206499</td>\n",
       "      <td>0.471000</td>\n",
       "      <td>0.497488</td>\n",
       "      <td>0.460736</td>\n",
       "      <td>0.664912</td>\n",
       "      <td>3.348620</td>\n",
       "      <td>1.045579</td>\n",
       "      <td>17.0</td>\n",
       "    </tr>\n",
       "    <tr>\n",
       "      <th>36</th>\n",
       "      <td>SVC_b</td>\n",
       "      <td>ternary</td>\n",
       "      <td>LOF+LDA</td>\n",
       "      <td>0.631267</td>\n",
       "      <td>0.318778</td>\n",
       "      <td>0.545852</td>\n",
       "      <td>0.609548</td>\n",
       "      <td>0.485287</td>\n",
       "      <td>0.659447</td>\n",
       "      <td>289.539724</td>\n",
       "      <td>43.044478</td>\n",
       "      <td>0.0</td>\n",
       "    </tr>\n",
       "    <tr>\n",
       "      <th>37</th>\n",
       "      <td>LogRegCV_b</td>\n",
       "      <td>ternary</td>\n",
       "      <td>LOF-LDA</td>\n",
       "      <td>0.573081</td>\n",
       "      <td>0.350676</td>\n",
       "      <td>0.567117</td>\n",
       "      <td>0.579488</td>\n",
       "      <td>0.562076</td>\n",
       "      <td>0.749887</td>\n",
       "      <td>2.218290</td>\n",
       "      <td>0.000400</td>\n",
       "      <td>1.0</td>\n",
       "    </tr>\n",
       "    <tr>\n",
       "      <th>38</th>\n",
       "      <td>RidgeCV_b</td>\n",
       "      <td>ternary</td>\n",
       "      <td>LOF-LDA</td>\n",
       "      <td>0.573175</td>\n",
       "      <td>0.352276</td>\n",
       "      <td>0.568184</td>\n",
       "      <td>0.579031</td>\n",
       "      <td>0.561806</td>\n",
       "      <td>0.671809</td>\n",
       "      <td>0.106031</td>\n",
       "      <td>0.003125</td>\n",
       "      <td>2.0</td>\n",
       "    </tr>\n",
       "    <tr>\n",
       "      <th>39</th>\n",
       "      <td>LogRegCV_b</td>\n",
       "      <td>ternary</td>\n",
       "      <td>LOF+LDA</td>\n",
       "      <td>0.574107</td>\n",
       "      <td>0.352940</td>\n",
       "      <td>0.568626</td>\n",
       "      <td>0.580348</td>\n",
       "      <td>0.563643</td>\n",
       "      <td>0.752494</td>\n",
       "      <td>441.071035</td>\n",
       "      <td>0.171187</td>\n",
       "      <td>3.0</td>\n",
       "    </tr>\n",
       "    <tr>\n",
       "      <th>40</th>\n",
       "      <td>SGD_b</td>\n",
       "      <td>ternary</td>\n",
       "      <td>LOF-LDA</td>\n",
       "      <td>0.587623</td>\n",
       "      <td>0.331593</td>\n",
       "      <td>0.554395</td>\n",
       "      <td>0.589415</td>\n",
       "      <td>0.541800</td>\n",
       "      <td>0.663273</td>\n",
       "      <td>0.137977</td>\n",
       "      <td>0.004435</td>\n",
       "      <td>4.0</td>\n",
       "    </tr>\n",
       "    <tr>\n",
       "      <th>41</th>\n",
       "      <td>SGD_b</td>\n",
       "      <td>ternary</td>\n",
       "      <td>LOF+LDA</td>\n",
       "      <td>0.594002</td>\n",
       "      <td>0.331777</td>\n",
       "      <td>0.554518</td>\n",
       "      <td>0.593577</td>\n",
       "      <td>0.537779</td>\n",
       "      <td>0.663996</td>\n",
       "      <td>13.792928</td>\n",
       "      <td>0.157616</td>\n",
       "      <td>5.0</td>\n",
       "    </tr>\n",
       "    <tr>\n",
       "      <th>42</th>\n",
       "      <td>GaussianNB</td>\n",
       "      <td>ternary</td>\n",
       "      <td>LOF-LDA</td>\n",
       "      <td>0.607629</td>\n",
       "      <td>0.292399</td>\n",
       "      <td>0.528266</td>\n",
       "      <td>0.592481</td>\n",
       "      <td>0.486366</td>\n",
       "      <td>0.747436</td>\n",
       "      <td>0.014400</td>\n",
       "      <td>0.003733</td>\n",
       "      <td>6.0</td>\n",
       "    </tr>\n",
       "    <tr>\n",
       "      <th>43</th>\n",
       "      <td>SGD</td>\n",
       "      <td>ternary</td>\n",
       "      <td>LOF+LDA</td>\n",
       "      <td>0.607708</td>\n",
       "      <td>0.284501</td>\n",
       "      <td>0.523000</td>\n",
       "      <td>0.588477</td>\n",
       "      <td>0.469159</td>\n",
       "      <td>0.642104</td>\n",
       "      <td>14.794149</td>\n",
       "      <td>0.174581</td>\n",
       "      <td>7.0</td>\n",
       "    </tr>\n",
       "    <tr>\n",
       "      <th>44</th>\n",
       "      <td>SGD</td>\n",
       "      <td>ternary</td>\n",
       "      <td>LOF-LDA</td>\n",
       "      <td>0.608169</td>\n",
       "      <td>0.289564</td>\n",
       "      <td>0.526376</td>\n",
       "      <td>0.591156</td>\n",
       "      <td>0.477767</td>\n",
       "      <td>0.644528</td>\n",
       "      <td>0.126126</td>\n",
       "      <td>0.000000</td>\n",
       "      <td>8.0</td>\n",
       "    </tr>\n",
       "    <tr>\n",
       "      <th>45</th>\n",
       "      <td>LinearSVC</td>\n",
       "      <td>ternary</td>\n",
       "      <td>LOF+LDA</td>\n",
       "      <td>0.609749</td>\n",
       "      <td>0.294068</td>\n",
       "      <td>0.529378</td>\n",
       "      <td>0.593453</td>\n",
       "      <td>0.482642</td>\n",
       "      <td>0.646650</td>\n",
       "      <td>806.100036</td>\n",
       "      <td>0.157450</td>\n",
       "      <td>9.0</td>\n",
       "    </tr>\n",
       "    <tr>\n",
       "      <th>46</th>\n",
       "      <td>SVC_b</td>\n",
       "      <td>ternary</td>\n",
       "      <td>LOF-LDA</td>\n",
       "      <td>0.610417</td>\n",
       "      <td>0.294417</td>\n",
       "      <td>0.529611</td>\n",
       "      <td>0.592349</td>\n",
       "      <td>0.478785</td>\n",
       "      <td>0.646084</td>\n",
       "      <td>52.901665</td>\n",
       "      <td>0.864331</td>\n",
       "      <td>10.0</td>\n",
       "    </tr>\n",
       "    <tr>\n",
       "      <th>47</th>\n",
       "      <td>SVC</td>\n",
       "      <td>ternary</td>\n",
       "      <td>LOF-LDA</td>\n",
       "      <td>0.610417</td>\n",
       "      <td>0.294417</td>\n",
       "      <td>0.529611</td>\n",
       "      <td>0.592349</td>\n",
       "      <td>0.478785</td>\n",
       "      <td>0.646084</td>\n",
       "      <td>51.581846</td>\n",
       "      <td>0.812986</td>\n",
       "      <td>11.0</td>\n",
       "    </tr>\n",
       "    <tr>\n",
       "      <th>48</th>\n",
       "      <td>LinearSVC</td>\n",
       "      <td>ternary</td>\n",
       "      <td>LOF-LDA</td>\n",
       "      <td>0.610597</td>\n",
       "      <td>0.292872</td>\n",
       "      <td>0.528581</td>\n",
       "      <td>0.593672</td>\n",
       "      <td>0.481224</td>\n",
       "      <td>0.646076</td>\n",
       "      <td>6.088406</td>\n",
       "      <td>0.003123</td>\n",
       "      <td>12.0</td>\n",
       "    </tr>\n",
       "    <tr>\n",
       "      <th>49</th>\n",
       "      <td>RidgeCV</td>\n",
       "      <td>ternary</td>\n",
       "      <td>LOF+LDA</td>\n",
       "      <td>0.611311</td>\n",
       "      <td>0.287125</td>\n",
       "      <td>0.524750</td>\n",
       "      <td>0.591514</td>\n",
       "      <td>0.470373</td>\n",
       "      <td>0.643463</td>\n",
       "      <td>34.198485</td>\n",
       "      <td>0.175863</td>\n",
       "      <td>13.0</td>\n",
       "    </tr>\n",
       "    <tr>\n",
       "      <th>50</th>\n",
       "      <td>RidgeCV</td>\n",
       "      <td>ternary</td>\n",
       "      <td>LOF-LDA</td>\n",
       "      <td>0.611336</td>\n",
       "      <td>0.287170</td>\n",
       "      <td>0.524780</td>\n",
       "      <td>0.591539</td>\n",
       "      <td>0.470399</td>\n",
       "      <td>0.643486</td>\n",
       "      <td>0.102568</td>\n",
       "      <td>0.001997</td>\n",
       "      <td>14.0</td>\n",
       "    </tr>\n",
       "    <tr>\n",
       "      <th>51</th>\n",
       "      <td>SVC</td>\n",
       "      <td>ternary</td>\n",
       "      <td>LOF+LDA</td>\n",
       "      <td>0.631267</td>\n",
       "      <td>0.318778</td>\n",
       "      <td>0.545852</td>\n",
       "      <td>0.609548</td>\n",
       "      <td>0.485287</td>\n",
       "      <td>0.659447</td>\n",
       "      <td>294.029941</td>\n",
       "      <td>43.474474</td>\n",
       "      <td>15.0</td>\n",
       "    </tr>\n",
       "    <tr>\n",
       "      <th>52</th>\n",
       "      <td>RidgeCV_b</td>\n",
       "      <td>ternary</td>\n",
       "      <td>LOF+LDA</td>\n",
       "      <td>0.570071</td>\n",
       "      <td>0.356926</td>\n",
       "      <td>0.571284</td>\n",
       "      <td>0.576085</td>\n",
       "      <td>0.565102</td>\n",
       "      <td>0.673591</td>\n",
       "      <td>33.854151</td>\n",
       "      <td>0.136095</td>\n",
       "      <td>16.0</td>\n",
       "    </tr>\n",
       "    <tr>\n",
       "      <th>53</th>\n",
       "      <td>GaussianNB</td>\n",
       "      <td>ternary</td>\n",
       "      <td>LOF+LDA</td>\n",
       "      <td>0.507166</td>\n",
       "      <td>0.225616</td>\n",
       "      <td>0.483744</td>\n",
       "      <td>0.511116</td>\n",
       "      <td>0.473771</td>\n",
       "      <td>0.677424</td>\n",
       "      <td>4.359341</td>\n",
       "      <td>1.031258</td>\n",
       "      <td>17.0</td>\n",
       "    </tr>\n",
       "  </tbody>\n",
       "</table>\n",
       "</div>"
      ],
      "text/plain": [
       "    model_name     case     preprocessing  accuracy  \\\n",
       "0      RidgeCV  ternary  LOF-LDA-classLOF  0.611140   \n",
       "1   GaussianNB  ternary  LOF+LDA-classLOF  0.495272   \n",
       "2        SGD_b  ternary  LOF+LDA-classLOF  0.497053   \n",
       "3   LogRegCV_b  ternary  LOF+LDA-classLOF  0.526303   \n",
       "4          SGD  ternary  LOF+LDA-classLOF  0.535316   \n",
       "5          SVC  ternary  LOF+LDA-classLOF  0.536364   \n",
       "6        SVC_b  ternary  LOF+LDA-classLOF  0.536364   \n",
       "7      RidgeCV  ternary  LOF+LDA-classLOF  0.536369   \n",
       "8   LogRegCV_b  ternary  LOF-LDA-classLOF  0.573024   \n",
       "9    RidgeCV_b  ternary  LOF-LDA-classLOF  0.573266   \n",
       "10       SGD_b  ternary  LOF-LDA-classLOF  0.590383   \n",
       "11  GaussianNB  ternary  LOF-LDA-classLOF  0.607267   \n",
       "12   LinearSVC  ternary  LOF-LDA-classLOF  0.610437   \n",
       "13       SVC_b  ternary  LOF-LDA-classLOF  0.610443   \n",
       "14         SVC  ternary  LOF-LDA-classLOF  0.610443   \n",
       "15         SGD  ternary  LOF-LDA-classLOF  0.610951   \n",
       "16   LinearSVC  ternary  LOF+LDA-classLOF  0.430632   \n",
       "17   RidgeCV_b  ternary  LOF+LDA-classLOF  0.390599   \n",
       "18         SVC  ternary     untransformed  0.642427   \n",
       "19   RidgeCV_b  ternary         minkowski  0.570154   \n",
       "20  LogRegCV_b  ternary         minkowski  0.570771   \n",
       "21   RidgeCV_b  ternary     untransformed  0.570917   \n",
       "22  LogRegCV_b  ternary     untransformed  0.572591   \n",
       "23       SGD_b  ternary     untransformed  0.598463   \n",
       "24       SGD_b  ternary         minkowski  0.602474   \n",
       "25   LinearSVC  ternary         minkowski  0.612169   \n",
       "26   LinearSVC  ternary     untransformed  0.612371   \n",
       "27     RidgeCV  ternary         minkowski  0.612455   \n",
       "28     RidgeCV  ternary     untransformed  0.612603   \n",
       "29         SGD  ternary         minkowski  0.614953   \n",
       "30         SGD  ternary     untransformed  0.617960   \n",
       "31         SVC  ternary         minkowski  0.641773   \n",
       "32       SVC_b  ternary         minkowski  0.641773   \n",
       "33       SVC_b  ternary     untransformed  0.642427   \n",
       "34  GaussianNB  ternary         minkowski  0.494051   \n",
       "35  GaussianNB  ternary     untransformed  0.493486   \n",
       "36       SVC_b  ternary           LOF+LDA  0.631267   \n",
       "37  LogRegCV_b  ternary           LOF-LDA  0.573081   \n",
       "38   RidgeCV_b  ternary           LOF-LDA  0.573175   \n",
       "39  LogRegCV_b  ternary           LOF+LDA  0.574107   \n",
       "40       SGD_b  ternary           LOF-LDA  0.587623   \n",
       "41       SGD_b  ternary           LOF+LDA  0.594002   \n",
       "42  GaussianNB  ternary           LOF-LDA  0.607629   \n",
       "43         SGD  ternary           LOF+LDA  0.607708   \n",
       "44         SGD  ternary           LOF-LDA  0.608169   \n",
       "45   LinearSVC  ternary           LOF+LDA  0.609749   \n",
       "46       SVC_b  ternary           LOF-LDA  0.610417   \n",
       "47         SVC  ternary           LOF-LDA  0.610417   \n",
       "48   LinearSVC  ternary           LOF-LDA  0.610597   \n",
       "49     RidgeCV  ternary           LOF+LDA  0.611311   \n",
       "50     RidgeCV  ternary           LOF-LDA  0.611336   \n",
       "51         SVC  ternary           LOF+LDA  0.631267   \n",
       "52   RidgeCV_b  ternary           LOF+LDA  0.570071   \n",
       "53  GaussianNB  ternary           LOF+LDA  0.507166   \n",
       "\n",
       "    adjusted_balanced_accuracy  balanced_accuracy        f1  geometric_mean  \\\n",
       "0                     0.287827           0.525218  0.591673        0.471523   \n",
       "1                     0.042751           0.361834  0.443289        0.217157   \n",
       "2                    -0.002945           0.331370  0.389124        0.079032   \n",
       "3                    -0.002235           0.331843  0.379976        0.043506   \n",
       "4                    -0.000869           0.332754  0.375590        0.002225   \n",
       "5                     0.000038           0.333359  0.375664        0.000000   \n",
       "6                     0.000038           0.333359  0.375664        0.000000   \n",
       "7                     0.000000           0.333333  0.375599        0.000000   \n",
       "8                     0.350778           0.567185  0.579433        0.562169   \n",
       "9                     0.352363           0.568242  0.579122        0.561859   \n",
       "10                    0.330847           0.553898  0.590950        0.539547   \n",
       "11                    0.293233           0.528822  0.592567        0.487874   \n",
       "12                    0.293475           0.528983  0.593806        0.482197   \n",
       "13                    0.294790           0.529860  0.592476        0.479225   \n",
       "14                    0.294790           0.529860  0.592476        0.479225   \n",
       "15                    0.293826           0.529217  0.592917        0.476750   \n",
       "16                   -0.053716           0.297523  0.375773        0.148799   \n",
       "17                    0.029034           0.352689  0.390277        0.322383   \n",
       "18                    0.308195           0.538796  0.610017        0.453897   \n",
       "19                    0.358644           0.572429  0.575986        0.566046   \n",
       "20                    0.357185           0.571457  0.577095        0.565971   \n",
       "21                    0.359983           0.573322  0.576848        0.567095   \n",
       "22                    0.359580           0.573054  0.578942        0.567727   \n",
       "23                    0.342270           0.561514  0.595979        0.540160   \n",
       "24                    0.339221           0.559480  0.598407        0.535371   \n",
       "25                    0.294728           0.529819  0.594617        0.480460   \n",
       "26                    0.294658           0.529772  0.594727        0.480240   \n",
       "27                    0.287294           0.524862  0.592104        0.469435   \n",
       "28                    0.287094           0.524729  0.592154        0.469132   \n",
       "29                    0.286037           0.524025  0.589449        0.451850   \n",
       "30                    0.294413           0.529609  0.593350        0.458785   \n",
       "31                    0.306193           0.537462  0.608621        0.450061   \n",
       "32                    0.306193           0.537462  0.608621        0.450061   \n",
       "33                    0.308195           0.538796  0.610017        0.453897   \n",
       "34                    0.206646           0.471097  0.498288        0.460968   \n",
       "35                    0.206499           0.471000  0.497488        0.460736   \n",
       "36                    0.318778           0.545852  0.609548        0.485287   \n",
       "37                    0.350676           0.567117  0.579488        0.562076   \n",
       "38                    0.352276           0.568184  0.579031        0.561806   \n",
       "39                    0.352940           0.568626  0.580348        0.563643   \n",
       "40                    0.331593           0.554395  0.589415        0.541800   \n",
       "41                    0.331777           0.554518  0.593577        0.537779   \n",
       "42                    0.292399           0.528266  0.592481        0.486366   \n",
       "43                    0.284501           0.523000  0.588477        0.469159   \n",
       "44                    0.289564           0.526376  0.591156        0.477767   \n",
       "45                    0.294068           0.529378  0.593453        0.482642   \n",
       "46                    0.294417           0.529611  0.592349        0.478785   \n",
       "47                    0.294417           0.529611  0.592349        0.478785   \n",
       "48                    0.292872           0.528581  0.593672        0.481224   \n",
       "49                    0.287125           0.524750  0.591514        0.470373   \n",
       "50                    0.287170           0.524780  0.591539        0.470399   \n",
       "51                    0.318778           0.545852  0.609548        0.485287   \n",
       "52                    0.356926           0.571284  0.576085        0.565102   \n",
       "53                    0.225616           0.483744  0.511116        0.473771   \n",
       "\n",
       "     roc_auc    fit_time  predict_time  Unnamed: 0  \n",
       "0   0.643783    0.073306      0.000400         NaN  \n",
       "1   0.523766    4.404510      1.042664         NaN  \n",
       "2   0.497716   14.146654      0.170401         NaN  \n",
       "3   0.503974  438.576544      0.147315         NaN  \n",
       "4   0.499675   13.606297      0.191257         NaN  \n",
       "5   0.500020  293.825026     43.477351         NaN  \n",
       "6   0.500020  290.246197     42.516101         NaN  \n",
       "7   0.500000   33.714896      0.166702         NaN  \n",
       "8   0.749873    2.132368      0.003529         NaN  \n",
       "9   0.671856    0.078994      0.000397         NaN  \n",
       "10  0.663130    0.095645      0.009489         NaN  \n",
       "11  0.747414    0.003426      0.001205         NaN  \n",
       "12  0.646356    3.783503      0.003123         NaN  \n",
       "13  0.646275   51.250025      0.811847         NaN  \n",
       "14  0.646275   50.960469      0.805543         NaN  \n",
       "15  0.646753    0.091082      0.000407         NaN  \n",
       "16  0.474303  760.795822      0.158109         NaN  \n",
       "17  0.509961   34.344888      0.147560         NaN  \n",
       "18  0.654888  187.535603     29.332842         0.0  \n",
       "19  0.674264   35.380149      0.515203         1.0  \n",
       "20  0.758317  471.925950      0.508009         2.0  \n",
       "21  0.675037   37.901860      0.527701         3.0  \n",
       "22  0.758748  477.779351      0.501484         4.0  \n",
       "23  0.668613   14.681113      0.510404         5.0  \n",
       "24  0.667460   14.656479      0.516597         6.0  \n",
       "25  0.647040  656.566056      0.528778         7.0  \n",
       "26  0.646989  682.621377      0.508186         8.0  \n",
       "27  0.643601   35.167885      0.521820         9.0  \n",
       "28  0.643489   52.336691      0.519400        10.0  \n",
       "29  0.643108   13.091308      0.514980        11.0  \n",
       "30  0.647284   13.752402      0.507700        12.0  \n",
       "31  0.653912  179.768804     27.818121        13.0  \n",
       "32  0.653912  179.484738     27.804647        14.0  \n",
       "33  0.654888  200.751143     28.686791        15.0  \n",
       "34  0.664961    2.978293      1.026063        16.0  \n",
       "35  0.664912    3.348620      1.045579        17.0  \n",
       "36  0.659447  289.539724     43.044478         0.0  \n",
       "37  0.749887    2.218290      0.000400         1.0  \n",
       "38  0.671809    0.106031      0.003125         2.0  \n",
       "39  0.752494  441.071035      0.171187         3.0  \n",
       "40  0.663273    0.137977      0.004435         4.0  \n",
       "41  0.663996   13.792928      0.157616         5.0  \n",
       "42  0.747436    0.014400      0.003733         6.0  \n",
       "43  0.642104   14.794149      0.174581         7.0  \n",
       "44  0.644528    0.126126      0.000000         8.0  \n",
       "45  0.646650  806.100036      0.157450         9.0  \n",
       "46  0.646084   52.901665      0.864331        10.0  \n",
       "47  0.646084   51.581846      0.812986        11.0  \n",
       "48  0.646076    6.088406      0.003123        12.0  \n",
       "49  0.643463   34.198485      0.175863        13.0  \n",
       "50  0.643486    0.102568      0.001997        14.0  \n",
       "51  0.659447  294.029941     43.474474        15.0  \n",
       "52  0.673591   33.854151      0.136095        16.0  \n",
       "53  0.677424    4.359341      1.031258        17.0  "
      ]
     },
     "execution_count": 13,
     "metadata": {},
     "output_type": "execute_result"
    },
    {
     "name": "stdout",
     "output_type": "stream",
     "text": [
      "time: 83.5 ms\n"
     ]
    }
   ],
   "source": [
    "results_df = pd.concat(\n",
    "    [\n",
    "        results_df,\n",
    "        pd.read_csv(\n",
    "            \"../15.0-mic-compare_outlier_removal_techniques/compare_LOF_results_CV5.csv\"\n",
    "        ).rename(columns={\"LOF\": \"preprocessing\"}),\n",
    "        pd.read_csv(\"./LOF-LDA_vs_LOF+LDA_CV5.csv\"),\n",
    "    ]\n",
    ").reset_index(drop=True)\n",
    "results_df"
   ]
  },
  {
   "cell_type": "code",
   "execution_count": 14,
   "metadata": {},
   "outputs": [
    {
     "name": "stdout",
     "output_type": "stream",
     "text": [
      "time: 116 ms\n"
     ]
    }
   ],
   "source": [
    "METRIC_NAMES = {\n",
    "    \"accuracy\": \"Accuracy\",\n",
    "    \"adjusted_balanced_accuracy\": \"Balanced Accuracy (adjusted)\",\n",
    "    \"balanced_accuracy\": \"Balanced Accuracy\",\n",
    "    \"f1\": \"F1 Score\",\n",
    "    \"geometric_mean\": \"Geometric Mean (sensitivity & specificity)\",\n",
    "    \"roc_auc\": \"Area Under ROC Curve\",\n",
    "    \"fit_time\": \"Fit Time\",\n",
    "    \"predict_time\": \"Predict Time\",\n",
    "}\n",
    "\n",
    "_ = gc_collect()"
   ]
  },
  {
   "cell_type": "code",
   "execution_count": 15,
   "metadata": {},
   "outputs": [
    {
     "name": "stdout",
     "output_type": "stream",
     "text": [
      "time: 117 ms\n"
     ]
    }
   ],
   "source": [
    "def plot_metric(metric: str, results_df: pd.DataFrame) -> None:\n",
    "    \"\"\"Draw a barplot by binary classifier.\"\"\"\n",
    "    time_metric = \"time\" in metric\n",
    "    results_df = results_df.sort_values(by=metric, ascending=time_metric)\n",
    "\n",
    "    g = sns.catplot(\n",
    "        x=\"model_name\",\n",
    "        y=metric,\n",
    "        hue=\"preprocessing\",\n",
    "        data=results_df,\n",
    "        hue_order=sorted(hues := np.unique(results_df.preprocessing)),\n",
    "        seed=SEED,\n",
    "        kind=\"bar\",\n",
    "        palette=\"colorblind\",\n",
    "        alpha=0.65,\n",
    "    )\n",
    "    g.fig.set_figwidth(16)\n",
    "    g.despine(**dict.fromkeys((\"left\", \"top\", \"right\"), True))\n",
    "    g.set_axis_labels(x_var=\"\", y_var=\"\")\n",
    "    sns.move_legend(\n",
    "        g,\n",
    "        \"lower center\",\n",
    "        bbox_to_anchor=(0.5, 0.85),\n",
    "        ncol=len(hues),\n",
    "        title=None,\n",
    "    )\n",
    "\n",
    "    if not time_metric:\n",
    "        plt.ylim(0, 1)\n",
    "    plt.setp(plt.gca().patches, linewidth=0)\n",
    "\n",
    "    plt.suptitle(\n",
    "        f\"{METRIC_NAMES[metric]}{' (s)' if time_metric else ''}\", fontweight=\"bold\"\n",
    "    )\n",
    "    plt.tight_layout()\n",
    "    plt.show()\n",
    "\n",
    "\n",
    "_ = gc_collect()"
   ]
  },
  {
   "cell_type": "code",
   "execution_count": 16,
   "metadata": {},
   "outputs": [
    {
     "data": {
      "application/vnd.jupyter.widget-view+json": {
       "model_id": "7d36d88eabf743558392d56d01781d38",
       "version_major": 2,
       "version_minor": 0
      },
      "text/plain": [
       "  0%|          | 0/8 [00:00<?, ?it/s]"
      ]
     },
     "metadata": {},
     "output_type": "display_data"
    },
    {
     "data": {
      "image/png": "[encoded data removed]",
      "text/plain": [
       "<Figure size 1152x360 with 1 Axes>"
      ]
     },
     "metadata": {
      "needs_background": "light"
     },
     "output_type": "display_data"
    },
    {
     "data": {
      "image/png": "[encoded data removed]",
      "text/plain": [
       "<Figure size 1152x360 with 1 Axes>"
      ]
     },
     "metadata": {
      "needs_background": "light"
     },
     "output_type": "display_data"
    },
    {
     "data": {
      "image/png": "[encoded data removed]",
      "text/plain": [
       "<Figure size 1152x360 with 1 Axes>"
      ]
     },
     "metadata": {
      "needs_background": "light"
     },
     "output_type": "display_data"
    },
    {
     "data": {
      "image/png": "[encoded data removed]",
      "text/plain": [
       "<Figure size 1152x360 with 1 Axes>"
      ]
     },
     "metadata": {
      "needs_background": "light"
     },
     "output_type": "display_data"
    },
    {
     "data": {
      "image/png": "[encoded data removed]",
      "text/plain": [
       "<Figure size 1152x360 with 1 Axes>"
      ]
     },
     "metadata": {
      "needs_background": "light"
     },
     "output_type": "display_data"
    },
    {
     "data": {
      "image/png": "[encoded data removed]",
      "text/plain": [
       "<Figure size 1152x360 with 1 Axes>"
      ]
     },
     "metadata": {
      "needs_background": "light"
     },
     "output_type": "display_data"
    },
    {
     "data": {
      "image/png": "[encoded data removed]",
      "text/plain": [
       "<Figure size 1152x360 with 1 Axes>"
      ]
     },
     "metadata": {
      "needs_background": "light"
     },
     "output_type": "display_data"
    },
    {
     "data": {
      "image/png": "[encoded data removed]",
      "text/plain": [
       "<Figure size 1152x360 with 1 Axes>"
      ]
     },
     "metadata": {
      "needs_background": "light"
     },
     "output_type": "display_data"
    },
    {
     "name": "stdout",
     "output_type": "stream",
     "text": [
      "time: 4.65 s\n"
     ]
    }
   ],
   "source": [
    "for metric in tqdm(METRICS):\n",
    "    plot_metric(metric, results_df)"
   ]
  },
  {
   "cell_type": "markdown",
   "metadata": {},
   "source": [
    "# Discussion\n",
    "\n",
    "Looks like a bug in the data pipeline. We will fix that before comparing results."
   ]
  },
  {
   "cell_type": "code",
   "execution_count": 17,
   "metadata": {},
   "outputs": [
    {
     "name": "stdout",
     "output_type": "stream",
     "text": [
      "Time elapsed since notebook_begin_time: 10569.156101465225 s\n",
      "time: 152 ms\n"
     ]
    }
   ],
   "source": [
    "print(f\"Time elapsed since notebook_begin_time: {time() - notebook_begin_time} s\")\n",
    "_ = gc_collect()"
   ]
  },
  {
   "cell_type": "markdown",
   "metadata": {},
   "source": [
    "[^top](#Contents)"
   ]
  },
  {
   "cell_type": "code",
   "execution_count": null,
   "metadata": {},
   "outputs": [],
   "source": []
  }
 ],
 "metadata": {
  "interpreter": {
   "hash": "e1781be99c106060f3abc0c9b91d3d379f24672894e2158d4b74304109955878"
  },
  "kernelspec": {
   "display_name": "Python 3 (ipykernel)",
   "language": "python",
   "name": "python3"
  },
  "language_info": {
   "codemirror_mode": {
    "name": "ipython",
    "version": 3
   },
   "file_extension": ".py",
   "mimetype": "text/x-python",
   "name": "python",
   "nbconvert_exporter": "python",
   "pygments_lexer": "ipython3",
   "version": "3.8.12"
  }
 },
 "nbformat": 4,
 "nbformat_minor": 4
}
