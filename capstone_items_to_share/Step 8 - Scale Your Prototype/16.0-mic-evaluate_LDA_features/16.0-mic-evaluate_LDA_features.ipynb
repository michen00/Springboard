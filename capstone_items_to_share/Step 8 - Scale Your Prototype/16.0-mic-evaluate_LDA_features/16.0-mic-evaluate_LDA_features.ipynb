{
 "cells": [
  {
   "cell_type": "markdown",
   "metadata": {},
   "source": [
    "# Contents\n",
    "* [Introduction](#Introduction)\n",
    "* [Imports and configuration](#Imports-and-configuration)\n",
    "* [Setup](#Setup)\n",
    "* [Score models](#Score-models)\n",
    "* [Results](#Results)\n",
    "* [Discussion](#Discussion)"
   ]
  },
  {
   "cell_type": "markdown",
   "metadata": {},
   "source": [
    "# Introduction\n",
    "\n",
    "This notebook examines the efficacy of LDA components as features."
   ]
  },
  {
   "cell_type": "markdown",
   "metadata": {},
   "source": [
    "# Imports and configuration"
   ]
  },
  {
   "cell_type": "code",
   "execution_count": 1,
   "metadata": {},
   "outputs": [],
   "source": [
    "from time import time\n",
    "\n",
    "notebook_begin_time = time()\n",
    "\n",
    "# set random seeds\n",
    "\n",
    "from os import environ\n",
    "from random import seed as random_seed\n",
    "from numpy.random import seed as np_seed\n",
    "from tensorflow.random import set_seed\n",
    "\n",
    "\n",
    "def reset_seeds(seed: int) -> None:\n",
    "    \"\"\"Utility function for resetting random seeds\"\"\"\n",
    "    environ[\"PYTHONHASHSEED\"] = str(seed)\n",
    "    random_seed(seed)\n",
    "    np_seed(seed)\n",
    "    set_seed(seed)\n",
    "\n",
    "\n",
    "reset_seeds(SEED := 2021)\n",
    "del environ\n",
    "del random_seed\n",
    "del np_seed\n",
    "del set_seed\n",
    "del reset_seeds"
   ]
  },
  {
   "cell_type": "code",
   "execution_count": 2,
   "metadata": {},
   "outputs": [],
   "source": [
    "# extensions\n",
    "%load_ext autotime\n",
    "%load_ext lab_black\n",
    "%load_ext nb_black"
   ]
  },
  {
   "cell_type": "code",
   "execution_count": 3,
   "metadata": {},
   "outputs": [
    {
     "name": "stderr",
     "output_type": "stream",
     "text": [
      "Intel(R) Extension for Scikit-learn* enabled (https://github.com/intel/scikit-learn-intelex)\n"
     ]
    },
    {
     "name": "stdout",
     "output_type": "stream",
     "text": [
      "time: 3.44 s\n"
     ]
    }
   ],
   "source": [
    "# core\n",
    "import numpy as np\n",
    "import pandas as pd\n",
    "\n",
    "# utility\n",
    "from collections import namedtuple\n",
    "from gc import collect as gc_collect\n",
    "from tqdm.notebook import tqdm\n",
    "\n",
    "# typing\n",
    "from typing import Any, Dict, List\n",
    "\n",
    "# faster pandas & sklearn\n",
    "import swifter\n",
    "from sklearnex import patch_sklearn\n",
    "\n",
    "patch_sklearn()\n",
    "del patch_sklearn\n",
    "\n",
    "# metrics\n",
    "from imblearn.metrics import geometric_mean_score\n",
    "from sklearn.metrics import (\n",
    "    accuracy_score,\n",
    "    balanced_accuracy_score,\n",
    "    f1_score,\n",
    "    roc_auc_score,\n",
    ")\n",
    "\n",
    "# other sklearn\n",
    "from sklearn.calibration import CalibratedClassifierCV\n",
    "from sklearn.linear_model import (\n",
    "    LogisticRegressionCV,\n",
    "    RidgeClassifierCV,\n",
    "    SGDClassifier,\n",
    ")\n",
    "from sklearn.model_selection import RandomizedSearchCV\n",
    "from sklearn.naive_bayes import GaussianNB\n",
    "from sklearn.svm import LinearSVC, SVC\n",
    "\n",
    "# visualization\n",
    "import matplotlib.pyplot as plt\n",
    "import seaborn as sns\n",
    "\n",
    "sns.set_context(\"notebook\")\n",
    "%matplotlib inline\n",
    "\n",
    "# display outputs w/o print calls\n",
    "from IPython.core.interactiveshell import InteractiveShell\n",
    "\n",
    "InteractiveShell.ast_node_interactivity = \"all\"\n",
    "del InteractiveShell\n",
    "\n",
    "# hide warnings\n",
    "import warnings\n",
    "\n",
    "warnings.filterwarnings(\"ignore\")\n",
    "del warnings"
   ]
  },
  {
   "cell_type": "code",
   "execution_count": 4,
   "metadata": {},
   "outputs": [
    {
     "name": "stdout",
     "output_type": "stream",
     "text": [
      "time: 122 ms\n"
     ]
    }
   ],
   "source": [
    "# Location of cross validation data\n",
    "FRILL_FEATHERS_FOLDER = \"../10.0-mic-prepare_train-test_splits_on_full_data\"\n",
    "\n",
    "# Location where this notebook will output\n",
    "DATA_OUT_FOLDER = \".\"\n",
    "\n",
    "_ = gc_collect()"
   ]
  },
  {
   "cell_type": "markdown",
   "metadata": {},
   "source": [
    "# Setup\n",
    "\n",
    "In this section, we define some structures to keep track of models and scores."
   ]
  },
  {
   "cell_type": "code",
   "execution_count": 5,
   "metadata": {},
   "outputs": [
    {
     "name": "stdout",
     "output_type": "stream",
     "text": [
      "time: 109 ms\n"
     ]
    }
   ],
   "source": [
    "MODELS = {\n",
    "    \"GaussianNB\": lambda: GaussianNB(),\n",
    "    \"GaussianNB_acc\": lambda: RandomizedSearchCV(\n",
    "        estimator=GaussianNB(),\n",
    "        param_distributions={\"var_smoothing\": np.logspace(-2, -10, num=200)},\n",
    "        n_iter=100,\n",
    "        scoring=\"accuracy\",\n",
    "        n_jobs=-1,\n",
    "        verbose=2,\n",
    "        random_state=SEED,\n",
    "    ),\n",
    "    \"GaussianNB_balacc\": lambda: RandomizedSearchCV(\n",
    "        estimator=GaussianNB(),\n",
    "        param_distributions={\"var_smoothing\": np.logspace(-2, -10, num=200)},\n",
    "        n_iter=100,\n",
    "        scoring=\"balanced_accuracy\",\n",
    "        n_jobs=-1,\n",
    "        verbose=2,\n",
    "        random_state=SEED,\n",
    "    ),\n",
    "    \"GaussianNB_f1\": lambda: RandomizedSearchCV(\n",
    "        estimator=GaussianNB(),\n",
    "        param_distributions={\"var_smoothing\": np.logspace(-2, -10, num=200)},\n",
    "        n_iter=100,\n",
    "        scoring=\"f1_weighted\",\n",
    "        n_jobs=-1,\n",
    "        verbose=2,\n",
    "        random_state=SEED,\n",
    "    ),\n",
    "    \"GaussianNB_iso-calib\": lambda: CalibratedClassifierCV(\n",
    "        base_estimator=GaussianNB(), method=\"isotonic\"\n",
    "    ),\n",
    "    \"GaussianNB_sig-calib\": lambda: CalibratedClassifierCV(\n",
    "        base_estimator=GaussianNB(), method=\"sigmoid\"\n",
    "    ),\n",
    "    \"LinearSVC\": lambda: LinearSVC(random_state=SEED),\n",
    "    \"LinearSVC_b\": lambda: LinearSVC(class_weight=\"balanced\", random_state=SEED),\n",
    "    \"LinearSVC_iso-calib\": lambda: CalibratedClassifierCV(\n",
    "        base_estimator=LinearSVC(random_state=SEED), method=\"isotonic\"\n",
    "    ),\n",
    "    \"LinearSVC_sig-calib\": lambda: CalibratedClassifierCV(\n",
    "        base_estimator=LinearSVC(random_state=SEED), method=\"sigmoid\"\n",
    "    ),\n",
    "    \"LinearSVC_b_iso-calib\": lambda: CalibratedClassifierCV(\n",
    "        base_estimator=LinearSVC(class_weight=\"balanced\", random_state=SEED),\n",
    "        method=\"isotonic\",\n",
    "    ),\n",
    "    \"LinearSVC_b_sig-calib\": lambda: CalibratedClassifierCV(\n",
    "        base_estimator=LinearSVC(class_weight=\"balanced\", random_state=SEED),\n",
    "        method=\"sigmoid\",\n",
    "    ),\n",
    "    \"LogRegCV_acc\": lambda: LogisticRegressionCV(\n",
    "        scoring=\"accuracy\",\n",
    "        n_jobs=-1,\n",
    "        verbose=1,\n",
    "        random_state=SEED,\n",
    "    ),\n",
    "    \"LogRegCV_balacc\": lambda: LogisticRegressionCV(\n",
    "        scoring=\"balanced_accuracy\",\n",
    "        n_jobs=-1,\n",
    "        verbose=1,\n",
    "        random_state=SEED,\n",
    "    ),\n",
    "    \"LogRegCV_f1\": lambda: LogisticRegressionCV(\n",
    "        scoring=\"f1_weighted\",\n",
    "        n_jobs=-1,\n",
    "        verbose=1,\n",
    "        random_state=SEED,\n",
    "    ),\n",
    "    \"LogRegCV_b_acc\": lambda: LogisticRegressionCV(\n",
    "        scoring=\"accuracy\",\n",
    "        class_weight=\"balanced\",\n",
    "        n_jobs=-1,\n",
    "        verbose=1,\n",
    "        random_state=SEED,\n",
    "    ),\n",
    "    \"LogRegCV_b_balacc\": lambda: LogisticRegressionCV(\n",
    "        scoring=\"balanced_accuracy\",\n",
    "        class_weight=\"balanced\",\n",
    "        n_jobs=-1,\n",
    "        verbose=1,\n",
    "        random_state=SEED,\n",
    "    ),\n",
    "    \"LogRegCV_b_f1\": lambda: LogisticRegressionCV(\n",
    "        scoring=\"f1_weighted\",\n",
    "        class_weight=\"balanced\",\n",
    "        n_jobs=-1,\n",
    "        verbose=1,\n",
    "        random_state=SEED,\n",
    "    ),\n",
    "    \"RidgeCV_acc\": lambda: RidgeClassifierCV(\n",
    "        scoring=\"accuracy\", class_weight=\"balanced\"\n",
    "    ),\n",
    "    \"RidgeCV_balacc\": lambda: RidgeClassifierCV(\n",
    "        scoring=\"balanced_accuracy\", class_weight=\"balanced\"\n",
    "    ),\n",
    "    \"RidgeCV_f1\": lambda: RidgeClassifierCV(\n",
    "        scoring=\"f1_weighted\", class_weight=\"balanced\"\n",
    "    ),\n",
    "    \"RidgeCV_b_acc\": lambda: RidgeClassifierCV(\n",
    "        scoring=\"accuracy\", class_weight=\"balanced\"\n",
    "    ),\n",
    "    \"RidgeCV_b_balacc\": lambda: RidgeClassifierCV(\n",
    "        scoring=\"balanced_accuracy\", class_weight=\"balanced\"\n",
    "    ),\n",
    "    \"RidgeCV_b_f1\": lambda: RidgeClassifierCV(\n",
    "        scoring=\"f1_weighted\", class_weight=\"balanced\"\n",
    "    ),\n",
    "    \"SGD\": lambda: SGDClassifier(n_jobs=-1, random_state=SEED),\n",
    "    \"SGD_b\": lambda: SGDClassifier(\n",
    "        n_jobs=-1, random_state=SEED, class_weight=\"balanced\"\n",
    "    ),\n",
    "    \"SGD_iso-calib\": lambda: CalibratedClassifierCV(\n",
    "        base_estimator=SGDClassifier(n_jobs=-1, random_state=SEED), method=\"isotonic\"\n",
    "    ),\n",
    "    \"SGD_sig-calib\": lambda: CalibratedClassifierCV(\n",
    "        base_estimator=SGDClassifier(n_jobs=-1, random_state=SEED), method=\"sigmoid\"\n",
    "    ),\n",
    "    \"SGD_b_iso-calib\": lambda: CalibratedClassifierCV(\n",
    "        base_estimator=SGDClassifier(\n",
    "            n_jobs=-1, random_state=SEED, class_weight=\"balanced\"\n",
    "        ),\n",
    "        method=\"isotonic\",\n",
    "    ),\n",
    "    \"SGD_b_sig-calib\": lambda: CalibratedClassifierCV(\n",
    "        base_estimator=SGDClassifier(\n",
    "            n_jobs=-1, random_state=SEED, class_weight=\"balanced\"\n",
    "        ),\n",
    "        method=\"sigmoid\",\n",
    "    ),\n",
    "    \"SVC\": lambda: SVC(random_state=SEED),\n",
    "    \"SVC_iso-calib\": lambda: CalibratedClassifierCV(\n",
    "        base_estimator=SVC(random_state=SEED), method=\"isotonic\"\n",
    "    ),\n",
    "    \"SVC_sig-calib\": lambda: CalibratedClassifierCV(\n",
    "        base_estimator=SVC(random_state=SEED), method=\"sigmoid\"\n",
    "    ),\n",
    "}\n",
    "\n",
    "_ = gc_collect()"
   ]
  },
  {
   "cell_type": "code",
   "execution_count": 6,
   "metadata": {},
   "outputs": [
    {
     "name": "stdout",
     "output_type": "stream",
     "text": [
      "time: 123 ms\n"
     ]
    }
   ],
   "source": [
    "METRICS = (\n",
    "    \"accuracy\",\n",
    "    \"adjusted_balanced_accuracy\",\n",
    "    \"balanced_accuracy\",\n",
    "    \"f1\",\n",
    "    \"geometric_mean\",\n",
    "    \"roc_auc\",\n",
    "    \"fit_time\",\n",
    "    \"predict_time\",\n",
    ")\n",
    "\n",
    "# to be cast to pd.DataFrame\n",
    "make_results = lambda: {\n",
    "    key: [] for key in {\"model_name\", \"case\", \"preprocessing\", *METRICS}\n",
    "}\n",
    "results_ = make_results()\n",
    "\n",
    "AvgScores = namedtuple(\"AvgScores\", METRICS)\n",
    "\n",
    "\n",
    "def store_result(\n",
    "    where: Dict[str, List],\n",
    "    model_name: str,\n",
    "    case: str,\n",
    "    preprocessing: str,\n",
    "    avg_scores: AvgScores,\n",
    ") -> None:\n",
    "    \"Appends a model's scores and fit/predict times to the results dict.\"\n",
    "    for attribute, value in {\n",
    "        \"model_name\": model_name,\n",
    "        \"case\": case,\n",
    "        \"preprocessing\": preprocessing,\n",
    "        **avg_scores._asdict(),\n",
    "    }.items():\n",
    "        where[attribute].append(value)\n",
    "\n",
    "\n",
    "def create_results_df(results_dict: Dict[str, List]) -> pd.DataFrame:\n",
    "    \"\"\"Create a results dataframe from the results dictionary\"\"\"\n",
    "    df = (\n",
    "        pd.DataFrame(results_dict)\n",
    "        .sort_values(by=[\"preprocessing\", \"model_name\"], ascending=True)\n",
    "        .sort_values(by=[\"fit_time\", \"predict_time\"], ascending=True)\n",
    "        .sort_values(\n",
    "            by=[\n",
    "                \"accuracy\",\n",
    "                \"adjusted_balanced_accuracy\",\n",
    "                \"balanced_accuracy\",\n",
    "                \"geometric_mean\",\n",
    "                \"f1\",\n",
    "                \"roc_auc\",\n",
    "            ],\n",
    "            ascending=False,\n",
    "        )\n",
    "        .sort_values(by=[\"case\"], ascending=True)\n",
    "        .reset_index(drop=True)\n",
    "    )[\n",
    "        [  # selection order\n",
    "            \"model_name\",\n",
    "            \"case\",\n",
    "            \"preprocessing\",\n",
    "            \"accuracy\",\n",
    "            \"adjusted_balanced_accuracy\",\n",
    "            \"balanced_accuracy\",\n",
    "            \"f1\",\n",
    "            \"geometric_mean\",\n",
    "            \"roc_auc\",\n",
    "            \"fit_time\",\n",
    "            \"predict_time\",\n",
    "        ]\n",
    "    ]\n",
    "    df.loc[:, \"case\"] = df.loc[:, \"case\"].astype(\"category\")\n",
    "    df.loc[:, \"preprocessing\"] = df.loc[:, \"preprocessing\"].astype(\"category\")\n",
    "    return df\n",
    "\n",
    "\n",
    "ALL_CASES = {\"ternary\"}\n",
    "\n",
    "_ = gc_collect()"
   ]
  },
  {
   "cell_type": "code",
   "execution_count": 7,
   "metadata": {},
   "outputs": [
    {
     "name": "stdout",
     "output_type": "stream",
     "text": [
      "time: 118 ms\n"
     ]
    }
   ],
   "source": [
    "predictions_ = {key: [] for key in {\"model\", \"case\", \"preprocessing\", \"fold\", \"y_pred\"}}\n",
    "\n",
    "Prediction = namedtuple(\"Prediction\", predictions_.keys())\n",
    "\n",
    "\n",
    "def store_prediction(where: Dict[str, List], prediction: Prediction) -> None:\n",
    "    \"Records the y_pred of a classifier on a fold\"\n",
    "    for k, v in prediction._asdict().items():\n",
    "        where[k].append(v)\n",
    "\n",
    "\n",
    "_ = gc_collect()"
   ]
  },
  {
   "cell_type": "code",
   "execution_count": 8,
   "metadata": {},
   "outputs": [
    {
     "name": "stdout",
     "output_type": "stream",
     "text": [
      "time: 121 ms\n"
     ]
    }
   ],
   "source": [
    "def print_and_append(to_append: Any, append_to: List[Any]) -> List[Any]:\n",
    "    \"\"\"Given an object and a list, pass the object to print() and then append it to the list, which is returned\"\"\"\n",
    "    print(to_append)\n",
    "    append_to.append(to_append)\n",
    "    return append_to\n",
    "\n",
    "\n",
    "def prep_y_pred(label: int) -> np.ndarray:\n",
    "    \"\"\"Prepares labels for AUROC scoring\"\"\"\n",
    "    _ = [0, 0, 0]\n",
    "    _[label] = 1\n",
    "    return np.asarray(_, dtype=np.float64)\n",
    "\n",
    "\n",
    "def evaluate_model(\n",
    "    model_base: str,\n",
    "    case: str = \"ternary\",\n",
    "    preprocessing: str = \"untransformed\",\n",
    "    track_fold_time: bool = True,\n",
    ") -> AvgScores:\n",
    "    \"\"\"Evaluate a model with cross validation on prepared folds.\"\"\"\n",
    "    (\n",
    "        fit_times,\n",
    "        predict_times,\n",
    "        accuracy,\n",
    "        adjusted_balanced_accuracy,\n",
    "        balanced_accuracy,\n",
    "        f1,\n",
    "        geometric_mean,\n",
    "        roc_auc,\n",
    "    ) = ([] for _ in range(8))\n",
    "    fold_num = 0\n",
    "    while True:\n",
    "        if track_fold_time:\n",
    "            fold_begin = time()\n",
    "        # load training data\n",
    "        read_feather_cv = lambda filename: pd.read_feather(\n",
    "            f\"{FRILL_FEATHERS_FOLDER}/cv_{fold_num}/{filename}.feather\"\n",
    "        )\n",
    "        resampled_LDA = \"resampled\" in preprocessing\n",
    "        try:\n",
    "            X_train = read_feather_cv(\n",
    "                f\"X_train_{'resampled_' if resampled_LDA else ''}LDA\"\n",
    "            )\n",
    "            y_train = read_feather_cv(\n",
    "                f\"y_train_{'resampled_ter' if resampled_LDA else 'untransformed'}\"\n",
    "            ).iloc[:, 0]\n",
    "        except FileNotFoundError:\n",
    "            break\n",
    "\n",
    "        # initialize model\n",
    "        model = MODELS[model_base]()\n",
    "\n",
    "        # fit\n",
    "        begin = time()\n",
    "        model.fit(X_train, y_train)\n",
    "        end = time()\n",
    "        del X_train\n",
    "        del y_train\n",
    "        _ = gc_collect()\n",
    "        fit_times.append(end - begin)\n",
    "        print(f\"fitted in {end - begin:.2f} s\")\n",
    "\n",
    "        try:\n",
    "            print(\"best score: \", model.best_score_)\n",
    "            print(model.best_params_)\n",
    "        except AttributeError:\n",
    "            pass\n",
    "\n",
    "        # load test data\n",
    "        X_test = read_feather_cv(f\"X_test_{'resampled_' if resampled_LDA else ''}LDA\")\n",
    "\n",
    "        # predict\n",
    "        begin = time()\n",
    "        predicted = model.predict(X_test)\n",
    "        end = time()\n",
    "        try:\n",
    "            proba_predict = model.predict_proba(X_test)\n",
    "        except AttributeError:\n",
    "            # some classifiers do not support .predict_proba\n",
    "            proba_predict = np.stack(pd.Series(predicted).swifter.apply(prep_y_pred))\n",
    "        del X_test\n",
    "        del model\n",
    "        _ = gc_collect()\n",
    "        predict_times.append(end - begin)\n",
    "        print(f\"predicted in {end - begin:.2f} s\")\n",
    "        del end\n",
    "        del begin\n",
    "        _ = gc_collect()\n",
    "        store_prediction(\n",
    "            where=predictions_,\n",
    "            prediction=Prediction(\n",
    "                model=model_base,\n",
    "                case=case,\n",
    "                preprocessing=preprocessing,\n",
    "                fold=fold_num,\n",
    "                y_pred=proba_predict,\n",
    "            ),\n",
    "        )\n",
    "\n",
    "        # score\n",
    "        score_params = {\n",
    "            \"y_true\": read_feather_cv(\n",
    "                f\"y_test_{'ter' if resampled_LDA else 'untransformed'}\"\n",
    "            ).iloc[:, 0],\n",
    "            \"y_pred\": predicted,\n",
    "        }\n",
    "        del resampled_LDA\n",
    "        _ = gc_collect()\n",
    "        print(\"accuracy: \", end=\"\")\n",
    "        accuracy = print_and_append(\n",
    "            to_append=accuracy_score(**score_params), append_to=accuracy\n",
    "        )\n",
    "        print(\"adjusted balanced accuracy: \", end=\"\")\n",
    "        adjusted_balanced_accuracy = print_and_append(\n",
    "            to_append=balanced_accuracy_score(**score_params, adjusted=True),\n",
    "            append_to=adjusted_balanced_accuracy,\n",
    "        )\n",
    "        print(\"balanced accuracy: \", end=\"\")\n",
    "        balanced_accuracy = print_and_append(\n",
    "            to_append=balanced_accuracy_score(**score_params),\n",
    "            append_to=balanced_accuracy,\n",
    "        )\n",
    "        print(\"f1: \", end=\"\")\n",
    "        f1 = print_and_append(\n",
    "            to_append=f1_score(**score_params, average=\"weighted\"), append_to=f1\n",
    "        )\n",
    "        print(\"geometric mean: \", end=\"\")\n",
    "        geometric_mean = print_and_append(\n",
    "            to_append=geometric_mean_score(**score_params), append_to=geometric_mean\n",
    "        )\n",
    "        print(\"roc auc: \", end=\"\")\n",
    "        roc_auc = print_and_append(\n",
    "            to_append=roc_auc_score(\n",
    "                y_true=score_params[\"y_true\"],\n",
    "                y_score=proba_predict,\n",
    "                average=\"weighted\",\n",
    "                multi_class=\"ovo\",\n",
    "            ),\n",
    "            append_to=roc_auc,\n",
    "        )\n",
    "        del score_params\n",
    "        del predicted\n",
    "        del proba_predict\n",
    "        _ = gc_collect()\n",
    "\n",
    "        if track_fold_time:\n",
    "            print(\n",
    "                f\"{model_base} fold {fold_num + 1} completed in {time() - fold_begin:.2f} s\"\n",
    "            )\n",
    "            del fold_begin\n",
    "\n",
    "        fold_num += 1\n",
    "        _ = gc_collect()\n",
    "\n",
    "    return AvgScores(\n",
    "        *[\n",
    "            np.mean(_)\n",
    "            for _ in (\n",
    "                accuracy,\n",
    "                adjusted_balanced_accuracy,\n",
    "                balanced_accuracy,\n",
    "                f1,\n",
    "                geometric_mean,\n",
    "                roc_auc,\n",
    "                fit_times,\n",
    "                predict_times,\n",
    "            )\n",
    "        ]\n",
    "    )\n",
    "\n",
    "\n",
    "case = \"ternary\"\n",
    "\n",
    "_ = gc_collect()"
   ]
  },
  {
   "cell_type": "markdown",
   "metadata": {},
   "source": [
    "# Score models"
   ]
  },
  {
   "cell_type": "code",
   "execution_count": 9,
   "metadata": {},
   "outputs": [
    {
     "data": {
      "application/vnd.jupyter.widget-view+json": {
       "model_id": "fecdc0b7b07a4707bfef4a1416ad178c",
       "version_major": 2,
       "version_minor": 0
      },
      "text/plain": [
       "  0%|          | 0/33 [00:00<?, ?it/s]"
      ]
     },
     "metadata": {},
     "output_type": "display_data"
    },
    {
     "name": "stdout",
     "output_type": "stream",
     "text": [
      "evaluating GaussianNB...\n",
      "fitted in 0.27 s\n",
      "predicted in 0.02 s\n",
      "accuracy: 0.5809248554913294\n",
      "adjusted balanced accuracy: 0.3782180245802694\n",
      "balanced accuracy: 0.5854786830535129\n",
      "f1: 0.5889712614927145\n",
      "geometric mean: 0.582493710402417\n",
      "roc auc: 0.7541237983137931\n",
      "GaussianNB fold 1 completed in 0.91 s\n",
      "fitted in 0.01 s\n",
      "predicted in 0.00 s\n",
      "accuracy: 0.595626518569941\n",
      "adjusted balanced accuracy: 0.40699715430818584\n",
      "balanced accuracy: 0.6046647695387906\n",
      "f1: 0.6062906409732759\n",
      "geometric mean: 0.6026445620625889\n",
      "roc auc: 0.7783076402142044\n",
      "GaussianNB fold 2 completed in 0.60 s\n",
      "fitted in 0.02 s\n",
      "predicted in 0.02 s\n",
      "accuracy: 0.5393136290698276\n",
      "adjusted balanced accuracy: 0.3308185943451745\n",
      "balanced accuracy: 0.553879062896783\n",
      "f1: 0.5503438331640085\n",
      "geometric mean: 0.5499282913743934\n",
      "roc auc: 0.7362499896223926\n",
      "GaussianNB fold 3 completed in 0.62 s\n",
      "fitted in 0.01 s\n",
      "predicted in 0.00 s\n",
      "accuracy: 0.5388092570413012\n",
      "adjusted balanced accuracy: 0.307976416320255\n",
      "balanced accuracy: 0.5386509442135033\n",
      "f1: 0.5458885754673097\n",
      "geometric mean: 0.5301843983755352\n",
      "roc auc: 0.7248691946953676\n",
      "GaussianNB fold 4 completed in 0.62 s\n",
      "fitted in 0.02 s\n",
      "predicted in 0.02 s\n",
      "accuracy: 0.5260706508589402\n",
      "adjusted balanced accuracy: 0.30997628375046166\n",
      "balanced accuracy: 0.5399841891669744\n",
      "f1: 0.5293524841255939\n",
      "geometric mean: 0.5324905857617834\n",
      "roc auc: 0.7248249697639022\n",
      "GaussianNB fold 5 completed in 0.63 s\n",
      "stored GaussianNB in 3.96 s\n",
      "evaluating GaussianNB...\n",
      "fitted in 0.01 s\n",
      "predicted in 0.02 s\n",
      "accuracy: 0.6388024307099451\n",
      "adjusted balanced accuracy: 0.3078084321636786\n",
      "balanced accuracy: 0.5385389547757857\n",
      "f1: 0.6201531933432604\n",
      "geometric mean: 0.49464781544620634\n",
      "roc auc: 0.7569917058749666\n",
      "GaussianNB fold 1 completed in 0.60 s\n",
      "fitted in 0.01 s\n",
      "predicted in 0.00 s\n",
      "accuracy: 0.6473446719888928\n",
      "adjusted balanced accuracy: 0.3430978675360087\n",
      "balanced accuracy: 0.5620652450240058\n",
      "f1: 0.6355795410687106\n",
      "geometric mean: 0.5294706193888227\n",
      "roc auc: 0.7848194493701731\n",
      "GaussianNB fold 2 completed in 0.61 s\n",
      "fitted in 0.01 s\n",
      "predicted in 0.00 s\n",
      "accuracy: 0.5896785547906206\n",
      "adjusted balanced accuracy: 0.2686197994072783\n",
      "balanced accuracy: 0.5124131996048522\n",
      "f1: 0.5753598352149669\n",
      "geometric mean: 0.47202375016638404\n",
      "roc auc: 0.7359742844027841\n",
      "GaussianNB fold 3 completed in 0.63 s\n",
      "fitted in 0.00 s\n",
      "predicted in 0.00 s\n",
      "accuracy: 0.5948305837808601\n",
      "adjusted balanced accuracy: 0.2760189619529986\n",
      "balanced accuracy: 0.5173459746353324\n",
      "f1: 0.5790645039433095\n",
      "geometric mean: 0.46801298367249655\n",
      "roc auc: 0.7339626891000655\n",
      "GaussianNB fold 4 completed in 0.60 s\n",
      "fitted in 0.02 s\n",
      "predicted in 0.00 s\n",
      "accuracy: 0.5692596177111058\n",
      "adjusted balanced accuracy: 0.2680660507379619\n",
      "balanced accuracy: 0.5120440338253079\n",
      "f1: 0.5536749527068802\n",
      "geometric mean: 0.46828421382303564\n",
      "roc auc: 0.7295704726750255\n",
      "GaussianNB fold 5 completed in 0.61 s\n",
      "stored GaussianNB in 3.61 s\n",
      "evaluating GaussianNB_acc...\n",
      "Fitting 5 folds for each of 100 candidates, totalling 500 fits\n",
      "fitted in 6.42 s\n",
      "best score:  0.6948391455463282\n",
      "{'var_smoothing': 0.005738441648302393}\n",
      "predicted in 0.00 s\n",
      "accuracy: 0.5805543204387135\n",
      "adjusted balanced accuracy: 0.37812873531223423\n",
      "balanced accuracy: 0.5854191568748228\n",
      "f1: 0.5886172109848752\n",
      "geometric mean: 0.5824294233085308\n",
      "roc auc: 0.7542479794181731\n",
      "GaussianNB_acc fold 1 completed in 7.08 s\n",
      "Fitting 5 folds for each of 100 candidates, totalling 500 fits\n",
      "fitted in 3.61 s\n",
      "best score:  0.6969872439352894\n",
      "{'var_smoothing': 0.007575250258771912}\n",
      "predicted in 0.00 s\n",
      "accuracy: 0.5958000694203401\n",
      "adjusted balanced accuracy: 0.40763755016050796\n",
      "balanced accuracy: 0.6050917001070053\n",
      "f1: 0.6064380838353041\n",
      "geometric mean: 0.6030354078378114\n",
      "roc auc: 0.7784284523273043\n",
      "GaussianNB_acc fold 2 completed in 4.24 s\n",
      "Fitting 5 folds for each of 100 candidates, totalling 500 fits\n",
      "fitted in 3.41 s\n",
      "best score:  0.711844468759252\n",
      "{'var_smoothing': 0.004768611697714469}\n",
      "predicted in 0.00 s\n",
      "accuracy: 0.539417154097003\n",
      "adjusted balanced accuracy: 0.3311634750630488\n",
      "balanced accuracy: 0.5541089833753658\n",
      "f1: 0.550432218431997\n",
      "geometric mean: 0.5501377459601646\n",
      "roc auc: 0.7362861709492753\n",
      "GaussianNB_acc fold 3 completed in 4.09 s\n",
      "Fitting 5 folds for each of 100 candidates, totalling 500 fits\n",
      "fitted in 3.18 s\n",
      "best score:  0.713835073019602\n",
      "{'var_smoothing': 0.01}\n",
      "predicted in 0.00 s\n",
      "accuracy: 0.5387706216435498\n",
      "adjusted balanced accuracy: 0.30823211270285095\n",
      "balanced accuracy: 0.5388214084685673\n",
      "f1: 0.5458166321894654\n",
      "geometric mean: 0.5302795823786809\n",
      "roc auc: 0.7250081883121573\n",
      "GaussianNB_acc fold 4 completed in 3.80 s\n",
      "Fitting 5 folds for each of 100 candidates, totalling 500 fits\n",
      "fitted in 3.46 s\n",
      "best score:  0.7123770565936592\n",
      "{'var_smoothing': 0.01}\n",
      "predicted in 0.00 s\n",
      "accuracy: 0.5258286958625695\n",
      "adjusted balanced accuracy: 0.3098544710054774\n",
      "balanced accuracy: 0.5399029806703183\n",
      "f1: 0.5289991867915488\n",
      "geometric mean: 0.5322062189932836\n",
      "roc auc: 0.7249077580046495\n",
      "GaussianNB_acc fold 5 completed in 4.08 s\n",
      "stored GaussianNB_acc in 23.90 s\n",
      "evaluating GaussianNB_acc...\n",
      "Fitting 5 folds for each of 100 candidates, totalling 500 fits\n",
      "fitted in 2.63 s\n",
      "best score:  0.7170660732772534\n",
      "{'var_smoothing': 0.0024945081352303164}\n",
      "predicted in 0.00 s\n",
      "accuracy: 0.6388765377204684\n",
      "adjusted balanced accuracy: 0.3075361258415504\n",
      "balanced accuracy: 0.5383574172277003\n",
      "f1: 0.620093033504064\n",
      "geometric mean: 0.49414893744659016\n",
      "roc auc: 0.7570153904505318\n",
      "GaussianNB_acc fold 1 completed in 3.25 s\n",
      "Fitting 5 folds for each of 100 candidates, totalling 500 fits\n",
      "fitted in 2.52 s\n",
      "best score:  0.7172176703970238\n",
      "{'var_smoothing': 0.008309941949353396}\n",
      "predicted in 0.00 s\n",
      "accuracy: 0.6476049982644915\n",
      "adjusted balanced accuracy: 0.34226504062122415\n",
      "balanced accuracy: 0.5615100270808161\n",
      "f1: 0.6355070065035409\n",
      "geometric mean: 0.5283273732930571\n",
      "roc auc: 0.784871131538573\n",
      "GaussianNB_acc fold 2 completed in 3.17 s\n",
      "Fitting 5 folds for each of 100 candidates, totalling 500 fits\n",
      "fitted in 2.67 s\n",
      "best score:  0.7317913952127358\n",
      "{'var_smoothing': 0.01}\n",
      "predicted in 0.00 s\n",
      "accuracy: 0.589782079817796\n",
      "adjusted balanced accuracy: 0.26705157625792214\n",
      "balanced accuracy: 0.5113677175052814\n",
      "f1: 0.5748853814236908\n",
      "geometric mean: 0.46973794235768673\n",
      "roc auc: 0.7360872351524175\n",
      "GaussianNB_acc fold 3 completed in 3.37 s\n",
      "Fitting 5 folds for each of 100 candidates, totalling 500 fits\n",
      "fitted in 2.44 s\n",
      "best score:  0.7301902959673794\n",
      "{'var_smoothing': 0.004768611697714469}\n",
      "predicted in 0.00 s\n",
      "accuracy: 0.5952555731561257\n",
      "adjusted balanced accuracy: 0.2761376374880928\n",
      "balanced accuracy: 0.5174250916587285\n",
      "f1: 0.5793027341062669\n",
      "geometric mean: 0.4677316960266386\n",
      "roc auc: 0.7340082244453058\n",
      "GaussianNB_acc fold 4 completed in 3.13 s\n",
      "Fitting 5 folds for each of 100 candidates, totalling 500 fits\n",
      "fitted in 2.53 s\n",
      "best score:  0.7416547992025063\n",
      "{'var_smoothing': 0.0032929712550971513}\n",
      "predicted in 0.00 s\n",
      "accuracy: 0.5689571739656424\n",
      "adjusted balanced accuracy: 0.26734243443125427\n",
      "balanced accuracy: 0.5115616229541695\n",
      "f1: 0.55323169963557\n",
      "geometric mean: 0.46763971076174093\n",
      "roc auc: 0.7295996472806519\n",
      "GaussianNB_acc fold 5 completed in 3.19 s\n",
      "stored GaussianNB_acc in 16.68 s\n",
      "evaluating GaussianNB_balacc...\n",
      "Fitting 5 folds for each of 100 candidates, totalling 500 fits\n",
      "fitted in 3.78 s\n",
      "best score:  0.691651223131167\n",
      "{'var_smoothing': 0.005738441648302393}\n",
      "predicted in 0.00 s\n",
      "accuracy: 0.5805543204387135\n",
      "adjusted balanced accuracy: 0.37812873531223423\n",
      "balanced accuracy: 0.5854191568748228\n",
      "f1: 0.5886172109848752\n",
      "geometric mean: 0.5824294233085308\n",
      "roc auc: 0.7542479794181731\n",
      "GaussianNB_balacc fold 1 completed in 4.38 s\n",
      "Fitting 5 folds for each of 100 candidates, totalling 500 fits\n",
      "fitted in 3.80 s\n",
      "best score:  0.6947770978468244\n",
      "{'var_smoothing': 0.007575250258771912}\n",
      "predicted in 0.02 s\n",
      "accuracy: 0.5958000694203401\n",
      "adjusted balanced accuracy: 0.40763755016050796\n",
      "balanced accuracy: 0.6050917001070053\n",
      "f1: 0.6064380838353041\n",
      "geometric mean: 0.6030354078378114\n",
      "roc auc: 0.7784284523273043\n",
      "GaussianNB_balacc fold 2 completed in 4.51 s\n",
      "Fitting 5 folds for each of 100 candidates, totalling 500 fits\n",
      "fitted in 3.58 s\n",
      "best score:  0.7116816859468044\n",
      "{'var_smoothing': 0.004768611697714469}\n",
      "predicted in 0.00 s\n",
      "accuracy: 0.539417154097003\n",
      "adjusted balanced accuracy: 0.3311634750630488\n",
      "balanced accuracy: 0.5541089833753658\n",
      "f1: 0.550432218431997\n",
      "geometric mean: 0.5501377459601646\n",
      "roc auc: 0.7362861709492753\n",
      "GaussianNB_balacc fold 3 completed in 4.22 s\n",
      "Fitting 5 folds for each of 100 candidates, totalling 500 fits\n",
      "fitted in 3.24 s\n",
      "best score:  0.7116813966342087\n",
      "{'var_smoothing': 0.01}\n",
      "predicted in 0.00 s\n",
      "accuracy: 0.5387706216435498\n",
      "adjusted balanced accuracy: 0.30823211270285095\n",
      "balanced accuracy: 0.5388214084685673\n",
      "f1: 0.5458166321894654\n",
      "geometric mean: 0.5302795823786809\n",
      "roc auc: 0.7250081883121573\n",
      "GaussianNB_balacc fold 4 completed in 3.88 s\n",
      "Fitting 5 folds for each of 100 candidates, totalling 500 fits\n",
      "fitted in 3.53 s\n",
      "best score:  0.7133869451242093\n",
      "{'var_smoothing': 0.01}\n",
      "predicted in 0.00 s\n",
      "accuracy: 0.5258286958625695\n",
      "adjusted balanced accuracy: 0.3098544710054774\n",
      "balanced accuracy: 0.5399029806703183\n",
      "f1: 0.5289991867915488\n",
      "geometric mean: 0.5322062189932836\n",
      "roc auc: 0.7249077580046495\n",
      "GaussianNB_balacc fold 5 completed in 4.16 s\n",
      "stored GaussianNB_balacc in 21.74 s\n",
      "evaluating GaussianNB_balacc...\n",
      "Fitting 5 folds for each of 100 candidates, totalling 500 fits\n",
      "fitted in 2.69 s\n",
      "best score:  0.6590890981736397\n",
      "{'var_smoothing': 0.0006222570836730231}\n",
      "predicted in 0.00 s\n",
      "accuracy: 0.6388765377204684\n",
      "adjusted balanced accuracy: 0.30776002909036465\n",
      "balanced accuracy: 0.5385066860602431\n",
      "f1: 0.6201756664400477\n",
      "geometric mean: 0.49449900295920285\n",
      "roc auc: 0.7569978866510438\n",
      "GaussianNB_balacc fold 1 completed in 3.34 s\n",
      "Fitting 5 folds for each of 100 candidates, totalling 500 fits\n",
      "fitted in 2.76 s\n",
      "best score:  0.6588388883250158\n",
      "{'var_smoothing': 1.2458833642950082e-07}\n",
      "predicted in 0.00 s\n",
      "accuracy: 0.6473446719888928\n",
      "adjusted balanced accuracy: 0.3430978675360087\n",
      "balanced accuracy: 0.5620652450240058\n",
      "f1: 0.6355795410687106\n",
      "geometric mean: 0.5294706193888227\n",
      "roc auc: 0.7848194493701731\n",
      "GaussianNB_balacc fold 2 completed in 3.45 s\n",
      "Fitting 5 folds for each of 100 candidates, totalling 500 fits\n",
      "fitted in 2.86 s\n",
      "best score:  0.6727749907466565\n",
      "{'var_smoothing': 1.2458833642950082e-07}\n",
      "predicted in 0.00 s\n",
      "accuracy: 0.5896785547906206\n",
      "adjusted balanced accuracy: 0.2686197994072783\n",
      "balanced accuracy: 0.5124131996048522\n",
      "f1: 0.5753598352149669\n",
      "geometric mean: 0.47202375016638404\n",
      "roc auc: 0.7359742947647729\n",
      "GaussianNB_balacc fold 3 completed in 3.53 s\n",
      "Fitting 5 folds for each of 100 candidates, totalling 500 fits\n",
      "fitted in 2.59 s\n",
      "best score:  0.6738653487139058\n",
      "{'var_smoothing': 0.0010843659686896108}\n",
      "predicted in 0.00 s\n",
      "accuracy: 0.5947919483831086\n",
      "adjusted balanced accuracy: 0.27588397969446515\n",
      "balanced accuracy: 0.5172559864629768\n",
      "f1: 0.5790056211419402\n",
      "geometric mean: 0.46786603294626783\n",
      "roc auc: 0.7339731882298607\n",
      "GaussianNB_balacc fold 4 completed in 3.35 s\n",
      "Fitting 5 folds for each of 100 candidates, totalling 500 fits\n",
      "fitted in 2.68 s\n",
      "best score:  0.6782016188977984\n",
      "{'var_smoothing': 4.659525668664687e-05}\n",
      "predicted in 0.00 s\n",
      "accuracy: 0.5692596177111058\n",
      "adjusted balanced accuracy: 0.2680660507379619\n",
      "balanced accuracy: 0.5120440338253079\n",
      "f1: 0.5536749527068802\n",
      "geometric mean: 0.46828421382303564\n",
      "roc auc: 0.729571065188352\n",
      "GaussianNB_balacc fold 5 completed in 3.41 s\n",
      "stored GaussianNB_balacc in 17.67 s\n",
      "evaluating GaussianNB_f1...\n",
      "Fitting 5 folds for each of 100 candidates, totalling 500 fits\n",
      "fitted in 4.50 s\n",
      "best score:  0.6917612814426961\n",
      "{'var_smoothing': 0.005738441648302393}\n",
      "predicted in 0.00 s\n",
      "accuracy: 0.5805543204387135\n",
      "adjusted balanced accuracy: 0.37812873531223423\n",
      "balanced accuracy: 0.5854191568748228\n",
      "f1: 0.5886172109848752\n",
      "geometric mean: 0.5824294233085308\n",
      "roc auc: 0.7542479794181731\n",
      "GaussianNB_f1 fold 1 completed in 5.13 s\n",
      "Fitting 5 folds for each of 100 candidates, totalling 500 fits\n",
      "fitted in 4.18 s\n",
      "best score:  0.6938158066629919\n",
      "{'var_smoothing': 0.007575250258771912}\n",
      "predicted in 0.00 s\n",
      "accuracy: 0.5958000694203401\n",
      "adjusted balanced accuracy: 0.40763755016050796\n",
      "balanced accuracy: 0.6050917001070053\n",
      "f1: 0.6064380838353041\n",
      "geometric mean: 0.6030354078378114\n",
      "roc auc: 0.7784284523273043\n",
      "GaussianNB_f1 fold 2 completed in 4.80 s\n",
      "Fitting 5 folds for each of 100 candidates, totalling 500 fits\n",
      "fitted in 3.69 s\n",
      "best score:  0.7094238862112106\n",
      "{'var_smoothing': 0.004768611697714469}\n",
      "predicted in 0.02 s\n",
      "accuracy: 0.539417154097003\n",
      "adjusted balanced accuracy: 0.3311634750630488\n",
      "balanced accuracy: 0.5541089833753658\n",
      "f1: 0.550432218431997\n",
      "geometric mean: 0.5501377459601646\n",
      "roc auc: 0.7362861709492753\n",
      "GaussianNB_f1 fold 3 completed in 4.38 s\n",
      "Fitting 5 folds for each of 100 candidates, totalling 500 fits\n",
      "fitted in 3.50 s\n",
      "best score:  0.7107812794483711\n",
      "{'var_smoothing': 0.01}\n",
      "predicted in 0.02 s\n",
      "accuracy: 0.5387706216435498\n",
      "adjusted balanced accuracy: 0.30823211270285095\n",
      "balanced accuracy: 0.5388214084685673\n",
      "f1: 0.5458166321894654\n",
      "geometric mean: 0.5302795823786809\n",
      "roc auc: 0.7250081883121573\n",
      "GaussianNB_f1 fold 4 completed in 4.14 s\n",
      "Fitting 5 folds for each of 100 candidates, totalling 500 fits\n",
      "fitted in 3.82 s\n",
      "best score:  0.7105700744811408\n",
      "{'var_smoothing': 0.01}\n",
      "predicted in 0.00 s\n",
      "accuracy: 0.5258286958625695\n",
      "adjusted balanced accuracy: 0.3098544710054774\n",
      "balanced accuracy: 0.5399029806703183\n",
      "f1: 0.5289991867915488\n",
      "geometric mean: 0.5322062189932836\n",
      "roc auc: 0.7249077580046495\n",
      "GaussianNB_f1 fold 5 completed in 4.44 s\n",
      "stored GaussianNB_f1 in 23.43 s\n",
      "evaluating GaussianNB_f1...\n",
      "Fitting 5 folds for each of 100 candidates, totalling 500 fits\n",
      "fitted in 2.77 s\n",
      "best score:  0.707940466068248\n",
      "{'var_smoothing': 0.0024945081352303164}\n",
      "predicted in 0.00 s\n",
      "accuracy: 0.6388765377204684\n",
      "adjusted balanced accuracy: 0.3075361258415504\n",
      "balanced accuracy: 0.5383574172277003\n",
      "f1: 0.620093033504064\n",
      "geometric mean: 0.49414893744659016\n",
      "roc auc: 0.7570153904505318\n",
      "GaussianNB_f1 fold 1 completed in 3.40 s\n",
      "Fitting 5 folds for each of 100 candidates, totalling 500 fits\n",
      "fitted in 2.85 s\n",
      "best score:  0.7074472525992621\n",
      "{'var_smoothing': 1.2458833642950082e-07}\n",
      "predicted in 0.00 s\n",
      "accuracy: 0.6473446719888928\n",
      "adjusted balanced accuracy: 0.3430978675360087\n",
      "balanced accuracy: 0.5620652450240058\n",
      "f1: 0.6355795410687106\n",
      "geometric mean: 0.5294706193888227\n",
      "roc auc: 0.7848194493701731\n",
      "GaussianNB_f1 fold 2 completed in 3.45 s\n",
      "Fitting 5 folds for each of 100 candidates, totalling 500 fits\n",
      "fitted in 2.62 s\n",
      "best score:  0.723219356175787\n",
      "{'var_smoothing': 0.0001552225357427048}\n",
      "predicted in 0.02 s\n",
      "accuracy: 0.589626792277033\n",
      "adjusted balanced accuracy: 0.2684910992785782\n",
      "balanced accuracy: 0.5123273995190522\n",
      "f1: 0.5752861491008422\n",
      "geometric mean: 0.47187582670004885\n",
      "roc auc: 0.7359761275218124\n",
      "GaussianNB_f1 fold 3 completed in 3.23 s\n",
      "Fitting 5 folds for each of 100 candidates, totalling 500 fits\n",
      "fitted in 2.33 s\n",
      "best score:  0.7217076763515777\n",
      "{'var_smoothing': 0.004768611697714469}\n",
      "predicted in 0.00 s\n",
      "accuracy: 0.5952555731561257\n",
      "adjusted balanced accuracy: 0.2761376374880928\n",
      "balanced accuracy: 0.5174250916587285\n",
      "f1: 0.5793027341062669\n",
      "geometric mean: 0.4677316960266386\n",
      "roc auc: 0.7340082244453058\n",
      "GaussianNB_f1 fold 4 completed in 2.98 s\n",
      "Fitting 5 folds for each of 100 candidates, totalling 500 fits\n",
      "fitted in 2.67 s\n",
      "best score:  0.7316991832464532\n",
      "{'var_smoothing': 0.0010843659686896108}\n",
      "predicted in 0.00 s\n",
      "accuracy: 0.5691991289620131\n",
      "adjusted balanced accuracy: 0.2678220470046393\n",
      "balanced accuracy: 0.5118813646697595\n",
      "f1: 0.5535375353656595\n",
      "geometric mean: 0.46794155280523275\n",
      "roc auc: 0.7295801730784797\n",
      "GaussianNB_f1 fold 5 completed in 3.29 s\n",
      "stored GaussianNB_f1 in 16.94 s\n",
      "evaluating GaussianNB_iso-calib...\n",
      "fitted in 0.18 s\n",
      "predicted in 0.03 s\n",
      "accuracy: 0.5821846746702238\n",
      "adjusted balanced accuracy: 0.3748293854497969\n",
      "balanced accuracy: 0.5832195902998646\n",
      "f1: 0.5897433053591132\n",
      "geometric mean: 0.5795482036707199\n",
      "roc auc: 0.7538692273258992\n",
      "GaussianNB_iso-calib fold 1 completed in 0.85 s\n",
      "fitted in 0.19 s\n",
      "predicted in 0.03 s\n",
      "accuracy: 0.5993578618535231\n",
      "adjusted balanced accuracy: 0.40652783020401223\n",
      "balanced accuracy: 0.6043518868026748\n",
      "f1: 0.6091364662703002\n",
      "geometric mean: 0.6018759840244466\n",
      "roc auc: 0.7784148790794387\n",
      "GaussianNB_iso-calib fold 2 completed in 0.85 s\n",
      "fitted in 0.18 s\n",
      "predicted in 0.04 s\n",
      "accuracy: 0.5450592680780578\n",
      "adjusted balanced accuracy: 0.3347009823473503\n",
      "balanced accuracy: 0.5564673215649002\n",
      "f1: 0.5550499316160211\n",
      "geometric mean: 0.5517369637354799\n",
      "roc auc: 0.7364285747143432\n",
      "GaussianNB_iso-calib fold 3 completed in 0.86 s\n",
      "fitted in 0.17 s\n",
      "predicted in 0.06 s\n",
      "accuracy: 0.5410114747131322\n",
      "adjusted balanced accuracy: 0.30644288438102407\n",
      "balanced accuracy: 0.5376285895873494\n",
      "f1: 0.5474242726631526\n",
      "geometric mean: 0.5279256797565325\n",
      "roc auc: 0.7249441358373334\n",
      "GaussianNB_iso-calib fold 4 completed in 0.92 s\n",
      "fitted in 0.18 s\n",
      "predicted in 0.05 s\n",
      "accuracy: 0.5280667795789983\n",
      "adjusted balanced accuracy: 0.3102749952440649\n",
      "balanced accuracy: 0.5401833301627099\n",
      "f1: 0.5311749815907099\n",
      "geometric mean: 0.5325777761664399\n",
      "roc auc: 0.7249174989792848\n",
      "GaussianNB_iso-calib fold 5 completed in 0.87 s\n",
      "stored GaussianNB_iso-calib in 4.94 s\n",
      "evaluating GaussianNB_iso-calib...\n",
      "fitted in 0.13 s\n",
      "predicted in 0.04 s\n",
      "accuracy: 0.6362827923521566\n",
      "adjusted balanced accuracy: 0.3156760421237179\n",
      "balanced accuracy: 0.5437840280824786\n",
      "f1: 0.6194772437254886\n",
      "geometric mean: 0.500909847684692\n",
      "roc auc: 0.7567224067288316\n",
      "GaussianNB_iso-calib fold 1 completed in 0.79 s\n",
      "fitted in 0.14 s\n",
      "predicted in 0.03 s\n",
      "accuracy: 0.6465636931620965\n",
      "adjusted balanced accuracy: 0.3558584848092537\n",
      "balanced accuracy: 0.5705723232061691\n",
      "f1: 0.637323741278874\n",
      "geometric mean: 0.5413279274221073\n",
      "roc auc: 0.7844295297295084\n",
      "GaussianNB_iso-calib fold 2 completed in 0.78 s\n",
      "fitted in 0.12 s\n",
      "predicted in 0.04 s\n",
      "accuracy: 0.5908690926031368\n",
      "adjusted balanced accuracy: 0.28477361328891254\n",
      "balanced accuracy: 0.523182408859275\n",
      "f1: 0.5806190026553285\n",
      "geometric mean: 0.4892411915063559\n",
      "roc auc: 0.7366596785880477\n",
      "GaussianNB_iso-calib fold 3 completed in 0.80 s\n",
      "fitted in 0.10 s\n",
      "predicted in 0.07 s\n",
      "accuracy: 0.5909670440057181\n",
      "adjusted balanced accuracy: 0.2810852834954113\n",
      "balanced accuracy: 0.5207235223302742\n",
      "f1: 0.5777555437876596\n",
      "geometric mean: 0.47511572550190156\n",
      "roc auc: 0.7338724843610984\n",
      "GaussianNB_iso-calib fold 4 completed in 0.85 s\n",
      "fitted in 0.12 s\n",
      "predicted in 0.05 s\n",
      "accuracy: 0.5730099201548512\n",
      "adjusted balanced accuracy: 0.27734513575522585\n",
      "balanced accuracy: 0.5182300905034839\n",
      "f1: 0.5582407526399426\n",
      "geometric mean: 0.4750479810404656\n",
      "roc auc: 0.7301622759684374\n",
      "GaussianNB_iso-calib fold 5 completed in 0.81 s\n",
      "stored GaussianNB_iso-calib in 4.61 s\n",
      "evaluating GaussianNB_sig-calib...\n",
      "fitted in 0.57 s\n",
      "predicted in 0.02 s\n",
      "accuracy: 0.5844078849859197\n",
      "adjusted balanced accuracy: 0.3754179195804097\n",
      "balanced accuracy: 0.5836119463869398\n",
      "f1: 0.59211568493886\n",
      "geometric mean: 0.5803443385518746\n",
      "roc auc: 0.752940029458068\n",
      "GaussianNB_sig-calib fold 1 completed in 1.27 s\n",
      "fitted in 0.48 s\n",
      "predicted in 0.02 s\n",
      "accuracy: 0.5985768830267268\n",
      "adjusted balanced accuracy: 0.4042074127168778\n",
      "balanced accuracy: 0.6028049418112519\n",
      "f1: 0.6087982554502357\n",
      "geometric mean: 0.6008991902269439\n",
      "roc auc: 0.7766591068482657\n",
      "GaussianNB_sig-calib fold 2 completed in 1.18 s\n",
      "fitted in 0.52 s\n",
      "predicted in 0.04 s\n",
      "accuracy: 0.5436099176976034\n",
      "adjusted balanced accuracy: 0.3308880190332051\n",
      "balanced accuracy: 0.5539253460221367\n",
      "f1: 0.5545545916232143\n",
      "geometric mean: 0.5504325743014954\n",
      "roc auc: 0.7349018235082839\n",
      "GaussianNB_sig-calib fold 3 completed in 1.23 s\n",
      "fitted in 0.40 s\n",
      "predicted in 0.04 s\n",
      "accuracy: 0.5415910056794034\n",
      "adjusted balanced accuracy: 0.30671052838829527\n",
      "balanced accuracy: 0.5378070189255302\n",
      "f1: 0.5485728008835267\n",
      "geometric mean: 0.5292321814866696\n",
      "roc auc: 0.7231166107056062\n",
      "GaussianNB_sig-calib fold 4 completed in 1.13 s\n",
      "fitted in 0.58 s\n",
      "predicted in 0.02 s\n",
      "accuracy: 0.5298209533026857\n",
      "adjusted balanced accuracy: 0.31083561356442996\n",
      "balanced accuracy: 0.54055707570962\n",
      "f1: 0.533849753679613\n",
      "geometric mean: 0.5346063111166754\n",
      "roc auc: 0.7235751424904933\n",
      "GaussianNB_sig-calib fold 5 completed in 1.25 s\n",
      "stored GaussianNB_sig-calib in 6.62 s\n",
      "evaluating GaussianNB_sig-calib...\n",
      "fitted in 0.33 s\n",
      "predicted in 0.04 s\n",
      "accuracy: 0.6371720764784349\n",
      "adjusted balanced accuracy: 0.30906260545746433\n",
      "balanced accuracy: 0.5393750703049762\n",
      "f1: 0.6193558609484794\n",
      "geometric mean: 0.49661180943786554\n",
      "roc auc: 0.7554762198789193\n",
      "GaussianNB_sig-calib fold 1 completed in 1.01 s\n",
      "fitted in 0.31 s\n",
      "predicted in 0.02 s\n",
      "accuracy: 0.6463901423116973\n",
      "adjusted balanced accuracy: 0.34540612792871145\n",
      "balanced accuracy: 0.5636040852858076\n",
      "f1: 0.6353402983048251\n",
      "geometric mean: 0.5318694337115959\n",
      "roc auc: 0.7830209135310687\n",
      "GaussianNB_sig-calib fold 2 completed in 0.99 s\n",
      "fitted in 0.35 s\n",
      "predicted in 0.03 s\n",
      "accuracy: 0.5894197422226823\n",
      "adjusted balanced accuracy: 0.27099484869533835\n",
      "balanced accuracy: 0.5139965657968922\n",
      "f1: 0.5759901917806207\n",
      "geometric mean: 0.4753782845041531\n",
      "roc auc: 0.7344748942812022\n",
      "GaussianNB_sig-calib fold 3 completed in 1.07 s\n",
      "fitted in 0.35 s\n",
      "predicted in 0.05 s\n",
      "accuracy: 0.5928601784955376\n",
      "adjusted balanced accuracy: 0.2774797045298315\n",
      "balanced accuracy: 0.5183198030198877\n",
      "f1: 0.5782880974133735\n",
      "geometric mean: 0.47103190475477746\n",
      "roc auc: 0.7322412469565689\n",
      "GaussianNB_sig-calib fold 4 completed in 1.05 s\n",
      "fitted in 0.35 s\n",
      "predicted in 0.03 s\n",
      "accuracy: 0.5688966852165497\n",
      "adjusted balanced accuracy: 0.2680855679508949\n",
      "balanced accuracy: 0.5120570453005966\n",
      "f1: 0.553589127274311\n",
      "geometric mean: 0.46949069156231804\n",
      "roc auc: 0.7282908647328775\n",
      "GaussianNB_sig-calib fold 5 completed in 1.06 s\n",
      "stored GaussianNB_sig-calib in 5.75 s\n",
      "evaluating LinearSVC...\n",
      "fitted in 18.18 s\n"
     ]
    },
    {
     "name": "stderr",
     "output_type": "stream",
     "text": [
      "Pandas Apply: 100%|██████████| 13494/13494 [00:00<00:00, 158352.68it/s]\n"
     ]
    },
    {
     "name": "stdout",
     "output_type": "stream",
     "text": [
      "predicted in 0.01 s\n",
      "accuracy: 0.5912998369645769\n",
      "adjusted balanced accuracy: 0.3795057199555834\n",
      "balanced accuracy: 0.5863371466370556\n",
      "f1: 0.5974700036298313\n",
      "geometric mean: 0.5800772660540338\n",
      "roc auc: 0.6811754396779908\n",
      "LinearSVC fold 1 completed in 18.93 s\n",
      "fitted in 18.02 s\n"
     ]
    },
    {
     "name": "stderr",
     "output_type": "stream",
     "text": [
      "Pandas Apply: 100%|██████████| 11524/11524 [00:00<00:00, 209860.89it/s]\n"
     ]
    },
    {
     "name": "stdout",
     "output_type": "stream",
     "text": [
      "predicted in 0.00 s\n",
      "accuracy: 0.6023950017355085\n",
      "adjusted balanced accuracy: 0.4054044442552292\n",
      "balanced accuracy: 0.6036029628368195\n",
      "f1: 0.6114858223208189\n",
      "geometric mean: 0.6008535767933312\n",
      "roc auc: 0.6945368145240198\n",
      "LinearSVC fold 2 completed in 18.73 s\n",
      "fitted in 15.36 s\n"
     ]
    },
    {
     "name": "stderr",
     "output_type": "stream",
     "text": [
      "Pandas Apply: 100%|██████████| 19319/19319 [00:00<00:00, 179374.15it/s]\n"
     ]
    },
    {
     "name": "stdout",
     "output_type": "stream",
     "text": [
      "predicted in 0.00 s\n",
      "accuracy: 0.5475956312438532\n",
      "adjusted balanced accuracy: 0.3306137778559684\n",
      "balanced accuracy: 0.5537425185706456\n",
      "f1: 0.5573536504809727\n",
      "geometric mean: 0.5496440384673481\n",
      "roc auc: 0.6631808367485605\n",
      "LinearSVC fold 3 completed in 16.13 s\n",
      "fitted in 12.69 s\n"
     ]
    },
    {
     "name": "stderr",
     "output_type": "stream",
     "text": [
      "Pandas Apply: 100%|██████████| 25883/25883 [00:00<00:00, 175085.67it/s]\n"
     ]
    },
    {
     "name": "stdout",
     "output_type": "stream",
     "text": [
      "predicted in 0.00 s\n",
      "accuracy: 0.5468454197735966\n",
      "adjusted balanced accuracy: 0.3079099448517392\n",
      "balanced accuracy: 0.5386066299011595\n",
      "f1: 0.5520751234245336\n",
      "geometric mean: 0.5270966934057794\n",
      "roc auc: 0.6500495505034758\n",
      "LinearSVC fold 4 completed in 13.53 s\n",
      "fitted in 18.06 s\n"
     ]
    },
    {
     "name": "stderr",
     "output_type": "stream",
     "text": [
      "Pandas Apply: 100%|██████████| 16532/16532 [00:00<00:00, 172606.22it/s]\n"
     ]
    },
    {
     "name": "stdout",
     "output_type": "stream",
     "text": [
      "predicted in 0.00 s\n",
      "accuracy: 0.5329058795064118\n",
      "adjusted balanced accuracy: 0.30823471156179516\n",
      "balanced accuracy: 0.5388231410411968\n",
      "f1: 0.5357981886788113\n",
      "geometric mean: 0.5319406385549138\n",
      "roc auc: 0.6536785478929552\n",
      "LinearSVC fold 5 completed in 18.83 s\n",
      "stored LinearSVC in 86.71 s\n",
      "evaluating LinearSVC...\n",
      "fitted in 8.25 s\n"
     ]
    },
    {
     "name": "stderr",
     "output_type": "stream",
     "text": [
      "Pandas Apply: 100%|██████████| 13494/13494 [00:00<00:00, 136971.03it/s]\n"
     ]
    },
    {
     "name": "stdout",
     "output_type": "stream",
     "text": [
      "predicted in 0.02 s\n",
      "accuracy: 0.637616718541574\n",
      "adjusted balanced accuracy: 0.3026694505385763\n",
      "balanced accuracy: 0.5351129670257175\n",
      "f1: 0.6169134274123971\n",
      "geometric mean: 0.48458557979562794\n",
      "roc auc: 0.6483656733991998\n",
      "LinearSVC fold 1 completed in 8.97 s\n",
      "fitted in 7.58 s\n"
     ]
    },
    {
     "name": "stderr",
     "output_type": "stream",
     "text": [
      "Pandas Apply: 100%|██████████| 11524/11524 [00:00<00:00, 173352.41it/s]\n"
     ]
    },
    {
     "name": "stdout",
     "output_type": "stream",
     "text": [
      "predicted in 0.00 s\n",
      "accuracy: 0.6528982992016661\n",
      "adjusted balanced accuracy: 0.3392375078600632\n",
      "balanced accuracy: 0.5594916719067088\n",
      "f1: 0.6376445374086729\n",
      "geometric mean: 0.5191024602597646\n",
      "roc auc: 0.6666666352620509\n",
      "LinearSVC fold 2 completed in 8.29 s\n",
      "fitted in 5.07 s\n"
     ]
    },
    {
     "name": "stderr",
     "output_type": "stream",
     "text": [
      "Pandas Apply: 100%|██████████| 19319/19319 [00:00<00:00, 220739.61it/s]\n"
     ]
    },
    {
     "name": "stdout",
     "output_type": "stream",
     "text": [
      "predicted in 0.00 s\n",
      "accuracy: 0.5924737305243543\n",
      "adjusted balanced accuracy: 0.2708048714724796\n",
      "balanced accuracy: 0.5138699143149864\n",
      "f1: 0.5769318207217645\n",
      "geometric mean: 0.4686878553414102\n",
      "roc auc: 0.6367456195537012\n",
      "LinearSVC fold 3 completed in 5.82 s\n",
      "fitted in 3.43 s\n"
     ]
    },
    {
     "name": "stderr",
     "output_type": "stream",
     "text": [
      "Pandas Apply: 100%|██████████| 25883/25883 [00:00<00:00, 180558.22it/s]\n"
     ]
    },
    {
     "name": "stdout",
     "output_type": "stream",
     "text": [
      "predicted in 0.00 s\n",
      "accuracy: 0.5973805200324538\n",
      "adjusted balanced accuracy: 0.2777576220083266\n",
      "balanced accuracy: 0.5185050813388844\n",
      "f1: 0.5802907355499461\n",
      "geometric mean: 0.46530517563631274\n",
      "roc auc: 0.6384491232067696\n",
      "LinearSVC fold 4 completed in 4.27 s\n",
      "fitted in 8.12 s\n"
     ]
    },
    {
     "name": "stderr",
     "output_type": "stream",
     "text": [
      "Pandas Apply: 100%|██████████| 16532/16532 [00:00<00:00, 214103.60it/s]\n"
     ]
    },
    {
     "name": "stdout",
     "output_type": "stream",
     "text": [
      "predicted in 0.00 s\n",
      "accuracy: 0.5744616501330753\n",
      "adjusted balanced accuracy: 0.276220170842332\n",
      "balanced accuracy: 0.517480113894888\n",
      "f1: 0.5586350527102523\n",
      "geometric mean: 0.47144326230116573\n",
      "roc auc: 0.641196045742823\n",
      "LinearSVC fold 5 completed in 8.88 s\n",
      "stored LinearSVC in 36.80 s\n",
      "evaluating LinearSVC_b...\n",
      "fitted in 18.31 s\n"
     ]
    },
    {
     "name": "stderr",
     "output_type": "stream",
     "text": [
      "Pandas Apply: 100%|██████████| 13494/13494 [00:00<00:00, 300766.49it/s]\n"
     ]
    },
    {
     "name": "stdout",
     "output_type": "stream",
     "text": [
      "predicted in 0.02 s\n",
      "accuracy: 0.5941159033644583\n",
      "adjusted balanced accuracy: 0.38101404708364267\n",
      "balanced accuracy: 0.5873426980557618\n",
      "f1: 0.6005496661933145\n",
      "geometric mean: 0.5819592775245547\n",
      "roc auc: 0.6821401466544983\n",
      "LinearSVC_b fold 1 completed in 19.07 s\n",
      "fitted in 17.30 s\n"
     ]
    },
    {
     "name": "stderr",
     "output_type": "stream",
     "text": [
      "Pandas Apply: 100%|██████████| 11524/11524 [00:00<00:00, 175098.84it/s]\n"
     ]
    },
    {
     "name": "stdout",
     "output_type": "stream",
     "text": [
      "predicted in 0.00 s\n",
      "accuracy: 0.6028288788615064\n",
      "adjusted balanced accuracy: 0.40538617775801206\n",
      "balanced accuracy: 0.603590785172008\n",
      "f1: 0.6121230625130725\n",
      "geometric mean: 0.601265673170336\n",
      "roc auc: 0.6944727371800007\n",
      "LinearSVC_b fold 2 completed in 18.00 s\n",
      "fitted in 15.28 s\n"
     ]
    },
    {
     "name": "stderr",
     "output_type": "stream",
     "text": [
      "Pandas Apply: 100%|██████████| 19319/19319 [00:00<00:00, 211486.44it/s]\n"
     ]
    },
    {
     "name": "stdout",
     "output_type": "stream",
     "text": [
      "predicted in 0.00 s\n",
      "accuracy: 0.5496143692737719\n",
      "adjusted balanced accuracy: 0.3307782686624325\n",
      "balanced accuracy: 0.5538521791082883\n",
      "f1: 0.5590263925460762\n",
      "geometric mean: 0.5493386108265417\n",
      "roc auc: 0.6634016212026868\n",
      "LinearSVC_b fold 3 completed in 16.05 s\n",
      "fitted in 12.33 s\n"
     ]
    },
    {
     "name": "stderr",
     "output_type": "stream",
     "text": [
      "Pandas Apply: 100%|██████████| 25883/25883 [00:00<00:00, 239842.63it/s]\n"
     ]
    },
    {
     "name": "stdout",
     "output_type": "stream",
     "text": [
      "predicted in 0.00 s\n",
      "accuracy: 0.5464977011938338\n",
      "adjusted balanced accuracy: 0.3071848988478771\n",
      "balanced accuracy: 0.5381232658985847\n",
      "f1: 0.5522365473642679\n",
      "geometric mean: 0.5276881055340673\n",
      "roc auc: 0.6496797399467489\n",
      "LinearSVC_b fold 4 completed in 13.13 s\n",
      "fitted in 19.36 s\n"
     ]
    },
    {
     "name": "stderr",
     "output_type": "stream",
     "text": [
      "Pandas Apply: 100%|██████████| 16532/16532 [00:00<00:00, 170655.93it/s]\n"
     ]
    },
    {
     "name": "stdout",
     "output_type": "stream",
     "text": [
      "predicted in 0.01 s\n",
      "accuracy: 0.5319380595209291\n",
      "adjusted balanced accuracy: 0.30787031094232614\n",
      "balanced accuracy: 0.5385802072948841\n",
      "f1: 0.5345357910830346\n",
      "geometric mean: 0.5312480429586005\n",
      "roc auc: 0.6534047786953762\n",
      "LinearSVC_b fold 5 completed in 20.15 s\n",
      "stored LinearSVC_b in 86.94 s\n",
      "evaluating LinearSVC_b...\n",
      "fitted in 7.95 s\n"
     ]
    },
    {
     "name": "stderr",
     "output_type": "stream",
     "text": [
      "Pandas Apply: 100%|██████████| 13494/13494 [00:00<00:00, 200584.55it/s]\n"
     ]
    },
    {
     "name": "stdout",
     "output_type": "stream",
     "text": [
      "predicted in 0.00 s\n",
      "accuracy: 0.6178301467318809\n",
      "adjusted balanced accuracy: 0.3454230398425663\n",
      "balanced accuracy: 0.5636153598950442\n",
      "f1: 0.6151019785280668\n",
      "geometric mean: 0.5445919835700894\n",
      "roc auc: 0.6675760248115894\n",
      "LinearSVC_b fold 1 completed in 8.68 s\n",
      "fitted in 7.66 s\n"
     ]
    },
    {
     "name": "stderr",
     "output_type": "stream",
     "text": [
      "Pandas Apply: 100%|██████████| 11524/11524 [00:00<00:00, 154540.47it/s]\n"
     ]
    },
    {
     "name": "stdout",
     "output_type": "stream",
     "text": [
      "predicted in 0.00 s\n",
      "accuracy: 0.633113502256161\n",
      "adjusted balanced accuracy: 0.38591874184045644\n",
      "balanced accuracy: 0.5906124945603043\n",
      "f1: 0.6344128231651\n",
      "geometric mean: 0.5795017951260039\n",
      "roc auc: 0.6871834308793809\n",
      "LinearSVC_b fold 2 completed in 8.38 s\n",
      "fitted in 5.44 s\n"
     ]
    },
    {
     "name": "stderr",
     "output_type": "stream",
     "text": [
      "Pandas Apply: 100%|██████████| 19319/19319 [00:00<00:00, 168961.95it/s]\n"
     ]
    },
    {
     "name": "stdout",
     "output_type": "stream",
     "text": [
      "predicted in 0.00 s\n",
      "accuracy: 0.5800507272633159\n",
      "adjusted balanced accuracy: 0.31236216164363995\n",
      "balanced accuracy: 0.5415747744290933\n",
      "f1: 0.5811504159897165\n",
      "geometric mean: 0.528066659265873\n",
      "roc auc: 0.6563903985300055\n",
      "LinearSVC_b fold 3 completed in 6.20 s\n",
      "fitted in 3.82 s\n"
     ]
    },
    {
     "name": "stderr",
     "output_type": "stream",
     "text": [
      "Pandas Apply: 100%|██████████| 25883/25883 [00:00<00:00, 180681.43it/s]\n"
     ]
    },
    {
     "name": "stdout",
     "output_type": "stream",
     "text": [
      "predicted in 0.00 s\n",
      "accuracy: 0.5765946760421898\n",
      "adjusted balanced accuracy: 0.3039678180845394\n",
      "balanced accuracy: 0.5359785453896929\n",
      "f1: 0.5749096114528934\n",
      "geometric mean: 0.5138574550999819\n",
      "roc auc: 0.6498495678667598\n",
      "LinearSVC_b fold 4 completed in 4.65 s\n",
      "fitted in 6.84 s\n"
     ]
    },
    {
     "name": "stderr",
     "output_type": "stream",
     "text": [
      "Pandas Apply: 100%|██████████| 16532/16532 [00:00<00:00, 164816.00it/s]\n"
     ]
    },
    {
     "name": "stdout",
     "output_type": "stream",
     "text": [
      "predicted in 0.00 s\n",
      "accuracy: 0.5686547302201791\n",
      "adjusted balanced accuracy: 0.3091525695187654\n",
      "balanced accuracy: 0.5394350463458436\n",
      "f1: 0.5653567550170765\n",
      "geometric mean: 0.5209914921378093\n",
      "roc auc: 0.6565192142286547\n",
      "LinearSVC_b fold 5 completed in 7.60 s\n",
      "stored LinearSVC_b in 36.08 s\n",
      "evaluating LinearSVC_iso-calib...\n",
      "fitted in 57.65 s\n",
      "predicted in 0.03 s\n",
      "accuracy: 0.587149844375278\n",
      "adjusted balanced accuracy: 0.3826613526611732\n",
      "balanced accuracy: 0.5884409017741155\n",
      "f1: 0.5939236573948056\n",
      "geometric mean: 0.5826805350820532\n",
      "roc auc: 0.7564751502773144\n",
      "LinearSVC_iso-calib fold 1 completed in 58.38 s\n",
      "fitted in 60.24 s\n",
      "predicted in 0.04 s\n",
      "accuracy: 0.6014404720583131\n",
      "adjusted balanced accuracy: 0.4075505931151974\n",
      "balanced accuracy: 0.605033728743465\n",
      "f1: 0.6105963620929128\n",
      "geometric mean: 0.6018232222377506\n",
      "roc auc: 0.7800638142317775\n",
      "LinearSVC_iso-calib fold 2 completed in 61.05 s\n",
      "fitted in 51.17 s\n",
      "predicted in 0.03 s\n",
      "accuracy: 0.544282830374243\n",
      "adjusted balanced accuracy: 0.332055149466477\n",
      "balanced accuracy: 0.5547034329776513\n",
      "f1: 0.5537123234876178\n",
      "geometric mean: 0.5495391557744062\n",
      "roc auc: 0.7346808689202242\n",
      "LinearSVC_iso-calib fold 3 completed in 51.93 s\n",
      "fitted in 37.64 s\n",
      "predicted in 0.08 s\n",
      "accuracy: 0.5440636711354944\n",
      "adjusted balanced accuracy: 0.31016068709111994\n",
      "balanced accuracy: 0.5401071247274133\n",
      "f1: 0.5494216786379156\n",
      "geometric mean: 0.5284388834588238\n",
      "roc auc: 0.7237318754753033\n",
      "LinearSVC_iso-calib fold 4 completed in 38.43 s\n",
      "fitted in 57.58 s\n",
      "predicted in 0.05 s\n",
      "accuracy: 0.5321195257682071\n",
      "adjusted balanced accuracy: 0.31227741677966353\n",
      "balanced accuracy: 0.541518277853109\n",
      "f1: 0.534390347215306\n",
      "geometric mean: 0.5332541511361075\n",
      "roc auc: 0.7244100936035918\n",
      "LinearSVC_iso-calib fold 5 completed in 58.29 s\n",
      "stored LinearSVC_iso-calib in 268.64 s\n",
      "evaluating LinearSVC_iso-calib...\n",
      "fitted in 22.81 s\n",
      "predicted in 0.03 s\n",
      "accuracy: 0.6359863643100637\n",
      "adjusted balanced accuracy: 0.3153162508745417\n",
      "balanced accuracy: 0.5435441672496945\n",
      "f1: 0.6186070315299477\n",
      "geometric mean: 0.4978780317372877\n",
      "roc auc: 0.7547379436998486\n",
      "LinearSVC_iso-calib fold 1 completed in 23.50 s\n",
      "fitted in 20.48 s\n",
      "predicted in 0.02 s\n",
      "accuracy: 0.6506421381464769\n",
      "adjusted balanced accuracy: 0.3499389623591865\n",
      "balanced accuracy: 0.5666259749061243\n",
      "f1: 0.6382226715032693\n",
      "geometric mean: 0.5299042599025164\n",
      "roc auc: 0.7833791776584054\n",
      "LinearSVC_iso-calib fold 2 completed in 21.17 s\n",
      "fitted in 14.83 s\n",
      "predicted in 0.05 s\n",
      "accuracy: 0.5940266059319841\n",
      "adjusted balanced accuracy: 0.28222324238037594\n",
      "balanced accuracy: 0.5214821615869173\n",
      "f1: 0.5810476219777028\n",
      "geometric mean: 0.48070898684818475\n",
      "roc auc: 0.7359671759213258\n",
      "LinearSVC_iso-calib fold 3 completed in 15.57 s\n",
      "fitted in 12.11 s\n",
      "predicted in 0.07 s\n",
      "accuracy: 0.5937101572460689\n",
      "adjusted balanced accuracy: 0.2830989135229142\n",
      "balanced accuracy: 0.5220659423486095\n",
      "f1: 0.5793223167327411\n",
      "geometric mean: 0.47307422004030586\n",
      "roc auc: 0.7314407439616087\n",
      "LinearSVC_iso-calib fold 4 completed in 12.97 s\n",
      "fitted in 23.32 s\n",
      "predicted in 0.05 s\n",
      "accuracy: 0.576881200096782\n",
      "adjusted balanced accuracy: 0.28349005758172713\n",
      "balanced accuracy: 0.5223267050544848\n",
      "f1: 0.5617835638902428\n",
      "geometric mean: 0.4767603788806147\n",
      "roc auc: 0.7287915360435897\n",
      "LinearSVC_iso-calib fold 5 completed in 24.06 s\n",
      "stored LinearSVC_iso-calib in 97.83 s\n",
      "evaluating LinearSVC_sig-calib...\n",
      "fitted in 56.83 s\n",
      "predicted in 0.01 s\n",
      "accuracy: 0.5918185860382392\n",
      "adjusted balanced accuracy: 0.3793999021684304\n",
      "balanced accuracy: 0.5862666014456203\n",
      "f1: 0.5978136034364515\n",
      "geometric mean: 0.5797723945969719\n",
      "roc auc: 0.7572549451183462\n",
      "LinearSVC_sig-calib fold 1 completed in 57.48 s\n",
      "fitted in 61.55 s\n",
      "predicted in 0.03 s\n",
      "accuracy: 0.6037834085387018\n",
      "adjusted balanced accuracy: 0.40478716829972244\n",
      "balanced accuracy: 0.6031914455331483\n",
      "f1: 0.6126810575725881\n",
      "geometric mean: 0.6002512606411281\n",
      "roc auc: 0.7806965358305045\n",
      "LinearSVC_sig-calib fold 2 completed in 62.42 s\n",
      "fitted in 53.29 s\n",
      "predicted in 0.02 s\n",
      "accuracy: 0.5495626067601843\n",
      "adjusted balanced accuracy: 0.3302660732909164\n",
      "balanced accuracy: 0.5535107155272776\n",
      "f1: 0.5590828380506472\n",
      "geometric mean: 0.5492118136257875\n",
      "roc auc: 0.734696416963991\n",
      "LinearSVC_sig-calib fold 3 completed in 53.98 s\n",
      "fitted in 41.10 s\n",
      "predicted in 0.03 s\n",
      "accuracy: 0.5464590657960824\n",
      "adjusted balanced accuracy: 0.30710107276646187\n",
      "balanced accuracy: 0.5380673818443079\n",
      "f1: 0.5516336271664117\n",
      "geometric mean: 0.5263300103170353\n",
      "roc auc: 0.7241926584405158\n",
      "LinearSVC_sig-calib fold 4 completed in 41.83 s\n",
      "fitted in 59.35 s\n",
      "predicted in 0.02 s\n",
      "accuracy: 0.5345995644810065\n",
      "adjusted balanced accuracy: 0.3085563270668723\n",
      "balanced accuracy: 0.5390375513779149\n",
      "f1: 0.537683425397308\n",
      "geometric mean: 0.5326458508686872\n",
      "roc auc: 0.7247091515273276\n",
      "LinearSVC_sig-calib fold 5 completed in 60.07 s\n",
      "stored LinearSVC_sig-calib in 276.31 s\n",
      "evaluating LinearSVC_sig-calib...\n",
      "fitted in 24.75 s\n",
      "predicted in 0.01 s\n",
      "accuracy: 0.6361345783311101\n",
      "adjusted balanced accuracy: 0.31199199013121076\n",
      "balanced accuracy: 0.5413279934208072\n",
      "f1: 0.6187473435060079\n",
      "geometric mean: 0.49715072078160283\n",
      "roc auc: 0.7550500471921774\n",
      "LinearSVC_sig-calib fold 1 completed in 25.42 s\n",
      "fitted in 22.18 s\n",
      "predicted in 0.02 s\n",
      "accuracy: 0.6496008330440819\n",
      "adjusted balanced accuracy: 0.34620923185478086\n",
      "balanced accuracy: 0.5641394879031872\n",
      "f1: 0.637285024736058\n",
      "geometric mean: 0.5286795279762013\n",
      "roc auc: 0.7836422135123563\n",
      "LinearSVC_sig-calib fold 2 completed in 22.83 s\n",
      "fitted in 18.65 s\n",
      "predicted in 0.03 s\n",
      "accuracy: 0.5916455303069517\n",
      "adjusted balanced accuracy: 0.2774447774949204\n",
      "balanced accuracy: 0.5182965183299469\n",
      "f1: 0.5789127562013887\n",
      "geometric mean: 0.4789126677012983\n",
      "roc auc: 0.7357546513829809\n",
      "LinearSVC_sig-calib fold 3 completed in 19.62 s\n",
      "fitted in 14.27 s\n",
      "predicted in 0.03 s\n",
      "accuracy: 0.5937487926438203\n",
      "adjusted balanced accuracy: 0.2831203927191452\n",
      "balanced accuracy: 0.5220802618127635\n",
      "f1: 0.5798348255695488\n",
      "geometric mean: 0.4751176179452668\n",
      "roc auc: 0.7318891896902252\n",
      "LinearSVC_sig-calib fold 4 completed in 14.96 s\n",
      "fitted in 21.93 s\n",
      "predicted in 0.03 s\n",
      "accuracy: 0.5736752963948706\n",
      "adjusted balanced accuracy: 0.2786716545772059\n",
      "balanced accuracy: 0.5191144363848039\n",
      "f1: 0.5593923683806301\n",
      "geometric mean: 0.47695578478492323\n",
      "roc auc: 0.7285442381927262\n",
      "LinearSVC_sig-calib fold 5 completed in 22.64 s\n",
      "stored LinearSVC_sig-calib in 106.06 s\n",
      "evaluating LinearSVC_b_iso-calib...\n",
      "fitted in 58.39 s\n",
      "predicted in 0.03 s\n",
      "accuracy: 0.5872239513858011\n",
      "adjusted balanced accuracy: 0.38284140307528924\n",
      "balanced accuracy: 0.5885609353835262\n",
      "f1: 0.5939761779651488\n",
      "geometric mean: 0.5827818884560025\n",
      "roc auc: 0.7564574084781224\n",
      "LinearSVC_b_iso-calib fold 1 completed in 59.11 s\n",
      "fitted in 58.17 s\n",
      "predicted in 0.03 s\n",
      "accuracy: 0.6017007983339119\n",
      "adjusted balanced accuracy: 0.4081780247881885\n",
      "balanced accuracy: 0.605452016525459\n",
      "f1: 0.6108365513069978\n",
      "geometric mean: 0.6022603370638261\n",
      "roc auc: 0.7800827512177129\n",
      "LinearSVC_b_iso-calib fold 2 completed in 58.86 s\n",
      "fitted in 51.12 s\n",
      "predicted in 0.06 s\n",
      "accuracy: 0.5444898804285936\n",
      "adjusted balanced accuracy: 0.3322098613100643\n",
      "balanced accuracy: 0.5548065742067095\n",
      "f1: 0.5539269787440204\n",
      "geometric mean: 0.5496708485962158\n",
      "roc auc: 0.7346892044253341\n",
      "LinearSVC_b_iso-calib fold 3 completed in 51.85 s\n",
      "fitted in 38.36 s\n",
      "predicted in 0.05 s\n",
      "accuracy: 0.5439477649422401\n",
      "adjusted balanced accuracy: 0.3099129239438665\n",
      "balanced accuracy: 0.539941949295911\n",
      "f1: 0.5492879476339888\n",
      "geometric mean: 0.5282779650306841\n",
      "roc auc: 0.7237319836270658\n",
      "LinearSVC_b_iso-calib fold 4 completed in 39.08 s\n",
      "fitted in 61.03 s\n",
      "predicted in 0.03 s\n",
      "accuracy: 0.5322405032663925\n",
      "adjusted balanced accuracy: 0.31240320718056824\n",
      "balanced accuracy: 0.5416021381203788\n",
      "f1: 0.5345760938343729\n",
      "geometric mean: 0.5334165450087811\n",
      "roc auc: 0.7244074677180348\n",
      "LinearSVC_b_iso-calib fold 5 completed in 61.74 s\n",
      "stored LinearSVC_b_iso-calib in 271.18 s\n",
      "evaluating LinearSVC_b_iso-calib...\n",
      "fitted in 22.50 s\n",
      "predicted in 0.04 s\n",
      "accuracy: 0.636060471320587\n",
      "adjusted balanced accuracy: 0.3151058435520469\n",
      "balanced accuracy: 0.5434038957013646\n",
      "f1: 0.6188771876853539\n",
      "geometric mean: 0.4986563508494103\n",
      "roc auc: 0.7549130130021431\n",
      "LinearSVC_b_iso-calib fold 1 completed in 23.18 s\n",
      "fitted in 23.05 s\n",
      "predicted in 0.03 s\n",
      "accuracy: 0.6494272821936827\n",
      "adjusted balanced accuracy: 0.34881940129101435\n",
      "balanced accuracy: 0.5658796008606762\n",
      "f1: 0.6372310275020912\n",
      "geometric mean: 0.5296058142917349\n",
      "roc auc: 0.7835390629621904\n",
      "LinearSVC_b_iso-calib fold 2 completed in 23.77 s\n",
      "fitted in 16.26 s\n",
      "predicted in 0.03 s\n",
      "accuracy: 0.5931466432009939\n",
      "adjusted balanced accuracy: 0.2814151679466304\n",
      "balanced accuracy: 0.5209434452977536\n",
      "f1: 0.5803446256083724\n",
      "geometric mean: 0.48044124252982773\n",
      "roc auc: 0.7358449537662685\n",
      "LinearSVC_b_iso-calib fold 3 completed in 16.99 s\n",
      "fitted in 12.85 s\n",
      "predicted in 0.06 s\n",
      "accuracy: 0.5936715218483174\n",
      "adjusted balanced accuracy: 0.28347018195692913\n",
      "balanced accuracy: 0.5223134546379528\n",
      "f1: 0.5793743693660909\n",
      "geometric mean: 0.4734458817402149\n",
      "roc auc: 0.7313924002905681\n",
      "LinearSVC_b_iso-calib fold 4 completed in 13.59 s\n",
      "fitted in 21.70 s\n",
      "predicted in 0.05 s\n",
      "accuracy: 0.5770021775949673\n",
      "adjusted balanced accuracy: 0.2836372676205179\n",
      "balanced accuracy: 0.5224248450803453\n",
      "f1: 0.5619204299728282\n",
      "geometric mean: 0.4770239658111306\n",
      "roc auc: 0.7289015912397157\n",
      "LinearSVC_b_iso-calib fold 5 completed in 22.48 s\n",
      "stored LinearSVC_b_iso-calib in 100.58 s\n",
      "evaluating LinearSVC_b_sig-calib...\n",
      "fitted in 60.03 s\n",
      "predicted in 0.02 s\n",
      "accuracy: 0.591744479027716\n",
      "adjusted balanced accuracy: 0.37933635361733736\n",
      "balanced accuracy: 0.5862242357448916\n",
      "f1: 0.5977491718133869\n",
      "geometric mean: 0.5797316287133756\n",
      "roc auc: 0.7572641021346187\n",
      "LinearSVC_b_sig-calib fold 1 completed in 60.70 s\n",
      "fitted in 57.67 s\n",
      "predicted in 0.02 s\n",
      "accuracy: 0.6037834085387018\n",
      "adjusted balanced accuracy: 0.40478716829972244\n",
      "balanced accuracy: 0.6031914455331483\n",
      "f1: 0.6126810575725881\n",
      "geometric mean: 0.6002512606411281\n",
      "roc auc: 0.7806975096913737\n",
      "LinearSVC_b_sig-calib fold 2 completed in 58.32 s\n",
      "fitted in 51.99 s\n",
      "predicted in 0.04 s\n",
      "accuracy: 0.5495626067601843\n",
      "adjusted balanced accuracy: 0.3302660732909164\n",
      "balanced accuracy: 0.5535107155272776\n",
      "f1: 0.5590828380506472\n",
      "geometric mean: 0.5492118136257875\n",
      "roc auc: 0.7346985855540704\n",
      "LinearSVC_b_sig-calib fold 3 completed in 52.69 s\n",
      "fitted in 41.56 s\n",
      "predicted in 0.02 s\n",
      "accuracy: 0.546420430398331\n",
      "adjusted balanced accuracy: 0.30706548811056544\n",
      "balanced accuracy: 0.538043658740377\n",
      "f1: 0.5515939885104718\n",
      "geometric mean: 0.5263071472784627\n",
      "roc auc: 0.7242000900715571\n",
      "LinearSVC_b_sig-calib fold 4 completed in 42.22 s\n",
      "fitted in 63.42 s\n",
      "predicted in 0.02 s\n",
      "accuracy: 0.5343576094846358\n",
      "adjusted balanced accuracy: 0.3081636432745404\n",
      "balanced accuracy: 0.5387757621830269\n",
      "f1: 0.5374473883638782\n",
      "geometric mean: 0.532393706755333\n",
      "roc auc: 0.7247079071333014\n",
      "LinearSVC_b_sig-calib fold 5 completed in 64.21 s\n",
      "stored LinearSVC_b_sig-calib in 278.70 s\n",
      "evaluating LinearSVC_b_sig-calib...\n",
      "fitted in 23.61 s\n",
      "predicted in 0.02 s\n",
      "accuracy: 0.6352452942048318\n",
      "adjusted balanced accuracy: 0.31087535169040975\n",
      "balanced accuracy: 0.5405835677936065\n",
      "f1: 0.6180067562411317\n",
      "geometric mean: 0.49667840514602185\n",
      "roc auc: 0.7551192067203777\n",
      "LinearSVC_b_sig-calib fold 1 completed in 24.31 s\n",
      "fitted in 24.58 s\n",
      "predicted in 0.02 s\n",
      "accuracy: 0.6493405067684832\n",
      "adjusted balanced accuracy: 0.3468724644586916\n",
      "balanced accuracy: 0.564581642972461\n",
      "f1: 0.6372669919536545\n",
      "geometric mean: 0.5295210156788586\n",
      "roc auc: 0.7837452928968229\n",
      "LinearSVC_b_sig-calib fold 2 completed in 25.20 s\n",
      "fitted in 17.17 s\n",
      "predicted in 0.02 s\n",
      "accuracy: 0.5916972928205394\n",
      "adjusted balanced accuracy: 0.27800426005484796\n",
      "balanced accuracy: 0.518669506703232\n",
      "f1: 0.5791054570395028\n",
      "geometric mean: 0.4797912261992469\n",
      "roc auc: 0.7356974711772164\n",
      "LinearSVC_b_sig-calib fold 3 completed in 17.81 s\n",
      "fitted in 13.29 s\n",
      "predicted in 0.03 s\n",
      "accuracy: 0.5937487926438203\n",
      "adjusted balanced accuracy: 0.28294468373207216\n",
      "balanced accuracy: 0.5219631224880481\n",
      "f1: 0.5798482942814435\n",
      "geometric mean: 0.47514005574678453\n",
      "roc auc: 0.7318649886498151\n",
      "LinearSVC_b_sig-calib fold 4 completed in 13.99 s\n",
      "fitted in 20.66 s\n",
      "predicted in 0.02 s\n",
      "accuracy: 0.5737962738930559\n",
      "adjusted balanced accuracy: 0.27899713941544274\n",
      "balanced accuracy: 0.5193314262769618\n",
      "f1: 0.5595822473757225\n",
      "geometric mean: 0.47750278183612854\n",
      "roc auc: 0.7286270966783983\n",
      "LinearSVC_b_sig-calib fold 5 completed in 21.30 s\n",
      "stored LinearSVC_b_sig-calib in 103.13 s\n",
      "evaluating LogRegCV_acc...\n"
     ]
    },
    {
     "name": "stderr",
     "output_type": "stream",
     "text": [
      "[Parallel(n_jobs=-1)]: Using backend LokyBackend with 8 concurrent workers.\n",
      "[Parallel(n_jobs=-1)]: Done   2 out of   5 | elapsed:    4.2s remaining:    6.4s\n",
      "[Parallel(n_jobs=-1)]: Done   5 out of   5 | elapsed:    4.4s finished\n"
     ]
    },
    {
     "name": "stdout",
     "output_type": "stream",
     "text": [
      "fitted in 4.64 s\n",
      "predicted in 0.00 s\n",
      "accuracy: 0.5938935823328887\n",
      "adjusted balanced accuracy: 0.3812229596442059\n",
      "balanced accuracy: 0.5874819730961373\n",
      "f1: 0.6001355344201655\n",
      "geometric mean: 0.5816114579929573\n",
      "roc auc: 0.7601307475261536\n",
      "LogRegCV_acc fold 1 completed in 5.31 s\n"
     ]
    },
    {
     "name": "stderr",
     "output_type": "stream",
     "text": [
      "[Parallel(n_jobs=-1)]: Using backend LokyBackend with 8 concurrent workers.\n",
      "[Parallel(n_jobs=-1)]: Done   2 out of   5 | elapsed:    2.6s remaining:    3.9s\n",
      "[Parallel(n_jobs=-1)]: Done   5 out of   5 | elapsed:    3.5s finished\n"
     ]
    },
    {
     "name": "stdout",
     "output_type": "stream",
     "text": [
      "fitted in 3.77 s\n",
      "predicted in 0.00 s\n",
      "accuracy: 0.6031759805623047\n",
      "adjusted balanced accuracy: 0.40483302088620515\n",
      "balanced accuracy: 0.6032220139241368\n",
      "f1: 0.6124719455891563\n",
      "geometric mean: 0.600803334822072\n",
      "roc auc: 0.781113587430252\n",
      "LogRegCV_acc fold 2 completed in 4.38 s\n"
     ]
    },
    {
     "name": "stderr",
     "output_type": "stream",
     "text": [
      "[Parallel(n_jobs=-1)]: Using backend LokyBackend with 8 concurrent workers.\n",
      "[Parallel(n_jobs=-1)]: Done   2 out of   5 | elapsed:    2.4s remaining:    3.6s\n",
      "[Parallel(n_jobs=-1)]: Done   5 out of   5 | elapsed:    2.4s finished\n"
     ]
    },
    {
     "name": "stdout",
     "output_type": "stream",
     "text": [
      "fitted in 2.67 s\n",
      "predicted in 0.00 s\n",
      "accuracy: 0.5470262435943889\n",
      "adjusted balanced accuracy: 0.32784260334812626\n",
      "balanced accuracy: 0.5518950688987508\n",
      "f1: 0.5575505245746001\n",
      "geometric mean: 0.5487537109764982\n",
      "roc auc: 0.7361044368961842\n",
      "LogRegCV_acc fold 3 completed in 3.35 s\n"
     ]
    },
    {
     "name": "stderr",
     "output_type": "stream",
     "text": [
      "[Parallel(n_jobs=-1)]: Using backend LokyBackend with 8 concurrent workers.\n",
      "[Parallel(n_jobs=-1)]: Done   2 out of   5 | elapsed:    2.0s remaining:    3.0s\n",
      "[Parallel(n_jobs=-1)]: Done   5 out of   5 | elapsed:    2.2s finished\n"
     ]
    },
    {
     "name": "stdout",
     "output_type": "stream",
     "text": [
      "fitted in 2.41 s\n",
      "predicted in 0.00 s\n",
      "accuracy: 0.5469999613646023\n",
      "adjusted balanced accuracy: 0.3075320682835245\n",
      "balanced accuracy: 0.5383547121890163\n",
      "f1: 0.5523258244881474\n",
      "geometric mean: 0.5272714596213159\n",
      "roc auc: 0.7266622432004239\n",
      "LogRegCV_acc fold 4 completed in 3.07 s\n"
     ]
    },
    {
     "name": "stderr",
     "output_type": "stream",
     "text": [
      "[Parallel(n_jobs=-1)]: Using backend LokyBackend with 8 concurrent workers.\n",
      "[Parallel(n_jobs=-1)]: Done   2 out of   5 | elapsed:    2.7s remaining:    4.1s\n",
      "[Parallel(n_jobs=-1)]: Done   5 out of   5 | elapsed:    2.8s finished\n"
     ]
    },
    {
     "name": "stdout",
     "output_type": "stream",
     "text": [
      "fitted in 3.06 s\n",
      "predicted in 0.00 s\n",
      "accuracy: 0.5333897894991532\n",
      "adjusted balanced accuracy: 0.3073551805944313\n",
      "balanced accuracy: 0.5382367870629542\n",
      "f1: 0.5371785350038684\n",
      "geometric mean: 0.5328018067846715\n",
      "roc auc: 0.7258815094344945\n",
      "LogRegCV_acc fold 5 completed in 3.75 s\n",
      "stored LogRegCV_acc in 20.43 s\n",
      "evaluating LogRegCV_acc...\n"
     ]
    },
    {
     "name": "stderr",
     "output_type": "stream",
     "text": [
      "[Parallel(n_jobs=-1)]: Using backend LokyBackend with 8 concurrent workers.\n",
      "[Parallel(n_jobs=-1)]: Done   2 out of   5 | elapsed:    1.7s remaining:    2.5s\n",
      "[Parallel(n_jobs=-1)]: Done   5 out of   5 | elapsed:    1.8s finished\n"
     ]
    },
    {
     "name": "stdout",
     "output_type": "stream",
     "text": [
      "fitted in 2.03 s\n",
      "predicted in 0.00 s\n",
      "accuracy: 0.6362827923521566\n",
      "adjusted balanced accuracy: 0.3062694385481847\n",
      "balanced accuracy: 0.5375129590321231\n",
      "f1: 0.618596244885095\n",
      "geometric mean: 0.4957206516147716\n",
      "roc auc: 0.7576337841111497\n",
      "LogRegCV_acc fold 1 completed in 2.79 s\n"
     ]
    },
    {
     "name": "stderr",
     "output_type": "stream",
     "text": [
      "[Parallel(n_jobs=-1)]: Using backend LokyBackend with 8 concurrent workers.\n",
      "[Parallel(n_jobs=-1)]: Done   2 out of   5 | elapsed:    1.8s remaining:    2.8s\n",
      "[Parallel(n_jobs=-1)]: Done   5 out of   5 | elapsed:    1.9s finished\n"
     ]
    },
    {
     "name": "stdout",
     "output_type": "stream",
     "text": [
      "fitted in 2.17 s\n",
      "predicted in 0.00 s\n",
      "accuracy: 0.6445678583825061\n",
      "adjusted balanced accuracy: 0.3416326212361554\n",
      "balanced accuracy: 0.5610884141574369\n",
      "f1: 0.6340533830781985\n",
      "geometric mean: 0.5317242503803284\n",
      "roc auc: 0.7833062865772213\n",
      "LogRegCV_acc fold 2 completed in 2.85 s\n"
     ]
    },
    {
     "name": "stderr",
     "output_type": "stream",
     "text": [
      "[Parallel(n_jobs=-1)]: Using backend LokyBackend with 8 concurrent workers.\n",
      "[Parallel(n_jobs=-1)]: Done   2 out of   5 | elapsed:    1.6s remaining:    2.5s\n",
      "[Parallel(n_jobs=-1)]: Done   5 out of   5 | elapsed:    1.7s finished\n"
     ]
    },
    {
     "name": "stdout",
     "output_type": "stream",
     "text": [
      "fitted in 1.95 s\n",
      "predicted in 0.00 s\n",
      "accuracy: 0.5888503545732181\n",
      "adjusted balanced accuracy: 0.27081983503805906\n",
      "balanced accuracy: 0.5138798900253727\n",
      "f1: 0.5759095883715459\n",
      "geometric mean: 0.47735457473163345\n",
      "roc auc: 0.7374733773567025\n",
      "LogRegCV_acc fold 3 completed in 2.62 s\n"
     ]
    },
    {
     "name": "stderr",
     "output_type": "stream",
     "text": [
      "[Parallel(n_jobs=-1)]: Using backend LokyBackend with 8 concurrent workers.\n",
      "[Parallel(n_jobs=-1)]: Done   2 out of   5 | elapsed:    1.4s remaining:    2.2s\n",
      "[Parallel(n_jobs=-1)]: Done   5 out of   5 | elapsed:    1.5s finished\n"
     ]
    },
    {
     "name": "stdout",
     "output_type": "stream",
     "text": [
      "fitted in 1.61 s\n",
      "predicted in 0.00 s\n",
      "accuracy: 0.5932465324730518\n",
      "adjusted balanced accuracy: 0.27615007078261256\n",
      "balanced accuracy: 0.5174333805217417\n",
      "f1: 0.5786483048667526\n",
      "geometric mean: 0.47177593847334814\n",
      "roc auc: 0.7340630288799377\n",
      "LogRegCV_acc fold 4 completed in 2.27 s\n"
     ]
    },
    {
     "name": "stderr",
     "output_type": "stream",
     "text": [
      "[Parallel(n_jobs=-1)]: Using backend LokyBackend with 8 concurrent workers.\n",
      "[Parallel(n_jobs=-1)]: Done   2 out of   5 | elapsed:    1.8s remaining:    2.7s\n",
      "[Parallel(n_jobs=-1)]: Done   5 out of   5 | elapsed:    1.9s finished\n"
     ]
    },
    {
     "name": "stdout",
     "output_type": "stream",
     "text": [
      "fitted in 2.18 s\n",
      "predicted in 0.00 s\n",
      "accuracy: 0.5704089039438665\n",
      "adjusted balanced accuracy: 0.2678704494559959\n",
      "balanced accuracy: 0.511913632970664\n",
      "f1: 0.5539936582508774\n",
      "geometric mean: 0.46691188214095625\n",
      "roc auc: 0.7307884882222648\n",
      "LogRegCV_acc fold 5 completed in 2.90 s\n",
      "stored LogRegCV_acc in 14.06 s\n",
      "evaluating LogRegCV_balacc...\n"
     ]
    },
    {
     "name": "stderr",
     "output_type": "stream",
     "text": [
      "[Parallel(n_jobs=-1)]: Using backend LokyBackend with 8 concurrent workers.\n",
      "[Parallel(n_jobs=-1)]: Done   2 out of   5 | elapsed:    2.6s remaining:    3.9s\n",
      "[Parallel(n_jobs=-1)]: Done   5 out of   5 | elapsed:    2.8s finished\n"
     ]
    },
    {
     "name": "stdout",
     "output_type": "stream",
     "text": [
      "fitted in 3.06 s\n",
      "predicted in 0.02 s\n",
      "accuracy: 0.5938935823328887\n",
      "adjusted balanced accuracy: 0.3812229596442059\n",
      "balanced accuracy: 0.5874819730961373\n",
      "f1: 0.6001355344201655\n",
      "geometric mean: 0.5816114579929573\n",
      "roc auc: 0.7601307475261536\n",
      "LogRegCV_balacc fold 1 completed in 3.73 s\n"
     ]
    },
    {
     "name": "stderr",
     "output_type": "stream",
     "text": [
      "[Parallel(n_jobs=-1)]: Using backend LokyBackend with 8 concurrent workers.\n",
      "[Parallel(n_jobs=-1)]: Done   2 out of   5 | elapsed:    2.6s remaining:    4.0s\n",
      "[Parallel(n_jobs=-1)]: Done   5 out of   5 | elapsed:    2.7s finished\n"
     ]
    },
    {
     "name": "stdout",
     "output_type": "stream",
     "text": [
      "fitted in 2.97 s\n",
      "predicted in 0.00 s\n",
      "accuracy: 0.6031759805623047\n",
      "adjusted balanced accuracy: 0.40483302088620515\n",
      "balanced accuracy: 0.6032220139241368\n",
      "f1: 0.6124719455891563\n",
      "geometric mean: 0.600803334822072\n",
      "roc auc: 0.781113587430252\n",
      "LogRegCV_balacc fold 2 completed in 3.71 s\n"
     ]
    },
    {
     "name": "stderr",
     "output_type": "stream",
     "text": [
      "[Parallel(n_jobs=-1)]: Using backend LokyBackend with 8 concurrent workers.\n",
      "[Parallel(n_jobs=-1)]: Done   2 out of   5 | elapsed:    2.5s remaining:    3.8s\n",
      "[Parallel(n_jobs=-1)]: Done   5 out of   5 | elapsed:    2.6s finished\n"
     ]
    },
    {
     "name": "stdout",
     "output_type": "stream",
     "text": [
      "fitted in 2.89 s\n",
      "predicted in 0.00 s\n",
      "accuracy: 0.5470262435943889\n",
      "adjusted balanced accuracy: 0.32784260334812626\n",
      "balanced accuracy: 0.5518950688987508\n",
      "f1: 0.5575505245746001\n",
      "geometric mean: 0.5487537109764982\n",
      "roc auc: 0.7361044368961842\n",
      "LogRegCV_balacc fold 3 completed in 3.58 s\n"
     ]
    },
    {
     "name": "stderr",
     "output_type": "stream",
     "text": [
      "[Parallel(n_jobs=-1)]: Using backend LokyBackend with 8 concurrent workers.\n",
      "[Parallel(n_jobs=-1)]: Done   2 out of   5 | elapsed:    2.3s remaining:    3.5s\n",
      "[Parallel(n_jobs=-1)]: Done   5 out of   5 | elapsed:    2.4s finished\n"
     ]
    },
    {
     "name": "stdout",
     "output_type": "stream",
     "text": [
      "fitted in 2.67 s\n",
      "predicted in 0.00 s\n",
      "accuracy: 0.547618127728625\n",
      "adjusted balanced accuracy: 0.30539652931716793\n",
      "balanced accuracy: 0.5369310195447786\n",
      "f1: 0.5534746689869742\n",
      "geometric mean: 0.5270175081155553\n",
      "roc auc: 0.7258035812536173\n",
      "LogRegCV_balacc fold 4 completed in 3.35 s\n"
     ]
    },
    {
     "name": "stderr",
     "output_type": "stream",
     "text": [
      "[Parallel(n_jobs=-1)]: Using backend LokyBackend with 8 concurrent workers.\n",
      "[Parallel(n_jobs=-1)]: Done   2 out of   5 | elapsed:    2.9s remaining:    4.4s\n",
      "[Parallel(n_jobs=-1)]: Done   5 out of   5 | elapsed:    3.0s finished\n"
     ]
    },
    {
     "name": "stdout",
     "output_type": "stream",
     "text": [
      "fitted in 3.27 s\n",
      "predicted in 0.02 s\n",
      "accuracy: 0.5333897894991532\n",
      "adjusted balanced accuracy: 0.3073551805944313\n",
      "balanced accuracy: 0.5382367870629542\n",
      "f1: 0.5371785350038684\n",
      "geometric mean: 0.5328018067846715\n",
      "roc auc: 0.7258815094344945\n",
      "LogRegCV_balacc fold 5 completed in 3.92 s\n",
      "stored LogRegCV_balacc in 18.93 s\n",
      "evaluating LogRegCV_balacc...\n"
     ]
    },
    {
     "name": "stderr",
     "output_type": "stream",
     "text": [
      "[Parallel(n_jobs=-1)]: Using backend LokyBackend with 8 concurrent workers.\n",
      "[Parallel(n_jobs=-1)]: Done   2 out of   5 | elapsed:    1.6s remaining:    2.5s\n",
      "[Parallel(n_jobs=-1)]: Done   5 out of   5 | elapsed:    1.7s finished\n"
     ]
    },
    {
     "name": "stdout",
     "output_type": "stream",
     "text": [
      "fitted in 1.90 s\n",
      "predicted in 0.00 s\n",
      "accuracy: 0.6361345783311101\n",
      "adjusted balanced accuracy: 0.3064872967964517\n",
      "balanced accuracy: 0.5376581978643011\n",
      "f1: 0.6185520161033378\n",
      "geometric mean: 0.496017492030778\n",
      "roc auc: 0.7576468956522786\n",
      "LogRegCV_balacc fold 1 completed in 2.53 s\n"
     ]
    },
    {
     "name": "stderr",
     "output_type": "stream",
     "text": [
      "[Parallel(n_jobs=-1)]: Using backend LokyBackend with 8 concurrent workers.\n",
      "[Parallel(n_jobs=-1)]: Done   2 out of   5 | elapsed:    1.7s remaining:    2.7s\n",
      "[Parallel(n_jobs=-1)]: Done   5 out of   5 | elapsed:    1.8s finished\n"
     ]
    },
    {
     "name": "stdout",
     "output_type": "stream",
     "text": [
      "fitted in 2.09 s\n",
      "predicted in 0.00 s\n",
      "accuracy: 0.6445678583825061\n",
      "adjusted balanced accuracy: 0.3416326212361554\n",
      "balanced accuracy: 0.5610884141574369\n",
      "f1: 0.6340533830781985\n",
      "geometric mean: 0.5317242503803284\n",
      "roc auc: 0.7833062865772213\n",
      "LogRegCV_balacc fold 2 completed in 2.75 s\n"
     ]
    },
    {
     "name": "stderr",
     "output_type": "stream",
     "text": [
      "[Parallel(n_jobs=-1)]: Using backend LokyBackend with 8 concurrent workers.\n",
      "[Parallel(n_jobs=-1)]: Done   2 out of   5 | elapsed:    1.5s remaining:    2.4s\n",
      "[Parallel(n_jobs=-1)]: Done   5 out of   5 | elapsed:    1.6s finished\n"
     ]
    },
    {
     "name": "stdout",
     "output_type": "stream",
     "text": [
      "fitted in 1.87 s\n",
      "predicted in 0.00 s\n",
      "accuracy: 0.5888503545732181\n",
      "adjusted balanced accuracy: 0.27081983503805906\n",
      "balanced accuracy: 0.5138798900253727\n",
      "f1: 0.5759095883715459\n",
      "geometric mean: 0.47735457473163345\n",
      "roc auc: 0.7374733773567025\n",
      "LogRegCV_balacc fold 3 completed in 2.56 s\n"
     ]
    },
    {
     "name": "stderr",
     "output_type": "stream",
     "text": [
      "[Parallel(n_jobs=-1)]: Using backend LokyBackend with 8 concurrent workers.\n",
      "[Parallel(n_jobs=-1)]: Done   2 out of   5 | elapsed:    1.6s remaining:    2.4s\n",
      "[Parallel(n_jobs=-1)]: Done   5 out of   5 | elapsed:    1.7s finished\n"
     ]
    },
    {
     "name": "stdout",
     "output_type": "stream",
     "text": [
      "fitted in 1.80 s\n",
      "predicted in 0.00 s\n",
      "accuracy: 0.5932851678708032\n",
      "adjusted balanced accuracy: 0.2775194358497181\n",
      "balanced accuracy: 0.5183462905664787\n",
      "f1: 0.5790670264247556\n",
      "geometric mean: 0.47348578509615585\n",
      "roc auc: 0.7341124421865671\n",
      "LogRegCV_balacc fold 4 completed in 2.57 s\n"
     ]
    },
    {
     "name": "stderr",
     "output_type": "stream",
     "text": [
      "[Parallel(n_jobs=-1)]: Using backend LokyBackend with 8 concurrent workers.\n",
      "[Parallel(n_jobs=-1)]: Done   2 out of   5 | elapsed:    1.7s remaining:    2.5s\n",
      "[Parallel(n_jobs=-1)]: Done   5 out of   5 | elapsed:    1.8s finished\n"
     ]
    },
    {
     "name": "stdout",
     "output_type": "stream",
     "text": [
      "fitted in 2.02 s\n",
      "predicted in 0.00 s\n",
      "accuracy: 0.5693201064601984\n",
      "adjusted balanced accuracy: 0.27178295421230425\n",
      "balanced accuracy: 0.5145219694748695\n",
      "f1: 0.5551190013518928\n",
      "geometric mean: 0.47484124595689137\n",
      "roc auc: 0.7306190143970976\n",
      "LogRegCV_balacc fold 5 completed in 2.71 s\n",
      "stored LogRegCV_balacc in 13.68 s\n",
      "evaluating LogRegCV_f1...\n"
     ]
    },
    {
     "name": "stderr",
     "output_type": "stream",
     "text": [
      "[Parallel(n_jobs=-1)]: Using backend LokyBackend with 8 concurrent workers.\n",
      "[Parallel(n_jobs=-1)]: Done   2 out of   5 | elapsed:    2.6s remaining:    3.9s\n",
      "[Parallel(n_jobs=-1)]: Done   5 out of   5 | elapsed:    2.6s finished\n"
     ]
    },
    {
     "name": "stdout",
     "output_type": "stream",
     "text": [
      "fitted in 2.90 s\n",
      "predicted in 0.00 s\n",
      "accuracy: 0.5938935823328887\n",
      "adjusted balanced accuracy: 0.3812229596442059\n",
      "balanced accuracy: 0.5874819730961373\n",
      "f1: 0.6001355344201655\n",
      "geometric mean: 0.5816114579929573\n",
      "roc auc: 0.7601307475261536\n",
      "LogRegCV_f1 fold 1 completed in 3.55 s\n"
     ]
    },
    {
     "name": "stderr",
     "output_type": "stream",
     "text": [
      "[Parallel(n_jobs=-1)]: Using backend LokyBackend with 8 concurrent workers.\n",
      "[Parallel(n_jobs=-1)]: Done   2 out of   5 | elapsed:    2.5s remaining:    3.8s\n",
      "[Parallel(n_jobs=-1)]: Done   5 out of   5 | elapsed:    2.7s finished\n"
     ]
    },
    {
     "name": "stdout",
     "output_type": "stream",
     "text": [
      "fitted in 2.94 s\n",
      "predicted in 0.00 s\n",
      "accuracy: 0.6031759805623047\n",
      "adjusted balanced accuracy: 0.40483302088620515\n",
      "balanced accuracy: 0.6032220139241368\n",
      "f1: 0.6124719455891563\n",
      "geometric mean: 0.600803334822072\n",
      "roc auc: 0.781113587430252\n",
      "LogRegCV_f1 fold 2 completed in 3.57 s\n"
     ]
    },
    {
     "name": "stderr",
     "output_type": "stream",
     "text": [
      "[Parallel(n_jobs=-1)]: Using backend LokyBackend with 8 concurrent workers.\n",
      "[Parallel(n_jobs=-1)]: Done   2 out of   5 | elapsed:    2.6s remaining:    4.0s\n",
      "[Parallel(n_jobs=-1)]: Done   5 out of   5 | elapsed:    2.7s finished\n"
     ]
    },
    {
     "name": "stdout",
     "output_type": "stream",
     "text": [
      "fitted in 2.94 s\n",
      "predicted in 0.00 s\n",
      "accuracy: 0.5470262435943889\n",
      "adjusted balanced accuracy: 0.32784260334812626\n",
      "balanced accuracy: 0.5518950688987508\n",
      "f1: 0.5575505245746001\n",
      "geometric mean: 0.5487537109764982\n",
      "roc auc: 0.7361044368961842\n",
      "LogRegCV_f1 fold 3 completed in 3.58 s\n"
     ]
    },
    {
     "name": "stderr",
     "output_type": "stream",
     "text": [
      "[Parallel(n_jobs=-1)]: Using backend LokyBackend with 8 concurrent workers.\n",
      "[Parallel(n_jobs=-1)]: Done   2 out of   5 | elapsed:    2.0s remaining:    3.0s\n",
      "[Parallel(n_jobs=-1)]: Done   5 out of   5 | elapsed:    2.2s finished\n"
     ]
    },
    {
     "name": "stdout",
     "output_type": "stream",
     "text": [
      "fitted in 2.45 s\n",
      "predicted in 0.00 s\n",
      "accuracy: 0.547618127728625\n",
      "adjusted balanced accuracy: 0.30539652931716793\n",
      "balanced accuracy: 0.5369310195447786\n",
      "f1: 0.5534746689869742\n",
      "geometric mean: 0.5270175081155553\n",
      "roc auc: 0.7258035812536173\n",
      "LogRegCV_f1 fold 4 completed in 3.12 s\n"
     ]
    },
    {
     "name": "stderr",
     "output_type": "stream",
     "text": [
      "[Parallel(n_jobs=-1)]: Using backend LokyBackend with 8 concurrent workers.\n",
      "[Parallel(n_jobs=-1)]: Done   2 out of   5 | elapsed:    2.5s remaining:    3.8s\n",
      "[Parallel(n_jobs=-1)]: Done   5 out of   5 | elapsed:    2.7s finished\n"
     ]
    },
    {
     "name": "stdout",
     "output_type": "stream",
     "text": [
      "fitted in 2.93 s\n",
      "predicted in 0.02 s\n",
      "accuracy: 0.5333897894991532\n",
      "adjusted balanced accuracy: 0.3073551805944313\n",
      "balanced accuracy: 0.5382367870629542\n",
      "f1: 0.5371785350038684\n",
      "geometric mean: 0.5328018067846715\n",
      "roc auc: 0.7258815094344945\n",
      "LogRegCV_f1 fold 5 completed in 3.56 s\n",
      "stored LogRegCV_f1 in 17.93 s\n",
      "evaluating LogRegCV_f1...\n"
     ]
    },
    {
     "name": "stderr",
     "output_type": "stream",
     "text": [
      "[Parallel(n_jobs=-1)]: Using backend LokyBackend with 8 concurrent workers.\n",
      "[Parallel(n_jobs=-1)]: Done   2 out of   5 | elapsed:    1.7s remaining:    2.6s\n",
      "[Parallel(n_jobs=-1)]: Done   5 out of   5 | elapsed:    1.8s finished\n"
     ]
    },
    {
     "name": "stdout",
     "output_type": "stream",
     "text": [
      "fitted in 2.07 s\n",
      "predicted in 0.00 s\n",
      "accuracy: 0.6362827923521566\n",
      "adjusted balanced accuracy: 0.3062694385481847\n",
      "balanced accuracy: 0.5375129590321231\n",
      "f1: 0.618596244885095\n",
      "geometric mean: 0.4957206516147716\n",
      "roc auc: 0.7576337841111497\n",
      "LogRegCV_f1 fold 1 completed in 2.74 s\n"
     ]
    },
    {
     "name": "stderr",
     "output_type": "stream",
     "text": [
      "[Parallel(n_jobs=-1)]: Using backend LokyBackend with 8 concurrent workers.\n",
      "[Parallel(n_jobs=-1)]: Done   2 out of   5 | elapsed:    1.7s remaining:    2.6s\n",
      "[Parallel(n_jobs=-1)]: Done   5 out of   5 | elapsed:    1.8s finished\n"
     ]
    },
    {
     "name": "stdout",
     "output_type": "stream",
     "text": [
      "fitted in 2.04 s\n",
      "predicted in 0.00 s\n",
      "accuracy: 0.6445678583825061\n",
      "adjusted balanced accuracy: 0.3416326212361554\n",
      "balanced accuracy: 0.5610884141574369\n",
      "f1: 0.6340533830781985\n",
      "geometric mean: 0.5317242503803284\n",
      "roc auc: 0.7833062865772213\n",
      "LogRegCV_f1 fold 2 completed in 2.71 s\n"
     ]
    },
    {
     "name": "stderr",
     "output_type": "stream",
     "text": [
      "[Parallel(n_jobs=-1)]: Using backend LokyBackend with 8 concurrent workers.\n",
      "[Parallel(n_jobs=-1)]: Done   2 out of   5 | elapsed:    1.7s remaining:    2.6s\n",
      "[Parallel(n_jobs=-1)]: Done   5 out of   5 | elapsed:    1.8s finished\n"
     ]
    },
    {
     "name": "stdout",
     "output_type": "stream",
     "text": [
      "fitted in 2.01 s\n",
      "predicted in 0.00 s\n",
      "accuracy: 0.5888503545732181\n",
      "adjusted balanced accuracy: 0.27081983503805906\n",
      "balanced accuracy: 0.5138798900253727\n",
      "f1: 0.5759095883715459\n",
      "geometric mean: 0.47735457473163345\n",
      "roc auc: 0.7374733773567025\n",
      "LogRegCV_f1 fold 3 completed in 2.68 s\n"
     ]
    },
    {
     "name": "stderr",
     "output_type": "stream",
     "text": [
      "[Parallel(n_jobs=-1)]: Using backend LokyBackend with 8 concurrent workers.\n",
      "[Parallel(n_jobs=-1)]: Done   2 out of   5 | elapsed:    1.4s remaining:    2.2s\n",
      "[Parallel(n_jobs=-1)]: Done   5 out of   5 | elapsed:    1.4s finished\n"
     ]
    },
    {
     "name": "stdout",
     "output_type": "stream",
     "text": [
      "fitted in 1.57 s\n",
      "predicted in 0.02 s\n",
      "accuracy: 0.5932465324730518\n",
      "adjusted balanced accuracy: 0.27615007078261256\n",
      "balanced accuracy: 0.5174333805217417\n",
      "f1: 0.5786483048667526\n",
      "geometric mean: 0.47177593847334814\n",
      "roc auc: 0.7340630288799377\n",
      "LogRegCV_f1 fold 4 completed in 2.22 s\n"
     ]
    },
    {
     "name": "stderr",
     "output_type": "stream",
     "text": [
      "[Parallel(n_jobs=-1)]: Using backend LokyBackend with 8 concurrent workers.\n",
      "[Parallel(n_jobs=-1)]: Done   2 out of   5 | elapsed:    1.7s remaining:    2.6s\n",
      "[Parallel(n_jobs=-1)]: Done   5 out of   5 | elapsed:    1.8s finished\n"
     ]
    },
    {
     "name": "stdout",
     "output_type": "stream",
     "text": [
      "fitted in 2.06 s\n",
      "predicted in 0.00 s\n",
      "accuracy: 0.5693201064601984\n",
      "adjusted balanced accuracy: 0.27178295421230425\n",
      "balanced accuracy: 0.5145219694748695\n",
      "f1: 0.5551190013518928\n",
      "geometric mean: 0.47484124595689137\n",
      "roc auc: 0.7306190143970976\n",
      "LogRegCV_f1 fold 5 completed in 2.70 s\n",
      "stored LogRegCV_f1 in 13.61 s\n",
      "evaluating LogRegCV_b_acc...\n"
     ]
    },
    {
     "name": "stderr",
     "output_type": "stream",
     "text": [
      "[Parallel(n_jobs=-1)]: Using backend LokyBackend with 8 concurrent workers.\n",
      "[Parallel(n_jobs=-1)]: Done   2 out of   5 | elapsed:    2.4s remaining:    3.6s\n",
      "[Parallel(n_jobs=-1)]: Done   5 out of   5 | elapsed:    2.5s finished\n"
     ]
    },
    {
     "name": "stdout",
     "output_type": "stream",
     "text": [
      "fitted in 3.21 s\n",
      "predicted in 0.00 s\n",
      "accuracy: 0.595153401511783\n",
      "adjusted balanced accuracy: 0.37800456245579955\n",
      "balanced accuracy: 0.585336374970533\n",
      "f1: 0.6018281890253143\n",
      "geometric mean: 0.5808048217639599\n",
      "roc auc: 0.7594239718833138\n",
      "LogRegCV_b_acc fold 1 completed in 3.85 s\n"
     ]
    },
    {
     "name": "stderr",
     "output_type": "stream",
     "text": [
      "[Parallel(n_jobs=-1)]: Using backend LokyBackend with 8 concurrent workers.\n",
      "[Parallel(n_jobs=-1)]: Done   2 out of   5 | elapsed:    2.4s remaining:    3.7s\n",
      "[Parallel(n_jobs=-1)]: Done   5 out of   5 | elapsed:    2.6s finished\n"
     ]
    },
    {
     "name": "stdout",
     "output_type": "stream",
     "text": [
      "fitted in 3.33 s\n",
      "predicted in 0.00 s\n",
      "accuracy: 0.6034363068379035\n",
      "adjusted balanced accuracy: 0.4017476587374581\n",
      "balanced accuracy: 0.6011651058249721\n",
      "f1: 0.6133036885862498\n",
      "geometric mean: 0.5994053270203216\n",
      "roc auc: 0.7805214970620775\n",
      "LogRegCV_b_acc fold 2 completed in 3.98 s\n"
     ]
    },
    {
     "name": "stderr",
     "output_type": "stream",
     "text": [
      "[Parallel(n_jobs=-1)]: Using backend LokyBackend with 8 concurrent workers.\n",
      "[Parallel(n_jobs=-1)]: Done   2 out of   5 | elapsed:    2.6s remaining:    4.0s\n",
      "[Parallel(n_jobs=-1)]: Done   5 out of   5 | elapsed:    2.8s finished\n"
     ]
    },
    {
     "name": "stdout",
     "output_type": "stream",
     "text": [
      "fitted in 3.37 s\n",
      "predicted in 0.02 s\n",
      "accuracy: 0.551891919871629\n",
      "adjusted balanced accuracy: 0.3303182674807304\n",
      "balanced accuracy: 0.5535455116538203\n",
      "f1: 0.5616027731979754\n",
      "geometric mean: 0.5497099959834562\n",
      "roc auc: 0.7363767705509381\n",
      "LogRegCV_b_acc fold 3 completed in 4.04 s\n"
     ]
    },
    {
     "name": "stderr",
     "output_type": "stream",
     "text": [
      "[Parallel(n_jobs=-1)]: Using backend LokyBackend with 8 concurrent workers.\n",
      "[Parallel(n_jobs=-1)]: Done   2 out of   5 | elapsed:    2.2s remaining:    3.3s\n",
      "[Parallel(n_jobs=-1)]: Done   5 out of   5 | elapsed:    2.3s finished\n"
     ]
    },
    {
     "name": "stdout",
     "output_type": "stream",
     "text": [
      "fitted in 2.79 s\n",
      "predicted in 0.01 s\n",
      "accuracy: 0.5461113472163196\n",
      "adjusted balanced accuracy: 0.30536545340620574\n",
      "balanced accuracy: 0.5369103022708038\n",
      "f1: 0.5525553257619393\n",
      "geometric mean: 0.5278420265351436\n",
      "roc auc: 0.7261556134375279\n",
      "LogRegCV_b_acc fold 4 completed in 3.53 s\n"
     ]
    },
    {
     "name": "stderr",
     "output_type": "stream",
     "text": [
      "[Parallel(n_jobs=-1)]: Using backend LokyBackend with 8 concurrent workers.\n",
      "[Parallel(n_jobs=-1)]: Done   2 out of   5 | elapsed:    2.5s remaining:    3.7s\n",
      "[Parallel(n_jobs=-1)]: Done   5 out of   5 | elapsed:    2.7s finished\n"
     ]
    },
    {
     "name": "stdout",
     "output_type": "stream",
     "text": [
      "fitted in 3.40 s\n",
      "predicted in 0.00 s\n",
      "accuracy: 0.5309702395354464\n",
      "adjusted balanced accuracy: 0.30549012963878636\n",
      "balanced accuracy: 0.5369934197591909\n",
      "f1: 0.5343128536460131\n",
      "geometric mean: 0.5307531199379512\n",
      "roc auc: 0.7259239716922963\n",
      "LogRegCV_b_acc fold 5 completed in 4.13 s\n",
      "stored LogRegCV_b_acc in 20.05 s\n",
      "evaluating LogRegCV_b_acc...\n"
     ]
    },
    {
     "name": "stderr",
     "output_type": "stream",
     "text": [
      "[Parallel(n_jobs=-1)]: Using backend LokyBackend with 8 concurrent workers.\n",
      "[Parallel(n_jobs=-1)]: Done   2 out of   5 | elapsed:    1.6s remaining:    2.5s\n",
      "[Parallel(n_jobs=-1)]: Done   5 out of   5 | elapsed:    1.7s finished\n"
     ]
    },
    {
     "name": "stdout",
     "output_type": "stream",
     "text": [
      "fitted in 2.23 s\n",
      "predicted in 0.00 s\n",
      "accuracy: 0.5904846598488217\n",
      "adjusted balanced accuracy: 0.369962586337691\n",
      "balanced accuracy: 0.5799750575584607\n",
      "f1: 0.5979262982638979\n",
      "geometric mean: 0.5765035949835134\n",
      "roc auc: 0.7589469262710105\n",
      "LogRegCV_b_acc fold 1 completed in 3.01 s\n"
     ]
    },
    {
     "name": "stderr",
     "output_type": "stream",
     "text": [
      "[Parallel(n_jobs=-1)]: Using backend LokyBackend with 8 concurrent workers.\n",
      "[Parallel(n_jobs=-1)]: Done   2 out of   5 | elapsed:    1.8s remaining:    2.7s\n",
      "[Parallel(n_jobs=-1)]: Done   5 out of   5 | elapsed:    1.8s finished\n"
     ]
    },
    {
     "name": "stdout",
     "output_type": "stream",
     "text": [
      "fitted in 2.35 s\n",
      "predicted in 0.00 s\n",
      "accuracy: 0.6131551544602568\n",
      "adjusted balanced accuracy: 0.42280354784938473\n",
      "balanced accuracy: 0.6152023652329232\n",
      "f1: 0.6224684615366886\n",
      "geometric mean: 0.6139389022733979\n",
      "roc auc: 0.786984275895133\n",
      "LogRegCV_b_acc fold 2 completed in 3.11 s\n"
     ]
    },
    {
     "name": "stderr",
     "output_type": "stream",
     "text": [
      "[Parallel(n_jobs=-1)]: Using backend LokyBackend with 8 concurrent workers.\n",
      "[Parallel(n_jobs=-1)]: Done   2 out of   5 | elapsed:    1.8s remaining:    2.8s\n",
      "[Parallel(n_jobs=-1)]: Done   5 out of   5 | elapsed:    1.9s finished\n"
     ]
    },
    {
     "name": "stdout",
     "output_type": "stream",
     "text": [
      "fitted in 2.47 s\n",
      "predicted in 0.00 s\n",
      "accuracy: 0.5576375588798592\n",
      "adjusted balanced accuracy: 0.326563375937096\n",
      "balanced accuracy: 0.5510422506247307\n",
      "f1: 0.5660879041861239\n",
      "geometric mean: 0.547949560071846\n",
      "roc auc: 0.7389820431467322\n",
      "LogRegCV_b_acc fold 3 completed in 3.15 s\n"
     ]
    },
    {
     "name": "stderr",
     "output_type": "stream",
     "text": [
      "[Parallel(n_jobs=-1)]: Using backend LokyBackend with 8 concurrent workers.\n",
      "[Parallel(n_jobs=-1)]: Done   2 out of   5 | elapsed:    1.3s remaining:    2.0s\n",
      "[Parallel(n_jobs=-1)]: Done   5 out of   5 | elapsed:    1.4s finished\n"
     ]
    },
    {
     "name": "stdout",
     "output_type": "stream",
     "text": [
      "fitted in 1.81 s\n",
      "predicted in 0.00 s\n",
      "accuracy: 0.5582428621102654\n",
      "adjusted balanced accuracy: 0.3231523613375353\n",
      "balanced accuracy: 0.5487682408916902\n",
      "f1: 0.5637670284554066\n",
      "geometric mean: 0.5403448308644108\n",
      "roc auc: 0.7370659606508358\n",
      "LogRegCV_b_acc fold 4 completed in 2.57 s\n"
     ]
    },
    {
     "name": "stderr",
     "output_type": "stream",
     "text": [
      "[Parallel(n_jobs=-1)]: Using backend LokyBackend with 8 concurrent workers.\n",
      "[Parallel(n_jobs=-1)]: Done   2 out of   5 | elapsed:    1.7s remaining:    2.6s\n",
      "[Parallel(n_jobs=-1)]: Done   5 out of   5 | elapsed:    1.8s finished\n"
     ]
    },
    {
     "name": "stdout",
     "output_type": "stream",
     "text": [
      "fitted in 2.41 s\n",
      "predicted in 0.00 s\n",
      "accuracy: 0.5505685942414711\n",
      "adjusted balanced accuracy: 0.3160449773258571\n",
      "balanced accuracy: 0.5440299848839047\n",
      "f1: 0.552245256558224\n",
      "geometric mean: 0.5360861376999927\n",
      "roc auc: 0.7314793268697185\n",
      "LogRegCV_b_acc fold 5 completed in 3.20 s\n",
      "stored LogRegCV_b_acc in 15.69 s\n",
      "evaluating LogRegCV_b_balacc...\n"
     ]
    },
    {
     "name": "stderr",
     "output_type": "stream",
     "text": [
      "[Parallel(n_jobs=-1)]: Using backend LokyBackend with 8 concurrent workers.\n",
      "[Parallel(n_jobs=-1)]: Done   2 out of   5 | elapsed:    2.5s remaining:    3.8s\n",
      "[Parallel(n_jobs=-1)]: Done   5 out of   5 | elapsed:    2.6s finished\n"
     ]
    },
    {
     "name": "stdout",
     "output_type": "stream",
     "text": [
      "fitted in 3.19 s\n",
      "predicted in 0.00 s\n",
      "accuracy: 0.595153401511783\n",
      "adjusted balanced accuracy: 0.37800456245579955\n",
      "balanced accuracy: 0.585336374970533\n",
      "f1: 0.6018281890253143\n",
      "geometric mean: 0.5808048217639599\n",
      "roc auc: 0.7594239718833138\n",
      "LogRegCV_b_balacc fold 1 completed in 3.84 s\n"
     ]
    },
    {
     "name": "stderr",
     "output_type": "stream",
     "text": [
      "[Parallel(n_jobs=-1)]: Using backend LokyBackend with 8 concurrent workers.\n",
      "[Parallel(n_jobs=-1)]: Done   2 out of   5 | elapsed:    2.5s remaining:    3.8s\n",
      "[Parallel(n_jobs=-1)]: Done   5 out of   5 | elapsed:    2.6s finished\n"
     ]
    },
    {
     "name": "stdout",
     "output_type": "stream",
     "text": [
      "fitted in 3.25 s\n",
      "predicted in 0.00 s\n",
      "accuracy: 0.6034363068379035\n",
      "adjusted balanced accuracy: 0.4017476587374581\n",
      "balanced accuracy: 0.6011651058249721\n",
      "f1: 0.6133036885862498\n",
      "geometric mean: 0.5994053270203216\n",
      "roc auc: 0.7805214970620775\n",
      "LogRegCV_b_balacc fold 2 completed in 3.91 s\n"
     ]
    },
    {
     "name": "stderr",
     "output_type": "stream",
     "text": [
      "[Parallel(n_jobs=-1)]: Using backend LokyBackend with 8 concurrent workers.\n",
      "[Parallel(n_jobs=-1)]: Done   2 out of   5 | elapsed:    2.5s remaining:    3.8s\n",
      "[Parallel(n_jobs=-1)]: Done   5 out of   5 | elapsed:    2.6s finished\n"
     ]
    },
    {
     "name": "stdout",
     "output_type": "stream",
     "text": [
      "fitted in 3.23 s\n",
      "predicted in 0.01 s\n",
      "accuracy: 0.551891919871629\n",
      "adjusted balanced accuracy: 0.3303182674807304\n",
      "balanced accuracy: 0.5535455116538203\n",
      "f1: 0.5616027731979754\n",
      "geometric mean: 0.5497099959834562\n",
      "roc auc: 0.7363767705509381\n",
      "LogRegCV_b_balacc fold 3 completed in 3.90 s\n"
     ]
    },
    {
     "name": "stderr",
     "output_type": "stream",
     "text": [
      "[Parallel(n_jobs=-1)]: Using backend LokyBackend with 8 concurrent workers.\n",
      "[Parallel(n_jobs=-1)]: Done   2 out of   5 | elapsed:    2.5s remaining:    3.8s\n",
      "[Parallel(n_jobs=-1)]: Done   5 out of   5 | elapsed:    2.7s finished\n"
     ]
    },
    {
     "name": "stdout",
     "output_type": "stream",
     "text": [
      "fitted in 3.24 s\n",
      "predicted in 0.00 s\n",
      "accuracy: 0.5461113472163196\n",
      "adjusted balanced accuracy: 0.30536545340620574\n",
      "balanced accuracy: 0.5369103022708038\n",
      "f1: 0.5525553257619393\n",
      "geometric mean: 0.5278420265351436\n",
      "roc auc: 0.7261556134375279\n",
      "LogRegCV_b_balacc fold 4 completed in 3.99 s\n"
     ]
    },
    {
     "name": "stderr",
     "output_type": "stream",
     "text": [
      "[Parallel(n_jobs=-1)]: Using backend LokyBackend with 8 concurrent workers.\n",
      "[Parallel(n_jobs=-1)]: Done   2 out of   5 | elapsed:    2.7s remaining:    4.1s\n",
      "[Parallel(n_jobs=-1)]: Done   5 out of   5 | elapsed:    2.8s finished\n"
     ]
    },
    {
     "name": "stdout",
     "output_type": "stream",
     "text": [
      "fitted in 3.46 s\n",
      "predicted in 0.00 s\n",
      "accuracy: 0.5309702395354464\n",
      "adjusted balanced accuracy: 0.30549012963878636\n",
      "balanced accuracy: 0.5369934197591909\n",
      "f1: 0.5343128536460131\n",
      "geometric mean: 0.5307531199379512\n",
      "roc auc: 0.7259239716922963\n",
      "LogRegCV_b_balacc fold 5 completed in 4.17 s\n",
      "stored LogRegCV_b_balacc in 20.39 s\n",
      "evaluating LogRegCV_b_balacc...\n"
     ]
    },
    {
     "name": "stderr",
     "output_type": "stream",
     "text": [
      "[Parallel(n_jobs=-1)]: Using backend LokyBackend with 8 concurrent workers.\n",
      "[Parallel(n_jobs=-1)]: Done   2 out of   5 | elapsed:    1.7s remaining:    2.5s\n",
      "[Parallel(n_jobs=-1)]: Done   5 out of   5 | elapsed:    1.7s finished\n"
     ]
    },
    {
     "name": "stdout",
     "output_type": "stream",
     "text": [
      "fitted in 2.34 s\n",
      "predicted in 0.00 s\n",
      "accuracy: 0.5904846598488217\n",
      "adjusted balanced accuracy: 0.3711731073540778\n",
      "balanced accuracy: 0.5807820715693852\n",
      "f1: 0.5977996794002387\n",
      "geometric mean: 0.576892039340323\n",
      "roc auc: 0.7589960634563748\n",
      "LogRegCV_b_balacc fold 1 completed in 3.05 s\n"
     ]
    },
    {
     "name": "stderr",
     "output_type": "stream",
     "text": [
      "[Parallel(n_jobs=-1)]: Using backend LokyBackend with 8 concurrent workers.\n",
      "[Parallel(n_jobs=-1)]: Done   2 out of   5 | elapsed:    1.8s remaining:    2.7s\n",
      "[Parallel(n_jobs=-1)]: Done   5 out of   5 | elapsed:    1.8s finished\n"
     ]
    },
    {
     "name": "stdout",
     "output_type": "stream",
     "text": [
      "fitted in 2.37 s\n",
      "predicted in 0.00 s\n",
      "accuracy: 0.6131551544602568\n",
      "adjusted balanced accuracy: 0.42280354784938473\n",
      "balanced accuracy: 0.6152023652329232\n",
      "f1: 0.6224684615366886\n",
      "geometric mean: 0.6139389022733979\n",
      "roc auc: 0.786984275895133\n",
      "LogRegCV_b_balacc fold 2 completed in 3.08 s\n"
     ]
    },
    {
     "name": "stderr",
     "output_type": "stream",
     "text": [
      "[Parallel(n_jobs=-1)]: Using backend LokyBackend with 8 concurrent workers.\n",
      "[Parallel(n_jobs=-1)]: Done   2 out of   5 | elapsed:    1.6s remaining:    2.5s\n",
      "[Parallel(n_jobs=-1)]: Done   5 out of   5 | elapsed:    1.7s finished\n"
     ]
    },
    {
     "name": "stdout",
     "output_type": "stream",
     "text": [
      "fitted in 2.20 s\n",
      "predicted in 0.00 s\n",
      "accuracy: 0.5576375588798592\n",
      "adjusted balanced accuracy: 0.326563375937096\n",
      "balanced accuracy: 0.5510422506247307\n",
      "f1: 0.5660879041861239\n",
      "geometric mean: 0.547949560071846\n",
      "roc auc: 0.7389820431467322\n",
      "LogRegCV_b_balacc fold 3 completed in 2.93 s\n"
     ]
    },
    {
     "name": "stderr",
     "output_type": "stream",
     "text": [
      "[Parallel(n_jobs=-1)]: Using backend LokyBackend with 8 concurrent workers.\n",
      "[Parallel(n_jobs=-1)]: Done   2 out of   5 | elapsed:    1.4s remaining:    2.2s\n",
      "[Parallel(n_jobs=-1)]: Done   5 out of   5 | elapsed:    1.5s finished\n"
     ]
    },
    {
     "name": "stdout",
     "output_type": "stream",
     "text": [
      "fitted in 1.84 s\n",
      "predicted in 0.00 s\n",
      "accuracy: 0.5582428621102654\n",
      "adjusted balanced accuracy: 0.3231523613375353\n",
      "balanced accuracy: 0.5487682408916902\n",
      "f1: 0.5637670284554066\n",
      "geometric mean: 0.5403448308644108\n",
      "roc auc: 0.7370659606508358\n",
      "LogRegCV_b_balacc fold 4 completed in 2.57 s\n"
     ]
    },
    {
     "name": "stderr",
     "output_type": "stream",
     "text": [
      "[Parallel(n_jobs=-1)]: Using backend LokyBackend with 8 concurrent workers.\n",
      "[Parallel(n_jobs=-1)]: Done   2 out of   5 | elapsed:    1.7s remaining:    2.6s\n",
      "[Parallel(n_jobs=-1)]: Done   5 out of   5 | elapsed:    1.7s finished\n"
     ]
    },
    {
     "name": "stdout",
     "output_type": "stream",
     "text": [
      "fitted in 2.30 s\n",
      "predicted in 0.00 s\n",
      "accuracy: 0.5522017904669732\n",
      "adjusted balanced accuracy: 0.31826563737949026\n",
      "balanced accuracy: 0.5455104249196602\n",
      "f1: 0.5535432256521393\n",
      "geometric mean: 0.5369685171521821\n",
      "roc auc: 0.7319770250967599\n",
      "LogRegCV_b_balacc fold 5 completed in 2.97 s\n",
      "stored LogRegCV_b_balacc in 15.23 s\n",
      "evaluating LogRegCV_b_f1...\n"
     ]
    },
    {
     "name": "stderr",
     "output_type": "stream",
     "text": [
      "[Parallel(n_jobs=-1)]: Using backend LokyBackend with 8 concurrent workers.\n",
      "[Parallel(n_jobs=-1)]: Done   2 out of   5 | elapsed:    2.6s remaining:    3.9s\n",
      "[Parallel(n_jobs=-1)]: Done   5 out of   5 | elapsed:    2.7s finished\n"
     ]
    },
    {
     "name": "stdout",
     "output_type": "stream",
     "text": [
      "fitted in 3.40 s\n",
      "predicted in 0.00 s\n",
      "accuracy: 0.595153401511783\n",
      "adjusted balanced accuracy: 0.37800456245579955\n",
      "balanced accuracy: 0.585336374970533\n",
      "f1: 0.6018281890253143\n",
      "geometric mean: 0.5808048217639599\n",
      "roc auc: 0.7594239718833138\n",
      "LogRegCV_b_f1 fold 1 completed in 4.10 s\n"
     ]
    },
    {
     "name": "stderr",
     "output_type": "stream",
     "text": [
      "[Parallel(n_jobs=-1)]: Using backend LokyBackend with 8 concurrent workers.\n",
      "[Parallel(n_jobs=-1)]: Done   2 out of   5 | elapsed:    2.8s remaining:    4.2s\n",
      "[Parallel(n_jobs=-1)]: Done   5 out of   5 | elapsed:    2.8s finished\n"
     ]
    },
    {
     "name": "stdout",
     "output_type": "stream",
     "text": [
      "fitted in 3.53 s\n",
      "predicted in 0.00 s\n",
      "accuracy: 0.6034363068379035\n",
      "adjusted balanced accuracy: 0.4017476587374581\n",
      "balanced accuracy: 0.6011651058249721\n",
      "f1: 0.6133036885862498\n",
      "geometric mean: 0.5994053270203216\n",
      "roc auc: 0.7805214970620775\n",
      "LogRegCV_b_f1 fold 2 completed in 4.26 s\n"
     ]
    },
    {
     "name": "stderr",
     "output_type": "stream",
     "text": [
      "[Parallel(n_jobs=-1)]: Using backend LokyBackend with 8 concurrent workers.\n",
      "[Parallel(n_jobs=-1)]: Done   2 out of   5 | elapsed:    2.4s remaining:    3.6s\n",
      "[Parallel(n_jobs=-1)]: Done   5 out of   5 | elapsed:    2.4s finished\n"
     ]
    },
    {
     "name": "stdout",
     "output_type": "stream",
     "text": [
      "fitted in 3.10 s\n",
      "predicted in 0.00 s\n",
      "accuracy: 0.551891919871629\n",
      "adjusted balanced accuracy: 0.3303182674807304\n",
      "balanced accuracy: 0.5535455116538203\n",
      "f1: 0.5616027731979754\n",
      "geometric mean: 0.5497099959834562\n",
      "roc auc: 0.7363767705509381\n",
      "LogRegCV_b_f1 fold 3 completed in 3.80 s\n"
     ]
    },
    {
     "name": "stderr",
     "output_type": "stream",
     "text": [
      "[Parallel(n_jobs=-1)]: Using backend LokyBackend with 8 concurrent workers.\n",
      "[Parallel(n_jobs=-1)]: Done   2 out of   5 | elapsed:    2.1s remaining:    3.2s\n",
      "[Parallel(n_jobs=-1)]: Done   5 out of   5 | elapsed:    2.2s finished\n"
     ]
    },
    {
     "name": "stdout",
     "output_type": "stream",
     "text": [
      "fitted in 2.85 s\n",
      "predicted in 0.00 s\n",
      "accuracy: 0.5461113472163196\n",
      "adjusted balanced accuracy: 0.30536545340620574\n",
      "balanced accuracy: 0.5369103022708038\n",
      "f1: 0.5525553257619393\n",
      "geometric mean: 0.5278420265351436\n",
      "roc auc: 0.7261556134375279\n",
      "LogRegCV_b_f1 fold 4 completed in 3.56 s\n"
     ]
    },
    {
     "name": "stderr",
     "output_type": "stream",
     "text": [
      "[Parallel(n_jobs=-1)]: Using backend LokyBackend with 8 concurrent workers.\n",
      "[Parallel(n_jobs=-1)]: Done   2 out of   5 | elapsed:    2.5s remaining:    3.8s\n",
      "[Parallel(n_jobs=-1)]: Done   5 out of   5 | elapsed:    2.6s finished\n"
     ]
    },
    {
     "name": "stdout",
     "output_type": "stream",
     "text": [
      "fitted in 3.29 s\n",
      "predicted in 0.01 s\n",
      "accuracy: 0.5309702395354464\n",
      "adjusted balanced accuracy: 0.30549012963878636\n",
      "balanced accuracy: 0.5369934197591909\n",
      "f1: 0.5343128536460131\n",
      "geometric mean: 0.5307531199379512\n",
      "roc auc: 0.7259239716922963\n",
      "LogRegCV_b_f1 fold 5 completed in 4.01 s\n",
      "stored LogRegCV_b_f1 in 20.33 s\n",
      "evaluating LogRegCV_b_f1...\n"
     ]
    },
    {
     "name": "stderr",
     "output_type": "stream",
     "text": [
      "[Parallel(n_jobs=-1)]: Using backend LokyBackend with 8 concurrent workers.\n",
      "[Parallel(n_jobs=-1)]: Done   2 out of   5 | elapsed:    1.7s remaining:    2.6s\n",
      "[Parallel(n_jobs=-1)]: Done   5 out of   5 | elapsed:    1.7s finished\n"
     ]
    },
    {
     "name": "stdout",
     "output_type": "stream",
     "text": [
      "fitted in 2.21 s\n",
      "predicted in 0.00 s\n",
      "accuracy: 0.5904846598488217\n",
      "adjusted balanced accuracy: 0.369962586337691\n",
      "balanced accuracy: 0.5799750575584607\n",
      "f1: 0.5979262982638979\n",
      "geometric mean: 0.5765035949835134\n",
      "roc auc: 0.7589469262710105\n",
      "LogRegCV_b_f1 fold 1 completed in 2.90 s\n"
     ]
    },
    {
     "name": "stderr",
     "output_type": "stream",
     "text": [
      "[Parallel(n_jobs=-1)]: Using backend LokyBackend with 8 concurrent workers.\n",
      "[Parallel(n_jobs=-1)]: Done   2 out of   5 | elapsed:    1.7s remaining:    2.6s\n",
      "[Parallel(n_jobs=-1)]: Done   5 out of   5 | elapsed:    1.8s finished\n"
     ]
    },
    {
     "name": "stdout",
     "output_type": "stream",
     "text": [
      "fitted in 2.34 s\n",
      "predicted in 0.00 s\n",
      "accuracy: 0.6114196459562652\n",
      "adjusted balanced accuracy: 0.4198093536236849\n",
      "balanced accuracy: 0.6132062357491233\n",
      "f1: 0.6211239264328039\n",
      "geometric mean: 0.6121759831896801\n",
      "roc auc: 0.7859696928752866\n",
      "LogRegCV_b_f1 fold 2 completed in 3.04 s\n"
     ]
    },
    {
     "name": "stderr",
     "output_type": "stream",
     "text": [
      "[Parallel(n_jobs=-1)]: Using backend LokyBackend with 8 concurrent workers.\n",
      "[Parallel(n_jobs=-1)]: Done   2 out of   5 | elapsed:    1.6s remaining:    2.5s\n",
      "[Parallel(n_jobs=-1)]: Done   5 out of   5 | elapsed:    1.7s finished\n"
     ]
    },
    {
     "name": "stdout",
     "output_type": "stream",
     "text": [
      "fitted in 2.15 s\n",
      "predicted in 0.00 s\n",
      "accuracy: 0.5576375588798592\n",
      "adjusted balanced accuracy: 0.326563375937096\n",
      "balanced accuracy: 0.5510422506247307\n",
      "f1: 0.5660879041861239\n",
      "geometric mean: 0.547949560071846\n",
      "roc auc: 0.7389820431467322\n",
      "LogRegCV_b_f1 fold 3 completed in 2.83 s\n"
     ]
    },
    {
     "name": "stderr",
     "output_type": "stream",
     "text": [
      "[Parallel(n_jobs=-1)]: Using backend LokyBackend with 8 concurrent workers.\n",
      "[Parallel(n_jobs=-1)]: Done   2 out of   5 | elapsed:    1.4s remaining:    2.2s\n",
      "[Parallel(n_jobs=-1)]: Done   5 out of   5 | elapsed:    1.5s finished\n"
     ]
    },
    {
     "name": "stdout",
     "output_type": "stream",
     "text": [
      "fitted in 1.84 s\n",
      "predicted in 0.02 s\n",
      "accuracy: 0.5582428621102654\n",
      "adjusted balanced accuracy: 0.3231523613375353\n",
      "balanced accuracy: 0.5487682408916902\n",
      "f1: 0.5637670284554066\n",
      "geometric mean: 0.5403448308644108\n",
      "roc auc: 0.7370659606508358\n",
      "LogRegCV_b_f1 fold 4 completed in 2.56 s\n"
     ]
    },
    {
     "name": "stderr",
     "output_type": "stream",
     "text": [
      "[Parallel(n_jobs=-1)]: Using backend LokyBackend with 8 concurrent workers.\n",
      "[Parallel(n_jobs=-1)]: Done   2 out of   5 | elapsed:    1.7s remaining:    2.6s\n",
      "[Parallel(n_jobs=-1)]: Done   5 out of   5 | elapsed:    1.7s finished\n"
     ]
    },
    {
     "name": "stdout",
     "output_type": "stream",
     "text": [
      "fitted in 2.25 s\n",
      "predicted in 0.00 s\n",
      "accuracy: 0.5505685942414711\n",
      "adjusted balanced accuracy: 0.3160449773258571\n",
      "balanced accuracy: 0.5440299848839047\n",
      "f1: 0.552245256558224\n",
      "geometric mean: 0.5360861376999927\n",
      "roc auc: 0.7314793268697185\n",
      "LogRegCV_b_f1 fold 5 completed in 2.93 s\n",
      "stored LogRegCV_b_f1 in 14.84 s\n",
      "evaluating RidgeCV_acc...\n",
      "fitted in 0.15 s\n",
      "best score:  0.6991853325849958\n"
     ]
    },
    {
     "name": "stderr",
     "output_type": "stream",
     "text": [
      "Pandas Apply: 100%|██████████| 13494/13494 [00:00<00:00, 161555.61it/s]\n"
     ]
    },
    {
     "name": "stdout",
     "output_type": "stream",
     "text": [
      "predicted in 0.01 s\n",
      "accuracy: 0.5905587668593449\n",
      "adjusted balanced accuracy: 0.3790877831138642\n",
      "balanced accuracy: 0.5860585220759095\n",
      "f1: 0.5972161329461573\n",
      "geometric mean: 0.5809557737277482\n",
      "roc auc: 0.6810178329713921\n",
      "RidgeCV_acc fold 1 completed in 0.92 s\n",
      "fitted in 0.16 s\n",
      "best score:  0.700029761412675\n"
     ]
    },
    {
     "name": "stderr",
     "output_type": "stream",
     "text": [
      "Pandas Apply: 100%|██████████| 11524/11524 [00:00<00:00, 146691.55it/s]\n"
     ]
    },
    {
     "name": "stdout",
     "output_type": "stream",
     "text": [
      "predicted in 0.00 s\n",
      "accuracy: 0.6017007983339119\n",
      "adjusted balanced accuracy: 0.4067148536766452\n",
      "balanced accuracy: 0.6044765691177635\n",
      "f1: 0.6109432572112543\n",
      "geometric mean: 0.6018500411562911\n",
      "roc auc: 0.6950850365973409\n",
      "RidgeCV_acc fold 2 completed in 0.99 s\n",
      "fitted in 0.11 s\n",
      "best score:  0.7142596777721076\n"
     ]
    },
    {
     "name": "stderr",
     "output_type": "stream",
     "text": [
      "Pandas Apply: 100%|██████████| 19319/19319 [00:00<00:00, 135813.32it/s]\n"
     ]
    },
    {
     "name": "stdout",
     "output_type": "stream",
     "text": [
      "predicted in 0.00 s\n",
      "accuracy: 0.5486826440291941\n",
      "adjusted balanced accuracy: 0.3310321731004963\n",
      "balanced accuracy: 0.5540214487336642\n",
      "f1: 0.5575858813879677\n",
      "geometric mean: 0.5484284198069578\n",
      "roc auc: 0.6636511348822933\n",
      "RidgeCV_acc fold 3 completed in 1.02 s\n",
      "fitted in 0.13 s\n",
      "best score:  0.7173158662039794\n"
     ]
    },
    {
     "name": "stderr",
     "output_type": "stream",
     "text": [
      "Pandas Apply: 100%|██████████| 25883/25883 [00:00<00:00, 171573.65it/s]\n"
     ]
    },
    {
     "name": "stdout",
     "output_type": "stream",
     "text": [
      "predicted in 0.00 s\n",
      "accuracy: 0.544681837499517\n",
      "adjusted balanced accuracy: 0.30902147506107824\n",
      "balanced accuracy: 0.5393476500407188\n",
      "f1: 0.5505363163889279\n",
      "geometric mean: 0.5288891578929742\n",
      "roc auc: 0.6505483661356057\n",
      "RidgeCV_acc fold 4 completed in 1.02 s\n",
      "fitted in 0.14 s\n",
      "best score:  0.7153108997162859\n"
     ]
    },
    {
     "name": "stderr",
     "output_type": "stream",
     "text": [
      "Pandas Apply: 100%|██████████| 16532/16532 [00:00<00:00, 138531.96it/s]\n"
     ]
    },
    {
     "name": "stdout",
     "output_type": "stream",
     "text": [
      "predicted in 0.00 s\n",
      "accuracy: 0.5322405032663925\n",
      "adjusted balanced accuracy: 0.3116611040997266\n",
      "balanced accuracy: 0.541107402733151\n",
      "f1: 0.5339571350948552\n",
      "geometric mean: 0.5322568642383805\n",
      "roc auc: 0.6551824814202644\n",
      "RidgeCV_acc fold 5 completed in 0.97 s\n",
      "stored RidgeCV_acc in 5.49 s\n",
      "evaluating RidgeCV_acc...\n",
      "fitted in 0.11 s\n",
      "best score:  0.6901498812416391\n"
     ]
    },
    {
     "name": "stderr",
     "output_type": "stream",
     "text": [
      "Pandas Apply: 100%|██████████| 13494/13494 [00:00<00:00, 159972.01it/s]\n"
     ]
    },
    {
     "name": "stdout",
     "output_type": "stream",
     "text": [
      "predicted in 0.00 s\n",
      "accuracy: 0.5881873425226026\n",
      "adjusted balanced accuracy: 0.3714002410541534\n",
      "balanced accuracy: 0.5809334940361023\n",
      "f1: 0.5953841210781182\n",
      "geometric mean: 0.5761117628944616\n",
      "roc auc: 0.6778251630021914\n",
      "RidgeCV_acc fold 1 completed in 0.90 s\n",
      "fitted in 0.10 s\n",
      "best score:  0.6916174828521295\n"
     ]
    },
    {
     "name": "stderr",
     "output_type": "stream",
     "text": [
      "Pandas Apply: 100%|██████████| 11524/11524 [00:00<00:00, 133418.61it/s]\n"
     ]
    },
    {
     "name": "stdout",
     "output_type": "stream",
     "text": [
      "predicted in 0.00 s\n",
      "accuracy: 0.6130683790350573\n",
      "adjusted balanced accuracy: 0.42232560717614104\n",
      "balanced accuracy: 0.6148837381174274\n",
      "f1: 0.6215936239526403\n",
      "geometric mean: 0.6128015795934271\n",
      "roc auc: 0.7025353851171339\n",
      "RidgeCV_acc fold 2 completed in 0.89 s\n",
      "fitted in 0.10 s\n",
      "best score:  0.7059896489849183\n"
     ]
    },
    {
     "name": "stderr",
     "output_type": "stream",
     "text": [
      "Pandas Apply: 100%|██████████| 19319/19319 [00:00<00:00, 130738.29it/s]\n"
     ]
    },
    {
     "name": "stdout",
     "output_type": "stream",
     "text": [
      "predicted in 0.00 s\n",
      "accuracy: 0.5592939593146643\n",
      "adjusted balanced accuracy: 0.3303525432157057\n",
      "balanced accuracy: 0.5535683621438038\n",
      "f1: 0.567066093059979\n",
      "geometric mean: 0.549154751060314\n",
      "roc auc: 0.663628669388479\n",
      "RidgeCV_acc fold 3 completed in 0.96 s\n",
      "fitted in 0.08 s\n",
      "best score:  0.7070265652466773\n"
     ]
    },
    {
     "name": "stderr",
     "output_type": "stream",
     "text": [
      "Pandas Apply: 100%|██████████| 25883/25883 [00:00<00:00, 155567.87it/s]\n"
     ]
    },
    {
     "name": "stdout",
     "output_type": "stream",
     "text": [
      "predicted in 0.00 s\n",
      "accuracy: 0.5580110497237569\n",
      "adjusted balanced accuracy: 0.32269430864172216\n",
      "balanced accuracy: 0.5484628724278148\n",
      "f1: 0.5627252838596103\n",
      "geometric mean: 0.5381475888850035\n",
      "roc auc: 0.6574298631116711\n",
      "RidgeCV_acc fold 4 completed in 1.03 s\n",
      "fitted in 0.08 s\n",
      "best score:  0.7072201651951011\n"
     ]
    },
    {
     "name": "stderr",
     "output_type": "stream",
     "text": [
      "Pandas Apply: 100%|██████████| 16532/16532 [00:00<00:00, 125756.93it/s]\n"
     ]
    },
    {
     "name": "stdout",
     "output_type": "stream",
     "text": [
      "predicted in 0.00 s\n",
      "accuracy: 0.5523227679651584\n",
      "adjusted balanced accuracy: 0.31945032532406886\n",
      "balanced accuracy: 0.5463002168827126\n",
      "f1: 0.5530464000266653\n",
      "geometric mean: 0.5365913650165034\n",
      "roc auc: 0.6601015894043846\n",
      "RidgeCV_acc fold 5 completed in 0.94 s\n",
      "stored RidgeCV_acc in 5.30 s\n",
      "evaluating RidgeCV_balacc...\n",
      "fitted in 0.19 s\n",
      "best score:  0.6960580448236416\n"
     ]
    },
    {
     "name": "stderr",
     "output_type": "stream",
     "text": [
      "Pandas Apply: 100%|██████████| 13494/13494 [00:00<00:00, 212785.40it/s]\n"
     ]
    },
    {
     "name": "stdout",
     "output_type": "stream",
     "text": [
      "predicted in 0.00 s\n",
      "accuracy: 0.5905587668593449\n",
      "adjusted balanced accuracy: 0.3790877831138642\n",
      "balanced accuracy: 0.5860585220759095\n",
      "f1: 0.5972161329461573\n",
      "geometric mean: 0.5809557737277482\n",
      "roc auc: 0.6810178329713921\n",
      "RidgeCV_balacc fold 1 completed in 0.96 s\n",
      "fitted in 0.17 s\n",
      "best score:  0.6978183369397329\n"
     ]
    },
    {
     "name": "stderr",
     "output_type": "stream",
     "text": [
      "Pandas Apply: 100%|██████████| 11524/11524 [00:00<00:00, 151742.07it/s]\n"
     ]
    },
    {
     "name": "stdout",
     "output_type": "stream",
     "text": [
      "predicted in 0.00 s\n",
      "accuracy: 0.6017007983339119\n",
      "adjusted balanced accuracy: 0.4067148536766452\n",
      "balanced accuracy: 0.6044765691177635\n",
      "f1: 0.6109432572112543\n",
      "geometric mean: 0.6018500411562911\n",
      "roc auc: 0.6950850365973409\n",
      "RidgeCV_balacc fold 2 completed in 0.94 s\n",
      "fitted in 0.16 s\n",
      "best score:  0.7145561296027646\n"
     ]
    },
    {
     "name": "stderr",
     "output_type": "stream",
     "text": [
      "Pandas Apply: 100%|██████████| 19319/19319 [00:00<00:00, 131927.53it/s]\n"
     ]
    },
    {
     "name": "stdout",
     "output_type": "stream",
     "text": [
      "predicted in 0.00 s\n",
      "accuracy: 0.5486826440291941\n",
      "adjusted balanced accuracy: 0.3310321731004963\n",
      "balanced accuracy: 0.5540214487336642\n",
      "f1: 0.5575858813879677\n",
      "geometric mean: 0.5484284198069578\n",
      "roc auc: 0.6636511348822933\n",
      "RidgeCV_balacc fold 3 completed in 1.04 s\n",
      "fitted in 0.15 s\n",
      "best score:  0.7150699821635906\n"
     ]
    },
    {
     "name": "stderr",
     "output_type": "stream",
     "text": [
      "Pandas Apply: 100%|██████████| 25883/25883 [00:00<00:00, 154420.51it/s]\n"
     ]
    },
    {
     "name": "stdout",
     "output_type": "stream",
     "text": [
      "predicted in 0.00 s\n",
      "accuracy: 0.544681837499517\n",
      "adjusted balanced accuracy: 0.30902147506107824\n",
      "balanced accuracy: 0.5393476500407188\n",
      "f1: 0.5505363163889279\n",
      "geometric mean: 0.5288891578929742\n",
      "roc auc: 0.6505483661356057\n",
      "RidgeCV_balacc fold 4 completed in 1.05 s\n",
      "fitted in 0.18 s\n",
      "best score:  0.716344529253712\n"
     ]
    },
    {
     "name": "stderr",
     "output_type": "stream",
     "text": [
      "Pandas Apply: 100%|██████████| 16532/16532 [00:00<00:00, 141009.95it/s]\n"
     ]
    },
    {
     "name": "stdout",
     "output_type": "stream",
     "text": [
      "predicted in 0.00 s\n",
      "accuracy: 0.5322405032663925\n",
      "adjusted balanced accuracy: 0.3116611040997266\n",
      "balanced accuracy: 0.541107402733151\n",
      "f1: 0.5339571350948552\n",
      "geometric mean: 0.5322568642383805\n",
      "roc auc: 0.6551824814202644\n",
      "RidgeCV_balacc fold 5 completed in 1.01 s\n",
      "stored RidgeCV_balacc in 5.60 s\n",
      "evaluating RidgeCV_balacc...\n",
      "fitted in 0.10 s\n",
      "best score:  0.6976068573366866\n"
     ]
    },
    {
     "name": "stderr",
     "output_type": "stream",
     "text": [
      "Pandas Apply: 100%|██████████| 13494/13494 [00:00<00:00, 170799.83it/s]\n"
     ]
    },
    {
     "name": "stdout",
     "output_type": "stream",
     "text": [
      "predicted in 0.00 s\n",
      "accuracy: 0.5881873425226026\n",
      "adjusted balanced accuracy: 0.3714002410541534\n",
      "balanced accuracy: 0.5809334940361023\n",
      "f1: 0.5953841210781182\n",
      "geometric mean: 0.5761117628944616\n",
      "roc auc: 0.6778251630021914\n",
      "RidgeCV_balacc fold 1 completed in 0.90 s\n",
      "fitted in 0.10 s\n",
      "best score:  0.6990889316911751\n"
     ]
    },
    {
     "name": "stderr",
     "output_type": "stream",
     "text": [
      "Pandas Apply: 100%|██████████| 11524/11524 [00:00<00:00, 130113.35it/s]\n"
     ]
    },
    {
     "name": "stdout",
     "output_type": "stream",
     "text": [
      "predicted in 0.00 s\n",
      "accuracy: 0.6130683790350573\n",
      "adjusted balanced accuracy: 0.42232560717614104\n",
      "balanced accuracy: 0.6148837381174274\n",
      "f1: 0.6215936239526403\n",
      "geometric mean: 0.6128015795934271\n",
      "roc auc: 0.7025353851171339\n",
      "RidgeCV_balacc fold 2 completed in 0.95 s\n",
      "fitted in 0.09 s\n",
      "best score:  0.7159360183664152\n"
     ]
    },
    {
     "name": "stderr",
     "output_type": "stream",
     "text": [
      "Pandas Apply: 100%|██████████| 19319/19319 [00:00<00:00, 134162.12it/s]\n"
     ]
    },
    {
     "name": "stdout",
     "output_type": "stream",
     "text": [
      "predicted in 0.00 s\n",
      "accuracy: 0.5592939593146643\n",
      "adjusted balanced accuracy: 0.3303525432157057\n",
      "balanced accuracy: 0.5535683621438038\n",
      "f1: 0.567066093059979\n",
      "geometric mean: 0.549154751060314\n",
      "roc auc: 0.663628669388479\n",
      "RidgeCV_balacc fold 3 completed in 0.95 s\n",
      "fitted in 0.11 s\n",
      "best score:  0.7121330695317624\n"
     ]
    },
    {
     "name": "stderr",
     "output_type": "stream",
     "text": [
      "Pandas Apply: 100%|██████████| 25883/25883 [00:00<00:00, 139214.72it/s]\n"
     ]
    },
    {
     "name": "stdout",
     "output_type": "stream",
     "text": [
      "predicted in 0.00 s\n",
      "accuracy: 0.5580110497237569\n",
      "adjusted balanced accuracy: 0.32269430864172216\n",
      "balanced accuracy: 0.5484628724278148\n",
      "f1: 0.5627252838596103\n",
      "geometric mean: 0.5381475888850035\n",
      "roc auc: 0.6574298631116711\n",
      "RidgeCV_balacc fold 4 completed in 1.03 s\n",
      "fitted in 0.12 s\n",
      "best score:  0.7202651595618422\n"
     ]
    },
    {
     "name": "stderr",
     "output_type": "stream",
     "text": [
      "Pandas Apply: 100%|██████████| 16532/16532 [00:00<00:00, 146010.49it/s]\n"
     ]
    },
    {
     "name": "stdout",
     "output_type": "stream",
     "text": [
      "predicted in 0.00 s\n",
      "accuracy: 0.5523227679651584\n",
      "adjusted balanced accuracy: 0.31945032532406886\n",
      "balanced accuracy: 0.5463002168827126\n",
      "f1: 0.5530464000266653\n",
      "geometric mean: 0.5365913650165034\n",
      "roc auc: 0.6601015894043846\n",
      "RidgeCV_balacc fold 5 completed in 0.97 s\n",
      "stored RidgeCV_balacc in 5.39 s\n",
      "evaluating RidgeCV_f1...\n",
      "fitted in 0.28 s\n",
      "best score:  0.6970280298670558\n"
     ]
    },
    {
     "name": "stderr",
     "output_type": "stream",
     "text": [
      "Pandas Apply: 100%|██████████| 13494/13494 [00:00<00:00, 247188.19it/s]\n"
     ]
    },
    {
     "name": "stdout",
     "output_type": "stream",
     "text": [
      "predicted in 0.00 s\n",
      "accuracy: 0.5905587668593449\n",
      "adjusted balanced accuracy: 0.3790877831138642\n",
      "balanced accuracy: 0.5860585220759095\n",
      "f1: 0.5972161329461573\n",
      "geometric mean: 0.5809557737277482\n",
      "roc auc: 0.6810178329713921\n",
      "RidgeCV_f1 fold 1 completed in 1.04 s\n",
      "fitted in 0.26 s\n",
      "best score:  0.6979775948866436\n"
     ]
    },
    {
     "name": "stderr",
     "output_type": "stream",
     "text": [
      "Pandas Apply: 100%|██████████| 11524/11524 [00:00<00:00, 149475.54it/s]\n"
     ]
    },
    {
     "name": "stdout",
     "output_type": "stream",
     "text": [
      "predicted in 0.02 s\n",
      "accuracy: 0.6017007983339119\n",
      "adjusted balanced accuracy: 0.4067148536766452\n",
      "balanced accuracy: 0.6044765691177635\n",
      "f1: 0.6109432572112543\n",
      "geometric mean: 0.6018500411562911\n",
      "roc auc: 0.6950850365973409\n",
      "RidgeCV_f1 fold 2 completed in 1.06 s\n",
      "fitted in 0.26 s\n",
      "best score:  0.7123482698088381\n"
     ]
    },
    {
     "name": "stderr",
     "output_type": "stream",
     "text": [
      "Pandas Apply: 100%|██████████| 19319/19319 [00:00<00:00, 198628.64it/s]\n"
     ]
    },
    {
     "name": "stdout",
     "output_type": "stream",
     "text": [
      "predicted in 0.00 s\n",
      "accuracy: 0.5486826440291941\n",
      "adjusted balanced accuracy: 0.3310321731004963\n",
      "balanced accuracy: 0.5540214487336642\n",
      "f1: 0.5575858813879677\n",
      "geometric mean: 0.5484284198069578\n",
      "roc auc: 0.6636511348822933\n",
      "RidgeCV_f1 fold 3 completed in 1.08 s\n",
      "fitted in 0.23 s\n",
      "best score:  0.7152858644523918\n"
     ]
    },
    {
     "name": "stderr",
     "output_type": "stream",
     "text": [
      "Pandas Apply: 100%|██████████| 25883/25883 [00:00<00:00, 169181.93it/s]\n"
     ]
    },
    {
     "name": "stdout",
     "output_type": "stream",
     "text": [
      "predicted in 0.00 s\n",
      "accuracy: 0.544681837499517\n",
      "adjusted balanced accuracy: 0.30902147506107824\n",
      "balanced accuracy: 0.5393476500407188\n",
      "f1: 0.5505363163889279\n",
      "geometric mean: 0.5288891578929742\n",
      "roc auc: 0.6505483661356057\n",
      "RidgeCV_f1 fold 4 completed in 1.13 s\n",
      "fitted in 0.25 s\n",
      "best score:  0.7130826775211724\n"
     ]
    },
    {
     "name": "stderr",
     "output_type": "stream",
     "text": [
      "Pandas Apply: 100%|██████████| 16532/16532 [00:00<00:00, 196116.25it/s]\n"
     ]
    },
    {
     "name": "stdout",
     "output_type": "stream",
     "text": [
      "predicted in 0.00 s\n",
      "accuracy: 0.5322405032663925\n",
      "adjusted balanced accuracy: 0.3116611040997266\n",
      "balanced accuracy: 0.541107402733151\n",
      "f1: 0.5339571350948552\n",
      "geometric mean: 0.5322568642383805\n",
      "roc auc: 0.6551824814202644\n",
      "RidgeCV_f1 fold 5 completed in 1.04 s\n",
      "stored RidgeCV_f1 in 5.94 s\n",
      "evaluating RidgeCV_f1...\n",
      "fitted in 0.16 s\n",
      "best score:  0.6940479376350208\n"
     ]
    },
    {
     "name": "stderr",
     "output_type": "stream",
     "text": [
      "Pandas Apply: 100%|██████████| 13494/13494 [00:00<00:00, 139940.46it/s]\n"
     ]
    },
    {
     "name": "stdout",
     "output_type": "stream",
     "text": [
      "predicted in 0.00 s\n",
      "accuracy: 0.5881873425226026\n",
      "adjusted balanced accuracy: 0.3714002410541534\n",
      "balanced accuracy: 0.5809334940361023\n",
      "f1: 0.5953841210781182\n",
      "geometric mean: 0.5761117628944616\n",
      "roc auc: 0.6778251630021914\n",
      "RidgeCV_f1 fold 1 completed in 1.04 s\n",
      "fitted in 0.16 s\n",
      "best score:  0.6955650949124642\n"
     ]
    },
    {
     "name": "stderr",
     "output_type": "stream",
     "text": [
      "Pandas Apply: 100%|██████████| 11524/11524 [00:00<00:00, 166696.53it/s]\n"
     ]
    },
    {
     "name": "stdout",
     "output_type": "stream",
     "text": [
      "predicted in 0.00 s\n",
      "accuracy: 0.6130683790350573\n",
      "adjusted balanced accuracy: 0.42232560717614104\n",
      "balanced accuracy: 0.6148837381174274\n",
      "f1: 0.6215936239526403\n",
      "geometric mean: 0.6128015795934271\n",
      "roc auc: 0.7025353851171339\n",
      "RidgeCV_f1 fold 2 completed in 0.92 s\n",
      "fitted in 0.16 s\n",
      "best score:  0.7100783751659399\n"
     ]
    },
    {
     "name": "stderr",
     "output_type": "stream",
     "text": [
      "Pandas Apply: 100%|██████████| 19319/19319 [00:00<00:00, 163126.04it/s]\n"
     ]
    },
    {
     "name": "stdout",
     "output_type": "stream",
     "text": [
      "predicted in 0.01 s\n",
      "accuracy: 0.5592939593146643\n",
      "adjusted balanced accuracy: 0.3303525432157057\n",
      "balanced accuracy: 0.5535683621438038\n",
      "f1: 0.567066093059979\n",
      "geometric mean: 0.549154751060314\n",
      "roc auc: 0.663628669388479\n",
      "RidgeCV_f1 fold 3 completed in 1.01 s\n",
      "fitted in 0.14 s\n",
      "best score:  0.7104979540775865\n"
     ]
    },
    {
     "name": "stderr",
     "output_type": "stream",
     "text": [
      "Pandas Apply: 100%|██████████| 25883/25883 [00:00<00:00, 166609.63it/s]\n"
     ]
    },
    {
     "name": "stdout",
     "output_type": "stream",
     "text": [
      "predicted in 0.00 s\n",
      "accuracy: 0.5580110497237569\n",
      "adjusted balanced accuracy: 0.32269430864172216\n",
      "balanced accuracy: 0.5484628724278148\n",
      "f1: 0.5627252838596103\n",
      "geometric mean: 0.5381475888850035\n",
      "roc auc: 0.6574298631116711\n",
      "RidgeCV_f1 fold 4 completed in 1.05 s\n",
      "fitted in 0.16 s\n",
      "best score:  0.7119386423741723\n"
     ]
    },
    {
     "name": "stderr",
     "output_type": "stream",
     "text": [
      "Pandas Apply: 100%|██████████| 16532/16532 [00:00<00:00, 149773.60it/s]\n"
     ]
    },
    {
     "name": "stdout",
     "output_type": "stream",
     "text": [
      "predicted in 0.00 s\n",
      "accuracy: 0.5523227679651584\n",
      "adjusted balanced accuracy: 0.31945032532406886\n",
      "balanced accuracy: 0.5463002168827126\n",
      "f1: 0.5530464000266653\n",
      "geometric mean: 0.5365913650165034\n",
      "roc auc: 0.6601015894043846\n",
      "RidgeCV_f1 fold 5 completed in 1.00 s\n",
      "stored RidgeCV_f1 in 5.63 s\n",
      "evaluating RidgeCV_b_acc...\n",
      "fitted in 0.16 s\n",
      "best score:  0.6991853325849958\n"
     ]
    },
    {
     "name": "stderr",
     "output_type": "stream",
     "text": [
      "Pandas Apply: 100%|██████████| 13494/13494 [00:00<00:00, 287864.68it/s]\n"
     ]
    },
    {
     "name": "stdout",
     "output_type": "stream",
     "text": [
      "predicted in 0.00 s\n",
      "accuracy: 0.5905587668593449\n",
      "adjusted balanced accuracy: 0.3790877831138642\n",
      "balanced accuracy: 0.5860585220759095\n",
      "f1: 0.5972161329461573\n",
      "geometric mean: 0.5809557737277482\n",
      "roc auc: 0.6810178329713921\n",
      "RidgeCV_b_acc fold 1 completed in 0.93 s\n",
      "fitted in 0.17 s\n",
      "best score:  0.700029761412675\n"
     ]
    },
    {
     "name": "stderr",
     "output_type": "stream",
     "text": [
      "Pandas Apply: 100%|██████████| 11524/11524 [00:00<00:00, 165072.89it/s]\n"
     ]
    },
    {
     "name": "stdout",
     "output_type": "stream",
     "text": [
      "predicted in 0.00 s\n",
      "accuracy: 0.6017007983339119\n",
      "adjusted balanced accuracy: 0.4067148536766452\n",
      "balanced accuracy: 0.6044765691177635\n",
      "f1: 0.6109432572112543\n",
      "geometric mean: 0.6018500411562911\n",
      "roc auc: 0.6950850365973409\n",
      "RidgeCV_b_acc fold 2 completed in 0.95 s\n",
      "fitted in 0.09 s\n",
      "best score:  0.7142596777721076\n"
     ]
    },
    {
     "name": "stderr",
     "output_type": "stream",
     "text": [
      "Pandas Apply: 100%|██████████| 19319/19319 [00:00<00:00, 131071.36it/s]\n"
     ]
    },
    {
     "name": "stdout",
     "output_type": "stream",
     "text": [
      "predicted in 0.00 s\n",
      "accuracy: 0.5486826440291941\n",
      "adjusted balanced accuracy: 0.3310321731004963\n",
      "balanced accuracy: 0.5540214487336642\n",
      "f1: 0.5575858813879677\n",
      "geometric mean: 0.5484284198069578\n",
      "roc auc: 0.6636511348822933\n",
      "RidgeCV_b_acc fold 3 completed in 0.96 s\n",
      "fitted in 0.14 s\n",
      "best score:  0.7173158662039794\n"
     ]
    },
    {
     "name": "stderr",
     "output_type": "stream",
     "text": [
      "Pandas Apply: 100%|██████████| 25883/25883 [00:00<00:00, 162643.57it/s]\n"
     ]
    },
    {
     "name": "stdout",
     "output_type": "stream",
     "text": [
      "predicted in 0.00 s\n",
      "accuracy: 0.544681837499517\n",
      "adjusted balanced accuracy: 0.30902147506107824\n",
      "balanced accuracy: 0.5393476500407188\n",
      "f1: 0.5505363163889279\n",
      "geometric mean: 0.5288891578929742\n",
      "roc auc: 0.6505483661356057\n",
      "RidgeCV_b_acc fold 4 completed in 0.99 s\n",
      "fitted in 0.14 s\n",
      "best score:  0.7153108997162859\n"
     ]
    },
    {
     "name": "stderr",
     "output_type": "stream",
     "text": [
      "Pandas Apply: 100%|██████████| 16532/16532 [00:00<00:00, 201221.82it/s]\n"
     ]
    },
    {
     "name": "stdout",
     "output_type": "stream",
     "text": [
      "predicted in 0.00 s\n",
      "accuracy: 0.5322405032663925\n",
      "adjusted balanced accuracy: 0.3116611040997266\n",
      "balanced accuracy: 0.541107402733151\n",
      "f1: 0.5339571350948552\n",
      "geometric mean: 0.5322568642383805\n",
      "roc auc: 0.6551824814202644\n",
      "RidgeCV_b_acc fold 5 completed in 0.92 s\n",
      "stored RidgeCV_b_acc in 5.35 s\n",
      "evaluating RidgeCV_b_acc...\n",
      "fitted in 0.08 s\n",
      "best score:  0.6901498812416391\n"
     ]
    },
    {
     "name": "stderr",
     "output_type": "stream",
     "text": [
      "Pandas Apply: 100%|██████████| 13494/13494 [00:00<00:00, 137821.56it/s]\n"
     ]
    },
    {
     "name": "stdout",
     "output_type": "stream",
     "text": [
      "predicted in 0.00 s\n",
      "accuracy: 0.5881873425226026\n",
      "adjusted balanced accuracy: 0.3714002410541534\n",
      "balanced accuracy: 0.5809334940361023\n",
      "f1: 0.5953841210781182\n",
      "geometric mean: 0.5761117628944616\n",
      "roc auc: 0.6778251630021914\n",
      "RidgeCV_b_acc fold 1 completed in 0.91 s\n",
      "fitted in 0.09 s\n",
      "best score:  0.6916174828521295\n"
     ]
    },
    {
     "name": "stderr",
     "output_type": "stream",
     "text": [
      "Pandas Apply: 100%|██████████| 11524/11524 [00:00<00:00, 157688.52it/s]\n"
     ]
    },
    {
     "name": "stdout",
     "output_type": "stream",
     "text": [
      "predicted in 0.00 s\n",
      "accuracy: 0.6130683790350573\n",
      "adjusted balanced accuracy: 0.42232560717614104\n",
      "balanced accuracy: 0.6148837381174274\n",
      "f1: 0.6215936239526403\n",
      "geometric mean: 0.6128015795934271\n",
      "roc auc: 0.7025353851171339\n",
      "RidgeCV_b_acc fold 2 completed in 0.88 s\n",
      "fitted in 0.10 s\n",
      "best score:  0.7059896489849183\n"
     ]
    },
    {
     "name": "stderr",
     "output_type": "stream",
     "text": [
      "Pandas Apply: 100%|██████████| 19319/19319 [00:00<00:00, 164746.53it/s]\n"
     ]
    },
    {
     "name": "stdout",
     "output_type": "stream",
     "text": [
      "predicted in 0.00 s\n",
      "accuracy: 0.5592939593146643\n",
      "adjusted balanced accuracy: 0.3303525432157057\n",
      "balanced accuracy: 0.5535683621438038\n",
      "f1: 0.567066093059979\n",
      "geometric mean: 0.549154751060314\n",
      "roc auc: 0.663628669388479\n",
      "RidgeCV_b_acc fold 3 completed in 0.95 s\n",
      "fitted in 0.09 s\n",
      "best score:  0.7070265652466773\n"
     ]
    },
    {
     "name": "stderr",
     "output_type": "stream",
     "text": [
      "Pandas Apply: 100%|██████████| 25883/25883 [00:00<00:00, 152200.58it/s]\n"
     ]
    },
    {
     "name": "stdout",
     "output_type": "stream",
     "text": [
      "predicted in 0.01 s\n",
      "accuracy: 0.5580110497237569\n",
      "adjusted balanced accuracy: 0.32269430864172216\n",
      "balanced accuracy: 0.5484628724278148\n",
      "f1: 0.5627252838596103\n",
      "geometric mean: 0.5381475888850035\n",
      "roc auc: 0.6574298631116711\n",
      "RidgeCV_b_acc fold 4 completed in 1.01 s\n",
      "fitted in 0.09 s\n",
      "best score:  0.7072201651951011\n"
     ]
    },
    {
     "name": "stderr",
     "output_type": "stream",
     "text": [
      "Pandas Apply: 100%|██████████| 16532/16532 [00:00<00:00, 164133.27it/s]\n"
     ]
    },
    {
     "name": "stdout",
     "output_type": "stream",
     "text": [
      "predicted in 0.00 s\n",
      "accuracy: 0.5523227679651584\n",
      "adjusted balanced accuracy: 0.31945032532406886\n",
      "balanced accuracy: 0.5463002168827126\n",
      "f1: 0.5530464000266653\n",
      "geometric mean: 0.5365913650165034\n",
      "roc auc: 0.6601015894043846\n",
      "RidgeCV_b_acc fold 5 completed in 0.90 s\n",
      "stored RidgeCV_b_acc in 5.22 s\n",
      "evaluating RidgeCV_b_balacc...\n",
      "fitted in 0.20 s\n",
      "best score:  0.6960580448236416\n"
     ]
    },
    {
     "name": "stderr",
     "output_type": "stream",
     "text": [
      "Pandas Apply: 100%|██████████| 13494/13494 [00:00<00:00, 155962.73it/s]\n"
     ]
    },
    {
     "name": "stdout",
     "output_type": "stream",
     "text": [
      "predicted in 0.00 s\n",
      "accuracy: 0.5905587668593449\n",
      "adjusted balanced accuracy: 0.3790877831138642\n",
      "balanced accuracy: 0.5860585220759095\n",
      "f1: 0.5972161329461573\n",
      "geometric mean: 0.5809557737277482\n",
      "roc auc: 0.6810178329713921\n",
      "RidgeCV_b_balacc fold 1 completed in 1.01 s\n",
      "fitted in 0.21 s\n",
      "best score:  0.6978183369397329\n"
     ]
    },
    {
     "name": "stderr",
     "output_type": "stream",
     "text": [
      "Pandas Apply: 100%|██████████| 11524/11524 [00:00<00:00, 206522.56it/s]\n"
     ]
    },
    {
     "name": "stdout",
     "output_type": "stream",
     "text": [
      "predicted in 0.00 s\n",
      "accuracy: 0.6017007983339119\n",
      "adjusted balanced accuracy: 0.4067148536766452\n",
      "balanced accuracy: 0.6044765691177635\n",
      "f1: 0.6109432572112543\n",
      "geometric mean: 0.6018500411562911\n",
      "roc auc: 0.6950850365973409\n",
      "RidgeCV_b_balacc fold 2 completed in 1.00 s\n",
      "fitted in 0.16 s\n",
      "best score:  0.7145561296027646\n"
     ]
    },
    {
     "name": "stderr",
     "output_type": "stream",
     "text": [
      "Pandas Apply: 100%|██████████| 19319/19319 [00:00<00:00, 192004.09it/s]\n"
     ]
    },
    {
     "name": "stdout",
     "output_type": "stream",
     "text": [
      "predicted in 0.00 s\n",
      "accuracy: 0.5486826440291941\n",
      "adjusted balanced accuracy: 0.3310321731004963\n",
      "balanced accuracy: 0.5540214487336642\n",
      "f1: 0.5575858813879677\n",
      "geometric mean: 0.5484284198069578\n",
      "roc auc: 0.6636511348822933\n",
      "RidgeCV_b_balacc fold 3 completed in 1.01 s\n",
      "fitted in 0.15 s\n",
      "best score:  0.7150699821635906\n"
     ]
    },
    {
     "name": "stderr",
     "output_type": "stream",
     "text": [
      "Pandas Apply: 100%|██████████| 25883/25883 [00:00<00:00, 149769.09it/s]\n"
     ]
    },
    {
     "name": "stdout",
     "output_type": "stream",
     "text": [
      "predicted in 0.00 s\n",
      "accuracy: 0.544681837499517\n",
      "adjusted balanced accuracy: 0.30902147506107824\n",
      "balanced accuracy: 0.5393476500407188\n",
      "f1: 0.5505363163889279\n",
      "geometric mean: 0.5288891578929742\n",
      "roc auc: 0.6505483661356057\n",
      "RidgeCV_b_balacc fold 4 completed in 1.05 s\n",
      "fitted in 0.17 s\n",
      "best score:  0.716344529253712\n"
     ]
    },
    {
     "name": "stderr",
     "output_type": "stream",
     "text": [
      "Pandas Apply: 100%|██████████| 16532/16532 [00:00<00:00, 145586.20it/s]\n"
     ]
    },
    {
     "name": "stdout",
     "output_type": "stream",
     "text": [
      "predicted in 0.00 s\n",
      "accuracy: 0.5322405032663925\n",
      "adjusted balanced accuracy: 0.3116611040997266\n",
      "balanced accuracy: 0.541107402733151\n",
      "f1: 0.5339571350948552\n",
      "geometric mean: 0.5322568642383805\n",
      "roc auc: 0.6551824814202644\n",
      "RidgeCV_b_balacc fold 5 completed in 1.00 s\n",
      "stored RidgeCV_b_balacc in 5.65 s\n",
      "evaluating RidgeCV_b_balacc...\n",
      "fitted in 0.12 s\n",
      "best score:  0.6976068573366866\n"
     ]
    },
    {
     "name": "stderr",
     "output_type": "stream",
     "text": [
      "Pandas Apply: 100%|██████████| 13494/13494 [00:00<00:00, 144797.68it/s]\n"
     ]
    },
    {
     "name": "stdout",
     "output_type": "stream",
     "text": [
      "predicted in 0.00 s\n",
      "accuracy: 0.5881873425226026\n",
      "adjusted balanced accuracy: 0.3714002410541534\n",
      "balanced accuracy: 0.5809334940361023\n",
      "f1: 0.5953841210781182\n",
      "geometric mean: 0.5761117628944616\n",
      "roc auc: 0.6778251630021914\n",
      "RidgeCV_b_balacc fold 1 completed in 0.98 s\n",
      "fitted in 0.10 s\n",
      "best score:  0.6990889316911751\n"
     ]
    },
    {
     "name": "stderr",
     "output_type": "stream",
     "text": [
      "Pandas Apply: 100%|██████████| 11524/11524 [00:00<00:00, 161829.79it/s]\n"
     ]
    },
    {
     "name": "stdout",
     "output_type": "stream",
     "text": [
      "predicted in 0.00 s\n",
      "accuracy: 0.6130683790350573\n",
      "adjusted balanced accuracy: 0.42232560717614104\n",
      "balanced accuracy: 0.6148837381174274\n",
      "f1: 0.6215936239526403\n",
      "geometric mean: 0.6128015795934271\n",
      "roc auc: 0.7025353851171339\n",
      "RidgeCV_b_balacc fold 2 completed in 0.89 s\n",
      "fitted in 0.07 s\n",
      "best score:  0.7159360183664152\n"
     ]
    },
    {
     "name": "stderr",
     "output_type": "stream",
     "text": [
      "Pandas Apply: 100%|██████████| 19319/19319 [00:00<00:00, 158431.75it/s]\n"
     ]
    },
    {
     "name": "stdout",
     "output_type": "stream",
     "text": [
      "predicted in 0.00 s\n",
      "accuracy: 0.5592939593146643\n",
      "adjusted balanced accuracy: 0.3303525432157057\n",
      "balanced accuracy: 0.5535683621438038\n",
      "f1: 0.567066093059979\n",
      "geometric mean: 0.549154751060314\n",
      "roc auc: 0.663628669388479\n",
      "RidgeCV_b_balacc fold 3 completed in 0.95 s\n",
      "fitted in 0.10 s\n",
      "best score:  0.7121330695317624\n"
     ]
    },
    {
     "name": "stderr",
     "output_type": "stream",
     "text": [
      "Pandas Apply: 100%|██████████| 25883/25883 [00:00<00:00, 163520.37it/s]\n"
     ]
    },
    {
     "name": "stdout",
     "output_type": "stream",
     "text": [
      "predicted in 0.00 s\n",
      "accuracy: 0.5580110497237569\n",
      "adjusted balanced accuracy: 0.32269430864172216\n",
      "balanced accuracy: 0.5484628724278148\n",
      "f1: 0.5627252838596103\n",
      "geometric mean: 0.5381475888850035\n",
      "roc auc: 0.6574298631116711\n",
      "RidgeCV_b_balacc fold 4 completed in 0.97 s\n",
      "fitted in 0.12 s\n",
      "best score:  0.7202651595618422\n"
     ]
    },
    {
     "name": "stderr",
     "output_type": "stream",
     "text": [
      "Pandas Apply: 100%|██████████| 16532/16532 [00:00<00:00, 148225.92it/s]\n"
     ]
    },
    {
     "name": "stdout",
     "output_type": "stream",
     "text": [
      "predicted in 0.00 s\n",
      "accuracy: 0.5523227679651584\n",
      "adjusted balanced accuracy: 0.31945032532406886\n",
      "balanced accuracy: 0.5463002168827126\n",
      "f1: 0.5530464000266653\n",
      "geometric mean: 0.5365913650165034\n",
      "roc auc: 0.6601015894043846\n",
      "RidgeCV_b_balacc fold 5 completed in 0.90 s\n",
      "stored RidgeCV_b_balacc in 5.33 s\n",
      "evaluating RidgeCV_b_f1...\n",
      "fitted in 0.24 s\n",
      "best score:  0.6970280298670558\n"
     ]
    },
    {
     "name": "stderr",
     "output_type": "stream",
     "text": [
      "Pandas Apply: 100%|██████████| 13494/13494 [00:00<00:00, 117439.68it/s]\n"
     ]
    },
    {
     "name": "stdout",
     "output_type": "stream",
     "text": [
      "predicted in 0.02 s\n",
      "accuracy: 0.5905587668593449\n",
      "adjusted balanced accuracy: 0.3790877831138642\n",
      "balanced accuracy: 0.5860585220759095\n",
      "f1: 0.5972161329461573\n",
      "geometric mean: 0.5809557737277482\n",
      "roc auc: 0.6810178329713921\n",
      "RidgeCV_b_f1 fold 1 completed in 1.09 s\n",
      "fitted in 0.27 s\n",
      "best score:  0.6979775948866436\n"
     ]
    },
    {
     "name": "stderr",
     "output_type": "stream",
     "text": [
      "Pandas Apply: 100%|██████████| 11524/11524 [00:00<00:00, 146719.60it/s]\n"
     ]
    },
    {
     "name": "stdout",
     "output_type": "stream",
     "text": [
      "predicted in 0.00 s\n",
      "accuracy: 0.6017007983339119\n",
      "adjusted balanced accuracy: 0.4067148536766452\n",
      "balanced accuracy: 0.6044765691177635\n",
      "f1: 0.6109432572112543\n",
      "geometric mean: 0.6018500411562911\n",
      "roc auc: 0.6950850365973409\n",
      "RidgeCV_b_f1 fold 2 completed in 1.09 s\n",
      "fitted in 0.26 s\n",
      "best score:  0.7123482698088381\n"
     ]
    },
    {
     "name": "stderr",
     "output_type": "stream",
     "text": [
      "Pandas Apply: 100%|██████████| 19319/19319 [00:00<00:00, 151963.09it/s]\n"
     ]
    },
    {
     "name": "stdout",
     "output_type": "stream",
     "text": [
      "predicted in 0.00 s\n",
      "accuracy: 0.5486826440291941\n",
      "adjusted balanced accuracy: 0.3310321731004963\n",
      "balanced accuracy: 0.5540214487336642\n",
      "f1: 0.5575858813879677\n",
      "geometric mean: 0.5484284198069578\n",
      "roc auc: 0.6636511348822933\n",
      "RidgeCV_b_f1 fold 3 completed in 1.13 s\n",
      "fitted in 0.22 s\n",
      "best score:  0.7152858644523918\n"
     ]
    },
    {
     "name": "stderr",
     "output_type": "stream",
     "text": [
      "Pandas Apply: 100%|██████████| 25883/25883 [00:00<00:00, 195058.49it/s]\n"
     ]
    },
    {
     "name": "stdout",
     "output_type": "stream",
     "text": [
      "predicted in 0.00 s\n",
      "accuracy: 0.544681837499517\n",
      "adjusted balanced accuracy: 0.30902147506107824\n",
      "balanced accuracy: 0.5393476500407188\n",
      "f1: 0.5505363163889279\n",
      "geometric mean: 0.5288891578929742\n",
      "roc auc: 0.6505483661356057\n",
      "RidgeCV_b_f1 fold 4 completed in 1.10 s\n",
      "fitted in 0.21 s\n",
      "best score:  0.7130826775211724\n"
     ]
    },
    {
     "name": "stderr",
     "output_type": "stream",
     "text": [
      "Pandas Apply: 100%|██████████| 16532/16532 [00:00<00:00, 145297.92it/s]\n"
     ]
    },
    {
     "name": "stdout",
     "output_type": "stream",
     "text": [
      "predicted in 0.00 s\n",
      "accuracy: 0.5322405032663925\n",
      "adjusted balanced accuracy: 0.3116611040997266\n",
      "balanced accuracy: 0.541107402733151\n",
      "f1: 0.5339571350948552\n",
      "geometric mean: 0.5322568642383805\n",
      "roc auc: 0.6551824814202644\n",
      "RidgeCV_b_f1 fold 5 completed in 1.06 s\n",
      "stored RidgeCV_b_f1 in 6.03 s\n",
      "evaluating RidgeCV_b_f1...\n",
      "fitted in 0.15 s\n",
      "best score:  0.6940479376350208\n"
     ]
    },
    {
     "name": "stderr",
     "output_type": "stream",
     "text": [
      "Pandas Apply: 100%|██████████| 13494/13494 [00:00<00:00, 145723.75it/s]\n"
     ]
    },
    {
     "name": "stdout",
     "output_type": "stream",
     "text": [
      "predicted in 0.00 s\n",
      "accuracy: 0.5881873425226026\n",
      "adjusted balanced accuracy: 0.3714002410541534\n",
      "balanced accuracy: 0.5809334940361023\n",
      "f1: 0.5953841210781182\n",
      "geometric mean: 0.5761117628944616\n",
      "roc auc: 0.6778251630021914\n",
      "RidgeCV_b_f1 fold 1 completed in 0.91 s\n",
      "fitted in 0.16 s\n",
      "best score:  0.6955650949124642\n"
     ]
    },
    {
     "name": "stderr",
     "output_type": "stream",
     "text": [
      "Pandas Apply: 100%|██████████| 11524/11524 [00:00<00:00, 137908.57it/s]\n"
     ]
    },
    {
     "name": "stdout",
     "output_type": "stream",
     "text": [
      "predicted in 0.00 s\n",
      "accuracy: 0.6130683790350573\n",
      "adjusted balanced accuracy: 0.42232560717614104\n",
      "balanced accuracy: 0.6148837381174274\n",
      "f1: 0.6215936239526403\n",
      "geometric mean: 0.6128015795934271\n",
      "roc auc: 0.7025353851171339\n",
      "RidgeCV_b_f1 fold 2 completed in 0.93 s\n",
      "fitted in 0.13 s\n",
      "best score:  0.7100783751659399\n"
     ]
    },
    {
     "name": "stderr",
     "output_type": "stream",
     "text": [
      "Pandas Apply: 100%|██████████| 19319/19319 [00:00<00:00, 158499.93it/s]\n"
     ]
    },
    {
     "name": "stdout",
     "output_type": "stream",
     "text": [
      "predicted in 0.00 s\n",
      "accuracy: 0.5592939593146643\n",
      "adjusted balanced accuracy: 0.3303525432157057\n",
      "balanced accuracy: 0.5535683621438038\n",
      "f1: 0.567066093059979\n",
      "geometric mean: 0.549154751060314\n",
      "roc auc: 0.663628669388479\n",
      "RidgeCV_b_f1 fold 3 completed in 1.00 s\n",
      "fitted in 0.14 s\n",
      "best score:  0.7104979540775865\n"
     ]
    },
    {
     "name": "stderr",
     "output_type": "stream",
     "text": [
      "Pandas Apply: 100%|██████████| 25883/25883 [00:00<00:00, 160953.45it/s]\n"
     ]
    },
    {
     "name": "stdout",
     "output_type": "stream",
     "text": [
      "predicted in 0.00 s\n",
      "accuracy: 0.5580110497237569\n",
      "adjusted balanced accuracy: 0.32269430864172216\n",
      "balanced accuracy: 0.5484628724278148\n",
      "f1: 0.5627252838596103\n",
      "geometric mean: 0.5381475888850035\n",
      "roc auc: 0.6574298631116711\n",
      "RidgeCV_b_f1 fold 4 completed in 1.07 s\n",
      "fitted in 0.15 s\n",
      "best score:  0.7119386423741723\n"
     ]
    },
    {
     "name": "stderr",
     "output_type": "stream",
     "text": [
      "Pandas Apply: 100%|██████████| 16532/16532 [00:00<00:00, 137952.08it/s]\n"
     ]
    },
    {
     "name": "stdout",
     "output_type": "stream",
     "text": [
      "predicted in 0.02 s\n",
      "accuracy: 0.5523227679651584\n",
      "adjusted balanced accuracy: 0.31945032532406886\n",
      "balanced accuracy: 0.5463002168827126\n",
      "f1: 0.5530464000266653\n",
      "geometric mean: 0.5365913650165034\n",
      "roc auc: 0.6601015894043846\n",
      "RidgeCV_b_f1 fold 5 completed in 0.96 s\n",
      "stored RidgeCV_b_f1 in 5.47 s\n",
      "evaluating SGD...\n",
      "fitted in 0.22 s\n"
     ]
    },
    {
     "name": "stderr",
     "output_type": "stream",
     "text": [
      "Pandas Apply: 100%|██████████| 13494/13494 [00:00<00:00, 158743.96it/s]\n"
     ]
    },
    {
     "name": "stdout",
     "output_type": "stream",
     "text": [
      "predicted in 0.00 s\n",
      "accuracy: 0.5855194901437676\n",
      "adjusted balanced accuracy: 0.3850605392897377\n",
      "balanced accuracy: 0.5900403595264918\n",
      "f1: 0.5924114286566501\n",
      "geometric mean: 0.5850665482535893\n",
      "roc auc: 0.6829223173707101\n",
      "SGD fold 1 completed in 1.00 s\n",
      "fitted in 0.18 s\n"
     ]
    },
    {
     "name": "stderr",
     "output_type": "stream",
     "text": [
      "Pandas Apply: 100%|██████████| 11524/11524 [00:00<00:00, 171135.47it/s]\n"
     ]
    },
    {
     "name": "stdout",
     "output_type": "stream",
     "text": [
      "predicted in 0.00 s\n",
      "accuracy: 0.594151336341548\n",
      "adjusted balanced accuracy: 0.4152737010511843\n",
      "balanced accuracy: 0.6101824673674562\n",
      "f1: 0.6037901333043901\n",
      "geometric mean: 0.607040377306312\n",
      "roc auc: 0.6982757981404356\n",
      "SGD fold 2 completed in 0.96 s\n",
      "fitted in 0.20 s\n"
     ]
    },
    {
     "name": "stderr",
     "output_type": "stream",
     "text": [
      "Pandas Apply: 100%|██████████| 19319/19319 [00:00<00:00, 155156.30it/s]\n"
     ]
    },
    {
     "name": "stdout",
     "output_type": "stream",
     "text": [
      "predicted in 0.00 s\n",
      "accuracy: 0.5465603809721\n",
      "adjusted balanced accuracy: 0.33505145186217294\n",
      "balanced accuracy: 0.5567009679081153\n",
      "f1: 0.5544400450399369\n",
      "geometric mean: 0.5497657888387627\n",
      "roc auc: 0.6650777172031427\n",
      "SGD fold 3 completed in 1.04 s\n",
      "fitted in 0.16 s\n"
     ]
    },
    {
     "name": "stderr",
     "output_type": "stream",
     "text": [
      "Pandas Apply: 100%|██████████| 25883/25883 [00:00<00:00, 160979.94it/s]\n"
     ]
    },
    {
     "name": "stdout",
     "output_type": "stream",
     "text": [
      "predicted in 0.00 s\n",
      "accuracy: 0.5536838851755979\n",
      "adjusted balanced accuracy: 0.306032811282255\n",
      "balanced accuracy: 0.5373552075215033\n",
      "f1: 0.557305105821425\n",
      "geometric mean: 0.5225377595336503\n",
      "roc auc: 0.6498155666204184\n",
      "SGD fold 4 completed in 1.05 s\n",
      "fitted in 0.20 s\n"
     ]
    },
    {
     "name": "stderr",
     "output_type": "stream",
     "text": [
      "Pandas Apply: 100%|██████████| 16532/16532 [00:00<00:00, 193979.31it/s]\n"
     ]
    },
    {
     "name": "stdout",
     "output_type": "stream",
     "text": [
      "predicted in 0.00 s\n",
      "accuracy: 0.5259496733607549\n",
      "adjusted balanced accuracy: 0.3077187800013755\n",
      "balanced accuracy: 0.5384791866675837\n",
      "f1: 0.5295439704393181\n",
      "geometric mean: 0.5320170326307289\n",
      "roc auc: 0.6528147019932394\n",
      "SGD fold 5 completed in 1.04 s\n",
      "stored SGD in 5.69 s\n",
      "evaluating SGD...\n",
      "fitted in 0.10 s\n"
     ]
    },
    {
     "name": "stderr",
     "output_type": "stream",
     "text": [
      "Pandas Apply: 100%|██████████| 13494/13494 [00:00<00:00, 136273.85it/s]\n"
     ]
    },
    {
     "name": "stdout",
     "output_type": "stream",
     "text": [
      "predicted in 0.00 s\n",
      "accuracy: 0.6340595820364606\n",
      "adjusted balanced accuracy: 0.31548251596833166\n",
      "balanced accuracy: 0.5436550106455544\n",
      "f1: 0.6177399592751361\n",
      "geometric mean: 0.4994797531616451\n",
      "roc auc: 0.6543545661135224\n",
      "SGD fold 1 completed in 0.89 s\n",
      "fitted in 0.11 s\n"
     ]
    },
    {
     "name": "stderr",
     "output_type": "stream",
     "text": [
      "Pandas Apply: 100%|██████████| 11524/11524 [00:00<00:00, 126230.79it/s]\n"
     ]
    },
    {
     "name": "stdout",
     "output_type": "stream",
     "text": [
      "predicted in 0.00 s\n",
      "accuracy: 0.6582783755640402\n",
      "adjusted balanced accuracy: 0.3395780988977006\n",
      "balanced accuracy: 0.559718732598467\n",
      "f1: 0.6391983431042105\n",
      "geometric mean: 0.5092745380041173\n",
      "roc auc: 0.6672061111407166\n",
      "SGD fold 2 completed in 0.89 s\n",
      "fitted in 0.15 s\n"
     ]
    },
    {
     "name": "stderr",
     "output_type": "stream",
     "text": [
      "Pandas Apply: 100%|██████████| 19319/19319 [00:00<00:00, 202286.14it/s]\n"
     ]
    },
    {
     "name": "stdout",
     "output_type": "stream",
     "text": [
      "predicted in 0.00 s\n",
      "accuracy: 0.5956830063667892\n",
      "adjusted balanced accuracy: 0.26620186096152193\n",
      "balanced accuracy: 0.5108012406410146\n",
      "f1: 0.5755925757114061\n",
      "geometric mean: 0.45196731037399257\n",
      "roc auc: 0.635459177791129\n",
      "SGD fold 3 completed in 0.96 s\n",
      "fitted in 0.13 s\n"
     ]
    },
    {
     "name": "stderr",
     "output_type": "stream",
     "text": [
      "Pandas Apply: 100%|██████████| 25883/25883 [00:00<00:00, 129401.86it/s]\n"
     ]
    },
    {
     "name": "stdout",
     "output_type": "stream",
     "text": [
      "predicted in 0.00 s\n",
      "accuracy: 0.5959896457134026\n",
      "adjusted balanced accuracy: 0.2747897299028264\n",
      "balanced accuracy: 0.5165264866018843\n",
      "f1: 0.5774539963231076\n",
      "geometric mean: 0.45658612972291285\n",
      "roc auc: 0.6374874477634607\n",
      "SGD fold 4 completed in 1.02 s\n",
      "fitted in 0.13 s\n"
     ]
    },
    {
     "name": "stderr",
     "output_type": "stream",
     "text": [
      "Pandas Apply: 100%|██████████| 16532/16532 [00:00<00:00, 151841.81it/s]\n"
     ]
    },
    {
     "name": "stdout",
     "output_type": "stream",
     "text": [
      "predicted in 0.01 s\n",
      "accuracy: 0.567203000241955\n",
      "adjusted balanced accuracy: 0.2828430496490053\n",
      "balanced accuracy: 0.5218953664326702\n",
      "f1: 0.5593307663787673\n",
      "geometric mean: 0.49688177224820396\n",
      "roc auc: 0.6435791568549715\n",
      "SGD fold 5 completed in 0.99 s\n",
      "stored SGD in 5.34 s\n",
      "evaluating SGD_b...\n",
      "fitted in 0.25 s\n"
     ]
    },
    {
     "name": "stderr",
     "output_type": "stream",
     "text": [
      "Pandas Apply: 100%|██████████| 13494/13494 [00:00<00:00, 127867.67it/s]\n"
     ]
    },
    {
     "name": "stdout",
     "output_type": "stream",
     "text": [
      "predicted in 0.00 s\n",
      "accuracy: 0.5855194901437676\n",
      "adjusted balanced accuracy: 0.3856912968886386\n",
      "balanced accuracy: 0.5904608645924257\n",
      "f1: 0.5926217169562432\n",
      "geometric mean: 0.5859275455251846\n",
      "roc auc: 0.6832073463621969\n",
      "SGD_b fold 1 completed in 1.04 s\n",
      "fitted in 0.23 s\n"
     ]
    },
    {
     "name": "stderr",
     "output_type": "stream",
     "text": [
      "Pandas Apply: 100%|██████████| 11524/11524 [00:00<00:00, 133068.20it/s]\n"
     ]
    },
    {
     "name": "stdout",
     "output_type": "stream",
     "text": [
      "predicted in 0.00 s\n",
      "accuracy: 0.5938910100659494\n",
      "adjusted balanced accuracy: 0.4132595837786457\n",
      "balanced accuracy: 0.6088397225190971\n",
      "f1: 0.6036884314309146\n",
      "geometric mean: 0.6059423674903236\n",
      "roc auc: 0.6973513341793374\n",
      "SGD_b fold 2 completed in 1.03 s\n",
      "fitted in 0.24 s\n"
     ]
    },
    {
     "name": "stderr",
     "output_type": "stream",
     "text": [
      "Pandas Apply: 100%|██████████| 19319/19319 [00:00<00:00, 149759.47it/s]\n"
     ]
    },
    {
     "name": "stdout",
     "output_type": "stream",
     "text": [
      "predicted in 0.00 s\n",
      "accuracy: 0.5489414565971323\n",
      "adjusted balanced accuracy: 0.3354152264066583\n",
      "balanced accuracy: 0.5569434842711055\n",
      "f1: 0.5565328967432391\n",
      "geometric mean: 0.5496972950307191\n",
      "roc auc: 0.6654360294802272\n",
      "SGD_b fold 3 completed in 1.10 s\n",
      "fitted in 0.17 s\n"
     ]
    },
    {
     "name": "stderr",
     "output_type": "stream",
     "text": [
      "Pandas Apply: 100%|██████████| 25883/25883 [00:00<00:00, 138225.11it/s]\n"
     ]
    },
    {
     "name": "stdout",
     "output_type": "stream",
     "text": [
      "predicted in 0.00 s\n",
      "accuracy: 0.5536452497778465\n",
      "adjusted balanced accuracy: 0.30548143133361955\n",
      "balanced accuracy: 0.5369876208890797\n",
      "f1: 0.5578656969277692\n",
      "geometric mean: 0.523609932235799\n",
      "roc auc: 0.6495629562727356\n",
      "SGD_b fold 4 completed in 1.09 s\n",
      "fitted in 0.20 s\n"
     ]
    },
    {
     "name": "stderr",
     "output_type": "stream",
     "text": [
      "Pandas Apply: 100%|██████████| 16532/16532 [00:00<00:00, 158285.02it/s]\n"
     ]
    },
    {
     "name": "stdout",
     "output_type": "stream",
     "text": [
      "predicted in 0.00 s\n",
      "accuracy: 0.5257077183643842\n",
      "adjusted balanced accuracy: 0.3074130249900965\n",
      "balanced accuracy: 0.5382753499933977\n",
      "f1: 0.5292656112714142\n",
      "geometric mean: 0.5317146032640929\n",
      "roc auc: 0.6526881813709668\n",
      "SGD_b fold 5 completed in 1.04 s\n",
      "stored SGD_b in 5.84 s\n",
      "evaluating SGD_b...\n",
      "fitted in 0.19 s\n"
     ]
    },
    {
     "name": "stderr",
     "output_type": "stream",
     "text": [
      "Pandas Apply: 100%|██████████| 13494/13494 [00:00<00:00, 120085.67it/s]\n"
     ]
    },
    {
     "name": "stdout",
     "output_type": "stream",
     "text": [
      "predicted in 0.00 s\n",
      "accuracy: 0.6232399585000741\n",
      "adjusted balanced accuracy: 0.3410367589839087\n",
      "balanced accuracy: 0.5606911726559392\n",
      "f1: 0.616357452909543\n",
      "geometric mean: 0.5325454853280005\n",
      "roc auc: 0.6658087874308427\n",
      "SGD_b fold 1 completed in 0.96 s\n",
      "fitted in 0.16 s\n"
     ]
    },
    {
     "name": "stderr",
     "output_type": "stream",
     "text": [
      "Pandas Apply: 100%|██████████| 11524/11524 [00:00<00:00, 243699.72it/s]\n"
     ]
    },
    {
     "name": "stdout",
     "output_type": "stream",
     "text": [
      "predicted in 0.00 s\n",
      "accuracy: 0.6286011801457827\n",
      "adjusted balanced accuracy: 0.39316216062092063\n",
      "balanced accuracy: 0.5954414404139471\n",
      "f1: 0.6319900230611618\n",
      "geometric mean: 0.5871560090303526\n",
      "roc auc: 0.6904364113655939\n",
      "SGD_b fold 2 completed in 0.91 s\n",
      "fitted in 0.19 s\n"
     ]
    },
    {
     "name": "stderr",
     "output_type": "stream",
     "text": [
      "Pandas Apply: 100%|██████████| 19319/19319 [00:00<00:00, 153184.03it/s]\n"
     ]
    },
    {
     "name": "stdout",
     "output_type": "stream",
     "text": [
      "predicted in 0.01 s\n",
      "accuracy: 0.5869869040840623\n",
      "adjusted balanced accuracy: 0.3113745546465476\n",
      "balanced accuracy: 0.5409163697643651\n",
      "f1: 0.5841635363476966\n",
      "geometric mean: 0.5185842735500593\n",
      "roc auc: 0.656567720940527\n",
      "SGD_b fold 3 completed in 1.01 s\n",
      "fitted in 0.10 s\n"
     ]
    },
    {
     "name": "stderr",
     "output_type": "stream",
     "text": [
      "Pandas Apply: 100%|██████████| 25883/25883 [00:00<00:00, 143661.76it/s]\n"
     ]
    },
    {
     "name": "stdout",
     "output_type": "stream",
     "text": [
      "predicted in 0.00 s\n",
      "accuracy: 0.5874125874125874\n",
      "adjusted balanced accuracy: 0.29283492053163346\n",
      "balanced accuracy: 0.5285566136877556\n",
      "f1: 0.5774032633876626\n",
      "geometric mean: 0.4880172295558301\n",
      "roc auc: 0.6452066288859271\n",
      "SGD_b fold 4 completed in 1.03 s\n",
      "fitted in 0.13 s\n"
     ]
    },
    {
     "name": "stderr",
     "output_type": "stream",
     "text": [
      "Pandas Apply: 100%|██████████| 16532/16532 [00:00<00:00, 178292.86it/s]\n"
     ]
    },
    {
     "name": "stdout",
     "output_type": "stream",
     "text": [
      "predicted in 0.00 s\n",
      "accuracy: 0.5725260101621098\n",
      "adjusted balanced accuracy: 0.3010677611485894\n",
      "balanced accuracy: 0.5340451740990596\n",
      "f1: 0.5663767565218782\n",
      "geometric mean: 0.5095404181701322\n",
      "roc auc: 0.6530500325967853\n",
      "SGD_b fold 5 completed in 0.95 s\n",
      "stored SGD_b in 5.48 s\n",
      "evaluating SGD_iso-calib...\n",
      "fitted in 1.00 s\n",
      "predicted in 0.05 s\n",
      "accuracy: 0.5870757373647547\n",
      "adjusted balanced accuracy: 0.3841423756587014\n",
      "balanced accuracy: 0.5894282504391343\n",
      "f1: 0.594082520426603\n",
      "geometric mean: 0.5841737496806366\n",
      "roc auc: 0.7561208395942718\n",
      "SGD_iso-calib fold 1 completed in 1.80 s\n",
      "fitted in 1.03 s\n",
      "predicted in 0.03 s\n",
      "accuracy: 0.604390836515099\n",
      "adjusted balanced accuracy: 0.4079694326673777\n",
      "balanced accuracy: 0.6053129551115851\n",
      "f1: 0.6130431714582297\n",
      "geometric mean: 0.6014987706794801\n",
      "roc auc: 0.7794264757672258\n",
      "SGD_iso-calib fold 2 completed in 1.83 s\n",
      "fitted in 0.93 s\n",
      "predicted in 0.05 s\n",
      "accuracy: 0.5450075055644702\n",
      "adjusted balanced accuracy: 0.3332308742574688\n",
      "balanced accuracy: 0.5554872495049792\n",
      "f1: 0.5545406198559836\n",
      "geometric mean: 0.5502144408258323\n",
      "roc auc: 0.7348404225950994\n",
      "SGD_iso-calib fold 3 completed in 1.73 s\n",
      "fitted in 0.80 s\n",
      "predicted in 0.07 s\n",
      "accuracy: 0.5459568056253139\n",
      "adjusted balanced accuracy: 0.31092418274250977\n",
      "balanced accuracy: 0.5406161218283398\n",
      "f1: 0.5511904460584874\n",
      "geometric mean: 0.5290533284030312\n",
      "roc auc: 0.7228305796265893\n",
      "SGD_iso-calib fold 4 completed in 1.61 s\n",
      "fitted in 0.93 s\n",
      "predicted in 0.02 s\n",
      "accuracy: 0.5324219695136705\n",
      "adjusted balanced accuracy: 0.3100087835342205\n",
      "balanced accuracy: 0.5400058556894803\n",
      "f1: 0.5348394061455574\n",
      "geometric mean: 0.5319063885731452\n",
      "roc auc: 0.7243626514517928\n",
      "SGD_iso-calib fold 5 completed in 1.69 s\n",
      "stored SGD_iso-calib in 9.27 s\n",
      "evaluating SGD_iso-calib...\n",
      "fitted in 0.72 s\n",
      "predicted in 0.04 s\n",
      "accuracy: 0.6359863643100637\n",
      "adjusted balanced accuracy: 0.3133147723510606\n",
      "balanced accuracy: 0.5422098482340404\n",
      "f1: 0.6177309568276101\n",
      "geometric mean: 0.49422979936801625\n",
      "roc auc: 0.7549764748360717\n",
      "SGD_iso-calib fold 1 completed in 1.49 s\n",
      "fitted in 0.68 s\n",
      "predicted in 0.03 s\n",
      "accuracy: 0.649166955918084\n",
      "adjusted balanced accuracy: 0.3474986268182498\n",
      "balanced accuracy: 0.5649990845454999\n",
      "f1: 0.6368819745083049\n",
      "geometric mean: 0.528527097731678\n",
      "roc auc: 0.7838796891711424\n",
      "SGD_iso-calib fold 2 completed in 1.40 s\n",
      "fitted in 0.66 s\n",
      "predicted in 0.05 s\n",
      "accuracy: 0.5934572182825198\n",
      "adjusted balanced accuracy: 0.2797727886603588\n",
      "balanced accuracy: 0.5198485257735725\n",
      "f1: 0.5800333164169682\n",
      "geometric mean: 0.4777499269423462\n",
      "roc auc: 0.736397116042482\n",
      "SGD_iso-calib fold 3 completed in 1.42 s\n",
      "fitted in 0.58 s\n",
      "predicted in 0.05 s\n",
      "accuracy: 0.5947533129853572\n",
      "adjusted balanced accuracy: 0.28192880997110775\n",
      "balanced accuracy: 0.5212858733140718\n",
      "f1: 0.5786443327276868\n",
      "geometric mean: 0.4671224141746536\n",
      "roc auc: 0.7311178701046527\n",
      "SGD_iso-calib fold 4 completed in 1.38 s\n",
      "fitted in 0.65 s\n",
      "predicted in 0.05 s\n",
      "accuracy: 0.5744616501330753\n",
      "adjusted balanced accuracy: 0.27949896074474906\n",
      "balanced accuracy: 0.5196659738298327\n",
      "f1: 0.5593553364036598\n",
      "geometric mean: 0.473373590528362\n",
      "roc auc: 0.7270968609070934\n",
      "SGD_iso-calib fold 5 completed in 1.41 s\n",
      "stored SGD_iso-calib in 7.65 s\n",
      "evaluating SGD_sig-calib...\n",
      "fitted in 1.23 s\n",
      "predicted in 0.03 s\n",
      "accuracy: 0.5912257299540536\n",
      "adjusted balanced accuracy: 0.38012298162816466\n",
      "balanced accuracy: 0.5867486544187764\n",
      "f1: 0.5974597409738239\n",
      "geometric mean: 0.5805640346784495\n",
      "roc auc: 0.7567858838117009\n",
      "SGD_sig-calib fold 1 completed in 1.95 s\n",
      "fitted in 1.37 s\n",
      "predicted in 0.02 s\n",
      "accuracy: 0.606039569593891\n",
      "adjusted balanced accuracy: 0.40414666717545683\n",
      "balanced accuracy: 0.6027644447836379\n",
      "f1: 0.6143496895374012\n",
      "geometric mean: 0.5990645239158621\n",
      "roc auc: 0.7800800835226818\n",
      "SGD_sig-calib fold 2 completed in 2.03 s\n",
      "fitted in 1.11 s\n",
      "predicted in 0.04 s\n",
      "accuracy: 0.5500284693824732\n",
      "adjusted balanced accuracy: 0.3305005091769784\n",
      "balanced accuracy: 0.5536670061179856\n",
      "f1: 0.5595451644744928\n",
      "geometric mean: 0.5492642917687102\n",
      "roc auc: 0.7348709692692296\n",
      "SGD_sig-calib fold 3 completed in 1.82 s\n",
      "fitted in 1.05 s\n",
      "predicted in 0.02 s\n",
      "accuracy: 0.5482749294903991\n",
      "adjusted balanced accuracy: 0.30787192044002526\n",
      "balanced accuracy: 0.5385812802933502\n",
      "f1: 0.5534284835757001\n",
      "geometric mean: 0.5272194751054825\n",
      "roc auc: 0.7234332947590798\n",
      "SGD_sig-calib fold 4 completed in 1.76 s\n",
      "fitted in 1.23 s\n",
      "predicted in 0.01 s\n",
      "accuracy: 0.5350229857246552\n",
      "adjusted balanced accuracy: 0.3067215270786053\n",
      "balanced accuracy: 0.5378143513857369\n",
      "f1: 0.5381359279820486\n",
      "geometric mean: 0.5313991150996115\n",
      "roc auc: 0.7247247744956279\n",
      "SGD_sig-calib fold 5 completed in 1.97 s\n",
      "stored SGD_sig-calib in 10.11 s\n",
      "evaluating SGD_sig-calib...\n",
      "fitted in 0.86 s\n",
      "predicted in 0.02 s\n",
      "accuracy: 0.6359863643100637\n",
      "adjusted balanced accuracy: 0.31040952191173193\n",
      "balanced accuracy: 0.5402730146078213\n",
      "f1: 0.6180508489223812\n",
      "geometric mean: 0.4947592804368049\n",
      "roc auc: 0.755285871391946\n",
      "SGD_sig-calib fold 1 completed in 1.57 s\n",
      "fitted in 0.95 s\n",
      "predicted in 0.02 s\n",
      "accuracy: 0.6495140576188824\n",
      "adjusted balanced accuracy: 0.34660045627715924\n",
      "balanced accuracy: 0.5644003041847728\n",
      "f1: 0.6376322427618356\n",
      "geometric mean: 0.5302812232198798\n",
      "roc auc: 0.7838544429083405\n",
      "SGD_sig-calib fold 2 completed in 1.65 s\n",
      "fitted in 0.83 s\n",
      "predicted in 0.02 s\n",
      "accuracy: 0.5926807805787049\n",
      "adjusted balanced accuracy: 0.2772710648690144\n",
      "balanced accuracy: 0.5181807099126763\n",
      "f1: 0.5794493324040019\n",
      "geometric mean: 0.4779589348524832\n",
      "roc auc: 0.7362673689534022\n",
      "SGD_sig-calib fold 3 completed in 1.55 s\n",
      "fitted in 0.70 s\n",
      "predicted in 0.03 s\n",
      "accuracy: 0.5951783023606229\n",
      "adjusted balanced accuracy: 0.2829995680348176\n",
      "balanced accuracy: 0.5219997120232117\n",
      "f1: 0.5798741183540456\n",
      "geometric mean: 0.4707971263535295\n",
      "roc auc: 0.7317524263697677\n",
      "SGD_sig-calib fold 4 completed in 1.44 s\n",
      "fitted in 0.91 s\n",
      "predicted in 0.02 s\n",
      "accuracy: 0.5710137914347931\n",
      "adjusted balanced accuracy: 0.2747571892030673\n",
      "balanced accuracy: 0.5165047928020449\n",
      "f1: 0.5570017663987968\n",
      "geometric mean: 0.47436336890262715\n",
      "roc auc: 0.7269971880874644\n",
      "SGD_sig-calib fold 5 completed in 1.60 s\n",
      "stored SGD_sig-calib in 8.42 s\n",
      "evaluating SGD_b_iso-calib...\n",
      "fitted in 1.05 s\n",
      "predicted in 0.03 s\n",
      "accuracy: 0.5862605602489995\n",
      "adjusted balanced accuracy: 0.38347064302837247\n",
      "balanced accuracy: 0.5889804286855816\n",
      "f1: 0.593207967062186\n",
      "geometric mean: 0.5834890641685159\n",
      "roc auc: 0.7562903584786922\n",
      "SGD_b_iso-calib fold 1 completed in 1.80 s\n",
      "fitted in 1.02 s\n",
      "predicted in 0.04 s\n",
      "accuracy: 0.6052585907670948\n",
      "adjusted balanced accuracy: 0.4078697219866229\n",
      "balanced accuracy: 0.6052464813244153\n",
      "f1: 0.6137496979405419\n",
      "geometric mean: 0.6013111654732656\n",
      "roc auc: 0.7790298482154004\n",
      "SGD_b_iso-calib fold 2 completed in 1.76 s\n",
      "fitted in 0.92 s\n",
      "predicted in 0.04 s\n",
      "accuracy: 0.5458357057818728\n",
      "adjusted balanced accuracy: 0.33370833411178896\n",
      "balanced accuracy: 0.555805556074526\n",
      "f1: 0.5553873835974683\n",
      "geometric mean: 0.5505707826915265\n",
      "roc auc: 0.7349948536270513\n",
      "SGD_b_iso-calib fold 3 completed in 1.68 s\n",
      "fitted in 0.87 s\n",
      "predicted in 0.06 s\n",
      "accuracy: 0.5456477224433025\n",
      "adjusted balanced accuracy: 0.31044071029006487\n",
      "balanced accuracy: 0.5402938068600432\n",
      "f1: 0.5508524693356752\n",
      "geometric mean: 0.5287174311366833\n",
      "roc auc: 0.7228492695176811\n",
      "SGD_b_iso-calib fold 4 completed in 1.70 s\n",
      "fitted in 1.07 s\n",
      "predicted in 0.05 s\n",
      "accuracy: 0.5323009920154851\n",
      "adjusted balanced accuracy: 0.30992708263859664\n",
      "balanced accuracy: 0.5399513884257311\n",
      "f1: 0.5345711876036486\n",
      "geometric mean: 0.531566276781783\n",
      "roc auc: 0.7244485554788699\n",
      "SGD_b_iso-calib fold 5 completed in 1.83 s\n",
      "stored SGD_b_iso-calib in 9.34 s\n",
      "evaluating SGD_b_iso-calib...\n",
      "fitted in 0.72 s\n",
      "predicted in 0.05 s\n",
      "accuracy: 0.6366533274047725\n",
      "adjusted balanced accuracy: 0.3172907604292699\n",
      "balanced accuracy: 0.5448605069528466\n",
      "f1: 0.6193491065748951\n",
      "geometric mean: 0.4989704569846167\n",
      "roc auc: 0.7552950187342955\n",
      "SGD_b_iso-calib fold 1 completed in 1.45 s\n",
      "fitted in 0.82 s\n",
      "predicted in 0.03 s\n",
      "accuracy: 0.649166955918084\n",
      "adjusted balanced accuracy: 0.3513061871694691\n",
      "balanced accuracy: 0.5675374581129794\n",
      "f1: 0.6381347859676216\n",
      "geometric mean: 0.5347152061550879\n",
      "roc auc: 0.7841975537159882\n",
      "SGD_b_iso-calib fold 2 completed in 1.59 s\n",
      "fitted in 0.66 s\n",
      "predicted in 0.05 s\n",
      "accuracy: 0.5937160308504581\n",
      "adjusted balanced accuracy: 0.28119037370584044\n",
      "balanced accuracy: 0.5207935824705603\n",
      "f1: 0.5806909896734771\n",
      "geometric mean: 0.4799578634889324\n",
      "roc auc: 0.7362093093918722\n",
      "SGD_b_iso-calib fold 3 completed in 1.43 s\n",
      "fitted in 0.73 s\n",
      "predicted in 0.07 s\n",
      "accuracy: 0.5919329289495036\n",
      "adjusted balanced accuracy: 0.28204871940689874\n",
      "balanced accuracy: 0.5213658129379325\n",
      "f1: 0.5790297336885311\n",
      "geometric mean: 0.4768404180009457\n",
      "roc auc: 0.7294762736626792\n",
      "SGD_b_iso-calib fold 4 completed in 1.55 s\n",
      "fitted in 0.65 s\n",
      "predicted in 0.04 s\n",
      "accuracy: 0.577425598838616\n",
      "adjusted balanced accuracy: 0.2814080796756211\n",
      "balanced accuracy: 0.5209387197837474\n",
      "f1: 0.5603992945638193\n",
      "geometric mean: 0.469691641195539\n",
      "roc auc: 0.7293768254197187\n",
      "SGD_b_iso-calib fold 5 completed in 1.45 s\n",
      "stored SGD_b_iso-calib in 8.06 s\n",
      "evaluating SGD_b_sig-calib...\n",
      "fitted in 1.40 s\n",
      "predicted in 0.02 s\n",
      "accuracy: 0.591003408922484\n",
      "adjusted balanced accuracy: 0.38053759648307905\n",
      "balanced accuracy: 0.5870250643220527\n",
      "f1: 0.5971104094249623\n",
      "geometric mean: 0.5805432277488043\n",
      "roc auc: 0.7570996198717947\n",
      "SGD_b_sig-calib fold 1 completed in 2.14 s\n",
      "fitted in 1.36 s\n",
      "predicted in 0.02 s\n",
      "accuracy: 0.6067337729954877\n",
      "adjusted balanced accuracy: 0.40392282635314036\n",
      "balanced accuracy: 0.6026152175687602\n",
      "f1: 0.614875824057223\n",
      "geometric mean: 0.5988100045607669\n",
      "roc auc: 0.7797102331772253\n",
      "SGD_b_sig-calib fold 2 completed in 2.13 s\n",
      "fitted in 1.44 s\n",
      "predicted in 0.02 s\n",
      "accuracy: 0.5507013820591128\n",
      "adjusted balanced accuracy: 0.3310663913066629\n",
      "balanced accuracy: 0.5540442608711086\n",
      "f1: 0.5601882477414478\n",
      "geometric mean: 0.5496577728389317\n",
      "roc auc: 0.7349932093736494\n",
      "SGD_b_sig-calib fold 3 completed in 2.17 s\n",
      "fitted in 1.14 s\n",
      "predicted in 0.03 s\n",
      "accuracy: 0.5483522002859019\n",
      "adjusted balanced accuracy: 0.30833376839294746\n",
      "balanced accuracy: 0.5388891789286316\n",
      "f1: 0.5534936898299957\n",
      "geometric mean: 0.5274690409528954\n",
      "roc auc: 0.7235044497112152\n",
      "SGD_b_sig-calib fold 4 completed in 1.90 s\n",
      "fitted in 1.20 s\n",
      "predicted in 0.03 s\n",
      "accuracy: 0.5352649407210259\n",
      "adjusted balanced accuracy: 0.3078758168113422\n",
      "balanced accuracy: 0.5385838778742281\n",
      "f1: 0.5383011668371644\n",
      "geometric mean: 0.5321381994981138\n",
      "roc auc: 0.7248082474176913\n",
      "SGD_b_sig-calib fold 5 completed in 1.94 s\n",
      "stored SGD_b_sig-calib in 10.84 s\n",
      "evaluating SGD_b_sig-calib...\n",
      "fitted in 1.03 s\n",
      "predicted in 0.02 s\n",
      "accuracy: 0.6361345783311101\n",
      "adjusted balanced accuracy: 0.3121312431873126\n",
      "balanced accuracy: 0.5414208287915417\n",
      "f1: 0.6186512095835196\n",
      "geometric mean: 0.4967525040076342\n",
      "roc auc: 0.7556816103789785\n",
      "SGD_b_sig-calib fold 1 completed in 1.78 s\n",
      "fitted in 0.99 s\n",
      "predicted in 0.02 s\n",
      "accuracy: 0.6485595279416869\n",
      "adjusted balanced accuracy: 0.34830848266896625\n",
      "balanced accuracy: 0.5655389884459775\n",
      "f1: 0.6374357328945266\n",
      "geometric mean: 0.5333712101494841\n",
      "roc auc: 0.7841894429747645\n",
      "SGD_b_sig-calib fold 2 completed in 1.74 s\n",
      "fitted in 0.86 s\n",
      "predicted in 0.03 s\n",
      "accuracy: 0.5921113929292406\n",
      "adjusted balanced accuracy: 0.27824476346109556\n",
      "balanced accuracy: 0.518829842307397\n",
      "f1: 0.5795517430666824\n",
      "geometric mean: 0.4800327978662728\n",
      "roc auc: 0.7359639219992751\n",
      "SGD_b_sig-calib fold 3 completed in 1.67 s\n",
      "fitted in 0.99 s\n",
      "predicted in 0.04 s\n",
      "accuracy: 0.5920101997450063\n",
      "adjusted balanced accuracy: 0.28085522600167184\n",
      "balanced accuracy: 0.5205701506677812\n",
      "f1: 0.5792062084374131\n",
      "geometric mean: 0.4771191978968051\n",
      "roc auc: 0.7299289193605842\n",
      "SGD_b_sig-calib fold 4 completed in 1.78 s\n",
      "fitted in 0.98 s\n",
      "predicted in 0.03 s\n",
      "accuracy: 0.574703605129446\n",
      "adjusted balanced accuracy: 0.2778128551688605\n",
      "balanced accuracy: 0.518541903445907\n",
      "f1: 0.5587525373691997\n",
      "geometric mean: 0.4716307708767931\n",
      "roc auc: 0.7292305167487966\n",
      "SGD_b_sig-calib fold 5 completed in 1.74 s\n",
      "stored SGD_b_sig-calib in 9.30 s\n",
      "evaluating SVC...\n",
      "fitted in 210.22 s\n"
     ]
    },
    {
     "name": "stderr",
     "output_type": "stream",
     "text": [
      "Pandas Apply: 100%|██████████| 13494/13494 [00:00<00:00, 192787.37it/s]\n"
     ]
    },
    {
     "name": "stdout",
     "output_type": "stream",
     "text": [
      "predicted in 1.46 s\n",
      "accuracy: 0.5824069957017934\n",
      "adjusted balanced accuracy: 0.38557164801338795\n",
      "balanced accuracy: 0.590381098675592\n",
      "f1: 0.5898327904017722\n",
      "geometric mean: 0.5855058729026429\n",
      "roc auc: 0.6833348796695339\n",
      "SVC fold 1 completed in 212.57 s\n",
      "fitted in 229.19 s\n"
     ]
    },
    {
     "name": "stderr",
     "output_type": "stream",
     "text": [
      "Pandas Apply: 100%|██████████| 11524/11524 [00:00<00:00, 200856.69it/s]\n"
     ]
    },
    {
     "name": "stdout",
     "output_type": "stream",
     "text": [
      "predicted in 1.28 s\n",
      "accuracy: 0.5977959041999306\n",
      "adjusted balanced accuracy: 0.4106302657389107\n",
      "balanced accuracy: 0.6070868438259405\n",
      "f1: 0.6077739447429957\n",
      "geometric mean: 0.6042236899887831\n",
      "roc auc: 0.6970582495738834\n",
      "SVC fold 2 completed in 231.26 s\n",
      "fitted in 149.29 s\n"
     ]
    },
    {
     "name": "stderr",
     "output_type": "stream",
     "text": [
      "Pandas Apply: 100%|██████████| 19319/19319 [00:00<00:00, 196017.61it/s]\n"
     ]
    },
    {
     "name": "stdout",
     "output_type": "stream",
     "text": [
      "predicted in 1.78 s\n",
      "accuracy: 0.5416429421812723\n",
      "adjusted balanced accuracy: 0.33340547436444107\n",
      "balanced accuracy: 0.555603649576294\n",
      "f1: 0.5517129732040251\n",
      "geometric mean: 0.5507936832343929\n",
      "roc auc: 0.6642613455920889\n",
      "SVC fold 3 completed in 151.89 s\n",
      "fitted in 103.56 s\n"
     ]
    },
    {
     "name": "stderr",
     "output_type": "stream",
     "text": [
      "Pandas Apply: 100%|██████████| 25883/25883 [00:00<00:00, 189821.79it/s]\n"
     ]
    },
    {
     "name": "stdout",
     "output_type": "stream",
     "text": [
      "predicted in 2.15 s\n",
      "accuracy: 0.5405864853378666\n",
      "adjusted balanced accuracy: 0.3124155325657074\n",
      "balanced accuracy: 0.541610355043805\n",
      "f1: 0.5465065354155973\n",
      "geometric mean: 0.5309200957320985\n",
      "roc auc: 0.6518202243966345\n",
      "SVC fold 4 completed in 106.61 s\n",
      "fitted in 176.26 s\n"
     ]
    },
    {
     "name": "stderr",
     "output_type": "stream",
     "text": [
      "Pandas Apply: 100%|██████████| 16532/16532 [00:00<00:00, 212749.05it/s]\n"
     ]
    },
    {
     "name": "stdout",
     "output_type": "stream",
     "text": [
      "predicted in 1.57 s\n",
      "accuracy: 0.5267965158480523\n",
      "adjusted balanced accuracy: 0.3099277483011021\n",
      "balanced accuracy: 0.5399518322007347\n",
      "f1: 0.5285995064571704\n",
      "geometric mean: 0.5304441683642258\n",
      "roc auc: 0.6540749071360978\n",
      "SVC fold 5 completed in 178.65 s\n",
      "stored SVC in 881.58 s\n",
      "evaluating SVC...\n",
      "fitted in 101.03 s\n"
     ]
    },
    {
     "name": "stderr",
     "output_type": "stream",
     "text": [
      "Pandas Apply: 100%|██████████| 13494/13494 [00:00<00:00, 190753.63it/s]\n"
     ]
    },
    {
     "name": "stdout",
     "output_type": "stream",
     "text": [
      "predicted in 0.82 s\n",
      "accuracy: 0.6404327849414555\n",
      "adjusted balanced accuracy: 0.3120880579773341\n",
      "balanced accuracy: 0.541392038651556\n",
      "f1: 0.6196463832165822\n",
      "geometric mean: 0.49019040130548336\n",
      "roc auc: 0.6522778123378888\n",
      "SVC fold 1 completed in 102.64 s\n",
      "fitted in 93.36 s\n"
     ]
    },
    {
     "name": "stderr",
     "output_type": "stream",
     "text": [
      "Pandas Apply: 100%|██████████| 11524/11524 [00:00<00:00, 272042.55it/s]\n"
     ]
    },
    {
     "name": "stdout",
     "output_type": "stream",
     "text": [
      "predicted in 0.70 s\n",
      "accuracy: 0.652290871225269\n",
      "adjusted balanced accuracy: 0.3488671197319427\n",
      "balanced accuracy: 0.5659114131546285\n",
      "f1: 0.6386088313302446\n",
      "geometric mean: 0.5284663869665571\n",
      "roc auc: 0.6699245951379206\n",
      "SVC fold 2 completed in 94.87 s\n",
      "fitted in 49.66 s\n"
     ]
    },
    {
     "name": "stderr",
     "output_type": "stream",
     "text": [
      "Pandas Apply: 100%|██████████| 19319/19319 [00:00<00:00, 176233.64it/s]\n"
     ]
    },
    {
     "name": "stdout",
     "output_type": "stream",
     "text": [
      "predicted in 1.04 s\n",
      "accuracy: 0.5936125058232827\n",
      "adjusted balanced accuracy: 0.272472900176617\n",
      "balanced accuracy: 0.514981933451078\n",
      "f1: 0.5771306148487482\n",
      "geometric mean: 0.4675496358539391\n",
      "roc auc: 0.6370158045191895\n",
      "SVC fold 3 completed in 51.52 s\n",
      "fitted in 43.58 s\n"
     ]
    },
    {
     "name": "stderr",
     "output_type": "stream",
     "text": [
      "Pandas Apply: 100%|██████████| 25883/25883 [00:00<00:00, 317803.88it/s]\n"
     ]
    },
    {
     "name": "stdout",
     "output_type": "stream",
     "text": [
      "predicted in 1.22 s\n",
      "accuracy: 0.5974577908279566\n",
      "adjusted balanced accuracy: 0.2777439220583891\n",
      "balanced accuracy: 0.5184959480389261\n",
      "f1: 0.5782945089456952\n",
      "geometric mean: 0.4588416805352191\n",
      "roc auc: 0.6380421102010032\n",
      "SVC fold 4 completed in 45.63 s\n",
      "fitted in 55.82 s\n"
     ]
    },
    {
     "name": "stderr",
     "output_type": "stream",
     "text": [
      "Pandas Apply: 100%|██████████| 16532/16532 [00:00<00:00, 209833.88it/s]\n"
     ]
    },
    {
     "name": "stdout",
     "output_type": "stream",
     "text": [
      "predicted in 0.83 s\n",
      "accuracy: 0.5754294701185579\n",
      "adjusted balanced accuracy: 0.27171439434015127\n",
      "balanced accuracy: 0.5144762628934342\n",
      "f1: 0.5557669687601959\n",
      "geometric mean: 0.4587201138125072\n",
      "roc auc: 0.6387179768952403\n",
      "SVC fold 5 completed in 57.43 s\n",
      "stored SVC in 352.69 s\n",
      "evaluating SVC_iso-calib...\n",
      "fitted in 584.71 s\n",
      "predicted in 5.80 s\n",
      "accuracy: 0.5809989625018527\n",
      "adjusted balanced accuracy: 0.38530808682166356\n",
      "balanced accuracy: 0.5902053912144424\n",
      "f1: 0.5888615496131885\n",
      "geometric mean: 0.5859370499345147\n",
      "roc auc: 0.7492574952328759\n",
      "SVC_iso-calib fold 1 completed in 596.69 s\n",
      "fitted in 613.71 s\n",
      "predicted in 5.27 s\n",
      "accuracy: 0.5979694550503297\n",
      "adjusted balanced accuracy: 0.41065837455782633\n",
      "balanced accuracy: 0.6071055830385509\n",
      "f1: 0.6081775588510413\n",
      "geometric mean: 0.6043988590257087\n",
      "roc auc: 0.7698371798647842\n",
      "SVC_iso-calib fold 2 completed in 624.70 s\n",
      "fitted in 525.82 s\n",
      "predicted in 7.78 s\n",
      "accuracy: 0.5388995289611264\n",
      "adjusted balanced accuracy: 0.332829176339649\n",
      "balanced accuracy: 0.5552194508930993\n",
      "f1: 0.5493166387075149\n",
      "geometric mean: 0.5505768541162268\n",
      "roc auc: 0.7272219067966896\n",
      "SVC_iso-calib fold 3 completed in 541.68 s\n",
      "fitted in 349.62 s\n",
      "predicted in 8.18 s\n",
      "accuracy: 0.5405478499401152\n",
      "adjusted balanced accuracy: 0.31079165525673474\n",
      "balanced accuracy: 0.5405277701711565\n",
      "f1: 0.546967076155917\n",
      "geometric mean: 0.5307608186289465\n",
      "roc auc: 0.7158329901648425\n",
      "SVC_iso-calib fold 4 completed in 366.83 s\n",
      "fitted in 505.62 s\n",
      "predicted in 6.15 s\n",
      "accuracy: 0.5254052746189208\n",
      "adjusted balanced accuracy: 0.30890988472282677\n",
      "balanced accuracy: 0.5392732564818845\n",
      "f1: 0.527602952180188\n",
      "geometric mean: 0.5301069008085734\n",
      "roc auc: 0.715688255115364\n",
      "SVC_iso-calib fold 5 completed in 518.23 s\n",
      "stored SVC_iso-calib in 2648.73 s\n",
      "evaluating SVC_iso-calib...\n",
      "fitted in 183.30 s\n",
      "predicted in 3.08 s\n",
      "accuracy: 0.6398399288572699\n",
      "adjusted balanced accuracy: 0.31475981743814746\n",
      "balanced accuracy: 0.5431732116254316\n",
      "f1: 0.6200980720708044\n",
      "geometric mean: 0.4942053847571831\n",
      "roc auc: 0.748990541555762\n",
      "SVC_iso-calib fold 1 completed in 190.17 s\n",
      "fitted in 220.21 s\n",
      "predicted in 2.65 s\n",
      "accuracy: 0.6498611593196807\n",
      "adjusted balanced accuracy: 0.35639340422437976\n",
      "balanced accuracy: 0.5709289361495865\n",
      "f1: 0.6383571870217768\n",
      "geometric mean: 0.5362096881157147\n",
      "roc auc: 0.7768705567145799\n",
      "SVC_iso-calib fold 2 completed in 226.18 s\n",
      "fitted in 133.30 s\n",
      "predicted in 3.79 s\n",
      "accuracy: 0.5926290180651173\n",
      "adjusted balanced accuracy: 0.27782140072026534\n",
      "balanced accuracy: 0.5185476004801769\n",
      "f1: 0.5784279292211614\n",
      "geometric mean: 0.4759555767330384\n",
      "roc auc: 0.7265679739184618\n",
      "SVC_iso-calib fold 3 completed in 141.56 s\n",
      "fitted in 111.55 s\n",
      "predicted in 4.70 s\n",
      "accuracy: 0.594637406792103\n",
      "adjusted balanced accuracy: 0.2794318117202406\n",
      "balanced accuracy: 0.5196212078134937\n",
      "f1: 0.5774586707377213\n",
      "geometric mean: 0.46458299803121883\n",
      "roc auc: 0.7243364698548601\n",
      "SVC_iso-calib fold 4 completed in 121.38 s\n",
      "fitted in 146.00 s\n",
      "predicted in 3.23 s\n",
      "accuracy: 0.5756714251149286\n",
      "adjusted balanced accuracy: 0.2764064264082608\n",
      "balanced accuracy: 0.5176042842721739\n",
      "f1: 0.5575912890964968\n",
      "geometric mean: 0.4653704282733977\n",
      "roc auc: 0.7184486499534801\n",
      "SVC_iso-calib fold 5 completed in 153.04 s\n",
      "stored SVC_iso-calib in 832.89 s\n",
      "evaluating SVC_sig-calib...\n",
      "fitted in 528.87 s\n",
      "predicted in 5.40 s\n",
      "accuracy: 0.5809248554913294\n",
      "adjusted balanced accuracy: 0.38587710021045873\n",
      "balanced accuracy: 0.5905847334736392\n",
      "f1: 0.588633096117828\n",
      "geometric mean: 0.5858364224954772\n",
      "roc auc: 0.7400554671704862\n",
      "SVC_sig-calib fold 1 completed in 540.40 s\n",
      "fitted in 555.96 s\n",
      "predicted in 4.76 s\n",
      "accuracy: 0.596667823672336\n",
      "adjusted balanced accuracy: 0.41044173336842205\n",
      "balanced accuracy: 0.606961155578948\n",
      "f1: 0.6068774101767929\n",
      "geometric mean: 0.6042004129440166\n",
      "roc auc: 0.7629332223916467\n",
      "SVC_sig-calib fold 2 completed in 565.94 s\n",
      "fitted in 447.78 s\n",
      "predicted in 6.90 s\n",
      "accuracy: 0.5396759666649412\n",
      "adjusted balanced accuracy: 0.3325872059344664\n",
      "balanced accuracy: 0.5550581372896443\n",
      "f1: 0.5500023013835285\n",
      "geometric mean: 0.5503590428484785\n",
      "roc auc: 0.7170257608767692\n",
      "SVC_sig-calib fold 3 completed in 461.89 s\n",
      "fitted in 330.10 s\n",
      "predicted in 8.05 s\n",
      "accuracy: 0.5391183402233126\n",
      "adjusted balanced accuracy: 0.3101663863079674\n",
      "balanced accuracy: 0.5401109242053116\n",
      "f1: 0.5452916683823105\n",
      "geometric mean: 0.5295307307788194\n",
      "roc auc: 0.7049477766869485\n",
      "SVC_sig-calib fold 4 completed in 346.58 s\n",
      "fitted in 483.01 s\n",
      "predicted in 6.00 s\n",
      "accuracy: 0.5246189208807162\n",
      "adjusted balanced accuracy: 0.30848438502084635\n",
      "balanced accuracy: 0.5389895900138976\n",
      "f1: 0.5263224563266253\n",
      "geometric mean: 0.5290672444089183\n",
      "roc auc: 0.704666761622267\n",
      "SVC_sig-calib fold 5 completed in 495.35 s\n",
      "stored SVC_sig-calib in 2410.71 s\n",
      "evaluating SVC_sig-calib...\n",
      "fitted in 175.53 s\n",
      "predicted in 3.00 s\n",
      "accuracy: 0.6412479620572106\n",
      "adjusted balanced accuracy: 0.3137873605227773\n",
      "balanced accuracy: 0.5425249070151849\n",
      "f1: 0.6199548504436804\n",
      "geometric mean: 0.4894076441447562\n",
      "roc auc: 0.7317846564061008\n",
      "SVC_sig-calib fold 1 completed in 182.19 s\n",
      "fitted in 210.77 s\n",
      "predicted in 2.71 s\n",
      "accuracy: 0.6537660534536619\n",
      "adjusted balanced accuracy: 0.34796669370921385\n",
      "balanced accuracy: 0.5653111291394759\n",
      "f1: 0.6389720119325275\n",
      "geometric mean: 0.525144052060274\n",
      "roc auc: 0.7659526627936283\n",
      "SVC_sig-calib fold 2 completed in 216.79 s\n",
      "fitted in 133.94 s\n",
      "predicted in 3.85 s\n",
      "accuracy: 0.5949583311765619\n",
      "adjusted balanced accuracy: 0.27295825376654137\n",
      "balanced accuracy: 0.5153055025110276\n",
      "f1: 0.5776618109806637\n",
      "geometric mean: 0.46552860023384607\n",
      "roc auc: 0.707439598076194\n",
      "SVC_sig-calib fold 3 completed in 142.21 s\n",
      "fitted in 111.63 s\n",
      "predicted in 4.72 s\n",
      "accuracy: 0.5973805200324538\n",
      "adjusted balanced accuracy: 0.2745408347293842\n",
      "balanced accuracy: 0.5163605564862561\n",
      "f1: 0.5764837871129675\n",
      "geometric mean: 0.4514872505826352\n",
      "roc auc: 0.7029158254641926\n",
      "SVC_sig-calib fold 4 completed in 121.67 s\n",
      "fitted in 145.98 s\n",
      "predicted in 3.30 s\n",
      "accuracy: 0.5754294701185579\n",
      "adjusted balanced accuracy: 0.27005132969832707\n",
      "balanced accuracy: 0.513367553132218\n",
      "f1: 0.5547858120617494\n",
      "geometric mean: 0.4550403761101903\n",
      "roc auc: 0.698319527993335\n",
      "SVC_sig-calib fold 5 completed in 153.15 s\n",
      "stored SVC_sig-calib in 816.57 s\n",
      "time: 2h 50min 16s\n"
     ]
    }
   ],
   "source": [
    "for model in tqdm(MODELS):\n",
    "    for preprocessing in {\"LDA\", \"resampled_LDA\"}:\n",
    "        print(f\"evaluating {model}...\")\n",
    "        eval_begin = time()\n",
    "        store_result(\n",
    "            where=results_,\n",
    "            model_name=model,\n",
    "            case=\"ternary\",\n",
    "            preprocessing=preprocessing,\n",
    "            avg_scores=evaluate_model(model_base=model, preprocessing=preprocessing),\n",
    "        )\n",
    "        print(f\"stored {model} in {time() - eval_begin:.2f} s\")\n",
    "        del eval_begin\n",
    "        _ = gc_collect()"
   ]
  },
  {
   "cell_type": "markdown",
   "metadata": {},
   "source": [
    "Let's peek at the results."
   ]
  },
  {
   "cell_type": "code",
   "execution_count": 10,
   "metadata": {},
   "outputs": [
    {
     "data": {
      "text/html": [
       "<div>\n",
       "<style scoped>\n",
       "    .dataframe tbody tr th:only-of-type {\n",
       "        vertical-align: middle;\n",
       "    }\n",
       "\n",
       "    .dataframe tbody tr th {\n",
       "        vertical-align: top;\n",
       "    }\n",
       "\n",
       "    .dataframe thead th {\n",
       "        text-align: right;\n",
       "    }\n",
       "</style>\n",
       "<table border=\"1\" class=\"dataframe\">\n",
       "  <thead>\n",
       "    <tr style=\"text-align: right;\">\n",
       "      <th></th>\n",
       "      <th>model_name</th>\n",
       "      <th>case</th>\n",
       "      <th>preprocessing</th>\n",
       "      <th>accuracy</th>\n",
       "      <th>adjusted_balanced_accuracy</th>\n",
       "      <th>balanced_accuracy</th>\n",
       "      <th>f1</th>\n",
       "      <th>geometric_mean</th>\n",
       "      <th>roc_auc</th>\n",
       "      <th>fit_time</th>\n",
       "      <th>predict_time</th>\n",
       "    </tr>\n",
       "  </thead>\n",
       "  <tbody>\n",
       "    <tr>\n",
       "      <th>0</th>\n",
       "      <td>SVC_sig-calib</td>\n",
       "      <td>ternary</td>\n",
       "      <td>LDA</td>\n",
       "      <td>0.612556</td>\n",
       "      <td>0.295861</td>\n",
       "      <td>0.530574</td>\n",
       "      <td>0.593572</td>\n",
       "      <td>0.477322</td>\n",
       "      <td>0.721282</td>\n",
       "      <td>155.569166</td>\n",
       "      <td>3.516265</td>\n",
       "    </tr>\n",
       "    <tr>\n",
       "      <th>1</th>\n",
       "      <td>LogRegCV_b_acc</td>\n",
       "      <td>ternary</td>\n",
       "      <td>resampled_LDA</td>\n",
       "      <td>0.565513</td>\n",
       "      <td>0.344185</td>\n",
       "      <td>0.562790</td>\n",
       "      <td>0.572721</td>\n",
       "      <td>0.557703</td>\n",
       "      <td>0.745680</td>\n",
       "      <td>3.219595</td>\n",
       "      <td>0.004526</td>\n",
       "    </tr>\n",
       "    <tr>\n",
       "      <th>2</th>\n",
       "      <td>LogRegCV_b_f1</td>\n",
       "      <td>ternary</td>\n",
       "      <td>resampled_LDA</td>\n",
       "      <td>0.565513</td>\n",
       "      <td>0.344185</td>\n",
       "      <td>0.562790</td>\n",
       "      <td>0.572721</td>\n",
       "      <td>0.557703</td>\n",
       "      <td>0.745680</td>\n",
       "      <td>3.236929</td>\n",
       "      <td>0.002408</td>\n",
       "    </tr>\n",
       "    <tr>\n",
       "      <th>3</th>\n",
       "      <td>LogRegCV_b_balacc</td>\n",
       "      <td>ternary</td>\n",
       "      <td>resampled_LDA</td>\n",
       "      <td>0.565513</td>\n",
       "      <td>0.344185</td>\n",
       "      <td>0.562790</td>\n",
       "      <td>0.572721</td>\n",
       "      <td>0.557703</td>\n",
       "      <td>0.745680</td>\n",
       "      <td>3.270568</td>\n",
       "      <td>0.001901</td>\n",
       "    </tr>\n",
       "    <tr>\n",
       "      <th>4</th>\n",
       "      <td>LinearSVC_sig-calib</td>\n",
       "      <td>ternary</td>\n",
       "      <td>resampled_LDA</td>\n",
       "      <td>0.565245</td>\n",
       "      <td>0.346022</td>\n",
       "      <td>0.564015</td>\n",
       "      <td>0.571779</td>\n",
       "      <td>0.557642</td>\n",
       "      <td>0.744310</td>\n",
       "      <td>54.422813</td>\n",
       "      <td>0.021176</td>\n",
       "    </tr>\n",
       "    <tr>\n",
       "      <th>...</th>\n",
       "      <td>...</td>\n",
       "      <td>...</td>\n",
       "      <td>...</td>\n",
       "      <td>...</td>\n",
       "      <td>...</td>\n",
       "      <td>...</td>\n",
       "      <td>...</td>\n",
       "      <td>...</td>\n",
       "      <td>...</td>\n",
       "      <td>...</td>\n",
       "      <td>...</td>\n",
       "    </tr>\n",
       "    <tr>\n",
       "      <th>61</th>\n",
       "      <td>RidgeCV_balacc</td>\n",
       "      <td>ternary</td>\n",
       "      <td>LDA</td>\n",
       "      <td>0.574177</td>\n",
       "      <td>0.353245</td>\n",
       "      <td>0.568830</td>\n",
       "      <td>0.579963</td>\n",
       "      <td>0.562561</td>\n",
       "      <td>0.672304</td>\n",
       "      <td>0.103563</td>\n",
       "      <td>0.001599</td>\n",
       "    </tr>\n",
       "    <tr>\n",
       "      <th>62</th>\n",
       "      <td>RidgeCV_b_f1</td>\n",
       "      <td>ternary</td>\n",
       "      <td>LDA</td>\n",
       "      <td>0.574177</td>\n",
       "      <td>0.353245</td>\n",
       "      <td>0.568830</td>\n",
       "      <td>0.579963</td>\n",
       "      <td>0.562561</td>\n",
       "      <td>0.672304</td>\n",
       "      <td>0.143972</td>\n",
       "      <td>0.003931</td>\n",
       "    </tr>\n",
       "    <tr>\n",
       "      <th>63</th>\n",
       "      <td>RidgeCV_f1</td>\n",
       "      <td>ternary</td>\n",
       "      <td>LDA</td>\n",
       "      <td>0.574177</td>\n",
       "      <td>0.353245</td>\n",
       "      <td>0.568830</td>\n",
       "      <td>0.579963</td>\n",
       "      <td>0.562561</td>\n",
       "      <td>0.672304</td>\n",
       "      <td>0.154703</td>\n",
       "      <td>0.002482</td>\n",
       "    </tr>\n",
       "    <tr>\n",
       "      <th>64</th>\n",
       "      <td>GaussianNB</td>\n",
       "      <td>ternary</td>\n",
       "      <td>LDA</td>\n",
       "      <td>0.607983</td>\n",
       "      <td>0.292722</td>\n",
       "      <td>0.528481</td>\n",
       "      <td>0.592766</td>\n",
       "      <td>0.486488</td>\n",
       "      <td>0.748264</td>\n",
       "      <td>0.010671</td>\n",
       "      <td>0.003736</td>\n",
       "    </tr>\n",
       "    <tr>\n",
       "      <th>65</th>\n",
       "      <td>GaussianNB_acc</td>\n",
       "      <td>ternary</td>\n",
       "      <td>resampled_LDA</td>\n",
       "      <td>0.556074</td>\n",
       "      <td>0.347003</td>\n",
       "      <td>0.564669</td>\n",
       "      <td>0.564061</td>\n",
       "      <td>0.559618</td>\n",
       "      <td>0.743776</td>\n",
       "      <td>4.016140</td>\n",
       "      <td>0.001403</td>\n",
       "    </tr>\n",
       "  </tbody>\n",
       "</table>\n",
       "<p>66 rows × 11 columns</p>\n",
       "</div>"
      ],
      "text/plain": [
       "             model_name     case  preprocessing  accuracy  \\\n",
       "0         SVC_sig-calib  ternary            LDA  0.612556   \n",
       "1        LogRegCV_b_acc  ternary  resampled_LDA  0.565513   \n",
       "2         LogRegCV_b_f1  ternary  resampled_LDA  0.565513   \n",
       "3     LogRegCV_b_balacc  ternary  resampled_LDA  0.565513   \n",
       "4   LinearSVC_sig-calib  ternary  resampled_LDA  0.565245   \n",
       "..                  ...      ...            ...       ...   \n",
       "61       RidgeCV_balacc  ternary            LDA  0.574177   \n",
       "62         RidgeCV_b_f1  ternary            LDA  0.574177   \n",
       "63           RidgeCV_f1  ternary            LDA  0.574177   \n",
       "64           GaussianNB  ternary            LDA  0.607983   \n",
       "65       GaussianNB_acc  ternary  resampled_LDA  0.556074   \n",
       "\n",
       "    adjusted_balanced_accuracy  balanced_accuracy        f1  geometric_mean  \\\n",
       "0                     0.295861           0.530574  0.593572        0.477322   \n",
       "1                     0.344185           0.562790  0.572721        0.557703   \n",
       "2                     0.344185           0.562790  0.572721        0.557703   \n",
       "3                     0.344185           0.562790  0.572721        0.557703   \n",
       "4                     0.346022           0.564015  0.571779        0.557642   \n",
       "..                         ...                ...       ...             ...   \n",
       "61                    0.353245           0.568830  0.579963        0.562561   \n",
       "62                    0.353245           0.568830  0.579963        0.562561   \n",
       "63                    0.353245           0.568830  0.579963        0.562561   \n",
       "64                    0.292722           0.528481  0.592766        0.486488   \n",
       "65                    0.347003           0.564669  0.564061        0.559618   \n",
       "\n",
       "     roc_auc    fit_time  predict_time  \n",
       "0   0.721282  155.569166      3.516265  \n",
       "1   0.745680    3.219595      0.004526  \n",
       "2   0.745680    3.236929      0.002408  \n",
       "3   0.745680    3.270568      0.001901  \n",
       "4   0.744310   54.422813      0.021176  \n",
       "..       ...         ...           ...  \n",
       "61  0.672304    0.103563      0.001599  \n",
       "62  0.672304    0.143972      0.003931  \n",
       "63  0.672304    0.154703      0.002482  \n",
       "64  0.748264    0.010671      0.003736  \n",
       "65  0.743776    4.016140      0.001403  \n",
       "\n",
       "[66 rows x 11 columns]"
      ]
     },
     "execution_count": 10,
     "metadata": {},
     "output_type": "execute_result"
    },
    {
     "name": "stdout",
     "output_type": "stream",
     "text": [
      "time: 68.1 ms\n"
     ]
    }
   ],
   "source": [
    "results_df = create_results_df(results_)\n",
    "results_df"
   ]
  },
  {
   "cell_type": "code",
   "execution_count": 11,
   "metadata": {},
   "outputs": [
    {
     "name": "stdout",
     "output_type": "stream",
     "text": [
      "time: 135 ms\n"
     ]
    }
   ],
   "source": [
    "# save table of results\n",
    "results_df.to_csv(f\"{DATA_OUT_FOLDER}/LDA_features_results_CV5.csv\")\n",
    "_ = gc_collect()"
   ]
  },
  {
   "cell_type": "code",
   "execution_count": 12,
   "metadata": {},
   "outputs": [
    {
     "name": "stdout",
     "output_type": "stream",
     "text": [
      "time: 275 ms\n"
     ]
    }
   ],
   "source": [
    "# save table of predictions\n",
    "predictions_df = pd.DataFrame(predictions_)\n",
    "predictions_df.to_pickle(f\"{DATA_OUT_FOLDER}/LDA_features_CV5_predictions.pkl\")\n",
    "_ = gc_collect()"
   ]
  },
  {
   "cell_type": "markdown",
   "metadata": {},
   "source": [
    "# Results\n",
    "\n",
    "In this section, we create several visualizations to display the results. We will load the results of previous notebooks for comparison.\n",
    "\n",
    "Note that the charts depicting fit and predict times do not account for the outlier removal step."
   ]
  },
  {
   "cell_type": "code",
   "execution_count": 13,
   "metadata": {},
   "outputs": [
    {
     "data": {
      "text/html": [
       "<div>\n",
       "<style scoped>\n",
       "    .dataframe tbody tr th:only-of-type {\n",
       "        vertical-align: middle;\n",
       "    }\n",
       "\n",
       "    .dataframe tbody tr th {\n",
       "        vertical-align: top;\n",
       "    }\n",
       "\n",
       "    .dataframe thead th {\n",
       "        text-align: right;\n",
       "    }\n",
       "</style>\n",
       "<table border=\"1\" class=\"dataframe\">\n",
       "  <thead>\n",
       "    <tr style=\"text-align: right;\">\n",
       "      <th></th>\n",
       "      <th>model_name</th>\n",
       "      <th>case</th>\n",
       "      <th>preprocessing</th>\n",
       "      <th>accuracy</th>\n",
       "      <th>adjusted_balanced_accuracy</th>\n",
       "      <th>balanced_accuracy</th>\n",
       "      <th>f1</th>\n",
       "      <th>geometric_mean</th>\n",
       "      <th>roc_auc</th>\n",
       "      <th>fit_time</th>\n",
       "      <th>predict_time</th>\n",
       "      <th>Unnamed: 0.1</th>\n",
       "    </tr>\n",
       "  </thead>\n",
       "  <tbody>\n",
       "    <tr>\n",
       "      <th>0</th>\n",
       "      <td>SVC_sig-calib</td>\n",
       "      <td>ternary</td>\n",
       "      <td>LDA</td>\n",
       "      <td>0.612556</td>\n",
       "      <td>0.295861</td>\n",
       "      <td>0.530574</td>\n",
       "      <td>0.593572</td>\n",
       "      <td>0.477322</td>\n",
       "      <td>0.721282</td>\n",
       "      <td>155.569166</td>\n",
       "      <td>3.516265</td>\n",
       "      <td>NaN</td>\n",
       "    </tr>\n",
       "    <tr>\n",
       "      <th>1</th>\n",
       "      <td>LogRegCV_b_acc</td>\n",
       "      <td>ternary</td>\n",
       "      <td>resampled_LDA</td>\n",
       "      <td>0.565513</td>\n",
       "      <td>0.344185</td>\n",
       "      <td>0.562790</td>\n",
       "      <td>0.572721</td>\n",
       "      <td>0.557703</td>\n",
       "      <td>0.745680</td>\n",
       "      <td>3.219595</td>\n",
       "      <td>0.004526</td>\n",
       "      <td>NaN</td>\n",
       "    </tr>\n",
       "    <tr>\n",
       "      <th>2</th>\n",
       "      <td>LogRegCV_b_f1</td>\n",
       "      <td>ternary</td>\n",
       "      <td>resampled_LDA</td>\n",
       "      <td>0.565513</td>\n",
       "      <td>0.344185</td>\n",
       "      <td>0.562790</td>\n",
       "      <td>0.572721</td>\n",
       "      <td>0.557703</td>\n",
       "      <td>0.745680</td>\n",
       "      <td>3.236929</td>\n",
       "      <td>0.002408</td>\n",
       "      <td>NaN</td>\n",
       "    </tr>\n",
       "    <tr>\n",
       "      <th>3</th>\n",
       "      <td>LogRegCV_b_balacc</td>\n",
       "      <td>ternary</td>\n",
       "      <td>resampled_LDA</td>\n",
       "      <td>0.565513</td>\n",
       "      <td>0.344185</td>\n",
       "      <td>0.562790</td>\n",
       "      <td>0.572721</td>\n",
       "      <td>0.557703</td>\n",
       "      <td>0.745680</td>\n",
       "      <td>3.270568</td>\n",
       "      <td>0.001901</td>\n",
       "      <td>NaN</td>\n",
       "    </tr>\n",
       "    <tr>\n",
       "      <th>4</th>\n",
       "      <td>LinearSVC_sig-calib</td>\n",
       "      <td>ternary</td>\n",
       "      <td>resampled_LDA</td>\n",
       "      <td>0.565245</td>\n",
       "      <td>0.346022</td>\n",
       "      <td>0.564015</td>\n",
       "      <td>0.571779</td>\n",
       "      <td>0.557642</td>\n",
       "      <td>0.744310</td>\n",
       "      <td>54.422813</td>\n",
       "      <td>0.021176</td>\n",
       "      <td>NaN</td>\n",
       "    </tr>\n",
       "    <tr>\n",
       "      <th>...</th>\n",
       "      <td>...</td>\n",
       "      <td>...</td>\n",
       "      <td>...</td>\n",
       "      <td>...</td>\n",
       "      <td>...</td>\n",
       "      <td>...</td>\n",
       "      <td>...</td>\n",
       "      <td>...</td>\n",
       "      <td>...</td>\n",
       "      <td>...</td>\n",
       "      <td>...</td>\n",
       "      <td>...</td>\n",
       "    </tr>\n",
       "    <tr>\n",
       "      <th>115</th>\n",
       "      <td>GaussianNB</td>\n",
       "      <td>ternary</td>\n",
       "      <td>LOF-LDA-classLOF</td>\n",
       "      <td>0.607267</td>\n",
       "      <td>0.293233</td>\n",
       "      <td>0.528822</td>\n",
       "      <td>0.592567</td>\n",
       "      <td>0.487874</td>\n",
       "      <td>0.747414</td>\n",
       "      <td>0.003426</td>\n",
       "      <td>0.001205</td>\n",
       "      <td>11.0</td>\n",
       "    </tr>\n",
       "    <tr>\n",
       "      <th>116</th>\n",
       "      <td>LinearSVC</td>\n",
       "      <td>ternary</td>\n",
       "      <td>LOF-LDA-classLOF</td>\n",
       "      <td>0.610437</td>\n",
       "      <td>0.293475</td>\n",
       "      <td>0.528983</td>\n",
       "      <td>0.593806</td>\n",
       "      <td>0.482197</td>\n",
       "      <td>0.646356</td>\n",
       "      <td>3.783503</td>\n",
       "      <td>0.003123</td>\n",
       "      <td>12.0</td>\n",
       "    </tr>\n",
       "    <tr>\n",
       "      <th>117</th>\n",
       "      <td>SVC_b</td>\n",
       "      <td>ternary</td>\n",
       "      <td>LOF-LDA-classLOF</td>\n",
       "      <td>0.610443</td>\n",
       "      <td>0.294790</td>\n",
       "      <td>0.529860</td>\n",
       "      <td>0.592476</td>\n",
       "      <td>0.479225</td>\n",
       "      <td>0.646275</td>\n",
       "      <td>51.250025</td>\n",
       "      <td>0.811847</td>\n",
       "      <td>13.0</td>\n",
       "    </tr>\n",
       "    <tr>\n",
       "      <th>118</th>\n",
       "      <td>SVC</td>\n",
       "      <td>ternary</td>\n",
       "      <td>LOF-LDA-classLOF</td>\n",
       "      <td>0.610443</td>\n",
       "      <td>0.294790</td>\n",
       "      <td>0.529860</td>\n",
       "      <td>0.592476</td>\n",
       "      <td>0.479225</td>\n",
       "      <td>0.646275</td>\n",
       "      <td>50.960469</td>\n",
       "      <td>0.805543</td>\n",
       "      <td>14.0</td>\n",
       "    </tr>\n",
       "    <tr>\n",
       "      <th>119</th>\n",
       "      <td>SGD</td>\n",
       "      <td>ternary</td>\n",
       "      <td>LOF-LDA-classLOF</td>\n",
       "      <td>0.610951</td>\n",
       "      <td>0.293826</td>\n",
       "      <td>0.529217</td>\n",
       "      <td>0.592917</td>\n",
       "      <td>0.476750</td>\n",
       "      <td>0.646753</td>\n",
       "      <td>0.091082</td>\n",
       "      <td>0.000407</td>\n",
       "      <td>15.0</td>\n",
       "    </tr>\n",
       "  </tbody>\n",
       "</table>\n",
       "<p>120 rows × 12 columns</p>\n",
       "</div>"
      ],
      "text/plain": [
       "              model_name     case     preprocessing  accuracy  \\\n",
       "0          SVC_sig-calib  ternary               LDA  0.612556   \n",
       "1         LogRegCV_b_acc  ternary     resampled_LDA  0.565513   \n",
       "2          LogRegCV_b_f1  ternary     resampled_LDA  0.565513   \n",
       "3      LogRegCV_b_balacc  ternary     resampled_LDA  0.565513   \n",
       "4    LinearSVC_sig-calib  ternary     resampled_LDA  0.565245   \n",
       "..                   ...      ...               ...       ...   \n",
       "115           GaussianNB  ternary  LOF-LDA-classLOF  0.607267   \n",
       "116            LinearSVC  ternary  LOF-LDA-classLOF  0.610437   \n",
       "117                SVC_b  ternary  LOF-LDA-classLOF  0.610443   \n",
       "118                  SVC  ternary  LOF-LDA-classLOF  0.610443   \n",
       "119                  SGD  ternary  LOF-LDA-classLOF  0.610951   \n",
       "\n",
       "     adjusted_balanced_accuracy  balanced_accuracy        f1  geometric_mean  \\\n",
       "0                      0.295861           0.530574  0.593572        0.477322   \n",
       "1                      0.344185           0.562790  0.572721        0.557703   \n",
       "2                      0.344185           0.562790  0.572721        0.557703   \n",
       "3                      0.344185           0.562790  0.572721        0.557703   \n",
       "4                      0.346022           0.564015  0.571779        0.557642   \n",
       "..                          ...                ...       ...             ...   \n",
       "115                    0.293233           0.528822  0.592567        0.487874   \n",
       "116                    0.293475           0.528983  0.593806        0.482197   \n",
       "117                    0.294790           0.529860  0.592476        0.479225   \n",
       "118                    0.294790           0.529860  0.592476        0.479225   \n",
       "119                    0.293826           0.529217  0.592917        0.476750   \n",
       "\n",
       "      roc_auc    fit_time  predict_time  Unnamed: 0.1  \n",
       "0    0.721282  155.569166      3.516265           NaN  \n",
       "1    0.745680    3.219595      0.004526           NaN  \n",
       "2    0.745680    3.236929      0.002408           NaN  \n",
       "3    0.745680    3.270568      0.001901           NaN  \n",
       "4    0.744310   54.422813      0.021176           NaN  \n",
       "..        ...         ...           ...           ...  \n",
       "115  0.747414    0.003426      0.001205          11.0  \n",
       "116  0.646356    3.783503      0.003123          12.0  \n",
       "117  0.646275   51.250025      0.811847          13.0  \n",
       "118  0.646275   50.960469      0.805543          14.0  \n",
       "119  0.646753    0.091082      0.000407          15.0  \n",
       "\n",
       "[120 rows x 12 columns]"
      ]
     },
     "execution_count": 13,
     "metadata": {},
     "output_type": "execute_result"
    },
    {
     "name": "stdout",
     "output_type": "stream",
     "text": [
      "time: 34 ms\n"
     ]
    }
   ],
   "source": [
    "results_df = pd.concat(\n",
    "    [\n",
    "        results_df,\n",
    "        pd.read_csv(\"./full_amended_results_CV5.csv\").drop(columns=\"Unnamed: 0\"),\n",
    "    ]\n",
    ").reset_index(drop=True)\n",
    "\n",
    "# save table of results\n",
    "results_df.to_csv(f\"{DATA_OUT_FOLDER}/full_amended_results+_CV5.csv\")\n",
    "\n",
    "results_df"
   ]
  },
  {
   "cell_type": "code",
   "execution_count": 14,
   "metadata": {},
   "outputs": [
    {
     "name": "stdout",
     "output_type": "stream",
     "text": [
      "time: 116 ms\n"
     ]
    }
   ],
   "source": [
    "METRIC_NAMES = {\n",
    "    \"accuracy\": \"Accuracy\",\n",
    "    \"adjusted_balanced_accuracy\": \"Balanced Accuracy (adjusted)\",\n",
    "    \"balanced_accuracy\": \"Balanced Accuracy\",\n",
    "    \"f1\": \"F1 Score\",\n",
    "    \"geometric_mean\": \"Geometric Mean (sensitivity & specificity)\",\n",
    "    \"roc_auc\": \"Area Under ROC Curve\",\n",
    "    \"fit_time\": \"Fit Time\",\n",
    "    \"predict_time\": \"Predict Time\",\n",
    "}\n",
    "\n",
    "_ = gc_collect()"
   ]
  },
  {
   "cell_type": "code",
   "execution_count": 15,
   "metadata": {},
   "outputs": [
    {
     "name": "stdout",
     "output_type": "stream",
     "text": [
      "time: 125 ms\n"
     ]
    }
   ],
   "source": [
    "def plot_metric(metric: str, results_df: pd.DataFrame) -> None:\n",
    "    \"\"\"Draw a barplot by binary classifier.\"\"\"\n",
    "    time_metric = \"time\" in metric\n",
    "    results_df = results_df.sort_values(by=metric, ascending=time_metric)\n",
    "\n",
    "    g = sns.catplot(\n",
    "        x=\"model_name\",\n",
    "        y=metric,\n",
    "        hue=\"preprocessing\",\n",
    "        data=results_df,\n",
    "        hue_order=sorted(hues := np.unique(results_df.preprocessing)),\n",
    "        seed=SEED,\n",
    "        kind=\"bar\",\n",
    "        palette=\"colorblind\",\n",
    "        alpha=0.65,\n",
    "    )\n",
    "    g.fig.set_figwidth(16)\n",
    "    g.despine(**dict.fromkeys((\"left\", \"top\", \"right\"), True))\n",
    "    g.set_axis_labels(x_var=\"\", y_var=\"\")\n",
    "    sns.move_legend(\n",
    "        g,\n",
    "        \"lower center\",\n",
    "        bbox_to_anchor=(0.5, 0.85),\n",
    "        ncol=len(hues),\n",
    "        title=None,\n",
    "    )\n",
    "\n",
    "    if not time_metric:\n",
    "        plt.ylim(0, 1)\n",
    "    plt.setp(plt.gca().patches, linewidth=0)\n",
    "\n",
    "    plt.suptitle(\n",
    "        f\"{METRIC_NAMES[metric]}{' (s)' if time_metric else ''}\", fontweight=\"bold\"\n",
    "    )\n",
    "    plt.tight_layout()\n",
    "    plt.show()\n",
    "\n",
    "\n",
    "_ = gc_collect()"
   ]
  },
  {
   "cell_type": "code",
   "execution_count": 16,
   "metadata": {},
   "outputs": [
    {
     "data": {
      "application/vnd.jupyter.widget-view+json": {
       "model_id": "0ee5610794b3432daef0ed4827d54c40",
       "version_major": 2,
       "version_minor": 0
      },
      "text/plain": [
       "  0%|          | 0/8 [00:00<?, ?it/s]"
      ]
     },
     "metadata": {},
     "output_type": "display_data"
    },
    {
     "data": {
      "image/png": "[encoded data removed]",
      "text/plain": [
       "<Figure size 1152x360 with 1 Axes>"
      ]
     },
     "metadata": {
      "needs_background": "light"
     },
     "output_type": "display_data"
    },
    {
     "data": {
      "image/png": "[encoded data removed]",
      "text/plain": [
       "<Figure size 1152x360 with 1 Axes>"
      ]
     },
     "metadata": {
      "needs_background": "light"
     },
     "output_type": "display_data"
    },
    {
     "data": {
      "image/png": "[encoded data removed]",
      "text/plain": [
       "<Figure size 1152x360 with 1 Axes>"
      ]
     },
     "metadata": {
      "needs_background": "light"
     },
     "output_type": "display_data"
    },
    {
     "data": {
      "image/png": "[encoded data removed]",
      "text/plain": [
       "<Figure size 1152x360 with 1 Axes>"
      ]
     },
     "metadata": {
      "needs_background": "light"
     },
     "output_type": "display_data"
    },
    {
     "data": {
      "image/png": "[encoded data removed]",
      "text/plain": [
       "<Figure size 1152x360 with 1 Axes>"
      ]
     },
     "metadata": {
      "needs_background": "light"
     },
     "output_type": "display_data"
    },
    {
     "data": {
      "image/png": "[encoded data removed]",
      "text/plain": [
       "<Figure size 1152x360 with 1 Axes>"
      ]
     },
     "metadata": {
      "needs_background": "light"
     },
     "output_type": "display_data"
    },
    {
     "data": {
      "image/png": "[encoded data removed]",
      "text/plain": [
       "<Figure size 1152x360 with 1 Axes>"
      ]
     },
     "metadata": {
      "needs_background": "light"
     },
     "output_type": "display_data"
    },
    {
     "data": {
      "image/png": "[encoded data removed]",
      "text/plain": [
       "<Figure size 1152x360 with 1 Axes>"
      ]
     },
     "metadata": {
      "needs_background": "light"
     },
     "output_type": "display_data"
    },
    {
     "name": "stdout",
     "output_type": "stream",
     "text": [
      "time: 16.7 s\n"
     ]
    }
   ],
   "source": [
    "for metric in tqdm(METRICS):\n",
    "    plot_metric(metric, results_df)"
   ]
  },
  {
   "cell_type": "markdown",
   "metadata": {},
   "source": [
    "# Discussion\n",
    "\n",
    "Unfortunately, I overplotted above, but the results table .csv is pretty readable.\n",
    "\n",
    "resampled_LDA was generally outperformed by LDA on the untransformed FRILL features. However, resampling before LDA provided a significant boost in balanced accuracy and geometric mean scores for some classifiers. Isotonic calibration was more successful for GaussianNB except when considering geometric mean on the resampled_LDA data.\n",
    "\n",
    "GaussianNB most clearly benefits from LDA reduction. Other classifiers may perform better on the FRILL embeddings.\n",
    "\n",
    "Global outlier removal before LDA extraction may improve the quality of the LDA components only for some classifiers by some metrics. Generally, estimators trained on LDA outperformed those trained on LOF-LDA, yet there are exceptions.\n",
    "\n",
    "Calibration provides a noticeable bump in scores for certain classifiers. Fit times for SVC may be sensitive to the method of calibration.\n",
    "\n",
    "Classification performance is generally better with more features, but handling the LDA features is much faster.\n",
    "\n",
    "Some metrics like accuracy and balanced_accuracy appear to be inversely correlated.\n",
    "\n",
    "Balanced accuracy rankings mirror adjusted balanced accuracy rankings, so only one of these needs to be considered in downstream analyses.\n",
    "\n",
    "LogReg attains its highest accuracy and F1 scores with LDA. \"balanced\" class_weight works better for all metrics except F1 and accuracy. Although it performs better with more features, it is much slower.\n",
    "\n",
    "It has been difficult for a single resampling method to work well in all scenarios. It is likely that resampling will need to be hypertuned as part of a pipeline. Although it is costly in time, it may be better than generating multiple copies of resampled data; at that rate, I'm more likely to run out of hard drive space. If possible, I'd prefer to resample after dimensionality reduction since this should be more agile.\n",
    "\n",
    "Some classifiers just perform better with more data and more features and others may perform better on just the components. Classifiers obtain noticeably different scores when trained on data with different preprocessing steps.\n",
    "\n",
    "The data is much more lightweight in two dimensions. Perhaps some clever feature engineering can help mitigate the drop in signal. Rescaling may still be necessary, but it'll be faster with fewer features.\n",
    "\n",
    "Next steps should focus on feature engineering:\n",
    "* extract one-class novelty features from FRILL embeddings with LOF\n",
    "  * test some models on the LOF novelty trios (argmin of LOF) to make sure there is some value\n",
    "* extract one-class probabilities with calibrated one-class SVCs using SGDOneClassSVM\n",
    "  * the FRILL embeddings need to undergo Nystroem approximation\n",
    "  * hopefully, we can get the benefits of SVC without actually having to train SVC on the FRILL embeddings this way\n",
    "  * test some models on the one-class probability trios (argmax) to make sure there is some value\n",
    "  * calibration parameters may need to be tuned\n",
    "* combine LDA, LOF, and OCSVM features\n",
    "  * test models with different scaling methods (maybe add random forest or other speedy algorithms back in)\n",
    "  * if a single scaler looks best, pre-scale the splits\n",
    "* (if features look good) hypertune including resampling pipe\n",
    "  * export fitted models by fold\n",
    "  \n",
    "\n"
   ]
  },
  {
   "cell_type": "code",
   "execution_count": 17,
   "metadata": {},
   "outputs": [
    {
     "name": "stdout",
     "output_type": "stream",
     "text": [
      "Time elapsed since notebook_begin_time: 10243.841361522675 s\n",
      "time: 124 ms\n"
     ]
    }
   ],
   "source": [
    "print(f\"Time elapsed since notebook_begin_time: {time() - notebook_begin_time} s\")\n",
    "_ = gc_collect()"
   ]
  },
  {
   "cell_type": "markdown",
   "metadata": {},
   "source": [
    "[^top](#Contents)"
   ]
  },
  {
   "cell_type": "code",
   "execution_count": null,
   "metadata": {},
   "outputs": [],
   "source": []
  }
 ],
 "metadata": {
  "interpreter": {
   "hash": "e1781be99c106060f3abc0c9b91d3d379f24672894e2158d4b74304109955878"
  },
  "kernelspec": {
   "display_name": "Python 3 (ipykernel)",
   "language": "python",
   "name": "python3"
  },
  "language_info": {
   "codemirror_mode": {
    "name": "ipython",
    "version": 3
   },
   "file_extension": ".py",
   "mimetype": "text/x-python",
   "name": "python",
   "nbconvert_exporter": "python",
   "pygments_lexer": "ipython3",
   "version": "3.9.5"
  }
 },
 "nbformat": 4,
 "nbformat_minor": 4
}
