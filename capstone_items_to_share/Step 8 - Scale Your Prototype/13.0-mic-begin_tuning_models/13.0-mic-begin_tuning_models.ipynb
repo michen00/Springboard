{
 "cells": [
  {
   "cell_type": "markdown",
   "metadata": {},
   "source": [
    "# Contents\n",
    "* [Introduction](#Introduction)\n",
    "* [Imports and configuration](#Imports-and-configuration)\n",
    "* [Setup](#Setup)\n",
    "* [Models](#Models)\n",
    "* [Test harness](#Test-harness)\n",
    "* [Results](#Results)\n",
    "* [Discussion](#Discussion)"
   ]
  },
  {
   "cell_type": "markdown",
   "metadata": {},
   "source": [
    "# Introduction\n",
    "\n",
    "In this notebook, we consider preliminary hyperparameter tuning with the following classifiers:\n",
    "* LinearDiscrimantAnalysis\n",
    "* LogisticRegression\n",
    "* RidgeClassifier\n",
    "* SGDClassifier\n",
    "\n",
    "5-fold train-test splits with scaling, dimensionality reduction, and resampling have already been preprocessed on the full dataset. The results are visualized and discussed."
   ]
  },
  {
   "cell_type": "markdown",
   "metadata": {},
   "source": [
    "# Imports and configuration"
   ]
  },
  {
   "cell_type": "code",
   "execution_count": 1,
   "metadata": {},
   "outputs": [],
   "source": [
    "from time import time\n",
    "\n",
    "notebook_begin_time = time()\n",
    "\n",
    "# set random seeds\n",
    "\n",
    "from os import environ\n",
    "from random import seed as random_seed\n",
    "from numpy.random import seed as np_seed\n",
    "from tensorflow.random import set_seed\n",
    "\n",
    "\n",
    "def reset_seeds(seed: int) -> None:\n",
    "    \"\"\"Utility function for resetting random seeds\"\"\"\n",
    "    environ[\"PYTHONHASHSEED\"] = str(seed)\n",
    "    random_seed(seed)\n",
    "    np_seed(seed)\n",
    "    set_seed(seed)\n",
    "\n",
    "\n",
    "reset_seeds(SEED := 2021)\n",
    "del environ\n",
    "del random_seed\n",
    "del np_seed\n",
    "del set_seed\n",
    "del reset_seeds"
   ]
  },
  {
   "cell_type": "code",
   "execution_count": 2,
   "metadata": {},
   "outputs": [],
   "source": [
    "# extensions\n",
    "%load_ext autotime\n",
    "%load_ext lab_black\n",
    "%load_ext nb_black"
   ]
  },
  {
   "cell_type": "code",
   "execution_count": 3,
   "metadata": {},
   "outputs": [
    {
     "name": "stderr",
     "output_type": "stream",
     "text": [
      "Intel(R) Extension for Scikit-learn* enabled (https://github.com/intel/scikit-learn-intelex)\n"
     ]
    },
    {
     "name": "stdout",
     "output_type": "stream",
     "text": [
      "time: 6.09 s\n"
     ]
    }
   ],
   "source": [
    "# core\n",
    "import numpy as np\n",
    "import pandas as pd\n",
    "\n",
    "# utility\n",
    "from collections import namedtuple\n",
    "from gc import collect as gc_collect\n",
    "from tqdm.notebook import tqdm\n",
    "\n",
    "# typing\n",
    "from typing import Dict, List, Union\n",
    "\n",
    "# faster pandas & sklearn\n",
    "import swifter\n",
    "from sklearnex import patch_sklearn\n",
    "\n",
    "patch_sklearn()\n",
    "del patch_sklearn\n",
    "\n",
    "# metrics\n",
    "from imblearn.metrics import geometric_mean_score\n",
    "from sklearn.metrics import balanced_accuracy_score, f1_score, roc_auc_score\n",
    "\n",
    "# classifiers\n",
    "from sklearn.discriminant_analysis import LinearDiscriminantAnalysis\n",
    "from sklearn.linear_model import (\n",
    "    LogisticRegression,\n",
    "    RidgeClassifier,\n",
    "    SGDClassifier,\n",
    ")\n",
    "\n",
    "# inner CV\n",
    "from sklearn.model_selection import GridSearchCV, StratifiedKFold\n",
    "\n",
    "# visualization\n",
    "import matplotlib.pyplot as plt\n",
    "import seaborn as sns\n",
    "\n",
    "sns.set_context(\"notebook\")\n",
    "sns.set_style(\"whitegrid\")\n",
    "%matplotlib inline\n",
    "\n",
    "# display outputs w/o print calls\n",
    "from IPython.core.interactiveshell import InteractiveShell\n",
    "\n",
    "InteractiveShell.ast_node_interactivity = \"all\"\n",
    "del InteractiveShell\n",
    "\n",
    "# hide warnings\n",
    "import warnings\n",
    "\n",
    "warnings.filterwarnings(\"ignore\")\n",
    "del warnings"
   ]
  },
  {
   "cell_type": "code",
   "execution_count": 4,
   "metadata": {},
   "outputs": [
    {
     "name": "stdout",
     "output_type": "stream",
     "text": [
      "time: 119 ms\n"
     ]
    }
   ],
   "source": [
    "# Location of cross validation .feather files\n",
    "FRILL_FEATHERS_FOLDER = \"../10.0-mic-prepare_train-test_splits_on_full_data\"\n",
    "\n",
    "# Location where this notebook will output\n",
    "DATA_OUT_FOLDER = \".\"\n",
    "\n",
    "_ = gc_collect()"
   ]
  },
  {
   "cell_type": "markdown",
   "metadata": {},
   "source": [
    "# Setup\n",
    "\n",
    "In this section, we define some structures to keep track of models and scores.\n",
    "\n",
    "The next cell defines a Python dictionary to record the results of cross validation such that the results may be easily cast to a `pandas` dataframe."
   ]
  },
  {
   "cell_type": "code",
   "execution_count": 5,
   "metadata": {},
   "outputs": [
    {
     "name": "stdout",
     "output_type": "stream",
     "text": [
      "time: 116 ms\n"
     ]
    }
   ],
   "source": [
    "ALL_CASES = {\"ternary\"}\n",
    "\n",
    "METRICS = (\n",
    "    \"balanced_accuracy\",\n",
    "    \"f1\",\n",
    "    \"geometric_mean\",\n",
    "    \"roc_auc\",\n",
    "    \"fit_time\",\n",
    "    \"predict_time\",\n",
    ")\n",
    "\n",
    "# to be cast to pd.DataFrame\n",
    "make_results = lambda: {key: [] for key in {\"model_name\", \"case\", *METRICS}}\n",
    "results_ = make_results()\n",
    "\n",
    "AvgScores = namedtuple(\"AvgScores\", METRICS)\n",
    "\n",
    "\n",
    "def store_result(\n",
    "    where: Dict[str, List],\n",
    "    case: str,\n",
    "    model_name: str,\n",
    "    avg_scores: AvgScores,\n",
    ") -> None:\n",
    "    \"Appends a model's scores and fit/predict times to the results dict.\"\n",
    "    for attribute, value in {\n",
    "        \"model_name\": model_name,\n",
    "        \"case\": case,\n",
    "        **avg_scores._asdict(),\n",
    "    }.items():\n",
    "        where[attribute].append(value)\n",
    "\n",
    "\n",
    "def create_results_df(results_dict: Dict[str, List]) -> pd.DataFrame:\n",
    "    \"\"\"Create a results dataframe from the results dictionary\"\"\"\n",
    "    df = (\n",
    "        pd.DataFrame(results_)\n",
    "        .sort_values(by=[\"model_name\"], ascending=True)\n",
    "        .sort_values(by=[\"fit_time\", \"predict_time\"], ascending=True)\n",
    "        .sort_values(\n",
    "            by=[\"balanced_accuracy\", \"geometric_mean\", \"f1\", \"roc_auc\"], ascending=False\n",
    "        )\n",
    "        .sort_values(by=[\"case\"], ascending=True)\n",
    "        .reset_index(drop=True)\n",
    "    )[\n",
    "        [  # selection order\n",
    "            \"model_name\",\n",
    "            \"case\",\n",
    "            \"balanced_accuracy\",\n",
    "            \"f1\",\n",
    "            \"geometric_mean\",\n",
    "            \"roc_auc\",\n",
    "            \"fit_time\",\n",
    "            \"predict_time\",\n",
    "        ]\n",
    "    ]\n",
    "    df.loc[:, \"case\"] = df.loc[:, \"case\"].astype(\"category\")\n",
    "    return df\n",
    "\n",
    "\n",
    "_ = gc_collect()"
   ]
  },
  {
   "cell_type": "code",
   "execution_count": 6,
   "metadata": {},
   "outputs": [
    {
     "name": "stdout",
     "output_type": "stream",
     "text": [
      "time: 135 ms\n"
     ]
    }
   ],
   "source": [
    "predictions_ = {key: [] for key in {\"model\", \"case\", \"fold\", \"y_pred\"}}\n",
    "\n",
    "Prediction = namedtuple(\"Prediction\", predictions_.keys())\n",
    "\n",
    "\n",
    "def store_prediction(where: Dict[str, List], prediction: Prediction) -> None:\n",
    "    \"Records the y_pred of a classifier on a fold\"\n",
    "    for k, v in prediction._asdict().items():\n",
    "        where[k].append(v)\n",
    "\n",
    "\n",
    "_ = gc_collect()"
   ]
  },
  {
   "cell_type": "markdown",
   "metadata": {},
   "source": [
    "# Models\n",
    "\n",
    "Thanks to FRILL, we may now use the gamut of binary classifiers.\n",
    "\n",
    "For the most part, the default settings of each classifier are used. Where possible, the seed is set and all available cores are used. Class weight parameters are set to address class imbalance. Each classifier is wrapped in a lambda function to ensure a brand new model is initialized each time the function is called."
   ]
  },
  {
   "cell_type": "code",
   "execution_count": 7,
   "metadata": {},
   "outputs": [
    {
     "name": "stdout",
     "output_type": "stream",
     "text": [
      "time: 134 ms\n"
     ]
    }
   ],
   "source": [
    "MODELS = {\n",
    "    \"LDA\": lambda: LinearDiscriminantAnalysis(),\n",
    "    \"LogReg\": lambda: LogisticRegression(\n",
    "        class_weight=\"balanced\", random_state=SEED, max_iter=150, n_jobs=-1\n",
    "    ),\n",
    "    \"Ridge\": lambda: RidgeClassifier(class_weight=\"balanced\", random_state=SEED),\n",
    "    \"SGD\": lambda: SGDClassifier(\n",
    "        n_jobs=-1,\n",
    "        random_state=SEED,\n",
    "        early_stopping=True,\n",
    "        class_weight=\"balanced\",\n",
    "    ),\n",
    "}\n",
    "\n",
    "PARAMS = {\n",
    "    \"LDA\": {\"solver\": [\"eigen\", \"lsqr\", \"svd\"]},\n",
    "    \"LogReg\": [\n",
    "        {\n",
    "            \"penalty\": [\"l2\"],\n",
    "            \"C\": [0.01, 0.1, 1.0, 10.0, 100.0],\n",
    "            \"fit_intercept\": [False, True],\n",
    "            \"solver\": [\"lbfgs\", \"sag\", \"saga\"],\n",
    "        },\n",
    "        {\n",
    "            \"penalty\": [\"none\"],\n",
    "            \"fit_intercept\": [False, True],\n",
    "            \"solver\": [\"lbfgs\", \"sag\", \"saga\"],\n",
    "        },\n",
    "        {\n",
    "            \"penalty\": [\"elasticnet\"],\n",
    "            \"C\": [0.01, 0.1, 1.0, 10.0, 100.0],\n",
    "            \"fit_intercept\": [False, True],\n",
    "            \"solver\": [\"saga\"],\n",
    "        },\n",
    "    ],\n",
    "    \"Ridge\": [\n",
    "        {\n",
    "            \"alpha\": [0.2, 0.4, 0.6, 0.8, 1.0],\n",
    "            \"fit_intercept\": [False, True],\n",
    "            \"solver\": [\"auto\", \"lsqr\", \"svd\"],\n",
    "        },\n",
    "        {\n",
    "            \"alpha\": [0.2, 0.4, 0.6, 0.8, 1.0],\n",
    "            \"fit_intercept\": [False, True],\n",
    "            \"solver\": [\"lbfgs\"],\n",
    "            \"positive\": [True],\n",
    "        },\n",
    "    ],\n",
    "    \"SGD\": {\n",
    "        \"loss\": [\n",
    "            \"hinge\",\n",
    "            \"log\",\n",
    "            \"modified_huber\",\n",
    "            \"squared_hinge\",\n",
    "        ],\n",
    "        \"penalty\": [\"elasticnet\", \"l2\"],\n",
    "        \"alpha\": [0.0001, 0.001, 0.01, 0.1],\n",
    "    },\n",
    "}\n",
    "\n",
    "_ = gc_collect()"
   ]
  },
  {
   "cell_type": "markdown",
   "metadata": {},
   "source": [
    "# Test harness\n",
    "\n",
    "This section defines functions for evaluating models."
   ]
  },
  {
   "cell_type": "code",
   "execution_count": 8,
   "metadata": {},
   "outputs": [
    {
     "name": "stdout",
     "output_type": "stream",
     "text": [
      "time: 133 ms\n"
     ]
    }
   ],
   "source": [
    "def prep_y_pred(label: Union[int, bool], case: str) -> List:\n",
    "    \"\"\"Prepares labels for AUROC scoring\"\"\"\n",
    "    if \"ternary\" in case:\n",
    "        _ = [0, 0, 0]\n",
    "        _[int(label)] = 1\n",
    "        return np.asarray(_, dtype=np.int8)\n",
    "    else:\n",
    "        return label\n",
    "\n",
    "\n",
    "def evaluate_model(\n",
    "    model_base: str, case: str, track_fold_time: bool = True\n",
    ") -> AvgScores:\n",
    "    \"\"\"Evaluate a model with cross validation on prepared folds.\"\"\"\n",
    "\n",
    "    fit_times, predict_times, balanced_accuracy, f1, geometric_mean, roc_auc = (\n",
    "        [],\n",
    "        [],\n",
    "        [],\n",
    "        [],\n",
    "        [],\n",
    "        [],\n",
    "    )\n",
    "    fold_num = 0\n",
    "    while True:\n",
    "        if track_fold_time:\n",
    "            fold_begin = time()\n",
    "\n",
    "        # helper function\n",
    "        read_feather_cv = lambda _set: pd.read_feather(\n",
    "            f\"{FRILL_FEATHERS_FOLDER}/cv_{fold_num}/{_set}{'' if _set == 'X_test' else f'_{case[:3]}'}.feather\"\n",
    "        )\n",
    "\n",
    "        # load training data\n",
    "        try:\n",
    "            X_train, y_train = read_feather_cv(\"X_train\"), read_feather_cv(\n",
    "                \"y_train\"\n",
    "            ).astype(np.int8)\n",
    "        except FileNotFoundError:\n",
    "            break\n",
    "\n",
    "        # initialize model\n",
    "        model = GridSearchCV(\n",
    "            estimator=MODELS[model_base](),\n",
    "            param_grid=PARAMS[model_base],\n",
    "            # RidgeClassifier does not support predict_proba\n",
    "            scoring=\"balanced_accuracy\"\n",
    "            if (ridge := model_base == \"Ridge\")\n",
    "            else [\"balanced_accuracy\", \"neg_log_loss\"],\n",
    "            n_jobs=-1,\n",
    "            refit=True if ridge else \"neg_log_loss\",\n",
    "            cv=StratifiedKFold(n_splits=3, shuffle=True, random_state=SEED),\n",
    "            verbose=3,\n",
    "        )\n",
    "\n",
    "        # fit\n",
    "        begin = time()\n",
    "        model.fit(X_train, y_train)\n",
    "        end = time()\n",
    "        del X_train\n",
    "        del y_train\n",
    "        _ = gc_collect()\n",
    "        fit_times.append(end - begin)\n",
    "        print(f\"fitted in {end - begin:.2f} s\")\n",
    "\n",
    "        # save inner CV results\n",
    "        print(\n",
    "            f\"best validation score for {model_base}: {model.best_score_}\",\n",
    "            model.best_params_,\n",
    "            sep=\"\\n\",\n",
    "        )\n",
    "        pd.DataFrame(model.cv_results_).to_csv(\n",
    "            f\"{DATA_OUT_FOLDER}/{model_base}_fold{fold_num}_innerCV_{case}_results.csv\"\n",
    "        )\n",
    "\n",
    "        # load test data\n",
    "        X_test = read_feather_cv(\"X_test\")\n",
    "\n",
    "        # predict\n",
    "        begin = time()\n",
    "        predicted = model.predict(X_test)\n",
    "        end = time()\n",
    "        del X_test\n",
    "        del model\n",
    "        _ = gc_collect()\n",
    "        predict_times.append(end - begin)\n",
    "        print(f\"predicted in {end - begin:.2f} s\")\n",
    "        del end\n",
    "        del begin\n",
    "        _ = gc_collect()\n",
    "        store_prediction(\n",
    "            where=predictions_,\n",
    "            prediction=Prediction(\n",
    "                model=model_base,\n",
    "                case=case,\n",
    "                fold=fold_num,\n",
    "                y_pred=predicted,\n",
    "            ),\n",
    "        )\n",
    "\n",
    "        # score\n",
    "        score_params = {\n",
    "            \"y_true\": np.squeeze(read_feather_cv(\"y_test\").values).astype(np.int8),\n",
    "            \"y_pred\": predicted,\n",
    "        }\n",
    "        balanced_accuracy.append(balanced_accuracy_score(**score_params, adjusted=True))\n",
    "        f1.append(f1_score(**score_params, average=\"weighted\"))\n",
    "        geometric_mean.append(geometric_mean_score(**score_params))\n",
    "        roc_auc.append(\n",
    "            roc_auc_score(\n",
    "                y_true=score_params[\"y_true\"],\n",
    "                y_score=np.stack(\n",
    "                    pd.Series(score_params[\"y_pred\"]).swifter.apply(\n",
    "                        prep_y_pred, case=case\n",
    "                    )\n",
    "                ),\n",
    "                average=\"weighted\",\n",
    "                multi_class=\"ovo\",\n",
    "            )\n",
    "        )\n",
    "        del score_params\n",
    "        del predicted\n",
    "        _ = gc_collect()\n",
    "\n",
    "        if track_fold_time:\n",
    "            print(\n",
    "                f\"{model_base} fold {fold_num + 1} completed in {time() - fold_begin:.2f} s\"\n",
    "            )\n",
    "            del fold_begin\n",
    "\n",
    "        fold_num += 1\n",
    "        _ = gc_collect()\n",
    "\n",
    "    return AvgScores(\n",
    "        *[\n",
    "            np.mean(_)\n",
    "            for _ in (\n",
    "                balanced_accuracy,\n",
    "                f1,\n",
    "                geometric_mean,\n",
    "                roc_auc,\n",
    "                fit_times,\n",
    "                predict_times,\n",
    "            )\n",
    "        ]\n",
    "    )\n",
    "\n",
    "\n",
    "case = \"ternary\"\n",
    "\n",
    "_ = gc_collect()"
   ]
  },
  {
   "cell_type": "markdown",
   "metadata": {},
   "source": [
    "The next cell evaluates models."
   ]
  },
  {
   "cell_type": "code",
   "execution_count": 9,
   "metadata": {},
   "outputs": [
    {
     "name": "stdout",
     "output_type": "stream",
     "text": [
      "evaluating LDA...\n",
      "Fitting 3 folds for each of 3 candidates, totalling 9 fits\n",
      "fitted in 309.06 s\n",
      "best validation score for LDA: -0.7389829681841174\n",
      "{'solver': 'svd'}\n",
      "predicted in 0.05 s\n"
     ]
    },
    {
     "name": "stderr",
     "output_type": "stream",
     "text": [
      "Pandas Apply: 100%|██████████| 13494/13494 [00:00<00:00, 144223.92it/s]\n"
     ]
    },
    {
     "name": "stdout",
     "output_type": "stream",
     "text": [
      "LDA fold 1 completed in 313.97 s\n",
      "Fitting 3 folds for each of 3 candidates, totalling 9 fits\n",
      "fitted in 1028.37 s\n",
      "best validation score for LDA: -0.7429427215185048\n",
      "{'solver': 'svd'}\n",
      "predicted in 0.04 s\n"
     ]
    },
    {
     "name": "stderr",
     "output_type": "stream",
     "text": [
      "Pandas Apply: 100%|██████████| 11524/11524 [00:00<00:00, 195201.30it/s]\n"
     ]
    },
    {
     "name": "stdout",
     "output_type": "stream",
     "text": [
      "LDA fold 2 completed in 1034.72 s\n",
      "Fitting 3 folds for each of 3 candidates, totalling 9 fits\n",
      "fitted in 273.98 s\n",
      "best validation score for LDA: -0.7056006134716261\n",
      "{'solver': 'svd'}\n",
      "predicted in 0.05 s\n"
     ]
    },
    {
     "name": "stderr",
     "output_type": "stream",
     "text": [
      "Pandas Apply: 100%|██████████| 19319/19319 [00:00<00:00, 182089.35it/s]\n"
     ]
    },
    {
     "name": "stdout",
     "output_type": "stream",
     "text": [
      "LDA fold 3 completed in 280.61 s\n",
      "Fitting 3 folds for each of 3 candidates, totalling 9 fits\n",
      "fitted in 215.66 s\n",
      "best validation score for LDA: -0.722760016949433\n",
      "{'solver': 'svd'}\n",
      "predicted in 0.07 s\n"
     ]
    },
    {
     "name": "stderr",
     "output_type": "stream",
     "text": [
      "Pandas Apply: 100%|██████████| 25883/25883 [00:00<00:00, 180865.95it/s]\n"
     ]
    },
    {
     "name": "stdout",
     "output_type": "stream",
     "text": [
      "LDA fold 4 completed in 222.13 s\n",
      "Fitting 3 folds for each of 3 candidates, totalling 9 fits\n",
      "fitted in 291.51 s\n",
      "best validation score for LDA: -0.6931896037728172\n",
      "{'solver': 'svd'}\n",
      "predicted in 0.04 s\n"
     ]
    },
    {
     "name": "stderr",
     "output_type": "stream",
     "text": [
      "Pandas Apply: 100%|██████████| 16532/16532 [00:00<00:00, 155419.45it/s]\n"
     ]
    },
    {
     "name": "stdout",
     "output_type": "stream",
     "text": [
      "LDA fold 5 completed in 297.90 s\n",
      "stored LDA for ternary classification in 2150.06 s\n"
     ]
    },
    {
     "data": {
      "text/html": [
       "<div>\n",
       "<style scoped>\n",
       "    .dataframe tbody tr th:only-of-type {\n",
       "        vertical-align: middle;\n",
       "    }\n",
       "\n",
       "    .dataframe tbody tr th {\n",
       "        vertical-align: top;\n",
       "    }\n",
       "\n",
       "    .dataframe thead th {\n",
       "        text-align: right;\n",
       "    }\n",
       "</style>\n",
       "<table border=\"1\" class=\"dataframe\">\n",
       "  <thead>\n",
       "    <tr style=\"text-align: right;\">\n",
       "      <th></th>\n",
       "      <th>model_name</th>\n",
       "      <th>case</th>\n",
       "      <th>balanced_accuracy</th>\n",
       "      <th>f1</th>\n",
       "      <th>geometric_mean</th>\n",
       "      <th>roc_auc</th>\n",
       "      <th>fit_time</th>\n",
       "      <th>predict_time</th>\n",
       "    </tr>\n",
       "  </thead>\n",
       "  <tbody>\n",
       "    <tr>\n",
       "      <th>0</th>\n",
       "      <td>LDA</td>\n",
       "      <td>ternary</td>\n",
       "      <td>0.330165</td>\n",
       "      <td>0.568002</td>\n",
       "      <td>0.548178</td>\n",
       "      <td>0.661064</td>\n",
       "      <td>423.71792</td>\n",
       "      <td>0.051526</td>\n",
       "    </tr>\n",
       "  </tbody>\n",
       "</table>\n",
       "</div>"
      ],
      "text/plain": [
       "  model_name     case  balanced_accuracy        f1  geometric_mean   roc_auc  \\\n",
       "0        LDA  ternary           0.330165  0.568002        0.548178  0.661064   \n",
       "\n",
       "    fit_time  predict_time  \n",
       "0  423.71792      0.051526  "
      ]
     },
     "execution_count": 9,
     "metadata": {},
     "output_type": "execute_result"
    },
    {
     "name": "stdout",
     "output_type": "stream",
     "text": [
      "time: 35min 50s\n"
     ]
    }
   ],
   "source": [
    "model = \"LDA\"\n",
    "eval_begin = time()\n",
    "\n",
    "print(f\"evaluating {model}...\")\n",
    "_ = gc_collect()\n",
    "store_result(\n",
    "    where=results_,\n",
    "    case=case,\n",
    "    model_name=model,\n",
    "    avg_scores=evaluate_model(model, case),\n",
    ")\n",
    "print(f\"stored {model} for {case} classification in {time() - eval_begin:.2f} s\")\n",
    "\n",
    "del model\n",
    "del eval_begin\n",
    "_ = gc_collect()\n",
    "\n",
    "create_results_df(results_)"
   ]
  },
  {
   "cell_type": "code",
   "execution_count": 10,
   "metadata": {},
   "outputs": [
    {
     "name": "stdout",
     "output_type": "stream",
     "text": [
      "evaluating LogReg...\n",
      "Fitting 3 folds for each of 46 candidates, totalling 138 fits\n",
      "fitted in 6094.22 s\n",
      "best validation score for LogReg: -0.720536142430146\n",
      "{'C': 10.0, 'fit_intercept': True, 'penalty': 'l2', 'solver': 'sag'}\n",
      "predicted in 0.43 s\n"
     ]
    },
    {
     "name": "stderr",
     "output_type": "stream",
     "text": [
      "Pandas Apply: 100%|██████████| 13494/13494 [00:00<00:00, 150267.06it/s]\n"
     ]
    },
    {
     "name": "stdout",
     "output_type": "stream",
     "text": [
      "LogReg fold 1 completed in 6101.16 s\n",
      "Fitting 3 folds for each of 46 candidates, totalling 138 fits\n",
      "fitted in 6344.34 s\n",
      "best validation score for LogReg: -0.7259246999547759\n",
      "{'C': 10.0, 'fit_intercept': True, 'penalty': 'l2', 'solver': 'sag'}\n",
      "predicted in 0.27 s\n"
     ]
    },
    {
     "name": "stderr",
     "output_type": "stream",
     "text": [
      "Pandas Apply: 100%|██████████| 11524/11524 [00:00<00:00, 171826.58it/s]\n"
     ]
    },
    {
     "name": "stdout",
     "output_type": "stream",
     "text": [
      "LogReg fold 2 completed in 6351.01 s\n",
      "Fitting 3 folds for each of 46 candidates, totalling 138 fits\n",
      "fitted in 5933.25 s\n",
      "best validation score for LogReg: -0.6849682780890382\n",
      "{'C': 10.0, 'fit_intercept': True, 'penalty': 'l2', 'solver': 'sag'}\n",
      "predicted in 0.45 s\n"
     ]
    },
    {
     "name": "stderr",
     "output_type": "stream",
     "text": [
      "Pandas Apply: 100%|██████████| 19319/19319 [00:00<00:00, 169472.94it/s]\n"
     ]
    },
    {
     "name": "stdout",
     "output_type": "stream",
     "text": [
      "LogReg fold 3 completed in 5940.05 s\n",
      "Fitting 3 folds for each of 46 candidates, totalling 138 fits\n",
      "fitted in 4632.34 s\n",
      "best validation score for LogReg: -0.703285884463802\n",
      "{'C': 10.0, 'fit_intercept': True, 'penalty': 'l2', 'solver': 'sag'}\n",
      "predicted in 0.52 s\n"
     ]
    },
    {
     "name": "stderr",
     "output_type": "stream",
     "text": [
      "Pandas Apply: 100%|██████████| 25883/25883 [00:00<00:00, 152302.64it/s]\n"
     ]
    },
    {
     "name": "stdout",
     "output_type": "stream",
     "text": [
      "LogReg fold 4 completed in 4638.83 s\n",
      "Fitting 3 folds for each of 46 candidates, totalling 138 fits\n",
      "fitted in 6033.02 s\n",
      "best validation score for LogReg: -0.672201836584145\n",
      "{'C': 10.0, 'fit_intercept': True, 'penalty': 'l2', 'solver': 'sag'}\n",
      "predicted in 0.35 s\n"
     ]
    },
    {
     "name": "stderr",
     "output_type": "stream",
     "text": [
      "Pandas Apply: 100%|██████████| 16532/16532 [00:00<00:00, 116686.86it/s]\n"
     ]
    },
    {
     "name": "stdout",
     "output_type": "stream",
     "text": [
      "LogReg fold 5 completed in 6039.55 s\n",
      "stored LogReg for ternary classification in 29071.39 s\n"
     ]
    },
    {
     "data": {
      "text/html": [
       "<div>\n",
       "<style scoped>\n",
       "    .dataframe tbody tr th:only-of-type {\n",
       "        vertical-align: middle;\n",
       "    }\n",
       "\n",
       "    .dataframe tbody tr th {\n",
       "        vertical-align: top;\n",
       "    }\n",
       "\n",
       "    .dataframe thead th {\n",
       "        text-align: right;\n",
       "    }\n",
       "</style>\n",
       "<table border=\"1\" class=\"dataframe\">\n",
       "  <thead>\n",
       "    <tr style=\"text-align: right;\">\n",
       "      <th></th>\n",
       "      <th>model_name</th>\n",
       "      <th>case</th>\n",
       "      <th>balanced_accuracy</th>\n",
       "      <th>f1</th>\n",
       "      <th>geometric_mean</th>\n",
       "      <th>roc_auc</th>\n",
       "      <th>fit_time</th>\n",
       "      <th>predict_time</th>\n",
       "    </tr>\n",
       "  </thead>\n",
       "  <tbody>\n",
       "    <tr>\n",
       "      <th>0</th>\n",
       "      <td>LogReg</td>\n",
       "      <td>ternary</td>\n",
       "      <td>0.332704</td>\n",
       "      <td>0.573607</td>\n",
       "      <td>0.548067</td>\n",
       "      <td>0.662231</td>\n",
       "      <td>5807.434518</td>\n",
       "      <td>0.403741</td>\n",
       "    </tr>\n",
       "    <tr>\n",
       "      <th>1</th>\n",
       "      <td>LDA</td>\n",
       "      <td>ternary</td>\n",
       "      <td>0.330165</td>\n",
       "      <td>0.568002</td>\n",
       "      <td>0.548178</td>\n",
       "      <td>0.661064</td>\n",
       "      <td>423.717920</td>\n",
       "      <td>0.051526</td>\n",
       "    </tr>\n",
       "  </tbody>\n",
       "</table>\n",
       "</div>"
      ],
      "text/plain": [
       "  model_name     case  balanced_accuracy        f1  geometric_mean   roc_auc  \\\n",
       "0     LogReg  ternary           0.332704  0.573607        0.548067  0.662231   \n",
       "1        LDA  ternary           0.330165  0.568002        0.548178  0.661064   \n",
       "\n",
       "      fit_time  predict_time  \n",
       "0  5807.434518      0.403741  \n",
       "1   423.717920      0.051526  "
      ]
     },
     "execution_count": 10,
     "metadata": {},
     "output_type": "execute_result"
    },
    {
     "name": "stdout",
     "output_type": "stream",
     "text": [
      "time: 8h 4min 31s\n"
     ]
    }
   ],
   "source": [
    "model = \"LogReg\"\n",
    "eval_begin = time()\n",
    "\n",
    "print(f\"evaluating {model}...\")\n",
    "_ = gc_collect()\n",
    "store_result(\n",
    "    where=results_,\n",
    "    case=case,\n",
    "    model_name=model,\n",
    "    avg_scores=evaluate_model(model, case),\n",
    ")\n",
    "print(f\"stored {model} for {case} classification in {time() - eval_begin:.2f} s\")\n",
    "\n",
    "del model\n",
    "del eval_begin\n",
    "_ = gc_collect()\n",
    "\n",
    "create_results_df(results_)"
   ]
  },
  {
   "cell_type": "code",
   "execution_count": 11,
   "metadata": {},
   "outputs": [
    {
     "name": "stdout",
     "output_type": "stream",
     "text": [
      "evaluating Ridge...\n",
      "Fitting 3 folds for each of 40 candidates, totalling 120 fits\n",
      "fitted in 2904.67 s\n",
      "best validation score for Ridge: 0.6885246533347139\n",
      "{'alpha': 0.4, 'fit_intercept': True, 'solver': 'auto'}\n",
      "predicted in 0.05 s\n"
     ]
    },
    {
     "name": "stderr",
     "output_type": "stream",
     "text": [
      "Pandas Apply: 100%|██████████| 13494/13494 [00:00<00:00, 157582.44it/s]\n"
     ]
    },
    {
     "name": "stdout",
     "output_type": "stream",
     "text": [
      "Ridge fold 1 completed in 2909.48 s\n",
      "Fitting 3 folds for each of 40 candidates, totalling 120 fits\n",
      "fitted in 3223.44 s\n",
      "best validation score for Ridge: 0.6867746840443946\n",
      "{'alpha': 0.2, 'fit_intercept': True, 'solver': 'auto'}\n",
      "predicted in 0.04 s\n"
     ]
    },
    {
     "name": "stderr",
     "output_type": "stream",
     "text": [
      "Pandas Apply: 100%|██████████| 11524/11524 [00:00<00:00, 195567.76it/s]\n"
     ]
    },
    {
     "name": "stdout",
     "output_type": "stream",
     "text": [
      "Ridge fold 2 completed in 3229.40 s\n",
      "Fitting 3 folds for each of 40 candidates, totalling 120 fits\n",
      "fitted in 3012.84 s\n",
      "best validation score for Ridge: 0.7050731858896341\n",
      "{'alpha': 0.2, 'fit_intercept': True, 'solver': 'auto'}\n",
      "predicted in 0.08 s\n"
     ]
    },
    {
     "name": "stderr",
     "output_type": "stream",
     "text": [
      "Pandas Apply: 100%|██████████| 19319/19319 [00:00<00:00, 160986.38it/s]\n"
     ]
    },
    {
     "name": "stdout",
     "output_type": "stream",
     "text": [
      "Ridge fold 3 completed in 3019.13 s\n",
      "Fitting 3 folds for each of 40 candidates, totalling 120 fits\n",
      "fitted in 2217.49 s\n",
      "best validation score for Ridge: 0.7009519847542776\n",
      "{'alpha': 0.2, 'fit_intercept': True, 'solver': 'auto'}\n",
      "predicted in 0.08 s\n"
     ]
    },
    {
     "name": "stderr",
     "output_type": "stream",
     "text": [
      "Pandas Apply: 100%|██████████| 25883/25883 [00:00<00:00, 144067.27it/s]\n"
     ]
    },
    {
     "name": "stdout",
     "output_type": "stream",
     "text": [
      "Ridge fold 4 completed in 2223.75 s\n",
      "Fitting 3 folds for each of 40 candidates, totalling 120 fits\n",
      "fitted in 2885.93 s\n",
      "best validation score for Ridge: 0.7085980462459743\n",
      "{'alpha': 0.4, 'fit_intercept': True, 'solver': 'auto'}\n",
      "predicted in 0.08 s\n"
     ]
    },
    {
     "name": "stderr",
     "output_type": "stream",
     "text": [
      "Pandas Apply: 100%|██████████| 16532/16532 [00:00<00:00, 133710.19it/s]\n"
     ]
    },
    {
     "name": "stdout",
     "output_type": "stream",
     "text": [
      "Ridge fold 5 completed in 2892.37 s\n",
      "stored Ridge for ternary classification in 14274.91 s\n"
     ]
    },
    {
     "data": {
      "text/html": [
       "<div>\n",
       "<style scoped>\n",
       "    .dataframe tbody tr th:only-of-type {\n",
       "        vertical-align: middle;\n",
       "    }\n",
       "\n",
       "    .dataframe tbody tr th {\n",
       "        vertical-align: top;\n",
       "    }\n",
       "\n",
       "    .dataframe thead th {\n",
       "        text-align: right;\n",
       "    }\n",
       "</style>\n",
       "<table border=\"1\" class=\"dataframe\">\n",
       "  <thead>\n",
       "    <tr style=\"text-align: right;\">\n",
       "      <th></th>\n",
       "      <th>model_name</th>\n",
       "      <th>case</th>\n",
       "      <th>balanced_accuracy</th>\n",
       "      <th>f1</th>\n",
       "      <th>geometric_mean</th>\n",
       "      <th>roc_auc</th>\n",
       "      <th>fit_time</th>\n",
       "      <th>predict_time</th>\n",
       "    </tr>\n",
       "  </thead>\n",
       "  <tbody>\n",
       "    <tr>\n",
       "      <th>0</th>\n",
       "      <td>Ridge</td>\n",
       "      <td>ternary</td>\n",
       "      <td>0.333621</td>\n",
       "      <td>0.568958</td>\n",
       "      <td>0.547925</td>\n",
       "      <td>0.662899</td>\n",
       "      <td>2848.872903</td>\n",
       "      <td>0.06651</td>\n",
       "    </tr>\n",
       "  </tbody>\n",
       "</table>\n",
       "</div>"
      ],
      "text/plain": [
       "  model_name     case  balanced_accuracy        f1  geometric_mean   roc_auc  \\\n",
       "0      Ridge  ternary           0.333621  0.568958        0.547925  0.662899   \n",
       "\n",
       "      fit_time  predict_time  \n",
       "0  2848.872903       0.06651  "
      ]
     },
     "execution_count": 11,
     "metadata": {},
     "output_type": "execute_result"
    },
    {
     "name": "stdout",
     "output_type": "stream",
     "text": [
      "time: 3h 57min 55s\n"
     ]
    }
   ],
   "source": [
    "model = \"Ridge\"\n",
    "eval_begin = time()\n",
    "\n",
    "print(f\"evaluating {model}...\")\n",
    "_ = gc_collect()\n",
    "store_result(\n",
    "    where=results_,\n",
    "    case=case,\n",
    "    model_name=model,\n",
    "    avg_scores=evaluate_model(model, case),\n",
    ")\n",
    "print(f\"stored {model} for {case} classification in {time() - eval_begin:.2f} s\")\n",
    "\n",
    "del model\n",
    "del eval_begin\n",
    "_ = gc_collect()\n",
    "\n",
    "create_results_df(results_)"
   ]
  },
  {
   "cell_type": "code",
   "execution_count": 9,
   "metadata": {},
   "outputs": [
    {
     "name": "stdout",
     "output_type": "stream",
     "text": [
      "evaluating SGD...\n",
      "Fitting 3 folds for each of 32 candidates, totalling 96 fits\n",
      "fitted in 2981.10 s\n",
      "best validation score for SGD: -0.7891375687592892\n",
      "{'alpha': 0.001, 'loss': 'log', 'penalty': 'l2'}\n",
      "predicted in 0.06 s\n"
     ]
    },
    {
     "name": "stderr",
     "output_type": "stream",
     "text": [
      "Pandas Apply: 100%|██████████| 13494/13494 [00:00<00:00, 179462.92it/s]\n"
     ]
    },
    {
     "name": "stdout",
     "output_type": "stream",
     "text": [
      "SGD fold 1 completed in 2987.16 s\n",
      "Fitting 3 folds for each of 32 candidates, totalling 96 fits\n",
      "fitted in 3457.67 s\n",
      "best validation score for SGD: -0.7943150213328293\n",
      "{'alpha': 0.001, 'loss': 'log', 'penalty': 'l2'}\n",
      "predicted in 0.05 s\n"
     ]
    },
    {
     "name": "stderr",
     "output_type": "stream",
     "text": [
      "Pandas Apply: 100%|██████████| 11524/11524 [00:00<00:00, 184372.04it/s]\n"
     ]
    },
    {
     "name": "stdout",
     "output_type": "stream",
     "text": [
      "SGD fold 2 completed in 3463.88 s\n",
      "Fitting 3 folds for each of 32 candidates, totalling 96 fits\n",
      "fitted in 2785.12 s\n",
      "best validation score for SGD: -0.761354393844464\n",
      "{'alpha': 0.001, 'loss': 'log', 'penalty': 'l2'}\n",
      "predicted in 0.06 s\n"
     ]
    },
    {
     "name": "stderr",
     "output_type": "stream",
     "text": [
      "Pandas Apply: 100%|██████████| 19319/19319 [00:00<00:00, 176096.14it/s]\n"
     ]
    },
    {
     "name": "stdout",
     "output_type": "stream",
     "text": [
      "SGD fold 3 completed in 2791.44 s\n",
      "Fitting 3 folds for each of 32 candidates, totalling 96 fits\n",
      "fitted in 1339.87 s\n",
      "best validation score for SGD: -0.7711594661163496\n",
      "{'alpha': 0.001, 'loss': 'log', 'penalty': 'l2'}\n",
      "predicted in 0.08 s\n"
     ]
    },
    {
     "name": "stderr",
     "output_type": "stream",
     "text": [
      "Pandas Apply: 100%|██████████| 25883/25883 [00:00<00:00, 168972.85it/s]\n"
     ]
    },
    {
     "name": "stdout",
     "output_type": "stream",
     "text": [
      "SGD fold 4 completed in 1346.14 s\n",
      "Fitting 3 folds for each of 32 candidates, totalling 96 fits\n",
      "fitted in 3492.11 s\n",
      "best validation score for SGD: -0.7493735407331922\n",
      "{'alpha': 0.001, 'loss': 'log', 'penalty': 'l2'}\n",
      "predicted in 0.06 s\n"
     ]
    },
    {
     "name": "stderr",
     "output_type": "stream",
     "text": [
      "Pandas Apply: 100%|██████████| 16532/16532 [00:00<00:00, 211502.45it/s]\n"
     ]
    },
    {
     "name": "stdout",
     "output_type": "stream",
     "text": [
      "SGD fold 5 completed in 3498.59 s\n",
      "stored SGD for ternary classification in 14087.94 s\n"
     ]
    },
    {
     "data": {
      "text/html": [
       "<div>\n",
       "<style scoped>\n",
       "    .dataframe tbody tr th:only-of-type {\n",
       "        vertical-align: middle;\n",
       "    }\n",
       "\n",
       "    .dataframe tbody tr th {\n",
       "        vertical-align: top;\n",
       "    }\n",
       "\n",
       "    .dataframe thead th {\n",
       "        text-align: right;\n",
       "    }\n",
       "</style>\n",
       "<table border=\"1\" class=\"dataframe\">\n",
       "  <thead>\n",
       "    <tr style=\"text-align: right;\">\n",
       "      <th></th>\n",
       "      <th>model_name</th>\n",
       "      <th>case</th>\n",
       "      <th>balanced_accuracy</th>\n",
       "      <th>f1</th>\n",
       "      <th>geometric_mean</th>\n",
       "      <th>roc_auc</th>\n",
       "      <th>fit_time</th>\n",
       "      <th>predict_time</th>\n",
       "    </tr>\n",
       "  </thead>\n",
       "  <tbody>\n",
       "    <tr>\n",
       "      <th>0</th>\n",
       "      <td>SGD</td>\n",
       "      <td>ternary</td>\n",
       "      <td>0.326809</td>\n",
       "      <td>0.566105</td>\n",
       "      <td>0.543381</td>\n",
       "      <td>0.658907</td>\n",
       "      <td>2811.174142</td>\n",
       "      <td>0.062513</td>\n",
       "    </tr>\n",
       "  </tbody>\n",
       "</table>\n",
       "</div>"
      ],
      "text/plain": [
       "  model_name     case  balanced_accuracy        f1  geometric_mean   roc_auc  \\\n",
       "0        SGD  ternary           0.326809  0.566105        0.543381  0.658907   \n",
       "\n",
       "      fit_time  predict_time  \n",
       "0  2811.174142      0.062513  "
      ]
     },
     "execution_count": 9,
     "metadata": {},
     "output_type": "execute_result"
    },
    {
     "name": "stdout",
     "output_type": "stream",
     "text": [
      "time: 3h 54min 48s\n"
     ]
    }
   ],
   "source": [
    "model = \"SGD\"\n",
    "eval_begin = time()\n",
    "\n",
    "print(f\"evaluating {model}...\")\n",
    "_ = gc_collect()\n",
    "store_result(\n",
    "    where=results_,\n",
    "    case=case,\n",
    "    model_name=model,\n",
    "    avg_scores=evaluate_model(model, case),\n",
    ")\n",
    "print(f\"stored {model} for {case} classification in {time() - eval_begin:.2f} s\")\n",
    "\n",
    "del model\n",
    "del eval_begin\n",
    "_ = gc_collect()\n",
    "\n",
    "create_results_df(results_)"
   ]
  },
  {
   "cell_type": "code",
   "execution_count": 10,
   "metadata": {},
   "outputs": [
    {
     "name": "stderr",
     "output_type": "stream",
     "text": [
      "Pandas Apply: 100%|██████████| 5/5 [00:00<?, ?it/s]\n"
     ]
    },
    {
     "name": "stdout",
     "output_type": "stream",
     "text": [
      "time: 203 ms\n"
     ]
    }
   ],
   "source": [
    "# save predictions\n",
    "predictions_df = pd.DataFrame(predictions_)[[\"model\", \"case\", \"fold\", \"y_pred\"]]\n",
    "predictions_df.case = predictions_df.case.astype(\"category\")\n",
    "predictions_df.fold = predictions_df.fold.astype(np.uint8)\n",
    "predictions_df.y_pred = predictions_df.y_pred.swifter.apply(np.int8)\n",
    "predictions_df.to_feather(f\"{DATA_OUT_FOLDER}/initial_tuning_predictions_CV5.feather\")\n",
    "del predictions_df\n",
    "_ = gc_collect()"
   ]
  },
  {
   "cell_type": "markdown",
   "metadata": {},
   "source": [
    "Let's peek at the results."
   ]
  },
  {
   "cell_type": "code",
   "execution_count": 11,
   "metadata": {},
   "outputs": [
    {
     "data": {
      "text/html": [
       "<div>\n",
       "<style scoped>\n",
       "    .dataframe tbody tr th:only-of-type {\n",
       "        vertical-align: middle;\n",
       "    }\n",
       "\n",
       "    .dataframe tbody tr th {\n",
       "        vertical-align: top;\n",
       "    }\n",
       "\n",
       "    .dataframe thead th {\n",
       "        text-align: right;\n",
       "    }\n",
       "</style>\n",
       "<table border=\"1\" class=\"dataframe\">\n",
       "  <thead>\n",
       "    <tr style=\"text-align: right;\">\n",
       "      <th></th>\n",
       "      <th>model_name</th>\n",
       "      <th>case</th>\n",
       "      <th>balanced_accuracy</th>\n",
       "      <th>f1</th>\n",
       "      <th>geometric_mean</th>\n",
       "      <th>roc_auc</th>\n",
       "      <th>fit_time</th>\n",
       "      <th>predict_time</th>\n",
       "    </tr>\n",
       "  </thead>\n",
       "  <tbody>\n",
       "    <tr>\n",
       "      <th>0</th>\n",
       "      <td>SGD</td>\n",
       "      <td>ternary</td>\n",
       "      <td>0.326809</td>\n",
       "      <td>0.566105</td>\n",
       "      <td>0.543381</td>\n",
       "      <td>0.658907</td>\n",
       "      <td>2811.174142</td>\n",
       "      <td>0.062513</td>\n",
       "    </tr>\n",
       "  </tbody>\n",
       "</table>\n",
       "</div>"
      ],
      "text/plain": [
       "  model_name     case  balanced_accuracy        f1  geometric_mean   roc_auc  \\\n",
       "0        SGD  ternary           0.326809  0.566105        0.543381  0.658907   \n",
       "\n",
       "      fit_time  predict_time  \n",
       "0  2811.174142      0.062513  "
      ]
     },
     "execution_count": 11,
     "metadata": {},
     "output_type": "execute_result"
    },
    {
     "name": "stdout",
     "output_type": "stream",
     "text": [
      "time: 20.1 ms\n"
     ]
    }
   ],
   "source": [
    "results_df = create_results_df(results_)\n",
    "results_df"
   ]
  },
  {
   "cell_type": "markdown",
   "metadata": {},
   "source": [
    "# Results\n",
    "\n",
    "In this section, we create several visualizations to display the results.\n",
    "\n",
    "Note that the charts depicting fit and predict times do not account for the dimensionality reduction step."
   ]
  },
  {
   "cell_type": "code",
   "execution_count": 12,
   "metadata": {},
   "outputs": [
    {
     "name": "stdout",
     "output_type": "stream",
     "text": [
      "time: 115 ms\n"
     ]
    }
   ],
   "source": [
    "METRIC_NAMES = {\n",
    "    \"balanced_accuracy\": \"Balanced Accuracy\",\n",
    "    \"f1\": \"F1 Score\",\n",
    "    \"geometric_mean\": \"Geometric Mean\",\n",
    "    \"roc_auc\": \"Area Under ROC Curve\",\n",
    "    \"fit_time\": \"Fit Time\",\n",
    "    \"predict_time\": \"Predict Time\",\n",
    "}\n",
    "\n",
    "_ = gc_collect()"
   ]
  },
  {
   "cell_type": "code",
   "execution_count": 13,
   "metadata": {},
   "outputs": [
    {
     "name": "stdout",
     "output_type": "stream",
     "text": [
      "time: 162 ms\n"
     ]
    }
   ],
   "source": [
    "def plot_ternary_metric(metric: str, results_df: pd.DataFrame) -> None:\n",
    "    \"\"\"Draw a barplot by ternary classifier.\"\"\"\n",
    "    time_metric = \"time\" in metric\n",
    "    results_df = results_df.sort_values(by=metric, ascending=time_metric)\n",
    "\n",
    "    if time_metric:\n",
    "        # When plotting fit/predict times, the pure dummy classifiers are omitted since it is always the fastest.\n",
    "        results_df = results_df.loc[\n",
    "            ~results_df.model_name.isin((\"Dummy\", \"Dummy+Dummy\"))\n",
    "        ]\n",
    "\n",
    "    g = sns.catplot(\n",
    "        x=metric,\n",
    "        y=\"model_name\",\n",
    "        data=results_df,\n",
    "        seed=SEED,\n",
    "        kind=\"bar\",\n",
    "        palette=\"colorblind\",\n",
    "        alpha=0.65,\n",
    "    )\n",
    "    g.fig.set_figwidth(8)\n",
    "    g.fig.set_figheight(4)\n",
    "    g.despine(**dict.fromkeys((\"bottom\", \"left\", \"top\", \"right\"), True))\n",
    "\n",
    "    ax = plt.gca()\n",
    "    ax.tick_params(axis=\"x\", labelbottom=True, labeltop=True)\n",
    "    plt.setp(ax.patches, linewidth=0)\n",
    "\n",
    "    if not time_metric:\n",
    "        plt.xlim(0, 1)\n",
    "    plt.xlabel(\"\")\n",
    "    plt.ylabel(\"\")\n",
    "\n",
    "    plt.suptitle(\n",
    "        f\"{METRIC_NAMES[metric]}{' (s)' if time_metric else ''}\", y=1, fontweight=\"bold\"\n",
    "    )\n",
    "    plt.tight_layout()\n",
    "    plt.show()\n",
    "\n",
    "\n",
    "_ = gc_collect()"
   ]
  },
  {
   "cell_type": "code",
   "execution_count": 14,
   "metadata": {},
   "outputs": [
    {
     "data": {
      "application/vnd.jupyter.widget-view+json": {
       "model_id": "6fb0e7e20b9a4286a2df0c656c9daadc",
       "version_major": 2,
       "version_minor": 0
      },
      "text/plain": [
       "  0%|          | 0/6 [00:00<?, ?it/s]"
      ]
     },
     "metadata": {},
     "output_type": "display_data"
    },
    {
     "data": {
      "image/png": "[encoded data removed]",
      "text/plain": [
       "<Figure size 576x288 with 1 Axes>"
      ]
     },
     "metadata": {
      "needs_background": "light"
     },
     "output_type": "display_data"
    },
    {
     "data": {
      "image/png": "[encoded data removed]",
      "text/plain": [
       "<Figure size 576x288 with 1 Axes>"
      ]
     },
     "metadata": {
      "needs_background": "light"
     },
     "output_type": "display_data"
    },
    {
     "data": {
      "image/png": "[encoded data removed]",
      "text/plain": [
       "<Figure size 576x288 with 1 Axes>"
      ]
     },
     "metadata": {
      "needs_background": "light"
     },
     "output_type": "display_data"
    },
    {
     "data": {
      "image/png": "[encoded data removed]",
      "text/plain": [
       "<Figure size 576x288 with 1 Axes>"
      ]
     },
     "metadata": {
      "needs_background": "light"
     },
     "output_type": "display_data"
    },
    {
     "data": {
      "image/png": "[encoded data removed]",
      "text/plain": [
       "<Figure size 576x288 with 1 Axes>"
      ]
     },
     "metadata": {
      "needs_background": "light"
     },
     "output_type": "display_data"
    },
    {
     "data": {
      "image/png": "[encoded data removed]",
      "text/plain": [
       "<Figure size 576x288 with 1 Axes>"
      ]
     },
     "metadata": {
      "needs_background": "light"
     },
     "output_type": "display_data"
    },
    {
     "name": "stdout",
     "output_type": "stream",
     "text": [
      "time: 2.58 s\n"
     ]
    }
   ],
   "source": [
    "for metric in tqdm(METRICS):\n",
    "    plot_ternary_metric(metric, results_df.loc[results_df.case.str.contains(\"ternary\")])"
   ]
  },
  {
   "cell_type": "code",
   "execution_count": 15,
   "metadata": {},
   "outputs": [
    {
     "name": "stdout",
     "output_type": "stream",
     "text": [
      "time: 5.02 ms\n"
     ]
    }
   ],
   "source": [
    "# save table of results\n",
    "results_df.to_csv(f\"{DATA_OUT_FOLDER}/initial_tuning_results_CV5.csv\")"
   ]
  },
  {
   "cell_type": "markdown",
   "metadata": {},
   "source": [
    "# Discussion\n",
    "\n",
    "I underestimated the size of my parameter grids and as a result, initial tuning took a long time. Nonetheless, these results provide an estimate of the expected magnitude of improvement from thorough hyperparameter tuning.\n",
    "\n",
    "However, higher scores have been obtained on the untransformed data, whereas the data used herein were scaled, reduced in dimension, undersampled, and oversampled to balance class distribution. The preprocessing steps much be more carefully considered."
   ]
  },
  {
   "cell_type": "code",
   "execution_count": 16,
   "metadata": {},
   "outputs": [
    {
     "name": "stdout",
     "output_type": "stream",
     "text": [
      "Time elapsed since notebook_begin_time: 14128.298686265945 s\n",
      "time: 123 ms\n"
     ]
    }
   ],
   "source": [
    "print(f\"Time elapsed since notebook_begin_time: {time() - notebook_begin_time} s\")\n",
    "_ = gc_collect()"
   ]
  },
  {
   "cell_type": "markdown",
   "metadata": {},
   "source": [
    "[^top](#Contents)"
   ]
  },
  {
   "cell_type": "code",
   "execution_count": null,
   "metadata": {},
   "outputs": [],
   "source": []
  }
 ],
 "metadata": {
  "interpreter": {
   "hash": "e1781be99c106060f3abc0c9b91d3d379f24672894e2158d4b74304109955878"
  },
  "kernelspec": {
   "display_name": "Python 3 (ipykernel)",
   "language": "python",
   "name": "python3"
  },
  "language_info": {
   "codemirror_mode": {
    "name": "ipython",
    "version": 3
   },
   "file_extension": ".py",
   "mimetype": "text/x-python",
   "name": "python",
   "nbconvert_exporter": "python",
   "pygments_lexer": "ipython3",
   "version": "3.8.12"
  }
 },
 "nbformat": 4,
 "nbformat_minor": 4
}
