{
 "cells": [
  {
   "cell_type": "markdown",
   "metadata": {},
   "source": [
    "# Contents\n",
    "* [Introduction](#Introduction)\n",
    "  * [FRILL](#FRILL)\n",
    "* [Imports and configuration](#Imports-and-configuration)\n",
    "* [Data loading](#Data-loading)\n",
    "* [Strata](#Strata)\n",
    "* [Setup](#Setup)\n",
    "* [Models](#Models)\n",
    "* [Test harness](#Test-harness)\n",
    "* [Metaclassifier](#Metaclassifier)\n",
    "* [Results](#Results)\n",
    "* [Discussion](#Discussion)"
   ]
  },
  {
   "cell_type": "markdown",
   "metadata": {},
   "source": [
    "# Introduction\n",
    "\n",
    "In an earlier notebook, we investigated pipelines with a neutral/non-neutral classifier that passes its non-neutral predictions to a separate binary classifier. In this notebook, we use a negative/non-negative classifier trained on the same data used with the neutral/non-neutral classifier instead of a positive-vs-negative classifier.\n",
    "\n",
    "A test harness is prepared for multinomial ternary classification on FRILL embeddings. The results are visualized and discussed."
   ]
  },
  {
   "cell_type": "markdown",
   "metadata": {},
   "source": [
    "## FRILL\n",
    "\n",
    "Here are two abstracts to introduce the FRILL embedding:"
   ]
  },
  {
   "cell_type": "markdown",
   "metadata": {},
   "source": [
    "  [Towards Learning a Universal Non-Semantic Representation of Speech (2020)](#https://doi.org/10.21437/Interspeech.2020-1242)\n",
    "> The ultimate goal of transfer learning is to reduce labeled data requirements by exploiting a pre-existing embedding model trained for different datasets or tasks. The visual and language communities have established benchmarks to compare embeddings, but the speech community has yet to do so. This paper proposes a benchmark for comparing speech representations on non-semantic tasks, and proposes a representation based on an unsupervised triplet-loss objective. The proposed representation outperforms other representations on the benchmark, and even exceeds state-of-the-art performance on a number of transfer learning tasks. The embedding is trained on a publicly available dataset, and it is tested on a variety of low-resource downstream tasks, including personalization tasks and medical domain. The benchmark, models, and evaluation code are publicly released.\n",
    "\n",
    "  [FRILL: A Non-Semantic Speech Embedding for Mobile Devices (2021)](#https://arxiv.org/abs/2011.04609)\n",
    "> Learned speech representations can drastically improve performance on tasks with limited labeled data. However, due to their size and complexity, learned representations have limited utility in mobile settings where run-time performance can be a significant bottleneck. In this work, we propose a class of lightweight non-semantic speech embedding models that run efficiently on mobile devices based on the recently proposed TRILL speech embedding. We combine novel architectural modifications with existing speed-up techniques to create embedding models that are fast enough to run in real-time on a mobile device and exhibit minimal performance degradation on a benchmark of non-semantic speech tasks. One such model (FRILL) is 32x faster on a Pixel 1 smartphone and 40% the size of TRILL, with an average decrease in accuracy of only 2%. To our knowledge, FRILL is the highest-quality non-semantic embedding designed for use on mobile devices. Furthermore, we demonstrate that these representations are useful for mobile health tasks such as non-speech human sounds detection and face-masked speech detection. Our models and code are publicly available.\n",
    "\n",
    "FRILL is therefore a promising embedding since non-semantic aspects of speech signals is what distinguishes each class for this data. And it's fast!\n",
    "\n",
    "Moreover, its output representation is a 2,048-element vector irrespective of input size. FRILL enables uniform handling of ragged sequences in an output format that is potentially more compact than spectrograms and MFCCs.\n",
    "\n",
    "Furthermore, the FRILL representations are not time series, affording the full armamentarium of classifiers."
   ]
  },
  {
   "cell_type": "markdown",
   "metadata": {},
   "source": [
    "# Imports and configuration"
   ]
  },
  {
   "cell_type": "code",
   "execution_count": 1,
   "metadata": {},
   "outputs": [],
   "source": [
    "from time import time\n",
    "\n",
    "notebook_begin_time = time()\n",
    "\n",
    "# set random seeds\n",
    "\n",
    "from os import environ\n",
    "from random import seed as random_seed\n",
    "from numpy.random import seed as np_seed\n",
    "from tensorflow.random import set_seed\n",
    "\n",
    "\n",
    "def reset_seeds(seed: int) -> None:\n",
    "    \"\"\"Utility function for resetting random seeds\"\"\"\n",
    "    environ[\"PYTHONHASHSEED\"] = str(seed)\n",
    "    random_seed(seed)\n",
    "    np_seed(seed)\n",
    "    set_seed(seed)\n",
    "\n",
    "\n",
    "reset_seeds(SEED := 2021)\n",
    "del environ\n",
    "del random_seed\n",
    "del np_seed\n",
    "del set_seed\n",
    "del reset_seeds"
   ]
  },
  {
   "cell_type": "code",
   "execution_count": 2,
   "metadata": {},
   "outputs": [],
   "source": [
    "# extensions\n",
    "%load_ext autotime\n",
    "%load_ext lab_black\n",
    "%load_ext nb_black"
   ]
  },
  {
   "cell_type": "code",
   "execution_count": 3,
   "metadata": {},
   "outputs": [
    {
     "name": "stderr",
     "output_type": "stream",
     "text": [
      "Intel(R) Extension for Scikit-learn* enabled (https://github.com/intel/scikit-learn-intelex)\n"
     ]
    },
    {
     "name": "stdout",
     "output_type": "stream",
     "text": [
      "time: 6.14 s\n"
     ]
    }
   ],
   "source": [
    "# core\n",
    "import numpy as np\n",
    "import pandas as pd\n",
    "\n",
    "# utility\n",
    "from collections import namedtuple\n",
    "from gc import collect as gc_collect\n",
    "from tqdm.notebook import tqdm\n",
    "\n",
    "# typing\n",
    "from typing import Dict, List\n",
    "\n",
    "# faster pandas & sklearn\n",
    "import swifter\n",
    "from sklearnex import patch_sklearn\n",
    "\n",
    "patch_sklearn()\n",
    "del patch_sklearn\n",
    "\n",
    "# metrics\n",
    "from imblearn.metrics import geometric_mean_score\n",
    "from sklearn.metrics import balanced_accuracy_score, f1_score\n",
    "\n",
    "# scale & resample\n",
    "from sklearn.preprocessing import MinMaxScaler\n",
    "from imblearn.over_sampling import ADASYN\n",
    "from imblearn.under_sampling import OneSidedSelection\n",
    "\n",
    "# cross validator\n",
    "from sklearn.model_selection import StratifiedGroupKFold\n",
    "\n",
    "# classifiers\n",
    "from sklearn.dummy import DummyClassifier\n",
    "from sklearn.linear_model import LogisticRegression, RidgeClassifier, SGDClassifier\n",
    "from sklearn.neural_network import MLPClassifier\n",
    "from sklearn.svm import SVC\n",
    "from lightgbm import LGBMClassifier\n",
    "\n",
    "# visualization\n",
    "import matplotlib.pyplot as plt\n",
    "import seaborn as sns\n",
    "\n",
    "sns.set_context(\"notebook\")\n",
    "sns.set_style(\"whitegrid\")\n",
    "%matplotlib inline\n",
    "\n",
    "# display outputs w/o print calls\n",
    "from IPython.core.interactiveshell import InteractiveShell\n",
    "\n",
    "InteractiveShell.ast_node_interactivity = \"all\"\n",
    "del InteractiveShell\n",
    "\n",
    "# hide warnings\n",
    "import warnings\n",
    "\n",
    "# warnings.filterwarnings(\"ignore\")\n",
    "del warnings"
   ]
  },
  {
   "cell_type": "code",
   "execution_count": 4,
   "metadata": {},
   "outputs": [
    {
     "name": "stdout",
     "output_type": "stream",
     "text": [
      "time: 112 ms\n"
     ]
    }
   ],
   "source": [
    "# Location of FRILL .feather files\n",
    "FRILL_FEATHERS_FOLDER = \"../1.0-mic-extract_FRILL_embeddings\"\n",
    "\n",
    "# Location where this notebook will output\n",
    "DATA_OUT_FOLDER = \".\"\n",
    "\n",
    "_ = gc_collect()"
   ]
  },
  {
   "cell_type": "markdown",
   "metadata": {},
   "source": [
    "# Data loading"
   ]
  },
  {
   "cell_type": "code",
   "execution_count": 5,
   "metadata": {},
   "outputs": [
    {
     "name": "stdout",
     "output_type": "stream",
     "text": [
      "time: 387 ms\n"
     ]
    }
   ],
   "source": [
    "keep_columns = [\n",
    "    \"id\",\n",
    "    \"source\",\n",
    "    \"speaker_id\",\n",
    "    \"speaker_gender\",\n",
    "    \"emo\",\n",
    "    \"valence\",\n",
    "    \"neg\",\n",
    "    \"neu\",\n",
    "    \"lang1\",\n",
    "    \"length\",\n",
    "]\n",
    "\n",
    "data = pd.read_feather(f\"{FRILL_FEATHERS_FOLDER}/dev_FRILL.feather\").set_index(\"id\")\n",
    "labels = pd.read_feather(\n",
    "    f\"{FRILL_FEATHERS_FOLDER}/dev_labels.feather\", columns=keep_columns\n",
    ").set_index(\"id\")"
   ]
  },
  {
   "cell_type": "code",
   "execution_count": 6,
   "metadata": {},
   "outputs": [
    {
     "name": "stdout",
     "output_type": "stream",
     "text": [
      "time: 135 ms\n"
     ]
    }
   ],
   "source": [
    "# uncomment lines to undersample data\n",
    "# data = data.sample(frac=0.02, random_state=SEED).sort_index()  # .head(300)\n",
    "# labels = labels.loc[data.index, :]  # .head(300)\n",
    "\n",
    "assert all(data.index == labels.index)\n",
    "_ = gc_collect()"
   ]
  },
  {
   "cell_type": "code",
   "execution_count": 7,
   "metadata": {},
   "outputs": [
    {
     "data": {
      "text/html": [
       "<div>\n",
       "<style scoped>\n",
       "    .dataframe tbody tr th:only-of-type {\n",
       "        vertical-align: middle;\n",
       "    }\n",
       "\n",
       "    .dataframe tbody tr th {\n",
       "        vertical-align: top;\n",
       "    }\n",
       "\n",
       "    .dataframe thead th {\n",
       "        text-align: right;\n",
       "    }\n",
       "</style>\n",
       "<table border=\"1\" class=\"dataframe\">\n",
       "  <thead>\n",
       "    <tr style=\"text-align: right;\">\n",
       "      <th></th>\n",
       "      <th>0</th>\n",
       "      <th>1</th>\n",
       "      <th>2</th>\n",
       "      <th>3</th>\n",
       "      <th>4</th>\n",
       "      <th>5</th>\n",
       "      <th>6</th>\n",
       "      <th>7</th>\n",
       "      <th>8</th>\n",
       "      <th>9</th>\n",
       "      <th>...</th>\n",
       "      <th>2038</th>\n",
       "      <th>2039</th>\n",
       "      <th>2040</th>\n",
       "      <th>2041</th>\n",
       "      <th>2042</th>\n",
       "      <th>2043</th>\n",
       "      <th>2044</th>\n",
       "      <th>2045</th>\n",
       "      <th>2046</th>\n",
       "      <th>2047</th>\n",
       "    </tr>\n",
       "    <tr>\n",
       "      <th>id</th>\n",
       "      <th></th>\n",
       "      <th></th>\n",
       "      <th></th>\n",
       "      <th></th>\n",
       "      <th></th>\n",
       "      <th></th>\n",
       "      <th></th>\n",
       "      <th></th>\n",
       "      <th></th>\n",
       "      <th></th>\n",
       "      <th></th>\n",
       "      <th></th>\n",
       "      <th></th>\n",
       "      <th></th>\n",
       "      <th></th>\n",
       "      <th></th>\n",
       "      <th></th>\n",
       "      <th></th>\n",
       "      <th></th>\n",
       "      <th></th>\n",
       "      <th></th>\n",
       "    </tr>\n",
       "  </thead>\n",
       "  <tbody>\n",
       "    <tr>\n",
       "      <th>0</th>\n",
       "      <td>0.119926</td>\n",
       "      <td>-0.049218</td>\n",
       "      <td>0.039702</td>\n",
       "      <td>0.141101</td>\n",
       "      <td>0.044318</td>\n",
       "      <td>0.049631</td>\n",
       "      <td>0.016178</td>\n",
       "      <td>0.025797</td>\n",
       "      <td>-0.104466</td>\n",
       "      <td>-0.016044</td>\n",
       "      <td>...</td>\n",
       "      <td>-0.226529</td>\n",
       "      <td>-0.091773</td>\n",
       "      <td>0.028184</td>\n",
       "      <td>-0.074794</td>\n",
       "      <td>0.025474</td>\n",
       "      <td>0.046511</td>\n",
       "      <td>-0.002693</td>\n",
       "      <td>-0.017953</td>\n",
       "      <td>-0.146394</td>\n",
       "      <td>-0.06233</td>\n",
       "    </tr>\n",
       "  </tbody>\n",
       "</table>\n",
       "<p>1 rows × 2048 columns</p>\n",
       "</div>"
      ],
      "text/plain": [
       "           0         1         2         3         4         5         6  \\\n",
       "id                                                                         \n",
       "0   0.119926 -0.049218  0.039702  0.141101  0.044318  0.049631  0.016178   \n",
       "\n",
       "           7         8         9  ...      2038      2039      2040      2041  \\\n",
       "id                                ...                                           \n",
       "0   0.025797 -0.104466 -0.016044  ... -0.226529 -0.091773  0.028184 -0.074794   \n",
       "\n",
       "        2042      2043      2044      2045      2046     2047  \n",
       "id                                                             \n",
       "0   0.025474  0.046511 -0.002693 -0.017953 -0.146394 -0.06233  \n",
       "\n",
       "[1 rows x 2048 columns]"
      ]
     },
     "execution_count": 7,
     "metadata": {},
     "output_type": "execute_result"
    },
    {
     "name": "stdout",
     "output_type": "stream",
     "text": [
      "<class 'pandas.core.frame.DataFrame'>\n",
      "UInt64Index: 17703 entries, 0 to 39247\n",
      "Columns: 2048 entries, 0 to 2047\n",
      "dtypes: float32(2048)\n",
      "memory usage: 138.4 MB\n"
     ]
    },
    {
     "data": {
      "text/html": [
       "<div>\n",
       "<style scoped>\n",
       "    .dataframe tbody tr th:only-of-type {\n",
       "        vertical-align: middle;\n",
       "    }\n",
       "\n",
       "    .dataframe tbody tr th {\n",
       "        vertical-align: top;\n",
       "    }\n",
       "\n",
       "    .dataframe thead th {\n",
       "        text-align: right;\n",
       "    }\n",
       "</style>\n",
       "<table border=\"1\" class=\"dataframe\">\n",
       "  <thead>\n",
       "    <tr style=\"text-align: right;\">\n",
       "      <th></th>\n",
       "      <th>source</th>\n",
       "      <th>speaker_id</th>\n",
       "      <th>speaker_gender</th>\n",
       "      <th>emo</th>\n",
       "      <th>valence</th>\n",
       "      <th>neg</th>\n",
       "      <th>neu</th>\n",
       "      <th>lang1</th>\n",
       "      <th>length</th>\n",
       "    </tr>\n",
       "    <tr>\n",
       "      <th>id</th>\n",
       "      <th></th>\n",
       "      <th></th>\n",
       "      <th></th>\n",
       "      <th></th>\n",
       "      <th></th>\n",
       "      <th></th>\n",
       "      <th></th>\n",
       "      <th></th>\n",
       "      <th></th>\n",
       "    </tr>\n",
       "  </thead>\n",
       "  <tbody>\n",
       "    <tr>\n",
       "      <th>0</th>\n",
       "      <td>aesdd</td>\n",
       "      <td>aesdd.1</td>\n",
       "      <td>f</td>\n",
       "      <td>ang</td>\n",
       "      <td>0</td>\n",
       "      <td>True</td>\n",
       "      <td>False</td>\n",
       "      <td>ell</td>\n",
       "      <td>medium</td>\n",
       "    </tr>\n",
       "  </tbody>\n",
       "</table>\n",
       "</div>"
      ],
      "text/plain": [
       "   source speaker_id speaker_gender  emo  valence   neg    neu lang1  length\n",
       "id                                                                          \n",
       "0   aesdd    aesdd.1              f  ang        0  True  False   ell  medium"
      ]
     },
     "execution_count": 7,
     "metadata": {},
     "output_type": "execute_result"
    },
    {
     "name": "stdout",
     "output_type": "stream",
     "text": [
      "<class 'pandas.core.frame.DataFrame'>\n",
      "UInt64Index: 17703 entries, 0 to 39247\n",
      "Data columns (total 9 columns):\n",
      " #   Column          Non-Null Count  Dtype   \n",
      "---  ------          --------------  -----   \n",
      " 0   source          17703 non-null  category\n",
      " 1   speaker_id      17703 non-null  category\n",
      " 2   speaker_gender  17703 non-null  category\n",
      " 3   emo             17703 non-null  category\n",
      " 4   valence         17703 non-null  int8    \n",
      " 5   neg             17703 non-null  bool    \n",
      " 6   neu             17703 non-null  bool    \n",
      " 7   lang1           17703 non-null  category\n",
      " 8   length          17703 non-null  category\n",
      "dtypes: bool(2), category(6), int8(1)\n",
      "memory usage: 356.2 KB\n",
      "time: 152 ms\n"
     ]
    }
   ],
   "source": [
    "data.head(1)\n",
    "data.info()\n",
    "labels.head(1)\n",
    "labels.info()"
   ]
  },
  {
   "cell_type": "markdown",
   "metadata": {},
   "source": [
    "# Strata\n",
    "\n",
    "In this section, strata are set up for the train-test split."
   ]
  },
  {
   "cell_type": "code",
   "execution_count": 8,
   "metadata": {},
   "outputs": [
    {
     "name": "stderr",
     "output_type": "stream",
     "text": [
      "Pandas Apply: 100%|██████████| 17703/17703 [00:00<00:00, 71446.90it/s]"
     ]
    },
    {
     "name": "stdout",
     "output_type": "stream",
     "text": [
      "time: 301 ms\n"
     ]
    },
    {
     "name": "stderr",
     "output_type": "stream",
     "text": [
      "\n"
     ]
    }
   ],
   "source": [
    "N_SPLITS = 5\n",
    "\n",
    "# fields are concatentated for quick permutation omitting non-existent combos\n",
    "strata = labels.loc[\n",
    "    :, [\"source\", \"speaker_gender\", \"emo\", \"valence\", \"lang1\", \"length\"]\n",
    "]\n",
    "strata.valence = strata.valence.astype(str)\n",
    "strata = strata.swifter.apply(\"\".join, axis=1)"
   ]
  },
  {
   "cell_type": "code",
   "execution_count": 9,
   "metadata": {},
   "outputs": [
    {
     "name": "stdout",
     "output_type": "stream",
     "text": [
      "time: 120 ms\n"
     ]
    }
   ],
   "source": [
    "# utility function for identifying strata with only i occurences\n",
    "def get_solo(i: int, strata_: pd.Series) -> np.ndarray:\n",
    "    \"\"\"Given a series of stratum memberships, return a shuffled array of strata with only i members.\"\"\"\n",
    "    return np.unique(\n",
    "        strata_.loc[\n",
    "            strata_.isin(\n",
    "                (strata_counts := strata_.value_counts())\n",
    "                .where(strata_counts == i)\n",
    "                .dropna()\n",
    "                .index\n",
    "            )\n",
    "        ]\n",
    "        .sample(frac=1, random_state=SEED)\n",
    "        .values\n",
    "    )\n",
    "\n",
    "\n",
    "# get solos, print stuff\n",
    "def get_onlys(\n",
    "    strata_: pd.Series, print_me: str = \"\", n_splits: int = N_SPLITS\n",
    ") -> List[Dict[int, np.ndarray]]:\n",
    "    \"\"\"Optinally prints something and returns calls of get_solo on strata_ in a list\"\"\"\n",
    "    print(print_me)\n",
    "    solos = []\n",
    "    for i in range(1, n_splits):\n",
    "        solo: np.ndarray = get_solo(i, strata_)\n",
    "        print(f\"only {i}:\", (_ := solo.size))\n",
    "        if _:  # >= 1 strata with only i samples\n",
    "            solos.append({i: solo})\n",
    "    return solos\n",
    "\n",
    "\n",
    "def process_strata(strata: pd.Series, n_splits: int = N_SPLITS) -> pd.Series:\n",
    "    \"\"\"Corrects strata membership column according to n_splits\"\"\"\n",
    "\n",
    "    count = get_onlys_calls = 0\n",
    "\n",
    "    while onlys := get_onlys(\n",
    "        strata,\n",
    "        print_me=f\"merge passes performed: {get_onlys_calls}\",\n",
    "        n_splits=n_splits,\n",
    "    ):\n",
    "        get_onlys_calls += 1\n",
    "        if len(onlys) == 1:\n",
    "            last = onlys[0]\n",
    "            strata_to_merge: np.ndarray = list(last.values())[0]\n",
    "            only_key = list(last.keys())[0]\n",
    "            tuplet_size = n_splits // only_key + (1 if n_splits % only_key else 0)\n",
    "            # perform tuplet merge\n",
    "            interval = len(strata_to_merge) // n_splits\n",
    "            for strata_tuplet in zip(\n",
    "                *[\n",
    "                    strata_to_merge[interval * i : interval * (i + 1)]\n",
    "                    for i in range(tuplet_size)\n",
    "                ]\n",
    "            ):\n",
    "                strata = strata.replace(strata_tuplet, f\"stratum_group_{count}\")\n",
    "                count += 1\n",
    "            remainder = strata_to_merge[tuplet_size * interval :]\n",
    "            if len(remainder) == 1:\n",
    "                # process remainder unmatched\n",
    "                n = n_splits\n",
    "                strata_counts = strata.value_counts()\n",
    "                while not (candidates := strata_counts.loc[strata_counts == n]).size:\n",
    "                    n += 1\n",
    "                strata = strata.replace(\n",
    "                    [remainder[0], candidates.sample(n=1, random_state=SEED).index[0]],\n",
    "                    f\"stratum_group_{count}\",\n",
    "                )\n",
    "                count += 1\n",
    "            else:\n",
    "                # self-pair last\n",
    "                remainder = remainder.tolist()\n",
    "                while len(remainder) >= 2:\n",
    "                    strata = strata.replace(\n",
    "                        (remainder.pop(), remainder.pop()), f\"stratum_group_{count}\"\n",
    "                    )\n",
    "                    count += 1\n",
    "        else:\n",
    "            pop_onlys = lambda _: list(onlys.pop(_).values())[0].tolist()\n",
    "            while len(onlys) >= 2:\n",
    "                # pop the ends\n",
    "                shortside = pop_onlys(0)\n",
    "                longside = pop_onlys(-1)\n",
    "                # merge until one end empty\n",
    "                while shortside and longside:\n",
    "                    strata = strata.replace(\n",
    "                        (shortside.pop(), longside.pop()), f\"stratum_group_{count}\"\n",
    "                    )\n",
    "                    count += 1\n",
    "            if onlys:\n",
    "                # self-pair middle\n",
    "                remainder = pop_onlys(0)\n",
    "                while len(remainder) >= 2:\n",
    "                    strata = strata.replace(\n",
    "                        (remainder.pop(), remainder.pop()), f\"stratum_group_{count}\"\n",
    "                    )\n",
    "                    count += 1\n",
    "    return strata\n",
    "\n",
    "\n",
    "_ = gc_collect()"
   ]
  },
  {
   "cell_type": "code",
   "execution_count": 10,
   "metadata": {},
   "outputs": [
    {
     "name": "stdout",
     "output_type": "stream",
     "text": [
      "merge passes performed: 0\n",
      "only 1: 28\n",
      "only 2: 19\n",
      "only 3: 10\n",
      "only 4: 5\n",
      "merge passes performed: 1\n",
      "only 1: 23\n",
      "only 2: 9\n",
      "only 3: 0\n",
      "only 4: 0\n",
      "merge passes performed: 2\n",
      "only 1: 14\n",
      "only 2: 0\n",
      "only 3: 9\n",
      "only 4: 0\n",
      "merge passes performed: 3\n",
      "only 1: 5\n",
      "only 2: 0\n",
      "only 3: 0\n",
      "only 4: 9\n",
      "merge passes performed: 4\n",
      "only 1: 0\n",
      "only 2: 0\n",
      "only 3: 0\n",
      "only 4: 4\n",
      "merge passes performed: 5\n",
      "only 1: 0\n",
      "only 2: 0\n",
      "only 3: 0\n",
      "only 4: 0\n"
     ]
    },
    {
     "data": {
      "text/plain": [
       "esdfsur0cmnmedium               984\n",
       "esdfang0cmnmedium               982\n",
       "esdfsad0cmnmedium               736\n",
       "esdmhap2cmnmedium               689\n",
       "esdfhap2cmnmedium               688\n",
       "                               ... \n",
       "EmoReact_V_1.0fneu1engmedium      5\n",
       "BAUM1fsad0turlong                 5\n",
       "stratum_group_14                  5\n",
       "stratum_group_10                  5\n",
       "stratum_group_11                  5\n",
       "Length: 168, dtype: int64"
      ]
     },
     "execution_count": 10,
     "metadata": {},
     "output_type": "execute_result"
    },
    {
     "name": "stdout",
     "output_type": "stream",
     "text": [
      "time: 333 ms\n"
     ]
    }
   ],
   "source": [
    "STRATA = process_strata(strata, n_splits=N_SPLITS)\n",
    "del strata\n",
    "STRATA.value_counts()"
   ]
  },
  {
   "cell_type": "markdown",
   "metadata": {},
   "source": [
    "# Setup\n",
    "\n",
    "In this section, we define some structures to keep track of models and scores.\n",
    "\n",
    "The next cell defines a Python dictionary to record the results of cross validation such that the results may be easily cast to a `pandas` dataframe."
   ]
  },
  {
   "cell_type": "code",
   "execution_count": 11,
   "metadata": {},
   "outputs": [
    {
     "name": "stdout",
     "output_type": "stream",
     "text": [
      "time: 126 ms\n"
     ]
    }
   ],
   "source": [
    "METRICS = (\n",
    "    \"avg_cv_balanced_accuracy\",\n",
    "    \"avg_cv_f1\",\n",
    "    \"avg_cv_geometric_mean\",\n",
    "    \"avg_cv_fit_time\",\n",
    "    \"avg_cv_predict_time\",\n",
    ")\n",
    "\n",
    "# to be cast to pd.DataFrame\n",
    "make_results = lambda: {key: [] for key in {\"model_name\", \"case\", *METRICS}}\n",
    "results_ = make_results()\n",
    "\n",
    "AvgScores = namedtuple(\"AvgScores\", METRICS)\n",
    "\n",
    "\n",
    "def store_result(\n",
    "    where: Dict[str, List],\n",
    "    case: str,\n",
    "    model_name: str,\n",
    "    avg_scores: AvgScores,\n",
    ") -> None:\n",
    "    \"Appends a model's score and fit/predict times to the results dict.\"\n",
    "    for attribute, value in {\n",
    "        \"model_name\": model_name,\n",
    "        \"case\": case,\n",
    "        **avg_scores._asdict(),\n",
    "    }.items():\n",
    "        where[attribute].append(value)\n",
    "\n",
    "\n",
    "ALL_CASES = {\"negative\", \"neutral\", \"ternary\", \"ternary_negneu\"}\n",
    "\n",
    "_ = gc_collect()"
   ]
  },
  {
   "cell_type": "code",
   "execution_count": 12,
   "metadata": {},
   "outputs": [
    {
     "name": "stdout",
     "output_type": "stream",
     "text": [
      "time: 173 ms\n"
     ]
    }
   ],
   "source": [
    "predictions_ = {key: [] for key in {\"model\", \"case\", \"fold\", \"y_pred\"}}\n",
    "\n",
    "Prediction = namedtuple(\"Prediction\", predictions_.keys())\n",
    "\n",
    "\n",
    "def store_prediction(where: Dict[str, List], prediction: Prediction) -> None:\n",
    "    \"Records the y_pred of a classifier on a fold\"\n",
    "    for k, v in prediction._asdict().items():\n",
    "        where[k].append(v)\n",
    "\n",
    "\n",
    "_ = gc_collect()"
   ]
  },
  {
   "cell_type": "markdown",
   "metadata": {},
   "source": [
    "The cross-validation splits are pre-computed to save time in the main loops."
   ]
  },
  {
   "cell_type": "code",
   "execution_count": 13,
   "metadata": {},
   "outputs": [
    {
     "name": "stdout",
     "output_type": "stream",
     "text": [
      "time: 7min 25s\n"
     ]
    }
   ],
   "source": [
    "CV_info = namedtuple(\n",
    "    \"CV_info\",\n",
    "    _ := \"X_train X_test y_train y_test\",\n",
    "    defaults=[None] * len(_.split()),\n",
    ")\n",
    "assert all(data.index == STRATA.index)\n",
    "assert all(STRATA.index == labels.index)\n",
    "prepared_splits = [\n",
    "    *StratifiedGroupKFold(n_splits=N_SPLITS, shuffle=True, random_state=SEED).split(\n",
    "        X=data, y=STRATA, groups=labels.speaker_id\n",
    "    )\n",
    "]\n",
    "\n",
    "scaler = lambda: MinMaxScaler(feature_range=(-1, 1))  # preserve sign\n",
    "make_adasyn = lambda strategy: ADASYN(\n",
    "    sampling_strategy=strategy, random_state=SEED, n_jobs=-1\n",
    ").fit_resample\n",
    "\n",
    "\n",
    "def get_splits(case: str, resampled: bool = True) -> List[CV_info]:\n",
    "    \"\"\"Prepares the three-fold cross-validation splits ternary classification.\"\"\"\n",
    "    splits = []\n",
    "    ternary = \"ternary\" in case\n",
    "    select_labels = labels.valence if ternary else labels.loc[:, case[:3]]\n",
    "    for train_idx, test_idx in prepared_splits:\n",
    "        # select and scale\n",
    "        scale = scaler().fit(X_train := data.iloc[train_idx])\n",
    "        X_train = scale.transform(X_train)\n",
    "        X_test = scale.transform(data.iloc[test_idx])\n",
    "        y_train = select_labels.iloc[train_idx]\n",
    "        y_test = select_labels.iloc[test_idx]\n",
    "\n",
    "        if resampled:\n",
    "            # oversample with adasyn, undersample with oss\n",
    "            try:\n",
    "                train = make_adasyn(\"auto\")(X_train, y_train)\n",
    "            except ValueError:\n",
    "                try:\n",
    "                    train = make_adasyn(\"not majority\")(X_train, y_train)\n",
    "                except ValueError:\n",
    "                    try:\n",
    "                        train = make_adasyn(\"minority\")(X_train, y_train)\n",
    "                    except ValueError:\n",
    "                        try:\n",
    "                            train = make_adasyn(\"all\")(X_train, y_train)\n",
    "                        except ValueError:\n",
    "                            train = make_adasyn(\"not minority\")(X_train, y_train)\n",
    "            X_train, y_train = OneSidedSelection(\n",
    "                random_state=SEED, n_jobs=-1\n",
    "            ).fit_resample(*train)\n",
    "\n",
    "        # reset indices\n",
    "        splits.append(\n",
    "            CV_info(\n",
    "                X_train=X_train,\n",
    "                y_train=y_train.reset_index(drop=True),\n",
    "                X_test=X_test,\n",
    "                y_test=y_test.reset_index(drop=True),\n",
    "            )\n",
    "        )\n",
    "    return splits\n",
    "\n",
    "\n",
    "DATA_CHOOSER: Dict[str, List[CV_info]] = {case: get_splits(case) for case in ALL_CASES}\n",
    "\n",
    "del scaler\n",
    "_ = gc_collect()"
   ]
  },
  {
   "cell_type": "markdown",
   "metadata": {},
   "source": [
    "# Models\n",
    "\n",
    "Thanks to FRILL, we may now use the gamut of binary classifiers.\n",
    "\n",
    "For the most part, the default settings of each classifier are used. Where possible, the seed is set and all available cores are used. Class weight parameters are set to address class imbalance. Each classifier is wrapped in a lambda function to ensure a brand new model is initialized each time the function is called."
   ]
  },
  {
   "cell_type": "code",
   "execution_count": 14,
   "metadata": {},
   "outputs": [
    {
     "name": "stdout",
     "output_type": "stream",
     "text": [
      "time: 177 ms\n"
     ]
    }
   ],
   "source": [
    "MODELS = {\n",
    "    \"Dummy\": lambda: DummyClassifier(random_state=SEED),\n",
    "    \"LogisticRegression\": lambda: LogisticRegression(\n",
    "        class_weight=\"balanced\", random_state=SEED, n_jobs=-1\n",
    "    ),\n",
    "    \"LGBM\": lambda: LGBMClassifier(\n",
    "        class_weight=\"balanced\", random_state=SEED, n_jobs=-1\n",
    "    ),\n",
    "    \"MLP\": lambda: MLPClassifier(random_state=SEED),\n",
    "    \"Ridge\": lambda: RidgeClassifier(class_weight=\"balanced\", random_state=SEED),\n",
    "    \"SGD\": lambda: SGDClassifier(n_jobs=-1, random_state=SEED, class_weight=\"balanced\"),\n",
    "    \"SVC\": lambda: SVC(random_state=SEED, class_weight=\"balanced\"),\n",
    "}\n",
    "\n",
    "_ = gc_collect()"
   ]
  },
  {
   "cell_type": "markdown",
   "metadata": {},
   "source": [
    "# Test harness\n",
    "\n",
    "This section defines functions for evaluating models."
   ]
  },
  {
   "cell_type": "code",
   "execution_count": 15,
   "metadata": {},
   "outputs": [
    {
     "name": "stdout",
     "output_type": "stream",
     "text": [
      "time: 131 ms\n"
     ]
    }
   ],
   "source": [
    "def evaluate_model(\n",
    "    model_base: str, case: str, resample: bool = False, track_fold_time: bool = False\n",
    ") -> AvgScores:\n",
    "    \"\"\"Evaluate a model with three-fold stratified grouped cross validation.\"\"\"\n",
    "\n",
    "    fit_times, predict_times, balanced_accuracy, f1, geometric_mean = [], [], [], [], []\n",
    "    selected_data: List[CV_info] = DATA_CHOOSER[case]\n",
    "    for fold_num in range(N_SPLITS):\n",
    "        if track_fold_time:\n",
    "            fold_begin = time()\n",
    "\n",
    "        # obtain prepared folds\n",
    "        fold_data: CV_info = selected_data[fold_num]\n",
    "\n",
    "        # define train\n",
    "        X_train = fold_data.X_train\n",
    "        y_train = fold_data.y_train\n",
    "\n",
    "        # define test\n",
    "        X_test = fold_data.X_test\n",
    "        y_test = fold_data.y_test\n",
    "\n",
    "        # initialize binary model\n",
    "        model = MODELS[model_base]()\n",
    "\n",
    "        # fit\n",
    "        begin = time()\n",
    "        model.fit(X_train, y_train)\n",
    "        end = time()\n",
    "        fit_times.append(end - begin)\n",
    "        print(f\"fitted in {end - begin:.2f} s\")\n",
    "\n",
    "        # predict\n",
    "        begin = time()\n",
    "        predicted = model.predict(X_test)\n",
    "        end = time()\n",
    "        print(f\"predicted in {end - begin:.2f} s\")\n",
    "\n",
    "        # store prediction results\n",
    "        predict_times.append(end - begin)\n",
    "        store_prediction(\n",
    "            where=predictions_,\n",
    "            prediction=Prediction(\n",
    "                model=model_base,\n",
    "                case=case,\n",
    "                fold=fold_num,\n",
    "                y_pred=predicted,\n",
    "            ),\n",
    "        )\n",
    "\n",
    "        # score\n",
    "        score_params = {\"y_true\": y_test, \"y_pred\": predicted}\n",
    "        balanced_accuracy.append(balanced_accuracy_score(**score_params))\n",
    "        f1.append(f1_score(**score_params, average=\"weighted\"))\n",
    "        geometric_mean.append(geometric_mean_score(**score_params))\n",
    "\n",
    "        if track_fold_time:\n",
    "            print(\n",
    "                f\"{model_base} fold {fold_num + 1} completed in {time() - fold_begin:.2f} s\"\n",
    "            )\n",
    "\n",
    "        # free some memory\n",
    "        del begin\n",
    "        del end\n",
    "        del model\n",
    "        del predicted\n",
    "        del score_params\n",
    "        del X_test\n",
    "        del X_train\n",
    "        del y_test\n",
    "        del y_train\n",
    "        _ = gc_collect()\n",
    "\n",
    "    return AvgScores(\n",
    "        *[\n",
    "            np.mean(_)\n",
    "            for _ in (balanced_accuracy, f1, geometric_mean, fit_times, predict_times)\n",
    "        ]\n",
    "    )\n",
    "\n",
    "\n",
    "_ = gc_collect()"
   ]
  },
  {
   "cell_type": "markdown",
   "metadata": {},
   "source": [
    "The next few cells evaluate models."
   ]
  },
  {
   "cell_type": "code",
   "execution_count": 16,
   "metadata": {},
   "outputs": [
    {
     "data": {
      "application/vnd.jupyter.widget-view+json": {
       "model_id": "affa95ffc98b4169a0304f41838290ba",
       "version_major": 2,
       "version_minor": 0
      },
      "text/plain": [
       "  0%|          | 0/7 [00:00<?, ?it/s]"
      ]
     },
     "metadata": {},
     "output_type": "display_data"
    },
    {
     "name": "stdout",
     "output_type": "stream",
     "text": [
      "evaluating Dummy...\n",
      "fitted in 0.00 s\n",
      "predicted in 0.00 s\n",
      "Dummy fold 1 completed in 0.02 s\n",
      "fitted in 0.00 s\n",
      "predicted in 0.00 s\n",
      "Dummy fold 2 completed in 0.02 s\n",
      "fitted in 0.00 s\n",
      "predicted in 0.00 s\n",
      "Dummy fold 3 completed in 0.01 s\n",
      "fitted in 0.00 s\n",
      "predicted in 0.00 s\n",
      "Dummy fold 4 completed in 0.01 s\n",
      "fitted in 0.00 s\n",
      "predicted in 0.00 s\n",
      "Dummy fold 5 completed in 0.01 s\n",
      "stored Dummy for negative classification in 0.80 s\n",
      "evaluating LogisticRegression...\n"
     ]
    },
    {
     "name": "stderr",
     "output_type": "stream",
     "text": [
      "C:\\Users\\michen\\miniconda3\\envs\\capstone_pyspark_38\\lib\\site-packages\\daal4py\\sklearn\\linear_model\\logistic_path.py:432: ConvergenceWarning: lbfgs failed to converge (status=1):\n",
      "STOP: TOTAL NO. of ITERATIONS REACHED LIMIT.\n",
      "\n",
      "Increase the number of iterations (max_iter) or scale the data as shown in:\n",
      "    https://scikit-learn.org/stable/modules/preprocessing.html\n",
      "Please also refer to the documentation for alternative solver options:\n",
      "    https://scikit-learn.org/stable/modules/linear_model.html#logistic-regression\n",
      "  n_iter_i = _check_optimize_result(\n"
     ]
    },
    {
     "name": "stdout",
     "output_type": "stream",
     "text": [
      "fitted in 2.65 s\n",
      "predicted in 0.00 s\n",
      "LogisticRegression fold 1 completed in 2.68 s\n"
     ]
    },
    {
     "name": "stderr",
     "output_type": "stream",
     "text": [
      "C:\\Users\\michen\\miniconda3\\envs\\capstone_pyspark_38\\lib\\site-packages\\daal4py\\sklearn\\linear_model\\logistic_path.py:432: ConvergenceWarning: lbfgs failed to converge (status=1):\n",
      "STOP: TOTAL NO. of ITERATIONS REACHED LIMIT.\n",
      "\n",
      "Increase the number of iterations (max_iter) or scale the data as shown in:\n",
      "    https://scikit-learn.org/stable/modules/preprocessing.html\n",
      "Please also refer to the documentation for alternative solver options:\n",
      "    https://scikit-learn.org/stable/modules/linear_model.html#logistic-regression\n",
      "  n_iter_i = _check_optimize_result(\n"
     ]
    },
    {
     "name": "stdout",
     "output_type": "stream",
     "text": [
      "fitted in 2.38 s\n",
      "predicted in 0.02 s\n",
      "LogisticRegression fold 2 completed in 2.40 s\n"
     ]
    },
    {
     "name": "stderr",
     "output_type": "stream",
     "text": [
      "C:\\Users\\michen\\miniconda3\\envs\\capstone_pyspark_38\\lib\\site-packages\\daal4py\\sklearn\\linear_model\\logistic_path.py:432: ConvergenceWarning: lbfgs failed to converge (status=1):\n",
      "STOP: TOTAL NO. of ITERATIONS REACHED LIMIT.\n",
      "\n",
      "Increase the number of iterations (max_iter) or scale the data as shown in:\n",
      "    https://scikit-learn.org/stable/modules/preprocessing.html\n",
      "Please also refer to the documentation for alternative solver options:\n",
      "    https://scikit-learn.org/stable/modules/linear_model.html#logistic-regression\n",
      "  n_iter_i = _check_optimize_result(\n"
     ]
    },
    {
     "name": "stdout",
     "output_type": "stream",
     "text": [
      "fitted in 2.41 s\n",
      "predicted in 0.02 s\n",
      "LogisticRegression fold 3 completed in 2.43 s\n"
     ]
    },
    {
     "name": "stderr",
     "output_type": "stream",
     "text": [
      "C:\\Users\\michen\\miniconda3\\envs\\capstone_pyspark_38\\lib\\site-packages\\daal4py\\sklearn\\linear_model\\logistic_path.py:432: ConvergenceWarning: lbfgs failed to converge (status=1):\n",
      "STOP: TOTAL NO. of ITERATIONS REACHED LIMIT.\n",
      "\n",
      "Increase the number of iterations (max_iter) or scale the data as shown in:\n",
      "    https://scikit-learn.org/stable/modules/preprocessing.html\n",
      "Please also refer to the documentation for alternative solver options:\n",
      "    https://scikit-learn.org/stable/modules/linear_model.html#logistic-regression\n",
      "  n_iter_i = _check_optimize_result(\n"
     ]
    },
    {
     "name": "stdout",
     "output_type": "stream",
     "text": [
      "fitted in 2.24 s\n",
      "predicted in 0.02 s\n",
      "LogisticRegression fold 4 completed in 2.25 s\n"
     ]
    },
    {
     "name": "stderr",
     "output_type": "stream",
     "text": [
      "C:\\Users\\michen\\miniconda3\\envs\\capstone_pyspark_38\\lib\\site-packages\\daal4py\\sklearn\\linear_model\\logistic_path.py:432: ConvergenceWarning: lbfgs failed to converge (status=1):\n",
      "STOP: TOTAL NO. of ITERATIONS REACHED LIMIT.\n",
      "\n",
      "Increase the number of iterations (max_iter) or scale the data as shown in:\n",
      "    https://scikit-learn.org/stable/modules/preprocessing.html\n",
      "Please also refer to the documentation for alternative solver options:\n",
      "    https://scikit-learn.org/stable/modules/linear_model.html#logistic-regression\n",
      "  n_iter_i = _check_optimize_result(\n"
     ]
    },
    {
     "name": "stdout",
     "output_type": "stream",
     "text": [
      "fitted in 2.77 s\n",
      "predicted in 0.00 s\n",
      "LogisticRegression fold 5 completed in 2.79 s\n",
      "stored LogisticRegression for negative classification in 13.35 s\n",
      "evaluating LGBM...\n",
      "fitted in 18.55 s\n",
      "predicted in 0.11 s\n",
      "LGBM fold 1 completed in 18.68 s\n",
      "fitted in 18.25 s\n",
      "predicted in 0.11 s\n",
      "LGBM fold 2 completed in 18.38 s\n",
      "fitted in 18.05 s\n",
      "predicted in 0.11 s\n",
      "LGBM fold 3 completed in 18.17 s\n",
      "fitted in 17.46 s\n",
      "predicted in 0.14 s\n",
      "LGBM fold 4 completed in 17.61 s\n",
      "fitted in 18.92 s\n",
      "predicted in 0.14 s\n",
      "LGBM fold 5 completed in 19.06 s\n",
      "stored LGBM for negative classification in 92.74 s\n",
      "evaluating MLP...\n",
      "fitted in 21.52 s\n",
      "predicted in 0.02 s\n",
      "MLP fold 1 completed in 21.54 s\n",
      "fitted in 25.07 s\n",
      "predicted in 0.02 s\n",
      "MLP fold 2 completed in 25.08 s\n",
      "fitted in 22.32 s\n",
      "predicted in 0.02 s\n",
      "MLP fold 3 completed in 22.35 s\n",
      "fitted in 21.33 s\n",
      "predicted in 0.03 s\n",
      "MLP fold 4 completed in 21.36 s\n",
      "fitted in 22.36 s\n",
      "predicted in 0.02 s\n",
      "MLP fold 5 completed in 22.38 s\n",
      "stored MLP for negative classification in 113.44 s\n",
      "evaluating Ridge...\n",
      "fitted in 0.75 s\n",
      "predicted in 0.00 s\n",
      "Ridge fold 1 completed in 0.77 s\n",
      "fitted in 0.73 s\n",
      "predicted in 0.00 s\n",
      "Ridge fold 2 completed in 0.75 s\n",
      "fitted in 0.67 s\n",
      "predicted in 0.02 s\n",
      "Ridge fold 3 completed in 0.69 s\n",
      "fitted in 0.69 s\n",
      "predicted in 0.00 s\n",
      "Ridge fold 4 completed in 0.69 s\n",
      "fitted in 0.84 s\n",
      "predicted in 0.02 s\n",
      "Ridge fold 5 completed in 0.86 s\n",
      "stored Ridge for negative classification in 4.44 s\n",
      "evaluating SGD...\n",
      "fitted in 5.88 s\n",
      "predicted in 0.06 s\n",
      "SGD fold 1 completed in 5.95 s\n",
      "fitted in 5.12 s\n",
      "predicted in 0.06 s\n",
      "SGD fold 2 completed in 5.19 s\n",
      "fitted in 5.38 s\n",
      "predicted in 0.06 s\n",
      "SGD fold 3 completed in 5.44 s\n",
      "fitted in 5.06 s\n",
      "predicted in 0.09 s\n",
      "SGD fold 4 completed in 5.16 s\n",
      "fitted in 6.56 s\n",
      "predicted in 0.06 s\n",
      "SGD fold 5 completed in 6.64 s\n",
      "stored SGD for negative classification in 29.02 s\n",
      "evaluating SVC...\n",
      "fitted in 10.06 s\n",
      "predicted in 1.91 s\n",
      "SVC fold 1 completed in 11.99 s\n",
      "fitted in 9.11 s\n",
      "predicted in 1.72 s\n",
      "SVC fold 2 completed in 10.83 s\n",
      "fitted in 8.86 s\n",
      "predicted in 1.67 s\n",
      "SVC fold 3 completed in 10.55 s\n",
      "fitted in 6.86 s\n",
      "predicted in 2.14 s\n",
      "SVC fold 4 completed in 9.00 s\n",
      "fitted in 10.88 s\n",
      "predicted in 2.20 s\n",
      "SVC fold 5 completed in 13.08 s\n",
      "stored SVC for negative classification in 56.02 s\n",
      "time: 5min 10s\n"
     ]
    }
   ],
   "source": [
    "case = \"negative\"\n",
    "for model in tqdm(MODELS):\n",
    "    loop_begin = time()\n",
    "    print(f\"evaluating {model}...\")\n",
    "    store_result(\n",
    "        where=results_,\n",
    "        case=case,\n",
    "        model_name=model,\n",
    "        avg_scores=evaluate_model(model, case, track_fold_time=True),\n",
    "    )\n",
    "    print(f\"stored {model} for {case} classification in {time() - loop_begin:.2f} s\")\n",
    "    _ = gc_collect()"
   ]
  },
  {
   "cell_type": "code",
   "execution_count": 17,
   "metadata": {},
   "outputs": [
    {
     "data": {
      "application/vnd.jupyter.widget-view+json": {
       "model_id": "447278eb6b5c46f2a97c9d793efe2671",
       "version_major": 2,
       "version_minor": 0
      },
      "text/plain": [
       "  0%|          | 0/7 [00:00<?, ?it/s]"
      ]
     },
     "metadata": {},
     "output_type": "display_data"
    },
    {
     "name": "stdout",
     "output_type": "stream",
     "text": [
      "evaluating Dummy...\n",
      "fitted in 0.00 s\n",
      "predicted in 0.00 s\n",
      "Dummy fold 1 completed in 0.01 s\n",
      "fitted in 0.00 s\n",
      "predicted in 0.00 s\n",
      "Dummy fold 2 completed in 0.02 s\n",
      "fitted in 0.00 s\n",
      "predicted in 0.00 s\n",
      "Dummy fold 3 completed in 0.02 s\n",
      "fitted in 0.02 s\n",
      "predicted in 0.00 s\n",
      "Dummy fold 4 completed in 0.02 s\n",
      "fitted in 0.00 s\n",
      "predicted in 0.00 s\n",
      "Dummy fold 5 completed in 0.00 s\n",
      "stored Dummy for neutral classification in 0.66 s\n",
      "evaluating LogisticRegression...\n"
     ]
    },
    {
     "name": "stderr",
     "output_type": "stream",
     "text": [
      "C:\\Users\\michen\\miniconda3\\envs\\capstone_pyspark_38\\lib\\site-packages\\daal4py\\sklearn\\linear_model\\logistic_path.py:432: ConvergenceWarning: lbfgs failed to converge (status=1):\n",
      "STOP: TOTAL NO. of ITERATIONS REACHED LIMIT.\n",
      "\n",
      "Increase the number of iterations (max_iter) or scale the data as shown in:\n",
      "    https://scikit-learn.org/stable/modules/preprocessing.html\n",
      "Please also refer to the documentation for alternative solver options:\n",
      "    https://scikit-learn.org/stable/modules/linear_model.html#logistic-regression\n",
      "  n_iter_i = _check_optimize_result(\n"
     ]
    },
    {
     "name": "stdout",
     "output_type": "stream",
     "text": [
      "fitted in 3.95 s\n",
      "predicted in 0.02 s\n",
      "LogisticRegression fold 1 completed in 3.98 s\n"
     ]
    },
    {
     "name": "stderr",
     "output_type": "stream",
     "text": [
      "C:\\Users\\michen\\miniconda3\\envs\\capstone_pyspark_38\\lib\\site-packages\\daal4py\\sklearn\\linear_model\\logistic_path.py:432: ConvergenceWarning: lbfgs failed to converge (status=1):\n",
      "STOP: TOTAL NO. of ITERATIONS REACHED LIMIT.\n",
      "\n",
      "Increase the number of iterations (max_iter) or scale the data as shown in:\n",
      "    https://scikit-learn.org/stable/modules/preprocessing.html\n",
      "Please also refer to the documentation for alternative solver options:\n",
      "    https://scikit-learn.org/stable/modules/linear_model.html#logistic-regression\n",
      "  n_iter_i = _check_optimize_result(\n"
     ]
    },
    {
     "name": "stdout",
     "output_type": "stream",
     "text": [
      "fitted in 3.97 s\n",
      "predicted in 0.00 s\n",
      "LogisticRegression fold 2 completed in 3.97 s\n"
     ]
    },
    {
     "name": "stderr",
     "output_type": "stream",
     "text": [
      "C:\\Users\\michen\\miniconda3\\envs\\capstone_pyspark_38\\lib\\site-packages\\daal4py\\sklearn\\linear_model\\logistic_path.py:432: ConvergenceWarning: lbfgs failed to converge (status=1):\n",
      "STOP: TOTAL NO. of ITERATIONS REACHED LIMIT.\n",
      "\n",
      "Increase the number of iterations (max_iter) or scale the data as shown in:\n",
      "    https://scikit-learn.org/stable/modules/preprocessing.html\n",
      "Please also refer to the documentation for alternative solver options:\n",
      "    https://scikit-learn.org/stable/modules/linear_model.html#logistic-regression\n",
      "  n_iter_i = _check_optimize_result(\n"
     ]
    },
    {
     "name": "stdout",
     "output_type": "stream",
     "text": [
      "fitted in 3.82 s\n",
      "predicted in 0.00 s\n",
      "LogisticRegression fold 3 completed in 3.84 s\n"
     ]
    },
    {
     "name": "stderr",
     "output_type": "stream",
     "text": [
      "C:\\Users\\michen\\miniconda3\\envs\\capstone_pyspark_38\\lib\\site-packages\\daal4py\\sklearn\\linear_model\\logistic_path.py:432: ConvergenceWarning: lbfgs failed to converge (status=1):\n",
      "STOP: TOTAL NO. of ITERATIONS REACHED LIMIT.\n",
      "\n",
      "Increase the number of iterations (max_iter) or scale the data as shown in:\n",
      "    https://scikit-learn.org/stable/modules/preprocessing.html\n",
      "Please also refer to the documentation for alternative solver options:\n",
      "    https://scikit-learn.org/stable/modules/linear_model.html#logistic-regression\n",
      "  n_iter_i = _check_optimize_result(\n"
     ]
    },
    {
     "name": "stdout",
     "output_type": "stream",
     "text": [
      "fitted in 3.80 s\n",
      "predicted in 0.02 s\n",
      "LogisticRegression fold 4 completed in 3.81 s\n"
     ]
    },
    {
     "name": "stderr",
     "output_type": "stream",
     "text": [
      "C:\\Users\\michen\\miniconda3\\envs\\capstone_pyspark_38\\lib\\site-packages\\daal4py\\sklearn\\linear_model\\logistic_path.py:432: ConvergenceWarning: lbfgs failed to converge (status=1):\n",
      "STOP: TOTAL NO. of ITERATIONS REACHED LIMIT.\n",
      "\n",
      "Increase the number of iterations (max_iter) or scale the data as shown in:\n",
      "    https://scikit-learn.org/stable/modules/preprocessing.html\n",
      "Please also refer to the documentation for alternative solver options:\n",
      "    https://scikit-learn.org/stable/modules/linear_model.html#logistic-regression\n",
      "  n_iter_i = _check_optimize_result(\n"
     ]
    },
    {
     "name": "stdout",
     "output_type": "stream",
     "text": [
      "fitted in 3.97 s\n",
      "predicted in 0.00 s\n",
      "LogisticRegression fold 5 completed in 3.98 s\n",
      "stored LogisticRegression for neutral classification in 20.43 s\n",
      "evaluating LGBM...\n",
      "fitted in 23.27 s\n",
      "predicted in 0.13 s\n",
      "LGBM fold 1 completed in 23.39 s\n",
      "fitted in 33.58 s\n",
      "predicted in 0.13 s\n",
      "LGBM fold 2 completed in 33.72 s\n",
      "fitted in 27.77 s\n",
      "predicted in 0.11 s\n",
      "LGBM fold 3 completed in 27.89 s\n",
      "fitted in 25.85 s\n",
      "predicted in 0.14 s\n",
      "LGBM fold 4 completed in 25.99 s\n",
      "fitted in 25.97 s\n",
      "predicted in 0.13 s\n",
      "LGBM fold 5 completed in 26.11 s\n",
      "stored LGBM for neutral classification in 137.97 s\n",
      "evaluating MLP...\n",
      "fitted in 23.16 s\n",
      "predicted in 0.02 s\n",
      "MLP fold 1 completed in 23.19 s\n",
      "fitted in 23.18 s\n",
      "predicted in 0.02 s\n",
      "MLP fold 2 completed in 23.20 s\n",
      "fitted in 23.02 s\n",
      "predicted in 0.02 s\n",
      "MLP fold 3 completed in 23.04 s\n",
      "fitted in 22.23 s\n",
      "predicted in 0.02 s\n",
      "MLP fold 4 completed in 22.27 s\n",
      "fitted in 23.12 s\n",
      "predicted in 0.02 s\n",
      "MLP fold 5 completed in 23.14 s\n",
      "stored MLP for neutral classification in 115.55 s\n",
      "evaluating Ridge...\n",
      "fitted in 1.12 s\n",
      "predicted in 0.00 s\n",
      "Ridge fold 1 completed in 1.13 s\n",
      "fitted in 1.17 s\n",
      "predicted in 0.01 s\n",
      "Ridge fold 2 completed in 1.19 s\n",
      "fitted in 1.14 s\n",
      "predicted in 0.01 s\n",
      "Ridge fold 3 completed in 1.16 s\n",
      "fitted in 1.08 s\n",
      "predicted in 0.01 s\n",
      "Ridge fold 4 completed in 1.09 s\n",
      "fitted in 1.10 s\n",
      "predicted in 0.01 s\n",
      "Ridge fold 5 completed in 1.12 s\n",
      "stored Ridge for neutral classification in 6.44 s\n",
      "evaluating SGD...\n",
      "fitted in 7.29 s\n",
      "predicted in 0.06 s\n",
      "SGD fold 1 completed in 7.37 s\n",
      "fitted in 5.64 s\n",
      "predicted in 0.07 s\n",
      "SGD fold 2 completed in 5.72 s\n",
      "fitted in 5.92 s\n",
      "predicted in 0.06 s\n",
      "SGD fold 3 completed in 5.97 s\n",
      "fitted in 5.42 s\n",
      "predicted in 0.10 s\n",
      "SGD fold 4 completed in 5.52 s\n",
      "fitted in 4.88 s\n",
      "predicted in 0.08 s\n",
      "SGD fold 5 completed in 4.96 s\n",
      "stored SGD for neutral classification in 30.32 s\n",
      "evaluating SVC...\n",
      "fitted in 17.07 s\n",
      "predicted in 1.53 s\n",
      "SVC fold 1 completed in 18.60 s\n",
      "fitted in 17.57 s\n",
      "predicted in 1.36 s\n",
      "SVC fold 2 completed in 18.94 s\n",
      "fitted in 16.19 s\n",
      "predicted in 1.37 s\n",
      "SVC fold 3 completed in 17.57 s\n",
      "fitted in 15.25 s\n",
      "predicted in 1.80 s\n",
      "SVC fold 4 completed in 17.05 s\n",
      "fitted in 15.41 s\n",
      "predicted in 1.52 s\n",
      "SVC fold 5 completed in 16.94 s\n",
      "stored SVC for neutral classification in 89.71 s\n",
      "time: 6min 42s\n"
     ]
    }
   ],
   "source": [
    "case = \"neutral\"\n",
    "for model in tqdm(MODELS):\n",
    "    loop_begin = time()\n",
    "    print(f\"evaluating {model}...\")\n",
    "    store_result(\n",
    "        where=results_,\n",
    "        case=case,\n",
    "        model_name=model,\n",
    "        avg_scores=evaluate_model(model, case, track_fold_time=True),\n",
    "    )\n",
    "    print(f\"stored {model} for {case} classification in {time() - loop_begin:.2f} s\")\n",
    "    _ = gc_collect()"
   ]
  },
  {
   "cell_type": "code",
   "execution_count": 18,
   "metadata": {},
   "outputs": [
    {
     "data": {
      "application/vnd.jupyter.widget-view+json": {
       "model_id": "3ea0d4cb55a647099e3aab588d777e90",
       "version_major": 2,
       "version_minor": 0
      },
      "text/plain": [
       "  0%|          | 0/7 [00:00<?, ?it/s]"
      ]
     },
     "metadata": {},
     "output_type": "display_data"
    },
    {
     "name": "stdout",
     "output_type": "stream",
     "text": [
      "evaluating Dummy...\n",
      "fitted in 0.00 s\n",
      "predicted in 0.00 s\n",
      "Dummy fold 1 completed in 0.01 s\n",
      "fitted in 0.00 s\n",
      "predicted in 0.00 s\n",
      "Dummy fold 2 completed in 0.01 s\n",
      "fitted in 0.00 s\n",
      "predicted in 0.00 s\n",
      "Dummy fold 3 completed in 0.01 s\n",
      "fitted in 0.00 s\n",
      "predicted in 0.00 s\n",
      "Dummy fold 4 completed in 0.01 s\n",
      "fitted in 0.00 s\n",
      "predicted in 0.00 s\n",
      "Dummy fold 5 completed in 0.00 s\n",
      "stored Dummy for ternary classification in 0.73 s\n",
      "evaluating LogisticRegression...\n"
     ]
    },
    {
     "name": "stderr",
     "output_type": "stream",
     "text": [
      "C:\\Users\\michen\\miniconda3\\envs\\capstone_pyspark_38\\lib\\site-packages\\daal4py\\sklearn\\linear_model\\logistic_path.py:432: ConvergenceWarning: lbfgs failed to converge (status=1):\n",
      "STOP: TOTAL NO. of ITERATIONS REACHED LIMIT.\n",
      "\n",
      "Increase the number of iterations (max_iter) or scale the data as shown in:\n",
      "    https://scikit-learn.org/stable/modules/preprocessing.html\n",
      "Please also refer to the documentation for alternative solver options:\n",
      "    https://scikit-learn.org/stable/modules/linear_model.html#logistic-regression\n",
      "  n_iter_i = _check_optimize_result(\n"
     ]
    },
    {
     "name": "stdout",
     "output_type": "stream",
     "text": [
      "fitted in 8.67 s\n",
      "predicted in 0.03 s\n",
      "LogisticRegression fold 1 completed in 8.72 s\n"
     ]
    },
    {
     "name": "stderr",
     "output_type": "stream",
     "text": [
      "C:\\Users\\michen\\miniconda3\\envs\\capstone_pyspark_38\\lib\\site-packages\\daal4py\\sklearn\\linear_model\\logistic_path.py:432: ConvergenceWarning: lbfgs failed to converge (status=1):\n",
      "STOP: TOTAL NO. of ITERATIONS REACHED LIMIT.\n",
      "\n",
      "Increase the number of iterations (max_iter) or scale the data as shown in:\n",
      "    https://scikit-learn.org/stable/modules/preprocessing.html\n",
      "Please also refer to the documentation for alternative solver options:\n",
      "    https://scikit-learn.org/stable/modules/linear_model.html#logistic-regression\n",
      "  n_iter_i = _check_optimize_result(\n"
     ]
    },
    {
     "name": "stdout",
     "output_type": "stream",
     "text": [
      "fitted in 7.96 s\n",
      "predicted in 0.03 s\n",
      "LogisticRegression fold 2 completed in 8.01 s\n"
     ]
    },
    {
     "name": "stderr",
     "output_type": "stream",
     "text": [
      "C:\\Users\\michen\\miniconda3\\envs\\capstone_pyspark_38\\lib\\site-packages\\daal4py\\sklearn\\linear_model\\logistic_path.py:432: ConvergenceWarning: lbfgs failed to converge (status=1):\n",
      "STOP: TOTAL NO. of ITERATIONS REACHED LIMIT.\n",
      "\n",
      "Increase the number of iterations (max_iter) or scale the data as shown in:\n",
      "    https://scikit-learn.org/stable/modules/preprocessing.html\n",
      "Please also refer to the documentation for alternative solver options:\n",
      "    https://scikit-learn.org/stable/modules/linear_model.html#logistic-regression\n",
      "  n_iter_i = _check_optimize_result(\n"
     ]
    },
    {
     "name": "stdout",
     "output_type": "stream",
     "text": [
      "fitted in 7.60 s\n",
      "predicted in 0.03 s\n",
      "LogisticRegression fold 3 completed in 7.63 s\n"
     ]
    },
    {
     "name": "stderr",
     "output_type": "stream",
     "text": [
      "C:\\Users\\michen\\miniconda3\\envs\\capstone_pyspark_38\\lib\\site-packages\\daal4py\\sklearn\\linear_model\\logistic_path.py:432: ConvergenceWarning: lbfgs failed to converge (status=1):\n",
      "STOP: TOTAL NO. of ITERATIONS REACHED LIMIT.\n",
      "\n",
      "Increase the number of iterations (max_iter) or scale the data as shown in:\n",
      "    https://scikit-learn.org/stable/modules/preprocessing.html\n",
      "Please also refer to the documentation for alternative solver options:\n",
      "    https://scikit-learn.org/stable/modules/linear_model.html#logistic-regression\n",
      "  n_iter_i = _check_optimize_result(\n"
     ]
    },
    {
     "name": "stdout",
     "output_type": "stream",
     "text": [
      "fitted in 7.71 s\n",
      "predicted in 0.05 s\n",
      "LogisticRegression fold 4 completed in 7.75 s\n"
     ]
    },
    {
     "name": "stderr",
     "output_type": "stream",
     "text": [
      "C:\\Users\\michen\\miniconda3\\envs\\capstone_pyspark_38\\lib\\site-packages\\daal4py\\sklearn\\linear_model\\logistic_path.py:432: ConvergenceWarning: lbfgs failed to converge (status=1):\n",
      "STOP: TOTAL NO. of ITERATIONS REACHED LIMIT.\n",
      "\n",
      "Increase the number of iterations (max_iter) or scale the data as shown in:\n",
      "    https://scikit-learn.org/stable/modules/preprocessing.html\n",
      "Please also refer to the documentation for alternative solver options:\n",
      "    https://scikit-learn.org/stable/modules/linear_model.html#logistic-regression\n",
      "  n_iter_i = _check_optimize_result(\n"
     ]
    },
    {
     "name": "stdout",
     "output_type": "stream",
     "text": [
      "fitted in 7.60 s\n",
      "predicted in 0.03 s\n",
      "LogisticRegression fold 5 completed in 7.65 s\n",
      "stored LogisticRegression for ternary classification in 40.60 s\n",
      "evaluating LGBM...\n",
      "fitted in 63.67 s\n",
      "predicted in 0.12 s\n",
      "LGBM fold 1 completed in 63.81 s\n",
      "fitted in 59.27 s\n",
      "predicted in 0.13 s\n",
      "LGBM fold 2 completed in 59.41 s\n",
      "fitted in 58.79 s\n",
      "predicted in 0.11 s\n",
      "LGBM fold 3 completed in 58.91 s\n",
      "fitted in 68.03 s\n",
      "predicted in 0.16 s\n",
      "LGBM fold 4 completed in 68.21 s\n",
      "fitted in 67.80 s\n",
      "predicted in 0.15 s\n",
      "LGBM fold 5 completed in 67.96 s\n",
      "stored LGBM for ternary classification in 319.15 s\n",
      "evaluating MLP...\n",
      "fitted in 30.40 s\n",
      "predicted in 0.03 s\n",
      "MLP fold 1 completed in 30.44 s\n",
      "fitted in 28.82 s\n",
      "predicted in 0.02 s\n",
      "MLP fold 2 completed in 28.84 s\n",
      "fitted in 29.78 s\n",
      "predicted in 0.01 s\n",
      "MLP fold 3 completed in 29.82 s\n",
      "fitted in 30.21 s\n",
      "predicted in 0.02 s\n",
      "MLP fold 4 completed in 30.25 s\n",
      "fitted in 30.96 s\n",
      "predicted in 0.04 s\n",
      "MLP fold 5 completed in 31.00 s\n",
      "stored MLP for ternary classification in 151.18 s\n",
      "evaluating Ridge...\n",
      "fitted in 1.34 s\n",
      "predicted in 0.01 s\n",
      "Ridge fold 1 completed in 1.36 s\n",
      "fitted in 1.39 s\n",
      "predicted in 0.01 s\n",
      "Ridge fold 2 completed in 1.41 s\n",
      "fitted in 1.36 s\n",
      "predicted in 0.01 s\n",
      "Ridge fold 3 completed in 1.38 s\n",
      "fitted in 1.14 s\n",
      "predicted in 0.01 s\n",
      "Ridge fold 4 completed in 1.16 s\n",
      "fitted in 1.20 s\n",
      "predicted in 0.01 s\n",
      "Ridge fold 5 completed in 1.21 s\n",
      "stored Ridge for ternary classification in 7.34 s\n",
      "evaluating SGD...\n",
      "fitted in 12.15 s\n",
      "predicted in 0.08 s\n",
      "SGD fold 1 completed in 12.23 s\n",
      "fitted in 9.25 s\n",
      "predicted in 0.07 s\n",
      "SGD fold 2 completed in 9.33 s\n",
      "fitted in 10.54 s\n",
      "predicted in 0.07 s\n",
      "SGD fold 3 completed in 10.62 s\n",
      "fitted in 9.05 s\n",
      "predicted in 0.10 s\n",
      "SGD fold 4 completed in 9.15 s\n",
      "fitted in 9.65 s\n",
      "predicted in 0.09 s\n",
      "SGD fold 5 completed in 9.74 s\n",
      "stored SGD for ternary classification in 51.75 s\n",
      "evaluating SVC...\n",
      "fitted in 30.48 s\n",
      "predicted in 2.41 s\n",
      "SVC fold 1 completed in 32.90 s\n",
      "fitted in 25.29 s\n",
      "predicted in 2.18 s\n",
      "SVC fold 2 completed in 27.47 s\n",
      "fitted in 23.91 s\n",
      "predicted in 2.15 s\n",
      "SVC fold 3 completed in 26.06 s\n",
      "fitted in 21.83 s\n",
      "predicted in 2.83 s\n",
      "SVC fold 4 completed in 24.66 s\n",
      "fitted in 23.47 s\n",
      "predicted in 2.59 s\n",
      "SVC fold 5 completed in 26.06 s\n",
      "stored SVC for ternary classification in 137.86 s\n",
      "time: 11min 49s\n"
     ]
    }
   ],
   "source": [
    "case = \"ternary\"\n",
    "for model in tqdm(MODELS):\n",
    "    loop_begin = time()\n",
    "    print(f\"evaluating {model}...\")\n",
    "    store_result(\n",
    "        where=results_,\n",
    "        case=case,\n",
    "        model_name=model,\n",
    "        avg_scores=evaluate_model(model, case, track_fold_time=True),\n",
    "    )\n",
    "    print(f\"stored {model} for {case} classification in {time() - loop_begin:.2f} s\")\n",
    "    _ = gc_collect()"
   ]
  },
  {
   "cell_type": "markdown",
   "metadata": {},
   "source": [
    "Let's peek at the results."
   ]
  },
  {
   "cell_type": "code",
   "execution_count": 19,
   "metadata": {},
   "outputs": [
    {
     "data": {
      "text/html": [
       "<div>\n",
       "<style scoped>\n",
       "    .dataframe tbody tr th:only-of-type {\n",
       "        vertical-align: middle;\n",
       "    }\n",
       "\n",
       "    .dataframe tbody tr th {\n",
       "        vertical-align: top;\n",
       "    }\n",
       "\n",
       "    .dataframe thead th {\n",
       "        text-align: right;\n",
       "    }\n",
       "</style>\n",
       "<table border=\"1\" class=\"dataframe\">\n",
       "  <thead>\n",
       "    <tr style=\"text-align: right;\">\n",
       "      <th></th>\n",
       "      <th>avg_cv_fit_time</th>\n",
       "      <th>avg_cv_geometric_mean</th>\n",
       "      <th>avg_cv_f1</th>\n",
       "      <th>avg_cv_predict_time</th>\n",
       "      <th>model_name</th>\n",
       "      <th>case</th>\n",
       "      <th>avg_cv_balanced_accuracy</th>\n",
       "    </tr>\n",
       "  </thead>\n",
       "  <tbody>\n",
       "    <tr>\n",
       "      <th>0</th>\n",
       "      <td>0.001201</td>\n",
       "      <td>0.000000</td>\n",
       "      <td>0.315900</td>\n",
       "      <td>0.001396</td>\n",
       "      <td>Dummy</td>\n",
       "      <td>negative</td>\n",
       "      <td>0.500000</td>\n",
       "    </tr>\n",
       "    <tr>\n",
       "      <th>1</th>\n",
       "      <td>0.001553</td>\n",
       "      <td>0.000000</td>\n",
       "      <td>0.204143</td>\n",
       "      <td>0.000200</td>\n",
       "      <td>Dummy</td>\n",
       "      <td>ternary</td>\n",
       "      <td>0.333333</td>\n",
       "    </tr>\n",
       "    <tr>\n",
       "      <th>2</th>\n",
       "      <td>0.003518</td>\n",
       "      <td>0.000000</td>\n",
       "      <td>0.220764</td>\n",
       "      <td>0.000196</td>\n",
       "      <td>Dummy</td>\n",
       "      <td>neutral</td>\n",
       "      <td>0.500000</td>\n",
       "    </tr>\n",
       "    <tr>\n",
       "      <th>3</th>\n",
       "      <td>18.247030</td>\n",
       "      <td>0.637481</td>\n",
       "      <td>0.649393</td>\n",
       "      <td>0.121871</td>\n",
       "      <td>LGBM</td>\n",
       "      <td>negative</td>\n",
       "      <td>0.643255</td>\n",
       "    </tr>\n",
       "    <tr>\n",
       "      <th>4</th>\n",
       "      <td>63.514382</td>\n",
       "      <td>0.504539</td>\n",
       "      <td>0.584568</td>\n",
       "      <td>0.133969</td>\n",
       "      <td>LGBM</td>\n",
       "      <td>ternary</td>\n",
       "      <td>0.541516</td>\n",
       "    </tr>\n",
       "    <tr>\n",
       "      <th>5</th>\n",
       "      <td>27.287065</td>\n",
       "      <td>0.641452</td>\n",
       "      <td>0.797871</td>\n",
       "      <td>0.126569</td>\n",
       "      <td>LGBM</td>\n",
       "      <td>neutral</td>\n",
       "      <td>0.684721</td>\n",
       "    </tr>\n",
       "    <tr>\n",
       "      <th>6</th>\n",
       "      <td>2.491212</td>\n",
       "      <td>0.635193</td>\n",
       "      <td>0.643370</td>\n",
       "      <td>0.009370</td>\n",
       "      <td>LogisticRegression</td>\n",
       "      <td>negative</td>\n",
       "      <td>0.638156</td>\n",
       "    </tr>\n",
       "    <tr>\n",
       "      <th>7</th>\n",
       "      <td>7.908238</td>\n",
       "      <td>0.533624</td>\n",
       "      <td>0.568103</td>\n",
       "      <td>0.034363</td>\n",
       "      <td>LogisticRegression</td>\n",
       "      <td>ternary</td>\n",
       "      <td>0.552604</td>\n",
       "    </tr>\n",
       "    <tr>\n",
       "      <th>8</th>\n",
       "      <td>3.901087</td>\n",
       "      <td>0.723217</td>\n",
       "      <td>0.798350</td>\n",
       "      <td>0.006245</td>\n",
       "      <td>LogisticRegression</td>\n",
       "      <td>neutral</td>\n",
       "      <td>0.737050</td>\n",
       "    </tr>\n",
       "    <tr>\n",
       "      <th>9</th>\n",
       "      <td>30.034786</td>\n",
       "      <td>0.542903</td>\n",
       "      <td>0.606529</td>\n",
       "      <td>0.023610</td>\n",
       "      <td>MLP</td>\n",
       "      <td>ternary</td>\n",
       "      <td>0.570701</td>\n",
       "    </tr>\n",
       "    <tr>\n",
       "      <th>10</th>\n",
       "      <td>22.941651</td>\n",
       "      <td>0.691966</td>\n",
       "      <td>0.821055</td>\n",
       "      <td>0.018602</td>\n",
       "      <td>MLP</td>\n",
       "      <td>neutral</td>\n",
       "      <td>0.723712</td>\n",
       "    </tr>\n",
       "    <tr>\n",
       "      <th>11</th>\n",
       "      <td>22.518746</td>\n",
       "      <td>0.656683</td>\n",
       "      <td>0.663294</td>\n",
       "      <td>0.018749</td>\n",
       "      <td>MLP</td>\n",
       "      <td>negative</td>\n",
       "      <td>0.661595</td>\n",
       "    </tr>\n",
       "    <tr>\n",
       "      <th>12</th>\n",
       "      <td>1.122468</td>\n",
       "      <td>0.725870</td>\n",
       "      <td>0.779163</td>\n",
       "      <td>0.006579</td>\n",
       "      <td>Ridge</td>\n",
       "      <td>neutral</td>\n",
       "      <td>0.736146</td>\n",
       "    </tr>\n",
       "    <tr>\n",
       "      <th>13</th>\n",
       "      <td>0.737498</td>\n",
       "      <td>0.638624</td>\n",
       "      <td>0.646152</td>\n",
       "      <td>0.006644</td>\n",
       "      <td>Ridge</td>\n",
       "      <td>negative</td>\n",
       "      <td>0.641386</td>\n",
       "    </tr>\n",
       "    <tr>\n",
       "      <th>14</th>\n",
       "      <td>1.286640</td>\n",
       "      <td>0.538631</td>\n",
       "      <td>0.560199</td>\n",
       "      <td>0.009735</td>\n",
       "      <td>Ridge</td>\n",
       "      <td>ternary</td>\n",
       "      <td>0.555818</td>\n",
       "    </tr>\n",
       "    <tr>\n",
       "      <th>15</th>\n",
       "      <td>5.829731</td>\n",
       "      <td>0.723044</td>\n",
       "      <td>0.793064</td>\n",
       "      <td>0.073504</td>\n",
       "      <td>SGD</td>\n",
       "      <td>neutral</td>\n",
       "      <td>0.734857</td>\n",
       "    </tr>\n",
       "    <tr>\n",
       "      <th>16</th>\n",
       "      <td>5.600833</td>\n",
       "      <td>0.629964</td>\n",
       "      <td>0.632959</td>\n",
       "      <td>0.068765</td>\n",
       "      <td>SGD</td>\n",
       "      <td>negative</td>\n",
       "      <td>0.633648</td>\n",
       "    </tr>\n",
       "    <tr>\n",
       "      <th>17</th>\n",
       "      <td>10.128055</td>\n",
       "      <td>0.538719</td>\n",
       "      <td>0.565676</td>\n",
       "      <td>0.080609</td>\n",
       "      <td>SGD</td>\n",
       "      <td>ternary</td>\n",
       "      <td>0.557024</td>\n",
       "    </tr>\n",
       "    <tr>\n",
       "      <th>18</th>\n",
       "      <td>16.298070</td>\n",
       "      <td>0.644017</td>\n",
       "      <td>0.805511</td>\n",
       "      <td>1.515020</td>\n",
       "      <td>SVC</td>\n",
       "      <td>neutral</td>\n",
       "      <td>0.692558</td>\n",
       "    </tr>\n",
       "    <tr>\n",
       "      <th>19</th>\n",
       "      <td>9.154160</td>\n",
       "      <td>0.665617</td>\n",
       "      <td>0.676071</td>\n",
       "      <td>1.928356</td>\n",
       "      <td>SVC</td>\n",
       "      <td>negative</td>\n",
       "      <td>0.671472</td>\n",
       "    </tr>\n",
       "    <tr>\n",
       "      <th>20</th>\n",
       "      <td>24.995112</td>\n",
       "      <td>0.512882</td>\n",
       "      <td>0.600478</td>\n",
       "      <td>2.429945</td>\n",
       "      <td>SVC</td>\n",
       "      <td>ternary</td>\n",
       "      <td>0.555348</td>\n",
       "    </tr>\n",
       "  </tbody>\n",
       "</table>\n",
       "</div>"
      ],
      "text/plain": [
       "    avg_cv_fit_time  avg_cv_geometric_mean  avg_cv_f1  avg_cv_predict_time  \\\n",
       "0          0.001201               0.000000   0.315900             0.001396   \n",
       "1          0.001553               0.000000   0.204143             0.000200   \n",
       "2          0.003518               0.000000   0.220764             0.000196   \n",
       "3         18.247030               0.637481   0.649393             0.121871   \n",
       "4         63.514382               0.504539   0.584568             0.133969   \n",
       "5         27.287065               0.641452   0.797871             0.126569   \n",
       "6          2.491212               0.635193   0.643370             0.009370   \n",
       "7          7.908238               0.533624   0.568103             0.034363   \n",
       "8          3.901087               0.723217   0.798350             0.006245   \n",
       "9         30.034786               0.542903   0.606529             0.023610   \n",
       "10        22.941651               0.691966   0.821055             0.018602   \n",
       "11        22.518746               0.656683   0.663294             0.018749   \n",
       "12         1.122468               0.725870   0.779163             0.006579   \n",
       "13         0.737498               0.638624   0.646152             0.006644   \n",
       "14         1.286640               0.538631   0.560199             0.009735   \n",
       "15         5.829731               0.723044   0.793064             0.073504   \n",
       "16         5.600833               0.629964   0.632959             0.068765   \n",
       "17        10.128055               0.538719   0.565676             0.080609   \n",
       "18        16.298070               0.644017   0.805511             1.515020   \n",
       "19         9.154160               0.665617   0.676071             1.928356   \n",
       "20        24.995112               0.512882   0.600478             2.429945   \n",
       "\n",
       "            model_name      case  avg_cv_balanced_accuracy  \n",
       "0                Dummy  negative                  0.500000  \n",
       "1                Dummy   ternary                  0.333333  \n",
       "2                Dummy   neutral                  0.500000  \n",
       "3                 LGBM  negative                  0.643255  \n",
       "4                 LGBM   ternary                  0.541516  \n",
       "5                 LGBM   neutral                  0.684721  \n",
       "6   LogisticRegression  negative                  0.638156  \n",
       "7   LogisticRegression   ternary                  0.552604  \n",
       "8   LogisticRegression   neutral                  0.737050  \n",
       "9                  MLP   ternary                  0.570701  \n",
       "10                 MLP   neutral                  0.723712  \n",
       "11                 MLP  negative                  0.661595  \n",
       "12               Ridge   neutral                  0.736146  \n",
       "13               Ridge  negative                  0.641386  \n",
       "14               Ridge   ternary                  0.555818  \n",
       "15                 SGD   neutral                  0.734857  \n",
       "16                 SGD  negative                  0.633648  \n",
       "17                 SGD   ternary                  0.557024  \n",
       "18                 SVC   neutral                  0.692558  \n",
       "19                 SVC  negative                  0.671472  \n",
       "20                 SVC   ternary                  0.555348  "
      ]
     },
     "execution_count": 19,
     "metadata": {},
     "output_type": "execute_result"
    },
    {
     "name": "stdout",
     "output_type": "stream",
     "text": [
      "time: 21.9 ms\n"
     ]
    }
   ],
   "source": [
    "results_df = (\n",
    "    pd.DataFrame(results_).sort_values(by=[\"model_name\"]).reset_index(drop=True)\n",
    ")\n",
    "results_df"
   ]
  },
  {
   "cell_type": "markdown",
   "metadata": {},
   "source": [
    "# Metaclassifier\n",
    "\n",
    "After the binary classifiers are evaluated, the metaclassifiers are evaluated based on the binary predictions. The metaclassifiers' fit and score times are estimated by summing the fit and score times of the base estimators."
   ]
  },
  {
   "cell_type": "code",
   "execution_count": 20,
   "metadata": {},
   "outputs": [
    {
     "data": {
      "application/vnd.jupyter.widget-view+json": {
       "model_id": "183b2cbe5cd245568c3f31998c1e5fda",
       "version_major": 2,
       "version_minor": 0
      },
      "text/plain": [
       "  0%|          | 0/7 [00:00<?, ?it/s]"
      ]
     },
     "metadata": {},
     "output_type": "display_data"
    },
    {
     "name": "stdout",
     "output_type": "stream",
     "text": [
      "stored hybrid ternary classification results for Dummy+Dummy\n",
      "stored hybrid ternary classification results for Dummy+LogisticRegression\n",
      "stored hybrid ternary classification results for Dummy+LGBM\n",
      "stored hybrid ternary classification results for Dummy+MLP\n",
      "stored hybrid ternary classification results for Dummy+Ridge\n",
      "stored hybrid ternary classification results for Dummy+SGD\n",
      "stored hybrid ternary classification results for Dummy+SVC\n",
      "stored hybrid ternary classification results for LogisticRegression+Dummy\n",
      "stored hybrid ternary classification results for LogisticRegression+LogisticRegression\n",
      "stored hybrid ternary classification results for LogisticRegression+LGBM\n",
      "stored hybrid ternary classification results for LogisticRegression+MLP\n",
      "stored hybrid ternary classification results for LogisticRegression+Ridge\n",
      "stored hybrid ternary classification results for LogisticRegression+SGD\n",
      "stored hybrid ternary classification results for LogisticRegression+SVC\n",
      "stored hybrid ternary classification results for LGBM+Dummy\n",
      "stored hybrid ternary classification results for LGBM+LogisticRegression\n",
      "stored hybrid ternary classification results for LGBM+LGBM\n",
      "stored hybrid ternary classification results for LGBM+MLP\n",
      "stored hybrid ternary classification results for LGBM+Ridge\n",
      "stored hybrid ternary classification results for LGBM+SGD\n",
      "stored hybrid ternary classification results for LGBM+SVC\n",
      "stored hybrid ternary classification results for MLP+Dummy\n",
      "stored hybrid ternary classification results for MLP+LogisticRegression\n",
      "stored hybrid ternary classification results for MLP+LGBM\n",
      "stored hybrid ternary classification results for MLP+MLP\n",
      "stored hybrid ternary classification results for MLP+Ridge\n",
      "stored hybrid ternary classification results for MLP+SGD\n",
      "stored hybrid ternary classification results for MLP+SVC\n",
      "stored hybrid ternary classification results for Ridge+Dummy\n",
      "stored hybrid ternary classification results for Ridge+LogisticRegression\n",
      "stored hybrid ternary classification results for Ridge+LGBM\n",
      "stored hybrid ternary classification results for Ridge+MLP\n",
      "stored hybrid ternary classification results for Ridge+Ridge\n",
      "stored hybrid ternary classification results for Ridge+SGD\n",
      "stored hybrid ternary classification results for Ridge+SVC\n",
      "stored hybrid ternary classification results for SGD+Dummy\n",
      "stored hybrid ternary classification results for SGD+LogisticRegression\n",
      "stored hybrid ternary classification results for SGD+LGBM\n",
      "stored hybrid ternary classification results for SGD+MLP\n",
      "stored hybrid ternary classification results for SGD+Ridge\n",
      "stored hybrid ternary classification results for SGD+SGD\n",
      "stored hybrid ternary classification results for SGD+SVC\n",
      "stored hybrid ternary classification results for SVC+Dummy\n",
      "stored hybrid ternary classification results for SVC+LogisticRegression\n",
      "stored hybrid ternary classification results for SVC+LGBM\n",
      "stored hybrid ternary classification results for SVC+MLP\n",
      "stored hybrid ternary classification results for SVC+Ridge\n",
      "stored hybrid ternary classification results for SVC+SGD\n",
      "stored hybrid ternary classification results for SVC+SVC\n",
      "time: 38.9 s\n"
     ]
    }
   ],
   "source": [
    "# set up the \"metaclassifier\"\n",
    "\n",
    "case = \"ternary_negneu\"\n",
    "ternary_hybrid_ytest: List[pd.Series] = [\n",
    "    DATA_CHOOSER[case][fold].y_test for fold in range(N_SPLITS)\n",
    "]  # list indexed by fold\n",
    "\n",
    "# convenience function\n",
    "get_time = lambda case, model_name, metric: results_df.query(\n",
    "    f\"case == '{case}' & model_name == '{model_name}'\"\n",
    ")[metric].values[0]\n",
    "\n",
    "predictions_df = pd.DataFrame(predictions_)\n",
    "\n",
    "for neutral_model in tqdm(MODELS.keys()):\n",
    "    for negative_model in MODELS.keys():\n",
    "        balanced_accuracy, f1, geometric_mean = [], [], []\n",
    "        model_combo = f\"{neutral_model}+{negative_model}\"\n",
    "        for fold_num in range(N_SPLITS):\n",
    "\n",
    "            # ensemble\n",
    "            fold_df = predictions_df.query(f\"fold == {fold_num}\")\n",
    "            neutral_condition = f\"case == 'neutral' & model == '{neutral_model}'\"\n",
    "            negative_condition = f\"case == 'negative' & model == '{negative_model}'\"\n",
    "            query_fold = lambda criteria: fold_df.query(criteria).y_pred.item()\n",
    "            df = pd.DataFrame(\n",
    "                {\n",
    "                    \"neutral_prediction\": query_fold(neutral_condition),\n",
    "                    \"negative_prediction\": query_fold(negative_condition),\n",
    "                }\n",
    "            )\n",
    "            del fold_df\n",
    "            del negative_condition\n",
    "            del neutral_condition\n",
    "            del query_fold\n",
    "\n",
    "            # \"predict\" 0: negative, 1: neutral, 2: positive\n",
    "            df[\"hybrid_prediction\"] = df.neutral_prediction.replace(True, 1)\n",
    "            df.loc[df[\"hybrid_prediction\"] == False, \"hybrid_prediction\"] = df.loc[\n",
    "                df[\"hybrid_prediction\"] == False, \"negative_prediction\"\n",
    "            ].replace([True, False], [0, 2])\n",
    "            y_pred = df.hybrid_prediction.astype(np.int8)\n",
    "            del df\n",
    "\n",
    "            # record y_pred\n",
    "            store_prediction(\n",
    "                where=predictions_,\n",
    "                prediction=Prediction(\n",
    "                    model=model_combo,\n",
    "                    case=\"ternary_negneu\",\n",
    "                    fold=fold_num,\n",
    "                    y_pred=y_pred,\n",
    "                ),\n",
    "            )\n",
    "\n",
    "            # score\n",
    "            score_params = {\n",
    "                \"y_true\": ternary_hybrid_ytest[fold_num],\n",
    "                \"y_pred\": y_pred,\n",
    "            }\n",
    "            balanced_accuracy.append(balanced_accuracy_score(**score_params))\n",
    "            f1.append(f1_score(**score_params, average=\"weighted\"))\n",
    "            geometric_mean.append(geometric_mean_score(**score_params))\n",
    "            del score_params\n",
    "            del y_pred\n",
    "\n",
    "            _ = gc_collect()\n",
    "\n",
    "        # convenience function\n",
    "        sum_times = lambda time_metric: get_time(\n",
    "            \"neutral\", neutral_model, time_metric\n",
    "        ) + get_time(\"negative\", negative_model, time_metric)\n",
    "\n",
    "        store_result(\n",
    "            where=results_,\n",
    "            case=\"ternary_negneu\",\n",
    "            model_name=model_combo,\n",
    "            avg_scores=AvgScores(\n",
    "                np.mean(balanced_accuracy),\n",
    "                np.mean(f1),\n",
    "                np.mean(geometric_mean),\n",
    "                sum_times(\"avg_cv_fit_time\"),\n",
    "                sum_times(\"avg_cv_predict_time\"),\n",
    "            ),\n",
    "        )\n",
    "\n",
    "        print(f\"stored hybrid ternary classification results for {model_combo}\")\n",
    "\n",
    "        del balanced_accuracy\n",
    "        del f1\n",
    "        del geometric_mean\n",
    "        del model_combo\n",
    "        _ = gc_collect()\n",
    "\n",
    "# re-define predictions_df since it has been modified\n",
    "predictions_df = pd.DataFrame(predictions_)"
   ]
  },
  {
   "cell_type": "markdown",
   "metadata": {},
   "source": [
    "Let's peek at the results."
   ]
  },
  {
   "cell_type": "code",
   "execution_count": 21,
   "metadata": {},
   "outputs": [
    {
     "data": {
      "text/html": [
       "<div>\n",
       "<style scoped>\n",
       "    .dataframe tbody tr th:only-of-type {\n",
       "        vertical-align: middle;\n",
       "    }\n",
       "\n",
       "    .dataframe tbody tr th {\n",
       "        vertical-align: top;\n",
       "    }\n",
       "\n",
       "    .dataframe thead th {\n",
       "        text-align: right;\n",
       "    }\n",
       "</style>\n",
       "<table border=\"1\" class=\"dataframe\">\n",
       "  <thead>\n",
       "    <tr style=\"text-align: right;\">\n",
       "      <th></th>\n",
       "      <th>avg_cv_fit_time</th>\n",
       "      <th>avg_cv_geometric_mean</th>\n",
       "      <th>avg_cv_f1</th>\n",
       "      <th>avg_cv_predict_time</th>\n",
       "      <th>model_name</th>\n",
       "      <th>case</th>\n",
       "      <th>avg_cv_balanced_accuracy</th>\n",
       "    </tr>\n",
       "  </thead>\n",
       "  <tbody>\n",
       "    <tr>\n",
       "      <th>0</th>\n",
       "      <td>0.001201</td>\n",
       "      <td>0.000000</td>\n",
       "      <td>0.315900</td>\n",
       "      <td>0.001396</td>\n",
       "      <td>Dummy</td>\n",
       "      <td>negative</td>\n",
       "      <td>0.500000</td>\n",
       "    </tr>\n",
       "    <tr>\n",
       "      <th>1</th>\n",
       "      <td>0.003518</td>\n",
       "      <td>0.000000</td>\n",
       "      <td>0.220764</td>\n",
       "      <td>0.000196</td>\n",
       "      <td>Dummy</td>\n",
       "      <td>neutral</td>\n",
       "      <td>0.500000</td>\n",
       "    </tr>\n",
       "    <tr>\n",
       "      <th>2</th>\n",
       "      <td>0.001553</td>\n",
       "      <td>0.000000</td>\n",
       "      <td>0.204143</td>\n",
       "      <td>0.000200</td>\n",
       "      <td>Dummy</td>\n",
       "      <td>ternary</td>\n",
       "      <td>0.333333</td>\n",
       "    </tr>\n",
       "    <tr>\n",
       "      <th>3</th>\n",
       "      <td>0.004719</td>\n",
       "      <td>0.000000</td>\n",
       "      <td>0.072606</td>\n",
       "      <td>0.001592</td>\n",
       "      <td>Dummy+Dummy</td>\n",
       "      <td>ternary_negneu</td>\n",
       "      <td>0.333333</td>\n",
       "    </tr>\n",
       "    <tr>\n",
       "      <th>4</th>\n",
       "      <td>18.250548</td>\n",
       "      <td>0.000000</td>\n",
       "      <td>0.186268</td>\n",
       "      <td>0.122067</td>\n",
       "      <td>Dummy+LGBM</td>\n",
       "      <td>ternary_negneu</td>\n",
       "      <td>0.362928</td>\n",
       "    </tr>\n",
       "    <tr>\n",
       "      <th>...</th>\n",
       "      <td>...</td>\n",
       "      <td>...</td>\n",
       "      <td>...</td>\n",
       "      <td>...</td>\n",
       "      <td>...</td>\n",
       "      <td>...</td>\n",
       "      <td>...</td>\n",
       "    </tr>\n",
       "    <tr>\n",
       "      <th>65</th>\n",
       "      <td>18.789282</td>\n",
       "      <td>0.509502</td>\n",
       "      <td>0.563697</td>\n",
       "      <td>1.524390</td>\n",
       "      <td>SVC+LogisticRegression</td>\n",
       "      <td>ternary_negneu</td>\n",
       "      <td>0.529247</td>\n",
       "    </tr>\n",
       "    <tr>\n",
       "      <th>66</th>\n",
       "      <td>38.816816</td>\n",
       "      <td>0.514313</td>\n",
       "      <td>0.576256</td>\n",
       "      <td>1.533769</td>\n",
       "      <td>SVC+MLP</td>\n",
       "      <td>ternary_negneu</td>\n",
       "      <td>0.538726</td>\n",
       "    </tr>\n",
       "    <tr>\n",
       "      <th>67</th>\n",
       "      <td>17.035568</td>\n",
       "      <td>0.512608</td>\n",
       "      <td>0.564325</td>\n",
       "      <td>1.521664</td>\n",
       "      <td>SVC+Ridge</td>\n",
       "      <td>ternary_negneu</td>\n",
       "      <td>0.531487</td>\n",
       "    </tr>\n",
       "    <tr>\n",
       "      <th>68</th>\n",
       "      <td>21.898903</td>\n",
       "      <td>0.506864</td>\n",
       "      <td>0.555225</td>\n",
       "      <td>1.583785</td>\n",
       "      <td>SVC+SGD</td>\n",
       "      <td>ternary_negneu</td>\n",
       "      <td>0.524932</td>\n",
       "    </tr>\n",
       "    <tr>\n",
       "      <th>69</th>\n",
       "      <td>25.452230</td>\n",
       "      <td>0.516103</td>\n",
       "      <td>0.587788</td>\n",
       "      <td>3.443376</td>\n",
       "      <td>SVC+SVC</td>\n",
       "      <td>ternary_negneu</td>\n",
       "      <td>0.544050</td>\n",
       "    </tr>\n",
       "  </tbody>\n",
       "</table>\n",
       "<p>70 rows × 7 columns</p>\n",
       "</div>"
      ],
      "text/plain": [
       "    avg_cv_fit_time  avg_cv_geometric_mean  avg_cv_f1  avg_cv_predict_time  \\\n",
       "0          0.001201               0.000000   0.315900             0.001396   \n",
       "1          0.003518               0.000000   0.220764             0.000196   \n",
       "2          0.001553               0.000000   0.204143             0.000200   \n",
       "3          0.004719               0.000000   0.072606             0.001592   \n",
       "4         18.250548               0.000000   0.186268             0.122067   \n",
       "..              ...                    ...        ...                  ...   \n",
       "65        18.789282               0.509502   0.563697             1.524390   \n",
       "66        38.816816               0.514313   0.576256             1.533769   \n",
       "67        17.035568               0.512608   0.564325             1.521664   \n",
       "68        21.898903               0.506864   0.555225             1.583785   \n",
       "69        25.452230               0.516103   0.587788             3.443376   \n",
       "\n",
       "                model_name            case  avg_cv_balanced_accuracy  \n",
       "0                    Dummy        negative                  0.500000  \n",
       "1                    Dummy         neutral                  0.500000  \n",
       "2                    Dummy         ternary                  0.333333  \n",
       "3              Dummy+Dummy  ternary_negneu                  0.333333  \n",
       "4               Dummy+LGBM  ternary_negneu                  0.362928  \n",
       "..                     ...             ...                       ...  \n",
       "65  SVC+LogisticRegression  ternary_negneu                  0.529247  \n",
       "66                 SVC+MLP  ternary_negneu                  0.538726  \n",
       "67               SVC+Ridge  ternary_negneu                  0.531487  \n",
       "68                 SVC+SGD  ternary_negneu                  0.524932  \n",
       "69                 SVC+SVC  ternary_negneu                  0.544050  \n",
       "\n",
       "[70 rows x 7 columns]"
      ]
     },
     "execution_count": 21,
     "metadata": {},
     "output_type": "execute_result"
    },
    {
     "name": "stdout",
     "output_type": "stream",
     "text": [
      "time: 26 ms\n"
     ]
    }
   ],
   "source": [
    "results_df = (\n",
    "    pd.DataFrame(results_).sort_values(by=[\"model_name\"]).reset_index(drop=True)\n",
    ")\n",
    "results_df"
   ]
  },
  {
   "cell_type": "markdown",
   "metadata": {},
   "source": [
    "# Results\n",
    "\n",
    "In this section, we create several visualizations to display the results."
   ]
  },
  {
   "cell_type": "code",
   "execution_count": 22,
   "metadata": {},
   "outputs": [
    {
     "name": "stdout",
     "output_type": "stream",
     "text": [
      "time: 122 ms\n"
     ]
    }
   ],
   "source": [
    "metric_names = {\n",
    "    \"avg_cv_balanced_accuracy\": \"balanced accuracy\",\n",
    "    \"avg_cv_f1\": \"F1 score\",\n",
    "    \"avg_cv_fit_time\": \"fit time\",\n",
    "    \"avg_cv_geometric_mean\": \"geometric mean\",\n",
    "    \"avg_cv_predict_time\": \"predict time\",\n",
    "}\n",
    "\n",
    "_ = gc_collect()"
   ]
  },
  {
   "cell_type": "code",
   "execution_count": 23,
   "metadata": {},
   "outputs": [
    {
     "name": "stdout",
     "output_type": "stream",
     "text": [
      "time: 117 ms\n"
     ]
    }
   ],
   "source": [
    "def plot_binary_metric(metric: str, results_df: pd.DataFrame) -> None:\n",
    "    \"\"\"Draw a barplot by binary classifier.\"\"\"\n",
    "    time_metric = \"time\" in metric\n",
    "    results_df = results_df.sort_values(by=metric, ascending=time_metric)\n",
    "    if time_metric:\n",
    "        # When plotting fit/predict times, the dummy classifier is omitted since it is always the fastest.\n",
    "        results_df = results_df.loc[~results_df.model_name.str.contains(\"Dummy\")]\n",
    "    g = sns.catplot(\n",
    "        x=\"model_name\",\n",
    "        y=metric,\n",
    "        hue=\"case\",\n",
    "        hue_order=[\"negative\", \"neutral\"],\n",
    "        data=results_df,\n",
    "        seed=SEED,\n",
    "        kind=\"bar\",\n",
    "        palette=dict(\n",
    "            zip(\n",
    "                cases := np.unique(results_df.case),\n",
    "                sns.color_palette(palette=\"colorblind\", n_colors=len(cases)),\n",
    "            )\n",
    "        ),\n",
    "        alpha=0.65,\n",
    "    )\n",
    "    g.fig.set_figwidth(16)\n",
    "    g.despine(**dict.fromkeys((\"left\", \"top\", \"right\"), True))\n",
    "    sns.move_legend(\n",
    "        g,\n",
    "        \"lower center\",\n",
    "        bbox_to_anchor=(0.5, 1),\n",
    "        ncol=2,\n",
    "        title=None,\n",
    "    )\n",
    "    if not time_metric:\n",
    "        plt.ylim(0, 1)\n",
    "    plt.setp(plt.gca().patches, linewidth=0)\n",
    "    plt.xlabel(\"\")\n",
    "    plt.ylabel(\"\")\n",
    "    plt.suptitle(f\"{metric_names[metric]}{' (s)' if time_metric else ''}\", x=0.2, y=1)\n",
    "    plt.show()\n",
    "\n",
    "\n",
    "_ = gc_collect()"
   ]
  },
  {
   "cell_type": "code",
   "execution_count": 24,
   "metadata": {},
   "outputs": [
    {
     "data": {
      "application/vnd.jupyter.widget-view+json": {
       "model_id": "affbb3b5bc3646219e6f662f389b7a68",
       "version_major": 2,
       "version_minor": 0
      },
      "text/plain": [
       "  0%|          | 0/5 [00:00<?, ?it/s]"
      ]
     },
     "metadata": {},
     "output_type": "display_data"
    },
    {
     "data": {
      "image/png": "[encoded data removed]",
      "text/plain": [
       "<Figure size 1152x360 with 1 Axes>"
      ]
     },
     "metadata": {
      "needs_background": "light"
     },
     "output_type": "display_data"
    },
    {
     "data": {
      "image/png": "[encoded data removed]",
      "text/plain": [
       "<Figure size 1152x360 with 1 Axes>"
      ]
     },
     "metadata": {
      "needs_background": "light"
     },
     "output_type": "display_data"
    },
    {
     "data": {
      "image/png": "[encoded data removed]",
      "text/plain": [
       "<Figure size 1152x360 with 1 Axes>"
      ]
     },
     "metadata": {
      "needs_background": "light"
     },
     "output_type": "display_data"
    },
    {
     "data": {
      "image/png": "[encoded data removed]",
      "text/plain": [
       "<Figure size 1152x360 with 1 Axes>"
      ]
     },
     "metadata": {
      "needs_background": "light"
     },
     "output_type": "display_data"
    },
    {
     "data": {
      "image/png": "[encoded data removed]",
      "text/plain": [
       "<Figure size 1152x360 with 1 Axes>"
      ]
     },
     "metadata": {
      "needs_background": "light"
     },
     "output_type": "display_data"
    },
    {
     "name": "stdout",
     "output_type": "stream",
     "text": [
      "time: 2.16 s\n"
     ]
    }
   ],
   "source": [
    "for metric in tqdm(METRICS):\n",
    "    plot_binary_metric(metric, results_df.loc[~results_df.case.str.contains(\"ternary\")])"
   ]
  },
  {
   "cell_type": "code",
   "execution_count": 25,
   "metadata": {},
   "outputs": [
    {
     "name": "stdout",
     "output_type": "stream",
     "text": [
      "time: 122 ms\n"
     ]
    }
   ],
   "source": [
    "def plot_ternary_metric(metric: str, results_df: pd.DataFrame) -> None:\n",
    "    \"\"\"Draw a barplot by ternary classifier.\"\"\"\n",
    "    time_metric = \"time\" in metric\n",
    "    results_df = results_df.sort_values(by=metric, ascending=time_metric)\n",
    "    if time_metric:\n",
    "        # When plotting fit/predict times, the pure dummy classifiers are omitted since it is always the fastest.\n",
    "        results_df = results_df.loc[\n",
    "            ~results_df.model_name.isin((\"Dummy\", \"Dummy+Dummy\"))\n",
    "        ]\n",
    "\n",
    "    g = sns.catplot(\n",
    "        x=metric,\n",
    "        y=\"model_name\",\n",
    "        data=results_df,\n",
    "        seed=SEED,\n",
    "        kind=\"bar\",\n",
    "        palette=\"colorblind\",\n",
    "        alpha=0.65,\n",
    "    )\n",
    "    g.fig.set_figwidth(10)\n",
    "    g.fig.set_figheight(16)\n",
    "    g.despine(**dict.fromkeys((\"bottom\", \"left\", \"top\", \"right\"), True))\n",
    "\n",
    "    ax = plt.gca()\n",
    "    ax.tick_params(axis=\"x\", labelbottom=True, labeltop=True)\n",
    "    plt.setp(ax.patches, linewidth=0)\n",
    "\n",
    "    if not time_metric:\n",
    "        plt.xlim(0, 1)\n",
    "    plt.xlabel(\"\")\n",
    "    plt.ylabel(\"\")\n",
    "\n",
    "    plt.suptitle(f\"{metric_names[metric]}{' (s)' if time_metric else ''}\", x=0.15)\n",
    "    plt.tight_layout()\n",
    "    plt.show()\n",
    "\n",
    "\n",
    "_ = gc_collect()"
   ]
  },
  {
   "cell_type": "code",
   "execution_count": 26,
   "metadata": {},
   "outputs": [
    {
     "data": {
      "application/vnd.jupyter.widget-view+json": {
       "model_id": "b7dd6eff8cd040c2b65b1e04ef1aaa66",
       "version_major": 2,
       "version_minor": 0
      },
      "text/plain": [
       "  0%|          | 0/5 [00:00<?, ?it/s]"
      ]
     },
     "metadata": {},
     "output_type": "display_data"
    },
    {
     "data": {
      "image/png": "[encoded data removed]",
      "text/plain": [
       "<Figure size 720x1152 with 1 Axes>"
      ]
     },
     "metadata": {
      "needs_background": "light"
     },
     "output_type": "display_data"
    },
    {
     "data": {
      "image/png": "[encoded data removed]",
      "text/plain": [
       "<Figure size 720x1152 with 1 Axes>"
      ]
     },
     "metadata": {
      "needs_background": "light"
     },
     "output_type": "display_data"
    },
    {
     "data": {
      "image/png": "[encoded data removed]",
      "text/plain": [
       "<Figure size 720x1152 with 1 Axes>"
      ]
     },
     "metadata": {
      "needs_background": "light"
     },
     "output_type": "display_data"
    },
    {
     "data": {
      "image/png": "[encoded data removed]",
      "text/plain": [
       "<Figure size 720x1152 with 1 Axes>"
      ]
     },
     "metadata": {
      "needs_background": "light"
     },
     "output_type": "display_data"
    },
    {
     "data": {
      "image/png": "[encoded data removed]",
      "text/plain": [
       "<Figure size 720x1152 with 1 Axes>"
      ]
     },
     "metadata": {
      "needs_background": "light"
     },
     "output_type": "display_data"
    },
    {
     "name": "stdout",
     "output_type": "stream",
     "text": [
      "time: 8.18 s\n"
     ]
    }
   ],
   "source": [
    "for metric in tqdm(METRICS):\n",
    "    plot_ternary_metric(metric, results_df.loc[results_df.case.str.contains(\"ternary\")])"
   ]
  },
  {
   "cell_type": "code",
   "execution_count": 30,
   "metadata": {},
   "outputs": [
    {
     "name": "stdout",
     "output_type": "stream",
     "text": [
      "time: 9.02 ms\n"
     ]
    }
   ],
   "source": [
    "# save table of results\n",
    "results_df.to_csv(f\"{DATA_OUT_FOLDER}/explore_neg-neu_hybrid_results_CV{N_SPLITS}.csv\")"
   ]
  },
  {
   "cell_type": "markdown",
   "metadata": {},
   "source": [
    "# Discussion\n",
    "\n",
    "In previously assessed binary classification scenarios, trained models tended to be most accurate in the neutral/non-neutral or negative/non-negative cases; this pattern of performance is mirrored in the ternary cases. Conversely, performance tended to be worst when predicting positive labels across classification scenarios. Rather than disambiguating with low-skill models, we can disambiguate just by classifying whether an ostensibly non-neutral sample is negatively valenced. The hope is that by swapping for a higher-skill disambiguator, performance will improve. The downside of this approach is that potential mixed-valence states may be harder to disentangle.\n",
    "\n",
    "This notebook validates this approach for several models as evidenced by the high performance rankings of the two-tiered classifiers relative to that of the underlying single-tiered classifiers. Accordingly, the two-tiered classifier with the best balanced accuracy (LogisticRegression+SVC) was composed of the most performant classifiers in the respective binary cases. This effect is easily observed when considering balanced accuracy; however, it is attenuated or unobservable for the most performant classifiers examined.\n",
    "\n",
    "The vanilla MLP from sklearn is again one of the top contenders; the highest balanced accuracy in ternary classification observed so far (just over .57) was achieved by the MLP in this notebook. This leaves open the possibility of pursuing a pure deep learning approach; I imagine a straightforward dense net with one or two hidden layers could be tuned. Yet, its scores lead only by a thin margin with models that train or predict faster closely following.\n",
    "\n",
    "Although the MLP keeps showing up as a strong contender and thus warrants further investigation, it may be premature to discount the runner ups. This point is more salient when considering the binary scenarios, wherein the MLP is outperformed by other models depending on the task.\n",
    "\n",
    "At this point in model selection, we know we have to consider the MLP because it has good scores. We need to decide how to sensibly carry forward or remove the other models from consideration. To this end, selecting  high-scoring models while anchoring around our most performant model (MLP) for comparison can be a guiding principle.\n",
    "\n",
    "## Negative/non-negative classifiers\n",
    "\n",
    "The top two estimators are SVC followed by MLP for all three scores.\n",
    "\n",
    "## Neutral/non-neutral classifiers\n",
    "\n",
    "MLP ranks fourth by geometric mean and balanced accuracy but first by F1 score. From best to worst, the top three estimators are LogisticRegression, Ridge, and SGD by balanced accuracy and Ridge, LogisticRegression, and SGD by geometric mean.\n",
    "\n",
    "## Ternary classifiers\n",
    "\n",
    "To winnow the pool of candidates, two heuristics are useful: 1) Only the candidate classifiers that rank in the top 5 by one of the three scores are considered. 2) Any two-tiered estimator that is outperformed by at least one of its subestimators alone should be eliminated from consideration.\n",
    "\n",
    "Following these two heuristics, the candidate models that remain under each scoring metric are the following, ranked from best to worst:\n",
    "* Balanced accuracy: MLP, LogisticRegression+SVC, SGD+SVC, Ridge+SVC\n",
    "* F1: MLP, SVC\n",
    "* Geometric mean: MLP, SGD, Ridge\n",
    "\n",
    "## Next steps\n",
    "\n",
    "LGBM did not make it to the top five in the ternary scenarios and did not outperform MLP in either binary scenario. It was the second slowest single model in prediction following SVC. The single-stage LGBM was actually slower in training than the two-tiered LGBM (My hunch is that something OvO or OvR could be going on under the hood, but I haven't confirmed this). Consequently, I am happy to omit LGBM from continued consideration because 1) it is the slowest to train by far, 2) it did not outperform MLP in any binary task and 3) it did not make it to the top five in any ternary task.\n",
    "\n",
    "Since the runner ups include several linear models, PCA to condense the FRILL representations may be appropriate to explore."
   ]
  },
  {
   "cell_type": "code",
   "execution_count": 31,
   "metadata": {},
   "outputs": [
    {
     "name": "stdout",
     "output_type": "stream",
     "text": [
      "Time elapsed since notebook_begin_time: 1944.2725489139557 s\n",
      "time: 130 ms\n"
     ]
    }
   ],
   "source": [
    "print(f\"Time elapsed since notebook_begin_time: {time() - notebook_begin_time} s\")\n",
    "_ = gc_collect()"
   ]
  },
  {
   "cell_type": "markdown",
   "metadata": {},
   "source": [
    "[^top](#Contents)"
   ]
  },
  {
   "cell_type": "code",
   "execution_count": null,
   "metadata": {},
   "outputs": [],
   "source": []
  }
 ],
 "metadata": {
  "interpreter": {
   "hash": "e1781be99c106060f3abc0c9b91d3d379f24672894e2158d4b74304109955878"
  },
  "kernelspec": {
   "display_name": "Python 3 (ipykernel)",
   "language": "python",
   "name": "python3"
  },
  "language_info": {
   "codemirror_mode": {
    "name": "ipython",
    "version": 3
   },
   "file_extension": ".py",
   "mimetype": "text/x-python",
   "name": "python",
   "nbconvert_exporter": "python",
   "pygments_lexer": "ipython3",
   "version": "3.8.12"
  }
 },
 "nbformat": 4,
 "nbformat_minor": 4
}
