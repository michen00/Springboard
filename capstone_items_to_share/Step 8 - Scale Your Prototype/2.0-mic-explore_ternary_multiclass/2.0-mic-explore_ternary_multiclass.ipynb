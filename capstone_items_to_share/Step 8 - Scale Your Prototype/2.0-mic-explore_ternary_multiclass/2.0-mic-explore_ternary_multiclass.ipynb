{
 "cells": [
  {
   "cell_type": "markdown",
   "metadata": {},
   "source": [
    "# Contents\n",
    "* [Introduction](#Introduction)\n",
    "  * [FRILL](#FRILL)\n",
    "* [Imports and configuration](#Imports-and-configuration)\n",
    "* [Data loading](#Data-loading)\n",
    "* [Strata](#Strata)\n",
    "* [Setup](#Setup)\n",
    "* [Models](#Models)\n",
    "* [Test harness](#Test-harness)\n",
    "* [Results](#Results)\n",
    "  * [Visualization](#Visualization)\n",
    "* [Discussion](#Discussion)"
   ]
  },
  {
   "cell_type": "markdown",
   "metadata": {},
   "source": [
    "# Introduction\n",
    "\n",
    "In this notebook, the ternary classification scenario with no ensembling is considered with the development set.\n",
    "\n",
    "A test harness is prepared for several models that showed promise in some previous explorations.\n",
    "\n",
    "FRILL embeddings are provided as development data and the results are visualized."
   ]
  },
  {
   "cell_type": "markdown",
   "metadata": {},
   "source": [
    "## FRILL\n",
    "\n",
    "Here are two abstracts to introduce the FRILL embedding:"
   ]
  },
  {
   "cell_type": "markdown",
   "metadata": {},
   "source": [
    "  [Towards Learning a Universal Non-Semantic Representation of Speech (2020)](#https://doi.org/10.21437/Interspeech.2020-1242)\n",
    "> The ultimate goal of transfer learning is to reduce labeled data requirements by exploiting a pre-existing embedding model trained for different datasets or tasks. The visual and language communities have established benchmarks to compare embeddings, but the speech community has yet to do so. This paper proposes a benchmark for comparing speech representations on non-semantic tasks, and proposes a representation based on an unsupervised triplet-loss objective. The proposed representation outperforms other representations on the benchmark, and even exceeds state-of-the-art performance on a number of transfer learning tasks. The embedding is trained on a publicly available dataset, and it is tested on a variety of low-resource downstream tasks, including personalization tasks and medical domain. The benchmark, models, and evaluation code are publicly released.\n",
    "\n",
    "  [FRILL: A Non-Semantic Speech Embedding for Mobile Devices (2021)](#https://arxiv.org/abs/2011.04609)\n",
    "> Learned speech representations can drastically improve performance on tasks with limited labeled data. However, due to their size and complexity, learned representations have limited utility in mobile settings where run-time performance can be a significant bottleneck. In this work, we propose a class of lightweight non-semantic speech embedding models that run efficiently on mobile devices based on the recently proposed TRILL speech embedding. We combine novel architectural modifications with existing speed-up techniques to create embedding models that are fast enough to run in real-time on a mobile device and exhibit minimal performance degradation on a benchmark of non-semantic speech tasks. One such model (FRILL) is 32x faster on a Pixel 1 smartphone and 40% the size of TRILL, with an average decrease in accuracy of only 2%. To our knowledge, FRILL is the highest-quality non-semantic embedding designed for use on mobile devices. Furthermore, we demonstrate that these representations are useful for mobile health tasks such as non-speech human sounds detection and face-masked speech detection. Our models and code are publicly available.\n",
    "\n",
    "FRILL is therefore a promising embedding since non-semantic aspects of speech signals is what distinguishes each class for this data. And it's fast!\n",
    "\n",
    "Moreover, its output representation is a 2,048-element vector irrespective of input size. FRILL enables uniform handling of ragged sequences in an output format that is potentially more compact than spectrograms and MFCCs.\n",
    "\n",
    "Furthermore, the FRILL representations are not time series, affording the full armamentarium of classifiers."
   ]
  },
  {
   "cell_type": "markdown",
   "metadata": {},
   "source": [
    "# Imports and configuration"
   ]
  },
  {
   "cell_type": "code",
   "execution_count": 1,
   "metadata": {},
   "outputs": [],
   "source": [
    "# set random seeds\n",
    "\n",
    "from os import environ\n",
    "from random import seed as random_seed\n",
    "from numpy.random import seed as np_seed\n",
    "from tensorflow.random import set_seed\n",
    "\n",
    "\n",
    "def reset_seeds(seed: int) -> None:\n",
    "    \"\"\"Utility function for resetting random seeds\"\"\"\n",
    "    environ[\"PYTHONHASHSEED\"] = str(seed)\n",
    "    random_seed(seed)\n",
    "    np_seed(seed)\n",
    "    set_seed(seed)\n",
    "\n",
    "\n",
    "reset_seeds(SEED := 2021)"
   ]
  },
  {
   "cell_type": "code",
   "execution_count": 2,
   "metadata": {},
   "outputs": [],
   "source": [
    "# extensions\n",
    "%load_ext autotime\n",
    "%load_ext lab_black\n",
    "%load_ext nb_black"
   ]
  },
  {
   "cell_type": "code",
   "execution_count": 3,
   "metadata": {},
   "outputs": [
    {
     "name": "stderr",
     "output_type": "stream",
     "text": [
      "Intel(R) Extension for Scikit-learn* enabled (https://github.com/intel/scikit-learn-intelex)\n"
     ]
    },
    {
     "name": "stdout",
     "output_type": "stream",
     "text": [
      "time: 5.42 s\n"
     ]
    }
   ],
   "source": [
    "# core\n",
    "import numpy as np\n",
    "import pandas as pd\n",
    "\n",
    "# utility\n",
    "from collections import namedtuple\n",
    "from gc import collect as gc_collect\n",
    "from time import time\n",
    "from tqdm.notebook import tqdm\n",
    "\n",
    "# faster pandas/sklearn\n",
    "import swifter\n",
    "from sklearnex import patch_sklearn\n",
    "\n",
    "patch_sklearn()\n",
    "\n",
    "# typing\n",
    "from typing import Callable, Tuple\n",
    "from sklearn.base import BaseEstimator\n",
    "\n",
    "# metrics\n",
    "from sklearn.metrics import balanced_accuracy_score, f1_score\n",
    "\n",
    "# cross validator\n",
    "from sklearn.model_selection import StratifiedGroupKFold\n",
    "\n",
    "# sklearn classifiers\n",
    "from sklearn.dummy import DummyClassifier\n",
    "from sklearn.ensemble import (\n",
    "    AdaBoostClassifier,\n",
    "    RandomForestClassifier,\n",
    ")\n",
    "from sklearn.gaussian_process import GaussianProcessClassifier\n",
    "from sklearn.linear_model import LogisticRegression, RidgeClassifier, SGDClassifier\n",
    "from sklearn.multiclass import OneVsOneClassifier, OneVsRestClassifier\n",
    "from sklearn.neural_network import MLPClassifier\n",
    "from sklearn.svm import SVC\n",
    "\n",
    "# other boosting classifiers\n",
    "from lightgbm import LGBMClassifier\n",
    "from xgboost import XGBClassifier\n",
    "\n",
    "# visualization\n",
    "import matplotlib.pyplot as plt\n",
    "import seaborn as sns\n",
    "\n",
    "sns.set_context(\"notebook\")\n",
    "sns.set_style(\"whitegrid\")\n",
    "%matplotlib inline\n",
    "\n",
    "# display outputs w/o print calls\n",
    "from IPython.core.interactiveshell import InteractiveShell\n",
    "\n",
    "InteractiveShell.ast_node_interactivity = \"all\"\n",
    "\n",
    "# hide warnings\n",
    "import warnings\n",
    "\n",
    "warnings.filterwarnings(\"ignore\")"
   ]
  },
  {
   "cell_type": "code",
   "execution_count": 4,
   "metadata": {},
   "outputs": [
    {
     "name": "stdout",
     "output_type": "stream",
     "text": [
      "time: 113 ms\n"
     ]
    }
   ],
   "source": [
    "# Location of FRILL .feather files\n",
    "FRILL_FEATHERS_FOLDER = \"../1.0-mic-extract_FRILL_embeddings\"\n",
    "\n",
    "# Location where this notebook will output\n",
    "DATA_OUT_FOLDER = \".\"\n",
    "\n",
    "# Location where the FRILL module is stored locally\n",
    "LOCAL_FRILL = \"../../../FRILL/\"\n",
    "\n",
    "_ = gc_collect()"
   ]
  },
  {
   "cell_type": "markdown",
   "metadata": {},
   "source": [
    "# Data loading"
   ]
  },
  {
   "cell_type": "code",
   "execution_count": 5,
   "metadata": {},
   "outputs": [
    {
     "data": {
      "text/plain": [
       "True"
      ]
     },
     "execution_count": 5,
     "metadata": {},
     "output_type": "execute_result"
    },
    {
     "name": "stdout",
     "output_type": "stream",
     "text": [
      "time: 334 ms\n"
     ]
    }
   ],
   "source": [
    "# uncomment lines to undersample data\n",
    "data = pd.read_feather(f\"{FRILL_FEATHERS_FOLDER}/dev_FRILL.feather\").set_index(\"id\")\n",
    "# data = data.sample(frac=0.02, random_state=SEED).sort_index()\n",
    "labels = pd.read_feather(f\"{FRILL_FEATHERS_FOLDER}/dev_labels.feather\").set_index(\"id\")\n",
    "# labels = labels.loc[data.index].drop(columns=\"index\").sort_index()\n",
    "all(data.index == labels.index)\n",
    "# data = data.head(100)\n",
    "# labels = labels.head(100)"
   ]
  },
  {
   "cell_type": "code",
   "execution_count": 6,
   "metadata": {},
   "outputs": [
    {
     "data": {
      "text/html": [
       "<div>\n",
       "<style scoped>\n",
       "    .dataframe tbody tr th:only-of-type {\n",
       "        vertical-align: middle;\n",
       "    }\n",
       "\n",
       "    .dataframe tbody tr th {\n",
       "        vertical-align: top;\n",
       "    }\n",
       "\n",
       "    .dataframe thead th {\n",
       "        text-align: right;\n",
       "    }\n",
       "</style>\n",
       "<table border=\"1\" class=\"dataframe\">\n",
       "  <thead>\n",
       "    <tr style=\"text-align: right;\">\n",
       "      <th></th>\n",
       "      <th>0</th>\n",
       "      <th>1</th>\n",
       "      <th>2</th>\n",
       "      <th>3</th>\n",
       "      <th>4</th>\n",
       "      <th>5</th>\n",
       "      <th>6</th>\n",
       "      <th>7</th>\n",
       "      <th>8</th>\n",
       "      <th>9</th>\n",
       "      <th>...</th>\n",
       "      <th>2038</th>\n",
       "      <th>2039</th>\n",
       "      <th>2040</th>\n",
       "      <th>2041</th>\n",
       "      <th>2042</th>\n",
       "      <th>2043</th>\n",
       "      <th>2044</th>\n",
       "      <th>2045</th>\n",
       "      <th>2046</th>\n",
       "      <th>2047</th>\n",
       "    </tr>\n",
       "    <tr>\n",
       "      <th>id</th>\n",
       "      <th></th>\n",
       "      <th></th>\n",
       "      <th></th>\n",
       "      <th></th>\n",
       "      <th></th>\n",
       "      <th></th>\n",
       "      <th></th>\n",
       "      <th></th>\n",
       "      <th></th>\n",
       "      <th></th>\n",
       "      <th></th>\n",
       "      <th></th>\n",
       "      <th></th>\n",
       "      <th></th>\n",
       "      <th></th>\n",
       "      <th></th>\n",
       "      <th></th>\n",
       "      <th></th>\n",
       "      <th></th>\n",
       "      <th></th>\n",
       "      <th></th>\n",
       "    </tr>\n",
       "  </thead>\n",
       "  <tbody>\n",
       "    <tr>\n",
       "      <th>0</th>\n",
       "      <td>0.119926</td>\n",
       "      <td>-0.049218</td>\n",
       "      <td>0.039702</td>\n",
       "      <td>0.141101</td>\n",
       "      <td>0.044318</td>\n",
       "      <td>0.049631</td>\n",
       "      <td>0.016178</td>\n",
       "      <td>0.025797</td>\n",
       "      <td>-0.104466</td>\n",
       "      <td>-0.016044</td>\n",
       "      <td>...</td>\n",
       "      <td>-0.226529</td>\n",
       "      <td>-0.091773</td>\n",
       "      <td>0.028184</td>\n",
       "      <td>-0.074794</td>\n",
       "      <td>0.025474</td>\n",
       "      <td>0.046511</td>\n",
       "      <td>-0.002693</td>\n",
       "      <td>-0.017953</td>\n",
       "      <td>-0.146394</td>\n",
       "      <td>-0.06233</td>\n",
       "    </tr>\n",
       "  </tbody>\n",
       "</table>\n",
       "<p>1 rows × 2048 columns</p>\n",
       "</div>"
      ],
      "text/plain": [
       "           0         1         2         3         4         5         6  \\\n",
       "id                                                                         \n",
       "0   0.119926 -0.049218  0.039702  0.141101  0.044318  0.049631  0.016178   \n",
       "\n",
       "           7         8         9  ...      2038      2039      2040      2041  \\\n",
       "id                                ...                                           \n",
       "0   0.025797 -0.104466 -0.016044  ... -0.226529 -0.091773  0.028184 -0.074794   \n",
       "\n",
       "        2042      2043      2044      2045      2046     2047  \n",
       "id                                                             \n",
       "0   0.025474  0.046511 -0.002693 -0.017953 -0.146394 -0.06233  \n",
       "\n",
       "[1 rows x 2048 columns]"
      ]
     },
     "execution_count": 6,
     "metadata": {},
     "output_type": "execute_result"
    },
    {
     "name": "stdout",
     "output_type": "stream",
     "text": [
      "<class 'pandas.core.frame.DataFrame'>\n",
      "UInt64Index: 17703 entries, 0 to 39247\n",
      "Columns: 2048 entries, 0 to 2047\n",
      "dtypes: float32(2048)\n",
      "memory usage: 138.4 MB\n",
      "<class 'pandas.core.frame.DataFrame'>\n",
      "UInt64Index: 17703 entries, 0 to 39247\n",
      "Data columns (total 12 columns):\n",
      " #   Column          Non-Null Count  Dtype   \n",
      "---  ------          --------------  -----   \n",
      " 0   index           17703 non-null  int64   \n",
      " 1   file            17703 non-null  object  \n",
      " 2   source          17703 non-null  category\n",
      " 3   length          17703 non-null  category\n",
      " 4   speaker_id      17703 non-null  category\n",
      " 5   speaker_gender  17703 non-null  category\n",
      " 6   lang1           17703 non-null  category\n",
      " 7   emo             17703 non-null  category\n",
      " 8   valence         17703 non-null  int8    \n",
      " 9   neg             17703 non-null  bool    \n",
      " 10  neu             17703 non-null  bool    \n",
      " 11  pos             17703 non-null  bool    \n",
      "dtypes: bool(3), category(6), int64(1), int8(1), object(1)\n",
      "memory usage: 650.1+ KB\n"
     ]
    },
    {
     "data": {
      "text/html": [
       "<div>\n",
       "<style scoped>\n",
       "    .dataframe tbody tr th:only-of-type {\n",
       "        vertical-align: middle;\n",
       "    }\n",
       "\n",
       "    .dataframe tbody tr th {\n",
       "        vertical-align: top;\n",
       "    }\n",
       "\n",
       "    .dataframe thead th {\n",
       "        text-align: right;\n",
       "    }\n",
       "</style>\n",
       "<table border=\"1\" class=\"dataframe\">\n",
       "  <thead>\n",
       "    <tr style=\"text-align: right;\">\n",
       "      <th></th>\n",
       "      <th>index</th>\n",
       "      <th>file</th>\n",
       "      <th>source</th>\n",
       "      <th>length</th>\n",
       "      <th>speaker_id</th>\n",
       "      <th>speaker_gender</th>\n",
       "      <th>lang1</th>\n",
       "      <th>emo</th>\n",
       "      <th>valence</th>\n",
       "      <th>neg</th>\n",
       "      <th>neu</th>\n",
       "      <th>pos</th>\n",
       "    </tr>\n",
       "    <tr>\n",
       "      <th>id</th>\n",
       "      <th></th>\n",
       "      <th></th>\n",
       "      <th></th>\n",
       "      <th></th>\n",
       "      <th></th>\n",
       "      <th></th>\n",
       "      <th></th>\n",
       "      <th></th>\n",
       "      <th></th>\n",
       "      <th></th>\n",
       "      <th></th>\n",
       "      <th></th>\n",
       "    </tr>\n",
       "  </thead>\n",
       "  <tbody>\n",
       "    <tr>\n",
       "      <th>0</th>\n",
       "      <td>0</td>\n",
       "      <td>00000+aesdd+aesdd.1+f+ang+-1+ell+el-gr.wav</td>\n",
       "      <td>aesdd</td>\n",
       "      <td>medium</td>\n",
       "      <td>aesdd.1</td>\n",
       "      <td>f</td>\n",
       "      <td>ell</td>\n",
       "      <td>ang</td>\n",
       "      <td>0</td>\n",
       "      <td>True</td>\n",
       "      <td>False</td>\n",
       "      <td>False</td>\n",
       "    </tr>\n",
       "  </tbody>\n",
       "</table>\n",
       "</div>"
      ],
      "text/plain": [
       "    index                                        file source  length  \\\n",
       "id                                                                     \n",
       "0       0  00000+aesdd+aesdd.1+f+ang+-1+ell+el-gr.wav  aesdd  medium   \n",
       "\n",
       "   speaker_id speaker_gender lang1  emo  valence   neg    neu    pos  \n",
       "id                                                                    \n",
       "0     aesdd.1              f   ell  ang        0  True  False  False  "
      ]
     },
     "execution_count": 6,
     "metadata": {},
     "output_type": "execute_result"
    },
    {
     "name": "stdout",
     "output_type": "stream",
     "text": [
      "time: 223 ms\n"
     ]
    }
   ],
   "source": [
    "data.head(1)\n",
    "data.info()\n",
    "labels.info()\n",
    "labels.head(1)"
   ]
  },
  {
   "cell_type": "markdown",
   "metadata": {},
   "source": [
    "# Strata\n",
    "\n",
    "In this section, strata are set up for the train test split."
   ]
  },
  {
   "cell_type": "code",
   "execution_count": 7,
   "metadata": {},
   "outputs": [
    {
     "name": "stdout",
     "output_type": "stream",
     "text": [
      "time: 168 ms\n"
     ]
    }
   ],
   "source": [
    "n_splits = 3\n",
    "cv = StratifiedGroupKFold(n_splits=n_splits, shuffle=True, random_state=SEED)\n",
    "_ = gc_collect()"
   ]
  },
  {
   "cell_type": "code",
   "execution_count": 8,
   "metadata": {},
   "outputs": [
    {
     "name": "stderr",
     "output_type": "stream",
     "text": [
      "Pandas Apply: 100%|██████████| 17703/17703 [00:00<00:00, 40098.89it/s]"
     ]
    },
    {
     "name": "stdout",
     "output_type": "stream",
     "text": [
      "time: 512 ms\n"
     ]
    },
    {
     "name": "stderr",
     "output_type": "stream",
     "text": [
      "\n"
     ]
    }
   ],
   "source": [
    "# fields are concatentated for quick permutation omitting non-existent combos\n",
    "strata = labels[[\"speaker_id\", \"emo\", \"valence\", \"lang1\", \"length\"]]\n",
    "strata.valence = strata.valence.astype(str)\n",
    "strata = strata.swifter.apply(\"\".join, axis=1)"
   ]
  },
  {
   "cell_type": "code",
   "execution_count": 9,
   "metadata": {},
   "outputs": [
    {
     "name": "stdout",
     "output_type": "stream",
     "text": [
      "time: 155 ms\n"
     ]
    }
   ],
   "source": [
    "# helper for identifying strata with only i occurences\n",
    "get_solos = lambda i: np.unique(\n",
    "    strata.loc[\n",
    "        strata.isin(\n",
    "            (strata_counts := strata.value_counts())\n",
    "            .where(strata_counts == i)\n",
    "            .dropna()\n",
    "            .index\n",
    "        )\n",
    "    ]\n",
    "    .sample(frac=1, random_state=SEED)\n",
    "    .values\n",
    ")\n",
    "_ = gc_collect()"
   ]
  },
  {
   "cell_type": "markdown",
   "metadata": {},
   "source": [
    "The next cells combine strata with only 2 occurences with strata with only 1 occurence."
   ]
  },
  {
   "cell_type": "code",
   "execution_count": 10,
   "metadata": {},
   "outputs": [
    {
     "name": "stdout",
     "output_type": "stream",
     "text": [
      "before\n",
      "only 1: 382\n",
      "only 2: 186\n",
      "time: 29 ms\n"
     ]
    }
   ],
   "source": [
    "print(\"before\")\n",
    "only1 = get_solos(1)\n",
    "print(\"only 1:\", len(only1))\n",
    "only2 = get_solos(2)\n",
    "print(\"only 2:\", len(only2))"
   ]
  },
  {
   "cell_type": "code",
   "execution_count": 11,
   "metadata": {},
   "outputs": [
    {
     "name": "stdout",
     "output_type": "stream",
     "text": [
      "\n",
      "after\n",
      "only 1: 196\n",
      "only 2: 0\n",
      "time: 595 ms\n"
     ]
    }
   ],
   "source": [
    "# replace, 2 + 1 = 3\n",
    "count = 0\n",
    "for stratum_pair in zip(only1, only2):\n",
    "    strata.replace(stratum_pair, f\"stratum_group_{count}\", inplace=True)\n",
    "    count += 1\n",
    "print()\n",
    "\n",
    "print(\"after\")\n",
    "# one of these should print 0\n",
    "only1 = get_solos(1)\n",
    "print(\"only 1:\", len(only1))\n",
    "only2 = get_solos(2)\n",
    "print(\"only 2:\", len(only2))"
   ]
  },
  {
   "cell_type": "markdown",
   "metadata": {},
   "source": [
    "The next cell merges remaining strata with only 1 occurence in triplets."
   ]
  },
  {
   "cell_type": "code",
   "execution_count": 12,
   "metadata": {},
   "outputs": [
    {
     "name": "stdout",
     "output_type": "stream",
     "text": [
      "only 1: 1\n",
      "only 2: 0\n",
      "time: 182 ms\n"
     ]
    }
   ],
   "source": [
    "interval = len(only1) // n_splits\n",
    "for stratum_triplet in zip(\n",
    "    *[only1[interval * i : interval * (i + 1)] for i in range(n_splits)]\n",
    "):\n",
    "    strata.replace(stratum_triplet, f\"stratum_group_{count}\", inplace=True)\n",
    "    count += 1\n",
    "only1 = get_solos(1)\n",
    "print(\"only 1:\", len(only1))\n",
    "only2 = get_solos(2)\n",
    "print(\"only 2:\", len(only2))"
   ]
  },
  {
   "cell_type": "markdown",
   "metadata": {},
   "source": [
    "There is one stratum remaining with only 1 occurence. We will randomly choose another stratum with n_splits occurences and merge these."
   ]
  },
  {
   "cell_type": "code",
   "execution_count": 13,
   "metadata": {},
   "outputs": [
    {
     "data": {
      "text/plain": [
       "True"
      ]
     },
     "execution_count": 13,
     "metadata": {},
     "output_type": "execute_result"
    },
    {
     "data": {
      "text/plain": [
       "True"
      ]
     },
     "execution_count": 13,
     "metadata": {},
     "output_type": "execute_result"
    },
    {
     "name": "stdout",
     "output_type": "stream",
     "text": [
      "time: 31 ms\n"
     ]
    }
   ],
   "source": [
    "value = (\n",
    "    (strata_counts := strata.value_counts())\n",
    "    .where(strata_counts == n_splits)\n",
    "    .dropna()\n",
    "    .sample(n=1, random_state=SEED)\n",
    "    .index[0]\n",
    ")\n",
    "strata.replace([value] + only1.tolist(), f\"stratum_group_{count}\", inplace=True)\n",
    "get_solos(2).size == get_solos(1).size == 0\n",
    "len(data) == len(strata)"
   ]
  },
  {
   "cell_type": "markdown",
   "metadata": {},
   "source": [
    "# Setup\n",
    "\n",
    "In this section, we define some structures to keep track of models and scores.\n",
    "\n",
    "The next cell defines a Python dictionary to record the results of three-fold cross validation such that the results may be easily cast to a `pandas` dataframe."
   ]
  },
  {
   "cell_type": "code",
   "execution_count": 14,
   "metadata": {},
   "outputs": [
    {
     "name": "stdout",
     "output_type": "stream",
     "text": [
      "time: 2.02 ms\n"
     ]
    }
   ],
   "source": [
    "metrics = (\n",
    "    \"avg_cv_balanced_accuracy\",\n",
    "    \"avg_cv_f1\",\n",
    "    \"avg_cv_fit_time\",\n",
    "    \"avg_cv_predict_time\",\n",
    ")\n",
    "\n",
    "# to be cast to pd.DataFrame\n",
    "results = {key: [] for key in {\"model_name\", \"case\", *metrics}}\n",
    "\n",
    "AvgScores = namedtuple(\"AvgScores\", metrics)\n",
    "\n",
    "\n",
    "def store_result(case: str, model_name: str, avg_scores: AvgScores) -> None:\n",
    "    \"Appends a model's score and fit/predict times to the results.\"\n",
    "    for attribute, value in {\n",
    "        (\"model_name\", model_name),\n",
    "        (\"case\", case),\n",
    "        (\"avg_cv_balanced_accuracy\", avg_scores.avg_cv_balanced_accuracy),\n",
    "        (\"avg_cv_f1\", avg_scores.avg_cv_f1),\n",
    "        (\"avg_cv_fit_time\", avg_scores.avg_cv_fit_time),\n",
    "        (\"avg_cv_predict_time\", avg_scores.avg_cv_predict_time),\n",
    "    }:\n",
    "        results[attribute].append(value)"
   ]
  },
  {
   "cell_type": "markdown",
   "metadata": {},
   "source": [
    "# Models\n",
    "\n",
    "Thanks to FRILL, we may now use the gamut of classifiers provided by `sklearn`. Boosting methods outside of `sklearn` include `LightGBM` and `XGBoost`.\n",
    "\n",
    "For the most part, the default settings of each classifier are used. Where possible, the seed is set and all available cores are used. Each classifier is wrapped in a lambda function to ensure a brand new model is initialized each time the function is called."
   ]
  },
  {
   "cell_type": "code",
   "execution_count": 15,
   "metadata": {},
   "outputs": [
    {
     "name": "stdout",
     "output_type": "stream",
     "text": [
      "time: 1 ms\n"
     ]
    }
   ],
   "source": [
    "models = {\n",
    "    \"AdaBoostClassifier\": lambda: AdaBoostClassifier(random_state=SEED),\n",
    "    \"GaussianProcessClassifier\": lambda: GaussianProcessClassifier(\n",
    "        random_state=SEED, n_jobs=-1\n",
    "    ),\n",
    "    \"LogisticRegression\": lambda: LogisticRegression(random_state=SEED, n_jobs=-1),\n",
    "    \"MLPClassifier\": lambda: MLPClassifier(random_state=SEED),\n",
    "    \"RandomForestClassifier\": lambda: RandomForestClassifier(\n",
    "        n_jobs=-1, random_state=SEED\n",
    "    ),\n",
    "    \"RidgeClassifier\": lambda: RidgeClassifier(random_state=SEED),\n",
    "    \"SGDClassifier\": lambda: SGDClassifier(n_jobs=-1, random_state=SEED),\n",
    "    \"SVC\": lambda: SVC(random_state=SEED, probability=True),\n",
    "    \"LGBMClassifier\": lambda: LGBMClassifier(\n",
    "        boosting_type=\"rf\",\n",
    "        random_state=SEED,\n",
    "        n_jobs=-1,\n",
    "        subsample=0.75,\n",
    "        subsample_freq=1,\n",
    "    ),\n",
    "    \"XGBClassifier\": lambda: XGBClassifier(\n",
    "        eval_metric=\"mlogloss\", seed=SEED, use_label_encoder=False\n",
    "    ),\n",
    "}\n",
    "\n",
    "non_stack_models = {\n",
    "    \"DummyClassifier\": lambda: DummyClassifier(random_state=SEED),\n",
    "}"
   ]
  },
  {
   "cell_type": "markdown",
   "metadata": {},
   "source": [
    "# Test harness\n",
    "\n",
    "This section defines the test harness for evaluating models."
   ]
  },
  {
   "cell_type": "code",
   "execution_count": 16,
   "metadata": {},
   "outputs": [
    {
     "name": "stdout",
     "output_type": "stream",
     "text": [
      "time: 4.01 ms\n"
     ]
    }
   ],
   "source": [
    "def evaluate_model(\n",
    "    model_base: Callable,\n",
    "    case: str,\n",
    "    track_fold_time: bool = False,\n",
    ") -> Tuple[AvgScores, BaseEstimator]:\n",
    "    \"\"\"Evaluate a model with three-fold stratified grouped cross validation.\"\"\"\n",
    "\n",
    "    # prevents strange behavior in cross-validation on ternary cases\n",
    "    og_model_base = model_base\n",
    "\n",
    "    fit_times, predict_times, balanced_accuracy, f1 = [], [], [], []\n",
    "    count = 0\n",
    "    for train_idxs, test_idxs in cv.split(X=data, y=strata, groups=labels.speaker_id):\n",
    "        if track_fold_time:\n",
    "            fold_begin = time()\n",
    "            count += 1\n",
    "        model_base = og_model_base  # resets for ternary cases\n",
    "        X_test = data.iloc[test_idxs].reset_index(drop=True)\n",
    "        X_train = data.iloc[train_idxs].reset_index(drop=True)\n",
    "\n",
    "        if \"ternary\" in case:\n",
    "            y_train = labels.iloc[train_idxs].loc[:, \"valence\"]\n",
    "            y_test = labels.iloc[test_idxs].loc[:, \"valence\"]\n",
    "            if \"_\" in case:\n",
    "                # reset model_base\n",
    "                model = model_base()\n",
    "                if case == \"ternary_ovr\":\n",
    "                    model_base = lambda: OneVsRestClassifier(estimator=model, n_jobs=-1)\n",
    "                elif case == \"ternary_ovo\":\n",
    "                    model_base = lambda: OneVsOneClassifier(estimator=model, n_jobs=-1)\n",
    "        else:\n",
    "            label = case[:3]\n",
    "            y_train = labels.iloc[train_idxs].loc[:, label]\n",
    "            y_test = labels.iloc[test_idxs].loc[:, label]\n",
    "\n",
    "        # reset y indices\n",
    "        y_train, y_test = y_train.reset_index(drop=True), y_test.reset_index(drop=True)\n",
    "\n",
    "        # initialize model\n",
    "        model = model_base()\n",
    "\n",
    "        # fit\n",
    "        begin = time()\n",
    "        model.fit(X_train, y_train)\n",
    "        end = time()\n",
    "        fit_times.append(end - begin)\n",
    "\n",
    "        # predict\n",
    "        begin = time()\n",
    "        predicted = model.predict(X_test)\n",
    "        end = time()\n",
    "        predict_times.append(end - begin)\n",
    "\n",
    "        # score\n",
    "        score_params = {\"y_true\": y_test, \"y_pred\": predicted}\n",
    "        balanced_accuracy.append(balanced_accuracy_score(**score_params))\n",
    "        f1.append(f1_score(**score_params, average=\"weighted\"))\n",
    "\n",
    "        if track_fold_time:\n",
    "            print(\n",
    "                f\"{str(og_model_base()).split('(')[0]} fold {count} completed in {time() - fold_begin:.2f} s\"\n",
    "            )\n",
    "    return (\n",
    "        AvgScores(\n",
    "            *[np.mean(_) for _ in (balanced_accuracy, f1, fit_times, predict_times)]\n",
    "        ),\n",
    "        model,\n",
    "    )"
   ]
  },
  {
   "cell_type": "markdown",
   "metadata": {},
   "source": [
    "# Results\n",
    "\n",
    "We collect the results in this section."
   ]
  },
  {
   "cell_type": "code",
   "execution_count": 17,
   "metadata": {},
   "outputs": [
    {
     "name": "stdout",
     "output_type": "stream",
     "text": [
      "time: 133 ms\n"
     ]
    }
   ],
   "source": [
    "_ = gc_collect()\n",
    "case = \"ternary\""
   ]
  },
  {
   "cell_type": "code",
   "execution_count": 18,
   "metadata": {},
   "outputs": [
    {
     "data": {
      "application/vnd.jupyter.widget-view+json": {
       "model_id": "0617bb8d83d24edab85289b14640437b",
       "version_major": 2,
       "version_minor": 0
      },
      "text/plain": [
       "  0%|          | 0/1 [00:00<?, ?it/s]"
      ]
     },
     "metadata": {},
     "output_type": "display_data"
    },
    {
     "name": "stdout",
     "output_type": "stream",
     "text": [
      "stored DummyClassifier\n",
      "time: 843 ms\n"
     ]
    }
   ],
   "source": [
    "for model in tqdm(non_stack_models):\n",
    "    _ = gc_collect()\n",
    "    avg_scores, _ = evaluate_model(non_stack_models[model], case)\n",
    "    store_result(\n",
    "        case=case,\n",
    "        model_name=model,\n",
    "        avg_scores=avg_scores,\n",
    "    )\n",
    "    print(f\"stored {model}\")"
   ]
  },
  {
   "cell_type": "code",
   "execution_count": 19,
   "metadata": {},
   "outputs": [
    {
     "data": {
      "application/vnd.jupyter.widget-view+json": {
       "model_id": "8be9af24e1dd4145bf92f2511087cdc1",
       "version_major": 2,
       "version_minor": 0
      },
      "text/plain": [
       "  0%|          | 0/10 [00:00<?, ?it/s]"
      ]
     },
     "metadata": {},
     "output_type": "display_data"
    },
    {
     "name": "stdout",
     "output_type": "stream",
     "text": [
      "AdaBoostClassifier fold 1 completed in 158.93 s\n",
      "AdaBoostClassifier fold 2 completed in 142.13 s\n",
      "AdaBoostClassifier fold 3 completed in 195.30 s\n",
      "stored AdaBoostClassifier\n",
      "GaussianProcessClassifier fold 1 completed in 5960.69 s\n",
      "GaussianProcessClassifier fold 2 completed in 5320.29 s\n",
      "GaussianProcessClassifier fold 3 completed in 5756.15 s\n",
      "stored GaussianProcessClassifier\n",
      "LogisticRegression fold 1 completed in 5.12 s\n",
      "LogisticRegression fold 2 completed in 3.78 s\n",
      "LogisticRegression fold 3 completed in 3.86 s\n",
      "stored LogisticRegression\n",
      "MLPClassifier fold 1 completed in 58.47 s\n",
      "MLPClassifier fold 2 completed in 50.59 s\n",
      "MLPClassifier fold 3 completed in 57.29 s\n",
      "stored MLPClassifier\n",
      "RandomForestClassifier fold 1 completed in 5.19 s\n",
      "RandomForestClassifier fold 2 completed in 4.61 s\n",
      "RandomForestClassifier fold 3 completed in 5.24 s\n",
      "stored RandomForestClassifier\n",
      "RidgeClassifier fold 1 completed in 1.12 s\n",
      "RidgeClassifier fold 2 completed in 1.12 s\n",
      "RidgeClassifier fold 3 completed in 1.16 s\n",
      "stored RidgeClassifier\n",
      "SGDClassifier fold 1 completed in 4.19 s\n",
      "SGDClassifier fold 2 completed in 4.09 s\n",
      "SGDClassifier fold 3 completed in 4.87 s\n",
      "stored SGDClassifier\n",
      "SVC fold 1 completed in 36.76 s\n",
      "SVC fold 2 completed in 26.77 s\n",
      "SVC fold 3 completed in 30.69 s\n",
      "stored SVC\n",
      "LGBMClassifier fold 1 completed in 39.25 s\n",
      "LGBMClassifier fold 2 completed in 36.46 s\n",
      "LGBMClassifier fold 3 completed in 39.15 s\n",
      "stored LGBMClassifier\n",
      "XGBClassifier fold 1 completed in 415.29 s\n",
      "XGBClassifier fold 2 completed in 375.82 s\n",
      "XGBClassifier fold 3 completed in 422.59 s\n",
      "stored XGBClassifier\n",
      "time: 5h 19min 32s\n"
     ]
    }
   ],
   "source": [
    "for model in tqdm(models):\n",
    "    _ = gc_collect()\n",
    "    avg_scores, _ = evaluate_model(models[model], case, track_fold_time=True)\n",
    "    store_result(\n",
    "        case=case,\n",
    "        model_name=model,\n",
    "        avg_scores=avg_scores,\n",
    "    )\n",
    "    print(f\"stored {model}\")"
   ]
  },
  {
   "cell_type": "markdown",
   "metadata": {},
   "source": [
    "## Visualization\n",
    "\n",
    "In this section, we create several visualizations to display the results."
   ]
  },
  {
   "cell_type": "code",
   "execution_count": 20,
   "metadata": {},
   "outputs": [
    {
     "data": {
      "text/html": [
       "<div>\n",
       "<style scoped>\n",
       "    .dataframe tbody tr th:only-of-type {\n",
       "        vertical-align: middle;\n",
       "    }\n",
       "\n",
       "    .dataframe tbody tr th {\n",
       "        vertical-align: top;\n",
       "    }\n",
       "\n",
       "    .dataframe thead th {\n",
       "        text-align: right;\n",
       "    }\n",
       "</style>\n",
       "<table border=\"1\" class=\"dataframe\">\n",
       "  <thead>\n",
       "    <tr style=\"text-align: right;\">\n",
       "      <th></th>\n",
       "      <th>avg_cv_predict_time</th>\n",
       "      <th>avg_cv_balanced_accuracy</th>\n",
       "      <th>model_name</th>\n",
       "      <th>avg_cv_f1</th>\n",
       "      <th>avg_cv_fit_time</th>\n",
       "      <th>case</th>\n",
       "    </tr>\n",
       "  </thead>\n",
       "  <tbody>\n",
       "    <tr>\n",
       "      <th>0</th>\n",
       "      <td>0.336022</td>\n",
       "      <td>0.431314</td>\n",
       "      <td>AdaBoostClassifier</td>\n",
       "      <td>0.496964</td>\n",
       "      <td>164.928850</td>\n",
       "      <td>ternary</td>\n",
       "    </tr>\n",
       "    <tr>\n",
       "      <th>1</th>\n",
       "      <td>0.000000</td>\n",
       "      <td>0.333333</td>\n",
       "      <td>DummyClassifier</td>\n",
       "      <td>0.392212</td>\n",
       "      <td>0.000334</td>\n",
       "      <td>ternary</td>\n",
       "    </tr>\n",
       "    <tr>\n",
       "      <th>2</th>\n",
       "      <td>2618.361224</td>\n",
       "      <td>0.397004</td>\n",
       "      <td>GaussianProcessClassifier</td>\n",
       "      <td>0.457793</td>\n",
       "      <td>3059.964543</td>\n",
       "      <td>ternary</td>\n",
       "    </tr>\n",
       "    <tr>\n",
       "      <th>3</th>\n",
       "      <td>0.247682</td>\n",
       "      <td>0.416167</td>\n",
       "      <td>LGBMClassifier</td>\n",
       "      <td>0.494089</td>\n",
       "      <td>37.853771</td>\n",
       "      <td>ternary</td>\n",
       "    </tr>\n",
       "    <tr>\n",
       "      <th>4</th>\n",
       "      <td>0.086366</td>\n",
       "      <td>0.541630</td>\n",
       "      <td>LogisticRegression</td>\n",
       "      <td>0.599124</td>\n",
       "      <td>3.682085</td>\n",
       "      <td>ternary</td>\n",
       "    </tr>\n",
       "    <tr>\n",
       "      <th>5</th>\n",
       "      <td>0.052415</td>\n",
       "      <td>0.550274</td>\n",
       "      <td>MLPClassifier</td>\n",
       "      <td>0.604839</td>\n",
       "      <td>55.216148</td>\n",
       "      <td>ternary</td>\n",
       "    </tr>\n",
       "    <tr>\n",
       "      <th>6</th>\n",
       "      <td>0.176755</td>\n",
       "      <td>0.365694</td>\n",
       "      <td>RandomForestClassifier</td>\n",
       "      <td>0.431312</td>\n",
       "      <td>4.678738</td>\n",
       "      <td>ternary</td>\n",
       "    </tr>\n",
       "    <tr>\n",
       "      <th>7</th>\n",
       "      <td>0.028102</td>\n",
       "      <td>0.535629</td>\n",
       "      <td>RidgeClassifier</td>\n",
       "      <td>0.598483</td>\n",
       "      <td>0.932010</td>\n",
       "      <td>ternary</td>\n",
       "    </tr>\n",
       "    <tr>\n",
       "      <th>8</th>\n",
       "      <td>0.156182</td>\n",
       "      <td>0.552555</td>\n",
       "      <td>SGDClassifier</td>\n",
       "      <td>0.599329</td>\n",
       "      <td>4.054986</td>\n",
       "      <td>ternary</td>\n",
       "    </tr>\n",
       "    <tr>\n",
       "      <th>9</th>\n",
       "      <td>1.932768</td>\n",
       "      <td>0.516940</td>\n",
       "      <td>SVC</td>\n",
       "      <td>0.592538</td>\n",
       "      <td>29.303886</td>\n",
       "      <td>ternary</td>\n",
       "    </tr>\n",
       "    <tr>\n",
       "      <th>10</th>\n",
       "      <td>0.135485</td>\n",
       "      <td>0.478987</td>\n",
       "      <td>XGBClassifier</td>\n",
       "      <td>0.557006</td>\n",
       "      <td>404.233874</td>\n",
       "      <td>ternary</td>\n",
       "    </tr>\n",
       "  </tbody>\n",
       "</table>\n",
       "</div>"
      ],
      "text/plain": [
       "    avg_cv_predict_time  avg_cv_balanced_accuracy                 model_name  \\\n",
       "0              0.336022                  0.431314         AdaBoostClassifier   \n",
       "1              0.000000                  0.333333            DummyClassifier   \n",
       "2           2618.361224                  0.397004  GaussianProcessClassifier   \n",
       "3              0.247682                  0.416167             LGBMClassifier   \n",
       "4              0.086366                  0.541630         LogisticRegression   \n",
       "5              0.052415                  0.550274              MLPClassifier   \n",
       "6              0.176755                  0.365694     RandomForestClassifier   \n",
       "7              0.028102                  0.535629            RidgeClassifier   \n",
       "8              0.156182                  0.552555              SGDClassifier   \n",
       "9              1.932768                  0.516940                        SVC   \n",
       "10             0.135485                  0.478987              XGBClassifier   \n",
       "\n",
       "    avg_cv_f1  avg_cv_fit_time     case  \n",
       "0    0.496964       164.928850  ternary  \n",
       "1    0.392212         0.000334  ternary  \n",
       "2    0.457793      3059.964543  ternary  \n",
       "3    0.494089        37.853771  ternary  \n",
       "4    0.599124         3.682085  ternary  \n",
       "5    0.604839        55.216148  ternary  \n",
       "6    0.431312         4.678738  ternary  \n",
       "7    0.598483         0.932010  ternary  \n",
       "8    0.599329         4.054986  ternary  \n",
       "9    0.592538        29.303886  ternary  \n",
       "10   0.557006       404.233874  ternary  "
      ]
     },
     "execution_count": 20,
     "metadata": {},
     "output_type": "execute_result"
    },
    {
     "name": "stdout",
     "output_type": "stream",
     "text": [
      "time: 24 ms\n"
     ]
    }
   ],
   "source": [
    "results_df = (\n",
    "    pd.DataFrame(results).sort_values(by=[\"case\", \"model_name\"]).reset_index(drop=True)\n",
    ")\n",
    "results_df"
   ]
  },
  {
   "cell_type": "code",
   "execution_count": 21,
   "metadata": {},
   "outputs": [
    {
     "name": "stdout",
     "output_type": "stream",
     "text": [
      "time: 132 ms\n"
     ]
    }
   ],
   "source": [
    "metric_names = {\n",
    "    \"avg_cv_balanced_accuracy\": \"balanced accuracy\",\n",
    "    \"avg_cv_f1\": \"F1 score\",\n",
    "    \"avg_cv_fit_time\": \"fit time\",\n",
    "    \"avg_cv_predict_time\": \"predict time\",\n",
    "}\n",
    "_ = gc_collect()"
   ]
  },
  {
   "cell_type": "code",
   "execution_count": 22,
   "metadata": {},
   "outputs": [
    {
     "name": "stdout",
     "output_type": "stream",
     "text": [
      "time: 1.01 ms\n"
     ]
    }
   ],
   "source": [
    "def plot_metric(metric: str) -> None:\n",
    "    \"\"\"Draw a barplot by classifier.\"\"\"\n",
    "    _df = results_df.sort_values(by=metric, ascending=\"time\" in metric)\n",
    "    if \"time\" in metric:\n",
    "        _df = _df.loc[_df.model_name != \"StackingClassifier\"]\n",
    "    _df.model_name = _df.model_name.str.replace(\"Classifier\", \"\")\n",
    "    g = sns.catplot(\n",
    "        data=_df,\n",
    "        kind=\"bar\",\n",
    "        x=\"model_name\",\n",
    "        y=metric,\n",
    "        palette=\"colorblind\",\n",
    "        alpha=0.8,\n",
    "    )\n",
    "    g.fig.set_figwidth(16)\n",
    "    g.despine(**dict.fromkeys((\"left\", \"top\", \"right\"), True))\n",
    "    plt.xlabel(\"\")\n",
    "    plt.xticks(rotation=-30)\n",
    "    plt.ylabel(\"\")\n",
    "    plt.suptitle(metric_names[metric])\n",
    "    plt.show()"
   ]
  },
  {
   "cell_type": "code",
   "execution_count": 23,
   "metadata": {},
   "outputs": [
    {
     "data": {
      "application/vnd.jupyter.widget-view+json": {
       "model_id": "0d29c25f01c74fd9bcd46b2b95bd0113",
       "version_major": 2,
       "version_minor": 0
      },
      "text/plain": [
       "  0%|          | 0/4 [00:00<?, ?it/s]"
      ]
     },
     "metadata": {},
     "output_type": "display_data"
    },
    {
     "data": {
      "image/png": "[encoded data removed]",
      "text/plain": [
       "<Figure size 1152x360 with 1 Axes>"
      ]
     },
     "metadata": {
      "needs_background": "light"
     },
     "output_type": "display_data"
    },
    {
     "data": {
      "image/png": "[encoded data removed]",
      "text/plain": [
       "<Figure size 1152x360 with 1 Axes>"
      ]
     },
     "metadata": {
      "needs_background": "light"
     },
     "output_type": "display_data"
    },
    {
     "data": {
      "image/png": "[encoded data removed]",
      "text/plain": [
       "<Figure size 1152x360 with 1 Axes>"
      ]
     },
     "metadata": {
      "needs_background": "light"
     },
     "output_type": "display_data"
    },
    {
     "data": {
      "image/png": "[encoded data removed]",
      "text/plain": [
       "<Figure size 1152x360 with 1 Axes>"
      ]
     },
     "metadata": {
      "needs_background": "light"
     },
     "output_type": "display_data"
    },
    {
     "name": "stdout",
     "output_type": "stream",
     "text": [
      "time: 1.55 s\n"
     ]
    }
   ],
   "source": [
    "for metric in tqdm(metrics):\n",
    "    plot_metric(metric)"
   ]
  },
  {
   "cell_type": "code",
   "execution_count": 24,
   "metadata": {},
   "outputs": [
    {
     "name": "stdout",
     "output_type": "stream",
     "text": [
      "time: 16 ms\n"
     ]
    }
   ],
   "source": [
    "# save table of results\n",
    "results_df.to_csv(f\"{DATA_OUT_FOLDER}/explore_ternary_results.csv\")"
   ]
  },
  {
   "cell_type": "markdown",
   "metadata": {},
   "source": [
    "# Discussion\n",
    "\n",
    "These scores aren't great, but it's nice to see that all chosen models displayed skill relative to the dummy. Performance on the ternary multiclass, ternary OvR, and ternary OvO tasks are about the same.\n",
    "\n",
    "I am happy to eliminate the Gaussian Process classifier from consideration; it is the slowest by far in training and inference and the third-worst performing model after Random Forest and the dummy.\n",
    "\n",
    "The tree-based methods, in conjunction with the Gaussian Process classifier and the dummy, are the least performant models."
   ]
  },
  {
   "cell_type": "markdown",
   "metadata": {},
   "source": [
    "[^top](#Contents)"
   ]
  },
  {
   "cell_type": "code",
   "execution_count": null,
   "metadata": {},
   "outputs": [],
   "source": []
  }
 ],
 "metadata": {
  "interpreter": {
   "hash": "e1781be99c106060f3abc0c9b91d3d379f24672894e2158d4b74304109955878"
  },
  "kernelspec": {
   "display_name": "Python 3 (ipykernel)",
   "language": "python",
   "name": "python3"
  },
  "language_info": {
   "codemirror_mode": {
    "name": "ipython",
    "version": 3
   },
   "file_extension": ".py",
   "mimetype": "text/x-python",
   "name": "python",
   "nbconvert_exporter": "python",
   "pygments_lexer": "ipython3",
   "version": "3.9.5"
  }
 },
 "nbformat": 4,
 "nbformat_minor": 4
}
