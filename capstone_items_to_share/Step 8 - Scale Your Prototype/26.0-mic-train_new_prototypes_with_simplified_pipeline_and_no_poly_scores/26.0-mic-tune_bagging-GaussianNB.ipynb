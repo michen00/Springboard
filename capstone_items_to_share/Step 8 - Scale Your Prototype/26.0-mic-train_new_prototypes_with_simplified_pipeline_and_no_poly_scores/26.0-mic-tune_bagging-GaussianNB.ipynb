{
 "cells": [
  {
   "cell_type": "markdown",
   "metadata": {},
   "source": [
    "# Contents\n",
    "* [Introduction](#Introduction)\n",
    "* [Imports and configuration](#Imports-and-configuration)\n",
    "* [Setup](#Setup)\n",
    "* [var_smoothing](#var_smoothing)\n",
    "* [Discussion](#Discussion)"
   ]
  },
  {
   "cell_type": "markdown",
   "metadata": {},
   "source": [
    "# Introduction\n",
    "\n",
    "After rounds of feature engineering, visualization & exploration, and tuning various aspects of the classification pipeline, we are about to create a prototype classifier using a bagged GaussianNB. In this notebook, we perform grid searches over var_smoothing using out-of-bag accuracy instead of cross validation."
   ]
  },
  {
   "cell_type": "code",
   "execution_count": 1,
   "metadata": {},
   "outputs": [],
   "source": [
    "from time import time\n",
    "\n",
    "notebook_begin_time = time()\n",
    "\n",
    "# set random seeds\n",
    "\n",
    "from os import environ\n",
    "from random import seed as random_seed\n",
    "from numpy.random import seed as np_seed\n",
    "from tensorflow.random import set_seed\n",
    "\n",
    "\n",
    "def reset_seeds(seed: int) -> None:\n",
    "    \"\"\"Utility function for resetting random seeds\"\"\"\n",
    "    environ[\"PYTHONHASHSEED\"] = str(seed)\n",
    "    random_seed(seed)\n",
    "    np_seed(seed)\n",
    "    set_seed(seed)\n",
    "\n",
    "\n",
    "reset_seeds(SEED := 2022)\n",
    "del environ\n",
    "del random_seed\n",
    "del np_seed\n",
    "del set_seed\n",
    "del reset_seeds"
   ]
  },
  {
   "cell_type": "code",
   "execution_count": 2,
   "metadata": {},
   "outputs": [],
   "source": [
    "# extensions\n",
    "%load_ext autotime\n",
    "%load_ext lab_black\n",
    "%load_ext nb_black"
   ]
  },
  {
   "cell_type": "code",
   "execution_count": 3,
   "metadata": {},
   "outputs": [
    {
     "name": "stderr",
     "output_type": "stream",
     "text": [
      "Intel(R) Extension for Scikit-learn* enabled (https://github.com/intel/scikit-learn-intelex)\n"
     ]
    },
    {
     "name": "stdout",
     "output_type": "stream",
     "text": [
      "time: 3.15 s\n"
     ]
    }
   ],
   "source": [
    "# core\n",
    "import numpy as np\n",
    "import pandas as pd\n",
    "from scipy.stats import loguniform\n",
    "\n",
    "# utility\n",
    "from copy import deepcopy\n",
    "from gc import collect as gc_collect\n",
    "from tqdm.notebook import tqdm\n",
    "\n",
    "# faster sklearn\n",
    "from sklearnex import patch_sklearn\n",
    "\n",
    "patch_sklearn()\n",
    "del patch_sklearn\n",
    "\n",
    "# classifier\n",
    "from sklearn.ensemble import BaggingClassifier\n",
    "from sklearn.naive_bayes import GaussianNB\n",
    "\n",
    "# metrics\n",
    "from sklearn.metrics import log_loss, roc_auc_score\n",
    "\n",
    "# typing\n",
    "from typing import Sequence\n",
    "\n",
    "# visualization\n",
    "import matplotlib.pyplot as plt\n",
    "import seaborn as sns\n",
    "\n",
    "%matplotlib inline\n",
    "\n",
    "sns.set_context(\"notebook\")\n",
    "\n",
    "# full display of rows and columns\n",
    "pd.set_option(\"display.max_columns\", None)\n",
    "pd.set_option(\"display.max_colwidth\", None)\n",
    "pd.set_option(\"display.max_rows\", None)\n",
    "\n",
    "# display outputs w/o print calls\n",
    "from IPython.core.interactiveshell import InteractiveShell\n",
    "\n",
    "InteractiveShell.ast_node_interactivity = \"all\"\n",
    "del InteractiveShell"
   ]
  },
  {
   "cell_type": "code",
   "execution_count": 4,
   "metadata": {},
   "outputs": [
    {
     "name": "stdout",
     "output_type": "stream",
     "text": [
      "time: 93.8 ms\n"
     ]
    }
   ],
   "source": [
    "# Location of pre-final labels and features\n",
    "FEATURES_FOLDER = (\n",
    "    \"../24.0-mic-train_new_prototypes_with_simplified_pipeline_and_no_song_data\"\n",
    ")\n",
    "\n",
    "# Location where this notebook will output\n",
    "DATA_OUT_FOLDER = \"./tune_GNB\"\n",
    "\n",
    "_ = gc_collect()"
   ]
  },
  {
   "cell_type": "markdown",
   "metadata": {},
   "source": [
    "# Setup"
   ]
  },
  {
   "cell_type": "code",
   "execution_count": 5,
   "metadata": {},
   "outputs": [
    {
     "name": "stdout",
     "output_type": "stream",
     "text": [
      "time: 214 ms\n"
     ]
    }
   ],
   "source": [
    "def load_labels() -> pd.DataFrame:\n",
    "    \"\"\"Load just the labels\"\"\"\n",
    "    return pd.read_feather(f\"{FEATURES_FOLDER}/simplified_labels.feather\").set_index(\n",
    "        \"id\"\n",
    "    )\n",
    "\n",
    "\n",
    "def load_data() -> pd.DataFrame:\n",
    "    \"\"\"Loads the FRILL-based features\"\"\"\n",
    "    df = pd.read_feather(\"./scaled_features_ready_for_selection.feather\").set_index(\n",
    "        \"id\"\n",
    "    )\n",
    "    df.columns = df.columns.astype(str)\n",
    "    return df\n",
    "\n",
    "\n",
    "data = load_data()\n",
    "labels = load_labels()\n",
    "assert all(data.index == labels.index)\n",
    "assert len(data) < 86000\n",
    "y_true = labels.valence\n",
    "_ = gc_collect()"
   ]
  },
  {
   "cell_type": "code",
   "execution_count": 6,
   "metadata": {},
   "outputs": [
    {
     "name": "stdout",
     "output_type": "stream",
     "text": [
      "<class 'pandas.core.frame.DataFrame'>\n",
      "UInt64Index: 85740 entries, 0 to 87363\n",
      "Data columns (total 41 columns):\n",
      " #   Column                                                                         Non-Null Count  Dtype  \n",
      "---  ------                                                                         --------------  -----  \n",
      " 0   LDA1                                                                           85740 non-null  float64\n",
      " 1   LDA2                                                                           85740 non-null  float64\n",
      " 2   ocLDA_neg                                                                      85740 non-null  float64\n",
      " 3   ocLDA_neu                                                                      85740 non-null  float64\n",
      " 4   ocLDA_pos                                                                      85740 non-null  float64\n",
      " 5   ocSVM_sgdlinear_LDA1                                                           85740 non-null  float64\n",
      " 6   ocSVM_sgdlinear_LDA2                                                           85740 non-null  float64\n",
      " 7   ocSVM_sgdlinear_neg                                                            85740 non-null  float64\n",
      " 8   ocSVM_sgdlinear_neu                                                            85740 non-null  float64\n",
      " 9   ocSVM_sgdlinear_pos                                                            85740 non-null  float64\n",
      " 10  LDA-LOF_neg_20                                                                 85740 non-null  float64\n",
      " 11  LDA-LOF_neu_20                                                                 85740 non-null  float64\n",
      " 12  LDA-LOF_pos_20                                                                 85740 non-null  float64\n",
      " 13  LDA-ocSVM_sgdlinear_neg                                                        85740 non-null  float64\n",
      " 14  LDA-ocSVM_sgdlinear_neu                                                        85740 non-null  float64\n",
      " 15  LDA-ocSVM_sgdlinear_pos                                                        85740 non-null  float64\n",
      " 16  LDA-ocSVM_rbf_neg                                                              85740 non-null  float64\n",
      " 17  LDA-ocSVM_rbf_neu                                                              85740 non-null  float64\n",
      " 18  LDA-ocSVM_rbf_pos                                                              85740 non-null  float64\n",
      " 19  LDA-ocSVM_sigmoid_neg                                                          85740 non-null  float64\n",
      " 20  LDA-ocSVM_sigmoid_neu                                                          85740 non-null  float64\n",
      " 21  LDA-ocSVM_sigmoid_pos                                                          85740 non-null  float64\n",
      " 22  spherical-LDA1                                                                 85740 non-null  float64\n",
      " 23  spherical-LDA2                                                                 85740 non-null  float64\n",
      " 24  spherical-ocLDA_neg                                                            85740 non-null  float64\n",
      " 25  spherical-ocLDA_neu                                                            85740 non-null  float64\n",
      " 26  spherical-ocLDA_pos                                                            85740 non-null  float64\n",
      " 27  theta_LDA1+LDA2                                                                85740 non-null  float64\n",
      " 28  theta_ocLDA_neg+ocLDA_neu+ocLDA_pos                                            85740 non-null  float64\n",
      " 29  phi_ocLDA_neg+ocLDA_neu+ocLDA_pos                                              85740 non-null  float64\n",
      " 30  theta_ocSVM_sgdlinear_LDA1+ocSVM_sgdlinear_LDA2                                85740 non-null  float64\n",
      " 31  theta_ocSVM_sgdlinear_neg+ocSVM_sgdlinear_neu+ocSVM_sgdlinear_pos              85740 non-null  float64\n",
      " 32  phi_ocSVM_sgdlinear_neg+ocSVM_sgdlinear_neu+ocSVM_sgdlinear_pos                85740 non-null  float64\n",
      " 33  theta_LDA-LOF_neg_20+LDA-LOF_neu_20+LDA-LOF_pos_20                             85740 non-null  float64\n",
      " 34  phi_LDA-LOF_neg_20+LDA-LOF_neu_20+LDA-LOF_pos_20                               85740 non-null  float64\n",
      " 35  theta_LDA-ocSVM_sgdlinear_neg+LDA-ocSVM_sgdlinear_neu+LDA-ocSVM_sgdlinear_pos  85740 non-null  float64\n",
      " 36  phi_LDA-ocSVM_sgdlinear_neg+LDA-ocSVM_sgdlinear_neu+LDA-ocSVM_sgdlinear_pos    85740 non-null  float64\n",
      " 37  theta_LDA-ocSVM_rbf_neg+LDA-ocSVM_rbf_neu+LDA-ocSVM_rbf_pos                    85740 non-null  float64\n",
      " 38  phi_LDA-ocSVM_rbf_neg+LDA-ocSVM_rbf_neu+LDA-ocSVM_rbf_pos                      85740 non-null  float64\n",
      " 39  theta_LDA-ocSVM_sigmoid_neg+LDA-ocSVM_sigmoid_neu+LDA-ocSVM_sigmoid_pos        85740 non-null  float64\n",
      " 40  phi_LDA-ocSVM_sigmoid_neg+LDA-ocSVM_sigmoid_neu+LDA-ocSVM_sigmoid_pos          85740 non-null  float64\n",
      "dtypes: float64(41)\n",
      "memory usage: 27.5 MB\n",
      "<class 'pandas.core.frame.DataFrame'>\n",
      "UInt64Index: 85740 entries, 0 to 87363\n",
      "Data columns (total 11 columns):\n",
      " #   Column          Non-Null Count  Dtype   \n",
      "---  ------          --------------  -----   \n",
      " 0   file            85740 non-null  object  \n",
      " 1   source          85740 non-null  category\n",
      " 2   speaker_id      85740 non-null  category\n",
      " 3   speaker_gender  85740 non-null  category\n",
      " 4   emo             85740 non-null  category\n",
      " 5   valence         85740 non-null  int8    \n",
      " 6   neg             85740 non-null  bool    \n",
      " 7   neu             85740 non-null  bool    \n",
      " 8   pos             85740 non-null  bool    \n",
      " 9   lang1           85740 non-null  category\n",
      " 10  length          85740 non-null  category\n",
      "dtypes: bool(3), category(6), int8(1), object(1)\n",
      "memory usage: 2.3+ MB\n",
      "time: 21.1 ms\n"
     ]
    }
   ],
   "source": [
    "data.info()\n",
    "labels.info()"
   ]
  },
  {
   "cell_type": "code",
   "execution_count": 7,
   "metadata": {},
   "outputs": [
    {
     "name": "stdout",
     "output_type": "stream",
     "text": [
      "time: 102 ms\n"
     ]
    }
   ],
   "source": [
    "results = {\"var_smoothing\": [], \"oob_score\": [], \"log_loss\": [], \"auroc\": []}\n",
    "_ = gc_collect()"
   ]
  },
  {
   "cell_type": "markdown",
   "metadata": {},
   "source": [
    "# var_smoothing"
   ]
  },
  {
   "cell_type": "code",
   "execution_count": 8,
   "metadata": {},
   "outputs": [
    {
     "name": "stdout",
     "output_type": "stream",
     "text": [
      "time: 91.6 ms\n"
     ]
    }
   ],
   "source": [
    "def tune_var_smoothing(search_space: Sequence, outfile: str) -> None:\n",
    "    \"\"\"Run tuning procedure\"\"\"\n",
    "    df = deepcopy(data)\n",
    "    make_gnb = lambda var_smoothing: BaggingClassifier(\n",
    "        base_estimator=GaussianNB(var_smoothing=var_smoothing),\n",
    "        n_estimators=50,\n",
    "        oob_score=True,\n",
    "        n_jobs=-1,\n",
    "        random_state=SEED,\n",
    "    ).fit(df, y_true)\n",
    "    for hp in tqdm(search_space):\n",
    "        gnb = make_gnb(hp)\n",
    "        results[\"var_smoothing\"].append(hp)\n",
    "        results[\"oob_score\"].append(gnb.oob_score_)\n",
    "        results[\"auroc\"].append(\n",
    "            roc_auc_score(y_true, y_pred := gnb.predict_proba(df), multi_class=\"ovo\")\n",
    "        )\n",
    "        results[\"log_loss\"].append(log_loss(y_true, y_pred))\n",
    "\n",
    "    df = pd.DataFrame(results).sort_values(by=\"var_smoothing\", ascending=True)\n",
    "    print(df.sort_values(by=\"oob_score\", ascending=False).head(10))\n",
    "    print(df.sort_values(by=\"log_loss\", ascending=True).head(10))\n",
    "    print(df.sort_values(by=\"auroc\", ascending=False).head(10))\n",
    "    df.plot(x=\"var_smoothing\")\n",
    "    plt.legend(frameon=False)\n",
    "    sns.despine(top=True, right=True)\n",
    "    plt.tight_layout()\n",
    "    plt.show()\n",
    "\n",
    "    df.columns = df.columns.astype(str)\n",
    "    df.reset_index(drop=True).to_feather(f\"{DATA_OUT_FOLDER}/{outfile}.feather\")\n",
    "    del df\n",
    "\n",
    "\n",
    "_ = gc_collect()"
   ]
  },
  {
   "cell_type": "code",
   "execution_count": 9,
   "metadata": {},
   "outputs": [
    {
     "data": {
      "application/vnd.jupyter.widget-view+json": {
       "model_id": "d055f15247d743428c0267944c3e82a3",
       "version_major": 2,
       "version_minor": 0
      },
      "text/plain": [
       "  0%|          | 0/50 [00:00<?, ?it/s]"
      ]
     },
     "metadata": {},
     "output_type": "display_data"
    },
    {
     "name": "stdout",
     "output_type": "stream",
     "text": [
      "    var_smoothing  oob_score  log_loss     auroc\n",
      "2        0.034015   0.680231  1.405232  0.829554\n",
      "19       0.028930   0.678773  1.522393  0.829867\n",
      "48       0.024178   0.676487  1.666947  0.830156\n",
      "40       0.024416   0.676300  1.658676  0.830141\n",
      "28       0.063658   0.673513  1.078450  0.827871\n",
      "3        0.014992   0.670189  2.116895  0.830658\n",
      "41       0.012735   0.667786  2.286104  0.830759\n",
      "33       0.011346   0.666550  2.408514  0.830814\n",
      "21       0.087750   0.663529  0.983286  0.826785\n",
      "42       0.089039   0.662876  0.979971  0.826733\n",
      "    var_smoothing  oob_score  log_loss     auroc\n",
      "18       0.293259   0.597924  0.884370  0.823309\n",
      "32       0.292773   0.597982  0.884370  0.823310\n",
      "39       0.289465   0.598227  0.884376  0.823321\n",
      "13       0.287113   0.598507  0.884384  0.823329\n",
      "37       0.274353   0.600420  0.884501  0.823381\n",
      "49       0.269499   0.601330  0.884581  0.823404\n",
      "6        0.269297   0.601365  0.884585  0.823405\n",
      "8        0.269089   0.601376  0.884589  0.823406\n",
      "26       0.259331   0.602881  0.884826  0.823458\n",
      "12       0.250074   0.604514  0.885160  0.823515\n",
      "    var_smoothing  oob_score  log_loss     auroc\n",
      "24       0.005599   0.658269  3.157899  0.830892\n",
      "33       0.011346   0.666550  2.408514  0.830814\n",
      "41       0.012735   0.667786  2.286104  0.830759\n",
      "0        0.002808   0.653814  3.779004  0.830707\n",
      "3        0.014992   0.670189  2.116895  0.830658\n",
      "48       0.024178   0.676487  1.666947  0.830156\n",
      "40       0.024416   0.676300  1.658676  0.830141\n",
      "19       0.028930   0.678773  1.522393  0.829867\n",
      "2        0.034015   0.680231  1.405232  0.829554\n",
      "28       0.063658   0.673513  1.078450  0.827871\n"
     ]
    },
    {
     "data": {
      "image/png": "[encoded data removed]",
      "text/plain": [
       "<Figure size 432x288 with 1 Axes>"
      ]
     },
     "metadata": {
      "needs_background": "light"
     },
     "output_type": "display_data"
    },
    {
     "name": "stdout",
     "output_type": "stream",
     "text": [
      "time: 8min 7s\n"
     ]
    }
   ],
   "source": [
    "tune_var_smoothing(\n",
    "    search_space=np.random.uniform(0.0, 0.3, size=50), outfile=\"var_smoothing1\"\n",
    ")"
   ]
  },
  {
   "cell_type": "code",
   "execution_count": 10,
   "metadata": {},
   "outputs": [
    {
     "data": {
      "application/vnd.jupyter.widget-view+json": {
       "model_id": "9a9d5773b3f642098fbd1dad5f3b52e4",
       "version_major": 2,
       "version_minor": 0
      },
      "text/plain": [
       "  0%|          | 0/50 [00:00<?, ?it/s]"
      ]
     },
     "metadata": {},
     "output_type": "display_data"
    },
    {
     "name": "stdout",
     "output_type": "stream",
     "text": [
      "    var_smoothing  oob_score  log_loss     auroc\n",
      "2        0.034015   0.680231  1.405232  0.829554\n",
      "59       0.030153   0.679158  1.491193  0.829792\n",
      "19       0.028930   0.678773  1.522393  0.829867\n",
      "48       0.024178   0.676487  1.666947  0.830156\n",
      "74       0.023798   0.676452  1.680390  0.830178\n",
      "40       0.024416   0.676300  1.658676  0.830141\n",
      "28       0.063658   0.673513  1.078450  0.827871\n",
      "87       0.017340   0.672218  1.971406  0.830542\n",
      "95       0.015327   0.670469  2.094413  0.830641\n",
      "3        0.014992   0.670189  2.116895  0.830658\n",
      "    var_smoothing  oob_score  log_loss     auroc\n",
      "18       0.293259   0.597924  0.884370  0.823309\n",
      "32       0.292773   0.597982  0.884370  0.823310\n",
      "69       0.298076   0.597457  0.884373  0.823295\n",
      "39       0.289465   0.598227  0.884376  0.823321\n",
      "13       0.287113   0.598507  0.884384  0.823329\n",
      "66       0.304265   0.596583  0.884399  0.823280\n",
      "37       0.274353   0.600420  0.884501  0.823381\n",
      "49       0.269499   0.601330  0.884581  0.823404\n",
      "6        0.269297   0.601365  0.884585  0.823405\n",
      "8        0.269089   0.601376  0.884589  0.823406\n",
      "    var_smoothing  oob_score  log_loss     auroc\n",
      "85       0.006305   0.659377  3.036293  0.830910\n",
      "24       0.005599   0.658269  3.157899  0.830892\n",
      "71       0.011304   0.666503  2.412508  0.830816\n",
      "33       0.011346   0.666550  2.408514  0.830814\n",
      "41       0.012735   0.667786  2.286104  0.830759\n",
      "0        0.002808   0.653814  3.779004  0.830707\n",
      "3        0.014992   0.670189  2.116895  0.830658\n",
      "95       0.015327   0.670469  2.094413  0.830641\n",
      "51       0.001963   0.651948  4.028236  0.830588\n",
      "76       0.001721   0.651423  4.106897  0.830547\n"
     ]
    },
    {
     "data": {
      "image/png": "[encoded data removed]",
      "text/plain": [
       "<Figure size 432x288 with 1 Axes>"
      ]
     },
     "metadata": {
      "needs_background": "light"
     },
     "output_type": "display_data"
    },
    {
     "name": "stdout",
     "output_type": "stream",
     "text": [
      "time: 7min 52s\n"
     ]
    }
   ],
   "source": [
    "tune_var_smoothing(\n",
    "    search_space=loguniform.rvs(1e-11, 0.4, size=50), outfile=\"var_smoothing2\"\n",
    ")"
   ]
  },
  {
   "cell_type": "code",
   "execution_count": 11,
   "metadata": {},
   "outputs": [
    {
     "data": {
      "application/vnd.jupyter.widget-view+json": {
       "model_id": "47e451ee65464443811e24a9de78b21c",
       "version_major": 2,
       "version_minor": 0
      },
      "text/plain": [
       "  0%|          | 0/50 [00:00<?, ?it/s]"
      ]
     },
     "metadata": {},
     "output_type": "display_data"
    },
    {
     "name": "stdout",
     "output_type": "stream",
     "text": [
      "    var_smoothing  oob_score  log_loss     auroc\n",
      "2        0.034015   0.680231  1.405232  0.829554\n",
      "59       0.030153   0.679158  1.491193  0.829792\n",
      "19       0.028930   0.678773  1.522393  0.829867\n",
      "48       0.024178   0.676487  1.666947  0.830156\n",
      "74       0.023798   0.676452  1.680390  0.830178\n",
      "40       0.024416   0.676300  1.658676  0.830141\n",
      "28       0.063658   0.673513  1.078450  0.827871\n",
      "87       0.017340   0.672218  1.971406  0.830542\n",
      "95       0.015327   0.670469  2.094413  0.830641\n",
      "3        0.014992   0.670189  2.116895  0.830658\n",
      "     var_smoothing  oob_score  log_loss     auroc\n",
      "18        0.293259   0.597924  0.884370  0.823309\n",
      "32        0.292773   0.597982  0.884370  0.823310\n",
      "102       0.292614   0.597971  0.884370  0.823311\n",
      "109       0.291313   0.598064  0.884372  0.823315\n",
      "69        0.298076   0.597457  0.884373  0.823295\n",
      "39        0.289465   0.598227  0.884376  0.823321\n",
      "13        0.287113   0.598507  0.884384  0.823329\n",
      "66        0.304265   0.596583  0.884399  0.823280\n",
      "137       0.306110   0.596361  0.884411  0.823275\n",
      "111       0.282121   0.599172  0.884413  0.823348\n",
      "    var_smoothing  oob_score  log_loss     auroc\n",
      "85       0.006305   0.659377  3.036293  0.830910\n",
      "24       0.005599   0.658269  3.157899  0.830892\n",
      "71       0.011304   0.666503  2.412508  0.830816\n",
      "33       0.011346   0.666550  2.408514  0.830814\n",
      "41       0.012735   0.667786  2.286104  0.830759\n",
      "0        0.002808   0.653814  3.779004  0.830707\n",
      "3        0.014992   0.670189  2.116895  0.830658\n",
      "95       0.015327   0.670469  2.094413  0.830641\n",
      "51       0.001963   0.651948  4.028236  0.830588\n",
      "76       0.001721   0.651423  4.106897  0.830547\n"
     ]
    },
    {
     "data": {
      "image/png": "[encoded data removed]",
      "text/plain": [
       "<Figure size 432x288 with 1 Axes>"
      ]
     },
     "metadata": {
      "needs_background": "light"
     },
     "output_type": "display_data"
    },
    {
     "name": "stdout",
     "output_type": "stream",
     "text": [
      "time: 7min 52s\n"
     ]
    }
   ],
   "source": [
    "tune_var_smoothing(\n",
    "    search_space=loguniform.rvs(0.1, 0.4, size=50), outfile=\"var_smoothing3\"\n",
    ")"
   ]
  },
  {
   "cell_type": "code",
   "execution_count": 12,
   "metadata": {},
   "outputs": [
    {
     "data": {
      "application/vnd.jupyter.widget-view+json": {
       "model_id": "1cb6f8300d934efc9b2a05d0e36f10cb",
       "version_major": 2,
       "version_minor": 0
      },
      "text/plain": [
       "  0%|          | 0/50 [00:00<?, ?it/s]"
      ]
     },
     "metadata": {},
     "output_type": "display_data"
    },
    {
     "name": "stdout",
     "output_type": "stream",
     "text": [
      "     var_smoothing  oob_score  log_loss     auroc\n",
      "163       0.035371   0.680383  1.378941  0.829470\n",
      "153       0.034744   0.680383  1.390871  0.829509\n",
      "194       0.034717   0.680359  1.391393  0.829510\n",
      "2         0.034015   0.680231  1.405232  0.829554\n",
      "199       0.032932   0.679974  1.427606  0.829621\n",
      "152       0.033137   0.679963  1.423272  0.829608\n",
      "59        0.030153   0.679158  1.491193  0.829792\n",
      "166       0.029262   0.678855  1.513705  0.829847\n",
      "19        0.028930   0.678773  1.522393  0.829867\n",
      "186       0.027849   0.678108  1.551820  0.829933\n",
      "     var_smoothing  oob_score  log_loss     auroc\n",
      "18        0.293259   0.597924  0.884370  0.823309\n",
      "32        0.292773   0.597982  0.884370  0.823310\n",
      "102       0.292614   0.597971  0.884370  0.823311\n",
      "109       0.291313   0.598064  0.884372  0.823315\n",
      "69        0.298076   0.597457  0.884373  0.823295\n",
      "39        0.289465   0.598227  0.884376  0.823321\n",
      "13        0.287113   0.598507  0.884384  0.823329\n",
      "66        0.304265   0.596583  0.884399  0.823280\n",
      "137       0.306110   0.596361  0.884411  0.823275\n",
      "111       0.282121   0.599172  0.884413  0.823348\n",
      "    var_smoothing  oob_score  log_loss     auroc\n",
      "85       0.006305   0.659377  3.036293  0.830910\n",
      "24       0.005599   0.658269  3.157899  0.830892\n",
      "71       0.011304   0.666503  2.412508  0.830816\n",
      "33       0.011346   0.666550  2.408514  0.830814\n",
      "41       0.012735   0.667786  2.286104  0.830759\n",
      "0        0.002808   0.653814  3.779004  0.830707\n",
      "3        0.014992   0.670189  2.116895  0.830658\n",
      "95       0.015327   0.670469  2.094413  0.830641\n",
      "51       0.001963   0.651948  4.028236  0.830588\n",
      "76       0.001721   0.651423  4.106897  0.830547\n"
     ]
    },
    {
     "data": {
      "image/png": "[encoded data removed]",
      "text/plain": [
       "<Figure size 432x288 with 1 Axes>"
      ]
     },
     "metadata": {
      "needs_background": "light"
     },
     "output_type": "display_data"
    },
    {
     "name": "stdout",
     "output_type": "stream",
     "text": [
      "time: 7min 43s\n"
     ]
    }
   ],
   "source": [
    "tune_var_smoothing(\n",
    "    search_space=np.random.uniform(0.01, 0.25, size=50), outfile=\"var_smoothing4\"\n",
    ")"
   ]
  },
  {
   "cell_type": "code",
   "execution_count": 13,
   "metadata": {},
   "outputs": [
    {
     "data": {
      "application/vnd.jupyter.widget-view+json": {
       "model_id": "ca8c5aa958124b62830432fd0866fdc2",
       "version_major": 2,
       "version_minor": 0
      },
      "text/plain": [
       "  0%|          | 0/50 [00:00<?, ?it/s]"
      ]
     },
     "metadata": {},
     "output_type": "display_data"
    },
    {
     "name": "stdout",
     "output_type": "stream",
     "text": [
      "     var_smoothing  oob_score  log_loss     auroc\n",
      "153       0.034744   0.680383  1.390871  0.829509\n",
      "163       0.035371   0.680383  1.378941  0.829470\n",
      "194       0.034717   0.680359  1.391393  0.829510\n",
      "2         0.034015   0.680231  1.405232  0.829554\n",
      "199       0.032932   0.679974  1.427606  0.829621\n",
      "152       0.033137   0.679963  1.423272  0.829608\n",
      "59        0.030153   0.679158  1.491193  0.829792\n",
      "166       0.029262   0.678855  1.513705  0.829847\n",
      "19        0.028930   0.678773  1.522393  0.829867\n",
      "186       0.027849   0.678108  1.551820  0.829933\n",
      "     var_smoothing  oob_score  log_loss     auroc\n",
      "18        0.293259   0.597924  0.884370  0.823309\n",
      "32        0.292773   0.597982  0.884370  0.823310\n",
      "102       0.292614   0.597971  0.884370  0.823311\n",
      "109       0.291313   0.598064  0.884372  0.823315\n",
      "69        0.298076   0.597457  0.884373  0.823295\n",
      "39        0.289465   0.598227  0.884376  0.823321\n",
      "13        0.287113   0.598507  0.884384  0.823329\n",
      "66        0.304265   0.596583  0.884399  0.823280\n",
      "137       0.306110   0.596361  0.884411  0.823275\n",
      "111       0.282121   0.599172  0.884413  0.823348\n",
      "    var_smoothing  oob_score  log_loss     auroc\n",
      "85       0.006305   0.659377  3.036293  0.830910\n",
      "24       0.005599   0.658269  3.157899  0.830892\n",
      "71       0.011304   0.666503  2.412508  0.830816\n",
      "33       0.011346   0.666550  2.408514  0.830814\n",
      "41       0.012735   0.667786  2.286104  0.830759\n",
      "0        0.002808   0.653814  3.779004  0.830707\n",
      "3        0.014992   0.670189  2.116895  0.830658\n",
      "95       0.015327   0.670469  2.094413  0.830641\n",
      "51       0.001963   0.651948  4.028236  0.830588\n",
      "76       0.001721   0.651423  4.106897  0.830547\n"
     ]
    },
    {
     "data": {
      "image/png": "[encoded data removed]",
      "text/plain": [
       "<Figure size 432x288 with 1 Axes>"
      ]
     },
     "metadata": {
      "needs_background": "light"
     },
     "output_type": "display_data"
    },
    {
     "name": "stdout",
     "output_type": "stream",
     "text": [
      "time: 7min 32s\n"
     ]
    }
   ],
   "source": [
    "tune_var_smoothing(\n",
    "    search_space=np.random.uniform(0.05, 0.15, size=50), outfile=\"var_smoothing5\"\n",
    ")"
   ]
  },
  {
   "cell_type": "code",
   "execution_count": 14,
   "metadata": {},
   "outputs": [
    {
     "data": {
      "application/vnd.jupyter.widget-view+json": {
       "model_id": "95f9fa076eb24653abe8e06cccba73e4",
       "version_major": 2,
       "version_minor": 0
      },
      "text/plain": [
       "  0%|          | 0/50 [00:00<?, ?it/s]"
      ]
     },
     "metadata": {},
     "output_type": "display_data"
    },
    {
     "name": "stdout",
     "output_type": "stream",
     "text": [
      "     var_smoothing  oob_score  log_loss     auroc\n",
      "261       0.034606   0.680418  1.393541  0.829517\n",
      "163       0.035371   0.680383  1.378941  0.829470\n",
      "153       0.034744   0.680383  1.390871  0.829509\n",
      "194       0.034717   0.680359  1.391393  0.829510\n",
      "2         0.034015   0.680231  1.405232  0.829554\n",
      "258       0.033898   0.680208  1.407600  0.829561\n",
      "293       0.037646   0.680161  1.338674  0.829329\n",
      "267       0.036216   0.680021  1.363457  0.829417\n",
      "199       0.032932   0.679974  1.427606  0.829621\n",
      "152       0.033137   0.679963  1.423272  0.829608\n",
      "     var_smoothing  oob_score  log_loss     auroc\n",
      "18        0.293259   0.597924  0.884370  0.823309\n",
      "32        0.292773   0.597982  0.884370  0.823310\n",
      "102       0.292614   0.597971  0.884370  0.823311\n",
      "109       0.291313   0.598064  0.884372  0.823315\n",
      "69        0.298076   0.597457  0.884373  0.823295\n",
      "39        0.289465   0.598227  0.884376  0.823321\n",
      "13        0.287113   0.598507  0.884384  0.823329\n",
      "66        0.304265   0.596583  0.884399  0.823280\n",
      "137       0.306110   0.596361  0.884411  0.823275\n",
      "111       0.282121   0.599172  0.884413  0.823348\n",
      "     var_smoothing  oob_score  log_loss     auroc\n",
      "85        0.006305   0.659377  3.036293  0.830910\n",
      "24        0.005599   0.658269  3.157899  0.830892\n",
      "290       0.010266   0.665325  2.515697  0.830852\n",
      "285       0.010322   0.665407  2.509758  0.830851\n",
      "287       0.011018   0.665990  2.439812  0.830827\n",
      "71        0.011304   0.666503  2.412508  0.830816\n",
      "33        0.011346   0.666550  2.408514  0.830814\n",
      "280       0.011601   0.666772  2.384784  0.830804\n",
      "41        0.012735   0.667786  2.286104  0.830759\n",
      "288       0.012988   0.667996  2.265435  0.830748\n"
     ]
    },
    {
     "data": {
      "image/png": "[encoded data removed]",
      "text/plain": [
       "<Figure size 432x288 with 1 Axes>"
      ]
     },
     "metadata": {
      "needs_background": "light"
     },
     "output_type": "display_data"
    },
    {
     "name": "stdout",
     "output_type": "stream",
     "text": [
      "time: 7min 58s\n"
     ]
    }
   ],
   "source": [
    "tune_var_smoothing(\n",
    "    search_space=loguniform.rvs(0.01, 0.25, size=50), outfile=\"var_smoothing6\"\n",
    ")"
   ]
  },
  {
   "cell_type": "code",
   "execution_count": 15,
   "metadata": {},
   "outputs": [
    {
     "data": {
      "application/vnd.jupyter.widget-view+json": {
       "model_id": "532f6c400dd444b59009b2b19c1734ce",
       "version_major": 2,
       "version_minor": 0
      },
      "text/plain": [
       "  0%|          | 0/15 [00:00<?, ?it/s]"
      ]
     },
     "metadata": {},
     "output_type": "display_data"
    },
    {
     "name": "stdout",
     "output_type": "stream",
     "text": [
      "     var_smoothing  oob_score  log_loss     auroc\n",
      "261       0.034606   0.680418  1.393541  0.829517\n",
      "153       0.034744   0.680383  1.390871  0.829509\n",
      "163       0.035371   0.680383  1.378941  0.829470\n",
      "194       0.034717   0.680359  1.391393  0.829510\n",
      "2         0.034015   0.680231  1.405232  0.829554\n",
      "258       0.033898   0.680208  1.407600  0.829561\n",
      "293       0.037646   0.680161  1.338674  0.829329\n",
      "301       0.033469   0.680044  1.416352  0.829588\n",
      "267       0.036216   0.680021  1.363457  0.829417\n",
      "199       0.032932   0.679974  1.427606  0.829621\n",
      "     var_smoothing  oob_score  log_loss     auroc\n",
      "18        0.293259   0.597924  0.884370  0.823309\n",
      "32        0.292773   0.597982  0.884370  0.823310\n",
      "102       0.292614   0.597971  0.884370  0.823311\n",
      "109       0.291313   0.598064  0.884372  0.823315\n",
      "69        0.298076   0.597457  0.884373  0.823295\n",
      "39        0.289465   0.598227  0.884376  0.823321\n",
      "13        0.287113   0.598507  0.884384  0.823329\n",
      "66        0.304265   0.596583  0.884399  0.823280\n",
      "137       0.306110   0.596361  0.884411  0.823275\n",
      "111       0.282121   0.599172  0.884413  0.823348\n",
      "     var_smoothing  oob_score  log_loss     auroc\n",
      "85        0.006305   0.659377  3.036293  0.830910\n",
      "24        0.005599   0.658269  3.157899  0.830892\n",
      "290       0.010266   0.665325  2.515697  0.830852\n",
      "285       0.010322   0.665407  2.509758  0.830851\n",
      "305       0.010950   0.665862  2.446484  0.830829\n",
      "287       0.011018   0.665990  2.439812  0.830827\n",
      "71        0.011304   0.666503  2.412508  0.830816\n",
      "33        0.011346   0.666550  2.408514  0.830814\n",
      "280       0.011601   0.666772  2.384784  0.830804\n",
      "41        0.012735   0.667786  2.286104  0.830759\n"
     ]
    },
    {
     "data": {
      "image/png": "[encoded data removed]",
      "text/plain": [
       "<Figure size 432x288 with 1 Axes>"
      ]
     },
     "metadata": {
      "needs_background": "light"
     },
     "output_type": "display_data"
    },
    {
     "data": {
      "application/vnd.jupyter.widget-view+json": {
       "model_id": "cf8cbf34f1984979bbf7eb2e54b7b15e",
       "version_major": 2,
       "version_minor": 0
      },
      "text/plain": [
       "  0%|          | 0/15 [00:00<?, ?it/s]"
      ]
     },
     "metadata": {},
     "output_type": "display_data"
    },
    {
     "name": "stdout",
     "output_type": "stream",
     "text": [
      "     var_smoothing  oob_score  log_loss     auroc\n",
      "261       0.034606   0.680418  1.393541  0.829517\n",
      "163       0.035371   0.680383  1.378941  0.829470\n",
      "153       0.034744   0.680383  1.390871  0.829509\n",
      "194       0.034717   0.680359  1.391393  0.829510\n",
      "2         0.034015   0.680231  1.405232  0.829554\n",
      "258       0.033898   0.680208  1.407600  0.829561\n",
      "293       0.037646   0.680161  1.338674  0.829329\n",
      "301       0.033469   0.680044  1.416352  0.829588\n",
      "267       0.036216   0.680021  1.363457  0.829417\n",
      "199       0.032932   0.679974  1.427606  0.829621\n",
      "     var_smoothing  oob_score  log_loss     auroc\n",
      "18        0.293259   0.597924  0.884370  0.823309\n",
      "32        0.292773   0.597982  0.884370  0.823310\n",
      "102       0.292614   0.597971  0.884370  0.823311\n",
      "109       0.291313   0.598064  0.884372  0.823315\n",
      "69        0.298076   0.597457  0.884373  0.823295\n",
      "39        0.289465   0.598227  0.884376  0.823321\n",
      "13        0.287113   0.598507  0.884384  0.823329\n",
      "66        0.304265   0.596583  0.884399  0.823280\n",
      "137       0.306110   0.596361  0.884411  0.823275\n",
      "111       0.282121   0.599172  0.884413  0.823348\n",
      "     var_smoothing  oob_score  log_loss     auroc\n",
      "85        0.006305   0.659377  3.036293  0.830910\n",
      "24        0.005599   0.658269  3.157899  0.830892\n",
      "290       0.010266   0.665325  2.515697  0.830852\n",
      "285       0.010322   0.665407  2.509758  0.830851\n",
      "305       0.010950   0.665862  2.446484  0.830829\n",
      "287       0.011018   0.665990  2.439812  0.830827\n",
      "71        0.011304   0.666503  2.412508  0.830816\n",
      "33        0.011346   0.666550  2.408514  0.830814\n",
      "280       0.011601   0.666772  2.384784  0.830804\n",
      "41        0.012735   0.667786  2.286104  0.830759\n"
     ]
    },
    {
     "data": {
      "image/png": "[encoded data removed]",
      "text/plain": [
       "<Figure size 432x288 with 1 Axes>"
      ]
     },
     "metadata": {
      "needs_background": "light"
     },
     "output_type": "display_data"
    },
    {
     "name": "stdout",
     "output_type": "stream",
     "text": [
      "time: 4min 39s\n"
     ]
    }
   ],
   "source": [
    "tune_var_smoothing(\n",
    "    search_space=loguniform.rvs(0.01, 1.5, size=15), outfile=\"var_smoothing7\"\n",
    ")\n",
    "tune_var_smoothing(\n",
    "    search_space=np.random.uniform(0.01, 1.5, size=15), outfile=\"var_smoothing8\"\n",
    ")"
   ]
  },
  {
   "cell_type": "code",
   "execution_count": 16,
   "metadata": {},
   "outputs": [
    {
     "data": {
      "application/vnd.jupyter.widget-view+json": {
       "model_id": "d0daf293309d441fb66bb6d6ff78a517",
       "version_major": 2,
       "version_minor": 0
      },
      "text/plain": [
       "  0%|          | 0/11 [00:00<?, ?it/s]"
      ]
     },
     "metadata": {},
     "output_type": "display_data"
    },
    {
     "name": "stdout",
     "output_type": "stream",
     "text": [
      "     var_smoothing  oob_score  log_loss     auroc\n",
      "261       0.034606   0.680418  1.393541  0.829517\n",
      "163       0.035371   0.680383  1.378941  0.829470\n",
      "153       0.034744   0.680383  1.390871  0.829509\n",
      "194       0.034717   0.680359  1.391393  0.829510\n",
      "2         0.034015   0.680231  1.405232  0.829554\n",
      "258       0.033898   0.680208  1.407600  0.829561\n",
      "293       0.037646   0.680161  1.338674  0.829329\n",
      "301       0.033469   0.680044  1.416352  0.829588\n",
      "267       0.036216   0.680021  1.363457  0.829417\n",
      "199       0.032932   0.679974  1.427606  0.829621\n",
      "     var_smoothing  oob_score  log_loss     auroc\n",
      "18        0.293259   0.597924  0.884370  0.823309\n",
      "32        0.292773   0.597982  0.884370  0.823310\n",
      "102       0.292614   0.597971  0.884370  0.823311\n",
      "109       0.291313   0.598064  0.884372  0.823315\n",
      "69        0.298076   0.597457  0.884373  0.823295\n",
      "39        0.289465   0.598227  0.884376  0.823321\n",
      "13        0.287113   0.598507  0.884384  0.823329\n",
      "66        0.304265   0.596583  0.884399  0.823280\n",
      "137       0.306110   0.596361  0.884411  0.823275\n",
      "111       0.282121   0.599172  0.884413  0.823348\n",
      "     var_smoothing  oob_score  log_loss     auroc\n",
      "85        0.006305   0.659377  3.036293  0.830910\n",
      "24        0.005599   0.658269  3.157899  0.830892\n",
      "290       0.010266   0.665325  2.515697  0.830852\n",
      "285       0.010322   0.665407  2.509758  0.830851\n",
      "305       0.010950   0.665862  2.446484  0.830829\n",
      "287       0.011018   0.665990  2.439812  0.830827\n",
      "71        0.011304   0.666503  2.412508  0.830816\n",
      "33        0.011346   0.666550  2.408514  0.830814\n",
      "280       0.011601   0.666772  2.384784  0.830804\n",
      "41        0.012735   0.667786  2.286104  0.830759\n"
     ]
    },
    {
     "data": {
      "image/png": "[encoded data removed]",
      "text/plain": [
       "<Figure size 432x288 with 1 Axes>"
      ]
     },
     "metadata": {
      "needs_background": "light"
     },
     "output_type": "display_data"
    },
    {
     "data": {
      "application/vnd.jupyter.widget-view+json": {
       "model_id": "84544e81740e4f329a6e54398c0491ff",
       "version_major": 2,
       "version_minor": 0
      },
      "text/plain": [
       "  0%|          | 0/11 [00:00<?, ?it/s]"
      ]
     },
     "metadata": {},
     "output_type": "display_data"
    },
    {
     "name": "stdout",
     "output_type": "stream",
     "text": [
      "     var_smoothing  oob_score  log_loss     auroc\n",
      "261       0.034606   0.680418  1.393541  0.829517\n",
      "163       0.035371   0.680383  1.378941  0.829470\n",
      "153       0.034744   0.680383  1.390871  0.829509\n",
      "194       0.034717   0.680359  1.391393  0.829510\n",
      "2         0.034015   0.680231  1.405232  0.829554\n",
      "258       0.033898   0.680208  1.407600  0.829561\n",
      "293       0.037646   0.680161  1.338674  0.829329\n",
      "301       0.033469   0.680044  1.416352  0.829588\n",
      "267       0.036216   0.680021  1.363457  0.829417\n",
      "199       0.032932   0.679974  1.427606  0.829621\n",
      "     var_smoothing  oob_score  log_loss     auroc\n",
      "18        0.293259   0.597924  0.884370  0.823309\n",
      "32        0.292773   0.597982  0.884370  0.823310\n",
      "102       0.292614   0.597971  0.884370  0.823311\n",
      "109       0.291313   0.598064  0.884372  0.823315\n",
      "69        0.298076   0.597457  0.884373  0.823295\n",
      "39        0.289465   0.598227  0.884376  0.823321\n",
      "13        0.287113   0.598507  0.884384  0.823329\n",
      "66        0.304265   0.596583  0.884399  0.823280\n",
      "137       0.306110   0.596361  0.884411  0.823275\n",
      "111       0.282121   0.599172  0.884413  0.823348\n",
      "     var_smoothing  oob_score  log_loss     auroc\n",
      "85        0.006305   0.659377  3.036293  0.830910\n",
      "24        0.005599   0.658269  3.157899  0.830892\n",
      "290       0.010266   0.665325  2.515697  0.830852\n",
      "285       0.010322   0.665407  2.509758  0.830851\n",
      "305       0.010950   0.665862  2.446484  0.830829\n",
      "287       0.011018   0.665990  2.439812  0.830827\n",
      "71        0.011304   0.666503  2.412508  0.830816\n",
      "33        0.011346   0.666550  2.408514  0.830814\n",
      "280       0.011601   0.666772  2.384784  0.830804\n",
      "41        0.012735   0.667786  2.286104  0.830759\n"
     ]
    },
    {
     "data": {
      "image/png": "[encoded data removed]",
      "text/plain": [
       "<Figure size 432x288 with 1 Axes>"
      ]
     },
     "metadata": {
      "needs_background": "light"
     },
     "output_type": "display_data"
    },
    {
     "name": "stdout",
     "output_type": "stream",
     "text": [
      "time: 4min 42s\n"
     ]
    }
   ],
   "source": [
    "tune_var_smoothing(\n",
    "    search_space=loguniform.rvs(0.12, 0.17, size=11), outfile=\"var_smoothing9\"\n",
    ")\n",
    "tune_var_smoothing(\n",
    "    search_space=np.random.uniform(0.12, 0.17, size=11), outfile=\"var_smoothing10\"\n",
    ")"
   ]
  },
  {
   "cell_type": "code",
   "execution_count": 17,
   "metadata": {},
   "outputs": [
    {
     "data": {
      "application/vnd.jupyter.widget-view+json": {
       "model_id": "68bee8698e9d4372a57ce54ac20690ca",
       "version_major": 2,
       "version_minor": 0
      },
      "text/plain": [
       "  0%|          | 0/11 [00:00<?, ?it/s]"
      ]
     },
     "metadata": {},
     "output_type": "display_data"
    },
    {
     "name": "stdout",
     "output_type": "stream",
     "text": [
      "     var_smoothing  oob_score  log_loss     auroc\n",
      "261       0.034606   0.680418  1.393541  0.829517\n",
      "163       0.035371   0.680383  1.378941  0.829470\n",
      "153       0.034744   0.680383  1.390871  0.829509\n",
      "194       0.034717   0.680359  1.391393  0.829510\n",
      "2         0.034015   0.680231  1.405232  0.829554\n",
      "258       0.033898   0.680208  1.407600  0.829561\n",
      "293       0.037646   0.680161  1.338674  0.829329\n",
      "301       0.033469   0.680044  1.416352  0.829588\n",
      "267       0.036216   0.680021  1.363457  0.829417\n",
      "199       0.032932   0.679974  1.427606  0.829621\n",
      "     var_smoothing  oob_score  log_loss     auroc\n",
      "18        0.293259   0.597924  0.884370  0.823309\n",
      "32        0.292773   0.597982  0.884370  0.823310\n",
      "102       0.292614   0.597971  0.884370  0.823311\n",
      "109       0.291313   0.598064  0.884372  0.823315\n",
      "69        0.298076   0.597457  0.884373  0.823295\n",
      "39        0.289465   0.598227  0.884376  0.823321\n",
      "13        0.287113   0.598507  0.884384  0.823329\n",
      "66        0.304265   0.596583  0.884399  0.823280\n",
      "137       0.306110   0.596361  0.884411  0.823275\n",
      "111       0.282121   0.599172  0.884413  0.823348\n",
      "     var_smoothing  oob_score  log_loss     auroc\n",
      "85        0.006305   0.659377  3.036293  0.830910\n",
      "24        0.005599   0.658269  3.157899  0.830892\n",
      "290       0.010266   0.665325  2.515697  0.830852\n",
      "285       0.010322   0.665407  2.509758  0.830851\n",
      "305       0.010950   0.665862  2.446484  0.830829\n",
      "287       0.011018   0.665990  2.439812  0.830827\n",
      "71        0.011304   0.666503  2.412508  0.830816\n",
      "33        0.011346   0.666550  2.408514  0.830814\n",
      "280       0.011601   0.666772  2.384784  0.830804\n",
      "41        0.012735   0.667786  2.286104  0.830759\n"
     ]
    },
    {
     "data": {
      "image/png": "[encoded data removed]",
      "text/plain": [
       "<Figure size 432x288 with 1 Axes>"
      ]
     },
     "metadata": {
      "needs_background": "light"
     },
     "output_type": "display_data"
    },
    {
     "data": {
      "application/vnd.jupyter.widget-view+json": {
       "model_id": "f4476a0993d84a768b4e3fee8b836681",
       "version_major": 2,
       "version_minor": 0
      },
      "text/plain": [
       "  0%|          | 0/11 [00:00<?, ?it/s]"
      ]
     },
     "metadata": {},
     "output_type": "display_data"
    },
    {
     "name": "stdout",
     "output_type": "stream",
     "text": [
      "     var_smoothing  oob_score  log_loss     auroc\n",
      "261       0.034606   0.680418  1.393541  0.829517\n",
      "163       0.035371   0.680383  1.378941  0.829470\n",
      "153       0.034744   0.680383  1.390871  0.829509\n",
      "194       0.034717   0.680359  1.391393  0.829510\n",
      "2         0.034015   0.680231  1.405232  0.829554\n",
      "258       0.033898   0.680208  1.407600  0.829561\n",
      "293       0.037646   0.680161  1.338674  0.829329\n",
      "301       0.033469   0.680044  1.416352  0.829588\n",
      "267       0.036216   0.680021  1.363457  0.829417\n",
      "199       0.032932   0.679974  1.427606  0.829621\n",
      "     var_smoothing  oob_score  log_loss     auroc\n",
      "18        0.293259   0.597924  0.884370  0.823309\n",
      "32        0.292773   0.597982  0.884370  0.823310\n",
      "102       0.292614   0.597971  0.884370  0.823311\n",
      "366       0.296975   0.597551  0.884371  0.823298\n",
      "109       0.291313   0.598064  0.884372  0.823315\n",
      "69        0.298076   0.597457  0.884373  0.823295\n",
      "39        0.289465   0.598227  0.884376  0.823321\n",
      "13        0.287113   0.598507  0.884384  0.823329\n",
      "66        0.304265   0.596583  0.884399  0.823280\n",
      "137       0.306110   0.596361  0.884411  0.823275\n",
      "     var_smoothing  oob_score  log_loss     auroc\n",
      "85        0.006305   0.659377  3.036293  0.830910\n",
      "24        0.005599   0.658269  3.157899  0.830892\n",
      "290       0.010266   0.665325  2.515697  0.830852\n",
      "285       0.010322   0.665407  2.509758  0.830851\n",
      "305       0.010950   0.665862  2.446484  0.830829\n",
      "287       0.011018   0.665990  2.439812  0.830827\n",
      "71        0.011304   0.666503  2.412508  0.830816\n",
      "33        0.011346   0.666550  2.408514  0.830814\n",
      "280       0.011601   0.666772  2.384784  0.830804\n",
      "41        0.012735   0.667786  2.286104  0.830759\n"
     ]
    },
    {
     "data": {
      "image/png": "[encoded data removed]",
      "text/plain": [
       "<Figure size 432x288 with 1 Axes>"
      ]
     },
     "metadata": {
      "needs_background": "light"
     },
     "output_type": "display_data"
    },
    {
     "name": "stdout",
     "output_type": "stream",
     "text": [
      "time: 6min 13s\n"
     ]
    }
   ],
   "source": [
    "tune_var_smoothing(\n",
    "    search_space=loguniform.rvs(0.2, 0.4, size=11), outfile=\"var_smoothing11\"\n",
    ")\n",
    "tune_var_smoothing(\n",
    "    search_space=np.random.uniform(0.2, 0.4, size=11), outfile=\"var_smoothing12\"\n",
    ")"
   ]
  },
  {
   "cell_type": "code",
   "execution_count": 18,
   "metadata": {},
   "outputs": [
    {
     "data": {
      "application/vnd.jupyter.widget-view+json": {
       "model_id": "a786f1bdc2bf4263900476a3845e0206",
       "version_major": 2,
       "version_minor": 0
      },
      "text/plain": [
       "  0%|          | 0/11 [00:00<?, ?it/s]"
      ]
     },
     "metadata": {},
     "output_type": "display_data"
    },
    {
     "name": "stdout",
     "output_type": "stream",
     "text": [
      "     var_smoothing  oob_score  log_loss     auroc\n",
      "377       0.035465   0.680441  1.377197  0.829464\n",
      "261       0.034606   0.680418  1.393541  0.829517\n",
      "375       0.035406   0.680406  1.378292  0.829468\n",
      "163       0.035371   0.680383  1.378941  0.829470\n",
      "153       0.034744   0.680383  1.390871  0.829509\n",
      "194       0.034717   0.680359  1.391393  0.829510\n",
      "2         0.034015   0.680231  1.405232  0.829554\n",
      "258       0.033898   0.680208  1.407600  0.829561\n",
      "293       0.037646   0.680161  1.338674  0.829329\n",
      "301       0.033469   0.680044  1.416352  0.829588\n",
      "     var_smoothing  oob_score  log_loss     auroc\n",
      "18        0.293259   0.597924  0.884370  0.823309\n",
      "32        0.292773   0.597982  0.884370  0.823310\n",
      "102       0.292614   0.597971  0.884370  0.823311\n",
      "366       0.296975   0.597551  0.884371  0.823298\n",
      "109       0.291313   0.598064  0.884372  0.823315\n",
      "69        0.298076   0.597457  0.884373  0.823295\n",
      "39        0.289465   0.598227  0.884376  0.823321\n",
      "13        0.287113   0.598507  0.884384  0.823329\n",
      "66        0.304265   0.596583  0.884399  0.823280\n",
      "137       0.306110   0.596361  0.884411  0.823275\n",
      "     var_smoothing  oob_score  log_loss     auroc\n",
      "85        0.006305   0.659377  3.036293  0.830910\n",
      "24        0.005599   0.658269  3.157899  0.830892\n",
      "290       0.010266   0.665325  2.515697  0.830852\n",
      "285       0.010322   0.665407  2.509758  0.830851\n",
      "305       0.010950   0.665862  2.446484  0.830829\n",
      "287       0.011018   0.665990  2.439812  0.830827\n",
      "71        0.011304   0.666503  2.412508  0.830816\n",
      "33        0.011346   0.666550  2.408514  0.830814\n",
      "280       0.011601   0.666772  2.384784  0.830804\n",
      "41        0.012735   0.667786  2.286104  0.830759\n"
     ]
    },
    {
     "data": {
      "image/png": "[encoded data removed]",
      "text/plain": [
       "<Figure size 432x288 with 1 Axes>"
      ]
     },
     "metadata": {
      "needs_background": "light"
     },
     "output_type": "display_data"
    },
    {
     "data": {
      "application/vnd.jupyter.widget-view+json": {
       "model_id": "e0a25cd4ae99400da0630556432e2656",
       "version_major": 2,
       "version_minor": 0
      },
      "text/plain": [
       "  0%|          | 0/11 [00:00<?, ?it/s]"
      ]
     },
     "metadata": {},
     "output_type": "display_data"
    },
    {
     "name": "stdout",
     "output_type": "stream",
     "text": [
      "     var_smoothing  oob_score  log_loss     auroc\n",
      "377       0.035465   0.680441  1.377197  0.829464\n",
      "261       0.034606   0.680418  1.393541  0.829517\n",
      "375       0.035406   0.680406  1.378292  0.829468\n",
      "153       0.034744   0.680383  1.390871  0.829509\n",
      "163       0.035371   0.680383  1.378941  0.829470\n",
      "194       0.034717   0.680359  1.391393  0.829510\n",
      "390       0.034001   0.680231  1.405515  0.829555\n",
      "2         0.034015   0.680231  1.405232  0.829554\n",
      "258       0.033898   0.680208  1.407600  0.829561\n",
      "293       0.037646   0.680161  1.338674  0.829329\n",
      "     var_smoothing  oob_score  log_loss     auroc\n",
      "18        0.293259   0.597924  0.884370  0.823309\n",
      "32        0.292773   0.597982  0.884370  0.823310\n",
      "102       0.292614   0.597971  0.884370  0.823311\n",
      "366       0.296975   0.597551  0.884371  0.823298\n",
      "109       0.291313   0.598064  0.884372  0.823315\n",
      "69        0.298076   0.597457  0.884373  0.823295\n",
      "39        0.289465   0.598227  0.884376  0.823321\n",
      "13        0.287113   0.598507  0.884384  0.823329\n",
      "66        0.304265   0.596583  0.884399  0.823280\n",
      "137       0.306110   0.596361  0.884411  0.823275\n",
      "     var_smoothing  oob_score  log_loss     auroc\n",
      "85        0.006305   0.659377  3.036293  0.830910\n",
      "24        0.005599   0.658269  3.157899  0.830892\n",
      "290       0.010266   0.665325  2.515697  0.830852\n",
      "285       0.010322   0.665407  2.509758  0.830851\n",
      "305       0.010950   0.665862  2.446484  0.830829\n",
      "287       0.011018   0.665990  2.439812  0.830827\n",
      "71        0.011304   0.666503  2.412508  0.830816\n",
      "33        0.011346   0.666550  2.408514  0.830814\n",
      "280       0.011601   0.666772  2.384784  0.830804\n",
      "41        0.012735   0.667786  2.286104  0.830759\n"
     ]
    },
    {
     "data": {
      "image/png": "[encoded data removed]",
      "text/plain": [
       "<Figure size 432x288 with 1 Axes>"
      ]
     },
     "metadata": {
      "needs_background": "light"
     },
     "output_type": "display_data"
    },
    {
     "name": "stdout",
     "output_type": "stream",
     "text": [
      "time: 3min 2s\n"
     ]
    }
   ],
   "source": [
    "tune_var_smoothing(\n",
    "    search_space=loguniform.rvs(0.02, 0.04, size=11), outfile=\"var_smoothing13\"\n",
    ")\n",
    "tune_var_smoothing(\n",
    "    search_space=np.random.uniform(0.02, 0.04, size=11), outfile=\"var_smoothing14\"\n",
    ")"
   ]
  },
  {
   "cell_type": "code",
   "execution_count": 19,
   "metadata": {},
   "outputs": [
    {
     "data": {
      "application/vnd.jupyter.widget-view+json": {
       "model_id": "f4af86c311fb4e4596532c89f0a3789c",
       "version_major": 2,
       "version_minor": 0
      },
      "text/plain": [
       "  0%|          | 0/50 [00:00<?, ?it/s]"
      ]
     },
     "metadata": {},
     "output_type": "display_data"
    },
    {
     "name": "stdout",
     "output_type": "stream",
     "text": [
      "     var_smoothing  oob_score  log_loss     auroc\n",
      "377       0.035465   0.680441  1.377197  0.829464\n",
      "261       0.034606   0.680418  1.393541  0.829517\n",
      "375       0.035406   0.680406  1.378292  0.829468\n",
      "153       0.034744   0.680383  1.390871  0.829509\n",
      "163       0.035371   0.680383  1.378941  0.829470\n",
      "194       0.034717   0.680359  1.391393  0.829510\n",
      "390       0.034001   0.680231  1.405515  0.829555\n",
      "2         0.034015   0.680231  1.405232  0.829554\n",
      "258       0.033898   0.680208  1.407600  0.829561\n",
      "293       0.037646   0.680161  1.338674  0.829329\n",
      "     var_smoothing  oob_score  log_loss     auroc\n",
      "18        0.293259   0.597924  0.884370  0.823309\n",
      "32        0.292773   0.597982  0.884370  0.823310\n",
      "102       0.292614   0.597971  0.884370  0.823311\n",
      "366       0.296975   0.597551  0.884371  0.823298\n",
      "109       0.291313   0.598064  0.884372  0.823315\n",
      "69        0.298076   0.597457  0.884373  0.823295\n",
      "39        0.289465   0.598227  0.884376  0.823321\n",
      "13        0.287113   0.598507  0.884384  0.823329\n",
      "66        0.304265   0.596583  0.884399  0.823280\n",
      "409       0.306095   0.596361  0.884411  0.823275\n",
      "     var_smoothing  oob_score  log_loss     auroc\n",
      "85        0.006305   0.659377  3.036293  0.830910\n",
      "24        0.005599   0.658269  3.157899  0.830892\n",
      "290       0.010266   0.665325  2.515697  0.830852\n",
      "415       0.010291   0.665372  2.513032  0.830851\n",
      "285       0.010322   0.665407  2.509758  0.830851\n",
      "417       0.010583   0.665640  2.483019  0.830842\n",
      "445       0.010673   0.665629  2.473854  0.830839\n",
      "305       0.010950   0.665862  2.446484  0.830829\n",
      "287       0.011018   0.665990  2.439812  0.830827\n",
      "71        0.011304   0.666503  2.412508  0.830816\n"
     ]
    },
    {
     "data": {
      "image/png": "[encoded data removed]",
      "text/plain": [
       "<Figure size 432x288 with 1 Axes>"
      ]
     },
     "metadata": {
      "needs_background": "light"
     },
     "output_type": "display_data"
    },
    {
     "data": {
      "application/vnd.jupyter.widget-view+json": {
       "model_id": "2c0efb71258346ff9a1045b15a1f610a",
       "version_major": 2,
       "version_minor": 0
      },
      "text/plain": [
       "  0%|          | 0/50 [00:00<?, ?it/s]"
      ]
     },
     "metadata": {},
     "output_type": "display_data"
    },
    {
     "name": "stdout",
     "output_type": "stream",
     "text": [
      "     var_smoothing  oob_score  log_loss     auroc\n",
      "377       0.035465   0.680441  1.377197  0.829464\n",
      "261       0.034606   0.680418  1.393541  0.829517\n",
      "375       0.035406   0.680406  1.378292  0.829468\n",
      "163       0.035371   0.680383  1.378941  0.829470\n",
      "153       0.034744   0.680383  1.390871  0.829509\n",
      "194       0.034717   0.680359  1.391393  0.829510\n",
      "2         0.034015   0.680231  1.405232  0.829554\n",
      "390       0.034001   0.680231  1.405515  0.829555\n",
      "258       0.033898   0.680208  1.407600  0.829561\n",
      "293       0.037646   0.680161  1.338674  0.829329\n",
      "     var_smoothing  oob_score  log_loss     auroc\n",
      "456       0.296014   0.597644  0.884370  0.823301\n",
      "490       0.294163   0.597796  0.884370  0.823306\n",
      "18        0.293259   0.597924  0.884370  0.823309\n",
      "32        0.292773   0.597982  0.884370  0.823310\n",
      "102       0.292614   0.597971  0.884370  0.823311\n",
      "366       0.296975   0.597551  0.884371  0.823298\n",
      "109       0.291313   0.598064  0.884372  0.823315\n",
      "69        0.298076   0.597457  0.884373  0.823295\n",
      "39        0.289465   0.598227  0.884376  0.823321\n",
      "13        0.287113   0.598507  0.884384  0.823329\n",
      "     var_smoothing  oob_score  log_loss     auroc\n",
      "85        0.006305   0.659377  3.036293  0.830910\n",
      "24        0.005599   0.658269  3.157899  0.830892\n",
      "290       0.010266   0.665325  2.515697  0.830852\n",
      "415       0.010291   0.665372  2.513032  0.830851\n",
      "285       0.010322   0.665407  2.509758  0.830851\n",
      "417       0.010583   0.665640  2.483019  0.830842\n",
      "445       0.010673   0.665629  2.473854  0.830839\n",
      "305       0.010950   0.665862  2.446484  0.830829\n",
      "287       0.011018   0.665990  2.439812  0.830827\n",
      "71        0.011304   0.666503  2.412508  0.830816\n"
     ]
    },
    {
     "data": {
      "image/png": "[encoded data removed]",
      "text/plain": [
       "<Figure size 432x288 with 1 Axes>"
      ]
     },
     "metadata": {
      "needs_background": "light"
     },
     "output_type": "display_data"
    },
    {
     "name": "stdout",
     "output_type": "stream",
     "text": [
      "time: 13min 40s\n"
     ]
    }
   ],
   "source": [
    "tune_var_smoothing(\n",
    "    search_space=loguniform.rvs(0.01, 0.5, size=50), outfile=\"var_smoothing15\"\n",
    ")\n",
    "tune_var_smoothing(\n",
    "    search_space=np.random.uniform(0.01, 0.5, size=50), outfile=\"var_smoothing16\"\n",
    ")"
   ]
  },
  {
   "cell_type": "code",
   "execution_count": 20,
   "metadata": {},
   "outputs": [
    {
     "name": "stdout",
     "output_type": "stream",
     "text": [
      "time: 676 ms\n"
     ]
    }
   ],
   "source": [
    "_ = gc_collect()"
   ]
  },
  {
   "cell_type": "code",
   "execution_count": 21,
   "metadata": {},
   "outputs": [
    {
     "name": "stdout",
     "output_type": "stream",
     "text": [
      "time: 33.9 ms\n"
     ]
    }
   ],
   "source": [
    "files = [\n",
    "    \"var_smoothing1.feather\",\n",
    "    \"var_smoothing2.feather\",\n",
    "    \"var_smoothing3.feather\",\n",
    "    \"var_smoothing4.feather\",\n",
    "    \"var_smoothing5.feather\",\n",
    "    \"var_smoothing6.feather\",\n",
    "    \"var_smoothing7.feather\",\n",
    "    \"var_smoothing8.feather\",\n",
    "    \"var_smoothing9.feather\",\n",
    "    \"var_smoothing10.feather\",\n",
    "    \"var_smoothing11.feather\",\n",
    "    \"var_smoothing12.feather\",\n",
    "    \"var_smoothing13.feather\",\n",
    "    \"var_smoothing14.feather\",\n",
    "    \"var_smoothing15.feather\",\n",
    "    \"var_smoothing16.feather\",\n",
    "]\n",
    "df = pd.concat(\n",
    "    [pd.read_feather(f\"{DATA_OUT_FOLDER}/{file}\") for file in files],\n",
    "    axis=\"rows\",\n",
    ")"
   ]
  },
  {
   "cell_type": "code",
   "execution_count": 22,
   "metadata": {},
   "outputs": [
    {
     "data": {
      "text/plain": [
       "<AxesSubplot:xlabel='var_smoothing', ylabel='auroc'>"
      ]
     },
     "execution_count": 22,
     "metadata": {},
     "output_type": "execute_result"
    },
    {
     "name": "stderr",
     "output_type": "stream",
     "text": [
      "WARNING:matplotlib.legend:No artists with labels found to put in legend.  Note that artists whose label start with an underscore are ignored when legend() is called with no argument.\n"
     ]
    },
    {
     "data": {
      "text/plain": [
       "<matplotlib.legend.Legend at 0x214ce4b9be0>"
      ]
     },
     "execution_count": 22,
     "metadata": {},
     "output_type": "execute_result"
    },
    {
     "data": {
      "image/png": "[encoded data removed]",
      "text/plain": [
       "<Figure size 432x288 with 1 Axes>"
      ]
     },
     "metadata": {
      "needs_background": "light"
     },
     "output_type": "display_data"
    },
    {
     "data": {
      "text/plain": [
       "<AxesSubplot:xlabel='var_smoothing', ylabel='log_loss'>"
      ]
     },
     "execution_count": 22,
     "metadata": {},
     "output_type": "execute_result"
    },
    {
     "name": "stderr",
     "output_type": "stream",
     "text": [
      "WARNING:matplotlib.legend:No artists with labels found to put in legend.  Note that artists whose label start with an underscore are ignored when legend() is called with no argument.\n"
     ]
    },
    {
     "data": {
      "text/plain": [
       "<matplotlib.legend.Legend at 0x214cad73fa0>"
      ]
     },
     "execution_count": 22,
     "metadata": {},
     "output_type": "execute_result"
    },
    {
     "data": {
      "image/png": "[encoded data removed]",
      "text/plain": [
       "<Figure size 432x288 with 1 Axes>"
      ]
     },
     "metadata": {
      "needs_background": "light"
     },
     "output_type": "display_data"
    },
    {
     "data": {
      "text/plain": [
       "<AxesSubplot:xlabel='var_smoothing', ylabel='oob_score'>"
      ]
     },
     "execution_count": 22,
     "metadata": {},
     "output_type": "execute_result"
    },
    {
     "name": "stderr",
     "output_type": "stream",
     "text": [
      "WARNING:matplotlib.legend:No artists with labels found to put in legend.  Note that artists whose label start with an underscore are ignored when legend() is called with no argument.\n"
     ]
    },
    {
     "data": {
      "text/plain": [
       "<matplotlib.legend.Legend at 0x214cea26310>"
      ]
     },
     "execution_count": 22,
     "metadata": {},
     "output_type": "execute_result"
    },
    {
     "data": {
      "image/png": "[encoded data removed]",
      "text/plain": [
       "<Figure size 432x288 with 1 Axes>"
      ]
     },
     "metadata": {
      "needs_background": "light"
     },
     "output_type": "display_data"
    },
    {
     "name": "stdout",
     "output_type": "stream",
     "text": [
      "time: 856 ms\n"
     ]
    }
   ],
   "source": [
    "for metric in (\"auroc\", \"log_loss\", \"oob_score\"):\n",
    "    # plot\n",
    "    df.sort_values(by=\"var_smoothing\").plot(x=\"var_smoothing\", y=metric, kind=\"scatter\")\n",
    "    plt.legend(frameon=False)\n",
    "    sns.despine(top=True, right=True)\n",
    "    plt.tight_layout()\n",
    "    plt.show()"
   ]
  },
  {
   "cell_type": "code",
   "execution_count": 23,
   "metadata": {},
   "outputs": [
    {
     "data": {
      "text/html": [
       "<div>\n",
       "<style scoped>\n",
       "    .dataframe tbody tr th:only-of-type {\n",
       "        vertical-align: middle;\n",
       "    }\n",
       "\n",
       "    .dataframe tbody tr th {\n",
       "        vertical-align: top;\n",
       "    }\n",
       "\n",
       "    .dataframe thead th {\n",
       "        text-align: right;\n",
       "    }\n",
       "</style>\n",
       "<table border=\"1\" class=\"dataframe\">\n",
       "  <thead>\n",
       "    <tr style=\"text-align: right;\">\n",
       "      <th></th>\n",
       "      <th>var_smoothing</th>\n",
       "      <th>oob_score</th>\n",
       "      <th>log_loss</th>\n",
       "      <th>auroc</th>\n",
       "    </tr>\n",
       "  </thead>\n",
       "  <tbody>\n",
       "    <tr>\n",
       "      <th>426</th>\n",
       "      <td>0.296014</td>\n",
       "      <td>0.597644</td>\n",
       "      <td>0.88437</td>\n",
       "      <td>0.823301</td>\n",
       "    </tr>\n",
       "  </tbody>\n",
       "</table>\n",
       "</div>"
      ],
      "text/plain": [
       "     var_smoothing  oob_score  log_loss     auroc\n",
       "426       0.296014   0.597644   0.88437  0.823301"
      ]
     },
     "execution_count": 23,
     "metadata": {},
     "output_type": "execute_result"
    },
    {
     "data": {
      "text/html": [
       "<div>\n",
       "<style scoped>\n",
       "    .dataframe tbody tr th:only-of-type {\n",
       "        vertical-align: middle;\n",
       "    }\n",
       "\n",
       "    .dataframe tbody tr th {\n",
       "        vertical-align: top;\n",
       "    }\n",
       "\n",
       "    .dataframe thead th {\n",
       "        text-align: right;\n",
       "    }\n",
       "</style>\n",
       "<table border=\"1\" class=\"dataframe\">\n",
       "  <thead>\n",
       "    <tr style=\"text-align: right;\">\n",
       "      <th></th>\n",
       "      <th>var_smoothing</th>\n",
       "      <th>oob_score</th>\n",
       "      <th>log_loss</th>\n",
       "      <th>auroc</th>\n",
       "    </tr>\n",
       "  </thead>\n",
       "  <tbody>\n",
       "    <tr>\n",
       "      <th>97</th>\n",
       "      <td>0.035465</td>\n",
       "      <td>0.680441</td>\n",
       "      <td>1.377197</td>\n",
       "      <td>0.829464</td>\n",
       "    </tr>\n",
       "  </tbody>\n",
       "</table>\n",
       "</div>"
      ],
      "text/plain": [
       "    var_smoothing  oob_score  log_loss     auroc\n",
       "97       0.035465   0.680441  1.377197  0.829464"
      ]
     },
     "execution_count": 23,
     "metadata": {},
     "output_type": "execute_result"
    },
    {
     "data": {
      "text/html": [
       "<div>\n",
       "<style scoped>\n",
       "    .dataframe tbody tr th:only-of-type {\n",
       "        vertical-align: middle;\n",
       "    }\n",
       "\n",
       "    .dataframe tbody tr th {\n",
       "        vertical-align: top;\n",
       "    }\n",
       "\n",
       "    .dataframe thead th {\n",
       "        text-align: right;\n",
       "    }\n",
       "</style>\n",
       "<table border=\"1\" class=\"dataframe\">\n",
       "  <thead>\n",
       "    <tr style=\"text-align: right;\">\n",
       "      <th></th>\n",
       "      <th>var_smoothing</th>\n",
       "      <th>oob_score</th>\n",
       "      <th>log_loss</th>\n",
       "      <th>auroc</th>\n",
       "    </tr>\n",
       "  </thead>\n",
       "  <tbody>\n",
       "    <tr>\n",
       "      <th>41</th>\n",
       "      <td>0.006305</td>\n",
       "      <td>0.659377</td>\n",
       "      <td>3.036293</td>\n",
       "      <td>0.83091</td>\n",
       "    </tr>\n",
       "  </tbody>\n",
       "</table>\n",
       "</div>"
      ],
      "text/plain": [
       "    var_smoothing  oob_score  log_loss    auroc\n",
       "41       0.006305   0.659377  3.036293  0.83091"
      ]
     },
     "execution_count": 23,
     "metadata": {},
     "output_type": "execute_result"
    },
    {
     "name": "stdout",
     "output_type": "stream",
     "text": [
      "time: 31 ms\n"
     ]
    }
   ],
   "source": [
    "# best\n",
    "df = df.drop_duplicates()\n",
    "df.loc[df.log_loss == df.log_loss.min()]\n",
    "df.loc[df.oob_score == df.oob_score.max()].sort_values(by=\"log_loss\", ascending=True)\n",
    "df.loc[df.auroc == df.auroc.max()]"
   ]
  },
  {
   "cell_type": "code",
   "execution_count": 24,
   "metadata": {},
   "outputs": [
    {
     "data": {
      "text/html": [
       "<div>\n",
       "<style scoped>\n",
       "    .dataframe tbody tr th:only-of-type {\n",
       "        vertical-align: middle;\n",
       "    }\n",
       "\n",
       "    .dataframe tbody tr th {\n",
       "        vertical-align: top;\n",
       "    }\n",
       "\n",
       "    .dataframe thead th {\n",
       "        text-align: right;\n",
       "    }\n",
       "</style>\n",
       "<table border=\"1\" class=\"dataframe\">\n",
       "  <thead>\n",
       "    <tr style=\"text-align: right;\">\n",
       "      <th></th>\n",
       "      <th>var_smoothing</th>\n",
       "      <th>oob_score</th>\n",
       "      <th>log_loss</th>\n",
       "      <th>auroc</th>\n",
       "    </tr>\n",
       "  </thead>\n",
       "  <tbody>\n",
       "    <tr>\n",
       "      <th>425</th>\n",
       "      <td>0.294163</td>\n",
       "      <td>0.597796</td>\n",
       "      <td>0.884370</td>\n",
       "      <td>0.823306</td>\n",
       "    </tr>\n",
       "    <tr>\n",
       "      <th>49</th>\n",
       "      <td>0.293259</td>\n",
       "      <td>0.597924</td>\n",
       "      <td>0.884370</td>\n",
       "      <td>0.823309</td>\n",
       "    </tr>\n",
       "    <tr>\n",
       "      <th>48</th>\n",
       "      <td>0.292773</td>\n",
       "      <td>0.597982</td>\n",
       "      <td>0.884370</td>\n",
       "      <td>0.823310</td>\n",
       "    </tr>\n",
       "    <tr>\n",
       "      <th>135</th>\n",
       "      <td>0.292614</td>\n",
       "      <td>0.597971</td>\n",
       "      <td>0.884370</td>\n",
       "      <td>0.823311</td>\n",
       "    </tr>\n",
       "    <tr>\n",
       "      <th>335</th>\n",
       "      <td>0.296975</td>\n",
       "      <td>0.597551</td>\n",
       "      <td>0.884371</td>\n",
       "      <td>0.823298</td>\n",
       "    </tr>\n",
       "    <tr>\n",
       "      <th>134</th>\n",
       "      <td>0.291313</td>\n",
       "      <td>0.598064</td>\n",
       "      <td>0.884372</td>\n",
       "      <td>0.823315</td>\n",
       "    </tr>\n",
       "    <tr>\n",
       "      <th>98</th>\n",
       "      <td>0.298076</td>\n",
       "      <td>0.597457</td>\n",
       "      <td>0.884373</td>\n",
       "      <td>0.823295</td>\n",
       "    </tr>\n",
       "    <tr>\n",
       "      <th>47</th>\n",
       "      <td>0.289465</td>\n",
       "      <td>0.598227</td>\n",
       "      <td>0.884376</td>\n",
       "      <td>0.823321</td>\n",
       "    </tr>\n",
       "    <tr>\n",
       "      <th>46</th>\n",
       "      <td>0.287113</td>\n",
       "      <td>0.598507</td>\n",
       "      <td>0.884384</td>\n",
       "      <td>0.823329</td>\n",
       "    </tr>\n",
       "    <tr>\n",
       "      <th>99</th>\n",
       "      <td>0.304265</td>\n",
       "      <td>0.596583</td>\n",
       "      <td>0.884399</td>\n",
       "      <td>0.823280</td>\n",
       "    </tr>\n",
       "  </tbody>\n",
       "</table>\n",
       "</div>"
      ],
      "text/plain": [
       "     var_smoothing  oob_score  log_loss     auroc\n",
       "425       0.294163   0.597796  0.884370  0.823306\n",
       "49        0.293259   0.597924  0.884370  0.823309\n",
       "48        0.292773   0.597982  0.884370  0.823310\n",
       "135       0.292614   0.597971  0.884370  0.823311\n",
       "335       0.296975   0.597551  0.884371  0.823298\n",
       "134       0.291313   0.598064  0.884372  0.823315\n",
       "98        0.298076   0.597457  0.884373  0.823295\n",
       "47        0.289465   0.598227  0.884376  0.823321\n",
       "46        0.287113   0.598507  0.884384  0.823329\n",
       "99        0.304265   0.596583  0.884399  0.823280"
      ]
     },
     "execution_count": 24,
     "metadata": {},
     "output_type": "execute_result"
    },
    {
     "data": {
      "text/html": [
       "<div>\n",
       "<style scoped>\n",
       "    .dataframe tbody tr th:only-of-type {\n",
       "        vertical-align: middle;\n",
       "    }\n",
       "\n",
       "    .dataframe tbody tr th {\n",
       "        vertical-align: top;\n",
       "    }\n",
       "\n",
       "    .dataframe thead th {\n",
       "        text-align: right;\n",
       "    }\n",
       "</style>\n",
       "<table border=\"1\" class=\"dataframe\">\n",
       "  <thead>\n",
       "    <tr style=\"text-align: right;\">\n",
       "      <th></th>\n",
       "      <th>var_smoothing</th>\n",
       "      <th>oob_score</th>\n",
       "      <th>log_loss</th>\n",
       "      <th>auroc</th>\n",
       "    </tr>\n",
       "  </thead>\n",
       "  <tbody>\n",
       "    <tr>\n",
       "      <th>81</th>\n",
       "      <td>0.034606</td>\n",
       "      <td>0.680418</td>\n",
       "      <td>1.393541</td>\n",
       "      <td>0.829517</td>\n",
       "    </tr>\n",
       "    <tr>\n",
       "      <th>96</th>\n",
       "      <td>0.035406</td>\n",
       "      <td>0.680406</td>\n",
       "      <td>1.378292</td>\n",
       "      <td>0.829468</td>\n",
       "    </tr>\n",
       "    <tr>\n",
       "      <th>60</th>\n",
       "      <td>0.034744</td>\n",
       "      <td>0.680383</td>\n",
       "      <td>1.390871</td>\n",
       "      <td>0.829509</td>\n",
       "    </tr>\n",
       "    <tr>\n",
       "      <th>61</th>\n",
       "      <td>0.035371</td>\n",
       "      <td>0.680383</td>\n",
       "      <td>1.378941</td>\n",
       "      <td>0.829470</td>\n",
       "    </tr>\n",
       "    <tr>\n",
       "      <th>59</th>\n",
       "      <td>0.034717</td>\n",
       "      <td>0.680359</td>\n",
       "      <td>1.391393</td>\n",
       "      <td>0.829510</td>\n",
       "    </tr>\n",
       "    <tr>\n",
       "      <th>99</th>\n",
       "      <td>0.034001</td>\n",
       "      <td>0.680231</td>\n",
       "      <td>1.405515</td>\n",
       "      <td>0.829555</td>\n",
       "    </tr>\n",
       "    <tr>\n",
       "      <th>8</th>\n",
       "      <td>0.034015</td>\n",
       "      <td>0.680231</td>\n",
       "      <td>1.405232</td>\n",
       "      <td>0.829554</td>\n",
       "    </tr>\n",
       "    <tr>\n",
       "      <th>79</th>\n",
       "      <td>0.033898</td>\n",
       "      <td>0.680208</td>\n",
       "      <td>1.407600</td>\n",
       "      <td>0.829561</td>\n",
       "    </tr>\n",
       "    <tr>\n",
       "      <th>86</th>\n",
       "      <td>0.037646</td>\n",
       "      <td>0.680161</td>\n",
       "      <td>1.338674</td>\n",
       "      <td>0.829329</td>\n",
       "    </tr>\n",
       "    <tr>\n",
       "      <th>110</th>\n",
       "      <td>0.037259</td>\n",
       "      <td>0.680056</td>\n",
       "      <td>1.345220</td>\n",
       "      <td>0.829353</td>\n",
       "    </tr>\n",
       "  </tbody>\n",
       "</table>\n",
       "</div>"
      ],
      "text/plain": [
       "     var_smoothing  oob_score  log_loss     auroc\n",
       "81        0.034606   0.680418  1.393541  0.829517\n",
       "96        0.035406   0.680406  1.378292  0.829468\n",
       "60        0.034744   0.680383  1.390871  0.829509\n",
       "61        0.035371   0.680383  1.378941  0.829470\n",
       "59        0.034717   0.680359  1.391393  0.829510\n",
       "99        0.034001   0.680231  1.405515  0.829555\n",
       "8         0.034015   0.680231  1.405232  0.829554\n",
       "79        0.033898   0.680208  1.407600  0.829561\n",
       "86        0.037646   0.680161  1.338674  0.829329\n",
       "110       0.037259   0.680056  1.345220  0.829353"
      ]
     },
     "execution_count": 24,
     "metadata": {},
     "output_type": "execute_result"
    },
    {
     "data": {
      "text/html": [
       "<div>\n",
       "<style scoped>\n",
       "    .dataframe tbody tr th:only-of-type {\n",
       "        vertical-align: middle;\n",
       "    }\n",
       "\n",
       "    .dataframe tbody tr th {\n",
       "        vertical-align: top;\n",
       "    }\n",
       "\n",
       "    .dataframe thead th {\n",
       "        text-align: right;\n",
       "    }\n",
       "</style>\n",
       "<table border=\"1\" class=\"dataframe\">\n",
       "  <thead>\n",
       "    <tr style=\"text-align: right;\">\n",
       "      <th></th>\n",
       "      <th>var_smoothing</th>\n",
       "      <th>oob_score</th>\n",
       "      <th>log_loss</th>\n",
       "      <th>auroc</th>\n",
       "    </tr>\n",
       "  </thead>\n",
       "  <tbody>\n",
       "    <tr>\n",
       "      <th>1</th>\n",
       "      <td>0.005599</td>\n",
       "      <td>0.658269</td>\n",
       "      <td>3.157899</td>\n",
       "      <td>0.830892</td>\n",
       "    </tr>\n",
       "    <tr>\n",
       "      <th>42</th>\n",
       "      <td>0.010266</td>\n",
       "      <td>0.665325</td>\n",
       "      <td>2.515697</td>\n",
       "      <td>0.830852</td>\n",
       "    </tr>\n",
       "    <tr>\n",
       "      <th>43</th>\n",
       "      <td>0.010291</td>\n",
       "      <td>0.665372</td>\n",
       "      <td>2.513032</td>\n",
       "      <td>0.830851</td>\n",
       "    </tr>\n",
       "    <tr>\n",
       "      <th>43</th>\n",
       "      <td>0.010322</td>\n",
       "      <td>0.665407</td>\n",
       "      <td>2.509758</td>\n",
       "      <td>0.830851</td>\n",
       "    </tr>\n",
       "    <tr>\n",
       "      <th>45</th>\n",
       "      <td>0.010583</td>\n",
       "      <td>0.665640</td>\n",
       "      <td>2.483019</td>\n",
       "      <td>0.830842</td>\n",
       "    </tr>\n",
       "    <tr>\n",
       "      <th>46</th>\n",
       "      <td>0.010673</td>\n",
       "      <td>0.665629</td>\n",
       "      <td>2.473854</td>\n",
       "      <td>0.830839</td>\n",
       "    </tr>\n",
       "    <tr>\n",
       "      <th>44</th>\n",
       "      <td>0.010950</td>\n",
       "      <td>0.665862</td>\n",
       "      <td>2.446484</td>\n",
       "      <td>0.830829</td>\n",
       "    </tr>\n",
       "    <tr>\n",
       "      <th>44</th>\n",
       "      <td>0.011018</td>\n",
       "      <td>0.665990</td>\n",
       "      <td>2.439812</td>\n",
       "      <td>0.830827</td>\n",
       "    </tr>\n",
       "    <tr>\n",
       "      <th>42</th>\n",
       "      <td>0.011304</td>\n",
       "      <td>0.666503</td>\n",
       "      <td>2.412508</td>\n",
       "      <td>0.830816</td>\n",
       "    </tr>\n",
       "    <tr>\n",
       "      <th>2</th>\n",
       "      <td>0.011346</td>\n",
       "      <td>0.666550</td>\n",
       "      <td>2.408514</td>\n",
       "      <td>0.830814</td>\n",
       "    </tr>\n",
       "  </tbody>\n",
       "</table>\n",
       "</div>"
      ],
      "text/plain": [
       "    var_smoothing  oob_score  log_loss     auroc\n",
       "1        0.005599   0.658269  3.157899  0.830892\n",
       "42       0.010266   0.665325  2.515697  0.830852\n",
       "43       0.010291   0.665372  2.513032  0.830851\n",
       "43       0.010322   0.665407  2.509758  0.830851\n",
       "45       0.010583   0.665640  2.483019  0.830842\n",
       "46       0.010673   0.665629  2.473854  0.830839\n",
       "44       0.010950   0.665862  2.446484  0.830829\n",
       "44       0.011018   0.665990  2.439812  0.830827\n",
       "42       0.011304   0.666503  2.412508  0.830816\n",
       "2        0.011346   0.666550  2.408514  0.830814"
      ]
     },
     "execution_count": 24,
     "metadata": {},
     "output_type": "execute_result"
    },
    {
     "name": "stdout",
     "output_type": "stream",
     "text": [
      "time: 26 ms\n"
     ]
    }
   ],
   "source": [
    "# next best\n",
    "df.sort_values(by=\"log_loss\", ascending=True).head(11).tail(10)\n",
    "df.sort_values(by=\"oob_score\", ascending=False).head(11).tail(10)\n",
    "df.sort_values(by=\"auroc\", ascending=False).head(11).tail(10)"
   ]
  },
  {
   "cell_type": "code",
   "execution_count": 25,
   "metadata": {},
   "outputs": [
    {
     "data": {
      "text/html": [
       "<div>\n",
       "<style scoped>\n",
       "    .dataframe tbody tr th:only-of-type {\n",
       "        vertical-align: middle;\n",
       "    }\n",
       "\n",
       "    .dataframe tbody tr th {\n",
       "        vertical-align: top;\n",
       "    }\n",
       "\n",
       "    .dataframe thead th {\n",
       "        text-align: right;\n",
       "    }\n",
       "</style>\n",
       "<table border=\"1\" class=\"dataframe\">\n",
       "  <thead>\n",
       "    <tr style=\"text-align: right;\">\n",
       "      <th></th>\n",
       "      <th>var_smoothing</th>\n",
       "      <th>oob_score</th>\n",
       "      <th>log_loss</th>\n",
       "      <th>auroc</th>\n",
       "      <th>diff</th>\n",
       "    </tr>\n",
       "  </thead>\n",
       "  <tbody>\n",
       "    <tr>\n",
       "      <th>219</th>\n",
       "      <td>0.161739</td>\n",
       "      <td>0.628831</td>\n",
       "      <td>0.899709</td>\n",
       "      <td>0.824610</td>\n",
       "      <td>0.270878</td>\n",
       "    </tr>\n",
       "    <tr>\n",
       "      <th>26</th>\n",
       "      <td>0.169402</td>\n",
       "      <td>0.625951</td>\n",
       "      <td>0.896959</td>\n",
       "      <td>0.824465</td>\n",
       "      <td>0.271008</td>\n",
       "    </tr>\n",
       "    <tr>\n",
       "      <th>236</th>\n",
       "      <td>0.164652</td>\n",
       "      <td>0.627583</td>\n",
       "      <td>0.898606</td>\n",
       "      <td>0.824553</td>\n",
       "      <td>0.271023</td>\n",
       "    </tr>\n",
       "    <tr>\n",
       "      <th>245</th>\n",
       "      <td>0.163190</td>\n",
       "      <td>0.628120</td>\n",
       "      <td>0.899150</td>\n",
       "      <td>0.824581</td>\n",
       "      <td>0.271030</td>\n",
       "    </tr>\n",
       "    <tr>\n",
       "      <th>123</th>\n",
       "      <td>0.160941</td>\n",
       "      <td>0.628995</td>\n",
       "      <td>0.900025</td>\n",
       "      <td>0.824626</td>\n",
       "      <td>0.271031</td>\n",
       "    </tr>\n",
       "    <tr>\n",
       "      <th>319</th>\n",
       "      <td>0.160155</td>\n",
       "      <td>0.629286</td>\n",
       "      <td>0.900341</td>\n",
       "      <td>0.824641</td>\n",
       "      <td>0.271055</td>\n",
       "    </tr>\n",
       "    <tr>\n",
       "      <th>217</th>\n",
       "      <td>0.160515</td>\n",
       "      <td>0.629135</td>\n",
       "      <td>0.900195</td>\n",
       "      <td>0.824634</td>\n",
       "      <td>0.271061</td>\n",
       "    </tr>\n",
       "    <tr>\n",
       "      <th>247</th>\n",
       "      <td>0.165631</td>\n",
       "      <td>0.627175</td>\n",
       "      <td>0.898252</td>\n",
       "      <td>0.824534</td>\n",
       "      <td>0.271077</td>\n",
       "    </tr>\n",
       "    <tr>\n",
       "      <th>232</th>\n",
       "      <td>0.159812</td>\n",
       "      <td>0.629403</td>\n",
       "      <td>0.900480</td>\n",
       "      <td>0.824648</td>\n",
       "      <td>0.271078</td>\n",
       "    </tr>\n",
       "    <tr>\n",
       "      <th>302</th>\n",
       "      <td>0.158580</td>\n",
       "      <td>0.629893</td>\n",
       "      <td>0.900992</td>\n",
       "      <td>0.824673</td>\n",
       "      <td>0.271099</td>\n",
       "    </tr>\n",
       "  </tbody>\n",
       "</table>\n",
       "</div>"
      ],
      "text/plain": [
       "     var_smoothing  oob_score  log_loss     auroc      diff\n",
       "219       0.161739   0.628831  0.899709  0.824610  0.270878\n",
       "26        0.169402   0.625951  0.896959  0.824465  0.271008\n",
       "236       0.164652   0.627583  0.898606  0.824553  0.271023\n",
       "245       0.163190   0.628120  0.899150  0.824581  0.271030\n",
       "123       0.160941   0.628995  0.900025  0.824626  0.271031\n",
       "319       0.160155   0.629286  0.900341  0.824641  0.271055\n",
       "217       0.160515   0.629135  0.900195  0.824634  0.271061\n",
       "247       0.165631   0.627175  0.898252  0.824534  0.271077\n",
       "232       0.159812   0.629403  0.900480  0.824648  0.271078\n",
       "302       0.158580   0.629893  0.900992  0.824673  0.271099"
      ]
     },
     "execution_count": 25,
     "metadata": {},
     "output_type": "execute_result"
    },
    {
     "name": "stdout",
     "output_type": "stream",
     "text": [
      "time: 11 ms\n"
     ]
    }
   ],
   "source": [
    "df[\"diff\"] = df.log_loss - df.oob_score\n",
    "df.sort_values(by=\"diff\", ascending=True).head(10)"
   ]
  },
  {
   "cell_type": "code",
   "execution_count": 30,
   "metadata": {},
   "outputs": [
    {
     "data": {
      "text/html": [
       "<div>\n",
       "<style scoped>\n",
       "    .dataframe tbody tr th:only-of-type {\n",
       "        vertical-align: middle;\n",
       "    }\n",
       "\n",
       "    .dataframe tbody tr th {\n",
       "        vertical-align: top;\n",
       "    }\n",
       "\n",
       "    .dataframe thead th {\n",
       "        text-align: right;\n",
       "    }\n",
       "</style>\n",
       "<table border=\"1\" class=\"dataframe\">\n",
       "  <thead>\n",
       "    <tr style=\"text-align: right;\">\n",
       "      <th></th>\n",
       "      <th>var_smoothing</th>\n",
       "      <th>oob_score</th>\n",
       "      <th>log_loss</th>\n",
       "      <th>auroc</th>\n",
       "      <th>diff</th>\n",
       "      <th>diff2</th>\n",
       "    </tr>\n",
       "  </thead>\n",
       "  <tbody>\n",
       "    <tr>\n",
       "      <th>47</th>\n",
       "      <td>0.289465</td>\n",
       "      <td>0.598227</td>\n",
       "      <td>0.884376</td>\n",
       "      <td>0.823321</td>\n",
       "      <td>0.286148</td>\n",
       "      <td>0.061054</td>\n",
       "    </tr>\n",
       "    <tr>\n",
       "      <th>46</th>\n",
       "      <td>0.287113</td>\n",
       "      <td>0.598507</td>\n",
       "      <td>0.884384</td>\n",
       "      <td>0.823329</td>\n",
       "      <td>0.285877</td>\n",
       "      <td>0.061055</td>\n",
       "    </tr>\n",
       "    <tr>\n",
       "      <th>134</th>\n",
       "      <td>0.291313</td>\n",
       "      <td>0.598064</td>\n",
       "      <td>0.884372</td>\n",
       "      <td>0.823315</td>\n",
       "      <td>0.286308</td>\n",
       "      <td>0.061056</td>\n",
       "    </tr>\n",
       "    <tr>\n",
       "      <th>135</th>\n",
       "      <td>0.292614</td>\n",
       "      <td>0.597971</td>\n",
       "      <td>0.884370</td>\n",
       "      <td>0.823311</td>\n",
       "      <td>0.286400</td>\n",
       "      <td>0.061060</td>\n",
       "    </tr>\n",
       "    <tr>\n",
       "      <th>48</th>\n",
       "      <td>0.292773</td>\n",
       "      <td>0.597982</td>\n",
       "      <td>0.884370</td>\n",
       "      <td>0.823310</td>\n",
       "      <td>0.286388</td>\n",
       "      <td>0.061060</td>\n",
       "    </tr>\n",
       "    <tr>\n",
       "      <th>49</th>\n",
       "      <td>0.293259</td>\n",
       "      <td>0.597924</td>\n",
       "      <td>0.884370</td>\n",
       "      <td>0.823309</td>\n",
       "      <td>0.286446</td>\n",
       "      <td>0.061061</td>\n",
       "    </tr>\n",
       "    <tr>\n",
       "      <th>425</th>\n",
       "      <td>0.294163</td>\n",
       "      <td>0.597796</td>\n",
       "      <td>0.884370</td>\n",
       "      <td>0.823306</td>\n",
       "      <td>0.286574</td>\n",
       "      <td>0.061064</td>\n",
       "    </tr>\n",
       "    <tr>\n",
       "      <th>328</th>\n",
       "      <td>0.282162</td>\n",
       "      <td>0.599160</td>\n",
       "      <td>0.884412</td>\n",
       "      <td>0.823348</td>\n",
       "      <td>0.285252</td>\n",
       "      <td>0.061065</td>\n",
       "    </tr>\n",
       "    <tr>\n",
       "      <th>131</th>\n",
       "      <td>0.282121</td>\n",
       "      <td>0.599172</td>\n",
       "      <td>0.884413</td>\n",
       "      <td>0.823348</td>\n",
       "      <td>0.285241</td>\n",
       "      <td>0.061065</td>\n",
       "    </tr>\n",
       "    <tr>\n",
       "      <th>426</th>\n",
       "      <td>0.296014</td>\n",
       "      <td>0.597644</td>\n",
       "      <td>0.884370</td>\n",
       "      <td>0.823301</td>\n",
       "      <td>0.286726</td>\n",
       "      <td>0.061069</td>\n",
       "    </tr>\n",
       "  </tbody>\n",
       "</table>\n",
       "</div>"
      ],
      "text/plain": [
       "     var_smoothing  oob_score  log_loss     auroc      diff     diff2\n",
       "47        0.289465   0.598227  0.884376  0.823321  0.286148  0.061054\n",
       "46        0.287113   0.598507  0.884384  0.823329  0.285877  0.061055\n",
       "134       0.291313   0.598064  0.884372  0.823315  0.286308  0.061056\n",
       "135       0.292614   0.597971  0.884370  0.823311  0.286400  0.061060\n",
       "48        0.292773   0.597982  0.884370  0.823310  0.286388  0.061060\n",
       "49        0.293259   0.597924  0.884370  0.823309  0.286446  0.061061\n",
       "425       0.294163   0.597796  0.884370  0.823306  0.286574  0.061064\n",
       "328       0.282162   0.599160  0.884412  0.823348  0.285252  0.061065\n",
       "131       0.282121   0.599172  0.884413  0.823348  0.285241  0.061065\n",
       "426       0.296014   0.597644  0.884370  0.823301  0.286726  0.061069"
      ]
     },
     "execution_count": 30,
     "metadata": {},
     "output_type": "execute_result"
    },
    {
     "name": "stdout",
     "output_type": "stream",
     "text": [
      "time: 14.9 ms\n"
     ]
    }
   ],
   "source": [
    "df[\"diff2\"] = df.log_loss - df.auroc\n",
    "df.sort_values(by=\"diff2\", ascending=True).head(10)"
   ]
  },
  {
   "cell_type": "code",
   "execution_count": 38,
   "metadata": {},
   "outputs": [
    {
     "name": "stdout",
     "output_type": "stream",
     "text": [
      "time: 2.01 ms\n"
     ]
    }
   ],
   "source": [
    "good_df = df.loc[df.var_smoothing < 0.2]"
   ]
  },
  {
   "cell_type": "code",
   "execution_count": 39,
   "metadata": {},
   "outputs": [
    {
     "data": {
      "text/html": [
       "<div>\n",
       "<style scoped>\n",
       "    .dataframe tbody tr th:only-of-type {\n",
       "        vertical-align: middle;\n",
       "    }\n",
       "\n",
       "    .dataframe tbody tr th {\n",
       "        vertical-align: top;\n",
       "    }\n",
       "\n",
       "    .dataframe thead th {\n",
       "        text-align: right;\n",
       "    }\n",
       "</style>\n",
       "<table border=\"1\" class=\"dataframe\">\n",
       "  <thead>\n",
       "    <tr style=\"text-align: right;\">\n",
       "      <th></th>\n",
       "      <th>var_smoothing</th>\n",
       "      <th>oob_score</th>\n",
       "      <th>log_loss</th>\n",
       "      <th>auroc</th>\n",
       "      <th>diff</th>\n",
       "      <th>diff2</th>\n",
       "    </tr>\n",
       "  </thead>\n",
       "  <tbody>\n",
       "    <tr>\n",
       "      <th>97</th>\n",
       "      <td>0.035465</td>\n",
       "      <td>0.680441</td>\n",
       "      <td>1.377197</td>\n",
       "      <td>0.829464</td>\n",
       "      <td>0.696756</td>\n",
       "      <td>0.547733</td>\n",
       "    </tr>\n",
       "    <tr>\n",
       "      <th>81</th>\n",
       "      <td>0.034606</td>\n",
       "      <td>0.680418</td>\n",
       "      <td>1.393541</td>\n",
       "      <td>0.829517</td>\n",
       "      <td>0.713124</td>\n",
       "      <td>0.564024</td>\n",
       "    </tr>\n",
       "    <tr>\n",
       "      <th>96</th>\n",
       "      <td>0.035406</td>\n",
       "      <td>0.680406</td>\n",
       "      <td>1.378292</td>\n",
       "      <td>0.829468</td>\n",
       "      <td>0.697886</td>\n",
       "      <td>0.548824</td>\n",
       "    </tr>\n",
       "    <tr>\n",
       "      <th>61</th>\n",
       "      <td>0.035371</td>\n",
       "      <td>0.680383</td>\n",
       "      <td>1.378941</td>\n",
       "      <td>0.829470</td>\n",
       "      <td>0.698558</td>\n",
       "      <td>0.549471</td>\n",
       "    </tr>\n",
       "    <tr>\n",
       "      <th>60</th>\n",
       "      <td>0.034744</td>\n",
       "      <td>0.680383</td>\n",
       "      <td>1.390871</td>\n",
       "      <td>0.829509</td>\n",
       "      <td>0.710488</td>\n",
       "      <td>0.561362</td>\n",
       "    </tr>\n",
       "    <tr>\n",
       "      <th>59</th>\n",
       "      <td>0.034717</td>\n",
       "      <td>0.680359</td>\n",
       "      <td>1.391393</td>\n",
       "      <td>0.829510</td>\n",
       "      <td>0.711034</td>\n",
       "      <td>0.561883</td>\n",
       "    </tr>\n",
       "    <tr>\n",
       "      <th>99</th>\n",
       "      <td>0.034001</td>\n",
       "      <td>0.680231</td>\n",
       "      <td>1.405515</td>\n",
       "      <td>0.829555</td>\n",
       "      <td>0.725284</td>\n",
       "      <td>0.575960</td>\n",
       "    </tr>\n",
       "    <tr>\n",
       "      <th>8</th>\n",
       "      <td>0.034015</td>\n",
       "      <td>0.680231</td>\n",
       "      <td>1.405232</td>\n",
       "      <td>0.829554</td>\n",
       "      <td>0.725001</td>\n",
       "      <td>0.575678</td>\n",
       "    </tr>\n",
       "    <tr>\n",
       "      <th>79</th>\n",
       "      <td>0.033898</td>\n",
       "      <td>0.680208</td>\n",
       "      <td>1.407600</td>\n",
       "      <td>0.829561</td>\n",
       "      <td>0.727393</td>\n",
       "      <td>0.578039</td>\n",
       "    </tr>\n",
       "    <tr>\n",
       "      <th>86</th>\n",
       "      <td>0.037646</td>\n",
       "      <td>0.680161</td>\n",
       "      <td>1.338674</td>\n",
       "      <td>0.829329</td>\n",
       "      <td>0.658513</td>\n",
       "      <td>0.509345</td>\n",
       "    </tr>\n",
       "  </tbody>\n",
       "</table>\n",
       "</div>"
      ],
      "text/plain": [
       "    var_smoothing  oob_score  log_loss     auroc      diff     diff2\n",
       "97       0.035465   0.680441  1.377197  0.829464  0.696756  0.547733\n",
       "81       0.034606   0.680418  1.393541  0.829517  0.713124  0.564024\n",
       "96       0.035406   0.680406  1.378292  0.829468  0.697886  0.548824\n",
       "61       0.035371   0.680383  1.378941  0.829470  0.698558  0.549471\n",
       "60       0.034744   0.680383  1.390871  0.829509  0.710488  0.561362\n",
       "59       0.034717   0.680359  1.391393  0.829510  0.711034  0.561883\n",
       "99       0.034001   0.680231  1.405515  0.829555  0.725284  0.575960\n",
       "8        0.034015   0.680231  1.405232  0.829554  0.725001  0.575678\n",
       "79       0.033898   0.680208  1.407600  0.829561  0.727393  0.578039\n",
       "86       0.037646   0.680161  1.338674  0.829329  0.658513  0.509345"
      ]
     },
     "execution_count": 39,
     "metadata": {},
     "output_type": "execute_result"
    },
    {
     "data": {
      "text/html": [
       "<div>\n",
       "<style scoped>\n",
       "    .dataframe tbody tr th:only-of-type {\n",
       "        vertical-align: middle;\n",
       "    }\n",
       "\n",
       "    .dataframe tbody tr th {\n",
       "        vertical-align: top;\n",
       "    }\n",
       "\n",
       "    .dataframe thead th {\n",
       "        text-align: right;\n",
       "    }\n",
       "</style>\n",
       "<table border=\"1\" class=\"dataframe\">\n",
       "  <thead>\n",
       "    <tr style=\"text-align: right;\">\n",
       "      <th></th>\n",
       "      <th>var_smoothing</th>\n",
       "      <th>oob_score</th>\n",
       "      <th>log_loss</th>\n",
       "      <th>auroc</th>\n",
       "      <th>diff</th>\n",
       "      <th>diff2</th>\n",
       "    </tr>\n",
       "  </thead>\n",
       "  <tbody>\n",
       "    <tr>\n",
       "      <th>140</th>\n",
       "      <td>0.199972</td>\n",
       "      <td>0.615489</td>\n",
       "      <td>0.889818</td>\n",
       "      <td>0.823990</td>\n",
       "      <td>0.274329</td>\n",
       "      <td>0.065829</td>\n",
       "    </tr>\n",
       "    <tr>\n",
       "      <th>139</th>\n",
       "      <td>0.199966</td>\n",
       "      <td>0.615489</td>\n",
       "      <td>0.889819</td>\n",
       "      <td>0.823990</td>\n",
       "      <td>0.274330</td>\n",
       "      <td>0.065829</td>\n",
       "    </tr>\n",
       "    <tr>\n",
       "      <th>105</th>\n",
       "      <td>0.194680</td>\n",
       "      <td>0.617087</td>\n",
       "      <td>0.890720</td>\n",
       "      <td>0.824060</td>\n",
       "      <td>0.273633</td>\n",
       "      <td>0.066659</td>\n",
       "    </tr>\n",
       "    <tr>\n",
       "      <th>29</th>\n",
       "      <td>0.194236</td>\n",
       "      <td>0.617203</td>\n",
       "      <td>0.890801</td>\n",
       "      <td>0.824066</td>\n",
       "      <td>0.273597</td>\n",
       "      <td>0.066734</td>\n",
       "    </tr>\n",
       "    <tr>\n",
       "      <th>103</th>\n",
       "      <td>0.191199</td>\n",
       "      <td>0.618148</td>\n",
       "      <td>0.891375</td>\n",
       "      <td>0.824109</td>\n",
       "      <td>0.273227</td>\n",
       "      <td>0.067265</td>\n",
       "    </tr>\n",
       "    <tr>\n",
       "      <th>135</th>\n",
       "      <td>0.189513</td>\n",
       "      <td>0.618521</td>\n",
       "      <td>0.891710</td>\n",
       "      <td>0.824134</td>\n",
       "      <td>0.273188</td>\n",
       "      <td>0.067576</td>\n",
       "    </tr>\n",
       "    <tr>\n",
       "      <th>102</th>\n",
       "      <td>0.188422</td>\n",
       "      <td>0.618871</td>\n",
       "      <td>0.891934</td>\n",
       "      <td>0.824150</td>\n",
       "      <td>0.273063</td>\n",
       "      <td>0.067784</td>\n",
       "    </tr>\n",
       "    <tr>\n",
       "      <th>231</th>\n",
       "      <td>0.187734</td>\n",
       "      <td>0.619291</td>\n",
       "      <td>0.892079</td>\n",
       "      <td>0.824160</td>\n",
       "      <td>0.272788</td>\n",
       "      <td>0.067919</td>\n",
       "    </tr>\n",
       "    <tr>\n",
       "      <th>101</th>\n",
       "      <td>0.186325</td>\n",
       "      <td>0.619641</td>\n",
       "      <td>0.892384</td>\n",
       "      <td>0.824182</td>\n",
       "      <td>0.272743</td>\n",
       "      <td>0.068202</td>\n",
       "    </tr>\n",
       "    <tr>\n",
       "      <th>28</th>\n",
       "      <td>0.185829</td>\n",
       "      <td>0.619862</td>\n",
       "      <td>0.892493</td>\n",
       "      <td>0.824189</td>\n",
       "      <td>0.272631</td>\n",
       "      <td>0.068304</td>\n",
       "    </tr>\n",
       "  </tbody>\n",
       "</table>\n",
       "</div>"
      ],
      "text/plain": [
       "     var_smoothing  oob_score  log_loss     auroc      diff     diff2\n",
       "140       0.199972   0.615489  0.889818  0.823990  0.274329  0.065829\n",
       "139       0.199966   0.615489  0.889819  0.823990  0.274330  0.065829\n",
       "105       0.194680   0.617087  0.890720  0.824060  0.273633  0.066659\n",
       "29        0.194236   0.617203  0.890801  0.824066  0.273597  0.066734\n",
       "103       0.191199   0.618148  0.891375  0.824109  0.273227  0.067265\n",
       "135       0.189513   0.618521  0.891710  0.824134  0.273188  0.067576\n",
       "102       0.188422   0.618871  0.891934  0.824150  0.273063  0.067784\n",
       "231       0.187734   0.619291  0.892079  0.824160  0.272788  0.067919\n",
       "101       0.186325   0.619641  0.892384  0.824182  0.272743  0.068202\n",
       "28        0.185829   0.619862  0.892493  0.824189  0.272631  0.068304"
      ]
     },
     "execution_count": 39,
     "metadata": {},
     "output_type": "execute_result"
    },
    {
     "data": {
      "text/html": [
       "<div>\n",
       "<style scoped>\n",
       "    .dataframe tbody tr th:only-of-type {\n",
       "        vertical-align: middle;\n",
       "    }\n",
       "\n",
       "    .dataframe tbody tr th {\n",
       "        vertical-align: top;\n",
       "    }\n",
       "\n",
       "    .dataframe thead th {\n",
       "        text-align: right;\n",
       "    }\n",
       "</style>\n",
       "<table border=\"1\" class=\"dataframe\">\n",
       "  <thead>\n",
       "    <tr style=\"text-align: right;\">\n",
       "      <th></th>\n",
       "      <th>var_smoothing</th>\n",
       "      <th>oob_score</th>\n",
       "      <th>log_loss</th>\n",
       "      <th>auroc</th>\n",
       "      <th>diff</th>\n",
       "      <th>diff2</th>\n",
       "    </tr>\n",
       "  </thead>\n",
       "  <tbody>\n",
       "    <tr>\n",
       "      <th>41</th>\n",
       "      <td>0.006305</td>\n",
       "      <td>0.659377</td>\n",
       "      <td>3.036293</td>\n",
       "      <td>0.830910</td>\n",
       "      <td>2.376916</td>\n",
       "      <td>2.205382</td>\n",
       "    </tr>\n",
       "    <tr>\n",
       "      <th>1</th>\n",
       "      <td>0.005599</td>\n",
       "      <td>0.658269</td>\n",
       "      <td>3.157899</td>\n",
       "      <td>0.830892</td>\n",
       "      <td>2.499630</td>\n",
       "      <td>2.327007</td>\n",
       "    </tr>\n",
       "    <tr>\n",
       "      <th>42</th>\n",
       "      <td>0.010266</td>\n",
       "      <td>0.665325</td>\n",
       "      <td>2.515697</td>\n",
       "      <td>0.830852</td>\n",
       "      <td>1.850371</td>\n",
       "      <td>1.684844</td>\n",
       "    </tr>\n",
       "    <tr>\n",
       "      <th>43</th>\n",
       "      <td>0.010291</td>\n",
       "      <td>0.665372</td>\n",
       "      <td>2.513032</td>\n",
       "      <td>0.830851</td>\n",
       "      <td>1.847660</td>\n",
       "      <td>1.682181</td>\n",
       "    </tr>\n",
       "    <tr>\n",
       "      <th>43</th>\n",
       "      <td>0.010322</td>\n",
       "      <td>0.665407</td>\n",
       "      <td>2.509758</td>\n",
       "      <td>0.830851</td>\n",
       "      <td>1.844351</td>\n",
       "      <td>1.678907</td>\n",
       "    </tr>\n",
       "    <tr>\n",
       "      <th>45</th>\n",
       "      <td>0.010583</td>\n",
       "      <td>0.665640</td>\n",
       "      <td>2.483019</td>\n",
       "      <td>0.830842</td>\n",
       "      <td>1.817379</td>\n",
       "      <td>1.652177</td>\n",
       "    </tr>\n",
       "    <tr>\n",
       "      <th>46</th>\n",
       "      <td>0.010673</td>\n",
       "      <td>0.665629</td>\n",
       "      <td>2.473854</td>\n",
       "      <td>0.830839</td>\n",
       "      <td>1.808226</td>\n",
       "      <td>1.643015</td>\n",
       "    </tr>\n",
       "    <tr>\n",
       "      <th>44</th>\n",
       "      <td>0.010950</td>\n",
       "      <td>0.665862</td>\n",
       "      <td>2.446484</td>\n",
       "      <td>0.830829</td>\n",
       "      <td>1.780622</td>\n",
       "      <td>1.615654</td>\n",
       "    </tr>\n",
       "    <tr>\n",
       "      <th>44</th>\n",
       "      <td>0.011018</td>\n",
       "      <td>0.665990</td>\n",
       "      <td>2.439812</td>\n",
       "      <td>0.830827</td>\n",
       "      <td>1.773822</td>\n",
       "      <td>1.608985</td>\n",
       "    </tr>\n",
       "    <tr>\n",
       "      <th>42</th>\n",
       "      <td>0.011304</td>\n",
       "      <td>0.666503</td>\n",
       "      <td>2.412508</td>\n",
       "      <td>0.830816</td>\n",
       "      <td>1.746005</td>\n",
       "      <td>1.581692</td>\n",
       "    </tr>\n",
       "  </tbody>\n",
       "</table>\n",
       "</div>"
      ],
      "text/plain": [
       "    var_smoothing  oob_score  log_loss     auroc      diff     diff2\n",
       "41       0.006305   0.659377  3.036293  0.830910  2.376916  2.205382\n",
       "1        0.005599   0.658269  3.157899  0.830892  2.499630  2.327007\n",
       "42       0.010266   0.665325  2.515697  0.830852  1.850371  1.684844\n",
       "43       0.010291   0.665372  2.513032  0.830851  1.847660  1.682181\n",
       "43       0.010322   0.665407  2.509758  0.830851  1.844351  1.678907\n",
       "45       0.010583   0.665640  2.483019  0.830842  1.817379  1.652177\n",
       "46       0.010673   0.665629  2.473854  0.830839  1.808226  1.643015\n",
       "44       0.010950   0.665862  2.446484  0.830829  1.780622  1.615654\n",
       "44       0.011018   0.665990  2.439812  0.830827  1.773822  1.608985\n",
       "42       0.011304   0.666503  2.412508  0.830816  1.746005  1.581692"
      ]
     },
     "execution_count": 39,
     "metadata": {},
     "output_type": "execute_result"
    },
    {
     "data": {
      "text/html": [
       "<div>\n",
       "<style scoped>\n",
       "    .dataframe tbody tr th:only-of-type {\n",
       "        vertical-align: middle;\n",
       "    }\n",
       "\n",
       "    .dataframe tbody tr th {\n",
       "        vertical-align: top;\n",
       "    }\n",
       "\n",
       "    .dataframe thead th {\n",
       "        text-align: right;\n",
       "    }\n",
       "</style>\n",
       "<table border=\"1\" class=\"dataframe\">\n",
       "  <thead>\n",
       "    <tr style=\"text-align: right;\">\n",
       "      <th></th>\n",
       "      <th>var_smoothing</th>\n",
       "      <th>oob_score</th>\n",
       "      <th>log_loss</th>\n",
       "      <th>auroc</th>\n",
       "      <th>diff</th>\n",
       "      <th>diff2</th>\n",
       "    </tr>\n",
       "  </thead>\n",
       "  <tbody>\n",
       "    <tr>\n",
       "      <th>219</th>\n",
       "      <td>0.161739</td>\n",
       "      <td>0.628831</td>\n",
       "      <td>0.899709</td>\n",
       "      <td>0.824610</td>\n",
       "      <td>0.270878</td>\n",
       "      <td>0.075099</td>\n",
       "    </tr>\n",
       "    <tr>\n",
       "      <th>26</th>\n",
       "      <td>0.169402</td>\n",
       "      <td>0.625951</td>\n",
       "      <td>0.896959</td>\n",
       "      <td>0.824465</td>\n",
       "      <td>0.271008</td>\n",
       "      <td>0.072494</td>\n",
       "    </tr>\n",
       "    <tr>\n",
       "      <th>236</th>\n",
       "      <td>0.164652</td>\n",
       "      <td>0.627583</td>\n",
       "      <td>0.898606</td>\n",
       "      <td>0.824553</td>\n",
       "      <td>0.271023</td>\n",
       "      <td>0.074053</td>\n",
       "    </tr>\n",
       "    <tr>\n",
       "      <th>245</th>\n",
       "      <td>0.163190</td>\n",
       "      <td>0.628120</td>\n",
       "      <td>0.899150</td>\n",
       "      <td>0.824581</td>\n",
       "      <td>0.271030</td>\n",
       "      <td>0.074568</td>\n",
       "    </tr>\n",
       "    <tr>\n",
       "      <th>123</th>\n",
       "      <td>0.160941</td>\n",
       "      <td>0.628995</td>\n",
       "      <td>0.900025</td>\n",
       "      <td>0.824626</td>\n",
       "      <td>0.271031</td>\n",
       "      <td>0.075400</td>\n",
       "    </tr>\n",
       "    <tr>\n",
       "      <th>319</th>\n",
       "      <td>0.160155</td>\n",
       "      <td>0.629286</td>\n",
       "      <td>0.900341</td>\n",
       "      <td>0.824641</td>\n",
       "      <td>0.271055</td>\n",
       "      <td>0.075699</td>\n",
       "    </tr>\n",
       "    <tr>\n",
       "      <th>217</th>\n",
       "      <td>0.160515</td>\n",
       "      <td>0.629135</td>\n",
       "      <td>0.900195</td>\n",
       "      <td>0.824634</td>\n",
       "      <td>0.271061</td>\n",
       "      <td>0.075561</td>\n",
       "    </tr>\n",
       "    <tr>\n",
       "      <th>247</th>\n",
       "      <td>0.165631</td>\n",
       "      <td>0.627175</td>\n",
       "      <td>0.898252</td>\n",
       "      <td>0.824534</td>\n",
       "      <td>0.271077</td>\n",
       "      <td>0.073718</td>\n",
       "    </tr>\n",
       "    <tr>\n",
       "      <th>232</th>\n",
       "      <td>0.159812</td>\n",
       "      <td>0.629403</td>\n",
       "      <td>0.900480</td>\n",
       "      <td>0.824648</td>\n",
       "      <td>0.271078</td>\n",
       "      <td>0.075832</td>\n",
       "    </tr>\n",
       "    <tr>\n",
       "      <th>302</th>\n",
       "      <td>0.158580</td>\n",
       "      <td>0.629893</td>\n",
       "      <td>0.900992</td>\n",
       "      <td>0.824673</td>\n",
       "      <td>0.271099</td>\n",
       "      <td>0.076318</td>\n",
       "    </tr>\n",
       "  </tbody>\n",
       "</table>\n",
       "</div>"
      ],
      "text/plain": [
       "     var_smoothing  oob_score  log_loss     auroc      diff     diff2\n",
       "219       0.161739   0.628831  0.899709  0.824610  0.270878  0.075099\n",
       "26        0.169402   0.625951  0.896959  0.824465  0.271008  0.072494\n",
       "236       0.164652   0.627583  0.898606  0.824553  0.271023  0.074053\n",
       "245       0.163190   0.628120  0.899150  0.824581  0.271030  0.074568\n",
       "123       0.160941   0.628995  0.900025  0.824626  0.271031  0.075400\n",
       "319       0.160155   0.629286  0.900341  0.824641  0.271055  0.075699\n",
       "217       0.160515   0.629135  0.900195  0.824634  0.271061  0.075561\n",
       "247       0.165631   0.627175  0.898252  0.824534  0.271077  0.073718\n",
       "232       0.159812   0.629403  0.900480  0.824648  0.271078  0.075832\n",
       "302       0.158580   0.629893  0.900992  0.824673  0.271099  0.076318"
      ]
     },
     "execution_count": 39,
     "metadata": {},
     "output_type": "execute_result"
    },
    {
     "data": {
      "text/html": [
       "<div>\n",
       "<style scoped>\n",
       "    .dataframe tbody tr th:only-of-type {\n",
       "        vertical-align: middle;\n",
       "    }\n",
       "\n",
       "    .dataframe tbody tr th {\n",
       "        vertical-align: top;\n",
       "    }\n",
       "\n",
       "    .dataframe thead th {\n",
       "        text-align: right;\n",
       "    }\n",
       "</style>\n",
       "<table border=\"1\" class=\"dataframe\">\n",
       "  <thead>\n",
       "    <tr style=\"text-align: right;\">\n",
       "      <th></th>\n",
       "      <th>var_smoothing</th>\n",
       "      <th>oob_score</th>\n",
       "      <th>log_loss</th>\n",
       "      <th>auroc</th>\n",
       "      <th>diff</th>\n",
       "      <th>diff2</th>\n",
       "    </tr>\n",
       "  </thead>\n",
       "  <tbody>\n",
       "    <tr>\n",
       "      <th>140</th>\n",
       "      <td>0.199972</td>\n",
       "      <td>0.615489</td>\n",
       "      <td>0.889818</td>\n",
       "      <td>0.823990</td>\n",
       "      <td>0.274329</td>\n",
       "      <td>0.065829</td>\n",
       "    </tr>\n",
       "    <tr>\n",
       "      <th>139</th>\n",
       "      <td>0.199966</td>\n",
       "      <td>0.615489</td>\n",
       "      <td>0.889819</td>\n",
       "      <td>0.823990</td>\n",
       "      <td>0.274330</td>\n",
       "      <td>0.065829</td>\n",
       "    </tr>\n",
       "    <tr>\n",
       "      <th>105</th>\n",
       "      <td>0.194680</td>\n",
       "      <td>0.617087</td>\n",
       "      <td>0.890720</td>\n",
       "      <td>0.824060</td>\n",
       "      <td>0.273633</td>\n",
       "      <td>0.066659</td>\n",
       "    </tr>\n",
       "    <tr>\n",
       "      <th>29</th>\n",
       "      <td>0.194236</td>\n",
       "      <td>0.617203</td>\n",
       "      <td>0.890801</td>\n",
       "      <td>0.824066</td>\n",
       "      <td>0.273597</td>\n",
       "      <td>0.066734</td>\n",
       "    </tr>\n",
       "    <tr>\n",
       "      <th>103</th>\n",
       "      <td>0.191199</td>\n",
       "      <td>0.618148</td>\n",
       "      <td>0.891375</td>\n",
       "      <td>0.824109</td>\n",
       "      <td>0.273227</td>\n",
       "      <td>0.067265</td>\n",
       "    </tr>\n",
       "    <tr>\n",
       "      <th>135</th>\n",
       "      <td>0.189513</td>\n",
       "      <td>0.618521</td>\n",
       "      <td>0.891710</td>\n",
       "      <td>0.824134</td>\n",
       "      <td>0.273188</td>\n",
       "      <td>0.067576</td>\n",
       "    </tr>\n",
       "    <tr>\n",
       "      <th>102</th>\n",
       "      <td>0.188422</td>\n",
       "      <td>0.618871</td>\n",
       "      <td>0.891934</td>\n",
       "      <td>0.824150</td>\n",
       "      <td>0.273063</td>\n",
       "      <td>0.067784</td>\n",
       "    </tr>\n",
       "    <tr>\n",
       "      <th>231</th>\n",
       "      <td>0.187734</td>\n",
       "      <td>0.619291</td>\n",
       "      <td>0.892079</td>\n",
       "      <td>0.824160</td>\n",
       "      <td>0.272788</td>\n",
       "      <td>0.067919</td>\n",
       "    </tr>\n",
       "    <tr>\n",
       "      <th>101</th>\n",
       "      <td>0.186325</td>\n",
       "      <td>0.619641</td>\n",
       "      <td>0.892384</td>\n",
       "      <td>0.824182</td>\n",
       "      <td>0.272743</td>\n",
       "      <td>0.068202</td>\n",
       "    </tr>\n",
       "    <tr>\n",
       "      <th>28</th>\n",
       "      <td>0.185829</td>\n",
       "      <td>0.619862</td>\n",
       "      <td>0.892493</td>\n",
       "      <td>0.824189</td>\n",
       "      <td>0.272631</td>\n",
       "      <td>0.068304</td>\n",
       "    </tr>\n",
       "  </tbody>\n",
       "</table>\n",
       "</div>"
      ],
      "text/plain": [
       "     var_smoothing  oob_score  log_loss     auroc      diff     diff2\n",
       "140       0.199972   0.615489  0.889818  0.823990  0.274329  0.065829\n",
       "139       0.199966   0.615489  0.889819  0.823990  0.274330  0.065829\n",
       "105       0.194680   0.617087  0.890720  0.824060  0.273633  0.066659\n",
       "29        0.194236   0.617203  0.890801  0.824066  0.273597  0.066734\n",
       "103       0.191199   0.618148  0.891375  0.824109  0.273227  0.067265\n",
       "135       0.189513   0.618521  0.891710  0.824134  0.273188  0.067576\n",
       "102       0.188422   0.618871  0.891934  0.824150  0.273063  0.067784\n",
       "231       0.187734   0.619291  0.892079  0.824160  0.272788  0.067919\n",
       "101       0.186325   0.619641  0.892384  0.824182  0.272743  0.068202\n",
       "28        0.185829   0.619862  0.892493  0.824189  0.272631  0.068304"
      ]
     },
     "execution_count": 39,
     "metadata": {},
     "output_type": "execute_result"
    },
    {
     "name": "stdout",
     "output_type": "stream",
     "text": [
      "time: 76 ms\n"
     ]
    }
   ],
   "source": [
    "good_df.sort_values(by=\"oob_score\", ascending=False).head(10)\n",
    "good_df.sort_values(by=\"log_loss\", ascending=True).head(10)\n",
    "good_df.sort_values(by=\"auroc\", ascending=False).head(10)\n",
    "good_df.sort_values(by=\"diff\", ascending=True).head(10)\n",
    "good_df.sort_values(by=\"diff2\", ascending=True).head(10)"
   ]
  },
  {
   "cell_type": "code",
   "execution_count": 40,
   "metadata": {},
   "outputs": [
    {
     "data": {
      "text/plain": [
       "<AxesSubplot:xlabel='var_smoothing'>"
      ]
     },
     "execution_count": 40,
     "metadata": {},
     "output_type": "execute_result"
    },
    {
     "data": {
      "text/plain": [
       "<matplotlib.legend.Legend at 0x214cf3d0b20>"
      ]
     },
     "execution_count": 40,
     "metadata": {},
     "output_type": "execute_result"
    },
    {
     "data": {
      "image/png": "[encoded data removed]",
      "text/plain": [
       "<Figure size 432x288 with 1 Axes>"
      ]
     },
     "metadata": {
      "needs_background": "light"
     },
     "output_type": "display_data"
    },
    {
     "data": {
      "text/plain": [
       "<AxesSubplot:xlabel='var_smoothing', ylabel='auroc'>"
      ]
     },
     "execution_count": 40,
     "metadata": {},
     "output_type": "execute_result"
    },
    {
     "name": "stderr",
     "output_type": "stream",
     "text": [
      "WARNING:matplotlib.legend:No artists with labels found to put in legend.  Note that artists whose label start with an underscore are ignored when legend() is called with no argument.\n"
     ]
    },
    {
     "data": {
      "text/plain": [
       "<matplotlib.legend.Legend at 0x214cf40f9a0>"
      ]
     },
     "execution_count": 40,
     "metadata": {},
     "output_type": "execute_result"
    },
    {
     "data": {
      "image/png": "[encoded data removed]",
      "text/plain": [
       "<Figure size 432x288 with 1 Axes>"
      ]
     },
     "metadata": {
      "needs_background": "light"
     },
     "output_type": "display_data"
    },
    {
     "data": {
      "text/plain": [
       "<AxesSubplot:xlabel='var_smoothing', ylabel='log_loss'>"
      ]
     },
     "execution_count": 40,
     "metadata": {},
     "output_type": "execute_result"
    },
    {
     "name": "stderr",
     "output_type": "stream",
     "text": [
      "WARNING:matplotlib.legend:No artists with labels found to put in legend.  Note that artists whose label start with an underscore are ignored when legend() is called with no argument.\n"
     ]
    },
    {
     "data": {
      "text/plain": [
       "<matplotlib.legend.Legend at 0x214cf44ee50>"
      ]
     },
     "execution_count": 40,
     "metadata": {},
     "output_type": "execute_result"
    },
    {
     "data": {
      "image/png": "[encoded data removed]",
      "text/plain": [
       "<Figure size 432x288 with 1 Axes>"
      ]
     },
     "metadata": {
      "needs_background": "light"
     },
     "output_type": "display_data"
    },
    {
     "data": {
      "text/plain": [
       "<AxesSubplot:xlabel='var_smoothing', ylabel='oob_score'>"
      ]
     },
     "execution_count": 40,
     "metadata": {},
     "output_type": "execute_result"
    },
    {
     "name": "stderr",
     "output_type": "stream",
     "text": [
      "WARNING:matplotlib.legend:No artists with labels found to put in legend.  Note that artists whose label start with an underscore are ignored when legend() is called with no argument.\n"
     ]
    },
    {
     "data": {
      "text/plain": [
       "<matplotlib.legend.Legend at 0x214cf366190>"
      ]
     },
     "execution_count": 40,
     "metadata": {},
     "output_type": "execute_result"
    },
    {
     "data": {
      "image/png": "[encoded data removed]",
      "text/plain": [
       "<Figure size 432x288 with 1 Axes>"
      ]
     },
     "metadata": {
      "needs_background": "light"
     },
     "output_type": "display_data"
    },
    {
     "name": "stdout",
     "output_type": "stream",
     "text": [
      "time: 859 ms\n"
     ]
    }
   ],
   "source": [
    "# plot\n",
    "good_df.sort_values(by=\"var_smoothing\").plot(x=\"var_smoothing\")\n",
    "plt.legend(frameon=False)\n",
    "sns.despine(top=True, right=True)\n",
    "plt.tight_layout()\n",
    "plt.show()\n",
    "for metric in (\"auroc\", \"log_loss\", \"oob_score\"):\n",
    "    # plot\n",
    "    good_df.sort_values(by=\"var_smoothing\").plot(\n",
    "        x=\"var_smoothing\", y=metric, kind=\"scatter\"\n",
    "    )\n",
    "    plt.legend(frameon=False)\n",
    "    sns.despine(top=True, right=True)\n",
    "    plt.tight_layout()\n",
    "    plt.show()"
   ]
  },
  {
   "cell_type": "code",
   "execution_count": 41,
   "metadata": {},
   "outputs": [
    {
     "data": {
      "text/plain": [
       "<AxesSubplot:xlabel='var_smoothing'>"
      ]
     },
     "execution_count": 41,
     "metadata": {},
     "output_type": "execute_result"
    },
    {
     "data": {
      "text/plain": [
       "<matplotlib.legend.Legend at 0x214cf1630a0>"
      ]
     },
     "execution_count": 41,
     "metadata": {},
     "output_type": "execute_result"
    },
    {
     "data": {
      "image/png": "[encoded data removed]",
      "text/plain": [
       "<Figure size 432x288 with 1 Axes>"
      ]
     },
     "metadata": {
      "needs_background": "light"
     },
     "output_type": "display_data"
    },
    {
     "data": {
      "text/plain": [
       "<AxesSubplot:xlabel='var_smoothing', ylabel='auroc'>"
      ]
     },
     "execution_count": 41,
     "metadata": {},
     "output_type": "execute_result"
    },
    {
     "name": "stderr",
     "output_type": "stream",
     "text": [
      "WARNING:matplotlib.legend:No artists with labels found to put in legend.  Note that artists whose label start with an underscore are ignored when legend() is called with no argument.\n"
     ]
    },
    {
     "data": {
      "text/plain": [
       "<matplotlib.legend.Legend at 0x214cf5c9430>"
      ]
     },
     "execution_count": 41,
     "metadata": {},
     "output_type": "execute_result"
    },
    {
     "data": {
      "image/png": "[encoded data removed]",
      "text/plain": [
       "<Figure size 432x288 with 1 Axes>"
      ]
     },
     "metadata": {
      "needs_background": "light"
     },
     "output_type": "display_data"
    },
    {
     "data": {
      "text/plain": [
       "<AxesSubplot:xlabel='var_smoothing', ylabel='log_loss'>"
      ]
     },
     "execution_count": 41,
     "metadata": {},
     "output_type": "execute_result"
    },
    {
     "name": "stderr",
     "output_type": "stream",
     "text": [
      "WARNING:matplotlib.legend:No artists with labels found to put in legend.  Note that artists whose label start with an underscore are ignored when legend() is called with no argument.\n"
     ]
    },
    {
     "data": {
      "text/plain": [
       "<matplotlib.legend.Legend at 0x214cf58c550>"
      ]
     },
     "execution_count": 41,
     "metadata": {},
     "output_type": "execute_result"
    },
    {
     "data": {
      "image/png": "[encoded data removed]",
      "text/plain": [
       "<Figure size 432x288 with 1 Axes>"
      ]
     },
     "metadata": {
      "needs_background": "light"
     },
     "output_type": "display_data"
    },
    {
     "data": {
      "text/plain": [
       "<AxesSubplot:xlabel='var_smoothing', ylabel='oob_score'>"
      ]
     },
     "execution_count": 41,
     "metadata": {},
     "output_type": "execute_result"
    },
    {
     "name": "stderr",
     "output_type": "stream",
     "text": [
      "WARNING:matplotlib.legend:No artists with labels found to put in legend.  Note that artists whose label start with an underscore are ignored when legend() is called with no argument.\n"
     ]
    },
    {
     "data": {
      "text/plain": [
       "<matplotlib.legend.Legend at 0x214cf638190>"
      ]
     },
     "execution_count": 41,
     "metadata": {},
     "output_type": "execute_result"
    },
    {
     "data": {
      "image/png": "[encoded data removed]",
      "text/plain": [
       "<Figure size 432x288 with 1 Axes>"
      ]
     },
     "metadata": {
      "needs_background": "light"
     },
     "output_type": "display_data"
    },
    {
     "name": "stdout",
     "output_type": "stream",
     "text": [
      "time: 879 ms\n"
     ]
    }
   ],
   "source": [
    "max_val = 0.075\n",
    "good_df = good_df.loc[good_df.var_smoothing < max_val]\n",
    "\n",
    "# plot\n",
    "good_df.sort_values(by=\"var_smoothing\").plot(x=\"var_smoothing\")\n",
    "plt.legend(frameon=False)\n",
    "sns.despine(top=True, right=True)\n",
    "plt.tight_layout()\n",
    "plt.show()\n",
    "for metric in (\"auroc\", \"log_loss\", \"oob_score\"):\n",
    "    # plot\n",
    "    good_df.sort_values(by=\"var_smoothing\").plot(\n",
    "        x=\"var_smoothing\", y=metric, kind=\"scatter\"\n",
    "    )\n",
    "    plt.legend(frameon=False)\n",
    "    sns.despine(top=True, right=True)\n",
    "    plt.tight_layout()\n",
    "    plt.show()"
   ]
  },
  {
   "cell_type": "code",
   "execution_count": 42,
   "metadata": {},
   "outputs": [
    {
     "data": {
      "text/plain": [
       "<AxesSubplot:xlabel='var_smoothing'>"
      ]
     },
     "execution_count": 42,
     "metadata": {},
     "output_type": "execute_result"
    },
    {
     "data": {
      "text/plain": [
       "<matplotlib.legend.Legend at 0x214cf5ffe20>"
      ]
     },
     "execution_count": 42,
     "metadata": {},
     "output_type": "execute_result"
    },
    {
     "data": {
      "image/png": "[encoded data removed]",
      "text/plain": [
       "<Figure size 432x288 with 1 Axes>"
      ]
     },
     "metadata": {
      "needs_background": "light"
     },
     "output_type": "display_data"
    },
    {
     "data": {
      "text/plain": [
       "<AxesSubplot:xlabel='var_smoothing', ylabel='auroc'>"
      ]
     },
     "execution_count": 42,
     "metadata": {},
     "output_type": "execute_result"
    },
    {
     "name": "stderr",
     "output_type": "stream",
     "text": [
      "WARNING:matplotlib.legend:No artists with labels found to put in legend.  Note that artists whose label start with an underscore are ignored when legend() is called with no argument.\n"
     ]
    },
    {
     "data": {
      "text/plain": [
       "<matplotlib.legend.Legend at 0x214cf5604f0>"
      ]
     },
     "execution_count": 42,
     "metadata": {},
     "output_type": "execute_result"
    },
    {
     "data": {
      "image/png": "[encoded data removed]",
      "text/plain": [
       "<Figure size 432x288 with 1 Axes>"
      ]
     },
     "metadata": {
      "needs_background": "light"
     },
     "output_type": "display_data"
    },
    {
     "data": {
      "text/plain": [
       "<AxesSubplot:xlabel='var_smoothing', ylabel='log_loss'>"
      ]
     },
     "execution_count": 42,
     "metadata": {},
     "output_type": "execute_result"
    },
    {
     "name": "stderr",
     "output_type": "stream",
     "text": [
      "WARNING:matplotlib.legend:No artists with labels found to put in legend.  Note that artists whose label start with an underscore are ignored when legend() is called with no argument.\n"
     ]
    },
    {
     "data": {
      "text/plain": [
       "<matplotlib.legend.Legend at 0x214cf397580>"
      ]
     },
     "execution_count": 42,
     "metadata": {},
     "output_type": "execute_result"
    },
    {
     "data": {
      "image/png": "[encoded data removed]",
      "text/plain": [
       "<Figure size 432x288 with 1 Axes>"
      ]
     },
     "metadata": {
      "needs_background": "light"
     },
     "output_type": "display_data"
    },
    {
     "data": {
      "text/plain": [
       "<AxesSubplot:xlabel='var_smoothing', ylabel='oob_score'>"
      ]
     },
     "execution_count": 42,
     "metadata": {},
     "output_type": "execute_result"
    },
    {
     "name": "stderr",
     "output_type": "stream",
     "text": [
      "WARNING:matplotlib.legend:No artists with labels found to put in legend.  Note that artists whose label start with an underscore are ignored when legend() is called with no argument.\n"
     ]
    },
    {
     "data": {
      "text/plain": [
       "<matplotlib.legend.Legend at 0x214cf6445e0>"
      ]
     },
     "execution_count": 42,
     "metadata": {},
     "output_type": "execute_result"
    },
    {
     "data": {
      "image/png": "[encoded data removed]",
      "text/plain": [
       "<Figure size 432x288 with 1 Axes>"
      ]
     },
     "metadata": {
      "needs_background": "light"
     },
     "output_type": "display_data"
    },
    {
     "name": "stdout",
     "output_type": "stream",
     "text": [
      "time: 812 ms\n"
     ]
    }
   ],
   "source": [
    "min_val = 0.02\n",
    "good_df = good_df.loc[good_df.var_smoothing > min_val]\n",
    "\n",
    "# plot\n",
    "good_df.sort_values(by=\"var_smoothing\").plot(x=\"var_smoothing\")\n",
    "plt.legend(frameon=False)\n",
    "sns.despine(top=True, right=True)\n",
    "plt.tight_layout()\n",
    "plt.show()\n",
    "for metric in (\"auroc\", \"log_loss\", \"oob_score\"):\n",
    "    # plot\n",
    "    good_df.sort_values(by=\"var_smoothing\").plot(\n",
    "        x=\"var_smoothing\", y=metric, kind=\"scatter\"\n",
    "    )\n",
    "    plt.legend(frameon=False)\n",
    "    sns.despine(top=True, right=True)\n",
    "    plt.tight_layout()\n",
    "    plt.show()"
   ]
  },
  {
   "cell_type": "code",
   "execution_count": 51,
   "metadata": {},
   "outputs": [
    {
     "data": {
      "text/plain": [
       "0.035464512306105304"
      ]
     },
     "execution_count": 51,
     "metadata": {},
     "output_type": "execute_result"
    },
    {
     "name": "stdout",
     "output_type": "stream",
     "text": [
      "time: 4.98 ms\n"
     ]
    }
   ],
   "source": [
    "chosen_var_smoothing = good_df.loc[\n",
    "    good_df.oob_score == good_df.oob_score.max()\n",
    "].var_smoothing\n",
    "assert len(chosen_var_smoothing) == 1\n",
    "chosen_var_smoothing = chosen_var_smoothing.iloc[0]\n",
    "chosen_var_smoothing"
   ]
  },
  {
   "cell_type": "code",
   "execution_count": 46,
   "metadata": {},
   "outputs": [
    {
     "name": "stdout",
     "output_type": "stream",
     "text": [
      "time: 142 ms\n"
     ]
    }
   ],
   "source": [
    "final_gnb = BaggingClassifier(\n",
    "    base_estimator=GaussianNB(var_smoothing=chosen_var_smoothing),\n",
    "    n_estimators=50,\n",
    "    oob_score=True,\n",
    "    n_jobs=-1,\n",
    "    random_state=SEED,\n",
    "    verbose=1,\n",
    ")\n",
    "_ = gc_collect()"
   ]
  },
  {
   "cell_type": "code",
   "execution_count": 47,
   "metadata": {},
   "outputs": [
    {
     "name": "stderr",
     "output_type": "stream",
     "text": [
      "[Parallel(n_jobs=8)]: Using backend LokyBackend with 8 concurrent workers.\n",
      "[Parallel(n_jobs=8)]: Done   2 out of   8 | elapsed:    6.4s remaining:   19.3s\n",
      "[Parallel(n_jobs=8)]: Done   8 out of   8 | elapsed:    6.7s finished\n"
     ]
    },
    {
     "data": {
      "text/plain": [
       "BaggingClassifier(base_estimator=GaussianNB(var_smoothing=0.035464512306105304),\n",
       "                  n_estimators=50, n_jobs=-1, oob_score=True, random_state=2022,\n",
       "                  verbose=1)"
      ]
     },
     "execution_count": 47,
     "metadata": {},
     "output_type": "execute_result"
    },
    {
     "name": "stdout",
     "output_type": "stream",
     "text": [
      "time: 9.68 s\n"
     ]
    }
   ],
   "source": [
    "final_gnb.fit(data, labels.valence)"
   ]
  },
  {
   "cell_type": "code",
   "execution_count": 48,
   "metadata": {},
   "outputs": [
    {
     "data": {
      "text/plain": [
       "0.680440867739678"
      ]
     },
     "execution_count": 48,
     "metadata": {},
     "output_type": "execute_result"
    },
    {
     "name": "stderr",
     "output_type": "stream",
     "text": [
      "[Parallel(n_jobs=8)]: Using backend LokyBackend with 8 concurrent workers.\n",
      "[Parallel(n_jobs=8)]: Done   2 out of   8 | elapsed:    2.2s remaining:    6.8s\n",
      "[Parallel(n_jobs=8)]: Done   8 out of   8 | elapsed:    2.9s finished\n"
     ]
    },
    {
     "data": {
      "text/plain": [
       "1.377196724794654"
      ]
     },
     "execution_count": 48,
     "metadata": {},
     "output_type": "execute_result"
    },
    {
     "name": "stderr",
     "output_type": "stream",
     "text": [
      "[Parallel(n_jobs=8)]: Using backend LokyBackend with 8 concurrent workers.\n",
      "[Parallel(n_jobs=8)]: Done   2 out of   8 | elapsed:    2.5s remaining:    7.6s\n",
      "[Parallel(n_jobs=8)]: Done   8 out of   8 | elapsed:    2.8s finished\n"
     ]
    },
    {
     "data": {
      "text/plain": [
       "0.829463652294657"
      ]
     },
     "execution_count": 48,
     "metadata": {},
     "output_type": "execute_result"
    },
    {
     "name": "stdout",
     "output_type": "stream",
     "text": [
      "time: 6.35 s\n"
     ]
    }
   ],
   "source": [
    "final_gnb.oob_score_\n",
    "log_loss(y_true, final_gnb.predict_proba(data))\n",
    "roc_auc_score(y_true, final_gnb.predict_proba(data), multi_class=\"ovo\")"
   ]
  },
  {
   "cell_type": "markdown",
   "metadata": {},
   "source": [
    "# Discussion"
   ]
  },
  {
   "cell_type": "markdown",
   "metadata": {},
   "source": [
    "We chose based on OOB accuracy ultimately."
   ]
  },
  {
   "cell_type": "markdown",
   "metadata": {},
   "source": [
    "There are so many more possibilities for feature engineering. Upstream augmentation of the raw audio would probably be helpful as would resampling.\n",
    "\n",
    "It's important to be disciplined now and focus on deployment. Although there are numerous points of interest where tweaking is likely to yield better results, we are only deviating slightly from the feature engineering pathway we already established."
   ]
  },
  {
   "cell_type": "code",
   "execution_count": 49,
   "metadata": {},
   "outputs": [
    {
     "name": "stdout",
     "output_type": "stream",
     "text": [
      "Time elapsed since notebook_begin_time: 23660.467036247253 s\n",
      "time: 123 ms\n"
     ]
    }
   ],
   "source": [
    "print(f\"Time elapsed since notebook_begin_time: {time() - notebook_begin_time} s\")\n",
    "_ = gc_collect()"
   ]
  },
  {
   "cell_type": "markdown",
   "metadata": {},
   "source": [
    "[^top](#Contents)"
   ]
  },
  {
   "cell_type": "code",
   "execution_count": null,
   "metadata": {},
   "outputs": [],
   "source": []
  }
 ],
 "metadata": {
  "interpreter": {
   "hash": "e1781be99c106060f3abc0c9b91d3d379f24672894e2158d4b74304109955878"
  },
  "kernelspec": {
   "display_name": "Python [conda env:capstone_pyspark_38] *",
   "language": "python",
   "name": "python3"
  },
  "language_info": {
   "codemirror_mode": {
    "name": "ipython",
    "version": 3
   },
   "file_extension": ".py",
   "mimetype": "text/x-python",
   "name": "python",
   "nbconvert_exporter": "python",
   "pygments_lexer": "ipython3",
   "version": "3.8.12"
  }
 },
 "nbformat": 4,
 "nbformat_minor": 4
}
