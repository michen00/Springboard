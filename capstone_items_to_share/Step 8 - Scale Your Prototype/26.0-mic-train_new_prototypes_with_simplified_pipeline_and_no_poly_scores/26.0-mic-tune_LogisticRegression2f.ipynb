{
 "cells": [
  {
   "cell_type": "markdown",
   "metadata": {},
   "source": [
    "# Contents\n",
    "* [Introduction](#Introduction)\n",
    "* [Imports and configuration](#Imports-and-configuration)\n",
    "* [Setup](#Setup)\n",
    "* [C](#C)\n",
    "* [Discussion](#Discussion)"
   ]
  },
  {
   "cell_type": "markdown",
   "metadata": {},
   "source": [
    "# Introduction\n",
    "\n",
    "tune a logreg"
   ]
  },
  {
   "cell_type": "code",
   "execution_count": 1,
   "metadata": {},
   "outputs": [],
   "source": [
    "from time import time\n",
    "\n",
    "notebook_begin_time = time()\n",
    "\n",
    "# set random seeds\n",
    "\n",
    "from os import environ\n",
    "from random import seed as random_seed\n",
    "from numpy.random import seed as np_seed\n",
    "from tensorflow.random import set_seed\n",
    "\n",
    "\n",
    "def reset_seeds(seed: int) -> None:\n",
    "    \"\"\"Utility function for resetting random seeds\"\"\"\n",
    "    environ[\"PYTHONHASHSEED\"] = str(seed)\n",
    "    random_seed(seed)\n",
    "    np_seed(seed)\n",
    "    set_seed(seed)\n",
    "\n",
    "\n",
    "reset_seeds(SEED := 2022)\n",
    "del environ\n",
    "del random_seed\n",
    "del np_seed\n",
    "del set_seed\n",
    "del reset_seeds"
   ]
  },
  {
   "cell_type": "code",
   "execution_count": 2,
   "metadata": {},
   "outputs": [],
   "source": [
    "# extensions\n",
    "%load_ext autotime\n",
    "%load_ext lab_black\n",
    "%load_ext nb_black"
   ]
  },
  {
   "cell_type": "code",
   "execution_count": 3,
   "metadata": {},
   "outputs": [
    {
     "name": "stderr",
     "output_type": "stream",
     "text": [
      "Intel(R) Extension for Scikit-learn* enabled (https://github.com/intel/scikit-learn-intelex)\n"
     ]
    },
    {
     "name": "stdout",
     "output_type": "stream",
     "text": [
      "time: 7.59 s\n"
     ]
    }
   ],
   "source": [
    "# core\n",
    "import numpy as np\n",
    "import pandas as pd\n",
    "from scipy.stats import loguniform\n",
    "\n",
    "# utility\n",
    "from copy import deepcopy\n",
    "from gc import collect as gc_collect\n",
    "\n",
    "# faster sklearn\n",
    "from sklearnex import patch_sklearn\n",
    "\n",
    "patch_sklearn()\n",
    "del patch_sklearn\n",
    "\n",
    "import swifter\n",
    "\n",
    "# typing\n",
    "from typing import Dict, List, Sequence\n",
    "\n",
    "# other sklearn\n",
    "from sklearn.linear_model import LogisticRegression\n",
    "from sklearn.model_selection import RandomizedSearchCV, StratifiedGroupKFold\n",
    "\n",
    "# params\n",
    "from scipy.stats import loguniform, uniform\n",
    "\n",
    "# visualization\n",
    "import matplotlib.pyplot as plt\n",
    "import seaborn as sns\n",
    "\n",
    "sns.set_context(\"notebook\")\n",
    "\n",
    "# full display of rows and columns\n",
    "pd.set_option(\"display.max_columns\", None)\n",
    "pd.set_option(\"display.max_colwidth\", None)\n",
    "pd.set_option(\"display.max_rows\", None)\n",
    "\n",
    "# display outputs w/o print calls\n",
    "from IPython.core.interactiveshell import InteractiveShell\n",
    "\n",
    "InteractiveShell.ast_node_interactivity = \"all\"\n",
    "del InteractiveShell"
   ]
  },
  {
   "cell_type": "code",
   "execution_count": 4,
   "metadata": {},
   "outputs": [
    {
     "name": "stdout",
     "output_type": "stream",
     "text": [
      "time: 166 ms\n"
     ]
    }
   ],
   "source": [
    "# Location of pre-final labels and features\n",
    "FEATURES_FOLDER = (\n",
    "    \"../24.0-mic-train_new_prototypes_with_simplified_pipeline_and_no_song_data\"\n",
    ")\n",
    "\n",
    "# Location where this notebook will output\n",
    "DATA_OUT_FOLDER = \"./tune_logreg\"\n",
    "\n",
    "_ = gc_collect()"
   ]
  },
  {
   "cell_type": "markdown",
   "metadata": {},
   "source": [
    "# Setup"
   ]
  },
  {
   "cell_type": "code",
   "execution_count": 5,
   "metadata": {},
   "outputs": [
    {
     "name": "stdout",
     "output_type": "stream",
     "text": [
      "time: 368 ms\n"
     ]
    }
   ],
   "source": [
    "def load_labels() -> pd.DataFrame:\n",
    "    \"\"\"Load just the labels\"\"\"\n",
    "    return pd.read_feather(f\"{FEATURES_FOLDER}/simplified_labels.feather\").set_index(\n",
    "        \"id\"\n",
    "    )\n",
    "\n",
    "\n",
    "def load_data() -> pd.DataFrame:\n",
    "    \"\"\"Loads the FRILL-based features\"\"\"\n",
    "    df = pd.read_feather(\"./scaled_features_ready_for_selection.feather\").set_index(\n",
    "        \"id\"\n",
    "    )\n",
    "    df.columns = df.columns.astype(str)\n",
    "    return df\n",
    "\n",
    "\n",
    "data = load_data().loc[:, [\"spherical-LDA1\", \"spherical-LDA2\"]]\n",
    "labels = load_labels()\n",
    "assert all(data.index == labels.index)\n",
    "assert len(data) < 86000\n",
    "y_true = labels.valence\n",
    "_ = gc_collect()"
   ]
  },
  {
   "cell_type": "code",
   "execution_count": 6,
   "metadata": {},
   "outputs": [
    {
     "name": "stdout",
     "output_type": "stream",
     "text": [
      "<class 'pandas.core.frame.DataFrame'>\n",
      "UInt64Index: 85740 entries, 0 to 87363\n",
      "Data columns (total 2 columns):\n",
      " #   Column          Non-Null Count  Dtype  \n",
      "---  ------          --------------  -----  \n",
      " 0   spherical-LDA1  85740 non-null  float64\n",
      " 1   spherical-LDA2  85740 non-null  float64\n",
      "dtypes: float64(2)\n",
      "memory usage: 2.0 MB\n",
      "<class 'pandas.core.frame.DataFrame'>\n",
      "UInt64Index: 85740 entries, 0 to 87363\n",
      "Data columns (total 11 columns):\n",
      " #   Column          Non-Null Count  Dtype   \n",
      "---  ------          --------------  -----   \n",
      " 0   file            85740 non-null  object  \n",
      " 1   source          85740 non-null  category\n",
      " 2   speaker_id      85740 non-null  category\n",
      " 3   speaker_gender  85740 non-null  category\n",
      " 4   emo             85740 non-null  category\n",
      " 5   valence         85740 non-null  int8    \n",
      " 6   neg             85740 non-null  bool    \n",
      " 7   neu             85740 non-null  bool    \n",
      " 8   pos             85740 non-null  bool    \n",
      " 9   lang1           85740 non-null  category\n",
      " 10  length          85740 non-null  category\n",
      "dtypes: bool(3), category(6), int8(1), object(1)\n",
      "memory usage: 2.3+ MB\n",
      "time: 61 ms\n"
     ]
    }
   ],
   "source": [
    "data.info()\n",
    "labels.info()"
   ]
  },
  {
   "cell_type": "markdown",
   "metadata": {},
   "source": [
    "# Strata"
   ]
  },
  {
   "cell_type": "code",
   "execution_count": 7,
   "metadata": {},
   "outputs": [
    {
     "name": "stderr",
     "output_type": "stream",
     "text": [
      "Dask Apply: 100%|██████████| 16/16 [00:08<00:00,  1.86it/s]\n"
     ]
    },
    {
     "name": "stdout",
     "output_type": "stream",
     "text": [
      "time: 17.3 s\n"
     ]
    }
   ],
   "source": [
    "N_SPLITS = 8\n",
    "\n",
    "# fields are concatentated for quick permutation omitting non-existent combos\n",
    "strata = labels.loc[\n",
    "    :, [\"source\", \"speaker_gender\", \"emo\", \"valence\", \"lang1\", \"length\"]\n",
    "]\n",
    "strata.valence = strata.valence.astype(str)\n",
    "strata = strata.swifter.apply(\"\".join, axis=1)"
   ]
  },
  {
   "cell_type": "code",
   "execution_count": 8,
   "metadata": {},
   "outputs": [
    {
     "name": "stdout",
     "output_type": "stream",
     "text": [
      "time: 153 ms\n"
     ]
    }
   ],
   "source": [
    "# utility function for identifying strata with only i occurences\n",
    "def get_solo(i: int, strata_: pd.Series) -> np.ndarray:\n",
    "    \"\"\"Given a series of stratum memberships, return a shuffled array of strata with only i members.\"\"\"\n",
    "    return np.unique(\n",
    "        strata_.loc[\n",
    "            strata_.isin(\n",
    "                (strata_counts := strata_.value_counts())\n",
    "                .where(strata_counts == i)\n",
    "                .dropna()\n",
    "                .index\n",
    "            )\n",
    "        ]\n",
    "        .sample(frac=1, random_state=SEED)\n",
    "        .values\n",
    "    )\n",
    "\n",
    "\n",
    "# get solos, print stuff\n",
    "def get_onlys(\n",
    "    strata_: pd.Series, print_me: str = \"\", n_splits: int = N_SPLITS\n",
    ") -> List[Dict[int, np.ndarray]]:\n",
    "    \"\"\"Optinally prints something and returns calls of get_solo on strata_ in a list\"\"\"\n",
    "    print(print_me)\n",
    "    solos = []\n",
    "    for i in range(1, n_splits):\n",
    "        solo: np.ndarray = get_solo(i, strata_)\n",
    "        print(f\"only {i}:\", (_ := solo.size))\n",
    "        if _:  # >= 1 strata with only i samples\n",
    "            solos.append({i: solo})\n",
    "    return solos\n",
    "\n",
    "\n",
    "def process_strata(strata: pd.Series, n_splits: int = N_SPLITS) -> pd.Series:\n",
    "    \"\"\"Corrects strata membership column according to n_splits\"\"\"\n",
    "\n",
    "    count = get_onlys_calls = 0\n",
    "\n",
    "    while onlys := get_onlys(\n",
    "        strata,\n",
    "        print_me=f\"merge passes performed: {get_onlys_calls}\",\n",
    "        n_splits=n_splits,\n",
    "    ):\n",
    "        get_onlys_calls += 1\n",
    "        if len(onlys) == 1:\n",
    "            last = onlys[0]\n",
    "            strata_to_merge: np.ndarray = list(last.values())[0]\n",
    "            only_key = list(last.keys())[0]\n",
    "            tuplet_size = n_splits // only_key + (1 if n_splits % only_key else 0)\n",
    "            # perform tuplet merge\n",
    "            interval = len(strata_to_merge) // n_splits\n",
    "            for strata_tuplet in zip(\n",
    "                *[\n",
    "                    strata_to_merge[interval * i : interval * (i + 1)]\n",
    "                    for i in range(tuplet_size)\n",
    "                ]\n",
    "            ):\n",
    "                strata = strata.replace(strata_tuplet, f\"stratum_group_{count}\")\n",
    "                count += 1\n",
    "            remainder = strata_to_merge[tuplet_size * interval :]\n",
    "            if len(remainder) == 1:\n",
    "                # process remainder unmatched\n",
    "                n = n_splits\n",
    "                strata_counts = strata.value_counts()\n",
    "                while not (candidates := strata_counts.loc[strata_counts == n]).size:\n",
    "                    n += 1\n",
    "                strata = strata.replace(\n",
    "                    [remainder[0], candidates.sample(n=1, random_state=SEED).index[0]],\n",
    "                    f\"stratum_group_{count}\",\n",
    "                )\n",
    "                count += 1\n",
    "            else:\n",
    "                # self-pair last\n",
    "                remainder = remainder.tolist()\n",
    "                while len(remainder) >= 2:\n",
    "                    strata = strata.replace(\n",
    "                        (remainder.pop(), remainder.pop()), f\"stratum_group_{count}\"\n",
    "                    )\n",
    "                    count += 1\n",
    "        else:\n",
    "            pop_onlys = lambda _: list(onlys.pop(_).values())[0].tolist()\n",
    "            while len(onlys) >= 2:\n",
    "                # pop the ends\n",
    "                shortside = pop_onlys(0)\n",
    "                longside = pop_onlys(-1)\n",
    "                # merge until one end empty\n",
    "                while shortside and longside:\n",
    "                    strata = strata.replace(\n",
    "                        (shortside.pop(), longside.pop()), f\"stratum_group_{count}\"\n",
    "                    )\n",
    "                    count += 1\n",
    "            if onlys:\n",
    "                # self-pair middle\n",
    "                remainder = pop_onlys(0)\n",
    "                while len(remainder) >= 2:\n",
    "                    strata = strata.replace(\n",
    "                        (remainder.pop(), remainder.pop()), f\"stratum_group_{count}\"\n",
    "                    )\n",
    "                    count += 1\n",
    "    return strata\n",
    "\n",
    "\n",
    "_ = gc_collect()"
   ]
  },
  {
   "cell_type": "code",
   "execution_count": 9,
   "metadata": {},
   "outputs": [
    {
     "name": "stdout",
     "output_type": "stream",
     "text": [
      "merge passes performed: 0\n",
      "only 1: 52\n",
      "only 2: 37\n",
      "only 3: 31\n",
      "only 4: 17\n",
      "only 5: 27\n",
      "only 6: 13\n",
      "only 7: 9\n",
      "merge passes performed: 1\n",
      "only 1: 43\n",
      "only 2: 24\n",
      "only 3: 4\n",
      "only 4: 1\n",
      "only 5: 0\n",
      "only 6: 0\n",
      "only 7: 0\n",
      "merge passes performed: 2\n",
      "only 1: 42\n",
      "only 2: 20\n",
      "only 3: 0\n",
      "only 4: 0\n",
      "only 5: 5\n",
      "only 6: 0\n",
      "only 7: 0\n",
      "merge passes performed: 3\n",
      "only 1: 37\n",
      "only 2: 0\n",
      "only 3: 0\n",
      "only 4: 10\n",
      "only 5: 0\n",
      "only 6: 5\n",
      "only 7: 0\n",
      "merge passes performed: 4\n",
      "only 1: 32\n",
      "only 2: 0\n",
      "only 3: 0\n",
      "only 4: 0\n",
      "only 5: 0\n",
      "only 6: 0\n",
      "only 7: 5\n",
      "merge passes performed: 5\n",
      "only 1: 27\n",
      "only 2: 0\n",
      "only 3: 0\n",
      "only 4: 0\n",
      "only 5: 0\n",
      "only 6: 0\n",
      "only 7: 0\n",
      "merge passes performed: 6\n",
      "only 1: 1\n",
      "only 2: 1\n",
      "only 3: 0\n",
      "only 4: 0\n",
      "only 5: 0\n",
      "only 6: 0\n",
      "only 7: 0\n",
      "merge passes performed: 7\n",
      "only 1: 0\n",
      "only 2: 0\n",
      "only 3: 1\n",
      "only 4: 0\n",
      "only 5: 0\n",
      "only 6: 0\n",
      "only 7: 0\n",
      "merge passes performed: 8\n",
      "only 1: 0\n",
      "only 2: 0\n",
      "only 3: 0\n",
      "only 4: 0\n",
      "only 5: 0\n",
      "only 6: 0\n",
      "only 7: 0\n"
     ]
    },
    {
     "data": {
      "text/plain": [
       "MELDmneu1engmedium               2905\n",
       "MELDfneu1engmedium               2452\n",
       "esdmang0cmnmedium                1750\n",
       "esdmneu1cmnmedium                1750\n",
       "esdmhap2cmnmedium                1750\n",
       "esdfneu1engmedium                1750\n",
       "esdfhap2engmedium                1750\n",
       "esdfsur0engmedium                1750\n",
       "esdmsur0engmedium                1749\n",
       "esdfneu1cmnmedium                1749\n",
       "esdfhap2cmnmedium                1749\n",
       "esdmsur0cmnmedium                1749\n",
       "esdfang0engmedium                1748\n",
       "esdmneu1engmedium                1747\n",
       "esdfang0cmnmedium                1747\n",
       "esdmang0engmedium                1746\n",
       "esdmhap2engmedium                1744\n",
       "esdfsad0engmedium                1744\n",
       "esdfsur0cmnmedium                1737\n",
       "esdmsad0engmedium                1735\n",
       "esdmsad0cmnmedium                1713\n",
       "LEGOv2fneu1engmedium             1673\n",
       "esdfsad0cmnmedium                1474\n",
       "LEGOv2mneu1engmedium             1309\n",
       "MELDfhap2engmedium                931\n",
       "MELDmhap2engmedium                908\n",
       "EmoV-DB_sortedmneu1engmedium      782\n",
       "EmoV-DB_sortedfang0engmedium      722\n",
       "EmoV-DB_sortedfneu1engmedium      671\n",
       "CREMA-Dmdis0engmedium             660\n",
       "MELDfang0engmedium                655\n",
       "CREMA-Dmhap2engmedium             649\n",
       "MELDmang0engmedium                643\n",
       "CREMA-Dmang0engmedium             641\n",
       "CREMA-Dfhap2engmedium             596\n",
       "CREMA-Dfdis0engmedium             593\n",
       "CREMA-Dfang0engmedium             586\n",
       "CREMA-Dffea0engmedium             583\n",
       "CREMA-Dmfea0engmedium             582\n",
       "CREMA-Dmneu1engmedium             575\n",
       "ShEMOmneu1pesmedium               546\n",
       "CREMA-Dfneu1engmedium             512\n",
       "LEGOv2fang0engmedium              509\n",
       "ShEMOmang0pesmedium               499\n",
       "CREMA-Dfsad0engmedium             484\n",
       "EmoV-DB_sortedmang0engmedium      447\n",
       "MELDmneu1englong                  427\n",
       "MELDfsad0engmedium                417\n",
       "CREMA-Dmsad0engmedium             411\n",
       "EmoV-DB_sortedfamu2engmedium      410\n",
       "tessfang0engmedium                400\n",
       "tessfsad0engmedium                400\n",
       "tessfsur2engmedium                400\n",
       "tessfneu1engmedium                400\n",
       "tessfhap2engmedium                400\n",
       "tessffea0engmedium                400\n",
       "tessfdis0engmedium                400\n",
       "EmoV-DB_sortedmamu2englong        399\n",
       "EmoV-DB_sortedmamu2engmedium      396\n",
       "MELDmsur0engmedium                383\n",
       "ShEMOfang0pesmedium               378\n",
       "MELDfsur0engmedium                369\n",
       "EmoV-DB_sortedmdis0englong        368\n",
       "MELDfsur2engmedium                365\n",
       "MELDfneu1englong                  355\n",
       "MELDmsad0engmedium                346\n",
       "LEGOv2mang0engmedium              346\n",
       "EmoV-DB_sortedfdis0engmedium      302\n",
       "MELDmsur2engmedium                287\n",
       "esdfsad0cmnlong                   276\n",
       "ekorpusfang0estmedium             244\n",
       "MESSfhap2engmedium                225\n",
       "MESSfsad0engmedium                225\n",
       "MESSmsad0engmedium                225\n",
       "MESSmhap2engmedium                225\n",
       "MESSfang0engmedium                225\n",
       "MESSmang0engmedium                225\n",
       "EmoV-DB_sortedfdis0englong        220\n",
       "ekorpusfhap2estmedium             210\n",
       "ShEMOfsad0pesmedium               203\n",
       "EmoReact_V_1.0funk2engmedium      202\n",
       "LEGOv2uneu1engmedium              199\n",
       "vivaefple2___medium               196\n",
       "MESSfcal2engmedium                192\n",
       "ekorpusfsad0estmedium             183\n",
       "ShEMOfneu1pesmedium               178\n",
       "MELDmhap2englong                  170\n",
       "enterface_dbmsur0engmedium        170\n",
       "enterface_dbmang0engmedium        169\n",
       "MELDmfea0engmedium                167\n",
       "enterface_dbmfea0engmedium        167\n",
       "enterface_dbmdis0engmedium        167\n",
       "enterface_dbmhap2engmedium        167\n",
       "MESSmcal2engmedium                167\n",
       "vivaefpai0___medium               166\n",
       "enterface_dbmsad0engmedium        164\n",
       "vivaefsur2___medium               164\n",
       "ShEMOmneu1peslong                 163\n",
       "vivaefang0___medium               157\n",
       "EmoReact_V_1.0munk2engmedium      154\n",
       "MELDfhap2englong                  153\n",
       "MELDfdis0engmedium                146\n",
       "vivaefach2___medium               143\n",
       "vivaeffea0___medium               139\n",
       "MELDffea0engmedium                129\n",
       "EmoV-DB_sortedmdis0engmedium      128\n",
       "MELDmdis0engmedium                123\n",
       "MELDfsad0englong                  122\n",
       "jl-corpusmexc2engmedium           120\n",
       "jl-corpusmneu1engmedium           120\n",
       "jl-corpusfexc2engmedium           120\n",
       "jl-corpusmang0engmedium           120\n",
       "jl-corpusfapo0engmedium           120\n",
       "MELDfang0englong                  120\n",
       "jl-corpusfhap2engmedium           120\n",
       "jl-corpusfang0engmedium           120\n",
       "jl-corpusfanx0engmedium           120\n",
       "jl-corpusmanx0engmedium           120\n",
       "jl-corpusfsad0engmedium           120\n",
       "jl-corpusmhap2engmedium           120\n",
       "jl-corpusfneu1engmedium           120\n",
       "jl-corpusmapo0engmedium           120\n",
       "jl-corpusmsad0engmedium           120\n",
       "ekorpusfneu1estmedium             115\n",
       "ShEMOfsur0pesmedium               114\n",
       "saveemneu1engmedium               113\n",
       "MELDmang0englong                  113\n",
       "EmoReact_V_1.0funk0engmedium      111\n",
       "EmoV-DB_sortedfamu2englong        108\n",
       "ShEMOmsad0pesmedium               104\n",
       "Emotional_EMAfang0engmedium       104\n",
       "EmoV-DB_sortedfneu1englong        103\n",
       "urdumang0urdmedium                100\n",
       "ShEMOmsur0pesmedium                99\n",
       "Emotional_EMAfhap2engmedium        97\n",
       "ravdessfsad0engmedium              96\n",
       "ravdessfcal1engmedium              96\n",
       "ravdessfsur0engmedium              96\n",
       "ravdessmcal1engmedium              96\n",
       "ravdessmhap2engmedium              96\n",
       "ravdessmsad0engmedium              96\n",
       "ravdessmang0engmedium              96\n",
       "ravdessmfea0engmedium              96\n",
       "ravdessmdis0engmedium              96\n",
       "ravdessmsur0engmedium              96\n",
       "urdumneu1urdmedium                 96\n",
       "ravdessfhap2engmedium              96\n",
       "ravdessfang0engmedium              96\n",
       "ravdessffea0engmedium              96\n",
       "ravdessfdis0engmedium              96\n",
       "EmoReact_V_1.0munk0engmedium       95\n",
       "urdumsad0urdmedium                 94\n",
       "Emotional_EMAfneu1engmedium        94\n",
       "ShEMOfhap2pesmedium                93\n",
       "EYASEmneu1arzmedium                88\n",
       "EYASEmang0arzmedium                88\n",
       "ShEMOmang0peslong                  86\n",
       "EYASEmsad0arzmedium                86\n",
       "BAUM1fsad0turmedium                85\n",
       "Emotional_EMAfsad0engmedium        83\n",
       "MELDmsad0englong                   79\n",
       "BAUM1fhap2turmedium                78\n",
       "EmoV-DB_sortedfang0englong         78\n",
       "BAUM1fneu1turmedium                78\n",
       "ShEMOmhap2pesmedium                74\n",
       "EmoReact_V_1.0funk2englong         73\n",
       "EYASEmhap2arzmedium                72\n",
       "cafemang0framedium                 71\n",
       "cafemsur0framedium                 71\n",
       "cafefhap2framedium                 71\n",
       "ShEMOfang0peslong                  71\n",
       "ShEMOfneu1peslong                  71\n",
       "cafefsur0framedium                 70\n",
       "cafefang0framedium                 69\n",
       "cafemhap2framedium                 69\n",
       "cafemfea0framedium                 69\n",
       "MELDmneu1engshort                  69\n",
       "EmoDBfang0deumedium                67\n",
       "ShEMOmsad0peslong                  66\n",
       "cafeffea0framedium                 66\n",
       "cafemdis0framedium                 66\n",
       "cafemsad0framedium                 65\n",
       "BAUM1func0turmedium                60\n",
       "aesddfang0ellmedium                60\n",
       "EmoDBmang0deumedium                60\n",
       "EYASEfang0arzmedium                60\n",
       "EYASEfsad0arzmedium                60\n",
       "EYASEfhap2arzmedium                60\n",
       "EYASEfneu1arzmedium                60\n",
       "aesddffea0ellmedium                59\n",
       "saveemfea0engmedium                58\n",
       "MESSmcal1engmedium                 58\n",
       "aesddfsad0ellmedium                58\n",
       "BAUM1mhap2turmedium                56\n",
       "BAUM1mneu1turmedium                56\n",
       "saveemang0engmedium                56\n",
       "cafefsad0framedium                 55\n",
       "aesddfhap2ellmedium                55\n",
       "urdumhap2urdmedium                 54\n",
       "MELDfneu1engshort                  54\n",
       "saveemsur0engmedium                54\n",
       "saveemhap2engmedium                54\n",
       "oreau2mneu1framedium               52\n",
       "aesddfdis0ellmedium                51\n",
       "saveemdis0engmedium                51\n",
       "oreau2mang0framedium               50\n",
       "EmoReact_V_1.0funk0englong         50\n",
       "ShEMOfsad0peslong                  49\n",
       "MELDfsur2englong                   48\n",
       "aesddmfea0ellmedium                48\n",
       "ravdessmneu1engmedium              48\n",
       "ravdessfneu1engmedium              48\n",
       "oreau2mdis0framedium               47\n",
       "aesddmang0ellmedium                47\n",
       "aesddmdis0ellmedium                46\n",
       "EmoReact_V_1.0munk2englong         46\n",
       "urdufhap2urdmedium                 46\n",
       "EmoDBfbor0deumedium                46\n",
       "BAUM1mdis0turmedium                46\n",
       "BAUM1fbot0turmedium                46\n",
       "BAUM1mang0turmedium                46\n",
       "BAUM1munc0turmedium                45\n",
       "enterface_dbfhap2engmedium         45\n",
       "enterface_dbfsad0engmedium         45\n",
       "enterface_dbffea0engmedium         45\n",
       "Emotional_EMAmneu1engmedium        45\n",
       "enterface_dbfang0engmedium         45\n",
       "EmoDBfhap2deumedium                44\n",
       "enterface_dbfdis0engmedium         44\n",
       "oreau2mhap2framedium               44\n",
       "cafefdis0framedium                 44\n",
       "oreau2msur0framedium               44\n",
       "enterface_dbfsur0engmedium         44\n",
       "saveemsad0engmedium                42\n",
       "BAUM1fdis0turmedium                42\n",
       "MELDmsur2englong                   41\n",
       "aesddmhap2ellmedium                41\n",
       "oreau2msad0framedium               41\n",
       "MELDmdis0englong                   41\n",
       "BAUM2mang0engmedium                40\n",
       "Emotional_EMAmsad0englong          40\n",
       "EmoDBfneu1deumedium                40\n",
       "ekorpusfang0estlong                40\n",
       "EmoReact_V_1.0munk0englong         39\n",
       "EmoDBmneu1deumedium                39\n",
       "oreau2mfea0framedium               39\n",
       "aesddmsad0ellmedium                38\n",
       "BAUM1fang0turmedium                38\n",
       "vivaeffea0___short                 37\n",
       "esdmsad0cmnlong                    37\n",
       "cafefneu1framedium                 36\n",
       "EmoDBmfea0deumedium                36\n",
       "BAUM1msad0turmedium                36\n",
       "MELDfdis0englong                   35\n",
       "EmoDBmbor0deumedium                35\n",
       "EmoDBffea0deumedium                33\n",
       "cafemneu1framedium                 33\n",
       "LEGOv2uang0engmedium               33\n",
       "MESSfcal1engmedium                 33\n",
       "EmoDBfdis0deumedium                33\n",
       "Emotional_EMAmang0engmedium        33\n",
       "MELDmsur0englong                   32\n",
       "Emotional_EMAmhap2engmedium        32\n",
       "BAUM2fang0engmedium                32\n",
       "LEGOv2fneu1engshort                30\n",
       "LEGOv2mneu1engshort                29\n",
       "BAUM1munc0turlong                  29\n",
       "MELDfhap2engshort                  29\n",
       "EmoDBfsad0deumedium                29\n",
       "MELDmhap2engshort                  29\n",
       "MELDfsur0englong                   28\n",
       "cafefdis0fralong                   28\n",
       "BAUM1ffea0turmedium                27\n",
       "EmoDBmhap2deumedium                27\n",
       "LEGOv2fang0englong                 27\n",
       "Emotional_EMAmsad0engmedium        26\n",
       "ekorpusfneu1estlong                26\n",
       "LEGOv2fneu1englong                 25\n",
       "BAUM1fbor0turmedium                25\n",
       "BAUM1fsad0turlong                  25\n",
       "MELDffea0englong                   25\n",
       "MELDmfea0englong                   25\n",
       "BAUM1mfea0turmedium                25\n",
       "BAUM1mcon0turmedium                24\n",
       "BAUM2fhap2engmedium                24\n",
       "LEGOv2mneu1englong                 24\n",
       "vivaefsur2___short                 23\n",
       "BAUM2fhap2turmedium                23\n",
       "ekorpusfsad0estlong                23\n",
       "BAUM2mhap2engmedium                23\n",
       "BAUM2mang0turmedium                23\n",
       "BAUM1mneu1turlong                  22\n",
       "Emotional_EMAfsad0englong          21\n",
       "EmoV-DB_sortedmang0englong         21\n",
       "BAUM1fneu1turlong                  21\n",
       "BAUM1mcon0turlong                  21\n",
       "BAUM1msad0turlong                  21\n",
       "MELDuneu1engmedium                 21\n",
       "aesddmsad0elllong                  20\n",
       "MELDfang0engshort                  20\n",
       "ekorpusfhap2estlong                20\n",
       "EmoDBmsad0deumedium                20\n",
       "vivaefpai0___short                 19\n",
       "BAUM1fcon0turmedium                19\n",
       "ShEMOffea0pesmedium                19\n",
       "BAUM1func0turlong                  19\n",
       "BAUM1mbor0turmedium                19\n",
       "BAUM1mhap2turlong                  19\n",
       "oreau2fneu1framedium               18\n",
       "oreau2fsur0framedium               18\n",
       "aesddmhap2elllong                  18\n",
       "vivaefach2___short                 18\n",
       "oreau2fhap2framedium               18\n",
       "BAUM2fang0turmedium                18\n",
       "saveemsad0englong                  18\n",
       "cafefsad0fralong                   17\n",
       "oreau2fang0framedium               17\n",
       "BAUM1mbot0turmedium                17\n",
       "vivaefang0___short                 17\n",
       "EmoReact_V_1.0fdis0engmedium       16\n",
       "EmoReact_V_1.0mneu1engmedium       16\n",
       "oreau2fdis0framedium               16\n",
       "BAUM1fsur0turmedium                15\n",
       "ShEMOmhap2peslong                  15\n",
       "esdmsad0englong                    15\n",
       "ShEMOfhap2peslong                  15\n",
       "MELDuhap2engmedium                 15\n",
       "aesddmdis0elllong                  14\n",
       "ShEMOmfea0pesmedium                14\n",
       "MELDfsur0engshort                  14\n",
       "oreau2fsad0framedium               14\n",
       "BAUM1mcur2turmedium                14\n",
       "BAUM2fsur0turmedium                13\n",
       "BAUM2mhap2turmedium                13\n",
       "esdfsur0cmnlong                    13\n",
       "Emotional_EMAmang0englong          13\n",
       "aesddmang0elllong                  13\n",
       "BAUM1mfea0turlong                  13\n",
       "BAUM1msur0turmedium                13\n",
       "Emotional_EMAfang0englong          13\n",
       "EmoV-DB_sortedmneu1englong         12\n",
       "BAUM2msur0engmedium                12\n",
       "BAUM2fsur0engmedium                12\n",
       "BAUM1fcur2turmedium                12\n",
       "BAUM2fsad0turmedium                12\n",
       "aesddfdis0elllong                  11\n",
       "aesddmfea0elllong                  11\n",
       "oreau2ffea0framedium               11\n",
       "BAUM1mdis0turlong                  11\n",
       "MELDmsur2engshort                  11\n",
       "stratum_group_97                   11\n",
       "BAUM1fbot0turlong                  11\n",
       "EmoReact_V_1.0mdis0engmedium       11\n",
       "EmoReact_V_1.0fneu1engmedium       11\n",
       "EmoReact_V_1.0mcur2engmedium       10\n",
       "BAUM2fsad0engmedium                10\n",
       "EmoDBmdis0deumedium                10\n",
       "BAUM1mang0turlong                  10\n",
       "LimaCastroScottmple2___medium      10\n",
       "MELDmang0engshort                  10\n",
       "saveemdis0englong                   9\n",
       "BAUM2msad0engmedium                 9\n",
       "LEGOv2uneu1englong                  9\n",
       "Emotional_EMAfhap2englong           9\n",
       "Emotional_EMAmhap2englong           9\n",
       "EmoReact_V_1.0mneu1englong          9\n",
       "LimaCastroScottmdis0___medium       9\n",
       "MELDmsur0engshort                   9\n",
       "LimaCastroScottmsad0___medium       9\n",
       "stratum_group_2                     8\n",
       "stratum_group_48                    8\n",
       "stratum_group_12                    8\n",
       "BAUM1fdis0turlong                   8\n",
       "stratum_group_50                    8\n",
       "stratum_group_92                    8\n",
       "stratum_group_3                     8\n",
       "stratum_group_35                    8\n",
       "stratum_group_88                    8\n",
       "stratum_group_4                     8\n",
       "stratum_group_24                    8\n",
       "stratum_group_5                     8\n",
       "stratum_group_6                     8\n",
       "BAUM1mbot0turlong                   8\n",
       "stratum_group_26                    8\n",
       "stratum_group_25                    8\n",
       "stratum_group_8                     8\n",
       "stratum_group_52                    8\n",
       "stratum_group_10                    8\n",
       "stratum_group_82                    8\n",
       "stratum_group_18                    8\n",
       "stratum_group_21                    8\n",
       "stratum_group_36                    8\n",
       "stratum_group_91                    8\n",
       "LimaCastroScottfach2___medium       8\n",
       "LimaCastroScottfamu2___medium       8\n",
       "LimaCastroScottmang0___medium       8\n",
       "stratum_group_17                    8\n",
       "stratum_group_20                    8\n",
       "stratum_group_53                    8\n",
       "stratum_group_23                    8\n",
       "stratum_group_19                    8\n",
       "stratum_group_22                    8\n",
       "stratum_group_34                    8\n",
       "stratum_group_33                    8\n",
       "stratum_group_32                    8\n",
       "stratum_group_31                    8\n",
       "stratum_group_87                    8\n",
       "stratum_group_7                     8\n",
       "stratum_group_29                    8\n",
       "BAUM2fdis0engmedium                 8\n",
       "EmoReact_V_1.0fcur2engmedium        8\n",
       "BAUM2mneu1engmedium                 8\n",
       "stratum_group_51                    8\n",
       "stratum_group_83                    8\n",
       "stratum_group_45                    8\n",
       "stratum_group_44                    8\n",
       "EmoDBfsad0deulong                   8\n",
       "stratum_group_13                    8\n",
       "stratum_group_14                    8\n",
       "stratum_group_30                    8\n",
       "stratum_group_11                    8\n",
       "stratum_group_1                     8\n",
       "stratum_group_16                    8\n",
       "stratum_group_86                    8\n",
       "stratum_group_15                    8\n",
       "stratum_group_28                    8\n",
       "stratum_group_27                    8\n",
       "stratum_group_42                    8\n",
       "stratum_group_89                    8\n",
       "stratum_group_9                     8\n",
       "stratum_group_41                    8\n",
       "stratum_group_0                     8\n",
       "stratum_group_39                    8\n",
       "stratum_group_55                    8\n",
       "stratum_group_93                    8\n",
       "saveemneu1englong                   8\n",
       "stratum_group_46                    8\n",
       "stratum_group_43                    8\n",
       "stratum_group_56                    8\n",
       "stratum_group_40                    8\n",
       "stratum_group_47                    8\n",
       "stratum_group_49                    8\n",
       "stratum_group_54                    8\n",
       "stratum_group_85                    8\n",
       "stratum_group_84                    8\n",
       "stratum_group_38                    8\n",
       "stratum_group_94                    8\n",
       "BAUM2fcon0engmedium                 8\n",
       "stratum_group_90                    8\n",
       "dtype: int64"
      ]
     },
     "execution_count": 9,
     "metadata": {},
     "output_type": "execute_result"
    },
    {
     "name": "stdout",
     "output_type": "stream",
     "text": [
      "time: 3.4 s\n"
     ]
    }
   ],
   "source": [
    "STRATA = process_strata(strata, n_splits=N_SPLITS)\n",
    "STRATA.value_counts()\n",
    "cross_validator = lambda: StratifiedGroupKFold(\n",
    "    n_splits=N_SPLITS, shuffle=True, random_state=SEED\n",
    ").split(X=data, y=STRATA, groups=labels.speaker_id)"
   ]
  },
  {
   "cell_type": "markdown",
   "metadata": {},
   "source": [
    "# Hyperparameters"
   ]
  },
  {
   "cell_type": "code",
   "execution_count": 10,
   "metadata": {},
   "outputs": [
    {
     "name": "stdout",
     "output_type": "stream",
     "text": [
      "Fitting 8 folds for each of 10 candidates, totalling 80 fits\n"
     ]
    },
    {
     "name": "stderr",
     "output_type": "stream",
     "text": [
      "[Parallel(n_jobs=1)]: Using backend SequentialBackend with 1 concurrent workers.\n"
     ]
    },
    {
     "name": "stdout",
     "output_type": "stream",
     "text": [
      "time: 49.9 s\n"
     ]
    },
    {
     "name": "stderr",
     "output_type": "stream",
     "text": [
      "[Parallel(n_jobs=1)]: Done   1 out of   1 | elapsed:    2.7s finished\n"
     ]
    }
   ],
   "source": [
    "model = RandomizedSearchCV(\n",
    "    estimator=LogisticRegression(\n",
    "        # tol=1e-5,\n",
    "        class_weight=\"balanced\",\n",
    "        random_state=SEED,\n",
    "        solver=\"lbfgs\",\n",
    "        max_iter=1000,\n",
    "        verbose=1,\n",
    "        n_jobs=-1,\n",
    "    ),\n",
    "    param_distributions={\n",
    "        \"C\": loguniform(1e-5, 1e5),\n",
    "    },\n",
    "    n_iter=10,\n",
    "    scoring=\"neg_log_loss\",\n",
    "    n_jobs=-1,\n",
    "    cv=list(cross_validator()),\n",
    "    verbose=1,\n",
    "    random_state=SEED,\n",
    "    error_score=\"raise\",\n",
    ").fit(data, labels.valence)"
   ]
  },
  {
   "cell_type": "code",
   "execution_count": 11,
   "metadata": {},
   "outputs": [
    {
     "name": "stdout",
     "output_type": "stream",
     "text": [
      "-0.7976297952612454\n",
      "{'C': 0.741106602081463}\n"
     ]
    },
    {
     "data": {
      "text/plain": [
       "<AxesSubplot:xlabel='param_C'>"
      ]
     },
     "execution_count": 11,
     "metadata": {},
     "output_type": "execute_result"
    },
    {
     "data": {
      "image/png": "[encoded data removed]",
      "text/plain": [
       "<Figure size 432x288 with 1 Axes>"
      ]
     },
     "metadata": {
      "needs_background": "light"
     },
     "output_type": "display_data"
    },
    {
     "name": "stdout",
     "output_type": "stream",
     "text": [
      "time: 857 ms\n"
     ]
    }
   ],
   "source": [
    "print(model.best_score_)\n",
    "print(model.best_params_)\n",
    "results_df = (\n",
    "    pd.DataFrame(model.cv_results_)\n",
    "    .sort_values(by=\"param_C\", ascending=True)\n",
    "    .loc[:, [\"param_C\", \"mean_test_score\"]]\n",
    ")\n",
    "results_df.plot(x=\"param_C\", y=\"mean_test_score\")\n",
    "plt.show()"
   ]
  },
  {
   "cell_type": "code",
   "execution_count": 12,
   "metadata": {},
   "outputs": [
    {
     "data": {
      "text/html": [
       "<div>\n",
       "<style scoped>\n",
       "    .dataframe tbody tr th:only-of-type {\n",
       "        vertical-align: middle;\n",
       "    }\n",
       "\n",
       "    .dataframe tbody tr th {\n",
       "        vertical-align: top;\n",
       "    }\n",
       "\n",
       "    .dataframe thead th {\n",
       "        text-align: right;\n",
       "    }\n",
       "</style>\n",
       "<table border=\"1\" class=\"dataframe\">\n",
       "  <thead>\n",
       "    <tr style=\"text-align: right;\">\n",
       "      <th></th>\n",
       "      <th>mean_fit_time</th>\n",
       "      <th>std_fit_time</th>\n",
       "      <th>mean_score_time</th>\n",
       "      <th>std_score_time</th>\n",
       "      <th>param_C</th>\n",
       "      <th>params</th>\n",
       "      <th>split0_test_score</th>\n",
       "      <th>split1_test_score</th>\n",
       "      <th>split2_test_score</th>\n",
       "      <th>split3_test_score</th>\n",
       "      <th>split4_test_score</th>\n",
       "      <th>split5_test_score</th>\n",
       "      <th>split6_test_score</th>\n",
       "      <th>split7_test_score</th>\n",
       "      <th>mean_test_score</th>\n",
       "      <th>std_test_score</th>\n",
       "      <th>rank_test_score</th>\n",
       "    </tr>\n",
       "  </thead>\n",
       "  <tbody>\n",
       "    <tr>\n",
       "      <th>5</th>\n",
       "      <td>1.364708</td>\n",
       "      <td>0.605206</td>\n",
       "      <td>0.009579</td>\n",
       "      <td>0.008241</td>\n",
       "      <td>0.741107</td>\n",
       "      <td>{'C': 0.741106602081463}</td>\n",
       "      <td>-0.971739</td>\n",
       "      <td>-0.719457</td>\n",
       "      <td>-0.700183</td>\n",
       "      <td>-0.865192</td>\n",
       "      <td>-0.772418</td>\n",
       "      <td>-0.766909</td>\n",
       "      <td>-0.819639</td>\n",
       "      <td>-0.765502</td>\n",
       "      <td>-0.797630</td>\n",
       "      <td>0.081840</td>\n",
       "      <td>1</td>\n",
       "    </tr>\n",
       "    <tr>\n",
       "      <th>1</th>\n",
       "      <td>0.669246</td>\n",
       "      <td>0.118011</td>\n",
       "      <td>0.012127</td>\n",
       "      <td>0.001268</td>\n",
       "      <td>0.978539</td>\n",
       "      <td>{'C': 0.9785389306670665}</td>\n",
       "      <td>-0.971746</td>\n",
       "      <td>-0.719455</td>\n",
       "      <td>-0.700180</td>\n",
       "      <td>-0.865194</td>\n",
       "      <td>-0.772417</td>\n",
       "      <td>-0.766908</td>\n",
       "      <td>-0.819639</td>\n",
       "      <td>-0.765502</td>\n",
       "      <td>-0.797630</td>\n",
       "      <td>0.081842</td>\n",
       "      <td>2</td>\n",
       "    </tr>\n",
       "    <tr>\n",
       "      <th>7</th>\n",
       "      <td>0.924281</td>\n",
       "      <td>0.491614</td>\n",
       "      <td>0.011884</td>\n",
       "      <td>0.006875</td>\n",
       "      <td>29.820897</td>\n",
       "      <td>{'C': 29.820897324403727}</td>\n",
       "      <td>-0.971765</td>\n",
       "      <td>-0.719449</td>\n",
       "      <td>-0.700173</td>\n",
       "      <td>-0.865200</td>\n",
       "      <td>-0.772414</td>\n",
       "      <td>-0.766903</td>\n",
       "      <td>-0.819639</td>\n",
       "      <td>-0.765501</td>\n",
       "      <td>-0.797631</td>\n",
       "      <td>0.081850</td>\n",
       "      <td>3</td>\n",
       "    </tr>\n",
       "    <tr>\n",
       "      <th>4</th>\n",
       "      <td>1.498628</td>\n",
       "      <td>0.730967</td>\n",
       "      <td>0.061078</td>\n",
       "      <td>0.078664</td>\n",
       "      <td>71.462128</td>\n",
       "      <td>{'C': 71.46212766206634}</td>\n",
       "      <td>-0.971766</td>\n",
       "      <td>-0.719449</td>\n",
       "      <td>-0.700173</td>\n",
       "      <td>-0.865200</td>\n",
       "      <td>-0.772414</td>\n",
       "      <td>-0.766903</td>\n",
       "      <td>-0.819639</td>\n",
       "      <td>-0.765501</td>\n",
       "      <td>-0.797631</td>\n",
       "      <td>0.081850</td>\n",
       "      <td>4</td>\n",
       "    </tr>\n",
       "    <tr>\n",
       "      <th>9</th>\n",
       "      <td>1.434301</td>\n",
       "      <td>0.881023</td>\n",
       "      <td>0.008485</td>\n",
       "      <td>0.006870</td>\n",
       "      <td>162.685667</td>\n",
       "      <td>{'C': 162.6856667815611}</td>\n",
       "      <td>-0.971766</td>\n",
       "      <td>-0.719449</td>\n",
       "      <td>-0.700173</td>\n",
       "      <td>-0.865200</td>\n",
       "      <td>-0.772414</td>\n",
       "      <td>-0.766903</td>\n",
       "      <td>-0.819639</td>\n",
       "      <td>-0.765501</td>\n",
       "      <td>-0.797631</td>\n",
       "      <td>0.081850</td>\n",
       "      <td>5</td>\n",
       "    </tr>\n",
       "    <tr>\n",
       "      <th>8</th>\n",
       "      <td>1.519735</td>\n",
       "      <td>0.945545</td>\n",
       "      <td>0.028496</td>\n",
       "      <td>0.038009</td>\n",
       "      <td>9324.621837</td>\n",
       "      <td>{'C': 9324.6218374883}</td>\n",
       "      <td>-0.971766</td>\n",
       "      <td>-0.719449</td>\n",
       "      <td>-0.700173</td>\n",
       "      <td>-0.865200</td>\n",
       "      <td>-0.772414</td>\n",
       "      <td>-0.766903</td>\n",
       "      <td>-0.819639</td>\n",
       "      <td>-0.765501</td>\n",
       "      <td>-0.797631</td>\n",
       "      <td>0.081850</td>\n",
       "      <td>6</td>\n",
       "    </tr>\n",
       "    <tr>\n",
       "      <th>6</th>\n",
       "      <td>1.772075</td>\n",
       "      <td>0.653409</td>\n",
       "      <td>0.022647</td>\n",
       "      <td>0.022031</td>\n",
       "      <td>9474.848281</td>\n",
       "      <td>{'C': 9474.84828131499}</td>\n",
       "      <td>-0.971766</td>\n",
       "      <td>-0.719449</td>\n",
       "      <td>-0.700173</td>\n",
       "      <td>-0.865200</td>\n",
       "      <td>-0.772414</td>\n",
       "      <td>-0.766903</td>\n",
       "      <td>-0.819639</td>\n",
       "      <td>-0.765501</td>\n",
       "      <td>-0.797631</td>\n",
       "      <td>0.081850</td>\n",
       "      <td>7</td>\n",
       "    </tr>\n",
       "    <tr>\n",
       "      <th>2</th>\n",
       "      <td>0.618551</td>\n",
       "      <td>0.120106</td>\n",
       "      <td>0.020560</td>\n",
       "      <td>0.016469</td>\n",
       "      <td>0.000136</td>\n",
       "      <td>{'C': 0.000136093348365246}</td>\n",
       "      <td>-0.949609</td>\n",
       "      <td>-0.770093</td>\n",
       "      <td>-0.759581</td>\n",
       "      <td>-0.882109</td>\n",
       "      <td>-0.813609</td>\n",
       "      <td>-0.814666</td>\n",
       "      <td>-0.847495</td>\n",
       "      <td>-0.806560</td>\n",
       "      <td>-0.830465</td>\n",
       "      <td>0.058016</td>\n",
       "      <td>8</td>\n",
       "    </tr>\n",
       "    <tr>\n",
       "      <th>3</th>\n",
       "      <td>1.115427</td>\n",
       "      <td>0.474745</td>\n",
       "      <td>0.024338</td>\n",
       "      <td>0.027310</td>\n",
       "      <td>0.000032</td>\n",
       "      <td>{'C': 3.160386382061093e-05}</td>\n",
       "      <td>-0.984989</td>\n",
       "      <td>-0.873723</td>\n",
       "      <td>-0.873758</td>\n",
       "      <td>-0.949696</td>\n",
       "      <td>-0.905335</td>\n",
       "      <td>-0.911853</td>\n",
       "      <td>-0.923110</td>\n",
       "      <td>-0.902759</td>\n",
       "      <td>-0.915653</td>\n",
       "      <td>0.035040</td>\n",
       "      <td>9</td>\n",
       "    </tr>\n",
       "    <tr>\n",
       "      <th>0</th>\n",
       "      <td>0.743016</td>\n",
       "      <td>0.160282</td>\n",
       "      <td>0.025625</td>\n",
       "      <td>0.014905</td>\n",
       "      <td>0.000012</td>\n",
       "      <td>{'C': 1.2404696357832288e-05}</td>\n",
       "      <td>-1.027302</td>\n",
       "      <td>-0.962075</td>\n",
       "      <td>-0.965222</td>\n",
       "      <td>-1.009267</td>\n",
       "      <td>-0.982574</td>\n",
       "      <td>-0.989043</td>\n",
       "      <td>-0.991231</td>\n",
       "      <td>-0.982103</td>\n",
       "      <td>-0.988602</td>\n",
       "      <td>0.020189</td>\n",
       "      <td>10</td>\n",
       "    </tr>\n",
       "  </tbody>\n",
       "</table>\n",
       "</div>"
      ],
      "text/plain": [
       "   mean_fit_time  std_fit_time  mean_score_time  std_score_time      param_C  \\\n",
       "5       1.364708      0.605206         0.009579        0.008241     0.741107   \n",
       "1       0.669246      0.118011         0.012127        0.001268     0.978539   \n",
       "7       0.924281      0.491614         0.011884        0.006875    29.820897   \n",
       "4       1.498628      0.730967         0.061078        0.078664    71.462128   \n",
       "9       1.434301      0.881023         0.008485        0.006870   162.685667   \n",
       "8       1.519735      0.945545         0.028496        0.038009  9324.621837   \n",
       "6       1.772075      0.653409         0.022647        0.022031  9474.848281   \n",
       "2       0.618551      0.120106         0.020560        0.016469     0.000136   \n",
       "3       1.115427      0.474745         0.024338        0.027310     0.000032   \n",
       "0       0.743016      0.160282         0.025625        0.014905     0.000012   \n",
       "\n",
       "                          params  split0_test_score  split1_test_score  \\\n",
       "5       {'C': 0.741106602081463}          -0.971739          -0.719457   \n",
       "1      {'C': 0.9785389306670665}          -0.971746          -0.719455   \n",
       "7      {'C': 29.820897324403727}          -0.971765          -0.719449   \n",
       "4       {'C': 71.46212766206634}          -0.971766          -0.719449   \n",
       "9       {'C': 162.6856667815611}          -0.971766          -0.719449   \n",
       "8         {'C': 9324.6218374883}          -0.971766          -0.719449   \n",
       "6        {'C': 9474.84828131499}          -0.971766          -0.719449   \n",
       "2    {'C': 0.000136093348365246}          -0.949609          -0.770093   \n",
       "3   {'C': 3.160386382061093e-05}          -0.984989          -0.873723   \n",
       "0  {'C': 1.2404696357832288e-05}          -1.027302          -0.962075   \n",
       "\n",
       "   split2_test_score  split3_test_score  split4_test_score  split5_test_score  \\\n",
       "5          -0.700183          -0.865192          -0.772418          -0.766909   \n",
       "1          -0.700180          -0.865194          -0.772417          -0.766908   \n",
       "7          -0.700173          -0.865200          -0.772414          -0.766903   \n",
       "4          -0.700173          -0.865200          -0.772414          -0.766903   \n",
       "9          -0.700173          -0.865200          -0.772414          -0.766903   \n",
       "8          -0.700173          -0.865200          -0.772414          -0.766903   \n",
       "6          -0.700173          -0.865200          -0.772414          -0.766903   \n",
       "2          -0.759581          -0.882109          -0.813609          -0.814666   \n",
       "3          -0.873758          -0.949696          -0.905335          -0.911853   \n",
       "0          -0.965222          -1.009267          -0.982574          -0.989043   \n",
       "\n",
       "   split6_test_score  split7_test_score  mean_test_score  std_test_score  \\\n",
       "5          -0.819639          -0.765502        -0.797630        0.081840   \n",
       "1          -0.819639          -0.765502        -0.797630        0.081842   \n",
       "7          -0.819639          -0.765501        -0.797631        0.081850   \n",
       "4          -0.819639          -0.765501        -0.797631        0.081850   \n",
       "9          -0.819639          -0.765501        -0.797631        0.081850   \n",
       "8          -0.819639          -0.765501        -0.797631        0.081850   \n",
       "6          -0.819639          -0.765501        -0.797631        0.081850   \n",
       "2          -0.847495          -0.806560        -0.830465        0.058016   \n",
       "3          -0.923110          -0.902759        -0.915653        0.035040   \n",
       "0          -0.991231          -0.982103        -0.988602        0.020189   \n",
       "\n",
       "   rank_test_score  \n",
       "5                1  \n",
       "1                2  \n",
       "7                3  \n",
       "4                4  \n",
       "9                5  \n",
       "8                6  \n",
       "6                7  \n",
       "2                8  \n",
       "3                9  \n",
       "0               10  "
      ]
     },
     "execution_count": 12,
     "metadata": {},
     "output_type": "execute_result"
    },
    {
     "name": "stdout",
     "output_type": "stream",
     "text": [
      "time: 57 ms\n"
     ]
    }
   ],
   "source": [
    "df = pd.DataFrame(model.cv_results_)\n",
    "df.sort_values(by=\"mean_test_score\", ascending=False)"
   ]
  },
  {
   "cell_type": "code",
   "execution_count": 13,
   "metadata": {},
   "outputs": [
    {
     "name": "stdout",
     "output_type": "stream",
     "text": [
      "time: 780 ms\n"
     ]
    }
   ],
   "source": [
    "def tune(C: Sequence, results_df: pd.DataFrame, n_iter: int = 10) -> pd.DataFrame:\n",
    "    \"\"\"Run tuning procedure\"\"\"\n",
    "    model = RandomizedSearchCV(\n",
    "        estimator=LogisticRegression(\n",
    "            class_weight=\"balanced\",\n",
    "            random_state=SEED + 1,\n",
    "            max_iter=1000,\n",
    "            verbose=1,\n",
    "            n_jobs=-1,\n",
    "        ),\n",
    "        param_distributions={\"C\": C},\n",
    "        n_iter=n_iter,\n",
    "        scoring=\"neg_log_loss\",\n",
    "        n_jobs=-1,\n",
    "        cv=list(cross_validator()),\n",
    "        verbose=1,\n",
    "        random_state=SEED + 2,\n",
    "        error_score=\"raise\",\n",
    "    ).fit(data, labels.valence)\n",
    "\n",
    "    print(\"best score:\", model.best_score_)\n",
    "    print(\"best params:\", model.best_params_)\n",
    "    df = (\n",
    "        pd.DataFrame(model.cv_results_)\n",
    "        .sort_values(by=\"param_C\", ascending=True)\n",
    "        .loc[:, [\"param_C\", \"mean_test_score\"]]\n",
    "    )\n",
    "    df.plot(x=\"param_C\", y=\"mean_test_score\")\n",
    "    plt.show()\n",
    "    return pd.concat(\n",
    "        [results_df.loc[:, [\"param_C\", \"mean_test_score\"]], df],\n",
    "        axis=\"rows\",\n",
    "    )\n",
    "\n",
    "\n",
    "_ = gc_collect()"
   ]
  },
  {
   "cell_type": "code",
   "execution_count": 14,
   "metadata": {},
   "outputs": [
    {
     "name": "stdout",
     "output_type": "stream",
     "text": [
      "Fitting 8 folds for each of 11 candidates, totalling 88 fits\n"
     ]
    },
    {
     "name": "stderr",
     "output_type": "stream",
     "text": [
      "[Parallel(n_jobs=1)]: Using backend SequentialBackend with 1 concurrent workers.\n",
      "[Parallel(n_jobs=1)]: Done   1 out of   1 | elapsed:    1.8s finished\n"
     ]
    },
    {
     "name": "stdout",
     "output_type": "stream",
     "text": [
      "best score: -0.7976281689493818\n",
      "best params: {'C': 0.2396348037505133}\n"
     ]
    },
    {
     "data": {
      "image/png": "[encoded data removed]",
      "text/plain": [
       "<Figure size 432x288 with 1 Axes>"
      ]
     },
     "metadata": {
      "needs_background": "light"
     },
     "output_type": "display_data"
    },
    {
     "name": "stdout",
     "output_type": "stream",
     "text": [
      "time: 24.5 s\n"
     ]
    }
   ],
   "source": [
    "df = tune(C=loguniform(1e-6, 1e6), results_df=df, n_iter=11)"
   ]
  },
  {
   "cell_type": "code",
   "execution_count": 15,
   "metadata": {},
   "outputs": [
    {
     "name": "stdout",
     "output_type": "stream",
     "text": [
      "Fitting 8 folds for each of 11 candidates, totalling 88 fits\n"
     ]
    },
    {
     "name": "stderr",
     "output_type": "stream",
     "text": [
      "[Parallel(n_jobs=1)]: Using backend SequentialBackend with 1 concurrent workers.\n",
      "[Parallel(n_jobs=1)]: Done   1 out of   1 | elapsed:    2.6s finished\n"
     ]
    },
    {
     "name": "stdout",
     "output_type": "stream",
     "text": [
      "best score: -0.7976290716649153\n",
      "best params: {'C': 0.385803884305235}\n"
     ]
    },
    {
     "data": {
      "image/png": "[encoded data removed]",
      "text/plain": [
       "<Figure size 432x288 with 1 Axes>"
      ]
     },
     "metadata": {
      "needs_background": "light"
     },
     "output_type": "display_data"
    },
    {
     "name": "stdout",
     "output_type": "stream",
     "text": [
      "time: 25.2 s\n"
     ]
    }
   ],
   "source": [
    "df = tune(C=loguniform(1e-4, 1e4), results_df=df, n_iter=11)"
   ]
  },
  {
   "cell_type": "code",
   "execution_count": 16,
   "metadata": {},
   "outputs": [
    {
     "name": "stdout",
     "output_type": "stream",
     "text": [
      "Fitting 8 folds for each of 11 candidates, totalling 88 fits\n"
     ]
    },
    {
     "name": "stderr",
     "output_type": "stream",
     "text": [
      "[Parallel(n_jobs=1)]: Using backend SequentialBackend with 1 concurrent workers.\n",
      "[Parallel(n_jobs=1)]: Done   1 out of   1 | elapsed:    2.4s finished\n"
     ]
    },
    {
     "name": "stdout",
     "output_type": "stream",
     "text": [
      "best score: -0.7976258608098956\n",
      "best params: {'C': 0.1192415990850905}\n"
     ]
    },
    {
     "data": {
      "image/png": "[encoded data removed]",
      "text/plain": [
       "<Figure size 432x288 with 1 Axes>"
      ]
     },
     "metadata": {
      "needs_background": "light"
     },
     "output_type": "display_data"
    },
    {
     "name": "stdout",
     "output_type": "stream",
     "text": [
      "time: 24.5 s\n"
     ]
    }
   ],
   "source": [
    "df = tune(C=loguniform(0.1, 1000), results_df=df, n_iter=11)"
   ]
  },
  {
   "cell_type": "code",
   "execution_count": 17,
   "metadata": {},
   "outputs": [
    {
     "name": "stdout",
     "output_type": "stream",
     "text": [
      "Fitting 8 folds for each of 11 candidates, totalling 88 fits\n"
     ]
    },
    {
     "name": "stderr",
     "output_type": "stream",
     "text": [
      "[Parallel(n_jobs=1)]: Using backend SequentialBackend with 1 concurrent workers.\n",
      "[Parallel(n_jobs=1)]: Done   1 out of   1 | elapsed:    0.8s finished\n"
     ]
    },
    {
     "name": "stdout",
     "output_type": "stream",
     "text": [
      "best score: -0.7976117595786919\n",
      "best params: {'C': 0.022493553784527172}\n"
     ]
    },
    {
     "data": {
      "image/png": "[encoded data removed]",
      "text/plain": [
       "<Figure size 432x288 with 1 Axes>"
      ]
     },
     "metadata": {
      "needs_background": "light"
     },
     "output_type": "display_data"
    },
    {
     "name": "stdout",
     "output_type": "stream",
     "text": [
      "time: 24.8 s\n"
     ]
    }
   ],
   "source": [
    "df = tune(C=loguniform(1e-4, 1), results_df=df, n_iter=11)"
   ]
  },
  {
   "cell_type": "code",
   "execution_count": 18,
   "metadata": {},
   "outputs": [
    {
     "name": "stdout",
     "output_type": "stream",
     "text": [
      "Fitting 8 folds for each of 11 candidates, totalling 88 fits\n"
     ]
    },
    {
     "name": "stderr",
     "output_type": "stream",
     "text": [
      "[Parallel(n_jobs=1)]: Using backend SequentialBackend with 1 concurrent workers.\n",
      "[Parallel(n_jobs=1)]: Done   1 out of   1 | elapsed:    2.3s finished\n"
     ]
    },
    {
     "name": "stdout",
     "output_type": "stream",
     "text": [
      "best score: -0.7976459111693852\n",
      "best params: {'C': 0.0053362988524431445}\n"
     ]
    },
    {
     "data": {
      "image/png": "[encoded data removed]",
      "text/plain": [
       "<Figure size 432x288 with 1 Axes>"
      ]
     },
     "metadata": {
      "needs_background": "light"
     },
     "output_type": "display_data"
    },
    {
     "name": "stdout",
     "output_type": "stream",
     "text": [
      "time: 25 s\n"
     ]
    }
   ],
   "source": [
    "df = tune(C=loguniform(1e-3, 1e-2), results_df=df, n_iter=11)"
   ]
  },
  {
   "cell_type": "code",
   "execution_count": 19,
   "metadata": {},
   "outputs": [
    {
     "name": "stdout",
     "output_type": "stream",
     "text": [
      "Fitting 8 folds for each of 10 candidates, totalling 80 fits\n"
     ]
    },
    {
     "name": "stderr",
     "output_type": "stream",
     "text": [
      "[Parallel(n_jobs=1)]: Using backend SequentialBackend with 1 concurrent workers.\n",
      "[Parallel(n_jobs=1)]: Done   1 out of   1 | elapsed:    2.6s finished\n"
     ]
    },
    {
     "name": "stdout",
     "output_type": "stream",
     "text": [
      "best score: -0.797608920605675\n",
      "best params: {'C': 0.017091237161580453}\n"
     ]
    },
    {
     "data": {
      "image/png": "[encoded data removed]",
      "text/plain": [
       "<Figure size 432x288 with 1 Axes>"
      ]
     },
     "metadata": {
      "needs_background": "light"
     },
     "output_type": "display_data"
    },
    {
     "name": "stdout",
     "output_type": "stream",
     "text": [
      "time: 22.3 s\n"
     ]
    }
   ],
   "source": [
    "df = tune(C=loguniform(0.0011, 0.5), results_df=df, n_iter=10)"
   ]
  },
  {
   "cell_type": "code",
   "execution_count": 20,
   "metadata": {},
   "outputs": [
    {
     "name": "stdout",
     "output_type": "stream",
     "text": [
      "Fitting 8 folds for each of 17 candidates, totalling 136 fits\n"
     ]
    },
    {
     "name": "stderr",
     "output_type": "stream",
     "text": [
      "[Parallel(n_jobs=1)]: Using backend SequentialBackend with 1 concurrent workers.\n",
      "[Parallel(n_jobs=1)]: Done   1 out of   1 | elapsed:    2.8s finished\n"
     ]
    },
    {
     "name": "stdout",
     "output_type": "stream",
     "text": [
      "best score: -0.7976079310496843\n",
      "best params: {'C': 0.014997851107584437}\n"
     ]
    },
    {
     "data": {
      "image/png": "[encoded data removed]",
      "text/plain": [
       "<Figure size 432x288 with 1 Axes>"
      ]
     },
     "metadata": {
      "needs_background": "light"
     },
     "output_type": "display_data"
    },
    {
     "name": "stdout",
     "output_type": "stream",
     "text": [
      "time: 38.1 s\n"
     ]
    }
   ],
   "source": [
    "df = tune(C=loguniform(0.001, 0.1), results_df=df, n_iter=17)"
   ]
  },
  {
   "cell_type": "code",
   "execution_count": 21,
   "metadata": {},
   "outputs": [
    {
     "name": "stdout",
     "output_type": "stream",
     "text": [
      "Fitting 8 folds for each of 10 candidates, totalling 80 fits\n"
     ]
    },
    {
     "name": "stderr",
     "output_type": "stream",
     "text": [
      "[Parallel(n_jobs=1)]: Using backend SequentialBackend with 1 concurrent workers.\n",
      "[Parallel(n_jobs=1)]: Done   1 out of   1 | elapsed:    2.5s finished\n"
     ]
    },
    {
     "name": "stdout",
     "output_type": "stream",
     "text": [
      "best score: -0.7976162841142376\n",
      "best params: {'C': 0.03355079110237313}\n"
     ]
    },
    {
     "data": {
      "image/png": "[encoded data removed]",
      "text/plain": [
       "<Figure size 432x288 with 1 Axes>"
      ]
     },
     "metadata": {
      "needs_background": "light"
     },
     "output_type": "display_data"
    },
    {
     "name": "stdout",
     "output_type": "stream",
     "text": [
      "time: 22.2 s\n"
     ]
    }
   ],
   "source": [
    "df = tune(C=loguniform(0.01, 1e10), results_df=df, n_iter=10)"
   ]
  },
  {
   "cell_type": "code",
   "execution_count": 22,
   "metadata": {},
   "outputs": [
    {
     "name": "stdout",
     "output_type": "stream",
     "text": [
      "time: 1.14 s\n"
     ]
    }
   ],
   "source": [
    "_ = gc_collect()"
   ]
  },
  {
   "cell_type": "code",
   "execution_count": 23,
   "metadata": {},
   "outputs": [
    {
     "name": "stdout",
     "output_type": "stream",
     "text": [
      "time: 11 ms\n"
     ]
    }
   ],
   "source": [
    "results_df = df\n",
    "results_df.columns = results_df.columns.astype(str)\n",
    "results_df.reset_index(drop=True).to_csv(f\"{DATA_OUT_FOLDER}/logreg_results.csv\")"
   ]
  },
  {
   "cell_type": "code",
   "execution_count": 24,
   "metadata": {},
   "outputs": [
    {
     "data": {
      "text/plain": [
       "<AxesSubplot:xlabel='param_C'>"
      ]
     },
     "execution_count": 24,
     "metadata": {},
     "output_type": "execute_result"
    },
    {
     "data": {
      "text/html": [
       "<div>\n",
       "<style scoped>\n",
       "    .dataframe tbody tr th:only-of-type {\n",
       "        vertical-align: middle;\n",
       "    }\n",
       "\n",
       "    .dataframe tbody tr th {\n",
       "        vertical-align: top;\n",
       "    }\n",
       "\n",
       "    .dataframe thead th {\n",
       "        text-align: right;\n",
       "    }\n",
       "</style>\n",
       "<table border=\"1\" class=\"dataframe\">\n",
       "  <thead>\n",
       "    <tr style=\"text-align: right;\">\n",
       "      <th></th>\n",
       "      <th>param_C</th>\n",
       "      <th>mean_test_score</th>\n",
       "    </tr>\n",
       "  </thead>\n",
       "  <tbody>\n",
       "    <tr>\n",
       "      <th>0</th>\n",
       "      <td>0.014998</td>\n",
       "      <td>-0.797608</td>\n",
       "    </tr>\n",
       "    <tr>\n",
       "      <th>12</th>\n",
       "      <td>0.016029</td>\n",
       "      <td>-0.797608</td>\n",
       "    </tr>\n",
       "    <tr>\n",
       "      <th>15</th>\n",
       "      <td>0.01634</td>\n",
       "      <td>-0.797609</td>\n",
       "    </tr>\n",
       "    <tr>\n",
       "      <th>9</th>\n",
       "      <td>0.017091</td>\n",
       "      <td>-0.797609</td>\n",
       "    </tr>\n",
       "    <tr>\n",
       "      <th>8</th>\n",
       "      <td>0.019984</td>\n",
       "      <td>-0.797610</td>\n",
       "    </tr>\n",
       "    <tr>\n",
       "      <th>14</th>\n",
       "      <td>0.021318</td>\n",
       "      <td>-0.797611</td>\n",
       "    </tr>\n",
       "    <tr>\n",
       "      <th>8</th>\n",
       "      <td>0.008865</td>\n",
       "      <td>-0.797611</td>\n",
       "    </tr>\n",
       "    <tr>\n",
       "      <th>0</th>\n",
       "      <td>0.022494</td>\n",
       "      <td>-0.797612</td>\n",
       "    </tr>\n",
       "    <tr>\n",
       "      <th>7</th>\n",
       "      <td>0.022846</td>\n",
       "      <td>-0.797612</td>\n",
       "    </tr>\n",
       "    <tr>\n",
       "      <th>1</th>\n",
       "      <td>0.025016</td>\n",
       "      <td>-0.797613</td>\n",
       "    </tr>\n",
       "    <tr>\n",
       "      <th>6</th>\n",
       "      <td>0.028476</td>\n",
       "      <td>-0.797614</td>\n",
       "    </tr>\n",
       "    <tr>\n",
       "      <th>16</th>\n",
       "      <td>0.007912</td>\n",
       "      <td>-0.797615</td>\n",
       "    </tr>\n",
       "    <tr>\n",
       "      <th>9</th>\n",
       "      <td>0.007881</td>\n",
       "      <td>-0.797615</td>\n",
       "    </tr>\n",
       "    <tr>\n",
       "      <th>8</th>\n",
       "      <td>0.007859</td>\n",
       "      <td>-0.797615</td>\n",
       "    </tr>\n",
       "    <tr>\n",
       "      <th>11</th>\n",
       "      <td>0.032003</td>\n",
       "      <td>-0.797616</td>\n",
       "    </tr>\n",
       "    <tr>\n",
       "      <th>3</th>\n",
       "      <td>0.033551</td>\n",
       "      <td>-0.797616</td>\n",
       "    </tr>\n",
       "    <tr>\n",
       "      <th>0</th>\n",
       "      <td>0.040187</td>\n",
       "      <td>-0.797618</td>\n",
       "    </tr>\n",
       "    <tr>\n",
       "      <th>7</th>\n",
       "      <td>0.052192</td>\n",
       "      <td>-0.797621</td>\n",
       "    </tr>\n",
       "    <tr>\n",
       "      <th>1</th>\n",
       "      <td>0.06258</td>\n",
       "      <td>-0.797622</td>\n",
       "    </tr>\n",
       "    <tr>\n",
       "      <th>7</th>\n",
       "      <td>0.070299</td>\n",
       "      <td>-0.797623</td>\n",
       "    </tr>\n",
       "    <tr>\n",
       "      <th>1</th>\n",
       "      <td>0.07931</td>\n",
       "      <td>-0.797624</td>\n",
       "    </tr>\n",
       "    <tr>\n",
       "      <th>6</th>\n",
       "      <td>0.081089</td>\n",
       "      <td>-0.797624</td>\n",
       "    </tr>\n",
       "    <tr>\n",
       "      <th>13</th>\n",
       "      <td>0.08386</td>\n",
       "      <td>-0.797624</td>\n",
       "    </tr>\n",
       "    <tr>\n",
       "      <th>6</th>\n",
       "      <td>0.094208</td>\n",
       "      <td>-0.797625</td>\n",
       "    </tr>\n",
       "    <tr>\n",
       "      <th>10</th>\n",
       "      <td>0.119242</td>\n",
       "      <td>-0.797626</td>\n",
       "    </tr>\n",
       "    <tr>\n",
       "      <th>3</th>\n",
       "      <td>0.149704</td>\n",
       "      <td>-0.797627</td>\n",
       "    </tr>\n",
       "    <tr>\n",
       "      <th>5</th>\n",
       "      <td>0.187393</td>\n",
       "      <td>-0.797628</td>\n",
       "    </tr>\n",
       "    <tr>\n",
       "      <th>9</th>\n",
       "      <td>0.239635</td>\n",
       "      <td>-0.797628</td>\n",
       "    </tr>\n",
       "    <tr>\n",
       "      <th>5</th>\n",
       "      <td>0.265614</td>\n",
       "      <td>-0.797628</td>\n",
       "    </tr>\n",
       "    <tr>\n",
       "      <th>9</th>\n",
       "      <td>0.385804</td>\n",
       "      <td>-0.797629</td>\n",
       "    </tr>\n",
       "    <tr>\n",
       "      <th>8</th>\n",
       "      <td>0.485454</td>\n",
       "      <td>-0.797629</td>\n",
       "    </tr>\n",
       "    <tr>\n",
       "      <th>2</th>\n",
       "      <td>0.565728</td>\n",
       "      <td>-0.797630</td>\n",
       "    </tr>\n",
       "    <tr>\n",
       "      <th>8</th>\n",
       "      <td>0.617683</td>\n",
       "      <td>-0.797630</td>\n",
       "    </tr>\n",
       "    <tr>\n",
       "      <th>4</th>\n",
       "      <td>0.660809</td>\n",
       "      <td>-0.797630</td>\n",
       "    </tr>\n",
       "    <tr>\n",
       "      <th>5</th>\n",
       "      <td>0.741107</td>\n",
       "      <td>-0.797630</td>\n",
       "    </tr>\n",
       "    <tr>\n",
       "      <th>9</th>\n",
       "      <td>0.006211</td>\n",
       "      <td>-0.797630</td>\n",
       "    </tr>\n",
       "    <tr>\n",
       "      <th>1</th>\n",
       "      <td>0.978539</td>\n",
       "      <td>-0.797630</td>\n",
       "    </tr>\n",
       "    <tr>\n",
       "      <th>2</th>\n",
       "      <td>1.810604</td>\n",
       "      <td>-0.797630</td>\n",
       "    </tr>\n",
       "    <tr>\n",
       "      <th>4</th>\n",
       "      <td>2.885542</td>\n",
       "      <td>-0.797630</td>\n",
       "    </tr>\n",
       "    <tr>\n",
       "      <th>0</th>\n",
       "      <td>5.0596</td>\n",
       "      <td>-0.797630</td>\n",
       "    </tr>\n",
       "    <tr>\n",
       "      <th>9</th>\n",
       "      <td>6.211311</td>\n",
       "      <td>-0.797630</td>\n",
       "    </tr>\n",
       "    <tr>\n",
       "      <th>8</th>\n",
       "      <td>7.859281</td>\n",
       "      <td>-0.797631</td>\n",
       "    </tr>\n",
       "    <tr>\n",
       "      <th>0</th>\n",
       "      <td>11.380838</td>\n",
       "      <td>-0.797631</td>\n",
       "    </tr>\n",
       "    <tr>\n",
       "      <th>0</th>\n",
       "      <td>22.493554</td>\n",
       "      <td>-0.797631</td>\n",
       "    </tr>\n",
       "    <tr>\n",
       "      <th>7</th>\n",
       "      <td>27.239817</td>\n",
       "      <td>-0.797631</td>\n",
       "    </tr>\n",
       "    <tr>\n",
       "      <th>7</th>\n",
       "      <td>29.820897</td>\n",
       "      <td>-0.797631</td>\n",
       "    </tr>\n",
       "    <tr>\n",
       "      <th>1</th>\n",
       "      <td>39.162462</td>\n",
       "      <td>-0.797631</td>\n",
       "    </tr>\n",
       "    <tr>\n",
       "      <th>7</th>\n",
       "      <td>52.191778</td>\n",
       "      <td>-0.797631</td>\n",
       "    </tr>\n",
       "    <tr>\n",
       "      <th>1</th>\n",
       "      <td>62.579918</td>\n",
       "      <td>-0.797631</td>\n",
       "    </tr>\n",
       "    <tr>\n",
       "      <th>6</th>\n",
       "      <td>65.753844</td>\n",
       "      <td>-0.797631</td>\n",
       "    </tr>\n",
       "    <tr>\n",
       "      <th>4</th>\n",
       "      <td>71.462128</td>\n",
       "      <td>-0.797631</td>\n",
       "    </tr>\n",
       "    <tr>\n",
       "      <th>6</th>\n",
       "      <td>81.088744</td>\n",
       "      <td>-0.797631</td>\n",
       "    </tr>\n",
       "    <tr>\n",
       "      <th>7</th>\n",
       "      <td>142.16945</td>\n",
       "      <td>-0.797631</td>\n",
       "    </tr>\n",
       "    <tr>\n",
       "      <th>9</th>\n",
       "      <td>162.685667</td>\n",
       "      <td>-0.797631</td>\n",
       "    </tr>\n",
       "    <tr>\n",
       "      <th>1</th>\n",
       "      <td>245.078364</td>\n",
       "      <td>-0.797631</td>\n",
       "    </tr>\n",
       "    <tr>\n",
       "      <th>6</th>\n",
       "      <td>533.189667</td>\n",
       "      <td>-0.797631</td>\n",
       "    </tr>\n",
       "    <tr>\n",
       "      <th>9</th>\n",
       "      <td>2396.348038</td>\n",
       "      <td>-0.797631</td>\n",
       "    </tr>\n",
       "    <tr>\n",
       "      <th>8</th>\n",
       "      <td>4854.543991</td>\n",
       "      <td>-0.797631</td>\n",
       "    </tr>\n",
       "    <tr>\n",
       "      <th>8</th>\n",
       "      <td>9324.621837</td>\n",
       "      <td>-0.797631</td>\n",
       "    </tr>\n",
       "    <tr>\n",
       "      <th>6</th>\n",
       "      <td>9474.848281</td>\n",
       "      <td>-0.797631</td>\n",
       "    </tr>\n",
       "    <tr>\n",
       "      <th>0</th>\n",
       "      <td>113808.376149</td>\n",
       "      <td>-0.797631</td>\n",
       "    </tr>\n",
       "    <tr>\n",
       "      <th>7</th>\n",
       "      <td>1421694.49673</td>\n",
       "      <td>-0.797631</td>\n",
       "    </tr>\n",
       "    <tr>\n",
       "      <th>1</th>\n",
       "      <td>2450783.637775</td>\n",
       "      <td>-0.797631</td>\n",
       "    </tr>\n",
       "    <tr>\n",
       "      <th>6</th>\n",
       "      <td>5331896.668053</td>\n",
       "      <td>-0.797631</td>\n",
       "    </tr>\n",
       "    <tr>\n",
       "      <th>6</th>\n",
       "      <td>0.005336</td>\n",
       "      <td>-0.797646</td>\n",
       "    </tr>\n",
       "    <tr>\n",
       "      <th>1</th>\n",
       "      <td>0.005002</td>\n",
       "      <td>-0.797655</td>\n",
       "    </tr>\n",
       "    <tr>\n",
       "      <th>7</th>\n",
       "      <td>0.00478</td>\n",
       "      <td>-0.797663</td>\n",
       "    </tr>\n",
       "    <tr>\n",
       "      <th>4</th>\n",
       "      <td>0.004367</td>\n",
       "      <td>-0.797680</td>\n",
       "    </tr>\n",
       "    <tr>\n",
       "      <th>0</th>\n",
       "      <td>0.003873</td>\n",
       "      <td>-0.797709</td>\n",
       "    </tr>\n",
       "    <tr>\n",
       "      <th>4</th>\n",
       "      <td>0.003857</td>\n",
       "      <td>-0.797710</td>\n",
       "    </tr>\n",
       "    <tr>\n",
       "      <th>2</th>\n",
       "      <td>0.003479</td>\n",
       "      <td>-0.797742</td>\n",
       "    </tr>\n",
       "    <tr>\n",
       "      <th>2</th>\n",
       "      <td>0.0032</td>\n",
       "      <td>-0.797774</td>\n",
       "    </tr>\n",
       "    <tr>\n",
       "      <th>8</th>\n",
       "      <td>0.002977</td>\n",
       "      <td>-0.797807</td>\n",
       "    </tr>\n",
       "    <tr>\n",
       "      <th>9</th>\n",
       "      <td>0.002807</td>\n",
       "      <td>-0.797838</td>\n",
       "    </tr>\n",
       "    <tr>\n",
       "      <th>4</th>\n",
       "      <td>0.002571</td>\n",
       "      <td>-0.797891</td>\n",
       "    </tr>\n",
       "    <tr>\n",
       "      <th>2</th>\n",
       "      <td>0.002379</td>\n",
       "      <td>-0.797946</td>\n",
       "    </tr>\n",
       "    <tr>\n",
       "      <th>5</th>\n",
       "      <td>0.002105</td>\n",
       "      <td>-0.798051</td>\n",
       "    </tr>\n",
       "    <tr>\n",
       "      <th>5</th>\n",
       "      <td>0.00163</td>\n",
       "      <td>-0.798366</td>\n",
       "    </tr>\n",
       "    <tr>\n",
       "      <th>4</th>\n",
       "      <td>0.001603</td>\n",
       "      <td>-0.798391</td>\n",
       "    </tr>\n",
       "    <tr>\n",
       "      <th>2</th>\n",
       "      <td>0.001542</td>\n",
       "      <td>-0.798455</td>\n",
       "    </tr>\n",
       "    <tr>\n",
       "      <th>3</th>\n",
       "      <td>0.001438</td>\n",
       "      <td>-0.798580</td>\n",
       "    </tr>\n",
       "    <tr>\n",
       "      <th>5</th>\n",
       "      <td>0.001277</td>\n",
       "      <td>-0.798832</td>\n",
       "    </tr>\n",
       "    <tr>\n",
       "      <th>3</th>\n",
       "      <td>0.001224</td>\n",
       "      <td>-0.798934</td>\n",
       "    </tr>\n",
       "    <tr>\n",
       "      <th>3</th>\n",
       "      <td>0.001106</td>\n",
       "      <td>-0.799208</td>\n",
       "    </tr>\n",
       "    <tr>\n",
       "      <th>10</th>\n",
       "      <td>0.001092</td>\n",
       "      <td>-0.799246</td>\n",
       "    </tr>\n",
       "    <tr>\n",
       "      <th>10</th>\n",
       "      <td>0.001045</td>\n",
       "      <td>-0.799383</td>\n",
       "    </tr>\n",
       "    <tr>\n",
       "      <th>5</th>\n",
       "      <td>0.000706</td>\n",
       "      <td>-0.801109</td>\n",
       "    </tr>\n",
       "    <tr>\n",
       "      <th>4</th>\n",
       "      <td>0.000661</td>\n",
       "      <td>-0.801505</td>\n",
       "    </tr>\n",
       "    <tr>\n",
       "      <th>2</th>\n",
       "      <td>0.000566</td>\n",
       "      <td>-0.802602</td>\n",
       "    </tr>\n",
       "    <tr>\n",
       "      <th>4</th>\n",
       "      <td>0.000289</td>\n",
       "      <td>-0.810827</td>\n",
       "    </tr>\n",
       "    <tr>\n",
       "      <th>5</th>\n",
       "      <td>0.000266</td>\n",
       "      <td>-0.812352</td>\n",
       "    </tr>\n",
       "    <tr>\n",
       "      <th>3</th>\n",
       "      <td>0.000224</td>\n",
       "      <td>-0.815923</td>\n",
       "    </tr>\n",
       "    <tr>\n",
       "      <th>2</th>\n",
       "      <td>0.000181</td>\n",
       "      <td>-0.821346</td>\n",
       "    </tr>\n",
       "    <tr>\n",
       "      <th>3</th>\n",
       "      <td>0.00015</td>\n",
       "      <td>-0.827167</td>\n",
       "    </tr>\n",
       "    <tr>\n",
       "      <th>10</th>\n",
       "      <td>0.000142</td>\n",
       "      <td>-0.828917</td>\n",
       "    </tr>\n",
       "    <tr>\n",
       "      <th>2</th>\n",
       "      <td>0.000136</td>\n",
       "      <td>-0.830465</td>\n",
       "    </tr>\n",
       "    <tr>\n",
       "      <th>10</th>\n",
       "      <td>0.000119</td>\n",
       "      <td>-0.835485</td>\n",
       "    </tr>\n",
       "    <tr>\n",
       "      <th>3</th>\n",
       "      <td>0.000032</td>\n",
       "      <td>-0.915653</td>\n",
       "    </tr>\n",
       "    <tr>\n",
       "      <th>5</th>\n",
       "      <td>0.000019</td>\n",
       "      <td>-0.957023</td>\n",
       "    </tr>\n",
       "    <tr>\n",
       "      <th>0</th>\n",
       "      <td>0.000012</td>\n",
       "      <td>-0.988602</td>\n",
       "    </tr>\n",
       "  </tbody>\n",
       "</table>\n",
       "</div>"
      ],
      "text/plain": [
       "           param_C  mean_test_score\n",
       "0         0.014998        -0.797608\n",
       "12        0.016029        -0.797608\n",
       "15         0.01634        -0.797609\n",
       "9         0.017091        -0.797609\n",
       "8         0.019984        -0.797610\n",
       "14        0.021318        -0.797611\n",
       "8         0.008865        -0.797611\n",
       "0         0.022494        -0.797612\n",
       "7         0.022846        -0.797612\n",
       "1         0.025016        -0.797613\n",
       "6         0.028476        -0.797614\n",
       "16        0.007912        -0.797615\n",
       "9         0.007881        -0.797615\n",
       "8         0.007859        -0.797615\n",
       "11        0.032003        -0.797616\n",
       "3         0.033551        -0.797616\n",
       "0         0.040187        -0.797618\n",
       "7         0.052192        -0.797621\n",
       "1          0.06258        -0.797622\n",
       "7         0.070299        -0.797623\n",
       "1          0.07931        -0.797624\n",
       "6         0.081089        -0.797624\n",
       "13         0.08386        -0.797624\n",
       "6         0.094208        -0.797625\n",
       "10        0.119242        -0.797626\n",
       "3         0.149704        -0.797627\n",
       "5         0.187393        -0.797628\n",
       "9         0.239635        -0.797628\n",
       "5         0.265614        -0.797628\n",
       "9         0.385804        -0.797629\n",
       "8         0.485454        -0.797629\n",
       "2         0.565728        -0.797630\n",
       "8         0.617683        -0.797630\n",
       "4         0.660809        -0.797630\n",
       "5         0.741107        -0.797630\n",
       "9         0.006211        -0.797630\n",
       "1         0.978539        -0.797630\n",
       "2         1.810604        -0.797630\n",
       "4         2.885542        -0.797630\n",
       "0           5.0596        -0.797630\n",
       "9         6.211311        -0.797630\n",
       "8         7.859281        -0.797631\n",
       "0        11.380838        -0.797631\n",
       "0        22.493554        -0.797631\n",
       "7        27.239817        -0.797631\n",
       "7        29.820897        -0.797631\n",
       "1        39.162462        -0.797631\n",
       "7        52.191778        -0.797631\n",
       "1        62.579918        -0.797631\n",
       "6        65.753844        -0.797631\n",
       "4        71.462128        -0.797631\n",
       "6        81.088744        -0.797631\n",
       "7        142.16945        -0.797631\n",
       "9       162.685667        -0.797631\n",
       "1       245.078364        -0.797631\n",
       "6       533.189667        -0.797631\n",
       "9      2396.348038        -0.797631\n",
       "8      4854.543991        -0.797631\n",
       "8      9324.621837        -0.797631\n",
       "6      9474.848281        -0.797631\n",
       "0    113808.376149        -0.797631\n",
       "7    1421694.49673        -0.797631\n",
       "1   2450783.637775        -0.797631\n",
       "6   5331896.668053        -0.797631\n",
       "6         0.005336        -0.797646\n",
       "1         0.005002        -0.797655\n",
       "7          0.00478        -0.797663\n",
       "4         0.004367        -0.797680\n",
       "0         0.003873        -0.797709\n",
       "4         0.003857        -0.797710\n",
       "2         0.003479        -0.797742\n",
       "2           0.0032        -0.797774\n",
       "8         0.002977        -0.797807\n",
       "9         0.002807        -0.797838\n",
       "4         0.002571        -0.797891\n",
       "2         0.002379        -0.797946\n",
       "5         0.002105        -0.798051\n",
       "5          0.00163        -0.798366\n",
       "4         0.001603        -0.798391\n",
       "2         0.001542        -0.798455\n",
       "3         0.001438        -0.798580\n",
       "5         0.001277        -0.798832\n",
       "3         0.001224        -0.798934\n",
       "3         0.001106        -0.799208\n",
       "10        0.001092        -0.799246\n",
       "10        0.001045        -0.799383\n",
       "5         0.000706        -0.801109\n",
       "4         0.000661        -0.801505\n",
       "2         0.000566        -0.802602\n",
       "4         0.000289        -0.810827\n",
       "5         0.000266        -0.812352\n",
       "3         0.000224        -0.815923\n",
       "2         0.000181        -0.821346\n",
       "3          0.00015        -0.827167\n",
       "10        0.000142        -0.828917\n",
       "2         0.000136        -0.830465\n",
       "10        0.000119        -0.835485\n",
       "3         0.000032        -0.915653\n",
       "5         0.000019        -0.957023\n",
       "0         0.000012        -0.988602"
      ]
     },
     "execution_count": 24,
     "metadata": {},
     "output_type": "execute_result"
    },
    {
     "data": {
      "image/png": "[encoded data removed]",
      "text/plain": [
       "<Figure size 432x288 with 1 Axes>"
      ]
     },
     "metadata": {
      "needs_background": "light"
     },
     "output_type": "display_data"
    },
    {
     "name": "stdout",
     "output_type": "stream",
     "text": [
      "time: 518 ms\n"
     ]
    }
   ],
   "source": [
    "results_df = results_df.sort_values(by=\"param_C\", ascending=True)\n",
    "results_df.plot(x=\"param_C\", y=\"mean_test_score\")\n",
    "df.sort_values(by=\"mean_test_score\", ascending=False).head(100)"
   ]
  },
  {
   "cell_type": "code",
   "execution_count": 25,
   "metadata": {},
   "outputs": [
    {
     "data": {
      "text/html": [
       "<div>\n",
       "<style scoped>\n",
       "    .dataframe tbody tr th:only-of-type {\n",
       "        vertical-align: middle;\n",
       "    }\n",
       "\n",
       "    .dataframe tbody tr th {\n",
       "        vertical-align: top;\n",
       "    }\n",
       "\n",
       "    .dataframe thead th {\n",
       "        text-align: right;\n",
       "    }\n",
       "</style>\n",
       "<table border=\"1\" class=\"dataframe\">\n",
       "  <thead>\n",
       "    <tr style=\"text-align: right;\">\n",
       "      <th></th>\n",
       "      <th>param_C</th>\n",
       "      <th>mean_test_score</th>\n",
       "    </tr>\n",
       "  </thead>\n",
       "  <tbody>\n",
       "    <tr>\n",
       "      <th>0</th>\n",
       "      <td>0.014998</td>\n",
       "      <td>-0.797608</td>\n",
       "    </tr>\n",
       "  </tbody>\n",
       "</table>\n",
       "</div>"
      ],
      "text/plain": [
       "    param_C  mean_test_score\n",
       "0  0.014998        -0.797608"
      ]
     },
     "execution_count": 25,
     "metadata": {},
     "output_type": "execute_result"
    },
    {
     "data": {
      "text/plain": [
       "0.014997851107584437"
      ]
     },
     "execution_count": 25,
     "metadata": {},
     "output_type": "execute_result"
    },
    {
     "name": "stdout",
     "output_type": "stream",
     "text": [
      "time: 20 ms\n"
     ]
    }
   ],
   "source": [
    "max_score = results_df.mean_test_score.max()\n",
    "results_df.loc[results_df.mean_test_score == max_score]\n",
    "results_df.loc[results_df.mean_test_score == max_score].param_C.iloc[0]"
   ]
  },
  {
   "cell_type": "code",
   "execution_count": 26,
   "metadata": {},
   "outputs": [
    {
     "data": {
      "text/plain": [
       "<AxesSubplot:xlabel='param_C'>"
      ]
     },
     "execution_count": 26,
     "metadata": {},
     "output_type": "execute_result"
    },
    {
     "data": {
      "image/png": "[encoded data removed]",
      "text/plain": [
       "<Figure size 432x288 with 1 Axes>"
      ]
     },
     "metadata": {
      "needs_background": "light"
     },
     "output_type": "display_data"
    },
    {
     "name": "stdout",
     "output_type": "stream",
     "text": [
      "time: 1.05 s\n"
     ]
    }
   ],
   "source": [
    "results_df.loc[results_df.param_C < 0.03].plot(x=\"param_C\", y=\"mean_test_score\")"
   ]
  },
  {
   "cell_type": "markdown",
   "metadata": {},
   "source": [
    "# Discussion"
   ]
  },
  {
   "cell_type": "markdown",
   "metadata": {},
   "source": [
    "There are so many more possibilities for feature engineering. Upstream augmentation of the raw audio would probably be helpful as would resampling.\n",
    "\n",
    "It's important to be disciplined now and focus on deployment. Although there are numerous points of interest where tweaking is likely to yield better results, we are only deviating slightly from the feature engineering pathway we already established."
   ]
  },
  {
   "cell_type": "code",
   "execution_count": 27,
   "metadata": {},
   "outputs": [
    {
     "name": "stdout",
     "output_type": "stream",
     "text": [
      "Time elapsed since notebook_begin_time: 307.5197160243988 s\n",
      "time: 607 ms\n"
     ]
    }
   ],
   "source": [
    "print(f\"Time elapsed since notebook_begin_time: {time() - notebook_begin_time} s\")\n",
    "_ = gc_collect()"
   ]
  },
  {
   "cell_type": "markdown",
   "metadata": {},
   "source": [
    "[^top](#Contents)"
   ]
  },
  {
   "cell_type": "code",
   "execution_count": null,
   "metadata": {},
   "outputs": [],
   "source": []
  }
 ],
 "metadata": {
  "interpreter": {
   "hash": "e1781be99c106060f3abc0c9b91d3d379f24672894e2158d4b74304109955878"
  },
  "kernelspec": {
   "display_name": "Python [conda env:capstone_pyspark_38] *",
   "language": "python",
   "name": "python3"
  },
  "language_info": {
   "codemirror_mode": {
    "name": "ipython",
    "version": 3
   },
   "file_extension": ".py",
   "mimetype": "text/x-python",
   "name": "python",
   "nbconvert_exporter": "python",
   "pygments_lexer": "ipython3",
   "version": "3.8.12"
  }
 },
 "nbformat": 4,
 "nbformat_minor": 4
}
