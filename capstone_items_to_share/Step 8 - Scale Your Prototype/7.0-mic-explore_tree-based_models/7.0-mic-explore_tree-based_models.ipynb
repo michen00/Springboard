{
 "cells": [
  {
   "cell_type": "markdown",
   "metadata": {},
   "source": [
    "# Contents\n",
    "* [Introduction](#Introduction)\n",
    "  * [FRILL](#FRILL)\n",
    "* [Imports and configuration](#Imports-and-configuration)\n",
    "* [Data loading](#Data-loading)\n",
    "* [Strata](#Strata)\n",
    "* [Setup](#Setup)\n",
    "* [Models](#Models)\n",
    "* [Test harness](#Test-harness)\n",
    "* [Metaclassifier](#Metaclassifier)\n",
    "* [Results](#Results)\n",
    "  * [Classifier prediction correlations](#Classifier-prediction-correlations)\n",
    "* [Discussion](#Discussion)"
   ]
  },
  {
   "cell_type": "markdown",
   "metadata": {},
   "source": [
    "# Introduction\n",
    "\n",
    "In this notebook, the tree-based methods from previous explorations are more closely examined. Tree-based models have been less performant, so examining them more closely may yield candidates for omission from continued consideration. On the contrary, the ensembles appeared to degrade performance.\n",
    "\n",
    "A test harness is prepared for multinomial ternary classification on FRILL embeddings. The results are visualized and discussed."
   ]
  },
  {
   "cell_type": "markdown",
   "metadata": {},
   "source": [
    "## FRILL\n",
    "\n",
    "Here are two abstracts to introduce the FRILL embedding:"
   ]
  },
  {
   "cell_type": "markdown",
   "metadata": {},
   "source": [
    "  [Towards Learning a Universal Non-Semantic Representation of Speech (2020)](#https://doi.org/10.21437/Interspeech.2020-1242)\n",
    "> The ultimate goal of transfer learning is to reduce labeled data requirements by exploiting a pre-existing embedding model trained for different datasets or tasks. The visual and language communities have established benchmarks to compare embeddings, but the speech community has yet to do so. This paper proposes a benchmark for comparing speech representations on non-semantic tasks, and proposes a representation based on an unsupervised triplet-loss objective. The proposed representation outperforms other representations on the benchmark, and even exceeds state-of-the-art performance on a number of transfer learning tasks. The embedding is trained on a publicly available dataset, and it is tested on a variety of low-resource downstream tasks, including personalization tasks and medical domain. The benchmark, models, and evaluation code are publicly released.\n",
    "\n",
    "  [FRILL: A Non-Semantic Speech Embedding for Mobile Devices (2021)](#https://arxiv.org/abs/2011.04609)\n",
    "> Learned speech representations can drastically improve performance on tasks with limited labeled data. However, due to their size and complexity, learned representations have limited utility in mobile settings where run-time performance can be a significant bottleneck. In this work, we propose a class of lightweight non-semantic speech embedding models that run efficiently on mobile devices based on the recently proposed TRILL speech embedding. We combine novel architectural modifications with existing speed-up techniques to create embedding models that are fast enough to run in real-time on a mobile device and exhibit minimal performance degradation on a benchmark of non-semantic speech tasks. One such model (FRILL) is 32x faster on a Pixel 1 smartphone and 40% the size of TRILL, with an average decrease in accuracy of only 2%. To our knowledge, FRILL is the highest-quality non-semantic embedding designed for use on mobile devices. Furthermore, we demonstrate that these representations are useful for mobile health tasks such as non-speech human sounds detection and face-masked speech detection. Our models and code are publicly available.\n",
    "\n",
    "FRILL is therefore a promising embedding since non-semantic aspects of speech signals is what distinguishes each class for this data. And it's fast!\n",
    "\n",
    "Moreover, its output representation is a 2,048-element vector irrespective of input size. FRILL enables uniform handling of ragged sequences in an output format that is potentially more compact than spectrograms and MFCCs.\n",
    "\n",
    "Furthermore, the FRILL representations are not time series, affording the full armamentarium of classifiers."
   ]
  },
  {
   "cell_type": "markdown",
   "metadata": {},
   "source": [
    "# Imports and configuration"
   ]
  },
  {
   "cell_type": "code",
   "execution_count": 1,
   "metadata": {},
   "outputs": [],
   "source": [
    "from time import time\n",
    "\n",
    "notebook_begin_time = time()\n",
    "\n",
    "# set random seeds\n",
    "\n",
    "from os import environ\n",
    "from random import seed as random_seed\n",
    "from numpy.random import seed as np_seed\n",
    "from tensorflow.random import set_seed\n",
    "\n",
    "\n",
    "def reset_seeds(seed: int) -> None:\n",
    "    \"\"\"Utility function for resetting random seeds\"\"\"\n",
    "    environ[\"PYTHONHASHSEED\"] = str(seed)\n",
    "    random_seed(seed)\n",
    "    np_seed(seed)\n",
    "    set_seed(seed)\n",
    "\n",
    "\n",
    "reset_seeds(SEED := 2021)\n",
    "del environ\n",
    "del random_seed\n",
    "del np_seed\n",
    "del set_seed\n",
    "del reset_seeds"
   ]
  },
  {
   "cell_type": "code",
   "execution_count": 2,
   "metadata": {},
   "outputs": [],
   "source": [
    "# extensions\n",
    "%load_ext autotime\n",
    "%load_ext lab_black\n",
    "%load_ext nb_black"
   ]
  },
  {
   "cell_type": "code",
   "execution_count": 3,
   "metadata": {},
   "outputs": [
    {
     "name": "stderr",
     "output_type": "stream",
     "text": [
      "Intel(R) Extension for Scikit-learn* enabled (https://github.com/intel/scikit-learn-intelex)\n"
     ]
    },
    {
     "name": "stdout",
     "output_type": "stream",
     "text": [
      "time: 5.17 s\n"
     ]
    }
   ],
   "source": [
    "# core\n",
    "import numpy as np\n",
    "import pandas as pd\n",
    "\n",
    "# utility\n",
    "from collections import namedtuple\n",
    "from gc import collect as gc_collect\n",
    "from itertools import combinations\n",
    "from tqdm.notebook import tqdm\n",
    "\n",
    "# typing\n",
    "from sklearn.base import BaseEstimator\n",
    "from typing import Dict, List, Sequence\n",
    "\n",
    "# faster pandas & sklearn\n",
    "import swifter\n",
    "from sklearnex import patch_sklearn\n",
    "\n",
    "patch_sklearn()\n",
    "del patch_sklearn\n",
    "\n",
    "# metrics\n",
    "from imblearn.metrics import geometric_mean_score\n",
    "from sklearn.metrics import balanced_accuracy_score, f1_score\n",
    "\n",
    "# scale & resample\n",
    "from sklearn.preprocessing import MinMaxScaler\n",
    "from imblearn.over_sampling import ADASYN\n",
    "from imblearn.under_sampling import OneSidedSelection\n",
    "\n",
    "# cross validator\n",
    "from sklearn.model_selection import StratifiedGroupKFold\n",
    "\n",
    "# sklearn classifiers\n",
    "from sklearn.dummy import DummyClassifier\n",
    "from sklearn.ensemble import (\n",
    "    AdaBoostClassifier,\n",
    "    RandomForestClassifier,\n",
    ")\n",
    "from sklearn.linear_model import LogisticRegression\n",
    "\n",
    "# other boosting classifiers\n",
    "from lightgbm import LGBMClassifier\n",
    "from xgboost import XGBClassifier\n",
    "\n",
    "# visualization\n",
    "import matplotlib.pyplot as plt\n",
    "import seaborn as sns\n",
    "\n",
    "sns.set_context(\"notebook\")\n",
    "sns.set_style(\"whitegrid\")\n",
    "%matplotlib inline\n",
    "\n",
    "# display outputs w/o print calls\n",
    "from IPython.core.interactiveshell import InteractiveShell\n",
    "\n",
    "InteractiveShell.ast_node_interactivity = \"all\"\n",
    "del InteractiveShell\n",
    "\n",
    "# hide warnings\n",
    "import warnings\n",
    "\n",
    "warnings.filterwarnings(\"ignore\")\n",
    "del warnings"
   ]
  },
  {
   "cell_type": "code",
   "execution_count": 4,
   "metadata": {},
   "outputs": [
    {
     "name": "stdout",
     "output_type": "stream",
     "text": [
      "time: 117 ms\n"
     ]
    }
   ],
   "source": [
    "# Location of FRILL .feather files\n",
    "FRILL_FEATHERS_FOLDER = \"../1.0-mic-extract_FRILL_embeddings\"\n",
    "\n",
    "# Location where this notebook will output\n",
    "DATA_OUT_FOLDER = \".\"\n",
    "\n",
    "_ = gc_collect()"
   ]
  },
  {
   "cell_type": "markdown",
   "metadata": {},
   "source": [
    "# Data loading"
   ]
  },
  {
   "cell_type": "code",
   "execution_count": 5,
   "metadata": {},
   "outputs": [
    {
     "name": "stdout",
     "output_type": "stream",
     "text": [
      "time: 358 ms\n"
     ]
    }
   ],
   "source": [
    "keep_columns = [\n",
    "    \"id\",\n",
    "    \"source\",\n",
    "    \"speaker_id\",\n",
    "    \"speaker_gender\",\n",
    "    \"emo\",\n",
    "    \"valence\",\n",
    "    \"lang1\",\n",
    "    \"length\",\n",
    "]\n",
    "\n",
    "data = pd.read_feather(f\"{FRILL_FEATHERS_FOLDER}/dev_FRILL.feather\").set_index(\"id\")\n",
    "labels = pd.read_feather(\n",
    "    f\"{FRILL_FEATHERS_FOLDER}/dev_labels.feather\", columns=keep_columns\n",
    ").set_index(\"id\")"
   ]
  },
  {
   "cell_type": "code",
   "execution_count": 6,
   "metadata": {},
   "outputs": [
    {
     "name": "stdout",
     "output_type": "stream",
     "text": [
      "time: 128 ms\n"
     ]
    }
   ],
   "source": [
    "# uncomment lines to undersample data\n",
    "# data = data.sample(frac=0.05, random_state=SEED).sort_index()  # .head(200)\n",
    "# labels = labels.loc[data.index, :]  # .head(200)\n",
    "\n",
    "assert all(data.index == labels.index)\n",
    "_ = gc_collect()"
   ]
  },
  {
   "cell_type": "code",
   "execution_count": 7,
   "metadata": {},
   "outputs": [
    {
     "data": {
      "text/html": [
       "<div>\n",
       "<style scoped>\n",
       "    .dataframe tbody tr th:only-of-type {\n",
       "        vertical-align: middle;\n",
       "    }\n",
       "\n",
       "    .dataframe tbody tr th {\n",
       "        vertical-align: top;\n",
       "    }\n",
       "\n",
       "    .dataframe thead th {\n",
       "        text-align: right;\n",
       "    }\n",
       "</style>\n",
       "<table border=\"1\" class=\"dataframe\">\n",
       "  <thead>\n",
       "    <tr style=\"text-align: right;\">\n",
       "      <th></th>\n",
       "      <th>0</th>\n",
       "      <th>1</th>\n",
       "      <th>2</th>\n",
       "      <th>3</th>\n",
       "      <th>4</th>\n",
       "      <th>5</th>\n",
       "      <th>6</th>\n",
       "      <th>7</th>\n",
       "      <th>8</th>\n",
       "      <th>9</th>\n",
       "      <th>...</th>\n",
       "      <th>2038</th>\n",
       "      <th>2039</th>\n",
       "      <th>2040</th>\n",
       "      <th>2041</th>\n",
       "      <th>2042</th>\n",
       "      <th>2043</th>\n",
       "      <th>2044</th>\n",
       "      <th>2045</th>\n",
       "      <th>2046</th>\n",
       "      <th>2047</th>\n",
       "    </tr>\n",
       "    <tr>\n",
       "      <th>id</th>\n",
       "      <th></th>\n",
       "      <th></th>\n",
       "      <th></th>\n",
       "      <th></th>\n",
       "      <th></th>\n",
       "      <th></th>\n",
       "      <th></th>\n",
       "      <th></th>\n",
       "      <th></th>\n",
       "      <th></th>\n",
       "      <th></th>\n",
       "      <th></th>\n",
       "      <th></th>\n",
       "      <th></th>\n",
       "      <th></th>\n",
       "      <th></th>\n",
       "      <th></th>\n",
       "      <th></th>\n",
       "      <th></th>\n",
       "      <th></th>\n",
       "      <th></th>\n",
       "    </tr>\n",
       "  </thead>\n",
       "  <tbody>\n",
       "    <tr>\n",
       "      <th>0</th>\n",
       "      <td>0.119926</td>\n",
       "      <td>-0.049218</td>\n",
       "      <td>0.039702</td>\n",
       "      <td>0.141101</td>\n",
       "      <td>0.044318</td>\n",
       "      <td>0.049631</td>\n",
       "      <td>0.016178</td>\n",
       "      <td>0.025797</td>\n",
       "      <td>-0.104466</td>\n",
       "      <td>-0.016044</td>\n",
       "      <td>...</td>\n",
       "      <td>-0.226529</td>\n",
       "      <td>-0.091773</td>\n",
       "      <td>0.028184</td>\n",
       "      <td>-0.074794</td>\n",
       "      <td>0.025474</td>\n",
       "      <td>0.046511</td>\n",
       "      <td>-0.002693</td>\n",
       "      <td>-0.017953</td>\n",
       "      <td>-0.146394</td>\n",
       "      <td>-0.06233</td>\n",
       "    </tr>\n",
       "  </tbody>\n",
       "</table>\n",
       "<p>1 rows × 2048 columns</p>\n",
       "</div>"
      ],
      "text/plain": [
       "           0         1         2         3         4         5         6  \\\n",
       "id                                                                         \n",
       "0   0.119926 -0.049218  0.039702  0.141101  0.044318  0.049631  0.016178   \n",
       "\n",
       "           7         8         9  ...      2038      2039      2040      2041  \\\n",
       "id                                ...                                           \n",
       "0   0.025797 -0.104466 -0.016044  ... -0.226529 -0.091773  0.028184 -0.074794   \n",
       "\n",
       "        2042      2043      2044      2045      2046     2047  \n",
       "id                                                             \n",
       "0   0.025474  0.046511 -0.002693 -0.017953 -0.146394 -0.06233  \n",
       "\n",
       "[1 rows x 2048 columns]"
      ]
     },
     "execution_count": 7,
     "metadata": {},
     "output_type": "execute_result"
    },
    {
     "name": "stdout",
     "output_type": "stream",
     "text": [
      "<class 'pandas.core.frame.DataFrame'>\n",
      "UInt64Index: 17703 entries, 0 to 39247\n",
      "Columns: 2048 entries, 0 to 2047\n",
      "dtypes: float32(2048)\n",
      "memory usage: 138.4 MB\n"
     ]
    },
    {
     "data": {
      "text/html": [
       "<div>\n",
       "<style scoped>\n",
       "    .dataframe tbody tr th:only-of-type {\n",
       "        vertical-align: middle;\n",
       "    }\n",
       "\n",
       "    .dataframe tbody tr th {\n",
       "        vertical-align: top;\n",
       "    }\n",
       "\n",
       "    .dataframe thead th {\n",
       "        text-align: right;\n",
       "    }\n",
       "</style>\n",
       "<table border=\"1\" class=\"dataframe\">\n",
       "  <thead>\n",
       "    <tr style=\"text-align: right;\">\n",
       "      <th></th>\n",
       "      <th>source</th>\n",
       "      <th>speaker_id</th>\n",
       "      <th>speaker_gender</th>\n",
       "      <th>emo</th>\n",
       "      <th>valence</th>\n",
       "      <th>lang1</th>\n",
       "      <th>length</th>\n",
       "    </tr>\n",
       "    <tr>\n",
       "      <th>id</th>\n",
       "      <th></th>\n",
       "      <th></th>\n",
       "      <th></th>\n",
       "      <th></th>\n",
       "      <th></th>\n",
       "      <th></th>\n",
       "      <th></th>\n",
       "    </tr>\n",
       "  </thead>\n",
       "  <tbody>\n",
       "    <tr>\n",
       "      <th>0</th>\n",
       "      <td>aesdd</td>\n",
       "      <td>aesdd.1</td>\n",
       "      <td>f</td>\n",
       "      <td>ang</td>\n",
       "      <td>0</td>\n",
       "      <td>ell</td>\n",
       "      <td>medium</td>\n",
       "    </tr>\n",
       "  </tbody>\n",
       "</table>\n",
       "</div>"
      ],
      "text/plain": [
       "   source speaker_id speaker_gender  emo  valence lang1  length\n",
       "id                                                             \n",
       "0   aesdd    aesdd.1              f  ang        0   ell  medium"
      ]
     },
     "execution_count": 7,
     "metadata": {},
     "output_type": "execute_result"
    },
    {
     "name": "stdout",
     "output_type": "stream",
     "text": [
      "<class 'pandas.core.frame.DataFrame'>\n",
      "UInt64Index: 17703 entries, 0 to 39247\n",
      "Data columns (total 7 columns):\n",
      " #   Column          Non-Null Count  Dtype   \n",
      "---  ------          --------------  -----   \n",
      " 0   source          17703 non-null  category\n",
      " 1   speaker_id      17703 non-null  category\n",
      " 2   speaker_gender  17703 non-null  category\n",
      " 3   emo             17703 non-null  category\n",
      " 4   valence         17703 non-null  int8    \n",
      " 5   lang1           17703 non-null  category\n",
      " 6   length          17703 non-null  category\n",
      "dtypes: category(6), int8(1)\n",
      "memory usage: 321.6 KB\n",
      "time: 163 ms\n"
     ]
    }
   ],
   "source": [
    "data.head(1)\n",
    "data.info()\n",
    "labels.head(1)\n",
    "labels.info()"
   ]
  },
  {
   "cell_type": "markdown",
   "metadata": {},
   "source": [
    "# Strata\n",
    "\n",
    "In this section, strata are set up for the train-test split."
   ]
  },
  {
   "cell_type": "code",
   "execution_count": 8,
   "metadata": {},
   "outputs": [
    {
     "name": "stderr",
     "output_type": "stream",
     "text": [
      "Pandas Apply: 100%|██████████| 17703/17703 [00:00<00:00, 83968.99it/s]"
     ]
    },
    {
     "name": "stdout",
     "output_type": "stream",
     "text": [
      "time: 265 ms\n"
     ]
    },
    {
     "name": "stderr",
     "output_type": "stream",
     "text": [
      "\n"
     ]
    }
   ],
   "source": [
    "N_SPLITS = 5\n",
    "\n",
    "# fields are concatentated for quick permutation omitting non-existent combos\n",
    "strata = labels.loc[\n",
    "    :, [\"source\", \"speaker_gender\", \"emo\", \"valence\", \"lang1\", \"length\"]\n",
    "]\n",
    "strata.valence = strata.valence.astype(str)\n",
    "strata = strata.swifter.apply(\"\".join, axis=1)"
   ]
  },
  {
   "cell_type": "code",
   "execution_count": 9,
   "metadata": {},
   "outputs": [
    {
     "name": "stdout",
     "output_type": "stream",
     "text": [
      "time: 130 ms\n"
     ]
    }
   ],
   "source": [
    "# utility function for identifying strata with only i occurences\n",
    "def get_solo(i: int, strata_: pd.Series) -> np.ndarray:\n",
    "    \"\"\"Given a series of stratum memberships, return a shuffled array of strata with only i members.\"\"\"\n",
    "    return np.unique(\n",
    "        strata_.loc[\n",
    "            strata_.isin(\n",
    "                (strata_counts := strata_.value_counts())\n",
    "                .where(strata_counts == i)\n",
    "                .dropna()\n",
    "                .index\n",
    "            )\n",
    "        ]\n",
    "        .sample(frac=1, random_state=SEED)\n",
    "        .values\n",
    "    )\n",
    "\n",
    "\n",
    "# get solos, print stuff\n",
    "def get_onlys(\n",
    "    strata_: pd.Series, print_me: str = \"\", n_splits: int = N_SPLITS\n",
    ") -> List[Dict[int, np.ndarray]]:\n",
    "    \"\"\"Optinally prints something and returns calls of get_solo on strata_ in a list\"\"\"\n",
    "    print(print_me)\n",
    "    solos = []\n",
    "    for i in range(1, n_splits):\n",
    "        solo: np.ndarray = get_solo(i, strata_)\n",
    "        print(f\"only {i}:\", (_ := solo.size))\n",
    "        if _:  # >= 1 strata with only i samples\n",
    "            solos.append({i: solo})\n",
    "    return solos\n",
    "\n",
    "\n",
    "def process_strata(strata: pd.Series, n_splits: int = N_SPLITS) -> pd.Series:\n",
    "    \"\"\"Corrects strata membership column according to n_splits\"\"\"\n",
    "\n",
    "    count = get_onlys_calls = 0\n",
    "\n",
    "    while onlys := get_onlys(\n",
    "        strata,\n",
    "        print_me=f\"merge passes performed: {get_onlys_calls}\",\n",
    "        n_splits=n_splits,\n",
    "    ):\n",
    "        get_onlys_calls += 1\n",
    "        if len(onlys) == 1:\n",
    "            last = onlys[0]\n",
    "            strata_to_merge: np.ndarray = list(last.values())[0]\n",
    "            only_key = list(last.keys())[0]\n",
    "            tuplet_size = n_splits // only_key + (1 if n_splits % only_key else 0)\n",
    "            # perform tuplet merge\n",
    "            interval = len(strata_to_merge) // n_splits\n",
    "            for strata_tuplet in zip(\n",
    "                *[\n",
    "                    strata_to_merge[interval * i : interval * (i + 1)]\n",
    "                    for i in range(tuplet_size)\n",
    "                ]\n",
    "            ):\n",
    "                strata = strata.replace(strata_tuplet, f\"stratum_group_{count}\")\n",
    "                count += 1\n",
    "            remainder = strata_to_merge[tuplet_size * interval :]\n",
    "            if len(remainder) == 1:\n",
    "                # process remainder unmatched\n",
    "                n = n_splits\n",
    "                strata_counts = strata.value_counts()\n",
    "                while not (candidates := strata_counts.loc[strata_counts == n]).size:\n",
    "                    n += 1\n",
    "                strata = strata.replace(\n",
    "                    [remainder[0], candidates.sample(n=1, random_state=SEED).index[0]],\n",
    "                    f\"stratum_group_{count}\",\n",
    "                )\n",
    "                count += 1\n",
    "            else:\n",
    "                # self-pair last\n",
    "                remainder = remainder.tolist()\n",
    "                while len(remainder) >= 2:\n",
    "                    strata = strata.replace(\n",
    "                        (remainder.pop(), remainder.pop()), f\"stratum_group_{count}\"\n",
    "                    )\n",
    "                    count += 1\n",
    "        else:\n",
    "            pop_onlys = lambda _: list(onlys.pop(_).values())[0].tolist()\n",
    "            while len(onlys) >= 2:\n",
    "                # pop the ends\n",
    "                shortside = pop_onlys(0)\n",
    "                longside = pop_onlys(-1)\n",
    "                # merge until one end empty\n",
    "                while shortside and longside:\n",
    "                    strata = strata.replace(\n",
    "                        (shortside.pop(), longside.pop()), f\"stratum_group_{count}\"\n",
    "                    )\n",
    "                    count += 1\n",
    "            if onlys:\n",
    "                # self-pair middle\n",
    "                remainder = pop_onlys(0)\n",
    "                while len(remainder) >= 2:\n",
    "                    strata = strata.replace(\n",
    "                        (remainder.pop(), remainder.pop()), f\"stratum_group_{count}\"\n",
    "                    )\n",
    "                    count += 1\n",
    "    return strata\n",
    "\n",
    "\n",
    "_ = gc_collect()"
   ]
  },
  {
   "cell_type": "code",
   "execution_count": 10,
   "metadata": {},
   "outputs": [
    {
     "name": "stdout",
     "output_type": "stream",
     "text": [
      "merge passes performed: 0\n",
      "only 1: 28\n",
      "only 2: 19\n",
      "only 3: 10\n",
      "only 4: 5\n",
      "merge passes performed: 1\n",
      "only 1: 23\n",
      "only 2: 9\n",
      "only 3: 0\n",
      "only 4: 0\n",
      "merge passes performed: 2\n",
      "only 1: 14\n",
      "only 2: 0\n",
      "only 3: 9\n",
      "only 4: 0\n",
      "merge passes performed: 3\n",
      "only 1: 5\n",
      "only 2: 0\n",
      "only 3: 0\n",
      "only 4: 9\n",
      "merge passes performed: 4\n",
      "only 1: 0\n",
      "only 2: 0\n",
      "only 3: 0\n",
      "only 4: 4\n",
      "merge passes performed: 5\n",
      "only 1: 0\n",
      "only 2: 0\n",
      "only 3: 0\n",
      "only 4: 0\n"
     ]
    },
    {
     "data": {
      "text/plain": [
       "esdfsur0cmnmedium               984\n",
       "esdfang0cmnmedium               982\n",
       "esdfsad0cmnmedium               736\n",
       "esdmhap2cmnmedium               689\n",
       "esdfhap2cmnmedium               688\n",
       "                               ... \n",
       "EmoReact_V_1.0fneu1engmedium      5\n",
       "BAUM1fsad0turlong                 5\n",
       "stratum_group_14                  5\n",
       "stratum_group_10                  5\n",
       "stratum_group_11                  5\n",
       "Length: 168, dtype: int64"
      ]
     },
     "execution_count": 10,
     "metadata": {},
     "output_type": "execute_result"
    },
    {
     "name": "stdout",
     "output_type": "stream",
     "text": [
      "time: 340 ms\n"
     ]
    }
   ],
   "source": [
    "STRATA = process_strata(strata, n_splits=N_SPLITS)\n",
    "del strata\n",
    "STRATA.value_counts()"
   ]
  },
  {
   "cell_type": "markdown",
   "metadata": {},
   "source": [
    "# Setup\n",
    "\n",
    "In this section, we define some structures to keep track of models and scores.\n",
    "\n",
    "The next cell defines a Python dictionary to record the results of cross validation such that the results may be easily cast to a `pandas` dataframe."
   ]
  },
  {
   "cell_type": "code",
   "execution_count": 11,
   "metadata": {},
   "outputs": [
    {
     "name": "stdout",
     "output_type": "stream",
     "text": [
      "time: 168 ms\n"
     ]
    }
   ],
   "source": [
    "METRICS = (\n",
    "    \"avg_cv_balanced_accuracy\",\n",
    "    \"avg_cv_f1\",\n",
    "    \"avg_cv_geometric_mean\",\n",
    "    \"avg_cv_fit_time\",\n",
    "    \"avg_cv_predict_time\",\n",
    ")\n",
    "\n",
    "# to be cast to pd.DataFrame\n",
    "make_results = lambda: {key: [] for key in {\"model_name\", \"case\", *METRICS}}\n",
    "results_ = make_results()\n",
    "\n",
    "AvgScores = namedtuple(\"AvgScores\", METRICS)\n",
    "\n",
    "\n",
    "def store_result(\n",
    "    where: Dict[str, List],\n",
    "    case: str,\n",
    "    model_name: str,\n",
    "    avg_scores: AvgScores,\n",
    ") -> None:\n",
    "    \"Appends a model's score and fit/predict times to the results dict.\"\n",
    "    for attribute, value in {\n",
    "        \"model_name\": model_name,\n",
    "        \"case\": case,\n",
    "        **avg_scores._asdict(),\n",
    "    }.items():\n",
    "        where[attribute].append(value)\n",
    "\n",
    "\n",
    "ALL_CASES = {\"ternary\"}\n",
    "\n",
    "_ = gc_collect()"
   ]
  },
  {
   "cell_type": "code",
   "execution_count": 12,
   "metadata": {},
   "outputs": [
    {
     "name": "stdout",
     "output_type": "stream",
     "text": [
      "time: 152 ms\n"
     ]
    }
   ],
   "source": [
    "predictions_ = {key: [] for key in {\"model\", \"case\", \"fold\", \"y_pred\", \"split\"}}\n",
    "\n",
    "Prediction = namedtuple(\"Prediction\", predictions_.keys())\n",
    "\n",
    "\n",
    "def store_prediction(where: Dict[str, List], prediction: Prediction) -> None:\n",
    "    \"Records the y_pred of a classifier on a fold\"\n",
    "    for k, v in prediction._asdict().items():\n",
    "        where[k].append(v)\n",
    "\n",
    "\n",
    "_ = gc_collect()"
   ]
  },
  {
   "cell_type": "markdown",
   "metadata": {},
   "source": [
    "The cross-validation splits are pre-computed to save time in the main loops."
   ]
  },
  {
   "cell_type": "code",
   "execution_count": 13,
   "metadata": {},
   "outputs": [
    {
     "name": "stdout",
     "output_type": "stream",
     "text": [
      "time: 2min 43s\n"
     ]
    }
   ],
   "source": [
    "CV_info = namedtuple(\n",
    "    \"CV_info\",\n",
    "    _ := \"X_train X_test y_train y_test\",\n",
    "    defaults=[None] * len(_.split()),\n",
    ")\n",
    "assert all(data.index == STRATA.index)\n",
    "assert all(STRATA.index == labels.index)\n",
    "prepared_splits = [\n",
    "    *StratifiedGroupKFold(n_splits=N_SPLITS, shuffle=True, random_state=SEED).split(\n",
    "        X=data, y=STRATA, groups=labels.speaker_id\n",
    "    )\n",
    "]\n",
    "\n",
    "scaler = lambda: MinMaxScaler(feature_range=(-1, 1))  # preserve sign\n",
    "make_adasyn = lambda strategy: ADASYN(\n",
    "    sampling_strategy=strategy, random_state=SEED, n_jobs=-1\n",
    ").fit_resample\n",
    "\n",
    "\n",
    "def get_splits(case: str, resampled: bool = True) -> List[CV_info]:\n",
    "    \"\"\"Prepares the three-fold cross-validation splits ternary classification.\"\"\"\n",
    "    splits = []\n",
    "    for train_idx, test_idx in prepared_splits:\n",
    "        # select and scale\n",
    "        scale = scaler().fit(X_train := data.iloc[train_idx])\n",
    "        X_train = scale.transform(X_train)\n",
    "        X_test = scale.transform(data.iloc[test_idx])\n",
    "        y_train = labels.valence.iloc[train_idx]\n",
    "        y_test = labels.valence.iloc[test_idx]\n",
    "\n",
    "        if resampled:\n",
    "            # oversample with adasyn, undersample with oss\n",
    "            train = make_adasyn(\"not majority\")(X_train, y_train)\n",
    "            try:\n",
    "                train = make_adasyn(\"not majority\")(X_train, y_train)\n",
    "            except ValueError:\n",
    "                try:\n",
    "                    train = make_adasyn(\"not minority\")(X_train, y_train)\n",
    "                except ValueError:\n",
    "                    try:\n",
    "                        train = make_adasyn(\"all\")(X_train, y_train)\n",
    "                    except ValueError:\n",
    "                        train = make_adasyn(\"not minority\")(X_train, y_train)\n",
    "            X_train, y_train = OneSidedSelection(\n",
    "                random_state=SEED, n_jobs=-1\n",
    "            ).fit_resample(*train)\n",
    "\n",
    "        # reset indices\n",
    "        splits.append(\n",
    "            CV_info(\n",
    "                X_train=X_train,\n",
    "                y_train=y_train.reset_index(drop=True),\n",
    "                X_test=X_test,\n",
    "                y_test=y_test.reset_index(drop=True),\n",
    "            )\n",
    "        )\n",
    "    return splits\n",
    "\n",
    "\n",
    "DATA_CHOOSER: Dict[str, List[CV_info]] = {case: get_splits(case) for case in ALL_CASES}\n",
    "\n",
    "del scaler\n",
    "_ = gc_collect()"
   ]
  },
  {
   "cell_type": "markdown",
   "metadata": {},
   "source": [
    "# Models\n",
    "\n",
    "Thanks to FRILL, we may now use the gamut of classifiers provided by `sklearn`. Boosting methods outside of `sklearn` include `LightGBM` and `XGBoost`. We also consider ensembles of these classifiers.\n",
    "\n",
    "Because XGBoostClassifier takes a long time to train, we will train a LogisticRegression estimator in lieu of sklearn's StackingClassifier, which uses LogisticRegression as the metaestimator by default.\n",
    "\n",
    "In previous explorations, XGBoost has usually been the most performant tree-based classifier. To constrain the number of stacked ensembles to evaluate, we therefore only consider stacks that contain XGBoost, each model individually, and the stack containing all models except for XGBoost; this works out to 12 first-order estimators to consider (plus one dummy).\n",
    "\n",
    "For the most part, the default settings of each classifier are used. Where possible, the seed is set and all available cores are used. Class weight parameters are set to address class imbalance. Each classifier is wrapped in a lambda function to ensure a brand new model is initialized each time the function is called."
   ]
  },
  {
   "cell_type": "code",
   "execution_count": 14,
   "metadata": {},
   "outputs": [
    {
     "name": "stdout",
     "output_type": "stream",
     "text": [
      "time: 153 ms\n"
     ]
    }
   ],
   "source": [
    "MODELS = {\n",
    "    \"AdaBoost\": lambda: AdaBoostClassifier(random_state=SEED),\n",
    "    \"LGBM\": lambda: LGBMClassifier(\n",
    "        class_weight=\"balanced\", random_state=SEED, n_jobs=-1\n",
    "    ),\n",
    "    \"RandomForest\": lambda: RandomForestClassifier(\n",
    "        n_jobs=-1, random_state=SEED, class_weight=\"balanced\"\n",
    "    ),\n",
    "    \"XGB\": lambda: XGBClassifier(\n",
    "        tree_method=\"gpu_hist\",\n",
    "        n_jobs=-1,\n",
    "        random_state=SEED,\n",
    "        validate_parameters=True,\n",
    "        eval_metric=\"mlogloss\",\n",
    "        use_label_encoder=False,\n",
    "        single_precision_histogram=True,\n",
    "    ),\n",
    "    \"Dummy\": lambda: DummyClassifier(random_state=SEED),\n",
    "}\n",
    "\n",
    "\n",
    "def make_stack(X_train: pd.DataFrame, y_train: Sequence) -> BaseEstimator:\n",
    "    \"\"\"Trains a logistic regression on input data.\"\"\"\n",
    "    return LogisticRegression(\n",
    "        class_weight=\"balanced\", random_state=SEED, n_jobs=-1\n",
    "    ).fit(X_train, y_train)\n",
    "\n",
    "\n",
    "_ = gc_collect()"
   ]
  },
  {
   "cell_type": "markdown",
   "metadata": {},
   "source": [
    "# Test harness\n",
    "\n",
    "This section defines functions for evaluating models."
   ]
  },
  {
   "cell_type": "code",
   "execution_count": 15,
   "metadata": {},
   "outputs": [
    {
     "name": "stdout",
     "output_type": "stream",
     "text": [
      "time: 160 ms\n"
     ]
    }
   ],
   "source": [
    "def evaluate_model(\n",
    "    model_base: str, case: str, resample: bool = False, track_fold_time: bool = False\n",
    ") -> AvgScores:\n",
    "    \"\"\"Evaluate a binary classification model with three-fold stratified grouped cross validation.\"\"\"\n",
    "\n",
    "    fit_times, predict_times, balanced_accuracy, f1, geometric_mean = [], [], [], [], []\n",
    "    selected_data: List[CV_info] = DATA_CHOOSER[case]\n",
    "    for fold_num in range(N_SPLITS):\n",
    "        if track_fold_time:\n",
    "            fold_begin = time()\n",
    "\n",
    "        # obtain prepared folds\n",
    "        fold_data: CV_info = selected_data[fold_num]\n",
    "\n",
    "        # define train\n",
    "        X_train = fold_data.X_train\n",
    "        y_train = fold_data.y_train\n",
    "\n",
    "        # define test\n",
    "        X_test = fold_data.X_test\n",
    "        y_test = fold_data.y_test\n",
    "\n",
    "        # initialize binary model\n",
    "        model = MODELS[model_base]()\n",
    "\n",
    "        # fit\n",
    "        begin = time()\n",
    "        model.fit(X_train, y_train)\n",
    "        end = time()\n",
    "        fit_times.append(end - begin)\n",
    "        print(f\"fitted in {end - begin:.2f} s\")\n",
    "\n",
    "        # store train prediction for metaclassifier training\n",
    "        store_prediction(\n",
    "            where=predictions_,\n",
    "            prediction=Prediction(\n",
    "                model=model_base,\n",
    "                case=case,\n",
    "                fold=fold_num,\n",
    "                y_pred=model.predict(X_train),\n",
    "                split=\"train\",\n",
    "            ),\n",
    "        )\n",
    "\n",
    "        # predict\n",
    "        begin = time()\n",
    "        predicted = model.predict(X_test)\n",
    "        end = time()\n",
    "        print(f\"predicted in {end - begin:.2f} s\")\n",
    "\n",
    "        # store prediction results\n",
    "        predict_times.append(end - begin)\n",
    "        store_prediction(\n",
    "            where=predictions_,\n",
    "            prediction=Prediction(\n",
    "                model=model_base,\n",
    "                case=case,\n",
    "                fold=fold_num,\n",
    "                y_pred=predicted,\n",
    "                split=\"test\",\n",
    "            ),\n",
    "        )\n",
    "\n",
    "        # score\n",
    "        score_params = {\"y_true\": y_test, \"y_pred\": predicted}\n",
    "        balanced_accuracy.append(balanced_accuracy_score(**score_params))\n",
    "        f1.append(f1_score(**score_params, average=\"weighted\"))\n",
    "        geometric_mean.append(geometric_mean_score(**score_params))\n",
    "\n",
    "        if track_fold_time:\n",
    "            print(\n",
    "                f\"{model_base} fold {fold_num + 1} completed in {time() - fold_begin:.2f} s\"\n",
    "            )\n",
    "\n",
    "        # free some memory\n",
    "        del begin\n",
    "        del end\n",
    "        del model\n",
    "        del predicted\n",
    "        del score_params\n",
    "        del X_test\n",
    "        del X_train\n",
    "        del y_test\n",
    "        del y_train\n",
    "        _ = gc_collect()\n",
    "\n",
    "    return AvgScores(\n",
    "        *[\n",
    "            np.mean(_)\n",
    "            for _ in (balanced_accuracy, f1, geometric_mean, fit_times, predict_times)\n",
    "        ]\n",
    "    )\n",
    "\n",
    "\n",
    "_ = gc_collect()"
   ]
  },
  {
   "cell_type": "markdown",
   "metadata": {},
   "source": [
    "The next cell evaluates models."
   ]
  },
  {
   "cell_type": "code",
   "execution_count": 16,
   "metadata": {},
   "outputs": [
    {
     "data": {
      "application/vnd.jupyter.widget-view+json": {
       "model_id": "b559c364159843c08276f87b4b3e0c10",
       "version_major": 2,
       "version_minor": 0
      },
      "text/plain": [
       "  0%|          | 0/5 [00:00<?, ?it/s]"
      ]
     },
     "metadata": {},
     "output_type": "display_data"
    },
    {
     "name": "stdout",
     "output_type": "stream",
     "text": [
      "evaluating AdaBoost...\n",
      "fitted in 377.90 s\n",
      "predicted in 0.17 s\n",
      "AdaBoost fold 1 completed in 378.93 s\n",
      "fitted in 337.52 s\n",
      "predicted in 0.14 s\n",
      "AdaBoost fold 2 completed in 338.47 s\n",
      "fitted in 329.99 s\n",
      "predicted in 0.16 s\n",
      "AdaBoost fold 3 completed in 330.94 s\n",
      "fitted in 320.76 s\n",
      "predicted in 0.18 s\n",
      "AdaBoost fold 4 completed in 321.71 s\n",
      "fitted in 335.43 s\n",
      "predicted in 0.17 s\n",
      "AdaBoost fold 5 completed in 336.34 s\n",
      "stored AdaBoost for ternary classification in 1707.01 s\n",
      "evaluating LGBM...\n",
      "fitted in 68.43 s\n",
      "predicted in 0.14 s\n",
      "LGBM fold 1 completed in 68.96 s\n",
      "fitted in 61.77 s\n",
      "predicted in 0.14 s\n",
      "LGBM fold 2 completed in 62.23 s\n",
      "fitted in 61.45 s\n",
      "predicted in 0.13 s\n",
      "LGBM fold 3 completed in 61.90 s\n",
      "fitted in 59.58 s\n",
      "predicted in 0.16 s\n",
      "LGBM fold 4 completed in 60.07 s\n",
      "fitted in 68.06 s\n",
      "predicted in 0.21 s\n",
      "LGBM fold 5 completed in 68.63 s\n",
      "stored LGBM for ternary classification in 322.61 s\n",
      "evaluating RandomForest...\n",
      "fitted in 12.30 s\n",
      "predicted in 0.08 s\n",
      "RandomForest fold 1 completed in 12.71 s\n",
      "fitted in 14.24 s\n",
      "predicted in 0.10 s\n",
      "RandomForest fold 2 completed in 14.81 s\n",
      "fitted in 12.13 s\n",
      "predicted in 0.08 s\n",
      "RandomForest fold 3 completed in 12.50 s\n",
      "fitted in 13.77 s\n",
      "predicted in 0.11 s\n",
      "RandomForest fold 4 completed in 14.19 s\n",
      "fitted in 12.96 s\n",
      "predicted in 0.13 s\n",
      "RandomForest fold 5 completed in 13.48 s\n",
      "stored RandomForest for ternary classification in 68.34 s\n",
      "evaluating XGB...\n",
      "fitted in 99.03 s\n",
      "predicted in 0.13 s\n",
      "XGB fold 1 completed in 99.53 s\n",
      "fitted in 95.99 s\n",
      "predicted in 0.11 s\n",
      "XGB fold 2 completed in 96.40 s\n",
      "fitted in 96.28 s\n",
      "predicted in 0.09 s\n",
      "XGB fold 3 completed in 96.70 s\n",
      "fitted in 96.02 s\n",
      "predicted in 0.11 s\n",
      "XGB fold 4 completed in 96.45 s\n",
      "fitted in 96.36 s\n",
      "predicted in 0.14 s\n",
      "XGB fold 5 completed in 96.85 s\n",
      "stored XGB for ternary classification in 486.75 s\n",
      "evaluating Dummy...\n",
      "fitted in 0.00 s\n",
      "predicted in 0.00 s\n",
      "Dummy fold 1 completed in 0.01 s\n",
      "fitted in 0.00 s\n",
      "predicted in 0.00 s\n",
      "Dummy fold 2 completed in 0.00 s\n",
      "fitted in 0.02 s\n",
      "predicted in 0.00 s\n",
      "Dummy fold 3 completed in 0.02 s\n",
      "fitted in 0.00 s\n",
      "predicted in 0.00 s\n",
      "Dummy fold 4 completed in 0.02 s\n",
      "fitted in 0.01 s\n",
      "predicted in 0.00 s\n",
      "Dummy fold 5 completed in 0.01 s\n",
      "stored Dummy for ternary classification in 0.63 s\n",
      "time: 43min 6s\n"
     ]
    }
   ],
   "source": [
    "case = \"ternary\"\n",
    "for model in tqdm(MODELS):\n",
    "    loop_begin = time()\n",
    "    print(f\"evaluating {model}...\")\n",
    "    store_result(\n",
    "        where=results_,\n",
    "        case=case,\n",
    "        model_name=model,\n",
    "        avg_scores=evaluate_model(model, case, track_fold_time=True),\n",
    "    )\n",
    "    print(f\"stored {model} for {case} classification in {time() - loop_begin:.2f} s\")\n",
    "    _ = gc_collect()"
   ]
  },
  {
   "cell_type": "markdown",
   "metadata": {},
   "source": [
    "Let's peek at the results."
   ]
  },
  {
   "cell_type": "code",
   "execution_count": 17,
   "metadata": {},
   "outputs": [
    {
     "data": {
      "text/html": [
       "<div>\n",
       "<style scoped>\n",
       "    .dataframe tbody tr th:only-of-type {\n",
       "        vertical-align: middle;\n",
       "    }\n",
       "\n",
       "    .dataframe tbody tr th {\n",
       "        vertical-align: top;\n",
       "    }\n",
       "\n",
       "    .dataframe thead th {\n",
       "        text-align: right;\n",
       "    }\n",
       "</style>\n",
       "<table border=\"1\" class=\"dataframe\">\n",
       "  <thead>\n",
       "    <tr style=\"text-align: right;\">\n",
       "      <th></th>\n",
       "      <th>avg_cv_balanced_accuracy</th>\n",
       "      <th>avg_cv_geometric_mean</th>\n",
       "      <th>avg_cv_f1</th>\n",
       "      <th>case</th>\n",
       "      <th>model_name</th>\n",
       "      <th>avg_cv_predict_time</th>\n",
       "      <th>avg_cv_fit_time</th>\n",
       "    </tr>\n",
       "  </thead>\n",
       "  <tbody>\n",
       "    <tr>\n",
       "      <th>0</th>\n",
       "      <td>0.481518</td>\n",
       "      <td>0.473221</td>\n",
       "      <td>0.488883</td>\n",
       "      <td>ternary</td>\n",
       "      <td>AdaBoost</td>\n",
       "      <td>0.165158</td>\n",
       "      <td>340.320800</td>\n",
       "    </tr>\n",
       "    <tr>\n",
       "      <th>1</th>\n",
       "      <td>0.333333</td>\n",
       "      <td>0.000000</td>\n",
       "      <td>0.204143</td>\n",
       "      <td>ternary</td>\n",
       "      <td>Dummy</td>\n",
       "      <td>0.000000</td>\n",
       "      <td>0.004855</td>\n",
       "    </tr>\n",
       "    <tr>\n",
       "      <th>2</th>\n",
       "      <td>0.541516</td>\n",
       "      <td>0.504539</td>\n",
       "      <td>0.584568</td>\n",
       "      <td>ternary</td>\n",
       "      <td>LGBM</td>\n",
       "      <td>0.155456</td>\n",
       "      <td>63.857379</td>\n",
       "    </tr>\n",
       "    <tr>\n",
       "      <th>3</th>\n",
       "      <td>0.452871</td>\n",
       "      <td>0.380705</td>\n",
       "      <td>0.517582</td>\n",
       "      <td>ternary</td>\n",
       "      <td>RandomForest</td>\n",
       "      <td>0.100593</td>\n",
       "      <td>13.079502</td>\n",
       "    </tr>\n",
       "    <tr>\n",
       "      <th>4</th>\n",
       "      <td>0.528232</td>\n",
       "      <td>0.484352</td>\n",
       "      <td>0.582361</td>\n",
       "      <td>ternary</td>\n",
       "      <td>XGB</td>\n",
       "      <td>0.117445</td>\n",
       "      <td>96.735002</td>\n",
       "    </tr>\n",
       "  </tbody>\n",
       "</table>\n",
       "</div>"
      ],
      "text/plain": [
       "   avg_cv_balanced_accuracy  avg_cv_geometric_mean  avg_cv_f1     case  \\\n",
       "0                  0.481518               0.473221   0.488883  ternary   \n",
       "1                  0.333333               0.000000   0.204143  ternary   \n",
       "2                  0.541516               0.504539   0.584568  ternary   \n",
       "3                  0.452871               0.380705   0.517582  ternary   \n",
       "4                  0.528232               0.484352   0.582361  ternary   \n",
       "\n",
       "     model_name  avg_cv_predict_time  avg_cv_fit_time  \n",
       "0      AdaBoost             0.165158       340.320800  \n",
       "1         Dummy             0.000000         0.004855  \n",
       "2          LGBM             0.155456        63.857379  \n",
       "3  RandomForest             0.100593        13.079502  \n",
       "4           XGB             0.117445        96.735002  "
      ]
     },
     "execution_count": 17,
     "metadata": {},
     "output_type": "execute_result"
    },
    {
     "name": "stdout",
     "output_type": "stream",
     "text": [
      "time: 20 ms\n"
     ]
    }
   ],
   "source": [
    "results_df = (\n",
    "    pd.DataFrame(results_).sort_values(by=[\"model_name\"]).reset_index(drop=True)\n",
    ")\n",
    "results_df"
   ]
  },
  {
   "cell_type": "markdown",
   "metadata": {},
   "source": [
    "# Metaclassifier\n",
    "\n",
    "After the binary classifiers are evaluated, the metaclassifiers are evaluated based on the binary predictions. The metaclassifiers' fit and score times are estimated by summing the fit and score times of the base estimators."
   ]
  },
  {
   "cell_type": "code",
   "execution_count": 18,
   "metadata": {},
   "outputs": [
    {
     "name": "stdout",
     "output_type": "stream",
     "text": [
      "time: 16.7 s\n"
     ]
    }
   ],
   "source": [
    "case = \"ternary\"\n",
    "fold_cv_info: List[pd.Series] = [\n",
    "    DATA_CHOOSER[case][fold] for fold in range(N_SPLITS)\n",
    "]  # list indexed by fold\n",
    "\n",
    "predictions_df = pd.DataFrame(predictions_).query(f\"case == '{case}'\")\n",
    "results_df = pd.DataFrame(results_).query(f\"case == '{case}'\")[\n",
    "    [\"model_name\", \"avg_cv_fit_time\", \"avg_cv_predict_time\"]\n",
    "]\n",
    "\n",
    "fitted_stacks, stack_scores = {}, {}\n",
    "blank_scores = lambda: AvgScores(**{field: [] for field in AvgScores._fields})\n",
    "# obtain scores and predictions per fold\n",
    "for fold_num in range(N_SPLITS):\n",
    "\n",
    "    # select y_train and y_test\n",
    "    selected_ys = fold_cv_info[fold_num]\n",
    "    y_train, y_test = selected_ys.y_train, selected_ys.y_test\n",
    "    del selected_ys\n",
    "\n",
    "    # obtain fold predictions\n",
    "    fold_pred_df = predictions_df.query(f\"fold == {fold_num}\")\n",
    "    fold_query_model_pred = lambda model, split: fold_pred_df.query(\n",
    "        f\"model == '{model}' & split == '{split}'\"\n",
    "    ).y_pred.item()\n",
    "    fold_prediction_dfs = {\n",
    "        split: pd.DataFrame(\n",
    "            {model: fold_query_model_pred(model, split) for model in MODELS}\n",
    "        ).drop(\"Dummy\", axis=\"columns\")\n",
    "        for split in {\"train\", \"test\"}\n",
    "    }\n",
    "\n",
    "    # \"fit\"\n",
    "    train_df = fold_prediction_dfs[\"train\"]\n",
    "    for non_xgb_col in train_df.drop(\n",
    "        \"XGB\", axis=\"columns\"\n",
    "    ).columns:  # stacks with 2 models\n",
    "        fitted_stacks[f\"XGB+{non_xgb_col}\"] = make_stack(\n",
    "            train_df[[\"XGB\", non_xgb_col]], y_train\n",
    "        )\n",
    "    for triple in combinations(train_df.columns, 3):  # stacks with 3 models\n",
    "        fitted_stacks[\"+\".join(triple)] = make_stack(train_df[list(triple)], y_train)\n",
    "    # stack with 4 models\n",
    "    fitted_stacks[\"+\".join(train_df.columns)] = make_stack(train_df, y_train)\n",
    "    del train_df\n",
    "\n",
    "    # \"predict\"\n",
    "    test_df = fold_prediction_dfs[\"test\"]\n",
    "    for stack_name, fitted_stack in fitted_stacks.items():\n",
    "        y_pred = fitted_stack.predict(test_df[stack_name.split(\"+\")])\n",
    "        # record y_pred\n",
    "        store_prediction(\n",
    "            where=predictions_,\n",
    "            prediction=Prediction(\n",
    "                model=stack_name,\n",
    "                case=\"ternary\",\n",
    "                fold=fold_num,\n",
    "                y_pred=y_pred,\n",
    "                split=\"test\",\n",
    "            ),\n",
    "        )\n",
    "        # score\n",
    "        score_params = {\n",
    "            \"y_true\": y_test,\n",
    "            \"y_pred\": y_pred,\n",
    "        }\n",
    "        score_store = blank_scores()\n",
    "        score_store.avg_cv_balanced_accuracy.append(\n",
    "            balanced_accuracy_score(**score_params)\n",
    "        )\n",
    "        score_store.avg_cv_f1.append(f1_score(**score_params, average=\"weighted\"))\n",
    "        score_store.avg_cv_geometric_mean.append(geometric_mean_score(**score_params))\n",
    "        stack_scores[stack_name] = score_store\n",
    "        del score_params\n",
    "        del score_store\n",
    "        _ = gc_collect()\n",
    "    del test_df\n",
    "    _ = gc_collect()\n",
    "\n",
    "# store results\n",
    "for stack_name, avg_scores in stack_scores.items():\n",
    "    _df = results_df.loc[results_df.model_name.isin(stack_name.split(\"+\"))]\n",
    "    sum_times = lambda time_metric: _df[time_metric].sum()\n",
    "    store_result(\n",
    "        where=results_,\n",
    "        case=\"ternary\",\n",
    "        model_name=stack_name,\n",
    "        avg_scores=AvgScores(\n",
    "            np.mean(avg_scores.avg_cv_balanced_accuracy),\n",
    "            np.mean(avg_scores.avg_cv_f1),\n",
    "            np.mean(avg_scores.avg_cv_geometric_mean),\n",
    "            sum_times(\"avg_cv_fit_time\"),\n",
    "            sum_times(\"avg_cv_predict_time\"),\n",
    "        ),\n",
    "    )\n",
    "    del _df\n",
    "    del sum_times\n",
    "    _ = gc_collect()\n",
    "\n",
    "# re-define predictions_df and results_df since predictions_ and results_ have been modified\n",
    "predictions_df = pd.DataFrame(predictions_)\n",
    "results_df = pd.DataFrame(results_)"
   ]
  },
  {
   "cell_type": "markdown",
   "metadata": {},
   "source": [
    "Let's peek at the results."
   ]
  },
  {
   "cell_type": "code",
   "execution_count": 19,
   "metadata": {},
   "outputs": [
    {
     "data": {
      "text/html": [
       "<div>\n",
       "<style scoped>\n",
       "    .dataframe tbody tr th:only-of-type {\n",
       "        vertical-align: middle;\n",
       "    }\n",
       "\n",
       "    .dataframe tbody tr th {\n",
       "        vertical-align: top;\n",
       "    }\n",
       "\n",
       "    .dataframe thead th {\n",
       "        text-align: right;\n",
       "    }\n",
       "</style>\n",
       "<table border=\"1\" class=\"dataframe\">\n",
       "  <thead>\n",
       "    <tr style=\"text-align: right;\">\n",
       "      <th></th>\n",
       "      <th>avg_cv_balanced_accuracy</th>\n",
       "      <th>avg_cv_geometric_mean</th>\n",
       "      <th>avg_cv_f1</th>\n",
       "      <th>case</th>\n",
       "      <th>model_name</th>\n",
       "      <th>avg_cv_predict_time</th>\n",
       "      <th>avg_cv_fit_time</th>\n",
       "    </tr>\n",
       "  </thead>\n",
       "  <tbody>\n",
       "    <tr>\n",
       "      <th>0</th>\n",
       "      <td>0.481518</td>\n",
       "      <td>0.473221</td>\n",
       "      <td>0.488883</td>\n",
       "      <td>ternary</td>\n",
       "      <td>AdaBoost</td>\n",
       "      <td>0.165158</td>\n",
       "      <td>340.320800</td>\n",
       "    </tr>\n",
       "    <tr>\n",
       "      <th>1</th>\n",
       "      <td>0.405531</td>\n",
       "      <td>0.304986</td>\n",
       "      <td>0.428443</td>\n",
       "      <td>ternary</td>\n",
       "      <td>AdaBoost+LGBM+RandomForest</td>\n",
       "      <td>0.421207</td>\n",
       "      <td>417.257681</td>\n",
       "    </tr>\n",
       "    <tr>\n",
       "      <th>2</th>\n",
       "      <td>0.447811</td>\n",
       "      <td>0.348130</td>\n",
       "      <td>0.463902</td>\n",
       "      <td>ternary</td>\n",
       "      <td>AdaBoost+LGBM+RandomForest+XGB</td>\n",
       "      <td>0.538652</td>\n",
       "      <td>513.992684</td>\n",
       "    </tr>\n",
       "    <tr>\n",
       "      <th>3</th>\n",
       "      <td>0.480370</td>\n",
       "      <td>0.414800</td>\n",
       "      <td>0.512817</td>\n",
       "      <td>ternary</td>\n",
       "      <td>AdaBoost+LGBM+XGB</td>\n",
       "      <td>0.438059</td>\n",
       "      <td>500.913182</td>\n",
       "    </tr>\n",
       "    <tr>\n",
       "      <th>4</th>\n",
       "      <td>0.450083</td>\n",
       "      <td>0.350779</td>\n",
       "      <td>0.465562</td>\n",
       "      <td>ternary</td>\n",
       "      <td>AdaBoost+RandomForest+XGB</td>\n",
       "      <td>0.383196</td>\n",
       "      <td>450.135304</td>\n",
       "    </tr>\n",
       "    <tr>\n",
       "      <th>5</th>\n",
       "      <td>0.333333</td>\n",
       "      <td>0.000000</td>\n",
       "      <td>0.204143</td>\n",
       "      <td>ternary</td>\n",
       "      <td>Dummy</td>\n",
       "      <td>0.000000</td>\n",
       "      <td>0.004855</td>\n",
       "    </tr>\n",
       "    <tr>\n",
       "      <th>6</th>\n",
       "      <td>0.541516</td>\n",
       "      <td>0.504539</td>\n",
       "      <td>0.584568</td>\n",
       "      <td>ternary</td>\n",
       "      <td>LGBM</td>\n",
       "      <td>0.155456</td>\n",
       "      <td>63.857379</td>\n",
       "    </tr>\n",
       "    <tr>\n",
       "      <th>7</th>\n",
       "      <td>0.447811</td>\n",
       "      <td>0.348130</td>\n",
       "      <td>0.463902</td>\n",
       "      <td>ternary</td>\n",
       "      <td>LGBM+RandomForest+XGB</td>\n",
       "      <td>0.373494</td>\n",
       "      <td>173.671884</td>\n",
       "    </tr>\n",
       "    <tr>\n",
       "      <th>8</th>\n",
       "      <td>0.452871</td>\n",
       "      <td>0.380705</td>\n",
       "      <td>0.517582</td>\n",
       "      <td>ternary</td>\n",
       "      <td>RandomForest</td>\n",
       "      <td>0.100593</td>\n",
       "      <td>13.079502</td>\n",
       "    </tr>\n",
       "    <tr>\n",
       "      <th>9</th>\n",
       "      <td>0.528232</td>\n",
       "      <td>0.484352</td>\n",
       "      <td>0.582361</td>\n",
       "      <td>ternary</td>\n",
       "      <td>XGB</td>\n",
       "      <td>0.117445</td>\n",
       "      <td>96.735002</td>\n",
       "    </tr>\n",
       "    <tr>\n",
       "      <th>10</th>\n",
       "      <td>0.480370</td>\n",
       "      <td>0.414800</td>\n",
       "      <td>0.512817</td>\n",
       "      <td>ternary</td>\n",
       "      <td>XGB+AdaBoost</td>\n",
       "      <td>0.282603</td>\n",
       "      <td>437.055802</td>\n",
       "    </tr>\n",
       "    <tr>\n",
       "      <th>11</th>\n",
       "      <td>0.480370</td>\n",
       "      <td>0.414800</td>\n",
       "      <td>0.512817</td>\n",
       "      <td>ternary</td>\n",
       "      <td>XGB+LGBM</td>\n",
       "      <td>0.272901</td>\n",
       "      <td>160.592382</td>\n",
       "    </tr>\n",
       "    <tr>\n",
       "      <th>12</th>\n",
       "      <td>0.413393</td>\n",
       "      <td>0.308992</td>\n",
       "      <td>0.435095</td>\n",
       "      <td>ternary</td>\n",
       "      <td>XGB+RandomForest</td>\n",
       "      <td>0.218038</td>\n",
       "      <td>109.814505</td>\n",
       "    </tr>\n",
       "  </tbody>\n",
       "</table>\n",
       "</div>"
      ],
      "text/plain": [
       "    avg_cv_balanced_accuracy  avg_cv_geometric_mean  avg_cv_f1     case  \\\n",
       "0                   0.481518               0.473221   0.488883  ternary   \n",
       "1                   0.405531               0.304986   0.428443  ternary   \n",
       "2                   0.447811               0.348130   0.463902  ternary   \n",
       "3                   0.480370               0.414800   0.512817  ternary   \n",
       "4                   0.450083               0.350779   0.465562  ternary   \n",
       "5                   0.333333               0.000000   0.204143  ternary   \n",
       "6                   0.541516               0.504539   0.584568  ternary   \n",
       "7                   0.447811               0.348130   0.463902  ternary   \n",
       "8                   0.452871               0.380705   0.517582  ternary   \n",
       "9                   0.528232               0.484352   0.582361  ternary   \n",
       "10                  0.480370               0.414800   0.512817  ternary   \n",
       "11                  0.480370               0.414800   0.512817  ternary   \n",
       "12                  0.413393               0.308992   0.435095  ternary   \n",
       "\n",
       "                        model_name  avg_cv_predict_time  avg_cv_fit_time  \n",
       "0                         AdaBoost             0.165158       340.320800  \n",
       "1       AdaBoost+LGBM+RandomForest             0.421207       417.257681  \n",
       "2   AdaBoost+LGBM+RandomForest+XGB             0.538652       513.992684  \n",
       "3                AdaBoost+LGBM+XGB             0.438059       500.913182  \n",
       "4        AdaBoost+RandomForest+XGB             0.383196       450.135304  \n",
       "5                            Dummy             0.000000         0.004855  \n",
       "6                             LGBM             0.155456        63.857379  \n",
       "7            LGBM+RandomForest+XGB             0.373494       173.671884  \n",
       "8                     RandomForest             0.100593        13.079502  \n",
       "9                              XGB             0.117445        96.735002  \n",
       "10                    XGB+AdaBoost             0.282603       437.055802  \n",
       "11                        XGB+LGBM             0.272901       160.592382  \n",
       "12                XGB+RandomForest             0.218038       109.814505  "
      ]
     },
     "execution_count": 19,
     "metadata": {},
     "output_type": "execute_result"
    },
    {
     "name": "stdout",
     "output_type": "stream",
     "text": [
      "time: 20 ms\n"
     ]
    }
   ],
   "source": [
    "results_df = (\n",
    "    pd.DataFrame(results_).sort_values(by=[\"model_name\"]).reset_index(drop=True)\n",
    ")\n",
    "results_df"
   ]
  },
  {
   "cell_type": "markdown",
   "metadata": {},
   "source": [
    "# Results\n",
    "\n",
    "In this section, we create several visualizations to display the results."
   ]
  },
  {
   "cell_type": "code",
   "execution_count": 20,
   "metadata": {},
   "outputs": [
    {
     "name": "stdout",
     "output_type": "stream",
     "text": [
      "time: 116 ms\n"
     ]
    }
   ],
   "source": [
    "METRIC_NAMES = {\n",
    "    \"avg_cv_balanced_accuracy\": \"balanced accuracy\",\n",
    "    \"avg_cv_f1\": \"F1 score\",\n",
    "    \"avg_cv_fit_time\": \"fit time\",\n",
    "    \"avg_cv_geometric_mean\": \"geometric mean\",\n",
    "    \"avg_cv_predict_time\": \"predict time\",\n",
    "}\n",
    "\n",
    "_ = gc_collect()"
   ]
  },
  {
   "cell_type": "code",
   "execution_count": 21,
   "metadata": {},
   "outputs": [
    {
     "name": "stdout",
     "output_type": "stream",
     "text": [
      "time: 117 ms\n"
     ]
    }
   ],
   "source": [
    "def plot_ternary_metric(metric: str, results_df: pd.DataFrame) -> None:\n",
    "    \"\"\"Draw a barplot by ternary classifier.\"\"\"\n",
    "    time_metric = \"time\" in metric\n",
    "    results_df = results_df.sort_values(by=metric, ascending=time_metric)\n",
    "    if time_metric:\n",
    "        # When plotting fit/predict times, the dummy+dummy classifier is omitted since it is always the fastest.\n",
    "        results_df = results_df.loc[~results_df.model_name.str.contains(\"Dummy\")]\n",
    "\n",
    "    g = sns.catplot(\n",
    "        x=metric,\n",
    "        y=\"model_name\",\n",
    "        data=results_df,\n",
    "        seed=SEED,\n",
    "        kind=\"bar\",\n",
    "        palette=\"colorblind\",\n",
    "        alpha=0.65,\n",
    "    )\n",
    "    g.fig.set_figwidth(8)\n",
    "    g.despine(**dict.fromkeys((\"bottom\", \"left\", \"top\", \"right\"), True))\n",
    "\n",
    "    ax = plt.gca()\n",
    "    plt.setp(ax.patches, linewidth=0)\n",
    "    ax.tick_params(axis=\"x\", labelbottom=True, labeltop=True)\n",
    "\n",
    "    if not time_metric:\n",
    "        plt.xlim(0, 1)\n",
    "    plt.xlabel(\"\")\n",
    "    plt.ylabel(\"\")\n",
    "\n",
    "    plt.suptitle(f\"{METRIC_NAMES[metric]}{' (s)' if time_metric else ''}\", x=0.15)\n",
    "    plt.tight_layout()\n",
    "    plt.show()\n",
    "\n",
    "\n",
    "_ = gc_collect()"
   ]
  },
  {
   "cell_type": "code",
   "execution_count": 22,
   "metadata": {},
   "outputs": [
    {
     "data": {
      "application/vnd.jupyter.widget-view+json": {
       "model_id": "5e097c45b6d5490e9444f2d46602144c",
       "version_major": 2,
       "version_minor": 0
      },
      "text/plain": [
       "  0%|          | 0/5 [00:00<?, ?it/s]"
      ]
     },
     "metadata": {},
     "output_type": "display_data"
    },
    {
     "data": {
      "image/png": "[encoded data removed]",
      "text/plain": [
       "<Figure size 576x360 with 1 Axes>"
      ]
     },
     "metadata": {
      "needs_background": "light"
     },
     "output_type": "display_data"
    },
    {
     "data": {
      "image/png": "[encoded data removed]",
      "text/plain": [
       "<Figure size 576x360 with 1 Axes>"
      ]
     },
     "metadata": {
      "needs_background": "light"
     },
     "output_type": "display_data"
    },
    {
     "data": {
      "image/png": "[encoded data removed]",
      "text/plain": [
       "<Figure size 576x360 with 1 Axes>"
      ]
     },
     "metadata": {
      "needs_background": "light"
     },
     "output_type": "display_data"
    },
    {
     "data": {
      "image/png": "[encoded data removed]",
      "text/plain": [
       "<Figure size 576x360 with 1 Axes>"
      ]
     },
     "metadata": {
      "needs_background": "light"
     },
     "output_type": "display_data"
    },
    {
     "data": {
      "image/png": "[encoded data removed]",
      "text/plain": [
       "<Figure size 576x360 with 1 Axes>"
      ]
     },
     "metadata": {
      "needs_background": "light"
     },
     "output_type": "display_data"
    },
    {
     "name": "stdout",
     "output_type": "stream",
     "text": [
      "time: 2.19 s\n"
     ]
    }
   ],
   "source": [
    "for metric in tqdm(METRICS):\n",
    "    plot_ternary_metric(metric, results_df)"
   ]
  },
  {
   "cell_type": "markdown",
   "metadata": {},
   "source": [
    "## Classifier prediction correlation\n",
    "\n",
    "In this section, we assess the correlation between each model's predictions. Performant and uncorrelated models are ideal for a potential stacked classifier.\n",
    "\n",
    "For each case, pairwise Pearson correlations are calculated between model predictions and the absolute values of the correlation coefficients averaged over the folds. This is not a statistically pure approach since better methods for assessing categorical correlations (e.g., Cramer's V or Theil's U) exist and the Fisher's Z transformation was omitted, but it should be good enough; we just need to assess co-occurence to see which are most unassociated."
   ]
  },
  {
   "cell_type": "code",
   "execution_count": 23,
   "metadata": {},
   "outputs": [
    {
     "name": "stderr",
     "output_type": "stream",
     "text": [
      "Pandas Apply: 100%|██████████| 5/5 [00:00<?, ?it/s]\n",
      "Pandas Apply: 100%|██████████| 5/5 [00:00<?, ?it/s]\n",
      "Pandas Apply: 100%|██████████| 5/5 [00:00<00:00, 320.00it/s]\n",
      "Pandas Apply: 100%|██████████| 5/5 [00:00<?, ?it/s]\n",
      "Pandas Apply: 100%|██████████| 5/5 [00:00<?, ?it/s]\n"
     ]
    },
    {
     "name": "stdout",
     "output_type": "stream",
     "text": [
      "time: 898 ms\n"
     ]
    }
   ],
   "source": [
    "fold_correlations = []\n",
    "for fold in range(N_SPLITS):\n",
    "    df = predictions_df.query(f\"fold == {fold} & split == 'test'\")\n",
    "    df = (\n",
    "        pd.DataFrame(\n",
    "            {model: df.loc[df.model == model, \"y_pred\"].item() for model in MODELS}\n",
    "        )\n",
    "        .corr()\n",
    "        .swifter.apply(abs)\n",
    "    )\n",
    "    fold_correlations.append(df)\n",
    "    del df\n",
    "    _ = gc_collect()\n",
    "prediction_correlations = (_ := pd.concat(fold_correlations)).groupby(_.index).mean()\n",
    "\n",
    "del fold_correlations\n",
    "_ = gc_collect()"
   ]
  },
  {
   "cell_type": "code",
   "execution_count": 24,
   "metadata": {},
   "outputs": [
    {
     "data": {
      "text/plain": [
       "<Figure size 576x576 with 0 Axes>"
      ]
     },
     "execution_count": 24,
     "metadata": {},
     "output_type": "execute_result"
    },
    {
     "data": {
      "text/plain": [
       "Text(0.5, 0.98, 'prediction correlations of base estimators')"
      ]
     },
     "execution_count": 24,
     "metadata": {},
     "output_type": "execute_result"
    },
    {
     "data": {
      "text/plain": [
       "(array([0.5, 1.5, 2.5, 3.5]),\n",
       " [Text(0, 0.5, 'AdaBoost'),\n",
       "  Text(0, 1.5, 'LGBM'),\n",
       "  Text(0, 2.5, 'RandomForest'),\n",
       "  Text(0, 3.5, 'XGB')])"
      ]
     },
     "execution_count": 24,
     "metadata": {},
     "output_type": "execute_result"
    },
    {
     "data": {
      "image/png": "[encoded data removed]",
      "text/plain": [
       "<Figure size 576x576 with 2 Axes>"
      ]
     },
     "metadata": {
      "needs_background": "light"
     },
     "output_type": "display_data"
    },
    {
     "name": "stdout",
     "output_type": "stream",
     "text": [
      "time: 394 ms\n"
     ]
    }
   ],
   "source": [
    "# plot heatmap for prediction correlations\n",
    "plt.figure(figsize=(8, 8))\n",
    "df = prediction_correlations.dropna(axis=\"columns\", how=\"all\").dropna(\n",
    "    axis=\"index\", how=\"all\"\n",
    ")\n",
    "g = sns.heatmap(\n",
    "    data=df,\n",
    "    vmin=0,\n",
    "    vmax=1,\n",
    "    cmap=\"coolwarm\",\n",
    "    square=True,\n",
    "    mask=np.triu(np.ones_like(df, dtype=bool)),\n",
    ")\n",
    "plt.suptitle(f\"prediction correlations of base estimators\")\n",
    "plt.yticks(rotation=0)\n",
    "plt.tight_layout()\n",
    "plt.show()\n",
    "\n",
    "del df\n",
    "del g\n",
    "_ = gc_collect()"
   ]
  },
  {
   "cell_type": "code",
   "execution_count": 25,
   "metadata": {},
   "outputs": [
    {
     "name": "stdout",
     "output_type": "stream",
     "text": [
      "time: 8.97 ms\n"
     ]
    }
   ],
   "source": [
    "# save table of results\n",
    "results_df.to_csv(\n",
    "    f\"{DATA_OUT_FOLDER}/explore_tree-based_models_results_CV{N_SPLITS}.csv\"\n",
    ")"
   ]
  },
  {
   "cell_type": "markdown",
   "metadata": {},
   "source": [
    "# Discussion\n",
    "\n",
    "LGBM appears to be the most skilled of the tree methods considered. It is also the second fastest.\n",
    "\n",
    "Ensembling with LogisticRegression did not improve performance. In fact, ensembling appeared to degrade performance.\n",
    "\n",
    "I am happy to remove all tree-based classifiers but LGBM from further consideration."
   ]
  },
  {
   "cell_type": "code",
   "execution_count": 26,
   "metadata": {},
   "outputs": [
    {
     "name": "stdout",
     "output_type": "stream",
     "text": [
      "Time elapsed since notebook_begin_time: 2786.2545278072357 s\n",
      "time: 115 ms\n"
     ]
    }
   ],
   "source": [
    "print(f\"Time elapsed since notebook_begin_time: {time() - notebook_begin_time} s\")\n",
    "_ = gc_collect()"
   ]
  },
  {
   "cell_type": "markdown",
   "metadata": {},
   "source": [
    "[^top](#Contents)"
   ]
  },
  {
   "cell_type": "code",
   "execution_count": null,
   "metadata": {},
   "outputs": [],
   "source": []
  }
 ],
 "metadata": {
  "interpreter": {
   "hash": "e1781be99c106060f3abc0c9b91d3d379f24672894e2158d4b74304109955878"
  },
  "kernelspec": {
   "display_name": "capstone_pyspark_38",
   "language": "python",
   "name": "python3"
  },
  "language_info": {
   "codemirror_mode": {
    "name": "ipython",
    "version": 3
   },
   "file_extension": ".py",
   "mimetype": "text/x-python",
   "name": "python",
   "nbconvert_exporter": "python",
   "pygments_lexer": "ipython3",
   "version": "3.8.12"
  }
 },
 "nbformat": 4,
 "nbformat_minor": 4
}
