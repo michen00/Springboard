{
 "cells": [
  {
   "cell_type": "markdown",
   "metadata": {},
   "source": [
    "# Contents\n",
    "* [Introduction](#Introduction)\n",
    "* [Imports and configuration](#Imports-and-configuration)\n",
    "* [Data loading](#Data-loading)\n",
    "* [Models](#Models)\n",
    "* [Test harness](#Test-harness)\n",
    "* [Results](#Results)\n",
    "* [Discussion](#Discussion)"
   ]
  },
  {
   "cell_type": "markdown",
   "metadata": {},
   "source": [
    "# Introduction\n",
    "\n",
    "In this notebook, we consider the effect of calibration with the following classifiers:\n",
    "* LinearDiscrimantAnalysis\n",
    "* LogisticRegression\n",
    "* RidgeClassifier\n",
    "* SGDClassifier\n",
    "* SVC\n",
    "\n",
    "5-fold train-test splits with scaling, dimensionality reduction, and resampling have already been preprocessed on the full dataset. The results are visualized and discussed."
   ]
  },
  {
   "cell_type": "markdown",
   "metadata": {},
   "source": [
    "# Imports and configuration"
   ]
  },
  {
   "cell_type": "code",
   "execution_count": 1,
   "metadata": {},
   "outputs": [],
   "source": [
    "from time import time\n",
    "\n",
    "notebook_begin_time = time()\n",
    "\n",
    "# set random seeds\n",
    "\n",
    "from os import environ\n",
    "from random import seed as random_seed\n",
    "from numpy.random import seed as np_seed\n",
    "from tensorflow.random import set_seed\n",
    "\n",
    "\n",
    "def reset_seeds(seed: int) -> None:\n",
    "    \"\"\"Utility function for resetting random seeds\"\"\"\n",
    "    environ[\"PYTHONHASHSEED\"] = str(seed)\n",
    "    random_seed(seed)\n",
    "    np_seed(seed)\n",
    "    set_seed(seed)\n",
    "\n",
    "\n",
    "reset_seeds(SEED := 2021)\n",
    "del environ\n",
    "del random_seed\n",
    "del np_seed\n",
    "del set_seed\n",
    "del reset_seeds"
   ]
  },
  {
   "cell_type": "code",
   "execution_count": 2,
   "metadata": {},
   "outputs": [],
   "source": [
    "# extensions\n",
    "%load_ext autotime\n",
    "%load_ext lab_black\n",
    "%load_ext nb_black"
   ]
  },
  {
   "cell_type": "code",
   "execution_count": 3,
   "metadata": {},
   "outputs": [
    {
     "name": "stderr",
     "output_type": "stream",
     "text": [
      "Intel(R) Extension for Scikit-learn* enabled (https://github.com/intel/scikit-learn-intelex)\n"
     ]
    },
    {
     "name": "stdout",
     "output_type": "stream",
     "text": [
      "time: 6.42 s\n"
     ]
    }
   ],
   "source": [
    "# core\n",
    "import numpy as np\n",
    "import pandas as pd\n",
    "\n",
    "# utility\n",
    "from collections import namedtuple\n",
    "from gc import collect as gc_collect\n",
    "from os.path import exists\n",
    "from tqdm.notebook import tqdm\n",
    "\n",
    "# typing\n",
    "from typing import Dict, List, Union\n",
    "\n",
    "# faster pandas & sklearn\n",
    "import swifter\n",
    "from sklearnex import patch_sklearn\n",
    "\n",
    "patch_sklearn()\n",
    "del patch_sklearn\n",
    "\n",
    "# metrics\n",
    "from imblearn.metrics import geometric_mean_score\n",
    "from sklearn.metrics import balanced_accuracy_score, f1_score, roc_auc_score\n",
    "\n",
    "# classifiers\n",
    "from sklearn.discriminant_analysis import LinearDiscriminantAnalysis\n",
    "from sklearn.linear_model import (\n",
    "    LogisticRegression,\n",
    "    RidgeClassifier,\n",
    "    SGDClassifier,\n",
    ")\n",
    "\n",
    "# calibration\n",
    "from sklearn.calibration import CalibratedClassifierCV\n",
    "from sklearn.model_selection import StratifiedKFold\n",
    "\n",
    "# visualization\n",
    "import matplotlib.pyplot as plt\n",
    "import seaborn as sns\n",
    "\n",
    "sns.set_context(\"notebook\")\n",
    "sns.set_style(\"whitegrid\")\n",
    "%matplotlib inline\n",
    "\n",
    "# display outputs w/o print calls\n",
    "from IPython.core.interactiveshell import InteractiveShell\n",
    "\n",
    "InteractiveShell.ast_node_interactivity = \"all\"\n",
    "del InteractiveShell\n",
    "\n",
    "# hide warnings\n",
    "import warnings\n",
    "\n",
    "warnings.filterwarnings(\"ignore\")\n",
    "del warnings"
   ]
  },
  {
   "cell_type": "code",
   "execution_count": 4,
   "metadata": {},
   "outputs": [
    {
     "name": "stdout",
     "output_type": "stream",
     "text": [
      "time: 109 ms\n"
     ]
    }
   ],
   "source": [
    "# Location of cross validation .feather files\n",
    "FRILL_FEATHERS_FOLDER = \"../10.0-mic-prepare_train-test_splits_on_full_data\"\n",
    "\n",
    "# Location where this notebook will output\n",
    "DATA_OUT_FOLDER = \".\"\n",
    "\n",
    "_ = gc_collect()"
   ]
  },
  {
   "cell_type": "markdown",
   "metadata": {},
   "source": [
    "# Setup\n",
    "\n",
    "In this section, we define some structures to keep track of models and scores.\n",
    "\n",
    "The next cell defines a Python dictionary to record the results of cross validation such that the results may be easily cast to a `pandas` dataframe."
   ]
  },
  {
   "cell_type": "code",
   "execution_count": 5,
   "metadata": {},
   "outputs": [
    {
     "name": "stdout",
     "output_type": "stream",
     "text": [
      "time: 116 ms\n"
     ]
    }
   ],
   "source": [
    "METRICS = (\n",
    "    \"balanced_accuracy\",\n",
    "    \"f1\",\n",
    "    \"geometric_mean\",\n",
    "    \"roc_auc\",\n",
    "    \"fit_time\",\n",
    "    \"predict_time\",\n",
    ")\n",
    "\n",
    "# to be cast to pd.DataFrame\n",
    "make_results = lambda: {key: [] for key in {\"model_name\", \"case\", *METRICS}}\n",
    "results_ = make_results()\n",
    "\n",
    "AvgScores = namedtuple(\"AvgScores\", METRICS)\n",
    "\n",
    "\n",
    "def store_result(\n",
    "    where: Dict[str, List],\n",
    "    case: str,\n",
    "    model_name: str,\n",
    "    avg_scores: AvgScores,\n",
    ") -> None:\n",
    "    \"Appends a model's scores and fit/predict times to the results dict.\"\n",
    "    for attribute, value in {\n",
    "        \"model_name\": model_name,\n",
    "        \"case\": case,\n",
    "        **avg_scores._asdict(),\n",
    "    }.items():\n",
    "        where[attribute].append(value)\n",
    "\n",
    "\n",
    "ALL_CASES = {\"ternary\"}\n",
    "\n",
    "_ = gc_collect()"
   ]
  },
  {
   "cell_type": "code",
   "execution_count": 6,
   "metadata": {},
   "outputs": [
    {
     "name": "stdout",
     "output_type": "stream",
     "text": [
      "time: 119 ms\n"
     ]
    }
   ],
   "source": [
    "predictions_ = {key: [] for key in {\"model\", \"case\", \"fold\", \"y_pred\"}}\n",
    "\n",
    "Prediction = namedtuple(\"Prediction\", predictions_.keys())\n",
    "\n",
    "\n",
    "def store_prediction(where: Dict[str, List], prediction: Prediction) -> None:\n",
    "    \"Records the y_pred of a classifier on a fold\"\n",
    "    for k, v in prediction._asdict().items():\n",
    "        where[k].append(v)\n",
    "\n",
    "\n",
    "_ = gc_collect()"
   ]
  },
  {
   "cell_type": "markdown",
   "metadata": {},
   "source": [
    "# Models\n",
    "\n",
    "Thanks to FRILL, we may now use the gamut of binary classifiers.\n",
    "\n",
    "For the most part, the default settings of each classifier are used. Where possible, the seed is set and all available cores are used. Class weight parameters are set to address class imbalance. Each classifier is wrapped in a lambda function to ensure a brand new model is initialized each time the function is called.\n",
    "\n",
    "I was going to include SVC, but it trained for over two hours and still hadn't completed a single fold."
   ]
  },
  {
   "cell_type": "code",
   "execution_count": 7,
   "metadata": {},
   "outputs": [
    {
     "name": "stdout",
     "output_type": "stream",
     "text": [
      "time: 101 ms\n"
     ]
    }
   ],
   "source": [
    "MODELS = {\n",
    "    \"LDA\": lambda: LinearDiscriminantAnalysis(),\n",
    "    \"LogReg\": lambda: LogisticRegression(\n",
    "        class_weight=\"balanced\", random_state=SEED, n_jobs=-1\n",
    "    ),\n",
    "    \"Ridge\": lambda: RidgeClassifier(class_weight=\"balanced\", random_state=SEED),\n",
    "    \"SGD\": lambda: SGDClassifier(n_jobs=-1, random_state=SEED, class_weight=\"balanced\"),\n",
    "}\n",
    "\n",
    "_ = gc_collect()"
   ]
  },
  {
   "cell_type": "markdown",
   "metadata": {},
   "source": [
    "# Test harness\n",
    "\n",
    "This section defines functions for evaluating models."
   ]
  },
  {
   "cell_type": "code",
   "execution_count": 8,
   "metadata": {},
   "outputs": [
    {
     "name": "stdout",
     "output_type": "stream",
     "text": [
      "time: 117 ms\n"
     ]
    }
   ],
   "source": [
    "def prep_y_pred(label: Union[int, bool], case: str) -> List:\n",
    "    \"\"\"Prepares labels for AUROC scoring\"\"\"\n",
    "    if \"ternary\" in case:\n",
    "        _ = [0, 0, 0]\n",
    "        _[int(label)] = 1\n",
    "        return np.asarray(_, dtype=np.int8)\n",
    "    else:\n",
    "        return label\n",
    "\n",
    "\n",
    "def evaluate_model(\n",
    "    model_base: str, case: str, track_fold_time: bool = True\n",
    ") -> AvgScores:\n",
    "    \"\"\"Evaluate a model with cross validation on prepared folds.\"\"\"\n",
    "\n",
    "    fit_times, predict_times, balanced_accuracy, f1, geometric_mean, roc_auc = (\n",
    "        [],\n",
    "        [],\n",
    "        [],\n",
    "        [],\n",
    "        [],\n",
    "        [],\n",
    "    )\n",
    "    fold_num = 0\n",
    "    while True:\n",
    "        if track_fold_time:\n",
    "            fold_begin = time()\n",
    "\n",
    "        # helper function\n",
    "        read_feather_cv = lambda _set: pd.read_feather(\n",
    "            f\"{FRILL_FEATHERS_FOLDER}/cv_{fold_num}/{_set}{'' if _set == 'X_test' else f'_{case[:3]}'}.feather\"\n",
    "        )\n",
    "\n",
    "        # load training data\n",
    "        try:\n",
    "            X_train, y_train = read_feather_cv(\"X_train\"), np.squeeze(\n",
    "                read_feather_cv(\"y_train\").values\n",
    "            )\n",
    "        except FileNotFoundError:\n",
    "            break\n",
    "\n",
    "        # initialize model\n",
    "        model = CalibratedClassifierCV(\n",
    "            base_estimator=MODELS[model_base](),\n",
    "            cv=StratifiedKFold(n_splits=3, shuffle=True, random_state=SEED),\n",
    "            n_jobs=-1,\n",
    "        )\n",
    "\n",
    "        # fit\n",
    "        begin = time()\n",
    "        model.fit(X_train, y_train)\n",
    "        end = time()\n",
    "        del X_train\n",
    "        del y_train\n",
    "        _ = gc_collect()\n",
    "        fit_times.append(end - begin)\n",
    "        print(f\"fitted in {end - begin:.2f} s\")\n",
    "\n",
    "        # load test data\n",
    "        X_test = read_feather_cv(\"X_test\")\n",
    "\n",
    "        # predict\n",
    "        begin = time()\n",
    "        predicted = model.predict(X_test)\n",
    "        end = time()\n",
    "        del X_test\n",
    "        del model\n",
    "        _ = gc_collect()\n",
    "        predict_times.append(end - begin)\n",
    "        print(f\"predicted in {end - begin:.2f} s\")\n",
    "        del end\n",
    "        del begin\n",
    "        _ = gc_collect()\n",
    "        store_prediction(\n",
    "            where=predictions_,\n",
    "            prediction=Prediction(\n",
    "                model=model_base,\n",
    "                case=case,\n",
    "                fold=fold_num,\n",
    "                y_pred=predicted,\n",
    "            ),\n",
    "        )\n",
    "\n",
    "        # score\n",
    "        score_params = {\n",
    "            \"y_true\": np.squeeze(read_feather_cv(\"y_test\").values),\n",
    "            \"y_pred\": predicted,\n",
    "        }\n",
    "        balanced_accuracy.append(balanced_accuracy_score(**score_params, adjusted=True))\n",
    "        f1.append(f1_score(**score_params, average=\"weighted\"))\n",
    "        geometric_mean.append(geometric_mean_score(**score_params))\n",
    "        roc_auc.append(\n",
    "            roc_auc_score(\n",
    "                y_true=score_params[\"y_true\"].astype(np.int8),\n",
    "                y_score=np.stack(\n",
    "                    pd.Series(score_params[\"y_pred\"]).swifter.apply(\n",
    "                        prep_y_pred, case=case\n",
    "                    )\n",
    "                ),\n",
    "                average=\"weighted\",\n",
    "                multi_class=\"ovo\",\n",
    "            )\n",
    "        )\n",
    "        del score_params\n",
    "        del predicted\n",
    "        _ = gc_collect()\n",
    "\n",
    "        if track_fold_time:\n",
    "            print(\n",
    "                f\"{model_base} fold {fold_num + 1} completed in {time() - fold_begin:.2f} s\"\n",
    "            )\n",
    "            del fold_begin\n",
    "\n",
    "        fold_num += 1\n",
    "        _ = gc_collect()\n",
    "\n",
    "    return AvgScores(\n",
    "        *[\n",
    "            np.mean(_)\n",
    "            for _ in (\n",
    "                balanced_accuracy,\n",
    "                f1,\n",
    "                geometric_mean,\n",
    "                roc_auc,\n",
    "                fit_times,\n",
    "                predict_times,\n",
    "            )\n",
    "        ]\n",
    "    )\n",
    "\n",
    "\n",
    "_ = gc_collect()"
   ]
  },
  {
   "cell_type": "markdown",
   "metadata": {},
   "source": [
    "The next cell evaluates models."
   ]
  },
  {
   "cell_type": "code",
   "execution_count": 9,
   "metadata": {},
   "outputs": [
    {
     "data": {
      "application/vnd.jupyter.widget-view+json": {
       "model_id": "b5fd49768f844f53ad0a1833451dd20b",
       "version_major": 2,
       "version_minor": 0
      },
      "text/plain": [
       "  0%|          | 0/4 [00:00<?, ?it/s]"
      ]
     },
     "metadata": {},
     "output_type": "display_data"
    },
    {
     "name": "stdout",
     "output_type": "stream",
     "text": [
      "evaluating LDA...\n",
      "fitted in 155.76 s\n",
      "predicted in 0.83 s\n"
     ]
    },
    {
     "name": "stderr",
     "output_type": "stream",
     "text": [
      "Pandas Apply: 100%|██████████| 13494/13494 [00:00<00:00, 148269.66it/s]\n"
     ]
    },
    {
     "name": "stdout",
     "output_type": "stream",
     "text": [
      "LDA fold 1 completed in 161.48 s\n",
      "fitted in 152.24 s\n",
      "predicted in 0.14 s\n"
     ]
    },
    {
     "name": "stderr",
     "output_type": "stream",
     "text": [
      "Pandas Apply: 100%|██████████| 11524/11524 [00:00<00:00, 155646.73it/s]\n"
     ]
    },
    {
     "name": "stdout",
     "output_type": "stream",
     "text": [
      "LDA fold 2 completed in 158.14 s\n",
      "fitted in 136.41 s\n",
      "predicted in 0.20 s\n"
     ]
    },
    {
     "name": "stderr",
     "output_type": "stream",
     "text": [
      "Pandas Apply: 100%|██████████| 19319/19319 [00:00<00:00, 176622.39it/s]\n"
     ]
    },
    {
     "name": "stdout",
     "output_type": "stream",
     "text": [
      "LDA fold 3 completed in 142.46 s\n",
      "fitted in 106.02 s\n",
      "predicted in 0.27 s\n"
     ]
    },
    {
     "name": "stderr",
     "output_type": "stream",
     "text": [
      "Pandas Apply: 100%|██████████| 25883/25883 [00:00<00:00, 137001.26it/s]\n"
     ]
    },
    {
     "name": "stdout",
     "output_type": "stream",
     "text": [
      "LDA fold 4 completed in 112.22 s\n",
      "fitted in 131.95 s\n",
      "predicted in 0.21 s\n"
     ]
    },
    {
     "name": "stderr",
     "output_type": "stream",
     "text": [
      "Pandas Apply: 100%|██████████| 16532/16532 [00:00<00:00, 173070.21it/s]\n"
     ]
    },
    {
     "name": "stdout",
     "output_type": "stream",
     "text": [
      "LDA fold 5 completed in 138.06 s\n",
      "stored LDA for ternary classification in 712.96 s\n",
      "evaluating LogReg...\n",
      "fitted in 53.05 s\n",
      "predicted in 0.15 s\n"
     ]
    },
    {
     "name": "stderr",
     "output_type": "stream",
     "text": [
      "Pandas Apply: 100%|██████████| 13494/13494 [00:00<00:00, 180213.20it/s]\n"
     ]
    },
    {
     "name": "stdout",
     "output_type": "stream",
     "text": [
      "LogReg fold 1 completed in 57.80 s\n",
      "fitted in 54.99 s\n",
      "predicted in 0.15 s\n"
     ]
    },
    {
     "name": "stderr",
     "output_type": "stream",
     "text": [
      "Pandas Apply: 100%|██████████| 11524/11524 [00:00<00:00, 146684.43it/s]\n"
     ]
    },
    {
     "name": "stdout",
     "output_type": "stream",
     "text": [
      "LogReg fold 2 completed in 58.93 s\n",
      "fitted in 50.49 s\n",
      "predicted in 0.19 s\n"
     ]
    },
    {
     "name": "stderr",
     "output_type": "stream",
     "text": [
      "Pandas Apply: 100%|██████████| 19319/19319 [00:00<00:00, 157256.28it/s]\n"
     ]
    },
    {
     "name": "stdout",
     "output_type": "stream",
     "text": [
      "LogReg fold 3 completed in 54.21 s\n",
      "fitted in 39.67 s\n",
      "predicted in 0.19 s\n"
     ]
    },
    {
     "name": "stderr",
     "output_type": "stream",
     "text": [
      "Pandas Apply: 100%|██████████| 25883/25883 [00:00<00:00, 160970.39it/s]\n"
     ]
    },
    {
     "name": "stdout",
     "output_type": "stream",
     "text": [
      "LogReg fold 4 completed in 43.23 s\n",
      "fitted in 52.66 s\n",
      "predicted in 0.17 s\n"
     ]
    },
    {
     "name": "stderr",
     "output_type": "stream",
     "text": [
      "Pandas Apply: 100%|██████████| 16532/16532 [00:00<00:00, 143137.19it/s]\n"
     ]
    },
    {
     "name": "stdout",
     "output_type": "stream",
     "text": [
      "LogReg fold 5 completed in 56.34 s\n",
      "stored LogReg for ternary classification in 271.09 s\n",
      "evaluating Ridge...\n",
      "fitted in 28.93 s\n",
      "predicted in 0.17 s\n"
     ]
    },
    {
     "name": "stderr",
     "output_type": "stream",
     "text": [
      "Pandas Apply: 100%|██████████| 13494/13494 [00:00<00:00, 186561.60it/s]\n"
     ]
    },
    {
     "name": "stdout",
     "output_type": "stream",
     "text": [
      "Ridge fold 1 completed in 34.19 s\n",
      "fitted in 30.60 s\n",
      "predicted in 0.20 s\n"
     ]
    },
    {
     "name": "stderr",
     "output_type": "stream",
     "text": [
      "Pandas Apply: 100%|██████████| 11524/11524 [00:00<00:00, 149599.99it/s]\n"
     ]
    },
    {
     "name": "stdout",
     "output_type": "stream",
     "text": [
      "Ridge fold 2 completed in 36.14 s\n",
      "fitted in 28.91 s\n",
      "predicted in 0.18 s\n"
     ]
    },
    {
     "name": "stderr",
     "output_type": "stream",
     "text": [
      "Pandas Apply: 100%|██████████| 19319/19319 [00:00<00:00, 107880.88it/s]\n"
     ]
    },
    {
     "name": "stdout",
     "output_type": "stream",
     "text": [
      "Ridge fold 3 completed in 34.80 s\n",
      "fitted in 15.58 s\n",
      "predicted in 0.25 s\n"
     ]
    },
    {
     "name": "stderr",
     "output_type": "stream",
     "text": [
      "Pandas Apply: 100%|██████████| 25883/25883 [00:00<00:00, 163862.21it/s]\n"
     ]
    },
    {
     "name": "stdout",
     "output_type": "stream",
     "text": [
      "Ridge fold 4 completed in 20.48 s\n",
      "fitted in 30.86 s\n",
      "predicted in 0.22 s\n"
     ]
    },
    {
     "name": "stderr",
     "output_type": "stream",
     "text": [
      "Pandas Apply: 100%|██████████| 16532/16532 [00:00<00:00, 145880.55it/s]\n"
     ]
    },
    {
     "name": "stdout",
     "output_type": "stream",
     "text": [
      "Ridge fold 5 completed in 35.95 s\n",
      "stored Ridge for ternary classification in 162.14 s\n",
      "evaluating SGD...\n",
      "fitted in 40.17 s\n",
      "predicted in 0.14 s\n"
     ]
    },
    {
     "name": "stderr",
     "output_type": "stream",
     "text": [
      "Pandas Apply: 100%|██████████| 13494/13494 [00:00<00:00, 146249.41it/s]\n"
     ]
    },
    {
     "name": "stdout",
     "output_type": "stream",
     "text": [
      "SGD fold 1 completed in 44.33 s\n",
      "fitted in 38.89 s\n",
      "predicted in 0.18 s\n"
     ]
    },
    {
     "name": "stderr",
     "output_type": "stream",
     "text": [
      "Pandas Apply: 100%|██████████| 11524/11524 [00:00<00:00, 163647.18it/s]\n"
     ]
    },
    {
     "name": "stdout",
     "output_type": "stream",
     "text": [
      "SGD fold 2 completed in 42.56 s\n",
      "fitted in 34.71 s\n",
      "predicted in 0.16 s\n"
     ]
    },
    {
     "name": "stderr",
     "output_type": "stream",
     "text": [
      "Pandas Apply: 100%|██████████| 19319/19319 [00:00<00:00, 153423.90it/s]\n"
     ]
    },
    {
     "name": "stdout",
     "output_type": "stream",
     "text": [
      "SGD fold 3 completed in 38.43 s\n",
      "fitted in 31.61 s\n",
      "predicted in 0.22 s\n"
     ]
    },
    {
     "name": "stderr",
     "output_type": "stream",
     "text": [
      "Pandas Apply: 100%|██████████| 25883/25883 [00:00<00:00, 153288.87it/s]\n"
     ]
    },
    {
     "name": "stdout",
     "output_type": "stream",
     "text": [
      "SGD fold 4 completed in 35.21 s\n",
      "fitted in 34.75 s\n",
      "predicted in 0.18 s\n"
     ]
    },
    {
     "name": "stderr",
     "output_type": "stream",
     "text": [
      "Pandas Apply: 100%|██████████| 16532/16532 [00:00<00:00, 176357.93it/s]\n"
     ]
    },
    {
     "name": "stdout",
     "output_type": "stream",
     "text": [
      "SGD fold 5 completed in 38.46 s\n",
      "stored SGD for ternary classification in 199.54 s\n",
      "time: 22min 26s\n"
     ]
    }
   ],
   "source": [
    "case = \"ternary\"\n",
    "for model in tqdm(MODELS):\n",
    "    loop_begin = time()\n",
    "    print(f\"evaluating {model}...\")\n",
    "    store_result(\n",
    "        where=results_,\n",
    "        case=case,\n",
    "        model_name=model,\n",
    "        avg_scores=evaluate_model(model, case),\n",
    "    )\n",
    "    print(f\"stored {model} for {case} classification in {time() - loop_begin:.2f} s\")\n",
    "    del loop_begin\n",
    "    _ = gc_collect()"
   ]
  },
  {
   "cell_type": "code",
   "execution_count": 10,
   "metadata": {},
   "outputs": [
    {
     "name": "stderr",
     "output_type": "stream",
     "text": [
      "Pandas Apply: 100%|██████████| 20/20 [00:00<00:00, 20237.90it/s]"
     ]
    },
    {
     "name": "stdout",
     "output_type": "stream",
     "text": [
      "time: 197 ms\n"
     ]
    },
    {
     "name": "stderr",
     "output_type": "stream",
     "text": [
      "\n"
     ]
    }
   ],
   "source": [
    "# save predictions\n",
    "predictions_df = pd.DataFrame(predictions_)[[\"model\", \"case\", \"fold\", \"y_pred\"]]\n",
    "predictions_df.case = predictions_df.case.astype(\"category\")\n",
    "predictions_df.fold = predictions_df.fold.astype(np.uint8)\n",
    "predictions_df.y_pred = predictions_df.y_pred.swifter.apply(np.int8)\n",
    "predictions_df.to_feather(\n",
    "    f\"{DATA_OUT_FOLDER}/calibrated_untuned_classifiers_predictions_CV5.feather\"\n",
    ")\n",
    "del predictions_df\n",
    "_ = gc_collect()"
   ]
  },
  {
   "cell_type": "markdown",
   "metadata": {},
   "source": [
    "Let's peek at the results."
   ]
  },
  {
   "cell_type": "code",
   "execution_count": 11,
   "metadata": {},
   "outputs": [
    {
     "data": {
      "text/html": [
       "<div>\n",
       "<style scoped>\n",
       "    .dataframe tbody tr th:only-of-type {\n",
       "        vertical-align: middle;\n",
       "    }\n",
       "\n",
       "    .dataframe tbody tr th {\n",
       "        vertical-align: top;\n",
       "    }\n",
       "\n",
       "    .dataframe thead th {\n",
       "        text-align: right;\n",
       "    }\n",
       "</style>\n",
       "<table border=\"1\" class=\"dataframe\">\n",
       "  <thead>\n",
       "    <tr style=\"text-align: right;\">\n",
       "      <th></th>\n",
       "      <th>model_name</th>\n",
       "      <th>case</th>\n",
       "      <th>geometric_mean</th>\n",
       "      <th>f1</th>\n",
       "      <th>roc_auc</th>\n",
       "      <th>balanced_accuracy</th>\n",
       "      <th>fit_time</th>\n",
       "      <th>predict_time</th>\n",
       "    </tr>\n",
       "  </thead>\n",
       "  <tbody>\n",
       "    <tr>\n",
       "      <th>0</th>\n",
       "      <td>LogReg</td>\n",
       "      <td>ternary</td>\n",
       "      <td>0.550632</td>\n",
       "      <td>0.561714</td>\n",
       "      <td>0.663327</td>\n",
       "      <td>0.336875</td>\n",
       "      <td>50.172222</td>\n",
       "      <td>0.167841</td>\n",
       "    </tr>\n",
       "    <tr>\n",
       "      <th>1</th>\n",
       "      <td>SGD</td>\n",
       "      <td>ternary</td>\n",
       "      <td>0.550599</td>\n",
       "      <td>0.569468</td>\n",
       "      <td>0.663577</td>\n",
       "      <td>0.335700</td>\n",
       "      <td>36.026304</td>\n",
       "      <td>0.176691</td>\n",
       "    </tr>\n",
       "    <tr>\n",
       "      <th>2</th>\n",
       "      <td>LDA</td>\n",
       "      <td>ternary</td>\n",
       "      <td>0.549045</td>\n",
       "      <td>0.566043</td>\n",
       "      <td>0.662202</td>\n",
       "      <td>0.333046</td>\n",
       "      <td>136.474461</td>\n",
       "      <td>0.330893</td>\n",
       "    </tr>\n",
       "    <tr>\n",
       "      <th>3</th>\n",
       "      <td>Ridge</td>\n",
       "      <td>ternary</td>\n",
       "      <td>0.549276</td>\n",
       "      <td>0.569902</td>\n",
       "      <td>0.662404</td>\n",
       "      <td>0.332569</td>\n",
       "      <td>26.973837</td>\n",
       "      <td>0.203200</td>\n",
       "    </tr>\n",
       "  </tbody>\n",
       "</table>\n",
       "</div>"
      ],
      "text/plain": [
       "  model_name     case  geometric_mean        f1   roc_auc  balanced_accuracy  \\\n",
       "0     LogReg  ternary        0.550632  0.561714  0.663327           0.336875   \n",
       "1        SGD  ternary        0.550599  0.569468  0.663577           0.335700   \n",
       "2        LDA  ternary        0.549045  0.566043  0.662202           0.333046   \n",
       "3      Ridge  ternary        0.549276  0.569902  0.662404           0.332569   \n",
       "\n",
       "     fit_time  predict_time  \n",
       "0   50.172222      0.167841  \n",
       "1   36.026304      0.176691  \n",
       "2  136.474461      0.330893  \n",
       "3   26.973837      0.203200  "
      ]
     },
     "execution_count": 11,
     "metadata": {},
     "output_type": "execute_result"
    },
    {
     "name": "stdout",
     "output_type": "stream",
     "text": [
      "time: 69.8 ms\n"
     ]
    }
   ],
   "source": [
    "results_df = (\n",
    "    pd.DataFrame(results_)\n",
    "    .sort_values(by=[\"model_name\"], ascending=True)\n",
    "    .sort_values(by=[\"fit_time\", \"predict_time\"], ascending=True)\n",
    "    .sort_values(\n",
    "        by=[\"balanced_accuracy\", \"geometric_mean\", \"f1\", \"roc_auc\"], ascending=False\n",
    "    )\n",
    "    .sort_values(by=[\"case\"], ascending=True)\n",
    "    .reset_index(drop=True)\n",
    ")[\n",
    "    [  # selection order\n",
    "        \"model_name\",\n",
    "        \"case\",\n",
    "        \"geometric_mean\",\n",
    "        \"f1\",\n",
    "        \"roc_auc\",\n",
    "        \"balanced_accuracy\",\n",
    "        \"fit_time\",\n",
    "        \"predict_time\",\n",
    "    ]\n",
    "]\n",
    "results_df.loc[:, \"case\"] = results_df.loc[:, \"case\"].astype(\"category\")\n",
    "results_df"
   ]
  },
  {
   "cell_type": "markdown",
   "metadata": {},
   "source": [
    "# Results\n",
    "\n",
    "In this section, we create several visualizations to display the results.\n",
    "\n",
    "Note that the charts depicting fit and predict times do not account for the dimensionality reduction step."
   ]
  },
  {
   "cell_type": "code",
   "execution_count": 12,
   "metadata": {},
   "outputs": [
    {
     "name": "stdout",
     "output_type": "stream",
     "text": [
      "time: 135 ms\n"
     ]
    }
   ],
   "source": [
    "METRIC_NAMES = {\n",
    "    \"balanced_accuracy\": \"Balanced Accuracy\",\n",
    "    \"f1\": \"F1 Score\",\n",
    "    \"fit_time\": \"Fit Time\",\n",
    "    \"roc_auc\": \"Area Under ROC Curve\",\n",
    "    \"geometric_mean\": \"Geometric Mean\",\n",
    "    \"predict_time\": \"Predict Time\",\n",
    "}\n",
    "\n",
    "_ = gc_collect()"
   ]
  },
  {
   "cell_type": "code",
   "execution_count": 13,
   "metadata": {},
   "outputs": [
    {
     "name": "stdout",
     "output_type": "stream",
     "text": [
      "time: 119 ms\n"
     ]
    }
   ],
   "source": [
    "def plot_ternary_metric(metric: str, results_df: pd.DataFrame) -> None:\n",
    "    \"\"\"Draw a barplot by ternary classifier.\"\"\"\n",
    "    time_metric = \"time\" in metric\n",
    "    results_df = results_df.sort_values(by=metric, ascending=time_metric)\n",
    "\n",
    "    if time_metric:\n",
    "        # When plotting fit/predict times, the pure dummy classifiers are omitted since it is always the fastest.\n",
    "        results_df = results_df.loc[\n",
    "            ~results_df.model_name.isin((\"Dummy\", \"Dummy+Dummy\"))\n",
    "        ]\n",
    "\n",
    "    g = sns.catplot(\n",
    "        x=metric,\n",
    "        y=\"model_name\",\n",
    "        data=results_df,\n",
    "        seed=SEED,\n",
    "        kind=\"bar\",\n",
    "        palette=\"colorblind\",\n",
    "        alpha=0.65,\n",
    "    )\n",
    "    g.fig.set_figwidth(8)\n",
    "    g.fig.set_figheight(4)\n",
    "    g.despine(**dict.fromkeys((\"bottom\", \"left\", \"top\", \"right\"), True))\n",
    "\n",
    "    ax = plt.gca()\n",
    "    ax.tick_params(axis=\"x\", labelbottom=True, labeltop=True)\n",
    "    plt.setp(ax.patches, linewidth=0)\n",
    "\n",
    "    if not time_metric:\n",
    "        plt.xlim(0, 1)\n",
    "    plt.xlabel(\"\")\n",
    "    plt.ylabel(\"\")\n",
    "\n",
    "    plt.suptitle(\n",
    "        f\"{METRIC_NAMES[metric]}{' (s)' if time_metric else ''}\", y=1, fontweight=\"bold\"\n",
    "    )\n",
    "    plt.tight_layout()\n",
    "    plt.show()\n",
    "\n",
    "\n",
    "_ = gc_collect()"
   ]
  },
  {
   "cell_type": "code",
   "execution_count": 14,
   "metadata": {},
   "outputs": [
    {
     "data": {
      "application/vnd.jupyter.widget-view+json": {
       "model_id": "76baf39d59354e7c8c76afad0393c518",
       "version_major": 2,
       "version_minor": 0
      },
      "text/plain": [
       "  0%|          | 0/6 [00:00<?, ?it/s]"
      ]
     },
     "metadata": {},
     "output_type": "display_data"
    },
    {
     "data": {
      "image/png": "[encoded data removed]",
      "text/plain": [
       "<Figure size 576x288 with 1 Axes>"
      ]
     },
     "metadata": {
      "needs_background": "light"
     },
     "output_type": "display_data"
    },
    {
     "data": {
      "image/png": "[encoded data removed]",
      "text/plain": [
       "<Figure size 576x288 with 1 Axes>"
      ]
     },
     "metadata": {
      "needs_background": "light"
     },
     "output_type": "display_data"
    },
    {
     "data": {
      "image/png": "[encoded data removed]",
      "text/plain": [
       "<Figure size 576x288 with 1 Axes>"
      ]
     },
     "metadata": {
      "needs_background": "light"
     },
     "output_type": "display_data"
    },
    {
     "data": {
      "image/png": "[encoded data removed]",
      "text/plain": [
       "<Figure size 576x288 with 1 Axes>"
      ]
     },
     "metadata": {
      "needs_background": "light"
     },
     "output_type": "display_data"
    },
    {
     "data": {
      "image/png": "[encoded data removed]",
      "text/plain": [
       "<Figure size 576x288 with 1 Axes>"
      ]
     },
     "metadata": {
      "needs_background": "light"
     },
     "output_type": "display_data"
    },
    {
     "data": {
      "image/png": "[encoded data removed]",
      "text/plain": [
       "<Figure size 576x288 with 1 Axes>"
      ]
     },
     "metadata": {
      "needs_background": "light"
     },
     "output_type": "display_data"
    },
    {
     "name": "stdout",
     "output_type": "stream",
     "text": [
      "time: 2.23 s\n"
     ]
    }
   ],
   "source": [
    "for metric in tqdm(METRICS):\n",
    "    plot_ternary_metric(metric, results_df.loc[results_df.case.str.contains(\"ternary\")])"
   ]
  },
  {
   "cell_type": "code",
   "execution_count": 15,
   "metadata": {},
   "outputs": [
    {
     "name": "stdout",
     "output_type": "stream",
     "text": [
      "time: 12 ms\n"
     ]
    }
   ],
   "source": [
    "# save table of results\n",
    "results_df.to_csv(f\"{DATA_OUT_FOLDER}/calibrated_untuned_full_ternary_results_CV5.csv\")"
   ]
  },
  {
   "cell_type": "markdown",
   "metadata": {},
   "source": [
    "# Discussion\n",
    "\n",
    "Calibration did not differentiate the performance of the models considered. Calibration improved geometric mean and AUROC scores slightly for all models. Calibration improved balanced accuracy scores slightly for all but RidgeClassifier. Calibration improved F1 scores slightly for all but LogisticRegression; calibrating an already calibrated model may hurt performance. In general, differences in performance between calibrated and uncalibrated classifiers are small.\n",
    "\n",
    "Some classifiers like LogisticRegression already produce calibrated predictions. As expected, the difference in scores between the results of previous notebooks and the calibrated results is minimal for such models.\n",
    "\n",
    "It may be conceptually cleaner to apply calibration based on the class distributions before resampling. It should be fine nonetheless since false positives are about as costly as false negatives."
   ]
  },
  {
   "cell_type": "code",
   "execution_count": 16,
   "metadata": {},
   "outputs": [
    {
     "name": "stdout",
     "output_type": "stream",
     "text": [
      "Time elapsed since notebook_begin_time: 1369.0600247383118 s\n",
      "time: 115 ms\n"
     ]
    }
   ],
   "source": [
    "print(f\"Time elapsed since notebook_begin_time: {time() - notebook_begin_time} s\")\n",
    "_ = gc_collect()"
   ]
  },
  {
   "cell_type": "markdown",
   "metadata": {},
   "source": [
    "[^top](#Contents)"
   ]
  },
  {
   "cell_type": "code",
   "execution_count": null,
   "metadata": {},
   "outputs": [],
   "source": []
  }
 ],
 "metadata": {
  "interpreter": {
   "hash": "e1781be99c106060f3abc0c9b91d3d379f24672894e2158d4b74304109955878"
  },
  "kernelspec": {
   "display_name": "Python 3 (ipykernel)",
   "language": "python",
   "name": "python3"
  },
  "language_info": {
   "codemirror_mode": {
    "name": "ipython",
    "version": 3
   },
   "file_extension": ".py",
   "mimetype": "text/x-python",
   "name": "python",
   "nbconvert_exporter": "python",
   "pygments_lexer": "ipython3",
   "version": "3.8.12"
  }
 },
 "nbformat": 4,
 "nbformat_minor": 4
}
