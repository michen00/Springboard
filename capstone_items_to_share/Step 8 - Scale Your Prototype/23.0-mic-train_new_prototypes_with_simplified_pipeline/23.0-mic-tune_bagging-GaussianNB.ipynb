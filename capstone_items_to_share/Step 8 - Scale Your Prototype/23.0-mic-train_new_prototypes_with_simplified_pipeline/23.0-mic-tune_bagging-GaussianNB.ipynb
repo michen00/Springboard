{
 "cells": [
  {
   "cell_type": "markdown",
   "metadata": {},
   "source": [
    "# Contents\n",
    "* [Introduction](#Introduction)\n",
    "* [Imports and configuration](#Imports-and-configuration)\n",
    "* [Setup](#Setup)\n",
    "* [var_smoothing](#var_smoothing)\n",
    "* [n_estimators](#n_estimators)\n",
    "* [Discussion](#Discussion)"
   ]
  },
  {
   "cell_type": "markdown",
   "metadata": {},
   "source": [
    "# Introduction\n",
    "\n",
    "After rounds of feature engineering, visualization & exploration, and tuning various aspects of the classification pipeline, we are about to create our first prototype classifier using a bagged GaussianNB. In this notebook, we perform a grid search over var_smoothing using out-of-bag accuracy instead of cross validation. Fixing this var_smoothing to the best value observed, we perform a grid search for n_estimators of the bagging meta-classifier."
   ]
  },
  {
   "cell_type": "code",
   "execution_count": 1,
   "metadata": {},
   "outputs": [],
   "source": [
    "from time import time\n",
    "\n",
    "notebook_begin_time = time()\n",
    "\n",
    "# set random seeds\n",
    "\n",
    "from os import environ\n",
    "from random import seed as random_seed\n",
    "from numpy.random import seed as np_seed\n",
    "from tensorflow.random import set_seed\n",
    "\n",
    "\n",
    "def reset_seeds(seed: int) -> None:\n",
    "    \"\"\"Utility function for resetting random seeds\"\"\"\n",
    "    environ[\"PYTHONHASHSEED\"] = str(seed)\n",
    "    random_seed(seed)\n",
    "    np_seed(seed)\n",
    "    set_seed(seed)\n",
    "\n",
    "\n",
    "reset_seeds(SEED := 2022)\n",
    "del environ\n",
    "del random_seed\n",
    "del np_seed\n",
    "del set_seed\n",
    "del reset_seeds"
   ]
  },
  {
   "cell_type": "code",
   "execution_count": 2,
   "metadata": {},
   "outputs": [],
   "source": [
    "# extensions\n",
    "%load_ext autotime\n",
    "%load_ext lab_black\n",
    "%load_ext nb_black"
   ]
  },
  {
   "cell_type": "code",
   "execution_count": 3,
   "metadata": {},
   "outputs": [
    {
     "name": "stderr",
     "output_type": "stream",
     "text": [
      "Intel(R) Extension for Scikit-learn* enabled (https://github.com/intel/scikit-learn-intelex)\n"
     ]
    },
    {
     "name": "stdout",
     "output_type": "stream",
     "text": [
      "time: 2.33 s\n"
     ]
    }
   ],
   "source": [
    "# core\n",
    "import numpy as np\n",
    "import pandas as pd\n",
    "from scipy.stats import loguniform\n",
    "\n",
    "# utility\n",
    "from gc import collect as gc_collect\n",
    "from tqdm.notebook import tqdm\n",
    "\n",
    "# faster sklearn\n",
    "from sklearnex import patch_sklearn\n",
    "\n",
    "patch_sklearn()\n",
    "del patch_sklearn\n",
    "\n",
    "# classifier\n",
    "from sklearn.ensemble import BaggingClassifier\n",
    "from sklearn.naive_bayes import GaussianNB\n",
    "\n",
    "# metrics\n",
    "from sklearn.metrics import log_loss, roc_auc_score\n",
    "\n",
    "# typing\n",
    "from typing import Sequence\n",
    "\n",
    "# visualization\n",
    "import matplotlib.pyplot as plt\n",
    "import seaborn as sns\n",
    "\n",
    "%matplotlib inline\n",
    "\n",
    "sns.set_context(\"notebook\")\n",
    "\n",
    "# full display of rows and columns\n",
    "pd.set_option(\"display.max_columns\", None)\n",
    "pd.set_option(\"display.max_colwidth\", None)\n",
    "pd.set_option(\"display.max_rows\", None)\n",
    "\n",
    "# display outputs w/o print calls\n",
    "from IPython.core.interactiveshell import InteractiveShell\n",
    "\n",
    "InteractiveShell.ast_node_interactivity = \"all\"\n",
    "del InteractiveShell"
   ]
  },
  {
   "cell_type": "code",
   "execution_count": 4,
   "metadata": {},
   "outputs": [
    {
     "name": "stdout",
     "output_type": "stream",
     "text": [
      "time: 110 ms\n"
     ]
    }
   ],
   "source": [
    "# Location of FRILL .feather files\n",
    "FRILL_FEATHERS_FOLDER = \"../1.0-mic-extract_FRILL_embeddings\"\n",
    "\n",
    "# Location of pre-final features\n",
    "FEATURES_FOLDER = \".\"\n",
    "\n",
    "# Location where this notebook will output\n",
    "DATA_OUT_FOLDER = \".\"\n",
    "\n",
    "_ = gc_collect()"
   ]
  },
  {
   "cell_type": "markdown",
   "metadata": {},
   "source": [
    "# Setup"
   ]
  },
  {
   "cell_type": "code",
   "execution_count": 5,
   "metadata": {},
   "outputs": [
    {
     "name": "stdout",
     "output_type": "stream",
     "text": [
      "time: 155 ms\n"
     ]
    }
   ],
   "source": [
    "def load_labels() -> pd.DataFrame:\n",
    "    \"\"\"Load just the labels\"\"\"\n",
    "    return pd.read_feather(f\"{FEATURES_FOLDER}/simplified_labels.feather\").set_index(\n",
    "        \"id\"\n",
    "    )\n",
    "\n",
    "\n",
    "def load_data() -> pd.DataFrame:\n",
    "    \"\"\"Loads the FRILL-based features\"\"\"\n",
    "    df = pd.read_feather(\n",
    "        f\"{FEATURES_FOLDER}/scaled_features_ready_for_selection.feather\"\n",
    "    ).set_index(\"id\")\n",
    "    df.columns = df.columns.astype(str)\n",
    "    return df\n",
    "\n",
    "\n",
    "data = load_data()\n",
    "labels = load_labels()\n",
    "assert all(data.index == labels.index)\n",
    "assert len(data) < 79000\n",
    "y_true = labels.valence\n",
    "gnb_features = [\"spherical-LDA1\", \"spherical-LDA2\"]\n",
    "_ = gc_collect()"
   ]
  },
  {
   "cell_type": "code",
   "execution_count": 6,
   "metadata": {},
   "outputs": [
    {
     "name": "stdout",
     "output_type": "stream",
     "text": [
      "<class 'pandas.core.frame.DataFrame'>\n",
      "UInt64Index: 78777 entries, 0 to 87363\n",
      "Data columns (total 33 columns):\n",
      " #   Column                   Non-Null Count  Dtype  \n",
      "---  ------                   --------------  -----  \n",
      " 0   LDA1                     78777 non-null  float64\n",
      " 1   LDA2                     78777 non-null  float64\n",
      " 2   ocLDA_neg                78777 non-null  float64\n",
      " 3   ocLDA_neu                78777 non-null  float64\n",
      " 4   ocLDA_pos                78777 non-null  float64\n",
      " 5   ocSVM_sgdlinear_LDA1     78777 non-null  float64\n",
      " 6   ocSVM_sgdlinear_LDA2     78777 non-null  float64\n",
      " 7   ocSVM_sgdlinear_neg      78777 non-null  float64\n",
      " 8   ocSVM_sgdlinear_neu      78777 non-null  float64\n",
      " 9   ocSVM_sgdlinear_pos      78777 non-null  float64\n",
      " 10  LDA-LOF_neg_30           78777 non-null  float64\n",
      " 11  LDA-LOF_neu_30           78777 non-null  float64\n",
      " 12  LDA-LOF_pos_30           78777 non-null  float64\n",
      " 13  LDA-ocSVM_sgdlinear_neg  78777 non-null  float64\n",
      " 14  LDA-ocSVM_sgdlinear_neu  78777 non-null  float64\n",
      " 15  LDA-ocSVM_sgdlinear_pos  78777 non-null  float64\n",
      " 16  LDA-ocSVM_rbf_neg        78777 non-null  float64\n",
      " 17  LDA-ocSVM_rbf_neu        78777 non-null  float64\n",
      " 18  LDA-ocSVM_rbf_pos        78777 non-null  float64\n",
      " 19  LDA-ocSVM_sigmoid_neg    78777 non-null  float64\n",
      " 20  LDA-ocSVM_sigmoid_neu    78777 non-null  float64\n",
      " 21  LDA-ocSVM_sigmoid_pos    78777 non-null  float64\n",
      " 22  LDA-ocSVM_poly5_neg      78777 non-null  float64\n",
      " 23  LDA-ocSVM_poly5_neu      78777 non-null  float64\n",
      " 24  LDA-ocSVM_poly5_pos      78777 non-null  float64\n",
      " 25  LDA-ocSVM_poly6_neg      78777 non-null  float64\n",
      " 26  LDA-ocSVM_poly6_neu      78777 non-null  float64\n",
      " 27  LDA-ocSVM_poly6_pos      78777 non-null  float64\n",
      " 28  spherical-LDA1           78777 non-null  float64\n",
      " 29  spherical-LDA2           78777 non-null  float64\n",
      " 30  spherical-ocLDA_neg      78777 non-null  float64\n",
      " 31  spherical-ocLDA_neu      78777 non-null  float64\n",
      " 32  spherical-ocLDA_pos      78777 non-null  float64\n",
      "dtypes: float64(33)\n",
      "memory usage: 20.4 MB\n",
      "<class 'pandas.core.frame.DataFrame'>\n",
      "UInt64Index: 78777 entries, 0 to 87363\n",
      "Data columns (total 10 columns):\n",
      " #   Column          Non-Null Count  Dtype   \n",
      "---  ------          --------------  -----   \n",
      " 0   source          78777 non-null  category\n",
      " 1   speaker_id      78777 non-null  category\n",
      " 2   speaker_gender  78777 non-null  category\n",
      " 3   emo             78777 non-null  category\n",
      " 4   valence         78777 non-null  int8    \n",
      " 5   neg             78777 non-null  bool    \n",
      " 6   neu             78777 non-null  bool    \n",
      " 7   pos             78777 non-null  bool    \n",
      " 8   lang1           78777 non-null  category\n",
      " 9   length          78777 non-null  category\n",
      "dtypes: bool(3), category(6), int8(1)\n",
      "memory usage: 1.5 MB\n",
      "time: 28 ms\n"
     ]
    }
   ],
   "source": [
    "data.info()\n",
    "labels.info()"
   ]
  },
  {
   "cell_type": "code",
   "execution_count": 7,
   "metadata": {},
   "outputs": [
    {
     "name": "stdout",
     "output_type": "stream",
     "text": [
      "time: 97.6 ms\n"
     ]
    }
   ],
   "source": [
    "results = {\"var_smoothing\": [], \"oob_score\": [], \"log_loss\": [], \"auroc\": []}\n",
    "_ = gc_collect()"
   ]
  },
  {
   "cell_type": "markdown",
   "metadata": {},
   "source": [
    "# var_smoothing"
   ]
  },
  {
   "cell_type": "code",
   "execution_count": 8,
   "metadata": {},
   "outputs": [
    {
     "name": "stdout",
     "output_type": "stream",
     "text": [
      "time: 122 ms\n"
     ]
    }
   ],
   "source": [
    "def tune_var_smoothing(search_space: Sequence, outfile: str) -> None:\n",
    "    \"\"\"Run tuning procedure\"\"\"\n",
    "    df = data.loc[:, gnb_features]\n",
    "    make_gnb = lambda var_smoothing: BaggingClassifier(\n",
    "        base_estimator=GaussianNB(var_smoothing=var_smoothing),\n",
    "        n_estimators=50,\n",
    "        oob_score=True,\n",
    "        n_jobs=-1,\n",
    "        random_state=SEED,\n",
    "        # verbose=1,\n",
    "    ).fit(df, y_true)\n",
    "    for hp in tqdm(search_space):\n",
    "        gnb = make_gnb(hp)\n",
    "        results[\"var_smoothing\"].append(hp)\n",
    "        results[\"oob_score\"].append(gnb.oob_score_)\n",
    "        results[\"auroc\"].append(\n",
    "            roc_auc_score(y_true, y_pred := gnb.predict_proba(df), multi_class=\"ovo\")\n",
    "        )\n",
    "        results[\"log_loss\"].append(log_loss(y_true, y_pred))\n",
    "\n",
    "    df = pd.DataFrame(results).sort_values(by=\"var_smoothing\", ascending=True)\n",
    "    print(df.sort_values(by=\"oob_score\", ascending=False).head(10))\n",
    "    print(df.sort_values(by=\"log_loss\", ascending=True).head(10))\n",
    "    print(df.sort_values(by=\"auroc\", ascending=False).head(10))\n",
    "    df.plot(x=\"var_smoothing\")\n",
    "    plt.legend(frameon=False)\n",
    "    sns.despine(top=True, right=True)\n",
    "    plt.tight_layout()\n",
    "    plt.show()\n",
    "\n",
    "    df.columns = df.columns.astype(str)\n",
    "    df.reset_index(drop=True).to_feather(f\"{DATA_OUT_FOLDER}/{outfile}.feather\")\n",
    "\n",
    "\n",
    "_ = gc_collect()"
   ]
  },
  {
   "cell_type": "code",
   "execution_count": 9,
   "metadata": {},
   "outputs": [
    {
     "data": {
      "application/vnd.jupyter.widget-view+json": {
       "model_id": "d82505471c914bfc857995a12a7f6297",
       "version_major": 2,
       "version_minor": 0
      },
      "text/plain": [
       "  0%|          | 0/50 [00:00<?, ?it/s]"
      ]
     },
     "metadata": {},
     "output_type": "display_data"
    },
    {
     "name": "stdout",
     "output_type": "stream",
     "text": [
      "    var_smoothing  oob_score  log_loss     auroc\n",
      "21       0.087750   0.667390  0.784890  0.822666\n",
      "48       0.024178   0.667352  0.802807  0.821832\n",
      "22       0.089603   0.667327  0.784507  0.822687\n",
      "40       0.024416   0.667327  0.802719  0.821836\n",
      "42       0.089039   0.667327  0.784623  0.822681\n",
      "41       0.012735   0.667289  0.807224  0.821657\n",
      "19       0.028930   0.667276  0.801096  0.821903\n",
      "33       0.011346   0.667251  0.807790  0.821635\n",
      "3        0.014992   0.667238  0.806318  0.821692\n",
      "14       0.110413   0.667200  0.780633  0.822915\n",
      "    var_smoothing  oob_score  log_loss     auroc\n",
      "37       0.274353   0.665093  0.769150  0.824251\n",
      "49       0.269499   0.665105  0.769162  0.824220\n",
      "6        0.269297   0.665105  0.769163  0.824219\n",
      "8        0.269089   0.665131  0.769164  0.824218\n",
      "13       0.287113   0.665143  0.769183  0.824331\n",
      "39       0.289465   0.665181  0.769199  0.824345\n",
      "32       0.292773   0.665143  0.769226  0.824365\n",
      "18       0.293259   0.665143  0.769230  0.824368\n",
      "26       0.259331   0.665385  0.769233  0.824154\n",
      "12       0.250074   0.665677  0.769355  0.824092\n",
      "    var_smoothing  oob_score  log_loss     auroc\n",
      "18       0.293259   0.665143  0.769230  0.824368\n",
      "32       0.292773   0.665143  0.769226  0.824365\n",
      "39       0.289465   0.665181  0.769199  0.824345\n",
      "13       0.287113   0.665143  0.769183  0.824331\n",
      "37       0.274353   0.665093  0.769150  0.824251\n",
      "49       0.269499   0.665105  0.769162  0.824220\n",
      "6        0.269297   0.665105  0.769163  0.824219\n",
      "8        0.269089   0.665131  0.769164  0.824218\n",
      "26       0.259331   0.665385  0.769233  0.824154\n",
      "12       0.250074   0.665677  0.769355  0.824092\n"
     ]
    },
    {
     "data": {
      "image/png": "[encoded data removed]",
      "text/plain": [
       "<Figure size 432x288 with 1 Axes>"
      ]
     },
     "metadata": {
      "needs_background": "light"
     },
     "output_type": "display_data"
    },
    {
     "name": "stdout",
     "output_type": "stream",
     "text": [
      "time: 1min 13s\n"
     ]
    }
   ],
   "source": [
    "tune_var_smoothing(\n",
    "    search_space=np.random.uniform(0.0, 0.3, size=50), outfile=\"var_smoothing1\"\n",
    ")"
   ]
  },
  {
   "cell_type": "code",
   "execution_count": 10,
   "metadata": {},
   "outputs": [
    {
     "data": {
      "application/vnd.jupyter.widget-view+json": {
       "model_id": "5441526212df4bab96b6ea93473ed148",
       "version_major": 2,
       "version_minor": 0
      },
      "text/plain": [
       "  0%|          | 0/50 [00:00<?, ?it/s]"
      ]
     },
     "metadata": {},
     "output_type": "display_data"
    },
    {
     "name": "stdout",
     "output_type": "stream",
     "text": [
      "    var_smoothing  oob_score  log_loss     auroc\n",
      "21       0.087750   0.667390  0.784890  0.822666\n",
      "48       0.024178   0.667352  0.802807  0.821832\n",
      "74       0.023798   0.667339  0.802946  0.821827\n",
      "40       0.024416   0.667327  0.802719  0.821836\n",
      "22       0.089603   0.667327  0.784507  0.822687\n",
      "42       0.089039   0.667327  0.784623  0.822681\n",
      "41       0.012735   0.667289  0.807224  0.821657\n",
      "19       0.028930   0.667276  0.801096  0.821903\n",
      "71       0.011304   0.667251  0.807807  0.821634\n",
      "33       0.011346   0.667251  0.807790  0.821635\n",
      "    var_smoothing  oob_score  log_loss     auroc\n",
      "37       0.274353   0.665093  0.769150  0.824251\n",
      "49       0.269499   0.665105  0.769162  0.824220\n",
      "6        0.269297   0.665105  0.769163  0.824219\n",
      "8        0.269089   0.665131  0.769164  0.824218\n",
      "13       0.287113   0.665143  0.769183  0.824331\n",
      "39       0.289465   0.665181  0.769199  0.824345\n",
      "32       0.292773   0.665143  0.769226  0.824365\n",
      "18       0.293259   0.665143  0.769230  0.824368\n",
      "26       0.259331   0.665385  0.769233  0.824154\n",
      "69       0.298076   0.665156  0.769281  0.824397\n",
      "    var_smoothing  oob_score  log_loss     auroc\n",
      "66       0.304265   0.665080  0.769363  0.824434\n",
      "69       0.298076   0.665156  0.769281  0.824397\n",
      "18       0.293259   0.665143  0.769230  0.824368\n",
      "32       0.292773   0.665143  0.769226  0.824365\n",
      "39       0.289465   0.665181  0.769199  0.824345\n",
      "13       0.287113   0.665143  0.769183  0.824331\n",
      "37       0.274353   0.665093  0.769150  0.824251\n",
      "49       0.269499   0.665105  0.769162  0.824220\n",
      "6        0.269297   0.665105  0.769163  0.824219\n",
      "8        0.269089   0.665131  0.769164  0.824218\n"
     ]
    },
    {
     "data": {
      "image/png": "[encoded data removed]",
      "text/plain": [
       "<Figure size 432x288 with 1 Axes>"
      ]
     },
     "metadata": {
      "needs_background": "light"
     },
     "output_type": "display_data"
    },
    {
     "name": "stdout",
     "output_type": "stream",
     "text": [
      "time: 1min 8s\n"
     ]
    }
   ],
   "source": [
    "tune_var_smoothing(\n",
    "    search_space=loguniform.rvs(1e-11, 0.4, size=50), outfile=\"var_smoothing2\"\n",
    ")"
   ]
  },
  {
   "cell_type": "code",
   "execution_count": 11,
   "metadata": {},
   "outputs": [
    {
     "data": {
      "application/vnd.jupyter.widget-view+json": {
       "model_id": "4de4c9376b3c42ffbb7a34729d80bf28",
       "version_major": 2,
       "version_minor": 0
      },
      "text/plain": [
       "  0%|          | 0/50 [00:00<?, ?it/s]"
      ]
     },
     "metadata": {},
     "output_type": "display_data"
    },
    {
     "name": "stdout",
     "output_type": "stream",
     "text": [
      "    var_smoothing  oob_score  log_loss     auroc\n",
      "21       0.087750   0.667390  0.784890  0.822666\n",
      "48       0.024178   0.667352  0.802807  0.821832\n",
      "74       0.023798   0.667339  0.802946  0.821827\n",
      "42       0.089039   0.667327  0.784623  0.822681\n",
      "22       0.089603   0.667327  0.784507  0.822687\n",
      "40       0.024416   0.667327  0.802719  0.821836\n",
      "41       0.012735   0.667289  0.807224  0.821657\n",
      "19       0.028930   0.667276  0.801096  0.821903\n",
      "33       0.011346   0.667251  0.807790  0.821635\n",
      "71       0.011304   0.667251  0.807807  0.821634\n",
      "     var_smoothing  oob_score  log_loss     auroc\n",
      "37        0.274353   0.665093  0.769150  0.824251\n",
      "127       0.278372   0.665093  0.769151  0.824277\n",
      "131       0.273695   0.665093  0.769151  0.824247\n",
      "111       0.282121   0.665156  0.769159  0.824300\n",
      "49        0.269499   0.665105  0.769162  0.824220\n",
      "6         0.269297   0.665105  0.769163  0.824219\n",
      "8         0.269089   0.665131  0.769164  0.824218\n",
      "13        0.287113   0.665143  0.769183  0.824331\n",
      "125       0.264456   0.665258  0.769190  0.824188\n",
      "39        0.289465   0.665181  0.769199  0.824345\n",
      "     var_smoothing  oob_score  log_loss     auroc\n",
      "130       0.393444   0.663937  0.772298  0.824904\n",
      "128       0.393343   0.663950  0.772293  0.824904\n",
      "105       0.355809   0.664166  0.770706  0.824718\n",
      "122       0.350761   0.664407  0.770528  0.824692\n",
      "119       0.345776   0.664445  0.770361  0.824666\n",
      "139       0.333462   0.664775  0.769990  0.824600\n",
      "117       0.321081   0.664813  0.769678  0.824531\n",
      "126       0.312839   0.664966  0.769508  0.824484\n",
      "107       0.310450   0.665016  0.769464  0.824470\n",
      "137       0.306110   0.665080  0.769392  0.824445\n"
     ]
    },
    {
     "data": {
      "image/png": "[encoded data removed]",
      "text/plain": [
       "<Figure size 432x288 with 1 Axes>"
      ]
     },
     "metadata": {
      "needs_background": "light"
     },
     "output_type": "display_data"
    },
    {
     "name": "stdout",
     "output_type": "stream",
     "text": [
      "time: 1min 9s\n"
     ]
    }
   ],
   "source": [
    "tune_var_smoothing(\n",
    "    search_space=loguniform.rvs(0.1, 0.4, size=50), outfile=\"var_smoothing3\"\n",
    ")"
   ]
  },
  {
   "cell_type": "code",
   "execution_count": 12,
   "metadata": {},
   "outputs": [
    {
     "data": {
      "application/vnd.jupyter.widget-view+json": {
       "model_id": "d45e8e9039e24fb7bf031f7af596d25c",
       "version_major": 2,
       "version_minor": 0
      },
      "text/plain": [
       "  0%|          | 0/50 [00:00<?, ?it/s]"
      ]
     },
     "metadata": {},
     "output_type": "display_data"
    },
    {
     "name": "stdout",
     "output_type": "stream",
     "text": [
      "     var_smoothing  oob_score  log_loss     auroc\n",
      "21        0.087750   0.667390  0.784890  0.822666\n",
      "48        0.024178   0.667352  0.802807  0.821832\n",
      "167       0.081792   0.667339  0.786170  0.822597\n",
      "74        0.023798   0.667339  0.802946  0.821827\n",
      "40        0.024416   0.667327  0.802719  0.821836\n",
      "42        0.089039   0.667327  0.784623  0.822681\n",
      "22        0.089603   0.667327  0.784507  0.822687\n",
      "176       0.092725   0.667301  0.783875  0.822722\n",
      "41        0.012735   0.667289  0.807224  0.821657\n",
      "19        0.028930   0.667276  0.801096  0.821903\n",
      "     var_smoothing  oob_score  log_loss     auroc\n",
      "37        0.274353   0.665093  0.769150  0.824251\n",
      "127       0.278372   0.665093  0.769151  0.824277\n",
      "131       0.273695   0.665093  0.769151  0.824247\n",
      "111       0.282121   0.665156  0.769159  0.824300\n",
      "49        0.269499   0.665105  0.769162  0.824220\n",
      "6         0.269297   0.665105  0.769163  0.824219\n",
      "8         0.269089   0.665131  0.769164  0.824218\n",
      "13        0.287113   0.665143  0.769183  0.824331\n",
      "125       0.264456   0.665258  0.769190  0.824188\n",
      "39        0.289465   0.665181  0.769199  0.824345\n",
      "     var_smoothing  oob_score  log_loss     auroc\n",
      "130       0.393444   0.663937  0.772298  0.824904\n",
      "128       0.393343   0.663950  0.772293  0.824904\n",
      "105       0.355809   0.664166  0.770706  0.824718\n",
      "122       0.350761   0.664407  0.770528  0.824692\n",
      "119       0.345776   0.664445  0.770361  0.824666\n",
      "139       0.333462   0.664775  0.769990  0.824600\n",
      "117       0.321081   0.664813  0.769678  0.824531\n",
      "126       0.312839   0.664966  0.769508  0.824484\n",
      "107       0.310450   0.665016  0.769464  0.824470\n",
      "137       0.306110   0.665080  0.769392  0.824445\n"
     ]
    },
    {
     "data": {
      "image/png": "[encoded data removed]",
      "text/plain": [
       "<Figure size 432x288 with 1 Axes>"
      ]
     },
     "metadata": {
      "needs_background": "light"
     },
     "output_type": "display_data"
    },
    {
     "name": "stdout",
     "output_type": "stream",
     "text": [
      "time: 1min 8s\n"
     ]
    }
   ],
   "source": [
    "tune_var_smoothing(\n",
    "    search_space=np.random.uniform(0.01, 0.25, size=50), outfile=\"var_smoothing4\"\n",
    ")"
   ]
  },
  {
   "cell_type": "code",
   "execution_count": 13,
   "metadata": {},
   "outputs": [
    {
     "data": {
      "application/vnd.jupyter.widget-view+json": {
       "model_id": "9ba6157240bc4c4a98b2b12ef5bab58e",
       "version_major": 2,
       "version_minor": 0
      },
      "text/plain": [
       "  0%|          | 0/50 [00:00<?, ?it/s]"
      ]
     },
     "metadata": {},
     "output_type": "display_data"
    },
    {
     "name": "stdout",
     "output_type": "stream",
     "text": [
      "     var_smoothing  oob_score  log_loss     auroc\n",
      "232       0.084951   0.667479  0.785483  0.822634\n",
      "21        0.087750   0.667390  0.784890  0.822666\n",
      "224       0.083116   0.667390  0.785879  0.822612\n",
      "244       0.092011   0.667378  0.784018  0.822714\n",
      "201       0.081968   0.667352  0.786131  0.822599\n",
      "48        0.024178   0.667352  0.802807  0.821832\n",
      "167       0.081792   0.667339  0.786170  0.822597\n",
      "74        0.023798   0.667339  0.802946  0.821827\n",
      "22        0.089603   0.667327  0.784507  0.822687\n",
      "40        0.024416   0.667327  0.802719  0.821836\n",
      "     var_smoothing  oob_score  log_loss     auroc\n",
      "37        0.274353   0.665093  0.769150  0.824251\n",
      "127       0.278372   0.665093  0.769151  0.824277\n",
      "131       0.273695   0.665093  0.769151  0.824247\n",
      "111       0.282121   0.665156  0.769159  0.824300\n",
      "49        0.269499   0.665105  0.769162  0.824220\n",
      "6         0.269297   0.665105  0.769163  0.824219\n",
      "8         0.269089   0.665131  0.769164  0.824218\n",
      "13        0.287113   0.665143  0.769183  0.824331\n",
      "125       0.264456   0.665258  0.769190  0.824188\n",
      "39        0.289465   0.665181  0.769199  0.824345\n",
      "     var_smoothing  oob_score  log_loss     auroc\n",
      "130       0.393444   0.663937  0.772298  0.824904\n",
      "128       0.393343   0.663950  0.772293  0.824904\n",
      "105       0.355809   0.664166  0.770706  0.824718\n",
      "122       0.350761   0.664407  0.770528  0.824692\n",
      "119       0.345776   0.664445  0.770361  0.824666\n",
      "139       0.333462   0.664775  0.769990  0.824600\n",
      "117       0.321081   0.664813  0.769678  0.824531\n",
      "126       0.312839   0.664966  0.769508  0.824484\n",
      "107       0.310450   0.665016  0.769464  0.824470\n",
      "137       0.306110   0.665080  0.769392  0.824445\n"
     ]
    },
    {
     "data": {
      "image/png": "[encoded data removed]",
      "text/plain": [
       "<Figure size 432x288 with 1 Axes>"
      ]
     },
     "metadata": {
      "needs_background": "light"
     },
     "output_type": "display_data"
    },
    {
     "name": "stdout",
     "output_type": "stream",
     "text": [
      "time: 1min 8s\n"
     ]
    }
   ],
   "source": [
    "tune_var_smoothing(\n",
    "    search_space=np.random.uniform(0.05, 0.15, size=50), outfile=\"var_smoothing5\"\n",
    ")"
   ]
  },
  {
   "cell_type": "code",
   "execution_count": 14,
   "metadata": {},
   "outputs": [
    {
     "data": {
      "application/vnd.jupyter.widget-view+json": {
       "model_id": "a1cdc3a9414f4bfdb1222ad52b4c3104",
       "version_major": 2,
       "version_minor": 0
      },
      "text/plain": [
       "  0%|          | 0/50 [00:00<?, ?it/s]"
      ]
     },
     "metadata": {},
     "output_type": "display_data"
    },
    {
     "name": "stdout",
     "output_type": "stream",
     "text": [
      "     var_smoothing  oob_score  log_loss     auroc\n",
      "232       0.084951   0.667479  0.785483  0.822634\n",
      "284       0.085200   0.667479  0.785429  0.822637\n",
      "282       0.086688   0.667441  0.785113  0.822654\n",
      "21        0.087750   0.667390  0.784890  0.822666\n",
      "224       0.083116   0.667390  0.785879  0.822612\n",
      "244       0.092011   0.667378  0.784018  0.822714\n",
      "276       0.024788   0.667365  0.802583  0.821841\n",
      "266       0.088531   0.667365  0.784728  0.822675\n",
      "48        0.024178   0.667352  0.802807  0.821832\n",
      "201       0.081968   0.667352  0.786131  0.822599\n",
      "     var_smoothing  oob_score  log_loss     auroc\n",
      "37        0.274353   0.665093  0.769150  0.824251\n",
      "127       0.278372   0.665093  0.769151  0.824277\n",
      "131       0.273695   0.665093  0.769151  0.824247\n",
      "111       0.282121   0.665156  0.769159  0.824300\n",
      "49        0.269499   0.665105  0.769162  0.824220\n",
      "6         0.269297   0.665105  0.769163  0.824219\n",
      "8         0.269089   0.665131  0.769164  0.824218\n",
      "13        0.287113   0.665143  0.769183  0.824331\n",
      "125       0.264456   0.665258  0.769190  0.824188\n",
      "39        0.289465   0.665181  0.769199  0.824345\n",
      "     var_smoothing  oob_score  log_loss     auroc\n",
      "130       0.393444   0.663937  0.772298  0.824904\n",
      "128       0.393343   0.663950  0.772293  0.824904\n",
      "105       0.355809   0.664166  0.770706  0.824718\n",
      "122       0.350761   0.664407  0.770528  0.824692\n",
      "119       0.345776   0.664445  0.770361  0.824666\n",
      "139       0.333462   0.664775  0.769990  0.824600\n",
      "117       0.321081   0.664813  0.769678  0.824531\n",
      "126       0.312839   0.664966  0.769508  0.824484\n",
      "107       0.310450   0.665016  0.769464  0.824470\n",
      "137       0.306110   0.665080  0.769392  0.824445\n"
     ]
    },
    {
     "data": {
      "image/png": "[encoded data removed]",
      "text/plain": [
       "<Figure size 432x288 with 1 Axes>"
      ]
     },
     "metadata": {
      "needs_background": "light"
     },
     "output_type": "display_data"
    },
    {
     "name": "stdout",
     "output_type": "stream",
     "text": [
      "time: 1min 8s\n"
     ]
    }
   ],
   "source": [
    "tune_var_smoothing(\n",
    "    search_space=loguniform.rvs(0.01, 0.25, size=50), outfile=\"var_smoothing6\"\n",
    ")"
   ]
  },
  {
   "cell_type": "code",
   "execution_count": 15,
   "metadata": {},
   "outputs": [
    {
     "data": {
      "application/vnd.jupyter.widget-view+json": {
       "model_id": "d09220ceecd2455b9fbd672a6804fae4",
       "version_major": 2,
       "version_minor": 0
      },
      "text/plain": [
       "  0%|          | 0/50 [00:00<?, ?it/s]"
      ]
     },
     "metadata": {},
     "output_type": "display_data"
    },
    {
     "name": "stdout",
     "output_type": "stream",
     "text": [
      "     var_smoothing  oob_score  log_loss     auroc\n",
      "284       0.085200   0.667479  0.785429  0.822637\n",
      "232       0.084951   0.667479  0.785483  0.822634\n",
      "282       0.086688   0.667441  0.785113  0.822654\n",
      "21        0.087750   0.667390  0.784890  0.822666\n",
      "224       0.083116   0.667390  0.785879  0.822612\n",
      "244       0.092011   0.667378  0.784018  0.822714\n",
      "276       0.024788   0.667365  0.802583  0.821841\n",
      "266       0.088531   0.667365  0.784728  0.822675\n",
      "201       0.081968   0.667352  0.786131  0.822599\n",
      "48        0.024178   0.667352  0.802807  0.821832\n",
      "     var_smoothing  oob_score  log_loss     auroc\n",
      "345       0.275800   0.665029  0.769149  0.824260\n",
      "332       0.275525   0.665042  0.769149  0.824258\n",
      "37        0.274353   0.665093  0.769150  0.824251\n",
      "127       0.278372   0.665093  0.769151  0.824277\n",
      "131       0.273695   0.665093  0.769151  0.824247\n",
      "329       0.278999   0.665105  0.769152  0.824281\n",
      "111       0.282121   0.665156  0.769159  0.824300\n",
      "49        0.269499   0.665105  0.769162  0.824220\n",
      "6         0.269297   0.665105  0.769163  0.824219\n",
      "8         0.269089   0.665131  0.769164  0.824218\n",
      "     var_smoothing  oob_score  log_loss     auroc\n",
      "309       1.385209   0.617617  0.848274  0.826861\n",
      "327       1.295941   0.623228  0.842092  0.826811\n",
      "314       1.214905   0.628889  0.836230  0.826753\n",
      "334       1.176483   0.631352  0.833368  0.826721\n",
      "304       1.079859   0.638346  0.825941  0.826626\n",
      "340       0.947088   0.646851  0.815245  0.826453\n",
      "318       0.931303   0.647549  0.813941  0.826429\n",
      "311       0.747308   0.654303  0.798447  0.826082\n",
      "303       0.705569   0.655674  0.794923  0.825986\n",
      "330       0.616552   0.658162  0.787561  0.825747\n"
     ]
    },
    {
     "data": {
      "image/png": "[encoded data removed]",
      "text/plain": [
       "<Figure size 432x288 with 1 Axes>"
      ]
     },
     "metadata": {
      "needs_background": "light"
     },
     "output_type": "display_data"
    },
    {
     "data": {
      "application/vnd.jupyter.widget-view+json": {
       "model_id": "0163fbbe5320423ea5cc556b552fabd2",
       "version_major": 2,
       "version_minor": 0
      },
      "text/plain": [
       "  0%|          | 0/50 [00:00<?, ?it/s]"
      ]
     },
     "metadata": {},
     "output_type": "display_data"
    },
    {
     "name": "stdout",
     "output_type": "stream",
     "text": [
      "     var_smoothing  oob_score  log_loss     auroc\n",
      "284       0.085200   0.667479  0.785429  0.822637\n",
      "232       0.084951   0.667479  0.785483  0.822634\n",
      "282       0.086688   0.667441  0.785113  0.822654\n",
      "224       0.083116   0.667390  0.785879  0.822612\n",
      "21        0.087750   0.667390  0.784890  0.822666\n",
      "244       0.092011   0.667378  0.784018  0.822714\n",
      "276       0.024788   0.667365  0.802583  0.821841\n",
      "266       0.088531   0.667365  0.784728  0.822675\n",
      "48        0.024178   0.667352  0.802807  0.821832\n",
      "201       0.081968   0.667352  0.786131  0.822599\n",
      "     var_smoothing  oob_score  log_loss     auroc\n",
      "345       0.275800   0.665029  0.769149  0.824260\n",
      "332       0.275525   0.665042  0.769149  0.824258\n",
      "37        0.274353   0.665093  0.769150  0.824251\n",
      "127       0.278372   0.665093  0.769151  0.824277\n",
      "131       0.273695   0.665093  0.769151  0.824247\n",
      "329       0.278999   0.665105  0.769152  0.824281\n",
      "111       0.282121   0.665156  0.769159  0.824300\n",
      "49        0.269499   0.665105  0.769162  0.824220\n",
      "6         0.269297   0.665105  0.769163  0.824219\n",
      "8         0.269089   0.665131  0.769164  0.824218\n",
      "     var_smoothing  oob_score  log_loss     auroc\n",
      "362       1.450949   0.613834  0.852644  0.826890\n",
      "309       1.385209   0.617617  0.848274  0.826861\n",
      "350       1.369811   0.618493  0.847229  0.826853\n",
      "397       1.345837   0.620003  0.845583  0.826841\n",
      "384       1.309320   0.622326  0.843037  0.826819\n",
      "351       1.297068   0.623215  0.842172  0.826812\n",
      "327       1.295941   0.623228  0.842092  0.826811\n",
      "395       1.295767   0.623228  0.842080  0.826811\n",
      "354       1.292290   0.623507  0.841833  0.826809\n",
      "358       1.262397   0.625703  0.839695  0.826788\n"
     ]
    },
    {
     "data": {
      "image/png": "[encoded data removed]",
      "text/plain": [
       "<Figure size 432x288 with 1 Axes>"
      ]
     },
     "metadata": {
      "needs_background": "light"
     },
     "output_type": "display_data"
    },
    {
     "name": "stdout",
     "output_type": "stream",
     "text": [
      "time: 2min 16s\n"
     ]
    }
   ],
   "source": [
    "tune_var_smoothing(\n",
    "    search_space=loguniform.rvs(0.01, 1.5, size=50), outfile=\"var_smoothing7\"\n",
    ")\n",
    "tune_var_smoothing(\n",
    "    search_space=np.random.uniform(0.01, 1.5, size=50), outfile=\"var_smoothing8\"\n",
    ")"
   ]
  },
  {
   "cell_type": "code",
   "execution_count": 16,
   "metadata": {},
   "outputs": [
    {
     "data": {
      "application/vnd.jupyter.widget-view+json": {
       "model_id": "f302cb5c565144c09f053813d731d758",
       "version_major": 2,
       "version_minor": 0
      },
      "text/plain": [
       "  0%|          | 0/50 [00:00<?, ?it/s]"
      ]
     },
     "metadata": {},
     "output_type": "display_data"
    },
    {
     "name": "stdout",
     "output_type": "stream",
     "text": [
      "     var_smoothing  oob_score  log_loss     auroc\n",
      "284       0.085200   0.667479  0.785429  0.822637\n",
      "232       0.084951   0.667479  0.785483  0.822634\n",
      "282       0.086688   0.667441  0.785113  0.822654\n",
      "433       0.085368   0.667441  0.785393  0.822639\n",
      "224       0.083116   0.667390  0.785879  0.822612\n",
      "21        0.087750   0.667390  0.784890  0.822666\n",
      "244       0.092011   0.667378  0.784018  0.822714\n",
      "440       0.083329   0.667378  0.785833  0.822615\n",
      "276       0.024788   0.667365  0.802583  0.821841\n",
      "266       0.088531   0.667365  0.784728  0.822675\n",
      "     var_smoothing  oob_score  log_loss     auroc\n",
      "345       0.275800   0.665029  0.769149  0.824260\n",
      "332       0.275525   0.665042  0.769149  0.824258\n",
      "37        0.274353   0.665093  0.769150  0.824251\n",
      "127       0.278372   0.665093  0.769151  0.824277\n",
      "131       0.273695   0.665093  0.769151  0.824247\n",
      "329       0.278999   0.665105  0.769152  0.824281\n",
      "111       0.282121   0.665156  0.769159  0.824300\n",
      "49        0.269499   0.665105  0.769162  0.824220\n",
      "6         0.269297   0.665105  0.769163  0.824219\n",
      "8         0.269089   0.665131  0.769164  0.824218\n",
      "     var_smoothing  oob_score  log_loss     auroc\n",
      "362       1.450949   0.613834  0.852644  0.826890\n",
      "309       1.385209   0.617617  0.848274  0.826861\n",
      "350       1.369811   0.618493  0.847229  0.826853\n",
      "397       1.345837   0.620003  0.845583  0.826841\n",
      "384       1.309320   0.622326  0.843037  0.826819\n",
      "351       1.297068   0.623215  0.842172  0.826812\n",
      "327       1.295941   0.623228  0.842092  0.826811\n",
      "395       1.295767   0.623228  0.842080  0.826811\n",
      "354       1.292290   0.623507  0.841833  0.826809\n",
      "358       1.262397   0.625703  0.839695  0.826788\n"
     ]
    },
    {
     "data": {
      "image/png": "[encoded data removed]",
      "text/plain": [
       "<Figure size 432x288 with 1 Axes>"
      ]
     },
     "metadata": {
      "needs_background": "light"
     },
     "output_type": "display_data"
    },
    {
     "data": {
      "application/vnd.jupyter.widget-view+json": {
       "model_id": "fa4147ba610a49c6bd3d6344fac2ad9a",
       "version_major": 2,
       "version_minor": 0
      },
      "text/plain": [
       "  0%|          | 0/50 [00:00<?, ?it/s]"
      ]
     },
     "metadata": {},
     "output_type": "display_data"
    },
    {
     "name": "stdout",
     "output_type": "stream",
     "text": [
      "     var_smoothing  oob_score  log_loss     auroc\n",
      "284       0.085200   0.667479  0.785429  0.822637\n",
      "232       0.084951   0.667479  0.785483  0.822634\n",
      "433       0.085368   0.667441  0.785393  0.822639\n",
      "282       0.086688   0.667441  0.785113  0.822654\n",
      "465       0.086601   0.667416  0.785131  0.822653\n",
      "224       0.083116   0.667390  0.785879  0.822612\n",
      "21        0.087750   0.667390  0.784890  0.822666\n",
      "244       0.092011   0.667378  0.784018  0.822714\n",
      "440       0.083329   0.667378  0.785833  0.822615\n",
      "276       0.024788   0.667365  0.802583  0.821841\n",
      "     var_smoothing  oob_score  log_loss     auroc\n",
      "345       0.275800   0.665029  0.769149  0.824260\n",
      "332       0.275525   0.665042  0.769149  0.824258\n",
      "37        0.274353   0.665093  0.769150  0.824251\n",
      "127       0.278372   0.665093  0.769151  0.824277\n",
      "131       0.273695   0.665093  0.769151  0.824247\n",
      "496       0.273495   0.665105  0.769151  0.824246\n",
      "329       0.278999   0.665105  0.769152  0.824281\n",
      "479       0.279536   0.665093  0.769153  0.824284\n",
      "492       0.281655   0.665143  0.769158  0.824297\n",
      "111       0.282121   0.665156  0.769159  0.824300\n",
      "     var_smoothing  oob_score  log_loss     auroc\n",
      "362       1.450949   0.613834  0.852644  0.826890\n",
      "309       1.385209   0.617617  0.848274  0.826861\n",
      "350       1.369811   0.618493  0.847229  0.826853\n",
      "397       1.345837   0.620003  0.845583  0.826841\n",
      "384       1.309320   0.622326  0.843037  0.826819\n",
      "351       1.297068   0.623215  0.842172  0.826812\n",
      "327       1.295941   0.623228  0.842092  0.826811\n",
      "395       1.295767   0.623228  0.842080  0.826811\n",
      "354       1.292290   0.623507  0.841833  0.826809\n",
      "358       1.262397   0.625703  0.839695  0.826788\n"
     ]
    },
    {
     "data": {
      "image/png": "[encoded data removed]",
      "text/plain": [
       "<Figure size 432x288 with 1 Axes>"
      ]
     },
     "metadata": {
      "needs_background": "light"
     },
     "output_type": "display_data"
    },
    {
     "name": "stdout",
     "output_type": "stream",
     "text": [
      "time: 2min 17s\n"
     ]
    }
   ],
   "source": [
    "tune_var_smoothing(\n",
    "    search_space=loguniform.rvs(0.015, 0.4, size=50), outfile=\"var_smoothing9\"\n",
    ")\n",
    "tune_var_smoothing(\n",
    "    search_space=np.random.uniform(0.016, 0.399, size=50), outfile=\"var_smoothing10\"\n",
    ")"
   ]
  },
  {
   "cell_type": "code",
   "execution_count": 17,
   "metadata": {},
   "outputs": [
    {
     "name": "stdout",
     "output_type": "stream",
     "text": [
      "time: 82.3 ms\n"
     ]
    }
   ],
   "source": [
    "files = [\n",
    "    \"var_smoothing1.feather\",\n",
    "    \"var_smoothing2.feather\",\n",
    "    \"var_smoothing3.feather\",\n",
    "    \"var_smoothing4.feather\",\n",
    "    \"var_smoothing5.feather\",\n",
    "    \"var_smoothing6.feather\",\n",
    "    \"var_smoothing7.feather\",\n",
    "    \"var_smoothing8.feather\",\n",
    "    \"var_smoothing9.feather\",\n",
    "    \"var_smoothing10.feather\",\n",
    "]\n",
    "df = pd.concat(\n",
    "    [pd.read_feather(f\"{DATA_OUT_FOLDER}/{file}\") for file in files],\n",
    "    axis=\"rows\",\n",
    ")"
   ]
  },
  {
   "cell_type": "code",
   "execution_count": 18,
   "metadata": {},
   "outputs": [
    {
     "data": {
      "text/plain": [
       "<AxesSubplot:xlabel='var_smoothing', ylabel='auroc'>"
      ]
     },
     "execution_count": 18,
     "metadata": {},
     "output_type": "execute_result"
    },
    {
     "name": "stderr",
     "output_type": "stream",
     "text": [
      "WARNING:matplotlib.legend:No handles with labels found to put in legend.\n"
     ]
    },
    {
     "data": {
      "text/plain": [
       "<matplotlib.legend.Legend at 0x1d25aa88730>"
      ]
     },
     "execution_count": 18,
     "metadata": {},
     "output_type": "execute_result"
    },
    {
     "data": {
      "image/png": "[encoded data removed]",
      "text/plain": [
       "<Figure size 432x288 with 1 Axes>"
      ]
     },
     "metadata": {
      "needs_background": "light"
     },
     "output_type": "display_data"
    },
    {
     "data": {
      "text/plain": [
       "<AxesSubplot:xlabel='var_smoothing', ylabel='log_loss'>"
      ]
     },
     "execution_count": 18,
     "metadata": {},
     "output_type": "execute_result"
    },
    {
     "name": "stderr",
     "output_type": "stream",
     "text": [
      "WARNING:matplotlib.legend:No handles with labels found to put in legend.\n"
     ]
    },
    {
     "data": {
      "text/plain": [
       "<matplotlib.legend.Legend at 0x1d25b3b0070>"
      ]
     },
     "execution_count": 18,
     "metadata": {},
     "output_type": "execute_result"
    },
    {
     "data": {
      "image/png": "[encoded data removed]",
      "text/plain": [
       "<Figure size 432x288 with 1 Axes>"
      ]
     },
     "metadata": {
      "needs_background": "light"
     },
     "output_type": "display_data"
    },
    {
     "data": {
      "text/plain": [
       "<AxesSubplot:xlabel='var_smoothing', ylabel='oob_score'>"
      ]
     },
     "execution_count": 18,
     "metadata": {},
     "output_type": "execute_result"
    },
    {
     "name": "stderr",
     "output_type": "stream",
     "text": [
      "WARNING:matplotlib.legend:No handles with labels found to put in legend.\n"
     ]
    },
    {
     "data": {
      "text/plain": [
       "<matplotlib.legend.Legend at 0x1d252f89880>"
      ]
     },
     "execution_count": 18,
     "metadata": {},
     "output_type": "execute_result"
    },
    {
     "data": {
      "image/png": "[encoded data removed]",
      "text/plain": [
       "<Figure size 432x288 with 1 Axes>"
      ]
     },
     "metadata": {
      "needs_background": "light"
     },
     "output_type": "display_data"
    },
    {
     "name": "stdout",
     "output_type": "stream",
     "text": [
      "time: 565 ms\n"
     ]
    }
   ],
   "source": [
    "for metric in (\"auroc\", \"log_loss\", \"oob_score\"):\n",
    "    # plot\n",
    "    df.sort_values(by=\"var_smoothing\").plot(x=\"var_smoothing\", y=metric, kind=\"scatter\")\n",
    "    plt.legend(frameon=False)\n",
    "    sns.despine(top=True, right=True)\n",
    "    plt.tight_layout()\n",
    "    plt.show()"
   ]
  },
  {
   "cell_type": "code",
   "execution_count": 19,
   "metadata": {},
   "outputs": [
    {
     "data": {
      "text/html": [
       "<div>\n",
       "<style scoped>\n",
       "    .dataframe tbody tr th:only-of-type {\n",
       "        vertical-align: middle;\n",
       "    }\n",
       "\n",
       "    .dataframe tbody tr th {\n",
       "        vertical-align: top;\n",
       "    }\n",
       "\n",
       "    .dataframe thead th {\n",
       "        text-align: right;\n",
       "    }\n",
       "</style>\n",
       "<table border=\"1\" class=\"dataframe\">\n",
       "  <thead>\n",
       "    <tr style=\"text-align: right;\">\n",
       "      <th></th>\n",
       "      <th>var_smoothing</th>\n",
       "      <th>oob_score</th>\n",
       "      <th>log_loss</th>\n",
       "      <th>auroc</th>\n",
       "    </tr>\n",
       "  </thead>\n",
       "  <tbody>\n",
       "    <tr>\n",
       "      <th>307</th>\n",
       "      <td>0.2758</td>\n",
       "      <td>0.665029</td>\n",
       "      <td>0.769149</td>\n",
       "      <td>0.82426</td>\n",
       "    </tr>\n",
       "  </tbody>\n",
       "</table>\n",
       "</div>"
      ],
      "text/plain": [
       "     var_smoothing  oob_score  log_loss    auroc\n",
       "307         0.2758   0.665029  0.769149  0.82426"
      ]
     },
     "execution_count": 19,
     "metadata": {},
     "output_type": "execute_result"
    },
    {
     "data": {
      "text/html": [
       "<div>\n",
       "<style scoped>\n",
       "    .dataframe tbody tr th:only-of-type {\n",
       "        vertical-align: middle;\n",
       "    }\n",
       "\n",
       "    .dataframe tbody tr th {\n",
       "        vertical-align: top;\n",
       "    }\n",
       "\n",
       "    .dataframe thead th {\n",
       "        text-align: right;\n",
       "    }\n",
       "</style>\n",
       "<table border=\"1\" class=\"dataframe\">\n",
       "  <thead>\n",
       "    <tr style=\"text-align: right;\">\n",
       "      <th></th>\n",
       "      <th>var_smoothing</th>\n",
       "      <th>oob_score</th>\n",
       "      <th>log_loss</th>\n",
       "      <th>auroc</th>\n",
       "    </tr>\n",
       "  </thead>\n",
       "  <tbody>\n",
       "    <tr>\n",
       "      <th>120</th>\n",
       "      <td>0.085200</td>\n",
       "      <td>0.667479</td>\n",
       "      <td>0.785429</td>\n",
       "      <td>0.822637</td>\n",
       "    </tr>\n",
       "    <tr>\n",
       "      <th>87</th>\n",
       "      <td>0.084951</td>\n",
       "      <td>0.667479</td>\n",
       "      <td>0.785483</td>\n",
       "      <td>0.822634</td>\n",
       "    </tr>\n",
       "  </tbody>\n",
       "</table>\n",
       "</div>"
      ],
      "text/plain": [
       "     var_smoothing  oob_score  log_loss     auroc\n",
       "120       0.085200   0.667479  0.785429  0.822637\n",
       "87        0.084951   0.667479  0.785483  0.822634"
      ]
     },
     "execution_count": 19,
     "metadata": {},
     "output_type": "execute_result"
    },
    {
     "data": {
      "text/html": [
       "<div>\n",
       "<style scoped>\n",
       "    .dataframe tbody tr th:only-of-type {\n",
       "        vertical-align: middle;\n",
       "    }\n",
       "\n",
       "    .dataframe tbody tr th {\n",
       "        vertical-align: top;\n",
       "    }\n",
       "\n",
       "    .dataframe thead th {\n",
       "        text-align: right;\n",
       "    }\n",
       "</style>\n",
       "<table border=\"1\" class=\"dataframe\">\n",
       "  <thead>\n",
       "    <tr style=\"text-align: right;\">\n",
       "      <th></th>\n",
       "      <th>var_smoothing</th>\n",
       "      <th>oob_score</th>\n",
       "      <th>log_loss</th>\n",
       "      <th>auroc</th>\n",
       "    </tr>\n",
       "  </thead>\n",
       "  <tbody>\n",
       "    <tr>\n",
       "      <th>399</th>\n",
       "      <td>1.450949</td>\n",
       "      <td>0.613834</td>\n",
       "      <td>0.852644</td>\n",
       "      <td>0.82689</td>\n",
       "    </tr>\n",
       "  </tbody>\n",
       "</table>\n",
       "</div>"
      ],
      "text/plain": [
       "     var_smoothing  oob_score  log_loss    auroc\n",
       "399       1.450949   0.613834  0.852644  0.82689"
      ]
     },
     "execution_count": 19,
     "metadata": {},
     "output_type": "execute_result"
    },
    {
     "name": "stdout",
     "output_type": "stream",
     "text": [
      "time: 23.4 ms\n"
     ]
    }
   ],
   "source": [
    "# best\n",
    "df = df.drop_duplicates()\n",
    "df.loc[df.log_loss == df.log_loss.min()]\n",
    "df.loc[df.oob_score == df.oob_score.max()].sort_values(by=\"log_loss\", ascending=True)\n",
    "df.loc[df.auroc == df.auroc.max()]"
   ]
  },
  {
   "cell_type": "code",
   "execution_count": 20,
   "metadata": {},
   "outputs": [
    {
     "data": {
      "text/html": [
       "<div>\n",
       "<style scoped>\n",
       "    .dataframe tbody tr th:only-of-type {\n",
       "        vertical-align: middle;\n",
       "    }\n",
       "\n",
       "    .dataframe tbody tr th {\n",
       "        vertical-align: top;\n",
       "    }\n",
       "\n",
       "    .dataframe thead th {\n",
       "        text-align: right;\n",
       "    }\n",
       "</style>\n",
       "<table border=\"1\" class=\"dataframe\">\n",
       "  <thead>\n",
       "    <tr style=\"text-align: right;\">\n",
       "      <th></th>\n",
       "      <th>var_smoothing</th>\n",
       "      <th>oob_score</th>\n",
       "      <th>log_loss</th>\n",
       "      <th>auroc</th>\n",
       "    </tr>\n",
       "  </thead>\n",
       "  <tbody>\n",
       "    <tr>\n",
       "      <th>306</th>\n",
       "      <td>0.275525</td>\n",
       "      <td>0.665042</td>\n",
       "      <td>0.769149</td>\n",
       "      <td>0.824258</td>\n",
       "    </tr>\n",
       "    <tr>\n",
       "      <th>45</th>\n",
       "      <td>0.274353</td>\n",
       "      <td>0.665093</td>\n",
       "      <td>0.769150</td>\n",
       "      <td>0.824251</td>\n",
       "    </tr>\n",
       "    <tr>\n",
       "      <th>130</th>\n",
       "      <td>0.278372</td>\n",
       "      <td>0.665093</td>\n",
       "      <td>0.769151</td>\n",
       "      <td>0.824277</td>\n",
       "    </tr>\n",
       "    <tr>\n",
       "      <th>128</th>\n",
       "      <td>0.273695</td>\n",
       "      <td>0.665093</td>\n",
       "      <td>0.769151</td>\n",
       "      <td>0.824247</td>\n",
       "    </tr>\n",
       "    <tr>\n",
       "      <th>385</th>\n",
       "      <td>0.273495</td>\n",
       "      <td>0.665105</td>\n",
       "      <td>0.769151</td>\n",
       "      <td>0.824246</td>\n",
       "    </tr>\n",
       "    <tr>\n",
       "      <th>309</th>\n",
       "      <td>0.278999</td>\n",
       "      <td>0.665105</td>\n",
       "      <td>0.769152</td>\n",
       "      <td>0.824281</td>\n",
       "    </tr>\n",
       "    <tr>\n",
       "      <th>392</th>\n",
       "      <td>0.279536</td>\n",
       "      <td>0.665093</td>\n",
       "      <td>0.769153</td>\n",
       "      <td>0.824284</td>\n",
       "    </tr>\n",
       "    <tr>\n",
       "      <th>393</th>\n",
       "      <td>0.281655</td>\n",
       "      <td>0.665143</td>\n",
       "      <td>0.769158</td>\n",
       "      <td>0.824297</td>\n",
       "    </tr>\n",
       "    <tr>\n",
       "      <th>131</th>\n",
       "      <td>0.282121</td>\n",
       "      <td>0.665156</td>\n",
       "      <td>0.769159</td>\n",
       "      <td>0.824300</td>\n",
       "    </tr>\n",
       "    <tr>\n",
       "      <th>44</th>\n",
       "      <td>0.269499</td>\n",
       "      <td>0.665105</td>\n",
       "      <td>0.769162</td>\n",
       "      <td>0.824220</td>\n",
       "    </tr>\n",
       "  </tbody>\n",
       "</table>\n",
       "</div>"
      ],
      "text/plain": [
       "     var_smoothing  oob_score  log_loss     auroc\n",
       "306       0.275525   0.665042  0.769149  0.824258\n",
       "45        0.274353   0.665093  0.769150  0.824251\n",
       "130       0.278372   0.665093  0.769151  0.824277\n",
       "128       0.273695   0.665093  0.769151  0.824247\n",
       "385       0.273495   0.665105  0.769151  0.824246\n",
       "309       0.278999   0.665105  0.769152  0.824281\n",
       "392       0.279536   0.665093  0.769153  0.824284\n",
       "393       0.281655   0.665143  0.769158  0.824297\n",
       "131       0.282121   0.665156  0.769159  0.824300\n",
       "44        0.269499   0.665105  0.769162  0.824220"
      ]
     },
     "execution_count": 20,
     "metadata": {},
     "output_type": "execute_result"
    },
    {
     "data": {
      "text/html": [
       "<div>\n",
       "<style scoped>\n",
       "    .dataframe tbody tr th:only-of-type {\n",
       "        vertical-align: middle;\n",
       "    }\n",
       "\n",
       "    .dataframe tbody tr th {\n",
       "        vertical-align: top;\n",
       "    }\n",
       "\n",
       "    .dataframe thead th {\n",
       "        text-align: right;\n",
       "    }\n",
       "</style>\n",
       "<table border=\"1\" class=\"dataframe\">\n",
       "  <thead>\n",
       "    <tr style=\"text-align: right;\">\n",
       "      <th></th>\n",
       "      <th>var_smoothing</th>\n",
       "      <th>oob_score</th>\n",
       "      <th>log_loss</th>\n",
       "      <th>auroc</th>\n",
       "    </tr>\n",
       "  </thead>\n",
       "  <tbody>\n",
       "    <tr>\n",
       "      <th>121</th>\n",
       "      <td>0.086688</td>\n",
       "      <td>0.667441</td>\n",
       "      <td>0.785113</td>\n",
       "      <td>0.822654</td>\n",
       "    </tr>\n",
       "    <tr>\n",
       "      <th>168</th>\n",
       "      <td>0.085368</td>\n",
       "      <td>0.667441</td>\n",
       "      <td>0.785393</td>\n",
       "      <td>0.822639</td>\n",
       "    </tr>\n",
       "    <tr>\n",
       "      <th>179</th>\n",
       "      <td>0.086601</td>\n",
       "      <td>0.667416</td>\n",
       "      <td>0.785131</td>\n",
       "      <td>0.822653</td>\n",
       "    </tr>\n",
       "    <tr>\n",
       "      <th>86</th>\n",
       "      <td>0.083116</td>\n",
       "      <td>0.667390</td>\n",
       "      <td>0.785879</td>\n",
       "      <td>0.822612</td>\n",
       "    </tr>\n",
       "    <tr>\n",
       "      <th>10</th>\n",
       "      <td>0.087750</td>\n",
       "      <td>0.667390</td>\n",
       "      <td>0.784890</td>\n",
       "      <td>0.822666</td>\n",
       "    </tr>\n",
       "    <tr>\n",
       "      <th>91</th>\n",
       "      <td>0.092011</td>\n",
       "      <td>0.667378</td>\n",
       "      <td>0.784018</td>\n",
       "      <td>0.822714</td>\n",
       "    </tr>\n",
       "    <tr>\n",
       "      <th>165</th>\n",
       "      <td>0.083329</td>\n",
       "      <td>0.667378</td>\n",
       "      <td>0.785833</td>\n",
       "      <td>0.822615</td>\n",
       "    </tr>\n",
       "    <tr>\n",
       "      <th>68</th>\n",
       "      <td>0.024788</td>\n",
       "      <td>0.667365</td>\n",
       "      <td>0.802583</td>\n",
       "      <td>0.821841</td>\n",
       "    </tr>\n",
       "    <tr>\n",
       "      <th>123</th>\n",
       "      <td>0.088531</td>\n",
       "      <td>0.667365</td>\n",
       "      <td>0.784728</td>\n",
       "      <td>0.822675</td>\n",
       "    </tr>\n",
       "    <tr>\n",
       "      <th>85</th>\n",
       "      <td>0.081968</td>\n",
       "      <td>0.667352</td>\n",
       "      <td>0.786131</td>\n",
       "      <td>0.822599</td>\n",
       "    </tr>\n",
       "  </tbody>\n",
       "</table>\n",
       "</div>"
      ],
      "text/plain": [
       "     var_smoothing  oob_score  log_loss     auroc\n",
       "121       0.086688   0.667441  0.785113  0.822654\n",
       "168       0.085368   0.667441  0.785393  0.822639\n",
       "179       0.086601   0.667416  0.785131  0.822653\n",
       "86        0.083116   0.667390  0.785879  0.822612\n",
       "10        0.087750   0.667390  0.784890  0.822666\n",
       "91        0.092011   0.667378  0.784018  0.822714\n",
       "165       0.083329   0.667378  0.785833  0.822615\n",
       "68        0.024788   0.667365  0.802583  0.821841\n",
       "123       0.088531   0.667365  0.784728  0.822675\n",
       "85        0.081968   0.667352  0.786131  0.822599"
      ]
     },
     "execution_count": 20,
     "metadata": {},
     "output_type": "execute_result"
    },
    {
     "data": {
      "text/html": [
       "<div>\n",
       "<style scoped>\n",
       "    .dataframe tbody tr th:only-of-type {\n",
       "        vertical-align: middle;\n",
       "    }\n",
       "\n",
       "    .dataframe tbody tr th {\n",
       "        vertical-align: top;\n",
       "    }\n",
       "\n",
       "    .dataframe thead th {\n",
       "        text-align: right;\n",
       "    }\n",
       "</style>\n",
       "<table border=\"1\" class=\"dataframe\">\n",
       "  <thead>\n",
       "    <tr style=\"text-align: right;\">\n",
       "      <th></th>\n",
       "      <th>var_smoothing</th>\n",
       "      <th>oob_score</th>\n",
       "      <th>log_loss</th>\n",
       "      <th>auroc</th>\n",
       "    </tr>\n",
       "  </thead>\n",
       "  <tbody>\n",
       "    <tr>\n",
       "      <th>349</th>\n",
       "      <td>1.385209</td>\n",
       "      <td>0.617617</td>\n",
       "      <td>0.848274</td>\n",
       "      <td>0.826861</td>\n",
       "    </tr>\n",
       "    <tr>\n",
       "      <th>397</th>\n",
       "      <td>1.369811</td>\n",
       "      <td>0.618493</td>\n",
       "      <td>0.847229</td>\n",
       "      <td>0.826853</td>\n",
       "    </tr>\n",
       "    <tr>\n",
       "      <th>396</th>\n",
       "      <td>1.345837</td>\n",
       "      <td>0.620003</td>\n",
       "      <td>0.845583</td>\n",
       "      <td>0.826841</td>\n",
       "    </tr>\n",
       "    <tr>\n",
       "      <th>395</th>\n",
       "      <td>1.309320</td>\n",
       "      <td>0.622326</td>\n",
       "      <td>0.843037</td>\n",
       "      <td>0.826819</td>\n",
       "    </tr>\n",
       "    <tr>\n",
       "      <th>394</th>\n",
       "      <td>1.297068</td>\n",
       "      <td>0.623215</td>\n",
       "      <td>0.842172</td>\n",
       "      <td>0.826812</td>\n",
       "    </tr>\n",
       "    <tr>\n",
       "      <th>348</th>\n",
       "      <td>1.295941</td>\n",
       "      <td>0.623228</td>\n",
       "      <td>0.842092</td>\n",
       "      <td>0.826811</td>\n",
       "    </tr>\n",
       "    <tr>\n",
       "      <th>392</th>\n",
       "      <td>1.295767</td>\n",
       "      <td>0.623228</td>\n",
       "      <td>0.842080</td>\n",
       "      <td>0.826811</td>\n",
       "    </tr>\n",
       "    <tr>\n",
       "      <th>391</th>\n",
       "      <td>1.292290</td>\n",
       "      <td>0.623507</td>\n",
       "      <td>0.841833</td>\n",
       "      <td>0.826809</td>\n",
       "    </tr>\n",
       "    <tr>\n",
       "      <th>390</th>\n",
       "      <td>1.262397</td>\n",
       "      <td>0.625703</td>\n",
       "      <td>0.839695</td>\n",
       "      <td>0.826788</td>\n",
       "    </tr>\n",
       "    <tr>\n",
       "      <th>389</th>\n",
       "      <td>1.247699</td>\n",
       "      <td>0.626604</td>\n",
       "      <td>0.838631</td>\n",
       "      <td>0.826778</td>\n",
       "    </tr>\n",
       "  </tbody>\n",
       "</table>\n",
       "</div>"
      ],
      "text/plain": [
       "     var_smoothing  oob_score  log_loss     auroc\n",
       "349       1.385209   0.617617  0.848274  0.826861\n",
       "397       1.369811   0.618493  0.847229  0.826853\n",
       "396       1.345837   0.620003  0.845583  0.826841\n",
       "395       1.309320   0.622326  0.843037  0.826819\n",
       "394       1.297068   0.623215  0.842172  0.826812\n",
       "348       1.295941   0.623228  0.842092  0.826811\n",
       "392       1.295767   0.623228  0.842080  0.826811\n",
       "391       1.292290   0.623507  0.841833  0.826809\n",
       "390       1.262397   0.625703  0.839695  0.826788\n",
       "389       1.247699   0.626604  0.838631  0.826778"
      ]
     },
     "execution_count": 20,
     "metadata": {},
     "output_type": "execute_result"
    },
    {
     "name": "stdout",
     "output_type": "stream",
     "text": [
      "time: 14.1 ms\n"
     ]
    }
   ],
   "source": [
    "# next best\n",
    "df.sort_values(by=\"log_loss\", ascending=True).head(11).tail(10)\n",
    "df.sort_values(by=\"oob_score\", ascending=False).head(12).tail(10)\n",
    "df.sort_values(by=\"auroc\", ascending=False).head(11).tail(10)"
   ]
  },
  {
   "cell_type": "code",
   "execution_count": 21,
   "metadata": {},
   "outputs": [
    {
     "data": {
      "text/plain": [
       "<AxesSubplot:xlabel='var_smoothing'>"
      ]
     },
     "execution_count": 21,
     "metadata": {},
     "output_type": "execute_result"
    },
    {
     "data": {
      "text/plain": [
       "<matplotlib.legend.Legend at 0x1d25685f2e0>"
      ]
     },
     "execution_count": 21,
     "metadata": {},
     "output_type": "execute_result"
    },
    {
     "data": {
      "image/png": "[encoded data removed]",
      "text/plain": [
       "<Figure size 432x288 with 1 Axes>"
      ]
     },
     "metadata": {
      "needs_background": "light"
     },
     "output_type": "display_data"
    },
    {
     "data": {
      "text/plain": [
       "<AxesSubplot:xlabel='var_smoothing', ylabel='auroc'>"
      ]
     },
     "execution_count": 21,
     "metadata": {},
     "output_type": "execute_result"
    },
    {
     "name": "stderr",
     "output_type": "stream",
     "text": [
      "WARNING:matplotlib.legend:No handles with labels found to put in legend.\n"
     ]
    },
    {
     "data": {
      "text/plain": [
       "<matplotlib.legend.Legend at 0x1d256863eb0>"
      ]
     },
     "execution_count": 21,
     "metadata": {},
     "output_type": "execute_result"
    },
    {
     "data": {
      "image/png": "[encoded data removed]",
      "text/plain": [
       "<Figure size 432x288 with 1 Axes>"
      ]
     },
     "metadata": {
      "needs_background": "light"
     },
     "output_type": "display_data"
    },
    {
     "data": {
      "text/plain": [
       "<AxesSubplot:xlabel='var_smoothing', ylabel='log_loss'>"
      ]
     },
     "execution_count": 21,
     "metadata": {},
     "output_type": "execute_result"
    },
    {
     "name": "stderr",
     "output_type": "stream",
     "text": [
      "WARNING:matplotlib.legend:No handles with labels found to put in legend.\n"
     ]
    },
    {
     "data": {
      "text/plain": [
       "<matplotlib.legend.Legend at 0x1d25ab14f40>"
      ]
     },
     "execution_count": 21,
     "metadata": {},
     "output_type": "execute_result"
    },
    {
     "data": {
      "image/png": "[encoded data removed]",
      "text/plain": [
       "<Figure size 432x288 with 1 Axes>"
      ]
     },
     "metadata": {
      "needs_background": "light"
     },
     "output_type": "display_data"
    },
    {
     "data": {
      "text/plain": [
       "<AxesSubplot:xlabel='var_smoothing', ylabel='oob_score'>"
      ]
     },
     "execution_count": 21,
     "metadata": {},
     "output_type": "execute_result"
    },
    {
     "name": "stderr",
     "output_type": "stream",
     "text": [
      "WARNING:matplotlib.legend:No handles with labels found to put in legend.\n"
     ]
    },
    {
     "data": {
      "text/plain": [
       "<matplotlib.legend.Legend at 0x1d25b400eb0>"
      ]
     },
     "execution_count": 21,
     "metadata": {},
     "output_type": "execute_result"
    },
    {
     "data": {
      "image/png": "[encoded data removed]",
      "text/plain": [
       "<Figure size 432x288 with 1 Axes>"
      ]
     },
     "metadata": {
      "needs_background": "light"
     },
     "output_type": "display_data"
    },
    {
     "name": "stdout",
     "output_type": "stream",
     "text": [
      "time: 724 ms\n"
     ]
    }
   ],
   "source": [
    "good_df = df.loc[df.var_smoothing < 1.25]\n",
    "good_df = good_df.loc[\n",
    "    good_df.auroc < 0.826778\n",
    "]  # the top auroc models are probably overfit\n",
    "# get the spots between the two observed training optima\n",
    "good_df = good_df.loc[good_df.log_loss < 0.785429]\n",
    "good_df = good_df.loc[good_df.oob_score > 0.665029]\n",
    "\n",
    "# plot\n",
    "good_df.sort_values(by=\"var_smoothing\").plot(x=\"var_smoothing\")\n",
    "plt.legend(frameon=False)\n",
    "sns.despine(top=True, right=True)\n",
    "plt.tight_layout()\n",
    "plt.show()\n",
    "for metric in (\"auroc\", \"log_loss\", \"oob_score\"):\n",
    "    # plot\n",
    "    good_df.sort_values(by=\"var_smoothing\").plot(\n",
    "        x=\"var_smoothing\", y=metric, kind=\"scatter\"\n",
    "    )\n",
    "    plt.legend(frameon=False)\n",
    "    sns.despine(top=True, right=True)\n",
    "    plt.tight_layout()\n",
    "    plt.show()"
   ]
  },
  {
   "cell_type": "code",
   "execution_count": 22,
   "metadata": {},
   "outputs": [
    {
     "data": {
      "text/html": [
       "<div>\n",
       "<style scoped>\n",
       "    .dataframe tbody tr th:only-of-type {\n",
       "        vertical-align: middle;\n",
       "    }\n",
       "\n",
       "    .dataframe tbody tr th {\n",
       "        vertical-align: top;\n",
       "    }\n",
       "\n",
       "    .dataframe thead th {\n",
       "        text-align: right;\n",
       "    }\n",
       "</style>\n",
       "<table border=\"1\" class=\"dataframe\">\n",
       "  <thead>\n",
       "    <tr style=\"text-align: right;\">\n",
       "      <th></th>\n",
       "      <th>var_smoothing</th>\n",
       "      <th>oob_score</th>\n",
       "      <th>log_loss</th>\n",
       "      <th>auroc</th>\n",
       "    </tr>\n",
       "  </thead>\n",
       "  <tbody>\n",
       "    <tr>\n",
       "      <th>307</th>\n",
       "      <td>0.2758</td>\n",
       "      <td>0.665029</td>\n",
       "      <td>0.769149</td>\n",
       "      <td>0.82426</td>\n",
       "    </tr>\n",
       "  </tbody>\n",
       "</table>\n",
       "</div>"
      ],
      "text/plain": [
       "     var_smoothing  oob_score  log_loss    auroc\n",
       "307         0.2758   0.665029  0.769149  0.82426"
      ]
     },
     "execution_count": 22,
     "metadata": {},
     "output_type": "execute_result"
    },
    {
     "data": {
      "text/html": [
       "<div>\n",
       "<style scoped>\n",
       "    .dataframe tbody tr th:only-of-type {\n",
       "        vertical-align: middle;\n",
       "    }\n",
       "\n",
       "    .dataframe tbody tr th {\n",
       "        vertical-align: top;\n",
       "    }\n",
       "\n",
       "    .dataframe thead th {\n",
       "        text-align: right;\n",
       "    }\n",
       "</style>\n",
       "<table border=\"1\" class=\"dataframe\">\n",
       "  <thead>\n",
       "    <tr style=\"text-align: right;\">\n",
       "      <th></th>\n",
       "      <th>var_smoothing</th>\n",
       "      <th>oob_score</th>\n",
       "      <th>log_loss</th>\n",
       "      <th>auroc</th>\n",
       "    </tr>\n",
       "  </thead>\n",
       "  <tbody>\n",
       "    <tr>\n",
       "      <th>121</th>\n",
       "      <td>0.086688</td>\n",
       "      <td>0.667441</td>\n",
       "      <td>0.785113</td>\n",
       "      <td>0.822654</td>\n",
       "    </tr>\n",
       "    <tr>\n",
       "      <th>168</th>\n",
       "      <td>0.085368</td>\n",
       "      <td>0.667441</td>\n",
       "      <td>0.785393</td>\n",
       "      <td>0.822639</td>\n",
       "    </tr>\n",
       "  </tbody>\n",
       "</table>\n",
       "</div>"
      ],
      "text/plain": [
       "     var_smoothing  oob_score  log_loss     auroc\n",
       "121       0.086688   0.667441  0.785113  0.822654\n",
       "168       0.085368   0.667441  0.785393  0.822639"
      ]
     },
     "execution_count": 22,
     "metadata": {},
     "output_type": "execute_result"
    },
    {
     "data": {
      "text/html": [
       "<div>\n",
       "<style scoped>\n",
       "    .dataframe tbody tr th:only-of-type {\n",
       "        vertical-align: middle;\n",
       "    }\n",
       "\n",
       "    .dataframe tbody tr th {\n",
       "        vertical-align: top;\n",
       "    }\n",
       "\n",
       "    .dataframe thead th {\n",
       "        text-align: right;\n",
       "    }\n",
       "</style>\n",
       "<table border=\"1\" class=\"dataframe\">\n",
       "  <thead>\n",
       "    <tr style=\"text-align: right;\">\n",
       "      <th></th>\n",
       "      <th>var_smoothing</th>\n",
       "      <th>oob_score</th>\n",
       "      <th>log_loss</th>\n",
       "      <th>auroc</th>\n",
       "    </tr>\n",
       "  </thead>\n",
       "  <tbody>\n",
       "    <tr>\n",
       "      <th>140</th>\n",
       "      <td>0.30611</td>\n",
       "      <td>0.66508</td>\n",
       "      <td>0.769392</td>\n",
       "      <td>0.824445</td>\n",
       "    </tr>\n",
       "  </tbody>\n",
       "</table>\n",
       "</div>"
      ],
      "text/plain": [
       "     var_smoothing  oob_score  log_loss     auroc\n",
       "140        0.30611    0.66508  0.769392  0.824445"
      ]
     },
     "execution_count": 22,
     "metadata": {},
     "output_type": "execute_result"
    },
    {
     "name": "stdout",
     "output_type": "stream",
     "text": [
      "time: 19.2 ms\n"
     ]
    }
   ],
   "source": [
    "# better bests\n",
    "good_df.loc[good_df.log_loss == good_df.log_loss.min()]\n",
    "good_df.loc[good_df.oob_score == good_df.oob_score.max()].sort_values(\n",
    "    by=\"log_loss\", ascending=True\n",
    ")\n",
    "good_df.loc[good_df.auroc == good_df.auroc.max()]"
   ]
  },
  {
   "cell_type": "code",
   "execution_count": 23,
   "metadata": {},
   "outputs": [
    {
     "data": {
      "text/plain": [
       "0.1812436618470557"
      ]
     },
     "execution_count": 23,
     "metadata": {},
     "output_type": "execute_result"
    },
    {
     "name": "stdout",
     "output_type": "stream",
     "text": [
      "time: 4.97 ms\n"
     ]
    }
   ],
   "source": [
    "a = good_df.loc[good_df.log_loss == good_df.log_loss.min()].var_smoothing.iloc[0]\n",
    "b = (\n",
    "    good_df.loc[good_df.oob_score == good_df.oob_score.max()]\n",
    "    .sort_values(by=\"log_loss\", ascending=True)\n",
    "    .var_smoothing.iloc[0]\n",
    ")\n",
    "oob_loss_avg_var_smoothing = np.mean([a, b])\n",
    "oob_loss_avg_var_smoothing"
   ]
  },
  {
   "cell_type": "code",
   "execution_count": 24,
   "metadata": {},
   "outputs": [
    {
     "name": "stdout",
     "output_type": "stream",
     "text": [
      "time: 140 ms\n"
     ]
    }
   ],
   "source": [
    "final_gnb = BaggingClassifier(\n",
    "    base_estimator=GaussianNB(var_smoothing=oob_loss_avg_var_smoothing),\n",
    "    n_estimators=50,\n",
    "    oob_score=True,\n",
    "    n_jobs=-1,\n",
    "    random_state=SEED,\n",
    "    verbose=1,\n",
    ")\n",
    "_ = gc_collect()"
   ]
  },
  {
   "cell_type": "code",
   "execution_count": 25,
   "metadata": {},
   "outputs": [
    {
     "name": "stderr",
     "output_type": "stream",
     "text": [
      "[Parallel(n_jobs=8)]: Using backend LokyBackend with 8 concurrent workers.\n",
      "[Parallel(n_jobs=8)]: Done   2 out of   8 | elapsed:    0.1s remaining:    0.5s\n",
      "[Parallel(n_jobs=8)]: Done   8 out of   8 | elapsed:    0.1s finished\n"
     ]
    },
    {
     "data": {
      "text/plain": [
       "BaggingClassifier(base_estimator=GaussianNB(var_smoothing=0.1812436618470557),\n",
       "                  n_estimators=50, n_jobs=-1, oob_score=True, random_state=2022,\n",
       "                  verbose=1)"
      ]
     },
     "execution_count": 25,
     "metadata": {},
     "output_type": "execute_result"
    },
    {
     "name": "stdout",
     "output_type": "stream",
     "text": [
      "time: 827 ms\n"
     ]
    }
   ],
   "source": [
    "final_gnb.fit(data.loc[:, gnb_features], labels.valence)"
   ]
  },
  {
   "cell_type": "code",
   "execution_count": 26,
   "metadata": {},
   "outputs": [
    {
     "data": {
      "text/plain": [
       "0.6662096804904984"
      ]
     },
     "execution_count": 26,
     "metadata": {},
     "output_type": "execute_result"
    },
    {
     "name": "stderr",
     "output_type": "stream",
     "text": [
      "[Parallel(n_jobs=8)]: Using backend LokyBackend with 8 concurrent workers.\n",
      "[Parallel(n_jobs=8)]: Done   2 out of   8 | elapsed:    0.1s remaining:    0.6s\n",
      "[Parallel(n_jobs=8)]: Done   8 out of   8 | elapsed:    0.2s finished\n"
     ]
    },
    {
     "data": {
      "text/plain": [
       "0.772321225988232"
      ]
     },
     "execution_count": 26,
     "metadata": {},
     "output_type": "execute_result"
    },
    {
     "name": "stderr",
     "output_type": "stream",
     "text": [
      "[Parallel(n_jobs=8)]: Using backend LokyBackend with 8 concurrent workers.\n",
      "[Parallel(n_jobs=8)]: Done   2 out of   8 | elapsed:    0.1s remaining:    0.6s\n",
      "[Parallel(n_jobs=8)]: Done   8 out of   8 | elapsed:    0.3s finished\n"
     ]
    },
    {
     "data": {
      "text/plain": [
       "0.8235768117175728"
      ]
     },
     "execution_count": 26,
     "metadata": {},
     "output_type": "execute_result"
    },
    {
     "name": "stdout",
     "output_type": "stream",
     "text": [
      "time: 1.01 s\n"
     ]
    }
   ],
   "source": [
    "final_gnb.oob_score_\n",
    "log_loss(y_true, final_gnb.predict_proba(data.loc[:, gnb_features]))\n",
    "roc_auc_score(\n",
    "    y_true, final_gnb.predict_proba(data.loc[:, gnb_features]), multi_class=\"ovo\"\n",
    ")"
   ]
  },
  {
   "cell_type": "markdown",
   "metadata": {},
   "source": [
    "# Discussion"
   ]
  },
  {
   "cell_type": "markdown",
   "metadata": {},
   "source": [
    "There looks to be a sweet spot in training loss. We chose a balance between training log loss and OOB accuracy."
   ]
  },
  {
   "cell_type": "markdown",
   "metadata": {},
   "source": [
    "There are so many more possibilities for feature engineering. Upstream augmentation of the raw audio would probably be helpful as would resampling.\n",
    "\n",
    "It's important to be disciplined now and focus on deployment. Although there are numerous points of interest where tweaking is likely to yield better results, we are only deviating slightly from the feature engineering pathway we already established."
   ]
  },
  {
   "cell_type": "code",
   "execution_count": 27,
   "metadata": {},
   "outputs": [
    {
     "name": "stdout",
     "output_type": "stream",
     "text": [
      "Time elapsed since notebook_begin_time: 700.9747822284698 s\n",
      "time: 101 ms\n"
     ]
    }
   ],
   "source": [
    "print(f\"Time elapsed since notebook_begin_time: {time() - notebook_begin_time} s\")\n",
    "_ = gc_collect()"
   ]
  },
  {
   "cell_type": "markdown",
   "metadata": {},
   "source": [
    "[^top](#Contents)"
   ]
  },
  {
   "cell_type": "code",
   "execution_count": null,
   "metadata": {},
   "outputs": [],
   "source": []
  }
 ],
 "metadata": {
  "interpreter": {
   "hash": "e1781be99c106060f3abc0c9b91d3d379f24672894e2158d4b74304109955878"
  },
  "kernelspec": {
   "display_name": "Python [conda env:capstone_pyspark_38] *",
   "language": "python",
   "name": "python3"
  },
  "language_info": {
   "codemirror_mode": {
    "name": "ipython",
    "version": 3
   },
   "file_extension": ".py",
   "mimetype": "text/x-python",
   "name": "python",
   "nbconvert_exporter": "python",
   "pygments_lexer": "ipython3",
   "version": "3.8.12"
  }
 },
 "nbformat": 4,
 "nbformat_minor": 4
}
