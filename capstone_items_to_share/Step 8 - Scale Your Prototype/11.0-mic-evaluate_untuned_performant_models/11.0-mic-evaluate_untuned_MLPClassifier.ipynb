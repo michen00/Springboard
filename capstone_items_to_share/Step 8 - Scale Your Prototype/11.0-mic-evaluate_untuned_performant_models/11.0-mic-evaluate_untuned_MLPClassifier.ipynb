{
 "cells": [
  {
   "cell_type": "markdown",
   "metadata": {},
   "source": [
    "# Contents\n",
    "* [Introduction](#Introduction)\n",
    "* [Imports and configuration](#Imports-and-configuration)\n",
    "* [Setup](#Setup)\n",
    "* [Models](#Models)\n",
    "* [Test harness](#Test-harness)\n",
    "* [Metaclassifier](#Metaclassifier)\n",
    "* [Results](#Results)\n",
    "* [Discussion](#Discussion)"
   ]
  },
  {
   "cell_type": "markdown",
   "metadata": {},
   "source": [
    "# Introduction\n",
    "\n",
    "In this notebook, the MLPClassifier from sklearn is cross validated with untuned hyperparameters.\n",
    "\n",
    "5-fold train-test splits with scaling, dimensionality reduction, and resampling have already been preprocessed on the full dataset. The results are visualized and discussed."
   ]
  },
  {
   "cell_type": "markdown",
   "metadata": {},
   "source": [
    "# Imports and configuration"
   ]
  },
  {
   "cell_type": "code",
   "execution_count": 1,
   "metadata": {},
   "outputs": [],
   "source": [
    "from time import time\n",
    "\n",
    "notebook_begin_time = time()\n",
    "\n",
    "# set random seeds\n",
    "\n",
    "from os import environ\n",
    "from random import seed as random_seed\n",
    "from numpy.random import seed as np_seed\n",
    "from tensorflow.random import set_seed\n",
    "\n",
    "\n",
    "def reset_seeds(seed: int) -> None:\n",
    "    \"\"\"Utility function for resetting random seeds\"\"\"\n",
    "    environ[\"PYTHONHASHSEED\"] = str(seed)\n",
    "    random_seed(seed)\n",
    "    np_seed(seed)\n",
    "    set_seed(seed)\n",
    "\n",
    "\n",
    "reset_seeds(SEED := 2021)\n",
    "del environ\n",
    "del random_seed\n",
    "del np_seed\n",
    "del set_seed\n",
    "del reset_seeds"
   ]
  },
  {
   "cell_type": "code",
   "execution_count": 2,
   "metadata": {},
   "outputs": [],
   "source": [
    "# extensions\n",
    "%load_ext autotime\n",
    "%load_ext lab_black\n",
    "%load_ext nb_black"
   ]
  },
  {
   "cell_type": "code",
   "execution_count": 3,
   "metadata": {},
   "outputs": [
    {
     "name": "stdout",
     "output_type": "stream",
     "text": [
      "time: 5.27 s\n"
     ]
    }
   ],
   "source": [
    "# core\n",
    "import numpy as np\n",
    "import pandas as pd\n",
    "\n",
    "# utility\n",
    "from collections import namedtuple\n",
    "from gc import collect as gc_collect\n",
    "from os.path import exists\n",
    "from tqdm.notebook import tqdm\n",
    "\n",
    "# typing\n",
    "from typing import Dict, List, Union\n",
    "\n",
    "# faster pandas apply\n",
    "import swifter\n",
    "\n",
    "# metrics\n",
    "from imblearn.metrics import geometric_mean_score\n",
    "from sklearn.metrics import balanced_accuracy_score, f1_score, roc_auc_score\n",
    "\n",
    "# classifiers\n",
    "from sklearn.neural_network import MLPClassifier\n",
    "\n",
    "# visualization\n",
    "import matplotlib.pyplot as plt\n",
    "import seaborn as sns\n",
    "\n",
    "sns.set_context(\"notebook\")\n",
    "sns.set_style(\"whitegrid\")\n",
    "%matplotlib inline\n",
    "\n",
    "# display outputs w/o print calls\n",
    "from IPython.core.interactiveshell import InteractiveShell\n",
    "\n",
    "InteractiveShell.ast_node_interactivity = \"all\"\n",
    "del InteractiveShell\n",
    "\n",
    "# hide warnings\n",
    "import warnings\n",
    "\n",
    "warnings.filterwarnings(\"ignore\")\n",
    "del warnings"
   ]
  },
  {
   "cell_type": "code",
   "execution_count": 4,
   "metadata": {},
   "outputs": [
    {
     "name": "stdout",
     "output_type": "stream",
     "text": [
      "time: 132 ms\n"
     ]
    }
   ],
   "source": [
    "# Location of cross validation .feather files\n",
    "FRILL_FEATHERS_FOLDER = \"../10.0-mic-prepare_train-test_splits_on_full_data\"\n",
    "\n",
    "# Location where this notebook will output\n",
    "DATA_OUT_FOLDER = \".\"\n",
    "\n",
    "_ = gc_collect()"
   ]
  },
  {
   "cell_type": "markdown",
   "metadata": {},
   "source": [
    "# Setup\n",
    "\n",
    "In this section, we define some structures to keep track of models and scores.\n",
    "\n",
    "The next cell defines a Python dictionary to record the results of cross validation such that the results may be easily cast to a `pandas` dataframe."
   ]
  },
  {
   "cell_type": "code",
   "execution_count": 5,
   "metadata": {},
   "outputs": [
    {
     "name": "stdout",
     "output_type": "stream",
     "text": [
      "time: 150 ms\n"
     ]
    }
   ],
   "source": [
    "METRICS = (\n",
    "    \"balanced_accuracy\",\n",
    "    \"f1\",\n",
    "    \"geometric_mean\",\n",
    "    \"roc_auc\",\n",
    "    \"fit_time\",\n",
    "    \"predict_time\",\n",
    ")\n",
    "\n",
    "# to be cast to pd.DataFrame\n",
    "make_results = lambda: {key: [] for key in {\"model_name\", \"case\", *METRICS}}\n",
    "results_ = make_results()\n",
    "\n",
    "AvgScores = namedtuple(\"AvgScores\", METRICS)\n",
    "\n",
    "\n",
    "def store_result(\n",
    "    where: Dict[str, List],\n",
    "    case: str,\n",
    "    model_name: str,\n",
    "    avg_scores: AvgScores,\n",
    ") -> None:\n",
    "    \"Appends a model's scores and fit/predict times to the results dict.\"\n",
    "    for attribute, value in {\n",
    "        \"model_name\": model_name,\n",
    "        \"case\": case,\n",
    "        **avg_scores._asdict(),\n",
    "    }.items():\n",
    "        where[attribute].append(value)\n",
    "\n",
    "\n",
    "ALL_CASES = {\"negative\", \"neutral\", \"ternary\", \"ternary_negneu\"}\n",
    "\n",
    "_ = gc_collect()"
   ]
  },
  {
   "cell_type": "code",
   "execution_count": 6,
   "metadata": {},
   "outputs": [
    {
     "name": "stdout",
     "output_type": "stream",
     "text": [
      "time: 122 ms\n"
     ]
    }
   ],
   "source": [
    "predictions_ = {key: [] for key in {\"model\", \"case\", \"fold\", \"y_pred\"}}\n",
    "\n",
    "Prediction = namedtuple(\"Prediction\", predictions_.keys())\n",
    "\n",
    "\n",
    "def store_prediction(where: Dict[str, List], prediction: Prediction) -> None:\n",
    "    \"Records the y_pred of a classifier on a fold\"\n",
    "    for k, v in prediction._asdict().items():\n",
    "        where[k].append(v)\n",
    "\n",
    "\n",
    "_ = gc_collect()"
   ]
  },
  {
   "cell_type": "markdown",
   "metadata": {},
   "source": [
    "# Models\n",
    "\n",
    "This notebook focuses on the MLPClassifier from sklearn. Other models were evaluated in other notebooks."
   ]
  },
  {
   "cell_type": "code",
   "execution_count": 7,
   "metadata": {},
   "outputs": [
    {
     "name": "stdout",
     "output_type": "stream",
     "text": [
      "time: 118 ms\n"
     ]
    }
   ],
   "source": [
    "MODELS = {\n",
    "    \"MLP\": lambda: MLPClassifier(random_state=SEED),\n",
    "}\n",
    "\n",
    "_ = gc_collect()"
   ]
  },
  {
   "cell_type": "markdown",
   "metadata": {},
   "source": [
    "# Test harness\n",
    "\n",
    "This section defines functions for evaluating models."
   ]
  },
  {
   "cell_type": "code",
   "execution_count": 8,
   "metadata": {},
   "outputs": [
    {
     "name": "stdout",
     "output_type": "stream",
     "text": [
      "time: 137 ms\n"
     ]
    }
   ],
   "source": [
    "def prep_y_pred(label: Union[int, bool], case: str) -> List:\n",
    "    \"\"\"Prepares labels for AUROC scoring\"\"\"\n",
    "    if \"ternary\" in case:\n",
    "        _ = [0, 0, 0]\n",
    "        _[int(label)] = 1\n",
    "        return np.asarray(_, dtype=np.int8)\n",
    "    else:\n",
    "        return np.int8(label)\n",
    "\n",
    "\n",
    "def evaluate_model(\n",
    "    model_base: str, case: str, track_fold_time: bool = True\n",
    ") -> AvgScores:\n",
    "    \"\"\"Evaluate a model with cross validation on prepared folds.\"\"\"\n",
    "\n",
    "    fit_times, predict_times, balanced_accuracy, f1, geometric_mean, roc_auc = (\n",
    "        [],\n",
    "        [],\n",
    "        [],\n",
    "        [],\n",
    "        [],\n",
    "        [],\n",
    "    )\n",
    "    fold_num = 0\n",
    "    while True:\n",
    "        if track_fold_time:\n",
    "            fold_begin = time()\n",
    "\n",
    "        # helper function\n",
    "        read_feather_cv = lambda _set: pd.read_feather(\n",
    "            f\"{FRILL_FEATHERS_FOLDER}/cv_{fold_num}/{_set}{'' if _set == 'X_test' else f'_{case[:3]}'}.feather\"\n",
    "        )\n",
    "\n",
    "        # load training data\n",
    "        try:\n",
    "            X_train, y_train = read_feather_cv(\"X_train\"), np.squeeze(\n",
    "                read_feather_cv(\"y_train\").values\n",
    "            )\n",
    "        except FileNotFoundError:\n",
    "            break\n",
    "\n",
    "        # initialize model\n",
    "        model = MODELS[model_base]()\n",
    "\n",
    "        # fit\n",
    "        begin = time()\n",
    "        model.fit(X_train, y_train)\n",
    "        end = time()\n",
    "        del X_train\n",
    "        del y_train\n",
    "        _ = gc_collect()\n",
    "        fit_times.append(end - begin)\n",
    "        print(f\"fitted in {end - begin:.2f} s\")\n",
    "\n",
    "        # load test data\n",
    "        X_test = read_feather_cv(\"X_test\")\n",
    "\n",
    "        # predict\n",
    "        begin = time()\n",
    "        predicted = model.predict(X_test)\n",
    "        end = time()\n",
    "        del X_test\n",
    "        del model\n",
    "        _ = gc_collect()\n",
    "        predict_times.append(end - begin)\n",
    "        print(f\"predicted in {end - begin:.2f} s\")\n",
    "        del end\n",
    "        del begin\n",
    "        _ = gc_collect()\n",
    "        store_prediction(\n",
    "            where=predictions_,\n",
    "            prediction=Prediction(\n",
    "                model=model_base,\n",
    "                case=case,\n",
    "                fold=fold_num,\n",
    "                y_pred=predicted,\n",
    "            ),\n",
    "        )\n",
    "\n",
    "        # score\n",
    "        score_params = {\n",
    "            \"y_true\": np.squeeze(read_feather_cv(\"y_test\").values),\n",
    "            \"y_pred\": predicted,\n",
    "        }\n",
    "        balanced_accuracy.append(balanced_accuracy_score(**score_params, adjusted=True))\n",
    "        f1.append(f1_score(**score_params, average=\"weighted\"))\n",
    "        geometric_mean.append(geometric_mean_score(**score_params))\n",
    "        roc_auc.append(\n",
    "            roc_auc_score(\n",
    "                y_true=score_params[\"y_true\"].astype(np.int8),\n",
    "                y_score=np.stack(\n",
    "                    pd.Series(score_params[\"y_pred\"]).swifter.apply(\n",
    "                        prep_y_pred, case=case\n",
    "                    )\n",
    "                ),\n",
    "                average=\"weighted\",\n",
    "                multi_class=\"ovo\",\n",
    "            )\n",
    "        )\n",
    "        del score_params\n",
    "        del predicted\n",
    "        _ = gc_collect()\n",
    "\n",
    "        if track_fold_time:\n",
    "            print(\n",
    "                f\"{model_base} fold {fold_num + 1} completed in {time() - fold_begin:.2f} s\"\n",
    "            )\n",
    "            del fold_begin\n",
    "\n",
    "        fold_num += 1\n",
    "        _ = gc_collect()\n",
    "\n",
    "    return AvgScores(\n",
    "        *[\n",
    "            np.mean(_)\n",
    "            for _ in (\n",
    "                balanced_accuracy,\n",
    "                f1,\n",
    "                geometric_mean,\n",
    "                roc_auc,\n",
    "                fit_times,\n",
    "                predict_times,\n",
    "            )\n",
    "        ]\n",
    "    )\n",
    "\n",
    "\n",
    "_ = gc_collect()"
   ]
  },
  {
   "cell_type": "markdown",
   "metadata": {},
   "source": [
    "The next few cells evaluate models."
   ]
  },
  {
   "cell_type": "code",
   "execution_count": 9,
   "metadata": {},
   "outputs": [
    {
     "name": "stdout",
     "output_type": "stream",
     "text": [
      "evaluating MLP...\n",
      "fitted in 485.18 s\n",
      "predicted in 0.08 s\n",
      "MLP fold 1 completed in 488.06 s\n",
      "fitted in 492.62 s\n",
      "predicted in 0.09 s\n",
      "MLP fold 2 completed in 495.61 s\n",
      "fitted in 435.28 s\n",
      "predicted in 0.14 s\n",
      "MLP fold 3 completed in 438.20 s\n",
      "fitted in 317.90 s\n",
      "predicted in 0.19 s\n",
      "MLP fold 4 completed in 320.83 s\n",
      "fitted in 495.44 s\n",
      "predicted in 0.09 s\n",
      "MLP fold 5 completed in 498.49 s\n",
      "stored MLP for negative classification in 2241.74 s\n",
      "time: 37min 21s\n"
     ]
    }
   ],
   "source": [
    "case = \"negative\"\n",
    "for model in MODELS:\n",
    "    loop_begin = time()\n",
    "    print(f\"evaluating {model}...\")\n",
    "    store_result(\n",
    "        where=results_,\n",
    "        case=case,\n",
    "        model_name=model,\n",
    "        avg_scores=evaluate_model(model, case),\n",
    "    )\n",
    "    print(f\"stored {model} for {case} classification in {time() - loop_begin:.2f} s\")\n",
    "    del loop_begin\n",
    "    _ = gc_collect()"
   ]
  },
  {
   "cell_type": "code",
   "execution_count": 10,
   "metadata": {},
   "outputs": [
    {
     "name": "stdout",
     "output_type": "stream",
     "text": [
      "evaluating MLP...\n",
      "fitted in 574.98 s\n",
      "predicted in 0.09 s\n",
      "MLP fold 1 completed in 578.57 s\n",
      "fitted in 713.96 s\n",
      "predicted in 0.07 s\n",
      "MLP fold 2 completed in 717.47 s\n",
      "fitted in 571.79 s\n",
      "predicted in 0.15 s\n",
      "MLP fold 3 completed in 575.53 s\n",
      "fitted in 345.02 s\n",
      "predicted in 0.18 s\n",
      "MLP fold 4 completed in 348.61 s\n",
      "fitted in 765.67 s\n",
      "predicted in 0.15 s\n",
      "MLP fold 5 completed in 769.37 s\n",
      "stored MLP for neutral classification in 2990.12 s\n",
      "time: 49min 50s\n"
     ]
    }
   ],
   "source": [
    "case = \"neutral\"\n",
    "for model in MODELS:\n",
    "    loop_begin = time()\n",
    "    print(f\"evaluating {model}...\")\n",
    "    store_result(\n",
    "        where=results_,\n",
    "        case=case,\n",
    "        model_name=model,\n",
    "        avg_scores=evaluate_model(model, case),\n",
    "    )\n",
    "    print(f\"stored {model} for {case} classification in {time() - loop_begin:.2f} s\")\n",
    "    del loop_begin\n",
    "    _ = gc_collect()"
   ]
  },
  {
   "cell_type": "code",
   "execution_count": 11,
   "metadata": {},
   "outputs": [
    {
     "name": "stdout",
     "output_type": "stream",
     "text": [
      "evaluating MLP...\n",
      "fitted in 854.39 s\n",
      "predicted in 0.11 s\n"
     ]
    },
    {
     "name": "stderr",
     "output_type": "stream",
     "text": [
      "Pandas Apply: 100%|██████████| 13494/13494 [00:00<00:00, 207549.57it/s]\n"
     ]
    },
    {
     "name": "stdout",
     "output_type": "stream",
     "text": [
      "MLP fold 1 completed in 858.45 s\n",
      "fitted in 954.16 s\n",
      "predicted in 0.11 s\n"
     ]
    },
    {
     "name": "stderr",
     "output_type": "stream",
     "text": [
      "Pandas Apply: 100%|██████████| 11524/11524 [00:00<00:00, 199145.33it/s]\n"
     ]
    },
    {
     "name": "stdout",
     "output_type": "stream",
     "text": [
      "MLP fold 2 completed in 958.05 s\n",
      "fitted in 612.59 s\n",
      "predicted in 0.14 s\n"
     ]
    },
    {
     "name": "stderr",
     "output_type": "stream",
     "text": [
      "Pandas Apply: 100%|██████████| 19319/19319 [00:00<00:00, 247296.78it/s]\n"
     ]
    },
    {
     "name": "stdout",
     "output_type": "stream",
     "text": [
      "MLP fold 3 completed in 616.72 s\n",
      "fitted in 739.84 s\n",
      "predicted in 0.17 s\n"
     ]
    },
    {
     "name": "stderr",
     "output_type": "stream",
     "text": [
      "Pandas Apply: 100%|██████████| 25883/25883 [00:00<00:00, 186206.80it/s]\n"
     ]
    },
    {
     "name": "stdout",
     "output_type": "stream",
     "text": [
      "MLP fold 4 completed in 743.73 s\n",
      "fitted in 698.74 s\n",
      "predicted in 0.11 s\n"
     ]
    },
    {
     "name": "stderr",
     "output_type": "stream",
     "text": [
      "Pandas Apply: 100%|██████████| 16532/16532 [00:00<00:00, 192210.79it/s]\n"
     ]
    },
    {
     "name": "stdout",
     "output_type": "stream",
     "text": [
      "MLP fold 5 completed in 703.19 s\n",
      "stored MLP for ternary classification in 3880.75 s\n",
      "time: 1h 4min 40s\n"
     ]
    }
   ],
   "source": [
    "case = \"ternary\"\n",
    "for model in MODELS:\n",
    "    loop_begin = time()\n",
    "    print(f\"evaluating {model}...\")\n",
    "    store_result(\n",
    "        where=results_,\n",
    "        case=case,\n",
    "        model_name=model,\n",
    "        avg_scores=evaluate_model(model, case),\n",
    "    )\n",
    "    print(f\"stored {model} for {case} classification in {time() - loop_begin:.2f} s\")\n",
    "    del loop_begin\n",
    "    _ = gc_collect()"
   ]
  },
  {
   "cell_type": "markdown",
   "metadata": {},
   "source": [
    "Let's peek at the results."
   ]
  },
  {
   "cell_type": "code",
   "execution_count": 12,
   "metadata": {},
   "outputs": [
    {
     "data": {
      "text/html": [
       "<div>\n",
       "<style scoped>\n",
       "    .dataframe tbody tr th:only-of-type {\n",
       "        vertical-align: middle;\n",
       "    }\n",
       "\n",
       "    .dataframe tbody tr th {\n",
       "        vertical-align: top;\n",
       "    }\n",
       "\n",
       "    .dataframe thead th {\n",
       "        text-align: right;\n",
       "    }\n",
       "</style>\n",
       "<table border=\"1\" class=\"dataframe\">\n",
       "  <thead>\n",
       "    <tr style=\"text-align: right;\">\n",
       "      <th></th>\n",
       "      <th>fit_time</th>\n",
       "      <th>predict_time</th>\n",
       "      <th>roc_auc</th>\n",
       "      <th>model_name</th>\n",
       "      <th>case</th>\n",
       "      <th>geometric_mean</th>\n",
       "      <th>balanced_accuracy</th>\n",
       "      <th>f1</th>\n",
       "    </tr>\n",
       "  </thead>\n",
       "  <tbody>\n",
       "    <tr>\n",
       "      <th>0</th>\n",
       "      <td>445.282108</td>\n",
       "      <td>0.119524</td>\n",
       "      <td>0.643261</td>\n",
       "      <td>MLP</td>\n",
       "      <td>negative</td>\n",
       "      <td>0.641426</td>\n",
       "      <td>0.286521</td>\n",
       "      <td>0.647433</td>\n",
       "    </tr>\n",
       "    <tr>\n",
       "      <th>1</th>\n",
       "      <td>594.282392</td>\n",
       "      <td>0.128057</td>\n",
       "      <td>0.700604</td>\n",
       "      <td>MLP</td>\n",
       "      <td>neutral</td>\n",
       "      <td>0.679673</td>\n",
       "      <td>0.401207</td>\n",
       "      <td>0.779356</td>\n",
       "    </tr>\n",
       "    <tr>\n",
       "      <th>2</th>\n",
       "      <td>771.942046</td>\n",
       "      <td>0.128561</td>\n",
       "      <td>0.644469</td>\n",
       "      <td>MLP</td>\n",
       "      <td>ternary</td>\n",
       "      <td>0.504363</td>\n",
       "      <td>0.292461</td>\n",
       "      <td>0.580602</td>\n",
       "    </tr>\n",
       "  </tbody>\n",
       "</table>\n",
       "</div>"
      ],
      "text/plain": [
       "     fit_time  predict_time   roc_auc model_name      case  geometric_mean  \\\n",
       "0  445.282108      0.119524  0.643261        MLP  negative        0.641426   \n",
       "1  594.282392      0.128057  0.700604        MLP   neutral        0.679673   \n",
       "2  771.942046      0.128561  0.644469        MLP   ternary        0.504363   \n",
       "\n",
       "   balanced_accuracy        f1  \n",
       "0           0.286521  0.647433  \n",
       "1           0.401207  0.779356  \n",
       "2           0.292461  0.580602  "
      ]
     },
     "execution_count": 12,
     "metadata": {},
     "output_type": "execute_result"
    },
    {
     "name": "stdout",
     "output_type": "stream",
     "text": [
      "time: 39 ms\n"
     ]
    }
   ],
   "source": [
    "results_df = pd.DataFrame(results_).reset_index(drop=True)\n",
    "results_df"
   ]
  },
  {
   "cell_type": "markdown",
   "metadata": {},
   "source": [
    "# Metaclassifier\n",
    "\n",
    "After the binary classifiers are evaluated, the metaclassifiers are evaluated based on the binary predictions. The metaclassifiers' fit and score times are estimated by summing the fit and score times of the base estimators."
   ]
  },
  {
   "cell_type": "code",
   "execution_count": 13,
   "metadata": {},
   "outputs": [
    {
     "name": "stderr",
     "output_type": "stream",
     "text": [
      "Pandas Apply: 100%|██████████| 13494/13494 [00:00<00:00, 159007.09it/s]\n",
      "Pandas Apply: 100%|██████████| 11524/11524 [00:00<00:00, 133993.00it/s]\n",
      "Pandas Apply: 100%|██████████| 19319/19319 [00:00<00:00, 174609.77it/s]\n",
      "Pandas Apply: 100%|██████████| 25883/25883 [00:00<00:00, 236562.07it/s]\n",
      "Pandas Apply: 100%|██████████| 16532/16532 [00:00<00:00, 264531.17it/s]\n"
     ]
    },
    {
     "name": "stdout",
     "output_type": "stream",
     "text": [
      "stored hybrid ternary classification results for MLP+MLP\n",
      "time: 3.12 s\n"
     ]
    }
   ],
   "source": [
    "# helper function\n",
    "get_time = lambda case, model_name, metric: results_df.query(\n",
    "    f\"case == '{case}' & model_name == '{model_name}'\"\n",
    ")[metric].item()\n",
    "\n",
    "pred_df = pd.DataFrame(predictions_).query(f\"case != 'ternary'\")\n",
    "for neutral_model in MODELS.keys():\n",
    "    for negative_model in MODELS.keys():\n",
    "        balanced_accuracy, f1, geometric_mean, roc_auc = [], [], [], []\n",
    "        model_combo = f\"{neutral_model}+{negative_model}\"\n",
    "        fold_num = 0\n",
    "        while True:\n",
    "            if not exists(\n",
    "                ytrue_path := f\"{FRILL_FEATHERS_FOLDER}/cv_{fold_num}/y_test_ter.feather\"\n",
    "            ):\n",
    "                break\n",
    "            # ensemble\n",
    "            fold_df = pred_df.query(f\"fold == {fold_num}\").drop(columns=\"fold\")\n",
    "            neutral_condition = f\"case == 'neutral' & model == '{neutral_model}'\"\n",
    "            negative_condition = f\"case == 'negative' & model == '{negative_model}'\"\n",
    "            query_fold = lambda criteria: fold_df.query(criteria).y_pred.item()\n",
    "            df = pd.DataFrame(\n",
    "                {\n",
    "                    \"neutral_prediction\": query_fold(neutral_condition),\n",
    "                    \"negative_prediction\": query_fold(negative_condition),\n",
    "                }\n",
    "            )\n",
    "            del fold_df\n",
    "            del negative_condition\n",
    "            del neutral_condition\n",
    "            del query_fold\n",
    "            _ = gc_collect()\n",
    "\n",
    "            # \"predict\" 0: negative, 1: neutral, 2: positive\n",
    "            df[\"hybrid_prediction\"] = df.neutral_prediction.replace(True, 1)\n",
    "            df.loc[df[\"hybrid_prediction\"] == False, \"hybrid_prediction\"] = df.loc[\n",
    "                df[\"hybrid_prediction\"] == False, \"negative_prediction\"\n",
    "            ].replace([True, False], [0, 2])\n",
    "            y_pred = df.hybrid_prediction.astype(np.int8)\n",
    "            del df\n",
    "            _ = gc_collect()\n",
    "\n",
    "            # record y_pred\n",
    "            store_prediction(\n",
    "                where=predictions_,\n",
    "                prediction=Prediction(\n",
    "                    model=model_combo,\n",
    "                    case=\"ternary_negneu\",\n",
    "                    fold=fold_num,\n",
    "                    y_pred=y_pred,\n",
    "                ),\n",
    "            )\n",
    "\n",
    "            # score\n",
    "            score_params = {\n",
    "                \"y_true\": np.squeeze(pd.read_feather(ytrue_path).values),\n",
    "                \"y_pred\": y_pred,\n",
    "            }\n",
    "            balanced_accuracy.append(balanced_accuracy_score(**score_params))\n",
    "            f1.append(f1_score(**score_params, average=\"weighted\"))\n",
    "            geometric_mean.append(geometric_mean_score(**score_params))\n",
    "            roc_auc.append(\n",
    "                roc_auc_score(\n",
    "                    y_true=score_params[\"y_true\"].astype(np.int8),\n",
    "                    y_score=np.stack(\n",
    "                        pd.Series(score_params[\"y_pred\"]).swifter.apply(\n",
    "                            prep_y_pred, case=case\n",
    "                        )\n",
    "                    ),\n",
    "                    average=\"weighted\",\n",
    "                    multi_class=\"ovo\",\n",
    "                )\n",
    "            )\n",
    "            del score_params\n",
    "            del y_pred\n",
    "            _ = gc_collect()\n",
    "            fold_num += 1\n",
    "        del fold_num\n",
    "\n",
    "        # helper function\n",
    "        sum_times = lambda time_metric: get_time(\n",
    "            \"neutral\", neutral_model, time_metric\n",
    "        ) + get_time(\"negative\", negative_model, time_metric)\n",
    "\n",
    "        store_result(\n",
    "            where=results_,\n",
    "            case=\"ternary_negneu\",\n",
    "            model_name=model_combo,\n",
    "            avg_scores=AvgScores(\n",
    "                np.mean(balanced_accuracy),\n",
    "                np.mean(f1),\n",
    "                np.mean(geometric_mean),\n",
    "                np.mean(roc_auc),\n",
    "                sum_times(\"fit_time\"),\n",
    "                sum_times(\"predict_time\"),\n",
    "            ),\n",
    "        )\n",
    "\n",
    "        print(f\"stored hybrid ternary classification results for {model_combo}\")\n",
    "\n",
    "        del balanced_accuracy\n",
    "        del f1\n",
    "        del geometric_mean\n",
    "        del model_combo\n",
    "        _ = gc_collect()\n",
    "del pred_df\n",
    "_ = gc_collect()"
   ]
  },
  {
   "cell_type": "code",
   "execution_count": 14,
   "metadata": {},
   "outputs": [
    {
     "name": "stderr",
     "output_type": "stream",
     "text": [
      "Pandas Apply: 100%|██████████| 20/20 [00:00<00:00, 19963.37it/s]"
     ]
    },
    {
     "name": "stdout",
     "output_type": "stream",
     "text": [
      "time: 174 ms\n"
     ]
    },
    {
     "name": "stderr",
     "output_type": "stream",
     "text": [
      "\n"
     ]
    }
   ],
   "source": [
    "# save predictions\n",
    "predictions_df = pd.DataFrame(predictions_)[[\"model\", \"case\", \"fold\", \"y_pred\"]]\n",
    "predictions_df.case = predictions_df.case.astype(\"category\")\n",
    "predictions_df.fold = predictions_df.fold.astype(np.uint8)\n",
    "predictions_df.y_pred = predictions_df.y_pred.swifter.apply(np.int8)\n",
    "predictions_df.to_feather(f\"{DATA_OUT_FOLDER}/untuned_MLP_predictions_CV5.feather\")\n",
    "del predictions_df\n",
    "_ = gc_collect()"
   ]
  },
  {
   "cell_type": "markdown",
   "metadata": {},
   "source": [
    "Let's peek at the results."
   ]
  },
  {
   "cell_type": "code",
   "execution_count": 15,
   "metadata": {},
   "outputs": [
    {
     "data": {
      "text/html": [
       "<div>\n",
       "<style scoped>\n",
       "    .dataframe tbody tr th:only-of-type {\n",
       "        vertical-align: middle;\n",
       "    }\n",
       "\n",
       "    .dataframe tbody tr th {\n",
       "        vertical-align: top;\n",
       "    }\n",
       "\n",
       "    .dataframe thead th {\n",
       "        text-align: right;\n",
       "    }\n",
       "</style>\n",
       "<table border=\"1\" class=\"dataframe\">\n",
       "  <thead>\n",
       "    <tr style=\"text-align: right;\">\n",
       "      <th></th>\n",
       "      <th>model_name</th>\n",
       "      <th>case</th>\n",
       "      <th>geometric_mean</th>\n",
       "      <th>f1</th>\n",
       "      <th>balanced_accuracy</th>\n",
       "      <th>roc_auc</th>\n",
       "      <th>fit_time</th>\n",
       "      <th>predict_time</th>\n",
       "    </tr>\n",
       "  </thead>\n",
       "  <tbody>\n",
       "    <tr>\n",
       "      <th>0</th>\n",
       "      <td>MLP</td>\n",
       "      <td>negative</td>\n",
       "      <td>0.641426</td>\n",
       "      <td>0.647433</td>\n",
       "      <td>0.286521</td>\n",
       "      <td>0.643261</td>\n",
       "      <td>445.282108</td>\n",
       "      <td>0.119524</td>\n",
       "    </tr>\n",
       "    <tr>\n",
       "      <th>1</th>\n",
       "      <td>MLP</td>\n",
       "      <td>neutral</td>\n",
       "      <td>0.679673</td>\n",
       "      <td>0.779356</td>\n",
       "      <td>0.401207</td>\n",
       "      <td>0.700604</td>\n",
       "      <td>594.282392</td>\n",
       "      <td>0.128057</td>\n",
       "    </tr>\n",
       "    <tr>\n",
       "      <th>2</th>\n",
       "      <td>MLP</td>\n",
       "      <td>ternary</td>\n",
       "      <td>0.504363</td>\n",
       "      <td>0.580602</td>\n",
       "      <td>0.292461</td>\n",
       "      <td>0.644469</td>\n",
       "      <td>771.942046</td>\n",
       "      <td>0.128561</td>\n",
       "    </tr>\n",
       "    <tr>\n",
       "      <th>3</th>\n",
       "      <td>MLP+MLP</td>\n",
       "      <td>ternary_negneu</td>\n",
       "      <td>0.520552</td>\n",
       "      <td>0.572137</td>\n",
       "      <td>0.528247</td>\n",
       "      <td>0.647159</td>\n",
       "      <td>1039.564499</td>\n",
       "      <td>0.247582</td>\n",
       "    </tr>\n",
       "  </tbody>\n",
       "</table>\n",
       "</div>"
      ],
      "text/plain": [
       "  model_name            case  geometric_mean        f1  balanced_accuracy  \\\n",
       "0        MLP        negative        0.641426  0.647433           0.286521   \n",
       "1        MLP         neutral        0.679673  0.779356           0.401207   \n",
       "2        MLP         ternary        0.504363  0.580602           0.292461   \n",
       "3    MLP+MLP  ternary_negneu        0.520552  0.572137           0.528247   \n",
       "\n",
       "    roc_auc     fit_time  predict_time  \n",
       "0  0.643261   445.282108      0.119524  \n",
       "1  0.700604   594.282392      0.128057  \n",
       "2  0.644469   771.942046      0.128561  \n",
       "3  0.647159  1039.564499      0.247582  "
      ]
     },
     "execution_count": 15,
     "metadata": {},
     "output_type": "execute_result"
    },
    {
     "name": "stdout",
     "output_type": "stream",
     "text": [
      "time: 29 ms\n"
     ]
    }
   ],
   "source": [
    "results_df = (\n",
    "    pd.DataFrame(results_)\n",
    "    .sort_values(by=[\"model_name\"], ascending=True)\n",
    "    .sort_values(by=[\"fit_time\", \"predict_time\"], ascending=True)\n",
    "    .sort_values(\n",
    "        by=[\"geometric_mean\", \"f1\", \"balanced_accuracy\", \"roc_auc\"], ascending=False\n",
    "    )\n",
    "    .sort_values(by=[\"case\"], ascending=True)\n",
    "    .reset_index(drop=True)\n",
    ")[\n",
    "    [  # selection order\n",
    "        \"model_name\",\n",
    "        \"case\",\n",
    "        \"geometric_mean\",\n",
    "        \"f1\",\n",
    "        \"balanced_accuracy\",\n",
    "        \"roc_auc\",\n",
    "        \"fit_time\",\n",
    "        \"predict_time\",\n",
    "    ]\n",
    "]\n",
    "results_df.loc[:, \"case\"] = results_df.loc[:, \"case\"].astype(\"category\")\n",
    "results_df"
   ]
  },
  {
   "cell_type": "markdown",
   "metadata": {},
   "source": [
    "# Results\n",
    "\n",
    "In this section, we create several visualizations to display the results.\n",
    "\n",
    "Note that the charts depicting fit and predict times do not account for the dimensionality reduction step."
   ]
  },
  {
   "cell_type": "code",
   "execution_count": 16,
   "metadata": {},
   "outputs": [
    {
     "name": "stdout",
     "output_type": "stream",
     "text": [
      "time: 119 ms\n"
     ]
    }
   ],
   "source": [
    "METRIC_NAMES = {\n",
    "    \"balanced_accuracy\": \"Balanced Accuracy\",\n",
    "    \"f1\": \"F1 Score\",\n",
    "    \"geometric_mean\": \"Geometric Mean\",\n",
    "    \"roc_auc\": \"Area Under ROC Curve\",\n",
    "    \"fit_time\": \"Fit Time\",\n",
    "    \"predict_time\": \"Predict Time\",\n",
    "}\n",
    "\n",
    "_ = gc_collect()"
   ]
  },
  {
   "cell_type": "code",
   "execution_count": 17,
   "metadata": {},
   "outputs": [
    {
     "name": "stdout",
     "output_type": "stream",
     "text": [
      "time: 115 ms\n"
     ]
    }
   ],
   "source": [
    "def plot_binary_metric(metric: str, results_df: pd.DataFrame) -> None:\n",
    "    \"\"\"Draw a barplot by binary classifier.\"\"\"\n",
    "    time_metric = \"time\" in metric\n",
    "    results_df = results_df.sort_values(by=metric, ascending=time_metric)\n",
    "    if time_metric:\n",
    "        # When plotting fit/predict times, the dummy classifier is omitted since it is always the fastest.\n",
    "        results_df = results_df.loc[~results_df.model_name.str.contains(\"Dummy\")]\n",
    "\n",
    "    g = sns.catplot(\n",
    "        x=\"model_name\",\n",
    "        y=metric,\n",
    "        hue=\"case\",\n",
    "        data=results_df,\n",
    "        hue_order=[\"neutral\", \"negative\"],\n",
    "        seed=SEED,\n",
    "        kind=\"bar\",\n",
    "        palette=\"colorblind\",\n",
    "        alpha=0.65,\n",
    "    )\n",
    "    g.fig.set_figwidth(16)\n",
    "    g.despine(**dict.fromkeys((\"left\", \"top\", \"right\"), True))\n",
    "    g.set_axis_labels(x_var=\"\", y_var=\"\")\n",
    "    sns.move_legend(\n",
    "        g,\n",
    "        \"lower center\",\n",
    "        bbox_to_anchor=(0.5, 0.85),\n",
    "        ncol=2,\n",
    "        title=None,\n",
    "    )\n",
    "\n",
    "    if not time_metric:\n",
    "        plt.ylim(0, 1)\n",
    "    plt.setp(plt.gca().patches, linewidth=0)\n",
    "\n",
    "    plt.suptitle(\n",
    "        f\"{METRIC_NAMES[metric]}{' (s)' if time_metric else ''}\", fontweight=\"bold\"\n",
    "    )\n",
    "    plt.tight_layout()\n",
    "    plt.show()\n",
    "\n",
    "\n",
    "_ = gc_collect()"
   ]
  },
  {
   "cell_type": "code",
   "execution_count": 18,
   "metadata": {},
   "outputs": [
    {
     "data": {
      "application/vnd.jupyter.widget-view+json": {
       "model_id": "c0a101bd6655482a96602d120cd66712",
       "version_major": 2,
       "version_minor": 0
      },
      "text/plain": [
       "  0%|          | 0/6 [00:00<?, ?it/s]"
      ]
     },
     "metadata": {},
     "output_type": "display_data"
    },
    {
     "data": {
      "image/png": "[encoded data removed]",
      "text/plain": [
       "<Figure size 1152x360 with 1 Axes>"
      ]
     },
     "metadata": {
      "needs_background": "light"
     },
     "output_type": "display_data"
    },
    {
     "data": {
      "image/png": "[encoded data removed]",
      "text/plain": [
       "<Figure size 1152x360 with 1 Axes>"
      ]
     },
     "metadata": {
      "needs_background": "light"
     },
     "output_type": "display_data"
    },
    {
     "data": {
      "image/png": "[encoded data removed]",
      "text/plain": [
       "<Figure size 1152x360 with 1 Axes>"
      ]
     },
     "metadata": {
      "needs_background": "light"
     },
     "output_type": "display_data"
    },
    {
     "data": {
      "image/png": "[encoded data removed]",
      "text/plain": [
       "<Figure size 1152x360 with 1 Axes>"
      ]
     },
     "metadata": {
      "needs_background": "light"
     },
     "output_type": "display_data"
    },
    {
     "data": {
      "image/png": "[encoded data removed]",
      "text/plain": [
       "<Figure size 1152x360 with 1 Axes>"
      ]
     },
     "metadata": {
      "needs_background": "light"
     },
     "output_type": "display_data"
    },
    {
     "data": {
      "image/png": "[encoded data removed]",
      "text/plain": [
       "<Figure size 1152x360 with 1 Axes>"
      ]
     },
     "metadata": {
      "needs_background": "light"
     },
     "output_type": "display_data"
    },
    {
     "name": "stdout",
     "output_type": "stream",
     "text": [
      "time: 1.97 s\n"
     ]
    }
   ],
   "source": [
    "for metric in tqdm(METRICS):\n",
    "    plot_binary_metric(metric, results_df.loc[~results_df.case.str.contains(\"ternary\")])"
   ]
  },
  {
   "cell_type": "code",
   "execution_count": 19,
   "metadata": {},
   "outputs": [
    {
     "name": "stdout",
     "output_type": "stream",
     "text": [
      "time: 124 ms\n"
     ]
    }
   ],
   "source": [
    "def plot_ternary_metric(metric: str, results_df: pd.DataFrame) -> None:\n",
    "    \"\"\"Draw a barplot by ternary classifier.\"\"\"\n",
    "    time_metric = \"time\" in metric\n",
    "    results_df = results_df.sort_values(by=metric, ascending=time_metric)\n",
    "\n",
    "    if time_metric:\n",
    "        # When plotting fit/predict times, the pure dummy classifiers are omitted since it is always the fastest.\n",
    "        results_df = results_df.loc[\n",
    "            ~results_df.model_name.isin((\"Dummy\", \"Dummy+Dummy\"))\n",
    "        ]\n",
    "\n",
    "    g = sns.catplot(\n",
    "        x=metric,\n",
    "        y=\"model_name\",\n",
    "        data=results_df,\n",
    "        seed=SEED,\n",
    "        kind=\"bar\",\n",
    "        palette=\"colorblind\",\n",
    "        alpha=0.65,\n",
    "    )\n",
    "    g.fig.set_figwidth(10)\n",
    "    g.fig.set_figheight(15)\n",
    "    g.despine(**dict.fromkeys((\"bottom\", \"left\", \"top\", \"right\"), True))\n",
    "\n",
    "    ax = plt.gca()\n",
    "    ax.tick_params(axis=\"x\", labelbottom=True, labeltop=True)\n",
    "    plt.setp(ax.patches, linewidth=0)\n",
    "\n",
    "    if not time_metric:\n",
    "        plt.xlim(0, 1)\n",
    "    plt.xlabel(\"\")\n",
    "    plt.ylabel(\"\")\n",
    "\n",
    "    plt.suptitle(\n",
    "        f\"{METRIC_NAMES[metric]}{' (s)' if time_metric else ''}\", y=1, fontweight=\"bold\"\n",
    "    )\n",
    "    plt.tight_layout()\n",
    "    plt.show()\n",
    "\n",
    "\n",
    "_ = gc_collect()"
   ]
  },
  {
   "cell_type": "code",
   "execution_count": 20,
   "metadata": {},
   "outputs": [
    {
     "data": {
      "application/vnd.jupyter.widget-view+json": {
       "model_id": "4910703402394d62a3499af052597aa1",
       "version_major": 2,
       "version_minor": 0
      },
      "text/plain": [
       "  0%|          | 0/6 [00:00<?, ?it/s]"
      ]
     },
     "metadata": {},
     "output_type": "display_data"
    },
    {
     "data": {
      "image/png": "[encoded data removed]",
      "text/plain": [
       "<Figure size 720x1080 with 1 Axes>"
      ]
     },
     "metadata": {
      "needs_background": "light"
     },
     "output_type": "display_data"
    },
    {
     "data": {
      "image/png": "[encoded data removed]",
      "text/plain": [
       "<Figure size 720x1080 with 1 Axes>"
      ]
     },
     "metadata": {
      "needs_background": "light"
     },
     "output_type": "display_data"
    },
    {
     "data": {
      "image/png": "[encoded data removed]",
      "text/plain": [
       "<Figure size 720x1080 with 1 Axes>"
      ]
     },
     "metadata": {
      "needs_background": "light"
     },
     "output_type": "display_data"
    },
    {
     "data": {
      "image/png": "[encoded data removed]",
      "text/plain": [
       "<Figure size 720x1080 with 1 Axes>"
      ]
     },
     "metadata": {
      "needs_background": "light"
     },
     "output_type": "display_data"
    },
    {
     "data": {
      "image/png": "[encoded data removed]",
      "text/plain": [
       "<Figure size 720x1080 with 1 Axes>"
      ]
     },
     "metadata": {
      "needs_background": "light"
     },
     "output_type": "display_data"
    },
    {
     "data": {
      "image/png": "[encoded data removed]",
      "text/plain": [
       "<Figure size 720x1080 with 1 Axes>"
      ]
     },
     "metadata": {
      "needs_background": "light"
     },
     "output_type": "display_data"
    },
    {
     "name": "stdout",
     "output_type": "stream",
     "text": [
      "time: 1.92 s\n"
     ]
    }
   ],
   "source": [
    "for metric in tqdm(METRICS):\n",
    "    plot_ternary_metric(metric, results_df.loc[results_df.case.str.contains(\"ternary\")])"
   ]
  },
  {
   "cell_type": "code",
   "execution_count": 21,
   "metadata": {},
   "outputs": [
    {
     "name": "stdout",
     "output_type": "stream",
     "text": [
      "time: 11 ms\n"
     ]
    }
   ],
   "source": [
    "# save table of results\n",
    "results_df.to_csv(f\"{DATA_OUT_FOLDER}/untuned_MLP_results_CV5.csv\")"
   ]
  },
  {
   "cell_type": "markdown",
   "metadata": {},
   "source": [
    "# Discussion\n",
    "\n",
    "The plots are uninformative since there is only one model, but compared to other untuned classifiers cross-validated on the same splits, the MLPClassifier generally performed poorer with some exceptions.\n",
    "\n",
    "Considering only single-stage models, the MLP was second last by geometric mean to SGD in binary negative and to SVC in ternary classification. By F1 score, it was second best to SVC in binary neutral and ternary classification. Otherwise, the MLP was the least performant amongst the single-stage models.\n",
    "\n",
    "We have seen in previous notebooks that MLP performance suffers after the feature scaling, resampling, and dimensionality reduction of the splits herein. In examining a deep net approach further, these factors should be reconsidered.\n",
    "\n",
    "It was interesting to see that the two-stage classifier outperformed the single-tier MLP by AUROC, G-mean and balanced accuracy especially in ternary classification; the margin is thin by F1 score. The two-tier MLP reports the highest observed adjusted balanced accuracy on these splits so far: about 52.8%."
   ]
  },
  {
   "cell_type": "code",
   "execution_count": 22,
   "metadata": {},
   "outputs": [
    {
     "name": "stdout",
     "output_type": "stream",
     "text": [
      "Time elapsed since notebook_begin_time: 9138.482224941254 s\n",
      "time: 118 ms\n"
     ]
    }
   ],
   "source": [
    "print(f\"Time elapsed since notebook_begin_time: {time() - notebook_begin_time} s\")\n",
    "_ = gc_collect()"
   ]
  },
  {
   "cell_type": "markdown",
   "metadata": {},
   "source": [
    "[^top](#Contents)"
   ]
  },
  {
   "cell_type": "code",
   "execution_count": null,
   "metadata": {},
   "outputs": [],
   "source": []
  }
 ],
 "metadata": {
  "interpreter": {
   "hash": "e1781be99c106060f3abc0c9b91d3d379f24672894e2158d4b74304109955878"
  },
  "kernelspec": {
   "display_name": "Python 3 (ipykernel)",
   "language": "python",
   "name": "python3"
  },
  "language_info": {
   "codemirror_mode": {
    "name": "ipython",
    "version": 3
   },
   "file_extension": ".py",
   "mimetype": "text/x-python",
   "name": "python",
   "nbconvert_exporter": "python",
   "pygments_lexer": "ipython3",
   "version": "3.8.12"
  }
 },
 "nbformat": 4,
 "nbformat_minor": 4
}
