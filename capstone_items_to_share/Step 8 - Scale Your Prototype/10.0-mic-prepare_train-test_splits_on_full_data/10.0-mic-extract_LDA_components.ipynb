{
 "cells": [
  {
   "cell_type": "markdown",
   "metadata": {},
   "source": [
    "# Contents\n",
    "* [Introduction](#Introduction)\n",
    "* [Imports and configuration](#Imports-and-configuration)\n",
    "* [Dimensionality reduction](#Dimensionality-reduction)\n",
    "* [Results](#Results)\n",
    "* [Repeat for pre-resampled](#Repeat-for-pre-resampled)"
   ]
  },
  {
   "cell_type": "markdown",
   "metadata": {},
   "source": [
    "# Introduction\n",
    "\n",
    "To speed development, 5-fold train-test splits were preprocessed and prepared as separate .feather files. This notebook uses Linear Discriminant Analysis to generate two components. The resultant components may be considered newly extracted features or perhaps may be sufficient without the FRILL embeddings."
   ]
  },
  {
   "cell_type": "code",
   "execution_count": 1,
   "metadata": {},
   "outputs": [],
   "source": [
    "from time import time\n",
    "\n",
    "notebook_begin_time = time()\n",
    "\n",
    "# set random seeds\n",
    "\n",
    "from os import environ\n",
    "from random import seed as random_seed\n",
    "from numpy.random import seed as np_seed\n",
    "from tensorflow.random import set_seed\n",
    "\n",
    "\n",
    "def reset_seeds(seed: int) -> None:\n",
    "    \"\"\"Utility function for resetting random seeds\"\"\"\n",
    "    environ[\"PYTHONHASHSEED\"] = str(seed)\n",
    "    random_seed(seed)\n",
    "    np_seed(seed)\n",
    "    set_seed(seed)\n",
    "\n",
    "\n",
    "reset_seeds(SEED := 2021)\n",
    "del environ\n",
    "del random_seed\n",
    "del np_seed\n",
    "del set_seed\n",
    "del reset_seeds"
   ]
  },
  {
   "cell_type": "code",
   "execution_count": 2,
   "metadata": {},
   "outputs": [],
   "source": [
    "# extensions\n",
    "%load_ext autotime\n",
    "%load_ext lab_black\n",
    "%load_ext nb_black"
   ]
  },
  {
   "cell_type": "code",
   "execution_count": 3,
   "metadata": {},
   "outputs": [
    {
     "name": "stderr",
     "output_type": "stream",
     "text": [
      "Intel(R) Extension for Scikit-learn* enabled (https://github.com/intel/scikit-learn-intelex)\n"
     ]
    },
    {
     "name": "stdout",
     "output_type": "stream",
     "text": [
      "time: 2.42 s\n"
     ]
    }
   ],
   "source": [
    "# core\n",
    "import pandas as pd\n",
    "\n",
    "# utility\n",
    "from gc import collect as gc_collect\n",
    "\n",
    "# faster sklearn\n",
    "from sklearnex import patch_sklearn\n",
    "\n",
    "patch_sklearn()\n",
    "del patch_sklearn\n",
    "\n",
    "# Linear Discriminant Analysis\n",
    "from sklearn.discriminant_analysis import LinearDiscriminantAnalysis\n",
    "\n",
    "# visualization\n",
    "import matplotlib.pyplot as plt\n",
    "import seaborn as sns\n",
    "\n",
    "sns.set_context(\"notebook\")\n",
    "%matplotlib inline\n",
    "\n",
    "# display outputs w/o print calls\n",
    "from IPython.core.interactiveshell import InteractiveShell\n",
    "\n",
    "InteractiveShell.ast_node_interactivity = \"all\"\n",
    "del InteractiveShell\n",
    "\n",
    "# hide warnings\n",
    "import warnings\n",
    "\n",
    "warnings.filterwarnings(\"ignore\")\n",
    "del warnings"
   ]
  },
  {
   "cell_type": "code",
   "execution_count": 4,
   "metadata": {},
   "outputs": [
    {
     "name": "stdout",
     "output_type": "stream",
     "text": [
      "time: 103 ms\n"
     ]
    }
   ],
   "source": [
    "# Location of CV .feather files\n",
    "CV_FEATHERS_FOLDER = \".\"\n",
    "\n",
    "# Location where this notebook will output\n",
    "DATA_OUT_FOLDER = \".\"\n",
    "\n",
    "_ = gc_collect()"
   ]
  },
  {
   "cell_type": "markdown",
   "metadata": {},
   "source": [
    "# Dimensionality reduction"
   ]
  },
  {
   "cell_type": "code",
   "execution_count": 5,
   "metadata": {},
   "outputs": [
    {
     "name": "stdout",
     "output_type": "stream",
     "text": [
      "fold 1 completed in 53.54 s\n",
      "fold 2 completed in 55.96 s\n",
      "fold 3 completed in 51.05 s\n",
      "fold 4 completed in 46.34 s\n",
      "fold 5 completed in 54.38 s\n",
      "time: 4min 21s\n"
     ]
    }
   ],
   "source": [
    "fold_num = 0\n",
    "while True:\n",
    "    fold_begin = time()\n",
    "\n",
    "    # load training data\n",
    "    try:\n",
    "        X_train: pd.DataFrame = pd.read_feather(\n",
    "            f\"{CV_FEATHERS_FOLDER}/cv_{fold_num}/X_train_untransformed.feather\"\n",
    "        )\n",
    "        y_train: pd.Series = pd.read_feather(\n",
    "            f\"{CV_FEATHERS_FOLDER}/cv_{fold_num}/y_train_untransformed.feather\"\n",
    "        ).iloc[:, 0]\n",
    "    except FileNotFoundError:\n",
    "        break\n",
    "\n",
    "    # fit LDA\n",
    "    reducer = LinearDiscriminantAnalysis().fit(X_train, y_train.values.ravel())\n",
    "    del y_train\n",
    "    _ = gc_collect()\n",
    "\n",
    "    # save X_train\n",
    "    pd.DataFrame(reducer.transform(X_train), columns=[\"LDA1\", \"LDA2\"]).to_feather(\n",
    "        f\"{DATA_OUT_FOLDER}/cv_{fold_num}/X_train_LDA.feather\"\n",
    "    )\n",
    "    del X_train\n",
    "    _ = gc_collect()\n",
    "\n",
    "    # load X_test\n",
    "    X_test: pd.DataFrame = pd.read_feather(\n",
    "        f\"{CV_FEATHERS_FOLDER}/cv_{fold_num}/X_test_untransformed.feather\"\n",
    "    )\n",
    "\n",
    "    # save X_test\n",
    "    pd.DataFrame(reducer.transform(X_test), columns=[\"LDA1\", \"LDA2\"]).to_feather(\n",
    "        f\"{DATA_OUT_FOLDER}/cv_{fold_num}/X_test_LDA.feather\"\n",
    "    )\n",
    "    del reducer\n",
    "    del X_test\n",
    "    _ = gc_collect()\n",
    "\n",
    "    print(f\"fold {fold_num + 1} completed in {time() - fold_begin:.2f} s\")\n",
    "    del fold_begin\n",
    "    _ = gc_collect()\n",
    "\n",
    "    fold_num += 1"
   ]
  },
  {
   "cell_type": "markdown",
   "metadata": {},
   "source": [
    "# Results\n",
    "\n",
    "Let's peek at the results."
   ]
  },
  {
   "cell_type": "code",
   "execution_count": 9,
   "metadata": {},
   "outputs": [
    {
     "data": {
      "text/html": [
       "<div>\n",
       "<style scoped>\n",
       "    .dataframe tbody tr th:only-of-type {\n",
       "        vertical-align: middle;\n",
       "    }\n",
       "\n",
       "    .dataframe tbody tr th {\n",
       "        vertical-align: top;\n",
       "    }\n",
       "\n",
       "    .dataframe thead th {\n",
       "        text-align: right;\n",
       "    }\n",
       "</style>\n",
       "<table border=\"1\" class=\"dataframe\">\n",
       "  <thead>\n",
       "    <tr style=\"text-align: right;\">\n",
       "      <th></th>\n",
       "      <th>LDA1</th>\n",
       "      <th>LDA2</th>\n",
       "    </tr>\n",
       "  </thead>\n",
       "  <tbody>\n",
       "    <tr>\n",
       "      <th>0</th>\n",
       "      <td>-0.466160</td>\n",
       "      <td>-0.417321</td>\n",
       "    </tr>\n",
       "    <tr>\n",
       "      <th>1</th>\n",
       "      <td>-1.386042</td>\n",
       "      <td>0.498734</td>\n",
       "    </tr>\n",
       "    <tr>\n",
       "      <th>2</th>\n",
       "      <td>-0.850266</td>\n",
       "      <td>-0.874606</td>\n",
       "    </tr>\n",
       "    <tr>\n",
       "      <th>3</th>\n",
       "      <td>-1.227870</td>\n",
       "      <td>-0.205705</td>\n",
       "    </tr>\n",
       "    <tr>\n",
       "      <th>4</th>\n",
       "      <td>-1.675318</td>\n",
       "      <td>-0.576157</td>\n",
       "    </tr>\n",
       "  </tbody>\n",
       "</table>\n",
       "</div>"
      ],
      "text/plain": [
       "       LDA1      LDA2\n",
       "0 -0.466160 -0.417321\n",
       "1 -1.386042  0.498734\n",
       "2 -0.850266 -0.874606\n",
       "3 -1.227870 -0.205705\n",
       "4 -1.675318 -0.576157"
      ]
     },
     "execution_count": 9,
     "metadata": {},
     "output_type": "execute_result"
    },
    {
     "name": "stdout",
     "output_type": "stream",
     "text": [
      "<class 'pandas.core.frame.DataFrame'>\n",
      "RangeIndex: 73258 entries, 0 to 73257\n",
      "Data columns (total 2 columns):\n",
      " #   Column  Non-Null Count  Dtype  \n",
      "---  ------  --------------  -----  \n",
      " 0   LDA1    73258 non-null  float64\n",
      " 1   LDA2    73258 non-null  float64\n",
      "dtypes: float64(2)\n",
      "memory usage: 1.1 MB\n"
     ]
    },
    {
     "data": {
      "text/plain": [
       "<seaborn.axisgrid.FacetGrid at 0x27a92e99a30>"
      ]
     },
     "execution_count": 9,
     "metadata": {},
     "output_type": "execute_result"
    },
    {
     "data": {
      "image/png": "[encoded data removed]",
      "text/plain": [
       "<Figure size 360x360 with 1 Axes>"
      ]
     },
     "metadata": {
      "needs_background": "light"
     },
     "output_type": "display_data"
    },
    {
     "data": {
      "text/html": [
       "<div>\n",
       "<style scoped>\n",
       "    .dataframe tbody tr th:only-of-type {\n",
       "        vertical-align: middle;\n",
       "    }\n",
       "\n",
       "    .dataframe tbody tr th {\n",
       "        vertical-align: top;\n",
       "    }\n",
       "\n",
       "    .dataframe thead th {\n",
       "        text-align: right;\n",
       "    }\n",
       "</style>\n",
       "<table border=\"1\" class=\"dataframe\">\n",
       "  <thead>\n",
       "    <tr style=\"text-align: right;\">\n",
       "      <th></th>\n",
       "      <th>LDA1</th>\n",
       "      <th>LDA2</th>\n",
       "    </tr>\n",
       "  </thead>\n",
       "  <tbody>\n",
       "    <tr>\n",
       "      <th>0</th>\n",
       "      <td>-1.520533</td>\n",
       "      <td>-0.636652</td>\n",
       "    </tr>\n",
       "    <tr>\n",
       "      <th>1</th>\n",
       "      <td>-1.095483</td>\n",
       "      <td>0.948637</td>\n",
       "    </tr>\n",
       "    <tr>\n",
       "      <th>2</th>\n",
       "      <td>-0.899663</td>\n",
       "      <td>0.123195</td>\n",
       "    </tr>\n",
       "    <tr>\n",
       "      <th>3</th>\n",
       "      <td>-0.234388</td>\n",
       "      <td>-0.762712</td>\n",
       "    </tr>\n",
       "    <tr>\n",
       "      <th>4</th>\n",
       "      <td>-0.163137</td>\n",
       "      <td>-0.590403</td>\n",
       "    </tr>\n",
       "  </tbody>\n",
       "</table>\n",
       "</div>"
      ],
      "text/plain": [
       "       LDA1      LDA2\n",
       "0 -1.520533 -0.636652\n",
       "1 -1.095483  0.948637\n",
       "2 -0.899663  0.123195\n",
       "3 -0.234388 -0.762712\n",
       "4 -0.163137 -0.590403"
      ]
     },
     "execution_count": 9,
     "metadata": {},
     "output_type": "execute_result"
    },
    {
     "name": "stdout",
     "output_type": "stream",
     "text": [
      "<class 'pandas.core.frame.DataFrame'>\n",
      "RangeIndex: 11524 entries, 0 to 11523\n",
      "Data columns (total 2 columns):\n",
      " #   Column  Non-Null Count  Dtype  \n",
      "---  ------  --------------  -----  \n",
      " 0   LDA1    11524 non-null  float64\n",
      " 1   LDA2    11524 non-null  float64\n",
      "dtypes: float64(2)\n",
      "memory usage: 180.2 KB\n"
     ]
    },
    {
     "data": {
      "text/plain": [
       "<seaborn.axisgrid.FacetGrid at 0x27a93d29f10>"
      ]
     },
     "execution_count": 9,
     "metadata": {},
     "output_type": "execute_result"
    },
    {
     "data": {
      "image/png": "[encoded data removed]",
      "text/plain": [
       "<Figure size 360x360 with 1 Axes>"
      ]
     },
     "metadata": {
      "needs_background": "light"
     },
     "output_type": "display_data"
    },
    {
     "name": "stdout",
     "output_type": "stream",
     "text": [
      "time: 659 ms\n"
     ]
    }
   ],
   "source": [
    "_ = pd.read_feather(\"./cv_0/X_train_LDA.feather\")\n",
    "_.head(5)\n",
    "_.info()\n",
    "\n",
    "sns.displot(x=_.LDA1, y=_.LDA2, palette=\"colorblind\")\n",
    "sns.despine(**dict.fromkeys([\"top\", \"right\"], True))\n",
    "plt.show()\n",
    "\n",
    "_ = pd.read_feather(\"./cv_1/X_test_LDA.feather\")\n",
    "_.head(5)\n",
    "_.info()\n",
    "\n",
    "sns.displot(x=_.LDA1, y=_.LDA2, palette=\"colorblind\")\n",
    "sns.despine(**dict.fromkeys([\"top\", \"right\"], True))\n",
    "plt.show()"
   ]
  },
  {
   "cell_type": "markdown",
   "metadata": {},
   "source": [
    "# Repeat for pre-resampled\n",
    "\n",
    "A copy of the splits was made that transformed the FRILL embeddings directly with either ADASYN or SVMSMOTE and then undersampled with OneSidedSelection. We will repeat the above steps for those files as well so that the ostensible estimated effects of resampling before LDA extraction may be compared."
   ]
  },
  {
   "cell_type": "code",
   "execution_count": 13,
   "metadata": {},
   "outputs": [
    {
     "name": "stdout",
     "output_type": "stream",
     "text": [
      "fold 1 completed in 85.37 s\n",
      "fold 2 completed in 85.89 s\n",
      "fold 3 completed in 79.09 s\n",
      "fold 4 completed in 72.43 s\n",
      "fold 5 completed in 82.24 s\n",
      "time: 6min 45s\n"
     ]
    }
   ],
   "source": [
    "fold_num = 0\n",
    "while True:\n",
    "    fold_begin = time()\n",
    "\n",
    "    # load training data\n",
    "    try:\n",
    "        X_train: pd.DataFrame = pd.read_feather(\n",
    "            f\"{CV_FEATHERS_FOLDER}/cv_{fold_num}/X_train_resampled_ter.feather\"\n",
    "        )\n",
    "        y_train: pd.Series = pd.read_feather(\n",
    "            f\"{CV_FEATHERS_FOLDER}/cv_{fold_num}/y_train_resampled_ter.feather\"\n",
    "        ).iloc[:, 0]\n",
    "    except FileNotFoundError:\n",
    "        break\n",
    "\n",
    "    # fit LDA\n",
    "    reducer = LinearDiscriminantAnalysis().fit(X_train, y_train.values.ravel())\n",
    "    del y_train\n",
    "    _ = gc_collect()\n",
    "\n",
    "    # save X_train\n",
    "    pd.DataFrame(reducer.transform(X_train), columns=[\"LDA1\", \"LDA2\"]).to_feather(\n",
    "        f\"{DATA_OUT_FOLDER}/cv_{fold_num}/X_train_resampled_LDA.feather\"\n",
    "    )\n",
    "    del X_train\n",
    "    _ = gc_collect()\n",
    "\n",
    "    # load X_test\n",
    "    X_test: pd.DataFrame = pd.read_feather(\n",
    "        f\"{CV_FEATHERS_FOLDER}/cv_{fold_num}/X_test_untransformed.feather\"\n",
    "    )\n",
    "\n",
    "    # save X_test\n",
    "    pd.DataFrame(reducer.transform(X_test), columns=[\"LDA1\", \"LDA2\"]).to_feather(\n",
    "        f\"{DATA_OUT_FOLDER}/cv_{fold_num}/X_test_resampled_LDA.feather\"\n",
    "    )\n",
    "    del reducer\n",
    "    del X_test\n",
    "    _ = gc_collect()\n",
    "\n",
    "    print(f\"fold {fold_num + 1} completed in {time() - fold_begin:.2f} s\")\n",
    "    del fold_begin\n",
    "    _ = gc_collect()\n",
    "\n",
    "    fold_num += 1"
   ]
  },
  {
   "cell_type": "code",
   "execution_count": 14,
   "metadata": {},
   "outputs": [
    {
     "data": {
      "text/html": [
       "<div>\n",
       "<style scoped>\n",
       "    .dataframe tbody tr th:only-of-type {\n",
       "        vertical-align: middle;\n",
       "    }\n",
       "\n",
       "    .dataframe tbody tr th {\n",
       "        vertical-align: top;\n",
       "    }\n",
       "\n",
       "    .dataframe thead th {\n",
       "        text-align: right;\n",
       "    }\n",
       "</style>\n",
       "<table border=\"1\" class=\"dataframe\">\n",
       "  <thead>\n",
       "    <tr style=\"text-align: right;\">\n",
       "      <th></th>\n",
       "      <th>LDA1</th>\n",
       "      <th>LDA2</th>\n",
       "    </tr>\n",
       "  </thead>\n",
       "  <tbody>\n",
       "    <tr>\n",
       "      <th>0</th>\n",
       "      <td>0.736679</td>\n",
       "      <td>0.363995</td>\n",
       "    </tr>\n",
       "    <tr>\n",
       "      <th>1</th>\n",
       "      <td>-0.289250</td>\n",
       "      <td>-0.830185</td>\n",
       "    </tr>\n",
       "    <tr>\n",
       "      <th>2</th>\n",
       "      <td>-1.757842</td>\n",
       "      <td>0.476461</td>\n",
       "    </tr>\n",
       "    <tr>\n",
       "      <th>3</th>\n",
       "      <td>-0.879039</td>\n",
       "      <td>-1.461446</td>\n",
       "    </tr>\n",
       "    <tr>\n",
       "      <th>4</th>\n",
       "      <td>-1.466535</td>\n",
       "      <td>-0.496682</td>\n",
       "    </tr>\n",
       "  </tbody>\n",
       "</table>\n",
       "</div>"
      ],
      "text/plain": [
       "       LDA1      LDA2\n",
       "0  0.736679  0.363995\n",
       "1 -0.289250 -0.830185\n",
       "2 -1.757842  0.476461\n",
       "3 -0.879039 -1.461446\n",
       "4 -1.466535 -0.496682"
      ]
     },
     "execution_count": 14,
     "metadata": {},
     "output_type": "execute_result"
    },
    {
     "name": "stdout",
     "output_type": "stream",
     "text": [
      "<class 'pandas.core.frame.DataFrame'>\n",
      "RangeIndex: 117594 entries, 0 to 117593\n",
      "Data columns (total 2 columns):\n",
      " #   Column  Non-Null Count   Dtype  \n",
      "---  ------  --------------   -----  \n",
      " 0   LDA1    117594 non-null  float64\n",
      " 1   LDA2    117594 non-null  float64\n",
      "dtypes: float64(2)\n",
      "memory usage: 1.8 MB\n"
     ]
    },
    {
     "data": {
      "text/plain": [
       "<seaborn.axisgrid.FacetGrid at 0x27a91f8aa60>"
      ]
     },
     "execution_count": 14,
     "metadata": {},
     "output_type": "execute_result"
    },
    {
     "data": {
      "image/png": "[encoded data removed]",
      "text/plain": [
       "<Figure size 360x360 with 1 Axes>"
      ]
     },
     "metadata": {
      "needs_background": "light"
     },
     "output_type": "display_data"
    },
    {
     "data": {
      "text/html": [
       "<div>\n",
       "<style scoped>\n",
       "    .dataframe tbody tr th:only-of-type {\n",
       "        vertical-align: middle;\n",
       "    }\n",
       "\n",
       "    .dataframe tbody tr th {\n",
       "        vertical-align: top;\n",
       "    }\n",
       "\n",
       "    .dataframe thead th {\n",
       "        text-align: right;\n",
       "    }\n",
       "</style>\n",
       "<table border=\"1\" class=\"dataframe\">\n",
       "  <thead>\n",
       "    <tr style=\"text-align: right;\">\n",
       "      <th></th>\n",
       "      <th>LDA1</th>\n",
       "      <th>LDA2</th>\n",
       "    </tr>\n",
       "  </thead>\n",
       "  <tbody>\n",
       "    <tr>\n",
       "      <th>0</th>\n",
       "      <td>-1.583758</td>\n",
       "      <td>-0.931507</td>\n",
       "    </tr>\n",
       "    <tr>\n",
       "      <th>1</th>\n",
       "      <td>-1.441443</td>\n",
       "      <td>0.716285</td>\n",
       "    </tr>\n",
       "    <tr>\n",
       "      <th>2</th>\n",
       "      <td>-1.319762</td>\n",
       "      <td>0.048098</td>\n",
       "    </tr>\n",
       "    <tr>\n",
       "      <th>3</th>\n",
       "      <td>-0.138033</td>\n",
       "      <td>-1.519357</td>\n",
       "    </tr>\n",
       "    <tr>\n",
       "      <th>4</th>\n",
       "      <td>0.063165</td>\n",
       "      <td>-0.568596</td>\n",
       "    </tr>\n",
       "  </tbody>\n",
       "</table>\n",
       "</div>"
      ],
      "text/plain": [
       "       LDA1      LDA2\n",
       "0 -1.583758 -0.931507\n",
       "1 -1.441443  0.716285\n",
       "2 -1.319762  0.048098\n",
       "3 -0.138033 -1.519357\n",
       "4  0.063165 -0.568596"
      ]
     },
     "execution_count": 14,
     "metadata": {},
     "output_type": "execute_result"
    },
    {
     "name": "stdout",
     "output_type": "stream",
     "text": [
      "<class 'pandas.core.frame.DataFrame'>\n",
      "RangeIndex: 11524 entries, 0 to 11523\n",
      "Data columns (total 2 columns):\n",
      " #   Column  Non-Null Count  Dtype  \n",
      "---  ------  --------------  -----  \n",
      " 0   LDA1    11524 non-null  float64\n",
      " 1   LDA2    11524 non-null  float64\n",
      "dtypes: float64(2)\n",
      "memory usage: 180.2 KB\n"
     ]
    },
    {
     "data": {
      "text/plain": [
       "<seaborn.axisgrid.FacetGrid at 0x27a91b42310>"
      ]
     },
     "execution_count": 14,
     "metadata": {},
     "output_type": "execute_result"
    },
    {
     "data": {
      "image/png": "[encoded data removed]",
      "text/plain": [
       "<Figure size 360x360 with 1 Axes>"
      ]
     },
     "metadata": {
      "needs_background": "light"
     },
     "output_type": "display_data"
    },
    {
     "name": "stdout",
     "output_type": "stream",
     "text": [
      "time: 656 ms\n"
     ]
    }
   ],
   "source": [
    "_ = pd.read_feather(\"./cv_0/X_train_resampled_LDA.feather\")\n",
    "_.head(5)\n",
    "_.info()\n",
    "\n",
    "sns.displot(x=_.LDA1, y=_.LDA2, palette=\"colorblind\")\n",
    "sns.despine(**dict.fromkeys([\"top\", \"right\"], True))\n",
    "plt.show()\n",
    "\n",
    "_ = pd.read_feather(\"./cv_1/X_test_resampled_LDA.feather\")\n",
    "_.head(5)\n",
    "_.info()\n",
    "\n",
    "sns.displot(x=_.LDA1, y=_.LDA2, palette=\"colorblind\")\n",
    "sns.despine(**dict.fromkeys([\"top\", \"right\"], True))\n",
    "plt.show()"
   ]
  },
  {
   "cell_type": "code",
   "execution_count": 15,
   "metadata": {},
   "outputs": [
    {
     "name": "stdout",
     "output_type": "stream",
     "text": [
      "Time elapsed since notebook_begin_time: 4899.1961896419525 s\n",
      "time: 136 ms\n"
     ]
    }
   ],
   "source": [
    "print(f\"Time elapsed since notebook_begin_time: {time() - notebook_begin_time} s\")\n",
    "_ = gc_collect()"
   ]
  },
  {
   "cell_type": "markdown",
   "metadata": {},
   "source": [
    "[^top](#Contents)"
   ]
  },
  {
   "cell_type": "code",
   "execution_count": null,
   "metadata": {},
   "outputs": [],
   "source": []
  }
 ],
 "metadata": {
  "interpreter": {
   "hash": "e1781be99c106060f3abc0c9b91d3d379f24672894e2158d4b74304109955878"
  },
  "kernelspec": {
   "display_name": "Python [conda env:capstone_pyspark_38] *",
   "language": "python",
   "name": "python3"
  },
  "language_info": {
   "codemirror_mode": {
    "name": "ipython",
    "version": 3
   },
   "file_extension": ".py",
   "mimetype": "text/x-python",
   "name": "python",
   "nbconvert_exporter": "python",
   "pygments_lexer": "ipython3",
   "version": "3.8.12"
  }
 },
 "nbformat": 4,
 "nbformat_minor": 4
}
