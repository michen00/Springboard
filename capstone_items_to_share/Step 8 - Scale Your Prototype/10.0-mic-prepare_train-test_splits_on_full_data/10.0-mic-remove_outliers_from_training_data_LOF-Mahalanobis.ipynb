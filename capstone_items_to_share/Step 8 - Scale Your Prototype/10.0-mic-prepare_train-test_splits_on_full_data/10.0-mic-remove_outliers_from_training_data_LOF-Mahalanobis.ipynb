{
 "cells": [
  {
   "cell_type": "markdown",
   "metadata": {},
   "source": [
    "# Contents\n",
    "* [Introduction](#Introduction)\n",
    "* [Imports and configuration](#Imports-and-configuration)\n",
    "* [Outlier removal](#Outlier-removal)\n",
    "* [Results](#Results)"
   ]
  },
  {
   "cell_type": "markdown",
   "metadata": {},
   "source": [
    "# Introduction\n",
    "\n",
    "To speed development, 5-fold train-test splits were preprocessed and prepared as separate .feather files. This notebook uses those splits to create copies of training data with outliers removed by LocalOutlierFactor using Mahalanobis distance.\n",
    "\n",
    "But it actually ran for over 800 minutes without a single fold completing, so I canceled it."
   ]
  },
  {
   "cell_type": "code",
   "execution_count": 1,
   "metadata": {},
   "outputs": [],
   "source": [
    "from time import time\n",
    "\n",
    "notebook_begin_time = time()\n",
    "\n",
    "# set random seeds\n",
    "\n",
    "from os import environ\n",
    "from random import seed as random_seed\n",
    "from numpy.random import seed as np_seed\n",
    "from tensorflow.random import set_seed\n",
    "\n",
    "\n",
    "def reset_seeds(seed: int) -> None:\n",
    "    \"\"\"Utility function for resetting random seeds\"\"\"\n",
    "    environ[\"PYTHONHASHSEED\"] = str(seed)\n",
    "    random_seed(seed)\n",
    "    np_seed(seed)\n",
    "    set_seed(seed)\n",
    "\n",
    "\n",
    "reset_seeds(SEED := 2021)\n",
    "del environ\n",
    "del random_seed\n",
    "del np_seed\n",
    "del set_seed\n",
    "del reset_seeds"
   ]
  },
  {
   "cell_type": "code",
   "execution_count": 2,
   "metadata": {},
   "outputs": [],
   "source": [
    "# extensions\n",
    "%load_ext autotime\n",
    "%load_ext lab_black\n",
    "%load_ext nb_black"
   ]
  },
  {
   "cell_type": "code",
   "execution_count": 3,
   "metadata": {},
   "outputs": [
    {
     "name": "stdout",
     "output_type": "stream",
     "text": [
      "time: 1.75 s\n"
     ]
    },
    {
     "name": "stderr",
     "output_type": "stream",
     "text": [
      "Intel(R) Extension for Scikit-learn* enabled (https://github.com/intel/scikit-learn-intelex)\n"
     ]
    }
   ],
   "source": [
    "# core\n",
    "import pandas as pd\n",
    "\n",
    "# utility\n",
    "from gc import collect as gc_collect\n",
    "\n",
    "# faster sklearn\n",
    "from sklearnex import patch_sklearn\n",
    "\n",
    "patch_sklearn()\n",
    "del patch_sklearn\n",
    "\n",
    "# local outlier factor\n",
    "from sklearn.neighbors import LocalOutlierFactor\n",
    "\n",
    "# display outputs w/o print calls\n",
    "from IPython.core.interactiveshell import InteractiveShell\n",
    "\n",
    "InteractiveShell.ast_node_interactivity = \"all\"\n",
    "del InteractiveShell\n",
    "\n",
    "# hide warnings\n",
    "import warnings\n",
    "\n",
    "# warnings.filterwarnings(\"ignore\")\n",
    "del warnings"
   ]
  },
  {
   "cell_type": "code",
   "execution_count": 4,
   "metadata": {},
   "outputs": [
    {
     "name": "stdout",
     "output_type": "stream",
     "text": [
      "time: 113 ms\n"
     ]
    }
   ],
   "source": [
    "# Location of CV .feather files\n",
    "CV_FEATHERS_FOLDER = \".\"\n",
    "\n",
    "# Location where this notebook will output\n",
    "DATA_OUT_FOLDER = \".\"\n",
    "\n",
    "_ = gc_collect()"
   ]
  },
  {
   "cell_type": "markdown",
   "metadata": {},
   "source": [
    "# Outlier removal"
   ]
  },
  {
   "cell_type": "code",
   "execution_count": 5,
   "metadata": {},
   "outputs": [
    {
     "name": "stdout",
     "output_type": "stream",
     "text": [
      "before outlier removal, n = 73258\n"
     ]
    }
   ],
   "source": [
    "fold_num = 0\n",
    "while True:\n",
    "    fold_begin = time()\n",
    "\n",
    "    # load training data\n",
    "    try:\n",
    "        X_train: pd.DataFrame = pd.read_feather(\n",
    "            f\"{CV_FEATHERS_FOLDER}/cv_{fold_num}/X_train_untransformed.feather\"\n",
    "        )\n",
    "    except FileNotFoundError:\n",
    "        break\n",
    "\n",
    "    print(f\"before outlier removal, n = {(n := len(X_train))}\")\n",
    "    X_train = X_train.loc[\n",
    "        LocalOutlierFactor(metric=\"mahalanobis\", n_jobs=-1).fit_predict(X_train) == 1\n",
    "    ]\n",
    "    save_data = lambda df, x_or_y: df.reset_index(drop=True).to_feather(\n",
    "        f\"{DATA_OUT_FOLDER}/cv_{fold_num}/{x_or_y}_train_LOFm.feather\"\n",
    "    )\n",
    "    save_data(X_train, \"X\")\n",
    "    idx = X_train.index\n",
    "    del X_train\n",
    "    _ = gc_collect()\n",
    "    print(f\"{n - (n:=len(idx))} outliers removed, n = {n}\")\n",
    "\n",
    "    save_data(\n",
    "        pd.read_feather(\n",
    "            f\"{CV_FEATHERS_FOLDER}/cv_{fold_num}/y_train_untransformed.feather\"\n",
    "        ).loc[idx],\n",
    "        \"y\",\n",
    "    )\n",
    "    del idx\n",
    "\n",
    "    print(f\"fold {fold_num + 1} completed in {time() - fold_begin:.2f} s\")\n",
    "    del fold_begin\n",
    "    fold_num += 1\n",
    "    _ = gc_collect()"
   ]
  },
  {
   "cell_type": "markdown",
   "metadata": {},
   "source": [
    "# Results\n",
    "\n",
    "Let's peek at the results."
   ]
  },
  {
   "cell_type": "code",
   "execution_count": null,
   "metadata": {},
   "outputs": [],
   "source": [
    "_ = pd.read_feather(\"./cv_0/X_train_LOFm.feather\")\n",
    "_.head(5)\n",
    "_.info()\n",
    "\n",
    "_ = pd.read_feather(\"./cv_1/y_train_LOFm.feather\")\n",
    "_.head(5)\n",
    "_.info()"
   ]
  },
  {
   "cell_type": "code",
   "execution_count": null,
   "metadata": {},
   "outputs": [],
   "source": [
    "print(f\"Time elapsed since notebook_begin_time: {time() - notebook_begin_time} s\")\n",
    "_ = gc_collect()"
   ]
  },
  {
   "cell_type": "markdown",
   "metadata": {},
   "source": [
    "[^top](#Contents)"
   ]
  },
  {
   "cell_type": "code",
   "execution_count": null,
   "metadata": {},
   "outputs": [],
   "source": []
  }
 ],
 "metadata": {
  "interpreter": {
   "hash": "e1781be99c106060f3abc0c9b91d3d379f24672894e2158d4b74304109955878"
  },
  "kernelspec": {
   "display_name": "Python [conda env:capstone_pyspark_38] *",
   "language": "python",
   "name": "python3"
  },
  "language_info": {
   "codemirror_mode": {
    "name": "ipython",
    "version": 3
   },
   "file_extension": ".py",
   "mimetype": "text/x-python",
   "name": "python",
   "nbconvert_exporter": "python",
   "pygments_lexer": "ipython3",
   "version": "3.8.12"
  }
 },
 "nbformat": 4,
 "nbformat_minor": 4
}
