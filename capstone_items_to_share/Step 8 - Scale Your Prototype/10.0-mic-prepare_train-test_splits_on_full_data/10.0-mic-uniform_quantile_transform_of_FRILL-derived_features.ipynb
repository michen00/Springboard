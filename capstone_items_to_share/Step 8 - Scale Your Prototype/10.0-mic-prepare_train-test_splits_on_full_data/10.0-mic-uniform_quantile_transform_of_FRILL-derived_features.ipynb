{
 "cells": [
  {
   "cell_type": "markdown",
   "metadata": {},
   "source": [
    "# Contents\n",
    "* [Introduction](#Introduction)\n",
    "* [Imports and configuration](#Imports-and-configuration)\n",
    "* [Setup](#Setup)\n",
    "* [Feature transformation](#Feature-transformation)\n",
    "* [Results](#Results)"
   ]
  },
  {
   "cell_type": "markdown",
   "metadata": {},
   "source": [
    "# Introduction\n",
    "\n",
    "To speed development, 5-fold train-test splits were preprocessed and prepared as separate .feather files. Further, several features were extracted for each split and aggregated. This notebook performs uniform quantile transformation on the aggregated FRILL-based data per split.\n",
    "\n",
    "I noticed outliers and skewed distributions. I chose quantile transformation because it's non-parametric and robust. I chose a uniform output distribution since it should be even more robust.\n",
    "\n",
    "Even if some models aren't so sensitive to these issues, GaussianNB for instance could benefit by having better features selected by a RidgeClassifier."
   ]
  },
  {
   "cell_type": "code",
   "execution_count": 1,
   "metadata": {},
   "outputs": [],
   "source": [
    "from time import time\n",
    "\n",
    "notebook_begin_time = time()\n",
    "\n",
    "# set random seeds\n",
    "\n",
    "from os import environ\n",
    "from random import seed as random_seed\n",
    "from numpy.random import seed as np_seed\n",
    "from tensorflow.random import set_seed\n",
    "\n",
    "\n",
    "def reset_seeds(seed: int) -> None:\n",
    "    \"\"\"Utility function for resetting random seeds\"\"\"\n",
    "    environ[\"PYTHONHASHSEED\"] = str(seed)\n",
    "    random_seed(seed)\n",
    "    np_seed(seed)\n",
    "    set_seed(seed)\n",
    "\n",
    "\n",
    "reset_seeds(SEED := 2021)\n",
    "del environ\n",
    "del random_seed\n",
    "del np_seed\n",
    "del set_seed\n",
    "del reset_seeds"
   ]
  },
  {
   "cell_type": "code",
   "execution_count": 2,
   "metadata": {},
   "outputs": [],
   "source": [
    "# extensions\n",
    "%load_ext autotime\n",
    "%load_ext lab_black\n",
    "%load_ext nb_black"
   ]
  },
  {
   "cell_type": "code",
   "execution_count": 3,
   "metadata": {},
   "outputs": [
    {
     "name": "stdout",
     "output_type": "stream",
     "text": [
      "time: 1.67 s\n"
     ]
    },
    {
     "name": "stderr",
     "output_type": "stream",
     "text": [
      "Intel(R) Extension for Scikit-learn* enabled (https://github.com/intel/scikit-learn-intelex)\n"
     ]
    }
   ],
   "source": [
    "# core\n",
    "# import numpy as np\n",
    "import pandas as pd\n",
    "\n",
    "# utility\n",
    "from gc import collect as gc_collect\n",
    "\n",
    "# faster sklearn\n",
    "from sklearnex import patch_sklearn\n",
    "\n",
    "patch_sklearn()\n",
    "del patch_sklearn\n",
    "\n",
    "# other sklearn\n",
    "from sklearn.linear_model import RidgeClassifierCV\n",
    "from sklearn.metrics import accuracy_score\n",
    "from sklearn.preprocessing import QuantileTransformer\n",
    "\n",
    "# typing\n",
    "from typing import Tuple\n",
    "\n",
    "# display outputs w/o print calls\n",
    "from IPython.core.interactiveshell import InteractiveShell\n",
    "\n",
    "InteractiveShell.ast_node_interactivity = \"all\"\n",
    "del InteractiveShell\n",
    "\n",
    "_ = gc_collect()"
   ]
  },
  {
   "cell_type": "markdown",
   "metadata": {},
   "source": [
    "Constants"
   ]
  },
  {
   "cell_type": "code",
   "execution_count": 4,
   "metadata": {},
   "outputs": [
    {
     "name": "stdout",
     "output_type": "stream",
     "text": [
      "time: 116 ms\n"
     ]
    }
   ],
   "source": [
    "# Location of CV .feather files\n",
    "CV_FEATHERS_FOLDER = \".\"\n",
    "\n",
    "# Location where this notebook will output\n",
    "DATA_OUT_FOLDER = \".\"\n",
    "\n",
    "FOLDS = (0, 1, 2, 3, 4)\n",
    "\n",
    "_ = gc_collect()"
   ]
  },
  {
   "cell_type": "markdown",
   "metadata": {},
   "source": [
    "# Setup"
   ]
  },
  {
   "cell_type": "code",
   "execution_count": 5,
   "metadata": {},
   "outputs": [
    {
     "name": "stdout",
     "output_type": "stream",
     "text": [
      "time: 3.04 ms\n"
     ]
    }
   ],
   "source": [
    "def read_data(fold_num: int, filename: str) -> pd.DataFrame:\n",
    "    \"\"\"Read the non-FRILL .feather features or associated labels for the specified split\"\"\"\n",
    "    return pd.read_feather(f\"{CV_FEATHERS_FOLDER}/cv_{fold_num}/{filename}.feather\")\n",
    "\n",
    "\n",
    "def scale_data(\n",
    "    X_train: pd.DataFrame, X_test: pd.DataFrame\n",
    ") -> Tuple[pd.DataFrame, pd.DataFrame]:\n",
    "    scaler = QuantileTransformer(output_distribution=\"uniform\", random_state=SEED).fit(\n",
    "        X_train\n",
    "    )  # output_distribution=\"uniform\" is default\n",
    "    X_train = pd.DataFrame(scaler.transform(X_train), columns=scaler.feature_names_in_)\n",
    "    X_test = pd.DataFrame(scaler.transform(X_test), columns=scaler.feature_names_in_)\n",
    "    return X_train, X_test\n",
    "\n",
    "\n",
    "def save_transformed_dataframe(fold_num: int, filename: str, df: pd.DataFrame) -> None:\n",
    "    \"\"\"Save a transformed dataframe to the folder for the specific split\"\"\"\n",
    "    df.to_feather(f\"{DATA_OUT_FOLDER}/cv_{fold_num}/{filename}.feather\")\n",
    "\n",
    "\n",
    "def accuracy_with_ridge(\n",
    "    X_train: pd.DataFrame, X_test: pd.DataFrame, y_train: pd.Series, y_test: pd.Series\n",
    ") -> float:\n",
    "    \"\"\"Given split data, return the test accuracy of a ridge classifier\"\"\"\n",
    "    return accuracy_score(\n",
    "        y_true=y_test,\n",
    "        y_pred=RidgeClassifierCV(scoring=\"accuracy\")\n",
    "        .fit(X_train, y_train)\n",
    "        .predict(X_test),\n",
    "    )\n",
    "\n",
    "\n",
    "def perform_transformation(fold_num: int) -> None:\n",
    "    \"\"\"Transform and save data and display ridge classification accuracy before and after for a given fold\"\"\"\n",
    "    print(\n",
    "        \"accuracy before:\",\n",
    "        accuracy_with_ridge(\n",
    "            X_train := read_data(fold_num, filename=\"X_train_nonFRILL\"),\n",
    "            X_test := read_data(fold_num, filename=\"X_test_nonFRILL\"),\n",
    "            y_train := read_data(fold_num, filename=\"y_train_untransformed\").iloc[:, 0],\n",
    "            y_test := read_data(fold_num, filename=\"y_test_untransformed\").iloc[:, 0],\n",
    "        ),\n",
    "    )\n",
    "    begin = time()\n",
    "    X_train, X_test = scale_data(X_train, X_test)\n",
    "    print(f\"transformation completed in {time() - begin} seconds\")\n",
    "    print(\"accuracy after:\", accuracy_with_ridge(X_train, X_test, y_train, y_test))\n",
    "    save_transformed_dataframe(\n",
    "        fold_num, filename=\"X_train_FRILL-based_uniQT\", df=X_train\n",
    "    )\n",
    "    save_transformed_dataframe(fold_num, filename=\"X_test_FRILL-based_uniQT\", df=X_test)\n",
    "    print(\"saved transformed data\")\n",
    "    print()"
   ]
  },
  {
   "cell_type": "markdown",
   "metadata": {},
   "source": [
    "# Transform features"
   ]
  },
  {
   "cell_type": "code",
   "execution_count": 6,
   "metadata": {},
   "outputs": [
    {
     "name": "stdout",
     "output_type": "stream",
     "text": [
      "accuracy before: 0.4736179042537424\n",
      "transformation completed in 7.5569915771484375 seconds\n",
      "accuracy after: 0.6625907810878909\n",
      "saved transformed data\n",
      "\n",
      "accuracy before: 0.645001735508504\n",
      "transformation completed in 7.6337890625 seconds\n",
      "accuracy after: 0.6493405067684832\n",
      "saved transformed data\n",
      "\n",
      "accuracy before: 0.5295822765153476\n",
      "transformation completed in 7.416523694992065 seconds\n",
      "accuracy after: 0.5997204824266267\n",
      "saved transformed data\n",
      "\n",
      "accuracy before: 0.6147278136228412\n",
      "transformation completed in 7.200856685638428 seconds\n",
      "accuracy after: 0.6137619286790558\n",
      "saved transformed data\n",
      "\n",
      "accuracy before: 0.30316961045245583\n",
      "transformation completed in 7.482924699783325 seconds\n",
      "accuracy after: 0.5754294701185579\n",
      "saved transformed data\n",
      "\n",
      "time: 1min 25s\n"
     ]
    }
   ],
   "source": [
    "already_completed = []\n",
    "for fold_num in FOLDS:\n",
    "    if fold_num in already_completed:\n",
    "        continue\n",
    "    perform_transformation(fold_num)"
   ]
  },
  {
   "cell_type": "markdown",
   "metadata": {},
   "source": [
    "A boost in accuracy may be observed in all but one fold."
   ]
  },
  {
   "cell_type": "code",
   "execution_count": 7,
   "metadata": {},
   "outputs": [
    {
     "name": "stdout",
     "output_type": "stream",
     "text": [
      "Time elapsed since notebook_begin_time: 92.18702030181885 s\n",
      "time: 110 ms\n"
     ]
    }
   ],
   "source": [
    "print(f\"Time elapsed since notebook_begin_time: {time() - notebook_begin_time} s\")\n",
    "_ = gc_collect()"
   ]
  },
  {
   "cell_type": "markdown",
   "metadata": {},
   "source": [
    "[^top](#Contents)"
   ]
  },
  {
   "cell_type": "code",
   "execution_count": null,
   "metadata": {},
   "outputs": [],
   "source": []
  }
 ],
 "metadata": {
  "interpreter": {
   "hash": "e1781be99c106060f3abc0c9b91d3d379f24672894e2158d4b74304109955878"
  },
  "kernelspec": {
   "display_name": "Python 3 (ipykernel)",
   "language": "python",
   "name": "python3"
  },
  "language_info": {
   "codemirror_mode": {
    "name": "ipython",
    "version": 3
   },
   "file_extension": ".py",
   "mimetype": "text/x-python",
   "name": "python",
   "nbconvert_exporter": "python",
   "pygments_lexer": "ipython3",
   "version": "3.8.12"
  }
 },
 "nbformat": 4,
 "nbformat_minor": 4
}
