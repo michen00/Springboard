{
 "cells": [
  {
   "cell_type": "markdown",
   "metadata": {},
   "source": [
    "# Contents\n",
    "* [Introduction](#Introduction)\n",
    "* [Imports and configuration](#Imports-and-configuration)\n",
    "* [Outlier removal](#Outlier-removal)\n",
    "* [Results](#Results)"
   ]
  },
  {
   "cell_type": "markdown",
   "metadata": {},
   "source": [
    "# Introduction\n",
    "\n",
    "To speed development, 5-fold train-test splits were preprocessed and prepared as separate .feather files. This notebook uses those splits to create copies of training data with outliers removed by LocalOutlierFactor."
   ]
  },
  {
   "cell_type": "code",
   "execution_count": 1,
   "metadata": {},
   "outputs": [],
   "source": [
    "from time import time\n",
    "\n",
    "notebook_begin_time = time()\n",
    "\n",
    "# set random seeds\n",
    "\n",
    "from os import environ\n",
    "from random import seed as random_seed\n",
    "from numpy.random import seed as np_seed\n",
    "from tensorflow.random import set_seed\n",
    "\n",
    "\n",
    "def reset_seeds(seed: int) -> None:\n",
    "    \"\"\"Utility function for resetting random seeds\"\"\"\n",
    "    environ[\"PYTHONHASHSEED\"] = str(seed)\n",
    "    random_seed(seed)\n",
    "    np_seed(seed)\n",
    "    set_seed(seed)\n",
    "\n",
    "\n",
    "reset_seeds(SEED := 2021)\n",
    "del environ\n",
    "del random_seed\n",
    "del np_seed\n",
    "del set_seed\n",
    "del reset_seeds"
   ]
  },
  {
   "cell_type": "code",
   "execution_count": 2,
   "metadata": {},
   "outputs": [],
   "source": [
    "# extensions\n",
    "%load_ext autotime\n",
    "%load_ext lab_black\n",
    "%load_ext nb_black"
   ]
  },
  {
   "cell_type": "code",
   "execution_count": 3,
   "metadata": {},
   "outputs": [
    {
     "name": "stdout",
     "output_type": "stream",
     "text": [
      "time: 2.54 s\n"
     ]
    },
    {
     "name": "stderr",
     "output_type": "stream",
     "text": [
      "Intel(R) Extension for Scikit-learn* enabled (https://github.com/intel/scikit-learn-intelex)\n"
     ]
    }
   ],
   "source": [
    "# core\n",
    "import pandas as pd\n",
    "\n",
    "# utility\n",
    "from gc import collect as gc_collect\n",
    "\n",
    "# faster sklearn\n",
    "from sklearnex import patch_sklearn\n",
    "\n",
    "patch_sklearn()\n",
    "del patch_sklearn\n",
    "\n",
    "# local outlier factor\n",
    "from sklearn.neighbors import LocalOutlierFactor\n",
    "\n",
    "# display outputs w/o print calls\n",
    "from IPython.core.interactiveshell import InteractiveShell\n",
    "\n",
    "InteractiveShell.ast_node_interactivity = \"all\"\n",
    "del InteractiveShell\n",
    "\n",
    "# hide warnings\n",
    "import warnings\n",
    "\n",
    "warnings.filterwarnings(\"ignore\")\n",
    "del warnings"
   ]
  },
  {
   "cell_type": "code",
   "execution_count": 4,
   "metadata": {},
   "outputs": [
    {
     "name": "stdout",
     "output_type": "stream",
     "text": [
      "time: 118 ms\n"
     ]
    }
   ],
   "source": [
    "# Location of CV .feather files\n",
    "CV_FEATHERS_FOLDER = \".\"\n",
    "\n",
    "# Location where this notebook will output\n",
    "DATA_OUT_FOLDER = \".\"\n",
    "\n",
    "_ = gc_collect()"
   ]
  },
  {
   "cell_type": "markdown",
   "metadata": {},
   "source": [
    "# Outlier removal"
   ]
  },
  {
   "cell_type": "code",
   "execution_count": 5,
   "metadata": {},
   "outputs": [
    {
     "name": "stdout",
     "output_type": "stream",
     "text": [
      "before outlier removal, n = 73258\n",
      "after outlier removal, n = 72179\n",
      "fold 2 completed in 515.17 s\n",
      "before outlier removal, n = 75228\n",
      "after outlier removal, n = 74109\n",
      "fold 3 completed in 545.91 s\n",
      "before outlier removal, n = 67433\n",
      "after outlier removal, n = 66472\n",
      "fold 4 completed in 431.36 s\n",
      "before outlier removal, n = 60869\n",
      "after outlier removal, n = 59972\n",
      "fold 5 completed in 330.68 s\n",
      "before outlier removal, n = 70220\n",
      "after outlier removal, n = 69190\n",
      "fold 6 completed in 474.75 s\n",
      "time: 38min 18s\n"
     ]
    }
   ],
   "source": [
    "fold_num = 0\n",
    "while True:\n",
    "    fold_begin = time()\n",
    "\n",
    "    # load training data\n",
    "    try:\n",
    "        X_train: pd.DataFrame = pd.read_feather(\n",
    "            f\"{CV_FEATHERS_FOLDER}/cv_{fold_num}/X_train_untransformed.feather\"\n",
    "        )\n",
    "    except FileNotFoundError:\n",
    "        break\n",
    "\n",
    "    print(f\"before outlier removal, n = {len(X_train)}\")\n",
    "    X_train = X_train.loc[LocalOutlierFactor(n_jobs=-1).fit_predict(X_train) == 1]\n",
    "    save_data = lambda df, x_or_y: df.reset_index(drop=True).to_feather(\n",
    "        f\"{DATA_OUT_FOLDER}/cv_{fold_num}/{x_or_y}_train_LOF.feather\"\n",
    "    )\n",
    "    save_data(X_train, \"X\")\n",
    "    idx = X_train.index\n",
    "    del X_train\n",
    "    _ = gc_collect()\n",
    "    print(f\"after outlier removal, n = {len(idx)}\")\n",
    "\n",
    "    save_data(\n",
    "        pd.read_feather(\n",
    "            f\"{CV_FEATHERS_FOLDER}/cv_{fold_num}/y_train_untransformed.feather\"\n",
    "        ).loc[idx],\n",
    "        \"y\",\n",
    "    )\n",
    "    del idx\n",
    "\n",
    "    fold_num += 1\n",
    "\n",
    "    print(f\"fold {fold_num + 1} completed in {time() - fold_begin:.2f} s\")\n",
    "    del fold_begin\n",
    "    _ = gc_collect()"
   ]
  },
  {
   "cell_type": "markdown",
   "metadata": {},
   "source": [
    "# Results\n",
    "\n",
    "Let's peek at the results."
   ]
  },
  {
   "cell_type": "code",
   "execution_count": 6,
   "metadata": {},
   "outputs": [
    {
     "data": {
      "text/html": [
       "<div>\n",
       "<style scoped>\n",
       "    .dataframe tbody tr th:only-of-type {\n",
       "        vertical-align: middle;\n",
       "    }\n",
       "\n",
       "    .dataframe tbody tr th {\n",
       "        vertical-align: top;\n",
       "    }\n",
       "\n",
       "    .dataframe thead th {\n",
       "        text-align: right;\n",
       "    }\n",
       "</style>\n",
       "<table border=\"1\" class=\"dataframe\">\n",
       "  <thead>\n",
       "    <tr style=\"text-align: right;\">\n",
       "      <th></th>\n",
       "      <th>0</th>\n",
       "      <th>1</th>\n",
       "      <th>2</th>\n",
       "      <th>3</th>\n",
       "      <th>4</th>\n",
       "      <th>5</th>\n",
       "      <th>6</th>\n",
       "      <th>7</th>\n",
       "      <th>8</th>\n",
       "      <th>9</th>\n",
       "      <th>...</th>\n",
       "      <th>2038</th>\n",
       "      <th>2039</th>\n",
       "      <th>2040</th>\n",
       "      <th>2041</th>\n",
       "      <th>2042</th>\n",
       "      <th>2043</th>\n",
       "      <th>2044</th>\n",
       "      <th>2045</th>\n",
       "      <th>2046</th>\n",
       "      <th>2047</th>\n",
       "    </tr>\n",
       "  </thead>\n",
       "  <tbody>\n",
       "    <tr>\n",
       "      <th>0</th>\n",
       "      <td>0.119926</td>\n",
       "      <td>-0.049218</td>\n",
       "      <td>0.039702</td>\n",
       "      <td>0.141101</td>\n",
       "      <td>0.044318</td>\n",
       "      <td>0.049631</td>\n",
       "      <td>0.016178</td>\n",
       "      <td>0.025797</td>\n",
       "      <td>-0.104466</td>\n",
       "      <td>-0.016044</td>\n",
       "      <td>...</td>\n",
       "      <td>-0.226529</td>\n",
       "      <td>-0.091773</td>\n",
       "      <td>0.028184</td>\n",
       "      <td>-0.074794</td>\n",
       "      <td>0.025474</td>\n",
       "      <td>0.046511</td>\n",
       "      <td>-0.002693</td>\n",
       "      <td>-0.017953</td>\n",
       "      <td>-0.146394</td>\n",
       "      <td>-0.062330</td>\n",
       "    </tr>\n",
       "    <tr>\n",
       "      <th>1</th>\n",
       "      <td>0.101377</td>\n",
       "      <td>-0.063714</td>\n",
       "      <td>-0.015971</td>\n",
       "      <td>-0.151561</td>\n",
       "      <td>-0.065328</td>\n",
       "      <td>-0.013746</td>\n",
       "      <td>0.008821</td>\n",
       "      <td>0.010461</td>\n",
       "      <td>-0.030857</td>\n",
       "      <td>-0.010367</td>\n",
       "      <td>...</td>\n",
       "      <td>-0.169826</td>\n",
       "      <td>0.051789</td>\n",
       "      <td>0.114774</td>\n",
       "      <td>-0.033263</td>\n",
       "      <td>-0.071615</td>\n",
       "      <td>-0.040535</td>\n",
       "      <td>-0.050813</td>\n",
       "      <td>0.021136</td>\n",
       "      <td>-0.189459</td>\n",
       "      <td>0.040756</td>\n",
       "    </tr>\n",
       "    <tr>\n",
       "      <th>2</th>\n",
       "      <td>-0.028015</td>\n",
       "      <td>-0.041617</td>\n",
       "      <td>0.012599</td>\n",
       "      <td>-0.031460</td>\n",
       "      <td>0.021788</td>\n",
       "      <td>0.039503</td>\n",
       "      <td>0.033654</td>\n",
       "      <td>0.114422</td>\n",
       "      <td>-0.080653</td>\n",
       "      <td>-0.032090</td>\n",
       "      <td>...</td>\n",
       "      <td>0.059661</td>\n",
       "      <td>0.020316</td>\n",
       "      <td>0.044898</td>\n",
       "      <td>0.008499</td>\n",
       "      <td>0.009812</td>\n",
       "      <td>-0.047551</td>\n",
       "      <td>0.085392</td>\n",
       "      <td>0.029538</td>\n",
       "      <td>0.057070</td>\n",
       "      <td>-0.029945</td>\n",
       "    </tr>\n",
       "    <tr>\n",
       "      <th>3</th>\n",
       "      <td>-0.008712</td>\n",
       "      <td>-0.003798</td>\n",
       "      <td>-0.052170</td>\n",
       "      <td>0.030298</td>\n",
       "      <td>0.049662</td>\n",
       "      <td>0.039806</td>\n",
       "      <td>0.056743</td>\n",
       "      <td>-0.186714</td>\n",
       "      <td>-0.151110</td>\n",
       "      <td>0.021191</td>\n",
       "      <td>...</td>\n",
       "      <td>0.107442</td>\n",
       "      <td>0.053569</td>\n",
       "      <td>-0.067552</td>\n",
       "      <td>-0.017051</td>\n",
       "      <td>-0.109469</td>\n",
       "      <td>-0.082999</td>\n",
       "      <td>-0.049325</td>\n",
       "      <td>0.031638</td>\n",
       "      <td>-0.027172</td>\n",
       "      <td>0.006479</td>\n",
       "    </tr>\n",
       "    <tr>\n",
       "      <th>4</th>\n",
       "      <td>-0.000265</td>\n",
       "      <td>-0.050629</td>\n",
       "      <td>-0.005011</td>\n",
       "      <td>-0.169305</td>\n",
       "      <td>-0.087526</td>\n",
       "      <td>-0.022268</td>\n",
       "      <td>-0.020403</td>\n",
       "      <td>-0.149949</td>\n",
       "      <td>-0.047235</td>\n",
       "      <td>0.032980</td>\n",
       "      <td>...</td>\n",
       "      <td>-0.128375</td>\n",
       "      <td>0.128055</td>\n",
       "      <td>0.047202</td>\n",
       "      <td>-0.024305</td>\n",
       "      <td>-0.168291</td>\n",
       "      <td>0.112876</td>\n",
       "      <td>0.017571</td>\n",
       "      <td>0.078376</td>\n",
       "      <td>0.099279</td>\n",
       "      <td>-0.046610</td>\n",
       "    </tr>\n",
       "  </tbody>\n",
       "</table>\n",
       "<p>5 rows × 2048 columns</p>\n",
       "</div>"
      ],
      "text/plain": [
       "          0         1         2         3         4         5         6  \\\n",
       "0  0.119926 -0.049218  0.039702  0.141101  0.044318  0.049631  0.016178   \n",
       "1  0.101377 -0.063714 -0.015971 -0.151561 -0.065328 -0.013746  0.008821   \n",
       "2 -0.028015 -0.041617  0.012599 -0.031460  0.021788  0.039503  0.033654   \n",
       "3 -0.008712 -0.003798 -0.052170  0.030298  0.049662  0.039806  0.056743   \n",
       "4 -0.000265 -0.050629 -0.005011 -0.169305 -0.087526 -0.022268 -0.020403   \n",
       "\n",
       "          7         8         9  ...      2038      2039      2040      2041  \\\n",
       "0  0.025797 -0.104466 -0.016044  ... -0.226529 -0.091773  0.028184 -0.074794   \n",
       "1  0.010461 -0.030857 -0.010367  ... -0.169826  0.051789  0.114774 -0.033263   \n",
       "2  0.114422 -0.080653 -0.032090  ...  0.059661  0.020316  0.044898  0.008499   \n",
       "3 -0.186714 -0.151110  0.021191  ...  0.107442  0.053569 -0.067552 -0.017051   \n",
       "4 -0.149949 -0.047235  0.032980  ... -0.128375  0.128055  0.047202 -0.024305   \n",
       "\n",
       "       2042      2043      2044      2045      2046      2047  \n",
       "0  0.025474  0.046511 -0.002693 -0.017953 -0.146394 -0.062330  \n",
       "1 -0.071615 -0.040535 -0.050813  0.021136 -0.189459  0.040756  \n",
       "2  0.009812 -0.047551  0.085392  0.029538  0.057070 -0.029945  \n",
       "3 -0.109469 -0.082999 -0.049325  0.031638 -0.027172  0.006479  \n",
       "4 -0.168291  0.112876  0.017571  0.078376  0.099279 -0.046610  \n",
       "\n",
       "[5 rows x 2048 columns]"
      ]
     },
     "execution_count": 6,
     "metadata": {},
     "output_type": "execute_result"
    },
    {
     "name": "stdout",
     "output_type": "stream",
     "text": [
      "<class 'pandas.core.frame.DataFrame'>\n",
      "RangeIndex: 72179 entries, 0 to 72178\n",
      "Columns: 2048 entries, 0 to 2047\n",
      "dtypes: float32(2048)\n",
      "memory usage: 563.9 MB\n"
     ]
    },
    {
     "data": {
      "text/html": [
       "<div>\n",
       "<style scoped>\n",
       "    .dataframe tbody tr th:only-of-type {\n",
       "        vertical-align: middle;\n",
       "    }\n",
       "\n",
       "    .dataframe tbody tr th {\n",
       "        vertical-align: top;\n",
       "    }\n",
       "\n",
       "    .dataframe thead th {\n",
       "        text-align: right;\n",
       "    }\n",
       "</style>\n",
       "<table border=\"1\" class=\"dataframe\">\n",
       "  <thead>\n",
       "    <tr style=\"text-align: right;\">\n",
       "      <th></th>\n",
       "      <th>0</th>\n",
       "    </tr>\n",
       "  </thead>\n",
       "  <tbody>\n",
       "    <tr>\n",
       "      <th>0</th>\n",
       "      <td>0</td>\n",
       "    </tr>\n",
       "    <tr>\n",
       "      <th>1</th>\n",
       "      <td>0</td>\n",
       "    </tr>\n",
       "    <tr>\n",
       "      <th>2</th>\n",
       "      <td>0</td>\n",
       "    </tr>\n",
       "    <tr>\n",
       "      <th>3</th>\n",
       "      <td>0</td>\n",
       "    </tr>\n",
       "    <tr>\n",
       "      <th>4</th>\n",
       "      <td>0</td>\n",
       "    </tr>\n",
       "  </tbody>\n",
       "</table>\n",
       "</div>"
      ],
      "text/plain": [
       "   0\n",
       "0  0\n",
       "1  0\n",
       "2  0\n",
       "3  0\n",
       "4  0"
      ]
     },
     "execution_count": 6,
     "metadata": {},
     "output_type": "execute_result"
    },
    {
     "name": "stdout",
     "output_type": "stream",
     "text": [
      "<class 'pandas.core.frame.DataFrame'>\n",
      "RangeIndex: 74109 entries, 0 to 74108\n",
      "Data columns (total 1 columns):\n",
      " #   Column  Non-Null Count  Dtype\n",
      "---  ------  --------------  -----\n",
      " 0   0       74109 non-null  int8 \n",
      "dtypes: int8(1)\n",
      "memory usage: 72.5 KB\n",
      "time: 913 ms\n"
     ]
    }
   ],
   "source": [
    "_ = pd.read_feather(\"./cv_0/X_train_LOF.feather\")\n",
    "_.head(5)\n",
    "_.info()\n",
    "\n",
    "_ = pd.read_feather(\"./cv_1/y_train_LOF.feather\")\n",
    "_.head(5)\n",
    "_.info()"
   ]
  },
  {
   "cell_type": "code",
   "execution_count": 7,
   "metadata": {},
   "outputs": [
    {
     "name": "stdout",
     "output_type": "stream",
     "text": [
      "Time elapsed since notebook_begin_time: 2309.190016746521 s\n",
      "time: 119 ms\n"
     ]
    }
   ],
   "source": [
    "print(f\"Time elapsed since notebook_begin_time: {time() - notebook_begin_time} s\")\n",
    "_ = gc_collect()"
   ]
  },
  {
   "cell_type": "markdown",
   "metadata": {},
   "source": [
    "[^top](#Contents)"
   ]
  },
  {
   "cell_type": "code",
   "execution_count": null,
   "metadata": {},
   "outputs": [],
   "source": []
  }
 ],
 "metadata": {
  "interpreter": {
   "hash": "e1781be99c106060f3abc0c9b91d3d379f24672894e2158d4b74304109955878"
  },
  "kernelspec": {
   "display_name": "Python [conda env:capstone_pyspark_38] *",
   "language": "python",
   "name": "python3"
  },
  "language_info": {
   "codemirror_mode": {
    "name": "ipython",
    "version": 3
   },
   "file_extension": ".py",
   "mimetype": "text/x-python",
   "name": "python",
   "nbconvert_exporter": "python",
   "pygments_lexer": "ipython3",
   "version": "3.8.12"
  }
 },
 "nbformat": 4,
 "nbformat_minor": 4
}
