{
 "cells": [
  {
   "cell_type": "markdown",
   "metadata": {},
   "source": [
    "# Contents\n",
    "* [Introduction](#Introduction)\n",
    "* [Imports and configuration](#Imports-and-configuration)\n",
    "* [Dimensionality reduction](#Dimensionality-reduction)\n",
    "* [Results](#Results)"
   ]
  },
  {
   "cell_type": "markdown",
   "metadata": {},
   "source": [
    "# Introduction\n",
    "\n",
    "To speed development, 5-fold train-test splits were preprocessed and prepared as separate .feather files. Outliers were removed from training data using LocalOutlierFactor in a previous notebook. This notebook further preprocesses the data by using Linear Discriminant Analysis to generate two components. The resultant components may be considered newly extracted features or perhaps may be sufficient without the FRILL embeddings."
   ]
  },
  {
   "cell_type": "code",
   "execution_count": 1,
   "metadata": {},
   "outputs": [],
   "source": [
    "from time import time\n",
    "\n",
    "notebook_begin_time = time()\n",
    "\n",
    "# set random seeds\n",
    "\n",
    "from os import environ\n",
    "from random import seed as random_seed\n",
    "from numpy.random import seed as np_seed\n",
    "from tensorflow.random import set_seed\n",
    "\n",
    "\n",
    "def reset_seeds(seed: int) -> None:\n",
    "    \"\"\"Utility function for resetting random seeds\"\"\"\n",
    "    environ[\"PYTHONHASHSEED\"] = str(seed)\n",
    "    random_seed(seed)\n",
    "    np_seed(seed)\n",
    "    set_seed(seed)\n",
    "\n",
    "\n",
    "reset_seeds(SEED := 2021)\n",
    "del environ\n",
    "del random_seed\n",
    "del np_seed\n",
    "del set_seed\n",
    "del reset_seeds"
   ]
  },
  {
   "cell_type": "code",
   "execution_count": 2,
   "metadata": {},
   "outputs": [],
   "source": [
    "# extensions\n",
    "%load_ext autotime\n",
    "%load_ext lab_black\n",
    "%load_ext nb_black"
   ]
  },
  {
   "cell_type": "code",
   "execution_count": 3,
   "metadata": {},
   "outputs": [
    {
     "name": "stderr",
     "output_type": "stream",
     "text": [
      "Intel(R) Extension for Scikit-learn* enabled (https://github.com/intel/scikit-learn-intelex)\n"
     ]
    },
    {
     "name": "stdout",
     "output_type": "stream",
     "text": [
      "time: 2.3 s\n"
     ]
    }
   ],
   "source": [
    "# core\n",
    "import pandas as pd\n",
    "\n",
    "# utility\n",
    "from gc import collect as gc_collect\n",
    "\n",
    "# faster sklearn\n",
    "from sklearnex import patch_sklearn\n",
    "\n",
    "patch_sklearn()\n",
    "del patch_sklearn\n",
    "\n",
    "# Linear Discriminant Analysis\n",
    "from sklearn.discriminant_analysis import LinearDiscriminantAnalysis\n",
    "\n",
    "# visualization\n",
    "import matplotlib.pyplot as plt\n",
    "import seaborn as sns\n",
    "\n",
    "sns.set_context(\"notebook\")\n",
    "%matplotlib inline\n",
    "\n",
    "# display outputs w/o print calls\n",
    "from IPython.core.interactiveshell import InteractiveShell\n",
    "\n",
    "InteractiveShell.ast_node_interactivity = \"all\"\n",
    "del InteractiveShell\n",
    "\n",
    "# hide warnings\n",
    "import warnings\n",
    "\n",
    "warnings.filterwarnings(\"ignore\")\n",
    "del warnings"
   ]
  },
  {
   "cell_type": "code",
   "execution_count": 4,
   "metadata": {},
   "outputs": [
    {
     "name": "stdout",
     "output_type": "stream",
     "text": [
      "time: 115 ms\n"
     ]
    }
   ],
   "source": [
    "# Location of CV .feather files\n",
    "CV_FEATHERS_FOLDER = \".\"\n",
    "\n",
    "# Location where this notebook will output\n",
    "DATA_OUT_FOLDER = \".\"\n",
    "\n",
    "_ = gc_collect()"
   ]
  },
  {
   "cell_type": "markdown",
   "metadata": {},
   "source": [
    "# Dimensionality reduction"
   ]
  },
  {
   "cell_type": "code",
   "execution_count": 5,
   "metadata": {},
   "outputs": [
    {
     "name": "stdout",
     "output_type": "stream",
     "text": [
      "fold 1 completed in 52.84 s\n",
      "fold 2 completed in 53.16 s\n",
      "fold 3 completed in 47.92 s\n",
      "fold 4 completed in 44.19 s\n",
      "fold 5 completed in 49.85 s\n",
      "time: 4min 8s\n"
     ]
    }
   ],
   "source": [
    "fold_num = 0\n",
    "while True:\n",
    "    fold_begin = time()\n",
    "\n",
    "    # load training data\n",
    "    try:\n",
    "        X_train: pd.DataFrame = pd.read_feather(\n",
    "            f\"{CV_FEATHERS_FOLDER}/cv_{fold_num}/X_train_LOF.feather\"\n",
    "        )\n",
    "        y_train: pd.Series = pd.read_feather(\n",
    "            f\"{CV_FEATHERS_FOLDER}/cv_{fold_num}/y_train_LOF.feather\"\n",
    "        ).iloc[:, 0]\n",
    "    except FileNotFoundError:\n",
    "        break\n",
    "\n",
    "    # fit LDA\n",
    "    reducer = LinearDiscriminantAnalysis().fit(X_train, y_train.values.ravel())\n",
    "    del y_train\n",
    "    _ = gc_collect()\n",
    "\n",
    "    # save X_train\n",
    "    idx = X_train.index\n",
    "    X_train = pd.DataFrame(reducer.transform(X_train))\n",
    "    X_train.index = idx\n",
    "    del idx\n",
    "    _ = gc_collect()\n",
    "    X_train.columns = [\"LDA1\", \"LDA2\"]\n",
    "    X_train.to_feather(f\"{DATA_OUT_FOLDER}/cv_{fold_num}/X_train_LOF-LDA.feather\")\n",
    "    del X_train\n",
    "    _ = gc_collect()\n",
    "\n",
    "    # load & save X_test\n",
    "    X_test = pd.read_feather(\n",
    "        f\"{CV_FEATHERS_FOLDER}/cv_{fold_num}/X_test_untransformed.feather\"\n",
    "    )\n",
    "    idx = X_test.index\n",
    "    X_test = pd.DataFrame(reducer.transform(X_test))\n",
    "    del reducer\n",
    "    _ = gc_collect()\n",
    "    X_test.index = idx\n",
    "    del idx\n",
    "    _ = gc_collect()\n",
    "    X_test.columns = [\"LDA1\", \"LDA2\"]\n",
    "    X_test.to_feather(f\"{DATA_OUT_FOLDER}/cv_{fold_num}/X_test_LOF-LDA.feather\")\n",
    "    del X_test\n",
    "    _ = gc_collect()\n",
    "\n",
    "    print(f\"fold {fold_num + 1} completed in {time() - fold_begin:.2f} s\")\n",
    "    fold_num += 1\n",
    "    del fold_begin\n",
    "    _ = gc_collect()"
   ]
  },
  {
   "cell_type": "markdown",
   "metadata": {},
   "source": [
    "# Results\n",
    "\n",
    "Let's peek at the results."
   ]
  },
  {
   "cell_type": "code",
   "execution_count": 8,
   "metadata": {},
   "outputs": [
    {
     "data": {
      "text/html": [
       "<div>\n",
       "<style scoped>\n",
       "    .dataframe tbody tr th:only-of-type {\n",
       "        vertical-align: middle;\n",
       "    }\n",
       "\n",
       "    .dataframe tbody tr th {\n",
       "        vertical-align: top;\n",
       "    }\n",
       "\n",
       "    .dataframe thead th {\n",
       "        text-align: right;\n",
       "    }\n",
       "</style>\n",
       "<table border=\"1\" class=\"dataframe\">\n",
       "  <thead>\n",
       "    <tr style=\"text-align: right;\">\n",
       "      <th></th>\n",
       "      <th>LDA1</th>\n",
       "      <th>LDA2</th>\n",
       "    </tr>\n",
       "  </thead>\n",
       "  <tbody>\n",
       "    <tr>\n",
       "      <th>0</th>\n",
       "      <td>-0.528231</td>\n",
       "      <td>-0.289786</td>\n",
       "    </tr>\n",
       "    <tr>\n",
       "      <th>1</th>\n",
       "      <td>-1.347100</td>\n",
       "      <td>0.531303</td>\n",
       "    </tr>\n",
       "    <tr>\n",
       "      <th>2</th>\n",
       "      <td>-0.820677</td>\n",
       "      <td>-0.848767</td>\n",
       "    </tr>\n",
       "    <tr>\n",
       "      <th>3</th>\n",
       "      <td>-1.192168</td>\n",
       "      <td>-0.155558</td>\n",
       "    </tr>\n",
       "    <tr>\n",
       "      <th>4</th>\n",
       "      <td>-1.554612</td>\n",
       "      <td>-0.648507</td>\n",
       "    </tr>\n",
       "  </tbody>\n",
       "</table>\n",
       "</div>"
      ],
      "text/plain": [
       "       LDA1      LDA2\n",
       "0 -0.528231 -0.289786\n",
       "1 -1.347100  0.531303\n",
       "2 -0.820677 -0.848767\n",
       "3 -1.192168 -0.155558\n",
       "4 -1.554612 -0.648507"
      ]
     },
     "execution_count": 8,
     "metadata": {},
     "output_type": "execute_result"
    },
    {
     "name": "stdout",
     "output_type": "stream",
     "text": [
      "<class 'pandas.core.frame.DataFrame'>\n",
      "RangeIndex: 72179 entries, 0 to 72178\n",
      "Data columns (total 2 columns):\n",
      " #   Column  Non-Null Count  Dtype  \n",
      "---  ------  --------------  -----  \n",
      " 0   LDA1    72179 non-null  float64\n",
      " 1   LDA2    72179 non-null  float64\n",
      "dtypes: float64(2)\n",
      "memory usage: 1.1 MB\n"
     ]
    },
    {
     "data": {
      "text/plain": [
       "<seaborn.axisgrid.FacetGrid at 0x25c3bf1b2e0>"
      ]
     },
     "execution_count": 8,
     "metadata": {},
     "output_type": "execute_result"
    },
    {
     "data": {
      "image/png": "[encoded data removed]",
      "text/plain": [
       "<Figure size 360x360 with 1 Axes>"
      ]
     },
     "metadata": {
      "needs_background": "light"
     },
     "output_type": "display_data"
    },
    {
     "data": {
      "text/html": [
       "<div>\n",
       "<style scoped>\n",
       "    .dataframe tbody tr th:only-of-type {\n",
       "        vertical-align: middle;\n",
       "    }\n",
       "\n",
       "    .dataframe tbody tr th {\n",
       "        vertical-align: top;\n",
       "    }\n",
       "\n",
       "    .dataframe thead th {\n",
       "        text-align: right;\n",
       "    }\n",
       "</style>\n",
       "<table border=\"1\" class=\"dataframe\">\n",
       "  <thead>\n",
       "    <tr style=\"text-align: right;\">\n",
       "      <th></th>\n",
       "      <th>LDA1</th>\n",
       "      <th>LDA2</th>\n",
       "    </tr>\n",
       "  </thead>\n",
       "  <tbody>\n",
       "    <tr>\n",
       "      <th>0</th>\n",
       "      <td>-1.548572</td>\n",
       "      <td>-0.688380</td>\n",
       "    </tr>\n",
       "    <tr>\n",
       "      <th>1</th>\n",
       "      <td>-1.140493</td>\n",
       "      <td>0.910110</td>\n",
       "    </tr>\n",
       "    <tr>\n",
       "      <th>2</th>\n",
       "      <td>-1.005166</td>\n",
       "      <td>0.150548</td>\n",
       "    </tr>\n",
       "    <tr>\n",
       "      <th>3</th>\n",
       "      <td>-0.230662</td>\n",
       "      <td>-0.734625</td>\n",
       "    </tr>\n",
       "    <tr>\n",
       "      <th>4</th>\n",
       "      <td>-0.120888</td>\n",
       "      <td>-0.598590</td>\n",
       "    </tr>\n",
       "  </tbody>\n",
       "</table>\n",
       "</div>"
      ],
      "text/plain": [
       "       LDA1      LDA2\n",
       "0 -1.548572 -0.688380\n",
       "1 -1.140493  0.910110\n",
       "2 -1.005166  0.150548\n",
       "3 -0.230662 -0.734625\n",
       "4 -0.120888 -0.598590"
      ]
     },
     "execution_count": 8,
     "metadata": {},
     "output_type": "execute_result"
    },
    {
     "name": "stdout",
     "output_type": "stream",
     "text": [
      "<class 'pandas.core.frame.DataFrame'>\n",
      "RangeIndex: 11524 entries, 0 to 11523\n",
      "Data columns (total 2 columns):\n",
      " #   Column  Non-Null Count  Dtype  \n",
      "---  ------  --------------  -----  \n",
      " 0   LDA1    11524 non-null  float64\n",
      " 1   LDA2    11524 non-null  float64\n",
      "dtypes: float64(2)\n",
      "memory usage: 180.2 KB\n"
     ]
    },
    {
     "data": {
      "text/plain": [
       "<seaborn.axisgrid.FacetGrid at 0x25c3be3ca90>"
      ]
     },
     "execution_count": 8,
     "metadata": {},
     "output_type": "execute_result"
    },
    {
     "data": {
      "image/png": "[encoded data removed]",
      "text/plain": [
       "<Figure size 360x360 with 1 Axes>"
      ]
     },
     "metadata": {
      "needs_background": "light"
     },
     "output_type": "display_data"
    },
    {
     "name": "stdout",
     "output_type": "stream",
     "text": [
      "time: 563 ms\n"
     ]
    }
   ],
   "source": [
    "_ = pd.read_feather(\"./cv_0/X_train_LOF-LDA.feather\")\n",
    "_.head(5)\n",
    "_.info()\n",
    "\n",
    "sns.displot(x=_.LDA1, y=_.LDA2, palette=\"colorblind\")\n",
    "sns.despine(**dict.fromkeys([\"top\", \"right\"], True))\n",
    "plt.show()\n",
    "\n",
    "_ = pd.read_feather(\"./cv_1/X_test_LOF-LDA.feather\")\n",
    "_.head(5)\n",
    "_.info()\n",
    "\n",
    "sns.displot(x=_.LDA1, y=_.LDA2, palette=\"colorblind\")\n",
    "sns.despine(**dict.fromkeys([\"top\", \"right\"], True))\n",
    "plt.show()"
   ]
  },
  {
   "cell_type": "code",
   "execution_count": 7,
   "metadata": {},
   "outputs": [
    {
     "name": "stdout",
     "output_type": "stream",
     "text": [
      "Time elapsed since notebook_begin_time: 257.27732276916504 s\n",
      "time: 116 ms\n"
     ]
    }
   ],
   "source": [
    "print(f\"Time elapsed since notebook_begin_time: {time() - notebook_begin_time} s\")\n",
    "_ = gc_collect()"
   ]
  },
  {
   "cell_type": "markdown",
   "metadata": {},
   "source": [
    "[^top](#Contents)"
   ]
  },
  {
   "cell_type": "code",
   "execution_count": null,
   "metadata": {},
   "outputs": [],
   "source": []
  }
 ],
 "metadata": {
  "interpreter": {
   "hash": "e1781be99c106060f3abc0c9b91d3d379f24672894e2158d4b74304109955878"
  },
  "kernelspec": {
   "display_name": "Python [conda env:capstone_pyspark_38] *",
   "language": "python",
   "name": "python3"
  },
  "language_info": {
   "codemirror_mode": {
    "name": "ipython",
    "version": 3
   },
   "file_extension": ".py",
   "mimetype": "text/x-python",
   "name": "python",
   "nbconvert_exporter": "python",
   "pygments_lexer": "ipython3",
   "version": "3.8.12"
  }
 },
 "nbformat": 4,
 "nbformat_minor": 4
}
